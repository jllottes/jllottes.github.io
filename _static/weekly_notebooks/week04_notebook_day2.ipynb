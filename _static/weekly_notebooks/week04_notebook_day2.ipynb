{
 "cells": [
  {
   "cell_type": "markdown",
   "id": "b017ffa6-99e5-4817-880a-f49c14bb2d3f",
   "metadata": {},
   "source": [
    "# Wednesday, September 17th, 2025"
   ]
  },
  {
   "cell_type": "markdown",
   "id": "75fbb584-cde2-4061-b665-ff0242d78a6a",
   "metadata": {},
   "source": [
    "## The `zip` function\n",
    "\n",
    "It often happens that we want to simultaneously iterate through two or more lists. For example, suppose we have a list `false_primes` of false primes and a list `prime_factorizations` that contains the prime factorization for each of the false primes. Suppose we then want to iterate through each false prime and its corresponding prime factorization in order to display this data to the reader.\n",
    "\n",
    "The `zip` function allows us to \"zip\" multiple lists together so that we can iterate through each simultaneously. The syntax works as follows:\n",
    "\n",
    "`for <item 1>, <item 2>, ... in zip(<list 1>, <list 2>, ...):`\n",
    "\n",
    "Consider the following examples:"
   ]
  },
  {
   "cell_type": "code",
   "execution_count": null,
   "id": "d9d16a68-db76-4a01-8ccd-bdede3922c7d",
   "metadata": {},
   "outputs": [],
   "source": [
    "numbers = [0,1,2,3,4]\n",
    "letters = ['a','b','c','d','e']\n",
    "\n",
    "for number in numbers:\n",
    "    for letter in letters:\n",
    "        print(number, letter)"
   ]
  },
  {
   "cell_type": "markdown",
   "id": "797d8612-2637-44aa-837c-ead44534d802",
   "metadata": {},
   "source": [
    "With nested `for` loops, we get every possible choice of number paired with every possible choice of letter."
   ]
  },
  {
   "cell_type": "code",
   "execution_count": null,
   "id": "81b23cea-8dc2-45bd-b84c-7a8c80ab0c6e",
   "metadata": {},
   "outputs": [],
   "source": [
    "for number, letter in zip(numbers, letters):\n",
    "    print(number, letter)"
   ]
  },
  {
   "cell_type": "markdown",
   "id": "f8e1cd6a-f7c9-493b-bd23-7688d0aead6c",
   "metadata": {},
   "source": [
    "With the `zip` function, we pair off each number and corresponding letter, then iterate through each pair."
   ]
  },
  {
   "cell_type": "markdown",
   "id": "77025190-4d49-41ed-a61f-063fb577e750",
   "metadata": {},
   "source": [
    "## List slicing\n",
    "\n",
    "We've discussed how to access specific elements from a list by index using square brackets."
   ]
  },
  {
   "cell_type": "code",
   "execution_count": null,
   "id": "f459f339-4066-4526-a40b-920030fa0d73",
   "metadata": {},
   "outputs": [],
   "source": [
    "my_list = ['a','b','c','d','e','f','g','h']"
   ]
  },
  {
   "cell_type": "code",
   "execution_count": null,
   "id": "7ed9367c-3a5f-4d72-b996-d624c5c08b26",
   "metadata": {},
   "outputs": [],
   "source": []
  },
  {
   "cell_type": "markdown",
   "id": "d53cc91b-1bdd-464a-9889-171782cbbedb",
   "metadata": {},
   "source": [
    "Sometimes, we might want to get several elements from a list. For example, suppose we want a list containing every other element from `my_list`."
   ]
  },
  {
   "cell_type": "code",
   "execution_count": null,
   "id": "a282b3a0-b573-473a-91b3-b899d70aa4d7",
   "metadata": {},
   "outputs": [],
   "source": []
  },
  {
   "cell_type": "markdown",
   "id": "50266e7a-54ce-4017-b621-6128ed2ead3a",
   "metadata": {},
   "source": [
    "A more elegant approach is to use **list slicing**. There are several ways that we can take slices of a list.\n",
    " - `my_list[start_index:]` will start the slice at `start_index` and go the end of the list.\n",
    " - `my_list[:stop_index]` will start the list at the beginning (i.e. `0`) and proceed until one less than `stop_index`.\n",
    " - `my_list[start_index:stop_index]`  will start the slice at `start_index` and proceed until one less than `stop_index`.\n",
    "\n",
    "Note: We can also use negative indices as `stop_index` to count backward from the end of the list. For example, `stop_index=-1` will skip the last element of the list."
   ]
  },
  {
   "cell_type": "code",
   "execution_count": null,
   "id": "4bc784b4-cf70-42a0-a1b2-cf352be13b54",
   "metadata": {},
   "outputs": [],
   "source": []
  },
  {
   "cell_type": "markdown",
   "id": "ffd78790-6f28-489c-b823-022661862ecf",
   "metadata": {},
   "source": [
    "Just like the `range` function, we can optionally include a step size to our slice. For example:\n",
    "- `my_list[::skip]` will start at the beginning of the list and go to the end, but will go in steps of `skip`.\n",
    "- `my_list[start_index:stop_index:skip]` will start at `start_index`, proceed in steps of `skip`, and will stop when the index is greater than or equal to `stop_index`."
   ]
  },
  {
   "cell_type": "code",
   "execution_count": null,
   "id": "f7c46a9f-3452-433d-a930-f96fba8c684f",
   "metadata": {},
   "outputs": [],
   "source": []
  },
  {
   "cell_type": "markdown",
   "id": "3b88bbb1-baa2-4e26-b8dc-cbd197ee5ba0",
   "metadata": {},
   "source": [
    "## List comprehension"
   ]
  },
  {
   "cell_type": "markdown",
   "id": "39bc40f6-9cd6-4c88-8f29-f91608853f3d",
   "metadata": {},
   "source": [
    "So far, we've primarily constructed lists of data by using `for` loops and appending to an empty list. Another possibility is to use **list comprehension**. The syntax is as follows:\n",
    "\n",
    "`[<some expression> for <some item> in <some iterable>]`\n",
    "\n",
    "For example, suppose we want to construct a list containing the squares of the first 10 positive integers."
   ]
  },
  {
   "cell_type": "code",
   "execution_count": null,
   "id": "b2db552d-0385-4df0-b607-27ef4b802d54",
   "metadata": {},
   "outputs": [],
   "source": []
  },
  {
   "cell_type": "code",
   "execution_count": null,
   "id": "b4e0e5d2-17fb-4e67-9730-ebd0abbd4dc5",
   "metadata": {},
   "outputs": [],
   "source": []
  },
  {
   "cell_type": "markdown",
   "id": "e5852097-7046-4b04-8e27-a16a2397d937",
   "metadata": {},
   "source": [
    "We can optionally include a condition when using list comprehension. In this case, the syntax is:\n",
    "\n",
    "`[<some expression> for <some item> in <some iterable> if <some condition>]`.\n",
    "\n",
    "For example, suppose we want to construct a list containing the squares of the first 10 positive integers that have remainder `1` after division by `4`."
   ]
  },
  {
   "cell_type": "code",
   "execution_count": null,
   "id": "78c3650a-757a-450a-be8b-fe970feee3a8",
   "metadata": {},
   "outputs": [],
   "source": []
  },
  {
   "cell_type": "markdown",
   "id": "70133d92-2ddb-4e88-89f4-258e98d4f4c8",
   "metadata": {},
   "source": [
    "**Exercise:** Use list comprehension to generate a list of all prime numbers less than `100`."
   ]
  },
  {
   "cell_type": "code",
   "execution_count": null,
   "id": "b52b4c92-1793-460b-9056-3f3aa6e86ef8",
   "metadata": {},
   "outputs": [],
   "source": [
    "from math import sqrt\n",
    "\n",
    "def is_prime(n):\n",
    "    for d in range(2,int(sqrt(n))+1):\n",
    "        if n % d == 0:\n",
    "            return False\n",
    "    return True"
   ]
  },
  {
   "cell_type": "code",
   "execution_count": null,
   "id": "ecd176f7-d96b-48b2-b321-015c77c6afe4",
   "metadata": {},
   "outputs": [],
   "source": []
  },
  {
   "cell_type": "markdown",
   "id": "367de7a8-f534-41d7-a909-d25f1d243612",
   "metadata": {},
   "source": [
    "## Mutable and immutable objects\n",
    "\n",
    "The word *mutable* means \"liable to change.\" Consider the following experiments.\n",
    "\n",
    "Experiment #1:"
   ]
  },
  {
   "cell_type": "code",
   "execution_count": null,
   "id": "ac6760b9-0cb7-4173-8ca6-149c5a6582c4",
   "metadata": {},
   "outputs": [],
   "source": [
    "n = 3\n",
    "m = n\n",
    "\n",
    "print('n = {}'.format(n))\n",
    "print('m = {}'.format(m))"
   ]
  },
  {
   "cell_type": "markdown",
   "id": "794fb066-5284-4d59-a330-8e111d03286b",
   "metadata": {},
   "source": [
    "What happens to `m` if we make changes to `n`?"
   ]
  },
  {
   "cell_type": "code",
   "execution_count": null,
   "id": "0307945a-1d78-4ea1-96b1-0b7b471a5278",
   "metadata": {},
   "outputs": [],
   "source": [
    "n = n + 5\n",
    "\n",
    "print('n = {}'.format(n))\n",
    "print('m = {}'.format(m))"
   ]
  },
  {
   "cell_type": "markdown",
   "id": "c2f93ec8-8619-4b2d-9398-a1d11fe01489",
   "metadata": {},
   "source": [
    "Experiment #2:"
   ]
  },
  {
   "cell_type": "code",
   "execution_count": null,
   "id": "45609d2d-810e-4d30-b27a-db83b7186b01",
   "metadata": {},
   "outputs": [],
   "source": [
    "list1 = [1,2,3,4]\n",
    "list2 = list1\n",
    "\n",
    "print('list1 =',list1)\n",
    "print('list2 =',list2)"
   ]
  },
  {
   "cell_type": "markdown",
   "id": "9a1ff3a0-9ea9-4235-9461-4517fb22ec30",
   "metadata": {},
   "source": [
    "What happens to `list2` if we make changes to `list1`?"
   ]
  },
  {
   "cell_type": "code",
   "execution_count": null,
   "id": "78ed058a-0d37-46da-b3c9-91d0974cfcf7",
   "metadata": {},
   "outputs": [],
   "source": [
    "list1[0] = 99\n",
    "\n",
    "print('list1 =',list1)\n",
    "print('list2 =',list2)"
   ]
  },
  {
   "cell_type": "markdown",
   "id": "a8b4c0d3-db76-4278-ac01-294b6fb67c7b",
   "metadata": {},
   "source": [
    "What's going on here? Setting `m = n` did not cause changes in `n` to propogate back to `m`, but in the list example, setting `list2=list1` did cause changes to `list1` to propogate to `list2`.\n",
    "\n",
    "The difference is that integers are *immutable objects* in Python while lists are *mutable* obects.\n",
    "- Immutable objects:\n",
    "  - Integers\n",
    "  - Strings\n",
    "  - Floats\n",
    "  - Booleans\n",
    "  - Tuples\n",
    "- Mutable objects:\n",
    "  - Lists\n",
    "  - Dictionaries\n",
    "  - Sets\n",
    "  - NumPy arrays\n",
    "\n",
    "For mutable objects, variable assigments point to a place in memory that stores the obect (in this case a list). That is, `list1` and `list2` point to the same location in memory. Making modifications to the object modifies the values stored in this shared memory location, so all variables pointing to this location are affected. We can use the `id` function to get an identifier for the memory location of an object."
   ]
  },
  {
   "cell_type": "code",
   "execution_count": null,
   "id": "7b4cb13a-6d71-42f9-917d-e1c41b20458f",
   "metadata": {},
   "outputs": [],
   "source": [
    "id(list1)"
   ]
  },
  {
   "cell_type": "markdown",
   "id": "fbc1786a-482a-4d26-bb6c-de09662d8c4c",
   "metadata": {},
   "source": [
    "We can check whether two variables have the same ID to see whether they share the same memory location (so that changes to one affect the other)."
   ]
  },
  {
   "cell_type": "code",
   "execution_count": null,
   "id": "18bde57b-5a47-4290-af14-2999aba8104e",
   "metadata": {},
   "outputs": [],
   "source": [
    "list1 = [1,2,3,4]\n",
    "list2 = list1\n",
    "list3 = [1,2,3,4]"
   ]
  },
  {
   "cell_type": "code",
   "execution_count": null,
   "id": "3597d343-67db-4216-a5b3-c02c5677a438",
   "metadata": {},
   "outputs": [],
   "source": []
  },
  {
   "cell_type": "markdown",
   "id": "7e95ca96-ffe2-46ee-8d29-ac9b00b6c6d7",
   "metadata": {},
   "source": [
    "Alternatively, we can use the `is` operator to check if two variables refer to the same object in memory."
   ]
  },
  {
   "cell_type": "code",
   "execution_count": null,
   "id": "932a8274-e53e-45eb-a29b-079f159f5e99",
   "metadata": {},
   "outputs": [],
   "source": []
  },
  {
   "cell_type": "markdown",
   "id": "99d6fe7b-2025-474f-b4e7-4ea86d786cbc",
   "metadata": {},
   "source": [
    "Sometimes, we may want to copy a list to a new variable but sever this link. That is, we might want a new variable (pointing to a new location in memory) that has the same values. To do this, we can use the `.copy()` method:"
   ]
  },
  {
   "cell_type": "code",
   "execution_count": null,
   "id": "a5979208-3a12-4cca-8f5a-340fa4064c0a",
   "metadata": {},
   "outputs": [],
   "source": []
  },
  {
   "cell_type": "markdown",
   "id": "45526281-aa2f-4931-b13d-9c7e0e2386b0",
   "metadata": {},
   "source": [
    "## Plotting in Python\n",
    "\n",
    "We will the `pyplot` submodule from the `matplotlib` module for our plotting needs. When importing modules (or submodules), we can assign our own short-hand name using the syntax `import <some module or submodule> as <some short-hand name>`.\n",
    "\n",
    "Typically, we will import the `matplotlib.pyplot` module and assign it the short-hand name `plt`."
   ]
  },
  {
   "cell_type": "code",
   "execution_count": null,
   "id": "d51fb8d8-a34a-4b7a-ad77-b1bb83e3299e",
   "metadata": {},
   "outputs": [],
   "source": [
    "import matplotlib.pyplot as plt"
   ]
  },
  {
   "cell_type": "markdown",
   "id": "43f087d8-e03b-452a-806e-4bf1571762a6",
   "metadata": {},
   "source": [
    "The `pyplot` module has **many** for data visualization and plotting. The most basic is the `plot` function:"
   ]
  },
  {
   "cell_type": "code",
   "execution_count": null,
   "id": "823d59f2-2d50-4048-8f58-53debef33d9c",
   "metadata": {
    "scrolled": true
   },
   "outputs": [],
   "source": [
    "help(plt.plot)"
   ]
  },
  {
   "cell_type": "markdown",
   "id": "b8e40f54-e6dd-498b-be87-9368fe919827",
   "metadata": {},
   "source": [
    "The `plot` function is extremely flexible in how it can be called (by making use of default arguments and keyword arguments). One of the most basic ways to use the `plot` function is to enter a list of `x` values and a list of `y` values as inputs. That is, `plt.plot(<list of x-values>, <list of y-values>)`."
   ]
  },
  {
   "cell_type": "code",
   "execution_count": null,
   "id": "0e239ffa-40b6-4394-83f1-65b74d115797",
   "metadata": {},
   "outputs": [],
   "source": []
  },
  {
   "cell_type": "markdown",
   "id": "2d3245c3-4bcf-4743-a54d-d3123468307e",
   "metadata": {},
   "source": [
    "We can call `plt.plot` several times within a cell to plot several pieces of data."
   ]
  },
  {
   "cell_type": "code",
   "execution_count": null,
   "id": "e39aac24-6b3f-4797-9e4b-8966619b778b",
   "metadata": {},
   "outputs": [],
   "source": []
  },
  {
   "cell_type": "markdown",
   "id": "90977eb7-5b6e-4247-92ea-aee40343bd7a",
   "metadata": {},
   "source": [
    "### Options when calling `plt.plot`"
   ]
  },
  {
   "cell_type": "markdown",
   "id": "716a862b-ab7d-4c48-8dbe-dc2b6c0f584a",
   "metadata": {},
   "source": [
    "By default, the `plot` function will connect the supplied data points with a polygonal line, with the color selected automatically. We can include additional keyword arguments to change this behavior. \n",
    "\n",
    "#### Changing the color\n",
    "\n",
    "For example, the keyword argument `color` can be used to manually set the color. There are many color characters available:\n",
    " - `'r'`: red\n",
    " - `'g'`: green\n",
    " - `'b'`: blue\n",
    " - `'k'`: black\n",
    " - `'m'`: magenta\n",
    " - `'c'`: cyan\n",
    " - `'y'`: yellow\n",
    " - `'C0'`, `'C1'`, ... `'C9'`: a sequence of colors that `pyplot` automatically uses when no color is supplied\n",
    "\n",
    "We can also supply certain color names (see [Matplotlib documentation](https://matplotlib.org/stable/gallery/color/named_colors.html)), or an RGB triple of integers (we will discuss this later in the course)."
   ]
  },
  {
   "cell_type": "code",
   "execution_count": null,
   "id": "1f3df9f3-1248-4aeb-a0cc-8a669c838853",
   "metadata": {},
   "outputs": [],
   "source": []
  },
  {
   "cell_type": "markdown",
   "id": "a1ebc92f-b553-485d-87f0-ddfc353adeb2",
   "metadata": {},
   "source": [
    "#### Changing the marker style\n",
    "\n",
    "The keyword argument `marker` can be used to change the marker style. Here are some of the available styles:\n",
    " - `'.'`: point\n",
    " - `','`: pixel\n",
    " - `'o'`: circle\n",
    " - `'^'`: triangle\n",
    " - `'*'`: star\n",
    " - `'s'`: square\n",
    " - `'+'`: plus\n",
    " - `'x'`: x\n",
    "\n",
    "More can be found in the [Matplotlib documentation](https://matplotlib.org/stable/api/markers_api.html)."
   ]
  },
  {
   "cell_type": "code",
   "execution_count": null,
   "id": "483ed9e1-497a-466f-bccb-300a94eef1ce",
   "metadata": {},
   "outputs": [],
   "source": []
  },
  {
   "cell_type": "markdown",
   "id": "ee64fdb3-bcf5-4705-8dab-1ebdd52ea862",
   "metadata": {},
   "source": [
    "#### Changing the line style"
   ]
  },
  {
   "cell_type": "markdown",
   "id": "385f58bd-2f71-41c4-81d3-a8f817d39320",
   "metadata": {},
   "source": [
    "The keyword argument `linestyle` can be used to change the line style. Here are some of the available styles:\n",
    " - `'-'` or `'solid'`: solid line\n",
    " - `'--'` or `'dashed'`: dashed line\n",
    " - `':'` or `'dotted'`: dotted line\n",
    " - `'-.'` or `'dashdot`': alternating dots and dashes\n",
    " - `''` or `'None'`: no line\n",
    "\n",
    "More can be found in the [Matplotlib documentation](https://matplotlib.org/stable/gallery/lines_bars_and_markers/linestyles.html)."
   ]
  },
  {
   "cell_type": "code",
   "execution_count": null,
   "id": "c0fa73ae-c513-4689-837a-f9da39e60073",
   "metadata": {},
   "outputs": [],
   "source": []
  },
  {
   "cell_type": "markdown",
   "id": "b7f024a0-2b4d-49be-bede-7ebb6636d39f",
   "metadata": {},
   "source": [
    "#### Using the `fmt` string short-hand\n",
    "\n",
    "When calling `plt.plot`, we can include a string after our `x`- and `y`-values with color, marker, and line configuration options. For example, the string `'r*--'` tells `plt.plot` to plot in red with stars for markers and dashed lines. "
   ]
  },
  {
   "cell_type": "code",
   "execution_count": null,
   "id": "a22e2d22-9019-4210-be29-f0e3a7ca0612",
   "metadata": {},
   "outputs": [],
   "source": []
  },
  {
   "cell_type": "markdown",
   "id": "b15c3d6e-47b6-4228-8ac9-09cce01f3dbc",
   "metadata": {},
   "source": [
    "### Labeling plots\n",
    "\n",
    "When graphing data, we should (almost) always include:\n",
    " - a title\n",
    " - axis labels\n",
    "When plotting several curves in a single figure, we should also label the curves and include a legend.\n",
    "\n",
    "Titles can be added using `plt.title`:"
   ]
  },
  {
   "cell_type": "markdown",
   "id": "40de9bd0-0fbd-4173-a5da-b0bcc3d228a0",
   "metadata": {},
   "source": []
  },
  {
   "cell_type": "markdown",
   "id": "0a16cd67-c84a-45bc-bc3b-79a9ba8bb07f",
   "metadata": {},
   "source": [
    "We can use `plt.xlabel` and `plt.ylabel` to add axis labels. These labels can include LaTeX (as can the title):"
   ]
  },
  {
   "cell_type": "code",
   "execution_count": null,
   "id": "2f6aadf1-4896-4d84-98a2-e7605c3a0272",
   "metadata": {},
   "outputs": [],
   "source": []
  },
  {
   "cell_type": "markdown",
   "id": "34452340-c451-46a5-a86b-f00378fa43f2",
   "metadata": {},
   "source": [
    "When calling `plt.plot`, we can use the `label` keyword argument to give a label to the data being plotted.\n",
    "We can then use the `plt.legend` function to add a legend to the figure."
   ]
  },
  {
   "cell_type": "code",
   "execution_count": null,
   "id": "00eb7b5f-17c0-4b34-b359-50f883cd7966",
   "metadata": {},
   "outputs": [],
   "source": []
  },
  {
   "cell_type": "markdown",
   "id": "3c9251f7-5066-48ab-9e5d-69c2e96ff7fe",
   "metadata": {},
   "source": [
    "### Further tweaks: axis limits, grid lines\n",
    "\n",
    "We can change the horizontal and vertical limits using the `plt.xlim` and `plt.ylim` function:"
   ]
  },
  {
   "cell_type": "code",
   "execution_count": null,
   "id": "af9f363e-9fe9-4019-a98e-7da85793726d",
   "metadata": {},
   "outputs": [],
   "source": []
  },
  {
   "cell_type": "markdown",
   "id": "160a470e-0f12-49e1-8c58-09316c1072f2",
   "metadata": {},
   "source": [
    "We can use `plt.grid()` to add grid lines to the interior of the plot:"
   ]
  },
  {
   "cell_type": "code",
   "execution_count": null,
   "id": "6586934b-64e0-44af-8d5b-7229d9ebf30a",
   "metadata": {},
   "outputs": [],
   "source": []
  }
 ],
 "metadata": {
  "kernelspec": {
   "display_name": "Python 3 (ipykernel)",
   "language": "python",
   "name": "python3"
  },
  "language_info": {
   "codemirror_mode": {
    "name": "ipython",
    "version": 3
   },
   "file_extension": ".py",
   "mimetype": "text/x-python",
   "name": "python",
   "nbconvert_exporter": "python",
   "pygments_lexer": "ipython3",
   "version": "3.13.5"
  }
 },
 "nbformat": 4,
 "nbformat_minor": 5
}
