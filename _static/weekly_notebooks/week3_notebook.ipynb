{
 "cells": [
  {
   "cell_type": "markdown",
   "id": "110429eb",
   "metadata": {},
   "source": [
    "# February 14, 2022"
   ]
  },
  {
   "cell_type": "markdown",
   "id": "9da75a88",
   "metadata": {},
   "source": [
    "## Logical operators: `not`, `and`, `or`"
   ]
  },
  {
   "cell_type": "markdown",
   "id": "f5a47aeb",
   "metadata": {},
   "source": [
    "Recall our `isprime2()` function from last week.\n",
    "This function returns `True` if the input is prime and `False` if the input is not prime."
   ]
  },
  {
   "cell_type": "code",
   "execution_count": 1,
   "id": "db9a67c9",
   "metadata": {},
   "outputs": [],
   "source": [
    "from math import sqrt\n",
    "\n",
    "def isprime2(n):\n",
    "    prime = True\n",
    "    if n < 2:\n",
    "        prime = False\n",
    "    else:\n",
    "        for d in range(2,int(sqrt(n) + 1)):\n",
    "            if n%d == 0:\n",
    "                prime = False # Set the flag to be False if it's not a prime\n",
    "                break\n",
    "    return prime"
   ]
  },
  {
   "cell_type": "code",
   "execution_count": 2,
   "id": "c2998be4",
   "metadata": {},
   "outputs": [
    {
     "data": {
      "text/plain": [
       "True"
      ]
     },
     "execution_count": 2,
     "metadata": {},
     "output_type": "execute_result"
    }
   ],
   "source": [
    "isprime2(11)"
   ]
  },
  {
   "cell_type": "markdown",
   "id": "f20ada25",
   "metadata": {},
   "source": [
    "The `not` operator will flip a `True` to `False` and a `False` to `True`"
   ]
  },
  {
   "cell_type": "code",
   "execution_count": 3,
   "id": "ffd1b256",
   "metadata": {},
   "outputs": [
    {
     "data": {
      "text/plain": [
       "False"
      ]
     },
     "execution_count": 3,
     "metadata": {},
     "output_type": "execute_result"
    }
   ],
   "source": [
    "not isprime2(11)"
   ]
  },
  {
   "cell_type": "markdown",
   "id": "40376265",
   "metadata": {},
   "source": [
    "We've seen how to check if an element is in a list, so the `not` operator lets us check if an element is not in a list."
   ]
  },
  {
   "cell_type": "code",
   "execution_count": 5,
   "id": "e4f73a14",
   "metadata": {},
   "outputs": [
    {
     "name": "stdout",
     "output_type": "stream",
     "text": [
      "True\n"
     ]
    }
   ],
   "source": [
    "mylist = [0,1,2,3,4,5,6,7]\n",
    "\n",
    "print(3 in mylist)"
   ]
  },
  {
   "cell_type": "code",
   "execution_count": 7,
   "id": "6163448d",
   "metadata": {},
   "outputs": [
    {
     "name": "stdout",
     "output_type": "stream",
     "text": [
      "False\n"
     ]
    }
   ],
   "source": [
    "print(3 not in mylist)"
   ]
  },
  {
   "cell_type": "code",
   "execution_count": 8,
   "id": "4e4fb0da",
   "metadata": {},
   "outputs": [
    {
     "name": "stdout",
     "output_type": "stream",
     "text": [
      "False\n"
     ]
    }
   ],
   "source": [
    "print(10 in mylist)"
   ]
  },
  {
   "cell_type": "code",
   "execution_count": 6,
   "id": "7fc8f79d",
   "metadata": {},
   "outputs": [
    {
     "name": "stdout",
     "output_type": "stream",
     "text": [
      "True\n"
     ]
    }
   ],
   "source": [
    "print(10 not in mylist)"
   ]
  },
  {
   "cell_type": "markdown",
   "id": "fffd95a0",
   "metadata": {},
   "source": [
    "The `<expr1> and <expr2>` operator returns `True` if both `<expr1>` and `<expr2>` are `True`, and returns `False` otherwise."
   ]
  },
  {
   "cell_type": "code",
   "execution_count": 10,
   "id": "5f5d8bf5",
   "metadata": {},
   "outputs": [
    {
     "data": {
      "text/plain": [
       "True"
      ]
     },
     "execution_count": 10,
     "metadata": {},
     "output_type": "execute_result"
    }
   ],
   "source": [
    "isprime2(2) and isprime2(5)"
   ]
  },
  {
   "cell_type": "code",
   "execution_count": 11,
   "id": "6b69538b",
   "metadata": {},
   "outputs": [
    {
     "data": {
      "text/plain": [
       "False"
      ]
     },
     "execution_count": 11,
     "metadata": {},
     "output_type": "execute_result"
    }
   ],
   "source": [
    "isprime2(2) and isprime2(4)"
   ]
  },
  {
   "cell_type": "code",
   "execution_count": 12,
   "id": "911683fe",
   "metadata": {},
   "outputs": [
    {
     "data": {
      "text/plain": [
       "False"
      ]
     },
     "execution_count": 12,
     "metadata": {},
     "output_type": "execute_result"
    }
   ],
   "source": [
    "isprime2(6) and isprime2(4)"
   ]
  },
  {
   "cell_type": "code",
   "execution_count": 13,
   "id": "f4b4f891",
   "metadata": {},
   "outputs": [
    {
     "data": {
      "text/plain": [
       "False"
      ]
     },
     "execution_count": 13,
     "metadata": {},
     "output_type": "execute_result"
    }
   ],
   "source": [
    "True and False"
   ]
  },
  {
   "cell_type": "markdown",
   "id": "216abee4",
   "metadata": {},
   "source": [
    "The `<expr1> or <expr2>` operator returns `True` if either `<expr1>` or `<expr2>` are `True`, and returns `False` only if both are `False`."
   ]
  },
  {
   "cell_type": "code",
   "execution_count": 14,
   "id": "94c1043e",
   "metadata": {},
   "outputs": [
    {
     "data": {
      "text/plain": [
       "True"
      ]
     },
     "execution_count": 14,
     "metadata": {},
     "output_type": "execute_result"
    }
   ],
   "source": [
    "isprime2(2) or isprime2(5)"
   ]
  },
  {
   "cell_type": "code",
   "execution_count": 15,
   "id": "a932ae85",
   "metadata": {},
   "outputs": [
    {
     "data": {
      "text/plain": [
       "True"
      ]
     },
     "execution_count": 15,
     "metadata": {},
     "output_type": "execute_result"
    }
   ],
   "source": [
    "isprime2(2) or isprime2(4)"
   ]
  },
  {
   "cell_type": "code",
   "execution_count": 17,
   "id": "429d9ddc",
   "metadata": {},
   "outputs": [
    {
     "data": {
      "text/plain": [
       "False"
      ]
     },
     "execution_count": 17,
     "metadata": {},
     "output_type": "execute_result"
    }
   ],
   "source": [
    "isprime2(6) or isprime2(4)"
   ]
  },
  {
   "cell_type": "code",
   "execution_count": 19,
   "id": "466b6cca",
   "metadata": {},
   "outputs": [
    {
     "name": "stdout",
     "output_type": "stream",
     "text": [
      "0\n",
      "5\n",
      "14\n",
      "28\n",
      "42\n",
      "56\n",
      "70\n",
      "84\n",
      "98\n"
     ]
    }
   ],
   "source": [
    "for n in range(100):\n",
    "    if (n%2 == 0 and n%7 == 0) or n == 5:\n",
    "        print(n)"
   ]
  },
  {
   "cell_type": "markdown",
   "id": "fbdcf3a4",
   "metadata": {},
   "source": [
    "# Return to Project 1\n",
    "\n",
    "For readability, I will rename `isprime2()` to be `isprime()`."
   ]
  },
  {
   "cell_type": "code",
   "execution_count": 20,
   "id": "55b48b3d",
   "metadata": {},
   "outputs": [],
   "source": [
    "from math import sqrt\n",
    "\n",
    "def isprime(n):\n",
    "    prime = True\n",
    "    if n < 2:\n",
    "        prime = False\n",
    "    else:\n",
    "        for d in range(2,int(sqrt(n) + 1)):\n",
    "            if n%d == 0:\n",
    "                prime = False # Set the flag to be False if it's not a prime\n",
    "                break\n",
    "    return prime"
   ]
  },
  {
   "cell_type": "markdown",
   "id": "b5cfc90b",
   "metadata": {},
   "source": [
    "Last week, we defined `get_primes2()` and `primary()`. Let's similarly rename `get_primes2()` to be `get_primes()`."
   ]
  },
  {
   "cell_type": "code",
   "execution_count": 21,
   "id": "d4a029fe",
   "metadata": {},
   "outputs": [],
   "source": [
    "def get_primes(N):\n",
    "    list_of_primes = []                # Initialize an empty list of primes\n",
    "    for n in range(2,N+1):             # Iterate over the integers from 2 to N\n",
    "        if isprime(n) == True:        # Check if the number is prime\n",
    "            list_of_primes.append(n)   # If yes, add to a running list of primes\n",
    "    return list_of_primes              # return <list of primes>"
   ]
  },
  {
   "cell_type": "code",
   "execution_count": 22,
   "id": "47ab4bf7",
   "metadata": {},
   "outputs": [],
   "source": [
    "def primary(n):\n",
    "    prime_factorization = []\n",
    "    primes = get_primes(n)\n",
    "    \n",
    "    for p in primes:\n",
    "        m = n\n",
    "        while (m % p) == 0:\n",
    "            prime_factorization.append(p)\n",
    "            m = m//p\n",
    "    return prime_factorization"
   ]
  },
  {
   "cell_type": "code",
   "execution_count": 23,
   "id": "936f76bf",
   "metadata": {},
   "outputs": [
    {
     "data": {
      "text/plain": [
       "[2, 2, 3, 5]"
      ]
     },
     "execution_count": 23,
     "metadata": {},
     "output_type": "execute_result"
    }
   ],
   "source": [
    "primary(60)"
   ]
  },
  {
   "cell_type": "markdown",
   "id": "a754740a",
   "metadata": {},
   "source": [
    "False primes: a number $p$ is a **false prime** if \n",
    "$$\n",
    "a^p \\equiv a \\quad (\\text{mod } p)\n",
    "$$\n",
    "for every $0 \\leq a < p$ and $p$ is not prime.\n",
    "\n",
    "Let's create a function to test if a number satisfies the conclusion of Fermat's little theorem, that is, if\n",
    "$$\n",
    "a^p \\equiv a \\quad (\\text{mod } p)\n",
    "$$\n",
    "for $0 \\leq a < p$."
   ]
  },
  {
   "cell_type": "markdown",
   "id": "fb0ceae0",
   "metadata": {},
   "source": [
    "As an example, $p = 561$ is a false prime. That means that\n",
    "$$\n",
    " a^{561} \\equiv a \\quad (\\text{mod } 561)\n",
    "$$\n",
    "or\n",
    "`(a**561) % 561 == a % 561` returns `True` for any `a`."
   ]
  },
  {
   "cell_type": "markdown",
   "id": "10062ae7",
   "metadata": {},
   "source": [
    "Recall: We can use the `pow()` function from the `math` module to more efficiently compute `a**p % p`."
   ]
  },
  {
   "cell_type": "code",
   "execution_count": 24,
   "id": "5d7a6fb0",
   "metadata": {},
   "outputs": [
    {
     "name": "stdout",
     "output_type": "stream",
     "text": [
      "Help on built-in function pow in module builtins:\n",
      "\n",
      "pow(base, exp, mod=None)\n",
      "    Equivalent to base**exp with 2 arguments or base**exp % mod with 3 arguments\n",
      "    \n",
      "    Some types, such as ints, are able to use a more efficient algorithm when\n",
      "    invoked using the three argument form.\n",
      "\n"
     ]
    }
   ],
   "source": [
    "help(pow)"
   ]
  },
  {
   "cell_type": "code",
   "execution_count": 25,
   "id": "2491f4ff",
   "metadata": {
    "scrolled": true
   },
   "outputs": [
    {
     "data": {
      "text/plain": [
       "True"
      ]
     },
     "execution_count": 25,
     "metadata": {},
     "output_type": "execute_result"
    }
   ],
   "source": [
    "a = 100\n",
    "p = 561\n",
    "pow(a,p,p) == a % p"
   ]
  },
  {
   "cell_type": "markdown",
   "id": "6571f4cb",
   "metadata": {},
   "source": [
    "# More about lists in Python"
   ]
  },
  {
   "cell_type": "code",
   "execution_count": 26,
   "id": "bdab5fcc",
   "metadata": {},
   "outputs": [],
   "source": [
    "states = ['AK','NY','MI','IL','TX']"
   ]
  },
  {
   "cell_type": "code",
   "execution_count": 27,
   "id": "b7e5733a",
   "metadata": {},
   "outputs": [
    {
     "name": "stdout",
     "output_type": "stream",
     "text": [
      "AK\n"
     ]
    }
   ],
   "source": [
    "print(states[0])"
   ]
  },
  {
   "cell_type": "markdown",
   "id": "a95e552e",
   "metadata": {},
   "source": [
    "**Reminder**: List indexing starts with 0."
   ]
  },
  {
   "cell_type": "markdown",
   "id": "12a78b7a",
   "metadata": {},
   "source": [
    "We can change a particular element in a list:"
   ]
  },
  {
   "cell_type": "code",
   "execution_count": 28,
   "id": "a3709cd3",
   "metadata": {},
   "outputs": [
    {
     "name": "stdout",
     "output_type": "stream",
     "text": [
      "['AK', 'NY', 'MI', 'IL', 'TX']\n",
      "['AK', 'NY', 'CA', 'IL', 'TX']\n"
     ]
    }
   ],
   "source": [
    "print(states)\n",
    "states[2] = 'CA'\n",
    "print(states)"
   ]
  },
  {
   "cell_type": "markdown",
   "id": "206bccbd",
   "metadata": {},
   "source": [
    "We can insert an element into a list using the `.insert()` method:"
   ]
  },
  {
   "cell_type": "code",
   "execution_count": 29,
   "id": "413d8b67",
   "metadata": {},
   "outputs": [
    {
     "name": "stdout",
     "output_type": "stream",
     "text": [
      "Help on built-in function insert:\n",
      "\n",
      "insert(index, object, /) method of builtins.list instance\n",
      "    Insert object before index.\n",
      "\n"
     ]
    }
   ],
   "source": [
    "help(states.insert)"
   ]
  },
  {
   "cell_type": "markdown",
   "id": "e7544526",
   "metadata": {},
   "source": [
    "Let's add `'OH'` to our list in the second position (index `1`)."
   ]
  },
  {
   "cell_type": "code",
   "execution_count": 30,
   "id": "dfa4a48c",
   "metadata": {},
   "outputs": [
    {
     "name": "stdout",
     "output_type": "stream",
     "text": [
      "['AK', 'OH', 'NY', 'CA', 'IL', 'TX']\n"
     ]
    }
   ],
   "source": [
    "states.insert(1,'OH')\n",
    "\n",
    "print(states)"
   ]
  },
  {
   "cell_type": "markdown",
   "id": "41f02a59",
   "metadata": {},
   "source": [
    "We can have lists of lists:"
   ]
  },
  {
   "cell_type": "code",
   "execution_count": 31,
   "id": "d7bac157",
   "metadata": {},
   "outputs": [],
   "source": [
    "nested = [ [1,2], [3,4,5] ]"
   ]
  },
  {
   "cell_type": "code",
   "execution_count": 32,
   "id": "638f4933",
   "metadata": {},
   "outputs": [
    {
     "data": {
      "text/plain": [
       "[1, 2]"
      ]
     },
     "execution_count": 32,
     "metadata": {},
     "output_type": "execute_result"
    }
   ],
   "source": [
    "nested[0]"
   ]
  },
  {
   "cell_type": "code",
   "execution_count": 33,
   "id": "baf23f60",
   "metadata": {},
   "outputs": [
    {
     "data": {
      "text/plain": [
       "[3, 4, 5]"
      ]
     },
     "execution_count": 33,
     "metadata": {},
     "output_type": "execute_result"
    }
   ],
   "source": [
    "nested[1]"
   ]
  },
  {
   "cell_type": "markdown",
   "id": "2df8efa5",
   "metadata": {},
   "source": [
    "We can access elements inside the inner lists using `[]` again:"
   ]
  },
  {
   "cell_type": "code",
   "execution_count": 34,
   "id": "2b4f91fe",
   "metadata": {},
   "outputs": [
    {
     "data": {
      "text/plain": [
       "2"
      ]
     },
     "execution_count": 34,
     "metadata": {},
     "output_type": "execute_result"
    }
   ],
   "source": [
    "nested[0][1]"
   ]
  },
  {
   "cell_type": "code",
   "execution_count": 35,
   "id": "bf380a4f",
   "metadata": {},
   "outputs": [
    {
     "data": {
      "text/plain": [
       "5"
      ]
     },
     "execution_count": 35,
     "metadata": {},
     "output_type": "execute_result"
    }
   ],
   "source": [
    "nested[1][-1]"
   ]
  },
  {
   "cell_type": "code",
   "execution_count": 36,
   "id": "86a540eb",
   "metadata": {},
   "outputs": [
    {
     "name": "stdout",
     "output_type": "stream",
     "text": [
      "[[1, 2], [3, 4, 'hello']]\n"
     ]
    }
   ],
   "source": [
    "nested[1][2] = 'hello'\n",
    "\n",
    "print(nested)"
   ]
  },
  {
   "cell_type": "markdown",
   "id": "97d7323b",
   "metadata": {},
   "source": [
    "## List slicing"
   ]
  },
  {
   "cell_type": "markdown",
   "id": "9ccdd44e",
   "metadata": {},
   "source": [
    "List slicing can be used to generate a sublist of a list.\n",
    "We use the syntax `mylist[m:n]` to access the elements whose indices are greater than or equal to `m` and less than `n`. **Note**: this does not include the index `n`."
   ]
  },
  {
   "cell_type": "code",
   "execution_count": 38,
   "id": "a7fdfa9e",
   "metadata": {},
   "outputs": [],
   "source": [
    "letters = ['a','b','c','d','e','f','g','h']"
   ]
  },
  {
   "cell_type": "code",
   "execution_count": 39,
   "id": "7794b16d",
   "metadata": {},
   "outputs": [
    {
     "data": {
      "text/plain": [
       "['b', 'c', 'd', 'e']"
      ]
     },
     "execution_count": 39,
     "metadata": {},
     "output_type": "execute_result"
    }
   ],
   "source": [
    "letters[1:5]"
   ]
  },
  {
   "cell_type": "markdown",
   "id": "32a9a1e3",
   "metadata": {},
   "source": [
    "Other syntax: We can use `mylist[m:]` to access elements whose index is greater than or equal to `m`."
   ]
  },
  {
   "cell_type": "code",
   "execution_count": 40,
   "id": "5a87fbf6",
   "metadata": {},
   "outputs": [
    {
     "data": {
      "text/plain": [
       "['c', 'd', 'e', 'f', 'g', 'h']"
      ]
     },
     "execution_count": 40,
     "metadata": {},
     "output_type": "execute_result"
    }
   ],
   "source": [
    "letters[2:]"
   ]
  },
  {
   "cell_type": "markdown",
   "id": "6180e328",
   "metadata": {},
   "source": [
    "We can use `mylist[:n]` to access elements whose index is less than `n`."
   ]
  },
  {
   "cell_type": "code",
   "execution_count": 42,
   "id": "3b20a2a2",
   "metadata": {},
   "outputs": [
    {
     "data": {
      "text/plain": [
       "['a', 'b', 'c', 'd', 'e']"
      ]
     },
     "execution_count": 42,
     "metadata": {},
     "output_type": "execute_result"
    }
   ],
   "source": [
    "letters[:5]"
   ]
  },
  {
   "cell_type": "markdown",
   "id": "33aafa86",
   "metadata": {},
   "source": [
    "We can combine this with negative indices:"
   ]
  },
  {
   "cell_type": "code",
   "execution_count": 45,
   "id": "e14a0521",
   "metadata": {},
   "outputs": [
    {
     "data": {
      "text/plain": [
       "['b', 'c', 'd', 'e', 'f']"
      ]
     },
     "execution_count": 45,
     "metadata": {},
     "output_type": "execute_result"
    }
   ],
   "source": [
    "letters[1:-2]"
   ]
  },
  {
   "cell_type": "markdown",
   "id": "e3735ebb",
   "metadata": {},
   "source": [
    "We can use `mylist[m:n:k]` to access the elements `mylist[m]`, `mylist[m+k]`, `mylist[m+2*k]`... until we reach the `n`th index."
   ]
  },
  {
   "cell_type": "code",
   "execution_count": 46,
   "id": "8788a0dd",
   "metadata": {},
   "outputs": [
    {
     "data": {
      "text/plain": [
       "['a', 'c', 'e', 'g']"
      ]
     },
     "execution_count": 46,
     "metadata": {},
     "output_type": "execute_result"
    }
   ],
   "source": [
    "letters[::2]"
   ]
  },
  {
   "cell_type": "code",
   "execution_count": 47,
   "id": "fc4572cc",
   "metadata": {},
   "outputs": [
    {
     "data": {
      "text/plain": [
       "['b', 'd', 'f', 'h']"
      ]
     },
     "execution_count": 47,
     "metadata": {},
     "output_type": "execute_result"
    }
   ],
   "source": [
    "letters[1::2]"
   ]
  },
  {
   "cell_type": "code",
   "execution_count": 48,
   "id": "774576f4",
   "metadata": {},
   "outputs": [
    {
     "data": {
      "text/plain": [
       "['b', 'd', 'f']"
      ]
     },
     "execution_count": 48,
     "metadata": {},
     "output_type": "execute_result"
    }
   ],
   "source": [
    "letters[1:-1:2]"
   ]
  },
  {
   "cell_type": "code",
   "execution_count": 49,
   "id": "703fb70f",
   "metadata": {
    "scrolled": true
   },
   "outputs": [
    {
     "data": {
      "text/plain": [
       "['a', 'd', 'g']"
      ]
     },
     "execution_count": 49,
     "metadata": {},
     "output_type": "execute_result"
    }
   ],
   "source": [
    "letters[::3]"
   ]
  },
  {
   "cell_type": "markdown",
   "id": "ad3dc68e",
   "metadata": {},
   "source": [
    "We can use slicing to change several elements in a list at once."
   ]
  },
  {
   "cell_type": "code",
   "execution_count": 50,
   "id": "f6add866",
   "metadata": {},
   "outputs": [],
   "source": [
    "a = [1,2,3,4,5,6,7,8]"
   ]
  },
  {
   "cell_type": "code",
   "execution_count": 51,
   "id": "f8e964cd",
   "metadata": {},
   "outputs": [],
   "source": [
    "a[:3] = [100,100,100]"
   ]
  },
  {
   "cell_type": "code",
   "execution_count": 52,
   "id": "ccac4340",
   "metadata": {},
   "outputs": [
    {
     "name": "stdout",
     "output_type": "stream",
     "text": [
      "[100, 100, 100, 4, 5, 6, 7, 8]\n"
     ]
    }
   ],
   "source": [
    "print(a)"
   ]
  },
  {
   "cell_type": "markdown",
   "id": "70de5205",
   "metadata": {},
   "source": [
    "We've seen how lists and strings can be treated similarly. We can use slicing with strings as well."
   ]
  },
  {
   "cell_type": "code",
   "execution_count": 56,
   "id": "40f33872",
   "metadata": {},
   "outputs": [],
   "source": [
    "s = 'abcdefghijklmnopqrstuvwxyz'"
   ]
  },
  {
   "cell_type": "code",
   "execution_count": 57,
   "id": "f6b6f9d9",
   "metadata": {},
   "outputs": [
    {
     "data": {
      "text/plain": [
       "'b'"
      ]
     },
     "execution_count": 57,
     "metadata": {},
     "output_type": "execute_result"
    }
   ],
   "source": [
    "s[1]"
   ]
  },
  {
   "cell_type": "code",
   "execution_count": 58,
   "id": "79aac3e5",
   "metadata": {},
   "outputs": [
    {
     "data": {
      "text/plain": [
       "'bglqv'"
      ]
     },
     "execution_count": 58,
     "metadata": {},
     "output_type": "execute_result"
    }
   ],
   "source": [
    "s[1:-1:5]"
   ]
  },
  {
   "cell_type": "code",
   "execution_count": 59,
   "id": "959d27b9",
   "metadata": {},
   "outputs": [],
   "source": [
    "filename = 'week2_notebook.ipynb'"
   ]
  },
  {
   "cell_type": "code",
   "execution_count": 60,
   "id": "68161c21",
   "metadata": {},
   "outputs": [
    {
     "name": "stdout",
     "output_type": "stream",
     "text": [
      "ipynb\n"
     ]
    }
   ],
   "source": [
    "filetype = filename[-5:]\n",
    "print(filetype)"
   ]
  },
  {
   "cell_type": "markdown",
   "id": "5dc96458",
   "metadata": {},
   "source": [
    "# February 16, 2022"
   ]
  },
  {
   "cell_type": "markdown",
   "id": "7d7520c8",
   "metadata": {},
   "source": [
    "## Mutable vs immutable lists\n",
    "\n",
    "[(see course webpage)](https://jllottes.github.io/PT/PT-mutable_vs_immutable/PT-mutable_vs_immutable.html)"
   ]
  },
  {
   "cell_type": "code",
   "execution_count": 1,
   "id": "05d7f87b",
   "metadata": {},
   "outputs": [
    {
     "name": "stdout",
     "output_type": "stream",
     "text": [
      "[1, 2, 3]\n"
     ]
    }
   ],
   "source": [
    "a = [1,2,3]\n",
    "print(a)"
   ]
  },
  {
   "cell_type": "code",
   "execution_count": 2,
   "id": "bcbd1a38",
   "metadata": {},
   "outputs": [
    {
     "name": "stdout",
     "output_type": "stream",
     "text": [
      "[1, 2, 3]\n"
     ]
    }
   ],
   "source": [
    "b = a\n",
    "print(b)"
   ]
  },
  {
   "cell_type": "markdown",
   "id": "24feb2d5",
   "metadata": {},
   "source": [
    "What happens if we modify `b`?"
   ]
  },
  {
   "cell_type": "code",
   "execution_count": 3,
   "id": "3ca35103",
   "metadata": {},
   "outputs": [
    {
     "name": "stdout",
     "output_type": "stream",
     "text": [
      "[100, 2, 3]\n"
     ]
    }
   ],
   "source": [
    "b[0] = 100\n",
    "print(b)"
   ]
  },
  {
   "cell_type": "code",
   "execution_count": 4,
   "id": "e56ad066",
   "metadata": {},
   "outputs": [
    {
     "name": "stdout",
     "output_type": "stream",
     "text": [
      "[100, 2, 3]\n"
     ]
    }
   ],
   "source": [
    "print(a)"
   ]
  },
  {
   "cell_type": "markdown",
   "id": "a178c40b",
   "metadata": {},
   "source": [
    "Notice: the change in `b` is propogated back to `a`."
   ]
  },
  {
   "cell_type": "markdown",
   "id": "440ccd66",
   "metadata": {},
   "source": [
    "By comparison:"
   ]
  },
  {
   "cell_type": "code",
   "execution_count": 5,
   "id": "deb63ad3",
   "metadata": {},
   "outputs": [],
   "source": [
    "a = 1\n",
    "b = a"
   ]
  },
  {
   "cell_type": "code",
   "execution_count": 7,
   "id": "ae02335c",
   "metadata": {},
   "outputs": [
    {
     "name": "stdout",
     "output_type": "stream",
     "text": [
      "1\n",
      "1\n"
     ]
    }
   ],
   "source": [
    "print(a)\n",
    "print(b)"
   ]
  },
  {
   "cell_type": "code",
   "execution_count": 8,
   "id": "62ae958b",
   "metadata": {},
   "outputs": [],
   "source": [
    "b = 4"
   ]
  },
  {
   "cell_type": "code",
   "execution_count": 9,
   "id": "254ad679",
   "metadata": {},
   "outputs": [
    {
     "name": "stdout",
     "output_type": "stream",
     "text": [
      "1\n",
      "4\n"
     ]
    }
   ],
   "source": [
    "print(a)\n",
    "print(b)"
   ]
  },
  {
   "cell_type": "markdown",
   "id": "5c374250",
   "metadata": {},
   "source": [
    "This time, modifying `b` did not modify `a`.\n",
    "\n",
    "Let's explore this a little more. We've seen how to use `==` to check for equality between objects.\n",
    "We can also use the `id()` function to check if two variables are the **same object**."
   ]
  },
  {
   "cell_type": "code",
   "execution_count": 10,
   "id": "af94359e",
   "metadata": {},
   "outputs": [
    {
     "name": "stdout",
     "output_type": "stream",
     "text": [
      "True\n"
     ]
    }
   ],
   "source": [
    "a = 1\n",
    "b = 1\n",
    "\n",
    "print(a==b)"
   ]
  },
  {
   "cell_type": "code",
   "execution_count": 11,
   "id": "5b51f7d7",
   "metadata": {},
   "outputs": [
    {
     "name": "stdout",
     "output_type": "stream",
     "text": [
      "Help on built-in function id in module builtins:\n",
      "\n",
      "id(obj, /)\n",
      "    Return the identity of an object.\n",
      "    \n",
      "    This is guaranteed to be unique among simultaneously existing objects.\n",
      "    (CPython uses the object's memory address.)\n",
      "\n"
     ]
    }
   ],
   "source": [
    "help(id)"
   ]
  },
  {
   "cell_type": "code",
   "execution_count": 12,
   "id": "bdaebc85",
   "metadata": {},
   "outputs": [
    {
     "data": {
      "text/plain": [
       "140708010665776"
      ]
     },
     "execution_count": 12,
     "metadata": {},
     "output_type": "execute_result"
    }
   ],
   "source": [
    "id(a)"
   ]
  },
  {
   "cell_type": "code",
   "execution_count": 13,
   "id": "cba83d6b",
   "metadata": {},
   "outputs": [
    {
     "data": {
      "text/plain": [
       "140708010665776"
      ]
     },
     "execution_count": 13,
     "metadata": {},
     "output_type": "execute_result"
    }
   ],
   "source": [
    "id(b)"
   ]
  },
  {
   "cell_type": "code",
   "execution_count": 15,
   "id": "c909f211",
   "metadata": {},
   "outputs": [
    {
     "data": {
      "text/plain": [
       "140708010665776"
      ]
     },
     "execution_count": 15,
     "metadata": {},
     "output_type": "execute_result"
    }
   ],
   "source": [
    "id(1)"
   ]
  },
  {
   "cell_type": "code",
   "execution_count": 14,
   "id": "6aed9d96",
   "metadata": {},
   "outputs": [
    {
     "data": {
      "text/plain": [
       "True"
      ]
     },
     "execution_count": 14,
     "metadata": {},
     "output_type": "execute_result"
    }
   ],
   "source": [
    "id(a) == id(b)"
   ]
  },
  {
   "cell_type": "code",
   "execution_count": 16,
   "id": "73c4ade5",
   "metadata": {},
   "outputs": [
    {
     "name": "stdout",
     "output_type": "stream",
     "text": [
      "140708010665808\n"
     ]
    }
   ],
   "source": [
    "b = 2\n",
    "print(id(b))"
   ]
  },
  {
   "cell_type": "code",
   "execution_count": 17,
   "id": "c24de992",
   "metadata": {},
   "outputs": [
    {
     "name": "stdout",
     "output_type": "stream",
     "text": [
      "False\n"
     ]
    }
   ],
   "source": [
    "print(id(b) == id(a))"
   ]
  },
  {
   "cell_type": "code",
   "execution_count": 18,
   "id": "f11a76c2",
   "metadata": {},
   "outputs": [],
   "source": [
    "a = [1,2,3]\n",
    "b = a"
   ]
  },
  {
   "cell_type": "code",
   "execution_count": 19,
   "id": "625a68ad",
   "metadata": {},
   "outputs": [
    {
     "name": "stdout",
     "output_type": "stream",
     "text": [
      "True\n"
     ]
    }
   ],
   "source": [
    "print(id(a)==id(b))"
   ]
  },
  {
   "cell_type": "code",
   "execution_count": 20,
   "id": "73ff7d1c",
   "metadata": {},
   "outputs": [],
   "source": [
    "b[0] = 100"
   ]
  },
  {
   "cell_type": "code",
   "execution_count": 21,
   "id": "ce1871b6",
   "metadata": {},
   "outputs": [
    {
     "name": "stdout",
     "output_type": "stream",
     "text": [
      "True\n"
     ]
    }
   ],
   "source": [
    "print(id(a)==id(b))"
   ]
  },
  {
   "cell_type": "code",
   "execution_count": 22,
   "id": "3996d75d",
   "metadata": {},
   "outputs": [],
   "source": [
    "c = [100,2,3]"
   ]
  },
  {
   "cell_type": "code",
   "execution_count": 24,
   "id": "695496ed",
   "metadata": {},
   "outputs": [
    {
     "name": "stdout",
     "output_type": "stream",
     "text": [
      "[100, 2, 3]\n",
      "[100, 2, 3]\n",
      "True\n",
      "False\n"
     ]
    }
   ],
   "source": [
    "print(a)\n",
    "print(c)\n",
    "print(a==c)\n",
    "print(id(a)==id(c))"
   ]
  },
  {
   "cell_type": "markdown",
   "id": "e9f26b66",
   "metadata": {},
   "source": [
    "Even though the contents the lists are the same, they have different IDs. If we make changes to `c`, they will not propogate back to `a` since they have different IDs."
   ]
  },
  {
   "cell_type": "code",
   "execution_count": 25,
   "id": "12b0473b",
   "metadata": {},
   "outputs": [
    {
     "name": "stdout",
     "output_type": "stream",
     "text": [
      "[100, 2, 3]\n",
      "[1, 2, 3]\n"
     ]
    }
   ],
   "source": [
    "c[0] = 1\n",
    "\n",
    "print(a)\n",
    "print(c)"
   ]
  },
  {
   "cell_type": "markdown",
   "id": "b49987ea",
   "metadata": {},
   "source": [
    "We can get around this issue of sharing IDs by forcing a new list to be instantiated."
   ]
  },
  {
   "cell_type": "code",
   "execution_count": 26,
   "id": "d374b2d5",
   "metadata": {},
   "outputs": [
    {
     "name": "stdout",
     "output_type": "stream",
     "text": [
      "False\n"
     ]
    }
   ],
   "source": [
    "a = [1,2,3]\n",
    "b = list(a)\n",
    "\n",
    "print(id(a)==id(b))"
   ]
  },
  {
   "cell_type": "code",
   "execution_count": 27,
   "id": "a80081d0",
   "metadata": {},
   "outputs": [
    {
     "name": "stdout",
     "output_type": "stream",
     "text": [
      "[1, 2, 3]\n",
      "[100, 2, 3]\n"
     ]
    }
   ],
   "source": [
    "b[0] = 100\n",
    "\n",
    "print(a)\n",
    "print(b)"
   ]
  },
  {
   "cell_type": "markdown",
   "id": "e0117e79",
   "metadata": {},
   "source": [
    "## More about functions.\n",
    "\n",
    "[(see course webpage)](https://jllottes.github.io/PT/PT-functions.html)"
   ]
  },
  {
   "cell_type": "code",
   "execution_count": 35,
   "id": "20db0533",
   "metadata": {},
   "outputs": [],
   "source": [
    "def my_func(x,y,z):\n",
    "    print('x = {:}'.format(x))\n",
    "    print('y = {:}'.format(y))\n",
    "    print('z = {:}'.format(z))\n",
    "    return"
   ]
  },
  {
   "cell_type": "code",
   "execution_count": 36,
   "id": "9cffd9b3",
   "metadata": {},
   "outputs": [
    {
     "name": "stdout",
     "output_type": "stream",
     "text": [
      "x = 1\n",
      "y = 2\n",
      "z = 3\n"
     ]
    }
   ],
   "source": [
    "my_func(1,2,3)"
   ]
  },
  {
   "cell_type": "markdown",
   "id": "5cf770f4",
   "metadata": {},
   "source": [
    "In this function, `x`,`y`, and `z` are **positional arguments**. Each of them must be supplied by the user in the correct order."
   ]
  },
  {
   "cell_type": "code",
   "execution_count": 37,
   "id": "44801f2d",
   "metadata": {},
   "outputs": [
    {
     "name": "stdout",
     "output_type": "stream",
     "text": [
      "x = 2\n",
      "y = 3\n",
      "z = 1\n"
     ]
    }
   ],
   "source": [
    "my_func(2,3,1)"
   ]
  },
  {
   "cell_type": "markdown",
   "id": "88b70f37",
   "metadata": {},
   "source": [
    "In Python, we can also supply **keyword arguments.** That is, we can manually specify which inputs go to which variables."
   ]
  },
  {
   "cell_type": "code",
   "execution_count": 40,
   "id": "4b6aa780",
   "metadata": {},
   "outputs": [
    {
     "name": "stdout",
     "output_type": "stream",
     "text": [
      "x = 1\n",
      "y = 2\n",
      "z = 3\n"
     ]
    }
   ],
   "source": [
    "my_func(y=2,z=3,x=1)"
   ]
  },
  {
   "cell_type": "markdown",
   "id": "1a526757",
   "metadata": {},
   "source": [
    "We use keyword arguments to be able to call a function with our inputs in different orders."
   ]
  },
  {
   "cell_type": "markdown",
   "id": "b735eb22",
   "metadata": {},
   "source": [
    "When defining functions, we can also set **default arguments**."
   ]
  },
  {
   "cell_type": "code",
   "execution_count": 41,
   "id": "375ae2e7",
   "metadata": {},
   "outputs": [],
   "source": [
    "def my_func2(x=1,y=2,z=3):\n",
    "    print('x = {:}'.format(x))\n",
    "    print('y = {:}'.format(y))\n",
    "    print('z = {:}'.format(z))\n",
    "    return"
   ]
  },
  {
   "cell_type": "code",
   "execution_count": 42,
   "id": "f20fed76",
   "metadata": {},
   "outputs": [
    {
     "name": "stdout",
     "output_type": "stream",
     "text": [
      "x = 1\n",
      "y = 2\n",
      "z = 3\n"
     ]
    }
   ],
   "source": [
    "my_func2()"
   ]
  },
  {
   "cell_type": "code",
   "execution_count": 43,
   "id": "9b19a1de",
   "metadata": {},
   "outputs": [
    {
     "name": "stdout",
     "output_type": "stream",
     "text": [
      "x = -5\n",
      "y = 2\n",
      "z = 3\n"
     ]
    }
   ],
   "source": [
    "my_func2(-5)"
   ]
  },
  {
   "cell_type": "code",
   "execution_count": 44,
   "id": "63921acb",
   "metadata": {},
   "outputs": [
    {
     "name": "stdout",
     "output_type": "stream",
     "text": [
      "x = -5\n",
      "y = 7\n",
      "z = 3\n"
     ]
    }
   ],
   "source": [
    "my_func2(-5,7)"
   ]
  },
  {
   "cell_type": "code",
   "execution_count": 45,
   "id": "59285bcf",
   "metadata": {},
   "outputs": [
    {
     "name": "stdout",
     "output_type": "stream",
     "text": [
      "x = -5\n",
      "y = 7\n",
      "z = 9\n"
     ]
    }
   ],
   "source": [
    "my_func2(-5,7,9)"
   ]
  },
  {
   "cell_type": "markdown",
   "id": "15cac260",
   "metadata": {},
   "source": [
    "We can combine default arguments with keyword arguments:"
   ]
  },
  {
   "cell_type": "code",
   "execution_count": 46,
   "id": "f3b2c2f9",
   "metadata": {},
   "outputs": [
    {
     "name": "stdout",
     "output_type": "stream",
     "text": [
      "x = 1\n",
      "y = 2\n",
      "z = 9\n"
     ]
    }
   ],
   "source": [
    "my_func2(z=9)"
   ]
  },
  {
   "cell_type": "markdown",
   "id": "9f9b79d4",
   "metadata": {},
   "source": [
    "We can combine positional arguments with default arguments."
   ]
  },
  {
   "cell_type": "code",
   "execution_count": 48,
   "id": "de33b4d7",
   "metadata": {},
   "outputs": [],
   "source": [
    "def my_func3(x,y,z=3):\n",
    "    print('x = {:}'.format(x))\n",
    "    print('y = {:}'.format(y))\n",
    "    print('z = {:}'.format(z))\n",
    "    return"
   ]
  },
  {
   "cell_type": "code",
   "execution_count": 50,
   "id": "b5ecd634",
   "metadata": {},
   "outputs": [
    {
     "name": "stdout",
     "output_type": "stream",
     "text": [
      "x = 5\n",
      "y = 6\n",
      "z = 3\n"
     ]
    }
   ],
   "source": [
    "my_func3(5,6)"
   ]
  },
  {
   "cell_type": "markdown",
   "id": "e6e397a6",
   "metadata": {},
   "source": [
    "Timer function."
   ]
  },
  {
   "cell_type": "markdown",
   "id": "71272711",
   "metadata": {},
   "source": [
    "We've used the time module to time Python code. There are other tools in this module."
   ]
  },
  {
   "cell_type": "code",
   "execution_count": 51,
   "id": "ef2d40ed",
   "metadata": {},
   "outputs": [],
   "source": [
    "import time"
   ]
  },
  {
   "cell_type": "code",
   "execution_count": 52,
   "id": "ee26f299",
   "metadata": {},
   "outputs": [
    {
     "name": "stdout",
     "output_type": "stream",
     "text": [
      "Help on built-in function sleep in module time:\n",
      "\n",
      "sleep(...)\n",
      "    sleep(seconds)\n",
      "    \n",
      "    Delay execution for a given number of seconds.  The argument may be\n",
      "    a floating point number for subsecond precision.\n",
      "\n"
     ]
    }
   ],
   "source": [
    "help(time.sleep)"
   ]
  },
  {
   "cell_type": "markdown",
   "id": "f24307ba",
   "metadata": {},
   "source": [
    "We'll make a function `timer` that prints a countdown from a specified number."
   ]
  },
  {
   "cell_type": "code",
   "execution_count": 56,
   "id": "a31fb9bf",
   "metadata": {},
   "outputs": [
    {
     "name": "stdout",
     "output_type": "stream",
     "text": [
      "0\n",
      "2\n",
      "4\n"
     ]
    }
   ],
   "source": [
    "for i in range(0,5,2):\n",
    "    print(i)"
   ]
  },
  {
   "cell_type": "code",
   "execution_count": 57,
   "id": "86c2459a",
   "metadata": {},
   "outputs": [
    {
     "name": "stdout",
     "output_type": "stream",
     "text": [
      "5\n",
      "4\n",
      "3\n",
      "2\n",
      "1\n"
     ]
    }
   ],
   "source": [
    "for i in range(5,0,-1):\n",
    "    print(i)"
   ]
  },
  {
   "cell_type": "code",
   "execution_count": 63,
   "id": "efa7c122",
   "metadata": {},
   "outputs": [],
   "source": [
    "def timer(n,msg='time up!',delay=1):\n",
    "    from time import sleep\n",
    "    \n",
    "    for i in range(n,0,-1):\n",
    "        print(i)\n",
    "        sleep(delay)\n",
    "    print(msg)"
   ]
  },
  {
   "cell_type": "code",
   "execution_count": 65,
   "id": "dd9c85c7",
   "metadata": {},
   "outputs": [
    {
     "name": "stdout",
     "output_type": "stream",
     "text": [
      "5\n",
      "4\n",
      "3\n",
      "2\n",
      "1\n",
      "beep!\n"
     ]
    }
   ],
   "source": [
    "timer(5,delay=.5,msg='beep!')"
   ]
  },
  {
   "cell_type": "markdown",
   "id": "699e8bbf",
   "metadata": {},
   "source": [
    "# Sieve of Eratosthenes"
   ]
  },
  {
   "cell_type": "markdown",
   "id": "aee6455a",
   "metadata": {},
   "source": [
    "**Exercise.** Write a function `get_primes(n)` that will make a list of all prime numbers less than or equal to `n` using the Sieve of Eratosthenes."
   ]
  },
  {
   "cell_type": "code",
   "execution_count": 66,
   "id": "8f7fceea",
   "metadata": {},
   "outputs": [],
   "source": [
    "def get_primes(n):\n",
    "    # Make a list that has length n+1 and is set to True in every element,\n",
    "    # except for the 0 and 1 elements.\n",
    "    # Associate the index of the list with a number 0,1,2,3,...,n\n",
    "    # Starting from the first True entry, we'll set False all entries corresponding \n",
    "    # to a multiple of that number.\n",
    "    \n",
    "    # At the end, we'll have a list of True/False objects, from which we \n",
    "    # can build a list of primes.\n",
    "    \n",
    "    mylist = []\n",
    "    for i in range(n+1):\n",
    "        mylist.append(True)\n",
    "    mylist[0] = False\n",
    "    mylist[1] = False\n",
    "    \n",
    "    for i in range(n+1):\n",
    "        # if mylist[i] == False:\n",
    "        # or\n",
    "        if not mylist[i]: \n",
    "            continue\n",
    "        m = 2*i\n",
    "        while m <= n:\n",
    "            mylist[m] = False\n",
    "            m = m + i\n",
    "    return mylist"
   ]
  },
  {
   "cell_type": "code",
   "execution_count": 67,
   "id": "92b93d13",
   "metadata": {},
   "outputs": [],
   "source": [
    "mylist = get_primes(7)"
   ]
  },
  {
   "cell_type": "code",
   "execution_count": 68,
   "id": "a80a74fa",
   "metadata": {},
   "outputs": [
    {
     "name": "stdout",
     "output_type": "stream",
     "text": [
      "[False, False, True, True, False, True, False, True]\n"
     ]
    }
   ],
   "source": [
    "print(mylist)"
   ]
  },
  {
   "cell_type": "markdown",
   "id": "d47ddce7",
   "metadata": {},
   "source": [
    "We can replace this `while` loop with slicing."
   ]
  },
  {
   "cell_type": "code",
   "execution_count": 77,
   "id": "e825fbd9",
   "metadata": {},
   "outputs": [],
   "source": [
    "def get_primes(n):\n",
    "    # Make a list that has length n+1 and is set to True in every element,\n",
    "    # except for the 0 and 1 elements.\n",
    "    # Associate the index of the list with a number 0,1,2,3,...,n\n",
    "    # Starting from the first True entry, we'll set False all entries corresponding \n",
    "    # to a multiple of that number.\n",
    "    \n",
    "    # At the end, we'll have a list of True/False objects, from which we \n",
    "    # can build a list of primes.\n",
    "    \n",
    "    mylist = []\n",
    "    for i in range(n+1):\n",
    "        mylist.append(True)\n",
    "    mylist[0] = False\n",
    "    mylist[1] = False\n",
    "    \n",
    "    for i in range(n+1):\n",
    "        if not mylist[i]: \n",
    "            continue\n",
    "        # mylist[2*i::i] = False\n",
    "        # Issue: the object on the left is a list with some number of elements\n",
    "        # The object on the right a single False boolean.\n",
    "        # We fix this by generating a list of Falses that has the right size\n",
    "        myslice = mylist[2*i::i]\n",
    "        falselist = []\n",
    "        for j in range(len(myslice)):\n",
    "            falselist.append(False)\n",
    "        mylist[2*i::i] = falselist\n",
    "    return mylist"
   ]
  },
  {
   "cell_type": "markdown",
   "id": "a75426e9",
   "metadata": {},
   "source": [
    "**Note**: We still need to finish the `get_primes()` function so that it returns a list of prime numbers rather than a list of `True`/`False`."
   ]
  },
  {
   "cell_type": "code",
   "execution_count": 78,
   "id": "8712cc6a",
   "metadata": {},
   "outputs": [
    {
     "name": "stdout",
     "output_type": "stream",
     "text": [
      "[False, False, True, True, False, True, False, True]\n"
     ]
    }
   ],
   "source": [
    "print(get_primes(7))"
   ]
  },
  {
   "cell_type": "markdown",
   "id": "3607b716",
   "metadata": {},
   "source": [
    "## List comprehension\n",
    "\n",
    "[(see course webpage)](https://jllottes.github.io/PT/PT-list_comprehensions/PT-list_comprehensions.html)"
   ]
  },
  {
   "cell_type": "markdown",
   "id": "c2ffb90d",
   "metadata": {},
   "source": [
    "In Python, we can use **list comprehension** to easily generate lists."
   ]
  },
  {
   "cell_type": "markdown",
   "id": "5e6ce61f",
   "metadata": {},
   "source": [
    "Let's generate a list that contains 5 `False`s."
   ]
  },
  {
   "cell_type": "code",
   "execution_count": 79,
   "id": "566d8c5c",
   "metadata": {},
   "outputs": [
    {
     "data": {
      "text/plain": [
       "[False, False, False, False, False]"
      ]
     },
     "execution_count": 79,
     "metadata": {},
     "output_type": "execute_result"
    }
   ],
   "source": [
    "[False,False,False,False,False]"
   ]
  },
  {
   "cell_type": "code",
   "execution_count": 80,
   "id": "dc1cfa90",
   "metadata": {},
   "outputs": [
    {
     "data": {
      "text/plain": [
       "[False, False, False, False, False]"
      ]
     },
     "execution_count": 80,
     "metadata": {},
     "output_type": "execute_result"
    }
   ],
   "source": [
    "[ False for i in range(5) ]"
   ]
  },
  {
   "cell_type": "code",
   "execution_count": 81,
   "id": "b7e17a5f",
   "metadata": {},
   "outputs": [
    {
     "data": {
      "text/plain": [
       "[0, 1, 2, 3, 4]"
      ]
     },
     "execution_count": 81,
     "metadata": {},
     "output_type": "execute_result"
    }
   ],
   "source": [
    "[ i for i in range(5) ]"
   ]
  },
  {
   "cell_type": "code",
   "execution_count": 84,
   "id": "5fd9e6aa",
   "metadata": {},
   "outputs": [
    {
     "data": {
      "text/plain": [
       "[0, 4, 16, 36, 64]"
      ]
     },
     "execution_count": 84,
     "metadata": {},
     "output_type": "execute_result"
    }
   ],
   "source": [
    "[ i**2 for i in range(10) if i%2 == 0]"
   ]
  },
  {
   "cell_type": "code",
   "execution_count": 86,
   "id": "21675dab",
   "metadata": {},
   "outputs": [],
   "source": [
    "def get_primes(n):\n",
    "    is_prime = [ True for i in range(n+1) ]\n",
    "    is_prime[0] = False\n",
    "    is_prime[1] = False\n",
    "    \n",
    "    for i in range(n+1):\n",
    "        if not is_prime[i]: \n",
    "            continue\n",
    "        is_prime[2*i::i] = [ False for j in range(len(is_prime[2*i::i]))]\n",
    "    \n",
    "    primes = [ i for i in range(n+1) if is_prime[i] ]\n",
    "    return primes"
   ]
  },
  {
   "cell_type": "code",
   "execution_count": 88,
   "id": "b4ff0af6",
   "metadata": {},
   "outputs": [
    {
     "data": {
      "text/plain": [
       "[2,\n",
       " 3,\n",
       " 5,\n",
       " 7,\n",
       " 11,\n",
       " 13,\n",
       " 17,\n",
       " 19,\n",
       " 23,\n",
       " 29,\n",
       " 31,\n",
       " 37,\n",
       " 41,\n",
       " 43,\n",
       " 47,\n",
       " 53,\n",
       " 59,\n",
       " 61,\n",
       " 67,\n",
       " 71,\n",
       " 73,\n",
       " 79,\n",
       " 83,\n",
       " 89,\n",
       " 97]"
      ]
     },
     "execution_count": 88,
     "metadata": {},
     "output_type": "execute_result"
    }
   ],
   "source": [
    "get_primes(100)"
   ]
  },
  {
   "cell_type": "markdown",
   "id": "a023152d",
   "metadata": {},
   "source": [
    "## Plotting with matplotlib\n",
    "\n",
    "[(see course webpage)](https://jllottes.github.io/PT/PT-matplotlib_plots/PT-matplotlib_plots.html)"
   ]
  },
  {
   "cell_type": "code",
   "execution_count": 1,
   "id": "a37851ad",
   "metadata": {},
   "outputs": [],
   "source": [
    "import matplotlib.pyplot as plt"
   ]
  },
  {
   "cell_type": "code",
   "execution_count": 6,
   "id": "9122a285",
   "metadata": {},
   "outputs": [
    {
     "name": "stdout",
     "output_type": "stream",
     "text": [
      "[1, 2, 3, 4, 5]\n",
      "[1, 4, 9, 16, 25]\n"
     ]
    }
   ],
   "source": [
    "x = [1,2,3,4,5]\n",
    "y = [i**2 for i in x]\n",
    "\n",
    "print(x)\n",
    "print(y)"
   ]
  },
  {
   "cell_type": "markdown",
   "id": "d43e015f",
   "metadata": {},
   "source": [
    "Syntax: `plt.plot(<x-coordinates>,<y-coordinates>)`"
   ]
  },
  {
   "cell_type": "code",
   "execution_count": 7,
   "id": "83f8547d",
   "metadata": {},
   "outputs": [
    {
     "data": {
      "text/plain": [
       "[<matplotlib.lines.Line2D at 0x296d57e0a90>]"
      ]
     },
     "execution_count": 7,
     "metadata": {},
     "output_type": "execute_result"
    },
    {
     "data": {
      "image/png": "[encoded data removed]",
      "text/plain": [
       "<Figure size 432x288 with 1 Axes>"
      ]
     },
     "metadata": {
      "image/png": {
       "height": 248,
       "width": 368
      },
      "needs_background": "light"
     },
     "output_type": "display_data"
    }
   ],
   "source": [
    "plt.plot(x,y)"
   ]
  },
  {
   "cell_type": "markdown",
   "id": "3420dd21",
   "metadata": {},
   "source": [
    "If your plot does not show within the Jupyter notebook, you can execute the following command in a separate cell to force inline plotting:\n",
    "\n",
    "`%matplotlib inline`"
   ]
  },
  {
   "cell_type": "markdown",
   "id": "32e60e97",
   "metadata": {},
   "source": [
    "We can make plots look sharper by making changes to the backend:"
   ]
  },
  {
   "cell_type": "code",
   "execution_count": 4,
   "id": "0153e316",
   "metadata": {},
   "outputs": [],
   "source": [
    "%config InlineBackend.figure_format = 'retina'"
   ]
  },
  {
   "cell_type": "code",
   "execution_count": 8,
   "id": "92f4dcfb",
   "metadata": {
    "scrolled": true
   },
   "outputs": [
    {
     "data": {
      "text/plain": [
       "[<matplotlib.lines.Line2D at 0x296d5786040>]"
      ]
     },
     "execution_count": 8,
     "metadata": {},
     "output_type": "execute_result"
    },
    {
     "data": {
      "image/png": "[encoded data removed]",
      "text/plain": [
       "<Figure size 432x288 with 1 Axes>"
      ]
     },
     "metadata": {
      "image/png": {
       "height": 248,
       "width": 368
      },
      "needs_background": "light"
     },
     "output_type": "display_data"
    }
   ],
   "source": [
    "plt.plot(x,y)"
   ]
  },
  {
   "cell_type": "markdown",
   "id": "1235be8d",
   "metadata": {},
   "source": [
    "There are **MANY** possible default and keyword arguments that can be supplied to the `plot()` command.\n",
    "\n",
    "One option is to supply a string following the $x$- and $y$-coordinates that specifies the style of the plot.\n",
    "\n",
    "As an example, we can specify a color:\n",
    "\n",
    "`'k'`: black\n",
    "\n",
    "`'b'`: blue\n",
    "\n",
    "`'r'`: red\n",
    "\n",
    "`'y'`: yellow\n",
    "\n",
    "`'g'`: green\n",
    "\n",
    "`'m'`: magenta\n",
    "\n",
    "`'c'`: cyan"
   ]
  },
  {
   "cell_type": "code",
   "execution_count": 11,
   "id": "5386cb4e",
   "metadata": {},
   "outputs": [
    {
     "data": {
      "text/plain": [
       "[<matplotlib.lines.Line2D at 0x296d5f2e700>]"
      ]
     },
     "execution_count": 11,
     "metadata": {},
     "output_type": "execute_result"
    },
    {
     "data": {
      "image/png": "[encoded data removed]",
      "text/plain": [
       "<Figure size 432x288 with 1 Axes>"
      ]
     },
     "metadata": {
      "image/png": {
       "height": 248,
       "width": 368
      },
      "needs_background": "light"
     },
     "output_type": "display_data"
    }
   ],
   "source": [
    "plt.plot(x,y,'m')"
   ]
  },
  {
   "cell_type": "markdown",
   "id": "6a2297fb",
   "metadata": {},
   "source": [
    "We can specify a **marker** type:\n",
    "\n",
    "`'o'`: big dot\n",
    "\n",
    "`'.'`: small dot\n",
    "\n",
    "`'*'`: star\n",
    "\n",
    "...\n",
    "\n",
    "see: [matplotlib markers](https://matplotlib.org/stable/api/markers_api.html)"
   ]
  },
  {
   "cell_type": "code",
   "execution_count": 12,
   "id": "059019ba",
   "metadata": {},
   "outputs": [
    {
     "data": {
      "text/plain": [
       "[<matplotlib.lines.Line2D at 0x296d5ec7e80>]"
      ]
     },
     "execution_count": 12,
     "metadata": {},
     "output_type": "execute_result"
    },
    {
     "data": {
      "image/png": "[encoded data removed]",
      "text/plain": [
       "<Figure size 432x288 with 1 Axes>"
      ]
     },
     "metadata": {
      "image/png": {
       "height": 248,
       "width": 368
      },
      "needs_background": "light"
     },
     "output_type": "display_data"
    }
   ],
   "source": [
    "plt.plot(x,y,'o')"
   ]
  },
  {
   "cell_type": "markdown",
   "id": "2cf41979",
   "metadata": {},
   "source": [
    "We can specify line styles:\n",
    "\n",
    "`'-'`: solid line\n",
    "\n",
    "`'--'`: dashed line\n",
    "\n",
    "See [matplotlib linestyles](https://matplotlib.org/stable/gallery/lines_bars_and_markers/linestyles.html)"
   ]
  },
  {
   "cell_type": "code",
   "execution_count": 13,
   "id": "98297ecc",
   "metadata": {
    "scrolled": false
   },
   "outputs": [
    {
     "data": {
      "text/plain": [
       "[<matplotlib.lines.Line2D at 0x296d62de610>]"
      ]
     },
     "execution_count": 13,
     "metadata": {},
     "output_type": "execute_result"
    },
    {
     "data": {
      "image/png": "[encoded data removed]",
      "text/plain": [
       "<Figure size 432x288 with 1 Axes>"
      ]
     },
     "metadata": {
      "image/png": {
       "height": 248,
       "width": 368
      },
      "needs_background": "light"
     },
     "output_type": "display_data"
    }
   ],
   "source": [
    "plt.plot(x,y,'--')"
   ]
  },
  {
   "cell_type": "markdown",
   "id": "514fa537",
   "metadata": {},
   "source": [
    "We can specify styles for color, line, and marker at the same time."
   ]
  },
  {
   "cell_type": "code",
   "execution_count": 14,
   "id": "c9a135b5",
   "metadata": {},
   "outputs": [
    {
     "data": {
      "text/plain": [
       "[<matplotlib.lines.Line2D at 0x296d6267d90>]"
      ]
     },
     "execution_count": 14,
     "metadata": {},
     "output_type": "execute_result"
    },
    {
     "data": {
      "image/png": "[encoded data removed]",
      "text/plain": [
       "<Figure size 432x288 with 1 Axes>"
      ]
     },
     "metadata": {
      "image/png": {
       "height": 248,
       "width": 368
      },
      "needs_background": "light"
     },
     "output_type": "display_data"
    }
   ],
   "source": [
    "plt.plot(x,y,'c--o')"
   ]
  },
  {
   "cell_type": "markdown",
   "id": "a248ce8d",
   "metadata": {},
   "source": [
    "Alternatively, we can use keyword arguments:"
   ]
  },
  {
   "cell_type": "code",
   "execution_count": 15,
   "id": "722b7a7b",
   "metadata": {
    "scrolled": true
   },
   "outputs": [
    {
     "data": {
      "text/plain": [
       "[<matplotlib.lines.Line2D at 0x296d668d610>]"
      ]
     },
     "execution_count": 15,
     "metadata": {},
     "output_type": "execute_result"
    },
    {
     "data": {
      "image/png": "[encoded data removed]",
      "text/plain": [
       "<Figure size 432x288 with 1 Axes>"
      ]
     },
     "metadata": {
      "image/png": {
       "height": 248,
       "width": 368
      },
      "needs_background": "light"
     },
     "output_type": "display_data"
    }
   ],
   "source": [
    "plt.plot(x,y,color='c',marker='o',linestyle='--')"
   ]
  },
  {
   "cell_type": "markdown",
   "id": "14ce29b1",
   "metadata": {},
   "source": [
    "We can add $x$- and $y$- labels using the `plt.xlabel()` and `plt.ylabel()` commands. We can even use LaTeX in our labels.\n",
    "\n",
    "We can add a title using the `plt.title()` command.\n",
    "\n",
    "We can label a plot using the `label` keyword.\n",
    "\n",
    "We can add a legend with the `plt.legend()` command."
   ]
  },
  {
   "cell_type": "code",
   "execution_count": 20,
   "id": "c02cd892",
   "metadata": {
    "scrolled": true
   },
   "outputs": [
    {
     "data": {
      "text/plain": [
       "<matplotlib.legend.Legend at 0x296d6980fa0>"
      ]
     },
     "execution_count": 20,
     "metadata": {},
     "output_type": "execute_result"
    },
    {
     "data": {
      "image/png": "[encoded data removed]",
      "text/plain": [
       "<Figure size 432x288 with 1 Axes>"
      ]
     },
     "metadata": {
      "image/png": {
       "height": 277,
       "width": 382
      },
      "needs_background": "light"
     },
     "output_type": "display_data"
    }
   ],
   "source": [
    "plt.plot(x,y,'m-o',label='first plot')\n",
    "plt.plot(y,x,'g--',label='second plot')\n",
    "\n",
    "plt.xlabel('$x$')\n",
    "plt.ylabel('$y$')\n",
    "\n",
    "plt.title('My plot')\n",
    "\n",
    "plt.legend()"
   ]
  },
  {
   "cell_type": "markdown",
   "id": "2992e610",
   "metadata": {},
   "source": [
    "If we don't manually supply a color, then `matplotlib` will cycle through a predetermined list of colors."
   ]
  },
  {
   "cell_type": "code",
   "execution_count": 21,
   "id": "97f75219",
   "metadata": {},
   "outputs": [
    {
     "data": {
      "text/plain": [
       "<matplotlib.legend.Legend at 0x296d69c31c0>"
      ]
     },
     "execution_count": 21,
     "metadata": {},
     "output_type": "execute_result"
    },
    {
     "data": {
      "image/png": "[encoded data removed]",
      "text/plain": [
       "<Figure size 432x288 with 1 Axes>"
      ]
     },
     "metadata": {
      "image/png": {
       "height": 277,
       "width": 382
      },
      "needs_background": "light"
     },
     "output_type": "display_data"
    }
   ],
   "source": [
    "plt.plot(x,y,'-o',label='first plot')\n",
    "plt.plot(y,x,'--',label='second plot')\n",
    "\n",
    "plt.xlabel('$x$')\n",
    "plt.ylabel('$y$')\n",
    "\n",
    "plt.title('My plot')\n",
    "\n",
    "plt.legend()"
   ]
  }
 ],
 "metadata": {
  "kernelspec": {
   "display_name": "Python 3",
   "language": "python",
   "name": "python3"
  },
  "language_info": {
   "codemirror_mode": {
    "name": "ipython",
    "version": 3
   },
   "file_extension": ".py",
   "mimetype": "text/x-python",
   "name": "python",
   "nbconvert_exporter": "python",
   "pygments_lexer": "ipython3",
   "version": "3.8.8"
  }
 },
 "nbformat": 4,
 "nbformat_minor": 5
}
