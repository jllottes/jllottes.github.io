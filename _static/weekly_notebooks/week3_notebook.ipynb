{
 "cells": [
  {
   "cell_type": "markdown",
   "id": "110429eb",
   "metadata": {},
   "source": [
    "# February 14, 2022"
   ]
  },
  {
   "cell_type": "markdown",
   "id": "9da75a88",
   "metadata": {},
   "source": [
    "## Logical operators: `not`, `and`, `or`"
   ]
  },
  {
   "cell_type": "markdown",
   "id": "f5a47aeb",
   "metadata": {},
   "source": [
    "Recall our `isprime2()` function from last week.\n",
    "This function returns `True` if the input is prime and `False` if the input is not prime."
   ]
  },
  {
   "cell_type": "code",
   "execution_count": 1,
   "id": "db9a67c9",
   "metadata": {},
   "outputs": [],
   "source": [
    "from math import sqrt\n",
    "\n",
    "def isprime2(n):\n",
    "    prime = True\n",
    "    if n < 2:\n",
    "        prime = False\n",
    "    else:\n",
    "        for d in range(2,int(sqrt(n) + 1)):\n",
    "            if n%d == 0:\n",
    "                prime = False # Set the flag to be False if it's not a prime\n",
    "                break\n",
    "    return prime"
   ]
  },
  {
   "cell_type": "code",
   "execution_count": 2,
   "id": "c2998be4",
   "metadata": {},
   "outputs": [
    {
     "data": {
      "text/plain": [
       "True"
      ]
     },
     "execution_count": 2,
     "metadata": {},
     "output_type": "execute_result"
    }
   ],
   "source": [
    "isprime2(11)"
   ]
  },
  {
   "cell_type": "markdown",
   "id": "f20ada25",
   "metadata": {},
   "source": [
    "The `not` operator will flip a `True` to `False` and a `False` to `True`"
   ]
  },
  {
   "cell_type": "code",
   "execution_count": 3,
   "id": "ffd1b256",
   "metadata": {},
   "outputs": [
    {
     "data": {
      "text/plain": [
       "False"
      ]
     },
     "execution_count": 3,
     "metadata": {},
     "output_type": "execute_result"
    }
   ],
   "source": [
    "not isprime2(11)"
   ]
  },
  {
   "cell_type": "markdown",
   "id": "40376265",
   "metadata": {},
   "source": [
    "We've seen how to check if an element is in a list, so the `not` operator lets us check if an element is not in a list."
   ]
  },
  {
   "cell_type": "code",
   "execution_count": 5,
   "id": "e4f73a14",
   "metadata": {},
   "outputs": [
    {
     "name": "stdout",
     "output_type": "stream",
     "text": [
      "True\n"
     ]
    }
   ],
   "source": [
    "mylist = [0,1,2,3,4,5,6,7]\n",
    "\n",
    "print(3 in mylist)"
   ]
  },
  {
   "cell_type": "code",
   "execution_count": 7,
   "id": "6163448d",
   "metadata": {},
   "outputs": [
    {
     "name": "stdout",
     "output_type": "stream",
     "text": [
      "False\n"
     ]
    }
   ],
   "source": [
    "print(3 not in mylist)"
   ]
  },
  {
   "cell_type": "code",
   "execution_count": 8,
   "id": "4e4fb0da",
   "metadata": {},
   "outputs": [
    {
     "name": "stdout",
     "output_type": "stream",
     "text": [
      "False\n"
     ]
    }
   ],
   "source": [
    "print(10 in mylist)"
   ]
  },
  {
   "cell_type": "code",
   "execution_count": 6,
   "id": "7fc8f79d",
   "metadata": {},
   "outputs": [
    {
     "name": "stdout",
     "output_type": "stream",
     "text": [
      "True\n"
     ]
    }
   ],
   "source": [
    "print(10 not in mylist)"
   ]
  },
  {
   "cell_type": "markdown",
   "id": "fffd95a0",
   "metadata": {},
   "source": [
    "The `<expr1> and <expr2>` operator returns `True` if both `<expr1>` and `<expr2>` are `True`, and returns `False` otherwise."
   ]
  },
  {
   "cell_type": "code",
   "execution_count": 10,
   "id": "5f5d8bf5",
   "metadata": {},
   "outputs": [
    {
     "data": {
      "text/plain": [
       "True"
      ]
     },
     "execution_count": 10,
     "metadata": {},
     "output_type": "execute_result"
    }
   ],
   "source": [
    "isprime2(2) and isprime2(5)"
   ]
  },
  {
   "cell_type": "code",
   "execution_count": 11,
   "id": "6b69538b",
   "metadata": {},
   "outputs": [
    {
     "data": {
      "text/plain": [
       "False"
      ]
     },
     "execution_count": 11,
     "metadata": {},
     "output_type": "execute_result"
    }
   ],
   "source": [
    "isprime2(2) and isprime2(4)"
   ]
  },
  {
   "cell_type": "code",
   "execution_count": 12,
   "id": "911683fe",
   "metadata": {},
   "outputs": [
    {
     "data": {
      "text/plain": [
       "False"
      ]
     },
     "execution_count": 12,
     "metadata": {},
     "output_type": "execute_result"
    }
   ],
   "source": [
    "isprime2(6) and isprime2(4)"
   ]
  },
  {
   "cell_type": "code",
   "execution_count": 13,
   "id": "f4b4f891",
   "metadata": {},
   "outputs": [
    {
     "data": {
      "text/plain": [
       "False"
      ]
     },
     "execution_count": 13,
     "metadata": {},
     "output_type": "execute_result"
    }
   ],
   "source": [
    "True and False"
   ]
  },
  {
   "cell_type": "markdown",
   "id": "216abee4",
   "metadata": {},
   "source": [
    "The `<expr1> or <expr2>` operator returns `True` if either `<expr1>` or `<expr2>` are `True`, and returns `False` only if both are `False`."
   ]
  },
  {
   "cell_type": "code",
   "execution_count": 14,
   "id": "94c1043e",
   "metadata": {},
   "outputs": [
    {
     "data": {
      "text/plain": [
       "True"
      ]
     },
     "execution_count": 14,
     "metadata": {},
     "output_type": "execute_result"
    }
   ],
   "source": [
    "isprime2(2) or isprime2(5)"
   ]
  },
  {
   "cell_type": "code",
   "execution_count": 15,
   "id": "a932ae85",
   "metadata": {},
   "outputs": [
    {
     "data": {
      "text/plain": [
       "True"
      ]
     },
     "execution_count": 15,
     "metadata": {},
     "output_type": "execute_result"
    }
   ],
   "source": [
    "isprime2(2) or isprime2(4)"
   ]
  },
  {
   "cell_type": "code",
   "execution_count": 17,
   "id": "429d9ddc",
   "metadata": {},
   "outputs": [
    {
     "data": {
      "text/plain": [
       "False"
      ]
     },
     "execution_count": 17,
     "metadata": {},
     "output_type": "execute_result"
    }
   ],
   "source": [
    "isprime2(6) or isprime2(4)"
   ]
  },
  {
   "cell_type": "code",
   "execution_count": 19,
   "id": "466b6cca",
   "metadata": {},
   "outputs": [
    {
     "name": "stdout",
     "output_type": "stream",
     "text": [
      "0\n",
      "5\n",
      "14\n",
      "28\n",
      "42\n",
      "56\n",
      "70\n",
      "84\n",
      "98\n"
     ]
    }
   ],
   "source": [
    "for n in range(100):\n",
    "    if (n%2 == 0 and n%7 == 0) or n == 5:\n",
    "        print(n)"
   ]
  },
  {
   "cell_type": "markdown",
   "id": "fbdcf3a4",
   "metadata": {},
   "source": [
    "# Return to Project 1\n",
    "\n",
    "For readability, I will rename `isprime2()` to be `isprime()`."
   ]
  },
  {
   "cell_type": "code",
   "execution_count": 20,
   "id": "55b48b3d",
   "metadata": {},
   "outputs": [],
   "source": [
    "from math import sqrt\n",
    "\n",
    "def isprime(n):\n",
    "    prime = True\n",
    "    if n < 2:\n",
    "        prime = False\n",
    "    else:\n",
    "        for d in range(2,int(sqrt(n) + 1)):\n",
    "            if n%d == 0:\n",
    "                prime = False # Set the flag to be False if it's not a prime\n",
    "                break\n",
    "    return prime"
   ]
  },
  {
   "cell_type": "markdown",
   "id": "b5cfc90b",
   "metadata": {},
   "source": [
    "Last week, we defined `get_primes2()` and `primary()`. Let's similarly rename `get_primes2()` to be `get_primes()`."
   ]
  },
  {
   "cell_type": "code",
   "execution_count": 21,
   "id": "d4a029fe",
   "metadata": {},
   "outputs": [],
   "source": [
    "def get_primes(N):\n",
    "    list_of_primes = []                # Initialize an empty list of primes\n",
    "    for n in range(2,N+1):             # Iterate over the integers from 2 to N\n",
    "        if isprime(n) == True:        # Check if the number is prime\n",
    "            list_of_primes.append(n)   # If yes, add to a running list of primes\n",
    "    return list_of_primes              # return <list of primes>"
   ]
  },
  {
   "cell_type": "code",
   "execution_count": 22,
   "id": "47ab4bf7",
   "metadata": {},
   "outputs": [],
   "source": [
    "def primary(n):\n",
    "    prime_factorization = []\n",
    "    primes = get_primes(n)\n",
    "    \n",
    "    for p in primes:\n",
    "        m = n\n",
    "        while (m % p) == 0:\n",
    "            prime_factorization.append(p)\n",
    "            m = m//p\n",
    "    return prime_factorization"
   ]
  },
  {
   "cell_type": "code",
   "execution_count": 23,
   "id": "936f76bf",
   "metadata": {},
   "outputs": [
    {
     "data": {
      "text/plain": [
       "[2, 2, 3, 5]"
      ]
     },
     "execution_count": 23,
     "metadata": {},
     "output_type": "execute_result"
    }
   ],
   "source": [
    "primary(60)"
   ]
  },
  {
   "cell_type": "markdown",
   "id": "a754740a",
   "metadata": {},
   "source": [
    "False primes: a number $p$ is a **false prime** if \n",
    "$$\n",
    "a^p \\equiv a \\quad (\\text{mod } p)\n",
    "$$\n",
    "for every $0 \\leq a < p$ and $p$ is not prime.\n",
    "\n",
    "Let's create a function to test if a number satisfies the conclusion of Fermat's little theorem, that is, if\n",
    "$$\n",
    "a^p \\equiv a \\quad (\\text{mod } p)\n",
    "$$\n",
    "for $0 \\leq a < p$."
   ]
  },
  {
   "cell_type": "markdown",
   "id": "fb0ceae0",
   "metadata": {},
   "source": [
    "As an example, $p = 561$ is a false prime. That means that\n",
    "$$\n",
    " a^{561} \\equiv a \\quad (\\text{mod } 561)\n",
    "$$\n",
    "or\n",
    "`(a**561) % 561 == a % 561` returns `True` for any `a`."
   ]
  },
  {
   "cell_type": "markdown",
   "id": "10062ae7",
   "metadata": {},
   "source": [
    "Recall: We can use the `pow()` function from the `math` module to more efficiently compute `a**p % p`."
   ]
  },
  {
   "cell_type": "code",
   "execution_count": 24,
   "id": "5d7a6fb0",
   "metadata": {},
   "outputs": [
    {
     "name": "stdout",
     "output_type": "stream",
     "text": [
      "Help on built-in function pow in module builtins:\n",
      "\n",
      "pow(base, exp, mod=None)\n",
      "    Equivalent to base**exp with 2 arguments or base**exp % mod with 3 arguments\n",
      "    \n",
      "    Some types, such as ints, are able to use a more efficient algorithm when\n",
      "    invoked using the three argument form.\n",
      "\n"
     ]
    }
   ],
   "source": [
    "help(pow)"
   ]
  },
  {
   "cell_type": "code",
   "execution_count": 25,
   "id": "2491f4ff",
   "metadata": {
    "scrolled": true
   },
   "outputs": [
    {
     "data": {
      "text/plain": [
       "True"
      ]
     },
     "execution_count": 25,
     "metadata": {},
     "output_type": "execute_result"
    }
   ],
   "source": [
    "a = 100\n",
    "p = 561\n",
    "pow(a,p,p) == a % p"
   ]
  },
  {
   "cell_type": "markdown",
   "id": "6571f4cb",
   "metadata": {},
   "source": [
    "# More about lists in Python"
   ]
  },
  {
   "cell_type": "code",
   "execution_count": 26,
   "id": "bdab5fcc",
   "metadata": {},
   "outputs": [],
   "source": [
    "states = ['AK','NY','MI','IL','TX']"
   ]
  },
  {
   "cell_type": "code",
   "execution_count": 27,
   "id": "b7e5733a",
   "metadata": {},
   "outputs": [
    {
     "name": "stdout",
     "output_type": "stream",
     "text": [
      "AK\n"
     ]
    }
   ],
   "source": [
    "print(states[0])"
   ]
  },
  {
   "cell_type": "markdown",
   "id": "a95e552e",
   "metadata": {},
   "source": [
    "**Reminder**: List indexing starts with 0."
   ]
  },
  {
   "cell_type": "markdown",
   "id": "12a78b7a",
   "metadata": {},
   "source": [
    "We can change a particular element in a list:"
   ]
  },
  {
   "cell_type": "code",
   "execution_count": 28,
   "id": "a3709cd3",
   "metadata": {},
   "outputs": [
    {
     "name": "stdout",
     "output_type": "stream",
     "text": [
      "['AK', 'NY', 'MI', 'IL', 'TX']\n",
      "['AK', 'NY', 'CA', 'IL', 'TX']\n"
     ]
    }
   ],
   "source": [
    "print(states)\n",
    "states[2] = 'CA'\n",
    "print(states)"
   ]
  },
  {
   "cell_type": "markdown",
   "id": "206bccbd",
   "metadata": {},
   "source": [
    "We can insert an element into a list using the `.insert()` method:"
   ]
  },
  {
   "cell_type": "code",
   "execution_count": 29,
   "id": "413d8b67",
   "metadata": {},
   "outputs": [
    {
     "name": "stdout",
     "output_type": "stream",
     "text": [
      "Help on built-in function insert:\n",
      "\n",
      "insert(index, object, /) method of builtins.list instance\n",
      "    Insert object before index.\n",
      "\n"
     ]
    }
   ],
   "source": [
    "help(states.insert)"
   ]
  },
  {
   "cell_type": "markdown",
   "id": "e7544526",
   "metadata": {},
   "source": [
    "Let's add `'OH'` to our list in the second position (index `1`)."
   ]
  },
  {
   "cell_type": "code",
   "execution_count": 30,
   "id": "dfa4a48c",
   "metadata": {},
   "outputs": [
    {
     "name": "stdout",
     "output_type": "stream",
     "text": [
      "['AK', 'OH', 'NY', 'CA', 'IL', 'TX']\n"
     ]
    }
   ],
   "source": [
    "states.insert(1,'OH')\n",
    "\n",
    "print(states)"
   ]
  },
  {
   "cell_type": "markdown",
   "id": "41f02a59",
   "metadata": {},
   "source": [
    "We can have lists of lists:"
   ]
  },
  {
   "cell_type": "code",
   "execution_count": 31,
   "id": "d7bac157",
   "metadata": {},
   "outputs": [],
   "source": [
    "nested = [ [1,2], [3,4,5] ]"
   ]
  },
  {
   "cell_type": "code",
   "execution_count": 32,
   "id": "638f4933",
   "metadata": {},
   "outputs": [
    {
     "data": {
      "text/plain": [
       "[1, 2]"
      ]
     },
     "execution_count": 32,
     "metadata": {},
     "output_type": "execute_result"
    }
   ],
   "source": [
    "nested[0]"
   ]
  },
  {
   "cell_type": "code",
   "execution_count": 33,
   "id": "baf23f60",
   "metadata": {},
   "outputs": [
    {
     "data": {
      "text/plain": [
       "[3, 4, 5]"
      ]
     },
     "execution_count": 33,
     "metadata": {},
     "output_type": "execute_result"
    }
   ],
   "source": [
    "nested[1]"
   ]
  },
  {
   "cell_type": "markdown",
   "id": "2df8efa5",
   "metadata": {},
   "source": [
    "We can access elements inside the inner lists using `[]` again:"
   ]
  },
  {
   "cell_type": "code",
   "execution_count": 34,
   "id": "2b4f91fe",
   "metadata": {},
   "outputs": [
    {
     "data": {
      "text/plain": [
       "2"
      ]
     },
     "execution_count": 34,
     "metadata": {},
     "output_type": "execute_result"
    }
   ],
   "source": [
    "nested[0][1]"
   ]
  },
  {
   "cell_type": "code",
   "execution_count": 35,
   "id": "bf380a4f",
   "metadata": {},
   "outputs": [
    {
     "data": {
      "text/plain": [
       "5"
      ]
     },
     "execution_count": 35,
     "metadata": {},
     "output_type": "execute_result"
    }
   ],
   "source": [
    "nested[1][-1]"
   ]
  },
  {
   "cell_type": "code",
   "execution_count": 36,
   "id": "86a540eb",
   "metadata": {},
   "outputs": [
    {
     "name": "stdout",
     "output_type": "stream",
     "text": [
      "[[1, 2], [3, 4, 'hello']]\n"
     ]
    }
   ],
   "source": [
    "nested[1][2] = 'hello'\n",
    "\n",
    "print(nested)"
   ]
  },
  {
   "cell_type": "markdown",
   "id": "97d7323b",
   "metadata": {},
   "source": [
    "## List slicing"
   ]
  },
  {
   "cell_type": "markdown",
   "id": "9ccdd44e",
   "metadata": {},
   "source": [
    "List slicing can be used to generate a sublist of a list.\n",
    "We use the syntax `mylist[m:n]` to access the elements whose indices are greater than or equal to `m` and less than `n`. **Note**: this does not include the index `n`."
   ]
  },
  {
   "cell_type": "code",
   "execution_count": 38,
   "id": "a7fdfa9e",
   "metadata": {},
   "outputs": [],
   "source": [
    "letters = ['a','b','c','d','e','f','g','h']"
   ]
  },
  {
   "cell_type": "code",
   "execution_count": 39,
   "id": "7794b16d",
   "metadata": {},
   "outputs": [
    {
     "data": {
      "text/plain": [
       "['b', 'c', 'd', 'e']"
      ]
     },
     "execution_count": 39,
     "metadata": {},
     "output_type": "execute_result"
    }
   ],
   "source": [
    "letters[1:5]"
   ]
  },
  {
   "cell_type": "markdown",
   "id": "32a9a1e3",
   "metadata": {},
   "source": [
    "Other syntax: We can use `mylist[m:]` to access elements whose index is greater than or equal to `m`."
   ]
  },
  {
   "cell_type": "code",
   "execution_count": 40,
   "id": "5a87fbf6",
   "metadata": {},
   "outputs": [
    {
     "data": {
      "text/plain": [
       "['c', 'd', 'e', 'f', 'g', 'h']"
      ]
     },
     "execution_count": 40,
     "metadata": {},
     "output_type": "execute_result"
    }
   ],
   "source": [
    "letters[2:]"
   ]
  },
  {
   "cell_type": "markdown",
   "id": "6180e328",
   "metadata": {},
   "source": [
    "We can use `mylist[:n]` to access elements whose index is less than `n`."
   ]
  },
  {
   "cell_type": "code",
   "execution_count": 42,
   "id": "3b20a2a2",
   "metadata": {},
   "outputs": [
    {
     "data": {
      "text/plain": [
       "['a', 'b', 'c', 'd', 'e']"
      ]
     },
     "execution_count": 42,
     "metadata": {},
     "output_type": "execute_result"
    }
   ],
   "source": [
    "letters[:5]"
   ]
  },
  {
   "cell_type": "markdown",
   "id": "33aafa86",
   "metadata": {},
   "source": [
    "We can combine this with negative indices:"
   ]
  },
  {
   "cell_type": "code",
   "execution_count": 45,
   "id": "e14a0521",
   "metadata": {},
   "outputs": [
    {
     "data": {
      "text/plain": [
       "['b', 'c', 'd', 'e', 'f']"
      ]
     },
     "execution_count": 45,
     "metadata": {},
     "output_type": "execute_result"
    }
   ],
   "source": [
    "letters[1:-2]"
   ]
  },
  {
   "cell_type": "markdown",
   "id": "e3735ebb",
   "metadata": {},
   "source": [
    "We can use `mylist[m:n:k]` to access the elements `mylist[m]`, `mylist[m+k]`, `mylist[m+2*k]`... until we reach the `n`th index."
   ]
  },
  {
   "cell_type": "code",
   "execution_count": 46,
   "id": "8788a0dd",
   "metadata": {},
   "outputs": [
    {
     "data": {
      "text/plain": [
       "['a', 'c', 'e', 'g']"
      ]
     },
     "execution_count": 46,
     "metadata": {},
     "output_type": "execute_result"
    }
   ],
   "source": [
    "letters[::2]"
   ]
  },
  {
   "cell_type": "code",
   "execution_count": 47,
   "id": "fc4572cc",
   "metadata": {},
   "outputs": [
    {
     "data": {
      "text/plain": [
       "['b', 'd', 'f', 'h']"
      ]
     },
     "execution_count": 47,
     "metadata": {},
     "output_type": "execute_result"
    }
   ],
   "source": [
    "letters[1::2]"
   ]
  },
  {
   "cell_type": "code",
   "execution_count": 48,
   "id": "774576f4",
   "metadata": {},
   "outputs": [
    {
     "data": {
      "text/plain": [
       "['b', 'd', 'f']"
      ]
     },
     "execution_count": 48,
     "metadata": {},
     "output_type": "execute_result"
    }
   ],
   "source": [
    "letters[1:-1:2]"
   ]
  },
  {
   "cell_type": "code",
   "execution_count": 49,
   "id": "703fb70f",
   "metadata": {
    "scrolled": true
   },
   "outputs": [
    {
     "data": {
      "text/plain": [
       "['a', 'd', 'g']"
      ]
     },
     "execution_count": 49,
     "metadata": {},
     "output_type": "execute_result"
    }
   ],
   "source": [
    "letters[::3]"
   ]
  },
  {
   "cell_type": "markdown",
   "id": "ad3dc68e",
   "metadata": {},
   "source": [
    "We can use slicing to change several elements in a list at once."
   ]
  },
  {
   "cell_type": "code",
   "execution_count": 50,
   "id": "f6add866",
   "metadata": {},
   "outputs": [],
   "source": [
    "a = [1,2,3,4,5,6,7,8]"
   ]
  },
  {
   "cell_type": "code",
   "execution_count": 51,
   "id": "f8e964cd",
   "metadata": {},
   "outputs": [],
   "source": [
    "a[:3] = [100,100,100]"
   ]
  },
  {
   "cell_type": "code",
   "execution_count": 52,
   "id": "ccac4340",
   "metadata": {},
   "outputs": [
    {
     "name": "stdout",
     "output_type": "stream",
     "text": [
      "[100, 100, 100, 4, 5, 6, 7, 8]\n"
     ]
    }
   ],
   "source": [
    "print(a)"
   ]
  },
  {
   "cell_type": "markdown",
   "id": "70de5205",
   "metadata": {},
   "source": [
    "We've seen how lists and strings can be treated similarly. We can use slicing with strings as well."
   ]
  },
  {
   "cell_type": "code",
   "execution_count": 56,
   "id": "40f33872",
   "metadata": {},
   "outputs": [],
   "source": [
    "s = 'abcdefghijklmnopqrstuvwxyz'"
   ]
  },
  {
   "cell_type": "code",
   "execution_count": 57,
   "id": "f6b6f9d9",
   "metadata": {},
   "outputs": [
    {
     "data": {
      "text/plain": [
       "'b'"
      ]
     },
     "execution_count": 57,
     "metadata": {},
     "output_type": "execute_result"
    }
   ],
   "source": [
    "s[1]"
   ]
  },
  {
   "cell_type": "code",
   "execution_count": 58,
   "id": "79aac3e5",
   "metadata": {},
   "outputs": [
    {
     "data": {
      "text/plain": [
       "'bglqv'"
      ]
     },
     "execution_count": 58,
     "metadata": {},
     "output_type": "execute_result"
    }
   ],
   "source": [
    "s[1:-1:5]"
   ]
  },
  {
   "cell_type": "code",
   "execution_count": 59,
   "id": "959d27b9",
   "metadata": {},
   "outputs": [],
   "source": [
    "filename = 'week2_notebook.ipynb'"
   ]
  },
  {
   "cell_type": "code",
   "execution_count": 60,
   "id": "68161c21",
   "metadata": {},
   "outputs": [
    {
     "name": "stdout",
     "output_type": "stream",
     "text": [
      "ipynb\n"
     ]
    }
   ],
   "source": [
    "filetype = filename[-5:]\n",
    "print(filetype)"
   ]
  }
 ],
 "metadata": {
  "kernelspec": {
   "display_name": "Python 3",
   "language": "python",
   "name": "python3"
  },
  "language_info": {
   "codemirror_mode": {
    "name": "ipython",
    "version": 3
   },
   "file_extension": ".py",
   "mimetype": "text/x-python",
   "name": "python",
   "nbconvert_exporter": "python",
   "pygments_lexer": "ipython3",
   "version": "3.8.8"
  }
 },
 "nbformat": 4,
 "nbformat_minor": 5
}
