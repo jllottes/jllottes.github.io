{
 "cells": [
  {
   "cell_type": "markdown",
   "id": "540157d6",
   "metadata": {},
   "source": [
    "# Wednesday, September 4th, 2024"
   ]
  },
  {
   "cell_type": "markdown",
   "id": "d1d9d441",
   "metadata": {},
   "source": [
    "## Repetition: `list`s and `for` loops in Python"
   ]
  },
  {
   "cell_type": "markdown",
   "id": "f49f0b9f",
   "metadata": {},
   "source": [
    "Lists are created by enclosing some objects (separated by commas) in square brackets:"
   ]
  },
  {
   "cell_type": "code",
   "execution_count": 2,
   "id": "6287f084",
   "metadata": {},
   "outputs": [
    {
     "name": "stdout",
     "output_type": "stream",
     "text": [
      "[3, 4, 5, 9, 10, 11]\n"
     ]
    }
   ],
   "source": [
    "mylist = [3, 4, 5, 9, 10 ,11]\n",
    "\n",
    "print(mylist)"
   ]
  },
  {
   "cell_type": "code",
   "execution_count": 3,
   "id": "82a08517",
   "metadata": {},
   "outputs": [
    {
     "name": "stdout",
     "output_type": "stream",
     "text": [
      "['Hello', 'my name is', 'Jon', 3.141592]\n"
     ]
    }
   ],
   "source": [
    "mylist2 = ['Hello', 'my name is', 'Jon', 3.141592]\n",
    "\n",
    "print(mylist2)"
   ]
  },
  {
   "cell_type": "markdown",
   "id": "313bc151",
   "metadata": {},
   "source": [
    "We can access elements in a list using square brackets around an index.\n",
    "\n",
    "Python is a 0-based indexing language. That is, the first element in the list has index `0`, not index `1`."
   ]
  },
  {
   "cell_type": "code",
   "execution_count": 4,
   "id": "fb4d82cb",
   "metadata": {},
   "outputs": [
    {
     "data": {
      "text/plain": [
       "3"
      ]
     },
     "execution_count": 4,
     "metadata": {},
     "output_type": "execute_result"
    }
   ],
   "source": [
    "mylist[0]"
   ]
  },
  {
   "cell_type": "code",
   "execution_count": 7,
   "id": "b237252a",
   "metadata": {},
   "outputs": [
    {
     "data": {
      "text/plain": [
       "'Jon'"
      ]
     },
     "execution_count": 7,
     "metadata": {},
     "output_type": "execute_result"
    }
   ],
   "source": [
    "mylist2[2]"
   ]
  },
  {
   "cell_type": "markdown",
   "id": "5901bfb5",
   "metadata": {},
   "source": [
    "## Operations on lists:"
   ]
  },
  {
   "cell_type": "code",
   "execution_count": 8,
   "id": "69324628",
   "metadata": {},
   "outputs": [
    {
     "data": {
      "text/plain": [
       "'this is a stringthis is a string'"
      ]
     },
     "execution_count": 8,
     "metadata": {},
     "output_type": "execute_result"
    }
   ],
   "source": [
    "'this is a string' * 2"
   ]
  },
  {
   "cell_type": "markdown",
   "id": "a215e0c1",
   "metadata": {},
   "source": [
    "We can multiply lists by integers to concatenate the list with itself:"
   ]
  },
  {
   "cell_type": "code",
   "execution_count": 9,
   "id": "1303c87d",
   "metadata": {},
   "outputs": [
    {
     "data": {
      "text/plain": [
       "[3, 4, 5, 9, 10, 11, 3, 4, 5, 9, 10, 11]"
      ]
     },
     "execution_count": 9,
     "metadata": {},
     "output_type": "execute_result"
    }
   ],
   "source": [
    "mylist * 2"
   ]
  },
  {
   "cell_type": "markdown",
   "id": "7edaeaed",
   "metadata": {},
   "source": [
    "We can add two lists together to concatenate them:"
   ]
  },
  {
   "cell_type": "code",
   "execution_count": 10,
   "id": "3cf99881",
   "metadata": {},
   "outputs": [
    {
     "data": {
      "text/plain": [
       "[3, 4, 5, 9, 10, 11, 'Hello', 'my name is', 'Jon', 3.141592]"
      ]
     },
     "execution_count": 10,
     "metadata": {},
     "output_type": "execute_result"
    }
   ],
   "source": [
    "mylist + mylist2"
   ]
  },
  {
   "cell_type": "markdown",
   "id": "f18dd432",
   "metadata": {},
   "source": [
    "We can also add an element to a list using the `.append()` method:"
   ]
  },
  {
   "cell_type": "code",
   "execution_count": 12,
   "id": "4726f380",
   "metadata": {},
   "outputs": [
    {
     "name": "stdout",
     "output_type": "stream",
     "text": [
      "[3, 4, 5, 9, 10, 11]\n",
      "[3, 4, 5, 9, 10, 11, 15]\n"
     ]
    }
   ],
   "source": [
    "print(mylist)\n",
    "\n",
    "mylist.append(15)\n",
    "\n",
    "print(mylist)"
   ]
  },
  {
   "cell_type": "markdown",
   "id": "5a06ea75",
   "metadata": {},
   "source": [
    "The `.extend()` method can be used add an entire list:"
   ]
  },
  {
   "cell_type": "code",
   "execution_count": 13,
   "id": "9d23bc9f",
   "metadata": {},
   "outputs": [
    {
     "name": "stdout",
     "output_type": "stream",
     "text": [
      "[3, 4, 5, 9, 10, 11, 15]\n",
      "[3, 4, 5, 9, 10, 11, 15, 20, 21, 22]\n"
     ]
    }
   ],
   "source": [
    "print(mylist)\n",
    "\n",
    "mylist.extend([20, 21, 22])\n",
    "\n",
    "print(mylist)"
   ]
  },
  {
   "cell_type": "markdown",
   "id": "b0ffa40f",
   "metadata": {},
   "source": [
    "## Iteration: `for` loops"
   ]
  },
  {
   "cell_type": "markdown",
   "id": "61530dc0",
   "metadata": {},
   "source": [
    "<code>for \\<iteration variable\\> in \\<some list\\>:\n",
    "    \\<do something\\>\n",
    "    \\<do something else\\>\n",
    "\\<done with the iteration\\>\n",
    "    \n",
    "</code>"
   ]
  },
  {
   "cell_type": "code",
   "execution_count": 15,
   "id": "765d6038",
   "metadata": {},
   "outputs": [
    {
     "name": "stdout",
     "output_type": "stream",
     "text": [
      "9\n",
      "12\n",
      "15\n",
      "27\n",
      "30\n",
      "33\n",
      "45\n",
      "60\n",
      "63\n",
      "66\n"
     ]
    }
   ],
   "source": [
    "for number in mylist:\n",
    "    print(3*number)"
   ]
  },
  {
   "cell_type": "markdown",
   "id": "ccf68f9a",
   "metadata": {},
   "source": [
    "We can check whether a given number is even by checking whether it disible by 2. In other words, check if the remainder is 0 after dividing by 2 (using the modulus operation `%`)"
   ]
  },
  {
   "cell_type": "code",
   "execution_count": 16,
   "id": "00160494",
   "metadata": {},
   "outputs": [
    {
     "name": "stdout",
     "output_type": "stream",
     "text": [
      "4\n",
      "10\n",
      "20\n",
      "22\n"
     ]
    }
   ],
   "source": [
    "for number in mylist:\n",
    "    if number % 2 == 0:\n",
    "        print(number)"
   ]
  },
  {
   "cell_type": "markdown",
   "id": "6e6d4ebe",
   "metadata": {},
   "source": [
    "**Exercise:** Construct a list, called `cubes`, that contains the first 10 cubic numbers, e.g. 1, 8, 27, ....\n",
    "\n",
    "Suggestions: \n",
    "* First, create a list containing the first 10 positive integers.\n",
    "* Create an empty list, `cubes = []`\n",
    "* Then iterate through this list to build a new list with the cube of each number (using `.append()`)\n",
    "\n"
   ]
  },
  {
   "cell_type": "code",
   "execution_count": 20,
   "id": "4e92e98b",
   "metadata": {},
   "outputs": [
    {
     "name": "stdout",
     "output_type": "stream",
     "text": [
      "[1, 8, 27, 64, 125, 216, 343, 512, 729, 1000]\n"
     ]
    }
   ],
   "source": [
    "integers = [1, 2, 3, 4, 5, 6, 7, 8, 9, 10]\n",
    "\n",
    "cubes = []\n",
    "\n",
    "for integer in integers:\n",
    "    cube = integer**3\n",
    "    cubes.append(cube)\n",
    "\n",
    "print(cubes)"
   ]
  },
  {
   "cell_type": "markdown",
   "id": "27e38484",
   "metadata": {},
   "source": [
    "Lists and strings behave similarly to one another in Python. We can access elements of a string using `[<index>]` and we can iterate through strings:"
   ]
  },
  {
   "cell_type": "code",
   "execution_count": 21,
   "id": "7b468a91",
   "metadata": {},
   "outputs": [],
   "source": [
    "my_string = 'Buffalo'"
   ]
  },
  {
   "cell_type": "code",
   "execution_count": 23,
   "id": "5c0fa518",
   "metadata": {},
   "outputs": [
    {
     "data": {
      "text/plain": [
       "'u'"
      ]
     },
     "execution_count": 23,
     "metadata": {},
     "output_type": "execute_result"
    }
   ],
   "source": [
    "my_string[1]"
   ]
  },
  {
   "cell_type": "code",
   "execution_count": 24,
   "id": "101b1c57",
   "metadata": {},
   "outputs": [
    {
     "name": "stdout",
     "output_type": "stream",
     "text": [
      "B\n",
      "u\n",
      "f\n",
      "f\n",
      "a\n",
      "l\n",
      "o\n"
     ]
    }
   ],
   "source": [
    "for letter in my_string:\n",
    "    print(letter)"
   ]
  },
  {
   "cell_type": "markdown",
   "id": "b5234f19",
   "metadata": {},
   "source": [
    "For both lists and strings, we can do Boolean check for inclusion. That is, we can check if an element is in a list, or a character is in a string:"
   ]
  },
  {
   "cell_type": "code",
   "execution_count": 25,
   "id": "cc588edc",
   "metadata": {},
   "outputs": [
    {
     "data": {
      "text/plain": [
       "True"
      ]
     },
     "execution_count": 25,
     "metadata": {},
     "output_type": "execute_result"
    }
   ],
   "source": [
    "8 in cubes"
   ]
  },
  {
   "cell_type": "code",
   "execution_count": 26,
   "id": "a037df2a",
   "metadata": {},
   "outputs": [
    {
     "data": {
      "text/plain": [
       "False"
      ]
     },
     "execution_count": 26,
     "metadata": {},
     "output_type": "execute_result"
    }
   ],
   "source": [
    "9 in cubes"
   ]
  },
  {
   "cell_type": "code",
   "execution_count": 27,
   "id": "27e61412",
   "metadata": {},
   "outputs": [
    {
     "data": {
      "text/plain": [
       "False"
      ]
     },
     "execution_count": 27,
     "metadata": {},
     "output_type": "execute_result"
    }
   ],
   "source": [
    "'i' in my_string"
   ]
  },
  {
   "cell_type": "markdown",
   "id": "59429fe3",
   "metadata": {},
   "source": [
    "We can also use the `not` modifier on any Boolean expression to invert it:"
   ]
  },
  {
   "cell_type": "code",
   "execution_count": 28,
   "id": "8f61e259",
   "metadata": {},
   "outputs": [
    {
     "data": {
      "text/plain": [
       "False"
      ]
     },
     "execution_count": 28,
     "metadata": {},
     "output_type": "execute_result"
    }
   ],
   "source": [
    "not True"
   ]
  },
  {
   "cell_type": "code",
   "execution_count": 29,
   "id": "cd14e313",
   "metadata": {},
   "outputs": [
    {
     "data": {
      "text/plain": [
       "True"
      ]
     },
     "execution_count": 29,
     "metadata": {},
     "output_type": "execute_result"
    }
   ],
   "source": [
    "not False"
   ]
  },
  {
   "cell_type": "code",
   "execution_count": 30,
   "id": "09ef6ab2",
   "metadata": {},
   "outputs": [
    {
     "data": {
      "text/plain": [
       "False"
      ]
     },
     "execution_count": 30,
     "metadata": {},
     "output_type": "execute_result"
    }
   ],
   "source": [
    "8 not in cubes"
   ]
  },
  {
   "cell_type": "code",
   "execution_count": 31,
   "id": "063ac16c",
   "metadata": {},
   "outputs": [
    {
     "data": {
      "text/plain": [
       "True"
      ]
     },
     "execution_count": 31,
     "metadata": {},
     "output_type": "execute_result"
    }
   ],
   "source": [
    "9 not in cubes"
   ]
  },
  {
   "cell_type": "code",
   "execution_count": 32,
   "id": "b2738386",
   "metadata": {},
   "outputs": [
    {
     "data": {
      "text/plain": [
       "True"
      ]
     },
     "execution_count": 32,
     "metadata": {},
     "output_type": "execute_result"
    }
   ],
   "source": [
    "not (9 in cubes)"
   ]
  },
  {
   "cell_type": "markdown",
   "id": "eabecc0b",
   "metadata": {},
   "source": [
    "**Exercise:** Iterate through the letters in `Buffalo` and print only the consonants (i.e. non-vowels)."
   ]
  },
  {
   "cell_type": "code",
   "execution_count": 33,
   "id": "ca3d5c5c",
   "metadata": {},
   "outputs": [
    {
     "name": "stdout",
     "output_type": "stream",
     "text": [
      "B\n",
      "f\n",
      "f\n",
      "l\n"
     ]
    }
   ],
   "source": [
    "vowels = ['a', 'e', 'i', 'o', 'u', 'y', 'A', 'E', 'I', 'O', 'U', 'Y']\n",
    "\n",
    "for letter in my_string:\n",
    "    if letter not in vowels:\n",
    "        print(letter)"
   ]
  },
  {
   "cell_type": "code",
   "execution_count": 34,
   "id": "ed4d324a",
   "metadata": {},
   "outputs": [
    {
     "name": "stdout",
     "output_type": "stream",
     "text": [
      "B\n",
      "f\n",
      "f\n",
      "l\n"
     ]
    }
   ],
   "source": [
    "vowels = 'aeiouyAEIOUY'\n",
    "\n",
    "for letter in my_string:\n",
    "    if letter not in vowels:\n",
    "        print(letter)"
   ]
  },
  {
   "cell_type": "markdown",
   "id": "29497c47",
   "metadata": {},
   "source": [
    "We can also access elements of lists using negative indices.\n",
    "\n",
    "* `[-1]` returns the last element of a list\n",
    "* `[-2]` returns the second last element\n"
   ]
  },
  {
   "cell_type": "code",
   "execution_count": 35,
   "id": "a2db3213",
   "metadata": {},
   "outputs": [
    {
     "name": "stdout",
     "output_type": "stream",
     "text": [
      "Buffalo\n"
     ]
    }
   ],
   "source": [
    "print(my_string)"
   ]
  },
  {
   "cell_type": "code",
   "execution_count": 37,
   "id": "f82149fa",
   "metadata": {},
   "outputs": [
    {
     "data": {
      "text/plain": [
       "'o'"
      ]
     },
     "execution_count": 37,
     "metadata": {},
     "output_type": "execute_result"
    }
   ],
   "source": [
    "my_string[-1]"
   ]
  },
  {
   "cell_type": "code",
   "execution_count": 52,
   "id": "018fefcc",
   "metadata": {},
   "outputs": [
    {
     "ename": "IndexError",
     "evalue": "string index out of range",
     "output_type": "error",
     "traceback": [
      "\u001b[1;31m---------------------------------------------------------------------------\u001b[0m",
      "\u001b[1;31mIndexError\u001b[0m                                Traceback (most recent call last)",
      "Cell \u001b[1;32mIn[52], line 1\u001b[0m\n\u001b[1;32m----> 1\u001b[0m my_string[\u001b[38;5;241m-\u001b[39m\u001b[38;5;241m8\u001b[39m]\n",
      "\u001b[1;31mIndexError\u001b[0m: string index out of range"
     ]
    }
   ],
   "source": [
    "my_string[-8]"
   ]
  },
  {
   "cell_type": "code",
   "execution_count": 51,
   "id": "94bbd248",
   "metadata": {},
   "outputs": [
    {
     "ename": "IndexError",
     "evalue": "string index out of range",
     "output_type": "error",
     "traceback": [
      "\u001b[1;31m---------------------------------------------------------------------------\u001b[0m",
      "\u001b[1;31mIndexError\u001b[0m                                Traceback (most recent call last)",
      "Cell \u001b[1;32mIn[51], line 1\u001b[0m\n\u001b[1;32m----> 1\u001b[0m my_string[\u001b[38;5;241m7\u001b[39m]\n",
      "\u001b[1;31mIndexError\u001b[0m: string index out of range"
     ]
    }
   ],
   "source": [
    "my_string[7]"
   ]
  },
  {
   "cell_type": "markdown",
   "id": "b5f17c80",
   "metadata": {},
   "source": [
    "There are other types of loops, for example `while` loops. The syntax is:\n",
    "\n",
    "<code>while \\<some Boolean expression is True\\>:\n",
    "    \\<do something\\>\n",
    "\\<done with the iteration\\>\n",
    "</code>"
   ]
  },
  {
   "cell_type": "code",
   "execution_count": 53,
   "id": "200010b3",
   "metadata": {},
   "outputs": [
    {
     "name": "stdout",
     "output_type": "stream",
     "text": [
      "10\n"
     ]
    }
   ],
   "source": [
    "number = 1\n",
    "\n",
    "while number < 10:\n",
    "    number = number + 3\n",
    "    \n",
    "print(number)"
   ]
  },
  {
   "cell_type": "markdown",
   "id": "1adb0681",
   "metadata": {},
   "source": [
    "**Warning:** Be very careful with `while` loops to ensure that they will eventually terminate."
   ]
  },
  {
   "cell_type": "code",
   "execution_count": 54,
   "id": "63b71aeb",
   "metadata": {},
   "outputs": [
    {
     "ename": "KeyboardInterrupt",
     "evalue": "",
     "output_type": "error",
     "traceback": [
      "\u001b[1;31m---------------------------------------------------------------------------\u001b[0m",
      "\u001b[1;31mKeyboardInterrupt\u001b[0m                         Traceback (most recent call last)",
      "Cell \u001b[1;32mIn[54], line 3\u001b[0m\n\u001b[0;32m      1\u001b[0m number \u001b[38;5;241m=\u001b[39m \u001b[38;5;241m1\u001b[39m\n\u001b[1;32m----> 3\u001b[0m \u001b[38;5;28;01mwhile\u001b[39;00m number \u001b[38;5;241m>\u001b[39m\u001b[38;5;241m=\u001b[39m \u001b[38;5;241m1\u001b[39m:\n\u001b[0;32m      4\u001b[0m     number \u001b[38;5;241m=\u001b[39m number \u001b[38;5;241m+\u001b[39m \u001b[38;5;241m3\u001b[39m\n\u001b[0;32m      6\u001b[0m \u001b[38;5;28mprint\u001b[39m(number)\n",
      "\u001b[1;31mKeyboardInterrupt\u001b[0m: "
     ]
    }
   ],
   "source": [
    "number = 1\n",
    "\n",
    "while number >= 1:\n",
    "    number = number + 3\n",
    "    \n",
    "print(number)"
   ]
  },
  {
   "cell_type": "code",
   "execution_count": 55,
   "id": "c90951fe",
   "metadata": {},
   "outputs": [
    {
     "name": "stdout",
     "output_type": "stream",
     "text": [
      "940028011\n"
     ]
    }
   ],
   "source": [
    "print(number)"
   ]
  },
  {
   "cell_type": "markdown",
   "id": "042dc273",
   "metadata": {},
   "source": [
    "**Exercise**: Use a `while` loop to construct a list of all cubic integers that are less than 10,000."
   ]
  },
  {
   "cell_type": "code",
   "execution_count": 56,
   "id": "2f0959b4",
   "metadata": {},
   "outputs": [
    {
     "name": "stdout",
     "output_type": "stream",
     "text": [
      "[1, 8, 27, 64, 125, 216, 343, 512, 729, 1000, 1331, 1728, 2197, 2744, 3375, 4096, 4913, 5832, 6859, 8000, 9261, 10648]\n"
     ]
    }
   ],
   "source": [
    "integer = 1\n",
    "cube = integer**3\n",
    "\n",
    "cubes = [cube]\n",
    "\n",
    "while cube < 10000:\n",
    "    integer += 1\n",
    "    cube = integer**3\n",
    "    \n",
    "    cubes.append(cube)\n",
    "    \n",
    "print(cubes)"
   ]
  },
  {
   "cell_type": "markdown",
   "id": "572b19f2",
   "metadata": {},
   "source": [
    "Problem: the list above includes a cube that is greater than 10,000.\n",
    "\n",
    "We can fix this by appending `cube` before updating `cube`, and starting `cubes` as an empty list."
   ]
  },
  {
   "cell_type": "code",
   "execution_count": 58,
   "id": "3d594c3a",
   "metadata": {},
   "outputs": [
    {
     "name": "stdout",
     "output_type": "stream",
     "text": [
      "[1, 8, 27, 64, 125, 216, 343, 512, 729, 1000, 1331, 1728, 2197, 2744, 3375, 4096, 4913, 5832, 6859, 8000, 9261]\n"
     ]
    }
   ],
   "source": [
    "integer = 1\n",
    "cube = integer**3\n",
    "\n",
    "cubes = []\n",
    "\n",
    "while cube < 10000:\n",
    "    cubes.append(cube)\n",
    "    \n",
    "    integer += 1\n",
    "    cube = integer**3\n",
    "    \n",
    "print(cubes)"
   ]
  },
  {
   "cell_type": "markdown",
   "id": "a7357f55",
   "metadata": {},
   "source": [
    "## Other commands to use with `for` or `while` loops:\n",
    "\n",
    "The `break` command will halt a loop."
   ]
  },
  {
   "cell_type": "code",
   "execution_count": 59,
   "id": "1fa4872c",
   "metadata": {},
   "outputs": [
    {
     "name": "stdout",
     "output_type": "stream",
     "text": [
      "B\n",
      "u\n",
      "f\n",
      "f\n",
      "a\n"
     ]
    }
   ],
   "source": [
    "for letter in 'Buffalo':\n",
    "    print(letter)\n",
    "    if letter == 'a':\n",
    "        break"
   ]
  },
  {
   "cell_type": "markdown",
   "id": "711ee9f9",
   "metadata": {},
   "source": [
    "The `continue` command will skip immediately to the next iteration of the loop."
   ]
  },
  {
   "cell_type": "code",
   "execution_count": 60,
   "id": "34aec3b9",
   "metadata": {},
   "outputs": [
    {
     "name": "stdout",
     "output_type": "stream",
     "text": [
      "B\n",
      "u\n",
      "f\n",
      "f\n",
      "l\n",
      "o\n"
     ]
    }
   ],
   "source": [
    "for letter in 'Buffalo':\n",
    "    if letter == 'a':\n",
    "        continue\n",
    "    print(letter)"
   ]
  },
  {
   "cell_type": "code",
   "execution_count": 64,
   "id": "27ceb541",
   "metadata": {},
   "outputs": [
    {
     "name": "stdout",
     "output_type": "stream",
     "text": [
      "[1, 8, 27, 64, 125, 216, 343, 512, 729, 1000, 1331, 1728, 2197, 2744, 3375, 4096, 4913, 5832, 6859, 8000, 9261]\n"
     ]
    }
   ],
   "source": [
    "cubes = []\n",
    "\n",
    "integer = 1\n",
    "\n",
    "while True:\n",
    "    cube = integer ** 3\n",
    "    \n",
    "    if cube >= 10000:\n",
    "        break\n",
    "        \n",
    "    cubes.append(cube)\n",
    "    integer += 1\n",
    "        \n",
    "print(cubes)"
   ]
  },
  {
   "cell_type": "markdown",
   "id": "5260ec40",
   "metadata": {},
   "source": [
    "**Exercise:** Construct a list of the first 5 numbers that are both squares and cubes.\n",
    "\n",
    "It will be helpful to use the `len()` function, which returns the length of a list."
   ]
  },
  {
   "cell_type": "code",
   "execution_count": 65,
   "id": "e3fa3954",
   "metadata": {},
   "outputs": [
    {
     "data": {
      "text/plain": [
       "4"
      ]
     },
     "execution_count": 65,
     "metadata": {},
     "output_type": "execute_result"
    }
   ],
   "source": [
    "len([1,2,3,4])"
   ]
  },
  {
   "cell_type": "markdown",
   "id": "b5cc4de7",
   "metadata": {},
   "source": [
    "**Sub-exercise:** Write code that will determine if a given integer `n` is a square or not."
   ]
  },
  {
   "cell_type": "code",
   "execution_count": 69,
   "id": "0029c999",
   "metadata": {},
   "outputs": [
    {
     "data": {
      "text/plain": [
       "False"
      ]
     },
     "execution_count": 69,
     "metadata": {},
     "output_type": "execute_result"
    }
   ],
   "source": [
    "n = 10\n",
    "\n",
    "sqrt_n = n**.5\n",
    "\n",
    "int(sqrt_n) == sqrt_n"
   ]
  },
  {
   "cell_type": "code",
   "execution_count": 73,
   "id": "c7d0d96d",
   "metadata": {},
   "outputs": [
    {
     "name": "stdout",
     "output_type": "stream",
     "text": [
      "[1, 64, 729, 4096, 15625]\n"
     ]
    }
   ],
   "source": [
    "square_cubes = []\n",
    "\n",
    "integer = 1\n",
    "\n",
    "while len(square_cubes) < 5:\n",
    "    cube = integer**3\n",
    "    \n",
    "    sqrt_cube = cube ** .5\n",
    "    if int(sqrt_cube) == sqrt_cube:\n",
    "        square_cubes.append(cube)\n",
    "        \n",
    "    integer += 1\n",
    "    \n",
    "print(square_cubes)"
   ]
  },
  {
   "cell_type": "code",
   "execution_count": 74,
   "id": "fbc7bc0f",
   "metadata": {},
   "outputs": [
    {
     "name": "stdout",
     "output_type": "stream",
     "text": [
      "1\n",
      "64\n",
      "729\n",
      "4096\n",
      "15625\n"
     ]
    }
   ],
   "source": [
    "for integer in [1,2,3,4,5]:\n",
    "    print(integer**6)"
   ]
  },
  {
   "cell_type": "code",
   "execution_count": null,
   "id": "d060c64c",
   "metadata": {},
   "outputs": [],
   "source": []
  }
 ],
 "metadata": {
  "kernelspec": {
   "display_name": "Python 3 (ipykernel)",
   "language": "python",
   "name": "python3"
  },
  "language_info": {
   "codemirror_mode": {
    "name": "ipython",
    "version": 3
   },
   "file_extension": ".py",
   "mimetype": "text/x-python",
   "name": "python",
   "nbconvert_exporter": "python",
   "pygments_lexer": "ipython3",
   "version": "3.11.5"
  }
 },
 "nbformat": 4,
 "nbformat_minor": 5
}
