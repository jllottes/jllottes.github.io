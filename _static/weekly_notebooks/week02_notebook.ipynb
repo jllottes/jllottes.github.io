{
 "cells": [
  {
   "cell_type": "markdown",
   "id": "f276bf17",
   "metadata": {},
   "source": [
    "# Wednesday, September 3rd, 2025"
   ]
  },
  {
   "cell_type": "markdown",
   "id": "9fbb7197",
   "metadata": {},
   "source": [
    "## Working with loops in Python"
   ]
  },
  {
   "cell_type": "markdown",
   "id": "b4d3f07a",
   "metadata": {},
   "source": [
    "Last week, we wrote nested loops that iterated through all combinations of integers from the two lists `[1,2,3]` and `[4,5,6]` and printed out the sum for each combination."
   ]
  },
  {
   "cell_type": "code",
   "execution_count": 1,
   "id": "1f7a0356",
   "metadata": {},
   "outputs": [
    {
     "name": "stdout",
     "output_type": "stream",
     "text": [
      "1 + 4 = 5\n",
      "1 + 5 = 6\n",
      "1 + 6 = 7\n",
      "Done with n=1\n",
      "2 + 4 = 6\n",
      "2 + 5 = 7\n",
      "2 + 6 = 8\n",
      "Done with n=2\n",
      "3 + 4 = 7\n",
      "3 + 5 = 8\n",
      "3 + 6 = 9\n",
      "Done with n=3\n",
      "Done\n"
     ]
    }
   ],
   "source": [
    "for n in [1,2,3]:\n",
    "    for m in [4,5,6]:\n",
    "        print('{} + {} = {}'.format(n,m,n+m))\n",
    "    print('Done with n={}'.format(n))\n",
    "print('Done')"
   ]
  },
  {
   "cell_type": "markdown",
   "id": "29c18c6a",
   "metadata": {},
   "source": [
    "What if we wanted to iterate through pairs from each list? That is, suppose we want to consider the lists in parallel and iterate through the three pairs `(1,4)`, `(2,5)`, and `(3,6)`."
   ]
  },
  {
   "cell_type": "code",
   "execution_count": 2,
   "id": "09ff5296-2456-4884-9024-66d946892f9c",
   "metadata": {},
   "outputs": [
    {
     "name": "stdout",
     "output_type": "stream",
     "text": [
      "1 + 4 = 5\n",
      "2 + 5 = 7\n",
      "3 + 6 = 9\n"
     ]
    }
   ],
   "source": [
    "n_list = [1,2,3]\n",
    "m_list = [4,5,6]\n",
    "\n",
    "for i in [0,1,2]:\n",
    "    n = n_list[i]\n",
    "    m = m_list[i]\n",
    "    print('{} + {} = {}'.format(n,m,n+m))"
   ]
  },
  {
   "cell_type": "markdown",
   "id": "4a9a49a7-e786-44c7-8797-93587ec6b0f2",
   "metadata": {},
   "source": [
    "Later on, we'll see how to use the `zip` function to achieve this goal in a more natual (and extendable) way."
   ]
  },
  {
   "cell_type": "markdown",
   "id": "4fb9de42-ba34-40f6-b676-63fe1d7323b5",
   "metadata": {},
   "source": [
    "## The `range` function"
   ]
  },
  {
   "cell_type": "markdown",
   "id": "3b34c34e",
   "metadata": {},
   "source": [
    "We can use other types of iterables to setup `for` loops. In the examples above, we've been iterating through a pre-defined list. Suppose we want to perform some operation on the first 10,000 positive integers."
   ]
  },
  {
   "cell_type": "code",
   "execution_count": null,
   "id": "c03a1157",
   "metadata": {},
   "outputs": [],
   "source": [
    "for n in [1,2,3,4,5,6,7,...]"
   ]
  },
  {
   "cell_type": "markdown",
   "id": "4aec41a7",
   "metadata": {},
   "source": [
    "Of course, it's not reasonable for us to write down a list of the first 10,000 positive integers in order to iterate through them. Instead, we can use the `range` function. \n",
    "\n",
    "Note: We can use the `help` function to learn more about something in Python. For example, `help(range)` will tell us about the `range` function."
   ]
  },
  {
   "cell_type": "code",
   "execution_count": 3,
   "id": "110f6267",
   "metadata": {},
   "outputs": [
    {
     "name": "stdout",
     "output_type": "stream",
     "text": [
      "Help on class range in module builtins:\n",
      "\n",
      "class range(object)\n",
      " |  range(stop) -> range object\n",
      " |  range(start, stop[, step]) -> range object\n",
      " |\n",
      " |  Return an object that produces a sequence of integers from start (inclusive)\n",
      " |  to stop (exclusive) by step.  range(i, j) produces i, i+1, i+2, ..., j-1.\n",
      " |  start defaults to 0, and stop is omitted!  range(4) produces 0, 1, 2, 3.\n",
      " |  These are exactly the valid indices for a list of 4 elements.\n",
      " |  When step is given, it specifies the increment (or decrement).\n",
      " |\n",
      " |  Methods defined here:\n",
      " |\n",
      " |  __bool__(self, /)\n",
      " |      True if self else False\n",
      " |\n",
      " |  __contains__(self, key, /)\n",
      " |      Return bool(key in self).\n",
      " |\n",
      " |  __eq__(self, value, /)\n",
      " |      Return self==value.\n",
      " |\n",
      " |  __ge__(self, value, /)\n",
      " |      Return self>=value.\n",
      " |\n",
      " |  __getattribute__(self, name, /)\n",
      " |      Return getattr(self, name).\n",
      " |\n",
      " |  __getitem__(self, key, /)\n",
      " |      Return self[key].\n",
      " |\n",
      " |  __gt__(self, value, /)\n",
      " |      Return self>value.\n",
      " |\n",
      " |  __hash__(self, /)\n",
      " |      Return hash(self).\n",
      " |\n",
      " |  __iter__(self, /)\n",
      " |      Implement iter(self).\n",
      " |\n",
      " |  __le__(self, value, /)\n",
      " |      Return self<=value.\n",
      " |\n",
      " |  __len__(self, /)\n",
      " |      Return len(self).\n",
      " |\n",
      " |  __lt__(self, value, /)\n",
      " |      Return self<value.\n",
      " |\n",
      " |  __ne__(self, value, /)\n",
      " |      Return self!=value.\n",
      " |\n",
      " |  __reduce__(self, /)\n",
      " |      Helper for pickle.\n",
      " |\n",
      " |  __repr__(self, /)\n",
      " |      Return repr(self).\n",
      " |\n",
      " |  __reversed__(self, /)\n",
      " |      Return a reverse iterator.\n",
      " |\n",
      " |  count(self, object, /)\n",
      " |      rangeobject.count(value) -> integer -- return number of occurrences of value\n",
      " |\n",
      " |  index(self, object, /)\n",
      " |      rangeobject.index(value) -> integer -- return index of value.\n",
      " |      Raise ValueError if the value is not present.\n",
      " |\n",
      " |  ----------------------------------------------------------------------\n",
      " |  Static methods defined here:\n",
      " |\n",
      " |  __new__(*args, **kwargs)\n",
      " |      Create and return a new object.  See help(type) for accurate signature.\n",
      " |\n",
      " |  ----------------------------------------------------------------------\n",
      " |  Data descriptors defined here:\n",
      " |\n",
      " |  start\n",
      " |\n",
      " |  step\n",
      " |\n",
      " |  stop\n",
      "\n"
     ]
    }
   ],
   "source": [
    "help(range)"
   ]
  },
  {
   "cell_type": "markdown",
   "id": "943ee916",
   "metadata": {},
   "source": [
    "In particular:\n",
    " * `range(n)` will give a sequence of integers starting at `0` and going up to `n-1`.\n",
    " * `range(m,n)` will give a sequence of integers starting at `m` and going up to `n-1`.\n",
    " * `range(m,n,k)` will give a sequence of integers starting `m`, stepping by `k`, and stopping before `n`."
   ]
  },
  {
   "cell_type": "code",
   "execution_count": 4,
   "id": "bb002eb6",
   "metadata": {},
   "outputs": [
    {
     "name": "stdout",
     "output_type": "stream",
     "text": [
      "0\n",
      "1\n",
      "2\n",
      "3\n",
      "4\n",
      "5\n",
      "6\n",
      "7\n",
      "8\n",
      "9\n"
     ]
    }
   ],
   "source": [
    "for i in range(10):\n",
    "    print(i)"
   ]
  },
  {
   "cell_type": "code",
   "execution_count": 5,
   "id": "892300c2",
   "metadata": {},
   "outputs": [
    {
     "name": "stdout",
     "output_type": "stream",
     "text": [
      "3\n",
      "4\n",
      "5\n",
      "6\n",
      "7\n",
      "8\n",
      "9\n"
     ]
    }
   ],
   "source": [
    "for i in range(3,10):\n",
    "    print(i)"
   ]
  },
  {
   "cell_type": "code",
   "execution_count": 6,
   "id": "642a8460",
   "metadata": {},
   "outputs": [
    {
     "name": "stdout",
     "output_type": "stream",
     "text": [
      "3\n",
      "5\n",
      "7\n",
      "9\n"
     ]
    }
   ],
   "source": [
    "for i in range(3,10,2):\n",
    "    print(i)"
   ]
  },
  {
   "cell_type": "markdown",
   "id": "c8738c77-491b-48e9-acf3-878dffb0ee2e",
   "metadata": {},
   "source": [
    "Note: the `range` does generate a list."
   ]
  },
  {
   "cell_type": "code",
   "execution_count": 7,
   "id": "dd819e9b-daa1-44da-8ce6-7c90a045b549",
   "metadata": {},
   "outputs": [
    {
     "data": {
      "text/plain": [
       "[0, 1, 2, 3]"
      ]
     },
     "execution_count": 7,
     "metadata": {},
     "output_type": "execute_result"
    }
   ],
   "source": [
    "[0,1,2,3]"
   ]
  },
  {
   "cell_type": "code",
   "execution_count": 10,
   "id": "4a02c82b-f8e5-4f72-a46f-422f982e50b7",
   "metadata": {},
   "outputs": [
    {
     "data": {
      "text/plain": [
       "range(0, 4)"
      ]
     },
     "execution_count": 10,
     "metadata": {},
     "output_type": "execute_result"
    }
   ],
   "source": [
    "range(4)"
   ]
  },
  {
   "cell_type": "markdown",
   "id": "64db5e7d",
   "metadata": {},
   "source": [
    "**Exercise**: Write Python code to print the cubes of the first 50 positive integers."
   ]
  },
  {
   "cell_type": "code",
   "execution_count": 11,
   "id": "c857908d",
   "metadata": {},
   "outputs": [
    {
     "name": "stdout",
     "output_type": "stream",
     "text": [
      "1\n",
      "8\n",
      "27\n",
      "64\n",
      "125\n",
      "216\n",
      "343\n",
      "512\n",
      "729\n",
      "1000\n",
      "1331\n",
      "1728\n",
      "2197\n",
      "2744\n",
      "3375\n",
      "4096\n",
      "4913\n",
      "5832\n",
      "6859\n",
      "8000\n",
      "9261\n",
      "10648\n",
      "12167\n",
      "13824\n",
      "15625\n",
      "17576\n",
      "19683\n",
      "21952\n",
      "24389\n",
      "27000\n",
      "29791\n",
      "32768\n",
      "35937\n",
      "39304\n",
      "42875\n",
      "46656\n",
      "50653\n",
      "54872\n",
      "59319\n",
      "64000\n",
      "68921\n",
      "74088\n",
      "79507\n",
      "85184\n",
      "91125\n",
      "97336\n",
      "103823\n",
      "110592\n",
      "117649\n",
      "125000\n"
     ]
    }
   ],
   "source": [
    "for i in range(1,51):\n",
    "    print(i**3)"
   ]
  },
  {
   "cell_type": "markdown",
   "id": "f8db8f31",
   "metadata": {},
   "source": [
    "So far, we've explicitly generated lists using square brackets and comma-separated inputs. Suppose we want to generate a list containing the cubes of the first 50 positive integers. Our current strategy is not reasonable for this sort of task."
   ]
  },
  {
   "cell_type": "markdown",
   "id": "918b1d5d",
   "metadata": {},
   "source": [
    "The `.append` method (attached to a list) can be used to add an element to a list. That is, we can write something like `<some list>.append(<some new element>)` to add `<some new element>` to `<some list>`."
   ]
  },
  {
   "cell_type": "code",
   "execution_count": 12,
   "id": "b4442549-5a9c-446e-8873-83a657f3b9c3",
   "metadata": {},
   "outputs": [
    {
     "name": "stdout",
     "output_type": "stream",
     "text": [
      "[1, 2, 3]\n",
      "[1, 2, 3, 4]\n"
     ]
    }
   ],
   "source": [
    "my_list = [1,2,3]\n",
    "print(my_list)\n",
    "\n",
    "my_list.append(4)\n",
    "print(my_list)"
   ]
  },
  {
   "cell_type": "code",
   "execution_count": 14,
   "id": "520850aa",
   "metadata": {},
   "outputs": [
    {
     "name": "stdout",
     "output_type": "stream",
     "text": [
      "[2, 5, 8, 11, 14, 17]\n"
     ]
    }
   ],
   "source": [
    "my_list = []\n",
    "\n",
    "for i in range(2,20,3):\n",
    "    my_list.append(i)\n",
    "\n",
    "print(my_list)"
   ]
  },
  {
   "cell_type": "markdown",
   "id": "447b3d4c-a0f3-45a0-b7c8-1f541c6ba804",
   "metadata": {},
   "source": [
    "To build a list of the cubes of the first 50 positive integers, we can start with an empty list `[]` and then iteratively use the `.append` method to add elements to that list."
   ]
  },
  {
   "cell_type": "code",
   "execution_count": 15,
   "id": "d7594b8d",
   "metadata": {},
   "outputs": [],
   "source": [
    "cubes = []\n",
    "\n",
    "for i in range(1,51):\n",
    "    cubes.append(i**3)"
   ]
  },
  {
   "cell_type": "code",
   "execution_count": 16,
   "id": "7d7ecb63-193d-4e2f-a20f-fbe14080d34d",
   "metadata": {},
   "outputs": [
    {
     "data": {
      "text/plain": [
       "[1,\n",
       " 8,\n",
       " 27,\n",
       " 64,\n",
       " 125,\n",
       " 216,\n",
       " 343,\n",
       " 512,\n",
       " 729,\n",
       " 1000,\n",
       " 1331,\n",
       " 1728,\n",
       " 2197,\n",
       " 2744,\n",
       " 3375,\n",
       " 4096,\n",
       " 4913,\n",
       " 5832,\n",
       " 6859,\n",
       " 8000,\n",
       " 9261,\n",
       " 10648,\n",
       " 12167,\n",
       " 13824,\n",
       " 15625,\n",
       " 17576,\n",
       " 19683,\n",
       " 21952,\n",
       " 24389,\n",
       " 27000,\n",
       " 29791,\n",
       " 32768,\n",
       " 35937,\n",
       " 39304,\n",
       " 42875,\n",
       " 46656,\n",
       " 50653,\n",
       " 54872,\n",
       " 59319,\n",
       " 64000,\n",
       " 68921,\n",
       " 74088,\n",
       " 79507,\n",
       " 85184,\n",
       " 91125,\n",
       " 97336,\n",
       " 103823,\n",
       " 110592,\n",
       " 117649,\n",
       " 125000]"
      ]
     },
     "execution_count": 16,
     "metadata": {},
     "output_type": "execute_result"
    }
   ],
   "source": [
    "cubes"
   ]
  },
  {
   "cell_type": "markdown",
   "id": "791c1b0d",
   "metadata": {},
   "source": [
    "Suppose we want to count how many of the first 50 cubes end in a digit of `1`. That means we want iterate through each of our cubes, and then somehow decide whether or not it ends in a `1`. This leads us to Boolean expressions and `if` statements."
   ]
  },
  {
   "cell_type": "markdown",
   "id": "35600194",
   "metadata": {},
   "source": [
    "## Boolean expressions"
   ]
  },
  {
   "cell_type": "markdown",
   "id": "3d2a238e",
   "metadata": {},
   "source": [
    "There are two Boolean values, namely `True` and `False`."
   ]
  },
  {
   "cell_type": "markdown",
   "id": "dc83a953",
   "metadata": {},
   "source": [
    "We can write statements that evalute to either `True` or `False` called **Boolean expressions**. For example, we can compare two numbers using `<` or `>` to see if one is less than the other or one is greater than the other."
   ]
  },
  {
   "cell_type": "code",
   "execution_count": 17,
   "id": "1ad74121",
   "metadata": {},
   "outputs": [
    {
     "data": {
      "text/plain": [
       "True"
      ]
     },
     "execution_count": 17,
     "metadata": {},
     "output_type": "execute_result"
    }
   ],
   "source": [
    "3 < 5"
   ]
  },
  {
   "cell_type": "code",
   "execution_count": 18,
   "id": "8be86815",
   "metadata": {},
   "outputs": [
    {
     "data": {
      "text/plain": [
       "False"
      ]
     },
     "execution_count": 18,
     "metadata": {},
     "output_type": "execute_result"
    }
   ],
   "source": [
    "3 < 1"
   ]
  },
  {
   "cell_type": "code",
   "execution_count": 19,
   "id": "11d8d563",
   "metadata": {},
   "outputs": [
    {
     "data": {
      "text/plain": [
       "True"
      ]
     },
     "execution_count": 19,
     "metadata": {},
     "output_type": "execute_result"
    }
   ],
   "source": [
    "5 > 2"
   ]
  },
  {
   "cell_type": "markdown",
   "id": "fda846cb",
   "metadata": {},
   "source": [
    "We can use `<=` or `>=` for less than/greater than or equal to:"
   ]
  },
  {
   "cell_type": "code",
   "execution_count": 27,
   "id": "1195753e",
   "metadata": {},
   "outputs": [
    {
     "data": {
      "text/plain": [
       "True"
      ]
     },
     "execution_count": 27,
     "metadata": {},
     "output_type": "execute_result"
    }
   ],
   "source": [
    "2 <= 2"
   ]
  },
  {
   "cell_type": "code",
   "execution_count": 28,
   "id": "662698c1-840f-4b34-9b3b-bee28a5eb511",
   "metadata": {
    "jp-MarkdownHeadingCollapsed": true
   },
   "outputs": [
    {
     "data": {
      "text/plain": [
       "False"
      ]
     },
     "execution_count": 28,
     "metadata": {},
     "output_type": "execute_result"
    }
   ],
   "source": [
    "2 < 2"
   ]
  },
  {
   "cell_type": "code",
   "execution_count": 29,
   "id": "7ab3a51e",
   "metadata": {},
   "outputs": [
    {
     "data": {
      "text/plain": [
       "True"
      ]
     },
     "execution_count": 29,
     "metadata": {},
     "output_type": "execute_result"
    }
   ],
   "source": [
    "3 >= 2"
   ]
  },
  {
   "cell_type": "markdown",
   "id": "e496dad5-845c-44fd-bcaa-00486096b103",
   "metadata": {},
   "source": [
    "Inequality checks can be chained together:"
   ]
  },
  {
   "cell_type": "code",
   "execution_count": 30,
   "id": "324307a2-faec-485f-a064-5dc7ba80e5ec",
   "metadata": {},
   "outputs": [
    {
     "data": {
      "text/plain": [
       "True"
      ]
     },
     "execution_count": 30,
     "metadata": {},
     "output_type": "execute_result"
    }
   ],
   "source": [
    "2 < 4 <= 6"
   ]
  },
  {
   "cell_type": "code",
   "execution_count": 31,
   "id": "9bc5835d-1ca5-4bbd-a198-3f3ddeb896f8",
   "metadata": {},
   "outputs": [
    {
     "data": {
      "text/plain": [
       "True"
      ]
     },
     "execution_count": 31,
     "metadata": {},
     "output_type": "execute_result"
    }
   ],
   "source": [
    "2 < 4 > 3"
   ]
  },
  {
   "cell_type": "markdown",
   "id": "1173108a",
   "metadata": {},
   "source": [
    "We can use a double equality `==` to check whether two objects are equal to one another:"
   ]
  },
  {
   "cell_type": "code",
   "execution_count": 32,
   "id": "d611b039",
   "metadata": {},
   "outputs": [
    {
     "data": {
      "text/plain": [
       "True"
      ]
     },
     "execution_count": 32,
     "metadata": {},
     "output_type": "execute_result"
    }
   ],
   "source": [
    "n = 5\n",
    "\n",
    "n == 5"
   ]
  },
  {
   "cell_type": "code",
   "execution_count": 33,
   "id": "ec022490-cfba-4625-aab7-e9d47c800b07",
   "metadata": {},
   "outputs": [
    {
     "data": {
      "text/plain": [
       "False"
      ]
     },
     "execution_count": 33,
     "metadata": {},
     "output_type": "execute_result"
    }
   ],
   "source": [
    "3 == 4"
   ]
  },
  {
   "cell_type": "markdown",
   "id": "25ba1fb6",
   "metadata": {},
   "source": [
    "We can also check whether two lists are equal to one another:"
   ]
  },
  {
   "cell_type": "code",
   "execution_count": 34,
   "id": "1482d720",
   "metadata": {},
   "outputs": [
    {
     "data": {
      "text/plain": [
       "True"
      ]
     },
     "execution_count": 34,
     "metadata": {},
     "output_type": "execute_result"
    }
   ],
   "source": [
    "[1,2,3] == [1,2,3]"
   ]
  },
  {
   "cell_type": "code",
   "execution_count": 35,
   "id": "4a9a663f",
   "metadata": {},
   "outputs": [
    {
     "data": {
      "text/plain": [
       "False"
      ]
     },
     "execution_count": 35,
     "metadata": {},
     "output_type": "execute_result"
    }
   ],
   "source": [
    "[1,2,3] == [1,2,4]"
   ]
  },
  {
   "cell_type": "markdown",
   "id": "8f5c1bd8",
   "metadata": {},
   "source": [
    "We can use an `if` statement to perform some operations only when a Boolean expression is `True`. Again, **spacing is CRITICAL**, as it indicates which operations are part of the `if` statement (which will only run when the Boolean expression is `True`), and which operations will run regardless."
   ]
  },
  {
   "cell_type": "code",
   "execution_count": 41,
   "id": "099baa50",
   "metadata": {},
   "outputs": [
    {
     "name": "stdout",
     "output_type": "stream",
     "text": [
      "Done\n"
     ]
    }
   ],
   "source": [
    "n = 5\n",
    "\n",
    "if n % 2 == 0:\n",
    "    print('{} is even.'.format(n))\n",
    "print('Done')"
   ]
  },
  {
   "cell_type": "code",
   "execution_count": 42,
   "id": "6efdb722-edf7-4ca0-b4da-a36a0b5a1b1f",
   "metadata": {},
   "outputs": [
    {
     "name": "stdout",
     "output_type": "stream",
     "text": [
      "6 is even.\n",
      "Done\n"
     ]
    }
   ],
   "source": [
    "n = 6\n",
    "\n",
    "if n % 2 == 0:\n",
    "    print('{} is even.'.format(n))\n",
    "print('Done')"
   ]
  },
  {
   "cell_type": "markdown",
   "id": "0356f16b-629b-426c-b5f1-25897ec0dbba",
   "metadata": {},
   "source": [
    "We very often want to perform different operations based on several Boolean expressions. We can supplement an `if` statement with an `elif` statement (which is short for \"else if\") with a new Boolean expression to perform operations only in the case that the first `if` expression was `False` and the new expression is `True`:"
   ]
  },
  {
   "cell_type": "code",
   "execution_count": 43,
   "id": "4fc18abc",
   "metadata": {},
   "outputs": [
    {
     "name": "stdout",
     "output_type": "stream",
     "text": [
      "5 is odd.\n",
      "Done\n"
     ]
    }
   ],
   "source": [
    "n = 5\n",
    "\n",
    "if n % 2 == 0:\n",
    "    print('{} is even.'.format(n))\n",
    "elif n % 2 == 1:\n",
    "    print('{} is odd.'.format(n))\n",
    "print('Done')"
   ]
  },
  {
   "cell_type": "code",
   "execution_count": 44,
   "id": "3e76224e-7e54-4498-bb36-d92b62e28f08",
   "metadata": {},
   "outputs": [
    {
     "name": "stdout",
     "output_type": "stream",
     "text": [
      "6 is even.\n",
      "Done\n"
     ]
    }
   ],
   "source": [
    "n = 6\n",
    "\n",
    "if n % 2 == 0:\n",
    "    print('{} is even.'.format(n))\n",
    "elif n % 2 == 1:\n",
    "    print('{} is odd.'.format(n))\n",
    "print('Done')"
   ]
  },
  {
   "cell_type": "code",
   "execution_count": 46,
   "id": "6ea7d779-6d25-4b47-9a40-d18d86181d0b",
   "metadata": {},
   "outputs": [
    {
     "name": "stdout",
     "output_type": "stream",
     "text": [
      "6 is even.\n",
      "Done\n"
     ]
    }
   ],
   "source": [
    "n = 6\n",
    "\n",
    "if n % 2 == 0:\n",
    "    print('{} is even.'.format(n))\n",
    "elif 1 == 1:\n",
    "    print('{} is odd.'.format(n))\n",
    "print('Done')"
   ]
  },
  {
   "cell_type": "code",
   "execution_count": 48,
   "id": "4972db35-a012-4595-a0ba-5d7fcb36a489",
   "metadata": {},
   "outputs": [
    {
     "name": "stdout",
     "output_type": "stream",
     "text": [
      "13 has remainder 1 after division by 3.\n",
      "Done\n"
     ]
    }
   ],
   "source": [
    "n = 13\n",
    "\n",
    "if n % 3 == 0:\n",
    "    print('{} has remainder 0 after division by 3.'.format(n))\n",
    "elif n % 3 == 1:\n",
    "    print('{} has remainder 1 after division by 3.'.format(n))\n",
    "elif n % 3 == 2:\n",
    "    print('{} has remainder 2 after division by 3.'.format(n))\n",
    "print('Done')"
   ]
  },
  {
   "cell_type": "markdown",
   "id": "ae2a9339",
   "metadata": {},
   "source": [
    "We can also use an `else` statement to perform some operations if none of the `if` or `elif` Boolean expressions were `True`."
   ]
  },
  {
   "cell_type": "code",
   "execution_count": 49,
   "id": "1583b41b",
   "metadata": {},
   "outputs": [
    {
     "name": "stdout",
     "output_type": "stream",
     "text": [
      "13 has remainder 1 after division by 3.\n",
      "Done\n"
     ]
    }
   ],
   "source": [
    "n = 13\n",
    "\n",
    "if n % 3 == 0:\n",
    "    print('{} has remainder 0 after division by 3.'.format(n))\n",
    "elif n % 3 == 1:\n",
    "    print('{} has remainder 1 after division by 3.'.format(n))\n",
    "else:\n",
    "    print('{} has remainder 2 after division by 3.'.format(n))\n",
    "print('Done')"
   ]
  },
  {
   "cell_type": "code",
   "execution_count": 51,
   "id": "ee33da45-3bc1-4f2c-9c85-ba870de6de7a",
   "metadata": {},
   "outputs": [
    {
     "name": "stdout",
     "output_type": "stream",
     "text": [
      "5 is odd.\n"
     ]
    }
   ],
   "source": [
    "n = 5\n",
    "\n",
    "if n%2 == 0:\n",
    "    print('{} is even.'.format(n))\n",
    "else:\n",
    "    print('{} is odd.'.format(n))"
   ]
  },
  {
   "cell_type": "markdown",
   "id": "66cc0930",
   "metadata": {},
   "source": [
    "**Exercise:** Count how many cubes of the first 50 positive integers end in a digit of 1."
   ]
  },
  {
   "cell_type": "code",
   "execution_count": 54,
   "id": "7094a09b",
   "metadata": {},
   "outputs": [
    {
     "name": "stdout",
     "output_type": "stream",
     "text": [
      "5 of the first 50 cubes end with 1.\n"
     ]
    }
   ],
   "source": [
    "count = 0\n",
    "\n",
    "for i in range(1,51):\n",
    "    if i**3 % 10 == 1:\n",
    "        count = count + 1\n",
    "\n",
    "print('{} of the first 50 cubes end with 1.'.format(count))"
   ]
  },
  {
   "cell_type": "code",
   "execution_count": 56,
   "id": "bcebf6cd-f55a-4705-94d9-03531bc26540",
   "metadata": {},
   "outputs": [
    {
     "name": "stdout",
     "output_type": "stream",
     "text": [
      "5 of the first 50 cubes end with 1.\n"
     ]
    }
   ],
   "source": [
    "cubes_that_end_in_1 = []\n",
    "\n",
    "for i in range(1,51):\n",
    "    if i**3 % 10 == 1:\n",
    "        cubes_that_end_in_1.append(i**3)\n",
    "\n",
    "print('{} of the first 50 cubes end with 1.'.format(len(cubes_that_end_in_1)))"
   ]
  },
  {
   "cell_type": "markdown",
   "id": "e6632c37-79c4-459e-99c5-c71d0298a2b5",
   "metadata": {},
   "source": [
    "Some thoughts about efficiency:\n",
    " - In the second version, we are computing `i**3` twice. It would be faster to compute it once, save the result, then re-use that saved result as necessary.\n",
    " - We've previously calculated and stored a list of the first 50 cubes. It would more efficient to make use of that list instead of re-computing the same cubes."
   ]
  },
  {
   "cell_type": "code",
   "execution_count": 57,
   "id": "06596add-2ca6-4c63-bc89-7bcde9fea6e0",
   "metadata": {},
   "outputs": [
    {
     "name": "stdout",
     "output_type": "stream",
     "text": [
      "5 of the first 50 cubes end with 1.\n"
     ]
    }
   ],
   "source": [
    "cubes_that_end_in_1 = []\n",
    "\n",
    "for i in range(1,51):\n",
    "    cube = i**3\n",
    "    if cube % 10 == 1:\n",
    "        cubes_that_end_in_1.append(cube)\n",
    "\n",
    "print('{} of the first 50 cubes end with 1.'.format(len(cubes_that_end_in_1)))"
   ]
  },
  {
   "cell_type": "code",
   "execution_count": 58,
   "id": "ca0d7269-32c5-42bd-ae95-0a2ea77344ff",
   "metadata": {},
   "outputs": [
    {
     "name": "stdout",
     "output_type": "stream",
     "text": [
      "5 of the first 50 cubes end with 1.\n"
     ]
    }
   ],
   "source": [
    "count = 0\n",
    "for cube in cubes:\n",
    "    if cube % 10 == 1:\n",
    "        count = count + 1\n",
    "print('{} of the first 50 cubes end with 1.'.format(count))"
   ]
  },
  {
   "cell_type": "markdown",
   "id": "4752e68e-3c0d-4f63-b6aa-d7567469177f",
   "metadata": {},
   "source": [
    "One other modification that would be nice: the print statement has the number `50` handwritten in, and so the `for` loop."
   ]
  },
  {
   "cell_type": "code",
   "execution_count": 62,
   "id": "7aaf7977-c191-40f3-a42d-c8bbf049b3d9",
   "metadata": {},
   "outputs": [
    {
     "name": "stdout",
     "output_type": "stream",
     "text": [
      "10 of the first 100 cubes end with 1.\n"
     ]
    }
   ],
   "source": [
    "N = 100\n",
    "\n",
    "cubes_that_end_in_1 = []\n",
    "\n",
    "for i in range(1,N+1):\n",
    "    cube = i**3\n",
    "    if cube % 10 == 1:\n",
    "        cubes_that_end_in_1.append(cube)\n",
    "\n",
    "print('{} of the first {} cubes end with 1.'.format(len(cubes_that_end_in_1),N))"
   ]
  },
  {
   "cell_type": "markdown",
   "id": "d054dca7-296f-4509-8ed0-82caf151cb5d",
   "metadata": {},
   "source": [
    "**Exercise:** Modify the previous cell to count the number of cubes whose remainder after dividing by `4` is `0`."
   ]
  },
  {
   "cell_type": "code",
   "execution_count": 72,
   "id": "b18fe47a-359d-49b4-b59a-12d4a60f13c4",
   "metadata": {},
   "outputs": [],
   "source": [
    "N = 100\n",
    "\n",
    "cubes = []\n",
    "for i in range(1,N+1):\n",
    "    cube = i**3\n",
    "    cubes.append(cube)"
   ]
  },
  {
   "cell_type": "code",
   "execution_count": 73,
   "id": "676de7ee-213e-42de-9fc8-62e6789820c3",
   "metadata": {},
   "outputs": [
    {
     "name": "stdout",
     "output_type": "stream",
     "text": [
      "25 of the first 100 cubes have remainder 1 after division by 4.\n"
     ]
    }
   ],
   "source": [
    "rem = 1\n",
    "den = 4\n",
    "\n",
    "cubes_that_end_in_rem = []\n",
    "\n",
    "for cube in cubes:\n",
    "    if cube % den == rem:\n",
    "        cubes_that_end_in_rem.append(cube)\n",
    "\n",
    "print('{} of the first {} cubes have remainder {} after division by {}.'.format(len(cubes_that_end_in_rem),N, rem, den))"
   ]
  },
  {
   "cell_type": "markdown",
   "id": "8f7bbadf-96e5-4522-994d-ebc521e73d8b",
   "metadata": {},
   "source": [
    "**Exercise:** Modify your code from the previous exercise to also count the number of cubes whose remainder after dividing by `4` is `1`, `2`, and `3` respectively."
   ]
  },
  {
   "cell_type": "code",
   "execution_count": 77,
   "id": "66fd9d70-34bf-4a89-9f48-9b2218f7668b",
   "metadata": {},
   "outputs": [
    {
     "name": "stdout",
     "output_type": "stream",
     "text": [
      "142 of the first 1000 cubes have remainder 0 after division by 7.\n",
      "429 of the first 1000 cubes have remainder 1 after division by 7.\n",
      "0 of the first 1000 cubes have remainder 2 after division by 7.\n",
      "0 of the first 1000 cubes have remainder 3 after division by 7.\n",
      "0 of the first 1000 cubes have remainder 4 after division by 7.\n",
      "0 of the first 1000 cubes have remainder 5 after division by 7.\n",
      "429 of the first 1000 cubes have remainder 6 after division by 7.\n"
     ]
    }
   ],
   "source": [
    "den = 7\n",
    "N = 1000\n",
    "\n",
    "cubes = []\n",
    "for i in range(1,N+1):\n",
    "    cube = i**3\n",
    "    cubes.append(cube)\n",
    "\n",
    "\n",
    "for rem in range(den):\n",
    "    cubes_that_end_in_rem = []\n",
    "    \n",
    "    for cube in cubes:\n",
    "        if cube % den == rem:\n",
    "            cubes_that_end_in_rem.append(cube)\n",
    "    \n",
    "    print('{} of the first {} cubes have remainder {} after division by {}.'.format(len(cubes_that_end_in_rem),N, rem, den))"
   ]
  },
  {
   "cell_type": "code",
   "execution_count": 79,
   "id": "f213ae7f-5fbb-4f54-a294-1feac9acf913",
   "metadata": {},
   "outputs": [
    {
     "name": "stdout",
     "output_type": "stream",
     "text": [
      "500 of the first 1000 cubes have remainder 0 after division by 2.\n",
      "500 of the first 1000 cubes have remainder 1 after division by 2.\n",
      "\n",
      "333 of the first 1000 cubes have remainder 0 after division by 3.\n",
      "334 of the first 1000 cubes have remainder 1 after division by 3.\n",
      "333 of the first 1000 cubes have remainder 2 after division by 3.\n",
      "\n",
      "500 of the first 1000 cubes have remainder 0 after division by 4.\n",
      "250 of the first 1000 cubes have remainder 1 after division by 4.\n",
      "0 of the first 1000 cubes have remainder 2 after division by 4.\n",
      "250 of the first 1000 cubes have remainder 3 after division by 4.\n",
      "\n",
      "200 of the first 1000 cubes have remainder 0 after division by 5.\n",
      "200 of the first 1000 cubes have remainder 1 after division by 5.\n",
      "200 of the first 1000 cubes have remainder 2 after division by 5.\n",
      "200 of the first 1000 cubes have remainder 3 after division by 5.\n",
      "200 of the first 1000 cubes have remainder 4 after division by 5.\n",
      "\n",
      "166 of the first 1000 cubes have remainder 0 after division by 6.\n",
      "167 of the first 1000 cubes have remainder 1 after division by 6.\n",
      "167 of the first 1000 cubes have remainder 2 after division by 6.\n",
      "167 of the first 1000 cubes have remainder 3 after division by 6.\n",
      "167 of the first 1000 cubes have remainder 4 after division by 6.\n",
      "166 of the first 1000 cubes have remainder 5 after division by 6.\n",
      "\n",
      "142 of the first 1000 cubes have remainder 0 after division by 7.\n",
      "429 of the first 1000 cubes have remainder 1 after division by 7.\n",
      "0 of the first 1000 cubes have remainder 2 after division by 7.\n",
      "0 of the first 1000 cubes have remainder 3 after division by 7.\n",
      "0 of the first 1000 cubes have remainder 4 after division by 7.\n",
      "0 of the first 1000 cubes have remainder 5 after division by 7.\n",
      "429 of the first 1000 cubes have remainder 6 after division by 7.\n",
      "\n",
      "500 of the first 1000 cubes have remainder 0 after division by 8.\n",
      "125 of the first 1000 cubes have remainder 1 after division by 8.\n",
      "0 of the first 1000 cubes have remainder 2 after division by 8.\n",
      "125 of the first 1000 cubes have remainder 3 after division by 8.\n",
      "0 of the first 1000 cubes have remainder 4 after division by 8.\n",
      "125 of the first 1000 cubes have remainder 5 after division by 8.\n",
      "0 of the first 1000 cubes have remainder 6 after division by 8.\n",
      "125 of the first 1000 cubes have remainder 7 after division by 8.\n",
      "\n",
      "333 of the first 1000 cubes have remainder 0 after division by 9.\n",
      "334 of the first 1000 cubes have remainder 1 after division by 9.\n",
      "0 of the first 1000 cubes have remainder 2 after division by 9.\n",
      "0 of the first 1000 cubes have remainder 3 after division by 9.\n",
      "0 of the first 1000 cubes have remainder 4 after division by 9.\n",
      "0 of the first 1000 cubes have remainder 5 after division by 9.\n",
      "0 of the first 1000 cubes have remainder 6 after division by 9.\n",
      "0 of the first 1000 cubes have remainder 7 after division by 9.\n",
      "333 of the first 1000 cubes have remainder 8 after division by 9.\n",
      "\n",
      "100 of the first 1000 cubes have remainder 0 after division by 10.\n",
      "100 of the first 1000 cubes have remainder 1 after division by 10.\n",
      "100 of the first 1000 cubes have remainder 2 after division by 10.\n",
      "100 of the first 1000 cubes have remainder 3 after division by 10.\n",
      "100 of the first 1000 cubes have remainder 4 after division by 10.\n",
      "100 of the first 1000 cubes have remainder 5 after division by 10.\n",
      "100 of the first 1000 cubes have remainder 6 after division by 10.\n",
      "100 of the first 1000 cubes have remainder 7 after division by 10.\n",
      "100 of the first 1000 cubes have remainder 8 after division by 10.\n",
      "100 of the first 1000 cubes have remainder 9 after division by 10.\n",
      "\n"
     ]
    }
   ],
   "source": [
    "N = 1000\n",
    "\n",
    "cubes = []\n",
    "for i in range(1,N+1):\n",
    "    cube = i**3\n",
    "    cubes.append(cube)\n",
    "\n",
    "for den in range(2,11):\n",
    "    for rem in range(den):\n",
    "        cubes_that_end_in_rem = []\n",
    "        \n",
    "        for cube in cubes:\n",
    "            if cube % den == rem:\n",
    "                cubes_that_end_in_rem.append(cube)\n",
    "        \n",
    "        print('{} of the first {} cubes have remainder {} after division by {}.'.format(len(cubes_that_end_in_rem),N, rem, den))\n",
    "    print()"
   ]
  },
  {
   "cell_type": "markdown",
   "id": "4b17b3d7-fdd6-4604-89a7-8ba1f6d259a3",
   "metadata": {},
   "source": [
    "## Prime numbers\n",
    "\n",
    "Our first project will deal with prime numbers. It will be useful if we can develop some code to decide whether a given integer is prime or not. One strategy for checking whether a given number is prime or not is to look for numbers that evenly divide it. That is, we can test a number $n$ for primality by looking for numbers $d$ such that the remainder from dividing $n$ by $d$ is zero."
   ]
  },
  {
   "cell_type": "code",
   "execution_count": 81,
   "id": "4bb39a58-c517-4b3f-9226-81b3d838a5bd",
   "metadata": {},
   "outputs": [
    {
     "name": "stdout",
     "output_type": "stream",
     "text": [
      "9 is not prime, it has divisor 3\n"
     ]
    }
   ],
   "source": [
    "n = 9\n",
    "d = 3\n",
    "\n",
    "if n % d == 0:\n",
    "    print('{} is not prime, it has divisor {}'.format(n,d))"
   ]
  },
  {
   "cell_type": "markdown",
   "id": "9f192827-76b7-4012-ad97-40013e55f9f4",
   "metadata": {},
   "source": [
    "**Exercise:** Write code that will set a Boolean variable to `True` if an integer `n` is prime and will set the Boolean variable to `False` if not."
   ]
  },
  {
   "cell_type": "code",
   "execution_count": 88,
   "id": "c7eb9316-7ce3-4553-8500-97e7c8375ae3",
   "metadata": {},
   "outputs": [
    {
     "name": "stdout",
     "output_type": "stream",
     "text": [
      "8 is not prime.\n"
     ]
    }
   ],
   "source": [
    "n = 8\n",
    "\n",
    "is_prime = True\n",
    "\n",
    "for d in range(2,n):\n",
    "    if n % d == 0:\n",
    "        is_prime = False\n",
    "        \n",
    "if not is_prime:\n",
    "    print('{} is not prime.'.format(n))\n",
    "else:\n",
    "    print('{} is prime.'.format(n))"
   ]
  },
  {
   "cell_type": "code",
   "execution_count": 87,
   "id": "f0f0eefc-667f-445c-80e2-d43ad59adff2",
   "metadata": {},
   "outputs": [
    {
     "name": "stdout",
     "output_type": "stream",
     "text": [
      "8 is not prime, it has divisors [2, 4].\n"
     ]
    }
   ],
   "source": [
    "n = 8\n",
    "\n",
    "divisors = []\n",
    "\n",
    "for d in range(2,n):\n",
    "    if n % d == 0:\n",
    "        divisors.append(d)\n",
    "\n",
    "is_prime = (len(divisors) == 0)\n",
    "if not is_prime:\n",
    "    print('{} is not prime, it has divisors {}.'.format(n,divisors))\n",
    "else:\n",
    "    print('{} is prime.'.format(n))"
   ]
  },
  {
   "cell_type": "markdown",
   "id": "ff60644d-5379-4800-9dbe-055b38ad7bfa",
   "metadata": {},
   "source": [
    "Note: in the code above, it will often happen that we perform many divisibility checks for no reason (for example, if `2` divides `n`, then we will still unnecessarily check whether `3`, `4`, `5`, ... also divide `n`). It would be helpful if we could escape the loop prematurely."
   ]
  }
 ],
 "metadata": {
  "kernelspec": {
   "display_name": "Python 3 (ipykernel)",
   "language": "python",
   "name": "python3"
  },
  "language_info": {
   "codemirror_mode": {
    "name": "ipython",
    "version": 3
   },
   "file_extension": ".py",
   "mimetype": "text/x-python",
   "name": "python",
   "nbconvert_exporter": "python",
   "pygments_lexer": "ipython3",
   "version": "3.13.5"
  }
 },
 "nbformat": 4,
 "nbformat_minor": 5
}
