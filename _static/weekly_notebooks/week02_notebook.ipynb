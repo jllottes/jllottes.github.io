{
 "cells": [
  {
   "cell_type": "markdown",
   "id": "f276bf17",
   "metadata": {},
   "source": [
    "# Monday, January 27th"
   ]
  },
  {
   "cell_type": "markdown",
   "id": "cccf22da",
   "metadata": {},
   "source": [
    "Last time, we had just started discussing defining variables in Python."
   ]
  },
  {
   "cell_type": "code",
   "execution_count": 1,
   "id": "20c20fdd",
   "metadata": {},
   "outputs": [],
   "source": [
    "a = 5\n",
    "b = 7\n",
    "c = -2"
   ]
  },
  {
   "cell_type": "code",
   "execution_count": 2,
   "id": "33d01b6d",
   "metadata": {},
   "outputs": [
    {
     "data": {
      "text/plain": [
       "5"
      ]
     },
     "execution_count": 2,
     "metadata": {},
     "output_type": "execute_result"
    }
   ],
   "source": [
    "a"
   ]
  },
  {
   "cell_type": "code",
   "execution_count": 3,
   "id": "79acde0d",
   "metadata": {},
   "outputs": [
    {
     "data": {
      "text/plain": [
       "-9"
      ]
     },
     "execution_count": 3,
     "metadata": {},
     "output_type": "execute_result"
    }
   ],
   "source": [
    "a + b * c"
   ]
  },
  {
   "cell_type": "markdown",
   "id": "9cf90599",
   "metadata": {},
   "source": [
    "Variable names must:\n",
    " * Start with a letter or underscore (`_`)\n",
    " * Can contain any letter, number, or underscore. "
   ]
  },
  {
   "cell_type": "code",
   "execution_count": 4,
   "id": "7c64e037",
   "metadata": {},
   "outputs": [],
   "source": [
    "this_is_a_variable_name = 10"
   ]
  },
  {
   "cell_type": "code",
   "execution_count": 5,
   "id": "67b557a2",
   "metadata": {},
   "outputs": [],
   "source": [
    "_this_is_another_variable_name = -4"
   ]
  },
  {
   "cell_type": "code",
   "execution_count": 6,
   "id": "2ab67844",
   "metadata": {},
   "outputs": [],
   "source": [
    "variable3 = 100"
   ]
  },
  {
   "cell_type": "code",
   "execution_count": 7,
   "id": "cc479f45",
   "metadata": {},
   "outputs": [
    {
     "ename": "SyntaxError",
     "evalue": "invalid syntax (1144555293.py, line 1)",
     "output_type": "error",
     "traceback": [
      "\u001b[1;36m  File \u001b[1;32m\"C:\\Users\\Luke\\AppData\\Local\\Temp\\ipykernel_32096\\1144555293.py\"\u001b[1;36m, line \u001b[1;32m1\u001b[0m\n\u001b[1;33m    3rd_variable = 10\u001b[0m\n\u001b[1;37m     ^\u001b[0m\n\u001b[1;31mSyntaxError\u001b[0m\u001b[1;31m:\u001b[0m invalid syntax\n"
     ]
    }
   ],
   "source": [
    "3rd_variable = 10"
   ]
  },
  {
   "cell_type": "markdown",
   "id": "3cc8129d",
   "metadata": {},
   "source": [
    "Very often, we'll use underscores as spaces to separate words in our variable names. Another style (known as camelcase) uses capital letters to denote the start of a new word."
   ]
  },
  {
   "cell_type": "code",
   "execution_count": 8,
   "id": "c0bc6267",
   "metadata": {},
   "outputs": [],
   "source": [
    "thisIsAnotherVariableName = -4"
   ]
  },
  {
   "cell_type": "markdown",
   "id": "f85e4e79",
   "metadata": {},
   "source": [
    "In general, we want to choose variable names that helps the reader understand what they represent."
   ]
  },
  {
   "cell_type": "markdown",
   "id": "4b6418c5",
   "metadata": {},
   "source": [
    "We can define several variables simultaneously by separating them by commas:"
   ]
  },
  {
   "cell_type": "code",
   "execution_count": 9,
   "id": "3816c319",
   "metadata": {},
   "outputs": [],
   "source": [
    "a, b, c = 1, 2, 3"
   ]
  },
  {
   "cell_type": "code",
   "execution_count": 10,
   "id": "c8616985",
   "metadata": {},
   "outputs": [
    {
     "data": {
      "text/plain": [
       "1"
      ]
     },
     "execution_count": 10,
     "metadata": {},
     "output_type": "execute_result"
    }
   ],
   "source": [
    "a"
   ]
  },
  {
   "cell_type": "code",
   "execution_count": 11,
   "id": "cf1d3403",
   "metadata": {},
   "outputs": [
    {
     "data": {
      "text/plain": [
       "2"
      ]
     },
     "execution_count": 11,
     "metadata": {},
     "output_type": "execute_result"
    }
   ],
   "source": [
    "b"
   ]
  },
  {
   "cell_type": "code",
   "execution_count": 12,
   "id": "68a919e4",
   "metadata": {},
   "outputs": [
    {
     "data": {
      "text/plain": [
       "3"
      ]
     },
     "execution_count": 12,
     "metadata": {},
     "output_type": "execute_result"
    }
   ],
   "source": [
    "c"
   ]
  },
  {
   "cell_type": "markdown",
   "id": "09bb6b5d",
   "metadata": {},
   "source": [
    "This can be very useful if we ever want to swap the meaning of two variables. As an example, suppose we define `a = 1` and `b = 2`, but then want to swap their values."
   ]
  },
  {
   "cell_type": "code",
   "execution_count": 13,
   "id": "8532f1c2",
   "metadata": {},
   "outputs": [],
   "source": [
    "a = 1\n",
    "b = 2\n",
    "\n",
    "a = b\n",
    "b = a"
   ]
  },
  {
   "cell_type": "code",
   "execution_count": 14,
   "id": "dfde9b42",
   "metadata": {},
   "outputs": [
    {
     "data": {
      "text/plain": [
       "2"
      ]
     },
     "execution_count": 14,
     "metadata": {},
     "output_type": "execute_result"
    }
   ],
   "source": [
    "a"
   ]
  },
  {
   "cell_type": "code",
   "execution_count": 15,
   "id": "0892f080",
   "metadata": {},
   "outputs": [
    {
     "data": {
      "text/plain": [
       "2"
      ]
     },
     "execution_count": 15,
     "metadata": {},
     "output_type": "execute_result"
    }
   ],
   "source": [
    "b"
   ]
  },
  {
   "cell_type": "code",
   "execution_count": 16,
   "id": "54bee4ca",
   "metadata": {},
   "outputs": [],
   "source": [
    "a = 1\n",
    "b = 2\n",
    "\n",
    "old_a = a\n",
    "a = b\n",
    "b = old_a"
   ]
  },
  {
   "cell_type": "code",
   "execution_count": 17,
   "id": "28a7bae8",
   "metadata": {},
   "outputs": [
    {
     "data": {
      "text/plain": [
       "2"
      ]
     },
     "execution_count": 17,
     "metadata": {},
     "output_type": "execute_result"
    }
   ],
   "source": [
    "a"
   ]
  },
  {
   "cell_type": "code",
   "execution_count": 18,
   "id": "7f7b83fc",
   "metadata": {},
   "outputs": [
    {
     "data": {
      "text/plain": [
       "1"
      ]
     },
     "execution_count": 18,
     "metadata": {},
     "output_type": "execute_result"
    }
   ],
   "source": [
    "b"
   ]
  },
  {
   "cell_type": "markdown",
   "id": "099d4afa",
   "metadata": {},
   "source": [
    "We can use comma separated variable definition to perform this swap:"
   ]
  },
  {
   "cell_type": "code",
   "execution_count": 19,
   "id": "cab9347e",
   "metadata": {},
   "outputs": [],
   "source": [
    "a = 1\n",
    "b = 2\n",
    "\n",
    "a,b = b,a"
   ]
  },
  {
   "cell_type": "code",
   "execution_count": 20,
   "id": "e7910559",
   "metadata": {},
   "outputs": [
    {
     "data": {
      "text/plain": [
       "2"
      ]
     },
     "execution_count": 20,
     "metadata": {},
     "output_type": "execute_result"
    }
   ],
   "source": [
    "a"
   ]
  },
  {
   "cell_type": "code",
   "execution_count": 21,
   "id": "cc0c6ca7",
   "metadata": {
    "scrolled": true
   },
   "outputs": [
    {
     "data": {
      "text/plain": [
       "1"
      ]
     },
     "execution_count": 21,
     "metadata": {},
     "output_type": "execute_result"
    }
   ],
   "source": [
    "b"
   ]
  },
  {
   "cell_type": "markdown",
   "id": "fc60fb5e",
   "metadata": {},
   "source": [
    "## Working with strings"
   ]
  },
  {
   "cell_type": "markdown",
   "id": "48c6e656",
   "metadata": {},
   "source": [
    "In Python, strings are used to hold text data. We can define strings by surrounding some text by double quotes `\"` or single quotes `'`:"
   ]
  },
  {
   "cell_type": "code",
   "execution_count": 23,
   "id": "fe461838",
   "metadata": {},
   "outputs": [],
   "source": [
    "this_is_a_string = 'Hello, welcome to MTH 337'"
   ]
  },
  {
   "cell_type": "code",
   "execution_count": 24,
   "id": "0dd1df89",
   "metadata": {},
   "outputs": [
    {
     "data": {
      "text/plain": [
       "'Hello, welcome to MTH 337'"
      ]
     },
     "execution_count": 24,
     "metadata": {},
     "output_type": "execute_result"
    }
   ],
   "source": [
    "this_is_a_string"
   ]
  },
  {
   "cell_type": "markdown",
   "id": "da4a33b1",
   "metadata": {},
   "source": [
    "There are many operations that can be performed on strings. For example:"
   ]
  },
  {
   "cell_type": "code",
   "execution_count": 25,
   "id": "b73485b2",
   "metadata": {},
   "outputs": [
    {
     "data": {
      "text/plain": [
       "'this is a stringthis is a second string'"
      ]
     },
     "execution_count": 25,
     "metadata": {},
     "output_type": "execute_result"
    }
   ],
   "source": [
    "'this is a string' + 'this is a second string'"
   ]
  },
  {
   "cell_type": "markdown",
   "id": "c9b74647",
   "metadata": {},
   "source": [
    "Addition strings together concatenates them."
   ]
  },
  {
   "cell_type": "code",
   "execution_count": 26,
   "id": "45cb6651",
   "metadata": {},
   "outputs": [
    {
     "data": {
      "text/plain": [
       "'this is a stringthis is a stringthis is a stringthis is a stringthis is a string'"
      ]
     },
     "execution_count": 26,
     "metadata": {},
     "output_type": "execute_result"
    }
   ],
   "source": [
    "'this is a string' * 5"
   ]
  },
  {
   "cell_type": "markdown",
   "id": "a218067f",
   "metadata": {},
   "source": [
    "Multiplying a string by an integer concatenates it by the integer number of times."
   ]
  },
  {
   "cell_type": "code",
   "execution_count": 27,
   "id": "5d815a15",
   "metadata": {},
   "outputs": [
    {
     "ename": "TypeError",
     "evalue": "can't multiply sequence by non-int of type 'float'",
     "output_type": "error",
     "traceback": [
      "\u001b[1;31m---------------------------------------------------------------------------\u001b[0m",
      "\u001b[1;31mTypeError\u001b[0m                                 Traceback (most recent call last)",
      "\u001b[1;32m~\\AppData\\Local\\Temp\\ipykernel_32096\\3984047980.py\u001b[0m in \u001b[0;36m<module>\u001b[1;34m\u001b[0m\n\u001b[1;32m----> 1\u001b[1;33m \u001b[1;34m'this is a string'\u001b[0m \u001b[1;33m*\u001b[0m \u001b[1;36m2.5\u001b[0m\u001b[1;33m\u001b[0m\u001b[1;33m\u001b[0m\u001b[0m\n\u001b[0m",
      "\u001b[1;31mTypeError\u001b[0m: can't multiply sequence by non-int of type 'float'"
     ]
    }
   ],
   "source": [
    "'this is a string' * 2.5"
   ]
  },
  {
   "cell_type": "code",
   "execution_count": 28,
   "id": "c30411a3",
   "metadata": {},
   "outputs": [
    {
     "data": {
      "text/plain": [
       "'123123123123123'"
      ]
     },
     "execution_count": 28,
     "metadata": {},
     "output_type": "execute_result"
    }
   ],
   "source": [
    "'123' * 5"
   ]
  },
  {
   "cell_type": "code",
   "execution_count": 30,
   "id": "f05b1d0c",
   "metadata": {},
   "outputs": [
    {
     "data": {
      "text/plain": [
       "615"
      ]
     },
     "execution_count": 30,
     "metadata": {},
     "output_type": "execute_result"
    }
   ],
   "source": [
    "123 * 5 "
   ]
  },
  {
   "cell_type": "code",
   "execution_count": 31,
   "id": "a901fb67",
   "metadata": {},
   "outputs": [
    {
     "data": {
      "text/plain": [
       "'555555555555555555555555555555555555555555555555555555555555555555555555555555555555555555555555555555555555555555555555555'"
      ]
     },
     "execution_count": 31,
     "metadata": {},
     "output_type": "execute_result"
    }
   ],
   "source": [
    "123 * '5'"
   ]
  },
  {
   "cell_type": "code",
   "execution_count": 32,
   "id": "1e0a6ce0",
   "metadata": {},
   "outputs": [
    {
     "ename": "TypeError",
     "evalue": "can't multiply sequence by non-int of type 'str'",
     "output_type": "error",
     "traceback": [
      "\u001b[1;31m---------------------------------------------------------------------------\u001b[0m",
      "\u001b[1;31mTypeError\u001b[0m                                 Traceback (most recent call last)",
      "\u001b[1;32m~\\AppData\\Local\\Temp\\ipykernel_32096\\114232278.py\u001b[0m in \u001b[0;36m<module>\u001b[1;34m\u001b[0m\n\u001b[1;32m----> 1\u001b[1;33m \u001b[1;34m'123'\u001b[0m \u001b[1;33m*\u001b[0m \u001b[1;34m'456'\u001b[0m\u001b[1;33m\u001b[0m\u001b[1;33m\u001b[0m\u001b[0m\n\u001b[0m",
      "\u001b[1;31mTypeError\u001b[0m: can't multiply sequence by non-int of type 'str'"
     ]
    }
   ],
   "source": [
    "'123' * '456'"
   ]
  },
  {
   "cell_type": "markdown",
   "id": "90b9976a",
   "metadata": {},
   "source": [
    "We can also define multi-line strings using triple-single-quotes `'''`:"
   ]
  },
  {
   "cell_type": "code",
   "execution_count": 33,
   "id": "2e9c1ed1",
   "metadata": {},
   "outputs": [
    {
     "ename": "SyntaxError",
     "evalue": "EOL while scanning string literal (2643678918.py, line 1)",
     "output_type": "error",
     "traceback": [
      "\u001b[1;36m  File \u001b[1;32m\"C:\\Users\\Luke\\AppData\\Local\\Temp\\ipykernel_32096\\2643678918.py\"\u001b[1;36m, line \u001b[1;32m1\u001b[0m\n\u001b[1;33m    'this\u001b[0m\n\u001b[1;37m         ^\u001b[0m\n\u001b[1;31mSyntaxError\u001b[0m\u001b[1;31m:\u001b[0m EOL while scanning string literal\n"
     ]
    }
   ],
   "source": [
    "'this\n",
    "will not work correctly\n",
    "as a multi-line string'"
   ]
  },
  {
   "cell_type": "code",
   "execution_count": 34,
   "id": "645fd6bc",
   "metadata": {},
   "outputs": [
    {
     "data": {
      "text/plain": [
       "'this\\nwill work correctly\\nas a multi-line string'"
      ]
     },
     "execution_count": 34,
     "metadata": {},
     "output_type": "execute_result"
    }
   ],
   "source": [
    "'''this\n",
    "will work correctly\n",
    "as a multi-line string'''"
   ]
  },
  {
   "cell_type": "markdown",
   "id": "b9d1e8db",
   "metadata": {},
   "source": [
    "Notice that our multi-line string does not display the way we might hope. If a want to correctly render a multi-line string, we can use the `print` function."
   ]
  },
  {
   "cell_type": "code",
   "execution_count": 36,
   "id": "1993e936",
   "metadata": {},
   "outputs": [
    {
     "name": "stdout",
     "output_type": "stream",
     "text": [
      "this\n",
      "will work correctly\n",
      "as a multi-line string\n"
     ]
    }
   ],
   "source": [
    "my_string = '''this\n",
    "will work correctly\n",
    "as a multi-line string'''\n",
    "\n",
    "print(my_string)"
   ]
  },
  {
   "cell_type": "markdown",
   "id": "8c40a808",
   "metadata": {},
   "source": [
    "The `print` function can be used anytime we want to display some information."
   ]
  },
  {
   "cell_type": "code",
   "execution_count": 38,
   "id": "eac352da",
   "metadata": {},
   "outputs": [
    {
     "data": {
      "text/plain": [
       "2"
      ]
     },
     "execution_count": 38,
     "metadata": {},
     "output_type": "execute_result"
    }
   ],
   "source": [
    "a = 1\n",
    "b = 2\n",
    "\n",
    "'The value of a is'\n",
    "a\n",
    "'The value of b is'\n",
    "b"
   ]
  },
  {
   "cell_type": "code",
   "execution_count": 37,
   "id": "9efa3d54",
   "metadata": {},
   "outputs": [
    {
     "name": "stdout",
     "output_type": "stream",
     "text": [
      "The value of a is\n",
      "1\n",
      "The value of b is\n",
      "2\n"
     ]
    }
   ],
   "source": [
    "a = 1\n",
    "b = 2\n",
    "\n",
    "print('The value of a is')\n",
    "print(a)\n",
    "print('The value of b is')\n",
    "print(b)"
   ]
  },
  {
   "cell_type": "markdown",
   "id": "a08c2b00",
   "metadata": {},
   "source": [
    "So far, we've talked about integers, floats, and strings. There are often times where we might want to convert between these datatypes.\n",
    " * The `int` function will try to convert an input to an integer type\n",
    " * The `float` function will try to convert an input to a float type\n",
    " * The `str` function will try to convert an input to a string type"
   ]
  },
  {
   "cell_type": "code",
   "execution_count": 39,
   "id": "b3e70fd5",
   "metadata": {},
   "outputs": [
    {
     "data": {
      "text/plain": [
       "2.0"
      ]
     },
     "execution_count": 39,
     "metadata": {},
     "output_type": "execute_result"
    }
   ],
   "source": [
    "float(2)"
   ]
  },
  {
   "cell_type": "code",
   "execution_count": 40,
   "id": "e5d2a7b8",
   "metadata": {},
   "outputs": [
    {
     "data": {
      "text/plain": [
       "1.2345"
      ]
     },
     "execution_count": 40,
     "metadata": {},
     "output_type": "execute_result"
    }
   ],
   "source": [
    "float('1.2345')"
   ]
  },
  {
   "cell_type": "code",
   "execution_count": 41,
   "id": "f559c4cc",
   "metadata": {},
   "outputs": [
    {
     "ename": "ValueError",
     "evalue": "could not convert string to float: '1.234ab'",
     "output_type": "error",
     "traceback": [
      "\u001b[1;31m---------------------------------------------------------------------------\u001b[0m",
      "\u001b[1;31mValueError\u001b[0m                                Traceback (most recent call last)",
      "\u001b[1;32m~\\AppData\\Local\\Temp\\ipykernel_32096\\2563777790.py\u001b[0m in \u001b[0;36m<module>\u001b[1;34m\u001b[0m\n\u001b[1;32m----> 1\u001b[1;33m \u001b[0mfloat\u001b[0m\u001b[1;33m(\u001b[0m\u001b[1;34m'1.234ab'\u001b[0m\u001b[1;33m)\u001b[0m\u001b[1;33m\u001b[0m\u001b[1;33m\u001b[0m\u001b[0m\n\u001b[0m",
      "\u001b[1;31mValueError\u001b[0m: could not convert string to float: '1.234ab'"
     ]
    }
   ],
   "source": [
    "float('1.234ab')"
   ]
  },
  {
   "cell_type": "code",
   "execution_count": 43,
   "id": "8f8e7978",
   "metadata": {},
   "outputs": [
    {
     "data": {
      "text/plain": [
       "'22222'"
      ]
     },
     "execution_count": 43,
     "metadata": {},
     "output_type": "execute_result"
    }
   ],
   "source": [
    "str(2) * 5"
   ]
  },
  {
   "cell_type": "code",
   "execution_count": 45,
   "id": "5e43d6d4",
   "metadata": {},
   "outputs": [
    {
     "data": {
      "text/plain": [
       "'1.2345hi'"
      ]
     },
     "execution_count": 45,
     "metadata": {},
     "output_type": "execute_result"
    }
   ],
   "source": [
    "str(1.2345) + 'hi'"
   ]
  },
  {
   "cell_type": "code",
   "execution_count": 46,
   "id": "032248ac",
   "metadata": {},
   "outputs": [
    {
     "ename": "TypeError",
     "evalue": "unsupported operand type(s) for +: 'float' and 'str'",
     "output_type": "error",
     "traceback": [
      "\u001b[1;31m---------------------------------------------------------------------------\u001b[0m",
      "\u001b[1;31mTypeError\u001b[0m                                 Traceback (most recent call last)",
      "\u001b[1;32m~\\AppData\\Local\\Temp\\ipykernel_32096\\2157588859.py\u001b[0m in \u001b[0;36m<module>\u001b[1;34m\u001b[0m\n\u001b[1;32m----> 1\u001b[1;33m \u001b[1;36m1.2345\u001b[0m \u001b[1;33m+\u001b[0m \u001b[1;34m'hi'\u001b[0m\u001b[1;33m\u001b[0m\u001b[1;33m\u001b[0m\u001b[0m\n\u001b[0m",
      "\u001b[1;31mTypeError\u001b[0m: unsupported operand type(s) for +: 'float' and 'str'"
     ]
    }
   ],
   "source": [
    "1.2345 + 'hi'"
   ]
  },
  {
   "cell_type": "code",
   "execution_count": 47,
   "id": "daf42d74",
   "metadata": {},
   "outputs": [
    {
     "data": {
      "text/plain": [
       "4321"
      ]
     },
     "execution_count": 47,
     "metadata": {},
     "output_type": "execute_result"
    }
   ],
   "source": [
    "int('4321')"
   ]
  },
  {
   "cell_type": "code",
   "execution_count": 48,
   "id": "7d91e38d",
   "metadata": {},
   "outputs": [
    {
     "data": {
      "text/plain": [
       "5"
      ]
     },
     "execution_count": 48,
     "metadata": {},
     "output_type": "execute_result"
    }
   ],
   "source": [
    "int(5.0)"
   ]
  },
  {
   "cell_type": "code",
   "execution_count": 49,
   "id": "84bef310",
   "metadata": {},
   "outputs": [
    {
     "data": {
      "text/plain": [
       "4"
      ]
     },
     "execution_count": 49,
     "metadata": {},
     "output_type": "execute_result"
    }
   ],
   "source": [
    "int(4.9)"
   ]
  },
  {
   "cell_type": "code",
   "execution_count": 50,
   "id": "85a632ae",
   "metadata": {},
   "outputs": [
    {
     "data": {
      "text/plain": [
       "-2"
      ]
     },
     "execution_count": 50,
     "metadata": {},
     "output_type": "execute_result"
    }
   ],
   "source": [
    "int(-2.3)"
   ]
  },
  {
   "cell_type": "markdown",
   "id": "01bc258d",
   "metadata": {},
   "source": [
    "The `int` function will truncate a float and drop any decimal part."
   ]
  },
  {
   "cell_type": "markdown",
   "id": "54ade07b",
   "metadata": {},
   "source": [
    "Sometimes we might want to round to the nearest integer."
   ]
  },
  {
   "cell_type": "code",
   "execution_count": 52,
   "id": "ceff5beb",
   "metadata": {},
   "outputs": [
    {
     "data": {
      "text/plain": [
       "5"
      ]
     },
     "execution_count": 52,
     "metadata": {},
     "output_type": "execute_result"
    }
   ],
   "source": [
    "round(4.9)"
   ]
  },
  {
   "cell_type": "code",
   "execution_count": 53,
   "id": "4e3b647c",
   "metadata": {},
   "outputs": [
    {
     "data": {
      "text/plain": [
       "-2"
      ]
     },
     "execution_count": 53,
     "metadata": {},
     "output_type": "execute_result"
    }
   ],
   "source": [
    "round(-2.3)"
   ]
  },
  {
   "cell_type": "markdown",
   "id": "64be7a7b",
   "metadata": {},
   "source": [
    "## String formatting"
   ]
  },
  {
   "cell_type": "markdown",
   "id": "796a9969",
   "metadata": {},
   "source": [
    "Very often, we have some string template that we want to fill in with calculated data."
   ]
  },
  {
   "cell_type": "code",
   "execution_count": 55,
   "id": "a1173423",
   "metadata": {},
   "outputs": [
    {
     "name": "stdout",
     "output_type": "stream",
     "text": [
      "This product of\n",
      "123\n",
      "and\n",
      "567\n",
      "is\n",
      "69741\n"
     ]
    }
   ],
   "source": [
    "a = 123\n",
    "b = 567\n",
    "\n",
    "print('This product of')\n",
    "print(a)\n",
    "print('and')\n",
    "print(b)\n",
    "print('is')\n",
    "print(a*b)"
   ]
  },
  {
   "cell_type": "markdown",
   "id": "5f5cb297",
   "metadata": {},
   "source": [
    "We can print all of this using a single print statement by separating our inputs by commas:"
   ]
  },
  {
   "cell_type": "code",
   "execution_count": 57,
   "id": "c482a118",
   "metadata": {},
   "outputs": [
    {
     "name": "stdout",
     "output_type": "stream",
     "text": [
      "The product of 123 and 567 is 69741 .\n"
     ]
    }
   ],
   "source": [
    "print('The product of', a, 'and', b, 'is', a*b, '.')"
   ]
  },
  {
   "cell_type": "markdown",
   "id": "469152eb",
   "metadata": {},
   "source": [
    "There are several ways that we can accomplish this in a sleeker fashion. One way is by using the `.format` method:"
   ]
  },
  {
   "cell_type": "code",
   "execution_count": 60,
   "id": "d0dbdbb0",
   "metadata": {},
   "outputs": [
    {
     "name": "stdout",
     "output_type": "stream",
     "text": [
      "The product of 1.23 and 5.713 is 7.02699.\n"
     ]
    }
   ],
   "source": [
    "a = 1.23\n",
    "b = 5.713\n",
    "\n",
    "my_string_template = 'The product of {} and {} is {}.'\n",
    "\n",
    "print(my_string_template.format(a, b, a*b))"
   ]
  },
  {
   "cell_type": "markdown",
   "id": "5fb06eed",
   "metadata": {},
   "source": [
    "## Working with lists in Python"
   ]
  },
  {
   "cell_type": "markdown",
   "id": "359b465b",
   "metadata": {},
   "source": [
    "Another datatype in Python are `list`s, which contain ordered collections of objects. To define a list, we surround a comma-separated collection with square brackets."
   ]
  },
  {
   "cell_type": "code",
   "execution_count": 64,
   "id": "6567f507",
   "metadata": {},
   "outputs": [],
   "source": [
    "my_list = [1, 4, 6, 'hello', -2.4]"
   ]
  },
  {
   "cell_type": "code",
   "execution_count": 65,
   "id": "ba63a7e9",
   "metadata": {},
   "outputs": [
    {
     "name": "stdout",
     "output_type": "stream",
     "text": [
      "[1, 4, 6, 'hello', -2.4]\n"
     ]
    }
   ],
   "source": [
    "print(my_list)"
   ]
  },
  {
   "cell_type": "markdown",
   "id": "834ed602",
   "metadata": {},
   "source": [
    "To access elements of a list, we use square brackets again along with an index. Python is a **0-based indexing** language, which means the index of each list starts at `0`. That is, `0` indicates the first item in the list."
   ]
  },
  {
   "cell_type": "code",
   "execution_count": 66,
   "id": "e2c817a7",
   "metadata": {},
   "outputs": [
    {
     "data": {
      "text/plain": [
       "1"
      ]
     },
     "execution_count": 66,
     "metadata": {},
     "output_type": "execute_result"
    }
   ],
   "source": [
    "my_list[0]"
   ]
  },
  {
   "cell_type": "code",
   "execution_count": 67,
   "id": "d3bf3d1c",
   "metadata": {},
   "outputs": [
    {
     "data": {
      "text/plain": [
       "4"
      ]
     },
     "execution_count": 67,
     "metadata": {},
     "output_type": "execute_result"
    }
   ],
   "source": [
    "my_list[1]"
   ]
  },
  {
   "cell_type": "code",
   "execution_count": 68,
   "id": "8bb34c6a",
   "metadata": {},
   "outputs": [
    {
     "data": {
      "text/plain": [
       "-2.4"
      ]
     },
     "execution_count": 68,
     "metadata": {},
     "output_type": "execute_result"
    }
   ],
   "source": [
    "my_list[4]"
   ]
  },
  {
   "cell_type": "code",
   "execution_count": 69,
   "id": "3f2a79d4",
   "metadata": {},
   "outputs": [
    {
     "ename": "IndexError",
     "evalue": "list index out of range",
     "output_type": "error",
     "traceback": [
      "\u001b[1;31m---------------------------------------------------------------------------\u001b[0m",
      "\u001b[1;31mIndexError\u001b[0m                                Traceback (most recent call last)",
      "\u001b[1;32m~\\AppData\\Local\\Temp\\ipykernel_32096\\303719451.py\u001b[0m in \u001b[0;36m<module>\u001b[1;34m\u001b[0m\n\u001b[1;32m----> 1\u001b[1;33m \u001b[0mmy_list\u001b[0m\u001b[1;33m[\u001b[0m\u001b[1;36m5\u001b[0m\u001b[1;33m]\u001b[0m\u001b[1;33m\u001b[0m\u001b[1;33m\u001b[0m\u001b[0m\n\u001b[0m",
      "\u001b[1;31mIndexError\u001b[0m: list index out of range"
     ]
    }
   ],
   "source": [
    "my_list[5]"
   ]
  },
  {
   "cell_type": "markdown",
   "id": "700dd852",
   "metadata": {},
   "source": [
    "We can also elements of a list by counting backward from the end using negative indices.\n",
    " * The `-1`st index gives the last element.\n",
    " * The `-2`nd index gives the second to last element."
   ]
  },
  {
   "cell_type": "code",
   "execution_count": 70,
   "id": "3352e93e",
   "metadata": {},
   "outputs": [
    {
     "data": {
      "text/plain": [
       "-2.4"
      ]
     },
     "execution_count": 70,
     "metadata": {},
     "output_type": "execute_result"
    }
   ],
   "source": [
    "my_list[-1]"
   ]
  },
  {
   "cell_type": "code",
   "execution_count": 71,
   "id": "dd1f1a22",
   "metadata": {},
   "outputs": [
    {
     "data": {
      "text/plain": [
       "'hello'"
      ]
     },
     "execution_count": 71,
     "metadata": {},
     "output_type": "execute_result"
    }
   ],
   "source": [
    "my_list[-2]"
   ]
  },
  {
   "cell_type": "code",
   "execution_count": 72,
   "id": "b6fea4ea",
   "metadata": {},
   "outputs": [
    {
     "data": {
      "text/plain": [
       "6"
      ]
     },
     "execution_count": 72,
     "metadata": {},
     "output_type": "execute_result"
    }
   ],
   "source": [
    "my_list[-3]"
   ]
  },
  {
   "cell_type": "code",
   "execution_count": 73,
   "id": "62a753fd",
   "metadata": {},
   "outputs": [
    {
     "data": {
      "text/plain": [
       "1"
      ]
     },
     "execution_count": 73,
     "metadata": {},
     "output_type": "execute_result"
    }
   ],
   "source": [
    "my_list[-5]"
   ]
  },
  {
   "cell_type": "code",
   "execution_count": 74,
   "id": "eb47373e",
   "metadata": {},
   "outputs": [
    {
     "ename": "IndexError",
     "evalue": "list index out of range",
     "output_type": "error",
     "traceback": [
      "\u001b[1;31m---------------------------------------------------------------------------\u001b[0m",
      "\u001b[1;31mIndexError\u001b[0m                                Traceback (most recent call last)",
      "\u001b[1;32m~\\AppData\\Local\\Temp\\ipykernel_32096\\3123414668.py\u001b[0m in \u001b[0;36m<module>\u001b[1;34m\u001b[0m\n\u001b[1;32m----> 1\u001b[1;33m \u001b[0mmy_list\u001b[0m\u001b[1;33m[\u001b[0m\u001b[1;33m-\u001b[0m\u001b[1;36m6\u001b[0m\u001b[1;33m]\u001b[0m\u001b[1;33m\u001b[0m\u001b[1;33m\u001b[0m\u001b[0m\n\u001b[0m",
      "\u001b[1;31mIndexError\u001b[0m: list index out of range"
     ]
    }
   ],
   "source": [
    "my_list[-6]"
   ]
  },
  {
   "cell_type": "markdown",
   "id": "a74d8641",
   "metadata": {},
   "source": [
    "Arithmetic on lists:"
   ]
  },
  {
   "cell_type": "code",
   "execution_count": 76,
   "id": "191f0d00",
   "metadata": {},
   "outputs": [
    {
     "data": {
      "text/plain": [
       "[1, 2, 3, 'a', 'b', 'c', 'd']"
      ]
     },
     "execution_count": 76,
     "metadata": {},
     "output_type": "execute_result"
    }
   ],
   "source": [
    "[1,2,3] + ['a','b','c','d']"
   ]
  },
  {
   "cell_type": "code",
   "execution_count": 77,
   "id": "66e4ec6f",
   "metadata": {},
   "outputs": [
    {
     "data": {
      "text/plain": [
       "[1, 2, 3, 1, 2, 3, 1, 2, 3]"
      ]
     },
     "execution_count": 77,
     "metadata": {},
     "output_type": "execute_result"
    }
   ],
   "source": [
    "[1,2,3] * 3"
   ]
  },
  {
   "cell_type": "markdown",
   "id": "6dff8b8b",
   "metadata": {},
   "source": [
    "In many ways, lists and strings work in the same way."
   ]
  },
  {
   "cell_type": "code",
   "execution_count": 78,
   "id": "687f4e9c",
   "metadata": {},
   "outputs": [
    {
     "data": {
      "text/plain": [
       "'H'"
      ]
     },
     "execution_count": 78,
     "metadata": {},
     "output_type": "execute_result"
    }
   ],
   "source": [
    "my_string = 'Hello this is MTH 337'\n",
    "\n",
    "my_string[0]"
   ]
  },
  {
   "cell_type": "code",
   "execution_count": 79,
   "id": "46464e6f",
   "metadata": {},
   "outputs": [
    {
     "data": {
      "text/plain": [
       "'7'"
      ]
     },
     "execution_count": 79,
     "metadata": {},
     "output_type": "execute_result"
    }
   ],
   "source": [
    "my_string[-1]"
   ]
  },
  {
   "cell_type": "markdown",
   "id": "d634a2e4",
   "metadata": {},
   "source": [
    "We can convert between lists and strings using the `list` and `str` functions:"
   ]
  },
  {
   "cell_type": "code",
   "execution_count": 81,
   "id": "c9088698",
   "metadata": {},
   "outputs": [
    {
     "name": "stdout",
     "output_type": "stream",
     "text": [
      "['H', 'e', 'l', 'l', 'o', ' ', 't', 'h', 'i', 's', ' ', 'i', 's', ' ', 'M', 'T', 'H', ' ', '3', '3', '7']\n"
     ]
    }
   ],
   "source": [
    "print(list(my_string))"
   ]
  },
  {
   "cell_type": "code",
   "execution_count": 82,
   "id": "d8b8932c",
   "metadata": {},
   "outputs": [
    {
     "data": {
      "text/plain": [
       "\"['a', 'e', 'i', 'o', 'u']\""
      ]
     },
     "execution_count": 82,
     "metadata": {},
     "output_type": "execute_result"
    }
   ],
   "source": [
    "str(['a','e','i','o','u'])"
   ]
  },
  {
   "cell_type": "markdown",
   "id": "b4d7b93c",
   "metadata": {},
   "source": [
    "It does not look like this is doing quite what we want, since the resulting includes the list delimitors and element separators."
   ]
  },
  {
   "cell_type": "markdown",
   "id": "23abd5d7",
   "metadata": {},
   "source": [
    "We can fix this by using the `.join` method on a string:"
   ]
  },
  {
   "cell_type": "code",
   "execution_count": 83,
   "id": "36381233",
   "metadata": {},
   "outputs": [
    {
     "data": {
      "text/plain": [
       "'aeiou'"
      ]
     },
     "execution_count": 83,
     "metadata": {},
     "output_type": "execute_result"
    }
   ],
   "source": [
    "my_list = ['a','e','i','o','u']\n",
    "\n",
    "''.join(my_list)"
   ]
  },
  {
   "cell_type": "markdown",
   "id": "0703a057",
   "metadata": {},
   "source": [
    "We can do much more with the `.join` method. In particular, we can any string a separator between the elements of the list that we want to concatenate:"
   ]
  },
  {
   "cell_type": "code",
   "execution_count": 84,
   "id": "747733ca",
   "metadata": {},
   "outputs": [
    {
     "data": {
      "text/plain": [
       "'a - e - i - o - u'"
      ]
     },
     "execution_count": 84,
     "metadata": {},
     "output_type": "execute_result"
    }
   ],
   "source": [
    "' - '.join(my_list)"
   ]
  },
  {
   "cell_type": "code",
   "execution_count": 85,
   "id": "44d39dd5",
   "metadata": {},
   "outputs": [
    {
     "data": {
      "text/plain": [
       "'aThis is a separatoreThis is a separatoriThis is a separatoroThis is a separatoru'"
      ]
     },
     "execution_count": 85,
     "metadata": {},
     "output_type": "execute_result"
    }
   ],
   "source": [
    "'This is a separator'.join(my_list)"
   ]
  },
  {
   "cell_type": "code",
   "execution_count": 88,
   "id": "7a4cc815",
   "metadata": {
    "scrolled": true
   },
   "outputs": [
    {
     "name": "stdout",
     "output_type": "stream",
     "text": [
      "The prime factorization of 12 is 2*2*3\n"
     ]
    }
   ],
   "source": [
    "print('The prime factorization of {} is {}'.format(12, \n",
    "                                                   '*'.join(['2','2','3'])))"
   ]
  },
  {
   "cell_type": "markdown",
   "id": "9fbb7197",
   "metadata": {},
   "source": [
    "## Working with loops in Python"
   ]
  },
  {
   "cell_type": "markdown",
   "id": "0b930e41",
   "metadata": {},
   "source": [
    "We can perform iterative operations using a `for` loop. For example, we can iterate through the items in a list:"
   ]
  },
  {
   "cell_type": "markdown",
   "id": "14ce4915",
   "metadata": {},
   "source": [
    "The syntax is: \n",
    "\n",
    "<code>\n",
    "for (some variable name) in (some iterable object):\n",
    "    (do something)\n",
    "</code>"
   ]
  },
  {
   "cell_type": "code",
   "execution_count": 89,
   "id": "a4dab02e",
   "metadata": {},
   "outputs": [
    {
     "name": "stdout",
     "output_type": "stream",
     "text": [
      "2\n",
      "4\n",
      "6\n",
      "hellohello\n",
      "goodbyegoodbye\n"
     ]
    }
   ],
   "source": [
    "my_list = [1,2,3,'hello','goodbye']\n",
    "\n",
    "for element in my_list:\n",
    "    print(2*element)"
   ]
  },
  {
   "cell_type": "markdown",
   "id": "d1e50a1f",
   "metadata": {},
   "source": [
    "**Key info**: The spacing in Python is **critical!!!**. In particular, the tabbing decides what operations are part of a `for` loop and what operations are not."
   ]
  },
  {
   "cell_type": "code",
   "execution_count": 91,
   "id": "25158846",
   "metadata": {},
   "outputs": [
    {
     "name": "stdout",
     "output_type": "stream",
     "text": [
      "1\n",
      "This is inside the for loop\n",
      "2\n",
      "This is inside the for loop\n",
      "3\n",
      "This is inside the for loop\n",
      "hello\n",
      "This is inside the for loop\n",
      "goodbye\n",
      "This is inside the for loop\n",
      "This is outside the for loop\n"
     ]
    }
   ],
   "source": [
    "for a in my_list:\n",
    "    print(a)\n",
    "    print('This is inside the for loop')\n",
    "print('This is outside the for loop')"
   ]
  },
  {
   "cell_type": "markdown",
   "id": "b4d3f07a",
   "metadata": {},
   "source": [
    "We can also use `for` loops inside other `for` loops:"
   ]
  },
  {
   "cell_type": "code",
   "execution_count": 92,
   "id": "1f7a0356",
   "metadata": {},
   "outputs": [
    {
     "name": "stdout",
     "output_type": "stream",
     "text": [
      "1 + 4 = 5\n",
      "1 + 5 = 6\n",
      "1 + 6 = 7\n",
      "2 + 4 = 6\n",
      "2 + 5 = 7\n",
      "2 + 6 = 8\n",
      "3 + 4 = 7\n",
      "3 + 5 = 8\n",
      "3 + 6 = 9\n"
     ]
    }
   ],
   "source": [
    "for a in [1,2,3]:\n",
    "    for b in [4,5,6]:\n",
    "        print(\"{} + {} = {}\".format(a,b,a+b))"
   ]
  },
  {
   "cell_type": "markdown",
   "id": "29c18c6a",
   "metadata": {},
   "source": [
    "In the example above, we're iterating through all combinations of the two lists `[1,2,3]` and `[4,5,6]`."
   ]
  },
  {
   "cell_type": "markdown",
   "id": "3b34c34e",
   "metadata": {},
   "source": [
    "We can use other types of iterables to setup `for` loops. In the examples above, we've been iterating through a pre-defined list. Suppose we want to perform some operation on the first 10,000 positive integers."
   ]
  },
  {
   "cell_type": "code",
   "execution_count": null,
   "id": "c03a1157",
   "metadata": {},
   "outputs": [],
   "source": [
    "for n in [1,2,3,4,5,6,7,8,..]"
   ]
  },
  {
   "cell_type": "markdown",
   "id": "4aec41a7",
   "metadata": {},
   "source": [
    "The `range` function is means for iterating through sequences of integers:"
   ]
  },
  {
   "cell_type": "code",
   "execution_count": 93,
   "id": "110f6267",
   "metadata": {
    "scrolled": false
   },
   "outputs": [
    {
     "name": "stdout",
     "output_type": "stream",
     "text": [
      "Help on class range in module builtins:\n",
      "\n",
      "class range(object)\n",
      " |  range(stop) -> range object\n",
      " |  range(start, stop[, step]) -> range object\n",
      " |  \n",
      " |  Return an object that produces a sequence of integers from start (inclusive)\n",
      " |  to stop (exclusive) by step.  range(i, j) produces i, i+1, i+2, ..., j-1.\n",
      " |  start defaults to 0, and stop is omitted!  range(4) produces 0, 1, 2, 3.\n",
      " |  These are exactly the valid indices for a list of 4 elements.\n",
      " |  When step is given, it specifies the increment (or decrement).\n",
      " |  \n",
      " |  Methods defined here:\n",
      " |  \n",
      " |  __bool__(self, /)\n",
      " |      True if self else False\n",
      " |  \n",
      " |  __contains__(self, key, /)\n",
      " |      Return key in self.\n",
      " |  \n",
      " |  __eq__(self, value, /)\n",
      " |      Return self==value.\n",
      " |  \n",
      " |  __ge__(self, value, /)\n",
      " |      Return self>=value.\n",
      " |  \n",
      " |  __getattribute__(self, name, /)\n",
      " |      Return getattr(self, name).\n",
      " |  \n",
      " |  __getitem__(self, key, /)\n",
      " |      Return self[key].\n",
      " |  \n",
      " |  __gt__(self, value, /)\n",
      " |      Return self>value.\n",
      " |  \n",
      " |  __hash__(self, /)\n",
      " |      Return hash(self).\n",
      " |  \n",
      " |  __iter__(self, /)\n",
      " |      Implement iter(self).\n",
      " |  \n",
      " |  __le__(self, value, /)\n",
      " |      Return self<=value.\n",
      " |  \n",
      " |  __len__(self, /)\n",
      " |      Return len(self).\n",
      " |  \n",
      " |  __lt__(self, value, /)\n",
      " |      Return self<value.\n",
      " |  \n",
      " |  __ne__(self, value, /)\n",
      " |      Return self!=value.\n",
      " |  \n",
      " |  __reduce__(...)\n",
      " |      Helper for pickle.\n",
      " |  \n",
      " |  __repr__(self, /)\n",
      " |      Return repr(self).\n",
      " |  \n",
      " |  __reversed__(...)\n",
      " |      Return a reverse iterator.\n",
      " |  \n",
      " |  count(...)\n",
      " |      rangeobject.count(value) -> integer -- return number of occurrences of value\n",
      " |  \n",
      " |  index(...)\n",
      " |      rangeobject.index(value) -> integer -- return index of value.\n",
      " |      Raise ValueError if the value is not present.\n",
      " |  \n",
      " |  ----------------------------------------------------------------------\n",
      " |  Static methods defined here:\n",
      " |  \n",
      " |  __new__(*args, **kwargs) from builtins.type\n",
      " |      Create and return a new object.  See help(type) for accurate signature.\n",
      " |  \n",
      " |  ----------------------------------------------------------------------\n",
      " |  Data descriptors defined here:\n",
      " |  \n",
      " |  start\n",
      " |  \n",
      " |  step\n",
      " |  \n",
      " |  stop\n",
      "\n"
     ]
    }
   ],
   "source": [
    "help(range)"
   ]
  },
  {
   "cell_type": "code",
   "execution_count": 94,
   "id": "bb002eb6",
   "metadata": {},
   "outputs": [
    {
     "name": "stdout",
     "output_type": "stream",
     "text": [
      "0\n",
      "1\n",
      "2\n",
      "3\n",
      "4\n"
     ]
    }
   ],
   "source": [
    "for n in range(5):\n",
    "    print(n)"
   ]
  },
  {
   "cell_type": "markdown",
   "id": "943ee916",
   "metadata": {},
   "source": [
    " * `range(n)` will give a sequence of integers starting at `0` and going up to `n-1`.\n",
    " * `range(m,n)` will give a sequence of integers starting at `m` and going up to `n-1`.\n",
    " * `range(m,n,k)` will give a sequence of integers starting `m`, stepping by `k`, and stopping before `n`."
   ]
  },
  {
   "cell_type": "code",
   "execution_count": 96,
   "id": "892300c2",
   "metadata": {},
   "outputs": [
    {
     "name": "stdout",
     "output_type": "stream",
     "text": [
      "6\n",
      "7\n",
      "8\n",
      "9\n",
      "10\n",
      "11\n",
      "12\n",
      "13\n",
      "14\n"
     ]
    }
   ],
   "source": [
    "for n in range(6,15):\n",
    "    print(n)"
   ]
  },
  {
   "cell_type": "code",
   "execution_count": 97,
   "id": "642a8460",
   "metadata": {},
   "outputs": [
    {
     "name": "stdout",
     "output_type": "stream",
     "text": [
      "6\n",
      "10\n",
      "14\n"
     ]
    }
   ],
   "source": [
    "for n in range(6,15,4):\n",
    "    print(n)"
   ]
  },
  {
   "cell_type": "markdown",
   "id": "64db5e7d",
   "metadata": {},
   "source": [
    "**Exercise**: Write Python code to print the cubes of the first 50 positive integers."
   ]
  },
  {
   "cell_type": "code",
   "execution_count": 98,
   "id": "c857908d",
   "metadata": {
    "scrolled": false
   },
   "outputs": [
    {
     "name": "stdout",
     "output_type": "stream",
     "text": [
      "1\n",
      "8\n",
      "27\n",
      "64\n",
      "125\n",
      "216\n",
      "343\n",
      "512\n",
      "729\n",
      "1000\n",
      "1331\n",
      "1728\n",
      "2197\n",
      "2744\n",
      "3375\n",
      "4096\n",
      "4913\n",
      "5832\n",
      "6859\n",
      "8000\n",
      "9261\n",
      "10648\n",
      "12167\n",
      "13824\n",
      "15625\n",
      "17576\n",
      "19683\n",
      "21952\n",
      "24389\n",
      "27000\n",
      "29791\n",
      "32768\n",
      "35937\n",
      "39304\n",
      "42875\n",
      "46656\n",
      "50653\n",
      "54872\n",
      "59319\n",
      "64000\n",
      "68921\n",
      "74088\n",
      "79507\n",
      "85184\n",
      "91125\n",
      "97336\n",
      "103823\n",
      "110592\n",
      "117649\n",
      "125000\n"
     ]
    }
   ],
   "source": [
    "for n in range(1,51):\n",
    "    print(n**3)"
   ]
  },
  {
   "cell_type": "markdown",
   "id": "f8db8f31",
   "metadata": {},
   "source": [
    "So far, we've explicitly generated lists using square brackets and comma-separated inputs. Suppose we want to generate a list containing the cubes of the first 50 positive integers."
   ]
  },
  {
   "cell_type": "markdown",
   "id": "918b1d5d",
   "metadata": {},
   "source": [
    "We can start with an empty list `[]`, and then iteratively use the `.append` method to add elements to that list."
   ]
  },
  {
   "cell_type": "code",
   "execution_count": 99,
   "id": "520850aa",
   "metadata": {},
   "outputs": [
    {
     "name": "stdout",
     "output_type": "stream",
     "text": [
      "[5, 10]\n"
     ]
    }
   ],
   "source": [
    "my_list = []\n",
    "\n",
    "my_list.append(5)\n",
    "my_list.append(10)\n",
    "\n",
    "print(my_list)"
   ]
  },
  {
   "cell_type": "code",
   "execution_count": 100,
   "id": "d7594b8d",
   "metadata": {},
   "outputs": [],
   "source": [
    "cubes = []\n",
    "\n",
    "for n in range(1,51):\n",
    "    cubes.append(n**3)"
   ]
  },
  {
   "cell_type": "markdown",
   "id": "791c1b0d",
   "metadata": {},
   "source": [
    "Suppose we want to count how many of the first 50 cubes end in a digit of `1`. That means we want iterate through each of our cubes, and then somehow decide whether or not it ends in a `1`."
   ]
  },
  {
   "cell_type": "markdown",
   "id": "085b5775",
   "metadata": {},
   "source": [
    "This leads us to Boolean expressions and `if` statements:"
   ]
  },
  {
   "cell_type": "markdown",
   "id": "35600194",
   "metadata": {},
   "source": [
    "## Boolean expressions"
   ]
  },
  {
   "cell_type": "markdown",
   "id": "3d2a238e",
   "metadata": {},
   "source": [
    "There are two Boolean values, namely `True` and `False`."
   ]
  },
  {
   "cell_type": "markdown",
   "id": "dc83a953",
   "metadata": {},
   "source": [
    "We can write statements that evalute to either `True` or `False` called **Boolean expressions**."
   ]
  },
  {
   "cell_type": "code",
   "execution_count": 107,
   "id": "1ad74121",
   "metadata": {},
   "outputs": [
    {
     "data": {
      "text/plain": [
       "True"
      ]
     },
     "execution_count": 107,
     "metadata": {},
     "output_type": "execute_result"
    }
   ],
   "source": [
    "5 < 7"
   ]
  },
  {
   "cell_type": "code",
   "execution_count": 108,
   "id": "8be86815",
   "metadata": {},
   "outputs": [
    {
     "data": {
      "text/plain": [
       "False"
      ]
     },
     "execution_count": 108,
     "metadata": {},
     "output_type": "execute_result"
    }
   ],
   "source": [
    "10 < 8"
   ]
  },
  {
   "cell_type": "code",
   "execution_count": 109,
   "id": "11d8d563",
   "metadata": {},
   "outputs": [
    {
     "data": {
      "text/plain": [
       "True"
      ]
     },
     "execution_count": 109,
     "metadata": {},
     "output_type": "execute_result"
    }
   ],
   "source": [
    "6 > 1"
   ]
  },
  {
   "cell_type": "markdown",
   "id": "fda846cb",
   "metadata": {},
   "source": [
    "We can use `<=` or `>=` for lessn than/greater than or equal to:"
   ]
  },
  {
   "cell_type": "code",
   "execution_count": 110,
   "id": "1195753e",
   "metadata": {},
   "outputs": [
    {
     "data": {
      "text/plain": [
       "True"
      ]
     },
     "execution_count": 110,
     "metadata": {},
     "output_type": "execute_result"
    }
   ],
   "source": [
    "5 <= 6"
   ]
  },
  {
   "cell_type": "code",
   "execution_count": 111,
   "id": "2f6e4d9c",
   "metadata": {},
   "outputs": [
    {
     "data": {
      "text/plain": [
       "False"
      ]
     },
     "execution_count": 111,
     "metadata": {},
     "output_type": "execute_result"
    }
   ],
   "source": [
    "5 < 5"
   ]
  },
  {
   "cell_type": "code",
   "execution_count": 112,
   "id": "7ab3a51e",
   "metadata": {},
   "outputs": [
    {
     "data": {
      "text/plain": [
       "True"
      ]
     },
     "execution_count": 112,
     "metadata": {},
     "output_type": "execute_result"
    }
   ],
   "source": [
    "5 <= 5"
   ]
  },
  {
   "cell_type": "markdown",
   "id": "1173108a",
   "metadata": {},
   "source": [
    "We can use a double equality to check whether two objects are equal to one another:"
   ]
  },
  {
   "cell_type": "code",
   "execution_count": 115,
   "id": "d611b039",
   "metadata": {},
   "outputs": [
    {
     "data": {
      "text/plain": [
       "True"
      ]
     },
     "execution_count": 115,
     "metadata": {},
     "output_type": "execute_result"
    }
   ],
   "source": [
    "5 == 5"
   ]
  },
  {
   "cell_type": "markdown",
   "id": "25ba1fb6",
   "metadata": {},
   "source": [
    "We can also check whether two lists are equal to one another:"
   ]
  },
  {
   "cell_type": "code",
   "execution_count": 116,
   "id": "1482d720",
   "metadata": {},
   "outputs": [
    {
     "data": {
      "text/plain": [
       "False"
      ]
     },
     "execution_count": 116,
     "metadata": {},
     "output_type": "execute_result"
    }
   ],
   "source": [
    "[1,2,3] == [1,2,7]"
   ]
  },
  {
   "cell_type": "code",
   "execution_count": 117,
   "id": "4a9a663f",
   "metadata": {},
   "outputs": [
    {
     "data": {
      "text/plain": [
       "True"
      ]
     },
     "execution_count": 117,
     "metadata": {},
     "output_type": "execute_result"
    }
   ],
   "source": [
    "[1,2,3] == [1,2,3]"
   ]
  },
  {
   "cell_type": "markdown",
   "id": "8f5c1bd8",
   "metadata": {},
   "source": [
    "We can use an `if` statement to perform some operations only when a Boolean expression is `True`."
   ]
  },
  {
   "cell_type": "code",
   "execution_count": 127,
   "id": "099baa50",
   "metadata": {},
   "outputs": [
    {
     "name": "stdout",
     "output_type": "stream",
     "text": [
      "The product of 5 and 7 is small.\n",
      "Done\n"
     ]
    }
   ],
   "source": [
    "a = 5\n",
    "b = 7\n",
    "\n",
    "if a * b < 100:\n",
    "    print(\"The product of {} and {} is small.\".format(a,b))\n",
    "if 100 <= a * b < 1000:\n",
    "    print(\"The product of {} and {} is medium.\".format(a,b))\n",
    "    \n",
    "print('Done')"
   ]
  },
  {
   "cell_type": "markdown",
   "id": "cf441d3d",
   "metadata": {},
   "source": [
    "We can also an `elif` statement (which is short for \"else if\") to perform operations only in the case that the first `if` expression was `False`:"
   ]
  },
  {
   "cell_type": "code",
   "execution_count": 129,
   "id": "4fc18abc",
   "metadata": {},
   "outputs": [
    {
     "name": "stdout",
     "output_type": "stream",
     "text": [
      "The product of 45 and 7 is medium.\n",
      "Done\n"
     ]
    }
   ],
   "source": [
    "a = 45\n",
    "b = 7\n",
    "\n",
    "if a * b < 100:\n",
    "    print(\"The product of {} and {} is small.\".format(a,b))\n",
    "elif a * b < 1000:\n",
    "    print(\"The product of {} and {} is medium.\".format(a,b))\n",
    "    \n",
    "print('Done')"
   ]
  },
  {
   "cell_type": "markdown",
   "id": "ae2a9339",
   "metadata": {},
   "source": [
    "We can also use an `else` statement to perform some operations if none of the `if` or `elif` expressions were `True`."
   ]
  },
  {
   "cell_type": "code",
   "execution_count": 132,
   "id": "1583b41b",
   "metadata": {},
   "outputs": [
    {
     "name": "stdout",
     "output_type": "stream",
     "text": [
      "The product of 45 and 7500 is huge\n",
      "Done\n"
     ]
    }
   ],
   "source": [
    "a = 45\n",
    "b = 7500\n",
    "\n",
    "if a * b < 100:\n",
    "    print(\"The product of {} and {} is small.\".format(a,b))\n",
    "elif a * b < 1000:\n",
    "    print(\"The product of {} and {} is medium.\".format(a,b))\n",
    "elif a * b < 10000:\n",
    "    print(\"The product of {} and {} is big.\".format(a,b))\n",
    "else: \n",
    "    print(\"The product of {} and {} is huge\".format(a,b))\n",
    "    \n",
    "    \n",
    "print('Done')"
   ]
  },
  {
   "cell_type": "markdown",
   "id": "66cc0930",
   "metadata": {},
   "source": [
    "**Exercise:** Count how many cubes of the first 50 positive integers end in a digit of 1."
   ]
  },
  {
   "cell_type": "markdown",
   "id": "3a21502e",
   "metadata": {},
   "source": [
    "# Wednesday, January 29th"
   ]
  },
  {
   "cell_type": "code",
   "execution_count": 1,
   "id": "7094a09b",
   "metadata": {},
   "outputs": [],
   "source": [
    "cubes = []\n",
    "\n",
    "for n in range(1,51):\n",
    "    cubes.append(n**3)"
   ]
  },
  {
   "cell_type": "code",
   "execution_count": 3,
   "id": "413641c6",
   "metadata": {
    "scrolled": true
   },
   "outputs": [
    {
     "name": "stdout",
     "output_type": "stream",
     "text": [
      "[1, 8, 27, 64, 125, 216, 343, 512, 729, 1000, 1331, 1728, 2197, 2744, 3375, 4096, 4913, 5832, 6859, 8000, 9261, 10648, 12167, 13824, 15625, 17576, 19683, 21952, 24389, 27000, 29791, 32768, 35937, 39304, 42875, 46656, 50653, 54872, 59319, 64000, 68921, 74088, 79507, 85184, 91125, 97336, 103823, 110592, 117649, 125000]\n"
     ]
    }
   ],
   "source": [
    "print(cubes)"
   ]
  },
  {
   "cell_type": "code",
   "execution_count": 4,
   "id": "573962d9",
   "metadata": {},
   "outputs": [],
   "source": [
    "cubes_that_end_in_1 = []\n",
    "\n",
    "for n in range(1,51):\n",
    "    if n**3 % 10 == 1:\n",
    "        cubes_that_end_in_1.append(n**3)"
   ]
  },
  {
   "cell_type": "code",
   "execution_count": 5,
   "id": "e10050aa",
   "metadata": {},
   "outputs": [
    {
     "data": {
      "text/plain": [
       "[1, 1331, 9261, 29791, 68921]"
      ]
     },
     "execution_count": 5,
     "metadata": {},
     "output_type": "execute_result"
    }
   ],
   "source": [
    "cubes_that_end_in_1"
   ]
  },
  {
   "cell_type": "markdown",
   "id": "2a0bd371",
   "metadata": {},
   "source": [
    "Some thoughts about efficiency:\n",
    " - In the previous calculation, we compute `n**3` twice. It would be better to compute it once and store it, then reuse the stored result.\n",
    " - We are also reconstructing the first 50 cubes, even though we've already computed all of them."
   ]
  },
  {
   "cell_type": "code",
   "execution_count": 6,
   "id": "eaff8e2a",
   "metadata": {},
   "outputs": [],
   "source": [
    "cubes_that_end_in_1 = []\n",
    "\n",
    "for n in range(1,51):\n",
    "    cube = n**3\n",
    "    if cube % 10 == 1:\n",
    "        cubes_that_end_in_1.append(cube)"
   ]
  },
  {
   "cell_type": "code",
   "execution_count": 9,
   "id": "751db8ff",
   "metadata": {},
   "outputs": [],
   "source": [
    "cubes_that_end_in_1 = []\n",
    "\n",
    "for cube in cubes:\n",
    "    if cube % 10 == 1:\n",
    "        cubes_that_end_in_1.append(cube)"
   ]
  },
  {
   "cell_type": "code",
   "execution_count": 10,
   "id": "992d9288",
   "metadata": {},
   "outputs": [
    {
     "data": {
      "text/plain": [
       "[1, 1331, 9261, 29791, 68921]"
      ]
     },
     "execution_count": 10,
     "metadata": {},
     "output_type": "execute_result"
    }
   ],
   "source": [
    "cubes_that_end_in_1"
   ]
  },
  {
   "cell_type": "markdown",
   "id": "49400871",
   "metadata": {},
   "source": [
    "Let's explore how the number of cubes that end in 1 grows as we look at larger cubes:"
   ]
  },
  {
   "cell_type": "code",
   "execution_count": 36,
   "id": "3c5bb9ff",
   "metadata": {},
   "outputs": [],
   "source": [
    "N = 100000\n",
    "last_digit = 9\n",
    "\n",
    "cubes = []\n",
    "cubes_that_end_in_last_digit = []\n",
    "\n",
    "for n in range(1,N+1):\n",
    "    cubes.append(n**3)\n",
    "\n",
    "for cube in cubes:\n",
    "    if cube % 10 == last_digit:\n",
    "        cubes_that_end_in_last_digit.append(cube)"
   ]
  },
  {
   "cell_type": "markdown",
   "id": "bc73567d",
   "metadata": {},
   "source": [
    "We can use the `len` function to get the length of a list."
   ]
  },
  {
   "cell_type": "code",
   "execution_count": 37,
   "id": "85632674",
   "metadata": {},
   "outputs": [
    {
     "data": {
      "text/plain": [
       "10000"
      ]
     },
     "execution_count": 37,
     "metadata": {},
     "output_type": "execute_result"
    }
   ],
   "source": [
    "len(cubes_that_end_in_last_digit)"
   ]
  },
  {
   "cell_type": "markdown",
   "id": "743ee108",
   "metadata": {},
   "source": [
    "**Exercise:** Modify the previous code cell to iterate through all digits `0`, `1`, `2`, ..., `9` and print the number cubes that end in each digit."
   ]
  },
  {
   "cell_type": "code",
   "execution_count": 50,
   "id": "b58c9ba1",
   "metadata": {},
   "outputs": [
    {
     "name": "stdout",
     "output_type": "stream",
     "text": [
      "There are 10000 cubes that end in 0\n",
      "There are 10000 cubes that end in 1\n",
      "There are 10000 cubes that end in 2\n",
      "There are 10000 cubes that end in 3\n",
      "There are 10000 cubes that end in 4\n",
      "There are 10000 cubes that end in 5\n",
      "There are 10000 cubes that end in 6\n",
      "There are 10000 cubes that end in 7\n",
      "There are 10000 cubes that end in 8\n",
      "There are 10000 cubes that end in 9\n"
     ]
    }
   ],
   "source": [
    "N = 100000\n",
    "\n",
    "for last_digit in range(10):\n",
    "    cubes = []\n",
    "    cubes_that_end_in_last_digit = []\n",
    "\n",
    "    for n in range(1,N+1):\n",
    "        cubes.append(n**3)\n",
    "\n",
    "    for cube in cubes:\n",
    "        if cube % 10 == last_digit:\n",
    "            cubes_that_end_in_last_digit.append(cube)\n",
    "            \n",
    "    print('There are',len(cubes_that_end_in_last_digit),'cubes that end in',last_digit)"
   ]
  },
  {
   "cell_type": "code",
   "execution_count": 52,
   "id": "d3d5bd25",
   "metadata": {},
   "outputs": [
    {
     "name": "stdout",
     "output_type": "stream",
     "text": [
      "There are 10000 cubes that end in 0\n",
      "There are 10000 cubes that end in 1\n",
      "There are 10000 cubes that end in 2\n",
      "There are 10000 cubes that end in 3\n",
      "There are 10000 cubes that end in 4\n",
      "There are 10000 cubes that end in 5\n",
      "There are 10000 cubes that end in 6\n",
      "There are 10000 cubes that end in 7\n",
      "There are 10000 cubes that end in 8\n",
      "There are 10000 cubes that end in 9\n"
     ]
    }
   ],
   "source": [
    "N = 100000\n",
    "\n",
    "cubes = []\n",
    "for n in range(1,N+1):\n",
    "    cubes.append(n**3)\n",
    "\n",
    "for last_digit in range(10): \n",
    "    cubes_that_end_in_last_digit = []\n",
    "    \n",
    "    for cube in cubes:\n",
    "        if cube % 10 == last_digit:\n",
    "            cubes_that_end_in_last_digit.append(cube)\n",
    "            \n",
    "    print('There are',len(cubes_that_end_in_last_digit),'cubes that end in',last_digit)"
   ]
  },
  {
   "cell_type": "markdown",
   "id": "7acea5ab",
   "metadata": {},
   "source": [
    "**Exercise:** Modify the previous cell to count the number of cubes whose remainder after dividing by 4 is `0`, `1`, `2`, or `3`."
   ]
  },
  {
   "cell_type": "code",
   "execution_count": 54,
   "id": "29cfb54f",
   "metadata": {},
   "outputs": [
    {
     "name": "stdout",
     "output_type": "stream",
     "text": [
      "For the first 100000 cubes:\n",
      "There are 50000 cubes that have remainder 0 after division by 4\n",
      "There are 25000 cubes that have remainder 1 after division by 4\n",
      "There are 0 cubes that have remainder 2 after division by 4\n",
      "There are 25000 cubes that have remainder 3 after division by 4\n"
     ]
    }
   ],
   "source": [
    "N = 100000\n",
    "\n",
    "print('For the first',N,'cubes:')\n",
    "divisor = 4\n",
    "\n",
    "cubes = []\n",
    "for n in range(1,N+1):\n",
    "    cubes.append(n**3)\n",
    "\n",
    "for last_digit in range(divisor): \n",
    "    cubes_that_end_in_last_digit = []\n",
    "    \n",
    "    for cube in cubes:\n",
    "        if cube % divisor == last_digit:\n",
    "            cubes_that_end_in_last_digit.append(cube)\n",
    "            \n",
    "    print('There are',len(cubes_that_end_in_last_digit),'cubes that have remainder',\n",
    "          last_digit,'after division by',divisor)"
   ]
  },
  {
   "cell_type": "markdown",
   "id": "97897d67",
   "metadata": {},
   "source": [
    "Suppose that we want to find the first 100 cubes that have remainder 1 after division by 4."
   ]
  },
  {
   "cell_type": "markdown",
   "id": "eb50da66",
   "metadata": {},
   "source": [
    "Problem: We don't know ahead of time how many numbers we'd have to check before we find 100 such cubes."
   ]
  },
  {
   "cell_type": "markdown",
   "id": "a91201fd",
   "metadata": {},
   "source": [
    "For these types of problems, it makes sense to use a `while` loop. With `while` loops, we will iteratiavely perform some operations as long as some Boolean expression is `True`."
   ]
  },
  {
   "cell_type": "code",
   "execution_count": 55,
   "id": "64a91f8a",
   "metadata": {},
   "outputs": [
    {
     "name": "stdout",
     "output_type": "stream",
     "text": [
      "10\n",
      "20\n",
      "30\n",
      "40\n",
      "50\n",
      "60\n",
      "70\n",
      "80\n",
      "90\n",
      "100\n"
     ]
    }
   ],
   "source": [
    "n = 0\n",
    "\n",
    "while n < 100:\n",
    "    n = n + 10\n",
    "    print(n)"
   ]
  },
  {
   "cell_type": "code",
   "execution_count": 56,
   "id": "a96f6d64",
   "metadata": {},
   "outputs": [],
   "source": [
    "found_cubes = []\n",
    "\n",
    "n = 1\n",
    "while len(found_cubes) < 100:\n",
    "    cube = n**3\n",
    "    if cube % 4 == 1:\n",
    "        found_cubes.append(cube)\n",
    "    n = n + 1"
   ]
  },
  {
   "cell_type": "code",
   "execution_count": 58,
   "id": "735dbb43",
   "metadata": {},
   "outputs": [
    {
     "name": "stdout",
     "output_type": "stream",
     "text": [
      "[1, 125, 729, 2197, 4913, 9261, 15625, 24389, 35937, 50653, 68921, 91125, 117649, 148877, 185193, 226981, 274625, 328509, 389017, 456533, 531441, 614125, 704969, 804357, 912673, 1030301, 1157625, 1295029, 1442897, 1601613, 1771561, 1953125, 2146689, 2352637, 2571353, 2803221, 3048625, 3307949, 3581577, 3869893, 4173281, 4492125, 4826809, 5177717, 5545233, 5929741, 6331625, 6751269, 7189057, 7645373, 8120601, 8615125, 9129329, 9663597, 10218313, 10793861, 11390625, 12008989, 12649337, 13312053, 13997521, 14706125, 15438249, 16194277, 16974593, 17779581, 18609625, 19465109, 20346417, 21253933, 22188041, 23149125, 24137569, 25153757, 26198073, 27270901, 28372625, 29503629, 30664297, 31855013, 33076161, 34328125, 35611289, 36926037, 38272753, 39651821, 41063625, 42508549, 43986977, 45499293, 47045881, 48627125, 50243409, 51895117, 53582633, 55306341, 57066625, 58863869, 60698457, 62570773]\n"
     ]
    }
   ],
   "source": [
    "print(found_cubes)"
   ]
  },
  {
   "cell_type": "markdown",
   "id": "a0719156",
   "metadata": {},
   "source": [
    "**Warnings:**\n",
    " - Unlike with `for` loops, it is very easy to end up with a `while` loop that runs forever.\n",
    " - Always make sure that your Boolean expression will eventually be `False` so that the `while` loop can terminate\n",
    " - Check that you are incrementing any necessary variables with each iteration"
   ]
  },
  {
   "cell_type": "markdown",
   "id": "d0f26d8a",
   "metadata": {},
   "source": [
    "There are some shortcuts for incrementing variables. In particular:\n",
    " - `n += 1` is equivalent to `n = n + 1`\n",
    " - `n -= 3` is equivalent to `n = n - 3`\n",
    " - `n *= 7` is equivalent to `n = n * 7`\n"
   ]
  },
  {
   "cell_type": "code",
   "execution_count": 61,
   "id": "01301802",
   "metadata": {},
   "outputs": [],
   "source": [
    "found_cubes = []\n",
    "\n",
    "n = 1\n",
    "while len(found_cubes) < 100:\n",
    "    cube = n**3\n",
    "    if cube % 4 == 1:\n",
    "        found_cubes.append(cube)\n",
    "    n += 1"
   ]
  },
  {
   "cell_type": "markdown",
   "id": "87c571e2",
   "metadata": {},
   "source": [
    "## Project 1\n",
    "\n",
    "This project deals with prime numbers and numbers that share some properties with primes. It will be useful if we can develop some code to decide whether a given integer is prime or not."
   ]
  },
  {
   "cell_type": "markdown",
   "id": "ffe69a7d",
   "metadata": {},
   "source": [
    "To check for primality, we can check all positive integers between `2` and our number (excluding the number) to see if any divide the number."
   ]
  },
  {
   "cell_type": "code",
   "execution_count": 67,
   "id": "9977ca77",
   "metadata": {},
   "outputs": [
    {
     "name": "stdout",
     "output_type": "stream",
     "text": [
      "15 is not prime, it is divisible by 3\n",
      "15 is not prime, it is divisible by 5\n"
     ]
    }
   ],
   "source": [
    "n = 15\n",
    "\n",
    "for d in range(2,n):\n",
    "    if n / d == n // d:\n",
    "        print('{} is not prime, it is divisible by {}'.format(n,d))"
   ]
  },
  {
   "cell_type": "markdown",
   "id": "92f21825",
   "metadata": {},
   "source": [
    "Instead of printing out these statements, can we define a Boolean variable that will `True` is `n` is prime and `False` if `n` is not prime?"
   ]
  },
  {
   "cell_type": "code",
   "execution_count": 72,
   "id": "ea6a0b49",
   "metadata": {},
   "outputs": [
    {
     "name": "stdout",
     "output_type": "stream",
     "text": [
      "127 is a prime number\n"
     ]
    }
   ],
   "source": [
    "n = 127\n",
    "\n",
    "n_is_prime = True\n",
    "\n",
    "for d in range(2,n):\n",
    "    if n % d == 0:\n",
    "        n_is_prime = False\n",
    "        \n",
    "if n_is_prime:\n",
    "    print('{} is a prime number'.format(n))\n",
    "else:\n",
    "    print('{} is not a prime number'.format(n))"
   ]
  },
  {
   "cell_type": "markdown",
   "id": "67c5d248",
   "metadata": {},
   "source": [
    "Another way to deal with this problem is to use a `break` command. The `break` will immediately terminate a loop."
   ]
  },
  {
   "cell_type": "code",
   "execution_count": 73,
   "id": "5eb21c6f",
   "metadata": {},
   "outputs": [
    {
     "name": "stdout",
     "output_type": "stream",
     "text": [
      "Checking if 2 divides 128\n",
      "Checking if 3 divides 128\n",
      "Checking if 4 divides 128\n",
      "Checking if 5 divides 128\n",
      "Checking if 6 divides 128\n",
      "Checking if 7 divides 128\n",
      "Checking if 8 divides 128\n",
      "Checking if 9 divides 128\n",
      "Checking if 10 divides 128\n",
      "Checking if 11 divides 128\n",
      "Checking if 12 divides 128\n",
      "Checking if 13 divides 128\n",
      "Checking if 14 divides 128\n",
      "Checking if 15 divides 128\n",
      "Checking if 16 divides 128\n",
      "Checking if 17 divides 128\n",
      "Checking if 18 divides 128\n",
      "Checking if 19 divides 128\n",
      "Checking if 20 divides 128\n",
      "Checking if 21 divides 128\n",
      "Checking if 22 divides 128\n",
      "Checking if 23 divides 128\n",
      "Checking if 24 divides 128\n",
      "Checking if 25 divides 128\n",
      "Checking if 26 divides 128\n",
      "Checking if 27 divides 128\n",
      "Checking if 28 divides 128\n",
      "Checking if 29 divides 128\n",
      "Checking if 30 divides 128\n",
      "Checking if 31 divides 128\n",
      "Checking if 32 divides 128\n",
      "Checking if 33 divides 128\n",
      "Checking if 34 divides 128\n",
      "Checking if 35 divides 128\n",
      "Checking if 36 divides 128\n",
      "Checking if 37 divides 128\n",
      "Checking if 38 divides 128\n",
      "Checking if 39 divides 128\n",
      "Checking if 40 divides 128\n",
      "Checking if 41 divides 128\n",
      "Checking if 42 divides 128\n",
      "Checking if 43 divides 128\n",
      "Checking if 44 divides 128\n",
      "Checking if 45 divides 128\n",
      "Checking if 46 divides 128\n",
      "Checking if 47 divides 128\n",
      "Checking if 48 divides 128\n",
      "Checking if 49 divides 128\n",
      "Checking if 50 divides 128\n",
      "Checking if 51 divides 128\n",
      "Checking if 52 divides 128\n",
      "Checking if 53 divides 128\n",
      "Checking if 54 divides 128\n",
      "Checking if 55 divides 128\n",
      "Checking if 56 divides 128\n",
      "Checking if 57 divides 128\n",
      "Checking if 58 divides 128\n",
      "Checking if 59 divides 128\n",
      "Checking if 60 divides 128\n",
      "Checking if 61 divides 128\n",
      "Checking if 62 divides 128\n",
      "Checking if 63 divides 128\n",
      "Checking if 64 divides 128\n",
      "Checking if 65 divides 128\n",
      "Checking if 66 divides 128\n",
      "Checking if 67 divides 128\n",
      "Checking if 68 divides 128\n",
      "Checking if 69 divides 128\n",
      "Checking if 70 divides 128\n",
      "Checking if 71 divides 128\n",
      "Checking if 72 divides 128\n",
      "Checking if 73 divides 128\n",
      "Checking if 74 divides 128\n",
      "Checking if 75 divides 128\n",
      "Checking if 76 divides 128\n",
      "Checking if 77 divides 128\n",
      "Checking if 78 divides 128\n",
      "Checking if 79 divides 128\n",
      "Checking if 80 divides 128\n",
      "Checking if 81 divides 128\n",
      "Checking if 82 divides 128\n",
      "Checking if 83 divides 128\n",
      "Checking if 84 divides 128\n",
      "Checking if 85 divides 128\n",
      "Checking if 86 divides 128\n",
      "Checking if 87 divides 128\n",
      "Checking if 88 divides 128\n",
      "Checking if 89 divides 128\n",
      "Checking if 90 divides 128\n",
      "Checking if 91 divides 128\n",
      "Checking if 92 divides 128\n",
      "Checking if 93 divides 128\n",
      "Checking if 94 divides 128\n",
      "Checking if 95 divides 128\n",
      "Checking if 96 divides 128\n",
      "Checking if 97 divides 128\n",
      "Checking if 98 divides 128\n",
      "Checking if 99 divides 128\n",
      "Checking if 100 divides 128\n",
      "Checking if 101 divides 128\n",
      "Checking if 102 divides 128\n",
      "Checking if 103 divides 128\n",
      "Checking if 104 divides 128\n",
      "Checking if 105 divides 128\n",
      "Checking if 106 divides 128\n",
      "Checking if 107 divides 128\n",
      "Checking if 108 divides 128\n",
      "Checking if 109 divides 128\n",
      "Checking if 110 divides 128\n",
      "Checking if 111 divides 128\n",
      "Checking if 112 divides 128\n",
      "Checking if 113 divides 128\n",
      "Checking if 114 divides 128\n",
      "Checking if 115 divides 128\n",
      "Checking if 116 divides 128\n",
      "Checking if 117 divides 128\n",
      "Checking if 118 divides 128\n",
      "Checking if 119 divides 128\n",
      "Checking if 120 divides 128\n",
      "Checking if 121 divides 128\n",
      "Checking if 122 divides 128\n",
      "Checking if 123 divides 128\n",
      "Checking if 124 divides 128\n",
      "Checking if 125 divides 128\n",
      "Checking if 126 divides 128\n",
      "Checking if 127 divides 128\n",
      "128 is not a prime number\n"
     ]
    }
   ],
   "source": [
    "n = 128\n",
    "\n",
    "n_is_prime = True\n",
    "\n",
    "for d in range(2,n):\n",
    "    print('Checking if {} divides {}'.format(d,n))\n",
    "    if n % d == 0:\n",
    "        n_is_prime = False\n",
    "        \n",
    "if n_is_prime:\n",
    "    print('{} is a prime number'.format(n))\n",
    "else:\n",
    "    print('{} is not a prime number'.format(n))"
   ]
  },
  {
   "cell_type": "markdown",
   "id": "11099566",
   "metadata": {},
   "source": [
    "In the above cell, we immediately realize that `128` is not prime when we check `d=2`, so there's no need to run the rest of the checks. We can use a `break` to terminate the loop early."
   ]
  },
  {
   "cell_type": "code",
   "execution_count": 74,
   "id": "5d769358",
   "metadata": {},
   "outputs": [
    {
     "name": "stdout",
     "output_type": "stream",
     "text": [
      "Checking if 2 divides 128\n",
      "128 is not a prime number\n"
     ]
    }
   ],
   "source": [
    "n = 128\n",
    "\n",
    "n_is_prime = True\n",
    "\n",
    "for d in range(2,n):\n",
    "    print('Checking if {} divides {}'.format(d,n))\n",
    "    if n % d == 0:\n",
    "        n_is_prime = False\n",
    "        break\n",
    "        \n",
    "if n_is_prime:\n",
    "    print('{} is a prime number'.format(n))\n",
    "else:\n",
    "    print('{} is not a prime number'.format(n))"
   ]
  },
  {
   "cell_type": "markdown",
   "id": "d1f3a696",
   "metadata": {},
   "source": [
    "## More about Markdown: LaTeX"
   ]
  },
  {
   "cell_type": "markdown",
   "id": "68cadc9d",
   "metadata": {},
   "source": [
    "LaTeX is a tool for writing math expressions. To enter LaTeX mode in a markdown cell, we use dollar signs `$`."
   ]
  },
  {
   "cell_type": "markdown",
   "id": "77891872",
   "metadata": {},
   "source": [
    "- Plain-text:\n",
    " - 123456\n",
    " - 123^456\n",
    " - 123_456\n",
    "- LaTeX:\n",
    " - $123456$\n",
    " - $123^{456}$\n",
    " - $123_{456}$"
   ]
  },
  {
   "cell_type": "markdown",
   "id": "e3638c67",
   "metadata": {},
   "source": [
    "Some common LaTeX commands:\n",
    "\n",
    " - Exponents: `$x^2 + y^$` renders as $x^2 + y^2$\n",
    " - Fractions: `\\frac{numerator}{denominator}$` renders as $\\frac{numerator}{denominator}$\n",
    " - Integrals and trig functions: `\\int_0^x \\cos(t) dt$` renders as $\\int_0^x \\cos(t) dt$\n",
    " \n",
    "Using a single dollar sign writes LaTeX in in-line mode. We can use two dollar signs (`$$`) to write in display mode, which gives a centered equation. For example, `$$\\int_0^x \\cos(t) dt$$` renders as:\n",
    "\n",
    "$$\\int_0^x \\cos(t) dt$$\n",
    "\n",
    " - Subscripts and superscripts: `$a_n$, $2^n$` renders as $a_n$, $2^n$\n",
    " - Square roots and other roots: `$\\sqrt{7}$`, `$\\sqrt[10]{x^2-5}$` renders as $\\sqrt{7}$, $\\sqrt[10]{x^2 - 5}$\n",
    " - Greek letters: `$\\alpha$, $\\beta$, $\\gamma$, $\\sigma$, $\\omega$, $\\pi$` renders as $\\alpha$, $\\beta$, $\\gamma$, $\\sigma$, $\\omega$, $\\pi$"
   ]
  },
  {
   "cell_type": "markdown",
   "id": "bb0f28e9",
   "metadata": {},
   "source": [
    "$$(\\frac{1}{2} + 4)$$"
   ]
  },
  {
   "cell_type": "markdown",
   "id": "ae5f28a7",
   "metadata": {},
   "source": [
    "We can have LaTeX adjust the size of parantheses using `\\left(` and `\\right)`. For example, `$$\\left(\\frac{1}{2} + 4\\right)$$` renders as:"
   ]
  },
  {
   "cell_type": "markdown",
   "id": "9896da83",
   "metadata": {},
   "source": [
    "$$\\left(\\frac{1}{2} + 4\\right)$$"
   ]
  },
  {
   "cell_type": "code",
   "execution_count": null,
   "id": "9eb1fc86",
   "metadata": {},
   "outputs": [],
   "source": []
  }
 ],
 "metadata": {
  "kernelspec": {
   "display_name": "Python 3 (ipykernel)",
   "language": "python",
   "name": "python3"
  },
  "language_info": {
   "codemirror_mode": {
    "name": "ipython",
    "version": 3
   },
   "file_extension": ".py",
   "mimetype": "text/x-python",
   "name": "python",
   "nbconvert_exporter": "python",
   "pygments_lexer": "ipython3",
   "version": "3.9.13"
  }
 },
 "nbformat": 4,
 "nbformat_minor": 5
}
