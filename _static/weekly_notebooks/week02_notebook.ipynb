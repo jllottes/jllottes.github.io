{
 "cells": [
  {
   "cell_type": "markdown",
   "id": "f276bf17",
   "metadata": {},
   "source": [
    "# Monday, January 27th"
   ]
  },
  {
   "cell_type": "markdown",
   "id": "cccf22da",
   "metadata": {},
   "source": [
    "Last time, we had just started discussing defining variables in Python."
   ]
  },
  {
   "cell_type": "code",
   "execution_count": 1,
   "id": "20c20fdd",
   "metadata": {},
   "outputs": [],
   "source": [
    "a = 5\n",
    "b = 7\n",
    "c = -2"
   ]
  },
  {
   "cell_type": "code",
   "execution_count": 2,
   "id": "33d01b6d",
   "metadata": {},
   "outputs": [
    {
     "data": {
      "text/plain": [
       "5"
      ]
     },
     "execution_count": 2,
     "metadata": {},
     "output_type": "execute_result"
    }
   ],
   "source": [
    "a"
   ]
  },
  {
   "cell_type": "code",
   "execution_count": 3,
   "id": "79acde0d",
   "metadata": {},
   "outputs": [
    {
     "data": {
      "text/plain": [
       "-9"
      ]
     },
     "execution_count": 3,
     "metadata": {},
     "output_type": "execute_result"
    }
   ],
   "source": [
    "a + b * c"
   ]
  },
  {
   "cell_type": "markdown",
   "id": "9cf90599",
   "metadata": {},
   "source": [
    "Variable names must:\n",
    " * Start with a letter or underscore (`_`)\n",
    " * Can contain any letter, number, or underscore. "
   ]
  },
  {
   "cell_type": "code",
   "execution_count": 4,
   "id": "7c64e037",
   "metadata": {},
   "outputs": [],
   "source": [
    "this_is_a_variable_name = 10"
   ]
  },
  {
   "cell_type": "code",
   "execution_count": 5,
   "id": "67b557a2",
   "metadata": {},
   "outputs": [],
   "source": [
    "_this_is_another_variable_name = -4"
   ]
  },
  {
   "cell_type": "code",
   "execution_count": 6,
   "id": "2ab67844",
   "metadata": {},
   "outputs": [],
   "source": [
    "variable3 = 100"
   ]
  },
  {
   "cell_type": "code",
   "execution_count": 7,
   "id": "cc479f45",
   "metadata": {},
   "outputs": [
    {
     "ename": "SyntaxError",
     "evalue": "invalid syntax (1144555293.py, line 1)",
     "output_type": "error",
     "traceback": [
      "\u001b[1;36m  File \u001b[1;32m\"C:\\Users\\Luke\\AppData\\Local\\Temp\\ipykernel_32096\\1144555293.py\"\u001b[1;36m, line \u001b[1;32m1\u001b[0m\n\u001b[1;33m    3rd_variable = 10\u001b[0m\n\u001b[1;37m     ^\u001b[0m\n\u001b[1;31mSyntaxError\u001b[0m\u001b[1;31m:\u001b[0m invalid syntax\n"
     ]
    }
   ],
   "source": [
    "3rd_variable = 10"
   ]
  },
  {
   "cell_type": "markdown",
   "id": "3cc8129d",
   "metadata": {},
   "source": [
    "Very often, we'll use underscores as spaces to separate words in our variable names. Another style (known as camelcase) uses capital letters to denote the start of a new word."
   ]
  },
  {
   "cell_type": "code",
   "execution_count": 8,
   "id": "c0bc6267",
   "metadata": {},
   "outputs": [],
   "source": [
    "thisIsAnotherVariableName = -4"
   ]
  },
  {
   "cell_type": "markdown",
   "id": "f85e4e79",
   "metadata": {},
   "source": [
    "In general, we want to choose variable names that helps the reader understand what they represent."
   ]
  },
  {
   "cell_type": "markdown",
   "id": "4b6418c5",
   "metadata": {},
   "source": [
    "We can define several variables simultaneously by separating them by commas:"
   ]
  },
  {
   "cell_type": "code",
   "execution_count": 9,
   "id": "3816c319",
   "metadata": {},
   "outputs": [],
   "source": [
    "a, b, c = 1, 2, 3"
   ]
  },
  {
   "cell_type": "code",
   "execution_count": 10,
   "id": "c8616985",
   "metadata": {},
   "outputs": [
    {
     "data": {
      "text/plain": [
       "1"
      ]
     },
     "execution_count": 10,
     "metadata": {},
     "output_type": "execute_result"
    }
   ],
   "source": [
    "a"
   ]
  },
  {
   "cell_type": "code",
   "execution_count": 11,
   "id": "cf1d3403",
   "metadata": {},
   "outputs": [
    {
     "data": {
      "text/plain": [
       "2"
      ]
     },
     "execution_count": 11,
     "metadata": {},
     "output_type": "execute_result"
    }
   ],
   "source": [
    "b"
   ]
  },
  {
   "cell_type": "code",
   "execution_count": 12,
   "id": "68a919e4",
   "metadata": {},
   "outputs": [
    {
     "data": {
      "text/plain": [
       "3"
      ]
     },
     "execution_count": 12,
     "metadata": {},
     "output_type": "execute_result"
    }
   ],
   "source": [
    "c"
   ]
  },
  {
   "cell_type": "markdown",
   "id": "09bb6b5d",
   "metadata": {},
   "source": [
    "This can be very useful if we ever want to swap the meaning of two variables. As an example, suppose we define `a = 1` and `b = 2`, but then want to swap their values."
   ]
  },
  {
   "cell_type": "code",
   "execution_count": 13,
   "id": "8532f1c2",
   "metadata": {},
   "outputs": [],
   "source": [
    "a = 1\n",
    "b = 2\n",
    "\n",
    "a = b\n",
    "b = a"
   ]
  },
  {
   "cell_type": "code",
   "execution_count": 14,
   "id": "dfde9b42",
   "metadata": {},
   "outputs": [
    {
     "data": {
      "text/plain": [
       "2"
      ]
     },
     "execution_count": 14,
     "metadata": {},
     "output_type": "execute_result"
    }
   ],
   "source": [
    "a"
   ]
  },
  {
   "cell_type": "code",
   "execution_count": 15,
   "id": "0892f080",
   "metadata": {},
   "outputs": [
    {
     "data": {
      "text/plain": [
       "2"
      ]
     },
     "execution_count": 15,
     "metadata": {},
     "output_type": "execute_result"
    }
   ],
   "source": [
    "b"
   ]
  },
  {
   "cell_type": "code",
   "execution_count": 16,
   "id": "54bee4ca",
   "metadata": {},
   "outputs": [],
   "source": [
    "a = 1\n",
    "b = 2\n",
    "\n",
    "old_a = a\n",
    "a = b\n",
    "b = old_a"
   ]
  },
  {
   "cell_type": "code",
   "execution_count": 17,
   "id": "28a7bae8",
   "metadata": {},
   "outputs": [
    {
     "data": {
      "text/plain": [
       "2"
      ]
     },
     "execution_count": 17,
     "metadata": {},
     "output_type": "execute_result"
    }
   ],
   "source": [
    "a"
   ]
  },
  {
   "cell_type": "code",
   "execution_count": 18,
   "id": "7f7b83fc",
   "metadata": {},
   "outputs": [
    {
     "data": {
      "text/plain": [
       "1"
      ]
     },
     "execution_count": 18,
     "metadata": {},
     "output_type": "execute_result"
    }
   ],
   "source": [
    "b"
   ]
  },
  {
   "cell_type": "markdown",
   "id": "099d4afa",
   "metadata": {},
   "source": [
    "We can use comma separated variable definition to perform this swap:"
   ]
  },
  {
   "cell_type": "code",
   "execution_count": 19,
   "id": "cab9347e",
   "metadata": {},
   "outputs": [],
   "source": [
    "a = 1\n",
    "b = 2\n",
    "\n",
    "a,b = b,a"
   ]
  },
  {
   "cell_type": "code",
   "execution_count": 20,
   "id": "e7910559",
   "metadata": {},
   "outputs": [
    {
     "data": {
      "text/plain": [
       "2"
      ]
     },
     "execution_count": 20,
     "metadata": {},
     "output_type": "execute_result"
    }
   ],
   "source": [
    "a"
   ]
  },
  {
   "cell_type": "code",
   "execution_count": 21,
   "id": "cc0c6ca7",
   "metadata": {
    "scrolled": true
   },
   "outputs": [
    {
     "data": {
      "text/plain": [
       "1"
      ]
     },
     "execution_count": 21,
     "metadata": {},
     "output_type": "execute_result"
    }
   ],
   "source": [
    "b"
   ]
  },
  {
   "cell_type": "markdown",
   "id": "fc60fb5e",
   "metadata": {},
   "source": [
    "## Working with strings"
   ]
  },
  {
   "cell_type": "markdown",
   "id": "48c6e656",
   "metadata": {},
   "source": [
    "In Python, strings are used to hold text data. We can define strings by surrounding some text by double quotes `\"` or single quotes `'`:"
   ]
  },
  {
   "cell_type": "code",
   "execution_count": 23,
   "id": "fe461838",
   "metadata": {},
   "outputs": [],
   "source": [
    "this_is_a_string = 'Hello, welcome to MTH 337'"
   ]
  },
  {
   "cell_type": "code",
   "execution_count": 24,
   "id": "0dd1df89",
   "metadata": {},
   "outputs": [
    {
     "data": {
      "text/plain": [
       "'Hello, welcome to MTH 337'"
      ]
     },
     "execution_count": 24,
     "metadata": {},
     "output_type": "execute_result"
    }
   ],
   "source": [
    "this_is_a_string"
   ]
  },
  {
   "cell_type": "markdown",
   "id": "da4a33b1",
   "metadata": {},
   "source": [
    "There are many operations that can be performed on strings. For example:"
   ]
  },
  {
   "cell_type": "code",
   "execution_count": 25,
   "id": "b73485b2",
   "metadata": {},
   "outputs": [
    {
     "data": {
      "text/plain": [
       "'this is a stringthis is a second string'"
      ]
     },
     "execution_count": 25,
     "metadata": {},
     "output_type": "execute_result"
    }
   ],
   "source": [
    "'this is a string' + 'this is a second string'"
   ]
  },
  {
   "cell_type": "markdown",
   "id": "c9b74647",
   "metadata": {},
   "source": [
    "Addition strings together concatenates them."
   ]
  },
  {
   "cell_type": "code",
   "execution_count": 26,
   "id": "45cb6651",
   "metadata": {},
   "outputs": [
    {
     "data": {
      "text/plain": [
       "'this is a stringthis is a stringthis is a stringthis is a stringthis is a string'"
      ]
     },
     "execution_count": 26,
     "metadata": {},
     "output_type": "execute_result"
    }
   ],
   "source": [
    "'this is a string' * 5"
   ]
  },
  {
   "cell_type": "markdown",
   "id": "a218067f",
   "metadata": {},
   "source": [
    "Multiplying a string by an integer concatenates it by the integer number of times."
   ]
  },
  {
   "cell_type": "code",
   "execution_count": 27,
   "id": "5d815a15",
   "metadata": {},
   "outputs": [
    {
     "ename": "TypeError",
     "evalue": "can't multiply sequence by non-int of type 'float'",
     "output_type": "error",
     "traceback": [
      "\u001b[1;31m---------------------------------------------------------------------------\u001b[0m",
      "\u001b[1;31mTypeError\u001b[0m                                 Traceback (most recent call last)",
      "\u001b[1;32m~\\AppData\\Local\\Temp\\ipykernel_32096\\3984047980.py\u001b[0m in \u001b[0;36m<module>\u001b[1;34m\u001b[0m\n\u001b[1;32m----> 1\u001b[1;33m \u001b[1;34m'this is a string'\u001b[0m \u001b[1;33m*\u001b[0m \u001b[1;36m2.5\u001b[0m\u001b[1;33m\u001b[0m\u001b[1;33m\u001b[0m\u001b[0m\n\u001b[0m",
      "\u001b[1;31mTypeError\u001b[0m: can't multiply sequence by non-int of type 'float'"
     ]
    }
   ],
   "source": [
    "'this is a string' * 2.5"
   ]
  },
  {
   "cell_type": "code",
   "execution_count": 28,
   "id": "c30411a3",
   "metadata": {},
   "outputs": [
    {
     "data": {
      "text/plain": [
       "'123123123123123'"
      ]
     },
     "execution_count": 28,
     "metadata": {},
     "output_type": "execute_result"
    }
   ],
   "source": [
    "'123' * 5"
   ]
  },
  {
   "cell_type": "code",
   "execution_count": 30,
   "id": "f05b1d0c",
   "metadata": {},
   "outputs": [
    {
     "data": {
      "text/plain": [
       "615"
      ]
     },
     "execution_count": 30,
     "metadata": {},
     "output_type": "execute_result"
    }
   ],
   "source": [
    "123 * 5 "
   ]
  },
  {
   "cell_type": "code",
   "execution_count": 31,
   "id": "a901fb67",
   "metadata": {},
   "outputs": [
    {
     "data": {
      "text/plain": [
       "'555555555555555555555555555555555555555555555555555555555555555555555555555555555555555555555555555555555555555555555555555'"
      ]
     },
     "execution_count": 31,
     "metadata": {},
     "output_type": "execute_result"
    }
   ],
   "source": [
    "123 * '5'"
   ]
  },
  {
   "cell_type": "code",
   "execution_count": 32,
   "id": "1e0a6ce0",
   "metadata": {},
   "outputs": [
    {
     "ename": "TypeError",
     "evalue": "can't multiply sequence by non-int of type 'str'",
     "output_type": "error",
     "traceback": [
      "\u001b[1;31m---------------------------------------------------------------------------\u001b[0m",
      "\u001b[1;31mTypeError\u001b[0m                                 Traceback (most recent call last)",
      "\u001b[1;32m~\\AppData\\Local\\Temp\\ipykernel_32096\\114232278.py\u001b[0m in \u001b[0;36m<module>\u001b[1;34m\u001b[0m\n\u001b[1;32m----> 1\u001b[1;33m \u001b[1;34m'123'\u001b[0m \u001b[1;33m*\u001b[0m \u001b[1;34m'456'\u001b[0m\u001b[1;33m\u001b[0m\u001b[1;33m\u001b[0m\u001b[0m\n\u001b[0m",
      "\u001b[1;31mTypeError\u001b[0m: can't multiply sequence by non-int of type 'str'"
     ]
    }
   ],
   "source": [
    "'123' * '456'"
   ]
  },
  {
   "cell_type": "markdown",
   "id": "90b9976a",
   "metadata": {},
   "source": [
    "We can also define multi-line strings using triple-single-quotes `'''`:"
   ]
  },
  {
   "cell_type": "code",
   "execution_count": 33,
   "id": "2e9c1ed1",
   "metadata": {},
   "outputs": [
    {
     "ename": "SyntaxError",
     "evalue": "EOL while scanning string literal (2643678918.py, line 1)",
     "output_type": "error",
     "traceback": [
      "\u001b[1;36m  File \u001b[1;32m\"C:\\Users\\Luke\\AppData\\Local\\Temp\\ipykernel_32096\\2643678918.py\"\u001b[1;36m, line \u001b[1;32m1\u001b[0m\n\u001b[1;33m    'this\u001b[0m\n\u001b[1;37m         ^\u001b[0m\n\u001b[1;31mSyntaxError\u001b[0m\u001b[1;31m:\u001b[0m EOL while scanning string literal\n"
     ]
    }
   ],
   "source": [
    "'this\n",
    "will not work correctly\n",
    "as a multi-line string'"
   ]
  },
  {
   "cell_type": "code",
   "execution_count": 34,
   "id": "645fd6bc",
   "metadata": {},
   "outputs": [
    {
     "data": {
      "text/plain": [
       "'this\\nwill work correctly\\nas a multi-line string'"
      ]
     },
     "execution_count": 34,
     "metadata": {},
     "output_type": "execute_result"
    }
   ],
   "source": [
    "'''this\n",
    "will work correctly\n",
    "as a multi-line string'''"
   ]
  },
  {
   "cell_type": "markdown",
   "id": "b9d1e8db",
   "metadata": {},
   "source": [
    "Notice that our multi-line string does not display the way we might hope. If a want to correctly render a multi-line string, we can use the `print` function."
   ]
  },
  {
   "cell_type": "code",
   "execution_count": 36,
   "id": "1993e936",
   "metadata": {},
   "outputs": [
    {
     "name": "stdout",
     "output_type": "stream",
     "text": [
      "this\n",
      "will work correctly\n",
      "as a multi-line string\n"
     ]
    }
   ],
   "source": [
    "my_string = '''this\n",
    "will work correctly\n",
    "as a multi-line string'''\n",
    "\n",
    "print(my_string)"
   ]
  },
  {
   "cell_type": "markdown",
   "id": "8c40a808",
   "metadata": {},
   "source": [
    "The `print` function can be used anytime we want to display some information."
   ]
  },
  {
   "cell_type": "code",
   "execution_count": 38,
   "id": "eac352da",
   "metadata": {},
   "outputs": [
    {
     "data": {
      "text/plain": [
       "2"
      ]
     },
     "execution_count": 38,
     "metadata": {},
     "output_type": "execute_result"
    }
   ],
   "source": [
    "a = 1\n",
    "b = 2\n",
    "\n",
    "'The value of a is'\n",
    "a\n",
    "'The value of b is'\n",
    "b"
   ]
  },
  {
   "cell_type": "code",
   "execution_count": 37,
   "id": "9efa3d54",
   "metadata": {},
   "outputs": [
    {
     "name": "stdout",
     "output_type": "stream",
     "text": [
      "The value of a is\n",
      "1\n",
      "The value of b is\n",
      "2\n"
     ]
    }
   ],
   "source": [
    "a = 1\n",
    "b = 2\n",
    "\n",
    "print('The value of a is')\n",
    "print(a)\n",
    "print('The value of b is')\n",
    "print(b)"
   ]
  },
  {
   "cell_type": "markdown",
   "id": "a08c2b00",
   "metadata": {},
   "source": [
    "So far, we've talked about integers, floats, and strings. There are often times where we might want to convert between these datatypes.\n",
    " * The `int` function will try to convert an input to an integer type\n",
    " * The `float` function will try to convert an input to a float type\n",
    " * The `str` function will try to convert an input to a string type"
   ]
  },
  {
   "cell_type": "code",
   "execution_count": 39,
   "id": "b3e70fd5",
   "metadata": {},
   "outputs": [
    {
     "data": {
      "text/plain": [
       "2.0"
      ]
     },
     "execution_count": 39,
     "metadata": {},
     "output_type": "execute_result"
    }
   ],
   "source": [
    "float(2)"
   ]
  },
  {
   "cell_type": "code",
   "execution_count": 40,
   "id": "e5d2a7b8",
   "metadata": {},
   "outputs": [
    {
     "data": {
      "text/plain": [
       "1.2345"
      ]
     },
     "execution_count": 40,
     "metadata": {},
     "output_type": "execute_result"
    }
   ],
   "source": [
    "float('1.2345')"
   ]
  },
  {
   "cell_type": "code",
   "execution_count": 41,
   "id": "f559c4cc",
   "metadata": {},
   "outputs": [
    {
     "ename": "ValueError",
     "evalue": "could not convert string to float: '1.234ab'",
     "output_type": "error",
     "traceback": [
      "\u001b[1;31m---------------------------------------------------------------------------\u001b[0m",
      "\u001b[1;31mValueError\u001b[0m                                Traceback (most recent call last)",
      "\u001b[1;32m~\\AppData\\Local\\Temp\\ipykernel_32096\\2563777790.py\u001b[0m in \u001b[0;36m<module>\u001b[1;34m\u001b[0m\n\u001b[1;32m----> 1\u001b[1;33m \u001b[0mfloat\u001b[0m\u001b[1;33m(\u001b[0m\u001b[1;34m'1.234ab'\u001b[0m\u001b[1;33m)\u001b[0m\u001b[1;33m\u001b[0m\u001b[1;33m\u001b[0m\u001b[0m\n\u001b[0m",
      "\u001b[1;31mValueError\u001b[0m: could not convert string to float: '1.234ab'"
     ]
    }
   ],
   "source": [
    "float('1.234ab')"
   ]
  },
  {
   "cell_type": "code",
   "execution_count": 43,
   "id": "8f8e7978",
   "metadata": {},
   "outputs": [
    {
     "data": {
      "text/plain": [
       "'22222'"
      ]
     },
     "execution_count": 43,
     "metadata": {},
     "output_type": "execute_result"
    }
   ],
   "source": [
    "str(2) * 5"
   ]
  },
  {
   "cell_type": "code",
   "execution_count": 45,
   "id": "5e43d6d4",
   "metadata": {},
   "outputs": [
    {
     "data": {
      "text/plain": [
       "'1.2345hi'"
      ]
     },
     "execution_count": 45,
     "metadata": {},
     "output_type": "execute_result"
    }
   ],
   "source": [
    "str(1.2345) + 'hi'"
   ]
  },
  {
   "cell_type": "code",
   "execution_count": 46,
   "id": "032248ac",
   "metadata": {},
   "outputs": [
    {
     "ename": "TypeError",
     "evalue": "unsupported operand type(s) for +: 'float' and 'str'",
     "output_type": "error",
     "traceback": [
      "\u001b[1;31m---------------------------------------------------------------------------\u001b[0m",
      "\u001b[1;31mTypeError\u001b[0m                                 Traceback (most recent call last)",
      "\u001b[1;32m~\\AppData\\Local\\Temp\\ipykernel_32096\\2157588859.py\u001b[0m in \u001b[0;36m<module>\u001b[1;34m\u001b[0m\n\u001b[1;32m----> 1\u001b[1;33m \u001b[1;36m1.2345\u001b[0m \u001b[1;33m+\u001b[0m \u001b[1;34m'hi'\u001b[0m\u001b[1;33m\u001b[0m\u001b[1;33m\u001b[0m\u001b[0m\n\u001b[0m",
      "\u001b[1;31mTypeError\u001b[0m: unsupported operand type(s) for +: 'float' and 'str'"
     ]
    }
   ],
   "source": [
    "1.2345 + 'hi'"
   ]
  },
  {
   "cell_type": "code",
   "execution_count": 47,
   "id": "daf42d74",
   "metadata": {},
   "outputs": [
    {
     "data": {
      "text/plain": [
       "4321"
      ]
     },
     "execution_count": 47,
     "metadata": {},
     "output_type": "execute_result"
    }
   ],
   "source": [
    "int('4321')"
   ]
  },
  {
   "cell_type": "code",
   "execution_count": 48,
   "id": "7d91e38d",
   "metadata": {},
   "outputs": [
    {
     "data": {
      "text/plain": [
       "5"
      ]
     },
     "execution_count": 48,
     "metadata": {},
     "output_type": "execute_result"
    }
   ],
   "source": [
    "int(5.0)"
   ]
  },
  {
   "cell_type": "code",
   "execution_count": 49,
   "id": "84bef310",
   "metadata": {},
   "outputs": [
    {
     "data": {
      "text/plain": [
       "4"
      ]
     },
     "execution_count": 49,
     "metadata": {},
     "output_type": "execute_result"
    }
   ],
   "source": [
    "int(4.9)"
   ]
  },
  {
   "cell_type": "code",
   "execution_count": 50,
   "id": "85a632ae",
   "metadata": {},
   "outputs": [
    {
     "data": {
      "text/plain": [
       "-2"
      ]
     },
     "execution_count": 50,
     "metadata": {},
     "output_type": "execute_result"
    }
   ],
   "source": [
    "int(-2.3)"
   ]
  },
  {
   "cell_type": "markdown",
   "id": "01bc258d",
   "metadata": {},
   "source": [
    "The `int` function will truncate a float and drop any decimal part."
   ]
  },
  {
   "cell_type": "markdown",
   "id": "54ade07b",
   "metadata": {},
   "source": [
    "Sometimes we might want to round to the nearest integer."
   ]
  },
  {
   "cell_type": "code",
   "execution_count": 52,
   "id": "ceff5beb",
   "metadata": {},
   "outputs": [
    {
     "data": {
      "text/plain": [
       "5"
      ]
     },
     "execution_count": 52,
     "metadata": {},
     "output_type": "execute_result"
    }
   ],
   "source": [
    "round(4.9)"
   ]
  },
  {
   "cell_type": "code",
   "execution_count": 53,
   "id": "4e3b647c",
   "metadata": {},
   "outputs": [
    {
     "data": {
      "text/plain": [
       "-2"
      ]
     },
     "execution_count": 53,
     "metadata": {},
     "output_type": "execute_result"
    }
   ],
   "source": [
    "round(-2.3)"
   ]
  },
  {
   "cell_type": "markdown",
   "id": "64be7a7b",
   "metadata": {},
   "source": [
    "## String formatting"
   ]
  },
  {
   "cell_type": "markdown",
   "id": "796a9969",
   "metadata": {},
   "source": [
    "Very often, we have some string template that we want to fill in with calculated data."
   ]
  },
  {
   "cell_type": "code",
   "execution_count": 55,
   "id": "a1173423",
   "metadata": {},
   "outputs": [
    {
     "name": "stdout",
     "output_type": "stream",
     "text": [
      "This product of\n",
      "123\n",
      "and\n",
      "567\n",
      "is\n",
      "69741\n"
     ]
    }
   ],
   "source": [
    "a = 123\n",
    "b = 567\n",
    "\n",
    "print('This product of')\n",
    "print(a)\n",
    "print('and')\n",
    "print(b)\n",
    "print('is')\n",
    "print(a*b)"
   ]
  },
  {
   "cell_type": "markdown",
   "id": "5f5cb297",
   "metadata": {},
   "source": [
    "We can print all of this using a single print statement by separating our inputs by commas:"
   ]
  },
  {
   "cell_type": "code",
   "execution_count": 57,
   "id": "c482a118",
   "metadata": {},
   "outputs": [
    {
     "name": "stdout",
     "output_type": "stream",
     "text": [
      "The product of 123 and 567 is 69741 .\n"
     ]
    }
   ],
   "source": [
    "print('The product of', a, 'and', b, 'is', a*b, '.')"
   ]
  },
  {
   "cell_type": "markdown",
   "id": "469152eb",
   "metadata": {},
   "source": [
    "There are several ways that we can accomplish this in a sleeker fashion. One way is by using the `.format` method:"
   ]
  },
  {
   "cell_type": "code",
   "execution_count": 60,
   "id": "d0dbdbb0",
   "metadata": {},
   "outputs": [
    {
     "name": "stdout",
     "output_type": "stream",
     "text": [
      "The product of 1.23 and 5.713 is 7.02699.\n"
     ]
    }
   ],
   "source": [
    "a = 1.23\n",
    "b = 5.713\n",
    "\n",
    "my_string_template = 'The product of {} and {} is {}.'\n",
    "\n",
    "print(my_string_template.format(a, b, a*b))"
   ]
  },
  {
   "cell_type": "markdown",
   "id": "5fb06eed",
   "metadata": {},
   "source": [
    "## Working with lists in Python"
   ]
  },
  {
   "cell_type": "markdown",
   "id": "359b465b",
   "metadata": {},
   "source": [
    "Another datatype in Python are `list`s, which contain ordered collections of objects. To define a list, we surround a comma-separated collection with square brackets."
   ]
  },
  {
   "cell_type": "code",
   "execution_count": 64,
   "id": "6567f507",
   "metadata": {},
   "outputs": [],
   "source": [
    "my_list = [1, 4, 6, 'hello', -2.4]"
   ]
  },
  {
   "cell_type": "code",
   "execution_count": 65,
   "id": "ba63a7e9",
   "metadata": {},
   "outputs": [
    {
     "name": "stdout",
     "output_type": "stream",
     "text": [
      "[1, 4, 6, 'hello', -2.4]\n"
     ]
    }
   ],
   "source": [
    "print(my_list)"
   ]
  },
  {
   "cell_type": "markdown",
   "id": "834ed602",
   "metadata": {},
   "source": [
    "To access elements of a list, we use square brackets again along with an index. Python is a **0-based indexing** language, which means the index of each list starts at `0`. That is, `0` indicates the first item in the list."
   ]
  },
  {
   "cell_type": "code",
   "execution_count": 66,
   "id": "e2c817a7",
   "metadata": {},
   "outputs": [
    {
     "data": {
      "text/plain": [
       "1"
      ]
     },
     "execution_count": 66,
     "metadata": {},
     "output_type": "execute_result"
    }
   ],
   "source": [
    "my_list[0]"
   ]
  },
  {
   "cell_type": "code",
   "execution_count": 67,
   "id": "d3bf3d1c",
   "metadata": {},
   "outputs": [
    {
     "data": {
      "text/plain": [
       "4"
      ]
     },
     "execution_count": 67,
     "metadata": {},
     "output_type": "execute_result"
    }
   ],
   "source": [
    "my_list[1]"
   ]
  },
  {
   "cell_type": "code",
   "execution_count": 68,
   "id": "8bb34c6a",
   "metadata": {},
   "outputs": [
    {
     "data": {
      "text/plain": [
       "-2.4"
      ]
     },
     "execution_count": 68,
     "metadata": {},
     "output_type": "execute_result"
    }
   ],
   "source": [
    "my_list[4]"
   ]
  },
  {
   "cell_type": "code",
   "execution_count": 69,
   "id": "3f2a79d4",
   "metadata": {},
   "outputs": [
    {
     "ename": "IndexError",
     "evalue": "list index out of range",
     "output_type": "error",
     "traceback": [
      "\u001b[1;31m---------------------------------------------------------------------------\u001b[0m",
      "\u001b[1;31mIndexError\u001b[0m                                Traceback (most recent call last)",
      "\u001b[1;32m~\\AppData\\Local\\Temp\\ipykernel_32096\\303719451.py\u001b[0m in \u001b[0;36m<module>\u001b[1;34m\u001b[0m\n\u001b[1;32m----> 1\u001b[1;33m \u001b[0mmy_list\u001b[0m\u001b[1;33m[\u001b[0m\u001b[1;36m5\u001b[0m\u001b[1;33m]\u001b[0m\u001b[1;33m\u001b[0m\u001b[1;33m\u001b[0m\u001b[0m\n\u001b[0m",
      "\u001b[1;31mIndexError\u001b[0m: list index out of range"
     ]
    }
   ],
   "source": [
    "my_list[5]"
   ]
  },
  {
   "cell_type": "markdown",
   "id": "700dd852",
   "metadata": {},
   "source": [
    "We can also elements of a list by counting backward from the end using negative indices.\n",
    " * The `-1`st index gives the last element.\n",
    " * The `-2`nd index gives the second to last element."
   ]
  },
  {
   "cell_type": "code",
   "execution_count": 70,
   "id": "3352e93e",
   "metadata": {},
   "outputs": [
    {
     "data": {
      "text/plain": [
       "-2.4"
      ]
     },
     "execution_count": 70,
     "metadata": {},
     "output_type": "execute_result"
    }
   ],
   "source": [
    "my_list[-1]"
   ]
  },
  {
   "cell_type": "code",
   "execution_count": 71,
   "id": "dd1f1a22",
   "metadata": {},
   "outputs": [
    {
     "data": {
      "text/plain": [
       "'hello'"
      ]
     },
     "execution_count": 71,
     "metadata": {},
     "output_type": "execute_result"
    }
   ],
   "source": [
    "my_list[-2]"
   ]
  },
  {
   "cell_type": "code",
   "execution_count": 72,
   "id": "b6fea4ea",
   "metadata": {},
   "outputs": [
    {
     "data": {
      "text/plain": [
       "6"
      ]
     },
     "execution_count": 72,
     "metadata": {},
     "output_type": "execute_result"
    }
   ],
   "source": [
    "my_list[-3]"
   ]
  },
  {
   "cell_type": "code",
   "execution_count": 73,
   "id": "62a753fd",
   "metadata": {},
   "outputs": [
    {
     "data": {
      "text/plain": [
       "1"
      ]
     },
     "execution_count": 73,
     "metadata": {},
     "output_type": "execute_result"
    }
   ],
   "source": [
    "my_list[-5]"
   ]
  },
  {
   "cell_type": "code",
   "execution_count": 74,
   "id": "eb47373e",
   "metadata": {},
   "outputs": [
    {
     "ename": "IndexError",
     "evalue": "list index out of range",
     "output_type": "error",
     "traceback": [
      "\u001b[1;31m---------------------------------------------------------------------------\u001b[0m",
      "\u001b[1;31mIndexError\u001b[0m                                Traceback (most recent call last)",
      "\u001b[1;32m~\\AppData\\Local\\Temp\\ipykernel_32096\\3123414668.py\u001b[0m in \u001b[0;36m<module>\u001b[1;34m\u001b[0m\n\u001b[1;32m----> 1\u001b[1;33m \u001b[0mmy_list\u001b[0m\u001b[1;33m[\u001b[0m\u001b[1;33m-\u001b[0m\u001b[1;36m6\u001b[0m\u001b[1;33m]\u001b[0m\u001b[1;33m\u001b[0m\u001b[1;33m\u001b[0m\u001b[0m\n\u001b[0m",
      "\u001b[1;31mIndexError\u001b[0m: list index out of range"
     ]
    }
   ],
   "source": [
    "my_list[-6]"
   ]
  },
  {
   "cell_type": "markdown",
   "id": "a74d8641",
   "metadata": {},
   "source": [
    "Arithmetic on lists:"
   ]
  },
  {
   "cell_type": "code",
   "execution_count": 76,
   "id": "191f0d00",
   "metadata": {},
   "outputs": [
    {
     "data": {
      "text/plain": [
       "[1, 2, 3, 'a', 'b', 'c', 'd']"
      ]
     },
     "execution_count": 76,
     "metadata": {},
     "output_type": "execute_result"
    }
   ],
   "source": [
    "[1,2,3] + ['a','b','c','d']"
   ]
  },
  {
   "cell_type": "code",
   "execution_count": 77,
   "id": "66e4ec6f",
   "metadata": {},
   "outputs": [
    {
     "data": {
      "text/plain": [
       "[1, 2, 3, 1, 2, 3, 1, 2, 3]"
      ]
     },
     "execution_count": 77,
     "metadata": {},
     "output_type": "execute_result"
    }
   ],
   "source": [
    "[1,2,3] * 3"
   ]
  },
  {
   "cell_type": "markdown",
   "id": "6dff8b8b",
   "metadata": {},
   "source": [
    "In many ways, lists and strings work in the same way."
   ]
  },
  {
   "cell_type": "code",
   "execution_count": 78,
   "id": "687f4e9c",
   "metadata": {},
   "outputs": [
    {
     "data": {
      "text/plain": [
       "'H'"
      ]
     },
     "execution_count": 78,
     "metadata": {},
     "output_type": "execute_result"
    }
   ],
   "source": [
    "my_string = 'Hello this is MTH 337'\n",
    "\n",
    "my_string[0]"
   ]
  },
  {
   "cell_type": "code",
   "execution_count": 79,
   "id": "46464e6f",
   "metadata": {},
   "outputs": [
    {
     "data": {
      "text/plain": [
       "'7'"
      ]
     },
     "execution_count": 79,
     "metadata": {},
     "output_type": "execute_result"
    }
   ],
   "source": [
    "my_string[-1]"
   ]
  },
  {
   "cell_type": "markdown",
   "id": "d634a2e4",
   "metadata": {},
   "source": [
    "We can convert between lists and strings using the `list` and `str` functions:"
   ]
  },
  {
   "cell_type": "code",
   "execution_count": 81,
   "id": "c9088698",
   "metadata": {},
   "outputs": [
    {
     "name": "stdout",
     "output_type": "stream",
     "text": [
      "['H', 'e', 'l', 'l', 'o', ' ', 't', 'h', 'i', 's', ' ', 'i', 's', ' ', 'M', 'T', 'H', ' ', '3', '3', '7']\n"
     ]
    }
   ],
   "source": [
    "print(list(my_string))"
   ]
  },
  {
   "cell_type": "code",
   "execution_count": 82,
   "id": "d8b8932c",
   "metadata": {},
   "outputs": [
    {
     "data": {
      "text/plain": [
       "\"['a', 'e', 'i', 'o', 'u']\""
      ]
     },
     "execution_count": 82,
     "metadata": {},
     "output_type": "execute_result"
    }
   ],
   "source": [
    "str(['a','e','i','o','u'])"
   ]
  },
  {
   "cell_type": "markdown",
   "id": "b4d7b93c",
   "metadata": {},
   "source": [
    "It does not look like this is doing quite what we want, since the resulting includes the list delimitors and element separators."
   ]
  },
  {
   "cell_type": "markdown",
   "id": "23abd5d7",
   "metadata": {},
   "source": [
    "We can fix this by using the `.join` method on a string:"
   ]
  },
  {
   "cell_type": "code",
   "execution_count": 83,
   "id": "36381233",
   "metadata": {},
   "outputs": [
    {
     "data": {
      "text/plain": [
       "'aeiou'"
      ]
     },
     "execution_count": 83,
     "metadata": {},
     "output_type": "execute_result"
    }
   ],
   "source": [
    "my_list = ['a','e','i','o','u']\n",
    "\n",
    "''.join(my_list)"
   ]
  },
  {
   "cell_type": "markdown",
   "id": "0703a057",
   "metadata": {},
   "source": [
    "We can do much more with the `.join` method. In particular, we can any string a separator between the elements of the list that we want to concatenate:"
   ]
  },
  {
   "cell_type": "code",
   "execution_count": 84,
   "id": "747733ca",
   "metadata": {},
   "outputs": [
    {
     "data": {
      "text/plain": [
       "'a - e - i - o - u'"
      ]
     },
     "execution_count": 84,
     "metadata": {},
     "output_type": "execute_result"
    }
   ],
   "source": [
    "' - '.join(my_list)"
   ]
  },
  {
   "cell_type": "code",
   "execution_count": 85,
   "id": "44d39dd5",
   "metadata": {},
   "outputs": [
    {
     "data": {
      "text/plain": [
       "'aThis is a separatoreThis is a separatoriThis is a separatoroThis is a separatoru'"
      ]
     },
     "execution_count": 85,
     "metadata": {},
     "output_type": "execute_result"
    }
   ],
   "source": [
    "'This is a separator'.join(my_list)"
   ]
  },
  {
   "cell_type": "code",
   "execution_count": 88,
   "id": "7a4cc815",
   "metadata": {
    "scrolled": true
   },
   "outputs": [
    {
     "name": "stdout",
     "output_type": "stream",
     "text": [
      "The prime factorization of 12 is 2*2*3\n"
     ]
    }
   ],
   "source": [
    "print('The prime factorization of {} is {}'.format(12, \n",
    "                                                   '*'.join(['2','2','3'])))"
   ]
  },
  {
   "cell_type": "markdown",
   "id": "9fbb7197",
   "metadata": {},
   "source": [
    "## Working with loops in Python"
   ]
  },
  {
   "cell_type": "markdown",
   "id": "0b930e41",
   "metadata": {},
   "source": [
    "We can perform iterative operations using a `for` loop. For example, we can iterate through the items in a list:"
   ]
  },
  {
   "cell_type": "markdown",
   "id": "14ce4915",
   "metadata": {},
   "source": [
    "The syntax is: \n",
    "\n",
    "<code>\n",
    "for (some variable name) in (some iterable object):\n",
    "    (do something)\n",
    "</code>"
   ]
  },
  {
   "cell_type": "code",
   "execution_count": 89,
   "id": "a4dab02e",
   "metadata": {},
   "outputs": [
    {
     "name": "stdout",
     "output_type": "stream",
     "text": [
      "2\n",
      "4\n",
      "6\n",
      "hellohello\n",
      "goodbyegoodbye\n"
     ]
    }
   ],
   "source": [
    "my_list = [1,2,3,'hello','goodbye']\n",
    "\n",
    "for element in my_list:\n",
    "    print(2*element)"
   ]
  },
  {
   "cell_type": "markdown",
   "id": "d1e50a1f",
   "metadata": {},
   "source": [
    "**Key info**: The spacing in Python is **critical!!!**. In particular, the tabbing decides what operations are part of a `for` loop and what operations are not."
   ]
  },
  {
   "cell_type": "code",
   "execution_count": 91,
   "id": "25158846",
   "metadata": {},
   "outputs": [
    {
     "name": "stdout",
     "output_type": "stream",
     "text": [
      "1\n",
      "This is inside the for loop\n",
      "2\n",
      "This is inside the for loop\n",
      "3\n",
      "This is inside the for loop\n",
      "hello\n",
      "This is inside the for loop\n",
      "goodbye\n",
      "This is inside the for loop\n",
      "This is outside the for loop\n"
     ]
    }
   ],
   "source": [
    "for a in my_list:\n",
    "    print(a)\n",
    "    print('This is inside the for loop')\n",
    "print('This is outside the for loop')"
   ]
  },
  {
   "cell_type": "markdown",
   "id": "b4d3f07a",
   "metadata": {},
   "source": [
    "We can also use `for` loops inside other `for` loops:"
   ]
  },
  {
   "cell_type": "code",
   "execution_count": 92,
   "id": "1f7a0356",
   "metadata": {},
   "outputs": [
    {
     "name": "stdout",
     "output_type": "stream",
     "text": [
      "1 + 4 = 5\n",
      "1 + 5 = 6\n",
      "1 + 6 = 7\n",
      "2 + 4 = 6\n",
      "2 + 5 = 7\n",
      "2 + 6 = 8\n",
      "3 + 4 = 7\n",
      "3 + 5 = 8\n",
      "3 + 6 = 9\n"
     ]
    }
   ],
   "source": [
    "for a in [1,2,3]:\n",
    "    for b in [4,5,6]:\n",
    "        print(\"{} + {} = {}\".format(a,b,a+b))"
   ]
  },
  {
   "cell_type": "markdown",
   "id": "29c18c6a",
   "metadata": {},
   "source": [
    "In the example above, we're iterating through all combinations of the two lists `[1,2,3]` and `[4,5,6]`."
   ]
  },
  {
   "cell_type": "markdown",
   "id": "3b34c34e",
   "metadata": {},
   "source": [
    "We can use other types of iterables to setup `for` loops. In the examples above, we've been iterating through a pre-defined list. Suppose we want to perform some operation on the first 10,000 positive integers."
   ]
  },
  {
   "cell_type": "code",
   "execution_count": null,
   "id": "c03a1157",
   "metadata": {},
   "outputs": [],
   "source": [
    "for n in [1,2,3,4,5,6,7,8,..]"
   ]
  },
  {
   "cell_type": "markdown",
   "id": "4aec41a7",
   "metadata": {},
   "source": [
    "The `range` function is means for iterating through sequences of integers:"
   ]
  },
  {
   "cell_type": "code",
   "execution_count": 93,
   "id": "110f6267",
   "metadata": {
    "scrolled": false
   },
   "outputs": [
    {
     "name": "stdout",
     "output_type": "stream",
     "text": [
      "Help on class range in module builtins:\n",
      "\n",
      "class range(object)\n",
      " |  range(stop) -> range object\n",
      " |  range(start, stop[, step]) -> range object\n",
      " |  \n",
      " |  Return an object that produces a sequence of integers from start (inclusive)\n",
      " |  to stop (exclusive) by step.  range(i, j) produces i, i+1, i+2, ..., j-1.\n",
      " |  start defaults to 0, and stop is omitted!  range(4) produces 0, 1, 2, 3.\n",
      " |  These are exactly the valid indices for a list of 4 elements.\n",
      " |  When step is given, it specifies the increment (or decrement).\n",
      " |  \n",
      " |  Methods defined here:\n",
      " |  \n",
      " |  __bool__(self, /)\n",
      " |      True if self else False\n",
      " |  \n",
      " |  __contains__(self, key, /)\n",
      " |      Return key in self.\n",
      " |  \n",
      " |  __eq__(self, value, /)\n",
      " |      Return self==value.\n",
      " |  \n",
      " |  __ge__(self, value, /)\n",
      " |      Return self>=value.\n",
      " |  \n",
      " |  __getattribute__(self, name, /)\n",
      " |      Return getattr(self, name).\n",
      " |  \n",
      " |  __getitem__(self, key, /)\n",
      " |      Return self[key].\n",
      " |  \n",
      " |  __gt__(self, value, /)\n",
      " |      Return self>value.\n",
      " |  \n",
      " |  __hash__(self, /)\n",
      " |      Return hash(self).\n",
      " |  \n",
      " |  __iter__(self, /)\n",
      " |      Implement iter(self).\n",
      " |  \n",
      " |  __le__(self, value, /)\n",
      " |      Return self<=value.\n",
      " |  \n",
      " |  __len__(self, /)\n",
      " |      Return len(self).\n",
      " |  \n",
      " |  __lt__(self, value, /)\n",
      " |      Return self<value.\n",
      " |  \n",
      " |  __ne__(self, value, /)\n",
      " |      Return self!=value.\n",
      " |  \n",
      " |  __reduce__(...)\n",
      " |      Helper for pickle.\n",
      " |  \n",
      " |  __repr__(self, /)\n",
      " |      Return repr(self).\n",
      " |  \n",
      " |  __reversed__(...)\n",
      " |      Return a reverse iterator.\n",
      " |  \n",
      " |  count(...)\n",
      " |      rangeobject.count(value) -> integer -- return number of occurrences of value\n",
      " |  \n",
      " |  index(...)\n",
      " |      rangeobject.index(value) -> integer -- return index of value.\n",
      " |      Raise ValueError if the value is not present.\n",
      " |  \n",
      " |  ----------------------------------------------------------------------\n",
      " |  Static methods defined here:\n",
      " |  \n",
      " |  __new__(*args, **kwargs) from builtins.type\n",
      " |      Create and return a new object.  See help(type) for accurate signature.\n",
      " |  \n",
      " |  ----------------------------------------------------------------------\n",
      " |  Data descriptors defined here:\n",
      " |  \n",
      " |  start\n",
      " |  \n",
      " |  step\n",
      " |  \n",
      " |  stop\n",
      "\n"
     ]
    }
   ],
   "source": [
    "help(range)"
   ]
  },
  {
   "cell_type": "code",
   "execution_count": 94,
   "id": "bb002eb6",
   "metadata": {},
   "outputs": [
    {
     "name": "stdout",
     "output_type": "stream",
     "text": [
      "0\n",
      "1\n",
      "2\n",
      "3\n",
      "4\n"
     ]
    }
   ],
   "source": [
    "for n in range(5):\n",
    "    print(n)"
   ]
  },
  {
   "cell_type": "markdown",
   "id": "943ee916",
   "metadata": {},
   "source": [
    " * `range(n)` will give a sequence of integers starting at `0` and going up to `n-1`.\n",
    " * `range(m,n)` will give a sequence of integers starting at `m` and going up to `n-1`.\n",
    " * `range(m,n,k)` will give a sequence of integers starting `m`, stepping by `k`, and stopping before `n`."
   ]
  },
  {
   "cell_type": "code",
   "execution_count": 96,
   "id": "892300c2",
   "metadata": {},
   "outputs": [
    {
     "name": "stdout",
     "output_type": "stream",
     "text": [
      "6\n",
      "7\n",
      "8\n",
      "9\n",
      "10\n",
      "11\n",
      "12\n",
      "13\n",
      "14\n"
     ]
    }
   ],
   "source": [
    "for n in range(6,15):\n",
    "    print(n)"
   ]
  },
  {
   "cell_type": "code",
   "execution_count": 97,
   "id": "642a8460",
   "metadata": {},
   "outputs": [
    {
     "name": "stdout",
     "output_type": "stream",
     "text": [
      "6\n",
      "10\n",
      "14\n"
     ]
    }
   ],
   "source": [
    "for n in range(6,15,4):\n",
    "    print(n)"
   ]
  },
  {
   "cell_type": "markdown",
   "id": "64db5e7d",
   "metadata": {},
   "source": [
    "**Exercise**: Write Python code to print the cubes of the first 50 positive integers."
   ]
  },
  {
   "cell_type": "code",
   "execution_count": 98,
   "id": "c857908d",
   "metadata": {
    "scrolled": false
   },
   "outputs": [
    {
     "name": "stdout",
     "output_type": "stream",
     "text": [
      "1\n",
      "8\n",
      "27\n",
      "64\n",
      "125\n",
      "216\n",
      "343\n",
      "512\n",
      "729\n",
      "1000\n",
      "1331\n",
      "1728\n",
      "2197\n",
      "2744\n",
      "3375\n",
      "4096\n",
      "4913\n",
      "5832\n",
      "6859\n",
      "8000\n",
      "9261\n",
      "10648\n",
      "12167\n",
      "13824\n",
      "15625\n",
      "17576\n",
      "19683\n",
      "21952\n",
      "24389\n",
      "27000\n",
      "29791\n",
      "32768\n",
      "35937\n",
      "39304\n",
      "42875\n",
      "46656\n",
      "50653\n",
      "54872\n",
      "59319\n",
      "64000\n",
      "68921\n",
      "74088\n",
      "79507\n",
      "85184\n",
      "91125\n",
      "97336\n",
      "103823\n",
      "110592\n",
      "117649\n",
      "125000\n"
     ]
    }
   ],
   "source": [
    "for n in range(1,51):\n",
    "    print(n**3)"
   ]
  },
  {
   "cell_type": "markdown",
   "id": "f8db8f31",
   "metadata": {},
   "source": [
    "So far, we've explicitly generated lists using square brackets and comma-separated inputs. Suppose we want to generate a list containing the cubes of the first 50 positive integers."
   ]
  },
  {
   "cell_type": "markdown",
   "id": "918b1d5d",
   "metadata": {},
   "source": [
    "We can start with an empty list `[]`, and then iteratively use the `.append` method to add elements to that list."
   ]
  },
  {
   "cell_type": "code",
   "execution_count": 99,
   "id": "520850aa",
   "metadata": {},
   "outputs": [
    {
     "name": "stdout",
     "output_type": "stream",
     "text": [
      "[5, 10]\n"
     ]
    }
   ],
   "source": [
    "my_list = []\n",
    "\n",
    "my_list.append(5)\n",
    "my_list.append(10)\n",
    "\n",
    "print(my_list)"
   ]
  },
  {
   "cell_type": "code",
   "execution_count": 100,
   "id": "d7594b8d",
   "metadata": {},
   "outputs": [],
   "source": [
    "cubes = []\n",
    "\n",
    "for n in range(1,51):\n",
    "    cubes.append(n**3)"
   ]
  },
  {
   "cell_type": "markdown",
   "id": "791c1b0d",
   "metadata": {},
   "source": [
    "Suppose we want to count how many of the first 50 cubes end in a digit of `1`. That means we want iterate through each of our cubes, and then somehow decide whether or not it ends in a `1`."
   ]
  },
  {
   "cell_type": "markdown",
   "id": "085b5775",
   "metadata": {},
   "source": [
    "This leads us to Boolean expressions and `if` statements:"
   ]
  },
  {
   "cell_type": "markdown",
   "id": "35600194",
   "metadata": {},
   "source": [
    "## Boolean expressions"
   ]
  },
  {
   "cell_type": "markdown",
   "id": "3d2a238e",
   "metadata": {},
   "source": [
    "There are two Boolean values, namely `True` and `False`."
   ]
  },
  {
   "cell_type": "markdown",
   "id": "dc83a953",
   "metadata": {},
   "source": [
    "We can write statements that evalute to either `True` or `False` called **Boolean expressions**."
   ]
  },
  {
   "cell_type": "code",
   "execution_count": 107,
   "id": "1ad74121",
   "metadata": {},
   "outputs": [
    {
     "data": {
      "text/plain": [
       "True"
      ]
     },
     "execution_count": 107,
     "metadata": {},
     "output_type": "execute_result"
    }
   ],
   "source": [
    "5 < 7"
   ]
  },
  {
   "cell_type": "code",
   "execution_count": 108,
   "id": "8be86815",
   "metadata": {},
   "outputs": [
    {
     "data": {
      "text/plain": [
       "False"
      ]
     },
     "execution_count": 108,
     "metadata": {},
     "output_type": "execute_result"
    }
   ],
   "source": [
    "10 < 8"
   ]
  },
  {
   "cell_type": "code",
   "execution_count": 109,
   "id": "11d8d563",
   "metadata": {},
   "outputs": [
    {
     "data": {
      "text/plain": [
       "True"
      ]
     },
     "execution_count": 109,
     "metadata": {},
     "output_type": "execute_result"
    }
   ],
   "source": [
    "6 > 1"
   ]
  },
  {
   "cell_type": "markdown",
   "id": "fda846cb",
   "metadata": {},
   "source": [
    "We can use `<=` or `>=` for lessn than/greater than or equal to:"
   ]
  },
  {
   "cell_type": "code",
   "execution_count": 110,
   "id": "1195753e",
   "metadata": {},
   "outputs": [
    {
     "data": {
      "text/plain": [
       "True"
      ]
     },
     "execution_count": 110,
     "metadata": {},
     "output_type": "execute_result"
    }
   ],
   "source": [
    "5 <= 6"
   ]
  },
  {
   "cell_type": "code",
   "execution_count": 111,
   "id": "2f6e4d9c",
   "metadata": {},
   "outputs": [
    {
     "data": {
      "text/plain": [
       "False"
      ]
     },
     "execution_count": 111,
     "metadata": {},
     "output_type": "execute_result"
    }
   ],
   "source": [
    "5 < 5"
   ]
  },
  {
   "cell_type": "code",
   "execution_count": 112,
   "id": "7ab3a51e",
   "metadata": {},
   "outputs": [
    {
     "data": {
      "text/plain": [
       "True"
      ]
     },
     "execution_count": 112,
     "metadata": {},
     "output_type": "execute_result"
    }
   ],
   "source": [
    "5 <= 5"
   ]
  },
  {
   "cell_type": "markdown",
   "id": "1173108a",
   "metadata": {},
   "source": [
    "We can use a double equality to check whether two objects are equal to one another:"
   ]
  },
  {
   "cell_type": "code",
   "execution_count": 115,
   "id": "d611b039",
   "metadata": {},
   "outputs": [
    {
     "data": {
      "text/plain": [
       "True"
      ]
     },
     "execution_count": 115,
     "metadata": {},
     "output_type": "execute_result"
    }
   ],
   "source": [
    "5 == 5"
   ]
  },
  {
   "cell_type": "markdown",
   "id": "25ba1fb6",
   "metadata": {},
   "source": [
    "We can also check whether two lists are equal to one another:"
   ]
  },
  {
   "cell_type": "code",
   "execution_count": 116,
   "id": "1482d720",
   "metadata": {},
   "outputs": [
    {
     "data": {
      "text/plain": [
       "False"
      ]
     },
     "execution_count": 116,
     "metadata": {},
     "output_type": "execute_result"
    }
   ],
   "source": [
    "[1,2,3] == [1,2,7]"
   ]
  },
  {
   "cell_type": "code",
   "execution_count": 117,
   "id": "4a9a663f",
   "metadata": {},
   "outputs": [
    {
     "data": {
      "text/plain": [
       "True"
      ]
     },
     "execution_count": 117,
     "metadata": {},
     "output_type": "execute_result"
    }
   ],
   "source": [
    "[1,2,3] == [1,2,3]"
   ]
  },
  {
   "cell_type": "markdown",
   "id": "8f5c1bd8",
   "metadata": {},
   "source": [
    "We can use an `if` statemenet to perform some operations only when a Boolean expression is `True`."
   ]
  },
  {
   "cell_type": "code",
   "execution_count": 127,
   "id": "099baa50",
   "metadata": {},
   "outputs": [
    {
     "name": "stdout",
     "output_type": "stream",
     "text": [
      "The product of 5 and 7 is small.\n",
      "Done\n"
     ]
    }
   ],
   "source": [
    "a = 5\n",
    "b = 7\n",
    "\n",
    "if a * b < 100:\n",
    "    print(\"The product of {} and {} is small.\".format(a,b))\n",
    "if 100 <= a * b < 1000:\n",
    "    print(\"The product of {} and {} is medium.\".format(a,b))\n",
    "    \n",
    "print('Done')"
   ]
  },
  {
   "cell_type": "markdown",
   "id": "cf441d3d",
   "metadata": {},
   "source": [
    "We can also an `elif` statement (which is short for \"else if\") to perform operations only in the case that the first `if` expression was `False`:"
   ]
  },
  {
   "cell_type": "code",
   "execution_count": 129,
   "id": "4fc18abc",
   "metadata": {},
   "outputs": [
    {
     "name": "stdout",
     "output_type": "stream",
     "text": [
      "The product of 45 and 7 is medium.\n",
      "Done\n"
     ]
    }
   ],
   "source": [
    "a = 45\n",
    "b = 7\n",
    "\n",
    "if a * b < 100:\n",
    "    print(\"The product of {} and {} is small.\".format(a,b))\n",
    "elif a * b < 1000:\n",
    "    print(\"The product of {} and {} is medium.\".format(a,b))\n",
    "    \n",
    "print('Done')"
   ]
  },
  {
   "cell_type": "markdown",
   "id": "ae2a9339",
   "metadata": {},
   "source": [
    "We can also use an `else` statement to perform some operations if none of the `if` or `elif` expressions were `True`."
   ]
  },
  {
   "cell_type": "code",
   "execution_count": 132,
   "id": "1583b41b",
   "metadata": {},
   "outputs": [
    {
     "name": "stdout",
     "output_type": "stream",
     "text": [
      "The product of 45 and 7500 is huge\n",
      "Done\n"
     ]
    }
   ],
   "source": [
    "a = 45\n",
    "b = 7500\n",
    "\n",
    "if a * b < 100:\n",
    "    print(\"The product of {} and {} is small.\".format(a,b))\n",
    "elif a * b < 1000:\n",
    "    print(\"The product of {} and {} is medium.\".format(a,b))\n",
    "elif a * b < 10000:\n",
    "    print(\"The product of {} and {} is big.\".format(a,b))\n",
    "else: \n",
    "    print(\"The product of {} and {} is huge\".format(a,b))\n",
    "    \n",
    "    \n",
    "print('Done')"
   ]
  },
  {
   "cell_type": "markdown",
   "id": "66cc0930",
   "metadata": {},
   "source": [
    "**Exercise:** Count how many cubes of the first 50 positive integers end in a digit of 1."
   ]
  }
 ],
 "metadata": {
  "kernelspec": {
   "display_name": "Python 3 (ipykernel)",
   "language": "python",
   "name": "python3"
  },
  "language_info": {
   "codemirror_mode": {
    "name": "ipython",
    "version": 3
   },
   "file_extension": ".py",
   "mimetype": "text/x-python",
   "name": "python",
   "nbconvert_exporter": "python",
   "pygments_lexer": "ipython3",
   "version": "3.9.13"
  }
 },
 "nbformat": 4,
 "nbformat_minor": 5
}
