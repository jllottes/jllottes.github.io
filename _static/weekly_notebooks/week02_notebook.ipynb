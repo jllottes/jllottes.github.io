{
 "cells": [
  {
   "cell_type": "markdown",
   "id": "f276bf17",
   "metadata": {},
   "source": [
    "# Wednesday, September 3rd, 2025"
   ]
  },
  {
   "cell_type": "markdown",
   "id": "9fbb7197",
   "metadata": {},
   "source": [
    "## Working with loops in Python"
   ]
  },
  {
   "cell_type": "markdown",
   "id": "b4d3f07a",
   "metadata": {},
   "source": [
    "Last week, we wrote nested loops that iterated through all combinations of integers from the two lists `[1,2,3]` and `[4,5,6]` and printed out the sum for each combination."
   ]
  },
  {
   "cell_type": "code",
   "execution_count": 1,
   "id": "1f7a0356",
   "metadata": {},
   "outputs": [
    {
     "name": "stdout",
     "output_type": "stream",
     "text": [
      "1 + 4 = 5\n",
      "1 + 5 = 6\n",
      "1 + 6 = 7\n",
      "Done with n=1\n",
      "2 + 4 = 6\n",
      "2 + 5 = 7\n",
      "2 + 6 = 8\n",
      "Done with n=2\n",
      "3 + 4 = 7\n",
      "3 + 5 = 8\n",
      "3 + 6 = 9\n",
      "Done with n=3\n",
      "Done\n"
     ]
    }
   ],
   "source": [
    "for n in [1,2,3]:\n",
    "    for m in [4,5,6]:\n",
    "        print('{} + {} = {}'.format(n,m,n+m))\n",
    "    print('Done with n={}'.format(n))\n",
    "print('Done')"
   ]
  },
  {
   "cell_type": "markdown",
   "id": "29c18c6a",
   "metadata": {},
   "source": [
    "What if we wanted to iterate through pairs from each list? That is, suppose we want to consider the lists in parallel and iterate through the three pairs `(1,4)`, `(2,5)`, and `(3,6)`."
   ]
  },
  {
   "cell_type": "code",
   "execution_count": null,
   "id": "09ff5296-2456-4884-9024-66d946892f9c",
   "metadata": {},
   "outputs": [],
   "source": []
  },
  {
   "cell_type": "markdown",
   "id": "4fb9de42-ba34-40f6-b676-63fe1d7323b5",
   "metadata": {},
   "source": [
    "## The `range` function"
   ]
  },
  {
   "cell_type": "markdown",
   "id": "3b34c34e",
   "metadata": {},
   "source": [
    "We can use other types of iterables to setup `for` loops. In the examples above, we've been iterating through a pre-defined list. Suppose we want to perform some operation on the first 10,000 positive integers."
   ]
  },
  {
   "cell_type": "code",
   "execution_count": null,
   "id": "c03a1157",
   "metadata": {},
   "outputs": [],
   "source": []
  },
  {
   "cell_type": "markdown",
   "id": "4aec41a7",
   "metadata": {},
   "source": [
    "Of course, it's not reasonable for us to write down a list of the first 10,000 positive integers in order to iterate through them. Instead, we can use the `range` function. \n",
    "\n",
    "Note: We can use the `help` function to learn more about something in Python. For example, `help(range)` will tell us about the `range` function."
   ]
  },
  {
   "cell_type": "code",
   "execution_count": null,
   "id": "110f6267",
   "metadata": {},
   "outputs": [],
   "source": []
  },
  {
   "cell_type": "markdown",
   "id": "943ee916",
   "metadata": {},
   "source": [
    "In particular:\n",
    " * `range(n)` will give a sequence of integers starting at `0` and going up to `n-1`.\n",
    " * `range(m,n)` will give a sequence of integers starting at `m` and going up to `n-1`.\n",
    " * `range(m,n,k)` will give a sequence of integers starting `m`, stepping by `k`, and stopping before `n`."
   ]
  },
  {
   "cell_type": "code",
   "execution_count": null,
   "id": "bb002eb6",
   "metadata": {},
   "outputs": [],
   "source": []
  },
  {
   "cell_type": "code",
   "execution_count": null,
   "id": "892300c2",
   "metadata": {},
   "outputs": [],
   "source": []
  },
  {
   "cell_type": "code",
   "execution_count": null,
   "id": "642a8460",
   "metadata": {},
   "outputs": [],
   "source": []
  },
  {
   "cell_type": "markdown",
   "id": "64db5e7d",
   "metadata": {},
   "source": [
    "**Exercise**: Write Python code to print the cubes of the first 50 positive integers."
   ]
  },
  {
   "cell_type": "code",
   "execution_count": null,
   "id": "c857908d",
   "metadata": {},
   "outputs": [],
   "source": []
  },
  {
   "cell_type": "markdown",
   "id": "f8db8f31",
   "metadata": {},
   "source": [
    "So far, we've explicitly generated lists using square brackets and comma-separated inputs. Suppose we want to generate a list containing the cubes of the first 50 positive integers. Our current strategy is not reasonable for this sort of task."
   ]
  },
  {
   "cell_type": "markdown",
   "id": "918b1d5d",
   "metadata": {},
   "source": [
    "The `.append` method (attached to a list) can be used to add an element to a list. That is, we can write something like `<some list>.append(<some new element>)` to add `<some new element>` to `<some list>`."
   ]
  },
  {
   "cell_type": "code",
   "execution_count": null,
   "id": "520850aa",
   "metadata": {},
   "outputs": [],
   "source": []
  },
  {
   "cell_type": "markdown",
   "id": "447b3d4c-a0f3-45a0-b7c8-1f541c6ba804",
   "metadata": {},
   "source": [
    "To build a list of the cubes of the first 50 positive integers, we can start with an empty list `[]` and then iteratively use the `.append` method to add elements to that list."
   ]
  },
  {
   "cell_type": "code",
   "execution_count": null,
   "id": "d7594b8d",
   "metadata": {},
   "outputs": [],
   "source": []
  },
  {
   "cell_type": "markdown",
   "id": "791c1b0d",
   "metadata": {},
   "source": [
    "Suppose we want to count how many of the first 50 cubes end in a digit of `1`. That means we want iterate through each of our cubes, and then somehow decide whether or not it ends in a `1`. This leads us to Boolean expressions and `if` statements."
   ]
  },
  {
   "cell_type": "markdown",
   "id": "35600194",
   "metadata": {},
   "source": [
    "## Boolean expressions"
   ]
  },
  {
   "cell_type": "markdown",
   "id": "3d2a238e",
   "metadata": {},
   "source": [
    "There are two Boolean values, namely `True` and `False`."
   ]
  },
  {
   "cell_type": "markdown",
   "id": "dc83a953",
   "metadata": {},
   "source": [
    "We can write statements that evalute to either `True` or `False` called **Boolean expressions**. For example, we can compare two numbers using `<` or `>` to see if one is less than the other or one is greater than the other."
   ]
  },
  {
   "cell_type": "code",
   "execution_count": null,
   "id": "1ad74121",
   "metadata": {},
   "outputs": [],
   "source": []
  },
  {
   "cell_type": "code",
   "execution_count": null,
   "id": "8be86815",
   "metadata": {},
   "outputs": [],
   "source": []
  },
  {
   "cell_type": "code",
   "execution_count": null,
   "id": "11d8d563",
   "metadata": {},
   "outputs": [],
   "source": []
  },
  {
   "cell_type": "markdown",
   "id": "fda846cb",
   "metadata": {},
   "source": [
    "We can use `<=` or `>=` for less than/greater than or equal to:"
   ]
  },
  {
   "cell_type": "code",
   "execution_count": null,
   "id": "1195753e",
   "metadata": {},
   "outputs": [],
   "source": []
  },
  {
   "cell_type": "code",
   "execution_count": null,
   "id": "2f6e4d9c",
   "metadata": {},
   "outputs": [],
   "source": []
  },
  {
   "cell_type": "code",
   "execution_count": null,
   "id": "7ab3a51e",
   "metadata": {},
   "outputs": [],
   "source": []
  },
  {
   "cell_type": "markdown",
   "id": "e496dad5-845c-44fd-bcaa-00486096b103",
   "metadata": {},
   "source": [
    "Inequality checks can be chained together:"
   ]
  },
  {
   "cell_type": "code",
   "execution_count": null,
   "id": "324307a2-faec-485f-a064-5dc7ba80e5ec",
   "metadata": {},
   "outputs": [],
   "source": []
  },
  {
   "cell_type": "markdown",
   "id": "1173108a",
   "metadata": {},
   "source": [
    "We can use a double equality `==` to check whether two objects are equal to one another:"
   ]
  },
  {
   "cell_type": "code",
   "execution_count": null,
   "id": "d611b039",
   "metadata": {},
   "outputs": [],
   "source": []
  },
  {
   "cell_type": "markdown",
   "id": "25ba1fb6",
   "metadata": {},
   "source": [
    "We can also check whether two lists are equal to one another:"
   ]
  },
  {
   "cell_type": "code",
   "execution_count": null,
   "id": "1482d720",
   "metadata": {},
   "outputs": [],
   "source": []
  },
  {
   "cell_type": "code",
   "execution_count": null,
   "id": "4a9a663f",
   "metadata": {},
   "outputs": [],
   "source": []
  },
  {
   "cell_type": "markdown",
   "id": "8f5c1bd8",
   "metadata": {},
   "source": [
    "We can use an `if` statement to perform some operations only when a Boolean expression is `True`. Again, **spacing is CRITICAL**, as it indicates which operations are part of the `if` statement (which will only run when the Boolean expression is `True`), and which operations will run regardless."
   ]
  },
  {
   "cell_type": "code",
   "execution_count": null,
   "id": "099baa50",
   "metadata": {},
   "outputs": [],
   "source": []
  },
  {
   "cell_type": "markdown",
   "id": "0356f16b-629b-426c-b5f1-25897ec0dbba",
   "metadata": {},
   "source": [
    "We very often want to perform different operations based on several Boolean expressions. We can supplement an `if` statement with an `elif` statement (which is short for \"else if\") with a new Boolean expression to perform operations only in the case that the first `if` expression was `False` and the new expression is `True`:"
   ]
  },
  {
   "cell_type": "code",
   "execution_count": null,
   "id": "4fc18abc",
   "metadata": {},
   "outputs": [],
   "source": []
  },
  {
   "cell_type": "markdown",
   "id": "ae2a9339",
   "metadata": {},
   "source": [
    "We can also use an `else` statement to perform some operations if none of the `if` or `elif` Boolean expressions were `True`."
   ]
  },
  {
   "cell_type": "code",
   "execution_count": null,
   "id": "1583b41b",
   "metadata": {},
   "outputs": [],
   "source": []
  },
  {
   "cell_type": "markdown",
   "id": "66cc0930",
   "metadata": {},
   "source": [
    "**Exercise:** Count how many cubes of the first 50 positive integers end in a digit of 1."
   ]
  },
  {
   "cell_type": "code",
   "execution_count": null,
   "id": "7094a09b",
   "metadata": {},
   "outputs": [],
   "source": []
  },
  {
   "cell_type": "markdown",
   "id": "e6632c37-79c4-459e-99c5-c71d0298a2b5",
   "metadata": {},
   "source": [
    "Some thoughts about efficiency:\n"
   ]
  },
  {
   "cell_type": "markdown",
   "id": "d054dca7-296f-4509-8ed0-82caf151cb5d",
   "metadata": {},
   "source": [
    "**Exercise:** Modify the previous cell to count the number of cubes whose remainder after dividing by `4` is `0`.\n",
    "\n",
    "**Exercise:** Modify your code from the previous exercise to also count the number of cubes whose remainder after dividing by `4` is `1`, `2`, and `3` respectively."
   ]
  },
  {
   "cell_type": "code",
   "execution_count": null,
   "id": "29cfb54f",
   "metadata": {},
   "outputs": [],
   "source": []
  },
  {
   "cell_type": "markdown",
   "id": "4b17b3d7-fdd6-4604-89a7-8ba1f6d259a3",
   "metadata": {},
   "source": [
    "## Prime numbers\n",
    "\n",
    "Our first project will deal with prime numbers. It will be useful if we can develop some code to decide whether a given integer is prime or not. One strategy for checking whether a given number is prime or not is to look for numbers that evenly divide it. That is, we can test a number $n$ for primality by looking for numbers $d$ such that the remainder from dividing $n$ by $d$ is zero."
   ]
  },
  {
   "cell_type": "code",
   "execution_count": null,
   "id": "4bb39a58-c517-4b3f-9226-81b3d838a5bd",
   "metadata": {},
   "outputs": [],
   "source": []
  },
  {
   "cell_type": "markdown",
   "id": "9f192827-76b7-4012-ad97-40013e55f9f4",
   "metadata": {},
   "source": [
    "**Exercise:** Write code that will set a Boolean variable to `True` if an integer `n` is prime and will set the Boolean variable to `False` if not."
   ]
  },
  {
   "cell_type": "code",
   "execution_count": null,
   "id": "f0f0eefc-667f-445c-80e2-d43ad59adff2",
   "metadata": {},
   "outputs": [],
   "source": []
  },
  {
   "cell_type": "markdown",
   "id": "ff60644d-5379-4800-9dbe-055b38ad7bfa",
   "metadata": {},
   "source": [
    "Note: in the code above, it will often happen that we perform many divisibility checks for no reason (for example, if `2` divides `n`, then we will still unnecessarily check whether `3`, `4`, `5`, ... also divide `n`). It would be helpful if we could escape the loop prematurely."
   ]
  },
  {
   "cell_type": "markdown",
   "id": "f81572b8-1c43-430a-a1ee-d627dad84ad4",
   "metadata": {},
   "source": [
    "## The `break` and `continue` commands"
   ]
  },
  {
   "cell_type": "markdown",
   "id": "67f7c76a-2aff-44b3-8b46-3bd85a3a7976",
   "metadata": {},
   "source": [
    "The `break` command can be used within a loop to immediately exit the loop."
   ]
  },
  {
   "cell_type": "code",
   "execution_count": null,
   "id": "e66c4984-e3fb-4289-9328-9348a08163c4",
   "metadata": {},
   "outputs": [],
   "source": []
  },
  {
   "cell_type": "markdown",
   "id": "0213e50f-4374-4306-8ae5-ec6571075940",
   "metadata": {},
   "source": [
    "**Exercise:** Modify the prime-checking code above to exit the loop as soon as `n` is determined to not be prime."
   ]
  },
  {
   "cell_type": "code",
   "execution_count": null,
   "id": "1d10e70d-2987-4461-b950-b39a96309e10",
   "metadata": {},
   "outputs": [],
   "source": []
  },
  {
   "cell_type": "markdown",
   "id": "72869cf3-f4e0-4ccc-a41d-cb95db46d0ec",
   "metadata": {},
   "source": [
    "Other times, we may want to immediately proceed to the next iteration of a loop. The `continue` command can be used to accomplish this."
   ]
  },
  {
   "cell_type": "code",
   "execution_count": null,
   "id": "f7e61bd3-403c-40bd-807d-25a123051d0c",
   "metadata": {},
   "outputs": [],
   "source": []
  },
  {
   "cell_type": "markdown",
   "id": "ea74a92e-b8e8-4e49-a4ff-7e02ca9fdcf5",
   "metadata": {},
   "source": [
    "## `while` loops"
   ]
  },
  {
   "cell_type": "markdown",
   "id": "86a765ca-5c3c-4585-a1de-63a92de85de7",
   "metadata": {},
   "source": [
    "Suppose that we want to find the first 100 cubes that have remainder `1` after division by `4`.\n",
    "\n",
    "Problem: We don't know ahead of time how many numbers we'd have to check before we find 100 such cubes.\n",
    "\n",
    "For these types of problems, we can use a `while` loop. A `while` loops will iteratiavely perform some operations as long as some Boolean expression is `True`. The syntax is as follows:\n",
    "<code>\n",
    "while (some Boolean expression is True):\n",
    "    (do something)\n",
    "</code>\n",
    "\n",
    "Note: the `(some Boolean expression)` can be (and often is) a variable that will be modified within the `while` loop."
   ]
  },
  {
   "cell_type": "code",
   "execution_count": null,
   "id": "64a91f8a",
   "metadata": {},
   "outputs": [],
   "source": []
  },
  {
   "cell_type": "code",
   "execution_count": null,
   "id": "a96f6d64",
   "metadata": {},
   "outputs": [],
   "source": []
  },
  {
   "cell_type": "code",
   "execution_count": null,
   "id": "735dbb43",
   "metadata": {},
   "outputs": [],
   "source": []
  },
  {
   "cell_type": "markdown",
   "id": "02f4c4e8-ad28-4736-a09b-5b8f12254667",
   "metadata": {},
   "source": [
    "**Warnings:**\n",
    " - Unlike with `for` loops, it is very easy to end up with a `while` loop that runs forever.\n",
    " - Always make sure that your Boolean expression will eventually be `False` so that the `while` loop can terminate\n",
    " - Check that you are incrementing any necessary variables with each iteration"
   ]
  },
  {
   "cell_type": "markdown",
   "id": "47ccc43c-0a08-4939-a4e7-9a0e5e897fb8",
   "metadata": {},
   "source": [
    "There are some shortcuts for incrementing variables. In particular:\n",
    " - `n += 1` is equivalent to `n = n + 1`\n",
    " - `n -= 3` is equivalent to `n = n - 3`\n",
    " - `n *= 7` is equivalent to `n = n * 7`\n"
   ]
  },
  {
   "cell_type": "code",
   "execution_count": null,
   "id": "6bf7da1c-1c31-415e-b3fe-41c96da3e0ce",
   "metadata": {},
   "outputs": [],
   "source": []
  },
  {
   "cell_type": "markdown",
   "id": "0431a502-4926-4d3f-b375-d15c52681054",
   "metadata": {},
   "source": [
    "**Exercise:** Write code that will find the first 10 prime numbers."
   ]
  },
  {
   "cell_type": "code",
   "execution_count": null,
   "id": "762a459c-de90-4826-a288-3b052313670d",
   "metadata": {},
   "outputs": [],
   "source": []
  },
  {
   "cell_type": "markdown",
   "id": "d337a0a0-2e28-41e0-a213-8dfa70a78887",
   "metadata": {},
   "source": [
    "## More about Markdown: LaTeX\n",
    "\n",
    "LaTeX is a tool for writing math expressions. To enter LaTeX mode in a markdown cell, we use dollar signs `$`.\n",
    "\n",
    "- Plain-text:\n",
    "  - 123456\n",
    "  - 123^456\n",
    "  - 123_456\n",
    "- LaTeX:\n",
    "  - $123456$\n",
    "  - $123^{456}$\n",
    "  - $123_{456}$\n",
    "\n",
    "Some common LaTeX commands:\n",
    "\n",
    " - Exponents: `$x^2 + y^$` renders as $x^2 + y^2$.\n",
    " - Fractions: `\\frac{numerator}{denominator}$` renders as $\\frac{numerator}{denominator}$.\n",
    " - Integrals and trig functions: `\\int_0^x \\cos(t) dt$` renders as $\\int_0^x \\cos(t) dt$.\n",
    " \n",
    "Using a single dollar sign writes LaTeX in in-line mode (i.e. will appear within the same lines as the surrounding text). We can use two dollar signs (`$$`) to write in display mode, which gives a centered equation. For example, `$$\\int_0^x \\cos(t) dt$$` renders as\n",
    "\n",
    "$$\\int_0^x \\cos(t) dt$$\n",
    "\n",
    "whereas `$\\int_0^x \\cos(t) dt$` renders as $\\int_0^x \\cos(t) dt$.\n",
    "\n",
    "Other common LaTeX commands:\n",
    "\n",
    " - Subscripts and superscripts: `$a_n$, $2^n$` renders as $a_n$, $2^n$.\n",
    " - Square roots and other roots: `$\\sqrt{7}$`, `$\\sqrt[10]{x^2-5}$` renders as $\\sqrt{7}$, $\\sqrt[10]{x^2 - 5}$.\n",
    " - Greek letters: `$\\alpha$, $\\beta$, $\\gamma$, $\\sigma$, $\\omega$, $\\pi$` renders as $\\alpha$, $\\beta$, $\\gamma$, $\\sigma$, $\\omega$, $\\pi$."
   ]
  },
  {
   "cell_type": "code",
   "execution_count": null,
   "id": "dd5aadb5-8849-4d9e-b715-f626347e0beb",
   "metadata": {},
   "outputs": [],
   "source": []
  },
  {
   "cell_type": "markdown",
   "id": "d6c2c2b9-d1dc-4311-b513-3e3dcc67a08c",
   "metadata": {},
   "source": [
    "We can have LaTeX automatically adjust the size of parentheses using `\\left(` and `\\right)`. For example, `$$\\left(\\frac{1}{2} + 4\\right)$$` renders as:\n",
    "\n",
    "$$\\left(\\frac{1}{2} + 4\\right)$$\n",
    "\n",
    "whereas `$$(\\frac{1}{2} + 4)$$` renders as\n",
    "\n",
    "$$(\\frac{1}{2} + 4).$$"
   ]
  },
  {
   "cell_type": "markdown",
   "id": "3bce6209-100c-4ca1-bd9b-d4a3f15927f0",
   "metadata": {},
   "source": [
    "We will regularly use LaTeX in our project reports whenever referring to math equations or variables."
   ]
  },
  {
   "cell_type": "markdown",
   "id": "1ce28ca2-16cc-4a37-9f97-0cd6b7fb12ce",
   "metadata": {},
   "source": [
    "**Exercise:** Using Markdown and LaTeX, write out a definition of a prime number. Also, describe the process that we used in class to test whether a given number is prime."
   ]
  },
  {
   "cell_type": "code",
   "execution_count": null,
   "id": "4520f7b1-f335-4388-b1b5-4dc963e82533",
   "metadata": {},
   "outputs": [],
   "source": []
  }
 ],
 "metadata": {
  "kernelspec": {
   "display_name": "Python 3 (ipykernel)",
   "language": "python",
   "name": "python3"
  },
  "language_info": {
   "codemirror_mode": {
    "name": "ipython",
    "version": 3
   },
   "file_extension": ".py",
   "mimetype": "text/x-python",
   "name": "python",
   "nbconvert_exporter": "python",
   "pygments_lexer": "ipython3",
   "version": "3.13.5"
  }
 },
 "nbformat": 4,
 "nbformat_minor": 5
}
