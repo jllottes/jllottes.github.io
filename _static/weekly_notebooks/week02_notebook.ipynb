{
 "cells": [
  {
   "cell_type": "markdown",
   "id": "a6e1ccd6",
   "metadata": {},
   "source": [
    "# Monday, February 6th, 2023"
   ]
  },
  {
   "cell_type": "markdown",
   "id": "2905a211",
   "metadata": {},
   "source": [
    "## LaTeX in markdown cells\n",
    "\n",
    "LaTeX is a language for writing math expressions. To work with LaTeX, we use dollar symbols \\$ to wrap around our LaTeX. \n",
    "\n",
    "*Double-click any of the cells to see the markdown and LaTeX code.*"
   ]
  },
  {
   "cell_type": "markdown",
   "id": "40a9dfe4",
   "metadata": {},
   "source": [
    " 1. Exponents `$x^2 + y^5$`: $x^2 + y^5$\n",
    " 2. Fractions `$\\frac{3}{5}$`: $\\frac{3}{5}$\n",
    " 3. Integrals and trigonometric functions `$\\int \\cos(x) dx$`: $\\int \\cos(x) dx$\n",
    " 4. Superscripts and subscripts `$x_1$`, `$\\int_0^1 \\cos(x) dx$`: $x_1$, $\\int_0^1 \\cos(x) dx$\n",
    " 5. Square roots `$\\sqrt{2}$`: $\\sqrt{2}$\n",
    " 6. Greek letters `$\\alpha + \\beta = \\gamma$`: $\\alpha + \\beta = \\gamma$"
   ]
  },
  {
   "cell_type": "markdown",
   "id": "8c3cc0c1",
   "metadata": {},
   "source": [
    "Double dollar signs \\$\\$ can be used to display formulas centered on their own line:\n",
    "`$$\\int_0^\\pi \\sin(2x) dx$$`\n",
    "\n",
    "$$\\int_0^\\pi \\sin(2x) dx$$"
   ]
  },
  {
   "cell_type": "code",
   "execution_count": null,
   "id": "0b1faeff",
   "metadata": {},
   "outputs": [],
   "source": []
  },
  {
   "cell_type": "code",
   "execution_count": null,
   "id": "ba13312f",
   "metadata": {},
   "outputs": [],
   "source": []
  },
  {
   "cell_type": "code",
   "execution_count": null,
   "id": "e14c9930",
   "metadata": {},
   "outputs": [],
   "source": []
  },
  {
   "cell_type": "markdown",
   "id": "0124f0f5",
   "metadata": {},
   "source": [
    "**Exercise:** Write a fraction in LaTeX whose numerator is $\\frac{1}{2} + \\frac{2}{3}$ and whose denominator is $\\frac{4}{5}\\pi$. Then put a set of parentheses around this fraction and square it. Use a display formula (i.e. double dollar signs)"
   ]
  },
  {
   "cell_type": "code",
   "execution_count": null,
   "id": "f9287336",
   "metadata": {},
   "outputs": [],
   "source": []
  },
  {
   "cell_type": "code",
   "execution_count": null,
   "id": "e9836445",
   "metadata": {},
   "outputs": [],
   "source": []
  },
  {
   "cell_type": "code",
   "execution_count": null,
   "id": "1f65bc6d",
   "metadata": {},
   "outputs": [],
   "source": []
  },
  {
   "cell_type": "code",
   "execution_count": null,
   "id": "b236da92",
   "metadata": {},
   "outputs": [],
   "source": []
  },
  {
   "cell_type": "code",
   "execution_count": null,
   "id": "005d093a",
   "metadata": {},
   "outputs": [],
   "source": []
  },
  {
   "cell_type": "markdown",
   "id": "f0a8e184",
   "metadata": {},
   "source": [
    "## Boolean values and expressions"
   ]
  },
  {
   "cell_type": "markdown",
   "id": "3f9d9739",
   "metadata": {},
   "source": [
    "Boolean values: `True` and `False`\n",
    "\n",
    "A *Boolean expression* is an expression that can be evaluated as either `True` or `False`.\n",
    "\n",
    "**Equality test**: Use `==` symbol"
   ]
  },
  {
   "cell_type": "code",
   "execution_count": null,
   "id": "e6b1496e",
   "metadata": {},
   "outputs": [],
   "source": []
  },
  {
   "cell_type": "code",
   "execution_count": null,
   "id": "64272dfd",
   "metadata": {},
   "outputs": [],
   "source": []
  },
  {
   "cell_type": "markdown",
   "id": "bf3c45b3",
   "metadata": {},
   "source": [
    "**Inequality test**: Use `!=` symbol"
   ]
  },
  {
   "cell_type": "code",
   "execution_count": null,
   "id": "f52e7e7c",
   "metadata": {},
   "outputs": [],
   "source": []
  },
  {
   "cell_type": "code",
   "execution_count": null,
   "id": "cfc8901f",
   "metadata": {},
   "outputs": [],
   "source": []
  },
  {
   "cell_type": "code",
   "execution_count": null,
   "id": "74bae600",
   "metadata": {},
   "outputs": [],
   "source": []
  },
  {
   "cell_type": "code",
   "execution_count": null,
   "id": "5c05033a",
   "metadata": {},
   "outputs": [],
   "source": []
  },
  {
   "cell_type": "markdown",
   "id": "374170cc",
   "metadata": {},
   "source": [
    "Other comparisons:"
   ]
  },
  {
   "cell_type": "code",
   "execution_count": null,
   "id": "d9e33b0f",
   "metadata": {},
   "outputs": [],
   "source": []
  },
  {
   "cell_type": "code",
   "execution_count": null,
   "id": "790e26f6",
   "metadata": {},
   "outputs": [],
   "source": []
  },
  {
   "cell_type": "code",
   "execution_count": null,
   "id": "5eda619a",
   "metadata": {},
   "outputs": [],
   "source": []
  },
  {
   "cell_type": "markdown",
   "id": "4d86cd4f",
   "metadata": {},
   "source": [
    "Chaining inequalities together:"
   ]
  },
  {
   "cell_type": "code",
   "execution_count": null,
   "id": "fbf12ee7",
   "metadata": {},
   "outputs": [],
   "source": []
  },
  {
   "cell_type": "code",
   "execution_count": null,
   "id": "f7faa16a",
   "metadata": {},
   "outputs": [],
   "source": []
  },
  {
   "cell_type": "markdown",
   "id": "164c3a53",
   "metadata": {},
   "source": [
    "## The `if` statement\n",
    "\n",
    "If statements can be used to evaluate code based on the truth value of a Boolean expression.\n",
    "\n",
    "Note: In Python, spacing and tabbing is **critical**!!!"
   ]
  },
  {
   "cell_type": "code",
   "execution_count": null,
   "id": "17fedfa5",
   "metadata": {},
   "outputs": [],
   "source": []
  },
  {
   "cell_type": "markdown",
   "id": "9dba0ab3",
   "metadata": {},
   "source": [
    "We can use the `else` statement to do something different when the `if` statement is not `True`:"
   ]
  },
  {
   "cell_type": "code",
   "execution_count": null,
   "id": "50ab932b",
   "metadata": {},
   "outputs": [],
   "source": []
  },
  {
   "cell_type": "markdown",
   "id": "34024f59",
   "metadata": {},
   "source": [
    "We can use the `elif` (else if) statement to make chained `if` statements:"
   ]
  },
  {
   "cell_type": "code",
   "execution_count": null,
   "id": "3455cd42",
   "metadata": {},
   "outputs": [],
   "source": []
  },
  {
   "cell_type": "markdown",
   "id": "f0a45d27",
   "metadata": {},
   "source": [
    "The `if` statement must always come first and the `else` statement (if used) must always come last. Python will start with the first Boolean expression. If `True`, it runs the indented code block immediately below, then exits the `if` statement.\n",
    "\n",
    "If the first Boolean expression is `False`, Python will continue to the next Boolean expression (i.e. in any `elif` statements if present, or it will automatically enter the `else` block)."
   ]
  },
  {
   "cell_type": "code",
   "execution_count": null,
   "id": "5d9afa68",
   "metadata": {},
   "outputs": [],
   "source": []
  },
  {
   "cell_type": "markdown",
   "id": "65b42814",
   "metadata": {},
   "source": [
    "**Exercise:** Given two integers `a=5` and `b=7`, print the product of `a` and `b` if the product is greater than `1000`. Otherwise, print the sum of `a` and `b`."
   ]
  },
  {
   "cell_type": "code",
   "execution_count": null,
   "id": "1150492a",
   "metadata": {},
   "outputs": [],
   "source": []
  },
  {
   "cell_type": "markdown",
   "id": "e49489b2",
   "metadata": {},
   "source": [
    "## Prime numbers\n",
    "\n",
    "A positive integer $n$ is a prime number if the only positive integer factors of $n$ are 1 and $n$.\n",
    "\n",
    "We can use the modulus operation `%` to check divisibility:"
   ]
  },
  {
   "cell_type": "code",
   "execution_count": null,
   "id": "d7e91499",
   "metadata": {},
   "outputs": [],
   "source": []
  },
  {
   "cell_type": "code",
   "execution_count": null,
   "id": "55a51be7",
   "metadata": {},
   "outputs": [],
   "source": []
  },
  {
   "cell_type": "code",
   "execution_count": null,
   "id": "c7140e42",
   "metadata": {},
   "outputs": [],
   "source": []
  },
  {
   "cell_type": "markdown",
   "id": "61ea5326",
   "metadata": {},
   "source": [
    "## Repetition: Lists and `for` loops"
   ]
  },
  {
   "cell_type": "markdown",
   "id": "521be19b",
   "metadata": {},
   "source": [
    "### Lists\n",
    "\n",
    "Lists are created by enclosing some objects (separated by commas) in square brackets: `[<object1>, <object2>, ... ]`"
   ]
  },
  {
   "cell_type": "code",
   "execution_count": null,
   "id": "e7f57bc2",
   "metadata": {},
   "outputs": [],
   "source": []
  },
  {
   "cell_type": "markdown",
   "id": "3087ee16",
   "metadata": {},
   "source": [
    "We can access particular elements of a list `mylist` using `mylist[i]`, which will return the `i`th item.\n",
    "\n",
    "Note: Python uses zero-based indexing!!! That means, the \"first\" element in the list is at index `i=0`"
   ]
  },
  {
   "cell_type": "code",
   "execution_count": null,
   "id": "fc693487",
   "metadata": {},
   "outputs": [],
   "source": []
  },
  {
   "cell_type": "code",
   "execution_count": null,
   "id": "e2787214",
   "metadata": {},
   "outputs": [],
   "source": []
  },
  {
   "cell_type": "markdown",
   "id": "cf880d88",
   "metadata": {},
   "source": [
    "The **last** element of a list can be accessed using `mylist[-1]`:"
   ]
  },
  {
   "cell_type": "code",
   "execution_count": null,
   "id": "4739e719",
   "metadata": {},
   "outputs": [],
   "source": []
  },
  {
   "cell_type": "markdown",
   "id": "3a176057",
   "metadata": {},
   "source": [
    "Other negative indices will count backward from the end of the list:"
   ]
  },
  {
   "cell_type": "code",
   "execution_count": null,
   "id": "4ea7d940",
   "metadata": {},
   "outputs": [],
   "source": []
  },
  {
   "cell_type": "code",
   "execution_count": null,
   "id": "11aab33d",
   "metadata": {},
   "outputs": [],
   "source": []
  },
  {
   "cell_type": "markdown",
   "id": "a04dc86b",
   "metadata": {},
   "source": [
    "### Operations on lists\n",
    "\n",
    "Lists work very similar to strings in terms of how we can add and multiply:"
   ]
  },
  {
   "cell_type": "code",
   "execution_count": null,
   "id": "ee4244eb",
   "metadata": {},
   "outputs": [],
   "source": []
  },
  {
   "cell_type": "code",
   "execution_count": null,
   "id": "a3be3913",
   "metadata": {},
   "outputs": [],
   "source": []
  },
  {
   "cell_type": "code",
   "execution_count": null,
   "id": "6f3322bf",
   "metadata": {},
   "outputs": [],
   "source": []
  },
  {
   "cell_type": "markdown",
   "id": "769b7f00",
   "metadata": {},
   "source": [
    "The `.append()` method can be used to add an additional item to the end of a list."
   ]
  },
  {
   "cell_type": "code",
   "execution_count": null,
   "id": "68aaa08e",
   "metadata": {},
   "outputs": [],
   "source": []
  },
  {
   "cell_type": "code",
   "execution_count": null,
   "id": "f4d597ac",
   "metadata": {},
   "outputs": [],
   "source": []
  },
  {
   "cell_type": "markdown",
   "id": "76f65a75",
   "metadata": {},
   "source": [
    "We can check if an item is in a list using `in`:\n"
   ]
  },
  {
   "cell_type": "code",
   "execution_count": null,
   "id": "4e414665",
   "metadata": {},
   "outputs": [],
   "source": []
  },
  {
   "cell_type": "code",
   "execution_count": null,
   "id": "c4147cb9",
   "metadata": {},
   "outputs": [],
   "source": []
  },
  {
   "cell_type": "code",
   "execution_count": null,
   "id": "9f024c6f",
   "metadata": {},
   "outputs": [],
   "source": []
  },
  {
   "cell_type": "markdown",
   "id": "9e5aaace",
   "metadata": {},
   "source": [
    "The `len()` function returns the length of a list:"
   ]
  },
  {
   "cell_type": "code",
   "execution_count": null,
   "id": "296f0a86",
   "metadata": {},
   "outputs": [],
   "source": []
  },
  {
   "cell_type": "code",
   "execution_count": null,
   "id": "1727131f",
   "metadata": {},
   "outputs": [],
   "source": []
  },
  {
   "cell_type": "markdown",
   "id": "d4f73ade",
   "metadata": {},
   "source": [
    "### `for` loops\n",
    "\n",
    "Loops can be used to perform iterative operations:\n",
    "\n",
    "`for <item> in <list>:\n",
    "    <do something with item>`"
   ]
  },
  {
   "cell_type": "code",
   "execution_count": null,
   "id": "6226f2dc",
   "metadata": {},
   "outputs": [],
   "source": []
  },
  {
   "cell_type": "code",
   "execution_count": null,
   "id": "6a80a81e",
   "metadata": {},
   "outputs": [],
   "source": []
  },
  {
   "cell_type": "markdown",
   "id": "051a0a03",
   "metadata": {},
   "source": [
    "**Exercise:** Define a list containing the positive integers `1` through `9`. Then write a `for` loop that iterates through the list and prints the first `9` cubes (i.e. 1, 8, 27, ...). Store the cubes in a new list called `cubes`."
   ]
  },
  {
   "cell_type": "code",
   "execution_count": null,
   "id": "b0641dbb",
   "metadata": {},
   "outputs": [],
   "source": []
  },
  {
   "cell_type": "code",
   "execution_count": null,
   "id": "0bd5730c",
   "metadata": {},
   "outputs": [],
   "source": []
  },
  {
   "cell_type": "markdown",
   "id": "85784bde",
   "metadata": {},
   "source": [
    "Strings can also be treated as lists of characters:"
   ]
  },
  {
   "cell_type": "code",
   "execution_count": null,
   "id": "d73822c5",
   "metadata": {},
   "outputs": [],
   "source": []
  },
  {
   "cell_type": "code",
   "execution_count": null,
   "id": "1cb0d172",
   "metadata": {},
   "outputs": [],
   "source": []
  },
  {
   "cell_type": "markdown",
   "id": "308fe04f",
   "metadata": {},
   "source": [
    "**Exercise:** Modify the above `for` loop to only print the vowels in `Buffalo`"
   ]
  },
  {
   "cell_type": "code",
   "execution_count": null,
   "id": "54edb20f",
   "metadata": {},
   "outputs": [],
   "source": []
  },
  {
   "cell_type": "code",
   "execution_count": null,
   "id": "18350f66",
   "metadata": {},
   "outputs": [],
   "source": []
  },
  {
   "cell_type": "markdown",
   "id": "98662198",
   "metadata": {},
   "source": [
    "## Code comments\n",
    "\n",
    "We can leave comments in our Python code using hashtags `#`.\n",
    "Anything that follows a hashtag will be ignored."
   ]
  },
  {
   "cell_type": "code",
   "execution_count": null,
   "id": "c4b5f6d1",
   "metadata": {},
   "outputs": [],
   "source": []
  },
  {
   "cell_type": "markdown",
   "id": "0c4ed021",
   "metadata": {},
   "source": [
    "General guidelines:\n",
    " * Include code comments to clarify what your code does and how it works\n",
    " * Keep code comments short and concise\n",
    " * When possible, space comments for maximum readability"
   ]
  },
  {
   "cell_type": "code",
   "execution_count": null,
   "id": "10577aab",
   "metadata": {},
   "outputs": [],
   "source": []
  },
  {
   "cell_type": "code",
   "execution_count": null,
   "id": "1a4edf60",
   "metadata": {},
   "outputs": [],
   "source": []
  },
  {
   "cell_type": "markdown",
   "id": "df2ed36e",
   "metadata": {},
   "source": [
    "## Project 1: [Prime or not a prime](https://jllottes.github.io/Projects/prime_or_not/prime_or_not.html)\n",
    "\n",
    "First goal: Determine whether a number is prime or not."
   ]
  },
  {
   "cell_type": "code",
   "execution_count": null,
   "id": "a7a78621",
   "metadata": {},
   "outputs": [],
   "source": []
  },
  {
   "cell_type": "code",
   "execution_count": null,
   "id": "e983e4e4",
   "metadata": {},
   "outputs": [],
   "source": []
  },
  {
   "cell_type": "markdown",
   "id": "374e7d5a",
   "metadata": {},
   "source": [
    "The `range()` function can be used to iterate through a list of integers.\n",
    "\n",
    " * `range(n)` will generate the integers `0, 1, 2, ... n-1`\n",
    " * `range(m,n)` will generate the integers `m, m+1, m+2, ... n-1`\n",
    " * `range(m,n,k)` will generate the integers between `m` and `n` (not including `n`) incremented by `k`"
   ]
  },
  {
   "cell_type": "code",
   "execution_count": null,
   "id": "b2a18ba6",
   "metadata": {},
   "outputs": [],
   "source": []
  },
  {
   "cell_type": "code",
   "execution_count": null,
   "id": "78fb24a7",
   "metadata": {},
   "outputs": [],
   "source": []
  },
  {
   "cell_type": "code",
   "execution_count": null,
   "id": "a3a2081e",
   "metadata": {},
   "outputs": [],
   "source": []
  },
  {
   "cell_type": "markdown",
   "id": "8e8683b1",
   "metadata": {},
   "source": [
    "The `range()` function does not actually create a list of these integers, only an `iterable` that can be looped through:"
   ]
  },
  {
   "cell_type": "code",
   "execution_count": null,
   "id": "377dbefb",
   "metadata": {},
   "outputs": [],
   "source": []
  },
  {
   "cell_type": "code",
   "execution_count": null,
   "id": "16ae4805",
   "metadata": {},
   "outputs": [],
   "source": []
  },
  {
   "cell_type": "markdown",
   "id": "85ef6dd5",
   "metadata": {},
   "source": [
    "### Fine-tuning loops"
   ]
  },
  {
   "cell_type": "markdown",
   "id": "b0adc09d",
   "metadata": {},
   "source": [
    "The `break` command can be used to exit a loop:"
   ]
  },
  {
   "cell_type": "code",
   "execution_count": null,
   "id": "78b78e7a",
   "metadata": {},
   "outputs": [],
   "source": []
  },
  {
   "cell_type": "markdown",
   "id": "5ba8aab8",
   "metadata": {},
   "source": [
    "The `continue` command can be used to skip to the next iteration of a loop:"
   ]
  },
  {
   "cell_type": "code",
   "execution_count": null,
   "id": "35beb1d1",
   "metadata": {},
   "outputs": [],
   "source": []
  },
  {
   "cell_type": "markdown",
   "id": "2320d666",
   "metadata": {},
   "source": [
    "The `pass` command can be used to do nothing:"
   ]
  },
  {
   "cell_type": "code",
   "execution_count": null,
   "id": "b75872b7",
   "metadata": {},
   "outputs": [],
   "source": []
  }
 ],
 "metadata": {
  "kernelspec": {
   "display_name": "Python 3 (ipykernel)",
   "language": "python",
   "name": "python3"
  },
  "language_info": {
   "codemirror_mode": {
    "name": "ipython",
    "version": 3
   },
   "file_extension": ".py",
   "mimetype": "text/x-python",
   "name": "python",
   "nbconvert_exporter": "python",
   "pygments_lexer": "ipython3",
   "version": "3.9.7"
  }
 },
 "nbformat": 4,
 "nbformat_minor": 5
}
