{
 "cells": [
  {
   "cell_type": "markdown",
   "id": "a6e1ccd6",
   "metadata": {},
   "source": [
    "# Monday, February 6th, 2023"
   ]
  },
  {
   "cell_type": "markdown",
   "id": "2905a211",
   "metadata": {},
   "source": [
    "## LaTeX in markdown cells\n",
    "\n",
    "LaTeX is a language for writing math expressions. To work with LaTeX, we use dollar symbols \\$ to wrap around our LaTeX. \n",
    "\n",
    "*Double-click any of the cells to see the markdown and LaTeX code.*"
   ]
  },
  {
   "cell_type": "markdown",
   "id": "40a9dfe4",
   "metadata": {},
   "source": [
    " 1. Exponents `$x^2 + y^5$`: $x^2 + y^5$\n",
    " 2. Fractions `$\\frac{3}{5}$`: $\\frac{3}{5}$\n",
    " 3. Integrals and trigonometric functions `$\\int \\cos(x) dx$`: $\\int \\cos(x) dx$\n",
    " 4. Superscripts and subscripts `$x_1$`, `$\\int_0^1 \\cos(x) dx$`: $x_1$, $\\int_0^1 \\cos(x) dx$\n",
    " 5. Square roots `$\\sqrt{2}$`: $\\sqrt{2}$\n",
    " 6. Greek letters `$\\alpha + \\beta = \\gamma$`: $\\alpha + \\beta = \\gamma$"
   ]
  },
  {
   "cell_type": "markdown",
   "id": "8c3cc0c1",
   "metadata": {},
   "source": [
    "Double dollar signs \\$\\$ can be used to display formulas centered on their own line:\n",
    "`$$\\int_0^\\pi \\sin(2x) dx$$`\n",
    "\n",
    "$$\\int_0^\\pi \\sin(2x) dx$$"
   ]
  },
  {
   "cell_type": "markdown",
   "id": "dcf5b1fc",
   "metadata": {},
   "source": [
    "Arbitrary roots `$\\sqrt[5]{7}$`: $\\sqrt[5]{7}$"
   ]
  },
  {
   "cell_type": "markdown",
   "id": "f9dae438",
   "metadata": {},
   "source": [
    "Parentheses:\n",
    "\n",
    "`$$4(\\frac{x}{2} + 3)$$`:\n",
    "$$4(\\frac{x}{2} + 3)$$\n",
    "\n",
    "We can fix the size of parentheses by using `\\left(` to open and `\\right)`:\n",
    "\n",
    "$$4\\left(\\frac{x}{2} + 3\\right)$$\n",
    "\n",
    "Note: you can also use `\\left[` and `\\right]`"
   ]
  },
  {
   "cell_type": "markdown",
   "id": "0124f0f5",
   "metadata": {},
   "source": [
    "**Exercise:** Write a fraction in LaTeX whose numerator is $\\frac{1}{2} + \\frac{2}{3}$ and whose denominator is $\\frac{4}{5}\\pi$. Then put a set of parentheses around this fraction and square it. Use a display formula (i.e. double dollar signs)"
   ]
  },
  {
   "cell_type": "markdown",
   "id": "272dc422",
   "metadata": {},
   "source": [
    "$\\frac{1}{2} + \\frac{2}{3}$\n",
    "\n",
    "$\\frac{4}{5}\\pi$\n",
    "\n",
    "$$\\left(\\frac{\\frac{1}{2} + \\frac{2}{3}}{\\frac{4}{5}\\pi}\\right)^2$$"
   ]
  },
  {
   "cell_type": "markdown",
   "id": "f0a8e184",
   "metadata": {},
   "source": [
    "## Boolean values and expressions"
   ]
  },
  {
   "cell_type": "markdown",
   "id": "3f9d9739",
   "metadata": {},
   "source": [
    "Boolean values: `True` and `False`\n",
    "\n",
    "A *Boolean expression* is an expression that can be evaluated as either `True` or `False`.\n",
    "\n",
    "**Equality test**: Use `==` symbol"
   ]
  },
  {
   "cell_type": "code",
   "execution_count": 1,
   "id": "e6b1496e",
   "metadata": {},
   "outputs": [
    {
     "data": {
      "text/plain": [
       "False"
      ]
     },
     "execution_count": 1,
     "metadata": {},
     "output_type": "execute_result"
    }
   ],
   "source": [
    "1 == 2"
   ]
  },
  {
   "cell_type": "code",
   "execution_count": 2,
   "id": "64272dfd",
   "metadata": {},
   "outputs": [
    {
     "data": {
      "text/plain": [
       "True"
      ]
     },
     "execution_count": 2,
     "metadata": {},
     "output_type": "execute_result"
    }
   ],
   "source": [
    "2 + 2 == 2*2"
   ]
  },
  {
   "cell_type": "code",
   "execution_count": 6,
   "id": "b03c0237",
   "metadata": {},
   "outputs": [
    {
     "data": {
      "text/plain": [
       "True"
      ]
     },
     "execution_count": 6,
     "metadata": {},
     "output_type": "execute_result"
    }
   ],
   "source": [
    "a = 1\n",
    "b = 3\n",
    "\n",
    "3*a == b"
   ]
  },
  {
   "cell_type": "code",
   "execution_count": 7,
   "id": "ef951cf3",
   "metadata": {},
   "outputs": [
    {
     "data": {
      "text/plain": [
       "False"
      ]
     },
     "execution_count": 7,
     "metadata": {},
     "output_type": "execute_result"
    }
   ],
   "source": [
    "'3' == 3"
   ]
  },
  {
   "cell_type": "code",
   "execution_count": 8,
   "id": "1c34d917",
   "metadata": {},
   "outputs": [
    {
     "data": {
      "text/plain": [
       "'33'"
      ]
     },
     "execution_count": 8,
     "metadata": {},
     "output_type": "execute_result"
    }
   ],
   "source": [
    "'3' + '3'"
   ]
  },
  {
   "cell_type": "code",
   "execution_count": 9,
   "id": "145523c8",
   "metadata": {},
   "outputs": [
    {
     "data": {
      "text/plain": [
       "6"
      ]
     },
     "execution_count": 9,
     "metadata": {},
     "output_type": "execute_result"
    }
   ],
   "source": [
    "3 + 3"
   ]
  },
  {
   "cell_type": "markdown",
   "id": "bf3c45b3",
   "metadata": {},
   "source": [
    "**Inequality test**: Use `!=` symbol"
   ]
  },
  {
   "cell_type": "code",
   "execution_count": 10,
   "id": "f52e7e7c",
   "metadata": {},
   "outputs": [
    {
     "data": {
      "text/plain": [
       "True"
      ]
     },
     "execution_count": 10,
     "metadata": {},
     "output_type": "execute_result"
    }
   ],
   "source": [
    "1 != 2"
   ]
  },
  {
   "cell_type": "code",
   "execution_count": 11,
   "id": "cfc8901f",
   "metadata": {},
   "outputs": [
    {
     "data": {
      "text/plain": [
       "False"
      ]
     },
     "execution_count": 11,
     "metadata": {},
     "output_type": "execute_result"
    }
   ],
   "source": [
    "2 + 2 != 2*2"
   ]
  },
  {
   "cell_type": "markdown",
   "id": "374170cc",
   "metadata": {},
   "source": [
    "Other comparisons:"
   ]
  },
  {
   "cell_type": "code",
   "execution_count": 12,
   "id": "d9e33b0f",
   "metadata": {},
   "outputs": [
    {
     "data": {
      "text/plain": [
       "True"
      ]
     },
     "execution_count": 12,
     "metadata": {},
     "output_type": "execute_result"
    }
   ],
   "source": [
    "2 < 3"
   ]
  },
  {
   "cell_type": "code",
   "execution_count": 13,
   "id": "790e26f6",
   "metadata": {},
   "outputs": [
    {
     "data": {
      "text/plain": [
       "True"
      ]
     },
     "execution_count": 13,
     "metadata": {},
     "output_type": "execute_result"
    }
   ],
   "source": [
    "4 >= 4"
   ]
  },
  {
   "cell_type": "markdown",
   "id": "4d86cd4f",
   "metadata": {},
   "source": [
    "Chaining inequalities together:"
   ]
  },
  {
   "cell_type": "code",
   "execution_count": 14,
   "id": "fbf12ee7",
   "metadata": {},
   "outputs": [
    {
     "data": {
      "text/plain": [
       "True"
      ]
     },
     "execution_count": 14,
     "metadata": {},
     "output_type": "execute_result"
    }
   ],
   "source": [
    "1 < 2 < 3"
   ]
  },
  {
   "cell_type": "code",
   "execution_count": 15,
   "id": "f7faa16a",
   "metadata": {},
   "outputs": [
    {
     "data": {
      "text/plain": [
       "False"
      ]
     },
     "execution_count": 15,
     "metadata": {},
     "output_type": "execute_result"
    }
   ],
   "source": [
    "2 < 4 < 3"
   ]
  },
  {
   "cell_type": "markdown",
   "id": "164c3a53",
   "metadata": {},
   "source": [
    "## The `if` statement\n",
    "\n",
    "If statements can be used to evaluate code based on the truth value of a Boolean expression.\n",
    "\n",
    "Note: In Python, spacing and tabbing is **critical**!!!"
   ]
  },
  {
   "cell_type": "code",
   "execution_count": 21,
   "id": "17fedfa5",
   "metadata": {},
   "outputs": [
    {
     "name": "stdout",
     "output_type": "stream",
     "text": [
      "Hello\n",
      "This code gets executed if the Boolean expression is True\n",
      "This code gets executed no matter what\n"
     ]
    }
   ],
   "source": [
    "if 3 < 7:\n",
    "    print('Hello')\n",
    "    print('This code gets executed if the Boolean expression is True')\n",
    "    \n",
    "print('This code gets executed no matter what')"
   ]
  },
  {
   "cell_type": "markdown",
   "id": "9dba0ab3",
   "metadata": {},
   "source": [
    "We can use the `else` statement to do something different when the `if` statement is not `True`:"
   ]
  },
  {
   "cell_type": "code",
   "execution_count": 25,
   "id": "50ab932b",
   "metadata": {},
   "outputs": [
    {
     "name": "stdout",
     "output_type": "stream",
     "text": [
      "5 is a small number\n",
      "Done!\n"
     ]
    }
   ],
   "source": [
    "a = 5\n",
    "\n",
    "if a < 10:\n",
    "    print('{0} is a small number'.format(a))\n",
    "else:\n",
    "    print('{0} is not a small number'.format(a))\n",
    "    \n",
    "print('Done!')"
   ]
  },
  {
   "cell_type": "markdown",
   "id": "34024f59",
   "metadata": {},
   "source": [
    "We can use the `elif` (else if) statement to make chained `if` statements:"
   ]
  },
  {
   "cell_type": "code",
   "execution_count": 29,
   "id": "3455cd42",
   "metadata": {},
   "outputs": [
    {
     "name": "stdout",
     "output_type": "stream",
     "text": [
      "1500 is a huge number\n",
      "Done!\n"
     ]
    }
   ],
   "source": [
    "a = 1500\n",
    "\n",
    "if a < 10:\n",
    "    print('{0} is a small number'.format(a))\n",
    "elif a < 100:\n",
    "    print('{0} is a medium number'.format(a))\n",
    "elif a < 1000:\n",
    "    print('{0} is a large number'.format(a))\n",
    "else:\n",
    "    print('{0} is a huge number'.format(a))\n",
    "    \n",
    "print('Done!')"
   ]
  },
  {
   "cell_type": "markdown",
   "id": "f0a45d27",
   "metadata": {},
   "source": [
    "The `if` statement must always come first and the `else` statement (if used) must always come last. Python will start with the first Boolean expression. If `True`, it runs the indented code block immediately below, then exits the `if` statement.\n",
    "\n",
    "If the first Boolean expression is `False`, Python will continue to the next Boolean expression (i.e. in any `elif` statements if present, or it will automatically enter the `else` block)."
   ]
  },
  {
   "cell_type": "code",
   "execution_count": null,
   "id": "5d9afa68",
   "metadata": {},
   "outputs": [],
   "source": []
  },
  {
   "cell_type": "markdown",
   "id": "65b42814",
   "metadata": {},
   "source": [
    "**Exercise:** Given two integers `a=5` and `b=7`, print the product of `a` and `b` if the product is greater than `1000`. Otherwise, print the sum of `a` and `b`."
   ]
  },
  {
   "cell_type": "code",
   "execution_count": 31,
   "id": "1150492a",
   "metadata": {},
   "outputs": [
    {
     "name": "stdout",
     "output_type": "stream",
     "text": [
      "3500\n"
     ]
    }
   ],
   "source": [
    "a = 50\n",
    "b = 70\n",
    "\n",
    "if a * b > 1000:\n",
    "    print(a * b)\n",
    "else:\n",
    "    print(a + b)"
   ]
  },
  {
   "cell_type": "markdown",
   "id": "e49489b2",
   "metadata": {},
   "source": [
    "## Prime numbers\n",
    "\n",
    "A positive integer $n$ is a prime number if the only positive integer factors of $n$ are 1 and $n$.\n",
    "\n",
    "We can use the modulus operation `%` to check divisibility.\n",
    "\n",
    "That is, `m` is divisble by `n` if the remainder of `m` after division by `n` is 0:"
   ]
  },
  {
   "cell_type": "code",
   "execution_count": 34,
   "id": "d7e91499",
   "metadata": {},
   "outputs": [
    {
     "name": "stdout",
     "output_type": "stream",
     "text": [
      "False\n"
     ]
    }
   ],
   "source": [
    "m = 9\n",
    "n = 4\n",
    "\n",
    "print(m % n == 0)"
   ]
  },
  {
   "cell_type": "code",
   "execution_count": 45,
   "id": "55a51be7",
   "metadata": {},
   "outputs": [
    {
     "name": "stdout",
     "output_type": "stream",
     "text": [
      "11 is not divisible by 10\n"
     ]
    }
   ],
   "source": [
    "m = 11\n",
    "n = 10\n",
    "\n",
    "if m % n == 0:\n",
    "    print('{0} is divisible by {1}'.format(m,n))\n",
    "else:\n",
    "    print('{0} is not divisible by {1}'.format(m,n))"
   ]
  },
  {
   "cell_type": "code",
   "execution_count": null,
   "id": "c7140e42",
   "metadata": {},
   "outputs": [],
   "source": []
  },
  {
   "cell_type": "markdown",
   "id": "61ea5326",
   "metadata": {},
   "source": [
    "## Repetition: Lists and `for` loops"
   ]
  },
  {
   "cell_type": "markdown",
   "id": "521be19b",
   "metadata": {},
   "source": [
    "### Lists\n",
    "\n",
    "Lists are created by enclosing some objects (separated by commas) in square brackets: `[<object1>, <object2>, ... ]`"
   ]
  },
  {
   "cell_type": "code",
   "execution_count": 47,
   "id": "e7f57bc2",
   "metadata": {},
   "outputs": [
    {
     "data": {
      "text/plain": [
       "[1, 2, 5, 7, -4, 'list item']"
      ]
     },
     "execution_count": 47,
     "metadata": {},
     "output_type": "execute_result"
    }
   ],
   "source": [
    "mylist = [1, 2, 5, 7, -4, 'list item']\n",
    "\n",
    "mylist"
   ]
  },
  {
   "cell_type": "markdown",
   "id": "3087ee16",
   "metadata": {},
   "source": [
    "We can access particular elements of a list `mylist` using `mylist[i]`, which will return the `i`th item.\n",
    "\n",
    "Note: Python uses zero-based indexing!!! That means, the \"first\" element in the list is at index `i=0`"
   ]
  },
  {
   "cell_type": "code",
   "execution_count": 48,
   "id": "fc693487",
   "metadata": {},
   "outputs": [
    {
     "data": {
      "text/plain": [
       "7"
      ]
     },
     "execution_count": 48,
     "metadata": {},
     "output_type": "execute_result"
    }
   ],
   "source": [
    "mylist[3]"
   ]
  },
  {
   "cell_type": "code",
   "execution_count": 50,
   "id": "e2787214",
   "metadata": {},
   "outputs": [
    {
     "data": {
      "text/plain": [
       "2"
      ]
     },
     "execution_count": 50,
     "metadata": {},
     "output_type": "execute_result"
    }
   ],
   "source": [
    "mylist[1]"
   ]
  },
  {
   "cell_type": "markdown",
   "id": "cf880d88",
   "metadata": {},
   "source": [
    "The **last** element of a list can be accessed using `mylist[-1]`:"
   ]
  },
  {
   "cell_type": "code",
   "execution_count": 51,
   "id": "4739e719",
   "metadata": {},
   "outputs": [
    {
     "data": {
      "text/plain": [
       "'list item'"
      ]
     },
     "execution_count": 51,
     "metadata": {},
     "output_type": "execute_result"
    }
   ],
   "source": [
    "mylist[-1]"
   ]
  },
  {
   "cell_type": "markdown",
   "id": "3a176057",
   "metadata": {},
   "source": [
    "Other negative indices will count backward from the end of the list:"
   ]
  },
  {
   "cell_type": "code",
   "execution_count": 52,
   "id": "4ea7d940",
   "metadata": {},
   "outputs": [
    {
     "data": {
      "text/plain": [
       "-4"
      ]
     },
     "execution_count": 52,
     "metadata": {},
     "output_type": "execute_result"
    }
   ],
   "source": [
    "mylist[-2]"
   ]
  },
  {
   "cell_type": "code",
   "execution_count": 53,
   "id": "11aab33d",
   "metadata": {},
   "outputs": [
    {
     "ename": "IndexError",
     "evalue": "list index out of range",
     "output_type": "error",
     "traceback": [
      "\u001b[1;31m---------------------------------------------------------------------------\u001b[0m",
      "\u001b[1;31mIndexError\u001b[0m                                Traceback (most recent call last)",
      "\u001b[1;32m~\\AppData\\Local\\Temp/ipykernel_10880/1722322353.py\u001b[0m in \u001b[0;36m<module>\u001b[1;34m\u001b[0m\n\u001b[1;32m----> 1\u001b[1;33m \u001b[0mmylist\u001b[0m\u001b[1;33m[\u001b[0m\u001b[1;36m10\u001b[0m\u001b[1;33m]\u001b[0m\u001b[1;33m\u001b[0m\u001b[1;33m\u001b[0m\u001b[0m\n\u001b[0m",
      "\u001b[1;31mIndexError\u001b[0m: list index out of range"
     ]
    }
   ],
   "source": [
    "mylist[10]"
   ]
  },
  {
   "cell_type": "markdown",
   "id": "a04dc86b",
   "metadata": {},
   "source": [
    "### Operations on lists\n",
    "\n",
    "Lists work very similar to strings in terms of how we can add and multiply:"
   ]
  },
  {
   "cell_type": "code",
   "execution_count": 54,
   "id": "ee4244eb",
   "metadata": {},
   "outputs": [
    {
     "data": {
      "text/plain": [
       "[3, 4, 5, 3, 2, 1]"
      ]
     },
     "execution_count": 54,
     "metadata": {},
     "output_type": "execute_result"
    }
   ],
   "source": [
    "[3,4,5] + [3,2,1]"
   ]
  },
  {
   "cell_type": "code",
   "execution_count": 55,
   "id": "a3be3913",
   "metadata": {},
   "outputs": [
    {
     "data": {
      "text/plain": [
       "[1, 2, 3, 1, 2, 3, 1, 2, 3]"
      ]
     },
     "execution_count": 55,
     "metadata": {},
     "output_type": "execute_result"
    }
   ],
   "source": [
    "3 * [1,2,3]"
   ]
  },
  {
   "cell_type": "markdown",
   "id": "f9e1aabb",
   "metadata": {},
   "source": [
    "That is, adding lists concatenates them, multiplying a list by an integer produces concetenated copies."
   ]
  },
  {
   "cell_type": "markdown",
   "id": "769b7f00",
   "metadata": {},
   "source": [
    "The `.append()` method can be used to add an additional item to the end of a list."
   ]
  },
  {
   "cell_type": "code",
   "execution_count": 56,
   "id": "68aaa08e",
   "metadata": {},
   "outputs": [],
   "source": [
    "mylist = ['a','b','c']"
   ]
  },
  {
   "cell_type": "code",
   "execution_count": 57,
   "id": "f4d597ac",
   "metadata": {},
   "outputs": [],
   "source": [
    "mylist.append('e')"
   ]
  },
  {
   "cell_type": "code",
   "execution_count": 58,
   "id": "52256284",
   "metadata": {},
   "outputs": [
    {
     "data": {
      "text/plain": [
       "['a', 'b', 'c', 'e']"
      ]
     },
     "execution_count": 58,
     "metadata": {},
     "output_type": "execute_result"
    }
   ],
   "source": [
    "mylist"
   ]
  },
  {
   "cell_type": "markdown",
   "id": "76f65a75",
   "metadata": {},
   "source": [
    "We can check if an item is in a list using `in`:\n"
   ]
  },
  {
   "cell_type": "code",
   "execution_count": 59,
   "id": "4e414665",
   "metadata": {},
   "outputs": [
    {
     "data": {
      "text/plain": [
       "False"
      ]
     },
     "execution_count": 59,
     "metadata": {},
     "output_type": "execute_result"
    }
   ],
   "source": [
    "'d' in mylist"
   ]
  },
  {
   "cell_type": "code",
   "execution_count": 60,
   "id": "c4147cb9",
   "metadata": {},
   "outputs": [
    {
     "data": {
      "text/plain": [
       "True"
      ]
     },
     "execution_count": 60,
     "metadata": {},
     "output_type": "execute_result"
    }
   ],
   "source": [
    "'e' in mylist"
   ]
  },
  {
   "cell_type": "code",
   "execution_count": null,
   "id": "9f024c6f",
   "metadata": {},
   "outputs": [],
   "source": []
  },
  {
   "cell_type": "markdown",
   "id": "9e5aaace",
   "metadata": {},
   "source": [
    "The `len()` function returns the length of a list:"
   ]
  },
  {
   "cell_type": "code",
   "execution_count": 61,
   "id": "296f0a86",
   "metadata": {},
   "outputs": [
    {
     "data": {
      "text/plain": [
       "4"
      ]
     },
     "execution_count": 61,
     "metadata": {},
     "output_type": "execute_result"
    }
   ],
   "source": [
    "len(mylist)"
   ]
  },
  {
   "cell_type": "code",
   "execution_count": null,
   "id": "1727131f",
   "metadata": {},
   "outputs": [],
   "source": []
  },
  {
   "cell_type": "markdown",
   "id": "d4f73ade",
   "metadata": {},
   "source": [
    "### `for` loops\n",
    "\n",
    "Loops can be used to perform iterative operations:\n",
    "\n",
    "`for <item> in <list>:\n",
    "    <do something with item>`"
   ]
  },
  {
   "cell_type": "code",
   "execution_count": 62,
   "id": "6226f2dc",
   "metadata": {},
   "outputs": [
    {
     "name": "stdout",
     "output_type": "stream",
     "text": [
      "1\n",
      "2\n",
      "c\n",
      "d\n",
      "5th item\n"
     ]
    }
   ],
   "source": [
    "mylist = [1,2,'c','d','5th item']\n",
    "\n",
    "for item in mylist:\n",
    "    print(item)"
   ]
  },
  {
   "cell_type": "code",
   "execution_count": null,
   "id": "6a80a81e",
   "metadata": {},
   "outputs": [],
   "source": []
  },
  {
   "cell_type": "markdown",
   "id": "051a0a03",
   "metadata": {},
   "source": [
    "**Exercise:** Define a list containing the positive integers `1` through `9`. Then write a `for` loop that iterates through the list and prints the first `9` cubes (i.e. 1, 8, 27, ...). Store the cubes in a new list called `cubes`."
   ]
  },
  {
   "cell_type": "code",
   "execution_count": 71,
   "id": "b0641dbb",
   "metadata": {},
   "outputs": [
    {
     "name": "stdout",
     "output_type": "stream",
     "text": [
      "1\n",
      "8\n",
      "27\n",
      "64\n",
      "125\n",
      "216\n",
      "343\n",
      "512\n",
      "729\n"
     ]
    }
   ],
   "source": [
    "integers = [1,2,3,4,5,6,7,8,9]\n",
    "\n",
    "cubes = []\n",
    "for integer in integers:\n",
    "    cube = integer**3\n",
    "    cubes.append(cube)\n",
    "    print(cube)"
   ]
  },
  {
   "cell_type": "code",
   "execution_count": 72,
   "id": "7f9a128b",
   "metadata": {},
   "outputs": [
    {
     "name": "stdout",
     "output_type": "stream",
     "text": [
      "[1, 8, 27, 64, 125, 216, 343, 512, 729]\n"
     ]
    }
   ],
   "source": [
    "print(cubes)"
   ]
  },
  {
   "cell_type": "markdown",
   "id": "85784bde",
   "metadata": {},
   "source": [
    "Strings can also be treated as lists of characters:"
   ]
  },
  {
   "cell_type": "code",
   "execution_count": 84,
   "id": "d73822c5",
   "metadata": {},
   "outputs": [],
   "source": [
    "word = 'BUffalo'"
   ]
  },
  {
   "cell_type": "code",
   "execution_count": 88,
   "id": "3fad06ca",
   "metadata": {},
   "outputs": [
    {
     "name": "stdout",
     "output_type": "stream",
     "text": [
      "u\n"
     ]
    }
   ],
   "source": [
    "print('U'.lower())"
   ]
  },
  {
   "cell_type": "code",
   "execution_count": 90,
   "id": "fbe9ba71",
   "metadata": {},
   "outputs": [
    {
     "name": "stdout",
     "output_type": "stream",
     "text": [
      "B\n",
      "U\n",
      "f\n",
      "f\n",
      "a\n",
      "l\n",
      "o\n"
     ]
    }
   ],
   "source": [
    "for letter in word:\n",
    "    print(letter)"
   ]
  },
  {
   "cell_type": "markdown",
   "id": "308fe04f",
   "metadata": {},
   "source": [
    "**Exercise:** Modify the above `for` loop to only print the vowels in `Buffalo`"
   ]
  },
  {
   "cell_type": "code",
   "execution_count": 89,
   "id": "1cb0d172",
   "metadata": {},
   "outputs": [
    {
     "name": "stdout",
     "output_type": "stream",
     "text": [
      "U\n",
      "a\n",
      "o\n"
     ]
    }
   ],
   "source": [
    "vowels = 'aeiouAEIOU'\n",
    "\n",
    "for letter in word:\n",
    "    if letter in vowels:\n",
    "        print(letter)"
   ]
  },
  {
   "cell_type": "markdown",
   "id": "98662198",
   "metadata": {},
   "source": [
    "## Code comments\n",
    "\n",
    "We can leave comments in our Python code using hashtags `#`.\n",
    "Anything that follows a hashtag will be ignored."
   ]
  },
  {
   "cell_type": "code",
   "execution_count": 91,
   "id": "c4b5f6d1",
   "metadata": {},
   "outputs": [
    {
     "name": "stdout",
     "output_type": "stream",
     "text": [
      "U\n",
      "a\n",
      "o\n"
     ]
    }
   ],
   "source": [
    "vowels = 'aeiouAEIOU' # initialize a list of vowels\n",
    "\n",
    "for letter in word: # Iterate through the letters in `word`\n",
    "    if letter in vowels: # If the letter is a vowel\n",
    "        print(letter) # print the letter"
   ]
  },
  {
   "cell_type": "markdown",
   "id": "0c4ed021",
   "metadata": {},
   "source": [
    "General guidelines:\n",
    " * Include code comments to clarify what your code does and how it works\n",
    " * Keep code comments short and concise\n",
    " * When possible, space comments for maximum readability"
   ]
  },
  {
   "cell_type": "code",
   "execution_count": 92,
   "id": "10577aab",
   "metadata": {},
   "outputs": [
    {
     "name": "stdout",
     "output_type": "stream",
     "text": [
      "U\n",
      "a\n",
      "o\n"
     ]
    }
   ],
   "source": [
    "vowels = 'aeiouAEIOU'      # initialize a list of vowels\n",
    "\n",
    "for letter in word:        # Iterate through the letters \n",
    "                           # in `word`\n",
    "    if letter in vowels:   # If the letter is a vowel\n",
    "        print(letter)      # print the letter"
   ]
  },
  {
   "cell_type": "markdown",
   "id": "df2ed36e",
   "metadata": {},
   "source": [
    "## Project 1: [Prime or not a prime](https://jllottes.github.io/Projects/prime_or_not/prime_or_not.html)\n",
    "\n",
    "First goal: Determine whether a number is prime or not."
   ]
  },
  {
   "cell_type": "code",
   "execution_count": 93,
   "id": "a7a78621",
   "metadata": {},
   "outputs": [
    {
     "name": "stdout",
     "output_type": "stream",
     "text": [
      "2 does not divide 11\n",
      "3 does not divide 11\n",
      "4 does not divide 11\n",
      "5 does not divide 11\n",
      "6 does not divide 11\n",
      "7 does not divide 11\n",
      "8 does not divide 11\n",
      "9 does not divide 11\n",
      "10 does not divide 11\n"
     ]
    }
   ],
   "source": [
    "n = 11\n",
    "\n",
    "for d in [2,3,4,5,6,7,8,9,10]:\n",
    "    if n % d == 0:                 # Check if d divides n\n",
    "        print('{0} divides {1}'.format(d,n))\n",
    "    else:\n",
    "        print('{0} does not divide {1}'.format(d,n))"
   ]
  },
  {
   "cell_type": "markdown",
   "id": "374e7d5a",
   "metadata": {},
   "source": [
    "The `range()` function can be used to iterate through a list of integers.\n",
    "\n",
    " * `range(n)` will generate the integers `0, 1, 2, ... n-1`\n",
    " * `range(m,n)` will generate the integers `m, m+1, m+2, ... n-1`\n",
    " * `range(m,n,k)` will generate the integers between `m` and `n` (not including `n`) incremented by `k`"
   ]
  },
  {
   "cell_type": "code",
   "execution_count": 113,
   "id": "b2a18ba6",
   "metadata": {},
   "outputs": [
    {
     "name": "stdout",
     "output_type": "stream",
     "text": [
      "2 divides not 51\n",
      "3 divides 51\n",
      "4 divides not 51\n",
      "5 divides not 51\n",
      "6 divides not 51\n",
      "7 divides not 51\n",
      "8 divides not 51\n",
      "9 divides not 51\n",
      "10 divides not 51\n",
      "11 divides not 51\n",
      "12 divides not 51\n",
      "13 divides not 51\n",
      "14 divides not 51\n",
      "15 divides not 51\n",
      "16 divides not 51\n",
      "17 divides 51\n",
      "18 divides not 51\n",
      "19 divides not 51\n",
      "20 divides not 51\n",
      "21 divides not 51\n",
      "22 divides not 51\n",
      "23 divides not 51\n",
      "24 divides not 51\n",
      "25 divides not 51\n",
      "26 divides not 51\n",
      "27 divides not 51\n",
      "28 divides not 51\n",
      "29 divides not 51\n",
      "30 divides not 51\n",
      "31 divides not 51\n",
      "32 divides not 51\n",
      "33 divides not 51\n",
      "34 divides not 51\n",
      "35 divides not 51\n",
      "36 divides not 51\n",
      "37 divides not 51\n",
      "38 divides not 51\n",
      "39 divides not 51\n",
      "40 divides not 51\n",
      "41 divides not 51\n",
      "42 divides not 51\n",
      "43 divides not 51\n",
      "44 divides not 51\n",
      "45 divides not 51\n",
      "46 divides not 51\n",
      "47 divides not 51\n",
      "48 divides not 51\n",
      "49 divides not 51\n",
      "50 divides not 51\n"
     ]
    }
   ],
   "source": [
    "n = 51\n",
    "\n",
    "for d in range(2,n):\n",
    "    if n % d == 0:\n",
    "        print('{0} divides {1}'.format(d,n))\n",
    "    else:\n",
    "        print('{0} divides not {1}'.format(d,n))"
   ]
  },
  {
   "cell_type": "code",
   "execution_count": 100,
   "id": "78fb24a7",
   "metadata": {},
   "outputs": [
    {
     "name": "stdout",
     "output_type": "stream",
     "text": [
      "1\n",
      "4\n",
      "7\n"
     ]
    }
   ],
   "source": [
    "for i in range(1,10,3):\n",
    "    print(i)"
   ]
  },
  {
   "cell_type": "markdown",
   "id": "8e8683b1",
   "metadata": {},
   "source": [
    "The `range()` function does not actually create a list of these integers, only an `iterable` that can be looped through:"
   ]
  },
  {
   "cell_type": "markdown",
   "id": "85ef6dd5",
   "metadata": {},
   "source": [
    "### Fine-tuning loops"
   ]
  },
  {
   "cell_type": "markdown",
   "id": "b0adc09d",
   "metadata": {},
   "source": [
    "The `break` command can be used to exit a loop:"
   ]
  },
  {
   "cell_type": "code",
   "execution_count": null,
   "id": "78b78e7a",
   "metadata": {},
   "outputs": [],
   "source": []
  },
  {
   "cell_type": "markdown",
   "id": "5ba8aab8",
   "metadata": {},
   "source": [
    "The `continue` command can be used to skip to the next iteration of a loop:"
   ]
  },
  {
   "cell_type": "code",
   "execution_count": null,
   "id": "35beb1d1",
   "metadata": {},
   "outputs": [],
   "source": []
  },
  {
   "cell_type": "markdown",
   "id": "2320d666",
   "metadata": {},
   "source": [
    "The `pass` command can be used to do nothing:"
   ]
  },
  {
   "cell_type": "code",
   "execution_count": null,
   "id": "b75872b7",
   "metadata": {},
   "outputs": [],
   "source": []
  }
 ],
 "metadata": {
  "kernelspec": {
   "display_name": "Python 3 (ipykernel)",
   "language": "python",
   "name": "python3"
  },
  "language_info": {
   "codemirror_mode": {
    "name": "ipython",
    "version": 3
   },
   "file_extension": ".py",
   "mimetype": "text/x-python",
   "name": "python",
   "nbconvert_exporter": "python",
   "pygments_lexer": "ipython3",
   "version": "3.9.7"
  }
 },
 "nbformat": 4,
 "nbformat_minor": 5
}
