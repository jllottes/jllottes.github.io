{
 "cells": [
  {
   "cell_type": "markdown",
   "id": "f9b2a5c5",
   "metadata": {},
   "source": [
    "# Monday, April 10th, 2023"
   ]
  },
  {
   "cell_type": "markdown",
   "id": "5448f083",
   "metadata": {},
   "source": [
    "## Project 6: Code breakers"
   ]
  },
  {
   "cell_type": "markdown",
   "id": "31ec5d16",
   "metadata": {},
   "source": [
    "The `ord` function can be used to return the ASCII code for a given string character."
   ]
  },
  {
   "cell_type": "code",
   "execution_count": 7,
   "id": "4bb509ad",
   "metadata": {},
   "outputs": [
    {
     "name": "stdout",
     "output_type": "stream",
     "text": [
      "109 'm'\n",
      "101 'e'\n",
      "115 's'\n",
      "115 's'\n",
      " 97 'a'\n",
      "103 'g'\n",
      "101 'e'\n"
     ]
    }
   ],
   "source": [
    "for c in \"message\":\n",
    "    print('{:>3} {}'.format(ord(c), \"'\"+c+\"'\"))"
   ]
  },
  {
   "cell_type": "code",
   "execution_count": 3,
   "id": "20ed07da",
   "metadata": {},
   "outputs": [
    {
     "data": {
      "text/plain": [
       "94"
      ]
     },
     "execution_count": 3,
     "metadata": {},
     "output_type": "execute_result"
    }
   ],
   "source": [
    "ord('^')"
   ]
  },
  {
   "cell_type": "markdown",
   "id": "04877852",
   "metadata": {},
   "source": [
    "The `chr()` function converts an integer `0`-`127` to the symbol corresponding to that ASCII code:"
   ]
  },
  {
   "cell_type": "code",
   "execution_count": 4,
   "id": "cad55cb5",
   "metadata": {},
   "outputs": [
    {
     "data": {
      "text/plain": [
       "'^'"
      ]
     },
     "execution_count": 4,
     "metadata": {},
     "output_type": "execute_result"
    }
   ],
   "source": [
    "chr(94)"
   ]
  },
  {
   "cell_type": "code",
   "execution_count": 5,
   "id": "57d7eb25",
   "metadata": {},
   "outputs": [
    {
     "data": {
      "text/plain": [
       "'7'"
      ]
     },
     "execution_count": 5,
     "metadata": {},
     "output_type": "execute_result"
    }
   ],
   "source": [
    "chr(55)"
   ]
  },
  {
   "cell_type": "markdown",
   "id": "a94b3014",
   "metadata": {},
   "source": [
    "Encryption:"
   ]
  },
  {
   "cell_type": "code",
   "execution_count": 8,
   "id": "2960f915",
   "metadata": {},
   "outputs": [
    {
     "data": {
      "text/plain": [
       "[98, 117, 102, 102, 97, 108, 111]"
      ]
     },
     "execution_count": 8,
     "metadata": {},
     "output_type": "execute_result"
    }
   ],
   "source": [
    "key_word = 'buffalo'\n",
    "key_ascii = [ord(c) for c in key_word]\n",
    "\n",
    "key_ascii"
   ]
  },
  {
   "cell_type": "code",
   "execution_count": 9,
   "id": "740a76cb",
   "metadata": {},
   "outputs": [
    {
     "data": {
      "text/plain": [
       "[84, 111, 112, 32, 115, 101, 99, 114, 101, 116, 33]"
      ]
     },
     "execution_count": 9,
     "metadata": {},
     "output_type": "execute_result"
    }
   ],
   "source": [
    "message = 'Top secret!'\n",
    "message_ascii = [ord(c) for c in message]\n",
    "\n",
    "message_ascii"
   ]
  },
  {
   "cell_type": "code",
   "execution_count": 41,
   "id": "e77f2d16",
   "metadata": {},
   "outputs": [],
   "source": [
    "def str_to_ascii(s):\n",
    "    return [ord(c) for c in s]\n",
    "\n",
    "key_ascii = str_to_ascii(key_word)\n",
    "message_ascii = str_to_ascii(message)"
   ]
  },
  {
   "cell_type": "code",
   "execution_count": 48,
   "id": "23d55bf6",
   "metadata": {},
   "outputs": [],
   "source": [
    "def ascii_to_str(int_list):\n",
    "    return ''.join([chr(i) for i in int_list])"
   ]
  },
  {
   "cell_type": "code",
   "execution_count": 49,
   "id": "9d74c818",
   "metadata": {},
   "outputs": [
    {
     "data": {
      "text/plain": [
       "'buffalo'"
      ]
     },
     "execution_count": 49,
     "metadata": {},
     "output_type": "execute_result"
    }
   ],
   "source": [
    "ascii_to_str(key_ascii)"
   ]
  },
  {
   "cell_type": "code",
   "execution_count": 13,
   "id": "500d2b1d",
   "metadata": {},
   "outputs": [
    {
     "name": "stdout",
     "output_type": "stream",
     "text": [
      "98 84\n",
      "117 111\n",
      "102 112\n",
      "102 32\n",
      "97 115\n",
      "108 101\n",
      "111 99\n"
     ]
    },
    {
     "data": {
      "text/plain": [
       "[54, 100, 86, 6, 84, 81, 82]"
      ]
     },
     "execution_count": 13,
     "metadata": {},
     "output_type": "execute_result"
    }
   ],
   "source": [
    "encrypted_message_ascii = []\n",
    "for c_key, c_message in zip(key_ascii, message_ascii):\n",
    "    print(c_key, c_message)\n",
    "    encrypted_message_ascii.append( (c_key + c_message) % 128 )\n",
    "    \n",
    "encrypted_message_ascii"
   ]
  },
  {
   "cell_type": "markdown",
   "id": "b104286a",
   "metadata": {},
   "source": [
    "Problem: We didn't encrypt the full message, because the length of our key is shorter than the length of the message. We'll need to fix."
   ]
  },
  {
   "cell_type": "code",
   "execution_count": 14,
   "id": "56e5c16a",
   "metadata": {},
   "outputs": [
    {
     "data": {
      "text/plain": [
       "[54, 100, 86, 6, 84, 81, 82]"
      ]
     },
     "execution_count": 14,
     "metadata": {},
     "output_type": "execute_result"
    }
   ],
   "source": [
    "encrypted_message_ascii"
   ]
  },
  {
   "cell_type": "markdown",
   "id": "db9536de",
   "metadata": {},
   "source": [
    "The message receiver now needs to decrypt the message:\n",
    "\n",
    "Here, we will subtract our secret key and mod by 128."
   ]
  },
  {
   "cell_type": "code",
   "execution_count": 15,
   "id": "70fbd097",
   "metadata": {},
   "outputs": [
    {
     "data": {
      "text/plain": [
       "[84, 111, 112, 32, 115, 101, 99]"
      ]
     },
     "execution_count": 15,
     "metadata": {},
     "output_type": "execute_result"
    }
   ],
   "source": [
    "decrypted_message_ascii = []\n",
    "\n",
    "for c_key, c_encrypted in zip(key_ascii, encrypted_message_ascii):\n",
    "    decrypted_message_ascii.append( (c_encrypted - c_key) % 128 )\n",
    "    \n",
    "decrypted_message_ascii"
   ]
  },
  {
   "cell_type": "code",
   "execution_count": 18,
   "id": "fa94d94f",
   "metadata": {},
   "outputs": [
    {
     "name": "stdout",
     "output_type": "stream",
     "text": [
      "['T', 'o', 'p', ' ', 's', 'e', 'c']\n"
     ]
    }
   ],
   "source": [
    "decrypted_message = [chr(c) for c in decrypted_message_ascii]\n",
    "print(decrypted_message)"
   ]
  },
  {
   "cell_type": "markdown",
   "id": "b1660c4d",
   "metadata": {},
   "source": [
    "We can use the `.join` method to convert our list of characters into a string:"
   ]
  },
  {
   "cell_type": "code",
   "execution_count": 19,
   "id": "2fe62b33",
   "metadata": {},
   "outputs": [
    {
     "data": {
      "text/plain": [
       "'Top sec'"
      ]
     },
     "execution_count": 19,
     "metadata": {},
     "output_type": "execute_result"
    }
   ],
   "source": [
    "''.join(decrypted_message)"
   ]
  },
  {
   "cell_type": "markdown",
   "id": "76c0a4e1",
   "metadata": {},
   "source": [
    "It will be useful to have functions that:\n",
    " - Convert a string to a sequence of ASCII integers\n",
    " - Convert a sequence of ASCII integers to a corresponding string\n",
    " - Encrypts a sequence of ASCII characters given an ASCII character key (or encrypts a string given a key string)\n",
    " - Decrypts a sequence of ASCII characters given an ASCII character key (or descrypts a string given a key string)"
   ]
  },
  {
   "cell_type": "code",
   "execution_count": 21,
   "id": "24af8095",
   "metadata": {},
   "outputs": [
    {
     "data": {
      "text/plain": [
       "7"
      ]
     },
     "execution_count": 21,
     "metadata": {},
     "output_type": "execute_result"
    }
   ],
   "source": [
    "key_length = len(key_ascii)\n",
    "key_length"
   ]
  },
  {
   "cell_type": "code",
   "execution_count": 24,
   "id": "8e221bab",
   "metadata": {},
   "outputs": [
    {
     "data": {
      "text/plain": [
       "11"
      ]
     },
     "execution_count": 24,
     "metadata": {},
     "output_type": "execute_result"
    }
   ],
   "source": [
    "message_length = len(message_ascii)\n",
    "message_length"
   ]
  },
  {
   "cell_type": "code",
   "execution_count": 26,
   "id": "76e95a68",
   "metadata": {},
   "outputs": [
    {
     "data": {
      "text/plain": [
       "[98, 117, 102, 102, 97, 108, 111, 98, 117, 102, 102, 97, 108, 111]"
      ]
     },
     "execution_count": 26,
     "metadata": {},
     "output_type": "execute_result"
    }
   ],
   "source": [
    "key_ascii + key_ascii"
   ]
  },
  {
   "cell_type": "code",
   "execution_count": 30,
   "id": "84756278",
   "metadata": {},
   "outputs": [
    {
     "name": "stdout",
     "output_type": "stream",
     "text": [
      "0 84 98\n",
      "1 111 117\n",
      "2 112 102\n",
      "3 32 102\n",
      "4 115 97\n",
      "5 101 108\n",
      "6 99 111\n",
      "7 114 98\n",
      "8 101 117\n",
      "9 116 102\n",
      "10 33 102\n"
     ]
    }
   ],
   "source": [
    "for i, c_message in enumerate(message_ascii):\n",
    "    print(i,c_message, key_ascii[i % key_length])"
   ]
  },
  {
   "cell_type": "code",
   "execution_count": 38,
   "id": "2af1dd96",
   "metadata": {},
   "outputs": [
    {
     "name": "stdout",
     "output_type": "stream",
     "text": [
      "buffalo\n",
      "[98, 117, 102, 102, 97, 108, 111]\n"
     ]
    }
   ],
   "source": [
    "print(key_word)\n",
    "print(key_ascii)"
   ]
  },
  {
   "cell_type": "markdown",
   "id": "93d054b3",
   "metadata": {},
   "source": [
    "## Working with files in Python"
   ]
  },
  {
   "cell_type": "code",
   "execution_count": 31,
   "id": "ebc0a36f",
   "metadata": {},
   "outputs": [],
   "source": [
    "with open('5desk.txt') as file:\n",
    "    s = file.read()"
   ]
  },
  {
   "cell_type": "code",
   "execution_count": 35,
   "id": "80df4edf",
   "metadata": {},
   "outputs": [
    {
     "data": {
      "text/plain": [
       "'A\\na\\nAachen\\nAalborg\\naardvark\\nAarhus\\nAaron\\nAB\\nAb\\nabaci\\naback\\nabacus\\nAbadan\\nabaft\\nabalone\\nabandon\\naband'"
      ]
     },
     "execution_count": 35,
     "metadata": {},
     "output_type": "execute_result"
    }
   ],
   "source": [
    "s[:100]"
   ]
  },
  {
   "cell_type": "markdown",
   "id": "da5dd323",
   "metadata": {},
   "source": [
    "The `.split()` method can be used to convert a string into a list of strings, separated by a chosen delimiter:"
   ]
  },
  {
   "cell_type": "code",
   "execution_count": 36,
   "id": "09883928",
   "metadata": {},
   "outputs": [],
   "source": [
    "words = s.split()"
   ]
  },
  {
   "cell_type": "code",
   "execution_count": 37,
   "id": "843cc648",
   "metadata": {},
   "outputs": [
    {
     "data": {
      "text/plain": [
       "['A',\n",
       " 'a',\n",
       " 'Aachen',\n",
       " 'Aalborg',\n",
       " 'aardvark',\n",
       " 'Aarhus',\n",
       " 'Aaron',\n",
       " 'AB',\n",
       " 'Ab',\n",
       " 'abaci']"
      ]
     },
     "execution_count": 37,
     "metadata": {},
     "output_type": "execute_result"
    }
   ],
   "source": [
    "words[:10]"
   ]
  },
  {
   "cell_type": "code",
   "execution_count": 40,
   "id": "6f791eda",
   "metadata": {},
   "outputs": [
    {
     "data": {
      "text/plain": [
       "['b', 'u', 'f', 'f', 'a', 'l', 'o']"
      ]
     },
     "execution_count": 40,
     "metadata": {},
     "output_type": "execute_result"
    }
   ],
   "source": [
    "list('buffalo')"
   ]
  },
  {
   "cell_type": "markdown",
   "id": "c010973a",
   "metadata": {},
   "source": [
    "## Sets in Python"
   ]
  },
  {
   "cell_type": "code",
   "execution_count": 51,
   "id": "3f61bc0f",
   "metadata": {},
   "outputs": [],
   "source": [
    "my_str = \"This is a test string. Some of these ;dfkalsjf;ldja are words some are not. as;ldfja.\""
   ]
  },
  {
   "cell_type": "markdown",
   "id": "a5c93bdf",
   "metadata": {},
   "source": [
    "We can use the `.replace()` method to replace one string with another:"
   ]
  },
  {
   "cell_type": "code",
   "execution_count": 53,
   "id": "7db0594a",
   "metadata": {},
   "outputs": [
    {
     "data": {
      "text/plain": [
       "'This not is not a test string. Some of these ;dfkalsjf;ldja are words some are not. as;ldfja.'"
      ]
     },
     "execution_count": 53,
     "metadata": {},
     "output_type": "execute_result"
    }
   ],
   "source": [
    "my_str.replace('is', 'is not')"
   ]
  },
  {
   "cell_type": "code",
   "execution_count": 55,
   "id": "99e07c34",
   "metadata": {},
   "outputs": [
    {
     "data": {
      "text/plain": [
       "'This is a test string Some of these ;dfkalsjf;ldja are words some are not as;ldfja'"
      ]
     },
     "execution_count": 55,
     "metadata": {},
     "output_type": "execute_result"
    }
   ],
   "source": [
    "my_str = my_str.replace('.','')\n",
    "my_str"
   ]
  },
  {
   "cell_type": "markdown",
   "id": "2900b391",
   "metadata": {},
   "source": [
    "We can loop through a list of punctuations to remove them:"
   ]
  },
  {
   "cell_type": "code",
   "execution_count": 61,
   "id": "875a526f",
   "metadata": {},
   "outputs": [],
   "source": [
    "punctuations = ['.',',','\"',\"'\",'!','?',':',';']\n",
    "\n",
    "for punctuation in punctuations:\n",
    "    my_str = my_str.replace(punctuation,'')"
   ]
  },
  {
   "cell_type": "markdown",
   "id": "07d3aa94",
   "metadata": {},
   "source": [
    "We can force all letters to be lowercase using the `.lower()` method:"
   ]
  },
  {
   "cell_type": "code",
   "execution_count": 64,
   "id": "3c1e499e",
   "metadata": {},
   "outputs": [
    {
     "data": {
      "text/plain": [
       "'this is a test string some of these dfkalsjfldja are words some are not asldfja'"
      ]
     },
     "execution_count": 64,
     "metadata": {},
     "output_type": "execute_result"
    }
   ],
   "source": [
    "my_str = my_str.lower()\n",
    "my_str"
   ]
  },
  {
   "cell_type": "code",
   "execution_count": 65,
   "id": "e5cc2c4a",
   "metadata": {
    "scrolled": true
   },
   "outputs": [
    {
     "name": "stdout",
     "output_type": "stream",
     "text": [
      "['this', 'is', 'a', 'test', 'string', 'some', 'of', 'these', 'dfkalsjfldja', 'are', 'words', 'some', 'are', 'not', 'asldfja']\n"
     ]
    }
   ],
   "source": [
    "my_words = my_str.split()\n",
    "print(my_words)"
   ]
  },
  {
   "cell_type": "markdown",
   "id": "99939b42",
   "metadata": {},
   "source": [
    "Recall: we read in a list of 60,000 words:"
   ]
  },
  {
   "cell_type": "code",
   "execution_count": 67,
   "id": "224a358f",
   "metadata": {},
   "outputs": [
    {
     "data": {
      "text/plain": [
       "['A',\n",
       " 'a',\n",
       " 'Aachen',\n",
       " 'Aalborg',\n",
       " 'aardvark',\n",
       " 'Aarhus',\n",
       " 'Aaron',\n",
       " 'AB',\n",
       " 'Ab',\n",
       " 'abaci']"
      ]
     },
     "execution_count": 67,
     "metadata": {},
     "output_type": "execute_result"
    }
   ],
   "source": [
    "words[:10]"
   ]
  },
  {
   "cell_type": "code",
   "execution_count": 68,
   "id": "1c52598d",
   "metadata": {},
   "outputs": [
    {
     "name": "stdout",
     "output_type": "stream",
     "text": [
      "13\n"
     ]
    }
   ],
   "source": [
    "count = 0\n",
    "for word in my_words:\n",
    "    if word in words:\n",
    "        count += 1\n",
    "        \n",
    "print(count)"
   ]
  },
  {
   "cell_type": "markdown",
   "id": "ed1a86fe",
   "metadata": {},
   "source": [
    "We can also use sets to count the number of words in the word list:"
   ]
  },
  {
   "cell_type": "code",
   "execution_count": 69,
   "id": "b4bc8a67",
   "metadata": {},
   "outputs": [
    {
     "name": "stdout",
     "output_type": "stream",
     "text": [
      "[1, 2, 3, 'a', 'b', 2, 1]\n",
      "{1, 2, 3, 'b', 'a'}\n"
     ]
    }
   ],
   "source": [
    "my_list = [1,2,3,'a','b',2,1]\n",
    "my_set = set(my_list)\n",
    "\n",
    "print(my_list)\n",
    "print(my_set)"
   ]
  },
  {
   "cell_type": "markdown",
   "id": "1c0eb30e",
   "metadata": {},
   "source": [
    "The `.intersection` method let's us compare one set to another:"
   ]
  },
  {
   "cell_type": "code",
   "execution_count": 72,
   "id": "7595c3b5",
   "metadata": {},
   "outputs": [
    {
     "data": {
      "text/plain": [
       "{3, 'a'}"
      ]
     },
     "execution_count": 72,
     "metadata": {},
     "output_type": "execute_result"
    }
   ],
   "source": [
    "my_set.intersection({'a',3,5,'c'})"
   ]
  },
  {
   "cell_type": "markdown",
   "id": "0f97ecc2",
   "metadata": {},
   "source": [
    "For our purposes, we can convert the list of words to a set, then use the `.intersection` method:"
   ]
  },
  {
   "cell_type": "code",
   "execution_count": 73,
   "id": "1fe4631d",
   "metadata": {},
   "outputs": [],
   "source": [
    "word_set = set(words)"
   ]
  },
  {
   "cell_type": "code",
   "execution_count": 76,
   "id": "8ef167ce",
   "metadata": {},
   "outputs": [
    {
     "data": {
      "text/plain": [
       "{'a',\n",
       " 'are',\n",
       " 'is',\n",
       " 'not',\n",
       " 'of',\n",
       " 'some',\n",
       " 'string',\n",
       " 'test',\n",
       " 'these',\n",
       " 'this',\n",
       " 'words'}"
      ]
     },
     "execution_count": 76,
     "metadata": {},
     "output_type": "execute_result"
    }
   ],
   "source": [
    "num_word_list = []\n",
    "\n",
    "for word in words:\n",
    "    #... decrypt the message\n",
    "    #... get a set of \"words\" in the decrypted message\n",
    "    # ... count how many \"words\" are actual words\n",
    "    num_words = len(word_set.intersection(my_words))\n",
    "    num_word_list.append(num_words)"
   ]
  },
  {
   "cell_type": "code",
   "execution_count": 77,
   "id": "848c0998",
   "metadata": {},
   "outputs": [
    {
     "data": {
      "text/plain": [
       "11"
      ]
     },
     "execution_count": 77,
     "metadata": {},
     "output_type": "execute_result"
    }
   ],
   "source": [
    "len(word_set.intersection(my_words))"
   ]
  },
  {
   "cell_type": "markdown",
   "id": "4e800d96",
   "metadata": {},
   "source": [
    "The `np.argmax` function returns the location of the maximum value:"
   ]
  },
  {
   "cell_type": "code",
   "execution_count": 78,
   "id": "78e6ff7a",
   "metadata": {},
   "outputs": [],
   "source": [
    "mylist = [5,6,7,9,100, 10, -2]"
   ]
  },
  {
   "cell_type": "code",
   "execution_count": 80,
   "id": "3b3d3e59",
   "metadata": {},
   "outputs": [],
   "source": [
    "import numpy as np"
   ]
  },
  {
   "cell_type": "code",
   "execution_count": 81,
   "id": "45082f6f",
   "metadata": {},
   "outputs": [
    {
     "data": {
      "text/plain": [
       "4"
      ]
     },
     "execution_count": 81,
     "metadata": {},
     "output_type": "execute_result"
    }
   ],
   "source": [
    "np.argmax(mylist)"
   ]
  },
  {
   "cell_type": "code",
   "execution_count": 82,
   "id": "c8de8de8",
   "metadata": {},
   "outputs": [],
   "source": [
    "mylist = [[1,2,3],[4,5,6],[7,8,9]]"
   ]
  },
  {
   "cell_type": "code",
   "execution_count": null,
   "id": "58d6eb32",
   "metadata": {},
   "outputs": [],
   "source": [
    "for ascii_key in decode(itemized_dictionary):\n",
    "    key_length = len(ascii_key)"
   ]
  }
 ],
 "metadata": {
  "kernelspec": {
   "display_name": "Python 3 (ipykernel)",
   "language": "python",
   "name": "python3"
  },
  "language_info": {
   "codemirror_mode": {
    "name": "ipython",
    "version": 3
   },
   "file_extension": ".py",
   "mimetype": "text/x-python",
   "name": "python",
   "nbconvert_exporter": "python",
   "pygments_lexer": "ipython3",
   "version": "3.9.7"
  }
 },
 "nbformat": 4,
 "nbformat_minor": 5
}
