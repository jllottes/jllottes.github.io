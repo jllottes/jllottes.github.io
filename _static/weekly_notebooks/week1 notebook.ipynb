{
 "cells": [
  {
   "cell_type": "markdown",
   "id": "fa4696d8",
   "metadata": {},
   "source": [
    "This is some text.\n",
    "To execute a cell, press `Shift + Enter`"
   ]
  },
  {
   "cell_type": "markdown",
   "id": "5b440292",
   "metadata": {},
   "source": [
    "# This is a heading\n",
    "\n",
    "Double clicking on a Markdown cell allows you to edit it.\n",
    "\n",
    "## This is a sub-heading\n",
    "\n",
    "### This is a sub-sub-heading\n",
    "\n",
    "This is regular text.\n",
    "\n",
    "*This is italics.*\n",
    "\n",
    "**This is bold text.**\n",
    "\n",
    "We can write code snippets in Markdown:\n",
    "\n",
    "`def f(n):\n",
    "    print(n)`"
   ]
  },
  {
   "cell_type": "markdown",
   "id": "61f75bb2",
   "metadata": {},
   "source": [
    "## Lists\n",
    "\n",
    "* This is the first item in a list\n",
    "* This is the second\n",
    "* This is third\n",
    "* ...\n",
    "\n",
    "We can create numbered lists:\n",
    "\n",
    "1. This is the first item in a list\n",
    "2. This is the second item in a list\n",
    "4. This is the third item in a list\n",
    "6. ..."
   ]
  },
  {
   "cell_type": "markdown",
   "id": "5716df90",
   "metadata": {},
   "source": [
    "## Hyperlinks\n",
    "\n",
    "[Course webpage](https://jllottes.github.io)"
   ]
  },
  {
   "cell_type": "markdown",
   "id": "beb1bb0d",
   "metadata": {},
   "source": [
    "## Tables\n",
    "\n",
    "We can create tables in Markdown:\n",
    "\n",
    "| First name | Last name | Favorite animal |\n",
    "|:-----------|:----------|:----------------|\n",
    "| Alan       | Diakob    | Dolphin         |\n",
    "| Trevor     | MacEhee   | Dog             |\n",
    "| Harrison   | Fedro     | Otter           |\n",
    "| Jon        | Lottes    | Lion            |"
   ]
  },
  {
   "cell_type": "markdown",
   "id": "989aefc0",
   "metadata": {},
   "source": [
    "# Python arithmetic"
   ]
  },
  {
   "cell_type": "markdown",
   "id": "04e8e61b",
   "metadata": {},
   "source": [
    "Addition:"
   ]
  },
  {
   "cell_type": "code",
   "execution_count": 3,
   "id": "a2a2d4aa",
   "metadata": {},
   "outputs": [
    {
     "data": {
      "text/plain": [
       "2"
      ]
     },
     "execution_count": 3,
     "metadata": {},
     "output_type": "execute_result"
    }
   ],
   "source": [
    "1+1"
   ]
  },
  {
   "cell_type": "markdown",
   "id": "0137299b",
   "metadata": {},
   "source": [
    "Multiplication:"
   ]
  },
  {
   "cell_type": "code",
   "execution_count": 4,
   "id": "809a2bfb",
   "metadata": {},
   "outputs": [
    {
     "data": {
      "text/plain": [
       "6"
      ]
     },
     "execution_count": 4,
     "metadata": {},
     "output_type": "execute_result"
    }
   ],
   "source": [
    "2*3"
   ]
  },
  {
   "cell_type": "markdown",
   "id": "25d804a6",
   "metadata": {},
   "source": [
    "Division:"
   ]
  },
  {
   "cell_type": "code",
   "execution_count": 5,
   "id": "cad20765",
   "metadata": {},
   "outputs": [
    {
     "data": {
      "text/plain": [
       "3.6666666666666665"
      ]
     },
     "execution_count": 5,
     "metadata": {},
     "output_type": "execute_result"
    }
   ],
   "source": [
    "11/3"
   ]
  },
  {
   "cell_type": "markdown",
   "id": "71ad9953",
   "metadata": {},
   "source": [
    "Floor division: (divide and drop the remainder)"
   ]
  },
  {
   "cell_type": "code",
   "execution_count": 6,
   "id": "7d6d4a6a",
   "metadata": {},
   "outputs": [
    {
     "data": {
      "text/plain": [
       "3"
      ]
     },
     "execution_count": 6,
     "metadata": {},
     "output_type": "execute_result"
    }
   ],
   "source": [
    "11//3"
   ]
  },
  {
   "cell_type": "markdown",
   "id": "b406d9b7",
   "metadata": {},
   "source": [
    "Modulus: (divide and keep only the remainder)"
   ]
  },
  {
   "cell_type": "code",
   "execution_count": 7,
   "id": "8865279d",
   "metadata": {},
   "outputs": [
    {
     "data": {
      "text/plain": [
       "2"
      ]
     },
     "execution_count": 7,
     "metadata": {},
     "output_type": "execute_result"
    }
   ],
   "source": [
    "11%3"
   ]
  },
  {
   "cell_type": "markdown",
   "id": "6efd2328",
   "metadata": {},
   "source": [
    "To clarify: `11 = 3*3 + 2`"
   ]
  },
  {
   "cell_type": "markdown",
   "id": "50a5156d",
   "metadata": {},
   "source": [
    "Exponentiation:"
   ]
  },
  {
   "cell_type": "code",
   "execution_count": 8,
   "id": "6628a702",
   "metadata": {},
   "outputs": [
    {
     "data": {
      "text/plain": [
       "32"
      ]
     },
     "execution_count": 8,
     "metadata": {},
     "output_type": "execute_result"
    }
   ],
   "source": [
    "2**5"
   ]
  },
  {
   "cell_type": "code",
   "execution_count": 9,
   "id": "21a7b40b",
   "metadata": {},
   "outputs": [
    {
     "data": {
      "text/plain": [
       "1267650600228229401496703205376"
      ]
     },
     "execution_count": 9,
     "metadata": {},
     "output_type": "execute_result"
    }
   ],
   "source": [
    "2**100"
   ]
  },
  {
   "cell_type": "code",
   "execution_count": 10,
   "id": "fdba932f",
   "metadata": {},
   "outputs": [
    {
     "data": {
      "text/plain": [
       "1.2676506002282294e+30"
      ]
     },
     "execution_count": 10,
     "metadata": {},
     "output_type": "execute_result"
    }
   ],
   "source": [
    "2.0**100"
   ]
  },
  {
   "cell_type": "markdown",
   "id": "a3a6930f",
   "metadata": {},
   "source": [
    "`2` is an integer in Python, `2.0` is a float. The `e+30` means we need to move the decimal point 30 places to the right."
   ]
  },
  {
   "cell_type": "markdown",
   "id": "007e091d",
   "metadata": {},
   "source": [
    "# Floats vs integers\n",
    "\n",
    "* integers = numbers without a decimal point\n",
    "* floats = numbers with a decimal point\n",
    "* operations on integers are exact\n",
    "* operations on floats are approximate\n",
    "* Integers can be arbitrarily large, but floats are represented in the computer only within some finite range"
   ]
  },
  {
   "cell_type": "code",
   "execution_count": 11,
   "id": "bf825f56",
   "metadata": {},
   "outputs": [
    {
     "data": {
      "text/plain": [
       "125325663996571831810755483238273420616498507508098617146349500752097059631738116432448839054351520763198615919551594076685828989467263022761790838270854579830015111246661203984624358929832571615718014704096305668097507613273663023226895250541385927158426088684494082416768617708189592286936039922311125683719215046689156738352590137241554510185855964549927575493247391132548534378497978806084951085874202011836362315727420109554782988791530088289711844550500230485638413189947132142243947334199259300735622492937419453650061490302105127920314430401636855677549136337481321811349678427076091437345045399337348611261168055929355402992823192491190360027036112283180935872775214517464013178274657100736321564606838252739601156414628445543663144696050650160812621814327062666195172701780200286645023823083185928061371310300829284071141207731280600001"
      ]
     },
     "execution_count": 11,
     "metadata": {},
     "output_type": "execute_result"
    }
   ],
   "source": [
    "7**1000"
   ]
  },
  {
   "cell_type": "code",
   "execution_count": 12,
   "id": "27bc2a8b",
   "metadata": {},
   "outputs": [
    {
     "ename": "OverflowError",
     "evalue": "(34, 'Result too large')",
     "output_type": "error",
     "traceback": [
      "\u001b[1;31m---------------------------------------------------------------------------\u001b[0m",
      "\u001b[1;31mOverflowError\u001b[0m                             Traceback (most recent call last)",
      "\u001b[1;32m<ipython-input-12-9f61bd5ea895>\u001b[0m in \u001b[0;36m<module>\u001b[1;34m\u001b[0m\n\u001b[1;32m----> 1\u001b[1;33m \u001b[1;36m7.0\u001b[0m\u001b[1;33m**\u001b[0m\u001b[1;36m1000\u001b[0m\u001b[1;33m\u001b[0m\u001b[1;33m\u001b[0m\u001b[0m\n\u001b[0m",
      "\u001b[1;31mOverflowError\u001b[0m: (34, 'Result too large')"
     ]
    }
   ],
   "source": [
    "7.0**1000"
   ]
  },
  {
   "cell_type": "markdown",
   "id": "2bba3e8c",
   "metadata": {},
   "source": [
    "Integers can be converted to floats using the `float()` function:"
   ]
  },
  {
   "cell_type": "code",
   "execution_count": 13,
   "id": "bf112935",
   "metadata": {},
   "outputs": [
    {
     "data": {
      "text/plain": [
       "123.0"
      ]
     },
     "execution_count": 13,
     "metadata": {},
     "output_type": "execute_result"
    }
   ],
   "source": [
    "float(123)"
   ]
  },
  {
   "cell_type": "markdown",
   "id": "a8002c45",
   "metadata": {},
   "source": [
    "Floats can be converted to integers using the `int()` function which truncates toward 0:"
   ]
  },
  {
   "cell_type": "code",
   "execution_count": 14,
   "id": "4f188240",
   "metadata": {},
   "outputs": [
    {
     "data": {
      "text/plain": [
       "123"
      ]
     },
     "execution_count": 14,
     "metadata": {},
     "output_type": "execute_result"
    }
   ],
   "source": [
    "int(123.99)"
   ]
  },
  {
   "cell_type": "markdown",
   "id": "facdc6cc",
   "metadata": {},
   "source": [
    "The `round()` function converts a float to the nearest integer:"
   ]
  },
  {
   "cell_type": "code",
   "execution_count": 15,
   "id": "2da508ed",
   "metadata": {},
   "outputs": [
    {
     "data": {
      "text/plain": [
       "124"
      ]
     },
     "execution_count": 15,
     "metadata": {},
     "output_type": "execute_result"
    }
   ],
   "source": [
    "round(123.99)"
   ]
  },
  {
   "cell_type": "markdown",
   "id": "514878bd",
   "metadata": {},
   "source": [
    "### Exercise:\n",
    "\n",
    "Find two numbers `p` and `q` so that `1234567 = 11*p + q` where `0 <= q < 11 `"
   ]
  },
  {
   "cell_type": "code",
   "execution_count": 16,
   "id": "50eacb56",
   "metadata": {},
   "outputs": [
    {
     "data": {
      "text/plain": [
       "112233"
      ]
     },
     "execution_count": 16,
     "metadata": {},
     "output_type": "execute_result"
    }
   ],
   "source": [
    "1234567//11"
   ]
  },
  {
   "cell_type": "code",
   "execution_count": 17,
   "id": "18536959",
   "metadata": {},
   "outputs": [
    {
     "data": {
      "text/plain": [
       "4"
      ]
     },
     "execution_count": 17,
     "metadata": {},
     "output_type": "execute_result"
    }
   ],
   "source": [
    "1234567%11"
   ]
  },
  {
   "cell_type": "code",
   "execution_count": 18,
   "id": "1785990b",
   "metadata": {},
   "outputs": [
    {
     "data": {
      "text/plain": [
       "4"
      ]
     },
     "execution_count": 18,
     "metadata": {},
     "output_type": "execute_result"
    }
   ],
   "source": [
    "1234567 - 11*112233"
   ]
  },
  {
   "cell_type": "markdown",
   "id": "cf339937",
   "metadata": {},
   "source": [
    "Answer: `p = 112233` and `q = 4`"
   ]
  },
  {
   "cell_type": "markdown",
   "id": "b7e97419",
   "metadata": {},
   "source": [
    "The order of operations follows PEMDAS:"
   ]
  },
  {
   "cell_type": "code",
   "execution_count": 19,
   "id": "80ab4099",
   "metadata": {},
   "outputs": [
    {
     "data": {
      "text/plain": [
       "63.0"
      ]
     },
     "execution_count": 19,
     "metadata": {},
     "output_type": "execute_result"
    }
   ],
   "source": [
    "7*(6/2)**2"
   ]
  },
  {
   "cell_type": "code",
   "execution_count": 20,
   "id": "2f1d37b1",
   "metadata": {},
   "outputs": [
    {
     "data": {
      "text/plain": [
       "63"
      ]
     },
     "execution_count": 20,
     "metadata": {},
     "output_type": "execute_result"
    }
   ],
   "source": [
    "7*(6//2)**2"
   ]
  },
  {
   "cell_type": "code",
   "execution_count": 21,
   "id": "3cb3a4ed",
   "metadata": {},
   "outputs": [
    {
     "data": {
      "text/plain": [
       "21"
      ]
     },
     "execution_count": 21,
     "metadata": {},
     "output_type": "execute_result"
    }
   ],
   "source": [
    "7*(1+2)"
   ]
  },
  {
   "cell_type": "markdown",
   "id": "df76bc94",
   "metadata": {},
   "source": [
    "# Variable assignment"
   ]
  },
  {
   "cell_type": "code",
   "execution_count": 22,
   "id": "bd0e850d",
   "metadata": {},
   "outputs": [],
   "source": [
    "a = 5"
   ]
  },
  {
   "cell_type": "code",
   "execution_count": 23,
   "id": "d587dbee",
   "metadata": {},
   "outputs": [
    {
     "data": {
      "text/plain": [
       "5"
      ]
     },
     "execution_count": 23,
     "metadata": {},
     "output_type": "execute_result"
    }
   ],
   "source": [
    "a"
   ]
  },
  {
   "cell_type": "code",
   "execution_count": 24,
   "id": "554690e3",
   "metadata": {},
   "outputs": [
    {
     "data": {
      "text/plain": [
       "2"
      ]
     },
     "execution_count": 24,
     "metadata": {},
     "output_type": "execute_result"
    }
   ],
   "source": [
    "b = 2\n",
    "\n",
    "b"
   ]
  },
  {
   "cell_type": "code",
   "execution_count": 25,
   "id": "150e568e",
   "metadata": {},
   "outputs": [
    {
     "data": {
      "text/plain": [
       "7"
      ]
     },
     "execution_count": 25,
     "metadata": {},
     "output_type": "execute_result"
    }
   ],
   "source": [
    "a+b"
   ]
  },
  {
   "cell_type": "code",
   "execution_count": 26,
   "id": "aa7e2658",
   "metadata": {},
   "outputs": [
    {
     "data": {
      "text/plain": [
       "25"
      ]
     },
     "execution_count": 26,
     "metadata": {},
     "output_type": "execute_result"
    }
   ],
   "source": [
    "a**b"
   ]
  },
  {
   "cell_type": "code",
   "execution_count": 27,
   "id": "54ba1182",
   "metadata": {},
   "outputs": [
    {
     "data": {
      "text/plain": [
       "32"
      ]
     },
     "execution_count": 27,
     "metadata": {},
     "output_type": "execute_result"
    }
   ],
   "source": [
    "b**a"
   ]
  },
  {
   "cell_type": "code",
   "execution_count": 28,
   "id": "09189288",
   "metadata": {},
   "outputs": [
    {
     "data": {
      "text/plain": [
       "(5, 2)"
      ]
     },
     "execution_count": 28,
     "metadata": {},
     "output_type": "execute_result"
    }
   ],
   "source": [
    "a,b"
   ]
  },
  {
   "cell_type": "code",
   "execution_count": 29,
   "id": "5da8f68b",
   "metadata": {},
   "outputs": [],
   "source": [
    "a = 10\n",
    "b = 3"
   ]
  },
  {
   "cell_type": "code",
   "execution_count": 30,
   "id": "36060166",
   "metadata": {},
   "outputs": [
    {
     "data": {
      "text/plain": [
       "(10, 3)"
      ]
     },
     "execution_count": 30,
     "metadata": {},
     "output_type": "execute_result"
    }
   ],
   "source": [
    "a,b"
   ]
  },
  {
   "cell_type": "markdown",
   "id": "ee9e472e",
   "metadata": {},
   "source": [
    "We can define severables in a single line:"
   ]
  },
  {
   "cell_type": "code",
   "execution_count": 31,
   "id": "5774a2e0",
   "metadata": {},
   "outputs": [],
   "source": [
    "c,d = 100, -20"
   ]
  },
  {
   "cell_type": "code",
   "execution_count": 32,
   "id": "253ef6a8",
   "metadata": {},
   "outputs": [
    {
     "data": {
      "text/plain": [
       "100"
      ]
     },
     "execution_count": 32,
     "metadata": {},
     "output_type": "execute_result"
    }
   ],
   "source": [
    "c"
   ]
  },
  {
   "cell_type": "code",
   "execution_count": 33,
   "id": "29dd4b7a",
   "metadata": {},
   "outputs": [
    {
     "data": {
      "text/plain": [
       "-20"
      ]
     },
     "execution_count": 33,
     "metadata": {},
     "output_type": "execute_result"
    }
   ],
   "source": [
    "d"
   ]
  },
  {
   "cell_type": "markdown",
   "id": "cad54141",
   "metadata": {},
   "source": [
    "We can use this to swap variables:"
   ]
  },
  {
   "cell_type": "code",
   "execution_count": 42,
   "id": "ef73f523",
   "metadata": {},
   "outputs": [],
   "source": [
    "c,d = d,c"
   ]
  },
  {
   "cell_type": "code",
   "execution_count": 43,
   "id": "71e499bc",
   "metadata": {},
   "outputs": [
    {
     "data": {
      "text/plain": [
       "(-20, 100)"
      ]
     },
     "execution_count": 43,
     "metadata": {},
     "output_type": "execute_result"
    }
   ],
   "source": [
    "c,d"
   ]
  },
  {
   "cell_type": "markdown",
   "id": "fe5f703c",
   "metadata": {},
   "source": [
    "Python will interpret the right-hand side first before making any variable assigments."
   ]
  },
  {
   "cell_type": "markdown",
   "id": "d22a6d61",
   "metadata": {},
   "source": [
    "# The `print()` function\n",
    "\n",
    "So far, we've been executing a command in a cell to get the output"
   ]
  },
  {
   "cell_type": "code",
   "execution_count": 46,
   "id": "a124f323",
   "metadata": {},
   "outputs": [
    {
     "data": {
      "text/plain": [
       "100"
      ]
     },
     "execution_count": 46,
     "metadata": {},
     "output_type": "execute_result"
    }
   ],
   "source": [
    "a\n",
    "b\n",
    "c\n",
    "d"
   ]
  },
  {
   "cell_type": "markdown",
   "id": "808ec975",
   "metadata": {},
   "source": [
    "We can use the `print()` function to force Python to print to the output"
   ]
  },
  {
   "cell_type": "code",
   "execution_count": 47,
   "id": "523c49f9",
   "metadata": {},
   "outputs": [
    {
     "name": "stdout",
     "output_type": "stream",
     "text": [
      "10\n",
      "3\n",
      "-20\n",
      "100\n"
     ]
    }
   ],
   "source": [
    "print(a)\n",
    "print(b)\n",
    "print(c)\n",
    "print(d)"
   ]
  },
  {
   "cell_type": "markdown",
   "id": "09a02942",
   "metadata": {},
   "source": [
    "We can also print several things with a single `print()` command:"
   ]
  },
  {
   "cell_type": "code",
   "execution_count": 48,
   "id": "72f8d40e",
   "metadata": {},
   "outputs": [
    {
     "name": "stdout",
     "output_type": "stream",
     "text": [
      "10 3 -20 100\n"
     ]
    }
   ],
   "source": [
    "print(a,b,c,d)"
   ]
  },
  {
   "cell_type": "markdown",
   "id": "33ff8472",
   "metadata": {},
   "source": [
    "## Shortcuts for modifying variables values:"
   ]
  },
  {
   "cell_type": "code",
   "execution_count": 60,
   "id": "9028302d",
   "metadata": {},
   "outputs": [],
   "source": [
    "a = 100"
   ]
  },
  {
   "cell_type": "code",
   "execution_count": 61,
   "id": "fc799701",
   "metadata": {},
   "outputs": [],
   "source": [
    "a = a + 5"
   ]
  },
  {
   "cell_type": "code",
   "execution_count": 62,
   "id": "504cfe49",
   "metadata": {},
   "outputs": [
    {
     "name": "stdout",
     "output_type": "stream",
     "text": [
      "105\n"
     ]
    }
   ],
   "source": [
    "print(a)"
   ]
  },
  {
   "cell_type": "code",
   "execution_count": 63,
   "id": "efa30b24",
   "metadata": {},
   "outputs": [],
   "source": [
    "b = 100"
   ]
  },
  {
   "cell_type": "markdown",
   "id": "36f0eb6f",
   "metadata": {},
   "source": [
    "Shorthand for `b = b + 5`:"
   ]
  },
  {
   "cell_type": "code",
   "execution_count": 64,
   "id": "bcbb166d",
   "metadata": {},
   "outputs": [],
   "source": [
    "b += 5"
   ]
  },
  {
   "cell_type": "code",
   "execution_count": 65,
   "id": "582a76a1",
   "metadata": {},
   "outputs": [
    {
     "name": "stdout",
     "output_type": "stream",
     "text": [
      "105\n"
     ]
    }
   ],
   "source": [
    "print(b)"
   ]
  },
  {
   "cell_type": "markdown",
   "id": "425a3bf7",
   "metadata": {},
   "source": [
    "This short-hand works with `-=`, `*=`, `/=`:"
   ]
  },
  {
   "cell_type": "code",
   "execution_count": 66,
   "id": "8ae8e8d2",
   "metadata": {},
   "outputs": [],
   "source": [
    "c = 100"
   ]
  },
  {
   "cell_type": "code",
   "execution_count": 67,
   "id": "81f6c2e1",
   "metadata": {},
   "outputs": [
    {
     "name": "stdout",
     "output_type": "stream",
     "text": [
      "99\n"
     ]
    }
   ],
   "source": [
    "c -= 1\n",
    "print(c)"
   ]
  },
  {
   "cell_type": "code",
   "execution_count": 68,
   "id": "c68d28ec",
   "metadata": {},
   "outputs": [
    {
     "name": "stdout",
     "output_type": "stream",
     "text": [
      "198\n"
     ]
    }
   ],
   "source": [
    "c *= 2\n",
    "print(c)"
   ]
  },
  {
   "cell_type": "code",
   "execution_count": 69,
   "id": "4780ce71",
   "metadata": {},
   "outputs": [
    {
     "name": "stdout",
     "output_type": "stream",
     "text": [
      "49.5\n"
     ]
    }
   ],
   "source": [
    "c /= 4\n",
    "print(c)"
   ]
  },
  {
   "cell_type": "markdown",
   "id": "3ea8af37",
   "metadata": {},
   "source": [
    "# Strings in Python"
   ]
  },
  {
   "cell_type": "markdown",
   "id": "48d2fc51",
   "metadata": {},
   "source": [
    "Text strings are created by enclosing text in either single or double quotes:"
   ]
  },
  {
   "cell_type": "code",
   "execution_count": 78,
   "id": "734ca153",
   "metadata": {},
   "outputs": [],
   "source": [
    "s = 'MTH 337'"
   ]
  },
  {
   "cell_type": "code",
   "execution_count": 79,
   "id": "540eebf0",
   "metadata": {},
   "outputs": [
    {
     "name": "stdout",
     "output_type": "stream",
     "text": [
      "MTH 337\n"
     ]
    }
   ],
   "source": [
    "print(s)"
   ]
  },
  {
   "cell_type": "markdown",
   "id": "5a2f76af",
   "metadata": {},
   "source": [
    "String concatenation:"
   ]
  },
  {
   "cell_type": "code",
   "execution_count": 80,
   "id": "a54bc00d",
   "metadata": {},
   "outputs": [],
   "source": [
    "s2 = \"Welcome to \""
   ]
  },
  {
   "cell_type": "code",
   "execution_count": 81,
   "id": "d8e33cba",
   "metadata": {},
   "outputs": [],
   "source": [
    "s3 = s2 + s"
   ]
  },
  {
   "cell_type": "code",
   "execution_count": 82,
   "id": "96f64074",
   "metadata": {},
   "outputs": [
    {
     "name": "stdout",
     "output_type": "stream",
     "text": [
      "Welcome to MTH 337\n"
     ]
    }
   ],
   "source": [
    "print(s3)"
   ]
  },
  {
   "cell_type": "markdown",
   "id": "4b1da7cd",
   "metadata": {},
   "source": [
    "String multiplication by integers:"
   ]
  },
  {
   "cell_type": "code",
   "execution_count": 83,
   "id": "523d8483",
   "metadata": {},
   "outputs": [],
   "source": [
    "s = 'abc'\n",
    "s2 = 10*s"
   ]
  },
  {
   "cell_type": "code",
   "execution_count": 84,
   "id": "4d652391",
   "metadata": {},
   "outputs": [
    {
     "name": "stdout",
     "output_type": "stream",
     "text": [
      "abcabcabcabcabcabcabcabcabcabc\n"
     ]
    }
   ],
   "source": [
    "print(s2)"
   ]
  },
  {
   "cell_type": "markdown",
   "id": "91211955",
   "metadata": {},
   "source": [
    "We can't multiply two strings together:"
   ]
  },
  {
   "cell_type": "code",
   "execution_count": 88,
   "id": "298f66bb",
   "metadata": {},
   "outputs": [
    {
     "ename": "TypeError",
     "evalue": "can't multiply sequence by non-int of type 'str'",
     "output_type": "error",
     "traceback": [
      "\u001b[1;31m---------------------------------------------------------------------------\u001b[0m",
      "\u001b[1;31mTypeError\u001b[0m                                 Traceback (most recent call last)",
      "\u001b[1;32m<ipython-input-88-00821173e4b5>\u001b[0m in \u001b[0;36m<module>\u001b[1;34m\u001b[0m\n\u001b[1;32m----> 1\u001b[1;33m \u001b[0ms\u001b[0m\u001b[1;33m*\u001b[0m\u001b[0ms\u001b[0m\u001b[1;33m\u001b[0m\u001b[1;33m\u001b[0m\u001b[0m\n\u001b[0m",
      "\u001b[1;31mTypeError\u001b[0m: can't multiply sequence by non-int of type 'str'"
     ]
    }
   ],
   "source": [
    "s*s"
   ]
  },
  {
   "cell_type": "markdown",
   "id": "671f882b",
   "metadata": {},
   "source": [
    "Multiline strings can be created using triple quotes:"
   ]
  },
  {
   "cell_type": "code",
   "execution_count": 89,
   "id": "c48b9b0a",
   "metadata": {},
   "outputs": [
    {
     "ename": "SyntaxError",
     "evalue": "EOL while scanning string literal (<ipython-input-89-91b59ab325fa>, line 1)",
     "output_type": "error",
     "traceback": [
      "\u001b[1;36m  File \u001b[1;32m\"<ipython-input-89-91b59ab325fa>\"\u001b[1;36m, line \u001b[1;32m1\u001b[0m\n\u001b[1;33m    'This is not a\u001b[0m\n\u001b[1;37m                  ^\u001b[0m\n\u001b[1;31mSyntaxError\u001b[0m\u001b[1;31m:\u001b[0m EOL while scanning string literal\n"
     ]
    }
   ],
   "source": [
    "'This is not a\n",
    "multiline string\n",
    "It will throw an error'"
   ]
  },
  {
   "cell_type": "code",
   "execution_count": 91,
   "id": "23a10f7c",
   "metadata": {},
   "outputs": [
    {
     "data": {
      "text/plain": [
       "'This is a \\nmultiline string.\\nIt will not throw an error.'"
      ]
     },
     "execution_count": 91,
     "metadata": {},
     "output_type": "execute_result"
    }
   ],
   "source": [
    "s = '''This is a \n",
    "multiline string.\n",
    "It will not throw an error.'''\n",
    "\n",
    "s"
   ]
  },
  {
   "cell_type": "code",
   "execution_count": 92,
   "id": "fc6680c9",
   "metadata": {},
   "outputs": [
    {
     "name": "stdout",
     "output_type": "stream",
     "text": [
      "This is a \n",
      "multiline string.\n",
      "It will not throw an error.\n"
     ]
    }
   ],
   "source": [
    "print(s)"
   ]
  },
  {
   "cell_type": "markdown",
   "id": "2390f664",
   "metadata": {},
   "source": [
    "The `str()` command can be used to convert numbers into strings:"
   ]
  },
  {
   "cell_type": "code",
   "execution_count": 100,
   "id": "74d2dc05",
   "metadata": {},
   "outputs": [],
   "source": [
    "score = 95"
   ]
  },
  {
   "cell_type": "code",
   "execution_count": 101,
   "id": "13b571c1",
   "metadata": {},
   "outputs": [
    {
     "name": "stdout",
     "output_type": "stream",
     "text": [
      "Your score is 95 points!\n"
     ]
    }
   ],
   "source": [
    "s = 'Your score is ' + str(score) + ' points!'\n",
    "print(s)"
   ]
  },
  {
   "cell_type": "markdown",
   "id": "9028a4c0",
   "metadata": {},
   "source": [
    "The `int()` and `float()` commands work on strings:"
   ]
  },
  {
   "cell_type": "code",
   "execution_count": 104,
   "id": "e60e9659",
   "metadata": {},
   "outputs": [],
   "source": [
    "s = \"-29\"\n",
    "n = int(s)"
   ]
  },
  {
   "cell_type": "code",
   "execution_count": 105,
   "id": "144d66ec",
   "metadata": {},
   "outputs": [
    {
     "name": "stdout",
     "output_type": "stream",
     "text": [
      "-29\n"
     ]
    }
   ],
   "source": [
    "print(s)"
   ]
  },
  {
   "cell_type": "code",
   "execution_count": 106,
   "id": "32f16982",
   "metadata": {},
   "outputs": [
    {
     "name": "stdout",
     "output_type": "stream",
     "text": [
      "-29\n"
     ]
    }
   ],
   "source": [
    "print(n)"
   ]
  },
  {
   "cell_type": "markdown",
   "id": "e98bffca",
   "metadata": {},
   "source": [
    "We can use the `type()` function to see what type of object a variable is:"
   ]
  },
  {
   "cell_type": "code",
   "execution_count": 107,
   "id": "9a1c2a54",
   "metadata": {},
   "outputs": [
    {
     "data": {
      "text/plain": [
       "str"
      ]
     },
     "execution_count": 107,
     "metadata": {},
     "output_type": "execute_result"
    }
   ],
   "source": [
    "type(s)"
   ]
  },
  {
   "cell_type": "code",
   "execution_count": 108,
   "id": "45979810",
   "metadata": {},
   "outputs": [
    {
     "data": {
      "text/plain": [
       "int"
      ]
     },
     "execution_count": 108,
     "metadata": {},
     "output_type": "execute_result"
    }
   ],
   "source": [
    "type(n)"
   ]
  },
  {
   "cell_type": "code",
   "execution_count": 109,
   "id": "0cc4c60e",
   "metadata": {},
   "outputs": [
    {
     "name": "stdout",
     "output_type": "stream",
     "text": [
      "-29-29-29-29-29-29-29-29-29-29\n"
     ]
    }
   ],
   "source": [
    "print(10*s)"
   ]
  },
  {
   "cell_type": "code",
   "execution_count": 110,
   "id": "ec20af57",
   "metadata": {},
   "outputs": [
    {
     "name": "stdout",
     "output_type": "stream",
     "text": [
      "-290\n"
     ]
    }
   ],
   "source": [
    "print(10*n)"
   ]
  },
  {
   "cell_type": "code",
   "execution_count": 111,
   "id": "d091af31",
   "metadata": {},
   "outputs": [
    {
     "name": "stdout",
     "output_type": "stream",
     "text": [
      "-2075.2\n"
     ]
    }
   ],
   "source": [
    "s1 = '-20'\n",
    "s2 = '75.2'\n",
    "\n",
    "print(s1 + s2)"
   ]
  },
  {
   "cell_type": "code",
   "execution_count": 112,
   "id": "a004c950",
   "metadata": {},
   "outputs": [
    {
     "name": "stdout",
     "output_type": "stream",
     "text": [
      "55.2\n"
     ]
    }
   ],
   "source": [
    "print(int(s1) + float(s2))"
   ]
  },
  {
   "cell_type": "markdown",
   "id": "c04dd44c",
   "metadata": {},
   "source": [
    "## String formatting\n",
    "\n",
    "The `.format()` method can be used to insert values into a string:"
   ]
  },
  {
   "cell_type": "code",
   "execution_count": 118,
   "id": "9cfaf883",
   "metadata": {},
   "outputs": [],
   "source": [
    "a = 3\n",
    "b = 7\n",
    "c = a+b\n",
    "\n",
    "s = 'When you add {0} to {1} then you get {2}!!!'.format(a,b,c)"
   ]
  },
  {
   "cell_type": "code",
   "execution_count": 119,
   "id": "316083a8",
   "metadata": {},
   "outputs": [
    {
     "name": "stdout",
     "output_type": "stream",
     "text": [
      "When you add 3 to 7 then you get 10!!!\n"
     ]
    }
   ],
   "source": [
    "print(s)"
   ]
  },
  {
   "cell_type": "code",
   "execution_count": 117,
   "id": "6dfe32bd",
   "metadata": {},
   "outputs": [
    {
     "name": "stdout",
     "output_type": "stream",
     "text": [
      "When you add 3 to 7 then you get 10!!!\n"
     ]
    }
   ],
   "source": [
    "print('When you add ' + str(a) + ' to ' + str(b) + ' then you get ' + str(c) + '!!!')"
   ]
  }
 ],
 "metadata": {
  "kernelspec": {
   "display_name": "Python 3",
   "language": "python",
   "name": "python3"
  },
  "language_info": {
   "codemirror_mode": {
    "name": "ipython",
    "version": 3
   },
   "file_extension": ".py",
   "mimetype": "text/x-python",
   "name": "python",
   "nbconvert_exporter": "python",
   "pygments_lexer": "ipython3",
   "version": "3.8.8"
  }
 },
 "nbformat": 4,
 "nbformat_minor": 5
}
