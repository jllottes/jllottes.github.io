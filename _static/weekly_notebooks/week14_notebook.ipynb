{
 "cells": [
  {
   "cell_type": "markdown",
   "id": "1c2fc362",
   "metadata": {},
   "source": [
    "# Monday, November 25th, 2024"
   ]
  },
  {
   "cell_type": "code",
   "execution_count": 1,
   "id": "c584458c",
   "metadata": {},
   "outputs": [],
   "source": [
    "import re\n",
    "import requests"
   ]
  },
  {
   "cell_type": "code",
   "execution_count": 2,
   "id": "a50f2837",
   "metadata": {},
   "outputs": [],
   "source": [
    "link = r'https://www.buffalo.edu/cas/math/people/faculty.html'\n",
    "\n",
    "webpage = requests.get(link)\n",
    "\n",
    "page_text = webpage.text"
   ]
  },
  {
   "cell_type": "code",
   "execution_count": 34,
   "id": "9073a263",
   "metadata": {
    "scrolled": true
   },
   "outputs": [],
   "source": [
    "#print(page_text[:])"
   ]
  },
  {
   "cell_type": "markdown",
   "id": "f8362f00",
   "metadata": {},
   "source": [
    "Example: `<a aria-label=\"Faculty:Jonathan Lottes\" href=\"/cas/math/people/faculty/jonathan-lottes.html\">Jonathan Lottes</a>`"
   ]
  },
  {
   "cell_type": "code",
   "execution_count": 21,
   "id": "30c3059d",
   "metadata": {
    "scrolled": false
   },
   "outputs": [
    {
     "name": "stdout",
     "output_type": "stream",
     "text": [
      "('Bernard Badzioch', '/cas/math/people/faculty/badzioch.html')\n",
      "('Maxim Bichuch', '/cas/math/people/faculty/bichuch.html')\n",
      "('Gino Biondini', '/cas/math/people/faculty/biondini.html')\n",
      "('Robert Busch', '/cas/math/people/faculty/busch.html')\n",
      "('Michael Casper', '/cas/math/people/faculty/casper.html')\n",
      "('Alexandr Chernyavski', '/cas/math/people/faculty/chernyavskiy.html')\n",
      "('Alexandru Chirvasitu', '/cas/math/people/faculty/chirvasitu.html')\n",
      "('Ching Chou', '/cas/math/people/faculty/cchou.html')\n",
      "('Thomas Cusick', '/cas/math/people/faculty/cusick.html')\n",
      "('Jintao Deng', '/cas/math/people/faculty/jintao-deng.html')\n",
      "('Sergey Dyachenko', '/cas/math/people/faculty/dyachenko.html')\n",
      "('James Faran', '/cas/math/people/faculty/faran.html')\n",
      "('Daniel Gendin', '/cas/math/people/faculty/gendin.html')\n",
      "('Daozhi Han', '/cas/math/people/faculty/Daozhi-Han.html')\n",
      "('Tara Hudson', '/cas/math/people/faculty/hudson.html')\n",
      "('Joseph Hundley', '/cas/math/people/faculty/hundley.html')\n",
      "('Kimberly E. Javor', '/cas/math/people/faculty/kim-javor.html')\n",
      "('Cagatay Kutluhan', '/cas/math/people/faculty/kutluhan.html')\n",
      "('Hanfeng Li', '/cas/math/people/faculty/hanfeng-li.html')\n",
      "('Johanna Mangahas', '/cas/math/people/faculty/mangahas.html')\n",
      "('Xiaoqing Li', '/cas/math/people/faculty/xiaoqing-li.html')\n",
      "('Mark Marino', '/cas/math/people/faculty/marino.html')\n",
      "('Yiqiang Li', '/cas/math/people/faculty/yiqiang-li.html')\n",
      "('Jonathan Lottes', '/cas/math/people/faculty/jonathan-lottes.html')\n",
      "('Naoki Masuda', '/cas/math/people/faculty/naoki-masuda.html')\n",
      "('William W. Menasco', '/cas/math/people/faculty/menasco.html')\n",
      "('Sarah Muldoon', '/cas/math/people/faculty/muldoon.html')\n",
      "('Corey Placito', '/cas/math/people/faculty/placito.html')\n",
      "('Barbara Prinari', '/cas/math/people/faculty/prinari.html')\n",
      "('Ankit Rai', '/cas/math/people/faculty/ankit-rai.html')\n",
      "('Pasquale Raico', '/cas/math/people/faculty/Pasquale-Raico.html')\n",
      "('Sarbendu Rakshit', '/cas/math/people/faculty/sarbendu-rakshit.html')\n",
      "('Mohan Ramachandran', '/cas/math/people/faculty/ramachandran.html')\n",
      "('Jie Ren', '/cas/math/people/faculty/Jie-Ren.html')\n",
      "('John Ringland', '/cas/math/people/faculty/ringland.html')\n",
      "('Michael A. Rosas', '/cas/math/people/faculty/michael-rosas.html')\n",
      "('Daniel Sage ', '/cas/math/people/faculty/daniel-sage.html')\n",
      "('Angela Samul', '/cas/math/people/faculty/samul.html')\n",
      "('Adam Sikora', '/cas/math/people/faculty/sikora.html')\n",
      "('Brian Spencer', '/cas/math/people/faculty/spencer.html')\n",
      "('Vasudevan Srinivas', '/cas/math/people/faculty/vasudevan-srinivas.html')\n",
      "('Kathlene Stephen', '/cas/math/people/faculty/kathlene-stephen.html')\n",
      "('Jakob Streipel', '/cas/math/people/faculty/streipel.html')\n",
      "('Jacquie Suddaby', '/cas/math/people/faculty/suddaby.html')\n",
      "('Vijaylaxmi Trivedi', '/cas/math/people/faculty/vijaylaxmi-trivedi.html')\n",
      "('Jingbo Xia', '/cas/math/people/faculty/xia.html')\n",
      "('Xingru Zhang', '/cas/math/people/faculty/zhang.html')\n",
      "('Hui June Zhu', '/cas/math/people/faculty/hj-zhu.html')\n"
     ]
    }
   ],
   "source": [
    "pattern = r'<a aria-label=\"Faculty:([A-Za-z\\.\\-\\s]+)\" href=\"(.+?)\">'\n",
    "\n",
    "matches = re.findall(pattern, page_text)\n",
    "\n",
    "for match in matches:\n",
    "    print(match)"
   ]
  },
  {
   "cell_type": "markdown",
   "id": "0919fcae",
   "metadata": {},
   "source": [
    "Let's try to use a combination of splits and regular expressions to identify blocks of faculty information, then process the blocks separately."
   ]
  },
  {
   "cell_type": "markdown",
   "id": "015942c8",
   "metadata": {},
   "source": [
    "It looks like faculty information blocks might start with something like `<div class=\"profileinfo-teaser teaser-block\"><div class=\"teaser-inner\">`."
   ]
  },
  {
   "cell_type": "code",
   "execution_count": 22,
   "id": "7ce152e3",
   "metadata": {},
   "outputs": [],
   "source": [
    "blocks = page_text.split(r'<div class=\"profileinfo-teaser teaser-block\"><div class=\"teaser-inner\">')"
   ]
  },
  {
   "cell_type": "code",
   "execution_count": 53,
   "id": "c98a3060",
   "metadata": {
    "scrolled": true
   },
   "outputs": [
    {
     "name": "stdout",
     "output_type": "stream",
     "text": [
      "<div class=\"profileinfo-teaser-photo\"><noscript><picture contenttreeid='profileinfo' contenttreestatus='Not published'><img height=\"60\" alt=\"Jonathan Lottes. \" width=\"60\" class=\"img-60 img-60x60 cq-dd-image lazyload\" src=\"/content/shared/cas/math/faculty/Jonathan-Lottes/_jcr_content/profileinfo.img.60.60.png/1656442516757.png\" data-sizes=\"auto\" data-parent-fit=\"contain\" srcset=\"/content/shared/cas/math/faculty/Jonathan-Lottes/jcr:content/profileinfo.img.120.120.z.q65.png/1656442516757.png 2x\"></picture></noscript><picture class=\"no-display\" contenttreeid='profileinfo' contenttreestatus='Not published'><img height=\"60\" alt=\"Jonathan Lottes. \" width=\"60\" class=\"img-60 img-60x60 cq-dd-image lazyload\" data-src=\"/content/shared/cas/math/faculty/Jonathan-Lottes/jcr%3acontent/profileinfo.img.60.60.png/1656442516757.png\" data-sizes=\"auto\" data-parent-fit=\"contain\" data-srcset=\"/content/shared/cas/math/faculty/Jonathan-Lottes/jcr:content/profileinfo.img.120.120.z.q65.png/1656442516757.png 2x\"></picture><script>jQuery('picture.no-display').removeClass('no-display');</script></div><div class=\"profileinfo-teaser-name\"><a class=\"title\" href=\"/cas/math/people/faculty.host.html/content/shared/cas/math/faculty/Jonathan-Lottes.html\"> <b>Jonathan Lottes<span>,</span></b><small> PhD</small> </a><div class=\"profileinfo-teaser-degree\">PhD, University at Buffalo</div></div><div class=\"profileinfo-teaser-info\"><div class=\"profileinfo-teaser-contact hide-in-narrow\"><p>211 Mathematics Building</p><p>UB North Campus</p><p>Phone: (716) 645-8775</p><p><a class=\"longtext\" href=\"mailto:jllottes@buffalo.edu\">jllottes@buffalo.edu</a></p></div><div class=\"profileinfo-teaser-professional\"><div class=\"profileinfo-teaser-titles\"><div><div class=\"profileinfo-teaser-school-title\">Clinical Assistant Professor, Placement Exam Coordinator</div><div class=\"profileinfo-teaser-school-name\">Department of Mathematics</div></div></div></div><div class=\"profileinfo-teaser-alt-contact\"><div class=\"profileinfo-teaser-mobile-contact hide-in-wide buttoncomponent green\"><a class=\"profileinfo-teaser-btn-white\" href=\"tel:(716)%20645-8775\">Call<span class=\"ada-hidden\"> Jonathan Lottes</span></a> <a class=\"profileinfo-teaser-btn-white\" href=\"mailto:jllottes@buffalo.edu\">Email<span class=\"ada-hidden\"> Jonathan Lottes</span></a> <a href=\"/cas/math/people/faculty.host.html/content/shared/cas/math/faculty/Jonathan-Lottes.html\">Profile<span class=\"ada-hidden\"> for Jonathan Lottes</span></a></div><div class=\"profileinfo-teaser-3col-contact hide-in-narrow\"><p>211 Mathematics Building</p><p>UB North Campus</p><p>Phone: (716) 645-8775</p><p><a class=\"longtext\" href=\"mailto:jllottes@buffalo.edu\">jllottes@buffalo.edu</a></p></div></div></div><div class=\"clearfix\"></div></div></div></div></li><li><div>\n"
     ]
    }
   ],
   "source": [
    "block = blocks[23]\n",
    "\n",
    "#block = blocks[1]\n",
    "print(block)"
   ]
  },
  {
   "cell_type": "markdown",
   "id": "1b108668",
   "metadata": {},
   "source": [
    "Name example: `<span class=\"ada-hidden\"> Jonathan Lottes</span>`"
   ]
  },
  {
   "cell_type": "code",
   "execution_count": 54,
   "id": "71ff8e9b",
   "metadata": {},
   "outputs": [
    {
     "name": "stdout",
     "output_type": "stream",
     "text": [
      "Jonathan Lottes\n"
     ]
    }
   ],
   "source": [
    "name_pattern = r'<span class=\"ada-hidden\">(.+?)</span>'\n",
    "\n",
    "name = re.findall(name_pattern, block)[0].strip()\n",
    "print(name)"
   ]
  },
  {
   "cell_type": "markdown",
   "id": "595f91a4",
   "metadata": {},
   "source": [
    "Email example: `href=\"mailto:jllottes@buffalo.edu\">`"
   ]
  },
  {
   "cell_type": "code",
   "execution_count": 55,
   "id": "74e188cf",
   "metadata": {},
   "outputs": [
    {
     "name": "stdout",
     "output_type": "stream",
     "text": [
      "jllottes@buffalo.edu\n"
     ]
    }
   ],
   "source": [
    "email_pattern = r'href=\"mailto:(.+?)\">'\n",
    "email = re.findall(email_pattern, block)[0]\n",
    "print(email)"
   ]
  },
  {
   "cell_type": "markdown",
   "id": "d3d9d16e",
   "metadata": {},
   "source": [
    "Office example: `<div class=\"profileinfo-teaser-contact hide-in-narrow\"><p>211 Mathematics Building</p>`"
   ]
  },
  {
   "cell_type": "code",
   "execution_count": 56,
   "id": "9e11cdf2",
   "metadata": {},
   "outputs": [
    {
     "name": "stdout",
     "output_type": "stream",
     "text": [
      "211 Mathematics Building\n"
     ]
    }
   ],
   "source": [
    "office_pattern = r'<div class=\"profileinfo-teaser-contact hide-in-narrow\"><p>(.+?)</p>'\n",
    "\n",
    "office = re.findall(office_pattern, block)[0]\n",
    "print(office)"
   ]
  },
  {
   "cell_type": "markdown",
   "id": "458825d2",
   "metadata": {},
   "source": [
    "Phone example: `<p>Phone: (716) 645-8775</p>`"
   ]
  },
  {
   "cell_type": "code",
   "execution_count": 58,
   "id": "bbb967db",
   "metadata": {},
   "outputs": [
    {
     "name": "stdout",
     "output_type": "stream",
     "text": [
      "(716) 645-8775\n"
     ]
    }
   ],
   "source": [
    "phone_pattern = r'<p>Phone: (.+?)</p>'\n",
    "\n",
    "phone_number = re.findall(phone_pattern, block)[0]\n",
    "print(phone_number)"
   ]
  },
  {
   "cell_type": "code",
   "execution_count": 59,
   "id": "9623aeff",
   "metadata": {
    "scrolled": false
   },
   "outputs": [
    {
     "name": "stdout",
     "output_type": "stream",
     "text": [
      "Daniel Sage\n",
      "244 Mathematics Building\n",
      "dsage@buffalo.edu\n",
      "(716) 645-8781\n",
      "\n",
      "James Faran\n",
      "215 Mathematics Building\n",
      "jjfaran@buffalo.edu\n",
      "(716) 645-8776\n",
      "\n",
      "Johanna Mangahas\n",
      "116 &amp; 232 Mathematics Building\n",
      "mangahas@buffalo.edu\n",
      "(716) 645-8767 &amp; (716) 645-8784\n",
      "\n",
      "Naoki Masuda\n",
      "318 Mathematics Building\n",
      "naokimas@buffalo.edu\n",
      "(716) 645-8804\n",
      "\n",
      "Bernard Badzioch\n",
      "108 Mathematics Building\n",
      "badzioch@buffalo.edu\n",
      "(716) 645-8798\n",
      "\n",
      "Maxim Bichuch\n",
      "317 Mathematics Building\n",
      "mbichuch@buffalo.edu\n",
      "(716) 645-8803\n",
      "\n",
      "Gino Biondini\n",
      "324 Mathematics Building\n",
      "biondini@buffalo.edu\n",
      "(716) 645-8810\n",
      "\n",
      "Robert Busch\n",
      "102 Mathematics Building\n",
      "rlbusch@buffalo.edu\n",
      "(716) 645-8760\n",
      "\n",
      "Michael Casper\n",
      "222 Mathematics Building\n",
      "mjcasper@buffalo.edu\n",
      "(716) 645-8779\n",
      "\n",
      "Alexandr Chernyavsky\n",
      "328 Mathematics Building\n",
      "chernyav@buffalo.edu\n",
      "(716) 645-8814\n",
      "\n",
      "Alexandru Chirvasitu\n",
      "216 Mathematics Building\n",
      "achirvas@buffalo.edu\n",
      "(716) 645-8831\n",
      "\n",
      "Ching Chou\n",
      "320 Mathematics Building\n",
      "chouc@buffalo.edu\n",
      "(716) 645-8806\n",
      "\n",
      "Thomas Cusick\n",
      "315 Mathematics Building\n",
      "cusick@buffalo.edu\n",
      "(716) 645-8801\n",
      "\n",
      "Jintao Deng\n",
      "244 Mathematics Building\n",
      "jintaode@buffalo.edu\n",
      "(716) 645-6284\n",
      "\n",
      "Sergey Dyachenko\n",
      "312 Mathematics Building\n",
      "sergeydy@buffalo.edu\n",
      "(716) 645-8797\n",
      "\n",
      "James Faran\n",
      "215 Mathematics Building\n",
      "jjfaran@buffalo.edu\n",
      "(716) 645-8776\n",
      "\n",
      "Daniel Gendin\n",
      "208 Mathematics Building\n",
      "dgendin@buffalo.edu\n",
      "(716) 645-8808\n",
      "\n",
      "Daozhi Han\n",
      "310 Mathematics Building\n",
      "daozhiha@buffalo.edu\n",
      "(716) 645-8789\n",
      "\n",
      "Tara Hudson\n",
      "201 Mathematics Building\n",
      "tarahuds@buffalo.edu\n",
      "(716) 645-8769\n",
      "\n",
      "Joseph Hundley\n",
      "203 Mathematics Building\n",
      "jahundle@buffalo.edu\n",
      "(716) 645-8771\n",
      "\n",
      "Kimberly E. Javor\n",
      "101 Mathematics Building\n",
      "kejavor@buffalo.edu\n",
      "(716) 645-8826\n",
      "\n",
      "Çağatay Kutluhan\n",
      "117 Mathematics Building\n",
      "kutluhan@buffalo.edu\n",
      "(716) 645-8768\n",
      "\n",
      "Jonathan Lottes\n",
      "211 Mathematics Building\n",
      "jllottes@buffalo.edu\n",
      "(716) 645-8775\n",
      "\n",
      "Hanfeng Li\n",
      "104 Mathematics Building\n",
      "hfli@buffalo.edu\n",
      "(716) 645-8762\n",
      "\n",
      "Xiaoqing Li\n",
      "202 Mathematics Building\n",
      "xl29@buffalo.edu\n",
      "(716) 645-8770\n",
      "\n",
      "Yiqiang Li\n",
      "212 &amp; 230 Mathematics Building\n",
      "yiqiang@buffalo.edu\n",
      "(716) 645-8830\n",
      "\n",
      "Johanna Mangahas\n",
      "116 &amp; 232 Mathematics Building\n",
      "mangahas@buffalo.edu\n",
      "(716) 645-8767 &amp; (716) 645-8784\n",
      "\n",
      "Mark Marino\n",
      "237 Mathematics Building\n",
      "mrmarino@buffalo.edu\n",
      "(716) 645-8778\n",
      "\n",
      "Naoki Masuda\n",
      "318 Mathematics Building\n",
      "naokimas@buffalo.edu\n",
      "(716) 645-8804\n",
      "\n",
      "William W. Menasco\n",
      "112 Mathematics Building\n",
      "menasco@buffalo.edu\n",
      "(716) 645-8765\n",
      "\n",
      "Sarah F. Muldoon\n",
      "208 Mathematics Building\n",
      "smuldoon@buffalo.edu\n",
      "(716) 645-8774\n",
      "\n",
      "Nicholas Ossi\n",
      "326 Mathematics Building\n",
      "nossi@buffalo.edu\n",
      "(904) 891-0164\n",
      "\n",
      "Corey Placito\n",
      "237 Mathematics Building\n",
      "coreypla@buffalo.edu\n",
      "(716) 645-8778\n",
      "\n",
      "Barbara Prinari\n",
      "314 Mathematics Building\n",
      "bprinari@buffalo.edu\n",
      "(716) 645-8799\n",
      "\n",
      "Ankit Rai\n",
      "326 Mathematics Building\n",
      "arai22@buffalo.edu\n",
      "(716) 645-8812\n",
      "\n",
      "Pasquale Raico\n",
      "225 Mathematics Building\n",
      "ppraico@buffalo.edu\n",
      "(716) 645-8780\n",
      "\n",
      "Sarbendu Rakshit\n",
      "244 Mathematics Building\n",
      "sarbendu@buffalo.edu\n",
      "(716) 645-6284\n",
      "\n",
      "Mohan Ramachandran\n",
      "204 Mathematics Building\n",
      "ramac-m@buffalo.edu\n",
      "(716) 645-8772\n",
      "\n",
      "Jie Ren\n",
      "316 Mathematics Building\n",
      "jren5@buffalo.edu\n",
      "(716) 645-\n",
      "\n",
      "John Ringland\n",
      "226 Mathematics Building\n",
      "ringland@buffalo.edu\n",
      "(716) 645-8781\n",
      "\n",
      "Michael A. Rosas\n",
      "217 Mathematics Building\n",
      "marosas@buffalo.edu\n",
      "(716) 645-8777\n",
      "\n",
      "Daniel Sage\n",
      "244 Mathematics Building\n",
      "dsage@buffalo.edu\n",
      "(716) 645-8781\n",
      "\n",
      "Angela Samul\n",
      "217 Baldy Hall, North Campus\n",
      "asamul@buffalo.edu\n",
      "(716) 645-2394\n",
      "\n",
      "Adam S. Sikora\n",
      "115 Mathematics Building\n",
      "asikora@buffalo.edu\n",
      "(716) 645-6362\n",
      "\n",
      "Brian Spencer\n",
      "319 Mathematics Building\n",
      "spencerb@buffalo.edu\n",
      "(716) 645-8805\n",
      "\n",
      "Vasudevan Srinivas\n",
      "106 Mathematics Building\n",
      "vs74@buffalo.edu\n",
      "(716) 645-8763\n",
      "\n",
      "Kathlene Stephen\n",
      "237 Mathematics Building\n",
      "hockaday@buffalo.edu\n",
      "(716) 645-8778\n",
      "\n",
      "Jakob Streipel\n",
      "311 Mathematics Building\n",
      "jstreipe@buffalo.edu\n",
      "(716) 645-8796\n",
      "\n",
      "Jacquie Suddaby\n",
      "217 Baldy Hall\n",
      "jmsuddab@buffalo.edu\n",
      "(716) 645-2394\n",
      "\n",
      "Vijaylaxmi Trivedi\n",
      "103 Mathematics Building\n",
      "vijaylax@buffalo.edu\n",
      "(716) 645-8761\n",
      "\n",
      "Jingbo Xia\n",
      "306 Mathematics Building\n",
      "jxia@buffalo.edu\n",
      "(716) 645-8788\n",
      "\n",
      "Xingru Zhang\n",
      "111 Mathematics Building\n",
      "xinzhang@buffalo.edu\n",
      "(716) 645-8764\n",
      "\n",
      "Hui June Zhu\n",
      "325 Mathematics Building\n",
      "hjzhu@buffalo.edu\n",
      "(716) 645-8811\n",
      "\n"
     ]
    }
   ],
   "source": [
    "for block in blocks[1:]:\n",
    "    name = re.findall(name_pattern, block)[0].strip()\n",
    "    email = re.findall(email_pattern, block)[0]\n",
    "    office = re.findall(office_pattern, block)[0]\n",
    "    phone = re.findall(phone_pattern, block)[0]\n",
    "    \n",
    "    print(name)\n",
    "    print(office)\n",
    "    print(email)\n",
    "    print(phone)\n",
    "    \n",
    "    print()"
   ]
  },
  {
   "cell_type": "code",
   "execution_count": null,
   "id": "3a03b338",
   "metadata": {},
   "outputs": [],
   "source": []
  }
 ],
 "metadata": {
  "kernelspec": {
   "display_name": "Python 3 (ipykernel)",
   "language": "python",
   "name": "python3"
  },
  "language_info": {
   "codemirror_mode": {
    "name": "ipython",
    "version": 3
   },
   "file_extension": ".py",
   "mimetype": "text/x-python",
   "name": "python",
   "nbconvert_exporter": "python",
   "pygments_lexer": "ipython3",
   "version": "3.11.5"
  }
 },
 "nbformat": 4,
 "nbformat_minor": 5
}
