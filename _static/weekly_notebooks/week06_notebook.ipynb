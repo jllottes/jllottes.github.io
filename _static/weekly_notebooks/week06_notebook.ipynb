{
 "cells": [
  {
   "cell_type": "markdown",
   "id": "9fbc6000",
   "metadata": {},
   "source": [
    "# March 6, 2023\n",
    "\n",
    "Last time: working with Numpy arrays\n"
   ]
  },
  {
   "cell_type": "code",
   "execution_count": null,
   "id": "d046ec17",
   "metadata": {},
   "outputs": [],
   "source": [
    "import numpy as np"
   ]
  },
  {
   "cell_type": "code",
   "execution_count": null,
   "id": "1aa0aacb",
   "metadata": {},
   "outputs": [],
   "source": []
  },
  {
   "cell_type": "markdown",
   "id": "bf2a394c",
   "metadata": {},
   "source": [
    "**Note:** When dealing with lists, slicing returns a new list."
   ]
  },
  {
   "cell_type": "code",
   "execution_count": null,
   "id": "3c53b175",
   "metadata": {},
   "outputs": [],
   "source": []
  },
  {
   "cell_type": "markdown",
   "id": "d492a274",
   "metadata": {},
   "source": [
    "The change to the slice was not propogated back to the original list. With Numpy arrays, modifying a slice will be progagated back to the original array."
   ]
  },
  {
   "cell_type": "code",
   "execution_count": null,
   "id": "7ad1c3d6",
   "metadata": {},
   "outputs": [],
   "source": []
  },
  {
   "cell_type": "markdown",
   "id": "2b2e315e",
   "metadata": {},
   "source": [
    "This can be a great feature as long as we understand how it works."
   ]
  },
  {
   "cell_type": "code",
   "execution_count": null,
   "id": "e8f321a1",
   "metadata": {},
   "outputs": [],
   "source": []
  },
  {
   "cell_type": "markdown",
   "id": "f603fb57",
   "metadata": {},
   "source": [
    "## Boolean masks"
   ]
  },
  {
   "cell_type": "markdown",
   "id": "633eda35",
   "metadata": {},
   "source": [
    "We can evaluate Boolean expressions on arrays to returns a new array filled with `True`/`False`."
   ]
  },
  {
   "cell_type": "code",
   "execution_count": null,
   "id": "70d027b8",
   "metadata": {},
   "outputs": [],
   "source": []
  },
  {
   "cell_type": "markdown",
   "id": "5760cdb2",
   "metadata": {},
   "source": [
    "We can check the datatype of elements in an array using the `.dtype` method."
   ]
  },
  {
   "cell_type": "code",
   "execution_count": null,
   "id": "8dfe4b19",
   "metadata": {},
   "outputs": [],
   "source": []
  },
  {
   "cell_type": "code",
   "execution_count": null,
   "id": "a8097f9c",
   "metadata": {},
   "outputs": [],
   "source": []
  },
  {
   "cell_type": "markdown",
   "id": "480fc6e0",
   "metadata": {},
   "source": [
    "Slicing in numpy is far more robust than slicing with lists. As an example, we can use an array of Booleans (with an appropriate shape) to build a slice of an array."
   ]
  },
  {
   "cell_type": "code",
   "execution_count": null,
   "id": "8bfa576c",
   "metadata": {},
   "outputs": [],
   "source": []
  },
  {
   "cell_type": "markdown",
   "id": "0113b767",
   "metadata": {},
   "source": [
    "## Recall our discussion of the Collatz conjecture:"
   ]
  },
  {
   "cell_type": "markdown",
   "id": "8d94ddea",
   "metadata": {},
   "source": [
    "Consider the function\n",
    "$$\n",
    "f(n) = \n",
    "\\begin{cases}\n",
    "    3n+1 & \\text{if $n$ is odd}\n",
    "    \\\\\n",
    "    n/2 & \\text{if $n$ is even}\n",
    "\\end{cases}\n",
    "$$\n",
    "\n",
    "For any starting $n$, we generate a sequence $\\{a_i\\}$ where\n",
    "$$\n",
    "a_0 = n, \\qquad a_{i+1} = f(a_i) \\quad \\text{for}\\quad i = 0,1,2,\\cdots\n",
    "$$"
   ]
  },
  {
   "cell_type": "code",
   "execution_count": null,
   "id": "988aa6a9",
   "metadata": {},
   "outputs": [],
   "source": [
    "def collatz(n):\n",
    "    if n%2 == 1:\n",
    "        return 3*n+1\n",
    "    else:\n",
    "        return n//2"
   ]
  },
  {
   "cell_type": "markdown",
   "id": "07034710",
   "metadata": {},
   "source": [
    "This version of `collatz` takes in an integer `n` and evaluates the function $f(n)$.\n",
    "\n",
    "**Exercise:** Write a new version of `collatz` that takes in an array of values, then applies the function $f(n)$ to each value in the array. \n",
    "\n",
    "*Hint: use Boolean masks*"
   ]
  },
  {
   "cell_type": "code",
   "execution_count": null,
   "id": "69d65853",
   "metadata": {},
   "outputs": [],
   "source": []
  },
  {
   "cell_type": "code",
   "execution_count": null,
   "id": "bee6dbd1",
   "metadata": {},
   "outputs": [],
   "source": []
  },
  {
   "cell_type": "markdown",
   "id": "98aa4942",
   "metadata": {},
   "source": [
    "With this, its very easy for us compute orbits for many numbers. Let's compute 20th element in the orbits for each number $1 \\leq n \\leq 13$."
   ]
  },
  {
   "cell_type": "code",
   "execution_count": null,
   "id": "c78903be",
   "metadata": {},
   "outputs": [],
   "source": []
  },
  {
   "cell_type": "markdown",
   "id": "4d025f98",
   "metadata": {},
   "source": [
    "## Methods for defining numpy arrays:"
   ]
  },
  {
   "cell_type": "markdown",
   "id": "f78cdf06",
   "metadata": {},
   "source": [
    "The `np.arange` function works nearly identically to the `range` function, but returns a numpy array instead."
   ]
  },
  {
   "cell_type": "code",
   "execution_count": null,
   "id": "0df7989c",
   "metadata": {},
   "outputs": [],
   "source": []
  },
  {
   "cell_type": "code",
   "execution_count": null,
   "id": "c42503b3",
   "metadata": {},
   "outputs": [],
   "source": []
  },
  {
   "cell_type": "markdown",
   "id": "133d563c",
   "metadata": {},
   "source": [
    "Unlike the `range` function, `np.arange` function can work with non-integer inputs."
   ]
  },
  {
   "cell_type": "code",
   "execution_count": null,
   "id": "9d7659dd",
   "metadata": {},
   "outputs": [],
   "source": []
  },
  {
   "cell_type": "code",
   "execution_count": null,
   "id": "1f94be12",
   "metadata": {},
   "outputs": [],
   "source": []
  },
  {
   "cell_type": "markdown",
   "id": "0b6672cf",
   "metadata": {},
   "source": [
    "We previously discussed the `np.linspace` function, which returns a grid of equally spaced points:"
   ]
  },
  {
   "cell_type": "code",
   "execution_count": null,
   "id": "65a9a860",
   "metadata": {},
   "outputs": [],
   "source": []
  },
  {
   "cell_type": "markdown",
   "id": "2043b098",
   "metadata": {},
   "source": [
    "We can generate an array of zeros using the `np.zeros` command.\n",
    "\n",
    "Syntax: `np.zeros(n)` returns an array of length `n` filled with zeros."
   ]
  },
  {
   "cell_type": "code",
   "execution_count": null,
   "id": "2ea2c6a8",
   "metadata": {},
   "outputs": [],
   "source": []
  },
  {
   "cell_type": "markdown",
   "id": "1813ff3c",
   "metadata": {},
   "source": [
    "The `np.ones` function works similarly, but returns an array filled with ones."
   ]
  },
  {
   "cell_type": "code",
   "execution_count": null,
   "id": "695d0e61",
   "metadata": {},
   "outputs": [],
   "source": []
  },
  {
   "cell_type": "markdown",
   "id": "7e1f6adf",
   "metadata": {},
   "source": [
    "We can also initialize an empty array using the `np.empty` function:"
   ]
  },
  {
   "cell_type": "code",
   "execution_count": null,
   "id": "e4e6eb12",
   "metadata": {},
   "outputs": [],
   "source": []
  },
  {
   "cell_type": "markdown",
   "id": "97c2bddf",
   "metadata": {},
   "source": [
    "Unlike with lists, there is no `append` method for arrays."
   ]
  },
  {
   "cell_type": "code",
   "execution_count": null,
   "id": "7df56086",
   "metadata": {},
   "outputs": [],
   "source": []
  },
  {
   "cell_type": "markdown",
   "id": "33e092f1",
   "metadata": {},
   "source": [
    "## List unpacking"
   ]
  },
  {
   "cell_type": "code",
   "execution_count": null,
   "id": "8e56c84b",
   "metadata": {},
   "outputs": [],
   "source": []
  },
  {
   "cell_type": "code",
   "execution_count": null,
   "id": "dc6883f0",
   "metadata": {},
   "outputs": [],
   "source": []
  },
  {
   "cell_type": "code",
   "execution_count": null,
   "id": "0b32c5cb",
   "metadata": {},
   "outputs": [],
   "source": []
  },
  {
   "cell_type": "code",
   "execution_count": null,
   "id": "878308b9",
   "metadata": {},
   "outputs": [],
   "source": []
  },
  {
   "cell_type": "code",
   "execution_count": null,
   "id": "8f96d1ee",
   "metadata": {},
   "outputs": [],
   "source": []
  },
  {
   "cell_type": "code",
   "execution_count": null,
   "id": "b57f4045",
   "metadata": {},
   "outputs": [],
   "source": []
  },
  {
   "cell_type": "markdown",
   "id": "37594804",
   "metadata": {},
   "source": [
    "## Multiple outputs from a function"
   ]
  },
  {
   "cell_type": "code",
   "execution_count": null,
   "id": "4bec2e3b",
   "metadata": {},
   "outputs": [],
   "source": []
  },
  {
   "cell_type": "code",
   "execution_count": null,
   "id": "1e439bfd",
   "metadata": {},
   "outputs": [],
   "source": []
  },
  {
   "cell_type": "code",
   "execution_count": null,
   "id": "7276344b",
   "metadata": {},
   "outputs": [],
   "source": []
  },
  {
   "cell_type": "code",
   "execution_count": null,
   "id": "f4805048",
   "metadata": {},
   "outputs": [],
   "source": []
  },
  {
   "cell_type": "code",
   "execution_count": null,
   "id": "24022c7c",
   "metadata": {},
   "outputs": [],
   "source": []
  },
  {
   "cell_type": "markdown",
   "id": "35cf7cee",
   "metadata": {},
   "source": [
    "## Modifying interactive plots"
   ]
  },
  {
   "cell_type": "markdown",
   "id": "9944b62c",
   "metadata": {},
   "source": [
    "For interactive plotting, we'll want to store the `figure` output and any `axes` that we generate.\n",
    "Let's start by plotting a circle in an interactive window."
   ]
  },
  {
   "cell_type": "code",
   "execution_count": null,
   "id": "bdc2d0d3",
   "metadata": {},
   "outputs": [],
   "source": [
    "import matplotlib.pyplot as plt\n",
    "%matplotlib notebook"
   ]
  },
  {
   "cell_type": "code",
   "execution_count": null,
   "id": "d62d683a",
   "metadata": {},
   "outputs": [],
   "source": [
    "fig = plt.figure()\n",
    "\n",
    "t = np.linspace(0,2*np.pi,500)\n",
    "x = np.cos(t)\n",
    "y = np.sin(t)\n",
    "\n",
    "p, = plt.plot(x,y)\n",
    "\n",
    "plt.axis('equal')\n",
    "plt.show()"
   ]
  },
  {
   "cell_type": "markdown",
   "id": "121aa120",
   "metadata": {},
   "source": [
    "We now have a figure object, `fig`, and a line plot, `p`. Now we'll start modifying the plot.\n",
    "\n",
    "We can update the $x$ data using the `.set_xdata` method, and the $y$ data using the `.set_ydata` method on the line plot object.\n",
    "\n",
    "The `.canvas.draw()` method for figure objects will force Python to update the figure."
   ]
  },
  {
   "cell_type": "code",
   "execution_count": null,
   "id": "dbe6fb08",
   "metadata": {},
   "outputs": [],
   "source": [
    "for r in np.linspace(1,0.1,100):\n",
    "    p.set_xdata(r*x)\n",
    "    p.set_ydata(r*y)\n",
    "    fig.canvas.draw()"
   ]
  },
  {
   "cell_type": "markdown",
   "id": "4ea1e1c6",
   "metadata": {},
   "source": [
    "## The slider widget"
   ]
  },
  {
   "cell_type": "code",
   "execution_count": null,
   "id": "044d42c6",
   "metadata": {
    "scrolled": false
   },
   "outputs": [],
   "source": [
    "from matplotlib.widgets import Slider  # import the Slider widget\n",
    "\n",
    "import numpy as np\n",
    "import matplotlib.pyplot as plt\n",
    "from math import pi\n",
    "\n",
    "a_min = 0    # the minimial value of the paramater a\n",
    "a_max = 10   # the maximal value of the paramater a\n",
    "a_init = 1   # the value of the parameter a to be used initially, when the graph is created\n",
    "\n",
    "x = np.linspace(0, 2*pi, 500)\n",
    "\n",
    "fig = plt.figure(figsize=(8,3))\n",
    "\n",
    "# first we create the general layount of the figure\n",
    "# with two axes objects: one for the plot of the function\n",
    "# and the other for the slider\n",
    "sin_ax = plt.axes([0.1, 0.2, 0.8, 0.65])\n",
    "slider_ax = plt.axes([0.1, 0.05, 0.8, 0.05])\n",
    "\n",
    "\n",
    "# in plot_ax we plot the function with the initial value of the parameter a\n",
    "plt.axes(sin_ax) # select sin_ax\n",
    "plt.title('y = sin(ax)')\n",
    "sin_plot, = plt.plot(x, np.sin(a_init*x), 'r')\n",
    "plt.xlim(0, 2*pi)\n",
    "plt.ylim(-1.1, 1.1)\n",
    "\n",
    "# here we create the slider\n",
    "a_slider = Slider(slider_ax,      # the axes object containing the slider\n",
    "                  'a',            # the name of the slider parameter\n",
    "                  a_min,          # minimal value of the parameter\n",
    "                  a_max,          # maximal value of the parameter\n",
    "                  valinit=a_init  # initial value of the parameter\n",
    "                 )\n",
    "\n",
    "# Next we define a function that will be executed each time the value\n",
    "# indicated by the slider changes. The variable of this function will\n",
    "# be assigned the value of the slider.\n",
    "def update(args):\n",
    "    sin_plot.set_ydata(np.sin(a_slider.val*x)) # set new y-coordinates of the plotted points\n",
    "                                               # a_slider.val grabs the current value of a\n",
    "    fig.canvas.draw_idle()                     # redraw the plot\n",
    "\n",
    "# the final step is to specify that the slider needs to\n",
    "# execute the above function when its value changes\n",
    "a_slider.on_changed(update)\n",
    "\n",
    "plt.show()"
   ]
  },
  {
   "cell_type": "markdown",
   "id": "493d35b8",
   "metadata": {},
   "source": [
    "Lissajous curves are curves given by the parametric equations\n",
    "$$\n",
    "x = \\sin(at)\n",
    "$$\n",
    "$$\n",
    "y = \\cos(bt)\n",
    "$$\n",
    "\n",
    "**Exercise:** Create an interactive plot with sliders for the parameters $a$ and $b$ to generate Lissajous curves.\n",
    "\n",
    "Suggestion:\n",
    "1. First, modify the above code to plot a Lissajous curve with $b$ fixed and $a$ controlled by the existing slider.\n",
    "2. Then introduce a second slider for the $b$ parameter."
   ]
  },
  {
   "cell_type": "code",
   "execution_count": null,
   "id": "3392b9c6",
   "metadata": {},
   "outputs": [],
   "source": []
  },
  {
   "cell_type": "markdown",
   "id": "ad14798c",
   "metadata": {},
   "source": [
    "We can specify a sliders orientation (horizontal/vertical) using the `orientation` keyword."
   ]
  },
  {
   "cell_type": "code",
   "execution_count": null,
   "id": "5b751aea",
   "metadata": {},
   "outputs": [],
   "source": []
  }
 ],
 "metadata": {
  "kernelspec": {
   "display_name": "Python 3 (ipykernel)",
   "language": "python",
   "name": "python3"
  },
  "language_info": {
   "codemirror_mode": {
    "name": "ipython",
    "version": 3
   },
   "file_extension": ".py",
   "mimetype": "text/x-python",
   "name": "python",
   "nbconvert_exporter": "python",
   "pygments_lexer": "ipython3",
   "version": "3.9.13"
  }
 },
 "nbformat": 4,
 "nbformat_minor": 5
}
