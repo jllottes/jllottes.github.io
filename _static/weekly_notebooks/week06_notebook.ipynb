{
 "cells": [
  {
   "cell_type": "markdown",
   "id": "dd3b57dd-a2c7-4d70-9bea-34bf810e8264",
   "metadata": {},
   "source": [
    "# Monday, September 29th, 2025"
   ]
  },
  {
   "cell_type": "markdown",
   "id": "c41e2cdf-1aea-4b8b-bdf0-2b3b0022096a",
   "metadata": {},
   "source": [
    "## Figure and axes objects"
   ]
  },
  {
   "cell_type": "code",
   "execution_count": null,
   "id": "cbb8e69a-7013-4d90-8f04-6e66ef055799",
   "metadata": {},
   "outputs": [],
   "source": [
    "import matplotlib.pyplot as plt\n",
    "import numpy as np"
   ]
  },
  {
   "cell_type": "markdown",
   "id": "8beca3fb-150b-41d9-9fab-f7b47ca5bfd6",
   "metadata": {},
   "source": [
    "Suppose we want to draw the unit circle (i.e. the circle of radius $1$ centered at the origin). Recall from MTH 142 that we can describe the unit circle by the parametric equation\n",
    "$$x = \\cos t \\qquad\\qquad y = \\sin t \\qquad \\qquad 0 \\leq t \\leq 2\\pi.$$\n",
    "\n",
    "**Exercise:** Use `np.linspace`, `np.pi`, `np.sin`, and `np.cos` to plot the unit circle using the parametrization above."
   ]
  },
  {
   "cell_type": "code",
   "execution_count": null,
   "id": "6ba99539-c8dc-49b0-addc-4339a8e96368",
   "metadata": {},
   "outputs": [],
   "source": []
  },
  {
   "cell_type": "markdown",
   "id": "b57869d2-b782-4859-a135-dee82a3da6ff",
   "metadata": {},
   "source": [
    "Notice: the graph does not look circular. We need to adjust the aspect ratio to correct this. First, a little more information on the structure of figures in matplotlib. When plotting with `matplotlib.pyplot`:\n",
    " - Each figure starts with a `figure` object.\n",
    " - Within that figure object, we can place an `axes` object (or several).\n",
    " - On an `axes` object, we can draw things (lines, points, etc.).\n",
    " \n",
    "When we call `plt.plot` (in the absence of other commands), matplotlib automatically generates a figure and axes object. We can also take control of that process ourselves:\n",
    "\n",
    " - Calling `plt.figure()` will generate a figure object.\n",
    "\n",
    "**Exercise:** Create two figures, one which graphs $x$ vs $y$ (as in the previous exercise), and another that graphs both $x(t)$ and $y(t)$ vs $t$."
   ]
  },
  {
   "cell_type": "code",
   "execution_count": null,
   "id": "d8a910dd-34c1-4e47-bace-c769e41123ee",
   "metadata": {},
   "outputs": [],
   "source": []
  },
  {
   "cell_type": "markdown",
   "id": "53a9d9cf-77d9-48eb-a3de-c90a12934c4c",
   "metadata": {},
   "source": [
    "By taking control of defining the figure object, we can include numerous optional arguments to change the default behavior. For example, the optional argument `figsize=(<horizontal size>, <vertical size>)` can be used to change the size of the figure. Let's graph the circle again, but this time specify a figure size that is square:"
   ]
  },
  {
   "cell_type": "code",
   "execution_count": null,
   "id": "3933c46e-5ed3-418f-8f26-983b186f4665",
   "metadata": {},
   "outputs": [],
   "source": [
    "t = np.linspace(0,2*np.pi,1000)\n",
    "x = np.cos(t)\n",
    "y = np.sin(t)\n",
    "\n",
    "fig = plt.figure(figsize=(3,3))\n",
    "\n",
    "plt.plot(x,y)\n",
    "plt.plot(x + 3, y)"
   ]
  },
  {
   "cell_type": "markdown",
   "id": "bab8da0a-e6dd-40fa-8afe-f61b70bb6ed7",
   "metadata": {},
   "source": [
    "Now suppose we want to graph a second circle centered at $(3,0)$."
   ]
  },
  {
   "cell_type": "code",
   "execution_count": null,
   "id": "380fb14d-d58d-4f86-b14c-d0e46b0e26ac",
   "metadata": {},
   "outputs": [],
   "source": []
  },
  {
   "cell_type": "markdown",
   "id": "aacd5f6d-244a-4c92-b44d-fb34e0362775",
   "metadata": {},
   "source": [
    "We see that neither circle is circular. Unfortunately, using the figure size is not a robust way to set aspect ratios. Instead, we can take control of the aspect ratio through the `axes` object. To do so, we will need to add an `axes` object ourselves. Calling the `plt.subplot` function is one mechanism for adding an axes object to a figure."
   ]
  },
  {
   "cell_type": "code",
   "execution_count": null,
   "id": "e8ed15b0-97f3-4315-ad33-a75a86c97a39",
   "metadata": {},
   "outputs": [],
   "source": []
  },
  {
   "cell_type": "markdown",
   "id": "79882226-58e5-483d-bb2c-89aa3741e8ed",
   "metadata": {},
   "source": [
    "The `plt.subplot` function can take in an optional argument, `aspect`. We can use `aspect='equal'` to force an equal aspect ratio.\n",
    "\n",
    "Note: by default, Pyplot will shrink the figure to (approximately) the extents of the data. As a result, when forcing an equal aspect ratio, the resulting figure may end up smaller than the specified `figsize`."
   ]
  },
  {
   "cell_type": "code",
   "execution_count": null,
   "id": "483103ed-5eed-41a7-b59f-5249f9ede57c",
   "metadata": {},
   "outputs": [],
   "source": []
  },
  {
   "cell_type": "markdown",
   "id": "1b6cab50-b5c2-4863-a175-9b1ad5f90960",
   "metadata": {},
   "source": [
    "## Subplots"
   ]
  },
  {
   "cell_type": "markdown",
   "id": "0971235f-decb-4a2a-b499-f6f2253a1a51",
   "metadata": {},
   "source": [
    "We can call `plt.subplot` several times to create several axes objects within the same figure. In particular: `plt.subplot(r, c, n)` will create an axes object positioned within an `r` by `c` grid of subplots and insert the axes object in the `n`th position. These subplot positions are counted starting in the top-left corner, then proceeding left-to-right, then top-to-bottom.\n",
    "\n",
    "Note: Because `matplotlib.pyplot` is an implementation of plotting functions from MATLAB, which is not a 0-based indexing language, the subplot positions are counted starting from `1` rather than `0`.\n"
   ]
  },
  {
   "cell_type": "code",
   "execution_count": null,
   "id": "2125b2fd-adb3-4190-b7ec-6e41130f4945",
   "metadata": {},
   "outputs": [],
   "source": []
  },
  {
   "cell_type": "markdown",
   "id": "6d02aaaf-6635-4b6a-9e65-6d30d0bbc83d",
   "metadata": {},
   "source": [
    "**Exercise:** Create a $3\\times 4$ grid of subplots, where the $n^\\text{th}$ subplot graphs $y = \\cos(nt)$ over the interval $0 \\leq t \\leq 2\\pi$ for $n = 1, 2, \\dots, 12$. Add a title to each subplot identifying which function is being graphed."
   ]
  },
  {
   "cell_type": "code",
   "execution_count": null,
   "id": "8210c8ab-26f9-4479-b957-faf11a91c8b5",
   "metadata": {},
   "outputs": [],
   "source": []
  },
  {
   "cell_type": "markdown",
   "id": "a7589d24-3924-41bd-99fe-2bfdc20e983b",
   "metadata": {},
   "source": [
    "The `plt.suptitle` function can be used to add a title to a figure with several subplots. The `plt.tight_layout` function can be called to have Pyplot automatically adjust the subplot spacing to remove extraneous white space."
   ]
  },
  {
   "cell_type": "code",
   "execution_count": null,
   "id": "c5be9ced-2c21-4ffe-a38e-744e50344dca",
   "metadata": {},
   "outputs": [],
   "source": []
  },
  {
   "cell_type": "markdown",
   "id": "d2f59ec9-a967-4e67-a5d2-5d14bc2a485a",
   "metadata": {},
   "source": [
    "The arrangment of subplots can be quite flexible. For example, we can add subplots as parts of different grid layouts. Suppose we want to add three subplots to a figure, where the first two subplots are side by side in the first at the top of the figure, and the third subplot sits below the two upper subplots and spans the width of the figure.\n",
    "\n",
    "We can accomplish this by adding the first two subplots as part of a $2 \\times 2$ grid in the first and second positions, then adding the third subplot as part of a $2 \\times 1$ grid in the second position."
   ]
  },
  {
   "cell_type": "code",
   "execution_count": null,
   "id": "99b70d08-0fd9-4480-b648-df060b4eadb0",
   "metadata": {},
   "outputs": [],
   "source": []
  },
  {
   "cell_type": "markdown",
   "id": "dfc15290-6184-47af-939b-a85e97e63d6c",
   "metadata": {},
   "source": [
    "When adding a subplot with `plt.subplot`, the created axes object becomes \"active\", meaning that all plotting commands (e.g. `plt.plot`, `plt.title`, `plt.legend`, etc.) are directed toward the active axes. Sometimes we may want to go back and activate an earlier axes object to make additional changes. As long as we've stored the desired axes object (e.g. `ax = plt.subplot(...)`), then we can use the `plt.axes` function to re-activate the axes object and continue plotting to it."
   ]
  },
  {
   "cell_type": "code",
   "execution_count": null,
   "id": "1103a0e6-e240-4d56-ad12-51c4c5a5a69c",
   "metadata": {},
   "outputs": [],
   "source": []
  },
  {
   "cell_type": "markdown",
   "id": "942e017b-092d-40ab-8d86-e11727533712",
   "metadata": {},
   "source": [
    "The `plt.axes` function can also be used to insert an `axes` object with arbitrary position and size. To use `plt.axes` in this way, we supply a list input `[x_left, y_bottom, width, height]` where\n",
    " - `x_left` is the left edge of the axes object (measured between `0` and `1` where `0` is the at the far left and `1` is at the far right)\n",
    " - `y_bottom` is the bottom edge of the axes object (measured between `0` and `1` where `0` is at the bottom and `1` is at the top)\n",
    " - `width` is the width of the axes object (measured between `0` and `1` as a proportion of the full figure width)\n",
    " - `height` is the height of the axes object (measured between `0` and `1` as a proportion of the full figure height)"
   ]
  },
  {
   "cell_type": "code",
   "execution_count": null,
   "id": "daffafd6-9793-4b0f-9158-52b80b77ffe8",
   "metadata": {},
   "outputs": [],
   "source": []
  },
  {
   "cell_type": "markdown",
   "id": "0a8bc94c-76be-4925-a09a-63d237ce6830",
   "metadata": {},
   "source": [
    "## Multi-dimensional arrays\n",
    "\n",
    "So far, we've been working with 1-dimensional arrays (essentially lists of numbers)."
   ]
  },
  {
   "cell_type": "code",
   "execution_count": null,
   "id": "f22a880b-4319-4a55-be44-4df49e5f00ea",
   "metadata": {},
   "outputs": [],
   "source": []
  },
  {
   "cell_type": "markdown",
   "id": "918c76c5-4502-46f2-8cfc-818d34335b5e",
   "metadata": {},
   "source": [
    "We can also create multi-dimensional NumPy arrays. For example, we can reshape a 1D array into a compatible 2D shape using the `.reshape` method. The `.reshape` method takes in a sequence of integers that define the shape of the output array. For example, calling `.reshape(2,5)` on an array of length `10` will create an array containing `2` rows and `5` columns."
   ]
  },
  {
   "cell_type": "code",
   "execution_count": null,
   "id": "1fda49d6-1309-4ab3-ba1c-d83229c10fb3",
   "metadata": {},
   "outputs": [],
   "source": []
  },
  {
   "cell_type": "markdown",
   "id": "d1b9a7d6-c26e-4385-b580-f7e8c8f254c9",
   "metadata": {},
   "source": [
    "Just like with 1D arrays, we can perform arithmetic operations elementwise on 2D arrays:"
   ]
  },
  {
   "cell_type": "code",
   "execution_count": null,
   "id": "494adee3-157e-4074-a352-bd502498c84e",
   "metadata": {},
   "outputs": [],
   "source": []
  },
  {
   "cell_type": "markdown",
   "id": "b5d21d72-a587-40c7-9dc0-66dcf2e5df76",
   "metadata": {},
   "source": [
    "Each array has an attribute `.shape` that stores the shape of the array:"
   ]
  },
  {
   "cell_type": "code",
   "execution_count": null,
   "id": "c4bbdc23-1059-48e3-ac47-6a1e363b36d8",
   "metadata": {},
   "outputs": [],
   "source": []
  },
  {
   "cell_type": "markdown",
   "id": "e126947d-1ae8-4bd3-82a8-194018c0b002",
   "metadata": {},
   "source": [
    "We can also use `np.ones` or `np.zeros` to generate multi-dimensional arrays:"
   ]
  },
  {
   "cell_type": "code",
   "execution_count": null,
   "id": "7467ce49-bc60-4564-82a4-4161c25c58a7",
   "metadata": {},
   "outputs": [],
   "source": []
  },
  {
   "cell_type": "markdown",
   "id": "186d6c3c-da9a-4f4d-b7fa-555d4f2bb73c",
   "metadata": {},
   "source": [
    "We can use `plt.array` to convert a list of lists into an array. This only works if each \"inner\" list has the same length. For example, consider the a list of Pythagorean triples:"
   ]
  },
  {
   "cell_type": "code",
   "execution_count": null,
   "id": "5a5918d1-6278-4760-ac24-1d604add43f3",
   "metadata": {},
   "outputs": [],
   "source": [
    "ptriples = [[3, 4, 5],\n",
    "[4, 3, 5],\n",
    "[5, 12, 13],\n",
    "[6, 8, 10],\n",
    "[8, 6, 10],\n",
    "[8, 15, 17],\n",
    "[9, 12, 15],\n",
    "[12, 5, 13],\n",
    "[12, 9, 15],\n",
    "[12, 16, 20],\n",
    "[15, 8, 17],\n",
    "[15, 20, 25],\n",
    "[16, 12, 20],\n",
    "[20, 15, 25]]\n",
    "\n",
    "ptriples_array = np.array(ptriples)\n",
    "print(ptriples_array)"
   ]
  },
  {
   "cell_type": "markdown",
   "id": "f4190134-c19b-49e0-bea2-2f107141ddd5",
   "metadata": {},
   "source": [
    "With multi-dimensional arrays, we can slice across any axis of the array. This works just like regular list/array slicing, except that we can separately slice through a row, columm, or any other axis. For example, taking `[:,0]` will produce a slice consisting of elements from every row, but only the first column (e.g. the index-`0` column)."
   ]
  },
  {
   "cell_type": "code",
   "execution_count": null,
   "id": "4c3713e4-412a-48af-9c6d-9dbd4296d352",
   "metadata": {},
   "outputs": [],
   "source": []
  },
  {
   "cell_type": "markdown",
   "id": "c8dbc4cc-2a37-4665-930f-3add84f855d6",
   "metadata": {},
   "source": [
    "## Back to Project 2: Pythagorean triples\n",
    "\n",
    "It will be useful for the project to consider what are called, \"primitive Pythagorean triples\". We say that a Pythagorean triple $(a,b,c)$ is **primitive** if the greatest common divisor of $a$, $b$, and $c$ is $1$.\n",
    "\n",
    "**Math exercise:** A Pythagorean triple $(a,b,c)$ is primitive if and only if the greatest common divisor of $a$ and $b$ is $1$.\n",
    "\n",
    "We will call a Pythagorean double $(a,b)$ **primitive** if $a$ and $b$ have greatest common divisor $1$. It will be useful for the project to also plot only the primitive Pythagorean doubles. To that end, can we calculated greatest common divisors? Let's write our own `greatest_common_divisor` function:"
   ]
  },
  {
   "cell_type": "code",
   "execution_count": null,
   "id": "c9735625-43b7-46e5-aa11-bcd7b29d9ca0",
   "metadata": {},
   "outputs": [],
   "source": []
  },
  {
   "cell_type": "markdown",
   "id": "1c681066-808f-4c92-a04b-8161c858116e",
   "metadata": {},
   "source": [
    "Another way of calculating greatest common divisors is called \"the Euclidean algorithm.\" The algorithm works as follows:\n",
    " - Start with integers $a$ and $b$, and assume that $a \\leq b$\n",
    " - Subtract the smaller $a$ from the larger $b$, and replace the larger $b$ with the difference $b - a$\n",
    " - Repeat step 2 until one of the numbers is $0$. The other will be the greatest common divisor\n",
    "\n",
    "**Exercise:** Write a function to implement the Euclidean algorithm"
   ]
  },
  {
   "cell_type": "code",
   "execution_count": null,
   "id": "84691c77-eba4-48eb-a9d2-1704f42d282f",
   "metadata": {},
   "outputs": [],
   "source": []
  }
 ],
 "metadata": {
  "kernelspec": {
   "display_name": "Python 3 (ipykernel)",
   "language": "python",
   "name": "python3"
  },
  "language_info": {
   "codemirror_mode": {
    "name": "ipython",
    "version": 3
   },
   "file_extension": ".py",
   "mimetype": "text/x-python",
   "name": "python",
   "nbconvert_exporter": "python",
   "pygments_lexer": "ipython3",
   "version": "3.13.5"
  }
 },
 "nbformat": 4,
 "nbformat_minor": 5
}
