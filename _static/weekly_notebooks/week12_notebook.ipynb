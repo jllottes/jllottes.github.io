{
 "cells": [
  {
   "cell_type": "markdown",
   "id": "e46569e6",
   "metadata": {},
   "source": [
    "# Monday, April 14th"
   ]
  },
  {
   "cell_type": "markdown",
   "id": "40e91340",
   "metadata": {},
   "source": [
    "## A little more about dictionaries"
   ]
  },
  {
   "cell_type": "markdown",
   "id": "dd3629eb",
   "metadata": {},
   "source": [
    "We've seen some example of where dictionaries are a useful structure. Let's talk a little more about defining dictionaries:"
   ]
  },
  {
   "cell_type": "markdown",
   "id": "6d7dd3de",
   "metadata": {},
   "source": [
    "One way is to create an empty dictionary (using `{}`) and add elements to that dictionary."
   ]
  },
  {
   "cell_type": "code",
   "execution_count": 1,
   "id": "a2ee9bfd",
   "metadata": {},
   "outputs": [],
   "source": [
    "my_dict = {}\n",
    "\n",
    "my_dict['a'] = 'Hello'0\n",
    "my_dict[1] = 'I go with 1.'\n",
    "my_dict['Hello'] = 'Goodbye'"
   ]
  },
  {
   "cell_type": "code",
   "execution_count": 2,
   "id": "d51ef82b",
   "metadata": {},
   "outputs": [
    {
     "data": {
      "text/plain": [
       "{'a': 'Hello', 1: 'I go with 1.', 'Hello': 'Goodbye'}"
      ]
     },
     "execution_count": 2,
     "metadata": {},
     "output_type": "execute_result"
    }
   ],
   "source": [
    "my_dict"
   ]
  },
  {
   "cell_type": "markdown",
   "id": "95baf11e",
   "metadata": {},
   "source": [
    "We can also define a dictionary with a comma separated list of `<key>:<value>` pairs:"
   ]
  },
  {
   "cell_type": "code",
   "execution_count": 3,
   "id": "ccf23f87",
   "metadata": {},
   "outputs": [],
   "source": [
    "my_dict = {'a':'Hello', 1:'I go with 1.', 'Hello':'Goodbye'}"
   ]
  },
  {
   "cell_type": "code",
   "execution_count": 4,
   "id": "487c7147",
   "metadata": {},
   "outputs": [
    {
     "data": {
      "text/plain": [
       "{'a': 'Hello', 1: 'I go with 1.', 'Hello': 'Goodbye'}"
      ]
     },
     "execution_count": 4,
     "metadata": {},
     "output_type": "execute_result"
    }
   ],
   "source": [
    "my_dict"
   ]
  },
  {
   "cell_type": "markdown",
   "id": "979f4608",
   "metadata": {},
   "source": [
    "We can also use syntax similar to list comprehension to define dictionaries:"
   ]
  },
  {
   "cell_type": "code",
   "execution_count": 5,
   "id": "6544ec3d",
   "metadata": {},
   "outputs": [],
   "source": [
    "my_dict = {letter:number for number, letter in enumerate('abcde')}"
   ]
  },
  {
   "cell_type": "code",
   "execution_count": 6,
   "id": "a301d2e8",
   "metadata": {},
   "outputs": [
    {
     "data": {
      "text/plain": [
       "{'a': 0, 'b': 1, 'c': 2, 'd': 3, 'e': 4}"
      ]
     },
     "execution_count": 6,
     "metadata": {},
     "output_type": "execute_result"
    }
   ],
   "source": [
    "my_dict"
   ]
  },
  {
   "cell_type": "markdown",
   "id": "b88bd982",
   "metadata": {},
   "source": [
    "Once we have a dictionary, there are times when we may want to access just the keys, just the values, or the key/value pairs.\n",
    "\n",
    " - We can use the `.keys()` method to get a \"list\" of the keys. \n",
    " - We can use the `.values()` method to get a \"list\" of the values.\n",
    " - We can use the `.items()` method to get a \"list\" of key/value pairs."
   ]
  },
  {
   "cell_type": "code",
   "execution_count": 10,
   "id": "b1d4da56",
   "metadata": {},
   "outputs": [
    {
     "name": "stdout",
     "output_type": "stream",
     "text": [
      "a\n",
      "b\n",
      "c\n",
      "d\n",
      "e\n"
     ]
    }
   ],
   "source": [
    "for key in my_dict.keys():\n",
    "    print(key)"
   ]
  },
  {
   "cell_type": "code",
   "execution_count": 15,
   "id": "41a92584",
   "metadata": {},
   "outputs": [
    {
     "name": "stdout",
     "output_type": "stream",
     "text": [
      "0\n",
      "1\n",
      "2\n",
      "3\n",
      "4\n"
     ]
    }
   ],
   "source": [
    "for value in my_dict.values():\n",
    "    print(value)"
   ]
  },
  {
   "cell_type": "code",
   "execution_count": 16,
   "id": "2fec202a",
   "metadata": {},
   "outputs": [
    {
     "name": "stdout",
     "output_type": "stream",
     "text": [
      "('a', 0)\n",
      "('b', 1)\n",
      "('c', 2)\n",
      "('d', 3)\n",
      "('e', 4)\n"
     ]
    }
   ],
   "source": [
    "for item in my_dict.items():\n",
    "    print(item)"
   ]
  },
  {
   "cell_type": "code",
   "execution_count": 17,
   "id": "3a588c4d",
   "metadata": {},
   "outputs": [
    {
     "name": "stdout",
     "output_type": "stream",
     "text": [
      "a 0\n",
      "b 1\n",
      "c 2\n",
      "d 3\n",
      "e 4\n"
     ]
    }
   ],
   "source": [
    "for key, value in my_dict.items():\n",
    "    print(key, value)"
   ]
  },
  {
   "cell_type": "markdown",
   "id": "fa33fed6",
   "metadata": {},
   "source": [
    "## More about function arguments and dictionaries"
   ]
  },
  {
   "cell_type": "markdown",
   "id": "85cfeac5",
   "metadata": {},
   "source": [
    "Recall: We can define functions to take in a specified number of positional arguments and some optional default arguments."
   ]
  },
  {
   "cell_type": "code",
   "execution_count": 18,
   "id": "385fbf09",
   "metadata": {},
   "outputs": [],
   "source": [
    "def f(a,b,c,d=7,e=8):\n",
    "    return a+b+c+d+e"
   ]
  },
  {
   "cell_type": "code",
   "execution_count": 19,
   "id": "e6041f56",
   "metadata": {},
   "outputs": [
    {
     "data": {
      "text/plain": [
       "21"
      ]
     },
     "execution_count": 19,
     "metadata": {},
     "output_type": "execute_result"
    }
   ],
   "source": [
    "f(1,2,3)"
   ]
  },
  {
   "cell_type": "code",
   "execution_count": 20,
   "id": "e903e703",
   "metadata": {},
   "outputs": [
    {
     "data": {
      "text/plain": [
       "18"
      ]
     },
     "execution_count": 20,
     "metadata": {},
     "output_type": "execute_result"
    }
   ],
   "source": [
    "f(1,2,3,4)"
   ]
  },
  {
   "cell_type": "code",
   "execution_count": 21,
   "id": "c9995203",
   "metadata": {},
   "outputs": [
    {
     "data": {
      "text/plain": [
       "17"
      ]
     },
     "execution_count": 21,
     "metadata": {},
     "output_type": "execute_result"
    }
   ],
   "source": [
    "f(1,2,3,e=4)"
   ]
  },
  {
   "cell_type": "markdown",
   "id": "782f5354",
   "metadata": {},
   "source": [
    "Sometimes, it's helpful to be able to write functions where we don't know how many inputs it will accept, and/or we don't know what kinds of keyword arguments will be supplied."
   ]
  },
  {
   "cell_type": "markdown",
   "id": "9c59d3d7",
   "metadata": {},
   "source": [
    "For example, the `max` function can take in a comma separated list of values and will return the largest."
   ]
  },
  {
   "cell_type": "code",
   "execution_count": 22,
   "id": "95a6147a",
   "metadata": {},
   "outputs": [
    {
     "name": "stdout",
     "output_type": "stream",
     "text": [
      "Help on built-in function max in module builtins:\n",
      "\n",
      "max(...)\n",
      "    max(iterable, *[, default=obj, key=func]) -> value\n",
      "    max(arg1, arg2, *args, *[, key=func]) -> value\n",
      "    \n",
      "    With a single iterable argument, return its biggest item. The\n",
      "    default keyword-only argument specifies an object to return if\n",
      "    the provided iterable is empty.\n",
      "    With two or more arguments, return the largest argument.\n",
      "\n"
     ]
    }
   ],
   "source": [
    "help(max)"
   ]
  },
  {
   "cell_type": "code",
   "execution_count": 24,
   "id": "ff05c335",
   "metadata": {},
   "outputs": [
    {
     "data": {
      "text/plain": [
       "12"
      ]
     },
     "execution_count": 24,
     "metadata": {},
     "output_type": "execute_result"
    }
   ],
   "source": [
    "max(1,2,3,4,5,6,7,8,9,10,11,12)"
   ]
  },
  {
   "cell_type": "markdown",
   "id": "c18be3c3",
   "metadata": {},
   "source": [
    "To do this, we can use an `*` when defining a function to collect any unaccounted-for positional arguments:"
   ]
  },
  {
   "cell_type": "code",
   "execution_count": 25,
   "id": "20c293ff",
   "metadata": {},
   "outputs": [],
   "source": [
    "def f(a,b,*args):\n",
    "    print(a,b)\n",
    "    print(args)"
   ]
  },
  {
   "cell_type": "code",
   "execution_count": 26,
   "id": "d5e581d0",
   "metadata": {},
   "outputs": [
    {
     "name": "stdout",
     "output_type": "stream",
     "text": [
      "1 2\n",
      "()\n"
     ]
    }
   ],
   "source": [
    "f(1,2)"
   ]
  },
  {
   "cell_type": "code",
   "execution_count": 27,
   "id": "b99ef76e",
   "metadata": {},
   "outputs": [
    {
     "name": "stdout",
     "output_type": "stream",
     "text": [
      "1 2\n",
      "(3, 4, 5)\n"
     ]
    }
   ],
   "source": [
    "f(1,2,3,4,5)"
   ]
  },
  {
   "cell_type": "code",
   "execution_count": 28,
   "id": "3ce73c54",
   "metadata": {},
   "outputs": [],
   "source": [
    "def my_sum(*args):\n",
    "    return sum(args)"
   ]
  },
  {
   "cell_type": "code",
   "execution_count": 30,
   "id": "306d97f9",
   "metadata": {},
   "outputs": [
    {
     "data": {
      "text/plain": [
       "10"
      ]
     },
     "execution_count": 30,
     "metadata": {},
     "output_type": "execute_result"
    }
   ],
   "source": [
    "my_sum(1,2,3,4)"
   ]
  },
  {
   "cell_type": "code",
   "execution_count": 31,
   "id": "be6f5579",
   "metadata": {},
   "outputs": [],
   "source": [
    "def product(*args):\n",
    "    prod = 1\n",
    "    for arg in args:\n",
    "        prod *= arg\n",
    "    return prod"
   ]
  },
  {
   "cell_type": "code",
   "execution_count": 33,
   "id": "21d9c2a1",
   "metadata": {},
   "outputs": [
    {
     "data": {
      "text/plain": [
       "252"
      ]
     },
     "execution_count": 33,
     "metadata": {},
     "output_type": "execute_result"
    }
   ],
   "source": [
    "product(1,2,3,6,7)"
   ]
  },
  {
   "cell_type": "markdown",
   "id": "99473984",
   "metadata": {},
   "source": [
    "We can also use an `*` to unpack a list as positional arguments for a function:"
   ]
  },
  {
   "cell_type": "code",
   "execution_count": 41,
   "id": "3b0b75bb",
   "metadata": {},
   "outputs": [
    {
     "data": {
      "text/plain": [
       "24"
      ]
     },
     "execution_count": 41,
     "metadata": {},
     "output_type": "execute_result"
    }
   ],
   "source": [
    "product(*[1,2,3,4])"
   ]
  },
  {
   "cell_type": "markdown",
   "id": "7508f57f",
   "metadata": {},
   "source": [
    "## Dictionaries and keyword arguments"
   ]
  },
  {
   "cell_type": "markdown",
   "id": "1bc8ba22",
   "metadata": {},
   "source": [
    "Suppose we have a function that takes in some input variables `a`, `b`, `c`, `d`. Suppose we also have a dictionary with keys `'a'`, `'b'`, `'c'`, and `'d'`."
   ]
  },
  {
   "cell_type": "code",
   "execution_count": 34,
   "id": "e7714c75",
   "metadata": {},
   "outputs": [],
   "source": [
    "def f(a,b,c,d):\n",
    "    return a + b + c + d"
   ]
  },
  {
   "cell_type": "code",
   "execution_count": 35,
   "id": "0170429d",
   "metadata": {},
   "outputs": [],
   "source": [
    "my_dict = {'a':'Hello', 'b': ' ', 'c':'Goodbye', 'd':'!'}"
   ]
  },
  {
   "cell_type": "markdown",
   "id": "84eef2bd",
   "metadata": {},
   "source": [
    "We can use the dictionary to define keyword arguments to plug into our function using `**`:"
   ]
  },
  {
   "cell_type": "code",
   "execution_count": 36,
   "id": "14e937fe",
   "metadata": {},
   "outputs": [
    {
     "data": {
      "text/plain": [
       "'Hello Goodbye!'"
      ]
     },
     "execution_count": 36,
     "metadata": {},
     "output_type": "execute_result"
    }
   ],
   "source": [
    "f(**my_dict)"
   ]
  },
  {
   "cell_type": "code",
   "execution_count": 37,
   "id": "d4f2d322",
   "metadata": {},
   "outputs": [],
   "source": [
    "import matplotlib.pyplot as plt"
   ]
  },
  {
   "cell_type": "code",
   "execution_count": 39,
   "id": "481206c1",
   "metadata": {
    "scrolled": false
   },
   "outputs": [],
   "source": [
    "#help(plt.plot)"
   ]
  },
  {
   "cell_type": "markdown",
   "id": "8e03429f",
   "metadata": {},
   "source": [
    "Let's see an example in practice. Suppose that I want to plot several curves, each with the same linestyle and markerstyle."
   ]
  },
  {
   "cell_type": "code",
   "execution_count": 42,
   "id": "6a3d46c7",
   "metadata": {},
   "outputs": [],
   "source": [
    "import numpy as np\n",
    "import matplotlib.pyplot as plt"
   ]
  },
  {
   "cell_type": "code",
   "execution_count": 57,
   "id": "46f0e28c",
   "metadata": {},
   "outputs": [
    {
     "data": {
      "text/plain": [
       "[<matplotlib.lines.Line2D at 0x2b7318ad130>]"
      ]
     },
     "execution_count": 57,
     "metadata": {},
     "output_type": "execute_result"
    },
    {
     "data": {
      "image/png": "[encoded data removed]",
      "text/plain": [
       "<Figure size 640x480 with 1 Axes>"
      ]
     },
     "metadata": {},
     "output_type": "display_data"
    }
   ],
   "source": [
    "t = np.linspace(0,2*np.pi,1000)\n",
    "\n",
    "y1 = np.cos(t)\n",
    "y2 = np.sin(t)\n",
    "y3 = np.cos(t)**2\n",
    "y4 = np.sin(t)**2\n",
    "\n",
    "my_dict = {'linestyle':'dashed', 'linewidth':3}\n",
    "\n",
    "plt.plot(t,y1, **my_dict)\n",
    "plt.plot(t,y2, **my_dict)\n",
    "plt.plot(t,y3, **my_dict)\n",
    "plt.plot(t,y4, **my_dict)"
   ]
  },
  {
   "cell_type": "markdown",
   "id": "948fa12e",
   "metadata": {},
   "source": [
    "## Regular expressions"
   ]
  },
  {
   "cell_type": "markdown",
   "id": "1f7e3d6a",
   "metadata": {},
   "source": [
    "The regular expressions package, `re`, is a powerful tool for processing text data."
   ]
  },
  {
   "cell_type": "code",
   "execution_count": 75,
   "id": "c4a49692",
   "metadata": {},
   "outputs": [],
   "source": [
    "import re"
   ]
  },
  {
   "cell_type": "markdown",
   "id": "b1db3be3",
   "metadata": {},
   "source": [
    "We've seen how to use the `.replace` function to replace some text with new text:"
   ]
  },
  {
   "cell_type": "code",
   "execution_count": 79,
   "id": "83d3f8d6",
   "metadata": {},
   "outputs": [],
   "source": [
    "s = \"This string doesn't use contractions. The last sentence wasn't a lie.\""
   ]
  },
  {
   "cell_type": "code",
   "execution_count": 80,
   "id": "cfef602f",
   "metadata": {},
   "outputs": [
    {
     "data": {
      "text/plain": [
       "\"This string does not use contractions. The last sentence wasn't a lie.\""
      ]
     },
     "execution_count": 80,
     "metadata": {},
     "output_type": "execute_result"
    }
   ],
   "source": [
    "s.replace(\"doesn't\", 'does not')"
   ]
  },
  {
   "cell_type": "markdown",
   "id": "931869ba",
   "metadata": {},
   "source": [
    "In the above example, we explicitly replaced the string `doesn't` with `does not`."
   ]
  },
  {
   "cell_type": "markdown",
   "id": "ae37b491",
   "metadata": {},
   "source": [
    "Very often, we may want to make more flexible replacements. The `re` package gives us this flexibility. Some of the key functions that we will use are:\n",
    " - `re.findall`: this is used to find substrings that match a given pattern\n",
    " - `re.sub`: this used to replace substrings with desired text"
   ]
  },
  {
   "cell_type": "code",
   "execution_count": 83,
   "id": "5442343d",
   "metadata": {},
   "outputs": [
    {
     "name": "stdout",
     "output_type": "stream",
     "text": [
      "Help on function findall in module re:\n",
      "\n",
      "findall(pattern, string, flags=0)\n",
      "    Return a list of all non-overlapping matches in the string.\n",
      "    \n",
      "    If one or more capturing groups are present in the pattern, return\n",
      "    a list of groups; this will be a list of tuples if the pattern\n",
      "    has more than one group.\n",
      "    \n",
      "    Empty matches are included in the result.\n",
      "\n"
     ]
    }
   ],
   "source": [
    "help(re.findall)"
   ]
  },
  {
   "cell_type": "code",
   "execution_count": 93,
   "id": "d616d2dd",
   "metadata": {},
   "outputs": [],
   "source": [
    "s = 'This is a test string. Lalalala. Happy Monday! Tis the season.'"
   ]
  },
  {
   "cell_type": "code",
   "execution_count": 94,
   "id": "889bfe2f",
   "metadata": {},
   "outputs": [
    {
     "data": {
      "text/plain": [
       "['la', 'la', 'la']"
      ]
     },
     "execution_count": 94,
     "metadata": {},
     "output_type": "execute_result"
    }
   ],
   "source": [
    "re.findall('la', s)"
   ]
  },
  {
   "cell_type": "markdown",
   "id": "2baa24ab",
   "metadata": {},
   "source": [
    "The patterns that we use for regular expressions can be much more general than just explicit strings. For example,\n",
    " - `\\w` can be used to represent any word character\n",
    " - `\\d` can be used to represent any digit character\n",
    " - `\\s` can be used to represent any white space character"
   ]
  },
  {
   "cell_type": "code",
   "execution_count": 95,
   "id": "88858838",
   "metadata": {},
   "outputs": [
    {
     "data": {
      "text/plain": [
       "['his ', 'Tis ']"
      ]
     },
     "execution_count": 95,
     "metadata": {},
     "output_type": "execute_result"
    }
   ],
   "source": [
    "re.findall('\\w\\ws\\s', s)"
   ]
  },
  {
   "cell_type": "markdown",
   "id": "6fe492e0",
   "metadata": {},
   "source": [
    "Last time, I downloaded the text of Frankenstein. Let's read it in and explore it with regular expressions:"
   ]
  },
  {
   "cell_type": "code",
   "execution_count": 96,
   "id": "2186da6d",
   "metadata": {},
   "outputs": [],
   "source": [
    "with open('frankenstein.txt',encoding='utf-8') as f:\n",
    "    text = f.read()"
   ]
  },
  {
   "cell_type": "markdown",
   "id": "f1267790",
   "metadata": {},
   "source": [
    "Let's find all four letter words that end with `s`:"
   ]
  },
  {
   "cell_type": "code",
   "execution_count": 97,
   "id": "e98cf63f",
   "metadata": {},
   "outputs": [
    {
     "data": {
      "text/plain": [
       "['\\nThis ',\n",
       " ' this ',\n",
       " ' laws ',\n",
       " ' this ',\n",
       " ' this\\n',\n",
       " ' This ',\n",
       " ' this ',\n",
       " ' this\\n',\n",
       " ' this\\n',\n",
       " ' This ',\n",
       " ' seas ',\n",
       " ' this\\n',\n",
       " '\\nThis ',\n",
       " ' this ',\n",
       " ' pass ',\n",
       " '\\neyes ',\n",
       " ' this ',\n",
       " ' This\\n',\n",
       " ' owes ',\n",
       " ' pass ',\n",
       " ' this ',\n",
       " ' This ',\n",
       " ' pass ',\n",
       " ' Thus ',\n",
       " ' pass ',\n",
       " '\\nThis ',\n",
       " ' this ',\n",
       " ' this ',\n",
       " ' this ',\n",
       " ' this ',\n",
       " ' thus ',\n",
       " ' days ',\n",
       " ' this ',\n",
       " ' eyes ',\n",
       " ' does ',\n",
       " ' woes ',\n",
       " ' dogs ',\n",
       " '\\nThis ',\n",
       " ' this ',\n",
       " ' this ',\n",
       " ' this ',\n",
       " ' this ',\n",
       " ' foes ',\n",
       " ' this ',\n",
       " ' this ',\n",
       " '\\ndoes ',\n",
       " ' this ',\n",
       " ' this ',\n",
       " ' this ',\n",
       " ' this ',\n",
       " ' thus ',\n",
       " ' This ',\n",
       " ' This\\n',\n",
       " ' eyes ',\n",
       " ' days ',\n",
       " ' This ',\n",
       " ' this ',\n",
       " ' this ',\n",
       " ' This ',\n",
       " ' this ',\n",
       " ' ages ',\n",
       " '\\nthis ',\n",
       " ' this ',\n",
       " ' this ',\n",
       " ' this ',\n",
       " ' eyes ',\n",
       " ' lips ',\n",
       " ' eyes ',\n",
       " ' this ',\n",
       " ' laws ',\n",
       " ' this ',\n",
       " ' this ',\n",
       " ' this ',\n",
       " ' this ',\n",
       " ' this\\n',\n",
       " ' thus ',\n",
       " ' this ',\n",
       " ' laws ',\n",
       " ' this ',\n",
       " ' this ',\n",
       " ' this ',\n",
       " '\\nThus ',\n",
       " ' this ',\n",
       " ' thus ',\n",
       " ' laws ',\n",
       " ' this\\n',\n",
       " ' this ',\n",
       " ' This ',\n",
       " ' ties ',\n",
       " ' less ',\n",
       " ' this ',\n",
       " ' this ',\n",
       " ' this ',\n",
       " ' days ',\n",
       " ' uses ',\n",
       " ' days ',\n",
       " ' This ',\n",
       " ' this ',\n",
       " ' eyes ',\n",
       " ' keys ',\n",
       " ' eyes ',\n",
       " ' uses ',\n",
       " '\\nThus ',\n",
       " ' this ',\n",
       " ' less ',\n",
       " ' ways\\n',\n",
       " ' this ',\n",
       " ' this ',\n",
       " ' this\\n',\n",
       " ' this ',\n",
       " '\\nthis ',\n",
       " ' days ',\n",
       " ' this\\n',\n",
       " ' does ',\n",
       " ' days ',\n",
       " ' this ',\n",
       " ' this ',\n",
       " ' eyes\\n',\n",
       " ' this ',\n",
       " ' eyes ',\n",
       " ' this ',\n",
       " ' thus ',\n",
       " ' eyes ',\n",
       " ' this ',\n",
       " ' this ',\n",
       " ' this ',\n",
       " ' this ',\n",
       " ' kiss ',\n",
       " ' eyes ',\n",
       " ' jaws ',\n",
       " '\\nthis ',\n",
       " ' eyes ',\n",
       " ' this ',\n",
       " ' eyes ',\n",
       " ' less ',\n",
       " ' this ',\n",
       " ' eyes\\n',\n",
       " '\\nThis ',\n",
       " ' this ',\n",
       " '\\nbuds ',\n",
       " ' This ',\n",
       " ' this ',\n",
       " ' days ',\n",
       " ' this ',\n",
       " ' this\\n',\n",
       " '\\nasks ',\n",
       " ' This ',\n",
       " ' less\\n',\n",
       " ' does ',\n",
       " ' thus ',\n",
       " ' does ',\n",
       " ' This ',\n",
       " ' pass ',\n",
       " ' eyes ',\n",
       " ' this ',\n",
       " ' Miss ',\n",
       " ' this ',\n",
       " ' eyes ',\n",
       " ' thus ',\n",
       " ' eyes ',\n",
       " ' this\\n',\n",
       " ' this ',\n",
       " ' this ',\n",
       " ' this ',\n",
       " ' joys ',\n",
       " ' dews ',\n",
       " ' This ',\n",
       " ' this ',\n",
       " ' news ',\n",
       " ' eyes ',\n",
       " ' thus ',\n",
       " ' less ',\n",
       " ' days ',\n",
       " ' this ',\n",
       " ' this ',\n",
       " ' days ',\n",
       " ' pass ',\n",
       " ' pass ',\n",
       " ' this ',\n",
       " ' Alps ',\n",
       " ' lies ',\n",
       " ' This ',\n",
       " ' this ',\n",
       " ' this ',\n",
       " ' this ',\n",
       " ' this ',\n",
       " ' thus ',\n",
       " ' less ',\n",
       " ' this ',\n",
       " '\\nThis ',\n",
       " ' says ',\n",
       " '\\nThis ',\n",
       " ' this ',\n",
       " ' this ',\n",
       " '\\nthis ',\n",
       " ' eyes ',\n",
       " ' this ',\n",
       " ' this ',\n",
       " ' this ',\n",
       " ' this ',\n",
       " ' lips ',\n",
       " '\\nThis ',\n",
       " ' eyes ',\n",
       " '\\nThis ',\n",
       " ' eyes ',\n",
       " ' this ',\n",
       " ' lies ',\n",
       " ' this ',\n",
       " ' pass\\n',\n",
       " '\\nThus ',\n",
       " ' hers ',\n",
       " ' this ',\n",
       " ' this ',\n",
       " ' Thus ',\n",
       " ' This ',\n",
       " ' bids ',\n",
       " ' thus ',\n",
       " '\\nThus ',\n",
       " '\\nThis ',\n",
       " ' eyes ',\n",
       " '\\nThis ',\n",
       " ' this ',\n",
       " ' This ',\n",
       " ' this ',\n",
       " ' eyes ',\n",
       " '\\ndays ',\n",
       " ' this ',\n",
       " ' this ',\n",
       " '\\nThus ',\n",
       " ' this ',\n",
       " ' less\\n',\n",
       " ' This\\n',\n",
       " ' this\\n',\n",
       " ' days ',\n",
       " ' this ',\n",
       " ' does ',\n",
       " ' this ',\n",
       " ' this ',\n",
       " ' joys ',\n",
       " ' this ',\n",
       " ' this ',\n",
       " ' ties ',\n",
       " ' thus ',\n",
       " ' does ',\n",
       " ' this\\n',\n",
       " '\\nthis ',\n",
       " ' this ',\n",
       " ' this ',\n",
       " ' thus ',\n",
       " ' this ',\n",
       " ' This ',\n",
       " ' This\\n',\n",
       " ' dews ',\n",
       " ' eyes ',\n",
       " ' this ',\n",
       " ' eyes ',\n",
       " ' this ',\n",
       " ' this ',\n",
       " ' this ',\n",
       " ' this\\n',\n",
       " ' nuts ',\n",
       " ' this ',\n",
       " '\\nloss ',\n",
       " '\\nthis ',\n",
       " ' days ',\n",
       " ' This\\n',\n",
       " ' this ',\n",
       " ' This ',\n",
       " ' pass ',\n",
       " ' thus ',\n",
       " ' thus ',\n",
       " ' this ',\n",
       " ' this ',\n",
       " ' eyes ',\n",
       " ' this ',\n",
       " '\\nthus ',\n",
       " '\\neyes ',\n",
       " ' thus ',\n",
       " ' less ',\n",
       " ' this ',\n",
       " ' this ',\n",
       " ' This ',\n",
       " ' this ',\n",
       " ' this ',\n",
       " ' eyes ',\n",
       " ' thus\\n',\n",
       " ' this ',\n",
       " ' this ',\n",
       " ' eyes ',\n",
       " ' this ',\n",
       " ' this\\n',\n",
       " ' This ',\n",
       " ' this ',\n",
       " ' arts ',\n",
       " ' rays ',\n",
       " ' this ',\n",
       " ' eyes ',\n",
       " '\\neyes ',\n",
       " ' airs ',\n",
       " ' days ',\n",
       " ' days ',\n",
       " ' this ',\n",
       " ' this ',\n",
       " ' this\\n',\n",
       " ' this ',\n",
       " ' wars ',\n",
       " ' laws ',\n",
       " '\\nless ',\n",
       " ' this ',\n",
       " ' this ',\n",
       " ' This ',\n",
       " ' airs ',\n",
       " ' this ',\n",
       " ' news ',\n",
       " ' news ',\n",
       " ' This ',\n",
       " ' this ',\n",
       " ' thus ',\n",
       " ' this ',\n",
       " ' loss\\n',\n",
       " ' news ',\n",
       " ' this ',\n",
       " ' days ',\n",
       " ' this ',\n",
       " '\\nthis ',\n",
       " ' This ',\n",
       " ' this ',\n",
       " ' this ',\n",
       " ' this ',\n",
       " ' this ',\n",
       " ' this ',\n",
       " ' this ',\n",
       " ' this ',\n",
       " ' this ',\n",
       " ' this ',\n",
       " ' lips\\n',\n",
       " ' this ',\n",
       " ' this ',\n",
       " ' this ',\n",
       " ' days ',\n",
       " ' this\\n',\n",
       " ' eyes ',\n",
       " ' eyes ',\n",
       " '\\nthis ',\n",
       " ' pass\\n',\n",
       " ' eyes ',\n",
       " ' vows ',\n",
       " ' this ',\n",
       " ' this ',\n",
       " ' this\\n',\n",
       " '\\nthis ',\n",
       " ' this ',\n",
       " ' eyes ',\n",
       " ' this ',\n",
       " ' eyes ',\n",
       " ' Thus\\n',\n",
       " ' eyes ',\n",
       " ' hers ',\n",
       " ' laws ',\n",
       " ' days ',\n",
       " ' This ',\n",
       " ' This ',\n",
       " ' this ',\n",
       " ' eyes ',\n",
       " ' This ',\n",
       " ' this ',\n",
       " '\\nThis ',\n",
       " ' mass ',\n",
       " ' this ',\n",
       " ' ties ',\n",
       " '\\nThus ',\n",
       " ' thus ',\n",
       " ' pass ',\n",
       " ' this ',\n",
       " ' less ',\n",
       " ' this ',\n",
       " ' days ',\n",
       " ' thus ',\n",
       " ' this ',\n",
       " ' this ',\n",
       " ' this ',\n",
       " ' this ',\n",
       " ' thus\\n',\n",
       " ' this ',\n",
       " ' This ',\n",
       " ' thus ',\n",
       " ' This ',\n",
       " '\\nthis ',\n",
       " ' eyes ',\n",
       " ' days ',\n",
       " ' days ',\n",
       " ' this\\n',\n",
       " ' This ',\n",
       " ' this ',\n",
       " ' Pays ',\n",
       " ' this ',\n",
       " ' this ',\n",
       " ' this ',\n",
       " ' does ',\n",
       " ' this ',\n",
       " ' this ',\n",
       " ' this ',\n",
       " ' Does ',\n",
       " ' this ',\n",
       " ' days ',\n",
       " ' days ',\n",
       " ' this ',\n",
       " ' this\\n',\n",
       " ' this ',\n",
       " ' this ',\n",
       " ' days ',\n",
       " ' thus ',\n",
       " ' this ',\n",
       " ' this\\n',\n",
       " ' this\\n',\n",
       " ' lips\\n',\n",
       " ' this ',\n",
       " ' this ',\n",
       " '\\nthis ',\n",
       " ' days ',\n",
       " ' This ',\n",
       " ' this ',\n",
       " ' This ',\n",
       " ' days ',\n",
       " ' this ',\n",
       " ' days ',\n",
       " ' this ',\n",
       " ' Alps ',\n",
       " ' thus ',\n",
       " ' pass ',\n",
       " ' This ',\n",
       " ' eyes ',\n",
       " ' this ',\n",
       " ' this ',\n",
       " ' this ',\n",
       " ' This ',\n",
       " ' does ',\n",
       " ' this ',\n",
       " ' this ',\n",
       " ' this ',\n",
       " ' eyes\\n',\n",
       " '\\nThus ',\n",
       " ' eyes ',\n",
       " ' eyes ',\n",
       " ' this ',\n",
       " ' ages ',\n",
       " ' lips ',\n",
       " ' oars ',\n",
       " ' pass ',\n",
       " ' pass ',\n",
       " ' eyes ',\n",
       " ' ears ',\n",
       " ' This ',\n",
       " ' eyes ',\n",
       " ' this ',\n",
       " ' Thus ',\n",
       " ' this ',\n",
       " ' This ',\n",
       " ' this ',\n",
       " '\\nthis ',\n",
       " ' this ',\n",
       " '\\nthis ',\n",
       " '\\nThis ',\n",
       " ' this ',\n",
       " ' this ',\n",
       " ' this ',\n",
       " ' This ',\n",
       " ' this ',\n",
       " ' thus ',\n",
       " ' thus ',\n",
       " '\\nThis ',\n",
       " ' this ',\n",
       " ' eyes\\n',\n",
       " ' less ',\n",
       " ' this ',\n",
       " ' this ',\n",
       " ' this ',\n",
       " ' eyes ',\n",
       " '\\nthis ',\n",
       " ' does ',\n",
       " ' this ',\n",
       " ' this ',\n",
       " ' eyes ',\n",
       " ' eyes ',\n",
       " '\\norbs ',\n",
       " ' lids ',\n",
       " ' eyes ',\n",
       " ' fits ',\n",
       " ' this ',\n",
       " ' acts ',\n",
       " ' thus ',\n",
       " ' this ',\n",
       " ' this ',\n",
       " ' this ',\n",
       " ' this ',\n",
       " ' days ',\n",
       " ' less ',\n",
       " ' This ',\n",
       " '\\nthis ',\n",
       " ' this ',\n",
       " ' this ',\n",
       " ' this ',\n",
       " ' this ',\n",
       " ' this ',\n",
       " ' this ',\n",
       " ' this ',\n",
       " ' news ',\n",
       " '\\nlips ',\n",
       " ' this ',\n",
       " '\\nThis ',\n",
       " ' hers ',\n",
       " ' this ',\n",
       " ' this ',\n",
       " ' This ',\n",
       " ' eyes ',\n",
       " ' ties ',\n",
       " ' loss ',\n",
       " ' thus ',\n",
       " ' this ',\n",
       " ' days ',\n",
       " ' rays ',\n",
       " ' this\\n',\n",
       " ' this ',\n",
       " ' lies ',\n",
       " '\\nThus ',\n",
       " ' Alps ',\n",
       " ' this ',\n",
       " ' this ',\n",
       " ' arms ',\n",
       " ' This\\n',\n",
       " ' arms ',\n",
       " ' this ',\n",
       " ' arms ',\n",
       " ' nets ',\n",
       " ' this ',\n",
       " ' eyes ',\n",
       " ' this ',\n",
       " ' This ',\n",
       " ' this ',\n",
       " ' eyes ',\n",
       " ' days ',\n",
       " ' this ',\n",
       " ' thus ',\n",
       " ' this ',\n",
       " ' this ',\n",
       " '\\nThis ',\n",
       " ' dens ',\n",
       " ' this ',\n",
       " ' this ',\n",
       " ' does ',\n",
       " ' this ',\n",
       " ' lips ',\n",
       " ' this ',\n",
       " ' this ',\n",
       " ' this ',\n",
       " '\\neyes ',\n",
       " ' ears ',\n",
       " ' this ',\n",
       " '\\nthis ',\n",
       " '\\nthis ',\n",
       " ' arms ',\n",
       " ' ices ',\n",
       " ' this ',\n",
       " ' thus ',\n",
       " ' furs ',\n",
       " ' this ',\n",
       " ' dogs ',\n",
       " ' thus\\n',\n",
       " ' days ',\n",
       " ' this ',\n",
       " ' ices ',\n",
       " ' days ',\n",
       " ' this ',\n",
       " ' this ',\n",
       " ' this ',\n",
       " ' dogs ',\n",
       " '\\nthus ',\n",
       " ' this ',\n",
       " ' dogs ',\n",
       " ' seas ',\n",
       " '\\nwoes ',\n",
       " ' this ',\n",
       " ' eyes\\n',\n",
       " ' this ',\n",
       " ' does ',\n",
       " '\\nThus ',\n",
       " ' this ',\n",
       " ' This ',\n",
       " ' days\\n',\n",
       " ' thus ',\n",
       " ' This ',\n",
       " ' less ',\n",
       " '\\nthis ',\n",
       " ' this ',\n",
       " ' this ',\n",
       " '\\nseas ',\n",
       " ' ties ',\n",
       " ' this ',\n",
       " ' this ',\n",
       " ' this ',\n",
       " '\\nThis ',\n",
       " '\\neyes ',\n",
       " '\\nThis ',\n",
       " ' this ',\n",
       " ' eyes ',\n",
       " ' this ',\n",
       " ' this ',\n",
       " ' this\\n',\n",
       " ' this ',\n",
       " '\\nthus ',\n",
       " ' This ',\n",
       " ' this ',\n",
       " ' this ',\n",
       " '\\nThus ',\n",
       " ' this ',\n",
       " ' this ',\n",
       " ' eyes ',\n",
       " ' days ',\n",
       " ' This ',\n",
       " ' this ',\n",
       " ' this ',\n",
       " ' this ',\n",
       " '\\nthis ',\n",
       " ' this ',\n",
       " ' eyes ',\n",
       " ' this\\n',\n",
       " ' this\\n',\n",
       " ' eyes ',\n",
       " ' this ',\n",
       " ' does ',\n",
       " ' this ',\n",
       " ' eyes ',\n",
       " ' this ',\n",
       " ' thus ',\n",
       " ' eyes ',\n",
       " ' this ',\n",
       " ' this\\n',\n",
       " ' this ',\n",
       " ' pass ',\n",
       " ' this ',\n",
       " ' this ',\n",
       " '\\neyes ',\n",
       " ' owns ',\n",
       " ' this ',\n",
       " ' this ',\n",
       " ' this ',\n",
       " ' this ',\n",
       " ' this ',\n",
       " ' this ',\n",
       " ' this ',\n",
       " ' this ',\n",
       " ' this ',\n",
       " ' this ',\n",
       " ' this ',\n",
       " ' this\\n',\n",
       " ' owns ',\n",
       " ' this ',\n",
       " ' this ',\n",
       " ' this ',\n",
       " ' laws ',\n",
       " ' this ',\n",
       " ' laws ',\n",
       " ' laws ',\n",
       " ' this\\n',\n",
       " ' this ',\n",
       " ' This ',\n",
       " ' this ',\n",
       " ' laws\\n',\n",
       " ' this ',\n",
       " ' fees ',\n",
       " ' this ',\n",
       " ' this ',\n",
       " ' this\\n',\n",
       " ' this\\n',\n",
       " ' this ',\n",
       " ' this ',\n",
       " ' this ',\n",
       " ' days ',\n",
       " ' days ',\n",
       " ' does ',\n",
       " ' days ',\n",
       " ' this ',\n",
       " ' this ',\n",
       " ' this ',\n",
       " ' this ',\n",
       " ' days ',\n",
       " ' this ',\n",
       " ' this ',\n",
       " ' this ',\n",
       " ' this ',\n",
       " ' this ',\n",
       " ' this\\n',\n",
       " ' laws ',\n",
       " ' laws ',\n",
       " ' laws ',\n",
       " ' fees ',\n",
       " ' laws ',\n",
       " '\\nways ',\n",
       " '\\nThis ']"
      ]
     },
     "execution_count": 97,
     "metadata": {},
     "output_type": "execute_result"
    }
   ],
   "source": [
    "re.findall('\\s\\w\\w\\ws\\s', text)"
   ]
  },
  {
   "cell_type": "markdown",
   "id": "9d9ca93a",
   "metadata": {},
   "source": [
    "Rather than using `\\s` to signify a space before or after our words, we can also use `\\b` to designate a \"boundary character\", which is a letter character that is adjacent to white space (or puncutation)."
   ]
  },
  {
   "cell_type": "code",
   "execution_count": 106,
   "id": "159a588d",
   "metadata": {},
   "outputs": [
    {
     "data": {
      "text/plain": [
       "{'Albertus',\n",
       " 'Asiatics',\n",
       " 'Darkness',\n",
       " 'Generous',\n",
       " 'Grecians',\n",
       " 'Idleness',\n",
       " 'Italians',\n",
       " 'Lycurgus',\n",
       " 'Phillips',\n",
       " 'Pitiless',\n",
       " 'Sections',\n",
       " '_Sorrows',\n",
       " 'accounts',\n",
       " 'agitates',\n",
       " 'analysis',\n",
       " 'arbiters',\n",
       " 'arteries',\n",
       " 'articles',\n",
       " 'attempts',\n",
       " 'attracts',\n",
       " 'auguries',\n",
       " 'barriers',\n",
       " 'beauties',\n",
       " 'believes',\n",
       " 'benefits',\n",
       " 'blankets',\n",
       " 'brambles',\n",
       " 'branches',\n",
       " 'breakers',\n",
       " 'brothers',\n",
       " 'business',\n",
       " 'cabinets',\n",
       " 'calmness',\n",
       " 'caprices',\n",
       " 'careless',\n",
       " 'caresses',\n",
       " 'chemists',\n",
       " 'chimeras',\n",
       " 'coldness',\n",
       " 'colleges',\n",
       " 'composes',\n",
       " 'comrades',\n",
       " 'condemns',\n",
       " 'confines',\n",
       " 'confirms',\n",
       " 'consoles',\n",
       " 'consumes',\n",
       " 'contents',\n",
       " 'coolness',\n",
       " 'cottages',\n",
       " 'creators',\n",
       " 'crevices',\n",
       " 'darkness',\n",
       " 'delights',\n",
       " 'deprives',\n",
       " 'descends',\n",
       " 'desirous',\n",
       " 'detracts',\n",
       " 'dialects',\n",
       " 'displays',\n",
       " 'distress',\n",
       " 'disturbs',\n",
       " 'dungeons',\n",
       " 'editions',\n",
       " 'elements',\n",
       " 'elevates',\n",
       " 'emotions',\n",
       " 'energies',\n",
       " 'environs',\n",
       " 'epithets',\n",
       " 'expenses',\n",
       " 'extremes',\n",
       " 'eyeballs',\n",
       " 'families',\n",
       " 'fatigues',\n",
       " 'fearless',\n",
       " 'features',\n",
       " 'feelings',\n",
       " 'firmness',\n",
       " 'foldings',\n",
       " 'fondness',\n",
       " 'forsakes',\n",
       " 'fortunes',\n",
       " 'founders',\n",
       " 'generous',\n",
       " 'gestures',\n",
       " 'glaciers',\n",
       " 'gladness',\n",
       " 'glimmers',\n",
       " 'glorious',\n",
       " 'goodness',\n",
       " 'harmless',\n",
       " 'heatless',\n",
       " 'helpless',\n",
       " 'homeless',\n",
       " 'hopeless',\n",
       " 'howlings',\n",
       " 'hundreds',\n",
       " 'idleness',\n",
       " 'implores',\n",
       " 'impulses',\n",
       " 'includes',\n",
       " 'infidels',\n",
       " 'inhabits',\n",
       " 'injuries',\n",
       " 'instants',\n",
       " 'kindness',\n",
       " 'kingdoms',\n",
       " 'lectures',\n",
       " 'lifeless',\n",
       " 'listless',\n",
       " 'loudness',\n",
       " 'lustrous',\n",
       " 'luxuries',\n",
       " 'machines',\n",
       " 'measures',\n",
       " 'mildness',\n",
       " 'miracles',\n",
       " 'miseries',\n",
       " 'mistress',\n",
       " 'monsters',\n",
       " 'nameless',\n",
       " 'notifies',\n",
       " 'numerous',\n",
       " 'opinions',\n",
       " 'outlines',\n",
       " 'outrages',\n",
       " 'painters',\n",
       " 'passages',\n",
       " 'passions',\n",
       " 'pathless',\n",
       " 'pathways',\n",
       " 'payments',\n",
       " 'peasants',\n",
       " 'performs',\n",
       " 'perilous',\n",
       " 'pictures',\n",
       " 'politics',\n",
       " 'pollutes',\n",
       " 'populous',\n",
       " 'precepts',\n",
       " 'precious',\n",
       " 'presents',\n",
       " 'prevents',\n",
       " 'previous',\n",
       " 'produces',\n",
       " 'progress',\n",
       " 'projects',\n",
       " 'promises',\n",
       " 'purposes',\n",
       " 'pursuits',\n",
       " 'pyramids',\n",
       " 'quarters',\n",
       " 'ravenous',\n",
       " 'recesses',\n",
       " 'reflects',\n",
       " 'relapses',\n",
       " 'remnants',\n",
       " 'repulses',\n",
       " 'requires',\n",
       " 'respects',\n",
       " 'restless',\n",
       " 'retreats',\n",
       " 'reveries',\n",
       " 'reverses',\n",
       " 'roarings',\n",
       " 'sciences',\n",
       " 'sedulous',\n",
       " 'servants',\n",
       " 'services',\n",
       " 'shutters',\n",
       " 'sickness',\n",
       " 'slumbers',\n",
       " 'snatches',\n",
       " 'softness',\n",
       " 'sophisms',\n",
       " 'steeples',\n",
       " 'stimulus',\n",
       " 'students',\n",
       " 'subjects',\n",
       " 'suppress',\n",
       " 'symptoms',\n",
       " 'teachers',\n",
       " 'theories',\n",
       " 'thoughts',\n",
       " 'thunders',\n",
       " 'timorous',\n",
       " 'torments',\n",
       " 'torrents',\n",
       " 'tortures',\n",
       " 'turnkeys',\n",
       " 'ugliness',\n",
       " 'utensils',\n",
       " 'vagrants',\n",
       " 'ventures',\n",
       " 'vigorous',\n",
       " 'villains',\n",
       " 'violates',\n",
       " 'virtuous',\n",
       " 'weakness',\n",
       " 'whispers',\n",
       " 'wildness',\n",
       " 'wiliness',\n",
       " 'windings',\n",
       " 'wondrous',\n",
       " 'writings'}"
      ]
     },
     "execution_count": 106,
     "metadata": {},
     "output_type": "execute_result"
    }
   ],
   "source": [
    "set(re.findall(r'\\b\\w\\w\\w\\w\\w\\w\\ws\\b', text))"
   ]
  },
  {
   "cell_type": "markdown",
   "id": "6f3ef96a",
   "metadata": {},
   "source": [
    "Instead of manually typing in 8 different `\\w` word characters, we can write `\\w{8}` to denote 8 `\\w` characters."
   ]
  },
  {
   "cell_type": "code",
   "execution_count": 117,
   "id": "07f77a4a",
   "metadata": {},
   "outputs": [
    {
     "data": {
      "text/plain": [
       "{'accomplishments',\n",
       " 'classifications',\n",
       " 'considerateness',\n",
       " 'disappointments',\n",
       " 'impossibilities',\n",
       " 'inquisitiveness',\n",
       " 'representations'}"
      ]
     },
     "execution_count": 117,
     "metadata": {},
     "output_type": "execute_result"
    }
   ],
   "source": [
    "set(re.findall(r'\\b\\w{14}s\\b', text))"
   ]
  },
  {
   "cell_type": "code",
   "execution_count": 125,
   "id": "04af92cf",
   "metadata": {},
   "outputs": [],
   "source": [
    "s = 'Today is 4/14/2025. Tomorrow is 4/15/2025. The time is 4:43PM. In eight hours, it will be 12:43AM.' "
   ]
  },
  {
   "cell_type": "code",
   "execution_count": 119,
   "id": "f8949d6f",
   "metadata": {},
   "outputs": [
    {
     "data": {
      "text/plain": [
       "['4/14/2025', '4/15/2025']"
      ]
     },
     "execution_count": 119,
     "metadata": {},
     "output_type": "execute_result"
    }
   ],
   "source": [
    "re.findall('\\d{,2}/\\d{,2}/\\d{4}', s)"
   ]
  },
  {
   "cell_type": "markdown",
   "id": "1452057a",
   "metadata": {},
   "source": [
    "We can use square brackets to specify a collection of valid characters to match:"
   ]
  },
  {
   "cell_type": "code",
   "execution_count": 128,
   "id": "1fb0d9cf",
   "metadata": {},
   "outputs": [
    {
     "data": {
      "text/plain": [
       "['4:43PM', '12:43AM']"
      ]
     },
     "execution_count": 128,
     "metadata": {},
     "output_type": "execute_result"
    }
   ],
   "source": [
    "re.findall('\\d{,2}:\\d{2}[AP]M', s)"
   ]
  },
  {
   "cell_type": "markdown",
   "id": "02f5d849",
   "metadata": {},
   "source": [
    "Suppose we want to replace dates that are in the format `mm/dd/YYY` with a new format, `mm - dd - YYYY`."
   ]
  },
  {
   "cell_type": "code",
   "execution_count": 132,
   "id": "b892ba85",
   "metadata": {},
   "outputs": [
    {
     "name": "stdout",
     "output_type": "stream",
     "text": [
      "Help on function sub in module re:\n",
      "\n",
      "sub(pattern, repl, string, count=0, flags=0)\n",
      "    Return the string obtained by replacing the leftmost\n",
      "    non-overlapping occurrences of the pattern in string by the\n",
      "    replacement repl.  repl can be either a string or a callable;\n",
      "    if a string, backslash escapes in it are processed.  If it is\n",
      "    a callable, it's passed the Match object and must return\n",
      "    a replacement string to be used.\n",
      "\n"
     ]
    }
   ],
   "source": [
    "help(re.sub)"
   ]
  },
  {
   "cell_type": "code",
   "execution_count": 136,
   "id": "caa60a10",
   "metadata": {},
   "outputs": [],
   "source": [
    "def reformat_date(date):\n",
    "    return date.group(0).replace('/', ' - ')"
   ]
  },
  {
   "cell_type": "code",
   "execution_count": 137,
   "id": "6491e47d",
   "metadata": {},
   "outputs": [
    {
     "data": {
      "text/plain": [
       "'Today is 4 - 14 - 2025. Tomorrow is 4 - 15 - 2025. The time is 4:43PM. In eight hours, it will be 12:43AM.'"
      ]
     },
     "execution_count": 137,
     "metadata": {},
     "output_type": "execute_result"
    }
   ],
   "source": [
    "re.sub('\\d{,2}/\\d{,2}/\\d{4}', reformat_date, s)"
   ]
  },
  {
   "cell_type": "code",
   "execution_count": null,
   "id": "1f9e91e7",
   "metadata": {},
   "outputs": [],
   "source": []
  }
 ],
 "metadata": {
  "kernelspec": {
   "display_name": "Python 3 (ipykernel)",
   "language": "python",
   "name": "python3"
  },
  "language_info": {
   "codemirror_mode": {
    "name": "ipython",
    "version": 3
   },
   "file_extension": ".py",
   "mimetype": "text/x-python",
   "name": "python",
   "nbconvert_exporter": "python",
   "pygments_lexer": "ipython3",
   "version": "3.9.21"
  }
 },
 "nbformat": 4,
 "nbformat_minor": 5
}
