{
 "cells": [
  {
   "cell_type": "markdown",
   "id": "61500042",
   "metadata": {},
   "source": [
    "# Monday, April 24th, 2023"
   ]
  },
  {
   "cell_type": "markdown",
   "id": "65c6e033",
   "metadata": {},
   "source": [
    "## Dictionaries in Python\n",
    "\n",
    "A dictionary is a collection items \"indexed\" by keys.\n",
    "\n",
    "We can define a dictionary using the syntax `{key1:value1, key2:value2, key3:value3,...}`"
   ]
  },
  {
   "cell_type": "code",
   "execution_count": 1,
   "id": "fec730f2",
   "metadata": {},
   "outputs": [],
   "source": [
    "my_dict = {'Tyler': 'Sophomore',\n",
    "           'Keith': 'Sophomore',\n",
    "           'Pierce': 'Senior'}"
   ]
  },
  {
   "cell_type": "code",
   "execution_count": 2,
   "id": "90f947ed",
   "metadata": {},
   "outputs": [
    {
     "data": {
      "text/plain": [
       "{'Tyler': 'Sophomore', 'Keith': 'Sophomore', 'Pierce': 'Senior'}"
      ]
     },
     "execution_count": 2,
     "metadata": {},
     "output_type": "execute_result"
    }
   ],
   "source": [
    "my_dict"
   ]
  },
  {
   "cell_type": "markdown",
   "id": "149da13b",
   "metadata": {},
   "source": [
    "We can access values of our dictionary just like with lists:"
   ]
  },
  {
   "cell_type": "code",
   "execution_count": 3,
   "id": "91f15d0d",
   "metadata": {},
   "outputs": [
    {
     "data": {
      "text/plain": [
       "'Senior'"
      ]
     },
     "execution_count": 3,
     "metadata": {},
     "output_type": "execute_result"
    }
   ],
   "source": [
    "my_dict['Pierce']"
   ]
  },
  {
   "cell_type": "markdown",
   "id": "820a4ae1",
   "metadata": {},
   "source": [
    "We can add additional elements to a dictionary with `my_dict[key4] = value4`"
   ]
  },
  {
   "cell_type": "code",
   "execution_count": 5,
   "id": "ffd3ae02",
   "metadata": {},
   "outputs": [],
   "source": [
    "my_dict['Giacomo'] = 'Junior'"
   ]
  },
  {
   "cell_type": "code",
   "execution_count": 6,
   "id": "5ae8495d",
   "metadata": {},
   "outputs": [
    {
     "data": {
      "text/plain": [
       "{'Tyler': 'Sophomore',\n",
       " 'Keith': 'Sophomore',\n",
       " 'Pierce': 'Senior',\n",
       " 'Giacomo': 'Junior'}"
      ]
     },
     "execution_count": 6,
     "metadata": {},
     "output_type": "execute_result"
    }
   ],
   "source": [
    "my_dict"
   ]
  },
  {
   "cell_type": "markdown",
   "id": "ac3b1927",
   "metadata": {},
   "source": [
    "We can use comprehensions to generate dictionaries:"
   ]
  },
  {
   "cell_type": "code",
   "execution_count": 9,
   "id": "55ac5f5a",
   "metadata": {},
   "outputs": [
    {
     "data": {
      "text/plain": [
       "{'a': 0, 'b': 1, 'c': 2, 'd': 3, 'e': 4, 'f': 5, 'g': 6}"
      ]
     },
     "execution_count": 9,
     "metadata": {},
     "output_type": "execute_result"
    }
   ],
   "source": [
    "{key:value for key,value in zip('abcdefg',range(7))}"
   ]
  },
  {
   "cell_type": "markdown",
   "id": "6879ab78",
   "metadata": {},
   "source": [
    "We can access separately the keys and values of a dictionary using `my_dict.keys()` and `my_dict.values()`:"
   ]
  },
  {
   "cell_type": "code",
   "execution_count": 10,
   "id": "94d25851",
   "metadata": {},
   "outputs": [
    {
     "data": {
      "text/plain": [
       "dict_keys(['Tyler', 'Keith', 'Pierce', 'Giacomo'])"
      ]
     },
     "execution_count": 10,
     "metadata": {},
     "output_type": "execute_result"
    }
   ],
   "source": [
    "my_dict.keys()"
   ]
  },
  {
   "cell_type": "code",
   "execution_count": 11,
   "id": "fad76a80",
   "metadata": {},
   "outputs": [
    {
     "data": {
      "text/plain": [
       "dict_values(['Sophomore', 'Sophomore', 'Senior', 'Junior'])"
      ]
     },
     "execution_count": 11,
     "metadata": {},
     "output_type": "execute_result"
    }
   ],
   "source": [
    "my_dict.values()"
   ]
  },
  {
   "cell_type": "markdown",
   "id": "dd4774e1",
   "metadata": {},
   "source": [
    "We can check if a key exists in a dictionary:"
   ]
  },
  {
   "cell_type": "code",
   "execution_count": 12,
   "id": "71efe7bd",
   "metadata": {},
   "outputs": [
    {
     "data": {
      "text/plain": [
       "False"
      ]
     },
     "execution_count": 12,
     "metadata": {},
     "output_type": "execute_result"
    }
   ],
   "source": [
    "'Jon' in my_dict"
   ]
  },
  {
   "cell_type": "markdown",
   "id": "33d2b8e4",
   "metadata": {},
   "source": [
    "We can also pair up keys and values for looping through using `my_dict.items()`:"
   ]
  },
  {
   "cell_type": "code",
   "execution_count": 13,
   "id": "451474ca",
   "metadata": {},
   "outputs": [
    {
     "data": {
      "text/plain": [
       "dict_items([('Tyler', 'Sophomore'), ('Keith', 'Sophomore'), ('Pierce', 'Senior'), ('Giacomo', 'Junior')])"
      ]
     },
     "execution_count": 13,
     "metadata": {},
     "output_type": "execute_result"
    }
   ],
   "source": [
    "my_dict.items()"
   ]
  },
  {
   "cell_type": "code",
   "execution_count": 14,
   "id": "d3bccfbf",
   "metadata": {},
   "outputs": [
    {
     "name": "stdout",
     "output_type": "stream",
     "text": [
      "Tyler Sophomore\n",
      "Keith Sophomore\n",
      "Pierce Senior\n",
      "Giacomo Junior\n"
     ]
    }
   ],
   "source": [
    "for key, value in my_dict.items():\n",
    "    print(key, value)"
   ]
  },
  {
   "cell_type": "markdown",
   "id": "c0b01432",
   "metadata": {},
   "source": [
    "## Requests"
   ]
  },
  {
   "cell_type": "markdown",
   "id": "ec8807cd",
   "metadata": {},
   "source": [
    "The `requests` package is used to access internet pages."
   ]
  },
  {
   "cell_type": "code",
   "execution_count": 15,
   "id": "5a970cd8",
   "metadata": {},
   "outputs": [],
   "source": [
    "import requests"
   ]
  },
  {
   "cell_type": "code",
   "execution_count": 21,
   "id": "66bbbb01",
   "metadata": {},
   "outputs": [],
   "source": [
    "#help(requests)"
   ]
  },
  {
   "cell_type": "code",
   "execution_count": 22,
   "id": "3405332d",
   "metadata": {},
   "outputs": [],
   "source": [
    "page = requests.get('https://jllottes.github.io/Schedule/week_12.html')"
   ]
  },
  {
   "cell_type": "code",
   "execution_count": 25,
   "id": "a93cc714",
   "metadata": {},
   "outputs": [],
   "source": [
    "#help(page)"
   ]
  },
  {
   "cell_type": "code",
   "execution_count": 27,
   "id": "74b103bd",
   "metadata": {
    "scrolled": false
   },
   "outputs": [
    {
     "name": "stdout",
     "output_type": "stream",
     "text": [
      "<!DOCTYPE html>\n",
      "<html class=\"writer-html5\" lang=\"en\" >\n",
      "<head>\n",
      "  <meta charset=\"utf-8\" /><meta name=\"generator\" content=\"Docutils 0.18.1: http://docutils.sourceforge.net/\" />\n",
      "\n",
      "  <meta name=\"viewport\" content=\"width=device-width, initial-scale=1.0\" />\n",
      "  <title>Week 12: Apr 24 - Apr 28 &mdash; MTH 337 - Spring 2023  documentation</title>\n",
      "      <link rel=\"stylesheet\" href=\"../_static/pygments.css\" type=\"text/css\" />\n",
      "      <link rel=\"stylesheet\" href=\"../_static/css/theme.css\" type=\"text/css\" />\n",
      "    \n"
     ]
    }
   ],
   "source": [
    "print(page.text[:500])"
   ]
  },
  {
   "cell_type": "markdown",
   "id": "1d744f20",
   "metadata": {},
   "source": [
    "This HTML page is a little complicated for now, so let's find a simpler webpage.\n",
    "\n",
    "We can use [Project Gutenberg](https://www.gutenberg.org/) to access public domain books:"
   ]
  },
  {
   "cell_type": "code",
   "execution_count": 28,
   "id": "c9d62c3e",
   "metadata": {},
   "outputs": [],
   "source": [
    "page = requests.get('https://www.gutenberg.org/cache/epub/70635/pg70635.txt')"
   ]
  },
  {
   "cell_type": "code",
   "execution_count": 29,
   "id": "23cdd7c2",
   "metadata": {},
   "outputs": [
    {
     "name": "stdout",
     "output_type": "stream",
     "text": [
      "﻿The Project Gutenberg eBook of Lively plays for live people, by\r\n",
      "Thomas Stewart Denison\r\n",
      "\r\n",
      "This eBook is for the use of anyone anywhere in the United States and\r\n",
      "most other parts of the world at no cost and with almost no restrictions\r\n",
      "whatsoever. You may copy it, give it away or re-use it under the terms\r\n",
      "of the Project Gutenberg License included with this eBook or online at\r\n",
      "www.gutenberg.org. If you are not located in the United States, you\r\n",
      "will have to check the laws of the country where y\n"
     ]
    }
   ],
   "source": [
    "print(page.text[:500])"
   ]
  },
  {
   "cell_type": "markdown",
   "id": "338d21ad",
   "metadata": {},
   "source": [
    "**Exercise:** Select some book from Project Gutenberg\n",
    "- Use `requests` to download the text\n",
    "- Create a dictionary whose keys are words that appear in the text and whose values are the number of times that word appears"
   ]
  },
  {
   "cell_type": "code",
   "execution_count": null,
   "id": "a49ac1ef",
   "metadata": {},
   "outputs": [],
   "source": [
    "word_count_dict = {}"
   ]
  },
  {
   "cell_type": "code",
   "execution_count": 36,
   "id": "d46e6389",
   "metadata": {},
   "outputs": [
    {
     "name": "stdout",
     "output_type": "stream",
     "text": [
      "Tyler\n",
      "Keith\n"
     ]
    }
   ],
   "source": [
    "for key,value in my_dict.items():\n",
    "    if value == 'Sophomore':\n",
    "        print(key)"
   ]
  },
  {
   "cell_type": "code",
   "execution_count": 37,
   "id": "da9e99ba",
   "metadata": {},
   "outputs": [],
   "source": [
    "my_dict = {'the':100, 'is':50, 'hi':75, 'three':3}"
   ]
  },
  {
   "cell_type": "code",
   "execution_count": 38,
   "id": "2667ab50",
   "metadata": {},
   "outputs": [
    {
     "data": {
      "text/plain": [
       "{'the': 100, 'is': 50, 'hi': 75, 'three': 3}"
      ]
     },
     "execution_count": 38,
     "metadata": {},
     "output_type": "execute_result"
    }
   ],
   "source": [
    "my_dict"
   ]
  },
  {
   "cell_type": "markdown",
   "id": "3ec2ae66",
   "metadata": {},
   "source": [
    "Can we sort the items in a dictionary? Like sets, dictionaries don't have any inherent order. We can convert the items to a list, then sort the list."
   ]
  },
  {
   "cell_type": "code",
   "execution_count": 39,
   "id": "6698ddce",
   "metadata": {},
   "outputs": [],
   "source": [
    "word_count_list = list(my_dict.items())"
   ]
  },
  {
   "cell_type": "code",
   "execution_count": 40,
   "id": "10a629ff",
   "metadata": {
    "scrolled": true
   },
   "outputs": [
    {
     "data": {
      "text/plain": [
       "[('the', 100), ('is', 50), ('hi', 75), ('three', 3)]"
      ]
     },
     "execution_count": 40,
     "metadata": {},
     "output_type": "execute_result"
    }
   ],
   "source": [
    "word_count_list"
   ]
  },
  {
   "cell_type": "markdown",
   "id": "af1c8a43",
   "metadata": {},
   "source": [
    "The `sorted` function sorts the elements of a a list."
   ]
  },
  {
   "cell_type": "code",
   "execution_count": 41,
   "id": "b368529f",
   "metadata": {},
   "outputs": [
    {
     "data": {
      "text/plain": [
       "[('hi', 75), ('is', 50), ('the', 100), ('three', 3)]"
      ]
     },
     "execution_count": 41,
     "metadata": {},
     "output_type": "execute_result"
    }
   ],
   "source": [
    "sorted(word_count_list)"
   ]
  },
  {
   "cell_type": "code",
   "execution_count": 42,
   "id": "aea70d70",
   "metadata": {},
   "outputs": [
    {
     "name": "stdout",
     "output_type": "stream",
     "text": [
      "Help on built-in function sorted in module builtins:\n",
      "\n",
      "sorted(iterable, /, *, key=None, reverse=False)\n",
      "    Return a new list containing all items from the iterable in ascending order.\n",
      "    \n",
      "    A custom key function can be supplied to customize the sort order, and the\n",
      "    reverse flag can be set to request the result in descending order.\n",
      "\n"
     ]
    }
   ],
   "source": [
    "help(sorted)"
   ]
  },
  {
   "cell_type": "markdown",
   "id": "46e3794a",
   "metadata": {},
   "source": [
    "We can supply our own `key` to the `sorted` function to tell Python how we want the list to be sorted:"
   ]
  },
  {
   "cell_type": "code",
   "execution_count": 68,
   "id": "367d4bb7",
   "metadata": {},
   "outputs": [
    {
     "data": {
      "text/plain": [
       "[('the', 100), ('hi', 75), ('is', 50), ('three', 3)]"
      ]
     },
     "execution_count": 68,
     "metadata": {},
     "output_type": "execute_result"
    }
   ],
   "source": [
    "top_word_counts = sorted(word_count_list, key=lambda wordcount: wordcount[1], reverse=True)[:20]\n",
    "top_word_counts"
   ]
  },
  {
   "cell_type": "markdown",
   "id": "3ef32c9c",
   "metadata": {},
   "source": [
    "In the above, we have used a `lambda` function. That is, it's a way of defining a function in a single line. `lambda word,count: count` is equivalent to the function\n",
    "`def f(word,count):\n",
    "    return count`"
   ]
  },
  {
   "cell_type": "markdown",
   "id": "0b22abd1",
   "metadata": {},
   "source": [
    "**Exercise:** Plot the 20 most commonly appearing words and their counts."
   ]
  },
  {
   "cell_type": "code",
   "execution_count": 62,
   "id": "475e3a0b",
   "metadata": {},
   "outputs": [],
   "source": [
    "s = 'abcd1234-.,&efgh'"
   ]
  },
  {
   "cell_type": "code",
   "execution_count": 61,
   "id": "f484a4eb",
   "metadata": {},
   "outputs": [],
   "source": [
    "def letters_only(s):\n",
    "    new_s = ''\n",
    "    s_list = list(s)\n",
    "    for c in s_list:\n",
    "        if c.isalpha():\n",
    "            new_s += c\n",
    "    return new_s"
   ]
  },
  {
   "cell_type": "code",
   "execution_count": 60,
   "id": "cdd572a9",
   "metadata": {},
   "outputs": [
    {
     "name": "stdout",
     "output_type": "stream",
     "text": [
      "Help on built-in function isalpha:\n",
      "\n",
      "isalpha() method of builtins.str instance\n",
      "    Return True if the string is an alphabetic string, False otherwise.\n",
      "    \n",
      "    A string is alphabetic if all characters in the string are alphabetic and there\n",
      "    is at least one character in the string.\n",
      "\n"
     ]
    }
   ],
   "source": [
    "help(s.isalpha)"
   ]
  },
  {
   "cell_type": "code",
   "execution_count": 63,
   "id": "a07e8cb4",
   "metadata": {},
   "outputs": [
    {
     "data": {
      "text/plain": [
       "'abcdefgh'"
      ]
     },
     "execution_count": 63,
     "metadata": {},
     "output_type": "execute_result"
    }
   ],
   "source": [
    "letters_only(s)"
   ]
  },
  {
   "cell_type": "code",
   "execution_count": 66,
   "id": "e897fe8e",
   "metadata": {
    "scrolled": true
   },
   "outputs": [],
   "source": [
    "#help(str)"
   ]
  },
  {
   "cell_type": "code",
   "execution_count": 69,
   "id": "7d77ae89",
   "metadata": {},
   "outputs": [],
   "source": [
    "words = [word for (word,count) in top_word_counts]\n",
    "counts = [count for (word,count) in top_word_counts]"
   ]
  },
  {
   "cell_type": "code",
   "execution_count": 70,
   "id": "d804b4de",
   "metadata": {},
   "outputs": [
    {
     "data": {
      "text/plain": [
       "['the', 'hi', 'is', 'three']"
      ]
     },
     "execution_count": 70,
     "metadata": {},
     "output_type": "execute_result"
    }
   ],
   "source": [
    "words"
   ]
  },
  {
   "cell_type": "code",
   "execution_count": 71,
   "id": "c7f9c8f7",
   "metadata": {},
   "outputs": [
    {
     "data": {
      "text/plain": [
       "[100, 75, 50, 3]"
      ]
     },
     "execution_count": 71,
     "metadata": {},
     "output_type": "execute_result"
    }
   ],
   "source": [
    "counts"
   ]
  },
  {
   "cell_type": "code",
   "execution_count": 72,
   "id": "dca96ee3",
   "metadata": {},
   "outputs": [],
   "source": [
    "import matplotlib.pyplot as plt"
   ]
  },
  {
   "cell_type": "code",
   "execution_count": 77,
   "id": "ed312d08",
   "metadata": {},
   "outputs": [
    {
     "data": {
      "image/png": "[encoded data removed]",
      "text/plain": [
       "<Figure size 432x288 with 1 Axes>"
      ]
     },
     "metadata": {
      "needs_background": "light"
     },
     "output_type": "display_data"
    }
   ],
   "source": [
    "plt.bar(words,counts)\n",
    "plt.xticks(words,rotation=60);"
   ]
  },
  {
   "cell_type": "code",
   "execution_count": 79,
   "id": "9e3460fa",
   "metadata": {
    "scrolled": false
   },
   "outputs": [],
   "source": [
    "#help(str)"
   ]
  },
  {
   "cell_type": "code",
   "execution_count": 80,
   "id": "833dd121",
   "metadata": {},
   "outputs": [],
   "source": [
    "mylist = [1,2,3,4,5,6]"
   ]
  },
  {
   "cell_type": "code",
   "execution_count": 85,
   "id": "d44b9f5c",
   "metadata": {
    "scrolled": true
   },
   "outputs": [
    {
     "data": {
      "text/plain": [
       "('the', 100)"
      ]
     },
     "execution_count": 85,
     "metadata": {},
     "output_type": "execute_result"
    }
   ],
   "source": [
    "max(my_dict.items(),key=lambda pair:pair[1])"
   ]
  },
  {
   "cell_type": "markdown",
   "id": "26da4bb7",
   "metadata": {},
   "source": [
    "# Wednesday, April 26th, 2023"
   ]
  },
  {
   "cell_type": "code",
   "execution_count": 1,
   "id": "2dae0f52",
   "metadata": {},
   "outputs": [],
   "source": [
    "import requests"
   ]
  },
  {
   "cell_type": "code",
   "execution_count": 2,
   "id": "20d1ee7c",
   "metadata": {},
   "outputs": [],
   "source": [
    "page = requests.get('https://www.gutenberg.org/cache/epub/70635/pg70635.txt')"
   ]
  },
  {
   "cell_type": "code",
   "execution_count": 3,
   "id": "77945f4e",
   "metadata": {},
   "outputs": [],
   "source": [
    "text = page.text"
   ]
  },
  {
   "cell_type": "markdown",
   "id": "4cd6da3a",
   "metadata": {},
   "source": [
    "## Regular expressions (RegEx)"
   ]
  },
  {
   "cell_type": "markdown",
   "id": "98bfddab",
   "metadata": {},
   "source": [
    "The `re` package is a powerful tool for string processing. We can use to find matches, make substitutions, etc. based on patterns we desire."
   ]
  },
  {
   "cell_type": "code",
   "execution_count": 4,
   "id": "41cc559e",
   "metadata": {},
   "outputs": [],
   "source": [
    "import re"
   ]
  },
  {
   "cell_type": "code",
   "execution_count": 6,
   "id": "d5f3a270",
   "metadata": {},
   "outputs": [],
   "source": [
    "#help(re)"
   ]
  },
  {
   "cell_type": "code",
   "execution_count": 8,
   "id": "52cd07b7",
   "metadata": {},
   "outputs": [
    {
     "name": "stdout",
     "output_type": "stream",
     "text": [
      "﻿The Project Gutenberg eBook of Lively plays for live people, by\r\n",
      "Thomas Stewart Denison\r\n",
      "\r\n",
      "This eBook is for the use of anyone anywhere in the United States and\r\n",
      "most other parts of the world at no cost and with almost no restrictions\r\n",
      "whatsoever. You may copy it, give it away or re-use it under the terms\r\n",
      "of the Project Gutenberg License included with this eBook or online at\r\n",
      "www.gutenberg.org. If you are not located in the United States, you\r\n",
      "will have to check the laws of the country where you are located before\r\n",
      "using this eBook.\r\n",
      "\r\n",
      "Title: Lively plays for live people\r\n",
      "\r\n",
      "Author: Thomas Stewart Denison\r\n",
      "\r\n",
      "Release Date: April 24, 2023 [eBook #70635]\r\n",
      "\r\n",
      "Language: English\r\n",
      "\r\n",
      "Produced by: Charlene Taylor and the Online Distributed Proofreading\r\n",
      "             Team at https://www.pgdp.net (This file was produced from\r\n",
      "             images generously made available by The Internet\r\n",
      "             Archive/American Libraries.)\r\n",
      "\r\n",
      "*** START OF THE PROJECT GUTENBERG EBOOK LIVELY PLAYS FOR LIVE\r\n",
      "P\n"
     ]
    }
   ],
   "source": [
    "print(text[:1000])"
   ]
  },
  {
   "cell_type": "code",
   "execution_count": 9,
   "id": "7645a43f",
   "metadata": {},
   "outputs": [
    {
     "name": "stdout",
     "output_type": "stream",
     "text": [
      "Help on function findall in module re:\n",
      "\n",
      "findall(pattern, string, flags=0)\n",
      "    Return a list of all non-overlapping matches in the string.\n",
      "    \n",
      "    If one or more capturing groups are present in the pattern, return\n",
      "    a list of groups; this will be a list of tuples if the pattern\n",
      "    has more than one group.\n",
      "    \n",
      "    Empty matches are included in the result.\n",
      "\n"
     ]
    }
   ],
   "source": [
    "help(re.findall)"
   ]
  },
  {
   "cell_type": "code",
   "execution_count": 11,
   "id": "38bd3943",
   "metadata": {},
   "outputs": [
    {
     "data": {
      "text/plain": [
       "['eBook', 'eBook', 'eBook', 'eBook', 'eBook']"
      ]
     },
     "execution_count": 11,
     "metadata": {},
     "output_type": "execute_result"
    }
   ],
   "source": [
    "re.findall('eBook', text[:1000])"
   ]
  },
  {
   "cell_type": "markdown",
   "id": "cf9de8b1",
   "metadata": {},
   "source": [
    "There is a ton of flexibility in how we define our patterns in regex:"
   ]
  },
  {
   "cell_type": "markdown",
   "id": "1b5e17c5",
   "metadata": {},
   "source": [
    "The `\\w` character means any alpha-numeric character (letter or number).\n",
    "\n",
    "The `\\b` character means any \"boundary\" character, i.e. a character at the start or end of a word."
   ]
  },
  {
   "cell_type": "code",
   "execution_count": 23,
   "id": "8b8090ca",
   "metadata": {},
   "outputs": [
    {
     "data": {
      "text/plain": [
       "[]"
      ]
     },
     "execution_count": 23,
     "metadata": {},
     "output_type": "execute_result"
    }
   ],
   "source": [
    "pattern = '\\b\\w\\w\\w\\b'\n",
    "\n",
    "re.findall(pattern,text[:1000])"
   ]
  },
  {
   "cell_type": "markdown",
   "id": "69617c15",
   "metadata": {},
   "source": [
    "Why did this pattern not work? Let's look at the `pattern` string:"
   ]
  },
  {
   "cell_type": "code",
   "execution_count": 14,
   "id": "df6025f3",
   "metadata": {},
   "outputs": [
    {
     "name": "stdout",
     "output_type": "stream",
     "text": [
      "\b\\w\b\n"
     ]
    }
   ],
   "source": [
    "print(pattern)"
   ]
  },
  {
   "cell_type": "markdown",
   "id": "9c58e357",
   "metadata": {},
   "source": [
    "The `\\b` character has a special meaning when used in Python strings, similar to the newline character `\\n`.\n",
    "\n",
    "We need Python to not interpret these special characters so that they can be passed to `re` properly. We can do this by defining a \"raw\" string: "
   ]
  },
  {
   "cell_type": "code",
   "execution_count": 22,
   "id": "6b14656f",
   "metadata": {},
   "outputs": [
    {
     "name": "stdout",
     "output_type": "stream",
     "text": [
      "\b\\w\\w\\w\b\n",
      "\\b\\w\\w\\w\\b\n"
     ]
    }
   ],
   "source": [
    "print('\\b\\w\\w\\w\\b')\n",
    "print(r'\\b\\w\\w\\w\\b')"
   ]
  },
  {
   "cell_type": "markdown",
   "id": "27dd9b97",
   "metadata": {},
   "source": [
    "To be safe, we will always use raw strings when defining patterns for regex."
   ]
  },
  {
   "cell_type": "code",
   "execution_count": 20,
   "id": "cbaa1a8d",
   "metadata": {},
   "outputs": [],
   "source": [
    "pattern = r'\\b\\w\\w\\w\\b'"
   ]
  },
  {
   "cell_type": "code",
   "execution_count": 21,
   "id": "7c146498",
   "metadata": {},
   "outputs": [
    {
     "data": {
      "text/plain": [
       "['The',\n",
       " 'for',\n",
       " 'for',\n",
       " 'the',\n",
       " 'use',\n",
       " 'the',\n",
       " 'and',\n",
       " 'the',\n",
       " 'and',\n",
       " 'You',\n",
       " 'may',\n",
       " 'use',\n",
       " 'the',\n",
       " 'the',\n",
       " 'www',\n",
       " 'org',\n",
       " 'you',\n",
       " 'are',\n",
       " 'not',\n",
       " 'the',\n",
       " 'you',\n",
       " 'the',\n",
       " 'the',\n",
       " 'you',\n",
       " 'are',\n",
       " 'for',\n",
       " 'and',\n",
       " 'the',\n",
       " 'www',\n",
       " 'net',\n",
       " 'was',\n",
       " 'The',\n",
       " 'THE',\n",
       " 'FOR']"
      ]
     },
     "execution_count": 21,
     "metadata": {},
     "output_type": "execute_result"
    }
   ],
   "source": [
    "re.findall(pattern,text[:1000])"
   ]
  },
  {
   "cell_type": "markdown",
   "id": "279c2092",
   "metadata": {},
   "source": [
    "Let's find all 5 letter words that start with `e` and end with `k`:"
   ]
  },
  {
   "cell_type": "code",
   "execution_count": 25,
   "id": "d996a355",
   "metadata": {},
   "outputs": [],
   "source": [
    "pattern = r'\\be\\w\\w\\wk\\b'"
   ]
  },
  {
   "cell_type": "code",
   "execution_count": 26,
   "id": "9bc807f9",
   "metadata": {},
   "outputs": [
    {
     "data": {
      "text/plain": [
       "['eBook',\n",
       " 'eBook',\n",
       " 'eBook',\n",
       " 'eBook',\n",
       " 'eBook',\n",
       " 'eBook',\n",
       " 'eBook',\n",
       " 'eBook',\n",
       " 'eBook',\n",
       " 'eBook',\n",
       " 'eBook']"
      ]
     },
     "execution_count": 26,
     "metadata": {},
     "output_type": "execute_result"
    }
   ],
   "source": [
    "re.findall(pattern,text)"
   ]
  },
  {
   "cell_type": "markdown",
   "id": "4b726c43",
   "metadata": {},
   "source": [
    "Can we find words of any length that start with `e` and end with `k`? We can we use grouping `[]` with regex to search for any arbitrary number of characters:\n",
    "\n",
    "The pattern `[\\w]*` will look for 0 or more alpha-numeric characters."
   ]
  },
  {
   "cell_type": "code",
   "execution_count": 27,
   "id": "fda926b2",
   "metadata": {},
   "outputs": [],
   "source": [
    "pattern = r'\\be[\\w]*k\\b'"
   ]
  },
  {
   "cell_type": "code",
   "execution_count": 28,
   "id": "6a0d57a2",
   "metadata": {},
   "outputs": [
    {
     "data": {
      "text/plain": [
       "['eBook',\n",
       " 'eBook',\n",
       " 'eBook',\n",
       " 'eBook',\n",
       " 'eBook',\n",
       " 'elegdrick',\n",
       " 'elegdrick',\n",
       " 'elegdrick',\n",
       " 'elegdrick',\n",
       " 'eBook',\n",
       " 'eBook',\n",
       " 'eBook',\n",
       " 'eBook',\n",
       " 'eBook',\n",
       " 'eBook']"
      ]
     },
     "execution_count": 28,
     "metadata": {},
     "output_type": "execute_result"
    }
   ],
   "source": [
    "re.findall(pattern,text)"
   ]
  },
  {
   "cell_type": "markdown",
   "id": "0432b700",
   "metadata": {},
   "source": [
    "What if we want to include possibly starting with a capital `E`? The group `[eE]` will accept either a lowercase or capital `E`:"
   ]
  },
  {
   "cell_type": "code",
   "execution_count": 31,
   "id": "675dd9b4",
   "metadata": {},
   "outputs": [],
   "source": [
    "pattern = r'\\b[gG][\\w]*g\\b'"
   ]
  },
  {
   "cell_type": "markdown",
   "id": "b6c0725d",
   "metadata": {},
   "source": [
    "In the above pattern:\n",
    " - `\\b` indicates the start of a word\n",
    " - `[gG]` searches for either `g` or `G` character\n",
    " - `[\\w]*` searches for any number (`*` means 0 or more) of alpha-numerica characters (`\\w`)\n",
    " - `g` searches for the lowercase `g`\n",
    " - `\\b` indicates the end of a word"
   ]
  },
  {
   "cell_type": "code",
   "execution_count": 33,
   "id": "684be83e",
   "metadata": {},
   "outputs": [
    {
     "data": {
      "text/plain": [
       "{'Gagg',\n",
       " 'Gettysburg',\n",
       " 'Ginseng',\n",
       " 'Going',\n",
       " 'Gutenberg',\n",
       " 'gang',\n",
       " 'getting',\n",
       " 'giving',\n",
       " 'glaring',\n",
       " 'going',\n",
       " 'gong',\n",
       " 'grasping',\n",
       " 'grinning',\n",
       " 'growling',\n",
       " 'grubbing',\n",
       " 'grumbling',\n",
       " 'gutenberg'}"
      ]
     },
     "execution_count": 33,
     "metadata": {},
     "output_type": "execute_result"
    }
   ],
   "source": [
    "set(re.findall(pattern,text))"
   ]
  },
  {
   "cell_type": "markdown",
   "id": "04bca7bb",
   "metadata": {},
   "source": [
    "**Exercise:** Find all words that start with the letter `i` and end with the letter `t`:"
   ]
  },
  {
   "cell_type": "code",
   "execution_count": 39,
   "id": "7db5be3c",
   "metadata": {},
   "outputs": [
    {
     "data": {
      "text/plain": [
       "{'idiot',\n",
       " 'ignorant',\n",
       " 'illegant',\n",
       " 'impatient',\n",
       " 'impeachment',\n",
       " 'impertinent',\n",
       " 'implement',\n",
       " 'important',\n",
       " 'imprudent',\n",
       " 'incident',\n",
       " 'indifferent',\n",
       " 'indigent',\n",
       " 'indiscreet',\n",
       " 'indistinct',\n",
       " 'infringement',\n",
       " 'innocent',\n",
       " 'insist',\n",
       " 'insolent',\n",
       " 'instant',\n",
       " 'instrument',\n",
       " 'insufficient',\n",
       " 'insult',\n",
       " 'intelligent',\n",
       " 'interest',\n",
       " 'interrupt',\n",
       " 'ist',\n",
       " 'it'}"
      ]
     },
     "execution_count": 39,
     "metadata": {},
     "output_type": "execute_result"
    }
   ],
   "source": [
    "pattern = r'\\bi[\\w]*t\\b'\n",
    "set(re.findall(pattern,text))"
   ]
  },
  {
   "cell_type": "markdown",
   "id": "e32d76e8",
   "metadata": {},
   "source": [
    "The `+` operator indicates one or more matches:\n",
    "\n",
    "Let's find all words that start with `i`, have at least three characters, and end with `t`:"
   ]
  },
  {
   "cell_type": "code",
   "execution_count": 41,
   "id": "97cc2458",
   "metadata": {},
   "outputs": [
    {
     "data": {
      "text/plain": [
       "{'idiot',\n",
       " 'ignorant',\n",
       " 'illegant',\n",
       " 'impatient',\n",
       " 'impeachment',\n",
       " 'impertinent',\n",
       " 'implement',\n",
       " 'important',\n",
       " 'imprudent',\n",
       " 'incident',\n",
       " 'indifferent',\n",
       " 'indigent',\n",
       " 'indiscreet',\n",
       " 'indistinct',\n",
       " 'infringement',\n",
       " 'innocent',\n",
       " 'insist',\n",
       " 'insolent',\n",
       " 'instant',\n",
       " 'instrument',\n",
       " 'insufficient',\n",
       " 'insult',\n",
       " 'intelligent',\n",
       " 'interest',\n",
       " 'interrupt',\n",
       " 'ist'}"
      ]
     },
     "execution_count": 41,
     "metadata": {},
     "output_type": "execute_result"
    }
   ],
   "source": [
    "pattern = r'\\bi[\\w]+t\\b'\n",
    "set(re.findall(pattern,text))"
   ]
  },
  {
   "cell_type": "markdown",
   "id": "e2074eb9",
   "metadata": {},
   "source": [
    "We can curly braces `{}` to specify an exact number of matches.\n",
    "Let's find all words that start with `i`, end with `t`, and contain exactly 4 letters in between:"
   ]
  },
  {
   "cell_type": "code",
   "execution_count": 44,
   "id": "f1b16382",
   "metadata": {},
   "outputs": [
    {
     "data": {
      "text/plain": [
       "{'insist', 'insult'}"
      ]
     },
     "execution_count": 44,
     "metadata": {},
     "output_type": "execute_result"
    }
   ],
   "source": [
    "pattern = r'\\bi[\\w]{4}t\\b'\n",
    "set(re.findall(pattern,text))"
   ]
  },
  {
   "cell_type": "markdown",
   "id": "81710e9e",
   "metadata": {},
   "source": [
    "We can also use curly braces to indicate a minimum, maximum (both) number of matches:\n",
    "\n",
    " - `{m}` = exactly `m` matches\n",
    " - `{,n}` = no more than `n` matches\n",
    " - `{m,}` = at least `m` matches\n",
    " - `{m,n}` = between `m` and `n` matches"
   ]
  },
  {
   "cell_type": "code",
   "execution_count": 45,
   "id": "edc1b644",
   "metadata": {
    "scrolled": true
   },
   "outputs": [
    {
     "data": {
      "text/plain": [
       "{'ignorant',\n",
       " 'illegant',\n",
       " 'impatient',\n",
       " 'implement',\n",
       " 'important',\n",
       " 'imprudent',\n",
       " 'incident',\n",
       " 'indigent',\n",
       " 'innocent',\n",
       " 'insist',\n",
       " 'insolent',\n",
       " 'instant',\n",
       " 'insult',\n",
       " 'interest',\n",
       " 'interrupt'}"
      ]
     },
     "execution_count": 45,
     "metadata": {},
     "output_type": "execute_result"
    }
   ],
   "source": [
    "pattern = r'\\bi[\\w]{4,7}t\\b'\n",
    "set(re.findall(pattern,text))"
   ]
  },
  {
   "cell_type": "markdown",
   "id": "93898681",
   "metadata": {},
   "source": [
    "There is also the `re.sub` function, which is a more powerful version of the `.replace` method."
   ]
  },
  {
   "cell_type": "code",
   "execution_count": 47,
   "id": "e204d790",
   "metadata": {},
   "outputs": [
    {
     "name": "stdout",
     "output_type": "stream",
     "text": [
      "Help on function sub in module re:\n",
      "\n",
      "sub(pattern, repl, string, count=0, flags=0)\n",
      "    Return the string obtained by replacing the leftmost\n",
      "    non-overlapping occurrences of the pattern in string by the\n",
      "    replacement repl.  repl can be either a string or a callable;\n",
      "    if a string, backslash escapes in it are processed.  If it is\n",
      "    a callable, it's passed the Match object and must return\n",
      "    a replacement string to be used.\n",
      "\n"
     ]
    }
   ],
   "source": [
    "help(re.sub)"
   ]
  },
  {
   "cell_type": "code",
   "execution_count": 48,
   "id": "75f73acc",
   "metadata": {},
   "outputs": [],
   "source": [
    "import numpy as np"
   ]
  },
  {
   "cell_type": "code",
   "execution_count": 49,
   "id": "cba5ba29",
   "metadata": {},
   "outputs": [
    {
     "data": {
      "text/plain": [
       "0.4087918147103594"
      ]
     },
     "execution_count": 49,
     "metadata": {},
     "output_type": "execute_result"
    }
   ],
   "source": [
    "np.random.rand()"
   ]
  },
  {
   "cell_type": "code",
   "execution_count": 51,
   "id": "6ac63d12",
   "metadata": {},
   "outputs": [],
   "source": [
    "a = np.arange(20).reshape(4,5)"
   ]
  },
  {
   "cell_type": "code",
   "execution_count": 52,
   "id": "e0943bd0",
   "metadata": {},
   "outputs": [],
   "source": [
    "mask = (a % 4 == 0)"
   ]
  },
  {
   "cell_type": "code",
   "execution_count": 55,
   "id": "d209288d",
   "metadata": {},
   "outputs": [
    {
     "data": {
      "text/plain": [
       "5"
      ]
     },
     "execution_count": 55,
     "metadata": {},
     "output_type": "execute_result"
    }
   ],
   "source": [
    "len(a[mask])"
   ]
  }
 ],
 "metadata": {
  "kernelspec": {
   "display_name": "Python 3 (ipykernel)",
   "language": "python",
   "name": "python3"
  },
  "language_info": {
   "codemirror_mode": {
    "name": "ipython",
    "version": 3
   },
   "file_extension": ".py",
   "mimetype": "text/x-python",
   "name": "python",
   "nbconvert_exporter": "python",
   "pygments_lexer": "ipython3",
   "version": "3.9.13"
  }
 },
 "nbformat": 4,
 "nbformat_minor": 5
}
