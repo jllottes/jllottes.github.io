{
 "cells": [
  {
   "cell_type": "markdown",
   "id": "e5474bad",
   "metadata": {},
   "source": [
    "# Monday, April 24th, 2023"
   ]
  },
  {
   "cell_type": "markdown",
   "id": "2a350381",
   "metadata": {},
   "source": [
    "## Dictionaries in Python\n",
    "\n",
    "A dictionary is a collection items \"indexed\" by keys.\n",
    "\n",
    "We can define a dictionary using the syntax `{key1:value1, key2:value2, key3:value3,...}`"
   ]
  },
  {
   "cell_type": "code",
   "execution_count": 1,
   "id": "74714e76",
   "metadata": {},
   "outputs": [],
   "source": [
    "my_dict = {'Tyler': 'Sophomore',\n",
    "           'Keith': 'Sophomore',\n",
    "           'Pierce': 'Senior'}"
   ]
  },
  {
   "cell_type": "code",
   "execution_count": 2,
   "id": "e7fdecf5",
   "metadata": {},
   "outputs": [
    {
     "data": {
      "text/plain": [
       "{'Tyler': 'Sophomore', 'Keith': 'Sophomore', 'Pierce': 'Senior'}"
      ]
     },
     "execution_count": 2,
     "metadata": {},
     "output_type": "execute_result"
    }
   ],
   "source": [
    "my_dict"
   ]
  },
  {
   "cell_type": "markdown",
   "id": "0982bcca",
   "metadata": {},
   "source": [
    "We can access values of our dictionary just like with lists:"
   ]
  },
  {
   "cell_type": "code",
   "execution_count": 3,
   "id": "aa3b220c",
   "metadata": {},
   "outputs": [
    {
     "data": {
      "text/plain": [
       "'Senior'"
      ]
     },
     "execution_count": 3,
     "metadata": {},
     "output_type": "execute_result"
    }
   ],
   "source": [
    "my_dict['Pierce']"
   ]
  },
  {
   "cell_type": "markdown",
   "id": "dfdc2427",
   "metadata": {},
   "source": [
    "We can add additional elements to a dictionary with `my_dict[key4] = value4`"
   ]
  },
  {
   "cell_type": "code",
   "execution_count": 5,
   "id": "c567a5a9",
   "metadata": {},
   "outputs": [],
   "source": [
    "my_dict['Giacomo'] = 'Junior'"
   ]
  },
  {
   "cell_type": "code",
   "execution_count": 6,
   "id": "db9a65bb",
   "metadata": {},
   "outputs": [
    {
     "data": {
      "text/plain": [
       "{'Tyler': 'Sophomore',\n",
       " 'Keith': 'Sophomore',\n",
       " 'Pierce': 'Senior',\n",
       " 'Giacomo': 'Junior'}"
      ]
     },
     "execution_count": 6,
     "metadata": {},
     "output_type": "execute_result"
    }
   ],
   "source": [
    "my_dict"
   ]
  },
  {
   "cell_type": "markdown",
   "id": "a89238af",
   "metadata": {},
   "source": [
    "We can use comprehensions to generate dictionaries:"
   ]
  },
  {
   "cell_type": "code",
   "execution_count": 9,
   "id": "76c1e33f",
   "metadata": {},
   "outputs": [
    {
     "data": {
      "text/plain": [
       "{'a': 0, 'b': 1, 'c': 2, 'd': 3, 'e': 4, 'f': 5, 'g': 6}"
      ]
     },
     "execution_count": 9,
     "metadata": {},
     "output_type": "execute_result"
    }
   ],
   "source": [
    "{key:value for key,value in zip('abcdefg',range(7))}"
   ]
  },
  {
   "cell_type": "markdown",
   "id": "0b0046c8",
   "metadata": {},
   "source": [
    "We can access separately the keys and values of a dictionary using `my_dict.keys()` and `my_dict.values()`:"
   ]
  },
  {
   "cell_type": "code",
   "execution_count": 10,
   "id": "9861f0d3",
   "metadata": {},
   "outputs": [
    {
     "data": {
      "text/plain": [
       "dict_keys(['Tyler', 'Keith', 'Pierce', 'Giacomo'])"
      ]
     },
     "execution_count": 10,
     "metadata": {},
     "output_type": "execute_result"
    }
   ],
   "source": [
    "my_dict.keys()"
   ]
  },
  {
   "cell_type": "code",
   "execution_count": 11,
   "id": "8249f19b",
   "metadata": {},
   "outputs": [
    {
     "data": {
      "text/plain": [
       "dict_values(['Sophomore', 'Sophomore', 'Senior', 'Junior'])"
      ]
     },
     "execution_count": 11,
     "metadata": {},
     "output_type": "execute_result"
    }
   ],
   "source": [
    "my_dict.values()"
   ]
  },
  {
   "cell_type": "markdown",
   "id": "2fd6f6b0",
   "metadata": {},
   "source": [
    "We can check if a key exists in a dictionary:"
   ]
  },
  {
   "cell_type": "code",
   "execution_count": 12,
   "id": "1dbe3f3f",
   "metadata": {},
   "outputs": [
    {
     "data": {
      "text/plain": [
       "False"
      ]
     },
     "execution_count": 12,
     "metadata": {},
     "output_type": "execute_result"
    }
   ],
   "source": [
    "'Jon' in my_dict"
   ]
  },
  {
   "cell_type": "markdown",
   "id": "b907ec09",
   "metadata": {},
   "source": [
    "We can also pair up keys and values for looping through using `my_dict.items()`:"
   ]
  },
  {
   "cell_type": "code",
   "execution_count": 13,
   "id": "7ee7804b",
   "metadata": {},
   "outputs": [
    {
     "data": {
      "text/plain": [
       "dict_items([('Tyler', 'Sophomore'), ('Keith', 'Sophomore'), ('Pierce', 'Senior'), ('Giacomo', 'Junior')])"
      ]
     },
     "execution_count": 13,
     "metadata": {},
     "output_type": "execute_result"
    }
   ],
   "source": [
    "my_dict.items()"
   ]
  },
  {
   "cell_type": "code",
   "execution_count": 14,
   "id": "6de42e52",
   "metadata": {},
   "outputs": [
    {
     "name": "stdout",
     "output_type": "stream",
     "text": [
      "Tyler Sophomore\n",
      "Keith Sophomore\n",
      "Pierce Senior\n",
      "Giacomo Junior\n"
     ]
    }
   ],
   "source": [
    "for key, value in my_dict.items():\n",
    "    print(key, value)"
   ]
  },
  {
   "cell_type": "markdown",
   "id": "1a9cff46",
   "metadata": {},
   "source": [
    "## Requests"
   ]
  },
  {
   "cell_type": "markdown",
   "id": "459ad6e7",
   "metadata": {},
   "source": [
    "The `requests` package is used to access internet pages."
   ]
  },
  {
   "cell_type": "code",
   "execution_count": 15,
   "id": "88ca196c",
   "metadata": {},
   "outputs": [],
   "source": [
    "import requests"
   ]
  },
  {
   "cell_type": "code",
   "execution_count": 21,
   "id": "f8b74093",
   "metadata": {},
   "outputs": [],
   "source": [
    "#help(requests)"
   ]
  },
  {
   "cell_type": "code",
   "execution_count": 22,
   "id": "94b8bab5",
   "metadata": {},
   "outputs": [],
   "source": [
    "page = requests.get('https://jllottes.github.io/Schedule/week_12.html')"
   ]
  },
  {
   "cell_type": "code",
   "execution_count": 25,
   "id": "57510d7c",
   "metadata": {},
   "outputs": [],
   "source": [
    "#help(page)"
   ]
  },
  {
   "cell_type": "code",
   "execution_count": 27,
   "id": "a8685bf0",
   "metadata": {
    "scrolled": false
   },
   "outputs": [
    {
     "name": "stdout",
     "output_type": "stream",
     "text": [
      "<!DOCTYPE html>\n",
      "<html class=\"writer-html5\" lang=\"en\" >\n",
      "<head>\n",
      "  <meta charset=\"utf-8\" /><meta name=\"generator\" content=\"Docutils 0.18.1: http://docutils.sourceforge.net/\" />\n",
      "\n",
      "  <meta name=\"viewport\" content=\"width=device-width, initial-scale=1.0\" />\n",
      "  <title>Week 12: Apr 24 - Apr 28 &mdash; MTH 337 - Spring 2023  documentation</title>\n",
      "      <link rel=\"stylesheet\" href=\"../_static/pygments.css\" type=\"text/css\" />\n",
      "      <link rel=\"stylesheet\" href=\"../_static/css/theme.css\" type=\"text/css\" />\n",
      "    \n"
     ]
    }
   ],
   "source": [
    "print(page.text[:500])"
   ]
  },
  {
   "cell_type": "markdown",
   "id": "65ac87ef",
   "metadata": {},
   "source": [
    "This HTML page is a little complicated for now, so let's find a simpler webpage.\n",
    "\n",
    "We can use [Project Gutenberg](https://www.gutenberg.org/) to access public domain books:"
   ]
  },
  {
   "cell_type": "code",
   "execution_count": 28,
   "id": "a98f2ae1",
   "metadata": {},
   "outputs": [],
   "source": [
    "page = requests.get('https://www.gutenberg.org/cache/epub/70635/pg70635.txt')"
   ]
  },
  {
   "cell_type": "code",
   "execution_count": 29,
   "id": "8cb09686",
   "metadata": {},
   "outputs": [
    {
     "name": "stdout",
     "output_type": "stream",
     "text": [
      "﻿The Project Gutenberg eBook of Lively plays for live people, by\r\n",
      "Thomas Stewart Denison\r\n",
      "\r\n",
      "This eBook is for the use of anyone anywhere in the United States and\r\n",
      "most other parts of the world at no cost and with almost no restrictions\r\n",
      "whatsoever. You may copy it, give it away or re-use it under the terms\r\n",
      "of the Project Gutenberg License included with this eBook or online at\r\n",
      "www.gutenberg.org. If you are not located in the United States, you\r\n",
      "will have to check the laws of the country where y\n"
     ]
    }
   ],
   "source": [
    "print(page.text[:500])"
   ]
  },
  {
   "cell_type": "markdown",
   "id": "81c3ffa4",
   "metadata": {},
   "source": [
    "**Exercise:** Select some book from Project Gutenberg\n",
    "- Use `requests` to download the text\n",
    "- Create a dictionary whose keys are words that appear in the text and whose values are the number of times that word appears"
   ]
  },
  {
   "cell_type": "code",
   "execution_count": null,
   "id": "bef3b06e",
   "metadata": {},
   "outputs": [],
   "source": [
    "word_count_dict = {}"
   ]
  },
  {
   "cell_type": "code",
   "execution_count": 36,
   "id": "ba235b3c",
   "metadata": {},
   "outputs": [
    {
     "name": "stdout",
     "output_type": "stream",
     "text": [
      "Tyler\n",
      "Keith\n"
     ]
    }
   ],
   "source": [
    "for key,value in my_dict.items():\n",
    "    if value == 'Sophomore':\n",
    "        print(key)"
   ]
  },
  {
   "cell_type": "code",
   "execution_count": 37,
   "id": "f189fb4b",
   "metadata": {},
   "outputs": [],
   "source": [
    "my_dict = {'the':100, 'is':50, 'hi':75, 'three':3}"
   ]
  },
  {
   "cell_type": "code",
   "execution_count": 38,
   "id": "d406dfb2",
   "metadata": {},
   "outputs": [
    {
     "data": {
      "text/plain": [
       "{'the': 100, 'is': 50, 'hi': 75, 'three': 3}"
      ]
     },
     "execution_count": 38,
     "metadata": {},
     "output_type": "execute_result"
    }
   ],
   "source": [
    "my_dict"
   ]
  },
  {
   "cell_type": "markdown",
   "id": "bd7f2fee",
   "metadata": {},
   "source": [
    "Can we sort the items in a dictionary? Like sets, dictionaries don't have any inherent order. We can convert the items to a list, then sort the list."
   ]
  },
  {
   "cell_type": "code",
   "execution_count": 39,
   "id": "30f54a26",
   "metadata": {},
   "outputs": [],
   "source": [
    "word_count_list = list(my_dict.items())"
   ]
  },
  {
   "cell_type": "code",
   "execution_count": 40,
   "id": "31a65a14",
   "metadata": {
    "scrolled": true
   },
   "outputs": [
    {
     "data": {
      "text/plain": [
       "[('the', 100), ('is', 50), ('hi', 75), ('three', 3)]"
      ]
     },
     "execution_count": 40,
     "metadata": {},
     "output_type": "execute_result"
    }
   ],
   "source": [
    "word_count_list"
   ]
  },
  {
   "cell_type": "markdown",
   "id": "b411eebf",
   "metadata": {},
   "source": [
    "The `sorted` function sorts the elements of a a list."
   ]
  },
  {
   "cell_type": "code",
   "execution_count": 41,
   "id": "1b0f19c4",
   "metadata": {},
   "outputs": [
    {
     "data": {
      "text/plain": [
       "[('hi', 75), ('is', 50), ('the', 100), ('three', 3)]"
      ]
     },
     "execution_count": 41,
     "metadata": {},
     "output_type": "execute_result"
    }
   ],
   "source": [
    "sorted(word_count_list)"
   ]
  },
  {
   "cell_type": "code",
   "execution_count": 42,
   "id": "1a6c4b44",
   "metadata": {},
   "outputs": [
    {
     "name": "stdout",
     "output_type": "stream",
     "text": [
      "Help on built-in function sorted in module builtins:\n",
      "\n",
      "sorted(iterable, /, *, key=None, reverse=False)\n",
      "    Return a new list containing all items from the iterable in ascending order.\n",
      "    \n",
      "    A custom key function can be supplied to customize the sort order, and the\n",
      "    reverse flag can be set to request the result in descending order.\n",
      "\n"
     ]
    }
   ],
   "source": [
    "help(sorted)"
   ]
  },
  {
   "cell_type": "markdown",
   "id": "e75ef7b0",
   "metadata": {},
   "source": [
    "We can supply our own `key` to the `sorted` function to tell Python how we want the list to be sorted:"
   ]
  },
  {
   "cell_type": "code",
   "execution_count": 68,
   "id": "5c85c307",
   "metadata": {},
   "outputs": [
    {
     "data": {
      "text/plain": [
       "[('the', 100), ('hi', 75), ('is', 50), ('three', 3)]"
      ]
     },
     "execution_count": 68,
     "metadata": {},
     "output_type": "execute_result"
    }
   ],
   "source": [
    "top_word_counts = sorted(word_count_list, key=lambda wordcount: wordcount[1], reverse=True)[:20]\n",
    "top_word_counts"
   ]
  },
  {
   "cell_type": "markdown",
   "id": "c28418cc",
   "metadata": {},
   "source": [
    "In the above, we have used a `lambda` function. That is, it's a way of defining a function in a single line. `lambda word,count: count` is equivalent to the function\n",
    "`def f(word,count):\n",
    "    return count`"
   ]
  },
  {
   "cell_type": "markdown",
   "id": "f181edc1",
   "metadata": {},
   "source": [
    "**Exercise:** Plot the 20 most commonly appearing words and their counts."
   ]
  },
  {
   "cell_type": "code",
   "execution_count": 62,
   "id": "5988fb9c",
   "metadata": {},
   "outputs": [],
   "source": [
    "s = 'abcd1234-.,&efgh'"
   ]
  },
  {
   "cell_type": "code",
   "execution_count": 61,
   "id": "342c80d4",
   "metadata": {},
   "outputs": [],
   "source": [
    "def letters_only(s):\n",
    "    new_s = ''\n",
    "    s_list = list(s)\n",
    "    for c in s_list:\n",
    "        if c.isalpha():\n",
    "            new_s += c\n",
    "    return new_s"
   ]
  },
  {
   "cell_type": "code",
   "execution_count": 60,
   "id": "2806660a",
   "metadata": {},
   "outputs": [
    {
     "name": "stdout",
     "output_type": "stream",
     "text": [
      "Help on built-in function isalpha:\n",
      "\n",
      "isalpha() method of builtins.str instance\n",
      "    Return True if the string is an alphabetic string, False otherwise.\n",
      "    \n",
      "    A string is alphabetic if all characters in the string are alphabetic and there\n",
      "    is at least one character in the string.\n",
      "\n"
     ]
    }
   ],
   "source": [
    "help(s.isalpha)"
   ]
  },
  {
   "cell_type": "code",
   "execution_count": 63,
   "id": "faa3ff32",
   "metadata": {},
   "outputs": [
    {
     "data": {
      "text/plain": [
       "'abcdefgh'"
      ]
     },
     "execution_count": 63,
     "metadata": {},
     "output_type": "execute_result"
    }
   ],
   "source": [
    "letters_only(s)"
   ]
  },
  {
   "cell_type": "code",
   "execution_count": 66,
   "id": "7088073e",
   "metadata": {
    "scrolled": true
   },
   "outputs": [],
   "source": [
    "#help(str)"
   ]
  },
  {
   "cell_type": "code",
   "execution_count": 69,
   "id": "6baa2d2f",
   "metadata": {},
   "outputs": [],
   "source": [
    "words = [word for (word,count) in top_word_counts]\n",
    "counts = [count for (word,count) in top_word_counts]"
   ]
  },
  {
   "cell_type": "code",
   "execution_count": 70,
   "id": "f2fd2a9e",
   "metadata": {},
   "outputs": [
    {
     "data": {
      "text/plain": [
       "['the', 'hi', 'is', 'three']"
      ]
     },
     "execution_count": 70,
     "metadata": {},
     "output_type": "execute_result"
    }
   ],
   "source": [
    "words"
   ]
  },
  {
   "cell_type": "code",
   "execution_count": 71,
   "id": "325e74f6",
   "metadata": {},
   "outputs": [
    {
     "data": {
      "text/plain": [
       "[100, 75, 50, 3]"
      ]
     },
     "execution_count": 71,
     "metadata": {},
     "output_type": "execute_result"
    }
   ],
   "source": [
    "counts"
   ]
  },
  {
   "cell_type": "code",
   "execution_count": 72,
   "id": "c1f6e613",
   "metadata": {},
   "outputs": [],
   "source": [
    "import matplotlib.pyplot as plt"
   ]
  },
  {
   "cell_type": "code",
   "execution_count": 77,
   "id": "ac90ba84",
   "metadata": {},
   "outputs": [
    {
     "data": {
      "image/png": "[encoded data removed]",
      "text/plain": [
       "<Figure size 432x288 with 1 Axes>"
      ]
     },
     "metadata": {
      "needs_background": "light"
     },
     "output_type": "display_data"
    }
   ],
   "source": [
    "plt.bar(words,counts)\n",
    "plt.xticks(words,rotation=60);"
   ]
  },
  {
   "cell_type": "code",
   "execution_count": 79,
   "id": "d3efa7bb",
   "metadata": {
    "scrolled": false
   },
   "outputs": [],
   "source": [
    "#help(str)"
   ]
  },
  {
   "cell_type": "code",
   "execution_count": 80,
   "id": "b7e96da3",
   "metadata": {},
   "outputs": [],
   "source": [
    "mylist = [1,2,3,4,5,6]"
   ]
  },
  {
   "cell_type": "code",
   "execution_count": null,
   "id": "cc145b20",
   "metadata": {},
   "outputs": [],
   "source": []
  }
 ],
 "metadata": {
  "kernelspec": {
   "display_name": "Python 3 (ipykernel)",
   "language": "python",
   "name": "python3"
  },
  "language_info": {
   "codemirror_mode": {
    "name": "ipython",
    "version": 3
   },
   "file_extension": ".py",
   "mimetype": "text/x-python",
   "name": "python",
   "nbconvert_exporter": "python",
   "pygments_lexer": "ipython3",
   "version": "3.9.7"
  }
 },
 "nbformat": 4,
 "nbformat_minor": 5
}
