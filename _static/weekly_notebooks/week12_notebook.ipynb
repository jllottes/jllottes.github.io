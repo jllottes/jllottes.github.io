{
 "cells": [
  {
   "cell_type": "markdown",
   "id": "b9708f98",
   "metadata": {},
   "source": [
    "# Monday, April 17th, 2023"
   ]
  },
  {
   "cell_type": "code",
   "execution_count": null,
   "id": "ee63f15a",
   "metadata": {},
   "outputs": [],
   "source": [
    "import numpy as np\n",
    "import matplotlib.pyplot as plt"
   ]
  },
  {
   "cell_type": "markdown",
   "id": "0f991944",
   "metadata": {},
   "source": [
    "## Conway's Game of Life\n",
    "\n",
    "Conway's [Game of Life](https://conwaylife.com/wiki/Conway%27s_Game_of_Life) is a cellular automaton created by John Conway in 1970. Similar to the Mayfly model, it is a deterministic process to update the state of a population of cells.\n",
    "\n",
    "We will use 2D NumPy arrays to represent the population of cells aranged in an $n \\times n$ grid.\n",
    "A value of `1` will signify that a cell is alive while a value of `0` will signify that a cell is dead."
   ]
  },
  {
   "cell_type": "markdown",
   "id": "cc255c23",
   "metadata": {},
   "source": [
    "### Starting configuration\n",
    "\n",
    "Lets begin with an $ n\\times n $ array of all 0s with a small three-block column (3$\\times$1) of 1s in the middle. Use an integer datatype (`dtype=int`) when defining your array.\n",
    "\n",
    "**Exercise:**  Write a function `starting_state(n)` that returns the array described above."
   ]
  },
  {
   "cell_type": "code",
   "execution_count": null,
   "id": "4c30e619",
   "metadata": {},
   "outputs": [],
   "source": [
    "\n",
    "\n",
    "\n",
    "\n"
   ]
  },
  {
   "cell_type": "code",
   "execution_count": null,
   "id": "3e68f1ae",
   "metadata": {},
   "outputs": [],
   "source": [
    "\n",
    "\n",
    "\n",
    "\n"
   ]
  },
  {
   "cell_type": "markdown",
   "id": "9074b1c6",
   "metadata": {},
   "source": [
    "### Rules of Life"
   ]
  },
  {
   "cell_type": "markdown",
   "id": "f9fe839d",
   "metadata": {},
   "source": [
    "We will use the current state of the population to determine the next state.\n",
    "In the Game of Life, each cell interacts with its eight neighbors (i.e. the horizontally, vertically, or diagonally adjacent cells).\n",
    "\n",
    "![neighbors](https://jllottes.github.io/_images/epidemic-2.svg)\n",
    "\n",
    "The rules of the Game of Life can be summarized as follows:\n",
    "\n",
    " 1. Any live cell with two or three live neighbors survives.\n",
    " 2. Any dead cell with with three live neighbors becomes a live cell.\n",
    " 3. All other live cells die in the next generation, and all other dead cells stay dead."
   ]
  },
  {
   "cell_type": "markdown",
   "id": "b1018e5e",
   "metadata": {},
   "source": [
    "### Counting the number of live neighbors\n",
    "\n",
    "In order to update our array from one state to the next, we need to be able to count the number of live neighbors of the $(i,j)$th cell for any choice of $i,j$.\n",
    "\n",
    "**Exercise:** Write a function `count_live_neighbors(cells,i,j)` that counts the number of living neighbors of the $(i,j)$th cell.\n",
    "\n",
    " - We handled a similar problem with the [Image Denoising](https://jllottes.github.io/Projects/image_denoising/image_denoising) project.\n",
    " - How can we handle cells on the edge of the grid?\n",
    " - The `np.sum` function will add all values in an array.\n",
    " - We want to exclude (or remove from the sum) the $(i,j)$th cell when counting the number of living neighbors.\n",
    "\n"
   ]
  },
  {
   "cell_type": "code",
   "execution_count": null,
   "id": "ff58e1bf",
   "metadata": {},
   "outputs": [],
   "source": [
    "\n",
    "\n",
    "\n",
    "\n"
   ]
  },
  {
   "cell_type": "code",
   "execution_count": null,
   "id": "77612f56",
   "metadata": {},
   "outputs": [],
   "source": [
    "\n",
    "\n",
    "\n"
   ]
  },
  {
   "cell_type": "markdown",
   "id": "da4a6ae4",
   "metadata": {},
   "source": [
    "### Updating the `cells` population\n",
    "\n",
    "We can now update the `cells` array according to the rules.  We have to update every entry of the array, so we will need to loop through all the entries.\n",
    "\n",
    "**Exercise:** Write a function `update_cells(cells)` that takes in a population array `cells`, applies the Rules of Life to update the population, and returns the updated population."
   ]
  },
  {
   "cell_type": "code",
   "execution_count": null,
   "id": "877d9e7a",
   "metadata": {},
   "outputs": [],
   "source": [
    "\n",
    "\n",
    "\n",
    "\n"
   ]
  },
  {
   "cell_type": "code",
   "execution_count": null,
   "id": "4a119c69",
   "metadata": {},
   "outputs": [],
   "source": [
    "\n",
    "\n",
    "\n",
    "\n"
   ]
  },
  {
   "cell_type": "markdown",
   "id": "fcc91ab3",
   "metadata": {},
   "source": [
    "### Animating the dynamics"
   ]
  },
  {
   "cell_type": "markdown",
   "id": "69e63d12",
   "metadata": {},
   "source": [
    "The `FuncAnimation` function from `matplotlib.animation` can be used to create animations.\n",
    "It takes in a figure `fig` and function `animate`. The `animate` function should take in a frame index `i` and perform any desired updates to the figure."
   ]
  },
  {
   "cell_type": "code",
   "execution_count": null,
   "id": "09d01d54",
   "metadata": {},
   "outputs": [],
   "source": [
    "%matplotlib qt\n",
    "from matplotlib.animation import FuncAnimation"
   ]
  },
  {
   "cell_type": "markdown",
   "id": "4822296f",
   "metadata": {},
   "source": [
    "**Exercise:** Modify the code below to animate the Game of Life."
   ]
  },
  {
   "cell_type": "code",
   "execution_count": null,
   "id": "ec36013a",
   "metadata": {},
   "outputs": [],
   "source": [
    "x = np.zeros((200,200), dtype = int)\n",
    "\n",
    "fig = plt.figure()\n",
    "im = plt.imshow(x,vmin=0,vmax=1)               # Generate the initial plot\n",
    "\n",
    "def animate(i):\n",
    "    x[:,:]= (np.random.random(x.shape) > .5)   # Update the x array with random data\n",
    "    im.set_data(x)                             # Update the figure with new x array\n",
    "    return im\n",
    "\n",
    "anim = FuncAnimation(fig, animate, cache_frame_data=False)\n",
    "plt.show()"
   ]
  },
  {
   "cell_type": "markdown",
   "id": "9bde5fe8",
   "metadata": {},
   "source": [
    "**Exercise:** Use `np.random.rand` to randomly select an initial `cells` array of `0`s and `1`s."
   ]
  },
  {
   "cell_type": "code",
   "execution_count": null,
   "id": "19fab16b",
   "metadata": {},
   "outputs": [],
   "source": [
    "\n",
    "\n",
    "\n",
    "\n"
   ]
  },
  {
   "cell_type": "code",
   "execution_count": null,
   "id": "ac26c11d",
   "metadata": {},
   "outputs": [],
   "source": [
    "\n",
    "\n",
    "\n",
    "\n"
   ]
  }
 ],
 "metadata": {
  "kernelspec": {
   "display_name": "Python 3 (ipykernel)",
   "language": "python",
   "name": "python3"
  },
  "language_info": {
   "codemirror_mode": {
    "name": "ipython",
    "version": 3
   },
   "file_extension": ".py",
   "mimetype": "text/x-python",
   "name": "python",
   "nbconvert_exporter": "python",
   "pygments_lexer": "ipython3",
   "version": "3.12.4"
  },
  "latex_envs": {
   "LaTeX_envs_menu_present": true,
   "autoclose": false,
   "autocomplete": true,
   "bibliofile": "biblio.bib",
   "cite_by": "apalike",
   "current_citInitial": 1,
   "eqLabelWithNumbers": true,
   "eqNumInitial": 1,
   "hotkeys": {
    "equation": "Ctrl-E",
    "itemize": "Ctrl-I"
   },
   "labels_anchors": false,
   "latex_user_defs": false,
   "report_style_numbering": false,
   "user_envs_cfg": false
  },
  "varInspector": {
   "cols": {
    "lenName": 16,
    "lenType": 16,
    "lenVar": 40
   },
   "kernels_config": {
    "python": {
     "delete_cmd_postfix": "",
     "delete_cmd_prefix": "del ",
     "library": "var_list.py",
     "varRefreshCmd": "print(var_dic_list())"
    },
    "r": {
     "delete_cmd_postfix": ") ",
     "delete_cmd_prefix": "rm(",
     "library": "var_list.r",
     "varRefreshCmd": "cat(var_dic_list()) "
    }
   },
   "types_to_exclude": [
    "module",
    "function",
    "builtin_function_or_method",
    "instance",
    "_Feature"
   ],
   "window_display": false
  }
 },
 "nbformat": 4,
 "nbformat_minor": 5
}
