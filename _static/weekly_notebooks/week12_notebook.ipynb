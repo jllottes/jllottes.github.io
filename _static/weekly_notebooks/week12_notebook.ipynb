{
 "cells": [
  {
   "cell_type": "markdown",
   "id": "b9708f98",
   "metadata": {},
   "source": [
    "# Monday, November 11th, 2024"
   ]
  },
  {
   "cell_type": "code",
   "execution_count": 1,
   "id": "ee63f15a",
   "metadata": {},
   "outputs": [],
   "source": [
    "import numpy as np\n",
    "import matplotlib.pyplot as plt"
   ]
  },
  {
   "cell_type": "markdown",
   "id": "0f991944",
   "metadata": {},
   "source": [
    "## Conway's Game of Life\n",
    "\n",
    "Conway's [Game of Life](https://conwaylife.com/wiki/Conway%27s_Game_of_Life) is a cellular automaton created by John Conway in 1970. Similar to the Mayfly model, it is a deterministic process to update the state of a population of cells.\n",
    "\n",
    "We will use 2D NumPy arrays to represent the population of cells aranged in an $n \\times n$ grid.\n",
    "A value of `1` will signify that a cell is alive while a value of `0` will signify that a cell is dead."
   ]
  },
  {
   "cell_type": "markdown",
   "id": "cc255c23",
   "metadata": {},
   "source": [
    "### Starting configuration\n",
    "\n",
    "Lets begin with an $ n\\times n $ array of all 0s with a small three-block column (3$\\times$1) of 1s in the middle. Use an integer datatype (`dtype=int`) when defining your array.\n",
    "\n",
    "**Exercise:**  Write a function `starting_state(n)` that returns the array described above."
   ]
  },
  {
   "cell_type": "code",
   "execution_count": 2,
   "id": "4c30e619",
   "metadata": {},
   "outputs": [],
   "source": [
    "def starting_state(n):\n",
    "    cells = np.zeros((n,n), dtype=int)    # Initialize an nxn array of zeross\n",
    "    cells[n//2 - 1: n//2 + 2, n//2] = 1\n",
    "    \n",
    "    return cells"
   ]
  },
  {
   "cell_type": "code",
   "execution_count": 3,
   "id": "3e68f1ae",
   "metadata": {},
   "outputs": [
    {
     "data": {
      "text/plain": [
       "<matplotlib.image.AxesImage at 0x1dd22058fd0>"
      ]
     },
     "execution_count": 3,
     "metadata": {},
     "output_type": "execute_result"
    },
    {
     "data": {
      "image/png": "[encoded data removed]",
      "text/plain": [
       "<Figure size 640x480 with 1 Axes>"
      ]
     },
     "metadata": {},
     "output_type": "display_data"
    }
   ],
   "source": [
    "cells = starting_state(10)\n",
    "\n",
    "plt.imshow(cells)"
   ]
  },
  {
   "cell_type": "markdown",
   "id": "9074b1c6",
   "metadata": {},
   "source": [
    "### Rules of Life"
   ]
  },
  {
   "cell_type": "markdown",
   "id": "f9fe839d",
   "metadata": {},
   "source": [
    "We will use the current state of the population to determine the next state.\n",
    "In the Game of Life, each cell interacts with its eight neighbors (i.e. the horizontally, vertically, or diagonally adjacent cells).\n",
    "\n",
    "![neighbors](https://jllottes.github.io/_images/epidemic-2.svg)\n",
    "\n",
    "The rules of the Game of Life can be summarized as follows:\n",
    "\n",
    " 1. Any live cell with two or three live neighbors survives.\n",
    " 2. Any dead cell with with three live neighbors becomes a live cell.\n",
    " 3. All other live cells die in the next generation, and all other dead cells stay dead."
   ]
  },
  {
   "cell_type": "markdown",
   "id": "b1018e5e",
   "metadata": {},
   "source": [
    "### Counting the number of live neighbors\n",
    "\n",
    "In order to update our array from one state to the next, we need to be able to count the number of live neighbors of the $(i,j)$th cell for any choice of $i,j$.\n",
    "\n",
    "**Exercise:** Write a function `count_live_neighbors(cells,i,j)` that counts the number of living neighbors of the $(i,j)$th cell.\n",
    "\n",
    " - We handled a similar problem with the [Image Denoising](https://jllottes.github.io/Projects/image_denoising/image_denoising) project.\n",
    " - How can we handle cells on the edge of the grid?\n",
    " - The `np.sum` function will add all values in an array.\n",
    " - We want to exclude (or remove from the sum) the $(i,j)$th cell when counting the number of living neighbors.\n",
    "\n"
   ]
  },
  {
   "cell_type": "code",
   "execution_count": 9,
   "id": "ff58e1bf",
   "metadata": {},
   "outputs": [],
   "source": [
    "def count_live_neighbors(cells,i,j):\n",
    "    # Similar to the Image Denoising project, let's build a padded version of cells:\n",
    "    nrows, ncols = cells.shape   # Get number of rows and columns of cells\n",
    "    padded_cells = np.zeros((nrows + 2, ncols +2), dtype=int)\n",
    "    padded_cells[1:-1, 1:-1] = cells      # Inset the cells array inside the padded cells\n",
    "    \n",
    "    grid = padded_cells[i:i+3, j:j+3] # Get a 3x3 grid centered on cell i,j from the padded array\n",
    "\n",
    "    live_neighbors = np.sum(grid) - grid[1,1] # Add the live neighbors (including the cell itself)\n",
    "                                              # and subtract the cell itself.\n",
    "        \n",
    "    return live_neighbors"
   ]
  },
  {
   "cell_type": "code",
   "execution_count": 21,
   "id": "7a3b4e79",
   "metadata": {},
   "outputs": [
    {
     "data": {
      "text/plain": [
       "3"
      ]
     },
     "execution_count": 21,
     "metadata": {},
     "output_type": "execute_result"
    }
   ],
   "source": [
    "count_live_neighbors(cells,5,6)"
   ]
  },
  {
   "cell_type": "markdown",
   "id": "da4a6ae4",
   "metadata": {},
   "source": [
    "### Updating the `cells` population\n",
    "\n",
    "We can now update the `cells` array according to the rules.  We have to update every entry of the array, so we will need to loop through all the entries.\n",
    "\n",
    "**Exercise:** Write a function `update_cells(cells)` that takes in a population array `cells`, applies the Rules of Life to update the population, and returns the updated population."
   ]
  },
  {
   "cell_type": "code",
   "execution_count": 23,
   "id": "877d9e7a",
   "metadata": {},
   "outputs": [],
   "source": [
    "def update_cells(cells):\n",
    "    updated_cells = cells.copy()\n",
    "    \n",
    "    nrows, ncols = cells.shape\n",
    "    for i in range(nrows):\n",
    "        for j in range(ncols):\n",
    "            live_neighbors = count_live_neighbors(cells,i,j)\n",
    "            # Rule 1\n",
    "            if cells[i,j] == 1:  # If the cell is alive:\n",
    "                if (live_neighbors == 2) or (live_neighbors == 3):\n",
    "                    updated_cells[i,j] = 1\n",
    "                else:\n",
    "                    updated_cells[i,j] = 0\n",
    "            # Rule 2\n",
    "            if cells[i,j] == 0: # If the cell is not alive:\n",
    "                if (live_neighbors == 3):\n",
    "                    updated_cells[i,j] = 1\n",
    "                else:\n",
    "                    updated_cells[i,j] = 0\n",
    "            # Rule 3\n",
    "            # If neither of the above rules applied, don't change anything\n",
    "\n",
    "    return updated_cells"
   ]
  },
  {
   "cell_type": "code",
   "execution_count": 25,
   "id": "4a119c69",
   "metadata": {},
   "outputs": [
    {
     "data": {
      "text/plain": [
       "<matplotlib.image.AxesImage at 0x1dd22804f10>"
      ]
     },
     "execution_count": 25,
     "metadata": {},
     "output_type": "execute_result"
    },
    {
     "data": {
      "image/png": "[encoded data removed]",
      "text/plain": [
       "<Figure size 1000x500 with 2 Axes>"
      ]
     },
     "metadata": {},
     "output_type": "display_data"
    }
   ],
   "source": [
    "updated_cells = update_cells(cells)\n",
    "\n",
    "plt.figure(figsize=(10,5))\n",
    "\n",
    "plt.subplot(1,2,1)\n",
    "plt.imshow(cells)\n",
    "\n",
    "plt.subplot(1,2,2)\n",
    "plt.imshow(updated_cells)"
   ]
  },
  {
   "cell_type": "markdown",
   "id": "fcc91ab3",
   "metadata": {},
   "source": [
    "### Animating the dynamics"
   ]
  },
  {
   "cell_type": "markdown",
   "id": "69e63d12",
   "metadata": {},
   "source": [
    "The `FuncAnimation` function from `matplotlib.animation` can be used to create animations.\n",
    "It takes in a figure `fig` and function `animate`. The `animate` function should take in a frame index `i` and perform any desired updates to the figure."
   ]
  },
  {
   "cell_type": "code",
   "execution_count": 27,
   "id": "09d01d54",
   "metadata": {},
   "outputs": [],
   "source": [
    "%matplotlib qt\n",
    "from matplotlib.animation import FuncAnimation"
   ]
  },
  {
   "cell_type": "markdown",
   "id": "4822296f",
   "metadata": {},
   "source": [
    "**Exercise:** Modify the code below to animate the Game of Life."
   ]
  },
  {
   "cell_type": "code",
   "execution_count": 34,
   "id": "e6584e24",
   "metadata": {},
   "outputs": [],
   "source": [
    "def starting_state(n):\n",
    "    cells = np.zeros((n,n), dtype=int)    # Initialize an nxn array of zeross\n",
    "    cells[n//2 - 2: n//2 + 2, n//2-1:n//2+1] = 1\n",
    "    \n",
    "    return cells"
   ]
  },
  {
   "cell_type": "code",
   "execution_count": 49,
   "id": "fc5372ea",
   "metadata": {},
   "outputs": [],
   "source": [
    "#cells = starting_state(10)   # Generates an initial configuration\n",
    "cells = np.zeros((10,10),dtype=int)\n",
    "live_mask = np.random.random(cells.shape) < 0.4\n",
    "cells[live_mask] = 1\n",
    "\n",
    "fig = plt.figure()\n",
    "im = plt.imshow(cells,vmin=0,vmax=1)               # Generate the initial plot\n",
    "\n",
    "def animate(i):\n",
    "    updated_cells = update_cells(cells)        # Get updated cells\n",
    "    cells[:,:] = updated_cells\n",
    "    im.set_data(cells)                             # Update the figure with new x array\n",
    "    return im\n",
    "\n",
    "anim = FuncAnimation(fig, animate, cache_frame_data=False)\n",
    "plt.show()"
   ]
  },
  {
   "cell_type": "markdown",
   "id": "9bde5fe8",
   "metadata": {},
   "source": [
    "**Exercise:** Use `np.random.rand` to randomly select an initial `cells` array of `0`s and `1`s."
   ]
  },
  {
   "cell_type": "code",
   "execution_count": null,
   "id": "19fab16b",
   "metadata": {},
   "outputs": [],
   "source": [
    "\n",
    "\n",
    "\n",
    "\n"
   ]
  },
  {
   "cell_type": "code",
   "execution_count": null,
   "id": "ac26c11d",
   "metadata": {},
   "outputs": [],
   "source": [
    "\n",
    "\n",
    "\n",
    "\n"
   ]
  }
 ],
 "metadata": {
  "kernelspec": {
   "display_name": "Python 3 (ipykernel)",
   "language": "python",
   "name": "python3"
  },
  "language_info": {
   "codemirror_mode": {
    "name": "ipython",
    "version": 3
   },
   "file_extension": ".py",
   "mimetype": "text/x-python",
   "name": "python",
   "nbconvert_exporter": "python",
   "pygments_lexer": "ipython3",
   "version": "3.11.5"
  },
  "latex_envs": {
   "LaTeX_envs_menu_present": true,
   "autoclose": false,
   "autocomplete": true,
   "bibliofile": "biblio.bib",
   "cite_by": "apalike",
   "current_citInitial": 1,
   "eqLabelWithNumbers": true,
   "eqNumInitial": 1,
   "hotkeys": {
    "equation": "Ctrl-E",
    "itemize": "Ctrl-I"
   },
   "labels_anchors": false,
   "latex_user_defs": false,
   "report_style_numbering": false,
   "user_envs_cfg": false
  },
  "varInspector": {
   "cols": {
    "lenName": 16,
    "lenType": 16,
    "lenVar": 40
   },
   "kernels_config": {
    "python": {
     "delete_cmd_postfix": "",
     "delete_cmd_prefix": "del ",
     "library": "var_list.py",
     "varRefreshCmd": "print(var_dic_list())"
    },
    "r": {
     "delete_cmd_postfix": ") ",
     "delete_cmd_prefix": "rm(",
     "library": "var_list.r",
     "varRefreshCmd": "cat(var_dic_list()) "
    }
   },
   "types_to_exclude": [
    "module",
    "function",
    "builtin_function_or_method",
    "instance",
    "_Feature"
   ],
   "window_display": false
  }
 },
 "nbformat": 4,
 "nbformat_minor": 5
}
