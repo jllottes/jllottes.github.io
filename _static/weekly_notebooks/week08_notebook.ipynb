{
 "cells": [
  {
   "cell_type": "markdown",
   "id": "a3f6efb5",
   "metadata": {},
   "source": [
    "# March 27th, 2023"
   ]
  },
  {
   "cell_type": "markdown",
   "id": "9d3144b0",
   "metadata": {},
   "source": [
    "## Tartan project\n",
    "\n",
    "Each student has been assigned a Tartan pattern to reproduce. They are also given a key describing how to reproduce that pattern.\n",
    "\n",
    "**Ex:** \n",
    "\n",
    "B: [44, 88, 120]\n",
    "\n",
    "K: [38, 10, 20]\n",
    "\n",
    "G: [130,200,70]\n",
    "\n",
    "These describe three different RGB color values. However, these integer values are normalized between `0-255` rather than floats normalized `0-1`."
   ]
  },
  {
   "cell_type": "code",
   "execution_count": 2,
   "id": "93fdb83b",
   "metadata": {},
   "outputs": [],
   "source": [
    "import numpy as np\n",
    "import matplotlib.pyplot as plt"
   ]
  },
  {
   "cell_type": "code",
   "execution_count": 39,
   "id": "ee29ba7e",
   "metadata": {},
   "outputs": [],
   "source": [
    "B = np.array([44, 88, 120])/255\n",
    "K = np.array([38, 10, 20])/255\n",
    "G = np.array([130, 200, 70])/255\n",
    "\n",
    "N = 40\n",
    "\n",
    "tartan_vert = np.zeros((N,N,3))\n",
    "tartan_vert[:,:10,:] = B\n",
    "tartan_vert[:,10:25,:] = K\n",
    "tartan_vert[:,25:32,:] = G\n",
    "tartan_vert[:,32:,:] = B\n",
    "\n",
    "tartan_hori = np.zeros((N,N,3))\n",
    "tartan_hori[:10,:,:] = B\n",
    "tartan_hori[10:25,:,:] = K\n",
    "tartan_hori[25:32,:,:] = G\n",
    "tartan_hori[32:,:,:] = B"
   ]
  },
  {
   "cell_type": "code",
   "execution_count": 43,
   "id": "7196c42f",
   "metadata": {},
   "outputs": [
    {
     "name": "stdout",
     "output_type": "stream",
     "text": [
      "Hi\\nThis is a new line\n"
     ]
    }
   ],
   "source": [
    "print(r'Hi\\nThis is a new line')"
   ]
  },
  {
   "cell_type": "code",
   "execution_count": null,
   "id": "e7d91e81",
   "metadata": {},
   "outputs": [],
   "source": []
  },
  {
   "cell_type": "code",
   "execution_count": 57,
   "id": "e769a2a8",
   "metadata": {},
   "outputs": [
    {
     "data": {
      "text/plain": [
       "<matplotlib.image.AxesImage at 0x17076307850>"
      ]
     },
     "execution_count": 57,
     "metadata": {},
     "output_type": "execute_result"
    },
    {
     "data": {
      "image/png": "[encoded data removed]",
      "text/plain": [
       "<Figure size 432x288 with 2 Axes>"
      ]
     },
     "metadata": {
      "needs_background": "light"
     },
     "output_type": "display_data"
    }
   ],
   "source": [
    "plt.subplot(1,2,1)\n",
    "plt.imshow(tartan_vert)\n",
    "\n",
    "plt.subplot(1,2,2)\n",
    "plt.imshow(tartan_hori)"
   ]
  },
  {
   "cell_type": "markdown",
   "id": "3f49efc3",
   "metadata": {},
   "source": [
    "Tasks for tartan project:\n",
    " * Generate a set of horizontal stripes with the specified colors and widths\n",
    "   * Write code to interpret the assigned pattern and generate the set of horizontal stripes\n",
    " * Generate a set of vertical stripes with the specified colors and widths\n",
    " * Interleave the horizontal and vertical stripes to create the tartan pattern"
   ]
  },
  {
   "cell_type": "markdown",
   "id": "bf488674",
   "metadata": {},
   "source": [
    "Suppose our given pattern is `B10 K15 G7 B8`"
   ]
  },
  {
   "cell_type": "code",
   "execution_count": 65,
   "id": "82a063d3",
   "metadata": {},
   "outputs": [],
   "source": [
    "colors = [ B,  K, G, B]\n",
    "widths = [10, 15, 7, 8]\n",
    "\n",
    "total_width = sum(widths)\n",
    "\n",
    "tartan_vert = np.zeros((total_width,total_width,3))\n",
    "\n",
    "start = 0\n",
    "for color, width in zip(colors,widths):\n",
    "    tartan_vert[:,start:start+width] = color\n",
    "    start += width"
   ]
  },
  {
   "cell_type": "code",
   "execution_count": 66,
   "id": "d5e7f196",
   "metadata": {},
   "outputs": [
    {
     "data": {
      "text/plain": [
       "<matplotlib.image.AxesImage at 0x1700000af10>"
      ]
     },
     "execution_count": 66,
     "metadata": {},
     "output_type": "execute_result"
    },
    {
     "data": {
      "image/png": "[encoded data removed]",
      "text/plain": [
       "<Figure size 432x288 with 1 Axes>"
      ]
     },
     "metadata": {
      "needs_background": "light"
     },
     "output_type": "display_data"
    }
   ],
   "source": [
    "plt.imshow(tartan_vert)"
   ]
  },
  {
   "cell_type": "code",
   "execution_count": 67,
   "id": "bfaf4777",
   "metadata": {},
   "outputs": [],
   "source": [
    "tartan = np.zeros((total_width,total_width,3))\n",
    "\n",
    "for i in range(total_width):\n",
    "    for j in range(total_width):\n",
    "        if (i + j) % 2 == 0:\n",
    "             tartan[i,j] = tartan_vert[i,j]\n",
    "        else:\n",
    "             tartan[i,j] = tartan_hori[i,j]"
   ]
  },
  {
   "cell_type": "code",
   "execution_count": 68,
   "id": "1e268672",
   "metadata": {},
   "outputs": [
    {
     "data": {
      "text/plain": [
       "<matplotlib.image.AxesImage at 0x1700007e550>"
      ]
     },
     "execution_count": 68,
     "metadata": {},
     "output_type": "execute_result"
    },
    {
     "data": {
      "image/png": "[encoded data removed]",
      "text/plain": [
       "<Figure size 432x288 with 1 Axes>"
      ]
     },
     "metadata": {
      "needs_background": "light"
     },
     "output_type": "display_data"
    }
   ],
   "source": [
    "plt.imshow(tartan)\n",
    "#plt.xlim(0,12)\n",
    "#plt.ylim(10,20)"
   ]
  },
  {
   "cell_type": "code",
   "execution_count": null,
   "id": "3c8d1e13",
   "metadata": {},
   "outputs": [],
   "source": []
  },
  {
   "cell_type": "markdown",
   "id": "3e9f522c",
   "metadata": {},
   "source": [
    "Optional idea: write code that parses a pattern string to find colors and widths"
   ]
  },
  {
   "cell_type": "code",
   "execution_count": 24,
   "id": "8f8ffe53",
   "metadata": {},
   "outputs": [],
   "source": [
    "B = [44, 44, 128]\n",
    "K = [16, 16, 16]\n",
    "G = [0, 104, 24]\n",
    "\n",
    "color_dict = {'B':B,\n",
    "              'K':K,\n",
    "              'G':G}"
   ]
  },
  {
   "cell_type": "code",
   "execution_count": 14,
   "id": "f3ab922e",
   "metadata": {},
   "outputs": [],
   "source": [
    "pattern = 'B2 K8 B8 G18 K4 G18 B8 K8 B2'\n",
    "stripe_strings = pattern.split()"
   ]
  },
  {
   "cell_type": "code",
   "execution_count": 16,
   "id": "84382577",
   "metadata": {},
   "outputs": [],
   "source": [
    "stripe_string = stripe_strings[0]"
   ]
  },
  {
   "cell_type": "code",
   "execution_count": 18,
   "id": "15d7fde8",
   "metadata": {},
   "outputs": [
    {
     "data": {
      "text/plain": [
       "'B2'"
      ]
     },
     "execution_count": 18,
     "metadata": {},
     "output_type": "execute_result"
    }
   ],
   "source": [
    "stripe_string"
   ]
  },
  {
   "cell_type": "code",
   "execution_count": 19,
   "id": "05a010bb",
   "metadata": {},
   "outputs": [],
   "source": [
    "# Assuming each color name has 1 letter:\n",
    "color_char = stripe_string[0]\n",
    "width = int(stripe_string[1:])"
   ]
  },
  {
   "cell_type": "code",
   "execution_count": 25,
   "id": "7d8ceef1",
   "metadata": {},
   "outputs": [],
   "source": [
    "color_chars = []\n",
    "colors = []\n",
    "widths = []\n",
    "\n",
    "for stripe_string in stripe_strings:\n",
    "    color_char = stripe_string[0]\n",
    "    color = color_dict[color_char]\n",
    "    width = int(stripe_string[1:])W\n",
    "    \n",
    "    color_chars.append(color_char)\n",
    "    colors.append(color)\n",
    "    widths.append(width)"
   ]
  },
  {
   "cell_type": "code",
   "execution_count": 26,
   "id": "26426c99",
   "metadata": {},
   "outputs": [
    {
     "data": {
      "text/plain": [
       "['B', 'K', 'B', 'G', 'K', 'G', 'B', 'K', 'B']"
      ]
     },
     "execution_count": 26,
     "metadata": {},
     "output_type": "execute_result"
    }
   ],
   "source": [
    "color_chars"
   ]
  },
  {
   "cell_type": "code",
   "execution_count": 27,
   "id": "83f2973f",
   "metadata": {},
   "outputs": [
    {
     "data": {
      "text/plain": [
       "[2, 8, 8, 18, 4, 18, 8, 8, 2]"
      ]
     },
     "execution_count": 27,
     "metadata": {},
     "output_type": "execute_result"
    }
   ],
   "source": [
    "widths"
   ]
  },
  {
   "cell_type": "code",
   "execution_count": 28,
   "id": "39b3eb0c",
   "metadata": {},
   "outputs": [
    {
     "data": {
      "text/plain": [
       "[[44, 44, 128],\n",
       " [16, 16, 16],\n",
       " [44, 44, 128],\n",
       " [0, 104, 24],\n",
       " [16, 16, 16],\n",
       " [0, 104, 24],\n",
       " [44, 44, 128],\n",
       " [16, 16, 16],\n",
       " [44, 44, 128]]"
      ]
     },
     "execution_count": 28,
     "metadata": {},
     "output_type": "execute_result"
    }
   ],
   "source": [
    "colors"
   ]
  }
 ],
 "metadata": {
  "kernelspec": {
   "display_name": "Python 3 (ipykernel)",
   "language": "python",
   "name": "python3"
  },
  "language_info": {
   "codemirror_mode": {
    "name": "ipython",
    "version": 3
   },
   "file_extension": ".py",
   "mimetype": "text/x-python",
   "name": "python",
   "nbconvert_exporter": "python",
   "pygments_lexer": "ipython3",
   "version": "3.9.7"
  }
 },
 "nbformat": 4,
 "nbformat_minor": 5
}
