{
 "cells": [
  {
   "cell_type": "markdown",
   "id": "1803a1f4",
   "metadata": {},
   "source": [
    "# Wednesday, October 16th, 2024"
   ]
  },
  {
   "cell_type": "code",
   "execution_count": 1,
   "id": "9b1400df",
   "metadata": {},
   "outputs": [],
   "source": [
    "import numpy as np\n",
    "import matplotlib.pyplot as plt"
   ]
  },
  {
   "cell_type": "markdown",
   "id": "f060c4dc",
   "metadata": {},
   "source": [
    "## Generating tartan patterns:"
   ]
  },
  {
   "cell_type": "markdown",
   "id": "84d30669",
   "metadata": {},
   "source": [
    "Let's try to generate a tartan pattern with the following layout:\n",
    " * One stripe of width `20` and RGB-value `(1,.7,.7)`\n",
    " * One stripe of width `35` and RGB-value `(0,.2,.9)`\n",
    " * One stripe of width `12` and RGB-value `(1,1,0)`\n",
    " * One stripe of width `18` and RGB-value `(.2,1,.2)`"
   ]
  },
  {
   "cell_type": "code",
   "execution_count": 33,
   "id": "4165322d",
   "metadata": {},
   "outputs": [],
   "source": [
    "vertical_stripes = np.zeros((85,85,3))  # 85x85 image with 3 layers for R,G,B\n",
    "\n",
    "vertical_stripes[:,0:20] = (1, .7, .7)\n",
    "vertical_stripes[:,20:55] = (0,.2,.9)\n",
    "vertical_stripes[:,55:67] = (1,1,0)\n",
    "vertical_stripes[:,67:85] = (.2,1,.2)"
   ]
  },
  {
   "cell_type": "markdown",
   "id": "bb47b3f7",
   "metadata": {},
   "source": [
    "While this code successfully generates the desired stripes, it is not adaptable at all to other patterns.\n",
    "\n",
    "**Exercise:** Try to generate these stripes in a more automated way."
   ]
  },
  {
   "cell_type": "code",
   "execution_count": 34,
   "id": "c8025773",
   "metadata": {},
   "outputs": [
    {
     "data": {
      "text/plain": [
       "<matplotlib.image.AxesImage at 0x238c3cf1510>"
      ]
     },
     "execution_count": 34,
     "metadata": {},
     "output_type": "execute_result"
    },
    {
     "data": {
      "image/png": "[encoded data removed]",
      "text/plain": [
       "<Figure size 640x480 with 1 Axes>"
      ]
     },
     "metadata": {},
     "output_type": "display_data"
    }
   ],
   "source": [
    "plt.imshow(vertical_stripes)"
   ]
  },
  {
   "cell_type": "code",
   "execution_count": 14,
   "id": "89705a7e",
   "metadata": {},
   "outputs": [
    {
     "name": "stdout",
     "output_type": "stream",
     "text": [
      "20 (1, 0.7, 0.7)\n",
      "35 (0, 0.2, 0.9)\n",
      "12 (1, 1, 0)\n",
      "18 (0.2, 1, 0.2)\n"
     ]
    }
   ],
   "source": [
    "widths = [20, 35, 12, 18]\n",
    "RGBs = [(1,.7,.7), (0,.2,.9), (1,1,0), (.2,1,.2)]\n",
    "\n",
    "for i in range(len(widths)): # iterate through the indices of each width\n",
    "    width = widths[i]\n",
    "    RGB = RGBs[i]\n",
    "    \n",
    "    print(width, RGB)"
   ]
  },
  {
   "cell_type": "markdown",
   "id": "d38893e9",
   "metadata": {},
   "source": [
    "We can use the `zip` function to iterate through two lists in parallel:"
   ]
  },
  {
   "cell_type": "code",
   "execution_count": 15,
   "id": "aed18a4f",
   "metadata": {},
   "outputs": [
    {
     "name": "stdout",
     "output_type": "stream",
     "text": [
      "20 (1, 0.7, 0.7)\n",
      "35 (0, 0.2, 0.9)\n",
      "12 (1, 1, 0)\n",
      "18 (0.2, 1, 0.2)\n"
     ]
    }
   ],
   "source": [
    "for width, RGB in zip(widths, RGBs):\n",
    "    print(width,RGB)"
   ]
  },
  {
   "cell_type": "markdown",
   "id": "0ac2cc91",
   "metadata": {},
   "source": [
    "Note: this functions completely differently from nested for loops, which would consider all possible combinations:"
   ]
  },
  {
   "cell_type": "code",
   "execution_count": 16,
   "id": "1c19205e",
   "metadata": {},
   "outputs": [
    {
     "name": "stdout",
     "output_type": "stream",
     "text": [
      "20 (1, 0.7, 0.7)\n",
      "20 (0, 0.2, 0.9)\n",
      "20 (1, 1, 0)\n",
      "20 (0.2, 1, 0.2)\n",
      "35 (1, 0.7, 0.7)\n",
      "35 (0, 0.2, 0.9)\n",
      "35 (1, 1, 0)\n",
      "35 (0.2, 1, 0.2)\n",
      "12 (1, 0.7, 0.7)\n",
      "12 (0, 0.2, 0.9)\n",
      "12 (1, 1, 0)\n",
      "12 (0.2, 1, 0.2)\n",
      "18 (1, 0.7, 0.7)\n",
      "18 (0, 0.2, 0.9)\n",
      "18 (1, 1, 0)\n",
      "18 (0.2, 1, 0.2)\n"
     ]
    }
   ],
   "source": [
    "for width in widths:\n",
    "    for RGB in RGBs:\n",
    "        print(width, RGB)"
   ]
  },
  {
   "cell_type": "markdown",
   "id": "cc32a97e",
   "metadata": {},
   "source": [
    "Alternatively, we can restructure our data:"
   ]
  },
  {
   "cell_type": "code",
   "execution_count": 17,
   "id": "a60205ec",
   "metadata": {},
   "outputs": [
    {
     "name": "stdout",
     "output_type": "stream",
     "text": [
      "20 (1, 0.7, 0.7)\n",
      "35 (0, 0.2, 0.9)\n",
      "12 (1, 1, 0)\n",
      "18 (0.2, 1, 0.2)\n"
     ]
    }
   ],
   "source": [
    "P = (1,.7,.7)\n",
    "B = (0,.2,.9)\n",
    "Y = (1,1,0)\n",
    "G = (.2,1,.2)\n",
    "\n",
    "width_RGBs = [(20, P), \n",
    "              (35, B), \n",
    "              (12, Y),\n",
    "              (18, G)]\n",
    "\n",
    "for width,RGB in width_RGBs:\n",
    "    print(width, RGB)"
   ]
  },
  {
   "cell_type": "code",
   "execution_count": 23,
   "id": "fe285c9c",
   "metadata": {},
   "outputs": [
    {
     "name": "stderr",
     "output_type": "stream",
     "text": [
      "No artists with labels found to put in legend.  Note that artists whose label start with an underscore are ignored when legend() is called with no argument.\n"
     ]
    },
    {
     "data": {
      "text/plain": [
       "<matplotlib.legend.Legend at 0x238c3c67910>"
      ]
     },
     "execution_count": 23,
     "metadata": {},
     "output_type": "execute_result"
    },
    {
     "data": {
      "image/png": "[encoded data removed]",
      "text/plain": [
       "<Figure size 640x480 with 1 Axes>"
      ]
     },
     "metadata": {},
     "output_type": "display_data"
    }
   ],
   "source": [
    "plt.plot([0,1],[0,1],label=None)\n",
    "plt.legend()"
   ]
  },
  {
   "cell_type": "code",
   "execution_count": 25,
   "id": "105a3cde",
   "metadata": {},
   "outputs": [
    {
     "name": "stdout",
     "output_type": "stream",
     "text": [
      "hello\\ngoodbye\n",
      "for real\n"
     ]
    }
   ],
   "source": [
    "print('hello\\\\ngoodbye\\nfor real')"
   ]
  },
  {
   "cell_type": "code",
   "execution_count": 26,
   "id": "17f5f415",
   "metadata": {},
   "outputs": [
    {
     "name": "stdout",
     "output_type": "stream",
     "text": [
      "hello\\\\ngoodbye\\nfor real\n"
     ]
    }
   ],
   "source": [
    "print(r'hello\\\\ngoodbye\\nfor real')"
   ]
  },
  {
   "cell_type": "markdown",
   "id": "07983e8f",
   "metadata": {},
   "source": [
    "Once we've generated vertical stripes, it is very easy to obtain the corresponding horizontal stripes using the `transpose` function (or the `.T` method)."
   ]
  },
  {
   "cell_type": "code",
   "execution_count": 35,
   "id": "9185380d",
   "metadata": {},
   "outputs": [],
   "source": [
    "my_array = np.arange(10).reshape(5,2)"
   ]
  },
  {
   "cell_type": "code",
   "execution_count": 36,
   "id": "dbbf472a",
   "metadata": {},
   "outputs": [
    {
     "data": {
      "text/plain": [
       "array([[0, 1],\n",
       "       [2, 3],\n",
       "       [4, 5],\n",
       "       [6, 7],\n",
       "       [8, 9]])"
      ]
     },
     "execution_count": 36,
     "metadata": {},
     "output_type": "execute_result"
    }
   ],
   "source": [
    "my_array"
   ]
  },
  {
   "cell_type": "code",
   "execution_count": 37,
   "id": "134cf2f1",
   "metadata": {},
   "outputs": [
    {
     "data": {
      "text/plain": [
       "array([[0, 2, 4, 6, 8],\n",
       "       [1, 3, 5, 7, 9]])"
      ]
     },
     "execution_count": 37,
     "metadata": {},
     "output_type": "execute_result"
    }
   ],
   "source": [
    "my_array.T"
   ]
  },
  {
   "cell_type": "code",
   "execution_count": 38,
   "id": "c17f110d",
   "metadata": {},
   "outputs": [
    {
     "data": {
      "text/plain": [
       "(85, 85, 3)"
      ]
     },
     "execution_count": 38,
     "metadata": {},
     "output_type": "execute_result"
    }
   ],
   "source": [
    "vertical_stripes.shape"
   ]
  },
  {
   "cell_type": "code",
   "execution_count": 40,
   "id": "6b6b32ce",
   "metadata": {},
   "outputs": [
    {
     "data": {
      "text/plain": [
       "(3, 85, 85)"
      ]
     },
     "execution_count": 40,
     "metadata": {},
     "output_type": "execute_result"
    }
   ],
   "source": [
    "(vertical_stripes.T).shape"
   ]
  },
  {
   "cell_type": "markdown",
   "id": "9313c637",
   "metadata": {},
   "source": [
    "For an `(M,N,3)` array of RGB data, we can't use the `.T` method since we want to obtain a `(N,M,3)` array (i.e. we just want to swap rows and columns).\n",
    "\n",
    "Instead, we can use `np.transpose`:"
   ]
  },
  {
   "cell_type": "code",
   "execution_count": 41,
   "id": "e882893e",
   "metadata": {},
   "outputs": [
    {
     "name": "stdout",
     "output_type": "stream",
     "text": [
      "Help on function transpose in module numpy:\n",
      "\n",
      "transpose(a, axes=None)\n",
      "    Returns an array with axes transposed.\n",
      "    \n",
      "    For a 1-D array, this returns an unchanged view of the original array, as a\n",
      "    transposed vector is simply the same vector.\n",
      "    To convert a 1-D array into a 2-D column vector, an additional dimension\n",
      "    must be added, e.g., ``np.atleast2d(a).T`` achieves this, as does\n",
      "    ``a[:, np.newaxis]``.\n",
      "    For a 2-D array, this is the standard matrix transpose.\n",
      "    For an n-D array, if axes are given, their order indicates how the\n",
      "    axes are permuted (see Examples). If axes are not provided, then\n",
      "    ``transpose(a).shape == a.shape[::-1]``.\n",
      "    \n",
      "    Parameters\n",
      "    ----------\n",
      "    a : array_like\n",
      "        Input array.\n",
      "    axes : tuple or list of ints, optional\n",
      "        If specified, it must be a tuple or list which contains a permutation\n",
      "        of [0,1,...,N-1] where N is the number of axes of `a`. The `i`'th axis\n",
      "        of the returned array will correspond to the axis numbered ``axes[i]``\n",
      "        of the input. If not specified, defaults to ``range(a.ndim)[::-1]``,\n",
      "        which reverses the order of the axes.\n",
      "    \n",
      "    Returns\n",
      "    -------\n",
      "    p : ndarray\n",
      "        `a` with its axes permuted. A view is returned whenever possible.\n",
      "    \n",
      "    See Also\n",
      "    --------\n",
      "    ndarray.transpose : Equivalent method.\n",
      "    moveaxis : Move axes of an array to new positions.\n",
      "    argsort : Return the indices that would sort an array.\n",
      "    \n",
      "    Notes\n",
      "    -----\n",
      "    Use ``transpose(a, argsort(axes))`` to invert the transposition of tensors\n",
      "    when using the `axes` keyword argument.\n",
      "    \n",
      "    Examples\n",
      "    --------\n",
      "    >>> a = np.array([[1, 2], [3, 4]])\n",
      "    >>> a\n",
      "    array([[1, 2],\n",
      "           [3, 4]])\n",
      "    >>> np.transpose(a)\n",
      "    array([[1, 3],\n",
      "           [2, 4]])\n",
      "    \n",
      "    >>> a = np.array([1, 2, 3, 4])\n",
      "    >>> a\n",
      "    array([1, 2, 3, 4])\n",
      "    >>> np.transpose(a)\n",
      "    array([1, 2, 3, 4])\n",
      "    \n",
      "    >>> a = np.ones((1, 2, 3))\n",
      "    >>> np.transpose(a, (1, 0, 2)).shape\n",
      "    (2, 1, 3)\n",
      "    \n",
      "    >>> a = np.ones((2, 3, 4, 5))\n",
      "    >>> np.transpose(a).shape\n",
      "    (5, 4, 3, 2)\n",
      "\n"
     ]
    }
   ],
   "source": [
    "help(np.transpose)"
   ]
  },
  {
   "cell_type": "markdown",
   "id": "0ec0e766",
   "metadata": {},
   "source": [
    "We want to swap rows and columns, which means we want to perform a permutation `[1,0,2]` on the dimensions of the array:"
   ]
  },
  {
   "cell_type": "code",
   "execution_count": 44,
   "id": "fb2c9210",
   "metadata": {},
   "outputs": [],
   "source": [
    "horizontal_stripes = np.transpose(vertical_stripes,[1,0,2])"
   ]
  },
  {
   "cell_type": "code",
   "execution_count": 45,
   "id": "c4849164",
   "metadata": {},
   "outputs": [
    {
     "data": {
      "text/plain": [
       "<matplotlib.image.AxesImage at 0x238c3b39610>"
      ]
     },
     "execution_count": 45,
     "metadata": {},
     "output_type": "execute_result"
    },
    {
     "data": {
      "image/png": "[encoded data removed]",
      "text/plain": [
       "<Figure size 640x480 with 1 Axes>"
      ]
     },
     "metadata": {},
     "output_type": "display_data"
    }
   ],
   "source": [
    "plt.imshow(horizontal_stripes)"
   ]
  }
 ],
 "metadata": {
  "kernelspec": {
   "display_name": "Python 3 (ipykernel)",
   "language": "python",
   "name": "python3"
  },
  "language_info": {
   "codemirror_mode": {
    "name": "ipython",
    "version": 3
   },
   "file_extension": ".py",
   "mimetype": "text/x-python",
   "name": "python",
   "nbconvert_exporter": "python",
   "pygments_lexer": "ipython3",
   "version": "3.11.5"
  }
 },
 "nbformat": 4,
 "nbformat_minor": 5
}
