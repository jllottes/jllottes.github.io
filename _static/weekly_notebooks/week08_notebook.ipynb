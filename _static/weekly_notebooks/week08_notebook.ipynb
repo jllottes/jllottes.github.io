{
 "cells": [
  {
   "cell_type": "markdown",
   "id": "faa8bb45-c1ac-4999-9638-335fb3693952",
   "metadata": {},
   "source": [
    "# Wednesday, October 15th, 2025\n",
    "\n",
    "## [Project 3: Tartans (continued)](https://jllottes.github.io/Projects/tartans/tartans.html)\n",
    "\n",
    "Last week, we worked on generating tartans from a given recipe. We considered the following example of a tartan recipe:\n",
    "\n",
    "Pattern : \n",
    "> B14 K6 B6 K6 B6 K32 OG32\n",
    "\n",
    "where the colors B, K, and OG are given by the RGB triples:\n",
    "\n",
    "> B : [52, 80, 100]<br>\n",
    "> K : [16, 16, 16]<br>\n",
    "> OG : [92, 100, 40]\n",
    "\n",
    "We talked last week about how to use Python to algorithmically create the `vertical_stripes` array. Our approach depended on two lists, `colors` and `widths`, which we defined based on the tartan recipe."
   ]
  },
  {
   "cell_type": "code",
   "execution_count": 20,
   "id": "4373ea7f-b364-4d84-8ab4-1fc7407be895",
   "metadata": {},
   "outputs": [],
   "source": [
    "B = [52, 80, 100]\n",
    "K = [16, 16, 16]\n",
    "OG = [92, 100, 40]\n",
    "\n",
    "colors = [B, K, B, K, B, K, OG]\n",
    "widths = [14, 6, 6, 6, 6, 32, 32]"
   ]
  },
  {
   "cell_type": "markdown",
   "id": "71b73845-8ea2-4eff-bb12-3634eb4a4b96",
   "metadata": {},
   "source": [
    "This is a reasonable way to represent our tartan pattern in Python, but it still required us to carefully enter the correct sequence of colors and corresponding widths. It would be nice if we could use Python to process the tartan recipe directly to minimize the amount of manual work. As a starting point, let's define a string storing the tartan recipe:"
   ]
  },
  {
   "cell_type": "code",
   "execution_count": 2,
   "id": "ab3e1bde-5348-4442-93e0-4c50a93dbde4",
   "metadata": {},
   "outputs": [],
   "source": [
    "tartan_recipe = 'B14 K6 B6 K6 B6 K32 OG32'"
   ]
  },
  {
   "cell_type": "markdown",
   "id": "4520b982-71e3-41ee-b8b8-519a7b5d0e15",
   "metadata": {},
   "source": [
    "Can we use Python to generate the `colors` and `widths` lists directly from the `tartan_recipe` string?"
   ]
  },
  {
   "cell_type": "markdown",
   "id": "9c9b2567-16e5-4b78-8a02-742f9a37cff1",
   "metadata": {},
   "source": [
    "## String processing\n",
    "\n",
    "We have already seen some useful tools for working with strings in Python. For example:\n",
    " - The `.join` method allows us to concatenate a list of strings using a given string as a separator.\n",
    " - The `.format` method allows us to plug values into a string template.\n",
    "\n",
    "Another helpful tool is the `.split` method, which allows us to separate a string into a list of substrings. The syntax is something like:\n",
    " > `some_string.split(some_separator)`\n",
    "\n",
    "This will separate the `some_string` string into a list of substrings, where each separation occurs whenever the `some_separator` string is found within `some_string`."
   ]
  },
  {
   "cell_type": "code",
   "execution_count": 4,
   "id": "f31de86b-aa0d-448c-9b29-90284818e6b9",
   "metadata": {},
   "outputs": [
    {
     "name": "stdout",
     "output_type": "stream",
     "text": [
      "['Hello, th', ' ', ' a test string.']\n"
     ]
    }
   ],
   "source": [
    "my_string = 'Hello, this is a test string.'\n",
    "my_separator = 'is'\n",
    "\n",
    "print(my_string.split(my_separator))"
   ]
  },
  {
   "cell_type": "markdown",
   "id": "dd8f3035-92af-4341-95e7-7fac641acc7a",
   "metadata": {},
   "source": [
    "Note: If we call the `.split` method with no input variable, by default the string will be split anywhere there is white space (e.g. spaces, tabs, line breaks, etc.)."
   ]
  },
  {
   "cell_type": "code",
   "execution_count": 5,
   "id": "4353585f-bafd-4041-a941-c84faa8116ca",
   "metadata": {},
   "outputs": [
    {
     "name": "stdout",
     "output_type": "stream",
     "text": [
      "['Hello,', 'this', 'is', 'a', 'test', 'string.']\n"
     ]
    }
   ],
   "source": [
    "print(my_string.split())"
   ]
  },
  {
   "cell_type": "markdown",
   "id": "f8a92f30-e7e5-434e-a147-0a16366abdcb",
   "metadata": {},
   "source": [
    "We can then apply the `.split` method to the `tartan_recipe` string to get a sequence of substrings, each of which represents a particular stripe."
   ]
  },
  {
   "cell_type": "code",
   "execution_count": 6,
   "id": "987b7e25-73d6-4b9d-8859-f2d06794ad74",
   "metadata": {},
   "outputs": [
    {
     "name": "stdout",
     "output_type": "stream",
     "text": [
      "['B14', 'K6', 'B6', 'K6', 'B6', 'K32', 'OG32']\n"
     ]
    }
   ],
   "source": [
    "stripe_recipes = tartan_recipe.split()\n",
    "print(stripe_recipes)"
   ]
  },
  {
   "cell_type": "markdown",
   "id": "b2d71503-aec6-4f0b-930c-5c9acd576a34",
   "metadata": {},
   "source": [
    "Can we iterate through each of these stripe recipes and pick out the color and width?"
   ]
  },
  {
   "cell_type": "code",
   "execution_count": 7,
   "id": "e4b32818-5a7c-46e7-84fb-f3379207600b",
   "metadata": {},
   "outputs": [
    {
     "name": "stdout",
     "output_type": "stream",
     "text": [
      "['B', 'K', 'B', 'K', 'B', 'K', 'O']\n",
      "['14', '6', '6', '6', '6', '32', 'G32']\n"
     ]
    }
   ],
   "source": [
    "colors = []\n",
    "widths = []\n",
    "\n",
    "for stripe_recipe in stripe_recipes:\n",
    "    color = stripe_recipe[0]\n",
    "    width = stripe_recipe[1:]\n",
    "    colors.append(color)\n",
    "    widths.append(width)\n",
    "\n",
    "print(colors)\n",
    "print(widths)"
   ]
  },
  {
   "cell_type": "markdown",
   "id": "00ce490b-5522-4bec-b065-52c98be0d468",
   "metadata": {},
   "source": [
    "Problem: We can't just take the first character from `stripe_recipe` as the color code, because some color codes have two characters (e.g. `'OG'`)."
   ]
  },
  {
   "cell_type": "markdown",
   "id": "88675805-cf00-4138-bcef-f16c7ab81547",
   "metadata": {},
   "source": [
    "It would be very helpful if we could pick out which parts of a string are letters and which parts of a string are numbers. The following methods (called on a string) can help with this:\n",
    " - The `.isalpha` method will return `True` if the string contains only alphabetic characters (i.e. letters).\n",
    " - The `.isnumeric` method will return `True` if the string contains only numeric characters (i.e. numbers)."
   ]
  },
  {
   "cell_type": "code",
   "execution_count": 9,
   "id": "942b6764-871d-4a9c-9d44-fa5dbd9b3e5f",
   "metadata": {},
   "outputs": [
    {
     "name": "stdout",
     "output_type": "stream",
     "text": [
      "1\n",
      "2\n",
      "3\n",
      "4\n",
      "5\n",
      "6\n",
      "7\n",
      "8\n",
      "9\n",
      "1\n",
      "0\n",
      "4\n",
      "3\n",
      "2\n",
      "1\n"
     ]
    }
   ],
   "source": [
    "my_string = 'Hello 1234 this 567 string 8910 contains letters and 4321 numbers.'\n",
    "\n",
    "alpha_chars = []\n",
    "\n",
    "for char in my_string:\n",
    "    if char.isnumeric():\n",
    "        print(char)\n",
    "    if char.isalpha():\n",
    "        alpha_chars.append(char)"
   ]
  },
  {
   "cell_type": "code",
   "execution_count": 10,
   "id": "d874b784-312e-473a-b1cd-8e5e97c062af",
   "metadata": {},
   "outputs": [
    {
     "name": "stdout",
     "output_type": "stream",
     "text": [
      "['H', 'e', 'l', 'l', 'o', 't', 'h', 'i', 's', 's', 't', 'r', 'i', 'n', 'g', 'c', 'o', 'n', 't', 'a', 'i', 'n', 's', 'l', 'e', 't', 't', 'e', 'r', 's', 'a', 'n', 'd', 'n', 'u', 'm', 'b', 'e', 'r', 's']\n"
     ]
    }
   ],
   "source": [
    "print(alpha_chars)"
   ]
  },
  {
   "cell_type": "code",
   "execution_count": 11,
   "id": "90b3bc1d-c460-4ca0-bd91-4808e21ee2df",
   "metadata": {},
   "outputs": [
    {
     "name": "stdout",
     "output_type": "stream",
     "text": [
      "Hellothisstringcontainslettersandnumbers\n"
     ]
    }
   ],
   "source": [
    "print(''.join(alpha_chars))"
   ]
  },
  {
   "cell_type": "markdown",
   "id": "14aa5fed-2669-42e6-82d9-8dd474617338",
   "metadata": {},
   "source": [
    "**Exercise:** Write a function that takes in a tartan recipe string and returns a list of color codes (e.g. `['B', 'K', 'B', ...]`) and widths."
   ]
  },
  {
   "cell_type": "code",
   "execution_count": 22,
   "id": "01bac47e-c88d-4289-8809-495e0f1392b5",
   "metadata": {},
   "outputs": [
    {
     "name": "stdout",
     "output_type": "stream",
     "text": [
      "['B', 'K', 'B', 'K', 'B', 'K', 'OG']\n",
      "[14, 6, 6, 6, 6, 32, 32]\n"
     ]
    }
   ],
   "source": [
    "color_codes = []\n",
    "widths = []\n",
    "\n",
    "for stripe_recipe in stripe_recipes:\n",
    "    color_code = ''\n",
    "    width_str = ''\n",
    "    for char in stripe_recipe:\n",
    "        if char.isalpha():\n",
    "            color_code = color_code + char\n",
    "        if char.isnumeric():\n",
    "            width_str = width_str + char\n",
    "    color_codes.append(color_code)\n",
    "    widths.append(int(width_str))\n",
    "\n",
    "print(color_codes)\n",
    "print(widths)"
   ]
  },
  {
   "cell_type": "markdown",
   "id": "1f0c0a89-25d4-47c3-86d5-50f22145152c",
   "metadata": {},
   "source": [
    "Let's try to rewrite this using list comprehension:"
   ]
  },
  {
   "cell_type": "code",
   "execution_count": 23,
   "id": "4343ae35-27de-487b-ac99-a7dda681c79a",
   "metadata": {},
   "outputs": [
    {
     "name": "stdout",
     "output_type": "stream",
     "text": [
      "['B', 'K', 'B', 'K', 'B', 'K', 'OG']\n",
      "[14, 6, 6, 6, 6, 32, 32]\n"
     ]
    }
   ],
   "source": [
    "color_codes = []\n",
    "widths = []\n",
    "\n",
    "for stripe_recipe in stripe_recipes:\n",
    "    color_code = ''.join([char for char in stripe_recipe if char.isalpha()])\n",
    "    width_str = ''.join([char for char in stripe_recipe if char.isnumeric()])\n",
    "    color_codes.append(color_code)\n",
    "    widths.append(int(width_str))\n",
    "\n",
    "print(color_codes)\n",
    "print(widths)"
   ]
  },
  {
   "cell_type": "markdown",
   "id": "b7149d97-26e8-4978-8d43-29b5e007f3c5",
   "metadata": {},
   "source": [
    "From the above, we can pick out the color code strings from the tartan recipe. On the other hand, in order to generate our `vertical_stripes` array, we need to get the corresponding RGB triples (not just the color code strings). How can accomplish this?"
   ]
  },
  {
   "cell_type": "code",
   "execution_count": 27,
   "id": "1d070309-20f1-4198-844a-741fb1e7f43c",
   "metadata": {},
   "outputs": [
    {
     "name": "stdout",
     "output_type": "stream",
     "text": [
      "[52, 80, 100]\n",
      "[16, 16, 16]\n",
      "[92, 100, 40]\n"
     ]
    }
   ],
   "source": [
    "print(B)\n",
    "print(K)\n",
    "print(OG)"
   ]
  },
  {
   "cell_type": "code",
   "execution_count": 29,
   "id": "26fd2f6a-a020-4f2f-b90b-e1d6cbdec876",
   "metadata": {},
   "outputs": [
    {
     "name": "stdout",
     "output_type": "stream",
     "text": [
      "[[52, 80, 100], [16, 16, 16], [52, 80, 100], [16, 16, 16], [52, 80, 100], [16, 16, 16], [92, 100, 40]]\n"
     ]
    }
   ],
   "source": [
    "color_codes = ['B', 'K', 'B', 'K', 'B', 'K', 'OG']\n",
    "\n",
    "colors = []\n",
    "for color_code in color_codes:\n",
    "    if color_code == 'B':\n",
    "        colors.append(B)\n",
    "    elif color_code == 'K':\n",
    "        colors.append(K)\n",
    "    elif color_code == 'OG':\n",
    "        colors.append(OG)\n",
    "print(colors)  "
   ]
  },
  {
   "cell_type": "markdown",
   "id": "38bbc70c-5f65-4c15-b4b5-48011ed7efdd",
   "metadata": {},
   "source": [
    "It would be convenient if we could define a mapping that maps each color code to its respective RGB triple."
   ]
  },
  {
   "cell_type": "markdown",
   "id": "d730f112-5d5e-4dd2-bcb3-9948552c60df",
   "metadata": {},
   "source": [
    "## Dictionaries\n",
    "\n",
    "Let's consider a list, `my_list`:"
   ]
  },
  {
   "cell_type": "code",
   "execution_count": 30,
   "id": "162dba4b-a81b-4b14-a456-23467b8ec635",
   "metadata": {},
   "outputs": [],
   "source": [
    "my_list = ['Hello', 'World', 'Goodbye', 7]"
   ]
  },
  {
   "cell_type": "markdown",
   "id": "d71b4f49-b0f2-4f48-a4e1-a773e46c782b",
   "metadata": {},
   "source": [
    "We can think of `my_list` as a mapping between indices `0`, `1`, `2`, `3`, and values `'Hello'`, `'World'`, `'Goodbye'`, `7`. That is, we have the following mappings:\n",
    " - index `0` maps to value `'Hello'`,\n",
    " - index `1` maps to value `'World'`,\n",
    " - index `2` maps to value `'Goodbye'`,\n",
    " - index `3` maps to value `7`.\n",
    "\n",
    "To retrieve values of a list, we can \"plug in\" an index using square brackets `[]`:"
   ]
  },
  {
   "cell_type": "code",
   "execution_count": 31,
   "id": "94c9fda0-8d43-43ef-be47-49d6c9591ce8",
   "metadata": {},
   "outputs": [
    {
     "name": "stdout",
     "output_type": "stream",
     "text": [
      "Hello\n"
     ]
    }
   ],
   "source": [
    "print(my_list[0])"
   ]
  },
  {
   "cell_type": "code",
   "execution_count": 32,
   "id": "9b2d3ad9-f7c0-4580-8676-622b51e4814e",
   "metadata": {},
   "outputs": [
    {
     "name": "stdout",
     "output_type": "stream",
     "text": [
      "7\n"
     ]
    }
   ],
   "source": [
    "print(my_list[3])"
   ]
  },
  {
   "cell_type": "markdown",
   "id": "d5f12d63-c441-4e29-be6f-ad20a09df88e",
   "metadata": {},
   "source": [
    "A Python *dictionary* works very similarly, except that instead of a map from indices to values, we have a map from *keys* to values. These keys do not need to be integers `0`, `1`, `2`, ..., but are more flexible. Dictionary keys can include integers, floats, strings, tuples, functions, and many other types (anything that is *immutable*).\n",
    "\n",
    "To define a dictionary, we can use curly braces `{}` containing a comma-separated sequence of `<key>:<value>` mappings. For example, suppose we want to construct a dictionary with the following mappings:\n",
    " - key `5` maps to value `'Hello!'`,\n",
    " - key `(0,255,0)` maps to `'Green'`,\n",
    " - key `'Good'` maps to value `10`,\n",
    " - key `'Bad'` maps to value `0`,\n",
    " - key `'Red'` maps to value `(255,0,0)`.\n"
   ]
  },
  {
   "cell_type": "code",
   "execution_count": 34,
   "id": "d3f9b2b4-fc49-4649-833a-f40168940006",
   "metadata": {},
   "outputs": [],
   "source": [
    "my_dictionary = {5: 'Hello!', \n",
    "                 (0,255,0): 'Green', \n",
    "                 'Good': 10, \n",
    "                 'Bad': 0, \n",
    "                 'Red': (255,0,0)}"
   ]
  },
  {
   "cell_type": "markdown",
   "id": "79bf4918-83ae-431c-b9fa-9b53e424a03a",
   "metadata": {},
   "source": [
    "Just like with lists, we can \"plug in\" a key to the dictionary and retrieve the corresponding value using square brackets `[]`."
   ]
  },
  {
   "cell_type": "code",
   "execution_count": 35,
   "id": "672d8658-74d6-4cde-8ad5-46cf55294e9e",
   "metadata": {},
   "outputs": [
    {
     "data": {
      "text/plain": [
       "(255, 0, 0)"
      ]
     },
     "execution_count": 35,
     "metadata": {},
     "output_type": "execute_result"
    }
   ],
   "source": [
    "my_dictionary['Red']"
   ]
  },
  {
   "cell_type": "markdown",
   "id": "792df0a2-ec75-447a-8fb9-766adc03678a",
   "metadata": {},
   "source": [
    "Note: unlike lists , we cannot use slicing with dictionaries. This is because the dictionaries do not have any inherent order in Python.\n",
    "\n",
    "If desired, we can access the keys of a dictionary using the `.keys` method. Similarly, we can access the values using the `.values` method. Finally, we can access key/value pairs using the `.items` method."
   ]
  },
  {
   "cell_type": "code",
   "execution_count": 36,
   "id": "7027d1bd-a566-4814-996e-92ae1f85a1ea",
   "metadata": {},
   "outputs": [
    {
     "data": {
      "text/plain": [
       "dict_keys([5, (0, 255, 0), 'Good', 'Bad', 'Red'])"
      ]
     },
     "execution_count": 36,
     "metadata": {},
     "output_type": "execute_result"
    }
   ],
   "source": [
    "my_dictionary.keys()"
   ]
  },
  {
   "cell_type": "code",
   "execution_count": 37,
   "id": "187da0ef-e99f-4060-834a-05c03e3fc280",
   "metadata": {},
   "outputs": [
    {
     "data": {
      "text/plain": [
       "dict_values(['Hello!', 'Green', 10, 0, (255, 0, 0)])"
      ]
     },
     "execution_count": 37,
     "metadata": {},
     "output_type": "execute_result"
    }
   ],
   "source": [
    "my_dictionary.values()"
   ]
  },
  {
   "cell_type": "code",
   "execution_count": 38,
   "id": "a9b5722d-fb32-4f60-80db-2b7a35a2dd06",
   "metadata": {},
   "outputs": [
    {
     "data": {
      "text/plain": [
       "dict_items([(5, 'Hello!'), ((0, 255, 0), 'Green'), ('Good', 10), ('Bad', 0), ('Red', (255, 0, 0))])"
      ]
     },
     "execution_count": 38,
     "metadata": {},
     "output_type": "execute_result"
    }
   ],
   "source": [
    "my_dictionary.items()"
   ]
  },
  {
   "cell_type": "markdown",
   "id": "73911f03-6202-41e9-b8a0-15176ec9b4e6",
   "metadata": {},
   "source": [
    "This allows us to iterate through dictionaries in several ways:\n",
    "\n",
    " - `for key in my_dictionary.keys()` will iterate through each key of the dictionary. We can also write `for key in my_dictionary`, which will still iterate through the keys. \n",
    " - `for value in my_dictionary.values()` will iterate through each value of the dictionary.\n",
    " - `for key, value in my_dictionary.items()` will iterate through each key/value pair."
   ]
  },
  {
   "cell_type": "code",
   "execution_count": 39,
   "id": "7351f834-e361-4d2f-9972-71f6f042fb6f",
   "metadata": {},
   "outputs": [
    {
     "name": "stdout",
     "output_type": "stream",
     "text": [
      "Key: 5\n",
      "Value: Hello!\n",
      "\n",
      "Key: (0, 255, 0)\n",
      "Value: Green\n",
      "\n",
      "Key: Good\n",
      "Value: 10\n",
      "\n",
      "Key: Bad\n",
      "Value: 0\n",
      "\n",
      "Key: Red\n",
      "Value: (255, 0, 0)\n",
      "\n"
     ]
    }
   ],
   "source": [
    "for key in my_dictionary:\n",
    "    print('Key:', key)\n",
    "    print('Value:', my_dictionary[key])\n",
    "    print()"
   ]
  },
  {
   "cell_type": "code",
   "execution_count": 40,
   "id": "c3799abd-bbd4-4f62-a76c-2c3d33822142",
   "metadata": {},
   "outputs": [
    {
     "name": "stdout",
     "output_type": "stream",
     "text": [
      "Key: 5\n",
      "Value: Hello!\n",
      "\n",
      "Key: (0, 255, 0)\n",
      "Value: Green\n",
      "\n",
      "Key: Good\n",
      "Value: 10\n",
      "\n",
      "Key: Bad\n",
      "Value: 0\n",
      "\n",
      "Key: Red\n",
      "Value: (255, 0, 0)\n",
      "\n"
     ]
    }
   ],
   "source": [
    "for key, value in my_dictionary.items():\n",
    "    print('Key:', key)\n",
    "    print('Value:', value)\n",
    "    print()"
   ]
  },
  {
   "cell_type": "markdown",
   "id": "9bc87864-1fe1-4bc8-bf1c-4d4c9df6a1f8",
   "metadata": {},
   "source": [
    "**Exercise:** Write a dictionary whose keys are the color codes `'B'`, `'K'`, and `'OG'` and whose values are the corresponding RGB triples."
   ]
  },
  {
   "cell_type": "code",
   "execution_count": null,
   "id": "59cfe5cc-97ee-4303-976d-a8bde42b0e3a",
   "metadata": {},
   "outputs": [],
   "source": []
  },
  {
   "cell_type": "markdown",
   "id": "e67c0b0b-3697-4163-87e3-a97f45efad30",
   "metadata": {},
   "source": [
    "**Exercise:** Use the `color_codes` list and the above dictionary to construct a list `colors` containing the RGB triples for each stripe in the tartan recipe."
   ]
  },
  {
   "cell_type": "code",
   "execution_count": null,
   "id": "52f51346-8696-433a-b4d6-4660a07af6cd",
   "metadata": {},
   "outputs": [],
   "source": []
  },
  {
   "cell_type": "markdown",
   "id": "f0b46c9e-4d25-4cda-a76c-1bfdc82d7f89",
   "metadata": {},
   "source": [
    "Other examples where dictionaries may be useful:"
   ]
  },
  {
   "cell_type": "code",
   "execution_count": 44,
   "id": "b34cbfce-1b6f-4545-aa47-a85c859b8f89",
   "metadata": {},
   "outputs": [],
   "source": [
    "my_bio_data = {'first name': 'Jonathan',\n",
    "               'last name': 'Lottes',\n",
    "               'age': 36,\n",
    "               'city': 'Buffalo'}\n",
    "\n",
    "Bonnie_bio_data = {'first name': 'Bonnie',\n",
    "                   'last name': 'Lottes',\n",
    "                   'age': 34,\n",
    "                   'city': 'Buffalo'}\n",
    "\n",
    "bio_data = {'Jonathan Lottes': my_bio_data,\n",
    "            'Bonnie Lottes': Bonnie_bio_data}"
   ]
  },
  {
   "cell_type": "code",
   "execution_count": 46,
   "id": "5a8fda11-6665-4e7d-9fb1-36376ec65462",
   "metadata": {},
   "outputs": [
    {
     "data": {
      "text/plain": [
       "36"
      ]
     },
     "execution_count": 46,
     "metadata": {},
     "output_type": "execute_result"
    }
   ],
   "source": [
    "bio_data['Jonathan Lottes']['age']"
   ]
  },
  {
   "cell_type": "markdown",
   "id": "8caae416-0ec9-42a3-beb6-47d7c9c125e0",
   "metadata": {},
   "source": [
    "## Remaining tasks to be addressed for Project 3:\n",
    " - We have discussed how to combine the `vertical_stripes` and `horizontal_stripes` arrays in a checkerboard pattern. We will need to use the more authentic pattern described on the project page to combine these arrays to generate our tartan image.\n",
    " - We are told to recreate a tartan image that is `500` rows by `500` columns. On the other hand, the tartan recipe does not add up to a total width of `500`. We will need to think about how to repeat the pattern to fill the entire `(500, 500, 3)` array."
   ]
  },
  {
   "cell_type": "code",
   "execution_count": 49,
   "id": "ec65c5c3-5556-4c7f-83ce-947138b709de",
   "metadata": {},
   "outputs": [],
   "source": [
    "recipe = '''T4 W44 T40 LT6 T6 LT6 T6 LT48 T6 LT6 T6 LT6 T40 W44 T4\n",
    "T : [96, 64, 0]\n",
    "W : [224, 224, 224]\n",
    "LT : [160, 136, 88]'''"
   ]
  },
  {
   "cell_type": "code",
   "execution_count": 50,
   "id": "df440ae3-122f-4bf6-8cbc-bcca1b0cc369",
   "metadata": {},
   "outputs": [
    {
     "data": {
      "text/plain": [
       "['T4 W44 T40 LT6 T6 LT6 T6 LT48 T6 LT6 T6 LT6 T40 W44 T4',\n",
       " 'T : [96, 64, 0]',\n",
       " 'W : [224, 224, 224]',\n",
       " 'LT : [160, 136, 88]']"
      ]
     },
     "execution_count": 50,
     "metadata": {},
     "output_type": "execute_result"
    }
   ],
   "source": [
    "recipe.split('\\n')"
   ]
  }
 ],
 "metadata": {
  "kernelspec": {
   "display_name": "Python 3 (ipykernel)",
   "language": "python",
   "name": "python3"
  },
  "language_info": {
   "codemirror_mode": {
    "name": "ipython",
    "version": 3
   },
   "file_extension": ".py",
   "mimetype": "text/x-python",
   "name": "python",
   "nbconvert_exporter": "python",
   "pygments_lexer": "ipython3",
   "version": "3.13.5"
  }
 },
 "nbformat": 4,
 "nbformat_minor": 5
}
