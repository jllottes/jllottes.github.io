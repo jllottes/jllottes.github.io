{
 "cells": [
  {
   "cell_type": "markdown",
   "id": "73a3a1fb-669c-4f28-983c-9ffc63a6034c",
   "metadata": {},
   "source": [
    "# Wednesday, October 22nd, 2025"
   ]
  },
  {
   "cell_type": "code",
   "execution_count": null,
   "id": "23495054-2c46-47cd-9ff0-1f64e92a0d27",
   "metadata": {},
   "outputs": [],
   "source": [
    "import numpy as np\n",
    "import matplotlib.pyplot as plt"
   ]
  },
  {
   "cell_type": "markdown",
   "id": "cbd9391e-cd53-45d5-ab05-53838c319251",
   "metadata": {},
   "source": [
    "## [Project 4 - Image denoising](https://jllottes.github.io/Projects/image_denoising/image_denoising.html) (continued)\n",
    "\n",
    "Last class, we discussed adding salt and pepper noise to a grayscale image. This culiminated in the following exercise:\n",
    "\n",
    "**Exercise.** Use the sample code from last class to write a function `sp_noise(img, noise)` that adds salt and pepper noise to an image. Its first argument `img` should be a 2-dimensional numpy array representing the image and the second argument `noise` should be the fraction of pixels that are to be replaced by noise (for example, with `noise = 0.05` about 5% of pixels should be noise, consisting in roughly equal parts of white and black pixels). The function should return a 2-dimensional numpy array representing the original image with noise added."
   ]
  },
  {
   "cell_type": "code",
   "execution_count": null,
   "id": "25bc77fe-3991-4d15-9cb9-9a62342f0099",
   "metadata": {},
   "outputs": [],
   "source": []
  },
  {
   "cell_type": "markdown",
   "id": "63704eac-5d78-4c44-8b7c-8dc57390024e",
   "metadata": {},
   "source": [
    "For now, we can use the pre-noised image that we downloaded last class. The pre-noised image has noise added to the `face.png` file shared on the project page. We can download that image as well to compare the two.\n",
    "\n",
    "Alternatively, you can select any clean image you would like and use the `sp_noise` function to produce a noisy version."
   ]
  },
  {
   "cell_type": "code",
   "execution_count": null,
   "id": "e07c04cf-e1df-4617-90f8-34546900f482",
   "metadata": {},
   "outputs": [],
   "source": [
    "img = plt.imread('face.png')\n",
    "noisy_img = plt.imread('noisy_img.png')\n",
    "\n",
    "plt.figure(figsize=(10,5))\n",
    "\n",
    "plt.subplot(1,2,1)\n",
    "plt.imshow(img)\n",
    "plt.title('Original image')\n",
    "plt.axis('off')\n",
    "\n",
    "plt.subplot(1,2,2)\n",
    "plt.imshow(noisy_img)\n",
    "plt.title('Noisy image')\n",
    "plt.axis('off')\n",
    "\n",
    "plt.tight_layout()"
   ]
  },
  {
   "cell_type": "markdown",
   "id": "c1e0cff7-519c-4589-b137-381f51dabb7f",
   "metadata": {},
   "source": [
    "### The mean and median filters\n",
    "\n",
    "A description of the mean filter is provided on the [project page](https://jllottes.github.io/Projects/image_denoising/image_denoising.html). Let's try to apply the mean filter.\n",
    "\n",
    "- For right now, we will use a `3` by `3` grid centered centered at each pixel to compute the mean.\n",
    "- For right now, we will ignore all pixels at the edges of the image.\n",
    "\n",
    "Again, let's make a copy `filtered_img` of the noisy array that we will filter so that we do not modify the noisy array."
   ]
  },
  {
   "cell_type": "code",
   "execution_count": null,
   "id": "95775661-e4e2-4da1-865c-e48ffc1a985c",
   "metadata": {},
   "outputs": [],
   "source": [
    "filtered_img = noisy_img.copy()"
   ]
  },
  {
   "cell_type": "markdown",
   "id": "68354575-89d9-47f6-b3bd-725ab772d265",
   "metadata": {},
   "source": [
    "If we are considering the pixel in the `i`th row and `j`th column (i.e. `noisy_img[i,j]`, we want a `3` by `3` slice centered on the `[i,j]`th pixel. That is, we want a slice that includes the `i-1`, `i`, and `i+1` rows and the `j-1`, `j`, and `j+1` columns."
   ]
  },
  {
   "cell_type": "code",
   "execution_count": null,
   "id": "83e41e41-95ef-4a11-94cb-1d1773f19f4b",
   "metadata": {},
   "outputs": [],
   "source": []
  },
  {
   "cell_type": "markdown",
   "id": "8fc96998-bfcc-407f-a0a3-ca7ba69f884d",
   "metadata": {},
   "source": [
    "What about the median filter? The `np.median` function will compute the median of an array."
   ]
  },
  {
   "cell_type": "code",
   "execution_count": null,
   "id": "77b7582c-35da-43ba-9a4f-82eb64a3548f",
   "metadata": {},
   "outputs": [],
   "source": []
  },
  {
   "cell_type": "markdown",
   "id": "5504532c-77b6-4c70-b0b4-4cd8d831137b",
   "metadata": {},
   "source": [
    "**Exercise:** Use code above to write a function `simple_mean_filter` that applies the mean filter to non-edge pixels using a `3` by `3` grid."
   ]
  },
  {
   "cell_type": "code",
   "execution_count": null,
   "id": "61b10380-d716-48a4-b0ee-e6c52307cb3a",
   "metadata": {},
   "outputs": [],
   "source": []
  },
  {
   "cell_type": "markdown",
   "id": "c83ca50a-10d4-498a-a5b4-ae9602a38af1",
   "metadata": {},
   "source": [
    "**Exercise:** Modify the `simple_mean_filter` function to write a `simple_median_filter` that instead applies the median filter."
   ]
  },
  {
   "cell_type": "code",
   "execution_count": null,
   "id": "a7409602-8e59-4c1c-9d20-6252c5834ee7",
   "metadata": {},
   "outputs": [],
   "source": []
  },
  {
   "cell_type": "markdown",
   "id": "8efd6d56-842c-4573-a05d-b464d0dad7d2",
   "metadata": {},
   "source": [
    "**Note**: We could combine these two functions into a single `simple_filter` function that takes in a noisy image array (`noisy_img`) along with some function (`filter_func`) that will be applied to each grid.\n",
    "\n",
    "The `filter_func` input should be a function that takes in an 2D array and returns a float (e.g. `np.mean` or `np.median`)."
   ]
  },
  {
   "cell_type": "code",
   "execution_count": null,
   "id": "3065a28b-915d-4ad5-be00-a0854dd1567f",
   "metadata": {},
   "outputs": [],
   "source": []
  },
  {
   "cell_type": "markdown",
   "id": "65f64659-c8dd-45b3-8f6e-a71e34d2f321",
   "metadata": {},
   "source": [
    "Let's apply these filters to the `noisy_img` array and compare them. We can create a `2` by `2` grid of subplots that show the original image, the noisy version, and each filtered version. How do these filters perform?"
   ]
  },
  {
   "cell_type": "code",
   "execution_count": null,
   "id": "ec007b4d-49e1-4d8a-8bbd-dbcb0ebdcd66",
   "metadata": {},
   "outputs": [],
   "source": []
  },
  {
   "cell_type": "markdown",
   "id": "3b63b38e-15ca-4ab0-8250-d2526b8005db",
   "metadata": {},
   "source": [
    "### Dealing with edge pixels\n",
    "\n",
    "With the simple filters written above, we ignored filtering pixels along the edge of the image. Let's try to deal with them now.\n",
    "\n",
    "The [project page](https://jllottes.github.io/Projects/image_denoising/image_denoising.html#edge-pixels) discusses adding extra rows/columns to our array so that we are able to construct a `3` by `3` grid centered at all pixels of our original image.\n",
    "\n",
    "If we are using `3` by `3` grids, we need to add one extra row/column on all sides. Our strategy then is to:\n",
    " - Create an array `padded_img` that has two additional rows and two additional columns than the `noisy_img` array;\n",
    " - Place the contents of the `noisy_img` array into a slice of the `padded_img` array that skips the first and last rows and first and last columns;\n",
    " - Apply the the mean/median filter to each of the non-edge pixels of the `padded_img` (which corresponds to applying the filter to every pixel of the `noisy_img` array)."
   ]
  },
  {
   "cell_type": "code",
   "execution_count": null,
   "id": "764dd66e-3a20-451c-8023-6f2c1b2eca13",
   "metadata": {},
   "outputs": [],
   "source": []
  },
  {
   "cell_type": "code",
   "execution_count": null,
   "id": "515a65b5-a1fe-4466-be18-fe93db0ed2e9",
   "metadata": {},
   "outputs": [],
   "source": []
  },
  {
   "cell_type": "markdown",
   "id": "a69e0035-0be7-4ac4-888a-725f0170e855",
   "metadata": {},
   "source": [
    "**Note**: We have added black border to the `padded_img` (since we used `np.zeros`), which propogates into the `filtered_img` when we take any mean that includes padded pixels. We could instead add a white border (by using `np.ones`), but that's not any better. We could split the difference by using `np.ones(...)/2` to use a gray border. For the project, it might be a good idea to think of other ways that one could deal with filtering pixels along the edges.\n",
    "\n",
    "Let's try to turn the sample code above into some functions that we can use more broadly.\n",
    "\n",
    "**Exercise:** Write a function `get_padded_img(img, pad)` that takes in a 2D array `img` and returns a padded array that adds `pad` rows at the top, bottom, left, and right of the array."
   ]
  },
  {
   "cell_type": "code",
   "execution_count": null,
   "id": "d2033d47-646e-4a41-9dcf-5a2bdc3e132e",
   "metadata": {},
   "outputs": [],
   "source": []
  },
  {
   "cell_type": "markdown",
   "id": "4cb7d67e-1380-42c0-a0ff-7b48681910a7",
   "metadata": {},
   "source": [
    "**Exercise:** Write a function `edge_filter` that takes in a noisy image array and applies the mean/median filter to every pixel (including edges) using a `3` by `3` grid."
   ]
  },
  {
   "cell_type": "code",
   "execution_count": null,
   "id": "80a3fb37-8327-4921-a642-e24e6d2729a7",
   "metadata": {},
   "outputs": [],
   "source": []
  },
  {
   "cell_type": "markdown",
   "id": "eae7a6ea-1be0-4cc1-b6b7-35d473affeba",
   "metadata": {},
   "source": [
    "### Grid size\n",
    "\n",
    "So far, we've been applying the mean/median filters using specifically a `3` by `3` grid centered on each pixel. What if we wan to use grids of different sizes, say `s=3`, `s=5`, `s=7`,...?\n",
    "\n",
    "Let's think through how we would change our code to treat `5` by `5` grids. For now, let's again ignore the filtering of edge pixels."
   ]
  },
  {
   "cell_type": "code",
   "execution_count": null,
   "id": "7651f6c1-e9c1-4f03-aefa-3e174a101f6c",
   "metadata": {},
   "outputs": [],
   "source": []
  },
  {
   "cell_type": "markdown",
   "id": "681ec55f-685d-4a40-b120-6eaabc4ade84",
   "metadata": {},
   "source": [
    "What about `7` by `7` grids?"
   ]
  },
  {
   "cell_type": "code",
   "execution_count": null,
   "id": "1ba3a0b4-31b5-4286-b062-9eb772b76bbe",
   "metadata": {},
   "outputs": [],
   "source": []
  },
  {
   "cell_type": "markdown",
   "id": "ec12465a-c250-4362-972e-fc2dc3354f3e",
   "metadata": {},
   "source": [
    "**Exercise:** Modify the examples above to take in a parameter `s`, which is an odd integer, and apply the mean/median filter using an `s` by `s` grid. You can skip filtering any rows/columns along the edge as necessary."
   ]
  },
  {
   "cell_type": "code",
   "execution_count": null,
   "id": "13f67cc2-0062-4e42-ab5e-686c3f8a7b41",
   "metadata": {},
   "outputs": [],
   "source": []
  },
  {
   "cell_type": "markdown",
   "id": "170df4b9-91a0-4ddd-8978-ff90d1736155",
   "metadata": {},
   "source": [
    "**Exercise:** Combine the two discussions (dealing with different grid sizes and dealing with edge pixels) to write functions `mean_filter(img, s)` and `median_filter(img,s)` that apply the mean/median filters to an input 2D array `img` using `s` by `s` grids, including all edge pixels."
   ]
  },
  {
   "cell_type": "code",
   "execution_count": null,
   "id": "ec3a881a-5da8-4e0e-bf9a-a1e0f88d6dea",
   "metadata": {},
   "outputs": [],
   "source": []
  },
  {
   "cell_type": "code",
   "execution_count": null,
   "id": "63b48b32-e645-4c03-a881-567f227cc259",
   "metadata": {},
   "outputs": [],
   "source": [
    "total_width = 102\n",
    "vertical_stripes = np.zeros((total_width, total_width, 3), dtype=int)"
   ]
  },
  {
   "cell_type": "code",
   "execution_count": null,
   "id": "2fe6c477-bee3-4e31-b904-ee602736f18b",
   "metadata": {},
   "outputs": [],
   "source": [
    "vertical_stripes[:,0:14] = (52, 80, 100)\n",
    "vertical_stripes[:,14:20] = (16, 16, 16)\n",
    "vertical_stripes[:,20:26] = (52, 80, 100)\n",
    "vertical_stripes[:,26:32] = (16, 16, 16)\n",
    "vertical_stripes[:,32:38] = (52, 80, 100)\n",
    "vertical_stripes[:,38:70] = (16, 16, 16)\n",
    "vertical_stripes[:,70:102] = (92, 100, 40)\n",
    "\n",
    "#plt.imshow(vertical_stripes)"
   ]
  },
  {
   "cell_type": "code",
   "execution_count": null,
   "id": "d921f23c-5d11-4199-b343-c2b870766c3c",
   "metadata": {},
   "outputs": [],
   "source": [
    "B = [52, 80, 100]\n",
    "K = [16, 16, 16]\n",
    "OG = [92, 100, 40]\n",
    "\n",
    "colors = [B, K, B, K, B, K, OG]\n",
    "widths = [14, 6, 6, 6, 6, 32, 32]"
   ]
  },
  {
   "cell_type": "code",
   "execution_count": null,
   "id": "d570ed1e-e0d6-4e3e-bc3b-d9e6803e3037",
   "metadata": {},
   "outputs": [],
   "source": [
    "stripe_start = 0\n",
    "for color, width in zip(colors, widths):\n",
    "    vertical_stripes[:, stripe_start : stripe_start + width] = color\n",
    "    stripe_start = stripe_start + width"
   ]
  },
  {
   "cell_type": "code",
   "execution_count": null,
   "id": "7d88f3ee-47ba-4c94-adb3-b01849e82665",
   "metadata": {},
   "outputs": [],
   "source": [
    "plt.imshow(vertical_stripes)"
   ]
  },
  {
   "cell_type": "code",
   "execution_count": null,
   "id": "b2922c53-2dc7-4cde-a3e6-34ad4b0b8843",
   "metadata": {},
   "outputs": [],
   "source": [
    "actual_tartan = plt.imread('campbell_sample4.png')"
   ]
  },
  {
   "cell_type": "code",
   "execution_count": null,
   "id": "aee90238-9598-49a1-8f86-84efc561a838",
   "metadata": {},
   "outputs": [],
   "source": [
    "print(actual_tartan.shape)"
   ]
  },
  {
   "cell_type": "code",
   "execution_count": null,
   "id": "6818ef8f-9e71-4700-b98f-3047f0ebc238",
   "metadata": {},
   "outputs": [],
   "source": [
    "print(actual_tartan.dtype)"
   ]
  },
  {
   "cell_type": "code",
   "execution_count": null,
   "id": "5b859f13-12a6-4824-bc23-c4449a63c782",
   "metadata": {},
   "outputs": [],
   "source": [
    "print(actual_tartan[0,0])"
   ]
  },
  {
   "cell_type": "code",
   "execution_count": null,
   "id": "854f89df-b10f-4b4d-b1c8-84b4877a0768",
   "metadata": {},
   "outputs": [],
   "source": [
    "actual_tartan = (255 * actual_tartan[:,:,:3]).astype(int)"
   ]
  },
  {
   "cell_type": "code",
   "execution_count": null,
   "id": "809b8998-f90d-44de-b8fc-b3bc7081493a",
   "metadata": {},
   "outputs": [],
   "source": [
    "plt.imshow(actual_tartan)"
   ]
  },
  {
   "cell_type": "code",
   "execution_count": null,
   "id": "146b2bc3-553f-43fb-9b87-3b21c072ffc2",
   "metadata": {},
   "outputs": [],
   "source": [
    "tartan = actual_tartan.copy()\n",
    "tartan = tartan + (255 * (np.random.random(tartan.shape) -.5)/20).astype(int)"
   ]
  },
  {
   "cell_type": "code",
   "execution_count": null,
   "id": "355d8d89-474d-481d-9449-dc1006b35e7f",
   "metadata": {},
   "outputs": [],
   "source": [
    "np.max(np.abs(tartan - actual_tartan))"
   ]
  },
  {
   "cell_type": "code",
   "execution_count": null,
   "id": "2cf84faa-dfde-4303-9771-7e4f756cbec5",
   "metadata": {},
   "outputs": [],
   "source": [
    "plt.imshow(tartan)"
   ]
  },
  {
   "cell_type": "code",
   "execution_count": null,
   "id": "3e81ffe7-115b-477a-8bd8-a8716b28af6b",
   "metadata": {},
   "outputs": [],
   "source": [
    "fig = plt.figure(figsize=(10,5))\n",
    "\n",
    "plt.subplot(1,2,1)\n",
    "plt.imshow(actual_tartan[:50, :50])\n",
    "plt.axis('off')\n",
    "\n",
    "plt.subplot(1,2,2)\n",
    "plt.imshow(tartan[:50, :50])\n",
    "plt.axis('off')\n",
    "\n",
    "plt.tight_layout()"
   ]
  },
  {
   "cell_type": "code",
   "execution_count": null,
   "id": "2e807aae-502c-4e1e-9d7e-c0f716525cc8",
   "metadata": {},
   "outputs": [],
   "source": []
  },
  {
   "cell_type": "code",
   "execution_count": null,
   "id": "adb74bc8-4f9a-40bf-ba0d-b878a3d6ee48",
   "metadata": {},
   "outputs": [],
   "source": [
    "difference = np.mean(np.abs(tartan - actual_tartan), axis=2)"
   ]
  },
  {
   "cell_type": "code",
   "execution_count": null,
   "id": "7acd56f8-6bac-45be-b1b6-6584e26baf91",
   "metadata": {},
   "outputs": [],
   "source": [
    "plt.imshow(difference, cmap='gray')"
   ]
  },
  {
   "cell_type": "code",
   "execution_count": null,
   "id": "8df31b2d-7fe8-4aed-8b4b-f49940e5d495",
   "metadata": {},
   "outputs": [],
   "source": [
    "N = 1000\n",
    "\n",
    "colors = [B, K, B, K, B, K, OG]\n",
    "widths = [14, 6, 6, 6, 6, 32, 32]\n",
    "\n",
    "total_width = sum(widths)\n",
    "while total_width < N:\n",
    "    widths = widths + widths\n",
    "    colors = colors + colors\n",
    "    total_width = sum(widths)"
   ]
  },
  {
   "cell_type": "code",
   "execution_count": null,
   "id": "67ac2e5b-efc0-45d1-bb2b-a9ca1e196fef",
   "metadata": {},
   "outputs": [],
   "source": [
    "sum(widths)"
   ]
  },
  {
   "cell_type": "code",
   "execution_count": null,
   "id": "72e7e6af-5a5b-469a-927a-1da2ab9fd142",
   "metadata": {},
   "outputs": [],
   "source": [
    "tartan[:N, :N]"
   ]
  }
 ],
 "metadata": {
  "kernelspec": {
   "display_name": "Python 3 (ipykernel)",
   "language": "python",
   "name": "python3"
  },
  "language_info": {
   "codemirror_mode": {
    "name": "ipython",
    "version": 3
   },
   "file_extension": ".py",
   "mimetype": "text/x-python",
   "name": "python",
   "nbconvert_exporter": "python",
   "pygments_lexer": "ipython3",
   "version": "3.13.5"
  }
 },
 "nbformat": 4,
 "nbformat_minor": 5
}
