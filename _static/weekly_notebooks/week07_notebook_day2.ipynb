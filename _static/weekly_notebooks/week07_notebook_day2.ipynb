{
 "cells": [
  {
   "cell_type": "markdown",
   "id": "255388ef-701f-4e24-a1bd-f99c07277159",
   "metadata": {},
   "source": [
    "# Wednesday, October 8th, 2025"
   ]
  },
  {
   "cell_type": "code",
   "execution_count": null,
   "id": "2da77f9b-af1c-44a7-bb32-48c6fa5a631a",
   "metadata": {},
   "outputs": [],
   "source": [
    "import numpy as np\n",
    "import matplotlib.pyplot as plt"
   ]
  },
  {
   "cell_type": "markdown",
   "id": "f389b7e3-5404-44db-b20a-193b40a40484",
   "metadata": {},
   "source": [
    "## [Project 3: Tartans](https://jllottes.github.io/Projects/tartans/tartans.html)\n",
    "\n",
    "Last time, we worked through generating arrays for the vertical and horizontal stripes used to create a tartan pattern.\n",
    "\n",
    "Pattern : \n",
    "> B14 K6 B6 K6 B6 K32 OG32\n",
    "\n",
    "where the colors B, K, and OG are given by the RGB triples:\n",
    "\n",
    "> B : [52, 80, 100]<br>\n",
    "> K : [16, 16, 16]<br>\n",
    "> OG : [92, 100, 40]"
   ]
  },
  {
   "cell_type": "code",
   "execution_count": null,
   "id": "5cf7368b-7e22-411e-ab38-d081f96fda29",
   "metadata": {},
   "outputs": [],
   "source": [
    "total_width = 14 + 6 + 6 + 6 + 6 + 32 + 32\n",
    "\n",
    "vertical_stripes = np.zeros((total_width, total_width, 3), dtype=int)\n",
    "vertical_stripes[:,:14] = (52, 80, 100)\n",
    "vertical_stripes[:,14:20] = (16, 16, 16)\n",
    "vertical_stripes[:,20:26] = (52, 80, 100)\n",
    "vertical_stripes[:,26:32] = (16, 16, 16)\n",
    "vertical_stripes[:,32:38] = (52, 80, 100)\n",
    "vertical_stripes[:,38:70] = (16, 16, 16)\n",
    "vertical_stripes[:,70:102] = (92, 100, 40)\n",
    "\n",
    "horizontal_stripes = np.transpose(vertical_stripes, axes=[1,0,2])"
   ]
  },
  {
   "cell_type": "markdown",
   "id": "5c32654f-a722-4ded-8fb4-ac5885377f68",
   "metadata": {},
   "source": [
    "Let's see what the `vertical_stripes` and `horiztonal_stripes` arrays look like:"
   ]
  },
  {
   "cell_type": "code",
   "execution_count": null,
   "id": "d5837417-3a91-4e1b-ba40-b0b87406c344",
   "metadata": {},
   "outputs": [],
   "source": [
    "fig = plt.figure(figsize=(8,4))\n",
    "\n",
    "plt.subplot(1,2,1)\n",
    "plt.imshow(vertical_stripes)\n",
    "plt.title('Vertical stripes')\n",
    "plt.axis('off')\n",
    "\n",
    "plt.subplot(1,2,2)\n",
    "plt.imshow(horizontal_stripes)\n",
    "plt.title('Horizontal stripes')\n",
    "plt.axis('off')\n",
    "\n",
    "plt.tight_layout()"
   ]
  },
  {
   "cell_type": "markdown",
   "id": "485b3cbb-7bd9-4bd8-8839-4d8dc2c797e5",
   "metadata": {},
   "source": [
    "**Exercise:** Create a `checkerboard_tartan` array that combines the `vertical_stripes` and `horizontal_stripes` arrays in checkerboard pattern."
   ]
  },
  {
   "cell_type": "code",
   "execution_count": null,
   "id": "384c60e8-744f-4d16-a9bb-1e0d85c9e70c",
   "metadata": {},
   "outputs": [],
   "source": [
    "checkerboard_tartan = np.zeros((total_width, total_width, 3), dtype=int)\n",
    "\n",
    "for row in range(total_width):\n",
    "    for col in range(total_width):\n",
    "        # Write some logic to get the checkboard pattern...\n",
    "        checkerboard_tartan[row,col] = vertical_stripes[row,col]     # Choose a color from the vertical_stripes array sometimes\n",
    "        checkerboard_tartan[row,col] = horizontal_stripes[row,col]   # Choose a color from the horizontal_stripes array other times"
   ]
  },
  {
   "cell_type": "code",
   "execution_count": null,
   "id": "a35a1db0-4ae9-40bf-a731-c121045553bb",
   "metadata": {},
   "outputs": [],
   "source": []
  },
  {
   "cell_type": "markdown",
   "id": "56869a98-5cfa-4778-b839-723db9b926bc",
   "metadata": {},
   "source": [
    "### Generating the `vertical_stripes` array algorithmically\n",
    "\n",
    "As mentioned last class, we would like to come up with a better way to generate the `vertical_stripes` array. That is, we don't want to have to manually define each stripe line-by-line, and we don't want to have to calculate appropriate slices by hand.\n",
    "\n",
    "As a first step, let's focus on converting the given tartan pattern into something type of data that we can iterate through. \n",
    "\n",
    "Pattern : \n",
    "> B14 K6 B6 K6 B6 K32 OG32\n",
    "\n",
    "where the colors B, K, and OG are given by the RGB triples:\n",
    "\n",
    "> B : [52, 80, 100]<br>\n",
    "> K : [16, 16, 16]<br>\n",
    "> OG : [92, 100, 40]\n",
    "\n",
    "Can we code this information as some sort of Python list(s)?"
   ]
  },
  {
   "cell_type": "code",
   "execution_count": null,
   "id": "6ec068f9-5255-44a6-aeee-f2045db5ad50",
   "metadata": {},
   "outputs": [],
   "source": []
  },
  {
   "cell_type": "markdown",
   "id": "283585e9-407e-434f-a412-b982cf3d87ce",
   "metadata": {},
   "source": [
    "Can we find the total width of the pattern without manually adding the widths by hand?"
   ]
  },
  {
   "cell_type": "code",
   "execution_count": null,
   "id": "508d1139-afac-456f-b1bd-db2e197be557",
   "metadata": {},
   "outputs": [],
   "source": []
  },
  {
   "cell_type": "markdown",
   "id": "2770fb98-fd74-40d6-ac79-77b35d5240d4",
   "metadata": {},
   "source": [
    "With the total width calculated, we can intialize the `vertical_stripes` array that we will then fill with colored stripes.\n",
    "\n",
    "**Exercise:** Use a `for` loop to iterate through each width/RGB pair and add the corresponding stripe to the `vertical_stripes` array."
   ]
  },
  {
   "cell_type": "code",
   "execution_count": null,
   "id": "5511ef6f-aaf4-46da-baea-4e661453d1bd",
   "metadata": {},
   "outputs": [],
   "source": []
  },
  {
   "cell_type": "markdown",
   "id": "76fadbbc-dcba-4d3d-acd8-f30215980f3d",
   "metadata": {},
   "source": [
    "This is a huge improvement on our previous code. Can we do better? It would be nice if we could use Python to automatically process the \"recipe\" to generate the lists of widths and colors. We will talk next week about how to process strings in a way that will help with this task.\n",
    "\n",
    "We also need to tackle the following challenges for the project:\n",
    " - We need to generate the more authentic tartan pattern described in the project page.\n",
    " - We need to repeat our tartan pattern to fill a `500` by `500` image.\n",
    "\n",
    "## Boolean NumPy arrays\n",
    "\n",
    "A Boolean array is just a NumPy array that contains `True` and `False` values. That is, the `dtype` of the array is `Bool`. We can easily contruct Boolean arrays using Boolean expressions with arrays."
   ]
  },
  {
   "cell_type": "code",
   "execution_count": null,
   "id": "e636f887-1db6-4c37-a92c-eba2055219d9",
   "metadata": {},
   "outputs": [],
   "source": [
    "a = np.arange(25).reshape(5,5)\n",
    "print(a)"
   ]
  },
  {
   "cell_type": "code",
   "execution_count": null,
   "id": "1ff62a12-fee3-4195-8608-c94484a8b21f",
   "metadata": {},
   "outputs": [],
   "source": [
    "print(a > 10)"
   ]
  },
  {
   "cell_type": "code",
   "execution_count": null,
   "id": "237bb064-bf19-4e39-bd50-def65cb25d1b",
   "metadata": {},
   "outputs": [],
   "source": [
    "print(a % 3 == 1)"
   ]
  },
  {
   "cell_type": "markdown",
   "id": "533a18ac-2da1-4758-85f5-7d52eebc2935",
   "metadata": {},
   "source": [
    "We can use logical operators on Boolean arrays:\n",
    " - `~` will negate a Boolean array (that is, `True` becomes `False` and vice-versa),\n",
    " - `&` works like `and` for two Boolean arrays, and\n",
    " - `|` works like `or` for two Boolean arrays."
   ]
  },
  {
   "cell_type": "code",
   "execution_count": null,
   "id": "e8c63e46-132b-4b0e-b443-7503e1758f03",
   "metadata": {},
   "outputs": [],
   "source": [
    "print((a % 2 == 0) | ~(a > 10))"
   ]
  },
  {
   "cell_type": "markdown",
   "id": "118f3f7d-61e2-4c80-ba58-c815c41ee9a7",
   "metadata": {},
   "source": [
    "### Boolean masks\n",
    "\n",
    "One of the biggest strengths of using Boolean arrays is that they can be used as slicing tools for other arrays. For example, if `a` is an array (of any type) and `mask` is a Boolean array of the same shape, then `a[mask]` is a slice of the `a` array containing only the values where the corresponding value of `mask` is `True`.\n",
    "\n",
    "We call this type of slicing *masking*, and the Boolean array the *mask*."
   ]
  },
  {
   "cell_type": "code",
   "execution_count": null,
   "id": "720fe799-819d-4c10-94a7-9194f7df6008",
   "metadata": {},
   "outputs": [],
   "source": [
    "print(a)"
   ]
  },
  {
   "cell_type": "markdown",
   "id": "0269f67b-374a-4d63-8241-c86d1d4ba17a",
   "metadata": {},
   "source": [
    "Suppose we want to identify the elements of the `a` array that have remainder `1` after division by `3`."
   ]
  },
  {
   "cell_type": "code",
   "execution_count": null,
   "id": "5033f0cc-16a9-467c-96f8-bd8437ad6e14",
   "metadata": {},
   "outputs": [],
   "source": [
    "mask = (a % 3 == 1)\n",
    "print(a[mask])"
   ]
  },
  {
   "cell_type": "markdown",
   "id": "83516b3a-8537-46a0-a7cd-7404241ff518",
   "metadata": {},
   "source": [
    "Note: When masking, the resulting array slice is flattened into a 1D array (regardless of the shape of the original array). However, since the changes to the slice propogate back to the original array, we can make changes to this slice while preserving the layout of the data in the original array.\n",
    "\n",
    "For example, suppose we want to subtract `100` from each value of the `a` matrix which has remainder `1` after division by `3`."
   ]
  },
  {
   "cell_type": "code",
   "execution_count": null,
   "id": "db91c274-18bf-4c23-bca3-94c2b0c7d8d8",
   "metadata": {},
   "outputs": [],
   "source": [
    "a[mask] -= 100\n",
    "print(a)"
   ]
  },
  {
   "cell_type": "markdown",
   "id": "263f3bc9-80d3-416c-a454-3bd71b0337c7",
   "metadata": {},
   "source": [
    "## Back to tartans: Masking (optional)\n",
    "\n",
    "**Exercise:** Write a function `checkerboard_mask(n)` that takes in an integer `n` and constructs an `n` by `n` Boolean array that alternates `True`/`False` everytime you move through a row or column. For example, `checkerboard_mask(6)` should return an array that looks like:\n",
    "$$\n",
    "\\begin{bmatrix} \n",
    "\\text{True} & \\text{False} & \\text{True} & \\text{False} & \\text{True} & \\text{False}\n",
    "\\\\\n",
    "\\text{False} & \\text{True} & \\text{False} & \\text{True} & \\text{False} & \\text{True}\n",
    "\\\\\n",
    "\\text{True} & \\text{False} & \\text{True} & \\text{False} & \\text{True} & \\text{False}\n",
    "\\\\\n",
    "\\text{False} & \\text{True} & \\text{False} & \\text{True} & \\text{False} & \\text{True}\n",
    "\\\\\n",
    "\\text{True} & \\text{False} & \\text{True} & \\text{False} & \\text{True} & \\text{False}\n",
    "\\\\\n",
    "\\text{False} & \\text{True} & \\text{False} & \\text{True} & \\text{False} & \\text{True}\n",
    "\\end{bmatrix}$$"
   ]
  },
  {
   "cell_type": "code",
   "execution_count": null,
   "id": "d0429f36-00ec-4073-9f96-6aaa2d6590f1",
   "metadata": {},
   "outputs": [],
   "source": []
  },
  {
   "cell_type": "markdown",
   "id": "2ab24c70-9d04-420b-a4ae-ec8880730a0b",
   "metadata": {},
   "source": [
    "**Exercise:** Use a Boolean array generated by the `checkerboard_mask` function as a mask to create the checkerboard tartan pattern from the `vertical_stripes` and `horizontal_stripes` arrays."
   ]
  },
  {
   "cell_type": "code",
   "execution_count": null,
   "id": "caf71125-d542-4e2c-9609-04020e1bacc9",
   "metadata": {},
   "outputs": [],
   "source": []
  },
  {
   "cell_type": "markdown",
   "id": "244b2725-bb05-458e-824f-d2cfd131d9cd",
   "metadata": {},
   "source": [
    "**Exercise:** Write a function `authentic_mask(n)` that takes in an integer `n` and constructs an `n` by `n` Boolean array consisting of the sequences:\n",
    " - `[True, True, False, False, True, True, False, ...]` in the first row,\n",
    " - `[False, True, True, False, False, True, True, ...]` in the second row,\n",
    " - `[False, False, True, True, False, False, True, ...]` in the third row,\n",
    " - `[True, False, False, True, True, False, False, ...]` in the fourth row,\n",
    " - ...\n",
    "\n",
    "For example, `authentic_mask(6)` should return an array that looks like:\n",
    "$$\n",
    "\\begin{bmatrix} \n",
    "\\text{True} & \\text{True} & \\text{False} & \\text{False} & \\text{True} & \\text{True}\n",
    "\\\\\n",
    "\\text{False} & \\text{True} & \\text{True} & \\text{False} & \\text{False} & \\text{True}\n",
    "\\\\\n",
    "\\text{False} & \\text{False} & \\text{True} & \\text{True} & \\text{False} & \\text{False}\n",
    "\\\\\n",
    "\\text{True} & \\text{False} & \\text{False} & \\text{True} & \\text{True} & \\text{False}\n",
    "\\\\\n",
    "\\text{True} & \\text{True} & \\text{False} & \\text{False} & \\text{True} & \\text{True}\n",
    "\\\\\n",
    "\\text{False} & \\text{True} & \\text{True} & \\text{False} & \\text{False} & \\text{True}\n",
    "\\end{bmatrix}$$"
   ]
  },
  {
   "cell_type": "code",
   "execution_count": null,
   "id": "7ef60ea9-a414-4653-a1bc-d05399127fc2",
   "metadata": {},
   "outputs": [],
   "source": []
  },
  {
   "cell_type": "markdown",
   "id": "6865f14e-a9fc-4469-a218-ffba0d077aea",
   "metadata": {},
   "source": [
    "**Exercise:** Use a Boolean array generated by the `authentic_mask` function as a mask to create the authentic tartan pattern from the `vertical_stripes` and `horizontal_stripes` arrays."
   ]
  },
  {
   "cell_type": "code",
   "execution_count": null,
   "id": "5937d49a-048c-4d8d-8850-0d376b518cd0",
   "metadata": {},
   "outputs": [],
   "source": []
  }
 ],
 "metadata": {
  "kernelspec": {
   "display_name": "Python 3 (ipykernel)",
   "language": "python",
   "name": "python3"
  },
  "language_info": {
   "codemirror_mode": {
    "name": "ipython",
    "version": 3
   },
   "file_extension": ".py",
   "mimetype": "text/x-python",
   "name": "python",
   "nbconvert_exporter": "python",
   "pygments_lexer": "ipython3",
   "version": "3.13.5"
  }
 },
 "nbformat": 4,
 "nbformat_minor": 5
}
