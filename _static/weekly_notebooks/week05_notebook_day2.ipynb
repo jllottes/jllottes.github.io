{
 "cells": [
  {
   "cell_type": "markdown",
   "id": "897d7e34-ed1d-46de-83b5-ad217368562c",
   "metadata": {},
   "source": [
    "# Wednesday, September 24th, 2025"
   ]
  },
  {
   "cell_type": "markdown",
   "id": "49a5f6d4-fe00-463d-99e5-119beed2b09e",
   "metadata": {},
   "source": [
    "## Comparing speed with NumPy\n",
    "\n",
    "Python is a relatively easy language to code with (in comparison to C/C++, for example). On the other hand, it is a somewhat slow language. For example, Python is much slower to complete a `for` loop iteration than C/C++. The backbone of NumpPy is written in C/C++, which comes with speed advantages. The module essentially gives us the best of both worlds: the ease of use of Python with the speed of C/C++.\n",
    "\n",
    "Let's compare how long it takes to generate one million equally spaced $x$-values over the interval $[0,2\\pi]$ and compute both $y=\\sin(x)$ and $y=\\cos(x)$ using:\n",
    " - `for` loops to construct the lists of $x$- and $y$-values.\n",
    " - list comprehensions to construct the lists of $x$- and $y$-values.\n",
    " - `np.linspace`, `np.sin`, and `np.cos` to generate the arrays of $x$- and $y$-values.\n",
    "\n",
    "Reminder: We can use the `time` function from the `time` module to time our code."
   ]
  },
  {
   "cell_type": "code",
   "execution_count": null,
   "id": "1e8d98fa-e21c-41e1-b39d-a92e1458d8a3",
   "metadata": {},
   "outputs": [],
   "source": [
    "import matplotlib.pyplot as plt\n",
    "import numpy as np\n",
    "import time\n",
    "\n",
    "a = 0      # Left-end of the x-interval\n",
    "b = 2*pi   # Right-end of the x-interval\n",
    "N = 10**6   # Number of sub-intervals to divide (a,b) into"
   ]
  },
  {
   "cell_type": "markdown",
   "id": "8c85b349-12ee-43fd-8993-6728655295dc",
   "metadata": {},
   "source": [
    "Last class, we had the following code that used `for` loops to generate the data:"
   ]
  },
  {
   "cell_type": "code",
   "execution_count": null,
   "id": "cfd41a02-f01b-4b95-b60a-992ad22dc76c",
   "metadata": {},
   "outputs": [],
   "source": [
    "from math import pi, sin, cos\n",
    "\n",
    "x_list = []\n",
    "\n",
    "dx = (b - a)/N   # Width of each sub-interval\n",
    "for i in range(N+1):\n",
    "    x = a + i*dx\n",
    "    x_list.append(x)\n",
    "\n",
    "sin_x_list = []\n",
    "cos_x_list = []\n",
    "\n",
    "for x in x_list:\n",
    "    sin_x_list.append(sin(x))\n",
    "    cos_x_list.append(cos(x))"
   ]
  },
  {
   "cell_type": "markdown",
   "id": "e10492d7-7ff4-4560-bfad-28732d9eaa33",
   "metadata": {},
   "source": [
    "We then modified the code to use list comprehension:"
   ]
  },
  {
   "cell_type": "code",
   "execution_count": null,
   "id": "092022e8-3ede-4bc6-8651-5eef993b7f9a",
   "metadata": {},
   "outputs": [],
   "source": [
    "dx = (b - a)/N   # Width of each sub-interval\n",
    "\n",
    "x_list = [a + i*dx for i in range(N+1)]\n",
    "sin_x_list = [sin(x) for x in x_list]\n",
    "cos_x_list = [cos(x) for x in x_list]"
   ]
  },
  {
   "cell_type": "markdown",
   "id": "2b98c6b4-2b38-4268-b9a7-f179c7ff6604",
   "metadata": {},
   "source": [
    "And we modified again to use NumPy:"
   ]
  },
  {
   "cell_type": "code",
   "execution_count": null,
   "id": "46fa71c3-110f-426f-9284-ad9c4ae1a4da",
   "metadata": {},
   "outputs": [],
   "source": [
    "x_array = np.linspace(a,b,N+1)\n",
    "sin_x_array = np.sin(x_array)\n",
    "cos_x_array = np.cos(x_array)"
   ]
  },
  {
   "cell_type": "markdown",
   "id": "ac2afd16-4416-42d4-964f-8047c21e2246",
   "metadata": {},
   "source": [
    "## Generating Numpy arrays\n",
    "\n",
    "We've already seen how we can convert lists to arrays and how we can use the `np.linspace` function to create arrays. There are many other ways to build arrays. For example:\n",
    " - `np.zeros` can generate arrays full of `0`s.\n",
    " - `np.ones` can generate arrays full of `1`s.\n",
    " - `np.arange` works just like the normal `range` function, except that it returns an array instead."
   ]
  },
  {
   "cell_type": "code",
   "execution_count": null,
   "id": "1f5077d2-c926-4343-babf-1a544de423e1",
   "metadata": {},
   "outputs": [],
   "source": []
  },
  {
   "cell_type": "code",
   "execution_count": null,
   "id": "64e6d69c-c07c-4f59-86f6-60994c8f92f9",
   "metadata": {},
   "outputs": [],
   "source": []
  },
  {
   "cell_type": "code",
   "execution_count": null,
   "id": "af642a2c-eff4-48be-9407-7a9f8511418f",
   "metadata": {},
   "outputs": [],
   "source": []
  },
  {
   "cell_type": "markdown",
   "id": "7049ef33-48d9-4be9-af15-190673deee83",
   "metadata": {},
   "source": [
    "Note: the `np.zeros` function and `np.ones` function produce arrays filled with floats, while the `np.arange` function returns an array full of integers.\n",
    "\n",
    "In general, NumPy arrays can only be filled with one datatype (unlike lists which can mix-and-match). We can check what datatype an array holds using the `.dtype` attribute:"
   ]
  },
  {
   "cell_type": "code",
   "execution_count": null,
   "id": "12606589-82f2-44a5-b2d0-00c6c10fcd5f",
   "metadata": {},
   "outputs": [],
   "source": []
  },
  {
   "cell_type": "markdown",
   "id": "816adc77-244e-4987-a85c-759236528078",
   "metadata": {},
   "source": [
    "We can change the datatype when defining arrays using `np.zeros` or `np.ones` by using the `dtype` keyword argument:"
   ]
  },
  {
   "cell_type": "code",
   "execution_count": null,
   "id": "89503c75-2a0a-4979-a905-4b4963cdc76a",
   "metadata": {},
   "outputs": [],
   "source": []
  },
  {
   "cell_type": "markdown",
   "id": "504f7b06-b824-456f-b329-c90caf571ba0",
   "metadata": {},
   "source": [
    "We can also convert an existing array to a new datatype using the `.astype` method:"
   ]
  },
  {
   "cell_type": "code",
   "execution_count": null,
   "id": "786725c7-f715-4bf7-9956-c4f1c673004c",
   "metadata": {},
   "outputs": [],
   "source": []
  },
  {
   "cell_type": "markdown",
   "id": "7cf9e275-e7ef-462b-8031-0d700354a33d",
   "metadata": {},
   "source": [
    "Note: when converting to a Boolean data type, any non-zero integer/float is considered `True`. Only `0` is considered `False`."
   ]
  },
  {
   "cell_type": "code",
   "execution_count": null,
   "id": "8c84668d-e66e-4912-829e-dd7327adb538",
   "metadata": {},
   "outputs": [],
   "source": []
  },
  {
   "cell_type": "markdown",
   "id": "2625ea95-fc2f-4f9d-90dd-972e7d993589",
   "metadata": {},
   "source": [
    "## Slicing with NumPy\n",
    "\n",
    "Just like with lists, we use slicing to access portions of a NumPy array. Consider the following experiment.\n",
    "\n",
    "First, we define a list and an array, each containing the integers `0`, ..., `19`."
   ]
  },
  {
   "cell_type": "code",
   "execution_count": null,
   "id": "5c0494d1-4c4c-4b54-8af6-f71e1d6e16c5",
   "metadata": {},
   "outputs": [],
   "source": [
    "N = 20\n",
    "\n",
    "my_list = [i for i in range(N)]\n",
    "my_array = np.arange(N)"
   ]
  },
  {
   "cell_type": "markdown",
   "id": "386b1d2b-b18c-4e82-bde1-205404c52b23",
   "metadata": {},
   "source": [
    "Now, let's take slices of the list and array that starts at index `1` and takes every other element:"
   ]
  },
  {
   "cell_type": "code",
   "execution_count": null,
   "id": "d45fd31c-9666-4287-9ae3-05799967fed2",
   "metadata": {},
   "outputs": [],
   "source": [
    "list_slice = my_list[1::2]\n",
    "array_slice = my_array[1::2]"
   ]
  },
  {
   "cell_type": "markdown",
   "id": "b6326e72-306b-4a43-b06c-368ff80124e9",
   "metadata": {},
   "source": [
    "Let's see what the slices look like:"
   ]
  },
  {
   "cell_type": "code",
   "execution_count": null,
   "id": "147e0b69-3a00-4c92-9600-5247a9cc9fe8",
   "metadata": {},
   "outputs": [],
   "source": [
    "print(list_slice)\n",
    "print(array_slice)"
   ]
  },
  {
   "cell_type": "markdown",
   "id": "aeef22d5-5f28-423d-a4d9-5270af7cc438",
   "metadata": {},
   "source": [
    "What happens if we modify these slices? For example, let's change the first entry of each slice to be `99`."
   ]
  },
  {
   "cell_type": "code",
   "execution_count": null,
   "id": "fa2b5e2c-5766-43dc-a558-aa22bd9bb423",
   "metadata": {},
   "outputs": [],
   "source": [
    "list_slice[0] = 99\n",
    "print('Modified slice:')\n",
    "print(list_slice)\n",
    "print('Original list:')\n",
    "print(my_list)"
   ]
  },
  {
   "cell_type": "markdown",
   "id": "1e4b9d1d-cdc6-4b37-981a-9fdfb9f766d1",
   "metadata": {},
   "source": [
    "With the list, the changes to the slice **do not** propogate back to the original list."
   ]
  },
  {
   "cell_type": "code",
   "execution_count": null,
   "id": "5ce7db9e-2d9d-4b79-b3f3-efe607b02865",
   "metadata": {},
   "outputs": [],
   "source": [
    "array_slice[0] = 99\n",
    "print('Modified slice:')\n",
    "print(array_slice)\n",
    "print('Original array:')\n",
    "print(my_array)"
   ]
  },
  {
   "cell_type": "markdown",
   "id": "0b3ae0ef-5a94-4d53-9b6c-2ea4f5a745bd",
   "metadata": {},
   "source": [
    "With the array, the changes to the slice **do** propogate back to the original list.\n",
    "\n",
    "What's happening here? \n",
    " - When slicing a list, we obtain a new list object that is unattached to the original list. Changes to one do not affect the other.\n",
    " - When slicing an array, we obtain a \"view\" of the original array. Changes to the slice affect the original array, and vice-versa.\n",
    "\n",
    "If we want to obtain a slice of an array that is unattached to the original array, we can use the `.copy` method to sever the connection."
   ]
  },
  {
   "cell_type": "code",
   "execution_count": null,
   "id": "ead33983-39e7-44af-a2c6-bbcd4d59c012",
   "metadata": {},
   "outputs": [],
   "source": []
  },
  {
   "cell_type": "markdown",
   "id": "31978af3-d4e0-4e40-b1ab-ca50892852bb",
   "metadata": {},
   "source": [
    "One takeaway is that we can use slices of an array to make assignments to portions of an array.\n",
    "\n",
    "**Exercise:** Consider the [*Sieve of Eratosthenes*](https://en.wikipedia.org/wiki/Sieve_of_Eratosthenes), which is a method of identifying all prime numbers up to a designated maximum. Write a function `sieve_of_Eratosthenes(N)` that implements this algorithm (using NumPy slicing) to generate an array of all primes less than or equal to `N`. Compare the execution time to your `get_primes` function from Project 1 when finding all primes up to $1,000,000$.\n",
    "\n",
    "Strategy:\n",
    "\n",
    "We will intialize `is_prime_bools` to be an array of length `N+1` that contains `True` in every position. Our goal is to modify `is_prime_bools` so that we have `is_prime_bools[i]` set to `True` exactly when `i` is a prime number (and `False` if not). We will do so using the Sieve of Eratosthenes. That is, we will:\n",
    " - Iterate `n` through integers `2` up to `N`.\n",
    " - If `n` is prime, we will set `is_prime_bools[i]` to be `False` for all indices `i` that are a multiple of the prime (other than `i=n`).\n",
    " - If `n` is not prime (that is, if `is_prime_bools[n] == False`), do nothing and skip to the next iteration.\n",
    " - After completing the iteration, return the list of integers `n` with `is_prime_bools[n]` set to `True`."
   ]
  },
  {
   "cell_type": "code",
   "execution_count": null,
   "id": "fbcd8c29-505d-44e2-9c24-3d41f1d197e2",
   "metadata": {},
   "outputs": [],
   "source": []
  },
  {
   "cell_type": "markdown",
   "id": "02e05257-db6a-4bd2-a540-e67cb0386787",
   "metadata": {},
   "source": [
    "## List unpacking\n",
    "\n",
    "It often happens that we have some list (or other iterable) of elements which we want to sequentially assign to different variable names. For example, suppose we have a list containing personal information such as first name, last name, gender, age."
   ]
  },
  {
   "cell_type": "code",
   "execution_count": null,
   "id": "c578edc6-124f-4b4f-a262-8058ec617a0a",
   "metadata": {},
   "outputs": [],
   "source": [
    "personal_info = ['Jonathan', 'Lottes', 'Male', 36]"
   ]
  },
  {
   "cell_type": "markdown",
   "id": "b3bc6053-901c-47bc-b133-467c3f3efa61",
   "metadata": {},
   "source": [
    "It might make sense to introduce variables `first_name`, `last_name`, `gender`, and `age` to take on each of these sequential values."
   ]
  },
  {
   "cell_type": "code",
   "execution_count": null,
   "id": "dc62e993-6a24-4b45-9a93-3feedd46792d",
   "metadata": {},
   "outputs": [],
   "source": []
  },
  {
   "cell_type": "markdown",
   "id": "3a059621-6d5e-4217-a062-553571d5578c",
   "metadata": {},
   "source": [
    "We can accomplish this unpacking task more elegantly by assigning a comma-separated list of variable names equal to the `personal_info` list. This is called *list unpacking*."
   ]
  },
  {
   "cell_type": "code",
   "execution_count": null,
   "id": "35da9b41-abcd-4be9-82c3-b890093f2893",
   "metadata": {},
   "outputs": [],
   "source": []
  },
  {
   "cell_type": "markdown",
   "id": "a68a499a-c242-4fbe-92ea-13eb2d28b583",
   "metadata": {},
   "source": [
    "Consider the following list of personal information for various people."
   ]
  },
  {
   "cell_type": "code",
   "execution_count": null,
   "id": "7901387f-aac4-41ea-8f2f-7ed5a91bb5af",
   "metadata": {},
   "outputs": [],
   "source": [
    "personal_infos = [['Bonnie', 'Lottes', 'Female', 34],\n",
    "                  ['Jonathan', 'Lottes', 'Male', 36],\n",
    "                  ['Steven', 'Lottes', 'Male', 37],\n",
    "                  ['Emily', 'Lottes', 'Female', 39],\n",
    "                  ['Justin', 'Lottes', 'Male', 41]]"
   ]
  },
  {
   "cell_type": "markdown",
   "id": "cbfa7bf3-b3b6-4b06-ac35-e00b1e4f9ab9",
   "metadata": {},
   "source": [
    "**Exercise:** Use list comprehension and list unpacking to generate:\n",
    " - A list containing the first names of all females.\n",
    " - The average age of all males. You can use `np.mean` or use `sum` and `len` to compute the average of a list/array."
   ]
  },
  {
   "cell_type": "code",
   "execution_count": null,
   "id": "d26285ab-caee-4212-bf27-17af4f55915e",
   "metadata": {},
   "outputs": [],
   "source": []
  },
  {
   "cell_type": "markdown",
   "id": "6f6edf3d-c96f-4f0f-bf45-7cb6dd8a267e",
   "metadata": {},
   "source": [
    "## [Project 2: Pythagorean triples](https://jllottes.github.io/Projects/pythagorean_triples/pythagorean_triples.html)\n",
    "\n",
    "The [second project](https://jllottes.github.io/Projects/pythagorean_triples/pythagorean_triples.html) deals with Pythagorean triples, that is, triples of integers $(a,b,c)$ such that $a^2 + b^2 = c^2$. The project is due Monday, October 6th at 11:59PM. We've already seen all of the Python tools necessary to complete this project, so I would encourage you to get started as soon as you are finished with Project 1.\n",
    "\n",
    "For the project, we will generating and visualizing Pythagorean triples (or doubles). For now, a list `ptriples` of Pythagorean triples is given below."
   ]
  },
  {
   "cell_type": "code",
   "execution_count": null,
   "id": "d989465b-e90b-47f1-b4d1-2779e69496c9",
   "metadata": {},
   "outputs": [],
   "source": [
    "ptriples = [[3, 4, 5],\n",
    "[4, 3, 5],\n",
    "[5, 12, 13],\n",
    "[6, 8, 10],\n",
    "[8, 6, 10],\n",
    "[8, 15, 17],\n",
    "[9, 12, 15],\n",
    "[12, 5, 13],\n",
    "[12, 9, 15],\n",
    "[12, 16, 20],\n",
    "[15, 8, 17],\n",
    "[15, 20, 25],\n",
    "[16, 12, 20],\n",
    "[20, 15, 25]]"
   ]
  },
  {
   "cell_type": "markdown",
   "id": "e5d6789a-8db9-467c-9683-b07aeae2b50e",
   "metadata": {},
   "source": [
    "How can we visualize this data? One idea is to select just the $a$-values and $b$-values and plot them against one another. Recall that $c$ is determined once $a$ and $b$ are chosen, so we are not losing information by considering just the $a$- and $b$-values."
   ]
  },
  {
   "cell_type": "markdown",
   "id": "2d719640-8311-49cf-8502-86469eb521a0",
   "metadata": {},
   "source": [
    "**Exercise:** Use list comprehension and list unpacking to generate lists of $a$- and $b$-values from the `ptriples` list, then plot $a$ versus $b$."
   ]
  },
  {
   "cell_type": "code",
   "execution_count": null,
   "id": "43cdeb3b-1183-44cd-822e-3e070d21abbf",
   "metadata": {},
   "outputs": [],
   "source": []
  },
  {
   "cell_type": "markdown",
   "id": "a1fe8718-4b51-4e2f-abfc-d612d0c6d3bb",
   "metadata": {},
   "source": [
    "**Exercise:** Write a function `get_ptriples` that takes in an integer `n` and returns a list of all Pythagorean triples $(a,b,c)$ where $1 \\leq a, b \\leq n$."
   ]
  },
  {
   "cell_type": "code",
   "execution_count": null,
   "id": "6ac41ea4-3409-4542-9b6b-3f37167901fc",
   "metadata": {},
   "outputs": [],
   "source": []
  },
  {
   "cell_type": "markdown",
   "id": "e240aa0b-f422-483d-9493-04938eb1b6e6",
   "metadata": {},
   "source": [
    "**Exercise:** Plot $a$ vs $b$ for the triples obtained from `get_ptriples` for various values of `n` and describe any patterns that emerge."
   ]
  },
  {
   "cell_type": "code",
   "execution_count": null,
   "id": "1392248e-749f-4d89-b3ef-f004f40fda6e",
   "metadata": {},
   "outputs": [],
   "source": []
  }
 ],
 "metadata": {
  "kernelspec": {
   "display_name": "Python 3 (ipykernel)",
   "language": "python",
   "name": "python3"
  },
  "language_info": {
   "codemirror_mode": {
    "name": "ipython",
    "version": 3
   },
   "file_extension": ".py",
   "mimetype": "text/x-python",
   "name": "python",
   "nbconvert_exporter": "python",
   "pygments_lexer": "ipython3",
   "version": "3.13.5"
  }
 },
 "nbformat": 4,
 "nbformat_minor": 5
}
