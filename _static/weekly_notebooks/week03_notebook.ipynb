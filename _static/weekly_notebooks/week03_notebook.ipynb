{
 "cells": [
  {
   "cell_type": "markdown",
   "id": "810303db",
   "metadata": {},
   "source": [
    "# Monday, September 9th, 2024\n",
    "\n",
    "## Prime numbers in Python"
   ]
  },
  {
   "cell_type": "markdown",
   "id": "50a9f83e",
   "metadata": {},
   "source": [
    "Recall: a positive integer $n$ is prime if the only positive integers that divide it are $1$ and itself."
   ]
  },
  {
   "cell_type": "markdown",
   "id": "6df894de",
   "metadata": {},
   "source": [
    "We want to be able to determine if a given number is prime using Python."
   ]
  },
  {
   "cell_type": "code",
   "execution_count": null,
   "id": "eab1b9ca",
   "metadata": {},
   "outputs": [],
   "source": [
    "n = 123\n",
    "\n",
    "for d in [2,3,4,5,6,7,]"
   ]
  },
  {
   "cell_type": "markdown",
   "id": "18bc064d",
   "metadata": {},
   "source": [
    "The `range()` function can be used to easily iterate through a sequence of integers using `for` loops."
   ]
  },
  {
   "cell_type": "code",
   "execution_count": 1,
   "id": "137596db",
   "metadata": {},
   "outputs": [
    {
     "name": "stdout",
     "output_type": "stream",
     "text": [
      "Help on class range in module builtins:\n",
      "\n",
      "class range(object)\n",
      " |  range(stop) -> range object\n",
      " |  range(start, stop[, step]) -> range object\n",
      " |  \n",
      " |  Return an object that produces a sequence of integers from start (inclusive)\n",
      " |  to stop (exclusive) by step.  range(i, j) produces i, i+1, i+2, ..., j-1.\n",
      " |  start defaults to 0, and stop is omitted!  range(4) produces 0, 1, 2, 3.\n",
      " |  These are exactly the valid indices for a list of 4 elements.\n",
      " |  When step is given, it specifies the increment (or decrement).\n",
      " |  \n",
      " |  Methods defined here:\n",
      " |  \n",
      " |  __bool__(self, /)\n",
      " |      True if self else False\n",
      " |  \n",
      " |  __contains__(self, key, /)\n",
      " |      Return key in self.\n",
      " |  \n",
      " |  __eq__(self, value, /)\n",
      " |      Return self==value.\n",
      " |  \n",
      " |  __ge__(self, value, /)\n",
      " |      Return self>=value.\n",
      " |  \n",
      " |  __getattribute__(self, name, /)\n",
      " |      Return getattr(self, name).\n",
      " |  \n",
      " |  __getitem__(self, key, /)\n",
      " |      Return self[key].\n",
      " |  \n",
      " |  __gt__(self, value, /)\n",
      " |      Return self>value.\n",
      " |  \n",
      " |  __hash__(self, /)\n",
      " |      Return hash(self).\n",
      " |  \n",
      " |  __iter__(self, /)\n",
      " |      Implement iter(self).\n",
      " |  \n",
      " |  __le__(self, value, /)\n",
      " |      Return self<=value.\n",
      " |  \n",
      " |  __len__(self, /)\n",
      " |      Return len(self).\n",
      " |  \n",
      " |  __lt__(self, value, /)\n",
      " |      Return self<value.\n",
      " |  \n",
      " |  __ne__(self, value, /)\n",
      " |      Return self!=value.\n",
      " |  \n",
      " |  __reduce__(...)\n",
      " |      Helper for pickle.\n",
      " |  \n",
      " |  __repr__(self, /)\n",
      " |      Return repr(self).\n",
      " |  \n",
      " |  __reversed__(...)\n",
      " |      Return a reverse iterator.\n",
      " |  \n",
      " |  count(...)\n",
      " |      rangeobject.count(value) -> integer -- return number of occurrences of value\n",
      " |  \n",
      " |  index(...)\n",
      " |      rangeobject.index(value) -> integer -- return index of value.\n",
      " |      Raise ValueError if the value is not present.\n",
      " |  \n",
      " |  ----------------------------------------------------------------------\n",
      " |  Static methods defined here:\n",
      " |  \n",
      " |  __new__(*args, **kwargs) from builtins.type\n",
      " |      Create and return a new object.  See help(type) for accurate signature.\n",
      " |  \n",
      " |  ----------------------------------------------------------------------\n",
      " |  Data descriptors defined here:\n",
      " |  \n",
      " |  start\n",
      " |  \n",
      " |  step\n",
      " |  \n",
      " |  stop\n",
      "\n"
     ]
    }
   ],
   "source": [
    "help(range)"
   ]
  },
  {
   "cell_type": "code",
   "execution_count": 2,
   "id": "942b2f3f",
   "metadata": {},
   "outputs": [
    {
     "name": "stdout",
     "output_type": "stream",
     "text": [
      "0\n",
      "1\n",
      "2\n",
      "3\n",
      "4\n",
      "5\n",
      "6\n",
      "7\n",
      "8\n",
      "9\n"
     ]
    }
   ],
   "source": [
    "for i in range(10):\n",
    "    print(i)"
   ]
  },
  {
   "cell_type": "code",
   "execution_count": 4,
   "id": "2b20077b",
   "metadata": {},
   "outputs": [
    {
     "name": "stdout",
     "output_type": "stream",
     "text": [
      "3\n",
      "4\n",
      "5\n",
      "6\n",
      "7\n",
      "8\n",
      "9\n"
     ]
    }
   ],
   "source": [
    "for i in range(3,10):\n",
    "    print(i)"
   ]
  },
  {
   "cell_type": "markdown",
   "id": "00454d91",
   "metadata": {},
   "source": [
    "The syntax for `range()` is as follows:\n",
    "* `range(n)` returns a list of integers `0, 1, 2, ..., n-1`.\n",
    "* `range(m,n)` returns a list of integers `m, m+1, m+2, ..., n-1`."
   ]
  },
  {
   "cell_type": "code",
   "execution_count": 5,
   "id": "dc390f8c",
   "metadata": {},
   "outputs": [
    {
     "name": "stdout",
     "output_type": "stream",
     "text": [
      "3\n",
      "5\n",
      "7\n",
      "9\n"
     ]
    }
   ],
   "source": [
    "for i in range(3,10,2):\n",
    "    print(i)"
   ]
  },
  {
   "cell_type": "markdown",
   "id": "e72fd08f",
   "metadata": {},
   "source": [
    "**Exercise:** Use `range` and a `for` loop to decide if a given number `n` is prime:\n",
    "\n",
    "Hints: We want to check if $d = 2, 3, 4, ..., n-1$ divides $n$. "
   ]
  },
  {
   "cell_type": "markdown",
   "id": "277fa07a",
   "metadata": {},
   "source": [
    "We can use the modulus to check for disibility. In other words, `d` divides `n` if `n % d == 0`."
   ]
  },
  {
   "cell_type": "code",
   "execution_count": 18,
   "id": "b901dd6f",
   "metadata": {},
   "outputs": [
    {
     "name": "stdout",
     "output_type": "stream",
     "text": [
      "[1, 11]\n",
      "11 is prime\n"
     ]
    }
   ],
   "source": [
    "n = 11\n",
    "\n",
    "divisor_list = [1,n]\n",
    "\n",
    "for d in range(2,n):\n",
    "    if n % d == 0:\n",
    "        divisor_list.append(d)\n",
    "print(divisor_list)\n",
    "\n",
    "if len(divisor_list) > 2:\n",
    "    print('{} is not prime'.format(n))\n",
    "else:\n",
    "    print('{} is prime'.format(n))"
   ]
  },
  {
   "cell_type": "markdown",
   "id": "2f2349ab",
   "metadata": {},
   "source": [
    "It can be often be helpful to use \"flags\", that is Boolean variables to determine if some condition is met or not."
   ]
  },
  {
   "cell_type": "code",
   "execution_count": 23,
   "id": "e2b82106",
   "metadata": {},
   "outputs": [
    {
     "name": "stdout",
     "output_type": "stream",
     "text": [
      "13 is a prime number\n"
     ]
    }
   ],
   "source": [
    "n = 13\n",
    "\n",
    "prime = True\n",
    "\n",
    "for d in range(2,n):\n",
    "    if n % d == 0:\n",
    "        prime = False\n",
    "        break\n",
    "        \n",
    "if prime:\n",
    "    print('{} is a prime number'.format(n))\n",
    "else:\n",
    "    print('{} is not a prime number'.format(n))"
   ]
  },
  {
   "cell_type": "markdown",
   "id": "33150511",
   "metadata": {},
   "source": [
    "We often want to perform the same operations with different inputs, in this case, `n`. We can wrap these operation inside a `function` in Python.\n",
    "\n",
    "The syntax to define a function is\n",
    "<code>\n",
    "def \\<function name\\>(input1, input2, ...):\n",
    "    \\<do something\\>\n",
    "    return \\<something\\>\n",
    "    </code>"
   ]
  },
  {
   "cell_type": "code",
   "execution_count": 24,
   "id": "db2f4cb1",
   "metadata": {},
   "outputs": [],
   "source": [
    "def is_prime(n):\n",
    "    prime = True\n",
    "\n",
    "    for d in range(2,n):\n",
    "        if n % d == 0:\n",
    "            prime = False\n",
    "            break\n",
    "\n",
    "    if prime:\n",
    "        print('{} is a prime number'.format(n))\n",
    "    else:\n",
    "        print('{} is not a prime number'.format(n))"
   ]
  },
  {
   "cell_type": "code",
   "execution_count": 28,
   "id": "499f66dc",
   "metadata": {
    "scrolled": false
   },
   "outputs": [
    {
     "name": "stdout",
     "output_type": "stream",
     "text": [
      "2 is a prime number\n",
      "3 is a prime number\n",
      "4 is not a prime number\n",
      "5 is a prime number\n",
      "6 is not a prime number\n",
      "7 is a prime number\n",
      "8 is not a prime number\n",
      "9 is not a prime number\n",
      "10 is not a prime number\n",
      "11 is a prime number\n",
      "12 is not a prime number\n",
      "13 is a prime number\n",
      "14 is not a prime number\n",
      "15 is not a prime number\n",
      "16 is not a prime number\n",
      "17 is a prime number\n",
      "18 is not a prime number\n",
      "19 is a prime number\n",
      "20 is not a prime number\n",
      "21 is not a prime number\n",
      "22 is not a prime number\n",
      "23 is a prime number\n",
      "24 is not a prime number\n",
      "25 is not a prime number\n",
      "26 is not a prime number\n",
      "27 is not a prime number\n",
      "28 is not a prime number\n",
      "29 is a prime number\n"
     ]
    }
   ],
   "source": [
    "for n in range(2, 30):\n",
    "    is_prime(n)"
   ]
  },
  {
   "cell_type": "markdown",
   "id": "56967e30",
   "metadata": {},
   "source": [
    "If we want to get something back from a function, we can use the `return` statement:"
   ]
  },
  {
   "cell_type": "code",
   "execution_count": 29,
   "id": "7a9d2019",
   "metadata": {},
   "outputs": [],
   "source": [
    "def f(a,b):\n",
    "    print('Hello')\n",
    "    \n",
    "    return a + b"
   ]
  },
  {
   "cell_type": "code",
   "execution_count": 30,
   "id": "fa46fa24",
   "metadata": {},
   "outputs": [
    {
     "name": "stdout",
     "output_type": "stream",
     "text": [
      "Hello\n",
      "3\n"
     ]
    }
   ],
   "source": [
    "c = f(1,2)\n",
    "print(c)"
   ]
  },
  {
   "cell_type": "code",
   "execution_count": 31,
   "id": "403f8da7",
   "metadata": {},
   "outputs": [
    {
     "name": "stdout",
     "output_type": "stream",
     "text": [
      "Hello\n",
      "12\n"
     ]
    }
   ],
   "source": [
    "c = f(5,7)\n",
    "print(c)"
   ]
  },
  {
   "cell_type": "markdown",
   "id": "5da76de9",
   "metadata": {},
   "source": [
    "Variables defined within a function are not accessible outside that function:"
   ]
  },
  {
   "cell_type": "code",
   "execution_count": 35,
   "id": "d0cfd813",
   "metadata": {},
   "outputs": [],
   "source": [
    "def g(a,b,c):\n",
    "    h = a + b + c\n",
    "    return a*b"
   ]
  },
  {
   "cell_type": "code",
   "execution_count": 33,
   "id": "dde27b06",
   "metadata": {},
   "outputs": [
    {
     "name": "stdout",
     "output_type": "stream",
     "text": [
      "2\n"
     ]
    }
   ],
   "source": [
    "output = g(1,2,3)\n",
    "print(output)"
   ]
  },
  {
   "cell_type": "code",
   "execution_count": 36,
   "id": "04c6c7f8",
   "metadata": {},
   "outputs": [
    {
     "ename": "NameError",
     "evalue": "name 'h' is not defined",
     "output_type": "error",
     "traceback": [
      "\u001b[1;31m---------------------------------------------------------------------------\u001b[0m",
      "\u001b[1;31mNameError\u001b[0m                                 Traceback (most recent call last)",
      "Cell \u001b[1;32mIn[36], line 1\u001b[0m\n\u001b[1;32m----> 1\u001b[0m \u001b[38;5;28mprint\u001b[39m(h)\n",
      "\u001b[1;31mNameError\u001b[0m: name 'h' is not defined"
     ]
    }
   ],
   "source": [
    "print(h)"
   ]
  },
  {
   "cell_type": "markdown",
   "id": "cb2e0d81",
   "metadata": {},
   "source": [
    "Note: There does not need to be any connection with the names of our input variables outside the function versus inside."
   ]
  },
  {
   "cell_type": "code",
   "execution_count": 37,
   "id": "a27495b4",
   "metadata": {},
   "outputs": [],
   "source": [
    "def add_strings(s1, s2):\n",
    "    print(s1 + s2)"
   ]
  },
  {
   "cell_type": "code",
   "execution_count": 38,
   "id": "c20ad9d8",
   "metadata": {},
   "outputs": [
    {
     "name": "stdout",
     "output_type": "stream",
     "text": [
      "First stringSecond string\n"
     ]
    }
   ],
   "source": [
    "add_strings('First string', 'Second string')"
   ]
  },
  {
   "cell_type": "code",
   "execution_count": 39,
   "id": "2a2534e5",
   "metadata": {},
   "outputs": [
    {
     "name": "stdout",
     "output_type": "stream",
     "text": [
      "First stringSecond string\n"
     ]
    }
   ],
   "source": [
    "s1 = 'First string'\n",
    "s2 = 'Second string'\n",
    "\n",
    "add_strings(s1,s2)"
   ]
  },
  {
   "cell_type": "code",
   "execution_count": 40,
   "id": "e1fbe7bb",
   "metadata": {},
   "outputs": [
    {
     "name": "stdout",
     "output_type": "stream",
     "text": [
      "Second stringFirst string\n"
     ]
    }
   ],
   "source": [
    "add_strings(s2,s1)"
   ]
  },
  {
   "cell_type": "markdown",
   "id": "98f3d467",
   "metadata": {},
   "source": [
    "Let's return to our `is_prime` function.\n",
    "We'd like to modify our `is_prime` function so that, instead of printing out a statement on whether `n` is prime or not, it return a Boolean `True` or `False`."
   ]
  },
  {
   "cell_type": "code",
   "execution_count": 41,
   "id": "df01d25f",
   "metadata": {},
   "outputs": [],
   "source": [
    "def is_prime(n):\n",
    "    prime = True\n",
    "\n",
    "    for d in range(2,n):\n",
    "        if n % d == 0:\n",
    "            prime = False\n",
    "            break\n",
    "\n",
    "    if prime:\n",
    "        return True\n",
    "    else:\n",
    "        return False"
   ]
  },
  {
   "cell_type": "code",
   "execution_count": 42,
   "id": "c3115d26",
   "metadata": {},
   "outputs": [
    {
     "name": "stdout",
     "output_type": "stream",
     "text": [
      "2\n",
      "3\n",
      "5\n",
      "7\n",
      "11\n",
      "13\n",
      "17\n",
      "19\n",
      "23\n",
      "29\n",
      "31\n",
      "37\n",
      "41\n",
      "43\n",
      "47\n"
     ]
    }
   ],
   "source": [
    "for n in range(2,50):\n",
    "    if is_prime(n):\n",
    "        print(n)"
   ]
  },
  {
   "cell_type": "code",
   "execution_count": 45,
   "id": "4a097570",
   "metadata": {},
   "outputs": [],
   "source": [
    "def my_primes(n):\n",
    "    for i in range(2,n+1):\n",
    "        if is_prime(i):\n",
    "            print(i)"
   ]
  },
  {
   "cell_type": "markdown",
   "id": "d8b510a2",
   "metadata": {},
   "source": [
    "Need to modify the above function to build and return a list of primes."
   ]
  },
  {
   "cell_type": "code",
   "execution_count": 46,
   "id": "149939ea",
   "metadata": {},
   "outputs": [
    {
     "name": "stdout",
     "output_type": "stream",
     "text": [
      "2\n",
      "3\n",
      "5\n",
      "7\n",
      "11\n",
      "13\n",
      "17\n",
      "19\n",
      "23\n",
      "29\n",
      "31\n",
      "37\n",
      "41\n",
      "43\n",
      "47\n"
     ]
    }
   ],
   "source": [
    "my_primes(50)"
   ]
  },
  {
   "cell_type": "markdown",
   "id": "7f370dea",
   "metadata": {},
   "source": [
    "**Exercise:** Modify the `for` loop above to create a function `my_primes` as described in the Project 1 webpage.\n",
    "\n",
    "**Exercise:** As a first step toward creating the `primary` function as described in the Project page, write code that will generate a list of primes th at divide `n` (ignoring multiplicity)."
   ]
  },
  {
   "cell_type": "markdown",
   "id": "97158072",
   "metadata": {},
   "source": [
    "# Wednesday, September 11, 2024"
   ]
  },
  {
   "cell_type": "code",
   "execution_count": 1,
   "id": "4fa5a190",
   "metadata": {},
   "outputs": [],
   "source": [
    "def is_prime(n):\n",
    "    prime = True\n",
    "\n",
    "    for d in range(2,n):\n",
    "        if n % d == 0:\n",
    "            prime = False\n",
    "            break\n",
    "\n",
    "    if prime:\n",
    "        return True\n",
    "    else:\n",
    "        return False"
   ]
  },
  {
   "cell_type": "code",
   "execution_count": 4,
   "id": "73a3e23d",
   "metadata": {},
   "outputs": [],
   "source": [
    "def f(a,b):\n",
    "    \n",
    "    print('Line 1')\n",
    "    print('Line 2')\n",
    "    \n",
    "    return a*b\n",
    "\n",
    "    print(' Line 3')"
   ]
  },
  {
   "cell_type": "code",
   "execution_count": 6,
   "id": "506d48f1",
   "metadata": {},
   "outputs": [],
   "source": [
    "def is_prime(n):\n",
    "    for d in range(2,n):\n",
    "        if n % d == 0:\n",
    "            return False\n",
    "    return True"
   ]
  },
  {
   "cell_type": "code",
   "execution_count": 8,
   "id": "f79963aa",
   "metadata": {},
   "outputs": [
    {
     "data": {
      "text/plain": [
       "True"
      ]
     },
     "execution_count": 8,
     "metadata": {},
     "output_type": "execute_result"
    }
   ],
   "source": [
    "is_prime(11)"
   ]
  },
  {
   "cell_type": "markdown",
   "id": "1fc2bd71",
   "metadata": {},
   "source": [
    "**Exercise:** Create a function `is_prime_like` as described in the Project 1 page."
   ]
  },
  {
   "cell_type": "markdown",
   "id": "e7dba5fa",
   "metadata": {},
   "source": [
    "Note: A modular equivalence check $a^p \\equiv a \\quad(\\text{mod }p)$"
   ]
  },
  {
   "cell_type": "markdown",
   "id": "a35c6aa8",
   "metadata": {},
   "source": [
    "can be done using `a**p % p == a % p`"
   ]
  },
  {
   "cell_type": "code",
   "execution_count": 9,
   "id": "aca14208",
   "metadata": {},
   "outputs": [],
   "source": [
    "def is_prime_like(p):\n",
    "    for a in range(p):\n",
    "        if a**p % p != a % p:\n",
    "            return False\n",
    "    return True"
   ]
  },
  {
   "cell_type": "code",
   "execution_count": 10,
   "id": "e48bf6b1",
   "metadata": {},
   "outputs": [],
   "source": [
    "def is_false_prime(p):\n",
    "    if not is_prime(p):\n",
    "        if is_prime_like(p):\n",
    "            return True\n",
    "    return False"
   ]
  },
  {
   "cell_type": "markdown",
   "id": "7ce9d1a0",
   "metadata": {},
   "source": [
    "Logical operators: `not`, `and`, `or`"
   ]
  },
  {
   "cell_type": "code",
   "execution_count": null,
   "id": "5eae7103",
   "metadata": {},
   "outputs": [],
   "source": [
    "def is_false_prime(p):\n",
    "    if not is_prime(p) and is_prime_like(p):\n",
    "        return True\n",
    "    else:\n",
    "        return False"
   ]
  },
  {
   "cell_type": "code",
   "execution_count": 14,
   "id": "5dc6ae25",
   "metadata": {},
   "outputs": [],
   "source": [
    "false_primes = []\n",
    "\n",
    "for p in range(10000):\n",
    "    if is_false_prime(p):\n",
    "        false_primes.append(p)"
   ]
  },
  {
   "cell_type": "code",
   "execution_count": 15,
   "id": "9b5aa17c",
   "metadata": {},
   "outputs": [
    {
     "data": {
      "text/plain": [
       "[561, 1105, 1729, 2465, 2821, 6601, 8911]"
      ]
     },
     "execution_count": 15,
     "metadata": {},
     "output_type": "execute_result"
    }
   ],
   "source": [
    "false_primes"
   ]
  },
  {
   "cell_type": "markdown",
   "id": "16c42345",
   "metadata": {},
   "source": [
    "## Timing code"
   ]
  },
  {
   "cell_type": "markdown",
   "id": "4d3fa8ff",
   "metadata": {},
   "source": [
    "The `time` module has many useful functions dealing with time."
   ]
  },
  {
   "cell_type": "code",
   "execution_count": 16,
   "id": "576020d4",
   "metadata": {},
   "outputs": [],
   "source": [
    "import time"
   ]
  },
  {
   "cell_type": "markdown",
   "id": "e9067a33",
   "metadata": {},
   "source": [
    "We can use `time.time()` to get the current time (relative to the Epoch)."
   ]
  },
  {
   "cell_type": "code",
   "execution_count": 18,
   "id": "444de237",
   "metadata": {},
   "outputs": [],
   "source": [
    "t0 = time.time()"
   ]
  },
  {
   "cell_type": "code",
   "execution_count": 19,
   "id": "7cdad731",
   "metadata": {},
   "outputs": [],
   "source": [
    "t1 = time.time()"
   ]
  },
  {
   "cell_type": "code",
   "execution_count": 20,
   "id": "895ec2fe",
   "metadata": {},
   "outputs": [
    {
     "name": "stdout",
     "output_type": "stream",
     "text": [
      "14.31684136390686\n"
     ]
    }
   ],
   "source": [
    "print(t1-t0)"
   ]
  },
  {
   "cell_type": "code",
   "execution_count": 21,
   "id": "11b4be80",
   "metadata": {},
   "outputs": [
    {
     "name": "stdout",
     "output_type": "stream",
     "text": [
      "28.631659984588623\n"
     ]
    }
   ],
   "source": [
    "t0 = time.time()\n",
    "\n",
    "false_primes = []\n",
    "\n",
    "for p in range(10000):\n",
    "    if is_false_prime(p):\n",
    "        false_primes.append(p)\n",
    "        \n",
    "t1 = time.time()\n",
    "\n",
    "print(t1 - t0)"
   ]
  },
  {
   "cell_type": "markdown",
   "id": "3ca42ed2",
   "metadata": {},
   "source": [
    "Can we do anything to speed up our `is_false_prime` function?\n",
    "\n",
    "That is, can we speed up `is_prime` or `is_prime_like`?"
   ]
  },
  {
   "cell_type": "code",
   "execution_count": 22,
   "id": "b786727a",
   "metadata": {},
   "outputs": [],
   "source": [
    "def is_prime_version1(n):\n",
    "    for d in range(2,n):\n",
    "        if n % d == 0:\n",
    "            return False\n",
    "    return True"
   ]
  },
  {
   "cell_type": "code",
   "execution_count": 23,
   "id": "a2b741d3",
   "metadata": {},
   "outputs": [],
   "source": [
    "def is_prime_version2(n):\n",
    "    for d in range(2,n//2+1):\n",
    "        if n % d == 0:\n",
    "            return False\n",
    "    return True"
   ]
  },
  {
   "cell_type": "code",
   "execution_count": 24,
   "id": "5ec9626c",
   "metadata": {},
   "outputs": [],
   "source": [
    "from math import sqrt"
   ]
  },
  {
   "cell_type": "code",
   "execution_count": 25,
   "id": "cfe52c51",
   "metadata": {},
   "outputs": [],
   "source": [
    "def is_prime_version3(n):\n",
    "    for d in range(2,int(sqrt(n))+1):\n",
    "        if n % d == 0:\n",
    "            return False\n",
    "    return True"
   ]
  },
  {
   "cell_type": "code",
   "execution_count": 33,
   "id": "e00a4866",
   "metadata": {},
   "outputs": [
    {
     "name": "stdout",
     "output_type": "stream",
     "text": [
      "0.0\n",
      "59.029998540878296\n",
      "120.63795280456543\n"
     ]
    }
   ],
   "source": [
    "n = 1000000007\n",
    "\n",
    "t0 = time.time()\n",
    "is_prime_version3(n)\n",
    "t1 = time.time()\n",
    "print(t1 - t0)\n",
    "\n",
    "t0 = time.time()\n",
    "is_prime_version2(n)\n",
    "t1 = time.time()\n",
    "print(t1 - t0)\n",
    "\n",
    "t0 = time.time()\n",
    "is_prime_version1(n)\n",
    "t1 = time.time()\n",
    "print(t1 - t0)"
   ]
  },
  {
   "cell_type": "markdown",
   "id": "ea5801f1",
   "metadata": {},
   "source": [
    "**Exercise**: Use the `pow` function as described in the Project page to modify the `is_prime_like` function, then use `time.time` to compare."
   ]
  },
  {
   "cell_type": "markdown",
   "id": "367f417d",
   "metadata": {},
   "source": [
    "**Exercise**: Compare the difference between the following two versions of `is_false_prime()`:"
   ]
  },
  {
   "cell_type": "code",
   "execution_count": 34,
   "id": "0573fb0a",
   "metadata": {},
   "outputs": [],
   "source": [
    "def is_false_prime_version1(p):\n",
    "    if not is_prime(p) and is_prime_like(p):\n",
    "        return True\n",
    "    else: \n",
    "        return False\n",
    "    \n",
    "def is_false_prime_version2(p):\n",
    "    if is_prime_like(p) and not is_prime(p):\n",
    "        return True\n",
    "    else: \n",
    "        return False"
   ]
  },
  {
   "cell_type": "code",
   "execution_count": null,
   "id": "c8fe822d",
   "metadata": {},
   "outputs": [],
   "source": []
  }
 ],
 "metadata": {
  "kernelspec": {
   "display_name": "Python 3 (ipykernel)",
   "language": "python",
   "name": "python3"
  },
  "language_info": {
   "codemirror_mode": {
    "name": "ipython",
    "version": 3
   },
   "file_extension": ".py",
   "mimetype": "text/x-python",
   "name": "python",
   "nbconvert_exporter": "python",
   "pygments_lexer": "ipython3",
   "version": "3.11.5"
  }
 },
 "nbformat": 4,
 "nbformat_minor": 5
}
