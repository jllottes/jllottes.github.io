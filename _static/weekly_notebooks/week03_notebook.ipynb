{
 "cells": [
  {
   "cell_type": "markdown",
   "id": "b017ffa6-99e5-4817-880a-f49c14bb2d3f",
   "metadata": {},
   "source": [
    "# Monday, September 8th, 2025\n",
    "\n",
    "Last week, we looked at `for` loops and determining whether a given number is prime."
   ]
  },
  {
   "cell_type": "code",
   "execution_count": 1,
   "id": "4b758d31-3a2b-4ef0-8214-41d594fce655",
   "metadata": {},
   "outputs": [
    {
     "name": "stdout",
     "output_type": "stream",
     "text": [
      "8 is not prime.\n"
     ]
    }
   ],
   "source": [
    "n = 8\n",
    "\n",
    "n_is_prime = True\n",
    "\n",
    "for d in range(2,n):\n",
    "    if n % d == 0:\n",
    "        n_is_prime = False\n",
    "        \n",
    "if n_is_prime:\n",
    "    print('{} is prime.'.format(n))\n",
    "else:\n",
    "    print('{} is not prime.'.format(n))"
   ]
  },
  {
   "cell_type": "markdown",
   "id": "de0bbd70-0d60-4b31-8423-753a0cb0dccd",
   "metadata": {},
   "source": [
    "Note: in the code above, it will often happen that we perform many divisibility checks for no reason (for example, if `2` divides `n`, then we will still unnecessarily check whether `3`, `4`, `5`, ... also divide `n`). It would be helpful if we could escape the loop prematurely.\n",
    "\n",
    "## The `break` and `continue` commands\n",
    "\n",
    "The `break` command can be used within a loop to immediately exit the loop.\n"
   ]
  },
  {
   "cell_type": "code",
   "execution_count": null,
   "id": "397d1b56-52b1-4f60-9491-00a8c020e61e",
   "metadata": {},
   "outputs": [],
   "source": []
  },
  {
   "cell_type": "markdown",
   "id": "f0950526-3295-48bd-a505-240e271a0058",
   "metadata": {},
   "source": [
    "**Exercise:** Modify the prime-checking code above to exit the loop as soon as `n` is determined to not be prime."
   ]
  },
  {
   "cell_type": "code",
   "execution_count": null,
   "id": "6a0d48bb-d35f-4b80-9dc8-215cf162ae7d",
   "metadata": {},
   "outputs": [],
   "source": []
  },
  {
   "cell_type": "markdown",
   "id": "ffdd0c0d-56c6-4d92-862e-3bd9c63dd0b3",
   "metadata": {},
   "source": [
    "Other times, we may want to immediately proceed to the next iteration of a loop. The `continue` command can be used to accomplish this."
   ]
  },
  {
   "cell_type": "code",
   "execution_count": null,
   "id": "da801f2d-91c8-49c5-8f5b-fa079736d952",
   "metadata": {},
   "outputs": [],
   "source": []
  },
  {
   "cell_type": "markdown",
   "id": "31f7acd2-f52e-4ce7-8a48-3dbbddda3c4a",
   "metadata": {},
   "source": [
    "## `while` loops\n",
    "\n",
    "Suppose that we want to find the first 100 cubes that have remainder `1` after division by `4`.\n",
    "\n",
    "Problem: We don't know ahead of time how many numbers we'd have to check before we find 100 such cubes.\n",
    "\n",
    "For these types of problems, we can use a `while` loop. A `while` loops will iteratiavely perform some operations as long as some Boolean expression is `True`. The syntax is as follows:\n",
    "<code>\n",
    "while (some Boolean expression is True):\n",
    "    (do something)\n",
    "</code>\n",
    "\n",
    "Note: the `(some Boolean expression)` can be (and often is) a variable that will be modified within the `while` loop."
   ]
  },
  {
   "cell_type": "code",
   "execution_count": null,
   "id": "d0b59911-089d-4520-8dcf-3c7824a4d9ad",
   "metadata": {},
   "outputs": [],
   "source": []
  },
  {
   "cell_type": "code",
   "execution_count": null,
   "id": "f7dabb4f-f11a-41d3-b98c-d86482896948",
   "metadata": {},
   "outputs": [],
   "source": []
  },
  {
   "cell_type": "code",
   "execution_count": null,
   "id": "32ee5508-8f62-43f2-a57f-18544bc41051",
   "metadata": {},
   "outputs": [],
   "source": []
  },
  {
   "cell_type": "markdown",
   "id": "e0c0aba1-85bb-4765-a499-35b0a86bb0ab",
   "metadata": {},
   "source": [
    "**Warnings:**\n",
    " - Unlike with `for` loops, it is very easy to end up with a `while` loop that runs forever.\n",
    " - Always make sure that your Boolean expression will eventually be `False` so that the `while` loop can terminate.\n",
    " - Check that you are incrementing any necessary variables with each iteration.\n",
    "\n",
    "If you find your code stuck running a `while` loop, you can hit the stop button (black square in the toolbar near the top of the notebook) to try to get Python to interrupt the kernel. If this does not work, you can restart the kernel (refresh symbol to the right of the stop button) to shut down the notebook and restart."
   ]
  },
  {
   "cell_type": "code",
   "execution_count": null,
   "id": "fcdf1de5-2b2d-4265-a1c6-dc063bd5bc8d",
   "metadata": {},
   "outputs": [],
   "source": []
  },
  {
   "cell_type": "markdown",
   "id": "0fbbfcd8-6c19-4358-b25e-7f2fc7a2f480",
   "metadata": {},
   "source": [
    "There are some shortcuts for incrementing variables. In particular:\n",
    " - `n += 1` is equivalent to `n = n + 1`\n",
    " - `n -= 3` is equivalent to `n = n - 3`\n",
    " - `n *= 7` is equivalent to `n = n * 7`"
   ]
  },
  {
   "cell_type": "code",
   "execution_count": null,
   "id": "d3366cd3-e00f-4c96-853a-7f5028f53ef2",
   "metadata": {},
   "outputs": [],
   "source": []
  },
  {
   "cell_type": "markdown",
   "id": "3fdd29f8-209c-45a5-bf2f-36d76ca72d54",
   "metadata": {},
   "source": [
    "**Exercise:** Write code that will find the first 10 prime numbers."
   ]
  },
  {
   "cell_type": "code",
   "execution_count": null,
   "id": "8630905c-e91a-4f43-a6eb-f6b535e88950",
   "metadata": {},
   "outputs": [],
   "source": []
  },
  {
   "cell_type": "markdown",
   "id": "54e9587c-dfd2-4093-90fd-1f23850d2d7d",
   "metadata": {},
   "source": [
    "## Functions in Python\n",
    "\n",
    "Very often, we want to write code that can be applied to many different inputs. We can accomplish this by writing a Python function. The syntax for defining functions in Python is:\n",
    "<code>\n",
    "def function_name(some_inputs):\n",
    "    ...do something...\n",
    "</code>"
   ]
  },
  {
   "cell_type": "code",
   "execution_count": null,
   "id": "0b450960-705c-40c7-bfe7-3770df2cd8c0",
   "metadata": {},
   "outputs": [],
   "source": []
  },
  {
   "cell_type": "markdown",
   "id": "4b33a61d-fa14-4b35-b600-a2fbbbae69de",
   "metadata": {},
   "source": [
    "After defining a function, we can call upon it to execute the function's code."
   ]
  },
  {
   "cell_type": "code",
   "execution_count": null,
   "id": "31f3d4af-2da6-4d6d-a2bf-aac496ad6aad",
   "metadata": {},
   "outputs": [],
   "source": []
  },
  {
   "cell_type": "markdown",
   "id": "2cff406e-3fbc-460a-8647-7054154af7f1",
   "metadata": {},
   "source": [
    "**Exercise:** Write a function called `is_prime` that takes in a variable `n` and prints whether or not `n` is prime."
   ]
  },
  {
   "cell_type": "code",
   "execution_count": null,
   "id": "d56c13ac-7900-425b-82cc-9119d95fda17",
   "metadata": {},
   "outputs": [],
   "source": []
  },
  {
   "cell_type": "markdown",
   "id": "bc312298-b5fc-4016-9a89-89d82b580151",
   "metadata": {},
   "source": [
    "It is often more useful to have functions like the above **return** either a `True` or a `False` Boolean depending on whether `n` is prime or not.\n",
    "\n",
    "More generally, we often want functions to return some value to the caller. This can be done using a `return` statement:"
   ]
  },
  {
   "cell_type": "markdown",
   "id": "582dafaf-e833-4c84-9adf-4eb94c56ca21",
   "metadata": {},
   "source": [
    "**Exercise:** Rewrite the `is_prime` function to `return` a Boolean `True` if the input is prime and `False` if not."
   ]
  },
  {
   "cell_type": "code",
   "execution_count": null,
   "id": "1813d3c4-8188-44cd-bca3-28d638220509",
   "metadata": {},
   "outputs": [],
   "source": []
  },
  {
   "cell_type": "markdown",
   "id": "e6fabb16-437e-4c63-af46-f94d65c907bc",
   "metadata": {},
   "source": [
    "**Note:** Variables that are defined within a function only exist within that function. In the above example, we've defined `n_is_prime` within the `is_prime` function. This is a completely different variable to the globally defined variable `n_is_prime` that was defined at the top of this notebook. If a function calls upon a variable name that it has not defined, it will look outside the function for that variable name."
   ]
  },
  {
   "cell_type": "code",
   "execution_count": null,
   "id": "94773ccc-ac17-448e-9c11-5d35a3cca851",
   "metadata": {},
   "outputs": [],
   "source": []
  },
  {
   "cell_type": "markdown",
   "id": "d0fdb83d-3448-4015-952b-e21cbf6593ec",
   "metadata": {},
   "source": [
    "**Note:** A function will terminate as soon as it hits a `return` statement."
   ]
  },
  {
   "cell_type": "code",
   "execution_count": null,
   "id": "efb67616-cbd8-43db-a1bd-896c08738d21",
   "metadata": {},
   "outputs": [],
   "source": []
  },
  {
   "cell_type": "markdown",
   "id": "56aa79a5-626c-426b-943d-daebf48936ab",
   "metadata": {},
   "source": [
    "**Exercise:** Write a function `get_primes` that takes in an input `n` and returns a list of all prime numbers between `2` and `n` (inclusively)."
   ]
  },
  {
   "cell_type": "code",
   "execution_count": null,
   "id": "9abb267c-cf74-42ec-8d65-6a6d0760a5cc",
   "metadata": {},
   "outputs": [],
   "source": []
  },
  {
   "cell_type": "markdown",
   "id": "a0964ab9-1320-4a7b-a82d-2035506ffb7c",
   "metadata": {},
   "source": [
    "## Modules in Python\n",
    "\n",
    "When starting a Jupyter notebook, Python loads in a base set of commands that are made available (e.g. `print`, `list`, `int`, etc.). However, there are many other commands that are not loaded by default that we sometimes want to make use of. We can import various modules that contain all kinds of additional functionality.\n",
    "\n",
    "For example, suppose we want to consider the efficiency of our `get_primes` function. We can import the `time` module to gain access to different time-related tools, which we can use to time our function.\n",
    "\n",
    "### Importing a module\n",
    "\n",
    "We can use the syntax `import <some module>` to make that module available to us. After doing so, we can use the syntax `<some module>.<some function or object>` to call upon variables functions or objects contained in that module."
   ]
  },
  {
   "cell_type": "code",
   "execution_count": null,
   "id": "c6f12208-37fe-4fbb-9475-c4322f5019f2",
   "metadata": {},
   "outputs": [],
   "source": []
  },
  {
   "cell_type": "markdown",
   "id": "3d24235f-a3e5-4431-b1f4-6cdc02c82bda",
   "metadata": {},
   "source": [
    "We can use the `time` function from the `time` module to time our `get_primes` function."
   ]
  },
  {
   "cell_type": "code",
   "execution_count": null,
   "id": "4af5df2e-90c3-4575-b59c-334cc80ba6d7",
   "metadata": {},
   "outputs": [],
   "source": []
  },
  {
   "cell_type": "markdown",
   "id": "0ccf7a63-a811-40ea-a6b9-729a32703fb2",
   "metadata": {},
   "source": [
    "### Importing from a module\n",
    "\n",
    "Sometimes we just want to make use of a single function or object from within a module. We can use the syntax `from <some module> import <some function or object>` to gain direct access to the function or object. After doing so, we can simply use `<some function or object>` directly rather than looking back inside the module (that is, we do not need to include `<some module>.` before calling upon the function/object)."
   ]
  },
  {
   "cell_type": "code",
   "execution_count": null,
   "id": "867dc3ff-d31a-4933-bac7-234fec7c4ee6",
   "metadata": {},
   "outputs": [],
   "source": []
  },
  {
   "cell_type": "code",
   "execution_count": null,
   "id": "50f19836-f95f-43db-96cc-ecb90c4c29da",
   "metadata": {},
   "outputs": [],
   "source": []
  },
  {
   "cell_type": "markdown",
   "id": "b93222d2-28b0-4c8f-adb7-9f1cbcb93c8d",
   "metadata": {},
   "source": [
    "## Optimization\n",
    "\n",
    "Let's think of ways that we can improve the efficiency of our `get_primes` function. By extension, we will want to improve the efficiency of our `is_prime` function."
   ]
  },
  {
   "cell_type": "code",
   "execution_count": null,
   "id": "23032a2b-2953-4309-96ea-b416ee003524",
   "metadata": {},
   "outputs": [],
   "source": []
  },
  {
   "cell_type": "markdown",
   "id": "6479fe34-e621-4381-beda-1b4892f2da36",
   "metadata": {},
   "source": [
    "We can import the `sqrt` function from the `math` module in order to compute square roots.\n",
    "\n",
    "**Exercise:** Rewrite the `is_prime` function to take advantage of the $\\sqrt{n}$ optimization that we've discussed."
   ]
  },
  {
   "cell_type": "code",
   "execution_count": null,
   "id": "69e3e381-b73d-45dd-88b7-1b1fbd83fecc",
   "metadata": {},
   "outputs": [],
   "source": []
  },
  {
   "cell_type": "markdown",
   "id": "a301b8a1-5a39-4d7f-b546-e6a2d4431ef8",
   "metadata": {},
   "source": [
    "**Exercise:** Compare the efficiency of using this optimization by timing the old version of `is_prime` against the new version."
   ]
  },
  {
   "cell_type": "code",
   "execution_count": null,
   "id": "00758a46-3d6b-434b-bc4b-9556e3400a31",
   "metadata": {},
   "outputs": [],
   "source": []
  },
  {
   "cell_type": "markdown",
   "id": "95a7aa89-2cb6-4f1e-af85-1f0267d7893a",
   "metadata": {},
   "source": [
    "## Modular arithmetic and congruences\n",
    "\n",
    "See [Project 1 page](https://jllottes.github.io/Projects/prime_or_not/prime_or_not.html) for an introduction to modular arithmetic and congruences.\n",
    "\n",
    "From the project page, we say that a number $n$ is \"prime-like\" if\n",
    "\n",
    "$$a^n \\equiv a\\pmod{n}$$\n",
    "for all integers $0 \\leq a < n$."
   ]
  },
  {
   "cell_type": "markdown",
   "id": "b0a2a0c3-0641-49e0-8d88-867d24f713bf",
   "metadata": {},
   "source": [
    "**Exercise:** Write a function `is_prime_like` that takes in an integer `n` and returns `True` if `n` is prime-like and `False` if not."
   ]
  },
  {
   "cell_type": "code",
   "execution_count": null,
   "id": "1ecce3fa-56da-48fa-9e39-f0e723eeeff8",
   "metadata": {},
   "outputs": [],
   "source": []
  },
  {
   "cell_type": "markdown",
   "id": "6cd3cb0f-6582-4794-bc09-bb37c98d8255",
   "metadata": {},
   "source": [
    "**Exercise:** Write a function that takes in an integer `n` and returns a list of prime numbers that divide `n`. "
   ]
  },
  {
   "cell_type": "code",
   "execution_count": null,
   "id": "00bfac28-a5ca-4a8a-8c6b-2fd500216127",
   "metadata": {},
   "outputs": [],
   "source": []
  },
  {
   "cell_type": "markdown",
   "id": "fc7cbf12-7a96-4079-b907-40f40a2c49ef",
   "metadata": {},
   "source": [
    "**Exercise:** Modify the function from the previous exercise to return the primary decomposition of `n`. That is, modify the code to account for the multiplicity of each prime divisor."
   ]
  },
  {
   "cell_type": "code",
   "execution_count": null,
   "id": "edc7d1dd-c276-463e-bb46-408b5da1bcf4",
   "metadata": {},
   "outputs": [],
   "source": []
  },
  {
   "cell_type": "markdown",
   "id": "40c52358-bea2-4d37-aad2-9502796cd226",
   "metadata": {},
   "source": [
    "## More about Markdown: LaTeX\n",
    "\n",
    "LaTeX is a tool for writing math expressions. To enter LaTeX mode in a markdown cell, we use dollar signs `$`.\n",
    "\n",
    "- Plain-text:\n",
    "  - 123456\n",
    "  - 123^456\n",
    "  - 123_456\n",
    "- LaTeX:\n",
    "  - $123456$\n",
    "  - $123^{456}$\n",
    "  - $123_{456}$\n",
    "\n",
    "Some common LaTeX commands:\n",
    "\n",
    " - Exponents: `$x^2 + y^$` renders as $x^2 + y^2$.\n",
    " - Fractions: `\\frac{numerator}{denominator}$` renders as $\\frac{numerator}{denominator}$.\n",
    " - Integrals and trig functions: `\\int_0^x \\cos(t) dt$` renders as $\\int_0^x \\cos(t) dt$.\n",
    " \n",
    "Using a single dollar sign writes LaTeX in in-line mode (i.e. will appear within the same lines as the surrounding text). We can use two dollar signs (`$$`) to write in display mode, which gives a centered equation. For example, `$$\\int_0^x \\cos(t) dt$$` renders as\n",
    "\n",
    "$$\\int_0^x \\cos(t) dt$$\n",
    "\n",
    "whereas `$\\int_0^x \\cos(t) dt$` renders as $\\int_0^x \\cos(t) dt$.\n",
    "\n",
    "Other common LaTeX commands:\n",
    "\n",
    " - Subscripts and superscripts: `$a_n$, $2^n$` renders as $a_n$, $2^n$.\n",
    " - Square roots and other roots: `$\\sqrt{7}$`, `$\\sqrt[10]{x^2-5}$` renders as $\\sqrt{7}$, $\\sqrt[10]{x^2 - 5}$.\n",
    " - Greek letters: `$\\alpha$, $\\beta$, $\\gamma$, $\\sigma$, $\\omega$, $\\pi$` renders as $\\alpha$, $\\beta$, $\\gamma$, $\\sigma$, $\\omega$, $\\pi$."
   ]
  },
  {
   "cell_type": "code",
   "execution_count": null,
   "id": "41477cbc-c667-4c17-8dda-fe53a35a43e5",
   "metadata": {},
   "outputs": [],
   "source": []
  },
  {
   "cell_type": "markdown",
   "id": "9232efa8-34b8-4013-89ce-a20a959478a0",
   "metadata": {},
   "source": [
    "We can have LaTeX automatically adjust the size of parentheses using `\\left(` and `\\right)`. For example, `$$\\left(\\frac{1}{2} + 4\\right)$$` renders as:\n",
    "\n",
    "$$\\left(\\frac{1}{2} + 4\\right)$$\n",
    "\n",
    "whereas `$$(\\frac{1}{2} + 4)$$` renders as\n",
    "\n",
    "$$(\\frac{1}{2} + 4).$$\n",
    "\n",
    "We will regularly use LaTeX in our project reports whenever referring to math equations or variables.\n",
    "\n",
    "**Exercise:** Using Markdown and LaTeX, write out a definition of a prime number. Also, describe the process that we used in class to test whether a given number is prime."
   ]
  },
  {
   "cell_type": "code",
   "execution_count": null,
   "id": "0dbaed9b-099b-444c-b619-bd78c546cabc",
   "metadata": {},
   "outputs": [],
   "source": []
  }
 ],
 "metadata": {
  "kernelspec": {
   "display_name": "Python 3 (ipykernel)",
   "language": "python",
   "name": "python3"
  },
  "language_info": {
   "codemirror_mode": {
    "name": "ipython",
    "version": 3
   },
   "file_extension": ".py",
   "mimetype": "text/x-python",
   "name": "python",
   "nbconvert_exporter": "python",
   "pygments_lexer": "ipython3",
   "version": "3.13.5"
  }
 },
 "nbformat": 4,
 "nbformat_minor": 5
}
