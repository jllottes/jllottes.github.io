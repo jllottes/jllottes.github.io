{
 "cells": [
  {
   "cell_type": "markdown",
   "id": "0669cb23",
   "metadata": {},
   "source": [
    "# Monday, September 9th, 2024\n",
    "\n",
    "## Prime numbers in Python"
   ]
  },
  {
   "cell_type": "markdown",
   "id": "293f5c59",
   "metadata": {},
   "source": [
    "Recall: a positive integer $n$ is prime if the only positive integers that divide it are $1$ and itself."
   ]
  },
  {
   "cell_type": "markdown",
   "id": "2a6aa81e",
   "metadata": {},
   "source": [
    "We want to be able to determine if a given number is prime using Python."
   ]
  },
  {
   "cell_type": "code",
   "execution_count": null,
   "id": "fde29d11",
   "metadata": {},
   "outputs": [],
   "source": [
    "n = 123\n",
    "\n",
    "for d in [2,3,4,5,6,7,]"
   ]
  },
  {
   "cell_type": "markdown",
   "id": "5a07665c",
   "metadata": {},
   "source": [
    "The `range()` function can be used to easily iterate through a sequence of integers using `for` loops."
   ]
  },
  {
   "cell_type": "code",
   "execution_count": 1,
   "id": "ead904bb",
   "metadata": {},
   "outputs": [
    {
     "name": "stdout",
     "output_type": "stream",
     "text": [
      "Help on class range in module builtins:\n",
      "\n",
      "class range(object)\n",
      " |  range(stop) -> range object\n",
      " |  range(start, stop[, step]) -> range object\n",
      " |  \n",
      " |  Return an object that produces a sequence of integers from start (inclusive)\n",
      " |  to stop (exclusive) by step.  range(i, j) produces i, i+1, i+2, ..., j-1.\n",
      " |  start defaults to 0, and stop is omitted!  range(4) produces 0, 1, 2, 3.\n",
      " |  These are exactly the valid indices for a list of 4 elements.\n",
      " |  When step is given, it specifies the increment (or decrement).\n",
      " |  \n",
      " |  Methods defined here:\n",
      " |  \n",
      " |  __bool__(self, /)\n",
      " |      True if self else False\n",
      " |  \n",
      " |  __contains__(self, key, /)\n",
      " |      Return key in self.\n",
      " |  \n",
      " |  __eq__(self, value, /)\n",
      " |      Return self==value.\n",
      " |  \n",
      " |  __ge__(self, value, /)\n",
      " |      Return self>=value.\n",
      " |  \n",
      " |  __getattribute__(self, name, /)\n",
      " |      Return getattr(self, name).\n",
      " |  \n",
      " |  __getitem__(self, key, /)\n",
      " |      Return self[key].\n",
      " |  \n",
      " |  __gt__(self, value, /)\n",
      " |      Return self>value.\n",
      " |  \n",
      " |  __hash__(self, /)\n",
      " |      Return hash(self).\n",
      " |  \n",
      " |  __iter__(self, /)\n",
      " |      Implement iter(self).\n",
      " |  \n",
      " |  __le__(self, value, /)\n",
      " |      Return self<=value.\n",
      " |  \n",
      " |  __len__(self, /)\n",
      " |      Return len(self).\n",
      " |  \n",
      " |  __lt__(self, value, /)\n",
      " |      Return self<value.\n",
      " |  \n",
      " |  __ne__(self, value, /)\n",
      " |      Return self!=value.\n",
      " |  \n",
      " |  __reduce__(...)\n",
      " |      Helper for pickle.\n",
      " |  \n",
      " |  __repr__(self, /)\n",
      " |      Return repr(self).\n",
      " |  \n",
      " |  __reversed__(...)\n",
      " |      Return a reverse iterator.\n",
      " |  \n",
      " |  count(...)\n",
      " |      rangeobject.count(value) -> integer -- return number of occurrences of value\n",
      " |  \n",
      " |  index(...)\n",
      " |      rangeobject.index(value) -> integer -- return index of value.\n",
      " |      Raise ValueError if the value is not present.\n",
      " |  \n",
      " |  ----------------------------------------------------------------------\n",
      " |  Static methods defined here:\n",
      " |  \n",
      " |  __new__(*args, **kwargs) from builtins.type\n",
      " |      Create and return a new object.  See help(type) for accurate signature.\n",
      " |  \n",
      " |  ----------------------------------------------------------------------\n",
      " |  Data descriptors defined here:\n",
      " |  \n",
      " |  start\n",
      " |  \n",
      " |  step\n",
      " |  \n",
      " |  stop\n",
      "\n"
     ]
    }
   ],
   "source": [
    "help(range)"
   ]
  },
  {
   "cell_type": "code",
   "execution_count": 2,
   "id": "90597927",
   "metadata": {},
   "outputs": [
    {
     "name": "stdout",
     "output_type": "stream",
     "text": [
      "0\n",
      "1\n",
      "2\n",
      "3\n",
      "4\n",
      "5\n",
      "6\n",
      "7\n",
      "8\n",
      "9\n"
     ]
    }
   ],
   "source": [
    "for i in range(10):\n",
    "    print(i)"
   ]
  },
  {
   "cell_type": "code",
   "execution_count": 4,
   "id": "541b29ca",
   "metadata": {},
   "outputs": [
    {
     "name": "stdout",
     "output_type": "stream",
     "text": [
      "3\n",
      "4\n",
      "5\n",
      "6\n",
      "7\n",
      "8\n",
      "9\n"
     ]
    }
   ],
   "source": [
    "for i in range(3,10):\n",
    "    print(i)"
   ]
  },
  {
   "cell_type": "markdown",
   "id": "4c392d78",
   "metadata": {},
   "source": [
    "The syntax for `range()` is as follows:\n",
    "* `range(n)` returns a list of integers `0, 1, 2, ..., n-1`.\n",
    "* `range(m,n)` returns a list of integers `m, m+1, m+2, ..., n-1`."
   ]
  },
  {
   "cell_type": "code",
   "execution_count": 5,
   "id": "24e57d65",
   "metadata": {},
   "outputs": [
    {
     "name": "stdout",
     "output_type": "stream",
     "text": [
      "3\n",
      "5\n",
      "7\n",
      "9\n"
     ]
    }
   ],
   "source": [
    "for i in range(3,10,2):\n",
    "    print(i)"
   ]
  },
  {
   "cell_type": "markdown",
   "id": "28c0ca53",
   "metadata": {},
   "source": [
    "**Exercise:** Use `range` and a `for` loop to decide if a given number `n` is prime:\n",
    "\n",
    "Hints: We want to check if $d = 2, 3, 4, ..., n-1$ divides $n$. "
   ]
  },
  {
   "cell_type": "markdown",
   "id": "8074bb31",
   "metadata": {},
   "source": [
    "We can use the modulus to check for disibility. In other words, `d` divides `n` if `n % d == 0`."
   ]
  },
  {
   "cell_type": "code",
   "execution_count": 18,
   "id": "e346dd9d",
   "metadata": {},
   "outputs": [
    {
     "name": "stdout",
     "output_type": "stream",
     "text": [
      "[1, 11]\n",
      "11 is prime\n"
     ]
    }
   ],
   "source": [
    "n = 11\n",
    "\n",
    "divisor_list = [1,n]\n",
    "\n",
    "for d in range(2,n):\n",
    "    if n % d == 0:\n",
    "        divisor_list.append(d)\n",
    "print(divisor_list)\n",
    "\n",
    "if len(divisor_list) > 2:\n",
    "    print('{} is not prime'.format(n))\n",
    "else:\n",
    "    print('{} is prime'.format(n))"
   ]
  },
  {
   "cell_type": "markdown",
   "id": "90d40133",
   "metadata": {},
   "source": [
    "It can be often be helpful to use \"flags\", that is Boolean variables to determine if some condition is met or not."
   ]
  },
  {
   "cell_type": "code",
   "execution_count": 23,
   "id": "cb38d393",
   "metadata": {},
   "outputs": [
    {
     "name": "stdout",
     "output_type": "stream",
     "text": [
      "13 is a prime number\n"
     ]
    }
   ],
   "source": [
    "n = 13\n",
    "\n",
    "prime = True\n",
    "\n",
    "for d in range(2,n):\n",
    "    if n % d == 0:\n",
    "        prime = False\n",
    "        break\n",
    "        \n",
    "if prime:\n",
    "    print('{} is a prime number'.format(n))\n",
    "else:\n",
    "    print('{} is not a prime number'.format(n))"
   ]
  },
  {
   "cell_type": "markdown",
   "id": "af7323aa",
   "metadata": {},
   "source": [
    "We often want to perform the same operations with different inputs, in this case, `n`. We can wrap these operation inside a `function` in Python.\n",
    "\n",
    "The syntax to define a function is\n",
    "<code>\n",
    "def \\<function name\\>(input1, input2, ...):\n",
    "    \\<do something\\>\n",
    "    return \\<something\\>\n",
    "    </code>"
   ]
  },
  {
   "cell_type": "code",
   "execution_count": 24,
   "id": "41c4f6d5",
   "metadata": {},
   "outputs": [],
   "source": [
    "def is_prime(n):\n",
    "    prime = True\n",
    "\n",
    "    for d in range(2,n):\n",
    "        if n % d == 0:\n",
    "            prime = False\n",
    "            break\n",
    "\n",
    "    if prime:\n",
    "        print('{} is a prime number'.format(n))\n",
    "    else:\n",
    "        print('{} is not a prime number'.format(n))"
   ]
  },
  {
   "cell_type": "code",
   "execution_count": 28,
   "id": "f756998c",
   "metadata": {
    "scrolled": false
   },
   "outputs": [
    {
     "name": "stdout",
     "output_type": "stream",
     "text": [
      "2 is a prime number\n",
      "3 is a prime number\n",
      "4 is not a prime number\n",
      "5 is a prime number\n",
      "6 is not a prime number\n",
      "7 is a prime number\n",
      "8 is not a prime number\n",
      "9 is not a prime number\n",
      "10 is not a prime number\n",
      "11 is a prime number\n",
      "12 is not a prime number\n",
      "13 is a prime number\n",
      "14 is not a prime number\n",
      "15 is not a prime number\n",
      "16 is not a prime number\n",
      "17 is a prime number\n",
      "18 is not a prime number\n",
      "19 is a prime number\n",
      "20 is not a prime number\n",
      "21 is not a prime number\n",
      "22 is not a prime number\n",
      "23 is a prime number\n",
      "24 is not a prime number\n",
      "25 is not a prime number\n",
      "26 is not a prime number\n",
      "27 is not a prime number\n",
      "28 is not a prime number\n",
      "29 is a prime number\n"
     ]
    }
   ],
   "source": [
    "for n in range(2, 30):\n",
    "    is_prime(n)"
   ]
  },
  {
   "cell_type": "markdown",
   "id": "b15ddfca",
   "metadata": {},
   "source": [
    "If we want to get something back from a function, we can use the `return` statement:"
   ]
  },
  {
   "cell_type": "code",
   "execution_count": 29,
   "id": "c1431af7",
   "metadata": {},
   "outputs": [],
   "source": [
    "def f(a,b):\n",
    "    print('Hello')\n",
    "    \n",
    "    return a + b"
   ]
  },
  {
   "cell_type": "code",
   "execution_count": 30,
   "id": "72af4f76",
   "metadata": {},
   "outputs": [
    {
     "name": "stdout",
     "output_type": "stream",
     "text": [
      "Hello\n",
      "3\n"
     ]
    }
   ],
   "source": [
    "c = f(1,2)\n",
    "print(c)"
   ]
  },
  {
   "cell_type": "code",
   "execution_count": 31,
   "id": "0e51740c",
   "metadata": {},
   "outputs": [
    {
     "name": "stdout",
     "output_type": "stream",
     "text": [
      "Hello\n",
      "12\n"
     ]
    }
   ],
   "source": [
    "c = f(5,7)\n",
    "print(c)"
   ]
  },
  {
   "cell_type": "markdown",
   "id": "8dbc9f33",
   "metadata": {},
   "source": [
    "Variables defined within a function are not accessible outside that function:"
   ]
  },
  {
   "cell_type": "code",
   "execution_count": 35,
   "id": "32d32e56",
   "metadata": {},
   "outputs": [],
   "source": [
    "def g(a,b,c):\n",
    "    h = a + b + c\n",
    "    return a*b"
   ]
  },
  {
   "cell_type": "code",
   "execution_count": 33,
   "id": "db4db5f9",
   "metadata": {},
   "outputs": [
    {
     "name": "stdout",
     "output_type": "stream",
     "text": [
      "2\n"
     ]
    }
   ],
   "source": [
    "output = g(1,2,3)\n",
    "print(output)"
   ]
  },
  {
   "cell_type": "code",
   "execution_count": 36,
   "id": "413df316",
   "metadata": {},
   "outputs": [
    {
     "ename": "NameError",
     "evalue": "name 'h' is not defined",
     "output_type": "error",
     "traceback": [
      "\u001b[1;31m---------------------------------------------------------------------------\u001b[0m",
      "\u001b[1;31mNameError\u001b[0m                                 Traceback (most recent call last)",
      "Cell \u001b[1;32mIn[36], line 1\u001b[0m\n\u001b[1;32m----> 1\u001b[0m \u001b[38;5;28mprint\u001b[39m(h)\n",
      "\u001b[1;31mNameError\u001b[0m: name 'h' is not defined"
     ]
    }
   ],
   "source": [
    "print(h)"
   ]
  },
  {
   "cell_type": "markdown",
   "id": "a65402f0",
   "metadata": {},
   "source": [
    "Note: There does not need to be any connection with the names of our input variables outside the function versus inside."
   ]
  },
  {
   "cell_type": "code",
   "execution_count": 37,
   "id": "2fb42b22",
   "metadata": {},
   "outputs": [],
   "source": [
    "def add_strings(s1, s2):\n",
    "    print(s1 + s2)"
   ]
  },
  {
   "cell_type": "code",
   "execution_count": 38,
   "id": "a0bf6a4c",
   "metadata": {},
   "outputs": [
    {
     "name": "stdout",
     "output_type": "stream",
     "text": [
      "First stringSecond string\n"
     ]
    }
   ],
   "source": [
    "add_strings('First string', 'Second string')"
   ]
  },
  {
   "cell_type": "code",
   "execution_count": 39,
   "id": "681911d0",
   "metadata": {},
   "outputs": [
    {
     "name": "stdout",
     "output_type": "stream",
     "text": [
      "First stringSecond string\n"
     ]
    }
   ],
   "source": [
    "s1 = 'First string'\n",
    "s2 = 'Second string'\n",
    "\n",
    "add_strings(s1,s2)"
   ]
  },
  {
   "cell_type": "code",
   "execution_count": 40,
   "id": "d0cf20ed",
   "metadata": {},
   "outputs": [
    {
     "name": "stdout",
     "output_type": "stream",
     "text": [
      "Second stringFirst string\n"
     ]
    }
   ],
   "source": [
    "add_strings(s2,s1)"
   ]
  },
  {
   "cell_type": "markdown",
   "id": "62e00a69",
   "metadata": {},
   "source": [
    "Let's return to our `is_prime` function.\n",
    "We'd like to modify our `is_prime` function so that, instead of printing out a statement on whether `n` is prime or not, it return a Boolean `True` or `False`."
   ]
  },
  {
   "cell_type": "code",
   "execution_count": 41,
   "id": "7fa981ca",
   "metadata": {},
   "outputs": [],
   "source": [
    "def is_prime(n):\n",
    "    prime = True\n",
    "\n",
    "    for d in range(2,n):\n",
    "        if n % d == 0:\n",
    "            prime = False\n",
    "            break\n",
    "\n",
    "    if prime:\n",
    "        return True\n",
    "    else:\n",
    "        return False"
   ]
  },
  {
   "cell_type": "code",
   "execution_count": 42,
   "id": "532ad036",
   "metadata": {},
   "outputs": [
    {
     "name": "stdout",
     "output_type": "stream",
     "text": [
      "2\n",
      "3\n",
      "5\n",
      "7\n",
      "11\n",
      "13\n",
      "17\n",
      "19\n",
      "23\n",
      "29\n",
      "31\n",
      "37\n",
      "41\n",
      "43\n",
      "47\n"
     ]
    }
   ],
   "source": [
    "for n in range(2,50):\n",
    "    if is_prime(n):\n",
    "        print(n)"
   ]
  },
  {
   "cell_type": "markdown",
   "id": "bd974c1f",
   "metadata": {},
   "source": [
    "**Exercise:** Modify the `for` loop above to create a function `my_primes` as described in the Project 1 webpage.\n",
    "\n",
    "**Exercise:** As a first step toward creating the `primary` function as described in the Project page, write code that will generate a list of primes th at divide `n` (ignoring multiplicity)."
   ]
  }
 ],
 "metadata": {
  "kernelspec": {
   "display_name": "Python 3 (ipykernel)",
   "language": "python",
   "name": "python3"
  },
  "language_info": {
   "codemirror_mode": {
    "name": "ipython",
    "version": 3
   },
   "file_extension": ".py",
   "mimetype": "text/x-python",
   "name": "python",
   "nbconvert_exporter": "python",
   "pygments_lexer": "ipython3",
   "version": "3.11.5"
  }
 },
 "nbformat": 4,
 "nbformat_minor": 5
}
