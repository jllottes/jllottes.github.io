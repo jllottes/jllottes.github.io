{
 "cells": [
  {
   "cell_type": "markdown",
   "id": "878789cd",
   "metadata": {},
   "source": [
    "# Monday, February 3rd"
   ]
  },
  {
   "cell_type": "markdown",
   "id": "390156c0",
   "metadata": {},
   "source": [
    "Last week, we wrote some code to test whether or not a given number was prime."
   ]
  },
  {
   "cell_type": "code",
   "execution_count": 5,
   "id": "acd16b25",
   "metadata": {},
   "outputs": [
    {
     "name": "stdout",
     "output_type": "stream",
     "text": [
      "132 is not a prime number\n"
     ]
    }
   ],
   "source": [
    "n = 132\n",
    "\n",
    "n_is_prime = True\n",
    "\n",
    "for d in range(2,n):\n",
    "    if n % d == 0:\n",
    "        n_is_prime = False\n",
    "        break\n",
    "        \n",
    "if n_is_prime:\n",
    "    print('{} is a prime number'.format(n))\n",
    "else:\n",
    "    print('{} is not a prime number'.format(n))"
   ]
  },
  {
   "cell_type": "markdown",
   "id": "037faf8c",
   "metadata": {},
   "source": [
    "Very often, we want to write code that can be applied to many different inputs. We can accomplish this by writing a Python function."
   ]
  },
  {
   "cell_type": "markdown",
   "id": "9b1a95e6",
   "metadata": {},
   "source": [
    "## Functions in Python"
   ]
  },
  {
   "cell_type": "markdown",
   "id": "73a15e52",
   "metadata": {},
   "source": [
    "The syntax for defining functions in Python is:\n",
    "\n",
    "`def <function name>(<some inputs>):`\n",
    "\n",
    "    <do something>"
   ]
  },
  {
   "cell_type": "code",
   "execution_count": 6,
   "id": "f1f1f2d3",
   "metadata": {},
   "outputs": [],
   "source": [
    "def this_is_a_function():\n",
    "    print('Hello world!')"
   ]
  },
  {
   "cell_type": "markdown",
   "id": "1d128bda",
   "metadata": {},
   "source": [
    "We can call a function after defining it:"
   ]
  },
  {
   "cell_type": "code",
   "execution_count": 8,
   "id": "8c88eec7",
   "metadata": {},
   "outputs": [
    {
     "name": "stdout",
     "output_type": "stream",
     "text": [
      "Hello world!\n"
     ]
    }
   ],
   "source": [
    "this_is_a_function()"
   ]
  },
  {
   "cell_type": "code",
   "execution_count": 9,
   "id": "02cf4d71",
   "metadata": {},
   "outputs": [],
   "source": [
    "def function_with_one_input(n):\n",
    "    if n < 100:\n",
    "        print('{} is a small number'.format(n))\n",
    "    else:\n",
    "        print('{} is a large number'.format(n))"
   ]
  },
  {
   "cell_type": "code",
   "execution_count": 10,
   "id": "5219c7f2",
   "metadata": {},
   "outputs": [
    {
     "name": "stdout",
     "output_type": "stream",
     "text": [
      "50 is a small number\n"
     ]
    }
   ],
   "source": [
    "function_with_one_input(50)"
   ]
  },
  {
   "cell_type": "code",
   "execution_count": 11,
   "id": "7c9ff5e1",
   "metadata": {},
   "outputs": [
    {
     "name": "stdout",
     "output_type": "stream",
     "text": [
      "150 is a large number\n"
     ]
    }
   ],
   "source": [
    "function_with_one_input(150)"
   ]
  },
  {
   "cell_type": "markdown",
   "id": "1c35384e",
   "metadata": {},
   "source": [
    "**Exercise:** Write a function `is_prime` that takes in a variable `n` and prints whether or not `n` is prime."
   ]
  },
  {
   "cell_type": "code",
   "execution_count": 16,
   "id": "1ff450aa",
   "metadata": {},
   "outputs": [],
   "source": [
    "def is_prime(n):\n",
    "    n_is_prime = True\n",
    "\n",
    "    for d in range(2,n):\n",
    "        if n % d == 0:\n",
    "            n_is_prime = False\n",
    "            break\n",
    "\n",
    "    if n_is_prime:\n",
    "        print('{} is a prime number'.format(n))\n",
    "    else:\n",
    "        print('{} is not a prime number'.format(n))"
   ]
  },
  {
   "cell_type": "code",
   "execution_count": 19,
   "id": "7fe233ad",
   "metadata": {},
   "outputs": [
    {
     "name": "stdout",
     "output_type": "stream",
     "text": [
      "133 is not a prime number\n"
     ]
    }
   ],
   "source": [
    "is_prime(133)"
   ]
  },
  {
   "cell_type": "markdown",
   "id": "e743bd30",
   "metadata": {},
   "source": [
    "It is often more useful to have functions like the above **return** either a `True` or a `False` Boolean depending on whether `n` is prime or not.\n",
    "\n",
    "More generally, we often want functions to return some value to the caller. This can be done using a `return` statement:"
   ]
  },
  {
   "cell_type": "code",
   "execution_count": 26,
   "id": "e5083b94",
   "metadata": {},
   "outputs": [],
   "source": [
    "my_string = 'Hello World!'\n",
    "\n",
    "def is_prime(n):\n",
    "    n_is_prime = True\n",
    "    \n",
    "    print(my_string)\n",
    "\n",
    "    for d in range(2,n):\n",
    "        if n % d == 0:\n",
    "            n_is_prime = False\n",
    "            break\n",
    "\n",
    "    return n_is_prime"
   ]
  },
  {
   "cell_type": "code",
   "execution_count": 27,
   "id": "e3eb4c28",
   "metadata": {},
   "outputs": [
    {
     "name": "stdout",
     "output_type": "stream",
     "text": [
      "Hello World!\n"
     ]
    },
    {
     "data": {
      "text/plain": [
       "True"
      ]
     },
     "execution_count": 27,
     "metadata": {},
     "output_type": "execute_result"
    }
   ],
   "source": [
    "is_prime(127)"
   ]
  },
  {
   "cell_type": "code",
   "execution_count": 28,
   "id": "b517782c",
   "metadata": {
    "scrolled": true
   },
   "outputs": [
    {
     "name": "stdout",
     "output_type": "stream",
     "text": [
      "Hello World!\n"
     ]
    },
    {
     "data": {
      "text/plain": [
       "True"
      ]
     },
     "execution_count": 28,
     "metadata": {},
     "output_type": "execute_result"
    }
   ],
   "source": [
    "is_prime(131)"
   ]
  },
  {
   "cell_type": "code",
   "execution_count": 25,
   "id": "fd43c451",
   "metadata": {},
   "outputs": [
    {
     "name": "stdout",
     "output_type": "stream",
     "text": [
      "132 is not a prime number\n"
     ]
    }
   ],
   "source": [
    "if n_is_prime:\n",
    "    print('{} is a prime number'.format(n))\n",
    "else:\n",
    "    print('{} is not a prime number'.format(n))"
   ]
  },
  {
   "cell_type": "markdown",
   "id": "c9539438",
   "metadata": {},
   "source": [
    "**Note:** Variables that are defined within a function only exist within that function. In the above example, we've defined `n_is_prime` within the `is_prime` function. This is a completely different variable to the globally defined variable `n_is_prime` that was defined at the top of this notebook. If a function tries to use a variable name that it has defined, it will look outside the function for that variable name."
   ]
  },
  {
   "cell_type": "markdown",
   "id": "5d9b753d",
   "metadata": {},
   "source": [
    "**Note:** A function will terminate as soon as it hits a return statement."
   ]
  },
  {
   "cell_type": "code",
   "execution_count": 29,
   "id": "78c847f8",
   "metadata": {},
   "outputs": [],
   "source": [
    "def this_is_a_function(a,b):\n",
    "    print('Hello world!')\n",
    "    return a * b\n",
    "    print('Goodbye!')"
   ]
  },
  {
   "cell_type": "code",
   "execution_count": 31,
   "id": "a671cd2f",
   "metadata": {
    "scrolled": true
   },
   "outputs": [
    {
     "name": "stdout",
     "output_type": "stream",
     "text": [
      "Hello world!\n"
     ]
    },
    {
     "data": {
      "text/plain": [
       "35"
      ]
     },
     "execution_count": 31,
     "metadata": {},
     "output_type": "execute_result"
    }
   ],
   "source": [
    "this_is_a_function(5,7)"
   ]
  },
  {
   "cell_type": "code",
   "execution_count": 32,
   "id": "861b1b09",
   "metadata": {},
   "outputs": [],
   "source": [
    "def is_prime(n):\n",
    "    for d in range(2,n):\n",
    "        if n % d == 0:\n",
    "            return False\n",
    "    return True"
   ]
  },
  {
   "cell_type": "markdown",
   "id": "e47493b2",
   "metadata": {},
   "source": [
    "**Exercise:** Write a function `my_primes` that takes in an input `n` and returns a list of all prime numbers between `2` and `n` (inclusively)."
   ]
  },
  {
   "cell_type": "code",
   "execution_count": 33,
   "id": "0ac3dc88",
   "metadata": {},
   "outputs": [],
   "source": [
    "def my_primes(n):\n",
    "    primes = []\n",
    "    for i in range(2,n+1):\n",
    "        if is_prime(i):\n",
    "            primes.append(i)\n",
    "    return primes"
   ]
  },
  {
   "cell_type": "code",
   "execution_count": 34,
   "id": "8228999c",
   "metadata": {},
   "outputs": [
    {
     "data": {
      "text/plain": [
       "[2, 3, 5, 7, 11, 13, 17, 19, 23, 29]"
      ]
     },
     "execution_count": 34,
     "metadata": {},
     "output_type": "execute_result"
    }
   ],
   "source": [
    "my_primes(29)"
   ]
  },
  {
   "cell_type": "markdown",
   "id": "59dcf101",
   "metadata": {},
   "source": [
    "How efficient is our `is_prime` function? It would helpful if we could time our code to compare efficiency. We can use the `time` module to do this."
   ]
  },
  {
   "cell_type": "markdown",
   "id": "aac89676",
   "metadata": {},
   "source": [
    "## Modules in Python"
   ]
  },
  {
   "cell_type": "markdown",
   "id": "1963862f",
   "metadata": {},
   "source": [
    "Many useful functions are contained modules but are not immediately accessible in a new notebook. We can use the `import` function to gain access to a module."
   ]
  },
  {
   "cell_type": "code",
   "execution_count": 35,
   "id": "1ac834db",
   "metadata": {},
   "outputs": [],
   "source": [
    "import time"
   ]
  },
  {
   "cell_type": "code",
   "execution_count": 38,
   "id": "a4e92218",
   "metadata": {},
   "outputs": [
    {
     "data": {
      "text/plain": [
       "1738616063.7513962"
      ]
     },
     "execution_count": 38,
     "metadata": {},
     "output_type": "execute_result"
    }
   ],
   "source": [
    "time.time()"
   ]
  },
  {
   "cell_type": "markdown",
   "id": "1106e47e",
   "metadata": {},
   "source": [
    "Let's use this to time our `my_primes` function:"
   ]
  },
  {
   "cell_type": "code",
   "execution_count": 40,
   "id": "5f3b3969",
   "metadata": {},
   "outputs": [
    {
     "name": "stdout",
     "output_type": "stream",
     "text": [
      "20.80789303779602\n"
     ]
    }
   ],
   "source": [
    "t0 = time.time()\n",
    "\n",
    "primes = my_primes(100000)\n",
    "\n",
    "t1 = time.time()\n",
    "\n",
    "print(t1 - t0)"
   ]
  },
  {
   "cell_type": "markdown",
   "id": "b95e706c",
   "metadata": {},
   "source": [
    "There are other ways to get access to objects inside a module. For example, the syntax `import <object inside module> from <module>` will pull the object outside of the module for normal use."
   ]
  },
  {
   "cell_type": "code",
   "execution_count": 43,
   "id": "acd82898",
   "metadata": {},
   "outputs": [],
   "source": [
    "from time import time_ns"
   ]
  },
  {
   "cell_type": "code",
   "execution_count": 44,
   "id": "8cd4bfbd",
   "metadata": {},
   "outputs": [
    {
     "data": {
      "text/plain": [
       "1738616301957215100"
      ]
     },
     "execution_count": 44,
     "metadata": {},
     "output_type": "execute_result"
    }
   ],
   "source": [
    "time_ns()"
   ]
  },
  {
   "cell_type": "code",
   "execution_count": 45,
   "id": "c4a375d2",
   "metadata": {},
   "outputs": [
    {
     "data": {
      "text/plain": [
       "1738616318741235800"
      ]
     },
     "execution_count": 45,
     "metadata": {},
     "output_type": "execute_result"
    }
   ],
   "source": [
    "time.time_ns()"
   ]
  },
  {
   "cell_type": "code",
   "execution_count": 46,
   "id": "317b3eef",
   "metadata": {},
   "outputs": [
    {
     "data": {
      "text/plain": [
       "'Mon Feb  3 15:59:05 2025'"
      ]
     },
     "execution_count": 46,
     "metadata": {},
     "output_type": "execute_result"
    }
   ],
   "source": [
    "time.asctime()"
   ]
  },
  {
   "cell_type": "code",
   "execution_count": 47,
   "id": "020a98f2",
   "metadata": {},
   "outputs": [
    {
     "ename": "NameError",
     "evalue": "name 'asctime' is not defined",
     "output_type": "error",
     "traceback": [
      "\u001b[1;31m---------------------------------------------------------------------------\u001b[0m",
      "\u001b[1;31mNameError\u001b[0m                                 Traceback (most recent call last)",
      "\u001b[1;32m~\\AppData\\Local\\Temp\\ipykernel_4468\\3577197693.py\u001b[0m in \u001b[0;36m<module>\u001b[1;34m\u001b[0m\n\u001b[1;32m----> 1\u001b[1;33m \u001b[0masctime\u001b[0m\u001b[1;33m(\u001b[0m\u001b[1;33m)\u001b[0m\u001b[1;33m\u001b[0m\u001b[1;33m\u001b[0m\u001b[0m\n\u001b[0m",
      "\u001b[1;31mNameError\u001b[0m: name 'asctime' is not defined"
     ]
    }
   ],
   "source": [
    "asctime()"
   ]
  },
  {
   "cell_type": "code",
   "execution_count": 48,
   "id": "8cb9617e",
   "metadata": {},
   "outputs": [],
   "source": [
    "from time import asctime"
   ]
  },
  {
   "cell_type": "code",
   "execution_count": 49,
   "id": "d41e2240",
   "metadata": {
    "scrolled": true
   },
   "outputs": [
    {
     "data": {
      "text/plain": [
       "'Mon Feb  3 15:59:43 2025'"
      ]
     },
     "execution_count": 49,
     "metadata": {},
     "output_type": "execute_result"
    }
   ],
   "source": [
    "asctime()"
   ]
  },
  {
   "cell_type": "markdown",
   "id": "f9e72a87",
   "metadata": {},
   "source": [
    "## Optimization\n",
    "\n",
    "Let's look again at our `is_prime` function:"
   ]
  },
  {
   "cell_type": "code",
   "execution_count": 50,
   "id": "b0f467f3",
   "metadata": {},
   "outputs": [],
   "source": [
    "def is_prime(n):\n",
    "    for d in range(2,n):\n",
    "        if n % d == 0:\n",
    "            return False\n",
    "    return True"
   ]
  },
  {
   "cell_type": "markdown",
   "id": "ae58fe1c",
   "metadata": {},
   "source": [
    "From our discussion, a number $n$ can only be non-prime if it has divisor $d$ less than or equal to $\\sqrt{n}$."
   ]
  },
  {
   "cell_type": "markdown",
   "id": "3385d4ad",
   "metadata": {},
   "source": [
    "We can pull the `sqrt` function from the `math` module to compute square roots:"
   ]
  },
  {
   "cell_type": "code",
   "execution_count": 51,
   "id": "e376c812",
   "metadata": {},
   "outputs": [],
   "source": [
    "from math import sqrt"
   ]
  },
  {
   "cell_type": "code",
   "execution_count": 52,
   "id": "c46fe8e5",
   "metadata": {},
   "outputs": [],
   "source": [
    "def is_prime(n):\n",
    "    for d in range(2,sqrt(n)):\n",
    "        if n % d == 0:\n",
    "            return False\n",
    "    return True"
   ]
  },
  {
   "cell_type": "code",
   "execution_count": 53,
   "id": "9ce59fd0",
   "metadata": {},
   "outputs": [
    {
     "ename": "TypeError",
     "evalue": "'float' object cannot be interpreted as an integer",
     "output_type": "error",
     "traceback": [
      "\u001b[1;31m---------------------------------------------------------------------------\u001b[0m",
      "\u001b[1;31mTypeError\u001b[0m                                 Traceback (most recent call last)",
      "\u001b[1;32m~\\AppData\\Local\\Temp\\ipykernel_4468\\3856216990.py\u001b[0m in \u001b[0;36m<module>\u001b[1;34m\u001b[0m\n\u001b[1;32m----> 1\u001b[1;33m \u001b[0mis_prime\u001b[0m\u001b[1;33m(\u001b[0m\u001b[1;36m29\u001b[0m\u001b[1;33m)\u001b[0m\u001b[1;33m\u001b[0m\u001b[1;33m\u001b[0m\u001b[0m\n\u001b[0m",
      "\u001b[1;32m~\\AppData\\Local\\Temp\\ipykernel_4468\\4195421119.py\u001b[0m in \u001b[0;36mis_prime\u001b[1;34m(n)\u001b[0m\n\u001b[0;32m      1\u001b[0m \u001b[1;32mdef\u001b[0m \u001b[0mis_prime\u001b[0m\u001b[1;33m(\u001b[0m\u001b[0mn\u001b[0m\u001b[1;33m)\u001b[0m\u001b[1;33m:\u001b[0m\u001b[1;33m\u001b[0m\u001b[1;33m\u001b[0m\u001b[0m\n\u001b[1;32m----> 2\u001b[1;33m     \u001b[1;32mfor\u001b[0m \u001b[0md\u001b[0m \u001b[1;32min\u001b[0m \u001b[0mrange\u001b[0m\u001b[1;33m(\u001b[0m\u001b[1;36m2\u001b[0m\u001b[1;33m,\u001b[0m\u001b[0msqrt\u001b[0m\u001b[1;33m(\u001b[0m\u001b[0mn\u001b[0m\u001b[1;33m)\u001b[0m\u001b[1;33m)\u001b[0m\u001b[1;33m:\u001b[0m\u001b[1;33m\u001b[0m\u001b[1;33m\u001b[0m\u001b[0m\n\u001b[0m\u001b[0;32m      3\u001b[0m         \u001b[1;32mif\u001b[0m \u001b[0mn\u001b[0m \u001b[1;33m%\u001b[0m \u001b[0md\u001b[0m \u001b[1;33m==\u001b[0m \u001b[1;36m0\u001b[0m\u001b[1;33m:\u001b[0m\u001b[1;33m\u001b[0m\u001b[1;33m\u001b[0m\u001b[0m\n\u001b[0;32m      4\u001b[0m             \u001b[1;32mreturn\u001b[0m \u001b[1;32mFalse\u001b[0m\u001b[1;33m\u001b[0m\u001b[1;33m\u001b[0m\u001b[0m\n\u001b[0;32m      5\u001b[0m     \u001b[1;32mreturn\u001b[0m \u001b[1;32mTrue\u001b[0m\u001b[1;33m\u001b[0m\u001b[1;33m\u001b[0m\u001b[0m\n",
      "\u001b[1;31mTypeError\u001b[0m: 'float' object cannot be interpreted as an integer"
     ]
    }
   ],
   "source": [
    "is_prime(29)"
   ]
  },
  {
   "cell_type": "markdown",
   "id": "e11a1a0a",
   "metadata": {},
   "source": [
    "The `range` function only accepts integer inputs, so let's convert `sqrt(n)` to an integer type:"
   ]
  },
  {
   "cell_type": "code",
   "execution_count": 58,
   "id": "a4ffc310",
   "metadata": {},
   "outputs": [],
   "source": [
    "def is_prime(n):\n",
    "    for d in range(2,int(sqrt(n))+1):\n",
    "        if n % d == 0:\n",
    "            return False\n",
    "    return True"
   ]
  },
  {
   "cell_type": "code",
   "execution_count": 60,
   "id": "f3643d16",
   "metadata": {},
   "outputs": [
    {
     "data": {
      "text/plain": [
       "True"
      ]
     },
     "execution_count": 60,
     "metadata": {},
     "output_type": "execute_result"
    }
   ],
   "source": [
    "is_prime(5)"
   ]
  },
  {
   "cell_type": "markdown",
   "id": "06288abf",
   "metadata": {},
   "source": [
    "Let's compare the speed between this new version and our old version:"
   ]
  },
  {
   "cell_type": "code",
   "execution_count": 61,
   "id": "b9fbe4a1",
   "metadata": {},
   "outputs": [],
   "source": [
    "def is_prime_old(n):\n",
    "    for d in range(2,n):\n",
    "        if n % d == 0:\n",
    "            return False\n",
    "    return True"
   ]
  },
  {
   "cell_type": "code",
   "execution_count": 62,
   "id": "eb57d8e1",
   "metadata": {},
   "outputs": [],
   "source": [
    "def is_prime(n):\n",
    "    for d in range(2,int(sqrt(n))+1):\n",
    "        if n % d == 0:\n",
    "            return False\n",
    "    return True"
   ]
  },
  {
   "cell_type": "code",
   "execution_count": 64,
   "id": "c0febead",
   "metadata": {},
   "outputs": [
    {
     "name": "stdout",
     "output_type": "stream",
     "text": [
      "Unoptimized time: 5.047978639602661\n",
      "Optimized time: 0.0\n"
     ]
    }
   ],
   "source": [
    "n = 100000007\n",
    "\n",
    "t0 = time.time()\n",
    "is_prime_old(n)\n",
    "t1 = time.time()\n",
    "\n",
    "print('Unoptimized time:', t1 - t0)\n",
    "\n",
    "t0 = time.time()\n",
    "is_prime(n)\n",
    "t1 = time.time()\n",
    "\n",
    "print('Optimized time:', t1 - t0)"
   ]
  },
  {
   "cell_type": "markdown",
   "id": "09242990",
   "metadata": {},
   "source": [
    "Let's compare the use of these two versions in the `my_primes` function:"
   ]
  },
  {
   "cell_type": "code",
   "execution_count": 65,
   "id": "5d7d6777",
   "metadata": {},
   "outputs": [],
   "source": [
    "def my_primes_old(n):\n",
    "    primes = []\n",
    "    for i in range(2,n+1):\n",
    "        if is_prime_old(i):\n",
    "            primes.append(i)\n",
    "    return primes"
   ]
  },
  {
   "cell_type": "code",
   "execution_count": 66,
   "id": "6e204fe4",
   "metadata": {},
   "outputs": [],
   "source": [
    "def my_primes(n):\n",
    "    primes = []\n",
    "    for i in range(2,n+1):\n",
    "        if is_prime(i):\n",
    "            primes.append(i)\n",
    "    return primes"
   ]
  },
  {
   "cell_type": "code",
   "execution_count": 68,
   "id": "5ea3ca7c",
   "metadata": {},
   "outputs": [
    {
     "name": "stdout",
     "output_type": "stream",
     "text": [
      "Unoptimized time: 21.64876437187195\n",
      "Optimized time: 0.1591646671295166\n"
     ]
    }
   ],
   "source": [
    "n = 100000\n",
    "\n",
    "t0 = time.time()\n",
    "my_primes_old(n)\n",
    "t1 = time.time()\n",
    "\n",
    "print('Unoptimized time:', t1 - t0)\n",
    "\n",
    "\n",
    "t0 = time.time()\n",
    "my_primes(n)\n",
    "t1 = time.time()\n",
    "print('Optimized time:', t1 - t0)"
   ]
  },
  {
   "cell_type": "markdown",
   "id": "871d2aa3",
   "metadata": {},
   "source": [
    "**Exercise:** Write a function that takes in an integer `n` and returns a list of prime numbers that divide `n`. (We will need to modify this function to account multiplicity of prime factors to create the `primary` function for the project).\n",
    "\n",
    "**Exercise:** Write a function `is_prime_like` that takes in an integer `n` and returns `True` if `n` is prime-like and `False` otherwise."
   ]
  },
  {
   "cell_type": "markdown",
   "id": "56b43790",
   "metadata": {},
   "source": [
    "Reminder: A number $n$ is prime-like if:\n",
    "\n",
    "$$\n",
    "    a^n \\equiv a \\pmod n\n",
    "$$\n",
    "\n",
    "for all integers $0 \\leq a < n$."
   ]
  },
  {
   "cell_type": "code",
   "execution_count": 69,
   "id": "93c3c3c3",
   "metadata": {},
   "outputs": [],
   "source": [
    "def is_prime_like(n):\n",
    "    for a in range(n):\n",
    "        if a**n % n == a % n:\n",
    "            continue\n",
    "        else:\n",
    "            return False\n",
    "    return True"
   ]
  },
  {
   "cell_type": "markdown",
   "id": "1c64d5b7",
   "metadata": {},
   "source": [
    "In the above function, we used a `if` statement where we only wanted to do something if the condition was `False`. We can use a `not` operator to invert a Boolean expression:"
   ]
  },
  {
   "cell_type": "code",
   "execution_count": 70,
   "id": "45785ab1",
   "metadata": {},
   "outputs": [],
   "source": [
    "def is_prime_like(n):\n",
    "    for a in range(n):\n",
    "        if not a**n % n == a % n:\n",
    "            return False\n",
    "    return True"
   ]
  },
  {
   "cell_type": "code",
   "execution_count": 72,
   "id": "1e6a9540",
   "metadata": {},
   "outputs": [
    {
     "data": {
      "text/plain": [
       "True"
      ]
     },
     "execution_count": 72,
     "metadata": {},
     "output_type": "execute_result"
    }
   ],
   "source": [
    "is_prime_like(5)"
   ]
  },
  {
   "cell_type": "code",
   "execution_count": 73,
   "id": "23c9eca7",
   "metadata": {
    "scrolled": true
   },
   "outputs": [
    {
     "data": {
      "text/plain": [
       "False"
      ]
     },
     "execution_count": 73,
     "metadata": {},
     "output_type": "execute_result"
    }
   ],
   "source": [
    "is_prime_like(4)"
   ]
  },
  {
   "cell_type": "code",
   "execution_count": null,
   "id": "5e1ccdba",
   "metadata": {},
   "outputs": [],
   "source": [
    "is_prime_like(100000007)"
   ]
  },
  {
   "cell_type": "code",
   "execution_count": 1,
   "id": "9cba702b",
   "metadata": {},
   "outputs": [],
   "source": [
    "n = 100000007\n",
    "\n",
    "a = n - 1"
   ]
  },
  {
   "cell_type": "code",
   "execution_count": 2,
   "id": "d6e2bbe4",
   "metadata": {},
   "outputs": [
    {
     "data": {
      "text/plain": [
       "100000006"
      ]
     },
     "execution_count": 2,
     "metadata": {},
     "output_type": "execute_result"
    }
   ],
   "source": [
    "pow(a,n,n)"
   ]
  },
  {
   "cell_type": "markdown",
   "id": "17c46506",
   "metadata": {},
   "source": [
    "# Wednesday, February 5th"
   ]
  },
  {
   "cell_type": "markdown",
   "id": "6b9e1723",
   "metadata": {},
   "source": [
    "## Logical operators: `not`, `and`, `or`"
   ]
  },
  {
   "cell_type": "markdown",
   "id": "d20a0012",
   "metadata": {},
   "source": [
    "We can invert and/or combine Boolean expressions using the operators `not`, `and`, and `or`:"
   ]
  },
  {
   "cell_type": "code",
   "execution_count": 1,
   "id": "d6f810fe",
   "metadata": {},
   "outputs": [],
   "source": [
    "from math import sqrt\n",
    "\n",
    "def is_prime(n):\n",
    "    for d in range(2,int(sqrt(n))+1):\n",
    "        if n % d == 0:\n",
    "            return False\n",
    "    return True"
   ]
  },
  {
   "cell_type": "markdown",
   "id": "d6149423",
   "metadata": {},
   "source": [
    "Suppose we want to find **twin primes**, that is, pairs of primes that differ by 2."
   ]
  },
  {
   "cell_type": "code",
   "execution_count": 2,
   "id": "01dea28e",
   "metadata": {},
   "outputs": [],
   "source": [
    "twin_primes = []\n",
    "\n",
    "for n in range(2,10000):\n",
    "    if is_prime(n) and is_prime(n+2):\n",
    "        twin_primes.append([n,n+2])"
   ]
  },
  {
   "cell_type": "code",
   "execution_count": 18,
   "id": "98601116",
   "metadata": {},
   "outputs": [],
   "source": [
    "#twin_primes"
   ]
  },
  {
   "cell_type": "markdown",
   "id": "e0c84a81",
   "metadata": {},
   "source": [
    "Find all numbers that are either a perfect square or a perfect cube up to 10,000:"
   ]
  },
  {
   "cell_type": "code",
   "execution_count": 11,
   "id": "9b57eb6c",
   "metadata": {},
   "outputs": [],
   "source": [
    "squares_or_cubes = []\n",
    "\n",
    "for n in range(10000):\n",
    "    sqrtn = sqrt(n)\n",
    "    cubertn = n**(1/3)\n",
    "    \n",
    "    if sqrtn == int(sqrtn) or cubertn == int(cubertn):\n",
    "        squares_or_cubes.append(n)"
   ]
  },
  {
   "cell_type": "code",
   "execution_count": 19,
   "id": "1ab4a1e7",
   "metadata": {},
   "outputs": [],
   "source": [
    "#squares_or_cubes"
   ]
  },
  {
   "cell_type": "code",
   "execution_count": null,
   "id": "29fc55ec",
   "metadata": {},
   "outputs": [],
   "source": []
  },
  {
   "cell_type": "markdown",
   "id": "e0ffa2cf",
   "metadata": {},
   "source": [
    "## Project reports"
   ]
  },
  {
   "cell_type": "markdown",
   "id": "2d3ca2f5",
   "metadata": {},
   "source": [
    "See Project report guide on class webpage."
   ]
  },
  {
   "cell_type": "markdown",
   "id": "17c320a6",
   "metadata": {},
   "source": [
    "As an example, suppose we want to explore the topic of twin primes."
   ]
  },
  {
   "cell_type": "markdown",
   "id": "f599b27a",
   "metadata": {},
   "source": [
    "## More about functions in Python"
   ]
  },
  {
   "cell_type": "code",
   "execution_count": 21,
   "id": "6c4e85e8",
   "metadata": {},
   "outputs": [],
   "source": [
    "from math import pi\n",
    "\n",
    "def cone_volume(r,h):\n",
    "    return pi * r**2 * h / 3"
   ]
  },
  {
   "cell_type": "markdown",
   "id": "fe79d364",
   "metadata": {},
   "source": [
    "In general, the order in which we enter arguments to a function matters. For example, `cone_volume(2,5)` finds the volume of a cone with `r=2` and `h=5`, while `cone_volume(5,2)` finds the volume with `r=5` and `h=2`."
   ]
  },
  {
   "cell_type": "code",
   "execution_count": 23,
   "id": "acbe89f9",
   "metadata": {},
   "outputs": [
    {
     "data": {
      "text/plain": [
       "20.943951023931955"
      ]
     },
     "execution_count": 23,
     "metadata": {},
     "output_type": "execute_result"
    }
   ],
   "source": [
    "cone_volume(2,5)"
   ]
  },
  {
   "cell_type": "code",
   "execution_count": 24,
   "id": "10eea7bf",
   "metadata": {},
   "outputs": [
    {
     "data": {
      "text/plain": [
       "52.35987755982989"
      ]
     },
     "execution_count": 24,
     "metadata": {},
     "output_type": "execute_result"
    }
   ],
   "source": [
    "cone_volume(5,2)"
   ]
  },
  {
   "cell_type": "markdown",
   "id": "8a15605f",
   "metadata": {},
   "source": [
    "In Python, we can alternatively enter arguments in any order, as long as we label them:"
   ]
  },
  {
   "cell_type": "code",
   "execution_count": 25,
   "id": "1955e64f",
   "metadata": {},
   "outputs": [
    {
     "data": {
      "text/plain": [
       "20.943951023931955"
      ]
     },
     "execution_count": 25,
     "metadata": {},
     "output_type": "execute_result"
    }
   ],
   "source": [
    "cone_volume(r=2, h=5)"
   ]
  },
  {
   "cell_type": "code",
   "execution_count": 26,
   "id": "bf1f5bfd",
   "metadata": {},
   "outputs": [
    {
     "data": {
      "text/plain": [
       "20.943951023931955"
      ]
     },
     "execution_count": 26,
     "metadata": {},
     "output_type": "execute_result"
    }
   ],
   "source": [
    "cone_volume(h=5, r=2)"
   ]
  },
  {
   "cell_type": "code",
   "execution_count": 30,
   "id": "4432d322",
   "metadata": {},
   "outputs": [
    {
     "data": {
      "text/plain": [
       "20.943951023931955"
      ]
     },
     "execution_count": 30,
     "metadata": {},
     "output_type": "execute_result"
    }
   ],
   "source": [
    "cone_volume(2, h=5)"
   ]
  },
  {
   "cell_type": "markdown",
   "id": "62d9ab2c",
   "metadata": {},
   "source": [
    "These are called **keyword arguments**, that is, when we enter `<variable name>=<value>` as an argument."
   ]
  },
  {
   "cell_type": "markdown",
   "id": "1070e5b1",
   "metadata": {},
   "source": [
    "There are also different ways of defining input variables for a function. In particular, we can assign default values to inputs that we want to be optional."
   ]
  },
  {
   "cell_type": "markdown",
   "id": "911ff656",
   "metadata": {},
   "source": [
    "For example, suppose we want the height `h` to be optional, with a default value of `h=5`."
   ]
  },
  {
   "cell_type": "code",
   "execution_count": 27,
   "id": "4b315656",
   "metadata": {},
   "outputs": [],
   "source": [
    "from math import pi\n",
    "\n",
    "def cone_volume(r,h=5):\n",
    "    return pi * r**2 * h / 3"
   ]
  },
  {
   "cell_type": "code",
   "execution_count": 28,
   "id": "5bc91486",
   "metadata": {},
   "outputs": [
    {
     "data": {
      "text/plain": [
       "52.35987755982989"
      ]
     },
     "execution_count": 28,
     "metadata": {},
     "output_type": "execute_result"
    }
   ],
   "source": [
    "cone_volume(5,2)"
   ]
  },
  {
   "cell_type": "code",
   "execution_count": 29,
   "id": "c2e5bda8",
   "metadata": {},
   "outputs": [
    {
     "data": {
      "text/plain": [
       "20.943951023931955"
      ]
     },
     "execution_count": 29,
     "metadata": {},
     "output_type": "execute_result"
    }
   ],
   "source": [
    "cone_volume(2)"
   ]
  },
  {
   "cell_type": "markdown",
   "id": "4992445b",
   "metadata": {},
   "source": [
    "Arguments that are not assigned default values are called positional arguments. Positional arguments must always come before keyword arguments (when calling a function) and arguments with default values (when defining a function)."
   ]
  },
  {
   "cell_type": "code",
   "execution_count": 36,
   "id": "78d544d2",
   "metadata": {},
   "outputs": [],
   "source": [
    "import math\n",
    "\n",
    "def cone_volume(r,h=5, pi=math.pi):\n",
    "    return pi * r**2 * h / 3"
   ]
  },
  {
   "cell_type": "code",
   "execution_count": 39,
   "id": "afa6f132",
   "metadata": {},
   "outputs": [
    {
     "data": {
      "text/plain": [
       "20.0"
      ]
     },
     "execution_count": 39,
     "metadata": {},
     "output_type": "execute_result"
    }
   ],
   "source": [
    "cone_volume(2, pi=3)"
   ]
  }
 ],
 "metadata": {
  "kernelspec": {
   "display_name": "Python 3 (ipykernel)",
   "language": "python",
   "name": "python3"
  },
  "language_info": {
   "codemirror_mode": {
    "name": "ipython",
    "version": 3
   },
   "file_extension": ".py",
   "mimetype": "text/x-python",
   "name": "python",
   "nbconvert_exporter": "python",
   "pygments_lexer": "ipython3",
   "version": "3.9.13"
  }
 },
 "nbformat": 4,
 "nbformat_minor": 5
}
