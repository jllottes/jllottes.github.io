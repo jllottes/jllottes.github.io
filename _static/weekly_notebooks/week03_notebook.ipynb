{
 "cells": [
  {
   "cell_type": "markdown",
   "id": "b017ffa6-99e5-4817-880a-f49c14bb2d3f",
   "metadata": {},
   "source": [
    "# Monday, September 8th, 2025\n",
    "\n",
    "Last week, we looked at `for` loops and determining whether a given number is prime."
   ]
  },
  {
   "cell_type": "code",
   "execution_count": 4,
   "id": "4b758d31-3a2b-4ef0-8214-41d594fce655",
   "metadata": {},
   "outputs": [
    {
     "name": "stdout",
     "output_type": "stream",
     "text": [
      "15 is not prime.\n"
     ]
    }
   ],
   "source": [
    "n = 15\n",
    "\n",
    "n_is_prime = True\n",
    "\n",
    "for d in range(2,n):\n",
    "    if n % d == 0:\n",
    "        n_is_prime = False\n",
    "        \n",
    "if n_is_prime:\n",
    "    print('{} is prime.'.format(n))\n",
    "else:\n",
    "    print('{} is not prime.'.format(n))"
   ]
  },
  {
   "cell_type": "markdown",
   "id": "de0bbd70-0d60-4b31-8423-753a0cb0dccd",
   "metadata": {},
   "source": [
    "Note: in the code above, it will often happen that we perform many divisibility checks for no reason (for example, if `2` divides `n`, then we will still unnecessarily check whether `3`, `4`, `5`, ... also divide `n`). It would be helpful if we could escape the loop prematurely.\n",
    "\n",
    "## The `break` and `continue` commands\n",
    "\n",
    "The `break` command can be used within a loop to immediately exit the loop.\n"
   ]
  },
  {
   "cell_type": "code",
   "execution_count": 6,
   "id": "397d1b56-52b1-4f60-9491-00a8c020e61e",
   "metadata": {},
   "outputs": [
    {
     "name": "stdout",
     "output_type": "stream",
     "text": [
      "0\n",
      "1\n",
      "2\n",
      "3\n",
      "4\n",
      "5\n"
     ]
    }
   ],
   "source": [
    "for i in range(10):\n",
    "    print(i)\n",
    "    if i == 5:\n",
    "        break"
   ]
  },
  {
   "cell_type": "markdown",
   "id": "f0950526-3295-48bd-a505-240e271a0058",
   "metadata": {},
   "source": [
    "**Exercise:** Modify the prime-checking code above to exit the loop as soon as `n` is determined to not be prime."
   ]
  },
  {
   "cell_type": "code",
   "execution_count": 7,
   "id": "6a0d48bb-d35f-4b80-9dc8-215cf162ae7d",
   "metadata": {},
   "outputs": [
    {
     "name": "stdout",
     "output_type": "stream",
     "text": [
      "15 is not prime.\n"
     ]
    }
   ],
   "source": [
    "n = 15\n",
    "\n",
    "n_is_prime = True\n",
    "\n",
    "for d in range(2,n):\n",
    "    if n % d == 0:\n",
    "        n_is_prime = False\n",
    "        break\n",
    "        \n",
    "if n_is_prime:\n",
    "    print('{} is prime.'.format(n))\n",
    "else:\n",
    "    print('{} is not prime.'.format(n))"
   ]
  },
  {
   "cell_type": "markdown",
   "id": "ffdd0c0d-56c6-4d92-862e-3bd9c63dd0b3",
   "metadata": {},
   "source": [
    "Other times, we may want to immediately proceed to the next iteration of a loop. The `continue` command can be used to accomplish this."
   ]
  },
  {
   "cell_type": "code",
   "execution_count": 8,
   "id": "487c5351-031b-4c7c-9386-e615f333661e",
   "metadata": {},
   "outputs": [
    {
     "name": "stdout",
     "output_type": "stream",
     "text": [
      "3\n",
      "4\n",
      "5\n",
      "6\n",
      "7\n"
     ]
    }
   ],
   "source": [
    "for i in range(10):\n",
    "    if i < 3:\n",
    "        continue\n",
    "    if i > 7:\n",
    "        break\n",
    "    print(i)"
   ]
  },
  {
   "cell_type": "markdown",
   "id": "31f7acd2-f52e-4ce7-8a48-3dbbddda3c4a",
   "metadata": {},
   "source": [
    "## `while` loops\n",
    "\n",
    "Suppose that we want to find the first 100 cubes that have remainder `1` after division by `4`.\n",
    "\n",
    "Problem: We don't know ahead of time how many numbers we'd have to check before we find 100 such cubes.\n",
    "\n",
    "For these types of problems, we can use a `while` loop. A `while` loops will iteratiavely perform some operations as long as some Boolean expression is `True`. The syntax is as follows:\n",
    "<code>\n",
    "while (some Boolean expression is True):\n",
    "    (do something)\n",
    "</code>\n",
    "\n",
    "Note: the `(some Boolean expression)` can be (and often is) a variable that will be modified within the `while` loop."
   ]
  },
  {
   "cell_type": "code",
   "execution_count": 9,
   "id": "d0b59911-089d-4520-8dcf-3c7824a4d9ad",
   "metadata": {},
   "outputs": [
    {
     "name": "stdout",
     "output_type": "stream",
     "text": [
      "0\n",
      "1\n",
      "2\n",
      "3\n",
      "4\n",
      "5\n",
      "6\n",
      "7\n",
      "8\n",
      "9\n"
     ]
    }
   ],
   "source": [
    "for i in range(10):\n",
    "    print(i)"
   ]
  },
  {
   "cell_type": "code",
   "execution_count": 10,
   "id": "afca4281-7669-4c42-9928-4b1f3d411d1d",
   "metadata": {},
   "outputs": [
    {
     "name": "stdout",
     "output_type": "stream",
     "text": [
      "0\n",
      "1\n",
      "2\n",
      "3\n",
      "4\n",
      "5\n",
      "6\n",
      "7\n",
      "8\n",
      "9\n"
     ]
    }
   ],
   "source": [
    "i = 0\n",
    "while i < 10:\n",
    "    print(i)\n",
    "    i = i + 1"
   ]
  },
  {
   "cell_type": "markdown",
   "id": "5d354613-fe8a-45b2-ae1f-fe73bcf1f914",
   "metadata": {},
   "source": [
    "We can also use `break` to terminate a `while` loop:"
   ]
  },
  {
   "cell_type": "code",
   "execution_count": 2,
   "id": "f7dabb4f-f11a-41d3-b98c-d86482896948",
   "metadata": {},
   "outputs": [
    {
     "name": "stdout",
     "output_type": "stream",
     "text": [
      "0\n",
      "1\n",
      "2\n",
      "3\n",
      "4\n",
      "5\n",
      "6\n",
      "7\n",
      "8\n",
      "9\n"
     ]
    }
   ],
   "source": [
    "i = 0\n",
    "while True:\n",
    "    print(i)\n",
    "    if i >= 9:\n",
    "        break\n",
    "    i = i + 1\n",
    "    "
   ]
  },
  {
   "cell_type": "markdown",
   "id": "e0c0aba1-85bb-4765-a499-35b0a86bb0ab",
   "metadata": {},
   "source": [
    "**Warnings:**\n",
    " - Unlike with `for` loops, it is very easy to end up with a `while` loop that runs forever.\n",
    " - Always make sure that your Boolean expression will eventually be `False` so that the `while` loop can terminate.\n",
    " - Check that you are incrementing any necessary variables with each iteration.\n",
    "\n",
    "If you find your code stuck running a `while` loop, you can hit the stop button (black square in the toolbar near the top of the notebook) to try to get Python to interrupt the kernel. If this does not work, you can restart the kernel (refresh symbol to the right of the stop button) to shut down the notebook and restart."
   ]
  },
  {
   "cell_type": "markdown",
   "id": "0fbbfcd8-6c19-4358-b25e-7f2fc7a2f480",
   "metadata": {},
   "source": [
    "There are some shortcuts for incrementing variables. In particular:\n",
    " - `n += 1` is equivalent to `n = n + 1`\n",
    " - `n -= 3` is equivalent to `n = n - 3`\n",
    " - `n *= 7` is equivalent to `n = n * 7`"
   ]
  },
  {
   "cell_type": "code",
   "execution_count": 3,
   "id": "d3366cd3-e00f-4c96-853a-7f5028f53ef2",
   "metadata": {},
   "outputs": [
    {
     "name": "stdout",
     "output_type": "stream",
     "text": [
      "18\n"
     ]
    }
   ],
   "source": [
    "n = 5\n",
    "n += 1\n",
    "n *= 3\n",
    "print(n)"
   ]
  },
  {
   "cell_type": "code",
   "execution_count": 4,
   "id": "51a3bd45-c44a-4cb6-9251-82453f3efcc9",
   "metadata": {},
   "outputs": [
    {
     "name": "stdout",
     "output_type": "stream",
     "text": [
      "0\n",
      "1\n",
      "2\n",
      "3\n",
      "4\n",
      "5\n",
      "6\n",
      "7\n",
      "8\n",
      "9\n"
     ]
    }
   ],
   "source": [
    "i = 0\n",
    "while i < 10:\n",
    "    print(i)\n",
    "    i += 1"
   ]
  },
  {
   "cell_type": "markdown",
   "id": "f7a417c7-1a5c-4aea-a96f-3a009924b770",
   "metadata": {},
   "source": [
    "**Exercise:** Write code that will find the first 100 cubes that have remainder `1` after division by `4`."
   ]
  },
  {
   "cell_type": "code",
   "execution_count": 8,
   "id": "6473d63d-1eb3-4f65-a7f5-cea5b1d8e21a",
   "metadata": {},
   "outputs": [
    {
     "name": "stdout",
     "output_type": "stream",
     "text": [
      "[1, 125, 729, 2197, 4913, 9261, 15625, 24389, 35937, 50653, 68921, 91125, 117649, 148877, 185193, 226981, 274625, 328509, 389017, 456533, 531441, 614125, 704969, 804357, 912673, 1030301, 1157625, 1295029, 1442897, 1601613, 1771561, 1953125, 2146689, 2352637, 2571353, 2803221, 3048625, 3307949, 3581577, 3869893, 4173281, 4492125, 4826809, 5177717, 5545233, 5929741, 6331625, 6751269, 7189057, 7645373, 8120601, 8615125, 9129329, 9663597, 10218313, 10793861, 11390625, 12008989, 12649337, 13312053, 13997521, 14706125, 15438249, 16194277, 16974593, 17779581, 18609625, 19465109, 20346417, 21253933, 22188041, 23149125, 24137569, 25153757, 26198073, 27270901, 28372625, 29503629, 30664297, 31855013, 33076161, 34328125, 35611289, 36926037, 38272753, 39651821, 41063625, 42508549, 43986977, 45499293, 47045881, 48627125, 50243409, 51895117, 53582633, 55306341, 57066625, 58863869, 60698457, 62570773]\n"
     ]
    }
   ],
   "source": [
    "n = 1\n",
    "cubes_with_remainder_1 = []\n",
    "\n",
    "while len(cubes_with_remainder_1) < 100:\n",
    "    cube = n**3\n",
    "    if cube % 4 == 1:\n",
    "        cubes_with_remainder_1.append(cube)\n",
    "    n += 1\n",
    "\n",
    "print(cubes_with_remainder_1)"
   ]
  },
  {
   "cell_type": "markdown",
   "id": "3fdd29f8-209c-45a5-bf2f-36d76ca72d54",
   "metadata": {},
   "source": [
    "**Exercise:** Write code that will find the first 10 prime numbers."
   ]
  },
  {
   "cell_type": "code",
   "execution_count": 10,
   "id": "8630905c-e91a-4f43-a6eb-f6b535e88950",
   "metadata": {},
   "outputs": [
    {
     "name": "stdout",
     "output_type": "stream",
     "text": [
      "[2, 3, 5, 7, 11, 13, 17, 19, 23, 29]\n"
     ]
    }
   ],
   "source": [
    "primes = []\n",
    "\n",
    "n = 2\n",
    "while len(primes) < 10:\n",
    "    n_is_prime = True\n",
    "    for d in range(2,n):\n",
    "        if n % d == 0:\n",
    "            n_is_prime = False\n",
    "            break\n",
    "    if n_is_prime:\n",
    "        primes.append(n)\n",
    "    n += 1\n",
    "print(primes)"
   ]
  },
  {
   "cell_type": "markdown",
   "id": "54e9587c-dfd2-4093-90fd-1f23850d2d7d",
   "metadata": {},
   "source": [
    "## Functions in Python\n",
    "\n",
    "Very often, we want to write code that can be applied to many different inputs. We can accomplish this by writing a Python function. The syntax for defining functions in Python is:\n",
    "<code>\n",
    "def function_name(some_inputs):\n",
    "    ...do something...\n",
    "</code>"
   ]
  },
  {
   "cell_type": "code",
   "execution_count": 11,
   "id": "0b450960-705c-40c7-bfe7-3770df2cd8c0",
   "metadata": {},
   "outputs": [],
   "source": [
    "def hello_world():\n",
    "    print('Hello world!')"
   ]
  },
  {
   "cell_type": "markdown",
   "id": "4b33a61d-fa14-4b35-b600-a2fbbbae69de",
   "metadata": {},
   "source": [
    "After defining a function, we can call upon it to execute the function's code."
   ]
  },
  {
   "cell_type": "code",
   "execution_count": 13,
   "id": "31f3d4af-2da6-4d6d-a2bf-aac496ad6aad",
   "metadata": {},
   "outputs": [
    {
     "name": "stdout",
     "output_type": "stream",
     "text": [
      "Hello world!\n",
      "Hello world!\n",
      "Hello world!\n"
     ]
    }
   ],
   "source": [
    "hello_world()\n",
    "hello_world()\n",
    "hello_world()"
   ]
  },
  {
   "cell_type": "markdown",
   "id": "2cff406e-3fbc-460a-8647-7054154af7f1",
   "metadata": {},
   "source": [
    "**Exercise:** Write a function called `is_prime` that takes in a variable `n` and prints whether or not `n` is prime."
   ]
  },
  {
   "cell_type": "code",
   "execution_count": 14,
   "id": "d56c13ac-7900-425b-82cc-9119d95fda17",
   "metadata": {},
   "outputs": [],
   "source": [
    "def is_prime(n):\n",
    "    n_is_prime = True\n",
    "\n",
    "    for d in range(2,n):\n",
    "        if n % d == 0:\n",
    "            n_is_prime = False\n",
    "            break\n",
    "            \n",
    "    if n_is_prime:\n",
    "        print('{} is prime.'.format(n))\n",
    "    else:\n",
    "        print('{} is not prime.'.format(n))"
   ]
  },
  {
   "cell_type": "code",
   "execution_count": 16,
   "id": "50d15d9a-d14e-493b-8c89-6d02225404e4",
   "metadata": {},
   "outputs": [
    {
     "name": "stdout",
     "output_type": "stream",
     "text": [
      "2 is prime.\n",
      "3 is prime.\n",
      "4 is not prime.\n",
      "5 is prime.\n",
      "6 is not prime.\n",
      "7 is prime.\n",
      "8 is not prime.\n",
      "9 is not prime.\n",
      "10 is not prime.\n",
      "11 is prime.\n",
      "12 is not prime.\n",
      "13 is prime.\n",
      "14 is not prime.\n",
      "15 is not prime.\n",
      "16 is not prime.\n",
      "17 is prime.\n",
      "18 is not prime.\n",
      "19 is prime.\n"
     ]
    }
   ],
   "source": [
    "for n in range(2,20):\n",
    "    is_prime(n)"
   ]
  },
  {
   "cell_type": "markdown",
   "id": "bc312298-b5fc-4016-9a89-89d82b580151",
   "metadata": {},
   "source": [
    "It is often more useful to have functions like the above **return** either a `True` or a `False` Boolean depending on whether `n` is prime or not.\n",
    "\n",
    "More generally, we often want functions to return some value to the caller. This can be done using a `return` statement:"
   ]
  },
  {
   "cell_type": "markdown",
   "id": "582dafaf-e833-4c84-9adf-4eb94c56ca21",
   "metadata": {},
   "source": [
    "**Exercise:** Rewrite the `is_prime` function to `return` a Boolean `True` if the input is prime and `False` if not."
   ]
  },
  {
   "cell_type": "code",
   "execution_count": 17,
   "id": "1813d3c4-8188-44cd-bca3-28d638220509",
   "metadata": {},
   "outputs": [],
   "source": [
    "def is_prime(n):\n",
    "    n_is_prime = True\n",
    "\n",
    "    for d in range(2,n):\n",
    "        if n % d == 0:\n",
    "            n_is_prime = False\n",
    "            break\n",
    "            \n",
    "    if n_is_prime:\n",
    "        return True\n",
    "    else:\n",
    "        return False"
   ]
  },
  {
   "cell_type": "code",
   "execution_count": 21,
   "id": "9a079b14-4a99-4084-9de8-748948db434c",
   "metadata": {},
   "outputs": [
    {
     "name": "stdout",
     "output_type": "stream",
     "text": [
      "2 is prime.\n",
      "3 is prime.\n",
      "4 is not prime.\n",
      "5 is prime.\n",
      "6 is not prime.\n",
      "7 is prime.\n",
      "8 is not prime.\n",
      "9 is not prime.\n",
      "10 is not prime.\n",
      "11 is prime.\n",
      "12 is not prime.\n",
      "13 is prime.\n",
      "14 is not prime.\n",
      "15 is not prime.\n",
      "16 is not prime.\n",
      "17 is prime.\n",
      "18 is not prime.\n",
      "19 is prime.\n"
     ]
    }
   ],
   "source": [
    "for n in range(2,20):\n",
    "    #print(n, is_prime(n))\n",
    "    if is_prime(n):\n",
    "        print('{} is prime.'.format(n))\n",
    "    else:\n",
    "        print('{} is not prime.'.format(n))"
   ]
  },
  {
   "cell_type": "markdown",
   "id": "526d9e2c-9177-494b-9f59-7faec529d771",
   "metadata": {},
   "source": [
    "Let's use our `is_prime` function to modify our previous `while` loop that searched for primes."
   ]
  },
  {
   "cell_type": "code",
   "execution_count": 24,
   "id": "2722151c-014d-45fa-9275-c1dba901469b",
   "metadata": {},
   "outputs": [
    {
     "name": "stdout",
     "output_type": "stream",
     "text": [
      "[2, 3, 5, 7, 11, 13, 17, 19, 23, 29]\n"
     ]
    }
   ],
   "source": [
    "primes = []\n",
    "\n",
    "n = 2\n",
    "while len(primes) < 10:\n",
    "    if is_prime(n):\n",
    "        primes.append(n)\n",
    "    n += 1\n",
    "print(primes)"
   ]
  },
  {
   "cell_type": "markdown",
   "id": "e6fabb16-437e-4c63-af46-f94d65c907bc",
   "metadata": {},
   "source": [
    "**Note:** Variables that are defined within a function only exist within that function. In the above example, we've defined `n_is_prime` within the `is_prime` function. This is a completely different variable to the globally defined variable `n_is_prime` that was defined at the top of this notebook. If a function calls upon a variable name that it has not defined, it will look outside the function for that variable name."
   ]
  },
  {
   "cell_type": "code",
   "execution_count": 25,
   "id": "94773ccc-ac17-448e-9c11-5d35a3cca851",
   "metadata": {},
   "outputs": [],
   "source": [
    "def test_function():\n",
    "    hello_this_is_a_test = 'MTH 337'\n",
    "    print(hello_this_is_a_test)"
   ]
  },
  {
   "cell_type": "code",
   "execution_count": 26,
   "id": "e6401991-e634-48d3-9c73-ce80b9d4eaac",
   "metadata": {},
   "outputs": [
    {
     "name": "stdout",
     "output_type": "stream",
     "text": [
      "MTH 337\n"
     ]
    }
   ],
   "source": [
    "test_function()"
   ]
  },
  {
   "cell_type": "code",
   "execution_count": 27,
   "id": "f492e7e6-3ffe-411b-9597-2d9129a1fe6c",
   "metadata": {},
   "outputs": [
    {
     "ename": "NameError",
     "evalue": "name 'hello_this_is_a_test' is not defined",
     "output_type": "error",
     "traceback": [
      "\u001b[1;31m---------------------------------------------------------------------------\u001b[0m",
      "\u001b[1;31mNameError\u001b[0m                                 Traceback (most recent call last)",
      "Cell \u001b[1;32mIn[27], line 1\u001b[0m\n\u001b[1;32m----> 1\u001b[0m \u001b[38;5;28mprint\u001b[39m(hello_this_is_a_test)\n",
      "\u001b[1;31mNameError\u001b[0m: name 'hello_this_is_a_test' is not defined"
     ]
    }
   ],
   "source": [
    "print(hello_this_is_a_test)"
   ]
  },
  {
   "cell_type": "code",
   "execution_count": 28,
   "id": "a592bdd2-c002-4b1c-a757-53c2780e33d4",
   "metadata": {},
   "outputs": [],
   "source": [
    "this_is_a_second_test = 'Hello'\n",
    "\n",
    "def test_function():\n",
    "    print(this_is_a_second_test)"
   ]
  },
  {
   "cell_type": "code",
   "execution_count": 29,
   "id": "d0b86318-8b54-4649-aad4-46b0fd331a31",
   "metadata": {},
   "outputs": [
    {
     "name": "stdout",
     "output_type": "stream",
     "text": [
      "Hello\n"
     ]
    }
   ],
   "source": [
    "test_function()"
   ]
  },
  {
   "cell_type": "code",
   "execution_count": 30,
   "id": "4e5fe8b2-fa64-4594-b65b-5a51608c4575",
   "metadata": {},
   "outputs": [],
   "source": [
    "this_is_a_third_test = 'Hello'\n",
    "\n",
    "def test_function():\n",
    "    this_is_a_third_test = 'Goodbye'"
   ]
  },
  {
   "cell_type": "code",
   "execution_count": 31,
   "id": "57e9f80f-b172-40ba-bcbf-b60b41656bc5",
   "metadata": {},
   "outputs": [
    {
     "name": "stdout",
     "output_type": "stream",
     "text": [
      "Hello\n"
     ]
    }
   ],
   "source": [
    "test_function()\n",
    "print(this_is_a_third_test)"
   ]
  },
  {
   "cell_type": "markdown",
   "id": "d0fdb83d-3448-4015-952b-e21cbf6593ec",
   "metadata": {},
   "source": [
    "**Note:** A function will terminate as soon as it hits a `return` statement."
   ]
  },
  {
   "cell_type": "code",
   "execution_count": 32,
   "id": "efb67616-cbd8-43db-a1bd-896c08738d21",
   "metadata": {},
   "outputs": [],
   "source": [
    "def test_function():\n",
    "    print('Hello')\n",
    "    return 5\n",
    "    print('Goodbye')"
   ]
  },
  {
   "cell_type": "code",
   "execution_count": 33,
   "id": "9695c447-e759-4704-8264-b0491da85a85",
   "metadata": {},
   "outputs": [
    {
     "name": "stdout",
     "output_type": "stream",
     "text": [
      "Hello\n"
     ]
    },
    {
     "data": {
      "text/plain": [
       "5"
      ]
     },
     "execution_count": 33,
     "metadata": {},
     "output_type": "execute_result"
    }
   ],
   "source": [
    "test_function()"
   ]
  },
  {
   "cell_type": "markdown",
   "id": "56aa79a5-626c-426b-943d-daebf48936ab",
   "metadata": {},
   "source": [
    "**Exercise:** Write a function `get_primes` that takes in an input `n` and returns a list of all prime numbers between `2` and `n` (inclusively)."
   ]
  },
  {
   "cell_type": "code",
   "execution_count": null,
   "id": "9abb267c-cf74-42ec-8d65-6a6d0760a5cc",
   "metadata": {},
   "outputs": [],
   "source": []
  },
  {
   "cell_type": "markdown",
   "id": "a0964ab9-1320-4a7b-a82d-2035506ffb7c",
   "metadata": {},
   "source": [
    "## Modules in Python\n",
    "\n",
    "When starting a Jupyter notebook, Python loads in a base set of commands that are made available (e.g. `print`, `list`, `int`, etc.). However, there are many other commands that are not loaded by default that we sometimes want to make use of. We can import various modules that contain all kinds of additional functionality.\n",
    "\n",
    "For example, suppose we want to consider the efficiency of our `get_primes` function. We can import the `time` module to gain access to different time-related tools, which we can use to time our function.\n",
    "\n",
    "### Importing a module\n",
    "\n",
    "We can use the syntax `import <some module>` to make that module available to us. After doing so, we can use the syntax `<some module>.<some function or object>` to call upon variables functions or objects contained in that module."
   ]
  },
  {
   "cell_type": "code",
   "execution_count": 34,
   "id": "c6f12208-37fe-4fbb-9475-c4322f5019f2",
   "metadata": {},
   "outputs": [],
   "source": [
    "import time"
   ]
  },
  {
   "cell_type": "code",
   "execution_count": 36,
   "id": "4af5df2e-90c3-4575-b59c-334cc80ba6d7",
   "metadata": {},
   "outputs": [
    {
     "data": {
      "text/plain": [
       "'Mon Sep  8 16:28:25 2025'"
      ]
     },
     "execution_count": 36,
     "metadata": {},
     "output_type": "execute_result"
    }
   ],
   "source": [
    "time.asctime()"
   ]
  },
  {
   "cell_type": "markdown",
   "id": "3d24235f-a3e5-4431-b1f4-6cdc02c82bda",
   "metadata": {},
   "source": [
    "We can use the `time` function from the `time` module to time our `get_primes` function."
   ]
  },
  {
   "cell_type": "code",
   "execution_count": 37,
   "id": "bcdbb9ba-a557-4f76-a48c-a17663762ebe",
   "metadata": {},
   "outputs": [
    {
     "data": {
      "text/plain": [
       "1757363340.2630873"
      ]
     },
     "execution_count": 37,
     "metadata": {},
     "output_type": "execute_result"
    }
   ],
   "source": [
    "time.time()"
   ]
  },
  {
   "cell_type": "code",
   "execution_count": 38,
   "id": "7fd59317-4b06-439f-8ed1-bbb78678bbff",
   "metadata": {},
   "outputs": [],
   "source": [
    "t0 = time.time()"
   ]
  },
  {
   "cell_type": "code",
   "execution_count": 39,
   "id": "5c216948-8ed2-42e0-b15d-a97f270c7aa4",
   "metadata": {},
   "outputs": [],
   "source": [
    "t1 = time.time()"
   ]
  },
  {
   "cell_type": "code",
   "execution_count": 40,
   "id": "4f6c2249-7d50-4299-bd89-575a81c5b59f",
   "metadata": {},
   "outputs": [
    {
     "name": "stdout",
     "output_type": "stream",
     "text": [
      "15.103442668914795\n"
     ]
    }
   ],
   "source": [
    "print(t1 - t0)"
   ]
  },
  {
   "cell_type": "markdown",
   "id": "0ccf7a63-a811-40ea-a6b9-729a32703fb2",
   "metadata": {},
   "source": [
    "### Importing from a module\n",
    "\n",
    "Sometimes we just want to make use of a single function or object from within a module. We can use the syntax `from <some module> import <some function or object>` to gain direct access to the function or object. After doing so, we can simply use `<some function or object>` directly rather than looking back inside the module (that is, we do not need to include `<some module>.` before calling upon the function/object)."
   ]
  },
  {
   "cell_type": "code",
   "execution_count": 41,
   "id": "867dc3ff-d31a-4933-bac7-234fec7c4ee6",
   "metadata": {},
   "outputs": [
    {
     "ename": "NameError",
     "evalue": "name 'asctime' is not defined",
     "output_type": "error",
     "traceback": [
      "\u001b[1;31m---------------------------------------------------------------------------\u001b[0m",
      "\u001b[1;31mNameError\u001b[0m                                 Traceback (most recent call last)",
      "Cell \u001b[1;32mIn[41], line 1\u001b[0m\n\u001b[1;32m----> 1\u001b[0m asctime()\n",
      "\u001b[1;31mNameError\u001b[0m: name 'asctime' is not defined"
     ]
    }
   ],
   "source": [
    "asctime()"
   ]
  },
  {
   "cell_type": "code",
   "execution_count": 42,
   "id": "50f19836-f95f-43db-96cc-ecb90c4c29da",
   "metadata": {},
   "outputs": [
    {
     "data": {
      "text/plain": [
       "'Mon Sep  8 16:36:18 2025'"
      ]
     },
     "execution_count": 42,
     "metadata": {},
     "output_type": "execute_result"
    }
   ],
   "source": [
    "time.asctime()"
   ]
  },
  {
   "cell_type": "code",
   "execution_count": 43,
   "id": "bfad3be9-0e7e-4a09-90fa-57f74bf8f828",
   "metadata": {},
   "outputs": [],
   "source": [
    "from time import asctime"
   ]
  },
  {
   "cell_type": "code",
   "execution_count": 44,
   "id": "e0e20fa0-6730-451c-80c5-10103e5ebe8f",
   "metadata": {},
   "outputs": [
    {
     "data": {
      "text/plain": [
       "'Mon Sep  8 16:36:37 2025'"
      ]
     },
     "execution_count": 44,
     "metadata": {},
     "output_type": "execute_result"
    }
   ],
   "source": [
    "asctime()"
   ]
  },
  {
   "cell_type": "markdown",
   "id": "b93222d2-28b0-4c8f-adb7-9f1cbcb93c8d",
   "metadata": {},
   "source": [
    "## Optimization\n",
    "\n",
    "Let's think of ways that we can improve the efficiency of our `get_primes` function. By extension, we will want to improve the efficiency of our `is_prime` function."
   ]
  },
  {
   "cell_type": "code",
   "execution_count": null,
   "id": "59a32d65-54ba-4c81-a5da-8502eb87185f",
   "metadata": {},
   "outputs": [],
   "source": [
    "def is_prime(n):\n",
    "    n_is_prime = True\n",
    "\n",
    "    for d in range(2,n):\n",
    "        if n % d == 0:\n",
    "            n_is_prime = False\n",
    "            break\n",
    "            \n",
    "    if n_is_prime:\n",
    "        return True\n",
    "    else:\n",
    "        return False"
   ]
  },
  {
   "cell_type": "code",
   "execution_count": 57,
   "id": "23032a2b-2953-4309-96ea-b416ee003524",
   "metadata": {},
   "outputs": [
    {
     "name": "stdout",
     "output_type": "stream",
     "text": [
      "True\n",
      "65.03244352340698\n"
     ]
    }
   ],
   "source": [
    "n = 1000000007\n",
    "\n",
    "t0 = time.time()\n",
    "print(is_prime(n))\n",
    "t1 = time.time()\n",
    "print(t1-t0)"
   ]
  },
  {
   "cell_type": "markdown",
   "id": "6479fe34-e621-4381-beda-1b4892f2da36",
   "metadata": {},
   "source": [
    "We can import the `sqrt` function from the `math` module in order to compute square roots.\n",
    "\n",
    "**Exercise:** Rewrite the `is_prime` function to take advantage of the $\\sqrt{n}$ optimization that we've discussed."
   ]
  },
  {
   "cell_type": "code",
   "execution_count": 58,
   "id": "666f35f2-70cc-45a0-9aaa-75078f1a9d9c",
   "metadata": {},
   "outputs": [],
   "source": [
    "from math import sqrt"
   ]
  },
  {
   "cell_type": "code",
   "execution_count": 63,
   "id": "69e3e381-b73d-45dd-88b7-1b1fbd83fecc",
   "metadata": {},
   "outputs": [],
   "source": [
    "def new_is_prime(n):\n",
    "    n_is_prime = True\n",
    "\n",
    "    for d in range(2,int(sqrt(n))+1):\n",
    "        if n % d == 0:\n",
    "            n_is_prime = False\n",
    "            break\n",
    "            \n",
    "    if n_is_prime:\n",
    "        return True\n",
    "    else:\n",
    "        return False"
   ]
  },
  {
   "cell_type": "code",
   "execution_count": 65,
   "id": "42dc6171-8753-4d28-9508-051ebe439fcc",
   "metadata": {},
   "outputs": [
    {
     "name": "stdout",
     "output_type": "stream",
     "text": [
      "True\n",
      "0.006369113922119141\n"
     ]
    }
   ],
   "source": [
    "n = 1000000007\n",
    "\n",
    "t0 = time.time()\n",
    "print(new_is_prime(n))\n",
    "t1 = time.time()\n",
    "print(t1-t0)"
   ]
  },
  {
   "cell_type": "markdown",
   "id": "a301b8a1-5a39-4d7f-b546-e6a2d4431ef8",
   "metadata": {},
   "source": [
    "**Exercise:** Compare the efficiency of using this optimization by timing the old version of `is_prime` against the new version."
   ]
  },
  {
   "cell_type": "code",
   "execution_count": null,
   "id": "00758a46-3d6b-434b-bc4b-9556e3400a31",
   "metadata": {},
   "outputs": [],
   "source": []
  },
  {
   "cell_type": "markdown",
   "id": "95a7aa89-2cb6-4f1e-af85-1f0267d7893a",
   "metadata": {},
   "source": [
    "## Modular arithmetic and congruences\n",
    "\n",
    "See [Project 1 page](https://jllottes.github.io/Projects/prime_or_not/prime_or_not.html) for an introduction to modular arithmetic and congruences.\n",
    "\n",
    "From the project page, we say that a number $n$ is \"prime-like\" if\n",
    "\n",
    "$$a^n \\equiv a\\pmod{n}$$\n",
    "for all integers $0 \\leq a < n$."
   ]
  },
  {
   "cell_type": "markdown",
   "id": "b0a2a0c3-0641-49e0-8d88-867d24f713bf",
   "metadata": {},
   "source": [
    "**Exercise:** Write a function `is_prime_like` that takes in an integer `n` and returns `True` if `n` is prime-like and `False` if not."
   ]
  },
  {
   "cell_type": "code",
   "execution_count": null,
   "id": "1ecce3fa-56da-48fa-9e39-f0e723eeeff8",
   "metadata": {},
   "outputs": [],
   "source": []
  },
  {
   "cell_type": "markdown",
   "id": "6cd3cb0f-6582-4794-bc09-bb37c98d8255",
   "metadata": {},
   "source": [
    "**Exercise:** Write a function that takes in an integer `n` and returns a list of prime numbers that divide `n`. "
   ]
  },
  {
   "cell_type": "code",
   "execution_count": null,
   "id": "00bfac28-a5ca-4a8a-8c6b-2fd500216127",
   "metadata": {},
   "outputs": [],
   "source": []
  },
  {
   "cell_type": "markdown",
   "id": "fc7cbf12-7a96-4079-b907-40f40a2c49ef",
   "metadata": {},
   "source": [
    "**Exercise:** Modify the function from the previous exercise to return the primary decomposition of `n`. That is, modify the code to account for the multiplicity of each prime divisor."
   ]
  },
  {
   "cell_type": "code",
   "execution_count": null,
   "id": "edc7d1dd-c276-463e-bb46-408b5da1bcf4",
   "metadata": {},
   "outputs": [],
   "source": []
  },
  {
   "cell_type": "markdown",
   "id": "40c52358-bea2-4d37-aad2-9502796cd226",
   "metadata": {},
   "source": [
    "## More about Markdown: LaTeX\n",
    "\n",
    "LaTeX is a tool for writing math expressions. To enter LaTeX mode in a markdown cell, we use dollar signs `$`.\n",
    "\n",
    "- Plain-text:\n",
    "  - 123456\n",
    "  - 123^456\n",
    "  - 123_456\n",
    "- LaTeX:\n",
    "  - $123456$\n",
    "  - $123^{456}$\n",
    "  - $123_{456}$\n",
    "\n",
    "Some common LaTeX commands:\n",
    "\n",
    " - Exponents: `$x^2 + y^$` renders as $x^2 + y^2$.\n",
    " - Fractions: `\\frac{numerator}{denominator}$` renders as $\\frac{numerator}{denominator}$.\n",
    " - Integrals and trig functions: `\\int_0^x \\cos(t) dt$` renders as $\\int_0^x \\cos(t) dt$.\n",
    " \n",
    "Using a single dollar sign writes LaTeX in in-line mode (i.e. will appear within the same lines as the surrounding text). We can use two dollar signs (`$$`) to write in display mode, which gives a centered equation. For example, `$$\\int_0^x \\cos(t) dt$$` renders as\n",
    "\n",
    "$$\\int_0^x \\cos(t) dt$$\n",
    "\n",
    "whereas `$\\int_0^x \\cos(t) dt$` renders as $\\int_0^x \\cos(t) dt$.\n",
    "\n",
    "Other common LaTeX commands:\n",
    "\n",
    " - Subscripts and superscripts: `$a_n$, $2^n$` renders as $a_n$, $2^n$.\n",
    " - Square roots and other roots: `$\\sqrt{7}$`, `$\\sqrt[10]{x^2-5}$` renders as $\\sqrt{7}$, $\\sqrt[10]{x^2 - 5}$.\n",
    " - Greek letters: `$\\alpha$, $\\beta$, $\\gamma$, $\\sigma$, $\\omega$, $\\pi$` renders as $\\alpha$, $\\beta$, $\\gamma$, $\\sigma$, $\\omega$, $\\pi$."
   ]
  },
  {
   "cell_type": "code",
   "execution_count": null,
   "id": "41477cbc-c667-4c17-8dda-fe53a35a43e5",
   "metadata": {},
   "outputs": [],
   "source": []
  },
  {
   "cell_type": "markdown",
   "id": "9232efa8-34b8-4013-89ce-a20a959478a0",
   "metadata": {},
   "source": [
    "We can have LaTeX automatically adjust the size of parentheses using `\\left(` and `\\right)`. For example, `$$\\left(\\frac{1}{2} + 4\\right)$$` renders as:\n",
    "\n",
    "$$\\left(\\frac{1}{2} + 4\\right)$$\n",
    "\n",
    "whereas `$$(\\frac{1}{2} + 4)$$` renders as\n",
    "\n",
    "$$(\\frac{1}{2} + 4).$$\n",
    "\n",
    "We will regularly use LaTeX in our project reports whenever referring to math equations or variables.\n",
    "\n",
    "**Exercise:** Using Markdown and LaTeX, write out a definition of a prime number. Also, describe the process that we used in class to test whether a given number is prime."
   ]
  },
  {
   "cell_type": "code",
   "execution_count": null,
   "id": "0dbaed9b-099b-444c-b619-bd78c546cabc",
   "metadata": {},
   "outputs": [],
   "source": []
  }
 ],
 "metadata": {
  "kernelspec": {
   "display_name": "Python 3 (ipykernel)",
   "language": "python",
   "name": "python3"
  },
  "language_info": {
   "codemirror_mode": {
    "name": "ipython",
    "version": 3
   },
   "file_extension": ".py",
   "mimetype": "text/x-python",
   "name": "python",
   "nbconvert_exporter": "python",
   "pygments_lexer": "ipython3",
   "version": "3.13.5"
  }
 },
 "nbformat": 4,
 "nbformat_minor": 5
}
