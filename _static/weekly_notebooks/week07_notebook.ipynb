{
 "cells": [
  {
   "cell_type": "markdown",
   "id": "255388ef-701f-4e24-a1bd-f99c07277159",
   "metadata": {},
   "source": [
    "# Monday, October 6th, 2025"
   ]
  },
  {
   "cell_type": "code",
   "execution_count": null,
   "id": "2da77f9b-af1c-44a7-bb32-48c6fa5a631a",
   "metadata": {},
   "outputs": [],
   "source": [
    "import numpy as np\n",
    "import matplotlib.pyplot as plt"
   ]
  },
  {
   "cell_type": "markdown",
   "id": "42c91d59-0785-4d90-909e-21b624508529",
   "metadata": {},
   "source": [
    "Last time, we looked at visualizing 2D arrays uing `plt.imshow`, and selecting different colormaps to change the colorization."
   ]
  },
  {
   "cell_type": "code",
   "execution_count": null,
   "id": "bd2fe8aa-91f4-46dd-aace-2e3696652e75",
   "metadata": {},
   "outputs": [],
   "source": [
    "import matplotlib.cm as cm"
   ]
  },
  {
   "cell_type": "code",
   "execution_count": null,
   "id": "d43907f1-d71c-4348-85c0-fbb2eeda3386",
   "metadata": {},
   "outputs": [],
   "source": [
    "cm.plasma"
   ]
  },
  {
   "cell_type": "markdown",
   "id": "ad2fa083-f736-4e60-a27c-e31192b1be57",
   "metadata": {},
   "source": [
    "Each colormap works as a function that takes in a float, where:\n",
    " - any input `0` or less returns the color at the left-end of the colormap,\n",
    " - any input `1` or more returns the color at the right-end of the colormap,\n",
    " - any input between `0` and `1` returns the color that is proportionally between the left-end and right-end of the colormap."
   ]
  },
  {
   "cell_type": "markdown",
   "id": "d64565db-6fdd-4987-8fac-1883e85d325f",
   "metadata": {},
   "source": [
    "What does the output actually look like when we plug a float into a colormap?"
   ]
  },
  {
   "cell_type": "code",
   "execution_count": null,
   "id": "b2dd4052-c28b-4ac7-8f0e-6b21d134a88d",
   "metadata": {},
   "outputs": [],
   "source": [
    "cm.plasma(.25)"
   ]
  },
  {
   "cell_type": "markdown",
   "id": "6212ac94-0a31-486a-bab1-45f11fae0b87",
   "metadata": {},
   "source": [
    "## RGB(A) values\n",
    "\n",
    "The output from the colormap above is an Red/Green/Blue/Alpha value, or **RGBA** value. That is, we have a tuple `(R, G, B, A)` where:\n",
    " - `R` is the amount of red in the color (`R=1` means full red, `R=0` means no red),\n",
    " - `G` is the amount of green in the color (`G=1` means full green, `G=0` means no green),\n",
    " - `B` is the amount of blue in the color (`B=1` means full blue, `B=0` means no blue),\n",
    " - `A` is the transparency of the color (`A=1` means fully opaque, `A=0` means fully transparent).\n",
    "\n",
    "If the transparency channel is omitted (i.e. if we work with a pure RGB triple), the color is assume to be fully opaque. We can also supply our own RGB(A) tuples in `plt.plot` to specify colors."
   ]
  },
  {
   "cell_type": "code",
   "execution_count": null,
   "id": "4b99e4f8-1118-4698-93c6-517d8462b932",
   "metadata": {},
   "outputs": [],
   "source": []
  },
  {
   "cell_type": "markdown",
   "id": "4bf01f94-b516-407e-abc3-b8a32749526a",
   "metadata": {},
   "source": [
    "The `plt.imshow` function can also work with RGB(A) values. Instead of supplying a 2D-array, we can supply a 3D-array where:\n",
    " - The first axis corresponds to the row of the array\n",
    " - The second axis corresponds to the column of the array\n",
    " - The third axis corresponds to the RGB(A) values of the array\n",
    "\n",
    "For example, let's define a `10` by `20` array with `3` color channels (RGB) called `RGB_array`."
   ]
  },
  {
   "cell_type": "code",
   "execution_count": null,
   "id": "975a6ac6-2939-453f-870d-5ce17a306bd5",
   "metadata": {},
   "outputs": [],
   "source": [
    "RGB_array = np.zeros((10,20,3))\n",
    "plt.imshow(RGB_array)"
   ]
  },
  {
   "cell_type": "markdown",
   "id": "3b12ffc5-8fae-4957-a1fb-65f5f3ebe095",
   "metadata": {},
   "source": [
    "For the above array, we will think of `RGB_array[:,:,0]` as containing the red data. Similarly, `RGB_array[:,:,1]` contains the green data, and `RGB_array[:,:,2]` contains the blue data. Let's add some colored stripes to the array.\n",
    "\n",
    "*Note:* We can take slices through the rows/columns of an `(m,n,3)` array of RGB values. For example, `RGB_array[:4, 3:7]` will give a `(4,4,3)` array consisting of the RGB triples in rows `0`, `1`, `2`, `3` and columns `3`, `4`, `5`, `6`. If we set `RGB_array[:4, 3:7] = (.1, .7, .9)`, then every RGB triple in these rows/columns will be set to `(.1, .7, .9)`. This is called *broadcasting*, and is a very useful feature of NumPy. "
   ]
  },
  {
   "cell_type": "code",
   "execution_count": null,
   "id": "19162521-3d60-4e7c-84c1-528d684da800",
   "metadata": {},
   "outputs": [],
   "source": [
    "# Add some colored stripes to RGB_array\n",
    "\n",
    "\n",
    "\n",
    "plt.imshow(RGB_array)"
   ]
  },
  {
   "cell_type": "markdown",
   "id": "088daf05-757a-419f-bd4a-74a71fc9fbeb",
   "metadata": {},
   "source": [
    "Most computer images are stored as arrays of RGB(A) values. We can read an image file into an RGB(A) array using `plt.imread`. The syntax is: `plt.imread(<path to some image file>)`. For example, download the image `mario.png` from the [course webpage](https://jllottes.github.io/Schedule/week_06.html) and place it into the same folder as this Jupyter notebook."
   ]
  },
  {
   "cell_type": "code",
   "execution_count": null,
   "id": "17616767-4a9c-43bd-8d18-ce6c5b0a8426",
   "metadata": {},
   "outputs": [],
   "source": [
    "mario = plt.imread('mario.png')\n",
    "\n",
    "plt.imshow(mario)"
   ]
  },
  {
   "cell_type": "markdown",
   "id": "ae4d6e44-e84c-423c-8976-a7e8a12e63c9",
   "metadata": {},
   "source": [
    "We can look at the shape of the array to see if it contains RGB or RGBA values. In this case, the `mario.png` image file includes a transparency channel."
   ]
  },
  {
   "cell_type": "code",
   "execution_count": null,
   "id": "39ea9283-9f3b-41f1-9e85-a7ba1cdf7ee0",
   "metadata": {},
   "outputs": [],
   "source": [
    "print(mario.shape)"
   ]
  },
  {
   "cell_type": "markdown",
   "id": "aee4c0ea-aedf-49fc-9396-646b12a37d73",
   "metadata": {},
   "source": [
    "**Exercise:** Use NumPy slicing to remove the transparency channel from the `mario` array."
   ]
  },
  {
   "cell_type": "code",
   "execution_count": null,
   "id": "9d94d62a-8bcb-48bb-9121-b06f2859a53e",
   "metadata": {},
   "outputs": [],
   "source": []
  },
  {
   "cell_type": "markdown",
   "id": "61bc337c-4194-4bce-a007-bf84197baef4",
   "metadata": {},
   "source": [
    "**Exercise:** Use NumPy slicing and `plt.imshow` to zoom in on Mario (in the lower-left corner)."
   ]
  },
  {
   "cell_type": "code",
   "execution_count": null,
   "id": "41d281e2-d4c0-4a6c-ab8e-7ddc656b7fb9",
   "metadata": {},
   "outputs": [],
   "source": []
  },
  {
   "cell_type": "markdown",
   "id": "4d631161-5b1c-4db9-be04-d023ccb06cc7",
   "metadata": {},
   "source": [
    "**Exercise:** Create an array `blueless_mario` where the blue channel information from `mario` has been removed and plot using `plt.imshow`."
   ]
  },
  {
   "cell_type": "code",
   "execution_count": null,
   "id": "e979cb6d-4854-4b11-bfca-7e8dcca9d608",
   "metadata": {},
   "outputs": [],
   "source": []
  },
  {
   "cell_type": "markdown",
   "id": "3cfce11a-1298-4a6e-ab92-92d6c36a05e3",
   "metadata": {},
   "source": [
    "**Exercise:** Create an array `mixed_mario` where:\n",
    " - the red channel of `mixed_mario` matches the green channel of `mario`,\n",
    " - the green channel of `mixed_mario` matches the blue channel of `mario`,\n",
    " - the blue channel fo `mixed_mario` matches the red channel of `mario`."
   ]
  },
  {
   "cell_type": "code",
   "execution_count": null,
   "id": "73b8d790-fa8a-4747-99ed-57c00b642b26",
   "metadata": {},
   "outputs": [],
   "source": []
  },
  {
   "cell_type": "markdown",
   "id": "0b680996-c40a-4248-85cc-e357b56aec9d",
   "metadata": {},
   "source": [
    "*Note:* For the next project, we will be working with integer-valued RGB triples. The integer-values will range from `0` to `255`. An integer `0` means no color while an integer `255` means full color (equivalent to a float of `1`).\n",
    "\n",
    "**Exercise:** Convert the `mario` array to an integer-type array containing RGB triples with values between `0` and `255`."
   ]
  },
  {
   "cell_type": "code",
   "execution_count": null,
   "id": "7ed6ecfa-09f5-421c-810d-0b146a565998",
   "metadata": {},
   "outputs": [],
   "source": [
    "mario_RGB_int = "
   ]
  },
  {
   "cell_type": "markdown",
   "id": "b117633e-5d8d-4b63-a47f-826e4634c665",
   "metadata": {},
   "source": [
    "**Exercise**: Convert the `mario_RGB_int` array into a float-type array containing RGB triples with values between `0` and `1`."
   ]
  },
  {
   "cell_type": "code",
   "execution_count": null,
   "id": "04d8dbcb-11f5-4148-a2f6-03bc6c9f99af",
   "metadata": {},
   "outputs": [],
   "source": [
    "mario_RGB_float = "
   ]
  },
  {
   "cell_type": "markdown",
   "id": "f389b7e3-5404-44db-b20a-193b40a40484",
   "metadata": {},
   "source": [
    "## [Project 3: Tartans](https://jllottes.github.io/Projects/tartans/tartans.html)\n",
    "\n",
    "Let's get started working with tartans by generating vertical and horizontal stripes for the following pattern (see project page for details):\n",
    "\n",
    "Pattern : \n",
    "> B14 K6 B6 K6 B6 K32 OG32\n",
    "\n",
    "where the colors B, K, and OG are given by the RGB triples:\n",
    "\n",
    "> B : [52, 80, 100]<br>\n",
    "> K : [16, 16, 16]<br>\n",
    "> OG : [92, 100, 40]\n",
    "\n",
    "\n",
    "To get started, we'll need to initialize an array with the correct shape. What is the total width of this pattern?"
   ]
  },
  {
   "cell_type": "code",
   "execution_count": null,
   "id": "5cf7368b-7e22-411e-ab38-d081f96fda29",
   "metadata": {},
   "outputs": [],
   "source": []
  },
  {
   "cell_type": "markdown",
   "id": "90cfd055-eca5-4222-8e26-66e359efe6b8",
   "metadata": {},
   "source": [
    "Right now, our array is a pure black picture. Let's add the first vertical stripe, which has color B = [52, 80, 100] and has width 14."
   ]
  },
  {
   "cell_type": "code",
   "execution_count": null,
   "id": "451be15c-18c3-4322-9560-0fa52c15166e",
   "metadata": {},
   "outputs": [],
   "source": []
  },
  {
   "cell_type": "markdown",
   "id": "e3387809-cbfa-4e90-a49d-aa7e04aa169c",
   "metadata": {},
   "source": [
    "**Exercise:** Add the remaining stripes from the sample pattern to the `vertical_stripes` array."
   ]
  },
  {
   "cell_type": "code",
   "execution_count": null,
   "id": "ef29f96e-2c06-451e-9233-b96a67ac84fc",
   "metadata": {},
   "outputs": [],
   "source": []
  },
  {
   "cell_type": "markdown",
   "id": "6e8a7a11-7559-408a-9a0a-d0eac07ed999",
   "metadata": {},
   "source": [
    "Some thoughts:\n",
    " - We need a much better way to generate this vertical stripes array. There was far too much manual typing/calculation to add each stripe. We'll come back and address this shortly.\n",
    " - Now that we have an array of vertical stripes, we can easily generate an array of horizontal stripes. This can be done transposing our array (see below).\n",
    " - Once we have vertical and horizontal stripes, we need to super-impose them somehow to generate the tartan pattern."
   ]
  },
  {
   "cell_type": "markdown",
   "id": "7bcfc59c-068f-4cfc-ad90-88e2378a5bb6",
   "metadata": {},
   "source": [
    "### Array transposes\n",
    "\n",
    "For a 2-dimensional matrix, the transpose flips rows and columns. That is, the first row becomes the first column, the second row becomes the second column, etc. In Python, we can use the `.T` method on a 2D array to get its transpose:"
   ]
  },
  {
   "cell_type": "code",
   "execution_count": null,
   "id": "712930d2-99ea-4ca8-9239-0f78e6d8e151",
   "metadata": {},
   "outputs": [],
   "source": [
    "a = np.arange(25).reshape(5,5)\n",
    "print(a)"
   ]
  },
  {
   "cell_type": "code",
   "execution_count": null,
   "id": "02eb122f-2d34-43e2-96c5-97cbb9696279",
   "metadata": {},
   "outputs": [],
   "source": [
    "print(a.T)"
   ]
  },
  {
   "cell_type": "markdown",
   "id": "cae9447f-bf1f-4e9c-a385-2ee38680f886",
   "metadata": {},
   "source": [
    "We would like to take the transpose of our `vertical_stripes` array so that the columns of `vertical_stripes` become the rows of `horizontal_stripes`. In other words, the vertical stripes will become horizontal stripes.\n",
    "\n",
    "*Problem:* The `vertical_stripes` array is a 3-dimensional array (rows, columns, color channels). What does `vertical_stripes.T` give us in this case?"
   ]
  },
  {
   "cell_type": "code",
   "execution_count": null,
   "id": "aa12d569-c60f-4afa-903f-414c13e57ad2",
   "metadata": {},
   "outputs": [],
   "source": [
    "print(vertical_stripes.shape)\n",
    "print(vertical_stripes.T.shape)"
   ]
  },
  {
   "cell_type": "markdown",
   "id": "dae46acd-6b27-4f64-b31b-85a3a43226ef",
   "metadata": {},
   "source": [
    "It turns out that the `.T` attribute reverses the order of the axes. That is, the first axis (rows) becomes the last axis, the second axis (columns) becomes the second-last axis, etc. In the case of the `vertical_stripes` array, the color channel axis became the row axis, the column axis remained as the column axis, and the row axis became the color channel axis. For our needs, this is not useful. Instead, we just want to swap the row and column axes.\n",
    "\n",
    "We can use the `np.transpose` function to do more targeted transposing:"
   ]
  },
  {
   "cell_type": "code",
   "execution_count": null,
   "id": "80b859fe-49ad-446b-b157-21f164a69d3e",
   "metadata": {},
   "outputs": [],
   "source": [
    "help(np.transpose)"
   ]
  },
  {
   "cell_type": "markdown",
   "id": "928aa2aa-ad17-4c2e-8678-7933dc6ba854",
   "metadata": {},
   "source": [
    "When calling `np.transpose`, we can optionally supply a keyword argument `axes` which gives a permutation of the axes of the array. In particular, using `axes = [1, 0, 2]` will give a transposed matrix where:\n",
    " - the old axis `1` (i.e. the columns) becomes the new axis `0` (i.e. the rows),\n",
    " - the old axis `0` becomes the new axis `1`, and\n",
    " - the old axis `2` (i.e. the color channel) remains as axis `2`.\n",
    "\n",
    "Let's use this to define the `horizontal_stripes` array."
   ]
  },
  {
   "cell_type": "code",
   "execution_count": null,
   "id": "344e8593-e1d7-48d4-bd28-19823d1fea8a",
   "metadata": {},
   "outputs": [],
   "source": []
  },
  {
   "cell_type": "markdown",
   "id": "42fb80f9-cc1b-454f-bd55-87cd4aa2287f",
   "metadata": {},
   "source": [
    "### Creating a tartan from vertical and horizontal arrays\n",
    "\n",
    "We now have vertical and horizontal stripes. How can we combine them to get a tartan pattern?\n",
    "\n",
    "One simple idea is to take the average of the horizontal and vertical stripe arrays."
   ]
  },
  {
   "cell_type": "code",
   "execution_count": null,
   "id": "1ae4c5a5-5f59-44bb-bf7f-2f841dee39c4",
   "metadata": {},
   "outputs": [],
   "source": []
  },
  {
   "cell_type": "markdown",
   "id": "ecd21bbe-3a9f-494a-8dd2-933340784559",
   "metadata": {},
   "source": [
    "This gives flat colors rather than an interleaved combination. Can we instead generate a checkerboard pattern to interleave these stripes? To do so, we want to go row by row, column by column, and alternatingly select a color from the `vertical_stripes` and `horizontal_stripes` arrays."
   ]
  },
  {
   "cell_type": "code",
   "execution_count": null,
   "id": "3ea0aa17-dfb2-4110-a95d-39b429cf02c4",
   "metadata": {},
   "outputs": [],
   "source": []
  },
  {
   "cell_type": "markdown",
   "id": "09d84cf1-19e0-487b-b3c7-146ad3b720aa",
   "metadata": {},
   "source": [
    "Where to go from here:\n",
    " - We need a better way of generating the `vertical_stripes` array.\n",
    " - We need to generate the more authentic tartan pattern described in the project page.\n",
    " - We need to pad our tartan pattern to be `500` by `500` rows/columns."
   ]
  },
  {
   "cell_type": "markdown",
   "id": "56869a98-5cfa-4778-b839-723db9b926bc",
   "metadata": {},
   "source": [
    "### Generating the `vertical_stripes` array algorithmically\n",
    "\n",
    "For now, let's focus on converting the given tartan pattern into something that we can use to easily generate the `vertical_stripes` array. \n",
    "\n",
    "Pattern : \n",
    "> B14 K6 B6 K6 B6 K32 OG32\n",
    "\n",
    "where the colors B, K, and OG are given by the RGB triples:\n",
    "\n",
    "> B : [52, 80, 100]<br>\n",
    "> K : [16, 16, 16]<br>\n",
    "> OG : [92, 100, 40]\n",
    "\n",
    "Can we code this information as some sort of Python list(s)?"
   ]
  },
  {
   "cell_type": "code",
   "execution_count": null,
   "id": "6ec068f9-5255-44a6-aeee-f2045db5ad50",
   "metadata": {},
   "outputs": [],
   "source": []
  },
  {
   "cell_type": "markdown",
   "id": "283585e9-407e-434f-a412-b982cf3d87ce",
   "metadata": {},
   "source": [
    "Can we find the total width of the pattern without manually adding the widths by hand?"
   ]
  },
  {
   "cell_type": "code",
   "execution_count": null,
   "id": "508d1139-afac-456f-b1bd-db2e197be557",
   "metadata": {},
   "outputs": [],
   "source": []
  },
  {
   "cell_type": "markdown",
   "id": "2770fb98-fd74-40d6-ac79-77b35d5240d4",
   "metadata": {},
   "source": [
    "With the total width calculated, we can intialize the `vertical_stripes` array that we will then fill with colored stripes.\n",
    "Can we use a `for` loop to iterate through each width/RGB pair and add the corresponding stripe to the `vertical_stripes` array?"
   ]
  },
  {
   "cell_type": "code",
   "execution_count": null,
   "id": "5511ef6f-aaf4-46da-baea-4e661453d1bd",
   "metadata": {},
   "outputs": [],
   "source": []
  }
 ],
 "metadata": {
  "kernelspec": {
   "display_name": "Python 3 (ipykernel)",
   "language": "python",
   "name": "python3"
  },
  "language_info": {
   "codemirror_mode": {
    "name": "ipython",
    "version": 3
   },
   "file_extension": ".py",
   "mimetype": "text/x-python",
   "name": "python",
   "nbconvert_exporter": "python",
   "pygments_lexer": "ipython3",
   "version": "3.13.5"
  }
 },
 "nbformat": 4,
 "nbformat_minor": 5
}
