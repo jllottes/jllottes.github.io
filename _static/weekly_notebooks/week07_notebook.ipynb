{
 "cells": [
  {
   "cell_type": "markdown",
   "id": "4508f011",
   "metadata": {},
   "source": [
    "# March 13th, 2023"
   ]
  },
  {
   "cell_type": "markdown",
   "id": "9a8da637",
   "metadata": {},
   "source": [
    "## Multidimensional arrays in NumPy"
   ]
  },
  {
   "cell_type": "code",
   "execution_count": 1,
   "id": "72c74587",
   "metadata": {},
   "outputs": [],
   "source": [
    "import numpy as np"
   ]
  },
  {
   "cell_type": "code",
   "execution_count": 3,
   "id": "4404b3f5",
   "metadata": {},
   "outputs": [
    {
     "name": "stdout",
     "output_type": "stream",
     "text": [
      "[ 0  1  2  3  4  5  6  7  8  9 10 11 12 13 14 15 16 17 18 19]\n"
     ]
    }
   ],
   "source": [
    "a = np.arange(20)\n",
    "print(a)"
   ]
  },
  {
   "cell_type": "markdown",
   "id": "0bcc363a",
   "metadata": {},
   "source": [
    "The `np.reshape()` function can be used to change the shape of a NumPy array:"
   ]
  },
  {
   "cell_type": "code",
   "execution_count": 7,
   "id": "992be70b",
   "metadata": {},
   "outputs": [
    {
     "name": "stdout",
     "output_type": "stream",
     "text": [
      "[[ 0  1  2  3  4]\n",
      " [ 5  6  7  8  9]\n",
      " [10 11 12 13 14]\n",
      " [15 16 17 18 19]]\n"
     ]
    }
   ],
   "source": [
    "b = a.reshape(4,5)\n",
    "print(b)"
   ]
  },
  {
   "cell_type": "code",
   "execution_count": 8,
   "id": "8dd3d132",
   "metadata": {},
   "outputs": [
    {
     "name": "stdout",
     "output_type": "stream",
     "text": [
      "[[ 0  1]\n",
      " [ 2  3]\n",
      " [ 4  5]\n",
      " [ 6  7]\n",
      " [ 8  9]\n",
      " [10 11]\n",
      " [12 13]\n",
      " [14 15]\n",
      " [16 17]\n",
      " [18 19]]\n"
     ]
    }
   ],
   "source": [
    "c = a.reshape(10,2)\n",
    "print(c)"
   ]
  },
  {
   "cell_type": "code",
   "execution_count": 9,
   "id": "5f1bcd87",
   "metadata": {},
   "outputs": [
    {
     "name": "stdout",
     "output_type": "stream",
     "text": [
      "(20,)\n",
      "(4, 5)\n",
      "(10, 2)\n"
     ]
    }
   ],
   "source": [
    "print(a.shape)\n",
    "print(b.shape)\n",
    "print(c.shape)"
   ]
  },
  {
   "cell_type": "code",
   "execution_count": 10,
   "id": "a5386195",
   "metadata": {},
   "outputs": [
    {
     "data": {
      "text/plain": [
       "array([[ 0],\n",
       "       [ 1],\n",
       "       [ 2],\n",
       "       [ 3],\n",
       "       [ 4],\n",
       "       [ 5],\n",
       "       [ 6],\n",
       "       [ 7],\n",
       "       [ 8],\n",
       "       [ 9],\n",
       "       [10],\n",
       "       [11],\n",
       "       [12],\n",
       "       [13],\n",
       "       [14],\n",
       "       [15],\n",
       "       [16],\n",
       "       [17],\n",
       "       [18],\n",
       "       [19]])"
      ]
     },
     "execution_count": 10,
     "metadata": {},
     "output_type": "execute_result"
    }
   ],
   "source": [
    "a.reshape(20,1)"
   ]
  },
  {
   "cell_type": "markdown",
   "id": "2482fe12",
   "metadata": {},
   "source": [
    "The `.ravel()` method unravels a multidimensional array into a 1D array."
   ]
  },
  {
   "cell_type": "code",
   "execution_count": 12,
   "id": "984a3ffa",
   "metadata": {
    "scrolled": true
   },
   "outputs": [
    {
     "data": {
      "text/plain": [
       "array([ 0,  1,  2,  3,  4,  5,  6,  7,  8,  9, 10, 11, 12, 13, 14, 15, 16,\n",
       "       17, 18, 19])"
      ]
     },
     "execution_count": 12,
     "metadata": {},
     "output_type": "execute_result"
    }
   ],
   "source": [
    "b.ravel()"
   ]
  },
  {
   "cell_type": "markdown",
   "id": "a4b1a9c4",
   "metadata": {},
   "source": [
    "Note: Multidimensional (2D) arrays must have a fixed number of rows and columns."
   ]
  },
  {
   "cell_type": "code",
   "execution_count": 13,
   "id": "1d46e6e1",
   "metadata": {},
   "outputs": [
    {
     "name": "stdout",
     "output_type": "stream",
     "text": [
      "[[ 1  2  3]\n",
      " [ 4  5  6]\n",
      " [ 7  8  9]\n",
      " [10 11 12]]\n"
     ]
    }
   ],
   "source": [
    "mylist = [[1,2,3],\n",
    "          [4,5,6],\n",
    "          [7,8,9],\n",
    "          [10,11,12]]\n",
    "\n",
    "myarray = np.array(mylist)\n",
    "\n",
    "print(myarray)"
   ]
  },
  {
   "cell_type": "code",
   "execution_count": 17,
   "id": "cdf4dc65",
   "metadata": {},
   "outputs": [
    {
     "name": "stderr",
     "output_type": "stream",
     "text": [
      "C:\\Users\\Luke\\AppData\\Local\\Temp/ipykernel_3676/2121685653.py:6: VisibleDeprecationWarning: Creating an ndarray from ragged nested sequences (which is a list-or-tuple of lists-or-tuples-or ndarrays with different lengths or shapes) is deprecated. If you meant to do this, you must specify 'dtype=object' when creating the ndarray.\n",
      "  myarray = np.array(mylist)\n"
     ]
    },
    {
     "data": {
      "text/plain": [
       "array([list([1, 2, 3]), list([4, 5]), list([7, 8, 9]), list([10, 12])],\n",
       "      dtype=object)"
      ]
     },
     "execution_count": 17,
     "metadata": {},
     "output_type": "execute_result"
    }
   ],
   "source": [
    "mylist = [[1,2,3],\n",
    "          [4,5],\n",
    "          [7,8,9],\n",
    "          [10,12]]\n",
    "\n",
    "myarray = np.array(mylist)\n",
    "\n",
    "myarray"
   ]
  },
  {
   "cell_type": "markdown",
   "id": "97766fdb",
   "metadata": {},
   "source": [
    "## Mathematical operations on multidimensional arrays"
   ]
  },
  {
   "cell_type": "code",
   "execution_count": 19,
   "id": "8ac7e434",
   "metadata": {},
   "outputs": [
    {
     "data": {
      "text/plain": [
       "array([[ 0,  1,  2,  3,  4],\n",
       "       [ 5,  6,  7,  8,  9],\n",
       "       [10, 11, 12, 13, 14],\n",
       "       [15, 16, 17, 18, 19]])"
      ]
     },
     "execution_count": 19,
     "metadata": {},
     "output_type": "execute_result"
    }
   ],
   "source": [
    "b"
   ]
  },
  {
   "cell_type": "code",
   "execution_count": 20,
   "id": "f778ba81",
   "metadata": {},
   "outputs": [
    {
     "data": {
      "text/plain": [
       "array([[ 1,  3,  5,  7,  9],\n",
       "       [11, 13, 15, 17, 19],\n",
       "       [21, 23, 25, 27, 29],\n",
       "       [31, 33, 35, 37, 39]])"
      ]
     },
     "execution_count": 20,
     "metadata": {},
     "output_type": "execute_result"
    }
   ],
   "source": [
    "2*b + 1"
   ]
  },
  {
   "cell_type": "code",
   "execution_count": 21,
   "id": "3fe58658",
   "metadata": {},
   "outputs": [
    {
     "data": {
      "text/plain": [
       "array([[ True, False,  True, False,  True],\n",
       "       [False,  True, False,  True, False],\n",
       "       [ True, False,  True, False,  True],\n",
       "       [False,  True, False,  True, False]])"
      ]
     },
     "execution_count": 21,
     "metadata": {},
     "output_type": "execute_result"
    }
   ],
   "source": [
    "(b % 2 == 0)"
   ]
  },
  {
   "cell_type": "code",
   "execution_count": 23,
   "id": "acad226f",
   "metadata": {},
   "outputs": [
    {
     "name": "stdout",
     "output_type": "stream",
     "text": [
      "[[  0   1  -2   3  -4]\n",
      " [  5  -6   7  -8   9]\n",
      " [-10  11 -12  13 -14]\n",
      " [ 15 -16  17 -18  19]]\n"
     ]
    }
   ],
   "source": [
    "mask = (b%2 == 0)\n",
    "\n",
    "b[mask] = -b[mask]\n",
    "print(b)"
   ]
  },
  {
   "cell_type": "markdown",
   "id": "0ad78710",
   "metadata": {},
   "source": [
    "Methods of generating multidimensional arrays:"
   ]
  },
  {
   "cell_type": "code",
   "execution_count": 25,
   "id": "2e0e1d4b",
   "metadata": {},
   "outputs": [
    {
     "name": "stdout",
     "output_type": "stream",
     "text": [
      "[[1. 1. 1. 1.]\n",
      " [1. 1. 1. 1.]\n",
      " [1. 1. 1. 1.]]\n"
     ]
    }
   ],
   "source": [
    "a = np.ones((3,4))\n",
    "print(a)"
   ]
  },
  {
   "cell_type": "code",
   "execution_count": 26,
   "id": "6d5c3566",
   "metadata": {},
   "outputs": [
    {
     "name": "stdout",
     "output_type": "stream",
     "text": [
      "[[0. 0. 0. 0. 0. 0.]\n",
      " [0. 0. 0. 0. 0. 0.]\n",
      " [0. 0. 0. 0. 0. 0.]\n",
      " [0. 0. 0. 0. 0. 0.]\n",
      " [0. 0. 0. 0. 0. 0.]]\n"
     ]
    }
   ],
   "source": [
    "b = np.zeros((5,6))\n",
    "print(b)"
   ]
  },
  {
   "cell_type": "code",
   "execution_count": 27,
   "id": "b242359c",
   "metadata": {},
   "outputs": [
    {
     "name": "stdout",
     "output_type": "stream",
     "text": [
      "[[0 1 2 3 4]\n",
      " [5 6 7 8 9]]\n",
      "[[1. 1. 1. 1. 1.]\n",
      " [1. 1. 1. 1. 1.]]\n"
     ]
    }
   ],
   "source": [
    "arr1 = np.arange(10).reshape(2,5)\n",
    "arr2 = np.ones((2,5))\n",
    "\n",
    "print(arr1)\n",
    "print(arr2)"
   ]
  },
  {
   "cell_type": "code",
   "execution_count": 28,
   "id": "50aee73f",
   "metadata": {},
   "outputs": [
    {
     "data": {
      "text/plain": [
       "array([[ 3.,  4.,  5.,  6.,  7.],\n",
       "       [ 8.,  9., 10., 11., 12.]])"
      ]
     },
     "execution_count": 28,
     "metadata": {},
     "output_type": "execute_result"
    }
   ],
   "source": [
    "arr1 + 3*arr2"
   ]
  },
  {
   "cell_type": "code",
   "execution_count": 29,
   "id": "253a32de",
   "metadata": {},
   "outputs": [
    {
     "name": "stdout",
     "output_type": "stream",
     "text": [
      "(2, 5)\n",
      "(3, 4)\n"
     ]
    }
   ],
   "source": [
    "print(arr1.shape)\n",
    "print(a.shape)"
   ]
  },
  {
   "cell_type": "code",
   "execution_count": 30,
   "id": "11a7430a",
   "metadata": {},
   "outputs": [
    {
     "ename": "ValueError",
     "evalue": "operands could not be broadcast together with shapes (2,5) (3,4) ",
     "output_type": "error",
     "traceback": [
      "\u001b[1;31m---------------------------------------------------------------------------\u001b[0m",
      "\u001b[1;31mValueError\u001b[0m                                Traceback (most recent call last)",
      "\u001b[1;32m~\\AppData\\Local\\Temp/ipykernel_3676/1147537026.py\u001b[0m in \u001b[0;36m<module>\u001b[1;34m\u001b[0m\n\u001b[1;32m----> 1\u001b[1;33m \u001b[0marr1\u001b[0m \u001b[1;33m+\u001b[0m \u001b[0ma\u001b[0m\u001b[1;33m\u001b[0m\u001b[1;33m\u001b[0m\u001b[0m\n\u001b[0m",
      "\u001b[1;31mValueError\u001b[0m: operands could not be broadcast together with shapes (2,5) (3,4) "
     ]
    }
   ],
   "source": [
    "arr1 + a"
   ]
  },
  {
   "cell_type": "code",
   "execution_count": 35,
   "id": "51568142",
   "metadata": {},
   "outputs": [
    {
     "name": "stdout",
     "output_type": "stream",
     "text": [
      "(2, 5)\n",
      "(5,)\n"
     ]
    }
   ],
   "source": [
    "arr3 = np.array([-5,4,-3,2,-1])\n",
    "\n",
    "print(arr1.shape)\n",
    "print(arr3.shape)"
   ]
  },
  {
   "cell_type": "code",
   "execution_count": 36,
   "id": "bec8e9d6",
   "metadata": {},
   "outputs": [
    {
     "name": "stdout",
     "output_type": "stream",
     "text": [
      "[[0 1 2 3 4]\n",
      " [5 6 7 8 9]]\n",
      "\n",
      "[-5  4 -3  2 -1]\n"
     ]
    }
   ],
   "source": [
    "print(arr1)\n",
    "print()\n",
    "print(arr3)"
   ]
  },
  {
   "cell_type": "code",
   "execution_count": 37,
   "id": "914e8b05",
   "metadata": {},
   "outputs": [
    {
     "name": "stdout",
     "output_type": "stream",
     "text": [
      "[[-5  5 -1  5  3]\n",
      " [ 0 10  4 10  8]]\n"
     ]
    }
   ],
   "source": [
    "print(arr1 + arr3)"
   ]
  },
  {
   "cell_type": "markdown",
   "id": "c17f7a1e",
   "metadata": {},
   "source": [
    "## Accessing elements of a multidimensional array"
   ]
  },
  {
   "cell_type": "code",
   "execution_count": 38,
   "id": "053c121d",
   "metadata": {},
   "outputs": [
    {
     "name": "stdout",
     "output_type": "stream",
     "text": [
      "[[ 0  1  2  3  4  5]\n",
      " [ 6  7  8  9 10 11]\n",
      " [12 13 14 15 16 17]\n",
      " [18 19 20 21 22 23]\n",
      " [24 25 26 27 28 29]]\n"
     ]
    }
   ],
   "source": [
    "a = np.arange(30).reshape(5,6)\n",
    "print(a)"
   ]
  },
  {
   "cell_type": "code",
   "execution_count": 39,
   "id": "a1057b09",
   "metadata": {},
   "outputs": [
    {
     "data": {
      "text/plain": [
       "array([12, 13, 14, 15, 16, 17])"
      ]
     },
     "execution_count": 39,
     "metadata": {},
     "output_type": "execute_result"
    }
   ],
   "source": [
    "a[2]"
   ]
  },
  {
   "cell_type": "code",
   "execution_count": 40,
   "id": "62b17475",
   "metadata": {},
   "outputs": [
    {
     "data": {
      "text/plain": [
       "16"
      ]
     },
     "execution_count": 40,
     "metadata": {},
     "output_type": "execute_result"
    }
   ],
   "source": [
    "a[2][4]"
   ]
  },
  {
   "cell_type": "code",
   "execution_count": 41,
   "id": "d45eea99",
   "metadata": {},
   "outputs": [
    {
     "data": {
      "text/plain": [
       "16"
      ]
     },
     "execution_count": 41,
     "metadata": {},
     "output_type": "execute_result"
    }
   ],
   "source": [
    "a[2,4]"
   ]
  },
  {
   "cell_type": "markdown",
   "id": "764fa2fd",
   "metadata": {},
   "source": [
    "We can use all of our usual slicing operations:"
   ]
  },
  {
   "cell_type": "code",
   "execution_count": 42,
   "id": "95107d1b",
   "metadata": {},
   "outputs": [
    {
     "data": {
      "text/plain": [
       "array([[ 6,  8, 10],\n",
       "       [12, 14, 16]])"
      ]
     },
     "execution_count": 42,
     "metadata": {},
     "output_type": "execute_result"
    }
   ],
   "source": [
    "a[1:3,::2]"
   ]
  },
  {
   "cell_type": "code",
   "execution_count": 43,
   "id": "ade3c25e",
   "metadata": {},
   "outputs": [
    {
     "data": {
      "text/plain": [
       "array([ 1,  7, 13, 19, 25])"
      ]
     },
     "execution_count": 43,
     "metadata": {},
     "output_type": "execute_result"
    }
   ],
   "source": [
    "a[:,1]"
   ]
  },
  {
   "cell_type": "markdown",
   "id": "3fdb1ecf",
   "metadata": {},
   "source": [
    "Changes to a slice of an array will propogate back to the original array:"
   ]
  },
  {
   "cell_type": "code",
   "execution_count": 44,
   "id": "37ae0da2",
   "metadata": {},
   "outputs": [
    {
     "name": "stdout",
     "output_type": "stream",
     "text": [
      "[[ 0  1  2  3  4  5]\n",
      " [ 6  7  8  9 10 11]\n",
      " [12 13 14 15 16 17]\n",
      " [18 19 20 21 22 23]\n",
      " [24 25 26 27 28 29]]\n",
      "[[ 0  0  2  3  4  5]\n",
      " [ 6  0  8  9 10 11]\n",
      " [12  0 14 15 16 17]\n",
      " [18  0 20 21 22 23]\n",
      " [24  0 26 27 28 29]]\n"
     ]
    }
   ],
   "source": [
    "print(a)\n",
    "\n",
    "a[:,1] = 0\n",
    "\n",
    "print(a)"
   ]
  },
  {
   "cell_type": "markdown",
   "id": "8dab5952",
   "metadata": {},
   "source": [
    "The `imshow` function from `matplotlib.pyplot` can be used to visualize a 2D array:"
   ]
  },
  {
   "cell_type": "code",
   "execution_count": 45,
   "id": "b358f15c",
   "metadata": {},
   "outputs": [],
   "source": [
    "import matplotlib.pyplot as plt"
   ]
  },
  {
   "cell_type": "code",
   "execution_count": 47,
   "id": "bd67cfef",
   "metadata": {},
   "outputs": [
    {
     "data": {
      "text/plain": [
       "<matplotlib.colorbar.Colorbar at 0x210b7cb6700>"
      ]
     },
     "execution_count": 47,
     "metadata": {},
     "output_type": "execute_result"
    },
    {
     "data": {
      "image/png": "[encoded data removed]",
      "text/plain": [
       "<Figure size 432x288 with 2 Axes>"
      ]
     },
     "metadata": {
      "needs_background": "light"
     },
     "output_type": "display_data"
    }
   ],
   "source": [
    "plt.imshow(a)\n",
    "\n",
    "plt.colorbar()"
   ]
  },
  {
   "cell_type": "markdown",
   "id": "aa0c288c",
   "metadata": {},
   "source": [
    "# Pi-day experiment"
   ]
  },
  {
   "cell_type": "code",
   "execution_count": 49,
   "id": "c4f788c2",
   "metadata": {},
   "outputs": [
    {
     "name": "stdout",
     "output_type": "stream",
     "text": [
      "Help on built-in function rand:\n",
      "\n",
      "rand(...) method of numpy.random.mtrand.RandomState instance\n",
      "    rand(d0, d1, ..., dn)\n",
      "    \n",
      "    Random values in a given shape.\n",
      "    \n",
      "    .. note::\n",
      "        This is a convenience function for users porting code from Matlab,\n",
      "        and wraps `random_sample`. That function takes a\n",
      "        tuple to specify the size of the output, which is consistent with\n",
      "        other NumPy functions like `numpy.zeros` and `numpy.ones`.\n",
      "    \n",
      "    Create an array of the given shape and populate it with\n",
      "    random samples from a uniform distribution\n",
      "    over ``[0, 1)``.\n",
      "    \n",
      "    Parameters\n",
      "    ----------\n",
      "    d0, d1, ..., dn : int, optional\n",
      "        The dimensions of the returned array, must be non-negative.\n",
      "        If no argument is given a single Python float is returned.\n",
      "    \n",
      "    Returns\n",
      "    -------\n",
      "    out : ndarray, shape ``(d0, d1, ..., dn)``\n",
      "        Random values.\n",
      "    \n",
      "    See Also\n",
      "    --------\n",
      "    random\n",
      "    \n",
      "    Examples\n",
      "    --------\n",
      "    >>> np.random.rand(3,2)\n",
      "    array([[ 0.14022471,  0.96360618],  #random\n",
      "           [ 0.37601032,  0.25528411],  #random\n",
      "           [ 0.49313049,  0.94909878]]) #random\n",
      "\n"
     ]
    }
   ],
   "source": [
    "help(np.random.rand)"
   ]
  },
  {
   "cell_type": "code",
   "execution_count": 53,
   "id": "89409aac",
   "metadata": {},
   "outputs": [
    {
     "data": {
      "text/plain": [
       "array([0.68083335, 0.47846172, 0.26286528, 0.94881382, 0.05180713])"
      ]
     },
     "execution_count": 53,
     "metadata": {},
     "output_type": "execute_result"
    }
   ],
   "source": [
    "np.random.rand(5)"
   ]
  },
  {
   "cell_type": "markdown",
   "id": "24604d46",
   "metadata": {},
   "source": [
    "`np.random.rand` returns values between $0$ and $1$. \n",
    "We want our coordinates to lie between $-R$ and $R$."
   ]
  },
  {
   "cell_type": "code",
   "execution_count": 58,
   "id": "fb260a4a",
   "metadata": {},
   "outputs": [],
   "source": [
    "N = 1000\n",
    "\n",
    "R = 1\n",
    "\n",
    "points = 2*R*np.random.rand(N,2) - R\n",
    "\n",
    "x = points[:,0]\n",
    "y = points[:,1]"
   ]
  },
  {
   "cell_type": "code",
   "execution_count": 57,
   "id": "e7fb9703",
   "metadata": {},
   "outputs": [
    {
     "data": {
      "text/plain": [
       "array([-0.99831953, -0.18449768])"
      ]
     },
     "execution_count": 57,
     "metadata": {},
     "output_type": "execute_result"
    }
   ],
   "source": [
    "points[0]"
   ]
  },
  {
   "cell_type": "code",
   "execution_count": 63,
   "id": "345d9b5a",
   "metadata": {},
   "outputs": [],
   "source": [
    "in_circle = x**2 + y**2 <= R**2"
   ]
  },
  {
   "cell_type": "code",
   "execution_count": 64,
   "id": "3716fe3b",
   "metadata": {},
   "outputs": [
    {
     "data": {
      "text/plain": [
       "[<matplotlib.lines.Line2D at 0x210b7edde80>]"
      ]
     },
     "execution_count": 64,
     "metadata": {},
     "output_type": "execute_result"
    },
    {
     "data": {
      "image/png": "[encoded data removed]",
      "text/plain": [
       "<Figure size 432x288 with 1 Axes>"
      ]
     },
     "metadata": {
      "needs_background": "light"
     },
     "output_type": "display_data"
    }
   ],
   "source": [
    "plt.plot(x, y, '.')\n",
    "plt.axis('equal')\n",
    "\n",
    "theta = np.linspace(0,2*np.pi,1000)\n",
    "plt.plot(R*np.cos(theta), R*np.sin(theta), 'k-')\n",
    "\n",
    "plt.plot(x[in_circle], y[in_circle], 'r.')"
   ]
  },
  {
   "cell_type": "markdown",
   "id": "1978b6d3",
   "metadata": {},
   "source": [
    "We can count the number of points inside the circle using `in_circle` and the `.sum()` method:"
   ]
  },
  {
   "cell_type": "code",
   "execution_count": 68,
   "id": "35c4e1aa",
   "metadata": {},
   "outputs": [],
   "source": [
    "def approximate_pi(N):\n",
    "    points = 2*R*np.random.rand(N,2) - R\n",
    "    x = points[:,0]\n",
    "    y = points[:,1]\n",
    "    in_circle = x**2 + y**2 <= R**2\n",
    "\n",
    "    in_circle_count = in_circle.sum()\n",
    "    total_count = N\n",
    "\n",
    "    my_pi = 4*(in_circle_count / total_count)\n",
    "    \n",
    "    return my_pi"
   ]
  },
  {
   "cell_type": "code",
   "execution_count": 78,
   "id": "94b53c1f",
   "metadata": {},
   "outputs": [
    {
     "data": {
      "text/plain": [
       "3.1421668"
      ]
     },
     "execution_count": 78,
     "metadata": {},
     "output_type": "execute_result"
    }
   ],
   "source": [
    "approximate_pi(10000000)"
   ]
  },
  {
   "cell_type": "markdown",
   "id": "380e6201",
   "metadata": {},
   "source": [
    "# March 15th, 2023\n",
    "\n",
    "\n",
    "## Colors in matplotlib"
   ]
  },
  {
   "cell_type": "code",
   "execution_count": 1,
   "id": "5a2af06c",
   "metadata": {},
   "outputs": [],
   "source": [
    "import matplotlib.pyplot as plt\n",
    "import numpy as np"
   ]
  },
  {
   "cell_type": "code",
   "execution_count": 2,
   "id": "38ce5d38",
   "metadata": {},
   "outputs": [],
   "source": [
    "import matplotlib.cm as cm"
   ]
  },
  {
   "cell_type": "code",
   "execution_count": 4,
   "id": "9aaa185e",
   "metadata": {},
   "outputs": [
    {
     "name": "stdout",
     "output_type": "stream",
     "text": [
      "Help on LinearSegmentedColormap in module matplotlib.colors object:\n",
      "\n",
      "class LinearSegmentedColormap(Colormap)\n",
      " |  LinearSegmentedColormap(name, segmentdata, N=256, gamma=1.0)\n",
      " |  \n",
      " |  Colormap objects based on lookup tables using linear segments.\n",
      " |  \n",
      " |  The lookup table is generated using linear interpolation for each\n",
      " |  primary color, with the 0-1 domain divided into any number of\n",
      " |  segments.\n",
      " |  \n",
      " |  Method resolution order:\n",
      " |      LinearSegmentedColormap\n",
      " |      Colormap\n",
      " |      builtins.object\n",
      " |  \n",
      " |  Methods defined here:\n",
      " |  \n",
      " |  __init__(self, name, segmentdata, N=256, gamma=1.0)\n",
      " |      Create colormap from linear mapping segments\n",
      " |      \n",
      " |      segmentdata argument is a dictionary with a red, green and blue\n",
      " |      entries. Each entry should be a list of *x*, *y0*, *y1* tuples,\n",
      " |      forming rows in a table. Entries for alpha are optional.\n",
      " |      \n",
      " |      Example: suppose you want red to increase from 0 to 1 over\n",
      " |      the bottom half, green to do the same over the middle half,\n",
      " |      and blue over the top half.  Then you would use::\n",
      " |      \n",
      " |          cdict = {'red':   [(0.0,  0.0, 0.0),\n",
      " |                             (0.5,  1.0, 1.0),\n",
      " |                             (1.0,  1.0, 1.0)],\n",
      " |      \n",
      " |                   'green': [(0.0,  0.0, 0.0),\n",
      " |                             (0.25, 0.0, 0.0),\n",
      " |                             (0.75, 1.0, 1.0),\n",
      " |                             (1.0,  1.0, 1.0)],\n",
      " |      \n",
      " |                   'blue':  [(0.0,  0.0, 0.0),\n",
      " |                             (0.5,  0.0, 0.0),\n",
      " |                             (1.0,  1.0, 1.0)]}\n",
      " |      \n",
      " |      Each row in the table for a given color is a sequence of\n",
      " |      *x*, *y0*, *y1* tuples.  In each sequence, *x* must increase\n",
      " |      monotonically from 0 to 1.  For any input value *z* falling\n",
      " |      between *x[i]* and *x[i+1]*, the output value of a given color\n",
      " |      will be linearly interpolated between *y1[i]* and *y0[i+1]*::\n",
      " |      \n",
      " |          row i:   x  y0  y1\n",
      " |                         /\n",
      " |                        /\n",
      " |          row i+1: x  y0  y1\n",
      " |      \n",
      " |      Hence y0 in the first row and y1 in the last row are never used.\n",
      " |      \n",
      " |      See Also\n",
      " |      --------\n",
      " |      LinearSegmentedColormap.from_list\n",
      " |          Static method; factory function for generating a smoothly-varying\n",
      " |          LinearSegmentedColormap.\n",
      " |  \n",
      " |  reversed(self, name=None)\n",
      " |      Return a reversed instance of the Colormap.\n",
      " |      \n",
      " |      Parameters\n",
      " |      ----------\n",
      " |      name : str, optional\n",
      " |          The name for the reversed colormap. If it's None the\n",
      " |          name will be the name of the parent colormap + \"_r\".\n",
      " |      \n",
      " |      Returns\n",
      " |      -------\n",
      " |      LinearSegmentedColormap\n",
      " |          The reversed colormap.\n",
      " |  \n",
      " |  set_gamma(self, gamma)\n",
      " |      Set a new gamma value and regenerate colormap.\n",
      " |  \n",
      " |  ----------------------------------------------------------------------\n",
      " |  Static methods defined here:\n",
      " |  \n",
      " |  from_list(name, colors, N=256, gamma=1.0)\n",
      " |      Create a `LinearSegmentedColormap` from a list of colors.\n",
      " |      \n",
      " |      Parameters\n",
      " |      ----------\n",
      " |      name : str\n",
      " |          The name of the colormap.\n",
      " |      colors : array-like of colors or array-like of (value, color)\n",
      " |          If only colors are given, they are equidistantly mapped from the\n",
      " |          range :math:`[0, 1]`; i.e. 0 maps to ``colors[0]`` and 1 maps to\n",
      " |          ``colors[-1]``.\n",
      " |          If (value, color) pairs are given, the mapping is from *value*\n",
      " |          to *color*. This can be used to divide the range unevenly.\n",
      " |      N : int\n",
      " |          The number of rgb quantization levels.\n",
      " |      gamma : float\n",
      " |  \n",
      " |  ----------------------------------------------------------------------\n",
      " |  Methods inherited from Colormap:\n",
      " |  \n",
      " |  __call__(self, X, alpha=None, bytes=False)\n",
      " |      Parameters\n",
      " |      ----------\n",
      " |      X : float or int, ndarray or scalar\n",
      " |          The data value(s) to convert to RGBA.\n",
      " |          For floats, X should be in the interval ``[0.0, 1.0]`` to\n",
      " |          return the RGBA values ``X*100`` percent along the Colormap line.\n",
      " |          For integers, X should be in the interval ``[0, Colormap.N)`` to\n",
      " |          return RGBA values *indexed* from the Colormap with index ``X``.\n",
      " |      alpha : float or array-like or None\n",
      " |          Alpha must be a scalar between 0 and 1, a sequence of such\n",
      " |          floats with shape matching X, or None.\n",
      " |      bytes : bool\n",
      " |          If False (default), the returned RGBA values will be floats in the\n",
      " |          interval ``[0, 1]`` otherwise they will be uint8s in the interval\n",
      " |          ``[0, 255]``.\n",
      " |      \n",
      " |      Returns\n",
      " |      -------\n",
      " |      Tuple of RGBA values if X is scalar, otherwise an array of\n",
      " |      RGBA values with a shape of ``X.shape + (4, )``.\n",
      " |  \n",
      " |  __copy__(self)\n",
      " |  \n",
      " |  copy(self)\n",
      " |      Return a copy of the colormap.\n",
      " |  \n",
      " |  get_bad(self)\n",
      " |      Get the color for masked values.\n",
      " |  \n",
      " |  get_over(self)\n",
      " |      Get the color for high out-of-range values.\n",
      " |  \n",
      " |  get_under(self)\n",
      " |      Get the color for low out-of-range values.\n",
      " |  \n",
      " |  is_gray(self)\n",
      " |      Return whether the colormap is grayscale.\n",
      " |  \n",
      " |  set_bad(self, color='k', alpha=None)\n",
      " |      Set the color for masked values.\n",
      " |  \n",
      " |  set_extremes(self, *, bad=None, under=None, over=None)\n",
      " |      Set the colors for masked (*bad*) values and, when ``norm.clip =\n",
      " |      False``, low (*under*) and high (*over*) out-of-range values.\n",
      " |  \n",
      " |  set_over(self, color='k', alpha=None)\n",
      " |      Set the color for high out-of-range values.\n",
      " |  \n",
      " |  set_under(self, color='k', alpha=None)\n",
      " |      Set the color for low out-of-range values.\n",
      " |  \n",
      " |  with_extremes(self, *, bad=None, under=None, over=None)\n",
      " |      Return a copy of the colormap, for which the colors for masked (*bad*)\n",
      " |      values and, when ``norm.clip = False``, low (*under*) and high (*over*)\n",
      " |      out-of-range values, have been set accordingly.\n",
      " |  \n",
      " |  ----------------------------------------------------------------------\n",
      " |  Data descriptors inherited from Colormap:\n",
      " |  \n",
      " |  __dict__\n",
      " |      dictionary for instance variables (if defined)\n",
      " |  \n",
      " |  __weakref__\n",
      " |      list of weak references to the object (if defined)\n",
      "\n"
     ]
    }
   ],
   "source": [
    "help(cm.jet)"
   ]
  },
  {
   "cell_type": "code",
   "execution_count": 6,
   "id": "9a4bbf0c",
   "metadata": {},
   "outputs": [
    {
     "data": {
      "image/png": "[encoded data removed]",
      "text/plain": [
       "<Figure size 1008x72 with 1 Axes>"
      ]
     },
     "metadata": {
      "needs_background": "light"
     },
     "output_type": "display_data"
    }
   ],
   "source": [
    "x = np.linspace(0,1,40)\n",
    "\n",
    "plt.figure(figsize=(14,1))\n",
    "\n",
    "for t in x:\n",
    "    plt.plot(t,0,'o',markersize=12, color=cm.jet(t))\n",
    "    \n",
    "plt.title('jet')\n",
    "plt.show()"
   ]
  },
  {
   "cell_type": "code",
   "execution_count": 7,
   "id": "c8c41e57",
   "metadata": {},
   "outputs": [
    {
     "data": {
      "image/png": "[encoded data removed]",
      "text/plain": [
       "<Figure size 1008x360 with 3 Axes>"
      ]
     },
     "metadata": {
      "needs_background": "light"
     },
     "output_type": "display_data"
    }
   ],
   "source": [
    "x = np.linspace(0,1,40)\n",
    "\n",
    "plt.figure(figsize=(14,5))\n",
    "\n",
    "\n",
    "plt.subplot(3,1,1)\n",
    "for t in x:\n",
    "    plt.plot(t,0,'o',markersize=12, color=cm.twilight(t))\n",
    "plt.title('twilight')\n",
    "    \n",
    "plt.subplot(3,1,2)\n",
    "for t in x:\n",
    "    plt.plot(t,0,'o',markersize=12, color=cm.Pastel1(t))\n",
    "plt.title('Pastel1')\n",
    "    \n",
    "plt.subplot(3,1,3)\n",
    "for t in x:\n",
    "    plt.plot(t,0,'o',markersize=12, color=cm.magma(t))\n",
    "plt.title('magma')\n",
    "\n",
    "plt.show()"
   ]
  },
  {
   "cell_type": "code",
   "execution_count": 9,
   "id": "9dcb9340",
   "metadata": {},
   "outputs": [
    {
     "data": {
      "text/plain": [
       "<matplotlib.image.AxesImage at 0x1e9e3e14ca0>"
      ]
     },
     "execution_count": 9,
     "metadata": {},
     "output_type": "execute_result"
    },
    {
     "data": {
      "image/png": "[encoded data removed]",
      "text/plain": [
       "<Figure size 432x288 with 1 Axes>"
      ]
     },
     "metadata": {
      "needs_background": "light"
     },
     "output_type": "display_data"
    }
   ],
   "source": [
    "a = np.arange(20).reshape(4,5)\n",
    "\n",
    "plt.imshow(a,cmap=cm.magma)"
   ]
  },
  {
   "cell_type": "code",
   "execution_count": 15,
   "id": "1b63aed8",
   "metadata": {},
   "outputs": [
    {
     "data": {
      "image/png": "[encoded data removed]",
      "text/plain": [
       "<Figure size 432x288 with 1 Axes>"
      ]
     },
     "metadata": {
      "needs_background": "light"
     },
     "output_type": "display_data"
    }
   ],
   "source": [
    "plt.figure()\n",
    "\n",
    "ax = plt.subplot(1,1,1)\n",
    "x = np.linspace(-np.pi,np.pi,1000)\n",
    "\n",
    "plt.plot(x,np.sin(x),'--',color=cm.magma(.1))\n",
    "plt.plot(x,np.cos(x),'-',color=cm.magma(.7))\n",
    "\n",
    "ax.set_facecolor(cm.twilight(.2))"
   ]
  },
  {
   "cell_type": "markdown",
   "id": "3ec8f217",
   "metadata": {},
   "source": [
    "## RGB colors"
   ]
  },
  {
   "cell_type": "code",
   "execution_count": 21,
   "id": "3db807df",
   "metadata": {},
   "outputs": [
    {
     "data": {
      "image/png": "[encoded data removed]",
      "text/plain": [
       "<Figure size 432x288 with 1 Axes>"
      ]
     },
     "metadata": {
      "needs_background": "light"
     },
     "output_type": "display_data"
    }
   ],
   "source": [
    "plt.figure()\n",
    "\n",
    "ax = plt.subplot(1,1,1)\n",
    "x = np.linspace(-np.pi,np.pi,1000)\n",
    "\n",
    "plt.plot(x,np.sin(x),'--',color=cm.magma(.1))\n",
    "plt.plot(x,np.cos(x),'-',color=cm.magma(.7))\n",
    "\n",
    "ax.set_facecolor([1.0,0.0,1.0])"
   ]
  },
  {
   "cell_type": "markdown",
   "id": "063ae010",
   "metadata": {},
   "source": [
    "RGB color model uses red, green, and blue to represent a variety of colors. This works by supply of values `(r,g,b)` that specify how much red, green, and blue are to be mixed together. Typically, a `0` will denote no color in that channel, while a `1` denotes full color."
   ]
  },
  {
   "cell_type": "code",
   "execution_count": 29,
   "id": "5a03305d",
   "metadata": {},
   "outputs": [
    {
     "data": {
      "text/plain": [
       "(-0.55, 0.55, -0.4763139720814412, 0.4763139720814412)"
      ]
     },
     "execution_count": 29,
     "metadata": {},
     "output_type": "execute_result"
    },
    {
     "data": {
      "image/png": "[encoded data removed]",
      "text/plain": [
       "<Figure size 432x288 with 1 Axes>"
      ]
     },
     "metadata": {
      "needs_background": "light"
     },
     "output_type": "display_data"
    }
   ],
   "source": [
    "ax = plt.subplot(1,1,1)\n",
    "ax.set_facecolor((0,0,0))    # set the background to black\n",
    "\n",
    "h = 1\n",
    "y = np.sqrt(3)/2 * h\n",
    "\n",
    "markersize = 20\n",
    "\n",
    "plt.plot(0,0,'o',markersize=markersize,color=(1,1,1))     # white dot\n",
    "plt.plot(0,y/2,'o',markersize=markersize,color=(1,0,0))   # red dot\n",
    "plt.plot(-h/2,-y/2,'o',markersize=markersize,color=(0,0,1)) # blue dot\n",
    "plt.plot(h/2,-y/2,'o',markersize=markersize,color=(0,1,0)) # green dot\n",
    "plt.plot(0, -y/2, 'o',markersize=markersize,color=(0,1,1)) # cyan dot\n",
    "plt.plot(-h/4, 0, 'o',markersize=markersize,color=(1,0,1)) # magenta dot\n",
    "plt.plot(h/4, 0, 'o',markersize=markersize,color=(1,1,0))  # yellow\n",
    "\n",
    "\n",
    "plt.axis('equal')"
   ]
  },
  {
   "cell_type": "markdown",
   "id": "00a2398a",
   "metadata": {},
   "source": [
    "# Tartan project"
   ]
  },
  {
   "cell_type": "markdown",
   "id": "f836ba27",
   "metadata": {},
   "source": [
    "Each student has been assigned a Tartan pattern to reproduce. They are also given a key describing how to reproduce that pattern.\n",
    "\n",
    "**Ex:** \n",
    "\n",
    "B: [44, 88, 120]\n",
    "\n",
    "K: [38, 10, 20]\n",
    "\n",
    "G: [130,200,70]\n",
    "\n",
    "These describe three different RGB color values. However, these integer values are normalized between `0-255` rather than floats normalized `0-1`."
   ]
  },
  {
   "cell_type": "code",
   "execution_count": 43,
   "id": "364b5ae3",
   "metadata": {},
   "outputs": [],
   "source": [
    "B = np.array([44, 88, 120])/255\n",
    "K = np.array([38, 10, 20])/255\n",
    "G = np.array([130, 200, 70])/255\n",
    "\n",
    "\n",
    "N = 40\n",
    "\n",
    "tartan_vert = np.zeros((N,N,3))\n",
    "tartan_vert[:,:10,:] = B\n",
    "tartan_vert[:,10:25,:] = K\n",
    "tartan_vert[:,25:32,:] = G\n",
    "tartan_vert[:,32:,:] = B\n",
    "\n",
    "tartan_hori = np.zeros((N,N,3))\n",
    "tartan_hori[:10,:,:] = B\n",
    "tartan_hori[10:25,:,:] = K\n",
    "tartan_hori[25:32,:,:] = G\n",
    "tartan_hori[32:,:,:] = B"
   ]
  },
  {
   "cell_type": "code",
   "execution_count": 44,
   "id": "c424b1a4",
   "metadata": {},
   "outputs": [
    {
     "data": {
      "text/plain": [
       "<matplotlib.image.AxesImage at 0x1e9e53053d0>"
      ]
     },
     "execution_count": 44,
     "metadata": {},
     "output_type": "execute_result"
    },
    {
     "data": {
      "image/png": "[encoded data removed]",
      "text/plain": [
       "<Figure size 432x288 with 2 Axes>"
      ]
     },
     "metadata": {
      "needs_background": "light"
     },
     "output_type": "display_data"
    }
   ],
   "source": [
    "plt.subplot(1,2,1)\n",
    "plt.imshow(tartan_vert)\n",
    "\n",
    "plt.subplot(1,2,2)\n",
    "plt.imshow(tartan_hori)"
   ]
  },
  {
   "cell_type": "markdown",
   "id": "6d53a241",
   "metadata": {},
   "source": [
    "The above pattern is generated by \n",
    "\n",
    "B10 K15 G7 B8"
   ]
  },
  {
   "cell_type": "markdown",
   "id": "3a27eefd",
   "metadata": {},
   "source": [
    "Once we've generated the vertical stripes, we can take the **transpose** of our array to get the horizontal stripes."
   ]
  },
  {
   "cell_type": "code",
   "execution_count": 46,
   "id": "3ce07fc0",
   "metadata": {},
   "outputs": [
    {
     "data": {
      "text/plain": [
       "array([0. , 0.5, 1. , 1.5, 2. , 2.5, 3. , 3.5, 4. , 4.5])"
      ]
     },
     "execution_count": 46,
     "metadata": {},
     "output_type": "execute_result"
    }
   ],
   "source": [
    "np.arange(0,5,.5)"
   ]
  },
  {
   "cell_type": "code",
   "execution_count": 48,
   "id": "48391eda",
   "metadata": {},
   "outputs": [
    {
     "data": {
      "text/plain": [
       "array([0. , 0.5, 1. , 1.5, 2. , 2.5, 3. , 3.5, 4. , 4.5])"
      ]
     },
     "execution_count": 48,
     "metadata": {},
     "output_type": "execute_result"
    }
   ],
   "source": [
    "np.linspace(0,4.5,10)"
   ]
  }
 ],
 "metadata": {
  "kernelspec": {
   "display_name": "Python 3 (ipykernel)",
   "language": "python",
   "name": "python3"
  },
  "language_info": {
   "codemirror_mode": {
    "name": "ipython",
    "version": 3
   },
   "file_extension": ".py",
   "mimetype": "text/x-python",
   "name": "python",
   "nbconvert_exporter": "python",
   "pygments_lexer": "ipython3",
   "version": "3.9.7"
  }
 },
 "nbformat": 4,
 "nbformat_minor": 5
}
