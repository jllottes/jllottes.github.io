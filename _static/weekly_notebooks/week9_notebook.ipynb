{
 "cells": [
  {
   "cell_type": "markdown",
   "id": "6cefd057",
   "metadata": {},
   "source": [
    "# April 4, 2022"
   ]
  },
  {
   "cell_type": "markdown",
   "id": "11753fae",
   "metadata": {},
   "source": [
    "## Objects in Python:"
   ]
  },
  {
   "cell_type": "markdown",
   "id": "555926de",
   "metadata": {},
   "source": [
    "In Python, everything as an **object**. These objects typically have attributes to them."
   ]
  },
  {
   "cell_type": "code",
   "execution_count": 1,
   "id": "16e9fe94",
   "metadata": {},
   "outputs": [],
   "source": [
    "mylist = [1,2,3]"
   ]
  },
  {
   "cell_type": "markdown",
   "id": "725b51e4",
   "metadata": {},
   "source": [
    "We can look at the attributes of an object using the `dir` command:"
   ]
  },
  {
   "cell_type": "code",
   "execution_count": 2,
   "id": "d89caedd",
   "metadata": {},
   "outputs": [
    {
     "data": {
      "text/plain": [
       "['__add__',\n",
       " '__class__',\n",
       " '__class_getitem__',\n",
       " '__contains__',\n",
       " '__delattr__',\n",
       " '__delitem__',\n",
       " '__dir__',\n",
       " '__doc__',\n",
       " '__eq__',\n",
       " '__format__',\n",
       " '__ge__',\n",
       " '__getattribute__',\n",
       " '__getitem__',\n",
       " '__gt__',\n",
       " '__hash__',\n",
       " '__iadd__',\n",
       " '__imul__',\n",
       " '__init__',\n",
       " '__init_subclass__',\n",
       " '__iter__',\n",
       " '__le__',\n",
       " '__len__',\n",
       " '__lt__',\n",
       " '__mul__',\n",
       " '__ne__',\n",
       " '__new__',\n",
       " '__reduce__',\n",
       " '__reduce_ex__',\n",
       " '__repr__',\n",
       " '__reversed__',\n",
       " '__rmul__',\n",
       " '__setattr__',\n",
       " '__setitem__',\n",
       " '__sizeof__',\n",
       " '__str__',\n",
       " '__subclasshook__',\n",
       " 'append',\n",
       " 'clear',\n",
       " 'copy',\n",
       " 'count',\n",
       " 'extend',\n",
       " 'index',\n",
       " 'insert',\n",
       " 'pop',\n",
       " 'remove',\n",
       " 'reverse',\n",
       " 'sort']"
      ]
     },
     "execution_count": 2,
     "metadata": {},
     "output_type": "execute_result"
    }
   ],
   "source": [
    "dir(mylist)"
   ]
  },
  {
   "cell_type": "markdown",
   "id": "6a3bf79a",
   "metadata": {},
   "source": [
    "We access attributes of an object using `<object>.<attribute>`"
   ]
  },
  {
   "cell_type": "code",
   "execution_count": 3,
   "id": "00dd8772",
   "metadata": {},
   "outputs": [],
   "source": [
    "import numpy as np"
   ]
  },
  {
   "cell_type": "code",
   "execution_count": 4,
   "id": "ba7651d2",
   "metadata": {},
   "outputs": [],
   "source": [
    "a = np.arange(5)"
   ]
  },
  {
   "cell_type": "code",
   "execution_count": 5,
   "id": "e576145e",
   "metadata": {},
   "outputs": [
    {
     "data": {
      "text/plain": [
       "['T',\n",
       " '__abs__',\n",
       " '__add__',\n",
       " '__and__',\n",
       " '__array__',\n",
       " '__array_finalize__',\n",
       " '__array_function__',\n",
       " '__array_interface__',\n",
       " '__array_prepare__',\n",
       " '__array_priority__',\n",
       " '__array_struct__',\n",
       " '__array_ufunc__',\n",
       " '__array_wrap__',\n",
       " '__bool__',\n",
       " '__class__',\n",
       " '__complex__',\n",
       " '__contains__',\n",
       " '__copy__',\n",
       " '__deepcopy__',\n",
       " '__delattr__',\n",
       " '__delitem__',\n",
       " '__dir__',\n",
       " '__divmod__',\n",
       " '__doc__',\n",
       " '__eq__',\n",
       " '__float__',\n",
       " '__floordiv__',\n",
       " '__format__',\n",
       " '__ge__',\n",
       " '__getattribute__',\n",
       " '__getitem__',\n",
       " '__gt__',\n",
       " '__hash__',\n",
       " '__iadd__',\n",
       " '__iand__',\n",
       " '__ifloordiv__',\n",
       " '__ilshift__',\n",
       " '__imatmul__',\n",
       " '__imod__',\n",
       " '__imul__',\n",
       " '__index__',\n",
       " '__init__',\n",
       " '__init_subclass__',\n",
       " '__int__',\n",
       " '__invert__',\n",
       " '__ior__',\n",
       " '__ipow__',\n",
       " '__irshift__',\n",
       " '__isub__',\n",
       " '__iter__',\n",
       " '__itruediv__',\n",
       " '__ixor__',\n",
       " '__le__',\n",
       " '__len__',\n",
       " '__lshift__',\n",
       " '__lt__',\n",
       " '__matmul__',\n",
       " '__mod__',\n",
       " '__mul__',\n",
       " '__ne__',\n",
       " '__neg__',\n",
       " '__new__',\n",
       " '__or__',\n",
       " '__pos__',\n",
       " '__pow__',\n",
       " '__radd__',\n",
       " '__rand__',\n",
       " '__rdivmod__',\n",
       " '__reduce__',\n",
       " '__reduce_ex__',\n",
       " '__repr__',\n",
       " '__rfloordiv__',\n",
       " '__rlshift__',\n",
       " '__rmatmul__',\n",
       " '__rmod__',\n",
       " '__rmul__',\n",
       " '__ror__',\n",
       " '__rpow__',\n",
       " '__rrshift__',\n",
       " '__rshift__',\n",
       " '__rsub__',\n",
       " '__rtruediv__',\n",
       " '__rxor__',\n",
       " '__setattr__',\n",
       " '__setitem__',\n",
       " '__setstate__',\n",
       " '__sizeof__',\n",
       " '__str__',\n",
       " '__sub__',\n",
       " '__subclasshook__',\n",
       " '__truediv__',\n",
       " '__xor__',\n",
       " 'all',\n",
       " 'any',\n",
       " 'argmax',\n",
       " 'argmin',\n",
       " 'argpartition',\n",
       " 'argsort',\n",
       " 'astype',\n",
       " 'base',\n",
       " 'byteswap',\n",
       " 'choose',\n",
       " 'clip',\n",
       " 'compress',\n",
       " 'conj',\n",
       " 'conjugate',\n",
       " 'copy',\n",
       " 'ctypes',\n",
       " 'cumprod',\n",
       " 'cumsum',\n",
       " 'data',\n",
       " 'diagonal',\n",
       " 'dot',\n",
       " 'dtype',\n",
       " 'dump',\n",
       " 'dumps',\n",
       " 'fill',\n",
       " 'flags',\n",
       " 'flat',\n",
       " 'flatten',\n",
       " 'getfield',\n",
       " 'imag',\n",
       " 'item',\n",
       " 'itemset',\n",
       " 'itemsize',\n",
       " 'max',\n",
       " 'mean',\n",
       " 'min',\n",
       " 'nbytes',\n",
       " 'ndim',\n",
       " 'newbyteorder',\n",
       " 'nonzero',\n",
       " 'partition',\n",
       " 'prod',\n",
       " 'ptp',\n",
       " 'put',\n",
       " 'ravel',\n",
       " 'real',\n",
       " 'repeat',\n",
       " 'reshape',\n",
       " 'resize',\n",
       " 'round',\n",
       " 'searchsorted',\n",
       " 'setfield',\n",
       " 'setflags',\n",
       " 'shape',\n",
       " 'size',\n",
       " 'sort',\n",
       " 'squeeze',\n",
       " 'std',\n",
       " 'strides',\n",
       " 'sum',\n",
       " 'swapaxes',\n",
       " 'take',\n",
       " 'tobytes',\n",
       " 'tofile',\n",
       " 'tolist',\n",
       " 'tostring',\n",
       " 'trace',\n",
       " 'transpose',\n",
       " 'var',\n",
       " 'view']"
      ]
     },
     "execution_count": 5,
     "metadata": {},
     "output_type": "execute_result"
    }
   ],
   "source": [
    "dir(a)"
   ]
  },
  {
   "cell_type": "markdown",
   "id": "a92c1312",
   "metadata": {},
   "source": [
    "As an example, every numpy array has an attribute `shape` that stores the shape of the array:"
   ]
  },
  {
   "cell_type": "code",
   "execution_count": 6,
   "id": "8671d925",
   "metadata": {},
   "outputs": [
    {
     "data": {
      "text/plain": [
       "(5,)"
      ]
     },
     "execution_count": 6,
     "metadata": {},
     "output_type": "execute_result"
    }
   ],
   "source": [
    "a.shape"
   ]
  },
  {
   "cell_type": "markdown",
   "id": "3ded81f5",
   "metadata": {},
   "source": [
    "A `method` is an attribute of an object that is a function:"
   ]
  },
  {
   "cell_type": "code",
   "execution_count": 7,
   "id": "cfc4c846",
   "metadata": {},
   "outputs": [
    {
     "data": {
      "text/plain": [
       "[1, 2, 3]"
      ]
     },
     "execution_count": 7,
     "metadata": {},
     "output_type": "execute_result"
    }
   ],
   "source": [
    "mylist"
   ]
  },
  {
   "cell_type": "code",
   "execution_count": 8,
   "id": "71669928",
   "metadata": {},
   "outputs": [],
   "source": [
    "mylist.append(5)"
   ]
  },
  {
   "cell_type": "code",
   "execution_count": 9,
   "id": "0614fe95",
   "metadata": {},
   "outputs": [
    {
     "data": {
      "text/plain": [
       "[1, 2, 3, 5]"
      ]
     },
     "execution_count": 9,
     "metadata": {},
     "output_type": "execute_result"
    }
   ],
   "source": [
    "mylist"
   ]
  },
  {
   "cell_type": "markdown",
   "id": "086f32db",
   "metadata": {},
   "source": [
    "We've seen similar behavior with modules:"
   ]
  },
  {
   "cell_type": "code",
   "execution_count": 10,
   "id": "9037a446",
   "metadata": {},
   "outputs": [],
   "source": [
    "import math"
   ]
  },
  {
   "cell_type": "code",
   "execution_count": 11,
   "id": "f1c96416",
   "metadata": {
    "scrolled": true
   },
   "outputs": [
    {
     "data": {
      "text/plain": [
       "['__doc__',\n",
       " '__loader__',\n",
       " '__name__',\n",
       " '__package__',\n",
       " '__spec__',\n",
       " 'acos',\n",
       " 'acosh',\n",
       " 'asin',\n",
       " 'asinh',\n",
       " 'atan',\n",
       " 'atan2',\n",
       " 'atanh',\n",
       " 'ceil',\n",
       " 'comb',\n",
       " 'copysign',\n",
       " 'cos',\n",
       " 'cosh',\n",
       " 'degrees',\n",
       " 'dist',\n",
       " 'e',\n",
       " 'erf',\n",
       " 'erfc',\n",
       " 'exp',\n",
       " 'expm1',\n",
       " 'fabs',\n",
       " 'factorial',\n",
       " 'floor',\n",
       " 'fmod',\n",
       " 'frexp',\n",
       " 'fsum',\n",
       " 'gamma',\n",
       " 'gcd',\n",
       " 'hypot',\n",
       " 'inf',\n",
       " 'isclose',\n",
       " 'isfinite',\n",
       " 'isinf',\n",
       " 'isnan',\n",
       " 'isqrt',\n",
       " 'lcm',\n",
       " 'ldexp',\n",
       " 'lgamma',\n",
       " 'log',\n",
       " 'log10',\n",
       " 'log1p',\n",
       " 'log2',\n",
       " 'modf',\n",
       " 'nan',\n",
       " 'nextafter',\n",
       " 'perm',\n",
       " 'pi',\n",
       " 'pow',\n",
       " 'prod',\n",
       " 'radians',\n",
       " 'remainder',\n",
       " 'sin',\n",
       " 'sinh',\n",
       " 'sqrt',\n",
       " 'tan',\n",
       " 'tanh',\n",
       " 'tau',\n",
       " 'trunc',\n",
       " 'ulp']"
      ]
     },
     "execution_count": 11,
     "metadata": {},
     "output_type": "execute_result"
    }
   ],
   "source": [
    "dir(math)"
   ]
  },
  {
   "cell_type": "markdown",
   "id": "a61cf3cd",
   "metadata": {},
   "source": [
    "Any attribute or method whose name begins and ends with a double underscore is not intended to be used directly."
   ]
  },
  {
   "cell_type": "code",
   "execution_count": 12,
   "id": "d36e9b13",
   "metadata": {},
   "outputs": [
    {
     "data": {
      "text/plain": [
       "['__abs__',\n",
       " '__add__',\n",
       " '__and__',\n",
       " '__bool__',\n",
       " '__ceil__',\n",
       " '__class__',\n",
       " '__delattr__',\n",
       " '__dir__',\n",
       " '__divmod__',\n",
       " '__doc__',\n",
       " '__eq__',\n",
       " '__float__',\n",
       " '__floor__',\n",
       " '__floordiv__',\n",
       " '__format__',\n",
       " '__ge__',\n",
       " '__getattribute__',\n",
       " '__getnewargs__',\n",
       " '__gt__',\n",
       " '__hash__',\n",
       " '__index__',\n",
       " '__init__',\n",
       " '__init_subclass__',\n",
       " '__int__',\n",
       " '__invert__',\n",
       " '__le__',\n",
       " '__lshift__',\n",
       " '__lt__',\n",
       " '__mod__',\n",
       " '__mul__',\n",
       " '__ne__',\n",
       " '__neg__',\n",
       " '__new__',\n",
       " '__or__',\n",
       " '__pos__',\n",
       " '__pow__',\n",
       " '__radd__',\n",
       " '__rand__',\n",
       " '__rdivmod__',\n",
       " '__reduce__',\n",
       " '__reduce_ex__',\n",
       " '__repr__',\n",
       " '__rfloordiv__',\n",
       " '__rlshift__',\n",
       " '__rmod__',\n",
       " '__rmul__',\n",
       " '__ror__',\n",
       " '__round__',\n",
       " '__rpow__',\n",
       " '__rrshift__',\n",
       " '__rshift__',\n",
       " '__rsub__',\n",
       " '__rtruediv__',\n",
       " '__rxor__',\n",
       " '__setattr__',\n",
       " '__sizeof__',\n",
       " '__str__',\n",
       " '__sub__',\n",
       " '__subclasshook__',\n",
       " '__truediv__',\n",
       " '__trunc__',\n",
       " '__xor__',\n",
       " 'as_integer_ratio',\n",
       " 'bit_length',\n",
       " 'conjugate',\n",
       " 'denominator',\n",
       " 'from_bytes',\n",
       " 'imag',\n",
       " 'numerator',\n",
       " 'real',\n",
       " 'to_bytes']"
      ]
     },
     "execution_count": 12,
     "metadata": {},
     "output_type": "execute_result"
    }
   ],
   "source": [
    "dir(2)"
   ]
  },
  {
   "cell_type": "code",
   "execution_count": 14,
   "id": "b2baf9c1",
   "metadata": {},
   "outputs": [
    {
     "data": {
      "text/plain": [
       "2"
      ]
     },
     "execution_count": 14,
     "metadata": {},
     "output_type": "execute_result"
    }
   ],
   "source": [
    "(2).bit_length()"
   ]
  },
  {
   "cell_type": "markdown",
   "id": "bd32dc62",
   "metadata": {},
   "source": [
    "The bit-length is the number of digits necessary to express the integer in base 2."
   ]
  },
  {
   "cell_type": "code",
   "execution_count": 15,
   "id": "a3f5cc57",
   "metadata": {},
   "outputs": [
    {
     "data": {
      "text/plain": [
       "11"
      ]
     },
     "execution_count": 15,
     "metadata": {},
     "output_type": "execute_result"
    }
   ],
   "source": [
    "(2**10).bit_length()"
   ]
  },
  {
   "cell_type": "code",
   "execution_count": 16,
   "id": "8a469456",
   "metadata": {},
   "outputs": [
    {
     "data": {
      "text/plain": [
       "3"
      ]
     },
     "execution_count": 16,
     "metadata": {},
     "output_type": "execute_result"
    }
   ],
   "source": [
    "(5).bit_length()"
   ]
  },
  {
   "cell_type": "code",
   "execution_count": 17,
   "id": "bf7849c6",
   "metadata": {},
   "outputs": [
    {
     "data": {
      "text/plain": [
       "[1, 2, 3, 5]"
      ]
     },
     "execution_count": 17,
     "metadata": {},
     "output_type": "execute_result"
    }
   ],
   "source": [
    "mylist"
   ]
  },
  {
   "cell_type": "code",
   "execution_count": 20,
   "id": "deead656",
   "metadata": {},
   "outputs": [
    {
     "name": "stdout",
     "output_type": "stream",
     "text": [
      "3\n",
      "5\n"
     ]
    }
   ],
   "source": [
    "print(mylist.index(5))\n",
    "print(mylist[mylist.index(5)])"
   ]
  },
  {
   "cell_type": "code",
   "execution_count": 21,
   "id": "05c1f0f7",
   "metadata": {},
   "outputs": [
    {
     "ename": "ValueError",
     "evalue": "7 is not in list",
     "output_type": "error",
     "traceback": [
      "\u001b[1;31m---------------------------------------------------------------------------\u001b[0m",
      "\u001b[1;31mValueError\u001b[0m                                Traceback (most recent call last)",
      "\u001b[1;32m~\\AppData\\Local\\Temp/ipykernel_17328/3609188185.py\u001b[0m in \u001b[0;36m<module>\u001b[1;34m\u001b[0m\n\u001b[1;32m----> 1\u001b[1;33m \u001b[0mprint\u001b[0m\u001b[1;33m(\u001b[0m\u001b[0mmylist\u001b[0m\u001b[1;33m.\u001b[0m\u001b[0mindex\u001b[0m\u001b[1;33m(\u001b[0m\u001b[1;36m7\u001b[0m\u001b[1;33m)\u001b[0m\u001b[1;33m)\u001b[0m\u001b[1;33m\u001b[0m\u001b[1;33m\u001b[0m\u001b[0m\n\u001b[0m",
      "\u001b[1;31mValueError\u001b[0m: 7 is not in list"
     ]
    }
   ],
   "source": [
    "print(mylist.index(7))"
   ]
  },
  {
   "cell_type": "code",
   "execution_count": 22,
   "id": "ab7579d3",
   "metadata": {
    "scrolled": true
   },
   "outputs": [
    {
     "data": {
      "text/plain": [
       "['__abs__',\n",
       " '__add__',\n",
       " '__and__',\n",
       " '__bool__',\n",
       " '__ceil__',\n",
       " '__class__',\n",
       " '__delattr__',\n",
       " '__dir__',\n",
       " '__divmod__',\n",
       " '__doc__',\n",
       " '__eq__',\n",
       " '__float__',\n",
       " '__floor__',\n",
       " '__floordiv__',\n",
       " '__format__',\n",
       " '__ge__',\n",
       " '__getattribute__',\n",
       " '__getnewargs__',\n",
       " '__gt__',\n",
       " '__hash__',\n",
       " '__index__',\n",
       " '__init__',\n",
       " '__init_subclass__',\n",
       " '__int__',\n",
       " '__invert__',\n",
       " '__le__',\n",
       " '__lshift__',\n",
       " '__lt__',\n",
       " '__mod__',\n",
       " '__mul__',\n",
       " '__ne__',\n",
       " '__neg__',\n",
       " '__new__',\n",
       " '__or__',\n",
       " '__pos__',\n",
       " '__pow__',\n",
       " '__radd__',\n",
       " '__rand__',\n",
       " '__rdivmod__',\n",
       " '__reduce__',\n",
       " '__reduce_ex__',\n",
       " '__repr__',\n",
       " '__rfloordiv__',\n",
       " '__rlshift__',\n",
       " '__rmod__',\n",
       " '__rmul__',\n",
       " '__ror__',\n",
       " '__round__',\n",
       " '__rpow__',\n",
       " '__rrshift__',\n",
       " '__rshift__',\n",
       " '__rsub__',\n",
       " '__rtruediv__',\n",
       " '__rxor__',\n",
       " '__setattr__',\n",
       " '__sizeof__',\n",
       " '__str__',\n",
       " '__sub__',\n",
       " '__subclasshook__',\n",
       " '__truediv__',\n",
       " '__trunc__',\n",
       " '__xor__',\n",
       " 'as_integer_ratio',\n",
       " 'bit_length',\n",
       " 'conjugate',\n",
       " 'denominator',\n",
       " 'from_bytes',\n",
       " 'imag',\n",
       " 'numerator',\n",
       " 'real',\n",
       " 'to_bytes']"
      ]
     },
     "execution_count": 22,
     "metadata": {},
     "output_type": "execute_result"
    }
   ],
   "source": [
    "dir(2)"
   ]
  },
  {
   "cell_type": "code",
   "execution_count": 24,
   "id": "f454f3ef",
   "metadata": {},
   "outputs": [
    {
     "data": {
      "text/plain": [
       "2"
      ]
     },
     "execution_count": 24,
     "metadata": {},
     "output_type": "execute_result"
    }
   ],
   "source": [
    "(-2).__abs__()"
   ]
  },
  {
   "cell_type": "code",
   "execution_count": 25,
   "id": "f64a4a12",
   "metadata": {},
   "outputs": [
    {
     "data": {
      "text/plain": [
       "7"
      ]
     },
     "execution_count": 25,
     "metadata": {},
     "output_type": "execute_result"
    }
   ],
   "source": [
    "(2).__add__(5)"
   ]
  },
  {
   "cell_type": "code",
   "execution_count": 26,
   "id": "093db569",
   "metadata": {},
   "outputs": [
    {
     "data": {
      "text/plain": [
       "7"
      ]
     },
     "execution_count": 26,
     "metadata": {},
     "output_type": "execute_result"
    }
   ],
   "source": [
    "2 + 5"
   ]
  },
  {
   "cell_type": "code",
   "execution_count": 30,
   "id": "446973ac",
   "metadata": {},
   "outputs": [],
   "source": [
    "def f(n,m=5,k=7,j=2):\n",
    "    return n + m"
   ]
  },
  {
   "cell_type": "code",
   "execution_count": 28,
   "id": "0dbfe4f2",
   "metadata": {},
   "outputs": [
    {
     "data": {
      "text/plain": [
       "['__annotations__',\n",
       " '__call__',\n",
       " '__class__',\n",
       " '__closure__',\n",
       " '__code__',\n",
       " '__defaults__',\n",
       " '__delattr__',\n",
       " '__dict__',\n",
       " '__dir__',\n",
       " '__doc__',\n",
       " '__eq__',\n",
       " '__format__',\n",
       " '__ge__',\n",
       " '__get__',\n",
       " '__getattribute__',\n",
       " '__globals__',\n",
       " '__gt__',\n",
       " '__hash__',\n",
       " '__init__',\n",
       " '__init_subclass__',\n",
       " '__kwdefaults__',\n",
       " '__le__',\n",
       " '__lt__',\n",
       " '__module__',\n",
       " '__name__',\n",
       " '__ne__',\n",
       " '__new__',\n",
       " '__qualname__',\n",
       " '__reduce__',\n",
       " '__reduce_ex__',\n",
       " '__repr__',\n",
       " '__setattr__',\n",
       " '__sizeof__',\n",
       " '__str__',\n",
       " '__subclasshook__']"
      ]
     },
     "execution_count": 28,
     "metadata": {},
     "output_type": "execute_result"
    }
   ],
   "source": [
    "dir(f)"
   ]
  },
  {
   "cell_type": "code",
   "execution_count": 31,
   "id": "d8192528",
   "metadata": {},
   "outputs": [
    {
     "data": {
      "text/plain": [
       "(5, 7, 2)"
      ]
     },
     "execution_count": 31,
     "metadata": {},
     "output_type": "execute_result"
    }
   ],
   "source": [
    "f.__defaults__"
   ]
  },
  {
   "cell_type": "code",
   "execution_count": 32,
   "id": "8fd2928a",
   "metadata": {},
   "outputs": [
    {
     "data": {
      "text/plain": [
       "'f'"
      ]
     },
     "execution_count": 32,
     "metadata": {},
     "output_type": "execute_result"
    }
   ],
   "source": [
    "f.__name__"
   ]
  },
  {
   "cell_type": "markdown",
   "id": "bb3732d0",
   "metadata": {},
   "source": [
    "## Working with files in Python"
   ]
  },
  {
   "cell_type": "markdown",
   "id": "60328ba3",
   "metadata": {},
   "source": [
    "The `open()` function opens a file. The argument `'w'` opens the file for writing. The argument `'r'` opens the file for reading. "
   ]
  },
  {
   "cell_type": "code",
   "execution_count": 36,
   "id": "7899f551",
   "metadata": {},
   "outputs": [],
   "source": [
    "myfile = open('test_file.txt','w')"
   ]
  },
  {
   "cell_type": "code",
   "execution_count": 34,
   "id": "1d67d715",
   "metadata": {
    "scrolled": true
   },
   "outputs": [
    {
     "data": {
      "text/plain": [
       "['_CHUNK_SIZE',\n",
       " '__class__',\n",
       " '__del__',\n",
       " '__delattr__',\n",
       " '__dict__',\n",
       " '__dir__',\n",
       " '__doc__',\n",
       " '__enter__',\n",
       " '__eq__',\n",
       " '__exit__',\n",
       " '__format__',\n",
       " '__ge__',\n",
       " '__getattribute__',\n",
       " '__gt__',\n",
       " '__hash__',\n",
       " '__init__',\n",
       " '__init_subclass__',\n",
       " '__iter__',\n",
       " '__le__',\n",
       " '__lt__',\n",
       " '__ne__',\n",
       " '__new__',\n",
       " '__next__',\n",
       " '__reduce__',\n",
       " '__reduce_ex__',\n",
       " '__repr__',\n",
       " '__setattr__',\n",
       " '__sizeof__',\n",
       " '__str__',\n",
       " '__subclasshook__',\n",
       " '_checkClosed',\n",
       " '_checkReadable',\n",
       " '_checkSeekable',\n",
       " '_checkWritable',\n",
       " '_finalizing',\n",
       " 'buffer',\n",
       " 'close',\n",
       " 'closed',\n",
       " 'detach',\n",
       " 'encoding',\n",
       " 'errors',\n",
       " 'fileno',\n",
       " 'flush',\n",
       " 'isatty',\n",
       " 'line_buffering',\n",
       " 'mode',\n",
       " 'name',\n",
       " 'newlines',\n",
       " 'read',\n",
       " 'readable',\n",
       " 'readline',\n",
       " 'readlines',\n",
       " 'reconfigure',\n",
       " 'seek',\n",
       " 'seekable',\n",
       " 'tell',\n",
       " 'truncate',\n",
       " 'writable',\n",
       " 'write',\n",
       " 'write_through',\n",
       " 'writelines']"
      ]
     },
     "execution_count": 34,
     "metadata": {},
     "output_type": "execute_result"
    }
   ],
   "source": [
    "dir(myfile)"
   ]
  },
  {
   "cell_type": "code",
   "execution_count": 37,
   "id": "0c00574e",
   "metadata": {},
   "outputs": [],
   "source": [
    "s = 'Hello world'\n",
    "myfile.write(s)\n",
    "myfile.close()"
   ]
  },
  {
   "cell_type": "markdown",
   "id": "cfd5bfd2",
   "metadata": {},
   "source": [
    "In Python, the string `'\\n'` represents a new line."
   ]
  },
  {
   "cell_type": "markdown",
   "id": "8104e97e",
   "metadata": {},
   "source": [
    "We should always make sure to close a file after reading/writing. We make sure that this always happens using the syntax:\n",
    "\n",
    "`with open(<file>) as myfile:\n",
    "    <do something with myfile>\n",
    "`"
   ]
  },
  {
   "cell_type": "code",
   "execution_count": 38,
   "id": "5c99ccb9",
   "metadata": {},
   "outputs": [],
   "source": [
    "with open('test_file.txt','w') as myfile:\n",
    "    s = 'Hello world.\\nThis is a test file.'\n",
    "    myfile.write(s)"
   ]
  },
  {
   "cell_type": "markdown",
   "id": "aae69d46",
   "metadata": {},
   "source": [
    "We can similarly read from an existing file:"
   ]
  },
  {
   "cell_type": "code",
   "execution_count": 39,
   "id": "1c7c7d6b",
   "metadata": {},
   "outputs": [],
   "source": [
    "with open('test_file.txt','r') as myfile:\n",
    "    s = myfile.read()"
   ]
  },
  {
   "cell_type": "code",
   "execution_count": 41,
   "id": "9ed760e6",
   "metadata": {
    "scrolled": true
   },
   "outputs": [
    {
     "name": "stdout",
     "output_type": "stream",
     "text": [
      "Hello world.\n",
      "This is a test file.\n"
     ]
    }
   ],
   "source": [
    "print(s)"
   ]
  },
  {
   "cell_type": "markdown",
   "id": "de098b88",
   "metadata": {},
   "source": [
    "The `.read()` method will read every line in a file. We can supply optional arguments if we want to only read part of a file:"
   ]
  },
  {
   "cell_type": "code",
   "execution_count": 42,
   "id": "bd800753",
   "metadata": {},
   "outputs": [],
   "source": [
    "myfile = open('test_file.txt','r')"
   ]
  },
  {
   "cell_type": "code",
   "execution_count": 50,
   "id": "4c60c06f",
   "metadata": {},
   "outputs": [
    {
     "data": {
      "text/plain": [
       "''"
      ]
     },
     "execution_count": 50,
     "metadata": {},
     "output_type": "execute_result"
    }
   ],
   "source": [
    "myfile.read(5)"
   ]
  },
  {
   "cell_type": "markdown",
   "id": "45515972",
   "metadata": {},
   "source": [
    "When we supply an integer argument with `.read()`, then Python reads in that many characters and updates the \"cursor position.\" We can specify the \"cursor position\" using the `.seek` method:"
   ]
  },
  {
   "cell_type": "code",
   "execution_count": 55,
   "id": "43ee480d",
   "metadata": {},
   "outputs": [
    {
     "data": {
      "text/plain": [
       "'lo wo'"
      ]
     },
     "execution_count": 55,
     "metadata": {},
     "output_type": "execute_result"
    }
   ],
   "source": [
    "myfile.seek(3)\n",
    "myfile.read(5)"
   ]
  },
  {
   "cell_type": "markdown",
   "id": "07b5e447",
   "metadata": {},
   "source": [
    "The `.readlines()` method will return a list of lines that appear in the file."
   ]
  },
  {
   "cell_type": "code",
   "execution_count": 57,
   "id": "caf889dc",
   "metadata": {},
   "outputs": [
    {
     "data": {
      "text/plain": [
       "['Hello world.\\n', 'This is a test file.']"
      ]
     },
     "execution_count": 57,
     "metadata": {},
     "output_type": "execute_result"
    }
   ],
   "source": [
    "myfile.seek(0)\n",
    "\n",
    "myfile.readlines()"
   ]
  },
  {
   "cell_type": "markdown",
   "id": "600d66ba",
   "metadata": {},
   "source": [
    "The `.readline()` can be used to read one line at a time."
   ]
  },
  {
   "cell_type": "markdown",
   "id": "09e8c8dc",
   "metadata": {},
   "source": [
    "## Requests"
   ]
  },
  {
   "cell_type": "markdown",
   "id": "4e5b7466",
   "metadata": {},
   "source": [
    "The `requests` module can be used to communicate with webpages:"
   ]
  },
  {
   "cell_type": "code",
   "execution_count": 58,
   "id": "6ab9feb5",
   "metadata": {},
   "outputs": [],
   "source": [
    "import requests"
   ]
  },
  {
   "cell_type": "code",
   "execution_count": 59,
   "id": "31028357",
   "metadata": {},
   "outputs": [],
   "source": [
    "coursepage = requests.get('https://jllottes.github.io')"
   ]
  },
  {
   "cell_type": "code",
   "execution_count": 61,
   "id": "9517e690",
   "metadata": {
    "scrolled": true
   },
   "outputs": [
    {
     "data": {
      "text/plain": [
       "['__attrs__',\n",
       " '__bool__',\n",
       " '__class__',\n",
       " '__delattr__',\n",
       " '__dict__',\n",
       " '__dir__',\n",
       " '__doc__',\n",
       " '__enter__',\n",
       " '__eq__',\n",
       " '__exit__',\n",
       " '__format__',\n",
       " '__ge__',\n",
       " '__getattribute__',\n",
       " '__getstate__',\n",
       " '__gt__',\n",
       " '__hash__',\n",
       " '__init__',\n",
       " '__init_subclass__',\n",
       " '__iter__',\n",
       " '__le__',\n",
       " '__lt__',\n",
       " '__module__',\n",
       " '__ne__',\n",
       " '__new__',\n",
       " '__nonzero__',\n",
       " '__reduce__',\n",
       " '__reduce_ex__',\n",
       " '__repr__',\n",
       " '__setattr__',\n",
       " '__setstate__',\n",
       " '__sizeof__',\n",
       " '__str__',\n",
       " '__subclasshook__',\n",
       " '__weakref__',\n",
       " '_content',\n",
       " '_content_consumed',\n",
       " '_next',\n",
       " 'apparent_encoding',\n",
       " 'close',\n",
       " 'connection',\n",
       " 'content',\n",
       " 'cookies',\n",
       " 'elapsed',\n",
       " 'encoding',\n",
       " 'headers',\n",
       " 'history',\n",
       " 'is_permanent_redirect',\n",
       " 'is_redirect',\n",
       " 'iter_content',\n",
       " 'iter_lines',\n",
       " 'json',\n",
       " 'links',\n",
       " 'next',\n",
       " 'ok',\n",
       " 'raise_for_status',\n",
       " 'raw',\n",
       " 'reason',\n",
       " 'request',\n",
       " 'status_code',\n",
       " 'text',\n",
       " 'url']"
      ]
     },
     "execution_count": 61,
     "metadata": {},
     "output_type": "execute_result"
    }
   ],
   "source": [
    "dir(coursepage)"
   ]
  },
  {
   "cell_type": "code",
   "execution_count": 63,
   "id": "2cd32fab",
   "metadata": {},
   "outputs": [
    {
     "name": "stdout",
     "output_type": "stream",
     "text": [
      "<!DOCTYPE html>\n",
      "<html class=\"writer-html5\" lang=\"en\" >\n",
      "<head>\n",
      "  <meta charset=\"utf-8\" /><meta name=\"generator\" content=\"Docutils 0.17.1: http://docutils.sourceforge.net/\" />\n",
      "\n",
      "  <meta name=\"viewport\" content=\"width=device-width, initial-scale=1.0\" />\n",
      "  <title>Syllabus &mdash; MTH 337 - Spring 2022  documentation</title>\n",
      "      <link rel=\"stylesheet\" href=\"_static/pygments.css\" type=\"text/css\" />\n",
      "      <link rel=\"stylesheet\" href=\"_static/css/theme.css\" type=\"text/css\" />\n",
      "      <link rel=\"stylesheet\" href=\"_static/copybutton.css\" type=\"text/css\" />\n",
      "      <link rel=\"stylesheet\" href=\"_static/css/custom.css\" type=\"text/css\" />\n",
      "    <link rel=\"shortcut icon\" href=\"_static/favicon.ico\"/>\n",
      "    <link rel=\"canonical\" href=\"https://jllottes.github.io/index.html\" />\n",
      "  <!--[if lt IE 9]>\n",
      "    <script src=\"_static/js/html5shiv.min.js\"></script>\n",
      "  <![endif]-->\n",
      "  \n",
      "        <script data-url_root=\"./\" id=\"documentation_options\" src=\"_static/documentation_options.js\"></script>\n",
      "        <script src=\"_static/jquery.js\"></script>\n",
      "        <script src=\"_static/underscore.js\"></script>\n",
      "        <script src=\"_static/doctools.js\"></script>\n",
      "        <script src=\"_static/clipboard.min.js\"></script>\n",
      "        <script src=\"_static/copybutton.js\"></script>\n",
      "        <script crossorigin=\"anonymous\" integrity=\"sha256-Ae2Vz/4ePdIu6ZyI/5ZGsYnb+m0JlOmKPjt6XZ9JJkA=\" src=\"https://cdnjs.cloudflare.com/ajax/libs/require.js/2.3.4/require.min.js\"></script>\n",
      "    <script src=\"_static/js/theme.js\"></script>\n",
      "    <link rel=\"index\" title=\"Index\" href=\"genindex.html\" />\n",
      "    <link rel=\"search\" title=\"Search\" href=\"search.html\" />\n",
      "    <link rel=\"next\" title=\"Project Report Guide\" href=\"report_guide.html\" />\n",
      "    <link rel=\"prev\" title=\"MTH 337 Introduction to Scientific and Mathematical Computing\" href=\"master.html\" /> \n",
      "</head>\n",
      "\n",
      "<body class=\"wy-body-for-nav\"> \n",
      "  <div class=\"wy-grid-for-nav\">\n",
      "    <nav data-toggle=\"wy-nav-shift\" class=\"wy-nav-side\">\n",
      "      <div class=\"wy-side-scroll\">\n",
      "        <div class=\"wy-side-nav-search\" >\n",
      "            <a href=\"master.html\" class=\"icon icon-home\"> MTH 337 - Spring 2022\n",
      "          </a>\n",
      "<div role=\"search\">\n",
      "  <form id=\"rtd-search-form\" class=\"wy-form\" action=\"search.html\" method=\"get\">\n",
      "    <input type=\"text\" name=\"q\" placeholder=\"Search docs\" />\n",
      "    <input type=\"hidden\" name=\"check_keywords\" value=\"yes\" />\n",
      "    <input type=\"hidden\" name=\"area\" value=\"default\" />\n",
      "  </form>\n",
      "</div>\n",
      "        </div><div class=\"wy-menu wy-menu-vertical\" data-spy=\"affix\" role=\"navigation\" aria-label=\"Navigation menu\">\n",
      "              <ul class=\"current\">\n",
      "<li class=\"toctree-l1 current\"><a class=\"current reference internal\" href=\"#\">Syllabus</a><ul>\n",
      "<li class=\"toctree-l2\"><a class=\"reference internal\" href=\"#instructor\">Instructor</a></li>\n",
      "<li class=\"toctree-l2\"><a class=\"reference internal\" href=\"#course-resources\">Course Resources</a></li>\n",
      "<li class=\"toctree-l2\"><a class=\"reference internal\" href=\"#grading\">Grading</a><ul>\n",
      "<li class=\"toctree-l3\"><a class=\"reference internal\" href=\"#project-reports\">Project Reports</a></li>\n",
      "<li class=\"toctree-l3\"><a class=\"reference internal\" href=\"#quizzes\">Quizzes</a></li>\n",
      "<li class=\"toctree-l3\"><a class=\"reference internal\" href=\"#class-participation\">Class Participation</a></li>\n",
      "</ul>\n",
      "</li>\n",
      "<li class=\"toctree-l2\"><a class=\"reference internal\" href=\"#useful-information\">Useful Information</a><ul>\n",
      "<li class=\"toctree-l3\"><a class=\"reference internal\" href=\"#covid-19-information\">COVID-19 Information</a></li>\n",
      "<li class=\"toctree-l3\"><a class=\"reference internal\" href=\"#important-dates\">Important Dates</a></li>\n",
      "<li class=\"toctree-l3\"><a class=\"reference internal\" href=\"#incomplete-grades\">Incomplete Grades</a></li>\n",
      "<li class=\"toctree-l3\"><a class=\"reference internal\" href=\"#academic-integrity\">Academic Integrity</a></li>\n",
      "<li class=\"toctree-l3\"><a class=\"reference internal\" href=\"#accessibility-resources\">Accessibility Resources</a></li>\n",
      "<li class=\"toctree-l3\"><a class=\"reference internal\" href=\"#critical-campus-resources\">Critical Campus Resources</a></li>\n",
      "</ul>\n",
      "</li>\n",
      "</ul>\n",
      "</li>\n",
      "<li class=\"toctree-l1\"><a class=\"reference internal\" href=\"report_guide.html\">Project Report Guide</a></li>\n",
      "<li class=\"toctree-l1\"><a class=\"reference internal\" href=\"useful_links.html\">Useful links</a></li>\n",
      "<li class=\"toctree-l1\"><a class=\"reference internal\" href=\"python_tools.html\">Python tools</a></li>\n",
      "<li class=\"toctree-l1\"><a class=\"reference internal\" href=\"weekly_schedule.html\">Weekly Schedule</a></li>\n",
      "<li class=\"toctree-l1\"><a class=\"reference internal\" href=\"to_do.html\">Current Tasks</a></li>\n",
      "</ul>\n",
      "<p class=\"caption\" role=\"heading\"><span class=\"caption-text\">Projects</span></p>\n",
      "<ul>\n",
      "<li class=\"toctree-l1\"><a class=\"reference internal\" href=\"Projects/prime_or_not/prime_or_not.html\">A prime or not a prime</a></li>\n",
      "<li class=\"toctree-l1\"><a class=\"reference internal\" href=\"Projects/pythagorean_triples/pythagorean_triples.html\">Pythagorean triples</a></li>\n",
      "<li class=\"toctree-l1\"><a class=\"reference internal\" href=\"Projects/mayfly_model/mayfly_model.html\">Mayfly model</a></li>\n",
      "<li class=\"toctree-l1\"><a class=\"reference internal\" href=\"Projects/tartans/tartans.html\">Tartans</a></li>\n",
      "<li class=\"toctree-l1\"><a class=\"reference internal\" href=\"Projects/image_denoising/image_denoising.html\">Image denoising</a></li>\n",
      "<li class=\"toctree-l1\"><a class=\"reference internal\" href=\"Projects/code_breakers/code_breakers.html\">Code breakers</a></li>\n",
      "</ul>\n",
      "\n",
      "        </div>\n",
      "      </div>\n",
      "    </nav>\n",
      "\n",
      "    <section data-toggle=\"wy-nav-shift\" class=\"wy-nav-content-wrap\"><nav class=\"wy-nav-top\" aria-label=\"Mobile navigation menu\" >\n",
      "          <i data-toggle=\"wy-nav-top\" class=\"fa fa-bars\"></i>\n",
      "          <a href=\"master.html\">MTH 337 - Spring 2022</a>\n",
      "      </nav>\n",
      "\n",
      "      <div class=\"wy-nav-content\">\n",
      "        <div class=\"rst-content\">\n",
      "          \n",
      "\n",
      "\n",
      "\n",
      "\n",
      "\n",
      "\n",
      "\n",
      "\n",
      "\n",
      "\n",
      "\n",
      "\n",
      "\n",
      "\n",
      "\n",
      "<div role=\"navigation\" aria-label=\"breadcrumbs navigation\">\n",
      "\n",
      "  <ul class=\"wy-breadcrumbs\">\n",
      "    \n",
      "      <li><a href=\"master.html\">MTH 337</a> &raquo;</li>\n",
      "        \n",
      "      <li>Syllabus</li>\n",
      "    \n",
      "    \n",
      "      <li class=\"wy-breadcrumbs-aside\">\n",
      "        \n",
      "          \n",
      "            <a href=\"_sources/index.rst\" rel=\"nofollow\"> View page source</a>\n",
      "          \n",
      "        \n",
      "      </li>\n",
      "    \n",
      "  </ul>\n",
      "\n",
      "  \n",
      "  <hr/>\n",
      "</div>\n",
      "          <div role=\"main\" class=\"document\" itemscope=\"itemscope\" itemtype=\"http://schema.org/Article\">\n",
      "           <div itemprop=\"articleBody\">\n",
      "             \n",
      "  \n",
      "<style>\n",
      "/* CSS overrides for sphinx_rtd_theme */\n",
      "\n",
      "/* 24px margin */\n",
      ".nbinput.nblast.container,\n",
      ".nboutput.nblast.container {\n",
      "    margin-bottom: 19px;  /* padding has already 5px */\n",
      "}\n",
      "\n",
      "/* ... except between code cells! */\n",
      ".nblast.container + .nbinput.container {\n",
      "    margin-top: -19px;\n",
      "}\n",
      "\n",
      ".admonition > p:before {\n",
      "    margin-right: 4px;  /* make room for the exclamation icon */\n",
      "}\n",
      "\n",
      "/* Fix math alignment, see https://github.com/rtfd/sphinx_rtd_theme/pull/686 */\n",
      ".math {\n",
      "    text-align: unset;\n",
      "}\n",
      "</style>\n",
      "<section id=\"syllabus\">\n",
      "<h1>Syllabus<a class=\"headerlink\" href=\"#syllabus\" title=\"Permalink to this headline\"></a></h1>\n",
      "<div class=\"line-block\">\n",
      "<div class=\"line\"><strong>MTH 337 Introduction to Scientific and Mathematical Computing</strong></div>\n",
      "<div class=\"line\">Mon Wed 11:00 AM - 12:50 PM</div>\n",
      "<div class=\"line\">150 Mathematics Building</div>\n",
      "</div>\n",
      "<section id=\"instructor\">\n",
      "<h2>Instructor<a class=\"headerlink\" href=\"#instructor\" title=\"Permalink to this headline\"></a></h2>\n",
      "<div class=\"line-block\">\n",
      "<div class=\"line\">Jonathan Lottes</div>\n",
      "<div class=\"line\"><strong>Office:</strong> 211 Mathematics Building</div>\n",
      "<div class=\"line\"><strong>E-mail:</strong> <a class=\"reference external\" href=\"mailto:jllottes&#37;&#52;&#48;buffalo&#46;edu\">jllottes<span>&#64;</span>buffalo<span>&#46;</span>edu</a></div>\n",
      "<div class=\"line\"><strong>Office Hours:</strong> Wed 3:00 PM - 5:00 PM and by appointment.</div>\n",
      "</div>\n",
      "</section>\n",
      "<section id=\"course-resources\">\n",
      "<h2>Course Resources<a class=\"headerlink\" href=\"#course-resources\" title=\"Permalink to this headline\"></a></h2>\n",
      "<p><strong>Laptop.</strong> We will be programming during all class meetings, so you should bring a laptop to every class.\n",
      "Any operating system (Windows/Mac/Linux) is fine.</p>\n",
      "<p><strong>Software.</strong> We will be using the <a class=\"reference external\" href=\"https://www.anaconda.com/products/individual#Downloadstarget=&quot;_blank&quot;\">Anaconda distribution of Python 3.9</a>.\n",
      "This is free software.\n",
      "Even if you have Python already installed on your computer you should install this distribution since it includes Jupyter Notebook and several Python libraries we will need.\n",
      "If you have a previous version of Python installed, please upgrade it so you don’t run into possible compatibility issues.</p>\n",
      "<p><strong>Textbook.</strong> There is no required textbook. There are a lot of online resources (documentation of Python libraries etc.) that may be helpful in this course. Some of them are listed on the <a class=\"reference internal\" href=\"useful_links.html\"><span class=\"doc\">Useful Links</span></a> page.</p>\n",
      "<p><strong><a href=\"https://ublearns.buffalo.edu\">UBLearns</a> </strong> will be used mainly for submitting project reports.</p>\n",
      "</section>\n",
      "<section id=\"grading\">\n",
      "<h2>Grading<a class=\"headerlink\" href=\"#grading\" title=\"Permalink to this headline\"></a></h2>\n",
      "<p>There will be no exams in this course. Instead, grades will be assigned based on the following components:</p>\n",
      "<blockquote>\n",
      "<div><ul class=\"simple\">\n",
      "<li><p>Project Reports 70%</p></li>\n",
      "<li><p>Quizzes 20%</p></li>\n",
      "<li><p>Class Participation, 10%</p></li>\n",
      "</ul>\n",
      "</div></blockquote>\n",
      "<section id=\"project-reports\">\n",
      "<h3>Project Reports<a class=\"headerlink\" href=\"#project-reports\" title=\"Permalink to this headline\"></a></h3>\n",
      "<p>One the main components of this course will be exploratory projects.\n",
      "You will be working on them largely independently, using mathematical and computing tools.\n",
      "The outcome of your work on each project will be a project report that you will submit for grading.</p>\n",
      "<p>Each report will be graded on the A-F scale.\n",
      "Extra credit (a grade of A+) will be assigned for an outstanding work.\n",
      "Reports will be submitted via UBLearns.\n",
      "Late reports will not be accepted.\n",
      "Your project report must be original, even if you worked on some components of the project in a group.\n",
      "More information about project reports is posted <a class=\"reference internal\" href=\"report_guide.html\"><span class=\"doc\">here</span></a>.\n",
      "The lowest project score will be dropped at the end of the semester.</p>\n",
      "</section>\n",
      "<section id=\"quizzes\">\n",
      "<h3>Quizzes<a class=\"headerlink\" href=\"#quizzes\" title=\"Permalink to this headline\"></a></h3>\n",
      "<p>Each Monday there will be a short quiz testing your knowledge of Python.\n",
      "Sample quizzes will be posted ahead of time with the <a class=\"reference internal\" href=\"weekly_schedule.html\"><span class=\"doc\">weekly class schedule</span></a>.\n",
      "The lowest two quiz scores will be dropped.</p>\n",
      "</section>\n",
      "<section id=\"class-participation\">\n",
      "<h3>Class Participation<a class=\"headerlink\" href=\"#class-participation\" title=\"Permalink to this headline\"></a></h3>\n",
      "<p>This includes class attendance, asking and answering questions in class and during office hours.\n",
      "Class participation will be evaluated weekly.</p>\n",
      "</section>\n",
      "</section>\n",
      "<section id=\"useful-information\">\n",
      "<h2>Useful Information<a class=\"headerlink\" href=\"#useful-information\" title=\"Permalink to this headline\"></a></h2>\n",
      "<section id=\"covid-19-information\">\n",
      "<h3>COVID-19 Information<a class=\"headerlink\" href=\"#covid-19-information\" title=\"Permalink to this headline\"></a></h3>\n",
      "<p>Due to the continuing COVID-19 pandemic, high-quality masks must be worn at all times during class.\n",
      "If I notice that you do not have a mask on, I will ask you to either put one on or leave the classroom.\n",
      "Please make sure your mask covers both your mouth and nose and fits tightly on your face without gaps between your mask and your\n",
      "face.\n",
      "I may ask you to leave the classroom if your mask does not fit tightly.\n",
      "For more information at the pandemic health and safety policies, please see the\n",
      "<a class=\"reference external\" href=\"https://www.buffalo.edu/coronavirus/health-and-safety/health-safety-guidelines.html\">Health and Safety Guidelines</a>.</p>\n",
      "</section>\n",
      "<section id=\"important-dates\">\n",
      "<h3>Important Dates<a class=\"headerlink\" href=\"#important-dates\" title=\"Permalink to this headline\"></a></h3>\n",
      "<blockquote>\n",
      "<div><ul class=\"simple\">\n",
      "<li><p>Jan 31: first day of classes</p></li>\n",
      "<li><p>Feb 7: last day to drop/add</p></li>\n",
      "<li><p>Mar 21 - 25: Spring Recess</p></li>\n",
      "<li><p>Apr 22: last day to resign</p></li>\n",
      "<li><p>May 13: last day of classes</p></li>\n",
      "</ul>\n",
      "</div></blockquote>\n",
      "</section>\n",
      "<section id=\"incomplete-grades\">\n",
      "<h3>Incomplete Grades<a class=\"headerlink\" href=\"#incomplete-grades\" title=\"Permalink to this headline\"></a></h3>\n",
      "<p>See the UB Catalog for the <a class=\"reference external\" href=\"https://catalog.buffalo.edu/policies/explanation.html\">UB Incomplete Policy</a>.</p>\n",
      "</section>\n",
      "<section id=\"academic-integrity\">\n",
      "<h3>Academic Integrity<a class=\"headerlink\" href=\"#academic-integrity\" title=\"Permalink to this headline\"></a></h3>\n",
      "<p>Academic integrity is critical to the learning process.\n",
      "It is your responsibility as a student to complete your work in an honest fashion, upholding the expectations your individual instructors have for you in this regard.\n",
      "The ultimate goal is to ensure that you learn the content in your courses in accordance with UB’s academic integrity principles, regardless of whether instruction is in-person or remote.\n",
      "Thank you for upholding your own personal integrity and ensuring UB’s tradition of academic excellence.\n",
      "The academic integrity policy is available at:</p>\n",
      "<blockquote>\n",
      "<div><p><a class=\"reference external\" href=\"https://www.buffalo.edu/academic-integrity.html\">Academic Integrity</a></p>\n",
      "</div></blockquote>\n",
      "<p>While you are encouraged to collaborate with your peers to problem solve while working on the projects, each student is responsible for producing an original project report on their own. Any outside resource that is used during the project (this includes code taken from class notes or other sources) or while writing the report must be properly cited in the report.</p>\n",
      "<p>Collaboration of any kind on the quizzes is forbidden, as is the use of any materials not approved of by the instructor.</p>\n",
      "</section>\n",
      "<section id=\"accessibility-resources\">\n",
      "<h3>Accessibility Resources<a class=\"headerlink\" href=\"#accessibility-resources\" title=\"Permalink to this headline\"></a></h3>\n",
      "<p>If you have any disability which requires reasonable accommodations to enable you to participate in this course, please contact the Office of Accessibility Resources in 60 Capen Hall, 716-645-2608 and also the instructor of this course during the first week of class.\n",
      "The office will provide you with information and review appropriate arrangements for reasonable accommodations, which can be found on the web at:</p>\n",
      "<blockquote>\n",
      "<div><p><a class=\"reference external\" href=\"http://www.buffalo.edu/studentlife/who-we-are/departments/accessibility.html\">Accessibility Resources</a></p>\n",
      "</div></blockquote>\n",
      "</section>\n",
      "<section id=\"critical-campus-resources\">\n",
      "<h3>Critical Campus Resources<a class=\"headerlink\" href=\"#critical-campus-resources\" title=\"Permalink to this headline\"></a></h3>\n",
      "<p><strong>Sexual Violence.</strong>\n",
      "UB is committed to providing a safe learning environment free of all forms of discrimination and sexual harassment, including sexual assault, domestic and dating violence and stalking. If you have experienced gender-based violence (intimate partner violence, attempted or completed sexual assault, harassment, coercion, stalking, etc.), UB has resources to help. This includes academic accommodations, health and counseling services, housing accommodations, helping with legal protective orders, and assistance with reporting the incident to police or other UB officials if you so choose. Please contact UB’s Title IX Coordinator at 716-645-2266 for more information. For confidential assistance, you may also contact a Crisis Services Campus Advocate at 716-796-4399.</p>\n",
      "<p><strong>Mental Health.</strong>\n",
      "As a student you may experience a range of issues that can cause barriers to learning or reduce your ability to participate in daily activities. These might include strained relationships, anxiety, high levels of stress, alcohol/drug problems, feeling down, health concerns, or unwanted sexual experiences. Counseling, Health Services, and Health Promotion are here to help with these or other issues you may experience. You can learn more about these programs and services by contacting:</p>\n",
      "<p>Counseling Services:</p>\n",
      "<blockquote>\n",
      "<div><ul class=\"simple\">\n",
      "<li><p>120 Richmond Quad (North Campus), 716-645-2720</p></li>\n",
      "<li><p>202 Michael Hall (South Campus), 716-829-5800</p></li>\n",
      "</ul>\n",
      "</div></blockquote>\n",
      "<p>Health Services:</p>\n",
      "<blockquote>\n",
      "<div><ul class=\"simple\">\n",
      "<li><p>Michael Hall (South Campus), 716-829-3316</p></li>\n",
      "</ul>\n",
      "</div></blockquote>\n",
      "<p>Health Promotion:</p>\n",
      "<blockquote>\n",
      "<div><ul class=\"simple\">\n",
      "<li><p>114 Student Union (North Campus), 716-645-2837</p></li>\n",
      "</ul>\n",
      "</div></blockquote>\n",
      "</section>\n",
      "</section>\n",
      "</section>\n",
      "\n",
      "\n",
      "           </div>\n",
      "          </div>\n",
      "          <footer>\n",
      "  \n",
      "    <div class=\"rst-footer-buttons\" role=\"navigation\" aria-label=\"footer navigation\">\n",
      "      \n",
      "        <a href=\"report_guide.html\" class=\"btn btn-neutral float-right\" title=\"Project Report Guide\" accesskey=\"n\" rel=\"next\">Next <span class=\"fa fa-arrow-circle-right\"></span></a>\n",
      "      \n",
      "      \n",
      "        <a href=\"master.html\" class=\"btn btn-neutral float-left\" title=\"MTH 337 Introduction to Scientific and Mathematical Computing\" accesskey=\"p\" rel=\"prev\"><span class=\"fa fa-arrow-circle-left\"></span> Previous</a>\n",
      "      \n",
      "    </div>\n",
      "  \n",
      "\n",
      "  <hr/>\n",
      "\n",
      "  <div role=\"contentinfo\">\n",
      "    <p>\n",
      "      <span class=\"lastupdated\"><br/>\n",
      "        Last updated on Apr 04, 2022.\n",
      "      </span>\n",
      "\n",
      "    </p>\n",
      "  </div>\n",
      "  Built with <a href=\"http://sphinx-doc.org/\">Sphinx</a> using a <a href=\"https://github.com/rtfd/sphinx_rtd_theme\">theme</a> provided by <a href=\"https://readthedocs.org\">Read the Docs</a>. \n",
      "\n",
      "</footer>\n",
      "\n",
      "        </div>\n",
      "      </div>\n",
      "    </section>\n",
      "  </div>\n",
      "  <script>\n",
      "      jQuery(function () {\n",
      "          SphinxRtdTheme.Navigation.enable(true);\n",
      "      });\n",
      "  </script> \n",
      "\n",
      "</body>\n",
      "</html>\n"
     ]
    }
   ],
   "source": [
    "print(coursepage.text)"
   ]
  },
  {
   "cell_type": "markdown",
   "id": "939fdace",
   "metadata": {},
   "source": [
    "The course webpage is built in html and can be hard to read without experience."
   ]
  },
  {
   "cell_type": "code",
   "execution_count": 64,
   "id": "1728b199",
   "metadata": {},
   "outputs": [
    {
     "data": {
      "text/plain": [
       "{'Connection': 'keep-alive', 'Content-Length': '5782', 'Server': 'GitHub.com', 'Content-Type': 'text/html; charset=utf-8', 'permissions-policy': 'interest-cohort=()', 'Last-Modified': 'Mon, 04 Apr 2022 14:49:53 GMT', 'Access-Control-Allow-Origin': '*', 'Strict-Transport-Security': 'max-age=31556952', 'ETag': 'W/\"624b0591-4757\"', 'expires': 'Mon, 04 Apr 2022 15:07:48 GMT', 'Cache-Control': 'max-age=600', 'Content-Encoding': 'gzip', 'x-proxy-cache': 'MISS', 'X-GitHub-Request-Id': '2FC6:0282:1D053:3C4D5:624B076C', 'Accept-Ranges': 'bytes', 'Date': 'Mon, 04 Apr 2022 15:48:15 GMT', 'Via': '1.1 varnish', 'Age': '24', 'X-Served-By': 'cache-lga21971-LGA', 'X-Cache': 'HIT', 'X-Cache-Hits': '1', 'X-Timer': 'S1649087295.371763,VS0,VE1', 'Vary': 'Accept-Encoding', 'X-Fastly-Request-ID': '24996baf87a39e7375967319159ce65b734a2929'}"
      ]
     },
     "execution_count": 64,
     "metadata": {},
     "output_type": "execute_result"
    }
   ],
   "source": [
    "coursepage.headers"
   ]
  },
  {
   "cell_type": "markdown",
   "id": "09adc709",
   "metadata": {},
   "source": [
    "Let's look at a more simple webpage:\n",
    "\n",
    "[The Gutenberg project](www.gutenberg.org)"
   ]
  },
  {
   "cell_type": "code",
   "execution_count": 67,
   "id": "b6927d8d",
   "metadata": {},
   "outputs": [],
   "source": [
    "muse = requests.get('https://www.gutenberg.org/cache/epub/67760/pg67760.txt').text"
   ]
  },
  {
   "cell_type": "code",
   "execution_count": 69,
   "id": "6bf28ae2",
   "metadata": {},
   "outputs": [
    {
     "name": "stdout",
     "output_type": "stream",
     "text": [
      "﻿The Project Gutenberg eBook of The Memoirs of a Swine in the Land of\r\n",
      "Kultur, by Ben Muse\r\n",
      "\r\n",
      "This eBook is for the use of anyone anywhere in the United States and\r\n",
      "most other parts of the world at no cost and with almost no restrictions\r\n",
      "whatsoever. You may copy it, give it away or re-use it under the terms\r\n",
      "of the Project Gutenberg License included with this eBook or online at\r\n",
      "www.gutenberg.org. If you are not located in the United States, you\r\n",
      "will have to check the laws of the country where you are located before\r\n",
      "using this eBook.\r\n",
      "\r\n",
      "Title: The Memoirs of a Swine in the Land of Kultur\r\n",
      "       or, How it Felt to be a Prisoner of War\r\n",
      "\r\n",
      "Author: Ben Muse\r\n",
      "\r\n",
      "Release Date: April 2, 2022 [eBook #67760]\r\n",
      "\r\n",
      "Language: English\r\n",
      "\r\n",
      "Produced by: The Online Distributed Proofreading Team at\r\n",
      "             https://www.pgdp.net (This file was produced from images\r\n",
      "             generously made available by The Internet Archive)\r\n",
      "\r\n",
      "*** START OF THE PROJECT GUTENBERG EBOOK THE MEMOIRS OF A SWINE IN T\n"
     ]
    }
   ],
   "source": [
    "print(muse[:1000])"
   ]
  },
  {
   "cell_type": "markdown",
   "id": "dc31b231",
   "metadata": {},
   "source": [
    "## String functions:"
   ]
  },
  {
   "cell_type": "markdown",
   "id": "cc501d92",
   "metadata": {},
   "source": [
    "We've seen how to use the `.format` method to insert values into a string. There are other string methods that can be used to work with strings."
   ]
  },
  {
   "cell_type": "markdown",
   "id": "0e07fca7",
   "metadata": {},
   "source": [
    "The `.split()` method can be used to separate a string into a list of items separated by a given substring. The default choice is to separate by spaces:"
   ]
  },
  {
   "cell_type": "code",
   "execution_count": 72,
   "id": "5fc80325",
   "metadata": {},
   "outputs": [
    {
     "data": {
      "text/plain": [
       "'\\ufeffThe Project Gutenberg eBook of The Memoirs of a Swine in the Land of\\r\\nKultur, by Ben Muse\\r\\n\\r\\nThis e'"
      ]
     },
     "execution_count": 72,
     "metadata": {},
     "output_type": "execute_result"
    }
   ],
   "source": [
    "muse[:100]"
   ]
  },
  {
   "cell_type": "code",
   "execution_count": 73,
   "id": "5c876f3b",
   "metadata": {},
   "outputs": [
    {
     "data": {
      "text/plain": [
       "['\\ufeffThe',\n",
       " 'Project',\n",
       " 'Gutenberg',\n",
       " 'eBook',\n",
       " 'of',\n",
       " 'The',\n",
       " 'Memoirs',\n",
       " 'of',\n",
       " 'a',\n",
       " 'Swine',\n",
       " 'in',\n",
       " 'the',\n",
       " 'Land',\n",
       " 'of',\n",
       " 'Kultur,',\n",
       " 'by',\n",
       " 'Ben',\n",
       " 'Muse',\n",
       " 'This',\n",
       " 'e']"
      ]
     },
     "execution_count": 73,
     "metadata": {},
     "output_type": "execute_result"
    }
   ],
   "source": [
    "muse[:100].split()"
   ]
  },
  {
   "cell_type": "markdown",
   "id": "0f522a52",
   "metadata": {},
   "source": [
    "We can split by line using `.split('\\n')`"
   ]
  },
  {
   "cell_type": "code",
   "execution_count": 74,
   "id": "9f7a89e6",
   "metadata": {},
   "outputs": [
    {
     "data": {
      "text/plain": [
       "['\\ufeffThe Project Gutenberg eBook of The Memoirs of a Swine in the Land of\\r',\n",
       " 'Kultur, by Ben Muse\\r',\n",
       " '\\r',\n",
       " 'This eBook is for the use of anyone anywhere in the United States and\\r',\n",
       " 'most other parts of the world at no cost and with almost no restrictions\\r',\n",
       " 'whatsoever. You may copy it, give it away or re-use it under the terms\\r',\n",
       " 'of the Project Gutenberg License included with this eBook or online at\\r',\n",
       " 'www.gutenberg.org. If you are not located in the United States, you\\r',\n",
       " 'will have to check the laws of the country where you are located before\\r',\n",
       " 'using this eBook.\\r',\n",
       " '\\r',\n",
       " 'Title: The Memoirs of a Swine in the Land of Kultur\\r',\n",
       " '       or, How it Felt to be a Prisoner of War\\r',\n",
       " '\\r',\n",
       " 'Author: Ben Muse\\r',\n",
       " '\\r',\n",
       " 'Release Date: April 2, 2022 [eBook #67760]\\r',\n",
       " '\\r',\n",
       " 'Language: English\\r',\n",
       " '\\r',\n",
       " 'Produced by: The Online Distributed Proofreading Team at\\r',\n",
       " '             https://www.pgdp.net (This file was produced from images\\r',\n",
       " '             generously made available by The Internet Archive)\\r',\n",
       " '\\r',\n",
       " '*** START OF THE PROJECT GUTENBERG EBOOK THE MEMOIRS OF A SWINE IN T']"
      ]
     },
     "execution_count": 74,
     "metadata": {},
     "output_type": "execute_result"
    }
   ],
   "source": [
    "muse[:1000].split('\\n')"
   ]
  },
  {
   "cell_type": "code",
   "execution_count": 75,
   "id": "9c3917a9",
   "metadata": {},
   "outputs": [
    {
     "data": {
      "text/plain": [
       "['Hello world.', 'This is a test file.']"
      ]
     },
     "execution_count": 75,
     "metadata": {},
     "output_type": "execute_result"
    }
   ],
   "source": [
    "'Hello world.\\nThis is a test file.'.split('\\n')"
   ]
  },
  {
   "cell_type": "code",
   "execution_count": 76,
   "id": "f8d1be82",
   "metadata": {},
   "outputs": [
    {
     "data": {
      "text/plain": [
       "['Hello ', '.\\nThis is a test file.']"
      ]
     },
     "execution_count": 76,
     "metadata": {},
     "output_type": "execute_result"
    }
   ],
   "source": [
    "'Hello world.\\nThis is a test file.'.split('world')"
   ]
  },
  {
   "cell_type": "code",
   "execution_count": 77,
   "id": "e329f8b9",
   "metadata": {},
   "outputs": [
    {
     "data": {
      "text/plain": [
       "['Hello world.\\nThis is a test file.']"
      ]
     },
     "execution_count": 77,
     "metadata": {},
     "output_type": "execute_result"
    }
   ],
   "source": [
    "'Hello world.\\nThis is a test file.'.split('World')"
   ]
  },
  {
   "cell_type": "markdown",
   "id": "88524e03",
   "metadata": {},
   "source": [
    "## .join()\n",
    "\n",
    "The `.split()` method breaks up a string into a list of substrings.\n",
    "The `.join()` method builds a string out a list of substrings with the object as a separator."
   ]
  },
  {
   "cell_type": "code",
   "execution_count": 78,
   "id": "919aa3ef",
   "metadata": {
    "scrolled": true
   },
   "outputs": [
    {
     "data": {
      "text/plain": [
       "['__add__',\n",
       " '__class__',\n",
       " '__contains__',\n",
       " '__delattr__',\n",
       " '__dir__',\n",
       " '__doc__',\n",
       " '__eq__',\n",
       " '__format__',\n",
       " '__ge__',\n",
       " '__getattribute__',\n",
       " '__getitem__',\n",
       " '__getnewargs__',\n",
       " '__gt__',\n",
       " '__hash__',\n",
       " '__init__',\n",
       " '__init_subclass__',\n",
       " '__iter__',\n",
       " '__le__',\n",
       " '__len__',\n",
       " '__lt__',\n",
       " '__mod__',\n",
       " '__mul__',\n",
       " '__ne__',\n",
       " '__new__',\n",
       " '__reduce__',\n",
       " '__reduce_ex__',\n",
       " '__repr__',\n",
       " '__rmod__',\n",
       " '__rmul__',\n",
       " '__setattr__',\n",
       " '__sizeof__',\n",
       " '__str__',\n",
       " '__subclasshook__',\n",
       " 'capitalize',\n",
       " 'casefold',\n",
       " 'center',\n",
       " 'count',\n",
       " 'encode',\n",
       " 'endswith',\n",
       " 'expandtabs',\n",
       " 'find',\n",
       " 'format',\n",
       " 'format_map',\n",
       " 'index',\n",
       " 'isalnum',\n",
       " 'isalpha',\n",
       " 'isascii',\n",
       " 'isdecimal',\n",
       " 'isdigit',\n",
       " 'isidentifier',\n",
       " 'islower',\n",
       " 'isnumeric',\n",
       " 'isprintable',\n",
       " 'isspace',\n",
       " 'istitle',\n",
       " 'isupper',\n",
       " 'join',\n",
       " 'ljust',\n",
       " 'lower',\n",
       " 'lstrip',\n",
       " 'maketrans',\n",
       " 'partition',\n",
       " 'removeprefix',\n",
       " 'removesuffix',\n",
       " 'replace',\n",
       " 'rfind',\n",
       " 'rindex',\n",
       " 'rjust',\n",
       " 'rpartition',\n",
       " 'rsplit',\n",
       " 'rstrip',\n",
       " 'split',\n",
       " 'splitlines',\n",
       " 'startswith',\n",
       " 'strip',\n",
       " 'swapcase',\n",
       " 'title',\n",
       " 'translate',\n",
       " 'upper',\n",
       " 'zfill']"
      ]
     },
     "execution_count": 78,
     "metadata": {},
     "output_type": "execute_result"
    }
   ],
   "source": [
    "dir('_')"
   ]
  },
  {
   "cell_type": "code",
   "execution_count": 79,
   "id": "71643f2b",
   "metadata": {},
   "outputs": [
    {
     "data": {
      "text/plain": [
       "'this_is_a_test'"
      ]
     },
     "execution_count": 79,
     "metadata": {},
     "output_type": "execute_result"
    }
   ],
   "source": [
    "'_'.join(['this','is','a','test'])"
   ]
  },
  {
   "cell_type": "code",
   "execution_count": 81,
   "id": "2b4557da",
   "metadata": {},
   "outputs": [
    {
     "name": "stdout",
     "output_type": "stream",
     "text": [
      "this\n",
      "is\n",
      "a\n",
      "test\n"
     ]
    }
   ],
   "source": [
    "print('\\n'.join(['this','is','a','test']))"
   ]
  },
  {
   "cell_type": "code",
   "execution_count": 83,
   "id": "c0308e55",
   "metadata": {},
   "outputs": [
    {
     "data": {
      "text/plain": [
       "'this1234is1234a1234test'"
      ]
     },
     "execution_count": 83,
     "metadata": {},
     "output_type": "execute_result"
    }
   ],
   "source": [
    "'1234'.join(['this','is','a','test'])"
   ]
  },
  {
   "cell_type": "markdown",
   "id": "780dfdf0",
   "metadata": {},
   "source": [
    "## .find()\n",
    "The `.find()` method can be used to locate a substring within a string:"
   ]
  },
  {
   "cell_type": "code",
   "execution_count": 84,
   "id": "336921ab",
   "metadata": {},
   "outputs": [],
   "source": [
    "s = 'Hello world.\\nThis is a test.'"
   ]
  },
  {
   "cell_type": "code",
   "execution_count": 85,
   "id": "5c9923d0",
   "metadata": {},
   "outputs": [
    {
     "data": {
      "text/plain": [
       "15"
      ]
     },
     "execution_count": 85,
     "metadata": {},
     "output_type": "execute_result"
    }
   ],
   "source": [
    "s.find('is')"
   ]
  },
  {
   "cell_type": "code",
   "execution_count": 88,
   "id": "4246c76a",
   "metadata": {},
   "outputs": [
    {
     "data": {
      "text/plain": [
       "'is is'"
      ]
     },
     "execution_count": 88,
     "metadata": {},
     "output_type": "execute_result"
    }
   ],
   "source": [
    "s[15:20]"
   ]
  },
  {
   "cell_type": "markdown",
   "id": "95dd6a9e",
   "metadata": {},
   "source": [
    "The `.find` method returns the index where the given substring starts. If the substring is not in the string, it returns `-1`."
   ]
  },
  {
   "cell_type": "code",
   "execution_count": 89,
   "id": "7b1779d3",
   "metadata": {},
   "outputs": [
    {
     "data": {
      "text/plain": [
       "-1"
      ]
     },
     "execution_count": 89,
     "metadata": {},
     "output_type": "execute_result"
    }
   ],
   "source": [
    "s.find('boo')"
   ]
  },
  {
   "cell_type": "code",
   "execution_count": 90,
   "id": "e0f44df7",
   "metadata": {},
   "outputs": [
    {
     "data": {
      "text/plain": [
       "-1"
      ]
     },
     "execution_count": 90,
     "metadata": {},
     "output_type": "execute_result"
    }
   ],
   "source": [
    "s.find('World')"
   ]
  },
  {
   "cell_type": "markdown",
   "id": "54577c97",
   "metadata": {},
   "source": [
    "We can use `.lower()` to convert all characters in a string to lowercase. We can use `.upper()` to convert to uppercase."
   ]
  },
  {
   "cell_type": "code",
   "execution_count": 91,
   "id": "b2457df0",
   "metadata": {},
   "outputs": [
    {
     "name": "stdout",
     "output_type": "stream",
     "text": [
      "Hello world.\n",
      "This is a test.\n"
     ]
    }
   ],
   "source": [
    "print(s)"
   ]
  },
  {
   "cell_type": "code",
   "execution_count": 92,
   "id": "c0c36717",
   "metadata": {},
   "outputs": [
    {
     "name": "stdout",
     "output_type": "stream",
     "text": [
      "hello world.\n",
      "this is a test.\n"
     ]
    }
   ],
   "source": [
    "print(s.lower())"
   ]
  },
  {
   "cell_type": "code",
   "execution_count": 93,
   "id": "3f5f9334",
   "metadata": {},
   "outputs": [
    {
     "name": "stdout",
     "output_type": "stream",
     "text": [
      "HELLO WORLD.\n",
      "THIS IS A TEST.\n"
     ]
    }
   ],
   "source": [
    "print(s.upper())"
   ]
  },
  {
   "cell_type": "code",
   "execution_count": 94,
   "id": "606bec11",
   "metadata": {},
   "outputs": [
    {
     "data": {
      "text/plain": [
       "-1"
      ]
     },
     "execution_count": 94,
     "metadata": {},
     "output_type": "execute_result"
    }
   ],
   "source": [
    "s.find('hello')"
   ]
  },
  {
   "cell_type": "code",
   "execution_count": 95,
   "id": "8f0b4fa1",
   "metadata": {},
   "outputs": [
    {
     "data": {
      "text/plain": [
       "0"
      ]
     },
     "execution_count": 95,
     "metadata": {},
     "output_type": "execute_result"
    }
   ],
   "source": [
    "s.lower().find('hello')"
   ]
  },
  {
   "cell_type": "code",
   "execution_count": 96,
   "id": "e2ae8fb0",
   "metadata": {},
   "outputs": [
    {
     "data": {
      "text/plain": [
       "'Hello'"
      ]
     },
     "execution_count": 96,
     "metadata": {},
     "output_type": "execute_result"
    }
   ],
   "source": [
    "s[:5]"
   ]
  },
  {
   "cell_type": "markdown",
   "id": "f76d1e0c",
   "metadata": {},
   "source": [
    "## Project 6: Code breaker"
   ]
  },
  {
   "cell_type": "markdown",
   "id": "43bbcab0",
   "metadata": {},
   "source": [
    "The `ord()` function converts a character to its corresponding ASCII code:"
   ]
  },
  {
   "cell_type": "code",
   "execution_count": 97,
   "id": "a7b118fc",
   "metadata": {},
   "outputs": [
    {
     "name": "stdout",
     "output_type": "stream",
     "text": [
      "83\n",
      "101\n",
      "99\n",
      "114\n",
      "101\n",
      "116\n",
      "33\n",
      "33\n",
      "33\n"
     ]
    }
   ],
   "source": [
    "msg = 'Secret!!!'\n",
    "for c in msg:\n",
    "    print(ord(c))"
   ]
  },
  {
   "cell_type": "markdown",
   "id": "7ba738df",
   "metadata": {},
   "source": [
    "The `chr()` function converts ASCII codes into their corresponding characters:"
   ]
  },
  {
   "cell_type": "code",
   "execution_count": 98,
   "id": "59cf3140",
   "metadata": {},
   "outputs": [
    {
     "name": "stdout",
     "output_type": "stream",
     "text": [
      "['S', 'e', 'c', 'r', 'e', 't', '!', '!', '!']\n"
     ]
    }
   ],
   "source": [
    "mylist = [83, 101, 99, 114, 101, 116, 33, 33, 33]\n",
    "charlist = [chr(n) for n in mylist]\n",
    "print(charlist)"
   ]
  },
  {
   "cell_type": "code",
   "execution_count": 99,
   "id": "614c88d1",
   "metadata": {},
   "outputs": [
    {
     "data": {
      "text/plain": [
       "'Secret!!!'"
      ]
     },
     "execution_count": 99,
     "metadata": {},
     "output_type": "execute_result"
    }
   ],
   "source": [
    "''.join(charlist)"
   ]
  },
  {
   "cell_type": "code",
   "execution_count": 105,
   "id": "16a64a90",
   "metadata": {},
   "outputs": [
    {
     "name": "stdout",
     "output_type": "stream",
     "text": [
      "54\n",
      "100\n",
      "86\n",
      "6\n",
      "84\n",
      "81\n",
      "82\n"
     ]
    }
   ],
   "source": [
    "msg = 'Top secret!'\n",
    "key = 'buffalo'\n",
    "\n",
    "for cm,ck in zip(msg,key):\n",
    "    print((ord(cm) + ord(ck)) % 128)"
   ]
  },
  {
   "cell_type": "code",
   "execution_count": 107,
   "id": "0007299e",
   "metadata": {},
   "outputs": [
    {
     "name": "stdout",
     "output_type": "stream",
     "text": [
      "T\n",
      "o\n",
      "p\n",
      " \n",
      "s\n",
      "e\n",
      "c\n"
     ]
    }
   ],
   "source": [
    "mylist = [54,100,86,6,84,81,82]\n",
    "for n,ck in zip(mylist,key):\n",
    "    print(chr((n - ord(ck)) % 128))"
   ]
  }
 ],
 "metadata": {
  "kernelspec": {
   "display_name": "Python 3 (ipykernel)",
   "language": "python",
   "name": "python3"
  },
  "language_info": {
   "codemirror_mode": {
    "name": "ipython",
    "version": 3
   },
   "file_extension": ".py",
   "mimetype": "text/x-python",
   "name": "python",
   "nbconvert_exporter": "python",
   "pygments_lexer": "ipython3",
   "version": "3.9.7"
  }
 },
 "nbformat": 4,
 "nbformat_minor": 5
}
