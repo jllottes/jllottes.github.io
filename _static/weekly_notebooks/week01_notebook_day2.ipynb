{
 "cells": [
  {
   "cell_type": "markdown",
   "id": "f276bf17",
   "metadata": {},
   "source": [
    "# Wednesday, August 27th, 2025"
   ]
  },
  {
   "cell_type": "markdown",
   "id": "d1060998-8967-4281-a4c2-b0d935c8d42b",
   "metadata": {},
   "source": [
    "## Variables"
   ]
  },
  {
   "cell_type": "markdown",
   "id": "cccf22da",
   "metadata": {},
   "source": [
    "Last time, we had just started discussing defining variables in Python."
   ]
  },
  {
   "cell_type": "code",
   "execution_count": null,
   "id": "20c20fdd",
   "metadata": {},
   "outputs": [],
   "source": []
  },
  {
   "cell_type": "markdown",
   "id": "23d8f2ca-fb19-4731-aeb3-058d7e5f2825",
   "metadata": {},
   "source": [
    "Note: Jupyter will display the output of the last line of any cell. We can view the contents of a defined variable by ending a cell with the variable name."
   ]
  },
  {
   "cell_type": "code",
   "execution_count": null,
   "id": "9e9d48b3-a7bf-4fe2-b49b-68dbb50279d9",
   "metadata": {},
   "outputs": [],
   "source": []
  },
  {
   "cell_type": "markdown",
   "id": "9cf90599",
   "metadata": {},
   "source": [
    "Variable names must:\n",
    " * Start with a letter or underscore (`_`)\n",
    " * Contain only letters, numbers, or underscores. "
   ]
  },
  {
   "cell_type": "code",
   "execution_count": null,
   "id": "9e005d20-bfea-4cf2-a74e-8c9c1caf332a",
   "metadata": {},
   "outputs": [],
   "source": []
  },
  {
   "cell_type": "markdown",
   "id": "3cc8129d",
   "metadata": {},
   "source": [
    "Very often, we'll use underscores as spaces to separate words in our variable names. Another style (known as camelcase) uses capital letters to denote the start of a new word."
   ]
  },
  {
   "cell_type": "code",
   "execution_count": null,
   "id": "c0bc6267",
   "metadata": {},
   "outputs": [],
   "source": []
  },
  {
   "cell_type": "markdown",
   "id": "f85e4e79",
   "metadata": {},
   "source": [
    "In general, we want to choose concise variable names that helps the reader understand what they represent."
   ]
  },
  {
   "cell_type": "code",
   "execution_count": null,
   "id": "2da9789f-85ca-421d-a064-3e0abee0eb1e",
   "metadata": {},
   "outputs": [],
   "source": []
  },
  {
   "cell_type": "markdown",
   "id": "4b6418c5",
   "metadata": {},
   "source": [
    "We can define several variables simultaneously by separating the variables and their respective defintitions by commas:"
   ]
  },
  {
   "cell_type": "code",
   "execution_count": null,
   "id": "68a919e4",
   "metadata": {},
   "outputs": [],
   "source": []
  },
  {
   "cell_type": "markdown",
   "id": "09bb6b5d",
   "metadata": {},
   "source": [
    "This can be very useful if we ever want to swap the meaning of two variables. As an example, suppose we define `a = 1` and `b = 2`, but then want to swap their values."
   ]
  },
  {
   "cell_type": "code",
   "execution_count": null,
   "id": "1e619f81-04cb-4e7c-90bb-e70254eb5013",
   "metadata": {},
   "outputs": [],
   "source": []
  },
  {
   "cell_type": "code",
   "execution_count": null,
   "id": "92860034-a935-4710-b39d-aa5af191cd98",
   "metadata": {},
   "outputs": [],
   "source": []
  },
  {
   "cell_type": "markdown",
   "id": "fc60fb5e",
   "metadata": {},
   "source": [
    "## Working with strings"
   ]
  },
  {
   "cell_type": "markdown",
   "id": "48c6e656",
   "metadata": {},
   "source": [
    "In Python, strings are used to hold text data. We can define strings by surrounding some text by double quotes `\"` or single quotes `'`:"
   ]
  },
  {
   "cell_type": "code",
   "execution_count": null,
   "id": "fe461838",
   "metadata": {},
   "outputs": [],
   "source": []
  },
  {
   "cell_type": "markdown",
   "id": "da4a33b1",
   "metadata": {},
   "source": [
    "There are many operations that can be performed on strings. For example:\n",
    "\n",
    "Addition of strings:"
   ]
  },
  {
   "cell_type": "code",
   "execution_count": null,
   "id": "bdc381a7-03f8-4732-b097-39af7acb5b9a",
   "metadata": {},
   "outputs": [],
   "source": []
  },
  {
   "cell_type": "markdown",
   "id": "ebb78053-5a5b-40cf-b872-619f764fef9e",
   "metadata": {},
   "source": [
    "Multiplying a string with an integer:"
   ]
  },
  {
   "cell_type": "code",
   "execution_count": null,
   "id": "45cb6651",
   "metadata": {},
   "outputs": [],
   "source": []
  },
  {
   "cell_type": "markdown",
   "id": "13be38e5-efb5-4703-8633-cfcc20a74421",
   "metadata": {},
   "source": [
    "Multiplying a string with a float?"
   ]
  },
  {
   "cell_type": "code",
   "execution_count": null,
   "id": "5d815a15",
   "metadata": {},
   "outputs": [],
   "source": []
  },
  {
   "cell_type": "markdown",
   "id": "fa076787-4e4f-40f6-80db-db50e4fe8c65",
   "metadata": {},
   "source": [
    "Multiplying two strings?"
   ]
  },
  {
   "cell_type": "code",
   "execution_count": null,
   "id": "1e0a6ce0",
   "metadata": {},
   "outputs": [],
   "source": []
  },
  {
   "cell_type": "markdown",
   "id": "90b9976a",
   "metadata": {},
   "source": [
    "Multi-line strings can be used using triple-single-quotes `'''` to surround the string:"
   ]
  },
  {
   "cell_type": "code",
   "execution_count": null,
   "id": "2e9c1ed1",
   "metadata": {},
   "outputs": [],
   "source": []
  },
  {
   "cell_type": "code",
   "execution_count": null,
   "id": "645fd6bc",
   "metadata": {},
   "outputs": [],
   "source": []
  },
  {
   "cell_type": "markdown",
   "id": "b9d1e8db",
   "metadata": {},
   "source": [
    "Notice that our multi-line string does not display the way we might hope. If a want to correctly render a multi-line string, we can use the `print` function."
   ]
  },
  {
   "cell_type": "code",
   "execution_count": null,
   "id": "1993e936",
   "metadata": {},
   "outputs": [],
   "source": []
  },
  {
   "cell_type": "markdown",
   "id": "8c40a808",
   "metadata": {},
   "source": [
    "The `print` function can be used anytime we want to display some information."
   ]
  },
  {
   "cell_type": "code",
   "execution_count": null,
   "id": "eac352da",
   "metadata": {},
   "outputs": [],
   "source": []
  },
  {
   "cell_type": "code",
   "execution_count": null,
   "id": "9efa3d54",
   "metadata": {},
   "outputs": [],
   "source": []
  },
  {
   "cell_type": "markdown",
   "id": "c110b62b-279b-4a4f-84ac-f14d9c0c684c",
   "metadata": {},
   "source": [
    "## Types"
   ]
  },
  {
   "cell_type": "markdown",
   "id": "a08c2b00",
   "metadata": {},
   "source": [
    "So far, we've talked about integers, floats, and strings. There are often times where we might want to convert between these datatypes.\n",
    " * The `int` function will try to convert an input to an integer type\n",
    " * The `float` function will try to convert an input to a float type\n",
    " * The `str` function will try to convert an input to a string type"
   ]
  },
  {
   "cell_type": "code",
   "execution_count": null,
   "id": "fc21f782-e43c-4e51-bfd6-39300054a885",
   "metadata": {},
   "outputs": [],
   "source": []
  },
  {
   "cell_type": "markdown",
   "id": "01bc258d",
   "metadata": {},
   "source": [
    "The `int` function will truncate a float and drop any decimal part."
   ]
  },
  {
   "cell_type": "code",
   "execution_count": null,
   "id": "0eab938f-f6a1-41f4-a2ac-c75c2e390e43",
   "metadata": {},
   "outputs": [],
   "source": []
  },
  {
   "cell_type": "markdown",
   "id": "54ade07b",
   "metadata": {},
   "source": [
    "Sometimes we might want to round to the nearest integer."
   ]
  },
  {
   "cell_type": "code",
   "execution_count": null,
   "id": "ceff5beb",
   "metadata": {},
   "outputs": [],
   "source": []
  },
  {
   "cell_type": "markdown",
   "id": "64be7a7b",
   "metadata": {},
   "source": [
    "## String formatting"
   ]
  },
  {
   "cell_type": "markdown",
   "id": "796a9969",
   "metadata": {},
   "source": [
    "Very often, we have some string template that we want to fill in with calculated data. For example, suppose we want to display a product of two numbers and the result."
   ]
  },
  {
   "cell_type": "code",
   "execution_count": null,
   "id": "a1173423",
   "metadata": {},
   "outputs": [],
   "source": []
  },
  {
   "cell_type": "markdown",
   "id": "5f5cb297",
   "metadata": {},
   "source": [
    "The `print` function can take in several inputs, and will display each after the other separted by a space. We can print all of this using a single print statement by separating our inputs by commas:"
   ]
  },
  {
   "cell_type": "code",
   "execution_count": null,
   "id": "c482a118",
   "metadata": {},
   "outputs": [],
   "source": []
  },
  {
   "cell_type": "markdown",
   "id": "469152eb",
   "metadata": {},
   "source": [
    "There are several ways that we can accomplish this in a sleeker fashion. One way is by using the `.format` method. Methods like the `.format` method are functions that are attached to objects, in this case to a string. This method can be called on some string in following way:\n",
    "\n",
    "`<some string>.format(<format options>)`.\n",
    "\n",
    "In the simplest case, we can create a string that contains placeholders denoted by curly braces `{}`, then supply values to the `.format` method that will sequentially fill in these placeholders."
   ]
  },
  {
   "cell_type": "code",
   "execution_count": null,
   "id": "d0dbdbb0",
   "metadata": {},
   "outputs": [],
   "source": []
  },
  {
   "cell_type": "markdown",
   "id": "5fb06eed",
   "metadata": {},
   "source": [
    "## Working with lists in Python"
   ]
  },
  {
   "cell_type": "markdown",
   "id": "359b465b",
   "metadata": {},
   "source": [
    "Another datatype in Python are `list`s which contain ordered collections of objects. To define a list, we surround a comma-separated collection with square brackets."
   ]
  },
  {
   "cell_type": "code",
   "execution_count": null,
   "id": "6567f507",
   "metadata": {},
   "outputs": [],
   "source": []
  },
  {
   "cell_type": "markdown",
   "id": "834ed602",
   "metadata": {},
   "source": [
    "To access elements of a list, we use square brackets again along with an index. Python is a **0-based indexing** language, which means the index of each list starts at `0`. That is, `0` indicates the first item in the list."
   ]
  },
  {
   "cell_type": "code",
   "execution_count": null,
   "id": "d9b4707f-900c-4627-9446-67360b2d9612",
   "metadata": {},
   "outputs": [],
   "source": []
  },
  {
   "cell_type": "markdown",
   "id": "700dd852",
   "metadata": {},
   "source": [
    "We can also access elements of a list by counting backward from the end using negative indices.\n",
    " * The `-1`st index gives the last element.\n",
    " * The `-2`nd index gives the second to last element."
   ]
  },
  {
   "cell_type": "code",
   "execution_count": null,
   "id": "3463a414-d6b3-45d4-8a1d-af633ee7fad9",
   "metadata": {},
   "outputs": [],
   "source": []
  },
  {
   "cell_type": "markdown",
   "id": "a74d8641",
   "metadata": {},
   "source": [
    "What sorts of operations can we perform on lists? For arithmetic operations, lists work very similarly to strings.\n",
    "\n",
    "Addition of lists:"
   ]
  },
  {
   "cell_type": "code",
   "execution_count": null,
   "id": "191f0d00",
   "metadata": {},
   "outputs": [],
   "source": []
  },
  {
   "cell_type": "markdown",
   "id": "7530f55a-7046-4099-91a5-b4991d8bb436",
   "metadata": {},
   "source": [
    "Multiplying a list and an integer:"
   ]
  },
  {
   "cell_type": "code",
   "execution_count": null,
   "id": "66e4ec6f",
   "metadata": {},
   "outputs": [],
   "source": []
  },
  {
   "cell_type": "markdown",
   "id": "d634a2e4",
   "metadata": {},
   "source": [
    "Lists and strings share many properties. We can convert a string to a list using the `list` function:"
   ]
  },
  {
   "cell_type": "code",
   "execution_count": null,
   "id": "c9088698",
   "metadata": {},
   "outputs": [],
   "source": []
  },
  {
   "cell_type": "markdown",
   "id": "8dae214d-4ce8-4423-bbee-064ea757283f",
   "metadata": {},
   "source": [
    "We can find the length of a list (or string) using the `len` function."
   ]
  },
  {
   "cell_type": "code",
   "execution_count": null,
   "id": "98ae9037-b4d2-4856-9e97-bc5bbfc3beac",
   "metadata": {},
   "outputs": [],
   "source": []
  },
  {
   "cell_type": "markdown",
   "id": "506d03c9-89ff-43d7-a0a4-c97e2cbe464f",
   "metadata": {},
   "source": [
    "What if we want to convert a list of string characters to a string? The `str` function can be used to convert objects to strings."
   ]
  },
  {
   "cell_type": "code",
   "execution_count": null,
   "id": "d8b8932c",
   "metadata": {},
   "outputs": [],
   "source": []
  },
  {
   "cell_type": "markdown",
   "id": "b4d7b93c",
   "metadata": {},
   "source": [
    "It does not look like this is doing quite what we want, since the resulting includes the list delimitors and element separators."
   ]
  },
  {
   "cell_type": "markdown",
   "id": "23abd5d7",
   "metadata": {},
   "source": [
    "We can fix this by using the `.join` method on a string. The `.join` method takes in a list of strings and concetanates them. However, it uses the object from which it is called to separate each concatenation. If we call the `.join` method from an empty string `''`, we will get simple concatenation."
   ]
  },
  {
   "cell_type": "code",
   "execution_count": null,
   "id": "36381233",
   "metadata": {},
   "outputs": [],
   "source": []
  },
  {
   "cell_type": "markdown",
   "id": "0703a057",
   "metadata": {},
   "source": [
    "Let's use a separator `-` between the concatenated elements:"
   ]
  },
  {
   "cell_type": "code",
   "execution_count": null,
   "id": "b71b1184-f55a-40a2-a50a-175534399dfe",
   "metadata": {},
   "outputs": [],
   "source": []
  },
  {
   "cell_type": "markdown",
   "id": "9fbb7197",
   "metadata": {},
   "source": [
    "## Working with loops in Python"
   ]
  },
  {
   "cell_type": "markdown",
   "id": "0b930e41",
   "metadata": {},
   "source": [
    "We can perform iterative operations using a `for` loop. For example, we can iterate through the items in a list and perform some desired operations."
   ]
  },
  {
   "cell_type": "markdown",
   "id": "14ce4915",
   "metadata": {},
   "source": [
    "The syntax for writing a `for` loop is: \n",
    "<code>\n",
    "for (some variable name) in (some iterable object):\n",
    "    (do something)\n",
    "</code>\n",
    "\n",
    "The variable `(some variable name)` will sequentially take on each of the values stored in `(some iterable object)`, and for each value will `(do something)`."
   ]
  },
  {
   "cell_type": "code",
   "execution_count": null,
   "id": "a4dab02e",
   "metadata": {},
   "outputs": [],
   "source": []
  },
  {
   "cell_type": "markdown",
   "id": "d1e50a1f",
   "metadata": {},
   "source": [
    "**Key info**: The spacing in Python is **critical!!!**. In particular, the spacing decides what operations are part of a `for` loop and what operations are not."
   ]
  },
  {
   "cell_type": "code",
   "execution_count": null,
   "id": "25158846",
   "metadata": {},
   "outputs": [],
   "source": []
  },
  {
   "cell_type": "markdown",
   "id": "b4d3f07a",
   "metadata": {},
   "source": [
    "We can also use `for` loops inside other `for` loops. We call these \"nested loops\".\n",
    "\n",
    "For example, let's write nested loops that iterate through all combinations of integers from the two lists `[1,2,3]` and `[4,5,6]` and prints out the sum for each combination."
   ]
  },
  {
   "cell_type": "code",
   "execution_count": null,
   "id": "1f7a0356",
   "metadata": {},
   "outputs": [],
   "source": []
  },
  {
   "cell_type": "markdown",
   "id": "29c18c6a",
   "metadata": {},
   "source": [
    "What if we wanted to iterate through pairs from each list? That is, suppose we want to consider the lists in parallel and iterate through the three pairs `(1,4)`, `(2,5)`, and `(3,6)`."
   ]
  },
  {
   "cell_type": "code",
   "execution_count": null,
   "id": "315ee452-44e4-46ab-9f14-f224fd0ba86f",
   "metadata": {},
   "outputs": [],
   "source": []
  },
  {
   "cell_type": "markdown",
   "id": "3b34c34e",
   "metadata": {},
   "source": [
    "We can use other types of iterables to setup `for` loops. In the examples above, we've been iterating through a pre-defined list. Suppose we want to perform some operation on the first 10,000 positive integers."
   ]
  },
  {
   "cell_type": "code",
   "execution_count": null,
   "id": "c03a1157",
   "metadata": {},
   "outputs": [],
   "source": []
  },
  {
   "cell_type": "markdown",
   "id": "4aec41a7",
   "metadata": {},
   "source": [
    "Of course, it's not reasonable for us to write down a list of the first 10,000 positive integers in order to iterate through them. Instead, we can use the `range` function. \n",
    "\n",
    "Note: We can use the `help` function to learn more about something in Python. For example, `help(range)` will tell us about the `range` function."
   ]
  },
  {
   "cell_type": "code",
   "execution_count": null,
   "id": "110f6267",
   "metadata": {},
   "outputs": [],
   "source": [
    "#help(range)"
   ]
  },
  {
   "cell_type": "markdown",
   "id": "943ee916",
   "metadata": {},
   "source": [
    "In particular:\n",
    " * `range(n)` will give a sequence of integers starting at `0` and going up to `n-1`.\n",
    " * `range(m,n)` will give a sequence of integers starting at `m` and going up to `n-1`.\n",
    " * `range(m,n,k)` will give a sequence of integers starting `m`, stepping by `k`, and stopping before `n`."
   ]
  },
  {
   "cell_type": "code",
   "execution_count": null,
   "id": "bb002eb6",
   "metadata": {},
   "outputs": [],
   "source": []
  },
  {
   "cell_type": "code",
   "execution_count": null,
   "id": "892300c2",
   "metadata": {},
   "outputs": [],
   "source": []
  },
  {
   "cell_type": "code",
   "execution_count": null,
   "id": "642a8460",
   "metadata": {},
   "outputs": [],
   "source": []
  },
  {
   "cell_type": "markdown",
   "id": "64db5e7d",
   "metadata": {},
   "source": [
    "**Exercise**: Write Python code to print the cubes of the first 50 positive integers."
   ]
  },
  {
   "cell_type": "code",
   "execution_count": null,
   "id": "c857908d",
   "metadata": {},
   "outputs": [],
   "source": []
  },
  {
   "cell_type": "markdown",
   "id": "f8db8f31",
   "metadata": {},
   "source": [
    "So far, we've explicitly generated lists using square brackets and comma-separated inputs. Suppose we want to generate a list containing the cubes of the first 50 positive integers. Our current strategy is not reasonable for this sort of task."
   ]
  },
  {
   "cell_type": "markdown",
   "id": "918b1d5d",
   "metadata": {},
   "source": [
    "The `.append` method (attached to a list) can be used to add an element to a list. That is, we can write something like `<some list>.append(<some new element>)` to add `<some new element>` to `<some list>`."
   ]
  },
  {
   "cell_type": "code",
   "execution_count": null,
   "id": "520850aa",
   "metadata": {},
   "outputs": [],
   "source": []
  },
  {
   "cell_type": "markdown",
   "id": "447b3d4c-a0f3-45a0-b7c8-1f541c6ba804",
   "metadata": {},
   "source": [
    "To build a list of the cubes of the first 50 positive integers, we can start with an empty list `[]` and then iteratively use the `.append` method to add elements to that list."
   ]
  },
  {
   "cell_type": "code",
   "execution_count": null,
   "id": "d7594b8d",
   "metadata": {},
   "outputs": [],
   "source": []
  },
  {
   "cell_type": "markdown",
   "id": "791c1b0d",
   "metadata": {},
   "source": [
    "Suppose we want to count how many of the first 50 cubes end in a digit of `1`. That means we want iterate through each of our cubes, and then somehow decide whether or not it ends in a `1`. This leads us to Boolean expressions and `if` statements."
   ]
  },
  {
   "cell_type": "markdown",
   "id": "35600194",
   "metadata": {},
   "source": [
    "## Boolean expressions"
   ]
  },
  {
   "cell_type": "markdown",
   "id": "3d2a238e",
   "metadata": {},
   "source": [
    "There are two Boolean values, namely `True` and `False`."
   ]
  },
  {
   "cell_type": "markdown",
   "id": "dc83a953",
   "metadata": {},
   "source": [
    "We can write statements that evalute to either `True` or `False` called **Boolean expressions**. For example, we can compare two numbers using `<` or `>` to see if one is less than the other or one is greater than the other."
   ]
  },
  {
   "cell_type": "code",
   "execution_count": null,
   "id": "1ad74121",
   "metadata": {},
   "outputs": [],
   "source": []
  },
  {
   "cell_type": "code",
   "execution_count": null,
   "id": "8be86815",
   "metadata": {},
   "outputs": [],
   "source": []
  },
  {
   "cell_type": "code",
   "execution_count": null,
   "id": "11d8d563",
   "metadata": {},
   "outputs": [],
   "source": []
  },
  {
   "cell_type": "markdown",
   "id": "fda846cb",
   "metadata": {},
   "source": [
    "We can use `<=` or `>=` for less than/greater than or equal to:"
   ]
  },
  {
   "cell_type": "code",
   "execution_count": null,
   "id": "1195753e",
   "metadata": {},
   "outputs": [],
   "source": []
  },
  {
   "cell_type": "code",
   "execution_count": null,
   "id": "2f6e4d9c",
   "metadata": {},
   "outputs": [],
   "source": []
  },
  {
   "cell_type": "code",
   "execution_count": null,
   "id": "7ab3a51e",
   "metadata": {},
   "outputs": [],
   "source": []
  },
  {
   "cell_type": "markdown",
   "id": "e496dad5-845c-44fd-bcaa-00486096b103",
   "metadata": {},
   "source": [
    "Inequality checks can be chained together:"
   ]
  },
  {
   "cell_type": "code",
   "execution_count": null,
   "id": "324307a2-faec-485f-a064-5dc7ba80e5ec",
   "metadata": {},
   "outputs": [],
   "source": []
  },
  {
   "cell_type": "markdown",
   "id": "1173108a",
   "metadata": {},
   "source": [
    "We can use a double equality `==` to check whether two objects are equal to one another:"
   ]
  },
  {
   "cell_type": "code",
   "execution_count": null,
   "id": "d611b039",
   "metadata": {},
   "outputs": [],
   "source": []
  },
  {
   "cell_type": "markdown",
   "id": "25ba1fb6",
   "metadata": {},
   "source": [
    "We can also check whether two lists are equal to one another:"
   ]
  },
  {
   "cell_type": "code",
   "execution_count": null,
   "id": "1482d720",
   "metadata": {},
   "outputs": [],
   "source": []
  },
  {
   "cell_type": "code",
   "execution_count": null,
   "id": "4a9a663f",
   "metadata": {},
   "outputs": [],
   "source": []
  },
  {
   "cell_type": "markdown",
   "id": "8f5c1bd8",
   "metadata": {},
   "source": [
    "We can use an `if` statement to perform some operations only when a Boolean expression is `True`. Again, **spacing is CRITICAL**, as it indicates which operations are part of the `if` statement (which will only run when the Boolean expression is `True`), and which operations will run regardless."
   ]
  },
  {
   "cell_type": "code",
   "execution_count": null,
   "id": "099baa50",
   "metadata": {},
   "outputs": [],
   "source": []
  },
  {
   "cell_type": "markdown",
   "id": "0356f16b-629b-426c-b5f1-25897ec0dbba",
   "metadata": {},
   "source": [
    "We very often want to perform different operations based on several Boolean expressions. We can supplement an `if` statement with an `elif` statement (which is short for \"else if\") with a new Boolean expression to perform operations only in the case that the first `if` expression was `False` and the new expression is `True`:"
   ]
  },
  {
   "cell_type": "code",
   "execution_count": null,
   "id": "4fc18abc",
   "metadata": {},
   "outputs": [],
   "source": []
  },
  {
   "cell_type": "markdown",
   "id": "ae2a9339",
   "metadata": {},
   "source": [
    "We can also use an `else` statement to perform some operations if none of the `if` or `elif` Boolean expressions were `True`."
   ]
  },
  {
   "cell_type": "code",
   "execution_count": null,
   "id": "1583b41b",
   "metadata": {},
   "outputs": [],
   "source": []
  },
  {
   "cell_type": "markdown",
   "id": "66cc0930",
   "metadata": {},
   "source": [
    "**Exercise:** Count how many cubes of the first 50 positive integers end in a digit of 1."
   ]
  },
  {
   "cell_type": "code",
   "execution_count": null,
   "id": "7094a09b",
   "metadata": {},
   "outputs": [],
   "source": []
  },
  {
   "cell_type": "markdown",
   "id": "e6632c37-79c4-459e-99c5-c71d0298a2b5",
   "metadata": {},
   "source": [
    "Some thoughts about efficiency:\n"
   ]
  },
  {
   "cell_type": "markdown",
   "id": "d054dca7-296f-4509-8ed0-82caf151cb5d",
   "metadata": {},
   "source": [
    "**Exercise:** Modify the previous cell to count the number of cubes whose remainder after dividing by `4` is `0`.\n",
    "\n",
    "**Exercise:** Modify your code from the previous exercise to also count the number of cubes whose remainder after dividing by `4` is `1`, `2`, and `3` respectively."
   ]
  },
  {
   "cell_type": "code",
   "execution_count": null,
   "id": "29cfb54f",
   "metadata": {},
   "outputs": [],
   "source": []
  },
  {
   "cell_type": "markdown",
   "id": "ea74a92e-b8e8-4e49-a4ff-7e02ca9fdcf5",
   "metadata": {},
   "source": [
    "## while loops"
   ]
  },
  {
   "cell_type": "markdown",
   "id": "86a765ca-5c3c-4585-a1de-63a92de85de7",
   "metadata": {},
   "source": [
    "Suppose that we want to find the first 100 cubes that have remainder `1` after division by `4`.\n",
    "\n",
    "Problem: We don't know ahead of time how many numbers we'd have to check before we find 100 such cubes.\n",
    "\n",
    "For these types of problems, we can use a `while` loop. A `while` loops will iteratiavely perform some operations as long as some Boolean expression is `True`. The syntax is as follows:\n",
    "<code>\n",
    "while (some Boolean expression is True):\n",
    "    (do something)\n",
    "</code>\n",
    "\n",
    "Note: the `(some Boolean expression)` can be (and often is) a variable that will be modified within the `while` loop."
   ]
  },
  {
   "cell_type": "code",
   "execution_count": null,
   "id": "64a91f8a",
   "metadata": {},
   "outputs": [],
   "source": []
  },
  {
   "cell_type": "code",
   "execution_count": null,
   "id": "a96f6d64",
   "metadata": {},
   "outputs": [],
   "source": []
  },
  {
   "cell_type": "code",
   "execution_count": null,
   "id": "735dbb43",
   "metadata": {},
   "outputs": [],
   "source": []
  },
  {
   "cell_type": "markdown",
   "id": "02f4c4e8-ad28-4736-a09b-5b8f12254667",
   "metadata": {},
   "source": [
    "**Warnings:**\n",
    " - Unlike with `for` loops, it is very easy to end up with a `while` loop that runs forever.\n",
    " - Always make sure that your Boolean expression will eventually be `False` so that the `while` loop can terminate\n",
    " - Check that you are incrementing any necessary variables with each iteration"
   ]
  },
  {
   "cell_type": "markdown",
   "id": "47ccc43c-0a08-4939-a4e7-9a0e5e897fb8",
   "metadata": {},
   "source": [
    "There are some shortcuts for incrementing variables. In particular:\n",
    " - `n += 1` is equivalent to `n = n + 1`\n",
    " - `n -= 3` is equivalent to `n = n - 3`\n",
    " - `n *= 7` is equivalent to `n = n * 7`\n"
   ]
  },
  {
   "cell_type": "code",
   "execution_count": null,
   "id": "01301802",
   "metadata": {},
   "outputs": [],
   "source": []
  }
 ],
 "metadata": {
  "kernelspec": {
   "display_name": "Python 3 (ipykernel)",
   "language": "python",
   "name": "python3"
  },
  "language_info": {
   "codemirror_mode": {
    "name": "ipython",
    "version": 3
   },
   "file_extension": ".py",
   "mimetype": "text/x-python",
   "name": "python",
   "nbconvert_exporter": "python",
   "pygments_lexer": "ipython3",
   "version": "3.13.5"
  }
 },
 "nbformat": 4,
 "nbformat_minor": 5
}
