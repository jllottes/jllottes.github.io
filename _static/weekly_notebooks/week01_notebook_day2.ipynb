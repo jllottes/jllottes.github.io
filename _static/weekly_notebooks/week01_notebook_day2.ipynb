{
 "cells": [
  {
   "cell_type": "markdown",
   "id": "f276bf17",
   "metadata": {},
   "source": [
    "# Wednesday, August 27th, 2025"
   ]
  },
  {
   "cell_type": "markdown",
   "id": "d1060998-8967-4281-a4c2-b0d935c8d42b",
   "metadata": {},
   "source": [
    "## Variables"
   ]
  },
  {
   "cell_type": "markdown",
   "id": "cccf22da",
   "metadata": {},
   "source": [
    "Last time, we had just started discussing defining variables in Python."
   ]
  },
  {
   "cell_type": "code",
   "execution_count": 2,
   "id": "20c20fdd",
   "metadata": {},
   "outputs": [
    {
     "data": {
      "text/plain": [
       "1"
      ]
     },
     "execution_count": 2,
     "metadata": {},
     "output_type": "execute_result"
    }
   ],
   "source": [
    "a = 1\n",
    "\n",
    "a"
   ]
  },
  {
   "cell_type": "markdown",
   "id": "23d8f2ca-fb19-4731-aeb3-058d7e5f2825",
   "metadata": {},
   "source": [
    "Note: Jupyter will display the output of the last line of any cell. We can view the contents of a defined variable by ending a cell with the variable name."
   ]
  },
  {
   "cell_type": "code",
   "execution_count": 3,
   "id": "9e9d48b3-a7bf-4fe2-b49b-68dbb50279d9",
   "metadata": {},
   "outputs": [
    {
     "data": {
      "text/plain": [
       "7"
      ]
     },
     "execution_count": 3,
     "metadata": {},
     "output_type": "execute_result"
    }
   ],
   "source": [
    "a = 1\n",
    "b = 3\n",
    "c = 7\n",
    "\n",
    "a\n",
    "b\n",
    "c"
   ]
  },
  {
   "cell_type": "markdown",
   "id": "9cf90599",
   "metadata": {},
   "source": [
    "Variable names must:\n",
    " * Start with a letter or underscore (`_`)\n",
    " * Contain only letters, numbers, or underscores. "
   ]
  },
  {
   "cell_type": "code",
   "execution_count": 4,
   "id": "9e005d20-bfea-4cf2-a74e-8c9c1caf332a",
   "metadata": {},
   "outputs": [
    {
     "data": {
      "text/plain": [
       "7"
      ]
     },
     "execution_count": 4,
     "metadata": {},
     "output_type": "execute_result"
    }
   ],
   "source": [
    "this_is_a_variable = 7\n",
    "this_is_a_variable"
   ]
  },
  {
   "cell_type": "code",
   "execution_count": 5,
   "id": "f6db3cce-c740-4fee-b071-08d8bb6d25c9",
   "metadata": {},
   "outputs": [
    {
     "data": {
      "text/plain": [
       "5"
      ]
     },
     "execution_count": 5,
     "metadata": {},
     "output_type": "execute_result"
    }
   ],
   "source": [
    "_variable_starting_with_underscore = 5\n",
    "_variable_starting_with_underscore"
   ]
  },
  {
   "cell_type": "code",
   "execution_count": 6,
   "id": "df63c521-41d1-46df-ab70-95cadc00ee7d",
   "metadata": {},
   "outputs": [
    {
     "ename": "SyntaxError",
     "evalue": "invalid decimal literal (3312520711.py, line 1)",
     "output_type": "error",
     "traceback": [
      "\u001b[1;36m  Cell \u001b[1;32mIn[6], line 1\u001b[1;36m\u001b[0m\n\u001b[1;33m    5variable_starting_with_number = 10\u001b[0m\n\u001b[1;37m    ^\u001b[0m\n\u001b[1;31mSyntaxError\u001b[0m\u001b[1;31m:\u001b[0m invalid decimal literal\n"
     ]
    }
   ],
   "source": [
    "5variable_starting_with_number = 10"
   ]
  },
  {
   "cell_type": "code",
   "execution_count": 7,
   "id": "16d06677-effc-494c-a86f-a790132584ac",
   "metadata": {},
   "outputs": [
    {
     "data": {
      "text/plain": [
       "5"
      ]
     },
     "execution_count": 7,
     "metadata": {},
     "output_type": "execute_result"
    }
   ],
   "source": [
    "num1 = 1\n",
    "num5 = 5\n",
    "\n",
    "num5"
   ]
  },
  {
   "cell_type": "markdown",
   "id": "3cc8129d",
   "metadata": {},
   "source": [
    "Very often, we'll use underscores as spaces to separate words in our variable names. Another style (known as camelcase) uses capital letters to denote the start of a new word."
   ]
  },
  {
   "cell_type": "code",
   "execution_count": 8,
   "id": "c0bc6267",
   "metadata": {},
   "outputs": [
    {
     "data": {
      "text/plain": [
       "-5"
      ]
     },
     "execution_count": 8,
     "metadata": {},
     "output_type": "execute_result"
    }
   ],
   "source": [
    "thisIsACamelCaseVariable = -5\n",
    "thisIsACamelCaseVariable"
   ]
  },
  {
   "cell_type": "markdown",
   "id": "f85e4e79",
   "metadata": {},
   "source": [
    "In general, we want to choose concise variable names that helps the reader understand what they represent."
   ]
  },
  {
   "cell_type": "markdown",
   "id": "f2bc0ba5-b710-4d80-9d45-187ff49a96cd",
   "metadata": {},
   "source": [
    "For example, recall the exercise from last class where we performed long-division:"
   ]
  },
  {
   "cell_type": "code",
   "execution_count": 9,
   "id": "6fadb39d-e694-4b93-9e81-d8f583818e46",
   "metadata": {},
   "outputs": [],
   "source": [
    "a = 102\n",
    "b = 42\n",
    "c = a // b\n",
    "d = a % b"
   ]
  },
  {
   "cell_type": "code",
   "execution_count": 10,
   "id": "c2a5f6ad-9dbe-4660-929f-fc64f84b556b",
   "metadata": {},
   "outputs": [
    {
     "data": {
      "text/plain": [
       "2"
      ]
     },
     "execution_count": 10,
     "metadata": {},
     "output_type": "execute_result"
    }
   ],
   "source": [
    "c"
   ]
  },
  {
   "cell_type": "code",
   "execution_count": 11,
   "id": "dce46458-9426-42a8-9a79-9fbc476465d9",
   "metadata": {},
   "outputs": [
    {
     "data": {
      "text/plain": [
       "18"
      ]
     },
     "execution_count": 11,
     "metadata": {},
     "output_type": "execute_result"
    }
   ],
   "source": [
    "d"
   ]
  },
  {
   "cell_type": "code",
   "execution_count": 12,
   "id": "b1edf7e4-dfd0-4dda-b543-d7f11808278c",
   "metadata": {},
   "outputs": [
    {
     "data": {
      "text/plain": [
       "102"
      ]
     },
     "execution_count": 12,
     "metadata": {},
     "output_type": "execute_result"
    }
   ],
   "source": [
    "c*b + d"
   ]
  },
  {
   "cell_type": "markdown",
   "id": "f574d101-c9b9-4bd7-9fcd-41a313ba725a",
   "metadata": {},
   "source": [
    "In the above, the variable names do not help to illustrate what each variable represents. Let's try to improve on this:"
   ]
  },
  {
   "cell_type": "code",
   "execution_count": 13,
   "id": "8c7215ba-b1a5-4964-9f84-aec9f2ccb1a4",
   "metadata": {},
   "outputs": [],
   "source": [
    "numerator = 102\n",
    "denominator = 42\n",
    "quotient = numerator // denominator \n",
    "remainder = numerator % denominator"
   ]
  },
  {
   "cell_type": "code",
   "execution_count": 14,
   "id": "da7f996e-f567-49ed-a105-dbd305987edc",
   "metadata": {},
   "outputs": [
    {
     "data": {
      "text/plain": [
       "2"
      ]
     },
     "execution_count": 14,
     "metadata": {},
     "output_type": "execute_result"
    }
   ],
   "source": [
    "quotient"
   ]
  },
  {
   "cell_type": "code",
   "execution_count": 15,
   "id": "a17ac653-52d6-4fd0-9d85-b06dc374218d",
   "metadata": {},
   "outputs": [
    {
     "data": {
      "text/plain": [
       "18"
      ]
     },
     "execution_count": 15,
     "metadata": {},
     "output_type": "execute_result"
    }
   ],
   "source": [
    "remainder"
   ]
  },
  {
   "cell_type": "code",
   "execution_count": 16,
   "id": "f331c9b2-2a67-46e9-936b-14ebfd297e0a",
   "metadata": {},
   "outputs": [
    {
     "data": {
      "text/plain": [
       "102"
      ]
     },
     "execution_count": 16,
     "metadata": {},
     "output_type": "execute_result"
    }
   ],
   "source": [
    "quotient * denominator + remainder"
   ]
  },
  {
   "cell_type": "markdown",
   "id": "4b6418c5",
   "metadata": {},
   "source": [
    "We can define several variables simultaneously by separating the variables and their respective defintitions by commas:"
   ]
  },
  {
   "cell_type": "code",
   "execution_count": 17,
   "id": "68a919e4",
   "metadata": {},
   "outputs": [],
   "source": [
    "a, b, c = 1, 2, 3"
   ]
  },
  {
   "cell_type": "code",
   "execution_count": 18,
   "id": "965510f0-05e0-4bb7-bdae-383d97b87e9c",
   "metadata": {},
   "outputs": [
    {
     "data": {
      "text/plain": [
       "1"
      ]
     },
     "execution_count": 18,
     "metadata": {},
     "output_type": "execute_result"
    }
   ],
   "source": [
    "a"
   ]
  },
  {
   "cell_type": "code",
   "execution_count": 19,
   "id": "e51ddfb3-ec78-4147-ac17-04bb6d306fb7",
   "metadata": {},
   "outputs": [
    {
     "data": {
      "text/plain": [
       "2"
      ]
     },
     "execution_count": 19,
     "metadata": {},
     "output_type": "execute_result"
    }
   ],
   "source": [
    "b"
   ]
  },
  {
   "cell_type": "code",
   "execution_count": 20,
   "id": "b1583941-4ccb-48bc-9f1e-aad35b60d852",
   "metadata": {},
   "outputs": [
    {
     "data": {
      "text/plain": [
       "3"
      ]
     },
     "execution_count": 20,
     "metadata": {},
     "output_type": "execute_result"
    }
   ],
   "source": [
    "c"
   ]
  },
  {
   "cell_type": "markdown",
   "id": "09bb6b5d",
   "metadata": {},
   "source": [
    "This can be very useful if we ever want to swap the meaning of two variables. As an example, suppose we define `a = 1` and `b = 2`, but then want to swap their values."
   ]
  },
  {
   "cell_type": "code",
   "execution_count": 21,
   "id": "1e619f81-04cb-4e7c-90bb-e70254eb5013",
   "metadata": {},
   "outputs": [],
   "source": [
    "a = 1\n",
    "b = 2\n",
    "\n",
    "old_a = a\n",
    "\n",
    "a = b\n",
    "b = old_a"
   ]
  },
  {
   "cell_type": "code",
   "execution_count": 22,
   "id": "92860034-a935-4710-b39d-aa5af191cd98",
   "metadata": {},
   "outputs": [
    {
     "data": {
      "text/plain": [
       "2"
      ]
     },
     "execution_count": 22,
     "metadata": {},
     "output_type": "execute_result"
    }
   ],
   "source": [
    "a"
   ]
  },
  {
   "cell_type": "code",
   "execution_count": 23,
   "id": "418e48a7-beb7-4cd4-9117-62c193bca648",
   "metadata": {},
   "outputs": [
    {
     "data": {
      "text/plain": [
       "1"
      ]
     },
     "execution_count": 23,
     "metadata": {},
     "output_type": "execute_result"
    }
   ],
   "source": [
    "b"
   ]
  },
  {
   "cell_type": "markdown",
   "id": "cffcc13d-39bc-4396-8455-5b939f1dc2fd",
   "metadata": {},
   "source": [
    "Alternatively, we can use simultaneous assignment to swap them without an intermediate variable:"
   ]
  },
  {
   "cell_type": "code",
   "execution_count": 24,
   "id": "a511e46b-88f4-4212-85fb-0da1dc1430a1",
   "metadata": {},
   "outputs": [],
   "source": [
    "a = 1\n",
    "b = 2\n",
    "\n",
    "a,b = b,a"
   ]
  },
  {
   "cell_type": "code",
   "execution_count": 25,
   "id": "5bf07fe0-3eb9-47fc-928f-0e52e6dedec4",
   "metadata": {},
   "outputs": [
    {
     "data": {
      "text/plain": [
       "2"
      ]
     },
     "execution_count": 25,
     "metadata": {},
     "output_type": "execute_result"
    }
   ],
   "source": [
    "a"
   ]
  },
  {
   "cell_type": "code",
   "execution_count": 26,
   "id": "574fdad0-6c69-4efd-a08c-3d997cf91cda",
   "metadata": {},
   "outputs": [
    {
     "data": {
      "text/plain": [
       "1"
      ]
     },
     "execution_count": 26,
     "metadata": {},
     "output_type": "execute_result"
    }
   ],
   "source": [
    "b"
   ]
  },
  {
   "cell_type": "markdown",
   "id": "fc60fb5e",
   "metadata": {},
   "source": [
    "## Working with strings"
   ]
  },
  {
   "cell_type": "markdown",
   "id": "48c6e656",
   "metadata": {},
   "source": [
    "In Python, strings are used to hold text data. We can define strings by surrounding some text by double quotes `\"` or single quotes `'`:"
   ]
  },
  {
   "cell_type": "code",
   "execution_count": 27,
   "id": "fe461838",
   "metadata": {},
   "outputs": [],
   "source": [
    "this_is_a_string = 'Hello, welcome to MTH 337.'"
   ]
  },
  {
   "cell_type": "code",
   "execution_count": 28,
   "id": "a69bbcae-cd21-4b84-9df5-df364cf56175",
   "metadata": {},
   "outputs": [
    {
     "data": {
      "text/plain": [
       "'Hello, welcome to MTH 337.'"
      ]
     },
     "execution_count": 28,
     "metadata": {},
     "output_type": "execute_result"
    }
   ],
   "source": [
    "this_is_a_string"
   ]
  },
  {
   "cell_type": "markdown",
   "id": "da4a33b1",
   "metadata": {},
   "source": [
    "There are many operations that can be performed on strings. For example:\n",
    "\n",
    "Addition of strings:"
   ]
  },
  {
   "cell_type": "code",
   "execution_count": 29,
   "id": "bdc381a7-03f8-4732-b097-39af7acb5b9a",
   "metadata": {},
   "outputs": [
    {
     "data": {
      "text/plain": [
       "\"Hello, welcome to MTH 337. I'm having fun!\""
      ]
     },
     "execution_count": 29,
     "metadata": {},
     "output_type": "execute_result"
    }
   ],
   "source": [
    "this_is_a_second_string = \"I'm having fun!\"\n",
    "\n",
    "this_is_a_string + ' ' + this_is_a_second_string"
   ]
  },
  {
   "cell_type": "markdown",
   "id": "c4b5772f-1a2a-4bbc-86dc-d0e2aeb5e799",
   "metadata": {},
   "source": [
    "Adding strings together concatenates them."
   ]
  },
  {
   "cell_type": "markdown",
   "id": "ebb78053-5a5b-40cf-b872-619f764fef9e",
   "metadata": {},
   "source": [
    "Multiplying a string with an integer:"
   ]
  },
  {
   "cell_type": "code",
   "execution_count": 30,
   "id": "45cb6651",
   "metadata": {},
   "outputs": [
    {
     "data": {
      "text/plain": [
       "\"I'm having fun!I'm having fun!I'm having fun!I'm having fun!I'm having fun!\""
      ]
     },
     "execution_count": 30,
     "metadata": {},
     "output_type": "execute_result"
    }
   ],
   "source": [
    "this_is_a_second_string * 5"
   ]
  },
  {
   "cell_type": "markdown",
   "id": "4bda178c-ed41-4803-877c-7be2e9329326",
   "metadata": {},
   "source": [
    "Multiplying a string by an integer contatenates that number of copies together."
   ]
  },
  {
   "cell_type": "markdown",
   "id": "13be38e5-efb5-4703-8633-cfcc20a74421",
   "metadata": {},
   "source": [
    "Multiplying a string with a float?"
   ]
  },
  {
   "cell_type": "code",
   "execution_count": 31,
   "id": "5d815a15",
   "metadata": {},
   "outputs": [
    {
     "ename": "TypeError",
     "evalue": "can't multiply sequence by non-int of type 'float'",
     "output_type": "error",
     "traceback": [
      "\u001b[1;31m---------------------------------------------------------------------------\u001b[0m",
      "\u001b[1;31mTypeError\u001b[0m                                 Traceback (most recent call last)",
      "Cell \u001b[1;32mIn[31], line 1\u001b[0m\n\u001b[1;32m----> 1\u001b[0m this_is_a_string \u001b[38;5;241m*\u001b[39m \u001b[38;5;241m2.0\u001b[39m\n",
      "\u001b[1;31mTypeError\u001b[0m: can't multiply sequence by non-int of type 'float'"
     ]
    }
   ],
   "source": [
    "this_is_a_string * 2.0"
   ]
  },
  {
   "cell_type": "markdown",
   "id": "fa076787-4e4f-40f6-80db-db50e4fe8c65",
   "metadata": {},
   "source": [
    "Multiplying two strings?"
   ]
  },
  {
   "cell_type": "code",
   "execution_count": null,
   "id": "1e0a6ce0",
   "metadata": {},
   "outputs": [],
   "source": [
    "'123' * '456'"
   ]
  },
  {
   "cell_type": "markdown",
   "id": "90b9976a",
   "metadata": {},
   "source": [
    "Multi-line strings can be used using triple-single-quotes `'''` to surround the string:"
   ]
  },
  {
   "cell_type": "code",
   "execution_count": null,
   "id": "2e9c1ed1",
   "metadata": {},
   "outputs": [],
   "source": [
    "multiline_string = '''This is a multi-line string.\n",
    "Here is line 2.\n",
    "My name is line 3!'''"
   ]
  },
  {
   "cell_type": "code",
   "execution_count": null,
   "id": "645fd6bc",
   "metadata": {},
   "outputs": [],
   "source": [
    "multiline_string"
   ]
  },
  {
   "cell_type": "markdown",
   "id": "b9d1e8db",
   "metadata": {},
   "source": [
    "Notice that our multi-line string does not display the way we might hope. If a want to correctly render a multi-line string, we can use the `print` function."
   ]
  },
  {
   "cell_type": "code",
   "execution_count": 32,
   "id": "1993e936",
   "metadata": {},
   "outputs": [
    {
     "ename": "NameError",
     "evalue": "name 'multiline_string' is not defined",
     "output_type": "error",
     "traceback": [
      "\u001b[1;31m---------------------------------------------------------------------------\u001b[0m",
      "\u001b[1;31mNameError\u001b[0m                                 Traceback (most recent call last)",
      "Cell \u001b[1;32mIn[32], line 1\u001b[0m\n\u001b[1;32m----> 1\u001b[0m \u001b[38;5;28mprint\u001b[39m(multiline_string)\n",
      "\u001b[1;31mNameError\u001b[0m: name 'multiline_string' is not defined"
     ]
    }
   ],
   "source": [
    "print(multiline_string)"
   ]
  },
  {
   "cell_type": "markdown",
   "id": "8c40a808",
   "metadata": {},
   "source": [
    "The `print` function can be used anytime we want to display some information."
   ]
  },
  {
   "cell_type": "code",
   "execution_count": 33,
   "id": "eac352da",
   "metadata": {},
   "outputs": [
    {
     "name": "stdout",
     "output_type": "stream",
     "text": [
      "1\n",
      "2\n",
      "3\n"
     ]
    },
    {
     "data": {
      "text/plain": [
       "1"
      ]
     },
     "execution_count": 33,
     "metadata": {},
     "output_type": "execute_result"
    }
   ],
   "source": [
    "a = 1\n",
    "b = 2\n",
    "c = 3\n",
    "\n",
    "print(a)\n",
    "print(b)\n",
    "print(c)\n",
    "a"
   ]
  },
  {
   "cell_type": "markdown",
   "id": "c110b62b-279b-4a4f-84ac-f14d9c0c684c",
   "metadata": {},
   "source": [
    "## Types"
   ]
  },
  {
   "cell_type": "markdown",
   "id": "a08c2b00",
   "metadata": {},
   "source": [
    "So far, we've talked about integers, floats, and strings. There are often times where we might want to convert between these datatypes.\n",
    " * The `int` function will try to convert an input to an integer type\n",
    " * The `float` function will try to convert an input to a float type\n",
    " * The `str` function will try to convert an input to a string type"
   ]
  },
  {
   "cell_type": "code",
   "execution_count": 34,
   "id": "fc21f782-e43c-4e51-bfd6-39300054a885",
   "metadata": {},
   "outputs": [
    {
     "data": {
      "text/plain": [
       "246"
      ]
     },
     "execution_count": 34,
     "metadata": {},
     "output_type": "execute_result"
    }
   ],
   "source": [
    "int('123') * 2"
   ]
  },
  {
   "cell_type": "code",
   "execution_count": 35,
   "id": "22ac3deb-9881-4f3a-92dc-c5094d909532",
   "metadata": {},
   "outputs": [
    {
     "data": {
      "text/plain": [
       "'123123'"
      ]
     },
     "execution_count": 35,
     "metadata": {},
     "output_type": "execute_result"
    }
   ],
   "source": [
    "str(123) * 2"
   ]
  },
  {
   "cell_type": "code",
   "execution_count": 36,
   "id": "e0a16418-d76b-4248-8af9-8d43792bee19",
   "metadata": {},
   "outputs": [
    {
     "data": {
      "text/plain": [
       "3.0"
      ]
     },
     "execution_count": 36,
     "metadata": {},
     "output_type": "execute_result"
    }
   ],
   "source": [
    "float(3)"
   ]
  },
  {
   "cell_type": "code",
   "execution_count": 37,
   "id": "cb1fc4ce-7676-4d8a-abbd-899508e0ee88",
   "metadata": {},
   "outputs": [
    {
     "data": {
      "text/plain": [
       "123.0"
      ]
     },
     "execution_count": 37,
     "metadata": {},
     "output_type": "execute_result"
    }
   ],
   "source": [
    "float('123')"
   ]
  },
  {
   "cell_type": "markdown",
   "id": "01bc258d",
   "metadata": {},
   "source": [
    "The `int` function will truncate a float and drop any decimal part."
   ]
  },
  {
   "cell_type": "code",
   "execution_count": 38,
   "id": "0eab938f-f6a1-41f4-a2ac-c75c2e390e43",
   "metadata": {},
   "outputs": [
    {
     "data": {
      "text/plain": [
       "4"
      ]
     },
     "execution_count": 38,
     "metadata": {},
     "output_type": "execute_result"
    }
   ],
   "source": [
    "int(4.5677)"
   ]
  },
  {
   "cell_type": "code",
   "execution_count": 39,
   "id": "ebe8ba8d-8eb3-4128-b3ff-6a90d00fa75f",
   "metadata": {},
   "outputs": [
    {
     "data": {
      "text/plain": [
       "-6"
      ]
     },
     "execution_count": 39,
     "metadata": {},
     "output_type": "execute_result"
    }
   ],
   "source": [
    "int(-6.8933)"
   ]
  },
  {
   "cell_type": "markdown",
   "id": "54ade07b",
   "metadata": {},
   "source": [
    "Sometimes we might want to round to the nearest integer."
   ]
  },
  {
   "cell_type": "code",
   "execution_count": 40,
   "id": "ceff5beb",
   "metadata": {},
   "outputs": [
    {
     "data": {
      "text/plain": [
       "5"
      ]
     },
     "execution_count": 40,
     "metadata": {},
     "output_type": "execute_result"
    }
   ],
   "source": [
    "round(4.5677)"
   ]
  },
  {
   "cell_type": "code",
   "execution_count": 41,
   "id": "5d234548-4ace-431c-85d7-49024a9b8c66",
   "metadata": {},
   "outputs": [
    {
     "data": {
      "text/plain": [
       "-7"
      ]
     },
     "execution_count": 41,
     "metadata": {},
     "output_type": "execute_result"
    }
   ],
   "source": [
    "round(-6.8933)"
   ]
  },
  {
   "cell_type": "markdown",
   "id": "998c8499-1d1b-4cd0-9a47-7d53f53cb979",
   "metadata": {},
   "source": [
    "Note: Python comes with several built-in functions, like the `round` function. We can see this when Jupyter changes the name `round` to green-text. Advice: Try to avoid using these built-in names with your own variables."
   ]
  },
  {
   "cell_type": "code",
   "execution_count": 42,
   "id": "36b85589-b145-4974-8568-0ff8751bbef2",
   "metadata": {},
   "outputs": [
    {
     "name": "stdout",
     "output_type": "stream",
     "text": [
      "Hello\n"
     ]
    }
   ],
   "source": [
    "print('Hello')"
   ]
  },
  {
   "cell_type": "markdown",
   "id": "64be7a7b",
   "metadata": {},
   "source": [
    "## String formatting"
   ]
  },
  {
   "cell_type": "markdown",
   "id": "796a9969",
   "metadata": {},
   "source": [
    "Very often, we have some string template that we want to fill in with calculated data. For example, suppose we want to display a product of two numbers and the result."
   ]
  },
  {
   "cell_type": "code",
   "execution_count": 47,
   "id": "a1173423",
   "metadata": {},
   "outputs": [
    {
     "name": "stdout",
     "output_type": "stream",
     "text": [
      "The product of 52 and 772 is 40144.\n"
     ]
    }
   ],
   "source": [
    "a = 52\n",
    "b = 772\n",
    "\n",
    "my_str = 'The product of ' + str(a) + ' and ' + str(b) + ' is ' + str(a*b) + '.'\n",
    "print(my_str)"
   ]
  },
  {
   "cell_type": "markdown",
   "id": "5f5cb297",
   "metadata": {},
   "source": [
    "The `print` function can take in several inputs, and will display each after the other separted by a space. We can print all of this using a single print statement by separating our inputs by commas:"
   ]
  },
  {
   "cell_type": "code",
   "execution_count": 49,
   "id": "c482a118",
   "metadata": {},
   "outputs": [
    {
     "name": "stdout",
     "output_type": "stream",
     "text": [
      "The product of 52 and 772 is 40144 .\n"
     ]
    }
   ],
   "source": [
    "print('The product of',a,'and',b,'is',a*b,'.')"
   ]
  },
  {
   "cell_type": "markdown",
   "id": "469152eb",
   "metadata": {},
   "source": [
    "There are several ways that we can accomplish this in a sleeker fashion. One way is by using the `.format` method. Methods like the `.format` method are functions that are attached to objects, in this case to a string. This method can be called on some string in following way:\n",
    "\n",
    "`<some string>.format(<format options>)`.\n",
    "\n",
    "In the simplest case, we can create a string that contains placeholders denoted by curly braces `{}`, then supply values to the `.format` method that will sequentially fill in these placeholders."
   ]
  },
  {
   "cell_type": "code",
   "execution_count": 53,
   "id": "d0dbdbb0",
   "metadata": {},
   "outputs": [
    {
     "name": "stdout",
     "output_type": "stream",
     "text": [
      "The product of 52 and 772 is 40144.\n",
      "The product of 7 and 4 is 28.\n"
     ]
    }
   ],
   "source": [
    "my_str = 'The product of {} and {} is {}.'\n",
    "print(my_str.format(a,b,a*b))\n",
    "\n",
    "a,b = 7,4\n",
    "print(my_str.format(a,b,a*b))"
   ]
  },
  {
   "cell_type": "code",
   "execution_count": 55,
   "id": "118755ad-457b-4e57-96f1-779a2265d922",
   "metadata": {},
   "outputs": [
    {
     "name": "stdout",
     "output_type": "stream",
     "text": [
      "The prime factorization of 12 is 2*2*3.\n"
     ]
    }
   ],
   "source": [
    "print('The prime factorization of {} is {}.'.format(12, '2*2*3'))"
   ]
  },
  {
   "cell_type": "markdown",
   "id": "5fb06eed",
   "metadata": {},
   "source": [
    "## Working with lists in Python"
   ]
  },
  {
   "cell_type": "markdown",
   "id": "359b465b",
   "metadata": {},
   "source": [
    "Another datatype in Python are `list`s which contain ordered collections of objects. To define a list, we surround a comma-separated collection with square brackets."
   ]
  },
  {
   "cell_type": "code",
   "execution_count": 58,
   "id": "6567f507",
   "metadata": {},
   "outputs": [
    {
     "data": {
      "text/plain": [
       "[1, 2, 3, 4, 5, 6]"
      ]
     },
     "execution_count": 58,
     "metadata": {},
     "output_type": "execute_result"
    }
   ],
   "source": [
    "my_list = [1,2,3,4,5,6]\n",
    "my_list"
   ]
  },
  {
   "cell_type": "code",
   "execution_count": 59,
   "id": "c61faeaf-7f77-4b30-a651-522cc4c57c45",
   "metadata": {},
   "outputs": [
    {
     "name": "stdout",
     "output_type": "stream",
     "text": [
      "[1, 2, 3, 4, 5, 6]\n"
     ]
    }
   ],
   "source": [
    "print(my_list)"
   ]
  },
  {
   "cell_type": "markdown",
   "id": "834ed602",
   "metadata": {},
   "source": [
    "To access elements of a list, we use square brackets again along with an index. Python is a **0-based indexing** language, which means the index of each list starts at `0`. That is, `0` indicates the first item in the list."
   ]
  },
  {
   "cell_type": "code",
   "execution_count": 60,
   "id": "d9b4707f-900c-4627-9446-67360b2d9612",
   "metadata": {},
   "outputs": [
    {
     "data": {
      "text/plain": [
       "1"
      ]
     },
     "execution_count": 60,
     "metadata": {},
     "output_type": "execute_result"
    }
   ],
   "source": [
    "my_list[0]"
   ]
  },
  {
   "cell_type": "code",
   "execution_count": 61,
   "id": "3c0a419c-92b7-4260-9ea3-e1f5b97d7227",
   "metadata": {},
   "outputs": [
    {
     "data": {
      "text/plain": [
       "4"
      ]
     },
     "execution_count": 61,
     "metadata": {},
     "output_type": "execute_result"
    }
   ],
   "source": [
    "my_list[3]"
   ]
  },
  {
   "cell_type": "markdown",
   "id": "700dd852",
   "metadata": {},
   "source": [
    "We can also access elements of a list by counting backward from the end using negative indices.\n",
    " * The `-1`st index gives the last element.\n",
    " * The `-2`nd index gives the second to last element."
   ]
  },
  {
   "cell_type": "code",
   "execution_count": 63,
   "id": "3463a414-d6b3-45d4-8a1d-af633ee7fad9",
   "metadata": {},
   "outputs": [
    {
     "name": "stdout",
     "output_type": "stream",
     "text": [
      "[1, 2, 3, 4, 5, 6]\n",
      "6\n"
     ]
    }
   ],
   "source": [
    "print(my_list)\n",
    "print(my_list[-1])"
   ]
  },
  {
   "cell_type": "code",
   "execution_count": 64,
   "id": "f0cca46c-892b-4dce-83fc-f14db68a8aa9",
   "metadata": {},
   "outputs": [
    {
     "name": "stdout",
     "output_type": "stream",
     "text": [
      "[1, 2, 3, 4, 5, 6]\n",
      "4\n"
     ]
    }
   ],
   "source": [
    "print(my_list)\n",
    "print(my_list[-3])"
   ]
  },
  {
   "cell_type": "markdown",
   "id": "d078dd5b-70d3-4e31-b7ce-52432d05aad1",
   "metadata": {},
   "source": [
    "Note: We will get an error if we access indices beyond the length of the list:"
   ]
  },
  {
   "cell_type": "code",
   "execution_count": 66,
   "id": "d60d5f7e-8f71-4e85-aa36-b49e74f273b3",
   "metadata": {},
   "outputs": [
    {
     "ename": "IndexError",
     "evalue": "list index out of range",
     "output_type": "error",
     "traceback": [
      "\u001b[1;31m---------------------------------------------------------------------------\u001b[0m",
      "\u001b[1;31mIndexError\u001b[0m                                Traceback (most recent call last)",
      "Cell \u001b[1;32mIn[66], line 1\u001b[0m\n\u001b[1;32m----> 1\u001b[0m my_list[\u001b[38;5;241m6\u001b[39m]\n",
      "\u001b[1;31mIndexError\u001b[0m: list index out of range"
     ]
    }
   ],
   "source": [
    "my_list[6]"
   ]
  },
  {
   "cell_type": "code",
   "execution_count": 67,
   "id": "2fb653fd-4cd8-4a37-a281-83221858e02a",
   "metadata": {},
   "outputs": [
    {
     "ename": "IndexError",
     "evalue": "list index out of range",
     "output_type": "error",
     "traceback": [
      "\u001b[1;31m---------------------------------------------------------------------------\u001b[0m",
      "\u001b[1;31mIndexError\u001b[0m                                Traceback (most recent call last)",
      "Cell \u001b[1;32mIn[67], line 1\u001b[0m\n\u001b[1;32m----> 1\u001b[0m my_list[\u001b[38;5;241m-\u001b[39m\u001b[38;5;241m10\u001b[39m]\n",
      "\u001b[1;31mIndexError\u001b[0m: list index out of range"
     ]
    }
   ],
   "source": [
    "my_list[-10]"
   ]
  },
  {
   "cell_type": "markdown",
   "id": "a74d8641",
   "metadata": {},
   "source": [
    "What sorts of operations can we perform on lists? For arithmetic operations, lists work very similarly to strings.\n",
    "\n",
    "Addition of lists:"
   ]
  },
  {
   "cell_type": "code",
   "execution_count": 69,
   "id": "191f0d00",
   "metadata": {},
   "outputs": [
    {
     "data": {
      "text/plain": [
       "[1, 2, 3, 4, 5, 6, 7, 8]"
      ]
     },
     "execution_count": 69,
     "metadata": {},
     "output_type": "execute_result"
    }
   ],
   "source": [
    "[1,2,3] + [4,5,6,7,8]"
   ]
  },
  {
   "cell_type": "markdown",
   "id": "7530f55a-7046-4099-91a5-b4991d8bb436",
   "metadata": {},
   "source": [
    "Multiplying a list and an integer:"
   ]
  },
  {
   "cell_type": "code",
   "execution_count": 70,
   "id": "66e4ec6f",
   "metadata": {},
   "outputs": [
    {
     "data": {
      "text/plain": [
       "[1, 2, 3, 1, 2, 3, 1, 2, 3, 1, 2, 3, 1, 2, 3, 1, 2, 3]"
      ]
     },
     "execution_count": 70,
     "metadata": {},
     "output_type": "execute_result"
    }
   ],
   "source": [
    "[1,2,3] * 6"
   ]
  },
  {
   "cell_type": "markdown",
   "id": "d634a2e4",
   "metadata": {},
   "source": [
    "Lists and strings share many properties. We can convert a string to a list using the `list` function:"
   ]
  },
  {
   "cell_type": "code",
   "execution_count": 71,
   "id": "c9088698",
   "metadata": {},
   "outputs": [
    {
     "data": {
      "text/plain": [
       "['1', '2', '3', '4', '5', '6', '7']"
      ]
     },
     "execution_count": 71,
     "metadata": {},
     "output_type": "execute_result"
    }
   ],
   "source": [
    "list('1234567')"
   ]
  },
  {
   "cell_type": "markdown",
   "id": "8dae214d-4ce8-4423-bbee-064ea757283f",
   "metadata": {},
   "source": [
    "We can find the length of a list (or string) using the `len` function."
   ]
  },
  {
   "cell_type": "code",
   "execution_count": 72,
   "id": "98ae9037-b4d2-4856-9e97-bc5bbfc3beac",
   "metadata": {},
   "outputs": [
    {
     "data": {
      "text/plain": [
       "7"
      ]
     },
     "execution_count": 72,
     "metadata": {},
     "output_type": "execute_result"
    }
   ],
   "source": [
    "len('1234567')"
   ]
  },
  {
   "cell_type": "code",
   "execution_count": 73,
   "id": "7bfc61b4-3689-4771-a978-2d488bb456e7",
   "metadata": {},
   "outputs": [
    {
     "data": {
      "text/plain": [
       "5"
      ]
     },
     "execution_count": 73,
     "metadata": {},
     "output_type": "execute_result"
    }
   ],
   "source": [
    "len([1,2,3,5,6])"
   ]
  },
  {
   "cell_type": "markdown",
   "id": "506d03c9-89ff-43d7-a0a4-c97e2cbe464f",
   "metadata": {},
   "source": [
    "What if we want to convert a list of string characters to a string? The `str` function can be used to convert objects to strings."
   ]
  },
  {
   "cell_type": "code",
   "execution_count": 74,
   "id": "d8b8932c",
   "metadata": {},
   "outputs": [
    {
     "data": {
      "text/plain": [
       "'[1, 2, 3, 4, 5]'"
      ]
     },
     "execution_count": 74,
     "metadata": {},
     "output_type": "execute_result"
    }
   ],
   "source": [
    "my_list = [1,2,3,4,5]\n",
    "str(my_list)"
   ]
  },
  {
   "cell_type": "markdown",
   "id": "354b73e1-f924-44c2-a1a5-74de78b2ef04",
   "metadata": {},
   "source": [
    "Can we freely convert the string `'12345'` to a list and then back to a string?"
   ]
  },
  {
   "cell_type": "code",
   "execution_count": 76,
   "id": "e6ab32f4-e830-4690-b436-5a6775fb5090",
   "metadata": {},
   "outputs": [
    {
     "data": {
      "text/plain": [
       "\"['1', '2', '3', '4', '5']\""
      ]
     },
     "execution_count": 76,
     "metadata": {},
     "output_type": "execute_result"
    }
   ],
   "source": [
    "my_str = '12345'\n",
    "my_list = list(my_str)\n",
    "\n",
    "str(my_list)"
   ]
  },
  {
   "cell_type": "markdown",
   "id": "b4d7b93c",
   "metadata": {},
   "source": [
    "It does not look like this is doing quite what we want, since the resulting includes the list delimitors and element separators."
   ]
  },
  {
   "cell_type": "markdown",
   "id": "23abd5d7",
   "metadata": {},
   "source": [
    "We can fix this by using the `.join` method on a string. The `.join` method takes in a list of strings and concetanates them. However, it uses the object from which it is called to separate each concatenation. If we call the `.join` method from an empty string `''`, we will get simple concatenation."
   ]
  },
  {
   "cell_type": "code",
   "execution_count": 78,
   "id": "36381233",
   "metadata": {},
   "outputs": [
    {
     "data": {
      "text/plain": [
       "'12345'"
      ]
     },
     "execution_count": 78,
     "metadata": {},
     "output_type": "execute_result"
    }
   ],
   "source": [
    "''.join(my_list)"
   ]
  },
  {
   "cell_type": "markdown",
   "id": "0703a057",
   "metadata": {},
   "source": [
    "Let's use a separator `-` between the concatenated elements:"
   ]
  },
  {
   "cell_type": "code",
   "execution_count": 79,
   "id": "b71b1184-f55a-40a2-a50a-175534399dfe",
   "metadata": {},
   "outputs": [
    {
     "data": {
      "text/plain": [
       "'1-2-3-4-5'"
      ]
     },
     "execution_count": 79,
     "metadata": {},
     "output_type": "execute_result"
    }
   ],
   "source": [
    "'-'.join(my_list)"
   ]
  },
  {
   "cell_type": "code",
   "execution_count": 82,
   "id": "d2d57533-53a9-464f-a58f-4a370b14c52e",
   "metadata": {},
   "outputs": [
    {
     "name": "stdout",
     "output_type": "stream",
     "text": [
      "The prime factorization of 12 is 2*2*3.\n"
     ]
    }
   ],
   "source": [
    "n = 12\n",
    "fact = ['2','2','3']\n",
    "\n",
    "print('The prime factorization of {} is {}.'.format(n, '*'.join(fact)))"
   ]
  },
  {
   "cell_type": "code",
   "execution_count": 83,
   "id": "dda63429-2b2b-4d98-b985-0b6c54da4745",
   "metadata": {},
   "outputs": [
    {
     "name": "stdout",
     "output_type": "stream",
     "text": [
      "A gig is a gig is a gig\n"
     ]
    }
   ],
   "source": [
    "print('A',' is a '.join(['gig','gig','gig']))"
   ]
  },
  {
   "cell_type": "markdown",
   "id": "9fbb7197",
   "metadata": {},
   "source": [
    "## Working with loops in Python"
   ]
  },
  {
   "cell_type": "markdown",
   "id": "0b930e41",
   "metadata": {},
   "source": [
    "We can perform iterative operations using a `for` loop. For example, we can iterate through the items in a list and perform some desired operations."
   ]
  },
  {
   "cell_type": "markdown",
   "id": "14ce4915",
   "metadata": {},
   "source": [
    "The syntax for writing a `for` loop is: \n",
    "<code>\n",
    "for (some variable name) in (some iterable object):\n",
    "    (do something)\n",
    "</code>\n",
    "\n",
    "The variable `(some variable name)` will sequentially take on each of the values stored in `(some iterable object)`, and for each value will `(do something)`."
   ]
  },
  {
   "cell_type": "code",
   "execution_count": 85,
   "id": "a4dab02e",
   "metadata": {},
   "outputs": [
    {
     "name": "stdout",
     "output_type": "stream",
     "text": [
      "1\n",
      "4\n",
      "9\n",
      "16\n"
     ]
    }
   ],
   "source": [
    "my_list = [1,2,3,4]\n",
    "\n",
    "for n in my_list:\n",
    "    print(n**2)"
   ]
  },
  {
   "cell_type": "markdown",
   "id": "d1e50a1f",
   "metadata": {},
   "source": [
    "**Key info**: The spacing in Python is **critical!!!**. In particular, the spacing decides what operations are part of a `for` loop and what operations are not."
   ]
  },
  {
   "cell_type": "code",
   "execution_count": 86,
   "id": "25158846",
   "metadata": {},
   "outputs": [
    {
     "name": "stdout",
     "output_type": "stream",
     "text": [
      "1\n",
      "4\n",
      "9\n",
      "16\n",
      "Hello\n"
     ]
    }
   ],
   "source": [
    "my_list = [1,2,3,4]\n",
    "\n",
    "for n in my_list:\n",
    "    print(n**2)\n",
    "\n",
    "print('Hello')"
   ]
  },
  {
   "cell_type": "code",
   "execution_count": 91,
   "id": "41707168-ff11-4780-b097-f2c136cd0331",
   "metadata": {},
   "outputs": [
    {
     "name": "stdout",
     "output_type": "stream",
     "text": [
      "1\n",
      "Hello\n",
      "4\n",
      "Hello\n",
      "9\n",
      "Hello\n",
      "16\n",
      "Hello\n",
      "Done\n",
      "Hello again?\n"
     ]
    }
   ],
   "source": [
    "my_list = [1,2,3,4]\n",
    "\n",
    "for n in my_list:\n",
    "    print(n**2)\n",
    "\n",
    "    print('Hello')\n",
    "\n",
    "print('Done')\n",
    "print('Hello again?')"
   ]
  },
  {
   "cell_type": "markdown",
   "id": "b4d3f07a",
   "metadata": {},
   "source": [
    "We can also use `for` loops inside other `for` loops. We call these \"nested loops\".\n",
    "\n",
    "For example, let's write nested loops that iterate through all combinations of integers from the two lists `[1,2,3]` and `[4,5,6]` and prints out the sum for each combination."
   ]
  },
  {
   "cell_type": "code",
   "execution_count": 93,
   "id": "1f7a0356",
   "metadata": {},
   "outputs": [
    {
     "name": "stdout",
     "output_type": "stream",
     "text": [
      "1 + 4 = 5\n",
      "1 + 5 = 6\n",
      "1 + 6 = 7\n",
      "Done with n=1\n",
      "2 + 4 = 6\n",
      "2 + 5 = 7\n",
      "2 + 6 = 8\n",
      "Done with n=2\n",
      "3 + 4 = 7\n",
      "3 + 5 = 8\n",
      "3 + 6 = 9\n",
      "Done with n=3\n",
      "Done\n"
     ]
    }
   ],
   "source": [
    "for n in [1,2,3]:\n",
    "    for m in [4,5,6]:\n",
    "        print('{} + {} = {}'.format(n,m,n+m))\n",
    "    print('Done with n={}'.format(n))\n",
    "print('Done')"
   ]
  },
  {
   "cell_type": "markdown",
   "id": "29c18c6a",
   "metadata": {},
   "source": [
    "What if we wanted to iterate through pairs from each list? That is, suppose we want to consider the lists in parallel and iterate through the three pairs `(1,4)`, `(2,5)`, and `(3,6)`."
   ]
  },
  {
   "cell_type": "code",
   "execution_count": null,
   "id": "01301802",
   "metadata": {},
   "outputs": [],
   "source": []
  }
 ],
 "metadata": {
  "kernelspec": {
   "display_name": "Python 3 (ipykernel)",
   "language": "python",
   "name": "python3"
  },
  "language_info": {
   "codemirror_mode": {
    "name": "ipython",
    "version": 3
   },
   "file_extension": ".py",
   "mimetype": "text/x-python",
   "name": "python",
   "nbconvert_exporter": "python",
   "pygments_lexer": "ipython3",
   "version": "3.13.5"
  }
 },
 "nbformat": 4,
 "nbformat_minor": 5
}
