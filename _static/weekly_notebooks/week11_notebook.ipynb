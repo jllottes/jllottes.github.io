{
 "cells": [
  {
   "cell_type": "markdown",
   "id": "6815f595",
   "metadata": {},
   "source": [
    "# Monday, November 4th, 2024"
   ]
  },
  {
   "cell_type": "markdown",
   "id": "d151c06d",
   "metadata": {},
   "source": [
    "## Dictionaries"
   ]
  },
  {
   "cell_type": "markdown",
   "id": "c47df1f9",
   "metadata": {},
   "source": [
    "We've been working extensively with lists, which we can think of as mappings from an index to an object."
   ]
  },
  {
   "cell_type": "code",
   "execution_count": 1,
   "id": "55b53a0e",
   "metadata": {},
   "outputs": [],
   "source": [
    "my_list = ['hello', 5, 'a', 'bye', 72]"
   ]
  },
  {
   "cell_type": "code",
   "execution_count": 2,
   "id": "d104cbb6",
   "metadata": {},
   "outputs": [
    {
     "data": {
      "text/plain": [
       "'hello'"
      ]
     },
     "execution_count": 2,
     "metadata": {},
     "output_type": "execute_result"
    }
   ],
   "source": [
    "my_list[0]"
   ]
  },
  {
   "cell_type": "markdown",
   "id": "6280307f",
   "metadata": {},
   "source": [
    "With this list, the index `0` maps to the string `'hello'`."
   ]
  },
  {
   "cell_type": "code",
   "execution_count": 3,
   "id": "816362ee",
   "metadata": {},
   "outputs": [
    {
     "data": {
      "text/plain": [
       "72"
      ]
     },
     "execution_count": 3,
     "metadata": {},
     "output_type": "execute_result"
    }
   ],
   "source": [
    "my_list[4]"
   ]
  },
  {
   "cell_type": "markdown",
   "id": "8278f434",
   "metadata": {},
   "source": [
    "Dictionaries are similar, except that we're not stuck with using integers as our indices. Instead, dictionaries consist of `<key>:<value>` pairs, where the \"index\" key maps to the a value."
   ]
  },
  {
   "cell_type": "markdown",
   "id": "7a1962a2",
   "metadata": {},
   "source": [
    "We can define dictionaries as follows:"
   ]
  },
  {
   "cell_type": "code",
   "execution_count": 4,
   "id": "22230d32",
   "metadata": {},
   "outputs": [],
   "source": [
    "my_dict = {0: 'hello',\n",
    "           1: 5,\n",
    "           2: 'a',\n",
    "           3: 'bye',\n",
    "           4: 72}"
   ]
  },
  {
   "cell_type": "code",
   "execution_count": 6,
   "id": "6a5a8a70",
   "metadata": {},
   "outputs": [
    {
     "data": {
      "text/plain": [
       "'a'"
      ]
     },
     "execution_count": 6,
     "metadata": {},
     "output_type": "execute_result"
    }
   ],
   "source": [
    "my_dict[2]"
   ]
  },
  {
   "cell_type": "markdown",
   "id": "9a5fe525",
   "metadata": {},
   "source": [
    "We can use many different things for keys, not just integers."
   ]
  },
  {
   "cell_type": "code",
   "execution_count": 7,
   "id": "2a585a4a",
   "metadata": {},
   "outputs": [],
   "source": [
    "my_dict = {'name': 'Jonathan Lottes',\n",
    "           'age': 35,\n",
    "           'city': 'Buffalo'}"
   ]
  },
  {
   "cell_type": "code",
   "execution_count": 8,
   "id": "b2eae7db",
   "metadata": {},
   "outputs": [
    {
     "data": {
      "text/plain": [
       "'Jonathan Lottes'"
      ]
     },
     "execution_count": 8,
     "metadata": {},
     "output_type": "execute_result"
    }
   ],
   "source": [
    "my_dict['name']"
   ]
  },
  {
   "cell_type": "code",
   "execution_count": 9,
   "id": "d09851e6",
   "metadata": {},
   "outputs": [
    {
     "data": {
      "text/plain": [
       "35"
      ]
     },
     "execution_count": 9,
     "metadata": {},
     "output_type": "execute_result"
    }
   ],
   "source": [
    "my_dict['age']"
   ]
  },
  {
   "cell_type": "code",
   "execution_count": 10,
   "id": "d7153016",
   "metadata": {},
   "outputs": [
    {
     "data": {
      "text/plain": [
       "'Buffalo'"
      ]
     },
     "execution_count": 10,
     "metadata": {},
     "output_type": "execute_result"
    }
   ],
   "source": [
    "my_dict['city']"
   ]
  },
  {
   "cell_type": "markdown",
   "id": "4ccd540c",
   "metadata": {},
   "source": [
    "We can add elements to a dictionary using the syntax `my_dict[<key>] = <value>`"
   ]
  },
  {
   "cell_type": "code",
   "execution_count": 11,
   "id": "f8068210",
   "metadata": {},
   "outputs": [],
   "source": [
    "my_dict['birth date'] = 'August 18, 1989'"
   ]
  },
  {
   "cell_type": "code",
   "execution_count": 13,
   "id": "d90aa88c",
   "metadata": {},
   "outputs": [
    {
     "data": {
      "text/plain": [
       "{'name': 'Jonathan Lottes',\n",
       " 'age': 35,\n",
       " 'city': 'Buffalo',\n",
       " 'birth date': 'August 18, 1989'}"
      ]
     },
     "execution_count": 13,
     "metadata": {},
     "output_type": "execute_result"
    }
   ],
   "source": [
    "my_dict"
   ]
  },
  {
   "cell_type": "markdown",
   "id": "df3e4120",
   "metadata": {},
   "source": [
    "We can check if a key is in a dictionary using `in`:"
   ]
  },
  {
   "cell_type": "code",
   "execution_count": 14,
   "id": "9ef8754f",
   "metadata": {},
   "outputs": [
    {
     "data": {
      "text/plain": [
       "True"
      ]
     },
     "execution_count": 14,
     "metadata": {},
     "output_type": "execute_result"
    }
   ],
   "source": [
    "'name' in my_dict"
   ]
  },
  {
   "cell_type": "code",
   "execution_count": 15,
   "id": "bf6b5f73",
   "metadata": {},
   "outputs": [
    {
     "data": {
      "text/plain": [
       "False"
      ]
     },
     "execution_count": 15,
     "metadata": {},
     "output_type": "execute_result"
    }
   ],
   "source": [
    "'last name' in my_dict"
   ]
  },
  {
   "cell_type": "markdown",
   "id": "e6c58d2d",
   "metadata": {},
   "source": [
    "Note: note everything can work as a dictionary key:"
   ]
  },
  {
   "cell_type": "code",
   "execution_count": 16,
   "id": "8590c6bf",
   "metadata": {},
   "outputs": [
    {
     "ename": "TypeError",
     "evalue": "unhashable type: 'list'",
     "output_type": "error",
     "traceback": [
      "\u001b[1;31m---------------------------------------------------------------------------\u001b[0m",
      "\u001b[1;31mTypeError\u001b[0m                                 Traceback (most recent call last)",
      "Cell \u001b[1;32mIn[16], line 1\u001b[0m\n\u001b[1;32m----> 1\u001b[0m my_dict[[\u001b[38;5;241m1\u001b[39m,\u001b[38;5;241m2\u001b[39m,\u001b[38;5;241m3\u001b[39m]] \u001b[38;5;241m=\u001b[39m \u001b[38;5;124m'\u001b[39m\u001b[38;5;124mhello\u001b[39m\u001b[38;5;124m'\u001b[39m\n",
      "\u001b[1;31mTypeError\u001b[0m: unhashable type: 'list'"
     ]
    }
   ],
   "source": [
    "my_dict[[1,2,3]] = 'hello'"
   ]
  },
  {
   "cell_type": "code",
   "execution_count": 17,
   "id": "4800c1d9",
   "metadata": {},
   "outputs": [],
   "source": [
    "my_dict[(1,2,3)] = 'hello'"
   ]
  },
  {
   "cell_type": "code",
   "execution_count": 18,
   "id": "c7edc211",
   "metadata": {},
   "outputs": [
    {
     "data": {
      "text/plain": [
       "{'name': 'Jonathan Lottes',\n",
       " 'age': 35,\n",
       " 'city': 'Buffalo',\n",
       " 'birth date': 'August 18, 1989',\n",
       " (1, 2, 3): 'hello'}"
      ]
     },
     "execution_count": 18,
     "metadata": {},
     "output_type": "execute_result"
    }
   ],
   "source": [
    "my_dict"
   ]
  },
  {
   "cell_type": "markdown",
   "id": "46b93e62",
   "metadata": {},
   "source": [
    "## Code breakers"
   ]
  },
  {
   "cell_type": "code",
   "execution_count": 22,
   "id": "eb9a345d",
   "metadata": {},
   "outputs": [
    {
     "data": {
      "text/plain": [
       "97"
      ]
     },
     "execution_count": 22,
     "metadata": {},
     "output_type": "execute_result"
    }
   ],
   "source": [
    "ord('a')"
   ]
  },
  {
   "cell_type": "code",
   "execution_count": 23,
   "id": "b5d76a98",
   "metadata": {},
   "outputs": [
    {
     "data": {
      "text/plain": [
       "65"
      ]
     },
     "execution_count": 23,
     "metadata": {},
     "output_type": "execute_result"
    }
   ],
   "source": [
    "ord('A')"
   ]
  },
  {
   "cell_type": "code",
   "execution_count": 24,
   "id": "ab581bd8",
   "metadata": {
    "scrolled": false
   },
   "outputs": [
    {
     "data": {
      "text/plain": [
       "59"
      ]
     },
     "execution_count": 24,
     "metadata": {},
     "output_type": "execute_result"
    }
   ],
   "source": [
    "ord(';')"
   ]
  },
  {
   "cell_type": "code",
   "execution_count": 26,
   "id": "520ad064",
   "metadata": {},
   "outputs": [
    {
     "data": {
      "text/plain": [
       "'a'"
      ]
     },
     "execution_count": 26,
     "metadata": {},
     "output_type": "execute_result"
    }
   ],
   "source": [
    "chr(97)"
   ]
  },
  {
   "cell_type": "code",
   "execution_count": 27,
   "id": "28b09631",
   "metadata": {},
   "outputs": [
    {
     "data": {
      "text/plain": [
       "';'"
      ]
     },
     "execution_count": 27,
     "metadata": {},
     "output_type": "execute_result"
    }
   ],
   "source": [
    "chr(59)"
   ]
  },
  {
   "cell_type": "code",
   "execution_count": 28,
   "id": "26ccc3c7",
   "metadata": {},
   "outputs": [
    {
     "data": {
      "text/plain": [
       "':'"
      ]
     },
     "execution_count": 28,
     "metadata": {},
     "output_type": "execute_result"
    }
   ],
   "source": [
    "chr(58)"
   ]
  },
  {
   "cell_type": "markdown",
   "id": "1f6acd20",
   "metadata": {},
   "source": [
    "### Encryption example"
   ]
  },
  {
   "cell_type": "code",
   "execution_count": 29,
   "id": "b247cc4a",
   "metadata": {},
   "outputs": [],
   "source": [
    "secret_key = 'buffalo'\n",
    "\n",
    "secret_message = 'Top secret!'"
   ]
  },
  {
   "cell_type": "markdown",
   "id": "08d990b0",
   "metadata": {},
   "source": [
    "**Exercise:** Write a function that will take in a string and return a corresponding list of ASCII codes."
   ]
  },
  {
   "cell_type": "markdown",
   "id": "6cc6a6f1",
   "metadata": {},
   "source": [
    "**Exercise:** Use this function to apply the encryption algorithm to `secret_message` using `secret_key`."
   ]
  },
  {
   "cell_type": "code",
   "execution_count": 30,
   "id": "4937ef9f",
   "metadata": {},
   "outputs": [
    {
     "data": {
      "text/plain": [
       "7"
      ]
     },
     "execution_count": 30,
     "metadata": {},
     "output_type": "execute_result"
    }
   ],
   "source": [
    "len(secret_key)"
   ]
  },
  {
   "cell_type": "code",
   "execution_count": 31,
   "id": "041aff4e",
   "metadata": {},
   "outputs": [
    {
     "data": {
      "text/plain": [
       "11"
      ]
     },
     "execution_count": 31,
     "metadata": {},
     "output_type": "execute_result"
    }
   ],
   "source": [
    "len(secret_message)"
   ]
  },
  {
   "cell_type": "code",
   "execution_count": 32,
   "id": "00ad73c7",
   "metadata": {},
   "outputs": [],
   "source": [
    "def str_to_ascii(s):\n",
    "    ascii_list = []\n",
    "    for c in s:\n",
    "        ascii_list.append(ord(c))\n",
    "    return ascii_list"
   ]
  },
  {
   "cell_type": "code",
   "execution_count": 61,
   "id": "4d5af785",
   "metadata": {},
   "outputs": [
    {
     "data": {
      "text/plain": [
       "[98, 117, 102, 102, 97, 108, 111]"
      ]
     },
     "execution_count": 61,
     "metadata": {},
     "output_type": "execute_result"
    }
   ],
   "source": [
    "secret_key_ascii = str_to_ascii(secret_key)\n",
    "secret_key_ascii"
   ]
  },
  {
   "cell_type": "code",
   "execution_count": 37,
   "id": "566ab803",
   "metadata": {},
   "outputs": [
    {
     "data": {
      "text/plain": [
       "[84, 111, 112, 32, 115, 101, 99, 114, 101, 116, 33]"
      ]
     },
     "execution_count": 37,
     "metadata": {},
     "output_type": "execute_result"
    }
   ],
   "source": [
    "secret_message_ascii = str_to_ascii(secret_message)\n",
    "secret_message_ascii"
   ]
  },
  {
   "cell_type": "code",
   "execution_count": 38,
   "id": "32a3f12a",
   "metadata": {},
   "outputs": [
    {
     "data": {
      "text/plain": [
       "54"
      ]
     },
     "execution_count": 38,
     "metadata": {},
     "output_type": "execute_result"
    }
   ],
   "source": [
    "(secret_key_ascii[0] + secret_message_ascii[0]) % 128"
   ]
  },
  {
   "cell_type": "markdown",
   "id": "f704165f",
   "metadata": {},
   "source": [
    "### Working with files in Python:"
   ]
  },
  {
   "cell_type": "markdown",
   "id": "3c5b3ea8",
   "metadata": {},
   "source": [
    "Note: I've download a file called `5desk.txt` from the Code Breakers project page into my weekly notebook folder."
   ]
  },
  {
   "cell_type": "code",
   "execution_count": 64,
   "id": "8dfb3390",
   "metadata": {},
   "outputs": [],
   "source": [
    "f = open('5desk.txt')"
   ]
  },
  {
   "cell_type": "code",
   "execution_count": 86,
   "id": "a78f86b8",
   "metadata": {},
   "outputs": [],
   "source": [
    "#help(f)"
   ]
  },
  {
   "cell_type": "markdown",
   "id": "327b4437",
   "metadata": {},
   "source": [
    "`f.read(n)` will return the next `n` characters (starting from the beginning) from the file."
   ]
  },
  {
   "cell_type": "code",
   "execution_count": 67,
   "id": "dd2bdb82",
   "metadata": {},
   "outputs": [
    {
     "name": "stdout",
     "output_type": "stream",
     "text": [
      "A\n",
      "a\n",
      "Aachen\n"
     ]
    }
   ],
   "source": [
    "print(f.read(10))"
   ]
  },
  {
   "cell_type": "markdown",
   "id": "c4b06a1a",
   "metadata": {},
   "source": [
    "Running again prints the next `10` characters:"
   ]
  },
  {
   "cell_type": "code",
   "execution_count": 68,
   "id": "a3345106",
   "metadata": {},
   "outputs": [
    {
     "name": "stdout",
     "output_type": "stream",
     "text": [
      "\n",
      "Aalborg\n",
      "a\n"
     ]
    }
   ],
   "source": [
    "print(f.read(10))"
   ]
  },
  {
   "cell_type": "code",
   "execution_count": 69,
   "id": "4c9db7a8",
   "metadata": {},
   "outputs": [
    {
     "name": "stdout",
     "output_type": "stream",
     "text": [
      "ardvark\n",
      "Aarhus\n",
      "Aaron\n",
      "AB\n",
      "Ab\n",
      "abaci\n",
      "aback\n",
      "abacus\n",
      "Abad\n"
     ]
    }
   ],
   "source": [
    "print(f.read(50))"
   ]
  },
  {
   "cell_type": "markdown",
   "id": "edcc097b",
   "metadata": {},
   "source": [
    "`f.seek()` can be used a starting position. For example, `f.seek(0)` returns to the beginning:"
   ]
  },
  {
   "cell_type": "code",
   "execution_count": 72,
   "id": "7a5c6e7b",
   "metadata": {},
   "outputs": [
    {
     "data": {
      "text/plain": [
       "0"
      ]
     },
     "execution_count": 72,
     "metadata": {},
     "output_type": "execute_result"
    }
   ],
   "source": [
    "f.seek(0)"
   ]
  },
  {
   "cell_type": "code",
   "execution_count": 73,
   "id": "c722846c",
   "metadata": {
    "scrolled": true
   },
   "outputs": [
    {
     "name": "stdout",
     "output_type": "stream",
     "text": [
      "A\n",
      "a\n",
      "Aachen\n",
      "Aalborg\n",
      "a\n"
     ]
    }
   ],
   "source": [
    "print(f.read(20))"
   ]
  },
  {
   "cell_type": "code",
   "execution_count": 74,
   "id": "6c2cbead",
   "metadata": {},
   "outputs": [
    {
     "data": {
      "text/plain": [
       "0"
      ]
     },
     "execution_count": 74,
     "metadata": {},
     "output_type": "execute_result"
    }
   ],
   "source": [
    "f.seek(0)"
   ]
  },
  {
   "cell_type": "markdown",
   "id": "43bc99bf",
   "metadata": {},
   "source": [
    "For our purposes, we generally will just use `f.read()` with no argumen to read in the entire file."
   ]
  },
  {
   "cell_type": "code",
   "execution_count": 75,
   "id": "391984f1",
   "metadata": {},
   "outputs": [],
   "source": [
    "s = f.read()"
   ]
  },
  {
   "cell_type": "code",
   "execution_count": 77,
   "id": "57f6414b",
   "metadata": {},
   "outputs": [
    {
     "name": "stdout",
     "output_type": "stream",
     "text": [
      "A\n",
      "a\n",
      "Aachen\n",
      "Aalborg\n",
      "a\n"
     ]
    }
   ],
   "source": [
    "print(s[:20])"
   ]
  },
  {
   "cell_type": "markdown",
   "id": "6dcd31b7",
   "metadata": {},
   "source": [
    "It is generally advisable to close a file once we're done working with it:"
   ]
  },
  {
   "cell_type": "code",
   "execution_count": 78,
   "id": "7833141c",
   "metadata": {},
   "outputs": [],
   "source": [
    "f.close()"
   ]
  },
  {
   "cell_type": "markdown",
   "id": "df376dff",
   "metadata": {},
   "source": [
    "A cleaner way to accomplish this same task of loading in a file to a string:"
   ]
  },
  {
   "cell_type": "code",
   "execution_count": 79,
   "id": "4c0ee030",
   "metadata": {},
   "outputs": [],
   "source": [
    "with open('5desk.txt') as f:\n",
    "    s = f.read()\n",
    "    \n",
    "# Once we leave the `with` block, the file will automatically close"
   ]
  },
  {
   "cell_type": "code",
   "execution_count": 81,
   "id": "73f482df",
   "metadata": {
    "scrolled": true
   },
   "outputs": [
    {
     "name": "stdout",
     "output_type": "stream",
     "text": [
      "A\n",
      "a\n",
      "Aachen\n",
      "Aalborg\n",
      "a\n"
     ]
    }
   ],
   "source": [
    "print(s[:20])"
   ]
  },
  {
   "cell_type": "markdown",
   "id": "dcd84207",
   "metadata": {},
   "source": [
    "### Working with strings:"
   ]
  },
  {
   "cell_type": "markdown",
   "id": "08c70491",
   "metadata": {},
   "source": [
    "As previously mentioned, the `.split()` method applied to a string will return a list of all substrings that are separated by white space."
   ]
  },
  {
   "cell_type": "code",
   "execution_count": 82,
   "id": "6595a51a",
   "metadata": {},
   "outputs": [],
   "source": [
    "words = s.split()"
   ]
  },
  {
   "cell_type": "code",
   "execution_count": 83,
   "id": "423d2df7",
   "metadata": {
    "scrolled": true
   },
   "outputs": [
    {
     "data": {
      "text/plain": [
       "['A',\n",
       " 'a',\n",
       " 'Aachen',\n",
       " 'Aalborg',\n",
       " 'aardvark',\n",
       " 'Aarhus',\n",
       " 'Aaron',\n",
       " 'AB',\n",
       " 'Ab',\n",
       " 'abaci']"
      ]
     },
     "execution_count": 83,
     "metadata": {},
     "output_type": "execute_result"
    }
   ],
   "source": [
    "words[:10]"
   ]
  },
  {
   "cell_type": "markdown",
   "id": "15934f14",
   "metadata": {},
   "source": [
    "# Wednesday, November 6th, 2024"
   ]
  },
  {
   "cell_type": "markdown",
   "id": "afef19ff",
   "metadata": {},
   "source": [
    "**Exercise:** Write a function that will apply the decryption algorithm using the secret key `buffalo` and the encrypted message `[54, 100, 86, 6, 84, 81, 82, 84, 90, 90, 7]`."
   ]
  },
  {
   "cell_type": "markdown",
   "id": "966bbd45",
   "metadata": {},
   "source": [
    "**Exercise:** Write a function that will take a sequence of ASCII codes and return a corresponding string of characters."
   ]
  },
  {
   "cell_type": "markdown",
   "id": "74b3b69f",
   "metadata": {},
   "source": [
    "**Exercise:** \n",
    "- Download your encrypted file from the project page\n",
    "- Open the file and Python and read the contents to a string\n",
    "- Convert the string to a sequence of integers\n",
    "- Play around with \"decrypting\" this sequence using some random passwords"
   ]
  },
  {
   "cell_type": "code",
   "execution_count": null,
   "id": "7573e1a1",
   "metadata": {},
   "outputs": [],
   "source": [
    "for i, char in enumerate(message):\n",
    "    "
   ]
  },
  {
   "cell_type": "code",
   "execution_count": 1,
   "id": "d769645c",
   "metadata": {},
   "outputs": [],
   "source": [
    "my_str = 'hello'"
   ]
  },
  {
   "cell_type": "code",
   "execution_count": 41,
   "id": "138a641d",
   "metadata": {},
   "outputs": [],
   "source": [
    "with open('5desk.txt') as f:\n",
    "    s = f.read()"
   ]
  },
  {
   "cell_type": "code",
   "execution_count": 42,
   "id": "13635d4f",
   "metadata": {},
   "outputs": [],
   "source": [
    "words = s.split()"
   ]
  },
  {
   "cell_type": "code",
   "execution_count": 15,
   "id": "392ae373",
   "metadata": {},
   "outputs": [
    {
     "name": "stdout",
     "output_type": "stream",
     "text": [
      "['A', 'a', 'Aachen', 'Aalborg', 'aardvark', 'Aarhus', 'Aaron', 'AB', 'Ab', 'abaci']\n"
     ]
    }
   ],
   "source": [
    "print(words[:10])"
   ]
  },
  {
   "cell_type": "code",
   "execution_count": null,
   "id": "88f6d373",
   "metadata": {},
   "outputs": [],
   "source": [
    "password = words[0]\n",
    "\n",
    "key = str_ascii(password)\n",
    "\n",
    "decrypt(key, encrypted_message)"
   ]
  },
  {
   "cell_type": "code",
   "execution_count": 16,
   "id": "5a326596",
   "metadata": {},
   "outputs": [],
   "source": [
    "with open('akuhn.txt') as f:\n",
    "    s = f.read()"
   ]
  },
  {
   "cell_type": "code",
   "execution_count": 18,
   "id": "8be39d21",
   "metadata": {},
   "outputs": [
    {
     "name": "stdout",
     "output_type": "stream",
     "text": [
      "119 48 81 77 9 82 70 102 1 55 90 94 96 81 13 85 75 77 9 81 84 91 84 87 90 94 81 89 92 83 3 88 94 98 \n"
     ]
    }
   ],
   "source": [
    "print(s[:100])"
   ]
  },
  {
   "cell_type": "markdown",
   "id": "182c9a92",
   "metadata": {},
   "source": [
    "### Some ideas for identifying the correct keyword"
   ]
  },
  {
   "cell_type": "markdown",
   "id": "38ceb297",
   "metadata": {},
   "source": [
    "We will need to try every word in our list of words as a potential keyword. For each keyword, we will decrypt the message and somehow measure how correct we believe the decrypted message to be."
   ]
  },
  {
   "cell_type": "markdown",
   "id": "fd23b15b",
   "metadata": {},
   "source": [
    "We would expect that the correctly decrypted message will contain english words. We could try to take our decrypted message, identify \"words\" (i.e. split on white space), and check how many \"words\" are actual words."
   ]
  },
  {
   "cell_type": "code",
   "execution_count": 25,
   "id": "1efb79ab",
   "metadata": {},
   "outputs": [
    {
     "data": {
      "text/plain": [
       "True"
      ]
     },
     "execution_count": 25,
     "metadata": {},
     "output_type": "execute_result"
    }
   ],
   "source": [
    "# Check if something is a word:\n",
    "\n",
    "'aardvark' in words"
   ]
  },
  {
   "cell_type": "code",
   "execution_count": 26,
   "id": "4c413a5c",
   "metadata": {},
   "outputs": [
    {
     "data": {
      "text/plain": [
       "False"
      ]
     },
     "execution_count": 26,
     "metadata": {},
     "output_type": "execute_result"
    }
   ],
   "source": [
    "'Aardvark' in words"
   ]
  },
  {
   "cell_type": "markdown",
   "id": "12d8e593",
   "metadata": {},
   "source": [
    "How to deal with capitalization?\n",
    "\n",
    "We can use the `.lower()` method to return a string with all letters lowercase."
   ]
  },
  {
   "cell_type": "code",
   "execution_count": 28,
   "id": "18291e4e",
   "metadata": {},
   "outputs": [],
   "source": [
    "words = [word.lower() for word in words]"
   ]
  },
  {
   "cell_type": "code",
   "execution_count": 31,
   "id": "77f080bf",
   "metadata": {},
   "outputs": [
    {
     "name": "stdout",
     "output_type": "stream",
     "text": [
      "Aardvark\n",
      "aardvark\n",
      "False\n",
      "True\n"
     ]
    }
   ],
   "source": [
    "word = 'Aardvark'\n",
    "\n",
    "print(word)\n",
    "print(word.lower())\n",
    "\n",
    "print(word in words)\n",
    "print(word.lower() in words)"
   ]
  },
  {
   "cell_type": "markdown",
   "id": "1f77d0aa",
   "metadata": {},
   "source": [
    "What about punctuation?"
   ]
  },
  {
   "cell_type": "code",
   "execution_count": 32,
   "id": "7697cef4",
   "metadata": {},
   "outputs": [
    {
     "name": "stdout",
     "output_type": "stream",
     "text": [
      "False\n"
     ]
    }
   ],
   "source": [
    "word = 'ran.'\n",
    "\n",
    "print(word in words)"
   ]
  },
  {
   "cell_type": "code",
   "execution_count": 33,
   "id": "97d0ca33",
   "metadata": {},
   "outputs": [
    {
     "name": "stdout",
     "output_type": "stream",
     "text": [
      "True\n"
     ]
    }
   ],
   "source": [
    "print('ran' in words)"
   ]
  },
  {
   "cell_type": "markdown",
   "id": "3c0369d5",
   "metadata": {},
   "source": [
    "Can we deal with punctuation in a reasonable way?"
   ]
  },
  {
   "cell_type": "markdown",
   "id": "6e5dfec8",
   "metadata": {},
   "source": [
    "One way is to use the `.replace()` method."
   ]
  },
  {
   "cell_type": "code",
   "execution_count": 34,
   "id": "7af44c5c",
   "metadata": {},
   "outputs": [],
   "source": [
    "my_string = 'Hello, my name is Jon. Today is Wednesday.'"
   ]
  },
  {
   "cell_type": "code",
   "execution_count": 35,
   "id": "12676e66",
   "metadata": {},
   "outputs": [
    {
     "name": "stdout",
     "output_type": "stream",
     "text": [
      "Help on built-in function replace:\n",
      "\n",
      "replace(old, new, count=-1, /) method of builtins.str instance\n",
      "    Return a copy with all occurrences of substring old replaced by new.\n",
      "    \n",
      "      count\n",
      "        Maximum number of occurrences to replace.\n",
      "        -1 (the default value) means replace all occurrences.\n",
      "    \n",
      "    If the optional argument count is given, only the first count occurrences are\n",
      "    replaced.\n",
      "\n"
     ]
    }
   ],
   "source": [
    "help(my_string.replace)"
   ]
  },
  {
   "cell_type": "code",
   "execution_count": 36,
   "id": "e4b0a64d",
   "metadata": {},
   "outputs": [
    {
     "name": "stdout",
     "output_type": "stream",
     "text": [
      "Hello, my name is Luke. Today is Wednesday.\n"
     ]
    }
   ],
   "source": [
    "print(my_string.replace('Jon', 'Luke'))"
   ]
  },
  {
   "cell_type": "code",
   "execution_count": 37,
   "id": "541568a0",
   "metadata": {
    "scrolled": true
   },
   "outputs": [
    {
     "name": "stdout",
     "output_type": "stream",
     "text": [
      "Hello, my name is Jon. Today is Thursday.\n"
     ]
    }
   ],
   "source": [
    "print(my_string.replace('Wednesday', 'Thursday'))"
   ]
  },
  {
   "cell_type": "code",
   "execution_count": 39,
   "id": "e2db928f",
   "metadata": {},
   "outputs": [
    {
     "name": "stdout",
     "output_type": "stream",
     "text": [
      "Hello my name is Jon Today is Wednesday\n"
     ]
    }
   ],
   "source": [
    "my_string2 = my_string.replace('.', '')\n",
    "my_string3 = my_string2.replace(',', '')\n",
    "\n",
    "# Also remove !, ?, :, ;\n",
    "# Can we do this in a more automated way with a for loop?\n",
    "\n",
    "print(my_string3)"
   ]
  },
  {
   "cell_type": "markdown",
   "id": "abe46260",
   "metadata": {},
   "source": [
    "Once we've counted how many actual words appear in our decrypted message, we could find the keyword that produced the most actual words."
   ]
  },
  {
   "cell_type": "code",
   "execution_count": null,
   "id": "d528ce29",
   "metadata": {},
   "outputs": [],
   "source": [
    "def get_clean_message(decrypted_message):\n",
    "    # Remove punctuation\n",
    "    # Get rid of capital letters"
   ]
  },
  {
   "cell_type": "code",
   "execution_count": null,
   "id": "c72dba77",
   "metadata": {},
   "outputs": [],
   "source": [
    "def get_word_count(decrypted_message):\n",
    "    clean_message = get_clean_message(decrypted_message)\n",
    "    decrypted_words = clean_message.split()\n",
    "    ..."
   ]
  },
  {
   "cell_type": "markdown",
   "id": "24879f08",
   "metadata": {},
   "source": [
    "How to find the keyword the generated the most actual words in its decrypted message?"
   ]
  },
  {
   "cell_type": "code",
   "execution_count": 44,
   "id": "0b7df5e4",
   "metadata": {},
   "outputs": [
    {
     "name": "stdout",
     "output_type": "stream",
     "text": [
      "['A', 'a', 'Aachen', 'Aalborg', 'aardvark']\n"
     ]
    }
   ],
   "source": [
    "keywords = words[:5]\n",
    "print(keywords)\n",
    "\n",
    "# Suppose we've counted the number of actual words that appear \n",
    "# in the decrypted message for each of the keywords\n",
    "\n",
    "actual_word_counts = [5, 7, 4, 122, 10]"
   ]
  },
  {
   "cell_type": "code",
   "execution_count": 45,
   "id": "2a94091f",
   "metadata": {},
   "outputs": [
    {
     "data": {
      "text/plain": [
       "122"
      ]
     },
     "execution_count": 45,
     "metadata": {},
     "output_type": "execute_result"
    }
   ],
   "source": [
    "max(actual_word_counts)"
   ]
  },
  {
   "cell_type": "markdown",
   "id": "72eb7663",
   "metadata": {},
   "source": [
    "The `max` function returns the largest element in a list."
   ]
  },
  {
   "cell_type": "markdown",
   "id": "92b8ccea",
   "metadata": {},
   "source": [
    "The `np.argmax()` will instead return the index of the largest element in a list."
   ]
  },
  {
   "cell_type": "code",
   "execution_count": 47,
   "id": "d20da4c6",
   "metadata": {},
   "outputs": [
    {
     "data": {
      "text/plain": [
       "'Aalborg'"
      ]
     },
     "execution_count": 47,
     "metadata": {},
     "output_type": "execute_result"
    }
   ],
   "source": [
    "keyword_index = np.argmax(actual_word_counts)\n",
    "\n",
    "keywords[keyword_index]"
   ]
  },
  {
   "cell_type": "markdown",
   "id": "4fa006c9",
   "metadata": {},
   "source": [
    "Suppose we have an alternative data structure:"
   ]
  },
  {
   "cell_type": "code",
   "execution_count": 51,
   "id": "3bbc21ac",
   "metadata": {},
   "outputs": [],
   "source": [
    "actual_word_counts = {'A': 5,\n",
    "                      'a': 7,\n",
    "                      'Aachen': 4,\n",
    "                      'Aalborg': 122,\n",
    "                      'aardvark': 10,\n",
    "                      'aaaaaaaaa': 5}"
   ]
  },
  {
   "cell_type": "code",
   "execution_count": 53,
   "id": "7beaf00c",
   "metadata": {},
   "outputs": [
    {
     "data": {
      "text/plain": [
       "'aardvark'"
      ]
     },
     "execution_count": 53,
     "metadata": {},
     "output_type": "execute_result"
    }
   ],
   "source": [
    "max(actual_word_counts)"
   ]
  },
  {
   "cell_type": "code",
   "execution_count": 52,
   "id": "fe60c032",
   "metadata": {},
   "outputs": [
    {
     "data": {
      "text/plain": [
       "'aaaaaaaaa'"
      ]
     },
     "execution_count": 52,
     "metadata": {},
     "output_type": "execute_result"
    }
   ],
   "source": [
    "max(actual_word_counts, key = len)"
   ]
  },
  {
   "cell_type": "code",
   "execution_count": 54,
   "id": "c7fc3441",
   "metadata": {},
   "outputs": [],
   "source": [
    "def get_count(key):\n",
    "    return actual_word_counts[key]"
   ]
  },
  {
   "cell_type": "code",
   "execution_count": 55,
   "id": "11ebb711",
   "metadata": {},
   "outputs": [
    {
     "data": {
      "text/plain": [
       "'Aalborg'"
      ]
     },
     "execution_count": 55,
     "metadata": {},
     "output_type": "execute_result"
    }
   ],
   "source": [
    "max(actual_word_counts, key=get_count)"
   ]
  },
  {
   "cell_type": "code",
   "execution_count": 56,
   "id": "58749c1b",
   "metadata": {},
   "outputs": [
    {
     "name": "stdout",
     "output_type": "stream",
     "text": [
      "('A', 5)\n",
      "('a', 7)\n",
      "('Aachen', 4)\n",
      "('Aalborg', 122)\n",
      "('aardvark', 10)\n",
      "('aaaaaaaaa', 5)\n"
     ]
    }
   ],
   "source": [
    "for item in actual_word_counts.items():\n",
    "    print(item)"
   ]
  },
  {
   "cell_type": "code",
   "execution_count": 58,
   "id": "a4fbc146",
   "metadata": {},
   "outputs": [],
   "source": [
    "def f(item):\n",
    "    key, value = item\n",
    "    return value"
   ]
  },
  {
   "cell_type": "code",
   "execution_count": 59,
   "id": "e0902bf3",
   "metadata": {},
   "outputs": [
    {
     "data": {
      "text/plain": [
       "('Aalborg', 122)"
      ]
     },
     "execution_count": 59,
     "metadata": {},
     "output_type": "execute_result"
    }
   ],
   "source": [
    "max(actual_word_counts.items(), key = f)"
   ]
  },
  {
   "cell_type": "code",
   "execution_count": 61,
   "id": "f7d3bd38",
   "metadata": {},
   "outputs": [
    {
     "data": {
      "text/plain": [
       "('Aalborg', 122)"
      ]
     },
     "execution_count": 61,
     "metadata": {},
     "output_type": "execute_result"
    }
   ],
   "source": [
    "max(actual_word_counts.items(), key=lambda item: item[1])"
   ]
  }
 ],
 "metadata": {
  "kernelspec": {
   "display_name": "Python 3 (ipykernel)",
   "language": "python",
   "name": "python3"
  },
  "language_info": {
   "codemirror_mode": {
    "name": "ipython",
    "version": 3
   },
   "file_extension": ".py",
   "mimetype": "text/x-python",
   "name": "python",
   "nbconvert_exporter": "python",
   "pygments_lexer": "ipython3",
   "version": "3.11.5"
  }
 },
 "nbformat": 4,
 "nbformat_minor": 5
}
