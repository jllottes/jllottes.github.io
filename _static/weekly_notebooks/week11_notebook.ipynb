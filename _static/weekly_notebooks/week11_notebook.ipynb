{
 "cells": [
  {
   "cell_type": "markdown",
   "id": "6815f595",
   "metadata": {},
   "source": [
    "# Monday, November 4th, 2024"
   ]
  },
  {
   "cell_type": "markdown",
   "id": "d151c06d",
   "metadata": {},
   "source": [
    "## Dictionaries"
   ]
  },
  {
   "cell_type": "markdown",
   "id": "c47df1f9",
   "metadata": {},
   "source": [
    "We've been working extensively with lists, which we can think of as mappings from an index to an object."
   ]
  },
  {
   "cell_type": "code",
   "execution_count": 1,
   "id": "55b53a0e",
   "metadata": {},
   "outputs": [],
   "source": [
    "my_list = ['hello', 5, 'a', 'bye', 72]"
   ]
  },
  {
   "cell_type": "code",
   "execution_count": 2,
   "id": "d104cbb6",
   "metadata": {},
   "outputs": [
    {
     "data": {
      "text/plain": [
       "'hello'"
      ]
     },
     "execution_count": 2,
     "metadata": {},
     "output_type": "execute_result"
    }
   ],
   "source": [
    "my_list[0]"
   ]
  },
  {
   "cell_type": "markdown",
   "id": "6280307f",
   "metadata": {},
   "source": [
    "With this list, the index `0` maps to the string `'hello'`."
   ]
  },
  {
   "cell_type": "code",
   "execution_count": 3,
   "id": "816362ee",
   "metadata": {},
   "outputs": [
    {
     "data": {
      "text/plain": [
       "72"
      ]
     },
     "execution_count": 3,
     "metadata": {},
     "output_type": "execute_result"
    }
   ],
   "source": [
    "my_list[4]"
   ]
  },
  {
   "cell_type": "markdown",
   "id": "8278f434",
   "metadata": {},
   "source": [
    "Dictionaries are similar, except that we're not stuck with using integers as our indices. Instead, dictionaries consist of `<key>:<value>` pairs, where the \"index\" key maps to the a value."
   ]
  },
  {
   "cell_type": "markdown",
   "id": "7a1962a2",
   "metadata": {},
   "source": [
    "We can define dictionaries as follows:"
   ]
  },
  {
   "cell_type": "code",
   "execution_count": 4,
   "id": "22230d32",
   "metadata": {},
   "outputs": [],
   "source": [
    "my_dict = {0: 'hello',\n",
    "           1: 5,\n",
    "           2: 'a',\n",
    "           3: 'bye',\n",
    "           4: 72}"
   ]
  },
  {
   "cell_type": "code",
   "execution_count": 6,
   "id": "6a5a8a70",
   "metadata": {},
   "outputs": [
    {
     "data": {
      "text/plain": [
       "'a'"
      ]
     },
     "execution_count": 6,
     "metadata": {},
     "output_type": "execute_result"
    }
   ],
   "source": [
    "my_dict[2]"
   ]
  },
  {
   "cell_type": "markdown",
   "id": "9a5fe525",
   "metadata": {},
   "source": [
    "We can use many different things for keys, not just integers."
   ]
  },
  {
   "cell_type": "code",
   "execution_count": 7,
   "id": "2a585a4a",
   "metadata": {},
   "outputs": [],
   "source": [
    "my_dict = {'name': 'Jonathan Lottes',\n",
    "           'age': 35,\n",
    "           'city': 'Buffalo'}"
   ]
  },
  {
   "cell_type": "code",
   "execution_count": 8,
   "id": "b2eae7db",
   "metadata": {},
   "outputs": [
    {
     "data": {
      "text/plain": [
       "'Jonathan Lottes'"
      ]
     },
     "execution_count": 8,
     "metadata": {},
     "output_type": "execute_result"
    }
   ],
   "source": [
    "my_dict['name']"
   ]
  },
  {
   "cell_type": "code",
   "execution_count": 9,
   "id": "d09851e6",
   "metadata": {},
   "outputs": [
    {
     "data": {
      "text/plain": [
       "35"
      ]
     },
     "execution_count": 9,
     "metadata": {},
     "output_type": "execute_result"
    }
   ],
   "source": [
    "my_dict['age']"
   ]
  },
  {
   "cell_type": "code",
   "execution_count": 10,
   "id": "d7153016",
   "metadata": {},
   "outputs": [
    {
     "data": {
      "text/plain": [
       "'Buffalo'"
      ]
     },
     "execution_count": 10,
     "metadata": {},
     "output_type": "execute_result"
    }
   ],
   "source": [
    "my_dict['city']"
   ]
  },
  {
   "cell_type": "markdown",
   "id": "4ccd540c",
   "metadata": {},
   "source": [
    "We can add elements to a dictionary using the syntax `my_dict[<key>] = <value>`"
   ]
  },
  {
   "cell_type": "code",
   "execution_count": 11,
   "id": "f8068210",
   "metadata": {},
   "outputs": [],
   "source": [
    "my_dict['birth date'] = 'August 18, 1989'"
   ]
  },
  {
   "cell_type": "code",
   "execution_count": 13,
   "id": "d90aa88c",
   "metadata": {},
   "outputs": [
    {
     "data": {
      "text/plain": [
       "{'name': 'Jonathan Lottes',\n",
       " 'age': 35,\n",
       " 'city': 'Buffalo',\n",
       " 'birth date': 'August 18, 1989'}"
      ]
     },
     "execution_count": 13,
     "metadata": {},
     "output_type": "execute_result"
    }
   ],
   "source": [
    "my_dict"
   ]
  },
  {
   "cell_type": "markdown",
   "id": "df3e4120",
   "metadata": {},
   "source": [
    "We can check if a key is in a dictionary using `in`:"
   ]
  },
  {
   "cell_type": "code",
   "execution_count": 14,
   "id": "9ef8754f",
   "metadata": {},
   "outputs": [
    {
     "data": {
      "text/plain": [
       "True"
      ]
     },
     "execution_count": 14,
     "metadata": {},
     "output_type": "execute_result"
    }
   ],
   "source": [
    "'name' in my_dict"
   ]
  },
  {
   "cell_type": "code",
   "execution_count": 15,
   "id": "bf6b5f73",
   "metadata": {},
   "outputs": [
    {
     "data": {
      "text/plain": [
       "False"
      ]
     },
     "execution_count": 15,
     "metadata": {},
     "output_type": "execute_result"
    }
   ],
   "source": [
    "'last name' in my_dict"
   ]
  },
  {
   "cell_type": "markdown",
   "id": "e6c58d2d",
   "metadata": {},
   "source": [
    "Note: note everything can work as a dictionary key:"
   ]
  },
  {
   "cell_type": "code",
   "execution_count": 16,
   "id": "8590c6bf",
   "metadata": {},
   "outputs": [
    {
     "ename": "TypeError",
     "evalue": "unhashable type: 'list'",
     "output_type": "error",
     "traceback": [
      "\u001b[1;31m---------------------------------------------------------------------------\u001b[0m",
      "\u001b[1;31mTypeError\u001b[0m                                 Traceback (most recent call last)",
      "Cell \u001b[1;32mIn[16], line 1\u001b[0m\n\u001b[1;32m----> 1\u001b[0m my_dict[[\u001b[38;5;241m1\u001b[39m,\u001b[38;5;241m2\u001b[39m,\u001b[38;5;241m3\u001b[39m]] \u001b[38;5;241m=\u001b[39m \u001b[38;5;124m'\u001b[39m\u001b[38;5;124mhello\u001b[39m\u001b[38;5;124m'\u001b[39m\n",
      "\u001b[1;31mTypeError\u001b[0m: unhashable type: 'list'"
     ]
    }
   ],
   "source": [
    "my_dict[[1,2,3]] = 'hello'"
   ]
  },
  {
   "cell_type": "code",
   "execution_count": 17,
   "id": "4800c1d9",
   "metadata": {},
   "outputs": [],
   "source": [
    "my_dict[(1,2,3)] = 'hello'"
   ]
  },
  {
   "cell_type": "code",
   "execution_count": 18,
   "id": "c7edc211",
   "metadata": {},
   "outputs": [
    {
     "data": {
      "text/plain": [
       "{'name': 'Jonathan Lottes',\n",
       " 'age': 35,\n",
       " 'city': 'Buffalo',\n",
       " 'birth date': 'August 18, 1989',\n",
       " (1, 2, 3): 'hello'}"
      ]
     },
     "execution_count": 18,
     "metadata": {},
     "output_type": "execute_result"
    }
   ],
   "source": [
    "my_dict"
   ]
  },
  {
   "cell_type": "markdown",
   "id": "46b93e62",
   "metadata": {},
   "source": [
    "## Code breakers"
   ]
  },
  {
   "cell_type": "code",
   "execution_count": 22,
   "id": "eb9a345d",
   "metadata": {},
   "outputs": [
    {
     "data": {
      "text/plain": [
       "97"
      ]
     },
     "execution_count": 22,
     "metadata": {},
     "output_type": "execute_result"
    }
   ],
   "source": [
    "ord('a')"
   ]
  },
  {
   "cell_type": "code",
   "execution_count": 23,
   "id": "b5d76a98",
   "metadata": {},
   "outputs": [
    {
     "data": {
      "text/plain": [
       "65"
      ]
     },
     "execution_count": 23,
     "metadata": {},
     "output_type": "execute_result"
    }
   ],
   "source": [
    "ord('A')"
   ]
  },
  {
   "cell_type": "code",
   "execution_count": 24,
   "id": "ab581bd8",
   "metadata": {
    "scrolled": false
   },
   "outputs": [
    {
     "data": {
      "text/plain": [
       "59"
      ]
     },
     "execution_count": 24,
     "metadata": {},
     "output_type": "execute_result"
    }
   ],
   "source": [
    "ord(';')"
   ]
  },
  {
   "cell_type": "code",
   "execution_count": 26,
   "id": "520ad064",
   "metadata": {},
   "outputs": [
    {
     "data": {
      "text/plain": [
       "'a'"
      ]
     },
     "execution_count": 26,
     "metadata": {},
     "output_type": "execute_result"
    }
   ],
   "source": [
    "chr(97)"
   ]
  },
  {
   "cell_type": "code",
   "execution_count": 27,
   "id": "28b09631",
   "metadata": {},
   "outputs": [
    {
     "data": {
      "text/plain": [
       "';'"
      ]
     },
     "execution_count": 27,
     "metadata": {},
     "output_type": "execute_result"
    }
   ],
   "source": [
    "chr(59)"
   ]
  },
  {
   "cell_type": "code",
   "execution_count": 28,
   "id": "26ccc3c7",
   "metadata": {},
   "outputs": [
    {
     "data": {
      "text/plain": [
       "':'"
      ]
     },
     "execution_count": 28,
     "metadata": {},
     "output_type": "execute_result"
    }
   ],
   "source": [
    "chr(58)"
   ]
  },
  {
   "cell_type": "markdown",
   "id": "1f6acd20",
   "metadata": {},
   "source": [
    "### Encryption example"
   ]
  },
  {
   "cell_type": "code",
   "execution_count": 29,
   "id": "b247cc4a",
   "metadata": {},
   "outputs": [],
   "source": [
    "secret_key = 'buffalo'\n",
    "\n",
    "secret_message = 'Top secret!'"
   ]
  },
  {
   "cell_type": "markdown",
   "id": "08d990b0",
   "metadata": {},
   "source": [
    "**Exercise:** Write a function that will take in a string and return a corresponding list of ASCII codes."
   ]
  },
  {
   "cell_type": "markdown",
   "id": "6cc6a6f1",
   "metadata": {},
   "source": [
    "**Exercise:** Use this function to apply the encryption algorithm to `secret_message` using `secret_key`."
   ]
  },
  {
   "cell_type": "code",
   "execution_count": 30,
   "id": "4937ef9f",
   "metadata": {},
   "outputs": [
    {
     "data": {
      "text/plain": [
       "7"
      ]
     },
     "execution_count": 30,
     "metadata": {},
     "output_type": "execute_result"
    }
   ],
   "source": [
    "len(secret_key)"
   ]
  },
  {
   "cell_type": "code",
   "execution_count": 31,
   "id": "041aff4e",
   "metadata": {},
   "outputs": [
    {
     "data": {
      "text/plain": [
       "11"
      ]
     },
     "execution_count": 31,
     "metadata": {},
     "output_type": "execute_result"
    }
   ],
   "source": [
    "len(secret_message)"
   ]
  },
  {
   "cell_type": "code",
   "execution_count": 32,
   "id": "00ad73c7",
   "metadata": {},
   "outputs": [],
   "source": [
    "def str_to_ascii(s):\n",
    "    ascii_list = []\n",
    "    for c in s:\n",
    "        ascii_list.append(ord(c))\n",
    "    return ascii_list"
   ]
  },
  {
   "cell_type": "code",
   "execution_count": 61,
   "id": "4d5af785",
   "metadata": {},
   "outputs": [
    {
     "data": {
      "text/plain": [
       "[98, 117, 102, 102, 97, 108, 111]"
      ]
     },
     "execution_count": 61,
     "metadata": {},
     "output_type": "execute_result"
    }
   ],
   "source": [
    "secret_key_ascii = str_to_ascii(secret_key)\n",
    "secret_key_ascii"
   ]
  },
  {
   "cell_type": "code",
   "execution_count": 37,
   "id": "566ab803",
   "metadata": {},
   "outputs": [
    {
     "data": {
      "text/plain": [
       "[84, 111, 112, 32, 115, 101, 99, 114, 101, 116, 33]"
      ]
     },
     "execution_count": 37,
     "metadata": {},
     "output_type": "execute_result"
    }
   ],
   "source": [
    "secret_message_ascii = str_to_ascii(secret_message)\n",
    "secret_message_ascii"
   ]
  },
  {
   "cell_type": "code",
   "execution_count": 38,
   "id": "32a3f12a",
   "metadata": {},
   "outputs": [
    {
     "data": {
      "text/plain": [
       "54"
      ]
     },
     "execution_count": 38,
     "metadata": {},
     "output_type": "execute_result"
    }
   ],
   "source": [
    "(secret_key_ascii[0] + secret_message_ascii[0]) % 128"
   ]
  },
  {
   "cell_type": "markdown",
   "id": "f704165f",
   "metadata": {},
   "source": [
    "### Working with files in Python:"
   ]
  },
  {
   "cell_type": "markdown",
   "id": "3c5b3ea8",
   "metadata": {},
   "source": [
    "Note: I've download a file called `5desk.txt` from the Code Breakers project page into my weekly notebook folder."
   ]
  },
  {
   "cell_type": "code",
   "execution_count": 64,
   "id": "8dfb3390",
   "metadata": {},
   "outputs": [],
   "source": [
    "f = open('5desk.txt')"
   ]
  },
  {
   "cell_type": "code",
   "execution_count": 86,
   "id": "a78f86b8",
   "metadata": {},
   "outputs": [],
   "source": [
    "#help(f)"
   ]
  },
  {
   "cell_type": "markdown",
   "id": "327b4437",
   "metadata": {},
   "source": [
    "`f.read(n)` will return the next `n` characters (starting from the beginning) from the file."
   ]
  },
  {
   "cell_type": "code",
   "execution_count": 67,
   "id": "dd2bdb82",
   "metadata": {},
   "outputs": [
    {
     "name": "stdout",
     "output_type": "stream",
     "text": [
      "A\n",
      "a\n",
      "Aachen\n"
     ]
    }
   ],
   "source": [
    "print(f.read(10))"
   ]
  },
  {
   "cell_type": "markdown",
   "id": "c4b06a1a",
   "metadata": {},
   "source": [
    "Running again prints the next `10` characters:"
   ]
  },
  {
   "cell_type": "code",
   "execution_count": 68,
   "id": "a3345106",
   "metadata": {},
   "outputs": [
    {
     "name": "stdout",
     "output_type": "stream",
     "text": [
      "\n",
      "Aalborg\n",
      "a\n"
     ]
    }
   ],
   "source": [
    "print(f.read(10))"
   ]
  },
  {
   "cell_type": "code",
   "execution_count": 69,
   "id": "4c9db7a8",
   "metadata": {},
   "outputs": [
    {
     "name": "stdout",
     "output_type": "stream",
     "text": [
      "ardvark\n",
      "Aarhus\n",
      "Aaron\n",
      "AB\n",
      "Ab\n",
      "abaci\n",
      "aback\n",
      "abacus\n",
      "Abad\n"
     ]
    }
   ],
   "source": [
    "print(f.read(50))"
   ]
  },
  {
   "cell_type": "markdown",
   "id": "edcc097b",
   "metadata": {},
   "source": [
    "`f.seek()` can be used a starting position. For example, `f.seek(0)` returns to the beginning:"
   ]
  },
  {
   "cell_type": "code",
   "execution_count": 72,
   "id": "7a5c6e7b",
   "metadata": {},
   "outputs": [
    {
     "data": {
      "text/plain": [
       "0"
      ]
     },
     "execution_count": 72,
     "metadata": {},
     "output_type": "execute_result"
    }
   ],
   "source": [
    "f.seek(0)"
   ]
  },
  {
   "cell_type": "code",
   "execution_count": 73,
   "id": "c722846c",
   "metadata": {
    "scrolled": true
   },
   "outputs": [
    {
     "name": "stdout",
     "output_type": "stream",
     "text": [
      "A\n",
      "a\n",
      "Aachen\n",
      "Aalborg\n",
      "a\n"
     ]
    }
   ],
   "source": [
    "print(f.read(20))"
   ]
  },
  {
   "cell_type": "code",
   "execution_count": 74,
   "id": "6c2cbead",
   "metadata": {},
   "outputs": [
    {
     "data": {
      "text/plain": [
       "0"
      ]
     },
     "execution_count": 74,
     "metadata": {},
     "output_type": "execute_result"
    }
   ],
   "source": [
    "f.seek(0)"
   ]
  },
  {
   "cell_type": "markdown",
   "id": "43bc99bf",
   "metadata": {},
   "source": [
    "For our purposes, we generally will just use `f.read()` with no argumen to read in the entire file."
   ]
  },
  {
   "cell_type": "code",
   "execution_count": 75,
   "id": "391984f1",
   "metadata": {},
   "outputs": [],
   "source": [
    "s = f.read()"
   ]
  },
  {
   "cell_type": "code",
   "execution_count": 77,
   "id": "57f6414b",
   "metadata": {},
   "outputs": [
    {
     "name": "stdout",
     "output_type": "stream",
     "text": [
      "A\n",
      "a\n",
      "Aachen\n",
      "Aalborg\n",
      "a\n"
     ]
    }
   ],
   "source": [
    "print(s[:20])"
   ]
  },
  {
   "cell_type": "markdown",
   "id": "6dcd31b7",
   "metadata": {},
   "source": [
    "It is generally advisable to close a file once we're done working with it:"
   ]
  },
  {
   "cell_type": "code",
   "execution_count": 78,
   "id": "7833141c",
   "metadata": {},
   "outputs": [],
   "source": [
    "f.close()"
   ]
  },
  {
   "cell_type": "markdown",
   "id": "df376dff",
   "metadata": {},
   "source": [
    "A cleaner way to accomplish this same task of loading in a file to a string:"
   ]
  },
  {
   "cell_type": "code",
   "execution_count": 79,
   "id": "4c0ee030",
   "metadata": {},
   "outputs": [],
   "source": [
    "with open('5desk.txt') as f:\n",
    "    s = f.read()\n",
    "    \n",
    "# Once we leave the `with` block, the file will automatically close"
   ]
  },
  {
   "cell_type": "code",
   "execution_count": 81,
   "id": "73f482df",
   "metadata": {
    "scrolled": true
   },
   "outputs": [
    {
     "name": "stdout",
     "output_type": "stream",
     "text": [
      "A\n",
      "a\n",
      "Aachen\n",
      "Aalborg\n",
      "a\n"
     ]
    }
   ],
   "source": [
    "print(s[:20])"
   ]
  },
  {
   "cell_type": "markdown",
   "id": "dcd84207",
   "metadata": {},
   "source": [
    "### Working with strings:"
   ]
  },
  {
   "cell_type": "markdown",
   "id": "08c70491",
   "metadata": {},
   "source": [
    "As previously mentioned, the `.split()` method applied to a string will return a list of all substrings that are separated by white space."
   ]
  },
  {
   "cell_type": "code",
   "execution_count": 82,
   "id": "6595a51a",
   "metadata": {},
   "outputs": [],
   "source": [
    "words = s.split()"
   ]
  },
  {
   "cell_type": "code",
   "execution_count": 83,
   "id": "423d2df7",
   "metadata": {},
   "outputs": [
    {
     "data": {
      "text/plain": [
       "['A',\n",
       " 'a',\n",
       " 'Aachen',\n",
       " 'Aalborg',\n",
       " 'aardvark',\n",
       " 'Aarhus',\n",
       " 'Aaron',\n",
       " 'AB',\n",
       " 'Ab',\n",
       " 'abaci']"
      ]
     },
     "execution_count": 83,
     "metadata": {},
     "output_type": "execute_result"
    }
   ],
   "source": [
    "words[:10]"
   ]
  }
 ],
 "metadata": {
  "kernelspec": {
   "display_name": "Python 3 (ipykernel)",
   "language": "python",
   "name": "python3"
  },
  "language_info": {
   "codemirror_mode": {
    "name": "ipython",
    "version": 3
   },
   "file_extension": ".py",
   "mimetype": "text/x-python",
   "name": "python",
   "nbconvert_exporter": "python",
   "pygments_lexer": "ipython3",
   "version": "3.11.5"
  }
 },
 "nbformat": 4,
 "nbformat_minor": 5
}
