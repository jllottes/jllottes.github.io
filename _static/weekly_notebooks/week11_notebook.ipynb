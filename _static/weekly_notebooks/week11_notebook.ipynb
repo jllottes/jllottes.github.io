{
 "cells": [
  {
   "cell_type": "markdown",
   "id": "a1769801",
   "metadata": {},
   "source": [
    "# Monday, April 7th"
   ]
  },
  {
   "cell_type": "markdown",
   "id": "c0261eda",
   "metadata": {},
   "source": [
    "## Code breaker project"
   ]
  },
  {
   "cell_type": "markdown",
   "id": "92b446d6",
   "metadata": {},
   "source": [
    "It will be helpful to be able to convert easily between strings of characters and lists of their corresponding ASCII codes."
   ]
  },
  {
   "cell_type": "markdown",
   "id": "81089711",
   "metadata": {},
   "source": [
    "**Exercise:** Write functions `str_to_ascii` and `ascii_to_str` that will convert between strings and lists of ASCII codes. We can use the `ord()` and `chr()` functions to convert any particular character or ASCII code."
   ]
  },
  {
   "cell_type": "code",
   "execution_count": 1,
   "id": "ae6cba6d",
   "metadata": {},
   "outputs": [],
   "source": [
    "def str_to_ascii(s):\n",
    "#     ascii_list = []\n",
    "#     for c in s:\n",
    "#         ascii_list.append(ord(c))\n",
    "#     return ascii_list\n",
    "\n",
    "    return [ord(c) for c in s]"
   ]
  },
  {
   "cell_type": "code",
   "execution_count": 2,
   "id": "e68176ae",
   "metadata": {},
   "outputs": [
    {
     "data": {
      "text/plain": [
       "[84, 104, 105, 115, 32, 105, 115, 32, 77, 84, 72, 32, 51, 51, 55]"
      ]
     },
     "execution_count": 2,
     "metadata": {},
     "output_type": "execute_result"
    }
   ],
   "source": [
    "str_to_ascii('This is MTH 337')"
   ]
  },
  {
   "cell_type": "code",
   "execution_count": 3,
   "id": "8a4501d5",
   "metadata": {},
   "outputs": [],
   "source": [
    "def ascii_to_str(ascii_list):\n",
    "#     c_list = []\n",
    "#     for n in ascii_list:\n",
    "#         c_list.append(chr(n))\n",
    "#     s = ''.join(c_list)\n",
    "#     return s\n",
    "\n",
    "    return ''.join([chr(n) for n in ascii_list])"
   ]
  },
  {
   "cell_type": "code",
   "execution_count": 11,
   "id": "ce25646b",
   "metadata": {},
   "outputs": [
    {
     "data": {
      "text/plain": [
       "'hello'"
      ]
     },
     "execution_count": 11,
     "metadata": {},
     "output_type": "execute_result"
    }
   ],
   "source": [
    "ascii_to_str([104, 101, 108, 108, 111])"
   ]
  },
  {
   "cell_type": "markdown",
   "id": "43d887ce",
   "metadata": {},
   "source": [
    "Consider the example described in the project page. Suppose we want encrypt the message \"Top secret!\" using the secret key \"buffalo\"."
   ]
  },
  {
   "cell_type": "code",
   "execution_count": 12,
   "id": "37f4fefe",
   "metadata": {},
   "outputs": [],
   "source": [
    "message = 'Top secret!'\n",
    "key = 'buffalo'"
   ]
  },
  {
   "cell_type": "markdown",
   "id": "a1254cf5",
   "metadata": {},
   "source": [
    "Let's convert both to lists of ASCII codes:"
   ]
  },
  {
   "cell_type": "code",
   "execution_count": 14,
   "id": "9cc50836",
   "metadata": {},
   "outputs": [
    {
     "name": "stdout",
     "output_type": "stream",
     "text": [
      "[84, 111, 112, 32, 115, 101, 99, 114, 101, 116, 33]\n",
      "[98, 117, 102, 102, 97, 108, 111]\n"
     ]
    }
   ],
   "source": [
    "message_ascii = str_to_ascii(message)\n",
    "key_ascii = str_to_ascii(key)\n",
    "\n",
    "print(message_ascii)\n",
    "print(key_ascii)"
   ]
  },
  {
   "cell_type": "markdown",
   "id": "15992999",
   "metadata": {},
   "source": [
    "**Problem**: Our message has more characters than our key, so we need to duplicate our key enough times to match the length of the message."
   ]
  },
  {
   "cell_type": "code",
   "execution_count": 16,
   "id": "841460cf",
   "metadata": {},
   "outputs": [
    {
     "name": "stdout",
     "output_type": "stream",
     "text": [
      "11\n",
      "7\n"
     ]
    }
   ],
   "source": [
    "print(len(message_ascii))\n",
    "print(len(key_ascii))"
   ]
  },
  {
   "cell_type": "markdown",
   "id": "400996c4",
   "metadata": {},
   "source": [
    "One idea: Count how many times we need to duplicate the `key_ascii` list to match or exceed the length of `message_ascii`:"
   ]
  },
  {
   "cell_type": "code",
   "execution_count": 23,
   "id": "7a7590ad",
   "metadata": {},
   "outputs": [],
   "source": [
    "num_repeats = len(message_ascii) // len(key_ascii) + 1\n",
    "\n",
    "padded_key_ascii = key_ascii * num_repeats"
   ]
  },
  {
   "cell_type": "code",
   "execution_count": 24,
   "id": "c267fdca",
   "metadata": {},
   "outputs": [
    {
     "name": "stdout",
     "output_type": "stream",
     "text": [
      "[98, 117, 102, 102, 97, 108, 111, 98, 117, 102, 102, 97, 108, 111]\n"
     ]
    }
   ],
   "source": [
    "print(padded_key_ascii)"
   ]
  },
  {
   "cell_type": "markdown",
   "id": "0e55c65e",
   "metadata": {},
   "source": [
    "Another idea: use a `while` loop:"
   ]
  },
  {
   "cell_type": "code",
   "execution_count": 25,
   "id": "50e517b6",
   "metadata": {},
   "outputs": [],
   "source": [
    "padded_key_ascii = []\n",
    "while len(padded_key_ascii) < len(message_ascii):\n",
    "    for n in key_ascii:\n",
    "        padded_key_ascii.append(n)"
   ]
  },
  {
   "cell_type": "code",
   "execution_count": 26,
   "id": "97b1cad4",
   "metadata": {},
   "outputs": [
    {
     "name": "stdout",
     "output_type": "stream",
     "text": [
      "[98, 117, 102, 102, 97, 108, 111, 98, 117, 102, 102, 97, 108, 111]\n"
     ]
    }
   ],
   "source": [
    "print(padded_key_ascii)"
   ]
  },
  {
   "cell_type": "code",
   "execution_count": 27,
   "id": "6deaeaae",
   "metadata": {},
   "outputs": [
    {
     "data": {
      "text/plain": [
       "14"
      ]
     },
     "execution_count": 27,
     "metadata": {},
     "output_type": "execute_result"
    }
   ],
   "source": [
    "len(padded_key_ascii)"
   ]
  },
  {
   "cell_type": "markdown",
   "id": "a99c0b39",
   "metadata": {},
   "source": [
    "We've padded out our key to be sufficiently long, now let's go number by number to encrypt:"
   ]
  },
  {
   "cell_type": "code",
   "execution_count": 28,
   "id": "a371582d",
   "metadata": {},
   "outputs": [],
   "source": [
    "encrypted_ascii = []\n",
    "\n",
    "for padded_key_n, message_n in zip(padded_key_ascii, message_ascii):\n",
    "    encrypted_ascii.append((padded_key_n + message_n) % 128)"
   ]
  },
  {
   "cell_type": "code",
   "execution_count": 29,
   "id": "799f4a44",
   "metadata": {},
   "outputs": [
    {
     "data": {
      "text/plain": [
       "[54, 100, 86, 6, 84, 81, 82, 84, 90, 90, 7]"
      ]
     },
     "execution_count": 29,
     "metadata": {},
     "output_type": "execute_result"
    }
   ],
   "source": [
    "encrypted_ascii"
   ]
  },
  {
   "cell_type": "markdown",
   "id": "cc04f3d0",
   "metadata": {},
   "source": [
    "**Exercise:** Write a function `encrypt(message_ascii, key_ascii)` that return the encrypted version of `message_ascii` using the secret key `key_ascii` (based on the code above)."
   ]
  },
  {
   "cell_type": "markdown",
   "id": "8a534f7c",
   "metadata": {},
   "source": [
    "**Exercise:** Write a companion function `decrypt(encrypted_ascii, key_ascii)` that returns the decrypted message."
   ]
  },
  {
   "cell_type": "code",
   "execution_count": 32,
   "id": "9e7f5f4f",
   "metadata": {},
   "outputs": [],
   "source": [
    "decrypted_ascii = []\n",
    "\n",
    "for padded_key_n, encrypted_n in zip(padded_key_ascii, encrypted_ascii):\n",
    "    decrypted_ascii.append((encrypted_n - padded_key_n) % 128)"
   ]
  },
  {
   "cell_type": "code",
   "execution_count": 33,
   "id": "0f269efc",
   "metadata": {},
   "outputs": [
    {
     "data": {
      "text/plain": [
       "[84, 111, 112, 32, 115, 101, 99, 114, 101, 116, 33]"
      ]
     },
     "execution_count": 33,
     "metadata": {},
     "output_type": "execute_result"
    }
   ],
   "source": [
    "decrypted_ascii"
   ]
  },
  {
   "cell_type": "code",
   "execution_count": 34,
   "id": "863562ee",
   "metadata": {},
   "outputs": [
    {
     "data": {
      "text/plain": [
       "'Top secret!'"
      ]
     },
     "execution_count": 34,
     "metadata": {},
     "output_type": "execute_result"
    }
   ],
   "source": [
    "ascii_to_str(decrypted_ascii)"
   ]
  },
  {
   "cell_type": "markdown",
   "id": "b8a5ad64",
   "metadata": {},
   "source": [
    "## Working with text files"
   ]
  },
  {
   "cell_type": "markdown",
   "id": "388b8d0f",
   "metadata": {},
   "source": [
    "I've downloaded the `dictionary.txt` file and the `msmith37.txt` file and placed them into my weekly notebook directory."
   ]
  },
  {
   "cell_type": "markdown",
   "id": "bd25844e",
   "metadata": {},
   "source": [
    "The `open` function can be used to open a file for reading or writing. We will also use the `with` construct to have Python manage the closing of our file when we're finished."
   ]
  },
  {
   "cell_type": "code",
   "execution_count": 4,
   "id": "bf8ed255",
   "metadata": {},
   "outputs": [],
   "source": [
    "with open('dictionary.txt') as f:  # This opens dictionary.txt and names the contents `f`\n",
    "    s = f.read()                   # This reads the contents of the file into a string"
   ]
  },
  {
   "cell_type": "code",
   "execution_count": 5,
   "id": "6902db08",
   "metadata": {},
   "outputs": [
    {
     "name": "stdout",
     "output_type": "stream",
     "text": [
      "A\n",
      "a\n",
      "Aachen\n",
      "Aalborg\n",
      "aardvark\n",
      "Aarhus\n",
      "Aaron\n",
      "AB\n",
      "Ab\n",
      "abaci\n",
      "aback\n",
      "abacus\n",
      "Abadan\n",
      "abaft\n",
      "abalone\n",
      "abandon\n",
      "aband\n"
     ]
    }
   ],
   "source": [
    "print(s[:100])"
   ]
  },
  {
   "cell_type": "markdown",
   "id": "ceb886b8",
   "metadata": {},
   "source": [
    "A more appropriate structure would be to split the string on space/new lines to get a list of words in the dictionary:"
   ]
  },
  {
   "cell_type": "code",
   "execution_count": 6,
   "id": "903cbe0b",
   "metadata": {},
   "outputs": [
    {
     "name": "stdout",
     "output_type": "stream",
     "text": [
      "['A', 'a', 'Aachen', 'Aalborg', 'aardvark', 'Aarhus', 'Aaron', 'AB', 'Ab', 'abaci']\n"
     ]
    }
   ],
   "source": [
    "dictionary = s.split()\n",
    "\n",
    "print(dictionary[:10])"
   ]
  },
  {
   "cell_type": "markdown",
   "id": "c916adec",
   "metadata": {},
   "source": [
    "Similarly, we can read in an encrypted message:"
   ]
  },
  {
   "cell_type": "code",
   "execution_count": 7,
   "id": "aafb7961",
   "metadata": {},
   "outputs": [],
   "source": [
    "with open('msmith37.txt') as f:\n",
    "    s = f.read()"
   ]
  },
  {
   "cell_type": "code",
   "execution_count": 43,
   "id": "33cbe860",
   "metadata": {
    "scrolled": true
   },
   "outputs": [
    {
     "name": "stdout",
     "output_type": "stream",
     "text": [
      "77 49 83 102 88 73 40 93 14 103 84 4 55 87 83 100 70 4 58 80 97 30 1 69 54 15 55 18 73 69 57 84 14 8\n"
     ]
    }
   ],
   "source": [
    "print(s[:100])"
   ]
  },
  {
   "cell_type": "markdown",
   "id": "51e681f3",
   "metadata": {},
   "source": [
    "Again, we can split the string on spaces to produce a list of \"integers\"."
   ]
  },
  {
   "cell_type": "code",
   "execution_count": 44,
   "id": "9fb35240",
   "metadata": {},
   "outputs": [
    {
     "data": {
      "text/plain": [
       "['77', '49', '83', '102', '88', '73', '40', '93', '14', '103']"
      ]
     },
     "execution_count": 44,
     "metadata": {},
     "output_type": "execute_result"
    }
   ],
   "source": [
    "s.split()[:10]"
   ]
  },
  {
   "cell_type": "markdown",
   "id": "c427af27",
   "metadata": {},
   "source": [
    "We need to convert each of these \"integer\" strings into actual integers:"
   ]
  },
  {
   "cell_type": "code",
   "execution_count": 73,
   "id": "048e441a",
   "metadata": {},
   "outputs": [],
   "source": [
    "encrypted_ascii = []\n",
    "\n",
    "for str_n in s.split():\n",
    "    encrypted_ascii.append(int(str_n))"
   ]
  },
  {
   "cell_type": "code",
   "execution_count": 74,
   "id": "d0dac9a3",
   "metadata": {},
   "outputs": [
    {
     "data": {
      "text/plain": [
       "[77, 49, 83, 102, 88, 73, 40, 93, 14, 103]"
      ]
     },
     "execution_count": 74,
     "metadata": {},
     "output_type": "execute_result"
    }
   ],
   "source": [
    "encrypted_ascii[:10]"
   ]
  },
  {
   "cell_type": "markdown",
   "id": "f380ff73",
   "metadata": {},
   "source": [
    "Let's just try to blindly decrypt this message:"
   ]
  },
  {
   "cell_type": "code",
   "execution_count": 89,
   "id": "9bcb8045",
   "metadata": {},
   "outputs": [
    {
     "name": "stdout",
     "output_type": "stream",
     "text": [
      "kPoFlTEr,\u0006pdKbpyd#V0u)\u001e",
      "ZT.Sr]PVi,ri6<[o\u0000\u001fv@8f\u001d",
      "qhNs\u0001:ZaE0,\u0005e)w\\zuc#N5\f",
      "qf^\u0001\u0001o3#\u000f\"iza)J\u001asvkgH=i\u001d",
      "mnS.r7VaTw,\u0005l+<nslq#S7tls`I.vAcV\u0000tq\u0003f3;m+ve\r",
      "R4r^pZUwy@!\u000fIx,y^(wnsl\u001fhE5g`r\u0019Pt*?VZIrs1r7wnzsdu@=v\u001d",
      "m_\u0001sk5]\u000fOxtvokJ\u0004\u0004hqqR|/^l]\u0001s\u00007c\u000fCsz\u0007f'Kczur1#jb\u001e",
      "EB\u0005\u00037g\u001c",
      "\r",
      "xtv\u001d",
      "&<m'ni>na\u001e",
      "_FzvAlb\r",
      "1trapa\\pj`xR4\"ld\u0019Iw}rbPN},\n",
      "b%Im+hmg<ckw\u0019Ww|FjTS0,\u0005e)wiysx#BDueghO.y@\u0015SEgw=\u0007%E^+~`v;{fl`\u0001}xriWE${i=wl\u0000n-#37g\u001d",
      "?\\D}@iPNx,y^(w\\}vtjGC\"lsm\u0001ovDZPD},r\u0007&Fr+ve#C>oflhF\u00016rV]D$\u0003rpdKi\u0004pmj0t`fbUsmFjaApx\n",
      "\u001d",
      ";@ns'skDodll^T<*\u001fVaLs\u0003\u001bp%K\u001anynvR|nbe`Fr*D^VHx,rc8\u0003\u001awl`qH=i\u001d",
      "_`BwxEi\u000fTlq1j-Qtpu,p@Bv+\u001e",
      "AF.r3YySyz|b2w]sldnR{\"^\u001e",
      "rFzvAl\u000fCsy\u0001i)Oczu+#@ouqpZJurF\u0015QAgw=\u001d",
      "%E\u001alzbhS8e\u001d",
      "_lQsmF!yArp=\u001d",
      ";@ns'glRocokl\u0001r|Ae_Eh81q,<\u001a{hkpRoqc\u001e",
      "aB|nE\u0015^Ux\u0003ro(J&+ydvD<dic]\u0001ox\\^SOp:1Q,<\u001aopqhBCqo*\u0019To~;hUIip1q,<\u001alubkNA\"e_]\u0001uyAY\u000fHsxu)dD[ol\u001fkHB\"t_rkopF\u0015PNh,\u0004^8w^z~m#@<qkelU.E#\u000f7i,vu'?[yndg0\"ccp\u0001\u0005yDYb\u0000pm\u000b",
      "f0P(+HewDAy^p]T\u0018~:ZaE$\u0003rpdJcwlmfDoqk\u001e",
      "[Po|6\u0015cHi,\n",
      "^'?n9'ErQoulk^\u0001\u0000o3h^N${\u0003\u001d",
      "3Kbpy\u001fzDoffb\u0003O}~rWTGmz1q,8n+n`pDoqc\u001e",
      "]P{s@dTS2,hbd=_w{\u001fpD3kq_mJ\u0004o~\u0015PNh,wf8w`zy\u001fqNCjfl`kpF\u0015_LeozadJnlyhqF}\"Qf^\u0001rkK\u0015fAw,vk(@hr'hq0\"pckF|sFn\u000fOj,\u0004q-Cf+hmgi4znsbTw~7\u0015QRmx}f%E]p5\u001fWG4\"t_mF\u0000*E]^Ni,\u0001^'@`tj`oKH=\u001d",
      "raF.}=n\u001b\u0000{u\u0005e3Ln+h\tvO4eh*\u0019Xo}rV\u000fBizzd2wcxtdqR8vv\u001e",
      "hG.@hcAmzvadCcros>Cjb\u001e",
      "oF\u0000\u0003rbXSx,\u0000kdKbp\u0011DvR4z\u001d",
      "kZS\u0001rrlPS$xzh)w[+n`xYH\"^l]\u0001\u0000k6^PNx,w^&Icn3\u001fkT=i\u001d",
      "dkP{*F]T\u0000{{\u0000a);\u0004}prhRokkjZOr6rV]D$p\u0003^4@hr'skDonlu\u0019TvyDZb\u0000mz1a-8jshmrTB\"cmeE\u00018rD]L},\u0005e)aawvnpCq\u001d",
      "raF.\u00017hc\f",
      "$n\u0003l3;cyn\u001frU4t\u001d",
      "raF.BeTR$~v^'?_~3\u001feD2cjc\u0019N}|7\u0015bOqn\u0003bN<ppyx#L8prr^\r",
      ".kE\u0015XF$md)I_o'a|Cjb\u001e",
      "ZQ~|AVRH${w\u001d",
      "8?_+ztq\r",
      "Y\f",
      "\n"
     ]
    }
   ],
   "source": [
    "key = 'bad luck'\n",
    "\n",
    "key_ascii = str_to_ascii(key)\n",
    "\n",
    "padded_key_ascii = []\n",
    "while len(padded_key_ascii) < len(encrypted_ascii):\n",
    "    for n in key_ascii:\n",
    "        padded_key_ascii.append(n)\n",
    "        \n",
    "decrypted_ascii = []\n",
    "for padded_key_n, encrypted_n in zip(padded_key_ascii, encrypted_ascii):\n",
    "    decrypted_ascii.append((encrypted_n - padded_key_n) % 128)\n",
    "    \n",
    "decrypted_message = ascii_to_str(decrypted_ascii)\n",
    "\n",
    "print(decrypted_message)\n",
    "#decrypted_message"
   ]
  },
  {
   "cell_type": "code",
   "execution_count": 86,
   "id": "028727b8",
   "metadata": {},
   "outputs": [
    {
     "data": {
      "text/plain": [
       "'\\x1e'"
      ]
     },
     "execution_count": 86,
     "metadata": {},
     "output_type": "execute_result"
    }
   ],
   "source": [
    "decrypted_message[22]"
   ]
  },
  {
   "cell_type": "code",
   "execution_count": 90,
   "id": "9c1fa20b",
   "metadata": {},
   "outputs": [
    {
     "data": {
      "text/plain": [
       "['ablation',\n",
       " 'ablative',\n",
       " 'ablaut',\n",
       " 'ablaze',\n",
       " 'able',\n",
       " 'ableism',\n",
       " 'ableist',\n",
       " 'abloom',\n",
       " 'ablution',\n",
       " 'ablutions',\n",
       " 'ably',\n",
       " 'ABM',\n",
       " 'Abnaki',\n",
       " 'abnegate',\n",
       " 'abnegation',\n",
       " 'abnegator',\n",
       " 'Abner',\n",
       " 'abnormal',\n",
       " 'abnormality',\n",
       " 'abnormally']"
      ]
     },
     "execution_count": 90,
     "metadata": {},
     "output_type": "execute_result"
    }
   ],
   "source": [
    "dictionary[100:120]"
   ]
  },
  {
   "cell_type": "markdown",
   "id": "df5828b7",
   "metadata": {},
   "source": [
    "Note: We can use the `in` operator to check whether something is an element of a list (or other iterable):"
   ]
  },
  {
   "cell_type": "code",
   "execution_count": 53,
   "id": "d67854b8",
   "metadata": {},
   "outputs": [
    {
     "data": {
      "text/plain": [
       "True"
      ]
     },
     "execution_count": 53,
     "metadata": {},
     "output_type": "execute_result"
    }
   ],
   "source": [
    "'aardvark' in dictionary"
   ]
  },
  {
   "cell_type": "code",
   "execution_count": 54,
   "id": "4ab708e9",
   "metadata": {},
   "outputs": [
    {
     "data": {
      "text/plain": [
       "False"
      ]
     },
     "execution_count": 54,
     "metadata": {},
     "output_type": "execute_result"
    }
   ],
   "source": [
    "'Aardvark' in dictionary"
   ]
  }
 ],
 "metadata": {
  "kernelspec": {
   "display_name": "Python 3 (ipykernel)",
   "language": "python",
   "name": "python3"
  },
  "language_info": {
   "codemirror_mode": {
    "name": "ipython",
    "version": 3
   },
   "file_extension": ".py",
   "mimetype": "text/x-python",
   "name": "python",
   "nbconvert_exporter": "python",
   "pygments_lexer": "ipython3",
   "version": "3.9.21"
  }
 },
 "nbformat": 4,
 "nbformat_minor": 5
}
