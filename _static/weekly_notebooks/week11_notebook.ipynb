{
 "cells": [
  {
   "cell_type": "markdown",
   "id": "b8569747",
   "metadata": {},
   "source": [
    "# Monday, April 7th"
   ]
  },
  {
   "cell_type": "markdown",
   "id": "ac865d2d",
   "metadata": {},
   "source": [
    "## Code breaker project"
   ]
  },
  {
   "cell_type": "markdown",
   "id": "32bbe49c",
   "metadata": {},
   "source": [
    "It will be helpful to be able to convert easily between strings of characters and lists of their corresponding ASCII codes."
   ]
  },
  {
   "cell_type": "markdown",
   "id": "1b00c185",
   "metadata": {},
   "source": [
    "**Exercise:** Write functions `str_to_ascii` and `ascii_to_str` that will convert between strings and lists of ASCII codes. We can use the `ord()` and `chr()` functions to convert any particular character or ASCII code."
   ]
  },
  {
   "cell_type": "code",
   "execution_count": 1,
   "id": "15e2038c",
   "metadata": {},
   "outputs": [],
   "source": [
    "def str_to_ascii(s):\n",
    "#     ascii_list = []\n",
    "#     for c in s:\n",
    "#         ascii_list.append(ord(c))\n",
    "#     return ascii_list\n",
    "\n",
    "    return [ord(c) for c in s]"
   ]
  },
  {
   "cell_type": "code",
   "execution_count": 2,
   "id": "b75c779f",
   "metadata": {},
   "outputs": [
    {
     "data": {
      "text/plain": [
       "[84, 104, 105, 115, 32, 105, 115, 32, 77, 84, 72, 32, 51, 51, 55]"
      ]
     },
     "execution_count": 2,
     "metadata": {},
     "output_type": "execute_result"
    }
   ],
   "source": [
    "str_to_ascii('This is MTH 337')"
   ]
  },
  {
   "cell_type": "code",
   "execution_count": 3,
   "id": "7b36868a",
   "metadata": {},
   "outputs": [],
   "source": [
    "def ascii_to_str(ascii_list):\n",
    "#     c_list = []\n",
    "#     for n in ascii_list:\n",
    "#         c_list.append(chr(n))\n",
    "#     s = ''.join(c_list)\n",
    "#     return s\n",
    "\n",
    "    return ''.join([chr(n) for n in ascii_list])"
   ]
  },
  {
   "cell_type": "code",
   "execution_count": 11,
   "id": "4d0f2273",
   "metadata": {},
   "outputs": [
    {
     "data": {
      "text/plain": [
       "'hello'"
      ]
     },
     "execution_count": 11,
     "metadata": {},
     "output_type": "execute_result"
    }
   ],
   "source": [
    "ascii_to_str([104, 101, 108, 108, 111])"
   ]
  },
  {
   "cell_type": "markdown",
   "id": "d9d1e32d",
   "metadata": {},
   "source": [
    "Consider the example described in the project page. Suppose we want encrypt the message \"Top secret!\" using the secret key \"buffalo\"."
   ]
  },
  {
   "cell_type": "code",
   "execution_count": 12,
   "id": "6988a7d6",
   "metadata": {},
   "outputs": [],
   "source": [
    "message = 'Top secret!'\n",
    "key = 'buffalo'"
   ]
  },
  {
   "cell_type": "markdown",
   "id": "7ee02dc6",
   "metadata": {},
   "source": [
    "Let's convert both to lists of ASCII codes:"
   ]
  },
  {
   "cell_type": "code",
   "execution_count": 14,
   "id": "6af35778",
   "metadata": {},
   "outputs": [
    {
     "name": "stdout",
     "output_type": "stream",
     "text": [
      "[84, 111, 112, 32, 115, 101, 99, 114, 101, 116, 33]\n",
      "[98, 117, 102, 102, 97, 108, 111]\n"
     ]
    }
   ],
   "source": [
    "message_ascii = str_to_ascii(message)\n",
    "key_ascii = str_to_ascii(key)\n",
    "\n",
    "print(message_ascii)\n",
    "print(key_ascii)"
   ]
  },
  {
   "cell_type": "markdown",
   "id": "962ce08b",
   "metadata": {},
   "source": [
    "**Problem**: Our message has more characters than our key, so we need to duplicate our key enough times to match the length of the message."
   ]
  },
  {
   "cell_type": "code",
   "execution_count": 16,
   "id": "da24d2da",
   "metadata": {},
   "outputs": [
    {
     "name": "stdout",
     "output_type": "stream",
     "text": [
      "11\n",
      "7\n"
     ]
    }
   ],
   "source": [
    "print(len(message_ascii))\n",
    "print(len(key_ascii))"
   ]
  },
  {
   "cell_type": "markdown",
   "id": "9268f86e",
   "metadata": {},
   "source": [
    "One idea: Count how many times we need to duplicate the `key_ascii` list to match or exceed the length of `message_ascii`:"
   ]
  },
  {
   "cell_type": "code",
   "execution_count": 23,
   "id": "45b59b54",
   "metadata": {},
   "outputs": [],
   "source": [
    "num_repeats = len(message_ascii) // len(key_ascii) + 1\n",
    "\n",
    "padded_key_ascii = key_ascii * num_repeats"
   ]
  },
  {
   "cell_type": "code",
   "execution_count": 24,
   "id": "839f4129",
   "metadata": {},
   "outputs": [
    {
     "name": "stdout",
     "output_type": "stream",
     "text": [
      "[98, 117, 102, 102, 97, 108, 111, 98, 117, 102, 102, 97, 108, 111]\n"
     ]
    }
   ],
   "source": [
    "print(padded_key_ascii)"
   ]
  },
  {
   "cell_type": "markdown",
   "id": "5cf202da",
   "metadata": {},
   "source": [
    "Another idea: use a `while` loop:"
   ]
  },
  {
   "cell_type": "code",
   "execution_count": 25,
   "id": "f7afdbdb",
   "metadata": {},
   "outputs": [],
   "source": [
    "padded_key_ascii = []\n",
    "while len(padded_key_ascii) < len(message_ascii):\n",
    "    for n in key_ascii:\n",
    "        padded_key_ascii.append(n)"
   ]
  },
  {
   "cell_type": "code",
   "execution_count": 26,
   "id": "eef1b4eb",
   "metadata": {},
   "outputs": [
    {
     "name": "stdout",
     "output_type": "stream",
     "text": [
      "[98, 117, 102, 102, 97, 108, 111, 98, 117, 102, 102, 97, 108, 111]\n"
     ]
    }
   ],
   "source": [
    "print(padded_key_ascii)"
   ]
  },
  {
   "cell_type": "code",
   "execution_count": 27,
   "id": "9cbbf1dd",
   "metadata": {},
   "outputs": [
    {
     "data": {
      "text/plain": [
       "14"
      ]
     },
     "execution_count": 27,
     "metadata": {},
     "output_type": "execute_result"
    }
   ],
   "source": [
    "len(padded_key_ascii)"
   ]
  },
  {
   "cell_type": "markdown",
   "id": "bd3b83e4",
   "metadata": {},
   "source": [
    "We've padded out our key to be sufficiently long, now let's go number by number to encrypt:"
   ]
  },
  {
   "cell_type": "code",
   "execution_count": 28,
   "id": "f6bf4658",
   "metadata": {},
   "outputs": [],
   "source": [
    "encrypted_ascii = []\n",
    "\n",
    "for padded_key_n, message_n in zip(padded_key_ascii, message_ascii):\n",
    "    encrypted_ascii.append((padded_key_n + message_n) % 128)"
   ]
  },
  {
   "cell_type": "code",
   "execution_count": 29,
   "id": "8f031f5a",
   "metadata": {},
   "outputs": [
    {
     "data": {
      "text/plain": [
       "[54, 100, 86, 6, 84, 81, 82, 84, 90, 90, 7]"
      ]
     },
     "execution_count": 29,
     "metadata": {},
     "output_type": "execute_result"
    }
   ],
   "source": [
    "encrypted_ascii"
   ]
  },
  {
   "cell_type": "markdown",
   "id": "a3dc4c06",
   "metadata": {},
   "source": [
    "**Exercise:** Write a function `encrypt(message_ascii, key_ascii)` that return the encrypted version of `message_ascii` using the secret key `key_ascii` (based on the code above)."
   ]
  },
  {
   "cell_type": "markdown",
   "id": "d8d84faf",
   "metadata": {},
   "source": [
    "**Exercise:** Write a companion function `decrypt(encrypted_ascii, key_ascii)` that returns the decrypted message."
   ]
  },
  {
   "cell_type": "code",
   "execution_count": 32,
   "id": "be655d43",
   "metadata": {},
   "outputs": [],
   "source": [
    "decrypted_ascii = []\n",
    "\n",
    "for padded_key_n, encrypted_n in zip(padded_key_ascii, encrypted_ascii):\n",
    "    decrypted_ascii.append((encrypted_n - padded_key_n) % 128)"
   ]
  },
  {
   "cell_type": "code",
   "execution_count": 33,
   "id": "1f966103",
   "metadata": {},
   "outputs": [
    {
     "data": {
      "text/plain": [
       "[84, 111, 112, 32, 115, 101, 99, 114, 101, 116, 33]"
      ]
     },
     "execution_count": 33,
     "metadata": {},
     "output_type": "execute_result"
    }
   ],
   "source": [
    "decrypted_ascii"
   ]
  },
  {
   "cell_type": "code",
   "execution_count": 34,
   "id": "c6c82a5d",
   "metadata": {},
   "outputs": [
    {
     "data": {
      "text/plain": [
       "'Top secret!'"
      ]
     },
     "execution_count": 34,
     "metadata": {},
     "output_type": "execute_result"
    }
   ],
   "source": [
    "ascii_to_str(decrypted_ascii)"
   ]
  },
  {
   "cell_type": "markdown",
   "id": "2bc4f354",
   "metadata": {},
   "source": [
    "## Working with text files"
   ]
  },
  {
   "cell_type": "markdown",
   "id": "4b7c93e3",
   "metadata": {},
   "source": [
    "I've downloaded the `dictionary.txt` file and the `msmith37.txt` file and placed them into my weekly notebook directory."
   ]
  },
  {
   "cell_type": "markdown",
   "id": "f2c9febf",
   "metadata": {},
   "source": [
    "The `open` function can be used to open a file for reading or writing. We will also use the `with` construct to have Python manage the closing of our file when we're finished."
   ]
  },
  {
   "cell_type": "code",
   "execution_count": 4,
   "id": "184423bd",
   "metadata": {},
   "outputs": [],
   "source": [
    "with open('dictionary.txt') as f:  # This opens dictionary.txt and names the contents `f`\n",
    "    s = f.read()                   # This reads the contents of the file into a string"
   ]
  },
  {
   "cell_type": "code",
   "execution_count": 5,
   "id": "31e4827b",
   "metadata": {},
   "outputs": [
    {
     "name": "stdout",
     "output_type": "stream",
     "text": [
      "A\n",
      "a\n",
      "Aachen\n",
      "Aalborg\n",
      "aardvark\n",
      "Aarhus\n",
      "Aaron\n",
      "AB\n",
      "Ab\n",
      "abaci\n",
      "aback\n",
      "abacus\n",
      "Abadan\n",
      "abaft\n",
      "abalone\n",
      "abandon\n",
      "aband\n"
     ]
    }
   ],
   "source": [
    "print(s[:100])"
   ]
  },
  {
   "cell_type": "markdown",
   "id": "39db7ace",
   "metadata": {},
   "source": [
    "A more appropriate structure would be to split the string on space/new lines to get a list of words in the dictionary:"
   ]
  },
  {
   "cell_type": "code",
   "execution_count": 6,
   "id": "efbfee6e",
   "metadata": {},
   "outputs": [
    {
     "name": "stdout",
     "output_type": "stream",
     "text": [
      "['A', 'a', 'Aachen', 'Aalborg', 'aardvark', 'Aarhus', 'Aaron', 'AB', 'Ab', 'abaci']\n"
     ]
    }
   ],
   "source": [
    "dictionary = s.split()\n",
    "\n",
    "print(dictionary[:10])"
   ]
  },
  {
   "cell_type": "markdown",
   "id": "165ce012",
   "metadata": {},
   "source": [
    "Similarly, we can read in an encrypted message:"
   ]
  },
  {
   "cell_type": "code",
   "execution_count": 7,
   "id": "8785b5f3",
   "metadata": {},
   "outputs": [],
   "source": [
    "with open('msmith37.txt') as f:\n",
    "    s = f.read()"
   ]
  },
  {
   "cell_type": "code",
   "execution_count": 43,
   "id": "3f88368d",
   "metadata": {
    "scrolled": true
   },
   "outputs": [
    {
     "name": "stdout",
     "output_type": "stream",
     "text": [
      "77 49 83 102 88 73 40 93 14 103 84 4 55 87 83 100 70 4 58 80 97 30 1 69 54 15 55 18 73 69 57 84 14 8\n"
     ]
    }
   ],
   "source": [
    "print(s[:100])"
   ]
  },
  {
   "cell_type": "markdown",
   "id": "399121e4",
   "metadata": {},
   "source": [
    "Again, we can split the string on spaces to produce a list of \"integers\"."
   ]
  },
  {
   "cell_type": "code",
   "execution_count": 44,
   "id": "b07504a1",
   "metadata": {},
   "outputs": [
    {
     "data": {
      "text/plain": [
       "['77', '49', '83', '102', '88', '73', '40', '93', '14', '103']"
      ]
     },
     "execution_count": 44,
     "metadata": {},
     "output_type": "execute_result"
    }
   ],
   "source": [
    "s.split()[:10]"
   ]
  },
  {
   "cell_type": "markdown",
   "id": "f0ad9e6d",
   "metadata": {},
   "source": [
    "We need to convert each of these \"integer\" strings into actual integers:"
   ]
  },
  {
   "cell_type": "code",
   "execution_count": 73,
   "id": "f7ce5b19",
   "metadata": {},
   "outputs": [],
   "source": [
    "encrypted_ascii = []\n",
    "\n",
    "for str_n in s.split():\n",
    "    encrypted_ascii.append(int(str_n))"
   ]
  },
  {
   "cell_type": "code",
   "execution_count": 74,
   "id": "8c1c8af8",
   "metadata": {},
   "outputs": [
    {
     "data": {
      "text/plain": [
       "[77, 49, 83, 102, 88, 73, 40, 93, 14, 103]"
      ]
     },
     "execution_count": 74,
     "metadata": {},
     "output_type": "execute_result"
    }
   ],
   "source": [
    "encrypted_ascii[:10]"
   ]
  },
  {
   "cell_type": "markdown",
   "id": "84c5ee94",
   "metadata": {},
   "source": [
    "Let's just try to blindly decrypt this message:"
   ]
  },
  {
   "cell_type": "code",
   "execution_count": 89,
   "id": "611aa911",
   "metadata": {},
   "outputs": [
    {
     "name": "stdout",
     "output_type": "stream",
     "text": [
      "kPoFlTEr,\u0006pdKbpyd#V0u)\u001e",
      "ZT.Sr]PVi,ri6<[o\u0000\u001fv@8f\u001d",
      "qhNs\u0001:ZaE0,\u0005e)w\\zuc#N5\f",
      "qf^\u0001\u0001o3#\u000f\"iza)J\u001asvkgH=i\u001d",
      "mnS.r7VaTw,\u0005l+<nslq#S7tls`I.vAcV\u0000tq\u0003f3;m+ve\r",
      "R4r^pZUwy@!\u000fIx,y^(wnsl\u001fhE5g`r\u0019Pt*?VZIrs1r7wnzsdu@=v\u001d",
      "m_\u0001sk5]\u000fOxtvokJ\u0004\u0004hqqR|/^l]\u0001s\u00007c\u000fCsz\u0007f'Kczur1#jb\u001e",
      "EB\u0005\u00037g\u001c",
      "\r",
      "xtv\u001d",
      "&<m'ni>na\u001e",
      "_FzvAlb\r",
      "1trapa\\pj`xR4\"ld\u0019Iw}rbPN},\n",
      "b%Im+hmg<ckw\u0019Ww|FjTS0,\u0005e)wiysx#BDueghO.y@\u0015SEgw=\u0007%E^+~`v;{fl`\u0001}xriWE${i=wl\u0000n-#37g\u001d",
      "?\\D}@iPNx,y^(w\\}vtjGC\"lsm\u0001ovDZPD},r\u0007&Fr+ve#C>oflhF\u00016rV]D$\u0003rpdKi\u0004pmj0t`fbUsmFjaApx\n",
      "\u001d",
      ";@ns'skDodll^T<*\u001fVaLs\u0003\u001bp%K\u001anynvR|nbe`Fr*D^VHx,rc8\u0003\u001awl`qH=i\u001d",
      "_`BwxEi\u000fTlq1j-Qtpu,p@Bv+\u001e",
      "AF.r3YySyz|b2w]sldnR{\"^\u001e",
      "rFzvAl\u000fCsy\u0001i)Oczu+#@ouqpZJurF\u0015QAgw=\u001d",
      "%E\u001alzbhS8e\u001d",
      "_lQsmF!yArp=\u001d",
      ";@ns'glRocokl\u0001r|Ae_Eh81q,<\u001a{hkpRoqc\u001e",
      "aB|nE\u0015^Ux\u0003ro(J&+ydvD<dic]\u0001ox\\^SOp:1Q,<\u001aopqhBCqo*\u0019To~;hUIip1q,<\u001alubkNA\"e_]\u0001uyAY\u000fHsxu)dD[ol\u001fkHB\"t_rkopF\u0015PNh,\u0004^8w^z~m#@<qkelU.E#\u000f7i,vu'?[yndg0\"ccp\u0001\u0005yDYb\u0000pm\u000b",
      "f0P(+HewDAy^p]T\u0018~:ZaE$\u0003rpdJcwlmfDoqk\u001e",
      "[Po|6\u0015cHi,\n",
      "^'?n9'ErQoulk^\u0001\u0000o3h^N${\u0003\u001d",
      "3Kbpy\u001fzDoffb\u0003O}~rWTGmz1q,8n+n`pDoqc\u001e",
      "]P{s@dTS2,hbd=_w{\u001fpD3kq_mJ\u0004o~\u0015PNh,wf8w`zy\u001fqNCjfl`kpF\u0015_LeozadJnlyhqF}\"Qf^\u0001rkK\u0015fAw,vk(@hr'hq0\"pckF|sFn\u000fOj,\u0004q-Cf+hmgi4znsbTw~7\u0015QRmx}f%E]p5\u001fWG4\"t_mF\u0000*E]^Ni,\u0001^'@`tj`oKH=\u001d",
      "raF.}=n\u001b\u0000{u\u0005e3Ln+h\tvO4eh*\u0019Xo}rV\u000fBizzd2wcxtdqR8vv\u001e",
      "hG.@hcAmzvadCcros>Cjb\u001e",
      "oF\u0000\u0003rbXSx,\u0000kdKbp\u0011DvR4z\u001d",
      "kZS\u0001rrlPS$xzh)w[+n`xYH\"^l]\u0001\u0000k6^PNx,w^&Icn3\u001fkT=i\u001d",
      "dkP{*F]T\u0000{{\u0000a);\u0004}prhRokkjZOr6rV]D$p\u0003^4@hr'skDonlu\u0019TvyDZb\u0000mz1a-8jshmrTB\"cmeE\u00018rD]L},\u0005e)aawvnpCq\u001d",
      "raF.\u00017hc\f",
      "$n\u0003l3;cyn\u001frU4t\u001d",
      "raF.BeTR$~v^'?_~3\u001feD2cjc\u0019N}|7\u0015bOqn\u0003bN<ppyx#L8prr^\r",
      ".kE\u0015XF$md)I_o'a|Cjb\u001e",
      "ZQ~|AVRH${w\u001d",
      "8?_+ztq\r",
      "Y\f",
      "\n"
     ]
    }
   ],
   "source": [
    "key = 'bad luck'\n",
    "\n",
    "key_ascii = str_to_ascii(key)\n",
    "\n",
    "padded_key_ascii = []\n",
    "while len(padded_key_ascii) < len(encrypted_ascii):\n",
    "    for n in key_ascii:\n",
    "        padded_key_ascii.append(n)\n",
    "        \n",
    "decrypted_ascii = []\n",
    "for padded_key_n, encrypted_n in zip(padded_key_ascii, encrypted_ascii):\n",
    "    decrypted_ascii.append((encrypted_n - padded_key_n) % 128)\n",
    "    \n",
    "decrypted_message = ascii_to_str(decrypted_ascii)\n",
    "\n",
    "print(decrypted_message)\n",
    "#decrypted_message"
   ]
  },
  {
   "cell_type": "code",
   "execution_count": 86,
   "id": "45a06405",
   "metadata": {},
   "outputs": [
    {
     "data": {
      "text/plain": [
       "'\\x1e'"
      ]
     },
     "execution_count": 86,
     "metadata": {},
     "output_type": "execute_result"
    }
   ],
   "source": [
    "decrypted_message[22]"
   ]
  },
  {
   "cell_type": "code",
   "execution_count": 90,
   "id": "9348f654",
   "metadata": {},
   "outputs": [
    {
     "data": {
      "text/plain": [
       "['ablation',\n",
       " 'ablative',\n",
       " 'ablaut',\n",
       " 'ablaze',\n",
       " 'able',\n",
       " 'ableism',\n",
       " 'ableist',\n",
       " 'abloom',\n",
       " 'ablution',\n",
       " 'ablutions',\n",
       " 'ably',\n",
       " 'ABM',\n",
       " 'Abnaki',\n",
       " 'abnegate',\n",
       " 'abnegation',\n",
       " 'abnegator',\n",
       " 'Abner',\n",
       " 'abnormal',\n",
       " 'abnormality',\n",
       " 'abnormally']"
      ]
     },
     "execution_count": 90,
     "metadata": {},
     "output_type": "execute_result"
    }
   ],
   "source": [
    "dictionary[100:120]"
   ]
  },
  {
   "cell_type": "markdown",
   "id": "cc930f3c",
   "metadata": {},
   "source": [
    "Note: We can use the `in` operator to check whether something is an element of a list (or other iterable):"
   ]
  },
  {
   "cell_type": "code",
   "execution_count": 53,
   "id": "20a30ee8",
   "metadata": {},
   "outputs": [
    {
     "data": {
      "text/plain": [
       "True"
      ]
     },
     "execution_count": 53,
     "metadata": {},
     "output_type": "execute_result"
    }
   ],
   "source": [
    "'aardvark' in dictionary"
   ]
  },
  {
   "cell_type": "code",
   "execution_count": 54,
   "id": "f28855d0",
   "metadata": {},
   "outputs": [
    {
     "data": {
      "text/plain": [
       "False"
      ]
     },
     "execution_count": 54,
     "metadata": {},
     "output_type": "execute_result"
    }
   ],
   "source": [
    "'Aardvark' in dictionary"
   ]
  },
  {
   "cell_type": "markdown",
   "id": "76a2d73a",
   "metadata": {},
   "source": [
    "# Wednesday, April 9th"
   ]
  },
  {
   "cell_type": "markdown",
   "id": "087f3bb3",
   "metadata": {},
   "source": [
    "Today, let's look at working with text data. We can get some sample text from the Project Gutenberg website.\n",
    "\n",
    "I've downloaded the text from the book \"Frankenstein\" into the file `frankenstein.txt` and placed it into my weekly notebook folder."
   ]
  },
  {
   "cell_type": "markdown",
   "id": "1cda5047",
   "metadata": {},
   "source": [
    "Note: This particular file has some special characters that can't be decoded with the default decoder when opening, so I've included the keyword argument `encoding='utf-8'` to use a different decoder."
   ]
  },
  {
   "cell_type": "code",
   "execution_count": 3,
   "id": "adc5b83c",
   "metadata": {},
   "outputs": [],
   "source": [
    "with open('frankenstein.txt',encoding='utf-8') as f:\n",
    "    text = f.read()"
   ]
  },
  {
   "cell_type": "code",
   "execution_count": 8,
   "id": "58f47fc1",
   "metadata": {},
   "outputs": [
    {
     "name": "stdout",
     "output_type": "stream",
     "text": [
      "ions towards\n",
      "which I am advancing, gives me a foretaste of those icy climes.\n",
      "Inspirited by this wind of promise, my daydreams become more fervent\n",
      "and vivid. I try in vain to be persuaded that the pole is the seat of\n",
      "frost and desolation; it ever presents itself to my imagination as the\n",
      "region of beauty and delight. There, Margaret, the sun is for ever\n",
      "visible, its broad disk just skirting the horizon and diffusing a\n",
      "perpetual splendour. There—for with your leave, my sister, I will put\n",
      "some trust in preceding navigators—there snow and frost are banished;\n",
      "and, sailing over a calm sea, we may be wafted to a land surpassing in\n",
      "wonders and in beauty every region hitherto discovered on the habitable\n",
      "globe. Its productions and features may be without example, as the\n",
      "phenomena of the heavenly bodies undoubtedly are in those undiscovered\n",
      "solitudes. What may not be expected in a country of eternal light? I\n",
      "may there discover the wondrous power which attracts the needle and may\n",
      "regulate a thousan\n"
     ]
    }
   ],
   "source": [
    "print(text[2000:3000])"
   ]
  },
  {
   "cell_type": "markdown",
   "id": "3f3bd730",
   "metadata": {},
   "source": [
    "**Exercise**: What is the most commonly used word in Frankenstein?"
   ]
  },
  {
   "cell_type": "markdown",
   "id": "7306351e",
   "metadata": {},
   "source": [
    "Idea: \n",
    " - Construct a dictionary whose keys are words and whose values are how many times that word appears in Frankenstein.\n",
    " - To construct this dictionary:\n",
    "  - Look through every word in Frankenstein.\n",
    "  - If the word is not in our dictionary, add it to the dictionary with a value of `1`.\n",
    "  - If the word is in the dictionary, increment the value associated to that word by `1`."
   ]
  },
  {
   "cell_type": "code",
   "execution_count": 10,
   "id": "abccf501",
   "metadata": {},
   "outputs": [],
   "source": [
    "# Initialize an empty dictionary\n",
    "# The keys will be words\n",
    "# The values will be how many times that word appears in Frankenstein\n",
    "word_count_dict = {}\n",
    "\n",
    "# Split the text on white space to get a list of words\n",
    "frankenstein_words = text.split()\n",
    "\n",
    "# Iterate through each word in Frankenstein\n",
    "for word in frankenstein_words:\n",
    "    # Check if word is a key in word_count_dict\n",
    "    if word in word_count_dict:\n",
    "        # If so, increment the count by 1\n",
    "        word_count_dict[word] += 1\n",
    "    else:\n",
    "        # If not, add it to the dictionary with a value of 1\n",
    "        word_count_dict[word] = 1"
   ]
  },
  {
   "cell_type": "code",
   "execution_count": 12,
   "id": "a4e2ef80",
   "metadata": {},
   "outputs": [],
   "source": [
    "#word_count_dict"
   ]
  },
  {
   "cell_type": "markdown",
   "id": "f064d550",
   "metadata": {},
   "source": [
    "We've generated a dictionary relating words to their counts, but which word has the highest count?"
   ]
  },
  {
   "cell_type": "code",
   "execution_count": 13,
   "id": "bb33117d",
   "metadata": {},
   "outputs": [
    {
     "data": {
      "text/plain": [
       "'\\ufeffThe'"
      ]
     },
     "execution_count": 13,
     "metadata": {},
     "output_type": "execute_result"
    }
   ],
   "source": [
    "max(word_count_dict)"
   ]
  },
  {
   "cell_type": "markdown",
   "id": "b048c3a0",
   "metadata": {},
   "source": [
    "By default, taking the maximum of a dictionary returns the maximum of the keys of that dictionary. In this case, the keys are strings, so it returns the last in alphabetical order."
   ]
  },
  {
   "cell_type": "code",
   "execution_count": 14,
   "id": "11a0c907",
   "metadata": {},
   "outputs": [
    {
     "data": {
      "text/plain": [
       "'c'"
      ]
     },
     "execution_count": 14,
     "metadata": {},
     "output_type": "execute_result"
    }
   ],
   "source": [
    "max(['a','b','c'])"
   ]
  },
  {
   "cell_type": "markdown",
   "id": "8c824f40",
   "metadata": {},
   "source": [
    "We'd rather take the maximum of the values. We can use `word_count_dict.values()` to get a \"list\" of the values."
   ]
  },
  {
   "cell_type": "code",
   "execution_count": 19,
   "id": "96131969",
   "metadata": {},
   "outputs": [
    {
     "data": {
      "text/plain": [
       "4066"
      ]
     },
     "execution_count": 19,
     "metadata": {},
     "output_type": "execute_result"
    }
   ],
   "source": [
    "max(word_count_dict.values())"
   ]
  },
  {
   "cell_type": "markdown",
   "id": "c7e0a768",
   "metadata": {},
   "source": [
    "This gives us the maximum count, but we want the word that has this maximum count."
   ]
  },
  {
   "cell_type": "markdown",
   "id": "c24699d2",
   "metadata": {},
   "source": [
    "Do manage this, we can supply our own `key` function to the maximum function."
   ]
  },
  {
   "cell_type": "markdown",
   "id": "4ffd04cb",
   "metadata": {},
   "source": [
    "## Finding maximums with a custom key"
   ]
  },
  {
   "cell_type": "code",
   "execution_count": 20,
   "id": "805c39d0",
   "metadata": {
    "scrolled": true
   },
   "outputs": [
    {
     "name": "stdout",
     "output_type": "stream",
     "text": [
      "Help on built-in function max in module builtins:\n",
      "\n",
      "max(...)\n",
      "    max(iterable, *[, default=obj, key=func]) -> value\n",
      "    max(arg1, arg2, *args, *[, key=func]) -> value\n",
      "    \n",
      "    With a single iterable argument, return its biggest item. The\n",
      "    default keyword-only argument specifies an object to return if\n",
      "    the provided iterable is empty.\n",
      "    With two or more arguments, return the largest argument.\n",
      "\n"
     ]
    }
   ],
   "source": [
    "help(max)"
   ]
  },
  {
   "cell_type": "markdown",
   "id": "0781df61",
   "metadata": {},
   "source": [
    "Consider the following toy example:"
   ]
  },
  {
   "cell_type": "code",
   "execution_count": 21,
   "id": "0d2a1d80",
   "metadata": {},
   "outputs": [],
   "source": [
    "my_list = ['One', 'Two', 'Three', 'Four']"
   ]
  },
  {
   "cell_type": "code",
   "execution_count": 22,
   "id": "0895bdd6",
   "metadata": {},
   "outputs": [
    {
     "data": {
      "text/plain": [
       "'Two'"
      ]
     },
     "execution_count": 22,
     "metadata": {},
     "output_type": "execute_result"
    }
   ],
   "source": [
    "max(my_list)"
   ]
  },
  {
   "cell_type": "markdown",
   "id": "85bb59aa",
   "metadata": {},
   "source": [
    "Let's make a custom `key` function to pass to `max`:"
   ]
  },
  {
   "cell_type": "code",
   "execution_count": 23,
   "id": "71b493a8",
   "metadata": {},
   "outputs": [],
   "source": [
    "def my_key(s):\n",
    "    if s == 'One':\n",
    "        return 1\n",
    "    if s == 'Two':\n",
    "        return 2\n",
    "    if s == 'Three':\n",
    "        return 3\n",
    "    if s == 'Four':\n",
    "        return 4"
   ]
  },
  {
   "cell_type": "code",
   "execution_count": 24,
   "id": "f6091ee4",
   "metadata": {},
   "outputs": [
    {
     "data": {
      "text/plain": [
       "'Four'"
      ]
     },
     "execution_count": 24,
     "metadata": {},
     "output_type": "execute_result"
    }
   ],
   "source": [
    "max(my_list, key=my_key)"
   ]
  },
  {
   "cell_type": "markdown",
   "id": "e34b59a3",
   "metadata": {},
   "source": [
    "We can do the same thing with `min`:"
   ]
  },
  {
   "cell_type": "code",
   "execution_count": 25,
   "id": "6b93c833",
   "metadata": {},
   "outputs": [
    {
     "data": {
      "text/plain": [
       "'Four'"
      ]
     },
     "execution_count": 25,
     "metadata": {},
     "output_type": "execute_result"
    }
   ],
   "source": [
    "min(my_list)"
   ]
  },
  {
   "cell_type": "code",
   "execution_count": 26,
   "id": "43550e39",
   "metadata": {},
   "outputs": [
    {
     "data": {
      "text/plain": [
       "'One'"
      ]
     },
     "execution_count": 26,
     "metadata": {},
     "output_type": "execute_result"
    }
   ],
   "source": [
    "min(my_list, key=my_key)"
   ]
  },
  {
   "cell_type": "markdown",
   "id": "0fed7652",
   "metadata": {},
   "source": [
    "For the Frankenstein problem, we want to find the \"maximum\" word, where the size of the word is given by the count of that word."
   ]
  },
  {
   "cell_type": "code",
   "execution_count": 27,
   "id": "5aa1710e",
   "metadata": {},
   "outputs": [],
   "source": [
    "def word_count_key(word):\n",
    "    # Look up the value associated to `word`\n",
    "    return word_count_dict[word]"
   ]
  },
  {
   "cell_type": "code",
   "execution_count": 29,
   "id": "a3bb619a",
   "metadata": {
    "scrolled": true
   },
   "outputs": [
    {
     "name": "stdout",
     "output_type": "stream",
     "text": [
      "the\n",
      "4066\n"
     ]
    }
   ],
   "source": [
    "most_common_word = max(word_count_dict, key=word_count_key)\n",
    "print(most_common_word)\n",
    "print(word_count_dict[most_common_word])"
   ]
  },
  {
   "cell_type": "markdown",
   "id": "5e44e7e7",
   "metadata": {},
   "source": [
    "Sticking with this Frankenstein text a little, suppose we want to find the 10 most commonly used words. In this case, we would like to sort our dictionary and take just the 10 words (and their counts).\n",
    "\n",
    "We can use the `sorted` function to sort an iterable:"
   ]
  },
  {
   "cell_type": "code",
   "execution_count": 32,
   "id": "ac8aa950",
   "metadata": {},
   "outputs": [
    {
     "data": {
      "text/plain": [
       "['#84]',\n",
       " '$5,000)',\n",
       " '($1',\n",
       " '(801)',\n",
       " '(Godwin)',\n",
       " '(I',\n",
       " '(July',\n",
       " '(May',\n",
       " '(a)',\n",
       " '(although',\n",
       " '(and',\n",
       " '(any',\n",
       " '(as',\n",
       " '(b)',\n",
       " '(c)',\n",
       " '(does',\n",
       " '(foolish',\n",
       " '(for',\n",
       " '(if',\n",
       " '(inexperience']"
      ]
     },
     "execution_count": 32,
     "metadata": {},
     "output_type": "execute_result"
    }
   ],
   "source": [
    "sorted(word_count_dict)[:20]"
   ]
  },
  {
   "cell_type": "markdown",
   "id": "41d2e861",
   "metadata": {},
   "source": [
    "By default, applying `sorted` to a dictionary will sort the keys. In this case, the keys are strings, so they are sorted alphabetically. For our purposes, we want to sort the keys based on their values (i.e. the word counts). We can again use the `key` keyword argument in `sorted` to change the sorting behavior:"
   ]
  },
  {
   "cell_type": "code",
   "execution_count": 35,
   "id": "aba64f7b",
   "metadata": {},
   "outputs": [
    {
     "data": {
      "text/plain": [
       "['that', 'was', 'in', 'a', 'my', 'to', 'I', 'of', 'and', 'the']"
      ]
     },
     "execution_count": 35,
     "metadata": {},
     "output_type": "execute_result"
    }
   ],
   "source": [
    "sorted(word_count_dict, key=word_count_key)[-10:]"
   ]
  },
  {
   "cell_type": "markdown",
   "id": "89cf7e58",
   "metadata": {},
   "source": [
    "We can also use the keyword argument `reverse=True` to sort in the reverse direction:"
   ]
  },
  {
   "cell_type": "code",
   "execution_count": 40,
   "id": "93539163",
   "metadata": {},
   "outputs": [
    {
     "name": "stdout",
     "output_type": "stream",
     "text": [
      "the 4066\n",
      "and 2968\n",
      "of 2745\n",
      "I 2719\n",
      "to 2144\n",
      "my 1631\n",
      "a 1394\n",
      "in 1129\n",
      "was 994\n",
      "that 986\n"
     ]
    }
   ],
   "source": [
    "sorted_words = sorted(word_count_dict, key=word_count_key, reverse=True)[:10]\n",
    "sorted_counts = [word_count_dict[word] for word in sorted_words]\n",
    "\n",
    "for word, count in zip(sorted_words, sorted_counts):\n",
    "    print(word, count)"
   ]
  },
  {
   "cell_type": "markdown",
   "id": "e8fce0d0",
   "metadata": {},
   "source": [
    "Note: many of the \"words\" in our dictionary contain some extra characters. For example, \"(for\", \"for\", \"For\", are all words in our dictionary with differents associated to them."
   ]
  },
  {
   "cell_type": "markdown",
   "id": "e091f67b",
   "metadata": {},
   "source": [
    "## Pre-processing our text"
   ]
  },
  {
   "cell_type": "markdown",
   "id": "0dfbd503",
   "metadata": {},
   "source": [
    "It might be helpful to perform the following steps before calculating word counts:\n",
    " - Convert all letters to lowercase\n",
    " - Remove all punctuation\n",
    " - Remove some other special characters (e.g. `(, ', \", #, @, %`, etc.)"
   ]
  },
  {
   "cell_type": "markdown",
   "id": "568b4bf7",
   "metadata": {},
   "source": [
    "We can convert any string to all lowercase using the `.lower()` method:"
   ]
  },
  {
   "cell_type": "code",
   "execution_count": 43,
   "id": "2f7c064e",
   "metadata": {},
   "outputs": [
    {
     "name": "stdout",
     "output_type": "stream",
     "text": [
      "ThiS Is a StRiNg with UppEr and LoweR cASe letTeRs\n",
      "this is a string with upper and lower case letters\n"
     ]
    }
   ],
   "source": [
    "s = 'ThiS Is a StRiNg with UppEr and LoweR cASe letTeRs'\n",
    "print(s)\n",
    "print(s.lower())"
   ]
  },
  {
   "cell_type": "markdown",
   "id": "699545b1",
   "metadata": {},
   "source": [
    "We can use the `.replace` method to replace punctuation with nothing."
   ]
  },
  {
   "cell_type": "code",
   "execution_count": 54,
   "id": "f88924e6",
   "metadata": {},
   "outputs": [
    {
     "name": "stdout",
     "output_type": "stream",
     "text": [
      "This is a string, it contains some punctuation. Here's some more: !?.,\n",
      "this is a string it contains some punctuation here's some more \n"
     ]
    }
   ],
   "source": [
    "s = \"This is a string, it contains some punctuation. Here's some more: !?.,\"\n",
    "print(s)\n",
    "\n",
    "#punctuations = ['.', ',', '!', '?', ':', ';']\n",
    "punctuations = '.,!?:;()#@%'\n",
    "\n",
    "for punctuation in punctuations:\n",
    "    s = s.replace(punctuation,'')\n",
    "\n",
    "print(s.lower())"
   ]
  },
  {
   "cell_type": "markdown",
   "id": "795dd372",
   "metadata": {},
   "source": [
    "## Connecting with the code breakers project"
   ]
  },
  {
   "cell_type": "markdown",
   "id": "8563c7d2",
   "metadata": {},
   "source": [
    "We have a list, `frankenstein_words` of all of the words that appear in Frankenstein."
   ]
  },
  {
   "cell_type": "code",
   "execution_count": 59,
   "id": "380911bc",
   "metadata": {},
   "outputs": [
    {
     "data": {
      "text/plain": [
       "['\\ufeffThe',\n",
       " 'Project',\n",
       " 'Gutenberg',\n",
       " 'eBook',\n",
       " 'of',\n",
       " 'Frankenstein;',\n",
       " 'Or,',\n",
       " 'The',\n",
       " 'Modern',\n",
       " 'Prometheus']"
      ]
     },
     "execution_count": 59,
     "metadata": {},
     "output_type": "execute_result"
    }
   ],
   "source": [
    "frankenstein_words[:10]"
   ]
  },
  {
   "cell_type": "markdown",
   "id": "45394662",
   "metadata": {},
   "source": [
    "How many of these words appear in our `dictionary.txt` file?"
   ]
  },
  {
   "cell_type": "code",
   "execution_count": 60,
   "id": "0a9b0181",
   "metadata": {},
   "outputs": [],
   "source": [
    "with open('dictionary.txt') as f:\n",
    "    s = f.read()\n",
    "words = s.split()"
   ]
  },
  {
   "cell_type": "code",
   "execution_count": 61,
   "id": "07353be6",
   "metadata": {},
   "outputs": [
    {
     "ename": "KeyboardInterrupt",
     "evalue": "",
     "output_type": "error",
     "traceback": [
      "\u001b[1;31m---------------------------------------------------------------------------\u001b[0m",
      "\u001b[1;31mKeyboardInterrupt\u001b[0m                         Traceback (most recent call last)",
      "Cell \u001b[1;32mIn[61], line 5\u001b[0m\n\u001b[0;32m      3\u001b[0m \u001b[38;5;28;01mfor\u001b[39;00m word \u001b[38;5;129;01min\u001b[39;00m words:\n\u001b[0;32m      4\u001b[0m     \u001b[38;5;28;01mfor\u001b[39;00m frankenstein_word \u001b[38;5;129;01min\u001b[39;00m frankenstein_words:\n\u001b[1;32m----> 5\u001b[0m         \u001b[38;5;28;01mif\u001b[39;00m word \u001b[38;5;241m==\u001b[39m \u001b[43mfrankenstein_word\u001b[49m:\n\u001b[0;32m      6\u001b[0m             count \u001b[38;5;241m+\u001b[39m\u001b[38;5;241m=\u001b[39m \u001b[38;5;241m1\u001b[39m\n",
      "\u001b[1;31mKeyboardInterrupt\u001b[0m: "
     ]
    }
   ],
   "source": [
    "count = 0\n",
    "\n",
    "for word in words:\n",
    "    for frankenstein_word in frankenstein_words:\n",
    "        if word == frankenstein_word:\n",
    "            count += 1"
   ]
  },
  {
   "cell_type": "code",
   "execution_count": 63,
   "id": "5c23ed14",
   "metadata": {},
   "outputs": [
    {
     "data": {
      "text/plain": [
       "(61406, 78101)"
      ]
     },
     "execution_count": 63,
     "metadata": {},
     "output_type": "execute_result"
    }
   ],
   "source": [
    "len(words), len(frankenstein_words)"
   ]
  },
  {
   "cell_type": "code",
   "execution_count": 64,
   "id": "c4ef8508",
   "metadata": {
    "scrolled": true
   },
   "outputs": [
    {
     "data": {
      "text/plain": [
       "4795870006"
      ]
     },
     "execution_count": 64,
     "metadata": {},
     "output_type": "execute_result"
    }
   ],
   "source": [
    "len(words) * len(frankenstein_words)"
   ]
  },
  {
   "cell_type": "markdown",
   "id": "37c58ea7",
   "metadata": {},
   "source": [
    "Let's time things:"
   ]
  },
  {
   "cell_type": "code",
   "execution_count": 66,
   "id": "3357cce4",
   "metadata": {},
   "outputs": [],
   "source": [
    "from time import time"
   ]
  },
  {
   "cell_type": "code",
   "execution_count": 67,
   "id": "ea00f37f",
   "metadata": {},
   "outputs": [
    {
     "name": "stdout",
     "output_type": "stream",
     "text": [
      "27.272066593170166\n"
     ]
    }
   ],
   "source": [
    "t0 = time()\n",
    "\n",
    "count = 0\n",
    "\n",
    "for frankenstein_word in frankenstein_words:\n",
    "    if frankenstein_word in words:\n",
    "        count += 1\n",
    "        \n",
    "t1 = time()\n",
    "\n",
    "print(t1 - t0)"
   ]
  },
  {
   "cell_type": "markdown",
   "id": "d0325585",
   "metadata": {},
   "source": [
    "Note: There are many kinds of iterable structures in Python. For example, we've dealt with lists, arrays, tuples, dictionaries, generators. Another type of iterable structure is `set`s. These are just unordered collections of elements."
   ]
  },
  {
   "cell_type": "markdown",
   "id": "069009b5",
   "metadata": {},
   "source": [
    "What happens if we convert our list of words into a set of words?"
   ]
  },
  {
   "cell_type": "code",
   "execution_count": 68,
   "id": "33df40a1",
   "metadata": {},
   "outputs": [],
   "source": [
    "words_set = set(words)"
   ]
  },
  {
   "cell_type": "code",
   "execution_count": 75,
   "id": "447cb471",
   "metadata": {},
   "outputs": [
    {
     "name": "stdout",
     "output_type": "stream",
     "text": [
      "78101\n",
      "60082\n",
      "0.024001359939575195\n"
     ]
    }
   ],
   "source": [
    "t0 = time()\n",
    "\n",
    "count = 0\n",
    "\n",
    "for frankenstein_word in frankenstein_words:\n",
    "    if frankenstein_word in words_set:\n",
    "        count += 1\n",
    "        \n",
    "t1 = time()\n",
    "\n",
    "print(len(frankenstein_words))\n",
    "print(count)\n",
    "\n",
    "print(t1 - t0)"
   ]
  },
  {
   "cell_type": "markdown",
   "id": "780e1f7b",
   "metadata": {},
   "source": [
    "This was approximately ~200 times faster to perform the same check. It seems like working with sets may be faster. Can we do more to work with sets exclusively?"
   ]
  },
  {
   "cell_type": "markdown",
   "id": "3fc4c91c",
   "metadata": {},
   "source": [
    "Note: sets don't include duplicate elements. If we convert `frankenstein_words` into a set, it will only one entry for each word that appers."
   ]
  },
  {
   "cell_type": "markdown",
   "id": "d683528a",
   "metadata": {},
   "source": [
    "We can then ask a related question: Of the set of words that appear on Frankentstein, how many are in our dictionary?"
   ]
  },
  {
   "cell_type": "code",
   "execution_count": 70,
   "id": "d6364403",
   "metadata": {},
   "outputs": [],
   "source": [
    "frankenstein_words_set = set(frankenstein_words)"
   ]
  },
  {
   "cell_type": "code",
   "execution_count": 76,
   "id": "b223372c",
   "metadata": {},
   "outputs": [
    {
     "name": "stdout",
     "output_type": "stream",
     "text": [
      "12175\n",
      "4620\n",
      "0.0040051937103271484\n"
     ]
    }
   ],
   "source": [
    "t0 = time()\n",
    "\n",
    "count = 0\n",
    "\n",
    "for frankenstein_word in frankenstein_words_set:\n",
    "    if frankenstein_word in words_set:\n",
    "        count += 1\n",
    "        \n",
    "t1 = time()\n",
    "\n",
    "print(len(frankenstein_words_set))\n",
    "print(count)\n",
    "print(t1 - t0)"
   ]
  }
 ],
 "metadata": {
  "kernelspec": {
   "display_name": "Python 3 (ipykernel)",
   "language": "python",
   "name": "python3"
  },
  "language_info": {
   "codemirror_mode": {
    "name": "ipython",
    "version": 3
   },
   "file_extension": ".py",
   "mimetype": "text/x-python",
   "name": "python",
   "nbconvert_exporter": "python",
   "pygments_lexer": "ipython3",
   "version": "3.9.21"
  }
 },
 "nbformat": 4,
 "nbformat_minor": 5
}
