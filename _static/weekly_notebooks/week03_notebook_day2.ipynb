{
 "cells": [
  {
   "cell_type": "markdown",
   "id": "b017ffa6-99e5-4817-880a-f49c14bb2d3f",
   "metadata": {},
   "source": [
    "# Wednesday, September 10th, 2025\n",
    "\n",
    "Last time we defined a function `is_prime` that took in an integer `n` and returned `True` if `n` was prime and `false` if not."
   ]
  },
  {
   "cell_type": "code",
   "execution_count": 1,
   "id": "69e3e381-b73d-45dd-88b7-1b1fbd83fecc",
   "metadata": {},
   "outputs": [],
   "source": [
    "from math import sqrt\n",
    "\n",
    "def is_prime(n):\n",
    "    n_is_prime = True\n",
    "\n",
    "    for d in range(2,int(sqrt(n))+1):\n",
    "        if n % d == 0:\n",
    "            n_is_prime = False\n",
    "            break\n",
    "            \n",
    "    if n_is_prime:\n",
    "        return True\n",
    "    else:\n",
    "        return False"
   ]
  },
  {
   "cell_type": "markdown",
   "id": "d67c0253-4dec-475f-9498-86539c9b1657",
   "metadata": {},
   "source": [
    "Note: we made the optimization of only checking for divisors $d$ up to $\\sqrt{n}$, which provided a massive improvement in speed. We used the `time` function from the `time` module to measure the effect of this optimization."
   ]
  },
  {
   "cell_type": "code",
   "execution_count": 2,
   "id": "59a32d65-54ba-4c81-a5da-8502eb87185f",
   "metadata": {},
   "outputs": [],
   "source": [
    "def old_is_prime(n):\n",
    "    n_is_prime = True\n",
    "\n",
    "    for d in range(2,n):\n",
    "        if n % d == 0:\n",
    "            n_is_prime = False\n",
    "            break\n",
    "            \n",
    "    if n_is_prime:\n",
    "        return True\n",
    "    else:\n",
    "        return False"
   ]
  },
  {
   "cell_type": "code",
   "execution_count": 3,
   "id": "23032a2b-2953-4309-96ea-b416ee003524",
   "metadata": {},
   "outputs": [
    {
     "name": "stdout",
     "output_type": "stream",
     "text": [
      "old_is_prime(1000000007) took 63.48774814605713 seconds\n",
      "is_prime(1000000007) took 0.00196075439453125 seconds\n"
     ]
    }
   ],
   "source": [
    "import time\n",
    "\n",
    "n = 1000000007\n",
    "\n",
    "t0 = time.time()\n",
    "old_is_prime(n)\n",
    "t1 = time.time()\n",
    "print('old_is_prime({}) took {} seconds'.format(n,t1-t0))\n",
    "\n",
    "t0 = time.time()\n",
    "is_prime(n)\n",
    "t1 = time.time()\n",
    "print('is_prime({}) took {} seconds'.format(n,t1-t0))"
   ]
  },
  {
   "cell_type": "markdown",
   "id": "87689a16-4f7c-49c1-95f2-ca6207e5147f",
   "metadata": {},
   "source": [
    "## Logical operators: `not`, `and`, `or`\n",
    "\n",
    "We can invert and/or combine Boolean expressions using the operators `not`, `and`, and `or`.\n",
    "For example:\n",
    " - `not <some Boolean expression>` will be `True` when `<some Boolean expression>` is `False`.\n",
    " - `<Boolean expression 1> and <Boolean expression 2>` will be `True` when `<Boolean expression 1>` and `<Boolean expression 2>` are both `True`.\n",
    " - `<Boolean expression 1> or <Boolean expression 2>` will be `True` when at least one of `<Boolean expression 1>` and `<Boolean expression 2>` are `True`."
   ]
  },
  {
   "cell_type": "markdown",
   "id": "f0cf5ebf-eefb-48ea-bd57-02b00f367df8",
   "metadata": {},
   "source": [
    "**Exercise:** We say that two primes $p$ and $q$ are **twin primes** if they differ by $2$. Write code that will find all twin primes with $p, q \\leq 10,000$."
   ]
  },
  {
   "cell_type": "code",
   "execution_count": 8,
   "id": "275cbff2-f377-4dea-8831-1b85d2bb4f91",
   "metadata": {},
   "outputs": [],
   "source": [
    "twin_primes = []\n",
    "\n",
    "for p in range(2,10000 - 1):\n",
    "    q = p+2\n",
    "    if is_prime(p) and is_prime(q):\n",
    "        twin_primes.append([p,q])"
   ]
  },
  {
   "cell_type": "code",
   "execution_count": 15,
   "id": "cc79692f-dabc-4c85-961f-31b569646b72",
   "metadata": {},
   "outputs": [
    {
     "data": {
      "text/plain": [
       "[347, 349]"
      ]
     },
     "execution_count": 15,
     "metadata": {},
     "output_type": "execute_result"
    }
   ],
   "source": [
    "twin_primes[20]"
   ]
  },
  {
   "cell_type": "markdown",
   "id": "d24e8b24-aab6-46ee-8058-ff299a42a45a",
   "metadata": {},
   "source": [
    "When looking for numbers with a certain property, it can be useful to write a function that identifies when they have this property (e.g. the `is_prime` function tests for primality)."
   ]
  },
  {
   "cell_type": "code",
   "execution_count": 16,
   "id": "d677c07b-098b-42b3-ab85-9b9362684b14",
   "metadata": {},
   "outputs": [],
   "source": [
    "def is_twin_prime(p,q):\n",
    "    if is_prime(p) and is_prime(q) and abs(p - q) == 2:\n",
    "        return True\n",
    "    else:\n",
    "        return False"
   ]
  },
  {
   "cell_type": "code",
   "execution_count": 19,
   "id": "666bbb28-7e5c-43d7-8d2f-fc08e70a1376",
   "metadata": {},
   "outputs": [
    {
     "data": {
      "text/plain": [
       "True"
      ]
     },
     "execution_count": 19,
     "metadata": {},
     "output_type": "execute_result"
    }
   ],
   "source": [
    "is_twin_prime(5,7)"
   ]
  },
  {
   "cell_type": "code",
   "execution_count": 20,
   "id": "d35db502-4561-467a-a3cd-8ff3688c1358",
   "metadata": {},
   "outputs": [],
   "source": [
    "twin_primes = []\n",
    "\n",
    "for p in range(2,10000 - 1):\n",
    "    q = p+2\n",
    "    if is_twin_prime(p,q):\n",
    "        twin_primes.append([p,q])"
   ]
  },
  {
   "cell_type": "markdown",
   "id": "bff2ec4e-e812-4c9f-bbc2-7546d231deab",
   "metadata": {},
   "source": [
    "**Exercise:** Write code that will find all positive integers less than $10,000$ that are either a perfect square or a perfect cube."
   ]
  },
  {
   "cell_type": "markdown",
   "id": "e1ba641e-e904-40b3-b8b6-293fab9a6be5",
   "metadata": {},
   "source": [
    "Testing an integer to check if it is a perfect square:"
   ]
  },
  {
   "cell_type": "code",
   "execution_count": 7,
   "id": "8b139b81-f957-4588-832e-23412a69803c",
   "metadata": {},
   "outputs": [
    {
     "name": "stdout",
     "output_type": "stream",
     "text": [
      "49 is a perfect square.\n"
     ]
    }
   ],
   "source": [
    "n = 49\n",
    "sqrt_n = n**(1/2)\n",
    "\n",
    "if int(sqrt_n) == sqrt_n:\n",
    "    print('{} is a perfect square.'.format(n))\n",
    "else:\n",
    "    print('{} is not a perfect square.'.format(n))"
   ]
  },
  {
   "cell_type": "markdown",
   "id": "28cf1088-d990-4c66-81c9-247b3dfe2386",
   "metadata": {},
   "source": [
    "Let's create a function that performs this check:"
   ]
  },
  {
   "cell_type": "code",
   "execution_count": 21,
   "id": "1407c41d-91d0-4939-b89c-ad2856516c27",
   "metadata": {},
   "outputs": [],
   "source": [
    "def is_square(n):\n",
    "    sqrt_n = n**(1/2)\n",
    "    if int(sqrt_n) == sqrt_n:\n",
    "        return True\n",
    "    else:\n",
    "        return False"
   ]
  },
  {
   "cell_type": "code",
   "execution_count": 23,
   "id": "8390fad5-573f-4e61-ab94-7c606e4f1b12",
   "metadata": {},
   "outputs": [
    {
     "name": "stdout",
     "output_type": "stream",
     "text": [
      "True\n",
      "False\n"
     ]
    }
   ],
   "source": [
    "print(is_square(49))\n",
    "print(is_square(55))"
   ]
  },
  {
   "cell_type": "markdown",
   "id": "4a1dcc04-f206-4e2c-9855-60437f2eb16c",
   "metadata": {},
   "source": [
    "We can similarly create a function to check for perfect cubes:"
   ]
  },
  {
   "cell_type": "code",
   "execution_count": 24,
   "id": "a6f8597f-00b0-4994-a314-e675c45bf359",
   "metadata": {},
   "outputs": [],
   "source": [
    "def is_cube(n):\n",
    "    cbrt_n = n**(1/3)\n",
    "    if int(cbrt_n) == cbrt_n:\n",
    "        return True\n",
    "    else:\n",
    "        return False"
   ]
  },
  {
   "cell_type": "code",
   "execution_count": 25,
   "id": "f433bc58-cf1c-4d5a-93ba-18337267f8dc",
   "metadata": {},
   "outputs": [
    {
     "name": "stdout",
     "output_type": "stream",
     "text": [
      "True\n",
      "False\n"
     ]
    }
   ],
   "source": [
    "print(is_cube(8))\n",
    "print(is_cube(9))"
   ]
  },
  {
   "cell_type": "markdown",
   "id": "d88b0e11-e0e6-4395-b959-23cf3628d2e2",
   "metadata": {},
   "source": [
    "Note: we saw (for some people) that working floating points allows for inprecision. It might be safer to round the floats instead of using `int`."
   ]
  },
  {
   "cell_type": "code",
   "execution_count": 42,
   "id": "04f0f929-437e-4afc-964c-b8954e67cffc",
   "metadata": {},
   "outputs": [],
   "source": [
    "def is_cube(n):\n",
    "    cbrt_n = n**(1/3)\n",
    "    if round(cbrt_n) == cbrt_n:\n",
    "        return True\n",
    "    else:\n",
    "        return False"
   ]
  },
  {
   "cell_type": "markdown",
   "id": "b646fd27-116b-4e0c-8c8a-1c330c336bf3",
   "metadata": {},
   "source": [
    "We're still working with floating point comparisons, because `cbrt_n` is a float."
   ]
  },
  {
   "cell_type": "code",
   "execution_count": 44,
   "id": "7b621476-e781-433e-bc94-8539ca5e51af",
   "metadata": {},
   "outputs": [],
   "source": [
    "def is_cube(n):\n",
    "    cbrt_n = n**(1/3)\n",
    "    if round(cbrt_n)**3 == n:\n",
    "        return True\n",
    "    else:\n",
    "        return False"
   ]
  },
  {
   "cell_type": "code",
   "execution_count": 45,
   "id": "f2dee336-beac-4567-9b9e-21b7641f59b4",
   "metadata": {},
   "outputs": [
    {
     "data": {
      "text/plain": [
       "True"
      ]
     },
     "execution_count": 45,
     "metadata": {},
     "output_type": "execute_result"
    }
   ],
   "source": [
    "is_cube(125)"
   ]
  },
  {
   "cell_type": "markdown",
   "id": "e456bbba-22dd-475c-8035-4f332eccb71c",
   "metadata": {},
   "source": [
    "Note: our `is_square` and `is_cube` functions are nearly identical. Can we write a single function, say `is_root` that can handle both cases?"
   ]
  },
  {
   "cell_type": "code",
   "execution_count": 46,
   "id": "60fb0a19-2a72-4aaa-b0b2-543c3d7e6fa8",
   "metadata": {},
   "outputs": [],
   "source": [
    "def is_root(n,root):\n",
    "    root_n = n**(1/root)\n",
    "    if round(root_n)**root == n:\n",
    "        return True\n",
    "    else:\n",
    "        return False"
   ]
  },
  {
   "cell_type": "code",
   "execution_count": 47,
   "id": "2823fa10-ea74-4735-9a42-499dee0d1734",
   "metadata": {},
   "outputs": [
    {
     "data": {
      "text/plain": [
       "True"
      ]
     },
     "execution_count": 47,
     "metadata": {},
     "output_type": "execute_result"
    }
   ],
   "source": [
    "is_root(225,2)"
   ]
  },
  {
   "cell_type": "code",
   "execution_count": 48,
   "id": "126e3ede-b5db-46c2-b56a-0d47e58423d4",
   "metadata": {},
   "outputs": [
    {
     "data": {
      "text/plain": [
       "True"
      ]
     },
     "execution_count": 48,
     "metadata": {},
     "output_type": "execute_result"
    }
   ],
   "source": [
    "is_root(125,3)"
   ]
  },
  {
   "cell_type": "markdown",
   "id": "31b250af-ea06-4376-b899-5d5865f49937",
   "metadata": {},
   "source": [
    "Now we can find integers that are either a perfect square or a perfect cube:"
   ]
  },
  {
   "cell_type": "code",
   "execution_count": 55,
   "id": "62f57ec8-093a-4d29-a5e5-321a21141e4b",
   "metadata": {},
   "outputs": [],
   "source": [
    "squares_or_cubes = []\n",
    "for n in range(10000+1):\n",
    "    if is_root(n,2) or is_root(n,3):\n",
    "        squares_or_cubes.append(n)"
   ]
  },
  {
   "cell_type": "code",
   "execution_count": 56,
   "id": "fc2fd6da-49cd-44b6-af47-457e37e240c0",
   "metadata": {},
   "outputs": [
    {
     "data": {
      "text/plain": [
       "7225"
      ]
     },
     "execution_count": 56,
     "metadata": {},
     "output_type": "execute_result"
    }
   ],
   "source": [
    "squares_or_cubes[100]"
   ]
  },
  {
   "cell_type": "markdown",
   "id": "7a2e7d1b-cede-491f-a27d-45be5ac562a5",
   "metadata": {},
   "source": [
    "We can also find numbers that are both squares and cubes:"
   ]
  },
  {
   "cell_type": "code",
   "execution_count": 57,
   "id": "77808f97-f662-4bdc-aa0e-d4d6e0d622e8",
   "metadata": {},
   "outputs": [],
   "source": [
    "squares_and_cubes = []\n",
    "for n in range(10000+1):\n",
    "    if is_root(n,2) and is_root(n,3):\n",
    "        squares_and_cubes.append(n)"
   ]
  },
  {
   "cell_type": "code",
   "execution_count": 58,
   "id": "b7b79832-8bb7-4cb5-a4ea-b98fbe1d2c5f",
   "metadata": {},
   "outputs": [
    {
     "data": {
      "text/plain": [
       "[0, 1, 64, 729, 4096]"
      ]
     },
     "execution_count": 58,
     "metadata": {},
     "output_type": "execute_result"
    }
   ],
   "source": [
    "squares_and_cubes"
   ]
  },
  {
   "cell_type": "markdown",
   "id": "40198e1b-5aed-4810-902d-254ddf684be0",
   "metadata": {},
   "source": [
    "## Documenting your code"
   ]
  },
  {
   "cell_type": "markdown",
   "id": "422c887e-e2d6-4fd5-992c-3577825a4f3c",
   "metadata": {},
   "source": [
    "When writing reports for this class (and when coding in general), it is important to explain your code to a potential reader so that they can follow along and understand what the code is doing and how it works. With Jupyter notebook, we have two main tools for documenting our code:\n",
    " - Writing explanations in Markdown cells that preceed each code cell;\n",
    " - Writing code comments directly within code cells.\n",
    "\n",
    "Note: We will use **both** tools for every bit of code in our projects.\n",
    "\n",
    "### Code comments\n",
    "\n",
    "To add a comment within a code cell, we simply write a hashtag `#` followed by whatever text we want to include.\n",
    "Python will ignore anything that comes after the hashtag."
   ]
  },
  {
   "cell_type": "code",
   "execution_count": 59,
   "id": "02a8d27b-a553-4f66-b957-403c9ae7c8d0",
   "metadata": {},
   "outputs": [
    {
     "name": "stdout",
     "output_type": "stream",
     "text": [
      "Hello\n",
      "6\n"
     ]
    }
   ],
   "source": [
    "print('Hello') # This is a comment. Python ignores anything after the hashtag\n",
    "print(1+2+3)\n",
    "# print(3+4+5)\n"
   ]
  },
  {
   "cell_type": "markdown",
   "id": "c49989e5-175b-4bc5-940a-35e80894b52a",
   "metadata": {},
   "source": [
    "**Exercise:** Add code comments to the `is_prime` function to explain how the function works."
   ]
  },
  {
   "cell_type": "code",
   "execution_count": null,
   "id": "2cf08d80-47a2-42e6-9660-2f3f7346e5b1",
   "metadata": {},
   "outputs": [],
   "source": [
    "def is_prime(n):                             # Define a function is_prime\n",
    "    n_is_prime = True                        # Define a Boolean that is True when n is \n",
    "                                             # prime, false otherwise. We will assume that\n",
    "                                             # n is prime unless we can show otherwise\n",
    "\n",
    "    for d in range(2,int(sqrt(n))+1):        # Loop through possible divisors d\n",
    "        if n % d == 0:                       # Check if n is divisble by d\n",
    "            n_is_prime = False               # If so, then n is not prime...\n",
    "            break                            # ... and we can stop looking for divisors\n",
    "            \n",
    "    if n_is_prime:                           # If no divisor was found, then n must be prime\n",
    "        return True\n",
    "    else:                                    # Otherwise, a divisor was found and n is not prime\n",
    "        return False"
   ]
  },
  {
   "cell_type": "markdown",
   "id": "2d51e881-c8bc-435e-b641-115632bbb232",
   "metadata": {},
   "source": [
    "We should still provide an explanation for why we only need to check divisors up to the square root, rather than all the way up to `n`. I would recommend giving this explanation in a markdown cell just prior to defining the function."
   ]
  },
  {
   "cell_type": "markdown",
   "id": "0b328b0a-2bc5-4a44-9e15-e99ed4379eb2",
   "metadata": {},
   "source": [
    "### Markdown: Code references"
   ]
  },
  {
   "cell_type": "markdown",
   "id": "3e65895a-e639-4c00-a273-4008b0c1bfbe",
   "metadata": {},
   "source": [
    "When explaining bits of Python code in Markdown cells, we will often want to refer to explicit bits of Python code (e.g. function names, variable names, specific lines, etc.). When doing so, we can use the backtick key <code>\\`</code> (found above `TAB`, shared by the `~` symbol) to surround bits of Python code.\n",
    "\n",
    "For example, the Markdown <code>\\`is_prime\\`</code> will be rendered as `is_prime`. Notice that the text is in a uniform-spaced font (each character has the same width) and has a light-gray background. This should **always** be done when references bits of Python code in your reports."
   ]
  },
  {
   "cell_type": "markdown",
   "id": "40c52358-bea2-4d37-aad2-9502796cd226",
   "metadata": {},
   "source": [
    "### Markdown: LaTeX\n",
    "\n",
    "We will also often want to refer to various math equations or expressions in our projects.\n",
    "LaTeX is a tool for writing such math expressions. To enter LaTeX mode in a Markdown cell, we use dollar signs `$`.\n",
    "\n",
    "- Plain-text:\n",
    "  - 123456\n",
    "  - 123^456\n",
    "  - 123_456\n",
    "- LaTeX:\n",
    "  - $123456$\n",
    "  - $123^{456}$\n",
    "  - $123_{456}$\n",
    "\n",
    "Some common LaTeX commands:\n",
    "\n",
    " - Exponents: `$x^2 + y^2$` renders as $x^2 + y^2$.\n",
    " - Fractions: `$\\frac{numerator}{denominator}$` renders as $\\frac{numerator}{denominator}$.\n",
    " - Integrals and trig functions: `$\\int_0^x \\cos(t) dt$` renders as $\\int_0^x \\cos(t) dt$.\n",
    " \n",
    "Using a single dollar sign writes LaTeX in in-line mode (i.e. will appear within the same lines as the surrounding text). We can use two dollar signs (`$$`) to write in display mode, which gives a centered equation. For example, `$$\\int_0^x \\cos(t) dt$$` renders as\n",
    "\n",
    "$$\\int_0^x \\cos(t) dt$$\n",
    "\n",
    "whereas `$\\int_0^x \\cos(t) dt$` renders as $\\int_0^x \\cos(t) dt$.\n",
    "\n",
    "Other common LaTeX commands:\n",
    "\n",
    " - Subscripts and superscripts: `$a_n$, $2^n$` renders as $a_n$, $2^n$.\n",
    " - Square roots and other roots: `$\\sqrt{7}$`, `$\\sqrt[10]{x^2-5}$` renders as $\\sqrt{7}$, $\\sqrt[10]{x^2 - 5}$.\n",
    " - Greek letters: `$\\alpha$, $\\beta$, $\\gamma$, $\\sigma$, $\\omega$, $\\pi$` renders as $\\alpha$, $\\beta$, $\\gamma$, $\\sigma$, $\\omega$, $\\pi$."
   ]
  },
  {
   "cell_type": "markdown",
   "id": "a230a0cb-34f0-422e-a478-5369ed9ff9e4",
   "metadata": {},
   "source": [
    "Example: Euler's formula:\n",
    "$$e^{i\\pi} + 1 = 0$$\n",
    "\n",
    "Pythagorean theorem:\n",
    "$$\\cos^2 \\theta + \\sin^2\\theta = 1$$"
   ]
  },
  {
   "cell_type": "markdown",
   "id": "9232efa8-34b8-4013-89ce-a20a959478a0",
   "metadata": {},
   "source": [
    "We can have LaTeX automatically adjust the size of parentheses using `\\left(` and `\\right)`. For example, `$$\\left(\\frac{1}{2} + 4\\right)$$` renders as:\n",
    "\n",
    "$$\\left(\\frac{1}{2} + 4\\right)$$\n",
    "\n",
    "whereas `$$(\\frac{1}{2} + 4)$$` renders as\n",
    "\n",
    "$$(\\frac{1}{2} + 4).$$\n",
    "\n",
    "We will regularly use LaTeX in our project reports whenever referring to math equations or variables.\n",
    "\n",
    "**Exercise:** Using Markdown and LaTeX, write out a definition of a prime number."
   ]
  },
  {
   "cell_type": "markdown",
   "id": "80751730-619d-4406-b76e-d90c23bc6f11",
   "metadata": {},
   "source": [
    "We say a positive integer $p>1$ is a prime number if the only positive integer divisors are $1$ and itself."
   ]
  },
  {
   "cell_type": "markdown",
   "id": "ec619e22-8b62-4fd2-8349-947a3728d1c8",
   "metadata": {},
   "source": [
    "**Exercise:** Using Markdown and LaTeX, explain what the `is_prime` function does and how it works."
   ]
  },
  {
   "cell_type": "code",
   "execution_count": null,
   "id": "e0009b3c-8fc1-43ee-832a-59a615d8bac0",
   "metadata": {},
   "outputs": [],
   "source": []
  },
  {
   "cell_type": "markdown",
   "id": "95a7aa89-2cb6-4f1e-af85-1f0267d7893a",
   "metadata": {},
   "source": [
    "## Modular arithmetic and congruences\n",
    "\n",
    "See [Project 1 page](https://jllottes.github.io/Projects/prime_or_not/prime_or_not.html) for an introduction to modular arithmetic and congruences.\n",
    "\n",
    "From the project page, we say that a number $n$ is \"prime-like\" if\n",
    "\n",
    "$$a^n \\equiv a\\pmod{n}$$\n",
    "for all integers $0 \\leq a < n$."
   ]
  },
  {
   "cell_type": "markdown",
   "id": "b0a2a0c3-0641-49e0-8d88-867d24f713bf",
   "metadata": {},
   "source": [
    "**Exercise:** Write a function `is_prime_like` that takes in an integer `n` and returns `True` if `n` is prime-like and `False` if not."
   ]
  },
  {
   "cell_type": "code",
   "execution_count": null,
   "id": "1ecce3fa-56da-48fa-9e39-f0e723eeeff8",
   "metadata": {},
   "outputs": [],
   "source": []
  },
  {
   "cell_type": "markdown",
   "id": "6cd3cb0f-6582-4794-bc09-bb37c98d8255",
   "metadata": {},
   "source": [
    "**Exercise:** Write a function that takes in an integer `n` and returns a list of prime numbers that divide `n`. "
   ]
  },
  {
   "cell_type": "code",
   "execution_count": null,
   "id": "00bfac28-a5ca-4a8a-8c6b-2fd500216127",
   "metadata": {},
   "outputs": [],
   "source": []
  },
  {
   "cell_type": "markdown",
   "id": "fc7cbf12-7a96-4079-b907-40f40a2c49ef",
   "metadata": {},
   "source": [
    "**Exercise:** Modify the function from the previous exercise to return the primary decomposition of `n`. That is, modify the code to account for the multiplicity of each prime divisor."
   ]
  },
  {
   "cell_type": "code",
   "execution_count": null,
   "id": "edc7d1dd-c276-463e-bb46-408b5da1bcf4",
   "metadata": {},
   "outputs": [],
   "source": []
  }
 ],
 "metadata": {
  "kernelspec": {
   "display_name": "Python 3 (ipykernel)",
   "language": "python",
   "name": "python3"
  },
  "language_info": {
   "codemirror_mode": {
    "name": "ipython",
    "version": 3
   },
   "file_extension": ".py",
   "mimetype": "text/x-python",
   "name": "python",
   "nbconvert_exporter": "python",
   "pygments_lexer": "ipython3",
   "version": "3.13.5"
  }
 },
 "nbformat": 4,
 "nbformat_minor": 5
}
