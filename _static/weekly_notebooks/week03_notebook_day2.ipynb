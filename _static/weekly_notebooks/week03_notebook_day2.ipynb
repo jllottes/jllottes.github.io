{
 "cells": [
  {
   "cell_type": "markdown",
   "id": "b017ffa6-99e5-4817-880a-f49c14bb2d3f",
   "metadata": {},
   "source": [
    "# Wednesday, September 10th, 2025\n",
    "\n",
    "Last time we defined a function `is_prime` that took in an integer `n` and returned `True` if `n` was prime and `false` if not."
   ]
  },
  {
   "cell_type": "code",
   "execution_count": null,
   "id": "69e3e381-b73d-45dd-88b7-1b1fbd83fecc",
   "metadata": {},
   "outputs": [],
   "source": [
    "from math import sqrt\n",
    "\n",
    "def is_prime(n):\n",
    "    n_is_prime = True\n",
    "\n",
    "    for d in range(2,int(sqrt(n))+1):\n",
    "        if n % d == 0:\n",
    "            n_is_prime = False\n",
    "            break\n",
    "            \n",
    "    if n_is_prime:\n",
    "        return True\n",
    "    else:\n",
    "        return False"
   ]
  },
  {
   "cell_type": "markdown",
   "id": "d67c0253-4dec-475f-9498-86539c9b1657",
   "metadata": {},
   "source": [
    "Note: we made the optimization of only checking for divisors $d$ up to $\\sqrt{n}$, which provided a massive improvement in speed. We used the `time` function from the `time` module to measure the effect of this optimization."
   ]
  },
  {
   "cell_type": "code",
   "execution_count": null,
   "id": "59a32d65-54ba-4c81-a5da-8502eb87185f",
   "metadata": {},
   "outputs": [],
   "source": [
    "def old_is_prime(n):\n",
    "    n_is_prime = True\n",
    "\n",
    "    for d in range(2,n):\n",
    "        if n % d == 0:\n",
    "            n_is_prime = False\n",
    "            break\n",
    "            \n",
    "    if n_is_prime:\n",
    "        return True\n",
    "    else:\n",
    "        return False"
   ]
  },
  {
   "cell_type": "code",
   "execution_count": null,
   "id": "23032a2b-2953-4309-96ea-b416ee003524",
   "metadata": {},
   "outputs": [],
   "source": [
    "import time\n",
    "\n",
    "n = 1000000007\n",
    "\n",
    "t0 = time.time()\n",
    "old_is_prime(n)\n",
    "t1 = time.time()\n",
    "print('old_is_prime({}) took {} seconds'.format(n,t1-t0))\n",
    "\n",
    "t0 = time.time()\n",
    "is_prime(n)\n",
    "t1 = time.time()\n",
    "print('is_prime({}) took {} seconds'.format(n,t1-t0))"
   ]
  },
  {
   "cell_type": "markdown",
   "id": "87689a16-4f7c-49c1-95f2-ca6207e5147f",
   "metadata": {},
   "source": [
    "## Logical operators: `not`, `and`, `or`\n",
    "\n",
    "We can invert and/or combine Boolean expressions using the operators `not`, `and`, and `or`.\n",
    "For example:\n",
    " - `not <some Boolean expression>` will be `True` when `<some Boolean expression>` is `False`.\n",
    " - `<Boolean expression 1> and <Boolean expression 2>` will be `True` when `<Boolean expression 1>` and `<Boolean expression 2>` are both `True`.\n",
    " - `<Boolean expression 1> or <Boolean expression 2>` will be `True` when at least one of `<Boolean expression 1>` and `<Boolean expression 2>` are `True`."
   ]
  },
  {
   "cell_type": "markdown",
   "id": "f0cf5ebf-eefb-48ea-bd57-02b00f367df8",
   "metadata": {},
   "source": [
    "**Exercise:** We say that two primes $p$ and $q$ are **twin primes** if they differ by $2$. Write code that will find all twin primes with $p, q \\leq 10,000$."
   ]
  },
  {
   "cell_type": "code",
   "execution_count": null,
   "id": "275cbff2-f377-4dea-8831-1b85d2bb4f91",
   "metadata": {},
   "outputs": [],
   "source": []
  },
  {
   "cell_type": "markdown",
   "id": "bff2ec4e-e812-4c9f-bbc2-7546d231deab",
   "metadata": {},
   "source": [
    "**Exercise:** Write code that will find all positive integers less than $10,000$ that are either a perfect square or a perfect cube."
   ]
  },
  {
   "cell_type": "code",
   "execution_count": null,
   "id": "1407c41d-91d0-4939-b89c-ad2856516c27",
   "metadata": {},
   "outputs": [],
   "source": []
  },
  {
   "cell_type": "markdown",
   "id": "40198e1b-5aed-4810-902d-254ddf684be0",
   "metadata": {},
   "source": [
    "## Documenting your code"
   ]
  },
  {
   "cell_type": "markdown",
   "id": "422c887e-e2d6-4fd5-992c-3577825a4f3c",
   "metadata": {},
   "source": [
    "When writing reports for this class (and when coding in general), it is important to explain your code to a potential reader so that they can follow along and understand what the code is doing and how it works. With Jupyter notebook, we have two main tools for documenting our code:\n",
    " - Writing explanations in Markdown cells that preceed each code cell;\n",
    " - Writing code comments directly within code cells.\n",
    "\n",
    "Note: We will use **both** tools for every bit of code in our projects.\n",
    "\n",
    "### Code comments\n",
    "\n",
    "To add a comment within a code cell, we simply write a hashtag `#` followed by whatever text we want to include.\n",
    "Python will ignore anything that comes after the hashtag."
   ]
  },
  {
   "cell_type": "code",
   "execution_count": null,
   "id": "02a8d27b-a553-4f66-b957-403c9ae7c8d0",
   "metadata": {},
   "outputs": [],
   "source": []
  },
  {
   "cell_type": "markdown",
   "id": "c49989e5-175b-4bc5-940a-35e80894b52a",
   "metadata": {},
   "source": [
    "**Exercise:** Add code comments to the `is_prime` function to explain how the function works."
   ]
  },
  {
   "cell_type": "code",
   "execution_count": null,
   "id": "2cf08d80-47a2-42e6-9660-2f3f7346e5b1",
   "metadata": {},
   "outputs": [],
   "source": [
    "def is_prime(n):\n",
    "    n_is_prime = True\n",
    "\n",
    "    for d in range(2,int(sqrt(n))+1):\n",
    "        if n % d == 0:\n",
    "            n_is_prime = False\n",
    "            break\n",
    "            \n",
    "    if n_is_prime:\n",
    "        return True\n",
    "    else:\n",
    "        return False"
   ]
  },
  {
   "cell_type": "markdown",
   "id": "0b328b0a-2bc5-4a44-9e15-e99ed4379eb2",
   "metadata": {},
   "source": [
    "### Markdown: Code references"
   ]
  },
  {
   "cell_type": "markdown",
   "id": "3e65895a-e639-4c00-a273-4008b0c1bfbe",
   "metadata": {},
   "source": [
    "When explaining bits of Python code in Markdown cells, we will often want to refer to explicit bits of Python code (e.g. function names, variable names, specific lines, etc.). When doing so, we can use the backtick key <code>\\`</code> (found above `TAB`, shared by the `~` symbol) to surround bits of Python code.\n",
    "\n",
    "For example, the Markdown <code>\\`is_prime\\`</code> will be rendered as `is_prime`. Notice that the text is in a uniform-spaced font (each character has the same width) and has a light-gray background. This should **always** be done when references bits of Python code in your reports."
   ]
  },
  {
   "cell_type": "markdown",
   "id": "40c52358-bea2-4d37-aad2-9502796cd226",
   "metadata": {},
   "source": [
    "### Markdown: LaTeX\n",
    "\n",
    "We will also often want to refer to various math equations or expressions in our projects.\n",
    "LaTeX is a tool for writing such math expressions. To enter LaTeX mode in a Markdown cell, we use dollar signs `$`.\n",
    "\n",
    "- Plain-text:\n",
    "  - 123456\n",
    "  - 123^456\n",
    "  - 123_456\n",
    "- LaTeX:\n",
    "  - $123456$\n",
    "  - $123^{456}$\n",
    "  - $123_{456}$\n",
    "\n",
    "Some common LaTeX commands:\n",
    "\n",
    " - Exponents: `$x^2 + y^$` renders as $x^2 + y^2$.\n",
    " - Fractions: `\\frac{numerator}{denominator}$` renders as $\\frac{numerator}{denominator}$.\n",
    " - Integrals and trig functions: `\\int_0^x \\cos(t) dt$` renders as $\\int_0^x \\cos(t) dt$.\n",
    " \n",
    "Using a single dollar sign writes LaTeX in in-line mode (i.e. will appear within the same lines as the surrounding text). We can use two dollar signs (`$$`) to write in display mode, which gives a centered equation. For example, `$$\\int_0^x \\cos(t) dt$$` renders as\n",
    "\n",
    "$$\\int_0^x \\cos(t) dt$$\n",
    "\n",
    "whereas `$\\int_0^x \\cos(t) dt$` renders as $\\int_0^x \\cos(t) dt$.\n",
    "\n",
    "Other common LaTeX commands:\n",
    "\n",
    " - Subscripts and superscripts: `$a_n$, $2^n$` renders as $a_n$, $2^n$.\n",
    " - Square roots and other roots: `$\\sqrt{7}$`, `$\\sqrt[10]{x^2-5}$` renders as $\\sqrt{7}$, $\\sqrt[10]{x^2 - 5}$.\n",
    " - Greek letters: `$\\alpha$, $\\beta$, $\\gamma$, $\\sigma$, $\\omega$, $\\pi$` renders as $\\alpha$, $\\beta$, $\\gamma$, $\\sigma$, $\\omega$, $\\pi$."
   ]
  },
  {
   "cell_type": "code",
   "execution_count": null,
   "id": "41477cbc-c667-4c17-8dda-fe53a35a43e5",
   "metadata": {},
   "outputs": [],
   "source": []
  },
  {
   "cell_type": "markdown",
   "id": "9232efa8-34b8-4013-89ce-a20a959478a0",
   "metadata": {},
   "source": [
    "We can have LaTeX automatically adjust the size of parentheses using `\\left(` and `\\right)`. For example, `$$\\left(\\frac{1}{2} + 4\\right)$$` renders as:\n",
    "\n",
    "$$\\left(\\frac{1}{2} + 4\\right)$$\n",
    "\n",
    "whereas `$$(\\frac{1}{2} + 4)$$` renders as\n",
    "\n",
    "$$(\\frac{1}{2} + 4).$$\n",
    "\n",
    "We will regularly use LaTeX in our project reports whenever referring to math equations or variables.\n",
    "\n",
    "**Exercise:** Using Markdown and LaTeX, write out a definition of a prime number."
   ]
  },
  {
   "cell_type": "code",
   "execution_count": null,
   "id": "0dbaed9b-099b-444c-b619-bd78c546cabc",
   "metadata": {},
   "outputs": [],
   "source": []
  },
  {
   "cell_type": "markdown",
   "id": "ec619e22-8b62-4fd2-8349-947a3728d1c8",
   "metadata": {},
   "source": [
    "**Exercise:** Using Markdown and LaTeX, explain what the `is_prime` function does and how it works."
   ]
  },
  {
   "cell_type": "code",
   "execution_count": null,
   "id": "e0009b3c-8fc1-43ee-832a-59a615d8bac0",
   "metadata": {},
   "outputs": [],
   "source": []
  },
  {
   "cell_type": "markdown",
   "id": "95a7aa89-2cb6-4f1e-af85-1f0267d7893a",
   "metadata": {},
   "source": [
    "## Modular arithmetic and congruences\n",
    "\n",
    "See [Project 1 page](https://jllottes.github.io/Projects/prime_or_not/prime_or_not.html) for an introduction to modular arithmetic and congruences.\n",
    "\n",
    "From the project page, we say that a number $n$ is \"prime-like\" if\n",
    "\n",
    "$$a^n \\equiv a\\pmod{n}$$\n",
    "for all integers $0 \\leq a < n$."
   ]
  },
  {
   "cell_type": "markdown",
   "id": "b0a2a0c3-0641-49e0-8d88-867d24f713bf",
   "metadata": {},
   "source": [
    "**Exercise:** Write a function `is_prime_like` that takes in an integer `n` and returns `True` if `n` is prime-like and `False` if not."
   ]
  },
  {
   "cell_type": "code",
   "execution_count": null,
   "id": "1ecce3fa-56da-48fa-9e39-f0e723eeeff8",
   "metadata": {},
   "outputs": [],
   "source": []
  },
  {
   "cell_type": "markdown",
   "id": "6cd3cb0f-6582-4794-bc09-bb37c98d8255",
   "metadata": {},
   "source": [
    "**Exercise:** Write a function that takes in an integer `n` and returns a list of prime numbers that divide `n`. "
   ]
  },
  {
   "cell_type": "code",
   "execution_count": null,
   "id": "00bfac28-a5ca-4a8a-8c6b-2fd500216127",
   "metadata": {},
   "outputs": [],
   "source": []
  },
  {
   "cell_type": "markdown",
   "id": "fc7cbf12-7a96-4079-b907-40f40a2c49ef",
   "metadata": {},
   "source": [
    "**Exercise:** Modify the function from the previous exercise to return the primary decomposition of `n`. That is, modify the code to account for the multiplicity of each prime divisor."
   ]
  },
  {
   "cell_type": "code",
   "execution_count": null,
   "id": "edc7d1dd-c276-463e-bb46-408b5da1bcf4",
   "metadata": {},
   "outputs": [],
   "source": []
  }
 ],
 "metadata": {
  "kernelspec": {
   "display_name": "Python 3 (ipykernel)",
   "language": "python",
   "name": "python3"
  },
  "language_info": {
   "codemirror_mode": {
    "name": "ipython",
    "version": 3
   },
   "file_extension": ".py",
   "mimetype": "text/x-python",
   "name": "python",
   "nbconvert_exporter": "python",
   "pygments_lexer": "ipython3",
   "version": "3.13.5"
  }
 },
 "nbformat": 4,
 "nbformat_minor": 5
}
