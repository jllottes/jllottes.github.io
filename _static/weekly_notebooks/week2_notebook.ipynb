{
 "cells": [
  {
   "cell_type": "markdown",
   "id": "df2a1cbb",
   "metadata": {},
   "source": [
    "# Week 2 notebook"
   ]
  },
  {
   "cell_type": "markdown",
   "id": "2a7dc13f",
   "metadata": {},
   "source": [
    "Last week, we finished by discussing lists:"
   ]
  },
  {
   "cell_type": "code",
   "execution_count": 1,
   "id": "9d322102",
   "metadata": {},
   "outputs": [],
   "source": [
    "mylist = [1,2,3,6]"
   ]
  },
  {
   "cell_type": "code",
   "execution_count": 2,
   "id": "b5ac9a4b",
   "metadata": {},
   "outputs": [
    {
     "name": "stdout",
     "output_type": "stream",
     "text": [
      "[1, 2, 3, 6]\n"
     ]
    }
   ],
   "source": [
    "print(mylist)"
   ]
  },
  {
   "cell_type": "markdown",
   "id": "f99da2bf",
   "metadata": {},
   "source": [
    "Recall: We can add an item to a list using the `.append()` method:"
   ]
  },
  {
   "cell_type": "code",
   "execution_count": 3,
   "id": "014719b8",
   "metadata": {},
   "outputs": [],
   "source": [
    "mylist.append(100)"
   ]
  },
  {
   "cell_type": "code",
   "execution_count": 4,
   "id": "029c5538",
   "metadata": {
    "scrolled": true
   },
   "outputs": [
    {
     "name": "stdout",
     "output_type": "stream",
     "text": [
      "[1, 2, 3, 6, 100]\n"
     ]
    }
   ],
   "source": [
    "print(mylist)"
   ]
  },
  {
   "cell_type": "markdown",
   "id": "c98e86df",
   "metadata": {},
   "source": [
    "We can access the $i^{\\text{th}}$ element using `mylist[i]`"
   ]
  },
  {
   "cell_type": "code",
   "execution_count": 5,
   "id": "b0e60806",
   "metadata": {},
   "outputs": [
    {
     "data": {
      "text/plain": [
       "1"
      ]
     },
     "execution_count": 5,
     "metadata": {},
     "output_type": "execute_result"
    }
   ],
   "source": [
    "mylist[0]"
   ]
  },
  {
   "cell_type": "code",
   "execution_count": 6,
   "id": "1ccfc5d8",
   "metadata": {},
   "outputs": [
    {
     "data": {
      "text/plain": [
       "100"
      ]
     },
     "execution_count": 6,
     "metadata": {},
     "output_type": "execute_result"
    }
   ],
   "source": [
    "mylist[4]"
   ]
  },
  {
   "cell_type": "markdown",
   "id": "ece79eaf",
   "metadata": {},
   "source": [
    "We can access the **last** element in a list using `mylist[-1]`"
   ]
  },
  {
   "cell_type": "code",
   "execution_count": 7,
   "id": "fc1e87f0",
   "metadata": {},
   "outputs": [
    {
     "data": {
      "text/plain": [
       "100"
      ]
     },
     "execution_count": 7,
     "metadata": {},
     "output_type": "execute_result"
    }
   ],
   "source": [
    "mylist[-1]"
   ]
  },
  {
   "cell_type": "markdown",
   "id": "2ef4aabb",
   "metadata": {},
   "source": [
    "Other negative indices will count backward from the end of the list:"
   ]
  },
  {
   "cell_type": "code",
   "execution_count": 8,
   "id": "c7f87b4c",
   "metadata": {},
   "outputs": [
    {
     "data": {
      "text/plain": [
       "3"
      ]
     },
     "execution_count": 8,
     "metadata": {},
     "output_type": "execute_result"
    }
   ],
   "source": [
    "mylist[-3]"
   ]
  },
  {
   "cell_type": "code",
   "execution_count": 10,
   "id": "6df98b86",
   "metadata": {},
   "outputs": [
    {
     "ename": "IndexError",
     "evalue": "list index out of range",
     "output_type": "error",
     "traceback": [
      "\u001b[1;31m---------------------------------------------------------------------------\u001b[0m",
      "\u001b[1;31mIndexError\u001b[0m                                Traceback (most recent call last)",
      "\u001b[1;32m<ipython-input-10-e6f4599d4197>\u001b[0m in \u001b[0;36m<module>\u001b[1;34m\u001b[0m\n\u001b[1;32m----> 1\u001b[1;33m \u001b[0mmylist\u001b[0m\u001b[1;33m[\u001b[0m\u001b[1;33m-\u001b[0m\u001b[1;36m6\u001b[0m\u001b[1;33m]\u001b[0m\u001b[1;33m\u001b[0m\u001b[1;33m\u001b[0m\u001b[0m\n\u001b[0m",
      "\u001b[1;31mIndexError\u001b[0m: list index out of range"
     ]
    }
   ],
   "source": [
    "mylist[-6]"
   ]
  },
  {
   "cell_type": "markdown",
   "id": "c96aa532",
   "metadata": {},
   "source": [
    "We can check if an item is in a list using the `in` Boolean expression:"
   ]
  },
  {
   "cell_type": "code",
   "execution_count": 11,
   "id": "3ce4b92a",
   "metadata": {},
   "outputs": [
    {
     "name": "stdout",
     "output_type": "stream",
     "text": [
      "[1, 2, 3, 6, 100]\n"
     ]
    }
   ],
   "source": [
    "print(mylist)"
   ]
  },
  {
   "cell_type": "code",
   "execution_count": 12,
   "id": "69fba5c6",
   "metadata": {},
   "outputs": [
    {
     "name": "stdout",
     "output_type": "stream",
     "text": [
      "True\n"
     ]
    }
   ],
   "source": [
    "print(3 in mylist)"
   ]
  },
  {
   "cell_type": "code",
   "execution_count": 13,
   "id": "fea7b97d",
   "metadata": {},
   "outputs": [
    {
     "name": "stdout",
     "output_type": "stream",
     "text": [
      "False\n"
     ]
    }
   ],
   "source": [
    "print(4 in mylist)"
   ]
  },
  {
   "cell_type": "code",
   "execution_count": 14,
   "id": "6750ea9c",
   "metadata": {},
   "outputs": [
    {
     "name": "stdout",
     "output_type": "stream",
     "text": [
      "False\n"
     ]
    }
   ],
   "source": [
    "print('3' in mylist)"
   ]
  },
  {
   "cell_type": "markdown",
   "id": "1a49781e",
   "metadata": {},
   "source": [
    "The `len()` returns the length of a list:"
   ]
  },
  {
   "cell_type": "code",
   "execution_count": 15,
   "id": "e5d5f823",
   "metadata": {},
   "outputs": [
    {
     "data": {
      "text/plain": [
       "5"
      ]
     },
     "execution_count": 15,
     "metadata": {},
     "output_type": "execute_result"
    }
   ],
   "source": [
    "len(mylist)"
   ]
  },
  {
   "cell_type": "markdown",
   "id": "0ab3be72",
   "metadata": {},
   "source": [
    "`for` loops:\n",
    "\n",
    "`for <item> in <list>:\n",
    "    <do something with item>`"
   ]
  },
  {
   "cell_type": "code",
   "execution_count": 16,
   "id": "ddd53d6a",
   "metadata": {},
   "outputs": [],
   "source": [
    "letters = ['a','b','c','d','e']"
   ]
  },
  {
   "cell_type": "code",
   "execution_count": 17,
   "id": "d66abda2",
   "metadata": {},
   "outputs": [
    {
     "name": "stdout",
     "output_type": "stream",
     "text": [
      "a\n",
      "b\n",
      "c\n",
      "d\n",
      "e\n"
     ]
    }
   ],
   "source": [
    "for letter in letters:\n",
    "    print(letter)"
   ]
  },
  {
   "cell_type": "markdown",
   "id": "feb36d0e",
   "metadata": {},
   "source": [
    "The above `for` loop goes through the list `letters`, element by element, and prints each element in the list."
   ]
  },
  {
   "cell_type": "code",
   "execution_count": 18,
   "id": "1fa38125",
   "metadata": {},
   "outputs": [
    {
     "name": "stdout",
     "output_type": "stream",
     "text": [
      "1\n",
      "8\n",
      "27\n",
      "64\n",
      "125\n",
      "216\n",
      "343\n",
      "512\n",
      "729\n"
     ]
    }
   ],
   "source": [
    "for n in [1,2,3,4,5,6,7,8,9]:\n",
    "    print(n**3)"
   ]
  },
  {
   "cell_type": "markdown",
   "id": "199d9bd7",
   "metadata": {},
   "source": [
    "We can use `for` loops to iteratively construct a list:"
   ]
  },
  {
   "cell_type": "code",
   "execution_count": 30,
   "id": "c868c2a9",
   "metadata": {},
   "outputs": [],
   "source": [
    "cubes = []"
   ]
  },
  {
   "cell_type": "code",
   "execution_count": 31,
   "id": "3107e5d6",
   "metadata": {},
   "outputs": [
    {
     "name": "stdout",
     "output_type": "stream",
     "text": [
      "[]\n"
     ]
    }
   ],
   "source": [
    "print(cubes)"
   ]
  },
  {
   "cell_type": "code",
   "execution_count": 34,
   "id": "5ac7e83a",
   "metadata": {},
   "outputs": [],
   "source": [
    "for n in [1,2,3,4,5,6,7,8,9]:\n",
    "    cube = n**3\n",
    "    cubes.append(cube)"
   ]
  },
  {
   "cell_type": "code",
   "execution_count": 38,
   "id": "62720ed5",
   "metadata": {},
   "outputs": [
    {
     "name": "stdout",
     "output_type": "stream",
     "text": [
      "[1, 8, 27, 64, 125, 216, 343, 512, 729]\n"
     ]
    }
   ],
   "source": [
    "print(cubes)"
   ]
  },
  {
   "cell_type": "markdown",
   "id": "3258e1cb",
   "metadata": {},
   "source": [
    "Strings can also be treated as lists of characters:"
   ]
  },
  {
   "cell_type": "code",
   "execution_count": 23,
   "id": "295b30be",
   "metadata": {},
   "outputs": [],
   "source": [
    "s = 'Buffalo'"
   ]
  },
  {
   "cell_type": "code",
   "execution_count": 25,
   "id": "073467bf",
   "metadata": {},
   "outputs": [
    {
     "data": {
      "text/plain": [
       "'u'"
      ]
     },
     "execution_count": 25,
     "metadata": {},
     "output_type": "execute_result"
    }
   ],
   "source": [
    "s[1]"
   ]
  },
  {
   "cell_type": "code",
   "execution_count": 26,
   "id": "5cc12f22",
   "metadata": {},
   "outputs": [
    {
     "data": {
      "text/plain": [
       "'o'"
      ]
     },
     "execution_count": 26,
     "metadata": {},
     "output_type": "execute_result"
    }
   ],
   "source": [
    "s[-1]"
   ]
  },
  {
   "cell_type": "code",
   "execution_count": 27,
   "id": "c9d88a21",
   "metadata": {},
   "outputs": [
    {
     "data": {
      "text/plain": [
       "7"
      ]
     },
     "execution_count": 27,
     "metadata": {},
     "output_type": "execute_result"
    }
   ],
   "source": [
    "len(s)"
   ]
  },
  {
   "cell_type": "code",
   "execution_count": 39,
   "id": "ab42e951",
   "metadata": {},
   "outputs": [
    {
     "name": "stdout",
     "output_type": "stream",
     "text": [
      "B\n",
      "u\n",
      "f\n",
      "f\n",
      "a\n",
      "l\n",
      "o\n"
     ]
    }
   ],
   "source": [
    "for letter in 'Buffalo':\n",
    "    print(letter)"
   ]
  },
  {
   "cell_type": "markdown",
   "id": "3428cbc5",
   "metadata": {},
   "source": [
    "**Exercise.** Modify the above `for` loop to only print the vowels in `'Buffalo'`"
   ]
  },
  {
   "cell_type": "code",
   "execution_count": 40,
   "id": "14f26892",
   "metadata": {},
   "outputs": [
    {
     "name": "stdout",
     "output_type": "stream",
     "text": [
      "u\n",
      "a\n",
      "o\n"
     ]
    }
   ],
   "source": [
    "vowels = 'aeiouAEIOU'\n",
    "\n",
    "for letter in 'Buffalo':\n",
    "    if letter in vowels:\n",
    "        print(letter)"
   ]
  },
  {
   "cell_type": "markdown",
   "id": "d05e5f48",
   "metadata": {},
   "source": [
    "We can leave comments in our Python code using hashtags `#`"
   ]
  },
  {
   "cell_type": "code",
   "execution_count": 41,
   "id": "0717c592",
   "metadata": {},
   "outputs": [
    {
     "name": "stdout",
     "output_type": "stream",
     "text": [
      "Hi\n"
     ]
    }
   ],
   "source": [
    "# Everything here is a comment.\n",
    "# This will be ignored by Python\n",
    "\n",
    "print('Hi')"
   ]
  },
  {
   "cell_type": "code",
   "execution_count": 42,
   "id": "8eb83b9e",
   "metadata": {},
   "outputs": [
    {
     "name": "stdout",
     "output_type": "stream",
     "text": [
      "u\n",
      "a\n",
      "o\n"
     ]
    }
   ],
   "source": [
    "# Define a list of vowels\n",
    "vowels = 'aeiouAEIOU'\n",
    "\n",
    "# Iterate over the letters in 'Buffalo'\n",
    "for letter in 'Buffalo':\n",
    "    # Check if the letter is a vowel\n",
    "    if letter in vowels:\n",
    "        # If yes, print letter\n",
    "        print(letter)"
   ]
  },
  {
   "cell_type": "markdown",
   "id": "e88e45e7",
   "metadata": {},
   "source": [
    "## Current goal: \n",
    "Determine if a number is a prime or not."
   ]
  },
  {
   "cell_type": "code",
   "execution_count": 43,
   "id": "eedfe6e7",
   "metadata": {},
   "outputs": [
    {
     "data": {
      "text/plain": [
       "False"
      ]
     },
     "execution_count": 43,
     "metadata": {},
     "output_type": "execute_result"
    }
   ],
   "source": [
    "1 == 2"
   ]
  },
  {
   "cell_type": "code",
   "execution_count": 44,
   "id": "5edae222",
   "metadata": {},
   "outputs": [
    {
     "data": {
      "text/plain": [
       "True"
      ]
     },
     "execution_count": 44,
     "metadata": {},
     "output_type": "execute_result"
    }
   ],
   "source": [
    "1 == 1"
   ]
  },
  {
   "cell_type": "code",
   "execution_count": 45,
   "id": "e7cb016d",
   "metadata": {},
   "outputs": [
    {
     "name": "stdout",
     "output_type": "stream",
     "text": [
      "10 is not a prime\n",
      "10 disible by 2\n",
      "10 is not a prime\n",
      "10 disible by 5\n"
     ]
    }
   ],
   "source": [
    "n = 10\n",
    "\n",
    "for d in [2,3,4,5,6,7,8,9]:\n",
    "    if n%d == 0: # Check if the remainder of n/d is 0\n",
    "        print('{:} is not a prime'.format(n))\n",
    "        print('{0} disible by {1}'.format(n,d))"
   ]
  },
  {
   "cell_type": "markdown",
   "id": "994faefd",
   "metadata": {},
   "source": [
    "The `range()` function can be used to generate a list of integers."
   ]
  },
  {
   "cell_type": "code",
   "execution_count": 46,
   "id": "e877c923",
   "metadata": {
    "scrolled": true
   },
   "outputs": [
    {
     "name": "stdout",
     "output_type": "stream",
     "text": [
      "Help on class range in module builtins:\n",
      "\n",
      "class range(object)\n",
      " |  range(stop) -> range object\n",
      " |  range(start, stop[, step]) -> range object\n",
      " |  \n",
      " |  Return an object that produces a sequence of integers from start (inclusive)\n",
      " |  to stop (exclusive) by step.  range(i, j) produces i, i+1, i+2, ..., j-1.\n",
      " |  start defaults to 0, and stop is omitted!  range(4) produces 0, 1, 2, 3.\n",
      " |  These are exactly the valid indices for a list of 4 elements.\n",
      " |  When step is given, it specifies the increment (or decrement).\n",
      " |  \n",
      " |  Methods defined here:\n",
      " |  \n",
      " |  __bool__(self, /)\n",
      " |      self != 0\n",
      " |  \n",
      " |  __contains__(self, key, /)\n",
      " |      Return key in self.\n",
      " |  \n",
      " |  __eq__(self, value, /)\n",
      " |      Return self==value.\n",
      " |  \n",
      " |  __ge__(self, value, /)\n",
      " |      Return self>=value.\n",
      " |  \n",
      " |  __getattribute__(self, name, /)\n",
      " |      Return getattr(self, name).\n",
      " |  \n",
      " |  __getitem__(self, key, /)\n",
      " |      Return self[key].\n",
      " |  \n",
      " |  __gt__(self, value, /)\n",
      " |      Return self>value.\n",
      " |  \n",
      " |  __hash__(self, /)\n",
      " |      Return hash(self).\n",
      " |  \n",
      " |  __iter__(self, /)\n",
      " |      Implement iter(self).\n",
      " |  \n",
      " |  __le__(self, value, /)\n",
      " |      Return self<=value.\n",
      " |  \n",
      " |  __len__(self, /)\n",
      " |      Return len(self).\n",
      " |  \n",
      " |  __lt__(self, value, /)\n",
      " |      Return self<value.\n",
      " |  \n",
      " |  __ne__(self, value, /)\n",
      " |      Return self!=value.\n",
      " |  \n",
      " |  __reduce__(...)\n",
      " |      Helper for pickle.\n",
      " |  \n",
      " |  __repr__(self, /)\n",
      " |      Return repr(self).\n",
      " |  \n",
      " |  __reversed__(...)\n",
      " |      Return a reverse iterator.\n",
      " |  \n",
      " |  count(...)\n",
      " |      rangeobject.count(value) -> integer -- return number of occurrences of value\n",
      " |  \n",
      " |  index(...)\n",
      " |      rangeobject.index(value) -> integer -- return index of value.\n",
      " |      Raise ValueError if the value is not present.\n",
      " |  \n",
      " |  ----------------------------------------------------------------------\n",
      " |  Static methods defined here:\n",
      " |  \n",
      " |  __new__(*args, **kwargs) from builtins.type\n",
      " |      Create and return a new object.  See help(type) for accurate signature.\n",
      " |  \n",
      " |  ----------------------------------------------------------------------\n",
      " |  Data descriptors defined here:\n",
      " |  \n",
      " |  start\n",
      " |  \n",
      " |  step\n",
      " |  \n",
      " |  stop\n",
      "\n"
     ]
    }
   ],
   "source": [
    "help(range)"
   ]
  },
  {
   "cell_type": "code",
   "execution_count": 47,
   "id": "ee694c65",
   "metadata": {},
   "outputs": [
    {
     "name": "stdout",
     "output_type": "stream",
     "text": [
      "0\n",
      "1\n",
      "2\n",
      "3\n",
      "4\n"
     ]
    }
   ],
   "source": [
    "for d in range(5):\n",
    "    print(d)"
   ]
  },
  {
   "cell_type": "markdown",
   "id": "680b046b",
   "metadata": {},
   "source": [
    "`range(n)` generates the integers `0,1,2,...,n-1`"
   ]
  },
  {
   "cell_type": "markdown",
   "id": "95813d63",
   "metadata": {},
   "source": [
    "`range(m,n)` generate the integers `m,m+1,m+2,...,n-1`"
   ]
  },
  {
   "cell_type": "code",
   "execution_count": 48,
   "id": "5534d9ad",
   "metadata": {},
   "outputs": [
    {
     "name": "stdout",
     "output_type": "stream",
     "text": [
      "2\n",
      "3\n",
      "4\n",
      "5\n",
      "6\n",
      "7\n"
     ]
    }
   ],
   "source": [
    "for d in range(2,8):\n",
    "    print(d)"
   ]
  },
  {
   "cell_type": "code",
   "execution_count": 49,
   "id": "cf3fbb15",
   "metadata": {},
   "outputs": [
    {
     "name": "stdout",
     "output_type": "stream",
     "text": [
      "2\n",
      "3\n",
      "4\n",
      "5\n",
      "6\n",
      "7\n",
      "8\n",
      "9\n"
     ]
    }
   ],
   "source": [
    "n = 10\n",
    "\n",
    "for d in range(2,n):\n",
    "    print(d)"
   ]
  },
  {
   "cell_type": "code",
   "execution_count": 50,
   "id": "2f368ba5",
   "metadata": {},
   "outputs": [
    {
     "name": "stdout",
     "output_type": "stream",
     "text": [
      "10 is not a prime\n",
      "10 disible by 2\n",
      "10 is not a prime\n",
      "10 disible by 5\n"
     ]
    }
   ],
   "source": [
    "n = 10\n",
    "\n",
    "for d in range(2,n):\n",
    "    if n%d == 0: # Check if the remainder of n/d is 0\n",
    "        print('{:} is not a prime'.format(n))\n",
    "        print('{0} disible by {1}'.format(n,d))"
   ]
  },
  {
   "cell_type": "markdown",
   "id": "82e3a2b3",
   "metadata": {},
   "source": [
    "The `range()` command doesn't actually create a list containing those integers:"
   ]
  },
  {
   "cell_type": "code",
   "execution_count": 51,
   "id": "aa5073b2",
   "metadata": {},
   "outputs": [
    {
     "name": "stdout",
     "output_type": "stream",
     "text": [
      "range(0, 11)\n"
     ]
    }
   ],
   "source": [
    "print(range(11))"
   ]
  },
  {
   "cell_type": "markdown",
   "id": "4b82b87e",
   "metadata": {},
   "source": [
    "It actually produces an `iterable`."
   ]
  },
  {
   "cell_type": "code",
   "execution_count": 54,
   "id": "afeb2de0",
   "metadata": {},
   "outputs": [
    {
     "ename": "TypeError",
     "evalue": "unsupported operand type(s) for *: 'range' and 'int'",
     "output_type": "error",
     "traceback": [
      "\u001b[1;31m---------------------------------------------------------------------------\u001b[0m",
      "\u001b[1;31mTypeError\u001b[0m                                 Traceback (most recent call last)",
      "\u001b[1;32m<ipython-input-54-44e8a4b8c8dd>\u001b[0m in \u001b[0;36m<module>\u001b[1;34m\u001b[0m\n\u001b[1;32m----> 1\u001b[1;33m \u001b[0mrange\u001b[0m\u001b[1;33m(\u001b[0m\u001b[1;36m11\u001b[0m\u001b[1;33m)\u001b[0m \u001b[1;33m*\u001b[0m \u001b[1;36m3\u001b[0m\u001b[1;33m\u001b[0m\u001b[1;33m\u001b[0m\u001b[0m\n\u001b[0m",
      "\u001b[1;31mTypeError\u001b[0m: unsupported operand type(s) for *: 'range' and 'int'"
     ]
    }
   ],
   "source": [
    "range(11) * 3"
   ]
  },
  {
   "cell_type": "code",
   "execution_count": 55,
   "id": "8467c293",
   "metadata": {},
   "outputs": [
    {
     "data": {
      "text/plain": [
       "[0,\n",
       " 1,\n",
       " 2,\n",
       " 3,\n",
       " 4,\n",
       " 5,\n",
       " 6,\n",
       " 7,\n",
       " 8,\n",
       " 9,\n",
       " 10,\n",
       " 0,\n",
       " 1,\n",
       " 2,\n",
       " 3,\n",
       " 4,\n",
       " 5,\n",
       " 6,\n",
       " 7,\n",
       " 8,\n",
       " 9,\n",
       " 10,\n",
       " 0,\n",
       " 1,\n",
       " 2,\n",
       " 3,\n",
       " 4,\n",
       " 5,\n",
       " 6,\n",
       " 7,\n",
       " 8,\n",
       " 9,\n",
       " 10]"
      ]
     },
     "execution_count": 55,
     "metadata": {},
     "output_type": "execute_result"
    }
   ],
   "source": [
    "[0,1,2,3,4,5,6,7,8,9,10] * 3"
   ]
  },
  {
   "cell_type": "markdown",
   "id": "d31d26a2",
   "metadata": {},
   "source": [
    "`range(m,n,k)` will generate the integers between `m` and `n` (not including `n`) incremented by `k`:"
   ]
  },
  {
   "cell_type": "code",
   "execution_count": 56,
   "id": "5d1cb12f",
   "metadata": {},
   "outputs": [
    {
     "name": "stdout",
     "output_type": "stream",
     "text": [
      "2\n",
      "5\n",
      "8\n",
      "11\n",
      "14\n",
      "17\n"
     ]
    }
   ],
   "source": [
    "for d in range(2,20,3):\n",
    "    print(d)"
   ]
  },
  {
   "cell_type": "markdown",
   "id": "fd9353e9",
   "metadata": {},
   "source": [
    "## Fine-tuning loops\n",
    "\n",
    "The `break` command can be used to exit a loop"
   ]
  },
  {
   "cell_type": "code",
   "execution_count": 57,
   "id": "5a9b5ebb",
   "metadata": {},
   "outputs": [
    {
     "name": "stdout",
     "output_type": "stream",
     "text": [
      "M\n",
      "i\n",
      "s\n",
      "letter \"s\" found!\n"
     ]
    }
   ],
   "source": [
    "for letter in 'Mississippi':\n",
    "    print(letter)\n",
    "    if letter == 's':\n",
    "        print('letter \"s\" found!')\n",
    "        break"
   ]
  },
  {
   "cell_type": "markdown",
   "id": "4fad29de",
   "metadata": {},
   "source": [
    "The `continue` command can be used to skip to the next iteration"
   ]
  },
  {
   "cell_type": "code",
   "execution_count": 59,
   "id": "2e786199",
   "metadata": {},
   "outputs": [
    {
     "name": "stdout",
     "output_type": "stream",
     "text": [
      "M\n",
      "i\n",
      "i\n",
      "i\n",
      "p\n",
      "p\n",
      "i\n"
     ]
    }
   ],
   "source": [
    "for letter in 'Mississippi':\n",
    "    if letter == 's':\n",
    "        continue\n",
    "    print(letter)"
   ]
  },
  {
   "cell_type": "markdown",
   "id": "8429a9bc",
   "metadata": {},
   "source": [
    "The `pass` command can be used to do nothing"
   ]
  },
  {
   "cell_type": "code",
   "execution_count": 61,
   "id": "e5d640ec",
   "metadata": {},
   "outputs": [],
   "source": [
    "if 's' in 'Mississippi':\n",
    "    pass"
   ]
  },
  {
   "cell_type": "markdown",
   "id": "ada31297",
   "metadata": {},
   "source": [
    "**Exercise.** Modify the code below to stop the loop as soon as a divisor is found."
   ]
  },
  {
   "cell_type": "code",
   "execution_count": 64,
   "id": "70c240dd",
   "metadata": {},
   "outputs": [],
   "source": [
    "n = 11\n",
    "\n",
    "for d in range(2,n):\n",
    "    if n%d == 0: # Check if the remainder of n/d is 0\n",
    "        print('{:} is not a prime'.format(n))\n",
    "        print('{0} disible by {1}'.format(n,d))\n",
    "        break"
   ]
  },
  {
   "cell_type": "markdown",
   "id": "b7564bed",
   "metadata": {},
   "source": [
    "The above code does not notify if `n` is prime. Let's fix that."
   ]
  },
  {
   "cell_type": "code",
   "execution_count": 72,
   "id": "bdf21701",
   "metadata": {},
   "outputs": [],
   "source": [
    "n = 2\n",
    "\n",
    "for d in range(2,n):\n",
    "    if n%d == 0: # Check if the remainder of n/d is 0\n",
    "        print('{:} is not a prime'.format(n))\n",
    "        #print('{0} disible by {1}'.format(n,d))\n",
    "        break\n",
    "    elif d == n-1:\n",
    "        print('{:} is prime'.format(n))"
   ]
  },
  {
   "cell_type": "code",
   "execution_count": 73,
   "id": "1a4d0b6e",
   "metadata": {},
   "outputs": [],
   "source": [
    "for d in range(2,2):\n",
    "    print(d)"
   ]
  },
  {
   "cell_type": "markdown",
   "id": "51e7d260",
   "metadata": {},
   "source": [
    "We can nest loops, i.e. put loops inside loops."
   ]
  },
  {
   "cell_type": "code",
   "execution_count": 71,
   "id": "be54a0d5",
   "metadata": {
    "scrolled": true
   },
   "outputs": [
    {
     "name": "stdout",
     "output_type": "stream",
     "text": [
      "3 is prime\n",
      "4 is not a prime\n",
      "5 is prime\n",
      "6 is not a prime\n",
      "7 is prime\n",
      "8 is not a prime\n",
      "9 is not a prime\n",
      "10 is not a prime\n",
      "11 is prime\n",
      "12 is not a prime\n",
      "13 is prime\n",
      "14 is not a prime\n",
      "15 is not a prime\n",
      "16 is not a prime\n",
      "17 is prime\n",
      "18 is not a prime\n",
      "19 is prime\n",
      "20 is not a prime\n",
      "21 is not a prime\n",
      "22 is not a prime\n",
      "23 is prime\n",
      "24 is not a prime\n",
      "25 is not a prime\n",
      "26 is not a prime\n",
      "27 is not a prime\n",
      "28 is not a prime\n",
      "29 is prime\n",
      "30 is not a prime\n",
      "31 is prime\n",
      "32 is not a prime\n",
      "33 is not a prime\n",
      "34 is not a prime\n",
      "35 is not a prime\n",
      "36 is not a prime\n",
      "37 is prime\n",
      "38 is not a prime\n",
      "39 is not a prime\n",
      "40 is not a prime\n",
      "41 is prime\n",
      "42 is not a prime\n",
      "43 is prime\n",
      "44 is not a prime\n",
      "45 is not a prime\n",
      "46 is not a prime\n",
      "47 is prime\n",
      "48 is not a prime\n",
      "49 is not a prime\n"
     ]
    }
   ],
   "source": [
    "for n in range(3,50):\n",
    "    for d in range(2,n):\n",
    "        if n%d == 0:\n",
    "            print('{:} is not a prime'.format(n))\n",
    "            break\n",
    "        elif d == n-1:\n",
    "            print('{:} is prime'.format(n))"
   ]
  },
  {
   "cell_type": "markdown",
   "id": "bc8ac8c3",
   "metadata": {},
   "source": [
    "## Functions in Python"
   ]
  },
  {
   "cell_type": "markdown",
   "id": "6c8dc392",
   "metadata": {},
   "source": [
    "We can define functions in Python with the syntax\n",
    "\n",
    "`def function(<arguments>):\n",
    "    <some operations>`"
   ]
  },
  {
   "cell_type": "code",
   "execution_count": 76,
   "id": "55d3094c",
   "metadata": {},
   "outputs": [],
   "source": [
    "def multiply(a,b):\n",
    "    c = a*b\n",
    "    print('{0}*{1} = {2}'.format(a,b,c))"
   ]
  },
  {
   "cell_type": "code",
   "execution_count": 77,
   "id": "ef32bf31",
   "metadata": {},
   "outputs": [
    {
     "name": "stdout",
     "output_type": "stream",
     "text": [
      "2*3 = 6\n"
     ]
    }
   ],
   "source": [
    "multiply(2,3)"
   ]
  },
  {
   "cell_type": "code",
   "execution_count": 78,
   "id": "87c577aa",
   "metadata": {},
   "outputs": [
    {
     "name": "stdout",
     "output_type": "stream",
     "text": [
      "2.5*3.1 = 7.75\n"
     ]
    }
   ],
   "source": [
    "multiply(2.5,3.1)"
   ]
  },
  {
   "cell_type": "code",
   "execution_count": 79,
   "id": "3b72913d",
   "metadata": {},
   "outputs": [
    {
     "name": "stdout",
     "output_type": "stream",
     "text": [
      "abc*3 = abcabcabc\n"
     ]
    }
   ],
   "source": [
    "multiply('abc',3)"
   ]
  },
  {
   "cell_type": "code",
   "execution_count": 80,
   "id": "5d14d3ec",
   "metadata": {},
   "outputs": [
    {
     "ename": "TypeError",
     "evalue": "can't multiply sequence by non-int of type 'str'",
     "output_type": "error",
     "traceback": [
      "\u001b[1;31m---------------------------------------------------------------------------\u001b[0m",
      "\u001b[1;31mTypeError\u001b[0m                                 Traceback (most recent call last)",
      "\u001b[1;32m<ipython-input-80-ea6d287c92c0>\u001b[0m in \u001b[0;36m<module>\u001b[1;34m\u001b[0m\n\u001b[1;32m----> 1\u001b[1;33m \u001b[0mmultiply\u001b[0m\u001b[1;33m(\u001b[0m\u001b[1;34m'abc'\u001b[0m\u001b[1;33m,\u001b[0m\u001b[1;34m'def'\u001b[0m\u001b[1;33m)\u001b[0m\u001b[1;33m\u001b[0m\u001b[1;33m\u001b[0m\u001b[0m\n\u001b[0m",
      "\u001b[1;32m<ipython-input-76-c30b63180669>\u001b[0m in \u001b[0;36mmultiply\u001b[1;34m(a, b)\u001b[0m\n\u001b[0;32m      1\u001b[0m \u001b[1;32mdef\u001b[0m \u001b[0mmultiply\u001b[0m\u001b[1;33m(\u001b[0m\u001b[0ma\u001b[0m\u001b[1;33m,\u001b[0m\u001b[0mb\u001b[0m\u001b[1;33m)\u001b[0m\u001b[1;33m:\u001b[0m\u001b[1;33m\u001b[0m\u001b[1;33m\u001b[0m\u001b[0m\n\u001b[1;32m----> 2\u001b[1;33m     \u001b[0mc\u001b[0m \u001b[1;33m=\u001b[0m \u001b[0ma\u001b[0m\u001b[1;33m*\u001b[0m\u001b[0mb\u001b[0m\u001b[1;33m\u001b[0m\u001b[1;33m\u001b[0m\u001b[0m\n\u001b[0m\u001b[0;32m      3\u001b[0m     \u001b[0mprint\u001b[0m\u001b[1;33m(\u001b[0m\u001b[1;34m'{0}*{1} = {2}'\u001b[0m\u001b[1;33m.\u001b[0m\u001b[0mformat\u001b[0m\u001b[1;33m(\u001b[0m\u001b[0ma\u001b[0m\u001b[1;33m,\u001b[0m\u001b[0mb\u001b[0m\u001b[1;33m,\u001b[0m\u001b[0mc\u001b[0m\u001b[1;33m)\u001b[0m\u001b[1;33m)\u001b[0m\u001b[1;33m\u001b[0m\u001b[1;33m\u001b[0m\u001b[0m\n",
      "\u001b[1;31mTypeError\u001b[0m: can't multiply sequence by non-int of type 'str'"
     ]
    }
   ],
   "source": [
    "multiply('abc','def')"
   ]
  },
  {
   "cell_type": "markdown",
   "id": "ee4dc9ff",
   "metadata": {},
   "source": [
    "We want to use functions when we have a set of instructions that we will use repeatedly."
   ]
  },
  {
   "cell_type": "code",
   "execution_count": 81,
   "id": "ab43855e",
   "metadata": {},
   "outputs": [],
   "source": [
    "def isprime(n):\n",
    "    for d in range(2,n):\n",
    "        if n%d == 0:\n",
    "            print('{:} is not a prime'.format(n))\n",
    "            break\n",
    "        elif d == n-1:\n",
    "            print('{:} is a prime'.format(n))"
   ]
  },
  {
   "cell_type": "code",
   "execution_count": 82,
   "id": "c1fad0b7",
   "metadata": {
    "scrolled": true
   },
   "outputs": [
    {
     "name": "stdout",
     "output_type": "stream",
     "text": [
      "3 is a prime\n",
      "4 is not a prime\n",
      "5 is a prime\n",
      "6 is not a prime\n",
      "7 is a prime\n",
      "8 is not a prime\n",
      "9 is not a prime\n",
      "10 is not a prime\n",
      "11 is a prime\n",
      "12 is not a prime\n",
      "13 is a prime\n",
      "14 is not a prime\n",
      "15 is not a prime\n",
      "16 is not a prime\n",
      "17 is a prime\n",
      "18 is not a prime\n",
      "19 is a prime\n",
      "20 is not a prime\n",
      "21 is not a prime\n",
      "22 is not a prime\n",
      "23 is a prime\n",
      "24 is not a prime\n",
      "25 is not a prime\n",
      "26 is not a prime\n",
      "27 is not a prime\n",
      "28 is not a prime\n",
      "29 is a prime\n",
      "30 is not a prime\n",
      "31 is a prime\n",
      "32 is not a prime\n",
      "33 is not a prime\n",
      "34 is not a prime\n",
      "35 is not a prime\n",
      "36 is not a prime\n",
      "37 is a prime\n",
      "38 is not a prime\n",
      "39 is not a prime\n",
      "40 is not a prime\n",
      "41 is a prime\n",
      "42 is not a prime\n",
      "43 is a prime\n",
      "44 is not a prime\n",
      "45 is not a prime\n",
      "46 is not a prime\n",
      "47 is a prime\n",
      "48 is not a prime\n",
      "49 is not a prime\n"
     ]
    }
   ],
   "source": [
    "for n in range(2,50):\n",
    "    isprime(n)"
   ]
  },
  {
   "cell_type": "markdown",
   "id": "8a319628",
   "metadata": {},
   "source": [
    "We saw how our `isprime()` function fails to recognize `n=2` as prime. Let's try to fix that."
   ]
  },
  {
   "cell_type": "code",
   "execution_count": 83,
   "id": "65733bc0",
   "metadata": {},
   "outputs": [],
   "source": [
    "def isprime(n):\n",
    "    if n == 2:\n",
    "        print('{:} is a prime'.format(n))\n",
    "    else:\n",
    "        for d in range(2,n):\n",
    "            if n%d == 0:\n",
    "                print('{:} is not a prime'.format(n))\n",
    "                break\n",
    "            elif d == n-1:\n",
    "                print('{:} is a prime'.format(n))"
   ]
  },
  {
   "cell_type": "code",
   "execution_count": 85,
   "id": "d3ffb0ea",
   "metadata": {
    "scrolled": true
   },
   "outputs": [
    {
     "name": "stdout",
     "output_type": "stream",
     "text": [
      "2 is a prime\n",
      "3 is a prime\n",
      "4 is not a prime\n",
      "5 is a prime\n",
      "6 is not a prime\n",
      "7 is a prime\n",
      "8 is not a prime\n",
      "9 is not a prime\n",
      "10 is not a prime\n",
      "11 is a prime\n",
      "12 is not a prime\n",
      "13 is a prime\n",
      "14 is not a prime\n",
      "15 is not a prime\n",
      "16 is not a prime\n",
      "17 is a prime\n",
      "18 is not a prime\n",
      "19 is a prime\n",
      "20 is not a prime\n",
      "21 is not a prime\n",
      "22 is not a prime\n",
      "23 is a prime\n",
      "24 is not a prime\n",
      "25 is not a prime\n",
      "26 is not a prime\n",
      "27 is not a prime\n",
      "28 is not a prime\n",
      "29 is a prime\n",
      "30 is not a prime\n",
      "31 is a prime\n",
      "32 is not a prime\n",
      "33 is not a prime\n",
      "34 is not a prime\n",
      "35 is not a prime\n",
      "36 is not a prime\n",
      "37 is a prime\n",
      "38 is not a prime\n",
      "39 is not a prime\n",
      "40 is not a prime\n",
      "41 is a prime\n",
      "42 is not a prime\n",
      "43 is a prime\n",
      "44 is not a prime\n",
      "45 is not a prime\n",
      "46 is not a prime\n",
      "47 is a prime\n",
      "48 is not a prime\n",
      "49 is not a prime\n"
     ]
    }
   ],
   "source": [
    "for n in range(2,50):\n",
    "    isprime(n)"
   ]
  },
  {
   "cell_type": "markdown",
   "id": "e700bccd",
   "metadata": {},
   "source": [
    "Here's another way to define our `isprime()` function.\n",
    "We'll introduce a \"flag\", called `prime`."
   ]
  },
  {
   "cell_type": "markdown",
   "id": "22354c86",
   "metadata": {},
   "source": [
    "The flag `prime` will remain `True` is `n` is prime, and it will switch to `False` if `n` is not prime."
   ]
  },
  {
   "cell_type": "code",
   "execution_count": 87,
   "id": "9e56f9c0",
   "metadata": {},
   "outputs": [],
   "source": [
    "def isprime(n):\n",
    "    prime = True\n",
    "    for d in range(2,n):\n",
    "        if n%d == 0:\n",
    "            prime = False # Set the flag to be False if it's not a prime\n",
    "            break\n",
    "    if prime:\n",
    "        print('{:} is prime'.format(n))\n",
    "    else:\n",
    "        print('{:} is not prime'.format(n))"
   ]
  },
  {
   "cell_type": "code",
   "execution_count": 89,
   "id": "4de2c277",
   "metadata": {},
   "outputs": [
    {
     "name": "stdout",
     "output_type": "stream",
     "text": [
      "11 is prime\n"
     ]
    }
   ],
   "source": [
    "isprime(11)"
   ]
  },
  {
   "cell_type": "markdown",
   "id": "40fa8ac4",
   "metadata": {},
   "source": [
    "We can use the `return ...` command within function a function to get some output from the function."
   ]
  },
  {
   "cell_type": "code",
   "execution_count": 90,
   "id": "70412a56",
   "metadata": {},
   "outputs": [],
   "source": [
    "def isprime(n):\n",
    "    prime = True\n",
    "    for d in range(2,n):\n",
    "        if n%d == 0:\n",
    "            prime = False # Set the flag to be False if it's not a prime\n",
    "            break\n",
    "    return prime"
   ]
  },
  {
   "cell_type": "code",
   "execution_count": 93,
   "id": "a6062da2",
   "metadata": {},
   "outputs": [
    {
     "data": {
      "text/plain": [
       "True"
      ]
     },
     "execution_count": 93,
     "metadata": {},
     "output_type": "execute_result"
    }
   ],
   "source": [
    "isprime(7)"
   ]
  },
  {
   "cell_type": "code",
   "execution_count": 94,
   "id": "fdeba9d9",
   "metadata": {},
   "outputs": [
    {
     "name": "stdout",
     "output_type": "stream",
     "text": [
      "2\n",
      "3\n",
      "5\n",
      "7\n",
      "11\n",
      "13\n",
      "17\n",
      "19\n",
      "23\n",
      "29\n",
      "31\n",
      "37\n",
      "41\n",
      "43\n",
      "47\n"
     ]
    }
   ],
   "source": [
    "for n in range(2,50):\n",
    "    if isprime(n):\n",
    "        print(n)"
   ]
  },
  {
   "cell_type": "markdown",
   "id": "9a6d2ef7",
   "metadata": {},
   "source": [
    "Once a `return` statement is executed, the function ends"
   ]
  },
  {
   "cell_type": "code",
   "execution_count": 95,
   "id": "1f269643",
   "metadata": {},
   "outputs": [],
   "source": [
    "def f(a,b):\n",
    "    if a<5:\n",
    "        return True\n",
    "    print('a is not less than 5')\n",
    "    return False\n",
    "    print(\"You'll never see this\")"
   ]
  },
  {
   "cell_type": "code",
   "execution_count": 97,
   "id": "449f541e",
   "metadata": {},
   "outputs": [
    {
     "name": "stdout",
     "output_type": "stream",
     "text": [
      "a is not less than 5\n"
     ]
    },
    {
     "data": {
      "text/plain": [
       "False"
      ]
     },
     "execution_count": 97,
     "metadata": {},
     "output_type": "execute_result"
    }
   ],
   "source": [
    "f(6,2)"
   ]
  },
  {
   "cell_type": "markdown",
   "id": "2a060f6f",
   "metadata": {},
   "source": [
    "*Warning:* Variables that are defined inside functions are not accessible outside that function."
   ]
  },
  {
   "cell_type": "code",
   "execution_count": 101,
   "id": "79882460",
   "metadata": {},
   "outputs": [],
   "source": [
    "c = 7\n",
    "\n",
    "def f(a):\n",
    "    b = a*c\n",
    "    print(b)"
   ]
  },
  {
   "cell_type": "code",
   "execution_count": 102,
   "id": "6d00ef59",
   "metadata": {},
   "outputs": [
    {
     "name": "stdout",
     "output_type": "stream",
     "text": [
      "28\n"
     ]
    }
   ],
   "source": [
    "a = 4\n",
    "f(a)"
   ]
  },
  {
   "cell_type": "code",
   "execution_count": 103,
   "id": "99a2c377",
   "metadata": {},
   "outputs": [
    {
     "ename": "NameError",
     "evalue": "name 'b' is not defined",
     "output_type": "error",
     "traceback": [
      "\u001b[1;31m---------------------------------------------------------------------------\u001b[0m",
      "\u001b[1;31mNameError\u001b[0m                                 Traceback (most recent call last)",
      "\u001b[1;32m<ipython-input-103-89e6c98d9288>\u001b[0m in \u001b[0;36m<module>\u001b[1;34m\u001b[0m\n\u001b[1;32m----> 1\u001b[1;33m \u001b[0mb\u001b[0m\u001b[1;33m\u001b[0m\u001b[1;33m\u001b[0m\u001b[0m\n\u001b[0m",
      "\u001b[1;31mNameError\u001b[0m: name 'b' is not defined"
     ]
    }
   ],
   "source": [
    "b"
   ]
  },
  {
   "cell_type": "code",
   "execution_count": 104,
   "id": "df95c71e",
   "metadata": {},
   "outputs": [],
   "source": [
    "c = 7\n",
    "\n",
    "def f(a):\n",
    "    b = a*c\n",
    "    print(b)\n",
    "    return b"
   ]
  },
  {
   "cell_type": "code",
   "execution_count": 105,
   "id": "ec6378ee",
   "metadata": {},
   "outputs": [
    {
     "name": "stdout",
     "output_type": "stream",
     "text": [
      "28\n"
     ]
    }
   ],
   "source": [
    "a = 4\n",
    "b = f(a)"
   ]
  },
  {
   "cell_type": "code",
   "execution_count": 106,
   "id": "5315acaf",
   "metadata": {},
   "outputs": [
    {
     "data": {
      "text/plain": [
       "28"
      ]
     },
     "execution_count": 106,
     "metadata": {},
     "output_type": "execute_result"
    }
   ],
   "source": [
    "b"
   ]
  },
  {
   "cell_type": "markdown",
   "id": "74ab8c2d",
   "metadata": {},
   "source": [
    "## Back to prime numbers"
   ]
  },
  {
   "cell_type": "code",
   "execution_count": 107,
   "id": "02b0550d",
   "metadata": {},
   "outputs": [],
   "source": [
    "def isprime(n):\n",
    "    prime = True\n",
    "    for d in range(2,n):\n",
    "        if n%d == 0:\n",
    "            prime = False # Set the flag to be False if it's not a prime\n",
    "            break\n",
    "    return prime"
   ]
  },
  {
   "cell_type": "code",
   "execution_count": 111,
   "id": "f3c78e4c",
   "metadata": {},
   "outputs": [
    {
     "data": {
      "text/plain": [
       "True"
      ]
     },
     "execution_count": 111,
     "metadata": {},
     "output_type": "execute_result"
    }
   ],
   "source": [
    "isprime(-1)"
   ]
  },
  {
   "cell_type": "markdown",
   "id": "732cbd41",
   "metadata": {},
   "source": [
    "Our prime checker does not work for numbers < 2."
   ]
  },
  {
   "cell_type": "markdown",
   "id": "850c52be",
   "metadata": {},
   "source": [
    "**Exercise.**\n",
    "Use our `isprime` function to create a new function that generates a list of primes between 2 and `N`."
   ]
  },
  {
   "cell_type": "code",
   "execution_count": null,
   "id": "fb0412d8",
   "metadata": {},
   "outputs": [],
   "source": [
    "def list_of_primes(N):\n",
    "    # Initialize an empty list of primes\n",
    "    # Iterate over the integers from 2 to N\n",
    "    # Check if the number is prime\n",
    "    # If yes, add to a running list of primes\n",
    "    # return <list of primes>"
   ]
  }
 ],
 "metadata": {
  "kernelspec": {
   "display_name": "Python 3",
   "language": "python",
   "name": "python3"
  },
  "language_info": {
   "codemirror_mode": {
    "name": "ipython",
    "version": 3
   },
   "file_extension": ".py",
   "mimetype": "text/x-python",
   "name": "python",
   "nbconvert_exporter": "python",
   "pygments_lexer": "ipython3",
   "version": "3.8.8"
  }
 },
 "nbformat": 4,
 "nbformat_minor": 5
}
