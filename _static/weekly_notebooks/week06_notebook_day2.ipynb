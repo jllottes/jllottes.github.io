{
 "cells": [
  {
   "cell_type": "markdown",
   "id": "255388ef-701f-4e24-a1bd-f99c07277159",
   "metadata": {},
   "source": [
    "# Wednesday, October 1st, 2025"
   ]
  },
  {
   "cell_type": "code",
   "execution_count": null,
   "id": "2da77f9b-af1c-44a7-bb32-48c6fa5a631a",
   "metadata": {},
   "outputs": [],
   "source": [
    "import numpy as np\n",
    "import matplotlib.pyplot as plt"
   ]
  },
  {
   "cell_type": "markdown",
   "id": "8694ff0b-b8d9-44c8-8734-61e2f8e39ba1",
   "metadata": {},
   "source": [
    "## The Euclidean algorithm (continued)"
   ]
  },
  {
   "cell_type": "markdown",
   "id": "8620602f-6290-45fa-80bb-5cbf37569879",
   "metadata": {},
   "source": [
    "Last class, we looked at applying the Euclidean algorith to compute greatest common denominators."
   ]
  },
  {
   "cell_type": "code",
   "execution_count": null,
   "id": "33c3ed49-4c1d-4abf-8c56-60d1bd5e91fa",
   "metadata": {},
   "outputs": [],
   "source": [
    "def Euclidean_algorithm(a,b):\n",
    "    while a != 0 and b != 0:\n",
    "        if a > b:\n",
    "            a,b = b,a\n",
    "        b = b - a\n",
    "    return a"
   ]
  },
  {
   "cell_type": "code",
   "execution_count": null,
   "id": "c022c401-d3e5-42ae-9821-353a7a5dcc7c",
   "metadata": {},
   "outputs": [],
   "source": [
    "Euclidean_algorithm(15,10)"
   ]
  },
  {
   "cell_type": "code",
   "execution_count": null,
   "id": "3bc381a7-84d3-4215-8ffa-27c79bd4f02f",
   "metadata": {},
   "outputs": [],
   "source": [
    "Euclidean_algorithm(2**3 * 3**4, 2**2 * 3**2)"
   ]
  },
  {
   "cell_type": "markdown",
   "id": "7b02f816-fc55-4da2-ac78-0166a322986e",
   "metadata": {},
   "source": [
    "Suppose we use the function above to compute the greatest common divisor of $a = 2$ and $b = 100,000,000$."
   ]
  },
  {
   "cell_type": "code",
   "execution_count": null,
   "id": "05976123-0ac7-4c33-933e-cda8bda6a8ad",
   "metadata": {},
   "outputs": [],
   "source": [
    "Euclidean_algorithm(2,100000000)"
   ]
  },
  {
   "cell_type": "markdown",
   "id": "cdfdd56c-32ba-4720-b910-e10ef3ee6a41",
   "metadata": {},
   "source": [
    "How did the algorithm proceed? Within the while loop, the function went through the sequence `b = 999999998, 999999996, 999999994, 999999992, ...`. In other words, we had to perform **many** subtractions before finally ending up at `b=0` and `a=2`, giving the greatest common divisor `2`. Can we do anything to speed this process up?"
   ]
  },
  {
   "cell_type": "code",
   "execution_count": null,
   "id": "654b4790-cbf5-462c-ba1d-02dc675596f9",
   "metadata": {},
   "outputs": [],
   "source": []
  },
  {
   "cell_type": "markdown",
   "id": "bcfd315c-451e-4df0-8599-a73fd0c488c5",
   "metadata": {},
   "source": [
    "## Project 2: Pythagorean triples\n",
    "\n",
    "**Exercise:** Write a function `get_ptriples` that takes in an integer `n` and returns a list of all Pythagorean triples $(a,b,c)$ where $1 \\leq a, b \\leq n$.\n",
    "\n",
    "**Exercise:** Plot $a$ vs $b$ for the triples obtained from `get_ptriples` for various values of `n` and describe any patterns that emerge.\n",
    "\n",
    "Some thoughts:\n",
    "\n",
    " - It might be worthwhile to use subplots to include several graphs of Pythagorean doubles (with varying maximum $a$/$b$ values) within a single figure. You can then try to identify what patterns become apparent at different scales.\n",
    " - Try to explain some of the patterns that appear. For example, we have discussed the $a$-$b$ symmetry in class. What other structures can we see? Can we explain them?\n",
    " - In studying the structure of the Pythagorean doubles, it will be helpful to look separately at the primitive Pythagorean doubles. That is, Pythagorean doubles $(a,b)$ such that $\\gcd(a,b) = 1$ (or equivalently, Pythagorean triples $(a,b,c)$ such that $\\gcd(a,b,c) = 1$).\n",
    "\n",
    "**Exercise:** Given a list `ptriples` of Pythagorean triples, use list comprehension to generate the sub-list of primitive Pythagorean triples."
   ]
  },
  {
   "cell_type": "code",
   "execution_count": null,
   "id": "a344e708-b0d9-4d0b-88a6-b772a3faa5f4",
   "metadata": {},
   "outputs": [],
   "source": []
  },
  {
   "cell_type": "markdown",
   "id": "c3512089-4df7-494f-838d-dc660c8cd1bb",
   "metadata": {},
   "source": [
    "## Visualizing 2-dimensional arrays\n",
    "\n",
    "Consider the following 2D-array, filled with integers `0` up to `99`."
   ]
  },
  {
   "cell_type": "code",
   "execution_count": null,
   "id": "078b17e8-0dd3-4668-8f3a-7ecd194f00e1",
   "metadata": {},
   "outputs": [],
   "source": [
    "A = np.arange(100).reshape(10,10)\n",
    "print(A)"
   ]
  },
  {
   "cell_type": "markdown",
   "id": "0cf8bee5-617a-43ee-bc52-2b6d719feaba",
   "metadata": {},
   "source": [
    "For this array, it is small enough that we can simply print the array to understand its contents. For other larger arrays, this becomes infeasable. The `plt.imshow` function is a very useful tool for visualizing 2D arrays of any size. The basic syntax is `plt.imshow(<some 2D array>)`.\n",
    "\n",
    "When calling `plt.imshow` on a 2D array, the graph places a colored block at each row & column index pair. The color of the block is determined by the value of the array in that row & column position. The colors are assigned according to a designated **colormap**.\n",
    "\n",
    "The colors are assigned so that the lowest value in the array is assigned the \"lowest\" color in the colormap (dark blue by default) and the highest value of the array is assigned the \"highest\" color in the colormap (yellow by default). Intermdiate values are assigned intermediate colors between the \"lowest\" and \"highest\" colors in the colormap."
   ]
  },
  {
   "cell_type": "code",
   "execution_count": null,
   "id": "c743b985-c2f6-4d44-ba8d-40a8f65cff2c",
   "metadata": {},
   "outputs": [],
   "source": [
    "plt.imshow(A)"
   ]
  },
  {
   "cell_type": "markdown",
   "id": "8dc46a09-1bc6-4fe3-9269-ec8f7aa6193a",
   "metadata": {},
   "source": [
    "Let's make some changes to the `A` array and see how the output of `plt.imshow` is affected. For example, suppose we want to set the values in rows `3` or `4` and columns `6` or `7` to be `120`."
   ]
  },
  {
   "cell_type": "code",
   "execution_count": null,
   "id": "919186e4-af85-42fc-bddd-ec35ac7ec7bd",
   "metadata": {},
   "outputs": [],
   "source": []
  },
  {
   "cell_type": "code",
   "execution_count": null,
   "id": "2864ddb1-b193-4c1e-b6c5-c12d647ce4ba",
   "metadata": {},
   "outputs": [],
   "source": [
    "plt.imshow(A)"
   ]
  },
  {
   "cell_type": "markdown",
   "id": "81ad6d0a-5558-4590-8807-cc41782d64e5",
   "metadata": {},
   "source": [
    "Note: Just like the `plt.plot` function, we can take manual control of the figure and axes generation using `plt.figure` and `plt.subplot`. We can use `plt.imshow` within a subplot in the same way that we use `plt.plot`. There are also **many** optional arguments that can be included to modify the default behavior of `plt.imshow`. For example:\n",
    " - We can supply a value `vmin` that the \"darkest\" color will be assigned to. Any values in the array that are below this minimum value will also be mapped to the \"darkest\" color.\n",
    " - We can supply a value `vmax` that the \"brightest\" color will be assigned to. Any values in the array that are above this maximum value will also be mapped to the \"brightest\" color."
   ]
  },
  {
   "cell_type": "code",
   "execution_count": null,
   "id": "5ce5bb9b-9d5e-4d8a-b849-98b3c327bd15",
   "metadata": {},
   "outputs": [],
   "source": []
  },
  {
   "cell_type": "markdown",
   "id": "6828e9e5-6db1-4009-b60d-8b7372affda3",
   "metadata": {},
   "source": [
    "By default, `plt.imshow` will not interpolate colors between neighboring array positions (unless your screen's resolution is too low to display all of the colored blocks). That is, we can see a discrete set of boxes of colors. We can modify this behavior by using the `interpolation` keyword. Some available interpolation methods include:\n",
    " - `'nearest'`: each pixel is colored according to the closest colored block to that pixel\n",
    " - `'bilinear'`: each pixel is colored according to a [bilinear interpolation](https://en.wikipedia.org/wiki/Bilinear_interpolation) (both horizontally and vertically) between nearby colored blocks\n",
    " - `'bicubic'`: each pixel is colored according to a [bicubic interpolation](https://en.wikipedia.org/wiki/Bicubic_interpolation) (both horizontally and vertically) between nearby colored blocks\n",
    " - `'lanczos'`: each pixel is colored according to [Lancsoz interpolation](https://en.wikipedia.org/wiki/Lanczos_resampling) (both horizontally and vertically) between nearby colored blocks"
   ]
  },
  {
   "cell_type": "code",
   "execution_count": null,
   "id": "b3592ba5-cbc6-42f2-a755-45ea3b25232a",
   "metadata": {},
   "outputs": [],
   "source": []
  },
  {
   "cell_type": "markdown",
   "id": "e357a997-4c1b-4f90-a255-2280e7f8dbf4",
   "metadata": {},
   "source": [
    "We can also modify the color choices used by `plt.imshow`. These choices are called *colormaps*. A collection of colormaps can be found on the [Matplotlib documentation page](https://matplotlib.org/stable/users/explain/colors/colormaps.html).\n",
    "\n",
    "The `cmap` keyword argument can be used to change colormaps:"
   ]
  },
  {
   "cell_type": "code",
   "execution_count": null,
   "id": "01e9cfd3-e578-4813-91a1-31a8275fc5ba",
   "metadata": {},
   "outputs": [],
   "source": []
  },
  {
   "cell_type": "markdown",
   "id": "39a1a807-4111-4ecc-8ebb-eae1163aeb54",
   "metadata": {},
   "source": [
    "Note: The figures produced above do not indicate what the actual values in the array are. We can call `plt.colorbar` to add a colorbar that indicates which values correspond to which colors."
   ]
  },
  {
   "cell_type": "code",
   "execution_count": null,
   "id": "eb08d1ab-2541-4e0c-926c-a006eb2d215a",
   "metadata": {},
   "outputs": [],
   "source": []
  },
  {
   "cell_type": "markdown",
   "id": "9dbaab57-a5e3-4ec8-84db-3c9ec4e624bf",
   "metadata": {},
   "source": [
    "We can also use colormaps in `plt.plot` to assign colors to our plots. The colormaps can be found in the `cm` submodule of `matplotlib`."
   ]
  },
  {
   "cell_type": "code",
   "execution_count": null,
   "id": "bd2fe8aa-91f4-46dd-aace-2e3696652e75",
   "metadata": {},
   "outputs": [],
   "source": [
    "import matplotlib.cm as cm"
   ]
  },
  {
   "cell_type": "code",
   "execution_count": null,
   "id": "d43907f1-d71c-4348-85c0-fbb2eeda3386",
   "metadata": {},
   "outputs": [],
   "source": [
    "cm.plasma"
   ]
  },
  {
   "cell_type": "markdown",
   "id": "ad2fa083-f736-4e60-a27c-e31192b1be57",
   "metadata": {},
   "source": [
    "Each colormap works as a function that takes in a float, where:\n",
    " - any input `0` or less returns the color at the left-end of the colormap,\n",
    " - any input `1` or more returns the color at the right-end of the colormap,\n",
    " - any input between `0` and `1` returns the color that is proportionally between the left-end and right-end of the colormap."
   ]
  },
  {
   "cell_type": "code",
   "execution_count": null,
   "id": "dccd27af-504f-477a-94fc-fe0234bc96fd",
   "metadata": {},
   "outputs": [],
   "source": []
  },
  {
   "cell_type": "markdown",
   "id": "d64565db-6fdd-4987-8fac-1883e85d325f",
   "metadata": {},
   "source": [
    "What does the output actually look like when we plug a float into a colormap?"
   ]
  },
  {
   "cell_type": "code",
   "execution_count": null,
   "id": "b2dd4052-c28b-4ac7-8f0e-6b21d134a88d",
   "metadata": {},
   "outputs": [],
   "source": [
    "cm.plasma(.25)"
   ]
  },
  {
   "cell_type": "markdown",
   "id": "6212ac94-0a31-486a-bab1-45f11fae0b87",
   "metadata": {},
   "source": [
    "## RGB(A) values\n",
    "\n",
    "The output from the colormap above is an Red/Green/Blue/Alpha value, or **RGBA** value. That is, we have a tuple `(R, G, B, A)` where:\n",
    " - `R` is the amount of red in the color (`R=1` means full red, `R=0` means no red),\n",
    " - `G` is the amount of green in the color (`G=1` means full green, `G=0` means no green),\n",
    " - `B` is the amount of blue in the color (`B=1` means full blue, `B=0` means no blue),\n",
    " - `A` is the transparency of the color (`A=1` means fully opaque, `A=0` means fully transparent).\n",
    "\n",
    "If the transparency channel is omitted (i.e. if we work with a pure RGB triple), the color is assume to be fully opaque. We can also supply our own RGB(A) tuples in `plt.plot` to specify colors."
   ]
  },
  {
   "cell_type": "code",
   "execution_count": null,
   "id": "4b99e4f8-1118-4698-93c6-517d8462b932",
   "metadata": {},
   "outputs": [],
   "source": []
  },
  {
   "cell_type": "markdown",
   "id": "4bf01f94-b516-407e-abc3-b8a32749526a",
   "metadata": {},
   "source": [
    "The `plt.imshow` function can also work with RGB(A) values. Instead of supplying a 2D-array, we can supply a 3D-array where:\n",
    " - The first axis corresponds to the row of the array\n",
    " - The second axis corresponds to the column of the array\n",
    " - The third axis corresponds to the RGB(A) values of the array\n",
    "\n",
    "For example, let's define a `10` by `20` array with `3` color channels (RGB) called `RGB_array`."
   ]
  },
  {
   "cell_type": "code",
   "execution_count": null,
   "id": "975a6ac6-2939-453f-870d-5ce17a306bd5",
   "metadata": {},
   "outputs": [],
   "source": [
    "RGB_array = np.zeros((10,20,3))"
   ]
  },
  {
   "cell_type": "markdown",
   "id": "3b12ffc5-8fae-4957-a1fb-65f5f3ebe095",
   "metadata": {},
   "source": [
    "For the above array, we will think of `RGB_array[:,:,0]` as containing the red data. Similarly, `RGB_array[:,:,1]` contains the green data, and `RGB_array[:,:,2]` contains the blue data. Let's add some colored stripes to the array."
   ]
  },
  {
   "cell_type": "code",
   "execution_count": null,
   "id": "19162521-3d60-4e7c-84c1-528d684da800",
   "metadata": {},
   "outputs": [],
   "source": [
    "# Add some colored stripes to RGB_array\n",
    "\n",
    "\n",
    "\n",
    "plt.imshow(RGB_array)"
   ]
  },
  {
   "cell_type": "markdown",
   "id": "088daf05-757a-419f-bd4a-74a71fc9fbeb",
   "metadata": {},
   "source": [
    "Most computer images are stored as arrays of RGB(A) values. We can read an image file into an RGB(A) array using `plt.imread`. The syntax is: `plt.imread(<path to some image file>)`. For example, download the image `mario.png` from the [course webpage](https://jllottes.github.io/Schedule/week_06.html) and place it into the same folder as this Jupyter notebook."
   ]
  },
  {
   "cell_type": "code",
   "execution_count": null,
   "id": "17616767-4a9c-43bd-8d18-ce6c5b0a8426",
   "metadata": {},
   "outputs": [],
   "source": [
    "mario = plt.imread('mario.png')\n",
    "\n",
    "plt.imshow(mario)"
   ]
  },
  {
   "cell_type": "markdown",
   "id": "ae4d6e44-e84c-423c-8976-a7e8a12e63c9",
   "metadata": {},
   "source": [
    "We can look at the shape of the array to see if it contains RGB or RGBA values. In this case, the `mario.png` image file includes a transparency channel."
   ]
  },
  {
   "cell_type": "code",
   "execution_count": null,
   "id": "39ea9283-9f3b-41f1-9e85-a7ba1cdf7ee0",
   "metadata": {},
   "outputs": [],
   "source": [
    "print(mario.shape)"
   ]
  },
  {
   "cell_type": "markdown",
   "id": "aee4c0ea-aedf-49fc-9396-646b12a37d73",
   "metadata": {},
   "source": [
    "**Exercise:** Use NumPy slicing to remove the transparency channel from the `mario` array."
   ]
  },
  {
   "cell_type": "code",
   "execution_count": null,
   "id": "9d94d62a-8bcb-48bb-9121-b06f2859a53e",
   "metadata": {},
   "outputs": [],
   "source": []
  },
  {
   "cell_type": "markdown",
   "id": "61bc337c-4194-4bce-a007-bf84197baef4",
   "metadata": {},
   "source": [
    "**Exercise:** Use NumPy slicing and `plt.imshow` to zoom in on Mario (in the lower-left corner)."
   ]
  },
  {
   "cell_type": "code",
   "execution_count": null,
   "id": "41d281e2-d4c0-4a6c-ab8e-7ddc656b7fb9",
   "metadata": {},
   "outputs": [],
   "source": []
  },
  {
   "cell_type": "markdown",
   "id": "4d631161-5b1c-4db9-be04-d023ccb06cc7",
   "metadata": {},
   "source": [
    "**Exercise:** Create an array `blueless_mario` where the blue channel information from `mario` has been removed and plot using `plt.imshow`."
   ]
  },
  {
   "cell_type": "code",
   "execution_count": null,
   "id": "e979cb6d-4854-4b11-bfca-7e8dcca9d608",
   "metadata": {},
   "outputs": [],
   "source": []
  },
  {
   "cell_type": "markdown",
   "id": "3cfce11a-1298-4a6e-ab92-92d6c36a05e3",
   "metadata": {},
   "source": [
    "**Exercise:** Create an array `mixed_mario` where:\n",
    " - the red channel of `mixed_mario` matches the green channel of `mario`,\n",
    " - the green channel of `mixed_mario` matches the blue channel of `mario`,\n",
    " - the blue channel fo `mixed_mario` matches the red channel of `mario`."
   ]
  },
  {
   "cell_type": "code",
   "execution_count": null,
   "id": "73b8d790-fa8a-4747-99ed-57c00b642b26",
   "metadata": {},
   "outputs": [],
   "source": []
  }
 ],
 "metadata": {
  "kernelspec": {
   "display_name": "Python 3 (ipykernel)",
   "language": "python",
   "name": "python3"
  },
  "language_info": {
   "codemirror_mode": {
    "name": "ipython",
    "version": 3
   },
   "file_extension": ".py",
   "mimetype": "text/x-python",
   "name": "python",
   "nbconvert_exporter": "python",
   "pygments_lexer": "ipython3",
   "version": "3.13.5"
  }
 },
 "nbformat": 4,
 "nbformat_minor": 5
}
