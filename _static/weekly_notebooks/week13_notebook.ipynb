{
 "cells": [
  {
   "cell_type": "markdown",
   "id": "d666937b",
   "metadata": {},
   "source": [
    "# Monday, April 21st, 2025"
   ]
  },
  {
   "cell_type": "code",
   "execution_count": 1,
   "id": "41ad755f",
   "metadata": {},
   "outputs": [],
   "source": [
    "import numpy as np\n",
    "import matplotlib.pyplot as plt"
   ]
  },
  {
   "cell_type": "markdown",
   "id": "53725246",
   "metadata": {},
   "source": [
    "## Conway's Game of Life\n",
    "\n",
    "Conway's [Game of Life](https://conwaylife.com/wiki/Conway%27s_Game_of_Life) is a cellular automaton created by John Conway in 1970. Similar to the Mayfly model, it is a deterministic process to update the state of a population of cells.\n",
    "\n",
    "We will use 2D NumPy arrays to represent the population of cells aranged in an $n \\times n$ grid.\n",
    "A value of `1` will signify that a cell is alive while a value of `0` will signify that a cell is dead."
   ]
  },
  {
   "cell_type": "markdown",
   "id": "c0de0a2e",
   "metadata": {},
   "source": [
    "### Starting configuration\n",
    "\n",
    "Lets begin with an $ n\\times n $ array of all 0s with a small three-block column (3$\\times$1) of 1s in the middle. Use an integer datatype (`dtype=int`) when defining your array.\n",
    "\n",
    "**Exercise:**  Write a function `starting_state(n)` that returns the array described above."
   ]
  },
  {
   "cell_type": "code",
   "execution_count": 2,
   "id": "c2a2d03e",
   "metadata": {},
   "outputs": [],
   "source": [
    "def starting_state(n):\n",
    "    cells = np.zeros((n,n), dtype=int)\n",
    "    cells[n//2-1:n//2+2, n//2] = 1\n",
    "\n",
    "    return cells\n",
    "\n"
   ]
  },
  {
   "cell_type": "markdown",
   "id": "c030a3e1",
   "metadata": {},
   "source": [
    "Let's visualize this configuration with `plt.imshow`:"
   ]
  },
  {
   "cell_type": "code",
   "execution_count": 3,
   "id": "38f6c958",
   "metadata": {},
   "outputs": [
    {
     "data": {
      "text/plain": [
       "<matplotlib.image.AxesImage at 0x18a99c09460>"
      ]
     },
     "execution_count": 3,
     "metadata": {},
     "output_type": "execute_result"
    },
    {
     "data": {
      "image/png": "[encoded data removed]",
      "text/plain": [
       "<Figure size 640x480 with 1 Axes>"
      ]
     },
     "metadata": {},
     "output_type": "display_data"
    }
   ],
   "source": [
    "n = 10\n",
    "\n",
    "cells = starting_state(n)\n",
    "\n",
    "plt.imshow(cells)\n",
    "\n"
   ]
  },
  {
   "cell_type": "markdown",
   "id": "da61ba3b",
   "metadata": {},
   "source": [
    "### Rules of Life"
   ]
  },
  {
   "cell_type": "markdown",
   "id": "04ccb5cd",
   "metadata": {},
   "source": [
    "We will use the current state of the population to determine the next state.\n",
    "In the Game of Life, each cell interacts with its eight neighbors (i.e. the horizontally, vertically, or diagonally adjacent cells).\n",
    "\n",
    "![neighbors](https://jllottes.github.io/_images/epidemic-2.svg)\n",
    "\n",
    "The rules of the Game of Life can be summarized as follows:\n",
    "\n",
    " 1. Any live cell with two or three live neighbors survives.\n",
    " 2. Any dead cell with with three live neighbors becomes a live cell.\n",
    " 3. All other live cells die in the next generation, and all other dead cells stay dead."
   ]
  },
  {
   "cell_type": "markdown",
   "id": "ca626e3b",
   "metadata": {},
   "source": [
    "### Counting the number of live neighbors\n",
    "\n",
    "In order to update our array from one state to the next, we need to be able to count the number of live neighbors of the $(i,j)$th cell for any choice of $i,j$.\n",
    "\n",
    "**Exercise:** Write a function `count_live_neighbors(cells,i,j)` that counts the number of living neighbors of the $(i,j)$th cell.\n",
    "\n",
    " - We handled a similar problem with the [Image Denoising](https://jllottes.github.io/Projects/image_denoising/image_denoising) project.\n",
    " - How can we handle cells on the edge of the grid?\n",
    " - The `np.sum` function will add all values in an array.\n",
    " - We want to exclude (or remove from the sum) the $(i,j)$th cell when counting the number of living neighbors.\n",
    "\n"
   ]
  },
  {
   "cell_type": "markdown",
   "id": "ad40c3d8",
   "metadata": {},
   "source": [
    "For image denoising, we discussed padding our array before constructing `3` by `3` grids centered at each pixel:"
   ]
  },
  {
   "cell_type": "code",
   "execution_count": 7,
   "id": "0d805404",
   "metadata": {},
   "outputs": [],
   "source": [
    "def count_live_neighbors(cells,i,j):\n",
    "    nrows, ncols = cells.shape\n",
    "    padded_cells = np.zeros((nrows+2, ncols+2), dtype=int)\n",
    "    padded_cells[1:-1, 1:-1] = cells\n",
    "\n",
    "    # Recall: The [i,j]th index of cells corresponds to\n",
    "    # the [i+1, j+1]st index of padded_cells\n",
    "    \n",
    "    # We want a 3 by 3 grid centered at the [i,j]th cell of cells\n",
    "    grid = padded_cells[i:i+3, j:j+3]\n",
    "\n",
    "    # We can subtract cells[i,j] from the sum\n",
    "    # to either remove a wrongly counted live neighbor\n",
    "    # or do nothing if cells[i,j] is not alive\n",
    "    live_neighbors = np.sum(grid) - cells[i,j]\n",
    "    \n",
    "    return live_neighbors"
   ]
  },
  {
   "cell_type": "markdown",
   "id": "2a0b4780",
   "metadata": {},
   "source": [
    "Let's test our function on the starting configuration previously defined:"
   ]
  },
  {
   "cell_type": "code",
   "execution_count": 10,
   "id": "53dfc01f",
   "metadata": {},
   "outputs": [
    {
     "name": "stdout",
     "output_type": "stream",
     "text": [
      "[[0 0 0 0 0 0 0 0 0 0]\n",
      " [0 0 0 0 0 0 0 0 0 0]\n",
      " [0 0 0 0 0 0 0 0 0 0]\n",
      " [0 0 0 0 0 0 0 0 0 0]\n",
      " [0 0 0 0 0 1 0 0 0 0]\n",
      " [0 0 0 0 0 1 0 0 0 0]\n",
      " [0 0 0 0 0 1 0 0 0 0]\n",
      " [0 0 0 0 0 0 0 0 0 0]\n",
      " [0 0 0 0 0 0 0 0 0 0]\n",
      " [0 0 0 0 0 0 0 0 0 0]]\n"
     ]
    }
   ],
   "source": [
    "print(cells)"
   ]
  },
  {
   "cell_type": "code",
   "execution_count": 12,
   "id": "d8599296",
   "metadata": {},
   "outputs": [
    {
     "name": "stdout",
     "output_type": "stream",
     "text": [
      "1\n",
      "1\n",
      "2\n",
      "3\n"
     ]
    }
   ],
   "source": [
    "print(count_live_neighbors(cells, 3, 5))\n",
    "print(count_live_neighbors(cells, 4, 5))\n",
    "print(count_live_neighbors(cells, 5, 5))\n",
    "print(count_live_neighbors(cells, 5, 6))"
   ]
  },
  {
   "cell_type": "markdown",
   "id": "f6df9dc7",
   "metadata": {},
   "source": [
    "### Updating the `cells` population\n",
    "\n",
    "We can now update the `cells` array according to the rules.  We have to update every entry of the array, so we will need to loop through all the entries.\n",
    "\n",
    "**Exercise:** Write a function `update_cells(cells)` that takes in a population array `cells`, applies the Rules of Life to update the population, and returns the updated population."
   ]
  },
  {
   "cell_type": "code",
   "execution_count": null,
   "id": "fa15cd7c",
   "metadata": {},
   "outputs": [],
   "source": [
    "def update(cells):\n",
    "    \n",
    "\n",
    "\n",
    "\n"
   ]
  },
  {
   "cell_type": "code",
   "execution_count": null,
   "id": "15e131e5",
   "metadata": {},
   "outputs": [],
   "source": [
    "\n",
    "\n",
    "\n",
    "\n"
   ]
  },
  {
   "cell_type": "markdown",
   "id": "1a59f37d",
   "metadata": {},
   "source": [
    "### Animating the dynamics"
   ]
  },
  {
   "cell_type": "markdown",
   "id": "fb3777dc",
   "metadata": {},
   "source": [
    "The `FuncAnimation` function from `matplotlib.animation` can be used to create animations.\n",
    "It takes in a figure `fig` and function `animate`. The `animate` function should take in a frame index `i` and perform any desired updates to the figure."
   ]
  },
  {
   "cell_type": "code",
   "execution_count": null,
   "id": "0cab0172",
   "metadata": {},
   "outputs": [],
   "source": [
    "%matplotlib qt\n",
    "from matplotlib.animation import FuncAnimation"
   ]
  },
  {
   "cell_type": "markdown",
   "id": "17ced488",
   "metadata": {},
   "source": [
    "**Exercise:** Modify the code below to animate the Game of Life."
   ]
  },
  {
   "cell_type": "code",
   "execution_count": null,
   "id": "604648ea",
   "metadata": {},
   "outputs": [],
   "source": [
    "x = np.zeros((200,200), dtype = int)\n",
    "\n",
    "fig = plt.figure()\n",
    "im = plt.imshow(x,vmin=0,vmax=1)               # Generate the initial plot\n",
    "\n",
    "def animate(i):\n",
    "    x[:,:]= (np.random.random(x.shape) > .5)   # Update the x array with random data\n",
    "    im.set_data(x)                             # Update the figure with new x array\n",
    "    return im\n",
    "\n",
    "anim = FuncAnimation(fig, animate, cache_frame_data=False)\n",
    "plt.show()"
   ]
  },
  {
   "cell_type": "markdown",
   "id": "ab586c67",
   "metadata": {},
   "source": [
    "**Exercise:** Use `np.random.rand` to randomly select an initial `cells` array of `0`s and `1`s."
   ]
  },
  {
   "cell_type": "code",
   "execution_count": null,
   "id": "0b56f039",
   "metadata": {},
   "outputs": [],
   "source": [
    "\n",
    "\n",
    "\n",
    "\n"
   ]
  },
  {
   "cell_type": "code",
   "execution_count": null,
   "id": "37b02cee",
   "metadata": {},
   "outputs": [],
   "source": [
    "\n",
    "\n",
    "\n",
    "\n"
   ]
  }
 ],
 "metadata": {
  "kernelspec": {
   "display_name": "Python 3 (ipykernel)",
   "language": "python",
   "name": "python3"
  },
  "language_info": {
   "codemirror_mode": {
    "name": "ipython",
    "version": 3
   },
   "file_extension": ".py",
   "mimetype": "text/x-python",
   "name": "python",
   "nbconvert_exporter": "python",
   "pygments_lexer": "ipython3",
   "version": "3.9.21"
  },
  "latex_envs": {
   "LaTeX_envs_menu_present": true,
   "autoclose": false,
   "autocomplete": true,
   "bibliofile": "biblio.bib",
   "cite_by": "apalike",
   "current_citInitial": 1,
   "eqLabelWithNumbers": true,
   "eqNumInitial": 1,
   "hotkeys": {
    "equation": "Ctrl-E",
    "itemize": "Ctrl-I"
   },
   "labels_anchors": false,
   "latex_user_defs": false,
   "report_style_numbering": false,
   "user_envs_cfg": false
  },
  "varInspector": {
   "cols": {
    "lenName": 16,
    "lenType": 16,
    "lenVar": 40
   },
   "kernels_config": {
    "python": {
     "delete_cmd_postfix": "",
     "delete_cmd_prefix": "del ",
     "library": "var_list.py",
     "varRefreshCmd": "print(var_dic_list())"
    },
    "r": {
     "delete_cmd_postfix": ") ",
     "delete_cmd_prefix": "rm(",
     "library": "var_list.r",
     "varRefreshCmd": "cat(var_dic_list()) "
    }
   },
   "types_to_exclude": [
    "module",
    "function",
    "builtin_function_or_method",
    "instance",
    "_Feature"
   ],
   "window_display": false
  }
 },
 "nbformat": 4,
 "nbformat_minor": 5
}
