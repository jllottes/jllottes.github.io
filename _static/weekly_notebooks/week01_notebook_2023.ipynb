{
 "cells": [
  {
   "cell_type": "markdown",
   "id": "a39f35dc",
   "metadata": {},
   "source": [
    "# Monday, January 30th, 2023"
   ]
  },
  {
   "cell_type": "markdown",
   "id": "5fe7aa89",
   "metadata": {},
   "source": [
    "This is some text in a MarkDown cell. To make a markdown cell, select a cell in Jupyter-notebook and hit `m`, or click \"Cell\" -> \"Cell Type\" -> \"Markdown\".\n",
    "\n",
    "To add a cell in Jupyter-notebook, click the \"+\" sign in the toolbar. Alternatively, you can hit `esc` then `a`. More generally, we can use command shortcuts by first hitting `esc`. \n",
    "\n",
    "To see a list of all command shortcuts in Jupyter, hit `esc` then `h`.\n",
    "\n",
    "You can save your notebook by hitting `CTRL + s`.\n",
    "\n",
    "We can execute the cell with `SHIFT + ENTER` to render the markdown."
   ]
  },
  {
   "cell_type": "markdown",
   "id": "f9669f41",
   "metadata": {},
   "source": [
    "To create a heading in MarkDown, use hashtags.\n",
    "\n",
    "# This is a heading\n",
    "\n",
    "Once we execute the markdown cell, the heading will be rendered.\n",
    "We can create sub-headings using additional hashtags.\n",
    "\n",
    "## This is a sub-heading\n",
    "\n",
    "### This is a sub-sub-heading\n",
    "\n",
    "This is regular text.\n",
    "\n",
    "*This is italics*\n",
    "\n",
    "The word **bold** is bolded.\n",
    "\n",
    "We can write code snippets in Markdown using the backtick (same key as tilde):\n",
    "\n",
    "`def f(n):\n",
    "    print(n)\n",
    "`\n",
    "\n",
    "We can edit a markdown cell by double-clicking it. Re-executing the cell (`SHIFT+ENTER`) will re-render the markdown."
   ]
  },
  {
   "cell_type": "markdown",
   "id": "7fea361a",
   "metadata": {},
   "source": [
    "## Lists\n",
    "\n",
    "We can create lists in Markdown using indented asterisks:\n",
    "\n",
    " * This is the first item in a list\n",
    " * This is a second\n",
    " * This is a third\n",
    "   * This is a sub-item\n",
    "   * This is a second sub-item\n",
    " * This is a fourth item\n",
    " \n",
    "We can also create numbered lists using numbers:\n",
    "\n",
    " 1. This is the first item\n",
    " 2. This is the second\n",
    "   1. This is a first sub-item\n",
    "   2. This is a second sub-item\n",
    " 5. Test\n",
    " 10. test2\n",
    "    \n",
    "Note: It doesn't actually matter what numbers you use, Markdown will order them it's own way."
   ]
  },
  {
   "cell_type": "markdown",
   "id": "1da5d00a",
   "metadata": {},
   "source": [
    "## Hyperlinks\n",
    "\n",
    "We create Hyperlinks in markdown using square-brackets (for the URL) followed by parentheses for the text:\n",
    "\n",
    "`[This is the course page](https://jllottes.github.io)`\n",
    "\n",
    "[This is the course page](https://jllottes.github.io)"
   ]
  },
  {
   "cell_type": "markdown",
   "id": "5b466a2a",
   "metadata": {},
   "source": [
    "## Tables\n",
    "\n",
    "We can create tables in Markdown:\n",
    "\n",
    "| Tables        | Are           | Cool  |  This is a new column |\n",
    "|:------------- |:-------------:| -----:|-----------------------|\n",
    "| col 3 is      | right-aligned | \\$1600  |   alpha             |\n",
    "| col 2 is      | centered      |   \\$12  |   bravo             |\n",
    "| zebra stripes | are neat      |    \\$1  |   charlie           |\n",
    "| new row       | This is new   | \\$2000  |   delta             |\n",
    "\n",
    "There are some special characters in Markdown (such as the backtick, dollar sign, asterisk, hashtag). Sometimes we want to include these symbols literally. If we want to use a special character literally, we can *escape* the special character using a slash `\\`:\n",
    "\n",
    "\\` \\$ \\* \\#"
   ]
  },
  {
   "cell_type": "markdown",
   "id": "cb0aa6cc",
   "metadata": {},
   "source": [
    "# Python arithmetic"
   ]
  },
  {
   "cell_type": "markdown",
   "id": "277019ae",
   "metadata": {},
   "source": [
    "Addition:"
   ]
  },
  {
   "cell_type": "code",
   "execution_count": 1,
   "id": "5db69ab7",
   "metadata": {},
   "outputs": [
    {
     "data": {
      "text/plain": [
       "2"
      ]
     },
     "execution_count": 1,
     "metadata": {},
     "output_type": "execute_result"
    }
   ],
   "source": [
    "1 + 1"
   ]
  },
  {
   "cell_type": "code",
   "execution_count": 2,
   "id": "8e3498d6",
   "metadata": {},
   "outputs": [
    {
     "data": {
      "text/plain": [
       "98976"
      ]
     },
     "execution_count": 2,
     "metadata": {},
     "output_type": "execute_result"
    }
   ],
   "source": [
    "99999 - 1023"
   ]
  },
  {
   "cell_type": "markdown",
   "id": "da98b837",
   "metadata": {},
   "source": [
    "Multiplication:"
   ]
  },
  {
   "cell_type": "code",
   "execution_count": 3,
   "id": "f1105e35",
   "metadata": {},
   "outputs": [
    {
     "data": {
      "text/plain": [
       "6"
      ]
     },
     "execution_count": 3,
     "metadata": {},
     "output_type": "execute_result"
    }
   ],
   "source": [
    "2 * 3"
   ]
  },
  {
   "cell_type": "code",
   "execution_count": 4,
   "id": "ddbd66bf",
   "metadata": {},
   "outputs": [
    {
     "data": {
      "text/plain": [
       "22217778"
      ]
     },
     "execution_count": 4,
     "metadata": {},
     "output_type": "execute_result"
    }
   ],
   "source": [
    "9999 * 2222"
   ]
  },
  {
   "cell_type": "markdown",
   "id": "c6090599",
   "metadata": {},
   "source": [
    "Division:"
   ]
  },
  {
   "cell_type": "code",
   "execution_count": 5,
   "id": "648eac6e",
   "metadata": {},
   "outputs": [
    {
     "data": {
      "text/plain": [
       "3.6666666666666665"
      ]
     },
     "execution_count": 5,
     "metadata": {},
     "output_type": "execute_result"
    }
   ],
   "source": [
    "11 / 3"
   ]
  },
  {
   "cell_type": "markdown",
   "id": "e82a20b4",
   "metadata": {},
   "source": [
    "Notice: The division of integer 11 by integer 3 produces something that is not an integer (it is a \"floating point number\").\n",
    "Sometimes we just want the integer part of the division (i.e. the quotient in long-division).\n",
    "\n",
    "Note: `11 = 3 * 3 + 2`\n",
    "\n",
    "Floor division: (divide and drop the remainder)"
   ]
  },
  {
   "cell_type": "code",
   "execution_count": 6,
   "id": "0a5dfec0",
   "metadata": {},
   "outputs": [
    {
     "data": {
      "text/plain": [
       "3"
      ]
     },
     "execution_count": 6,
     "metadata": {},
     "output_type": "execute_result"
    }
   ],
   "source": [
    "11 // 3"
   ]
  },
  {
   "cell_type": "markdown",
   "id": "38bac332",
   "metadata": {},
   "source": [
    "Modulus: (divide and keep only the remainder)"
   ]
  },
  {
   "cell_type": "code",
   "execution_count": 7,
   "id": "9f561c02",
   "metadata": {},
   "outputs": [
    {
     "data": {
      "text/plain": [
       "2"
      ]
     },
     "execution_count": 7,
     "metadata": {},
     "output_type": "execute_result"
    }
   ],
   "source": [
    "11 % 3"
   ]
  },
  {
   "cell_type": "markdown",
   "id": "1b9f12ef",
   "metadata": {},
   "source": [
    "Exponentiation: Use a double-asterisk `**`"
   ]
  },
  {
   "cell_type": "code",
   "execution_count": 8,
   "id": "a862d974",
   "metadata": {},
   "outputs": [
    {
     "data": {
      "text/plain": [
       "8"
      ]
     },
     "execution_count": 8,
     "metadata": {},
     "output_type": "execute_result"
    }
   ],
   "source": [
    "2**3"
   ]
  },
  {
   "cell_type": "code",
   "execution_count": 9,
   "id": "394b767a",
   "metadata": {},
   "outputs": [
    {
     "data": {
      "text/plain": [
       "1267650600228229401496703205376"
      ]
     },
     "execution_count": 9,
     "metadata": {},
     "output_type": "execute_result"
    }
   ],
   "source": [
    "2**100"
   ]
  },
  {
   "cell_type": "code",
   "execution_count": 10,
   "id": "201a1ed7",
   "metadata": {},
   "outputs": [
    {
     "data": {
      "text/plain": [
       "1.2676506002282294e+30"
      ]
     },
     "execution_count": 10,
     "metadata": {},
     "output_type": "execute_result"
    }
   ],
   "source": [
    "2.0**100"
   ]
  },
  {
   "cell_type": "markdown",
   "id": "fff070a9",
   "metadata": {},
   "source": [
    "When we run `2.0**100`, we no longer an exact answer, but a floating-point approximation.\n",
    "\n",
    "`2` is an integer in Python, but `2.0` is a float. The `e+30` means we need to move the decimal point 30 places to the right."
   ]
  },
  {
   "cell_type": "markdown",
   "id": "7bbd92eb",
   "metadata": {},
   "source": [
    "# Wednesday, February 1st, 2023"
   ]
  },
  {
   "cell_type": "markdown",
   "id": "63259488",
   "metadata": {},
   "source": [
    "# Floats vs integers\n",
    "\n",
    " * integers = whole numbers without a decimal point\n",
    " * floats = numbers with a decimal point\n",
    " * operations on integers are exact\n",
    " * operations on floats are approximate\n",
    " * Integers can be arbitrary large, but floats represented in the computer only within some finite range"
   ]
  },
  {
   "cell_type": "code",
   "execution_count": 11,
   "id": "512a2b83",
   "metadata": {},
   "outputs": [
    {
     "data": {
      "text/plain": [
       "125325663996571831810755483238273420616498507508098617146349500752097059631738116432448839054351520763198615919551594076685828989467263022761790838270854579830015111246661203984624358929832571615718014704096305668097507613273663023226895250541385927158426088684494082416768617708189592286936039922311125683719215046689156738352590137241554510185855964549927575493247391132548534378497978806084951085874202011836362315727420109554782988791530088289711844550500230485638413189947132142243947334199259300735622492937419453650061490302105127920314430401636855677549136337481321811349678427076091437345045399337348611261168055929355402992823192491190360027036112283180935872775214517464013178274657100736321564606838252739601156414628445543663144696050650160812621814327062666195172701780200286645023823083185928061371310300829284071141207731280600001"
      ]
     },
     "execution_count": 11,
     "metadata": {},
     "output_type": "execute_result"
    }
   ],
   "source": [
    "7**1000"
   ]
  },
  {
   "cell_type": "code",
   "execution_count": 12,
   "id": "f079e579",
   "metadata": {},
   "outputs": [
    {
     "ename": "OverflowError",
     "evalue": "(34, 'Result too large')",
     "output_type": "error",
     "traceback": [
      "\u001b[1;31m---------------------------------------------------------------------------\u001b[0m",
      "\u001b[1;31mOverflowError\u001b[0m                             Traceback (most recent call last)",
      "\u001b[1;32m~\\AppData\\Local\\Temp/ipykernel_16560/2827094440.py\u001b[0m in \u001b[0;36m<module>\u001b[1;34m\u001b[0m\n\u001b[1;32m----> 1\u001b[1;33m \u001b[1;36m7.0\u001b[0m\u001b[1;33m**\u001b[0m\u001b[1;36m1000\u001b[0m\u001b[1;33m\u001b[0m\u001b[1;33m\u001b[0m\u001b[0m\n\u001b[0m",
      "\u001b[1;31mOverflowError\u001b[0m: (34, 'Result too large')"
     ]
    }
   ],
   "source": [
    "7.0**1000"
   ]
  },
  {
   "cell_type": "markdown",
   "id": "74571117",
   "metadata": {},
   "source": [
    "Integers can be converted into floats using the `float()` function:"
   ]
  },
  {
   "cell_type": "code",
   "execution_count": 13,
   "id": "2007e0da",
   "metadata": {},
   "outputs": [
    {
     "data": {
      "text/plain": [
       "1.2676506002282294e+30"
      ]
     },
     "execution_count": 13,
     "metadata": {},
     "output_type": "execute_result"
    }
   ],
   "source": [
    "float(2)**100"
   ]
  },
  {
   "cell_type": "markdown",
   "id": "505a6288",
   "metadata": {},
   "source": [
    "Floats can be converted into integers using the `int()` function:\n",
    "\n",
    "Note: `int()` returns the integer part of a float, i.e. it drops the decimal"
   ]
  },
  {
   "cell_type": "code",
   "execution_count": 14,
   "id": "8059c7dd",
   "metadata": {},
   "outputs": [
    {
     "data": {
      "text/plain": [
       "123"
      ]
     },
     "execution_count": 14,
     "metadata": {},
     "output_type": "execute_result"
    }
   ],
   "source": [
    "int(123.99)"
   ]
  },
  {
   "cell_type": "markdown",
   "id": "0659b550",
   "metadata": {},
   "source": [
    "The `round()` function will round a float to the nearest integer"
   ]
  },
  {
   "cell_type": "code",
   "execution_count": 15,
   "id": "7e951a46",
   "metadata": {},
   "outputs": [
    {
     "data": {
      "text/plain": [
       "124"
      ]
     },
     "execution_count": 15,
     "metadata": {},
     "output_type": "execute_result"
    }
   ],
   "source": [
    "round(123.99)"
   ]
  },
  {
   "cell_type": "markdown",
   "id": "47bb4ed9",
   "metadata": {},
   "source": [
    "## Exercise:\n",
    "\n",
    "Find two numbers `p` and `q` such that `1234567 = 11*p + q` where `0 <= q < 11`"
   ]
  },
  {
   "cell_type": "code",
   "execution_count": 16,
   "id": "c0964ba8",
   "metadata": {},
   "outputs": [
    {
     "data": {
      "text/plain": [
       "112233"
      ]
     },
     "execution_count": 16,
     "metadata": {},
     "output_type": "execute_result"
    }
   ],
   "source": [
    "1234567 // 11"
   ]
  },
  {
   "cell_type": "code",
   "execution_count": 17,
   "id": "7ec5086b",
   "metadata": {},
   "outputs": [
    {
     "data": {
      "text/plain": [
       "4"
      ]
     },
     "execution_count": 17,
     "metadata": {},
     "output_type": "execute_result"
    }
   ],
   "source": [
    "1234567 % 11"
   ]
  },
  {
   "cell_type": "code",
   "execution_count": 18,
   "id": "d1e66996",
   "metadata": {},
   "outputs": [
    {
     "data": {
      "text/plain": [
       "1234567"
      ]
     },
     "execution_count": 18,
     "metadata": {},
     "output_type": "execute_result"
    }
   ],
   "source": [
    "11 * 112233 + 4"
   ]
  },
  {
   "cell_type": "markdown",
   "id": "e70558a6",
   "metadata": {},
   "source": [
    "# Variable assignments"
   ]
  },
  {
   "cell_type": "code",
   "execution_count": 19,
   "id": "d15f39d9",
   "metadata": {},
   "outputs": [],
   "source": [
    "a = 5"
   ]
  },
  {
   "cell_type": "code",
   "execution_count": 20,
   "id": "7c92952e",
   "metadata": {},
   "outputs": [
    {
     "data": {
      "text/plain": [
       "5"
      ]
     },
     "execution_count": 20,
     "metadata": {},
     "output_type": "execute_result"
    }
   ],
   "source": [
    "a"
   ]
  },
  {
   "cell_type": "code",
   "execution_count": 21,
   "id": "7363c169",
   "metadata": {},
   "outputs": [
    {
     "data": {
      "text/plain": [
       "(112233, 4)"
      ]
     },
     "execution_count": 21,
     "metadata": {},
     "output_type": "execute_result"
    }
   ],
   "source": [
    "p = 1234567 // 11\n",
    "q = 1234567 % 11\n",
    "\n",
    "p, q"
   ]
  },
  {
   "cell_type": "code",
   "execution_count": 22,
   "id": "4a9deb71",
   "metadata": {},
   "outputs": [
    {
     "data": {
      "text/plain": [
       "1234567"
      ]
     },
     "execution_count": 22,
     "metadata": {},
     "output_type": "execute_result"
    }
   ],
   "source": [
    "11*p + q"
   ]
  },
  {
   "cell_type": "markdown",
   "id": "ad2627c2",
   "metadata": {},
   "source": [
    "As a general principle, we don't want to have to manually type in values more than once."
   ]
  },
  {
   "cell_type": "code",
   "execution_count": 23,
   "id": "d2c01b15",
   "metadata": {},
   "outputs": [
    {
     "data": {
      "text/plain": [
       "(94966, 9)"
      ]
     },
     "execution_count": 23,
     "metadata": {},
     "output_type": "execute_result"
    }
   ],
   "source": [
    "n = 1234567\n",
    "m = 13\n",
    "\n",
    "p = n // m\n",
    "q = n % m\n",
    "\n",
    "p, q"
   ]
  },
  {
   "cell_type": "code",
   "execution_count": 24,
   "id": "d8abca5e",
   "metadata": {},
   "outputs": [
    {
     "data": {
      "text/plain": [
       "1234567"
      ]
     },
     "execution_count": 24,
     "metadata": {},
     "output_type": "execute_result"
    }
   ],
   "source": [
    "p*m + q"
   ]
  },
  {
   "cell_type": "markdown",
   "id": "be3d6b2a",
   "metadata": {},
   "source": [
    "Note: Python will only keep variables in memory until the Notebook is shutdown."
   ]
  },
  {
   "cell_type": "markdown",
   "id": "c2353db5",
   "metadata": {},
   "source": [
    "Comment about arithmetic operations: Python follows PEMDAS"
   ]
  },
  {
   "cell_type": "code",
   "execution_count": 25,
   "id": "73045d3d",
   "metadata": {},
   "outputs": [],
   "source": [
    "a = 5\n",
    "b = 3\n",
    "c = 2"
   ]
  },
  {
   "cell_type": "code",
   "execution_count": 27,
   "id": "69302643",
   "metadata": {},
   "outputs": [
    {
     "data": {
      "text/plain": [
       "16"
      ]
     },
     "execution_count": 27,
     "metadata": {},
     "output_type": "execute_result"
    }
   ],
   "source": [
    "(a + b) * c"
   ]
  },
  {
   "cell_type": "code",
   "execution_count": 28,
   "id": "7c52593e",
   "metadata": {},
   "outputs": [
    {
     "data": {
      "text/plain": [
       "11"
      ]
     },
     "execution_count": 28,
     "metadata": {},
     "output_type": "execute_result"
    }
   ],
   "source": [
    "a + b*c"
   ]
  },
  {
   "cell_type": "markdown",
   "id": "46d62220",
   "metadata": {},
   "source": [
    "We can reassign variable names at any point:"
   ]
  },
  {
   "cell_type": "code",
   "execution_count": 29,
   "id": "70dd7e73",
   "metadata": {},
   "outputs": [
    {
     "data": {
      "text/plain": [
       "(5, 3, 2)"
      ]
     },
     "execution_count": 29,
     "metadata": {},
     "output_type": "execute_result"
    }
   ],
   "source": [
    "a,b,c"
   ]
  },
  {
   "cell_type": "code",
   "execution_count": 30,
   "id": "4e8540db",
   "metadata": {},
   "outputs": [],
   "source": [
    "a = -4"
   ]
  },
  {
   "cell_type": "code",
   "execution_count": 31,
   "id": "18cd4533",
   "metadata": {},
   "outputs": [
    {
     "data": {
      "text/plain": [
       "(-4, 3, 2)"
      ]
     },
     "execution_count": 31,
     "metadata": {},
     "output_type": "execute_result"
    }
   ],
   "source": [
    "a,b,c"
   ]
  },
  {
   "cell_type": "markdown",
   "id": "f1677830",
   "metadata": {},
   "source": [
    "As a general guideline, it is good practice to design Jupyter notebooks to be executed top to bottom."
   ]
  },
  {
   "cell_type": "markdown",
   "id": "22f4ed76",
   "metadata": {},
   "source": [
    "We can assign several variables at once:"
   ]
  },
  {
   "cell_type": "code",
   "execution_count": 32,
   "id": "0d5813d2",
   "metadata": {},
   "outputs": [],
   "source": [
    "a,b,c = 1,2,3"
   ]
  },
  {
   "cell_type": "code",
   "execution_count": 33,
   "id": "f24fcd8e",
   "metadata": {},
   "outputs": [
    {
     "data": {
      "text/plain": [
       "1"
      ]
     },
     "execution_count": 33,
     "metadata": {},
     "output_type": "execute_result"
    }
   ],
   "source": [
    "a"
   ]
  },
  {
   "cell_type": "code",
   "execution_count": 34,
   "id": "72d919cf",
   "metadata": {},
   "outputs": [
    {
     "data": {
      "text/plain": [
       "2"
      ]
     },
     "execution_count": 34,
     "metadata": {},
     "output_type": "execute_result"
    }
   ],
   "source": [
    "b"
   ]
  },
  {
   "cell_type": "code",
   "execution_count": 35,
   "id": "55fe186c",
   "metadata": {},
   "outputs": [
    {
     "data": {
      "text/plain": [
       "3"
      ]
     },
     "execution_count": 35,
     "metadata": {},
     "output_type": "execute_result"
    }
   ],
   "source": [
    "c"
   ]
  },
  {
   "cell_type": "markdown",
   "id": "aa46a130",
   "metadata": {},
   "source": [
    "We can also swap variables using this inline variable declaration:"
   ]
  },
  {
   "cell_type": "code",
   "execution_count": 36,
   "id": "718a01cf",
   "metadata": {},
   "outputs": [
    {
     "data": {
      "text/plain": [
       "(1, 2)"
      ]
     },
     "execution_count": 36,
     "metadata": {},
     "output_type": "execute_result"
    }
   ],
   "source": [
    "a, b"
   ]
  },
  {
   "cell_type": "code",
   "execution_count": 37,
   "id": "98161b36",
   "metadata": {},
   "outputs": [],
   "source": [
    "a,b = b,a"
   ]
  },
  {
   "cell_type": "code",
   "execution_count": 38,
   "id": "8aa329ce",
   "metadata": {},
   "outputs": [
    {
     "data": {
      "text/plain": [
       "2"
      ]
     },
     "execution_count": 38,
     "metadata": {},
     "output_type": "execute_result"
    }
   ],
   "source": [
    "a"
   ]
  },
  {
   "cell_type": "code",
   "execution_count": 39,
   "id": "2e2aa458",
   "metadata": {},
   "outputs": [
    {
     "data": {
      "text/plain": [
       "1"
      ]
     },
     "execution_count": 39,
     "metadata": {},
     "output_type": "execute_result"
    }
   ],
   "source": [
    "b"
   ]
  },
  {
   "cell_type": "markdown",
   "id": "bd0595eb",
   "metadata": {},
   "source": [
    "If we didn't do this inline, we would need a third temprary variable:"
   ]
  },
  {
   "cell_type": "code",
   "execution_count": 42,
   "id": "5d173350",
   "metadata": {},
   "outputs": [
    {
     "data": {
      "text/plain": [
       "(2, 1)"
      ]
     },
     "execution_count": 42,
     "metadata": {},
     "output_type": "execute_result"
    }
   ],
   "source": [
    "a,b = 1, 2\n",
    "\n",
    "temp = a\n",
    "a = b\n",
    "b = temp\n",
    "\n",
    "a,b"
   ]
  },
  {
   "cell_type": "markdown",
   "id": "92c719b6",
   "metadata": {},
   "source": [
    "Variable names must begin with a non-numeric character:"
   ]
  },
  {
   "cell_type": "code",
   "execution_count": 43,
   "id": "ee315758",
   "metadata": {},
   "outputs": [],
   "source": [
    "_variable = 5\n",
    "a12 = -4"
   ]
  },
  {
   "cell_type": "code",
   "execution_count": 44,
   "id": "22505536",
   "metadata": {},
   "outputs": [
    {
     "data": {
      "text/plain": [
       "5"
      ]
     },
     "execution_count": 44,
     "metadata": {},
     "output_type": "execute_result"
    }
   ],
   "source": [
    "_variable"
   ]
  },
  {
   "cell_type": "code",
   "execution_count": 45,
   "id": "e8fe58a8",
   "metadata": {},
   "outputs": [
    {
     "data": {
      "text/plain": [
       "-4"
      ]
     },
     "execution_count": 45,
     "metadata": {},
     "output_type": "execute_result"
    }
   ],
   "source": [
    "a12"
   ]
  },
  {
   "cell_type": "code",
   "execution_count": 46,
   "id": "07d6b413",
   "metadata": {},
   "outputs": [
    {
     "ename": "SyntaxError",
     "evalue": "invalid syntax (Temp/ipykernel_16560/3329326550.py, line 1)",
     "output_type": "error",
     "traceback": [
      "\u001b[1;36m  File \u001b[1;32m\"C:\\Users\\Luke\\AppData\\Local\\Temp/ipykernel_16560/3329326550.py\"\u001b[1;36m, line \u001b[1;32m1\u001b[0m\n\u001b[1;33m    1variable\u001b[0m\n\u001b[1;37m     ^\u001b[0m\n\u001b[1;31mSyntaxError\u001b[0m\u001b[1;31m:\u001b[0m invalid syntax\n"
     ]
    }
   ],
   "source": [
    "1variable"
   ]
  },
  {
   "cell_type": "markdown",
   "id": "f2800164",
   "metadata": {},
   "source": [
    "# The `print()` function"
   ]
  },
  {
   "cell_type": "markdown",
   "id": "cd7eefbb",
   "metadata": {},
   "source": [
    "When we execute a cell, Jupyter will display the output for the last command that was run."
   ]
  },
  {
   "cell_type": "code",
   "execution_count": 47,
   "id": "db3b9397",
   "metadata": {},
   "outputs": [
    {
     "data": {
      "text/plain": [
       "3"
      ]
     },
     "execution_count": 47,
     "metadata": {},
     "output_type": "execute_result"
    }
   ],
   "source": [
    "a = 1\n",
    "b = 2\n",
    "c = 3\n",
    "\n",
    "a\n",
    "b\n",
    "c"
   ]
  },
  {
   "cell_type": "markdown",
   "id": "91aa4a68",
   "metadata": {},
   "source": [
    "The `print()` command will write the output to the screen regardless of where it's run in the cell"
   ]
  },
  {
   "cell_type": "code",
   "execution_count": 49,
   "id": "11333b47",
   "metadata": {},
   "outputs": [
    {
     "name": "stdout",
     "output_type": "stream",
     "text": [
      "1\n",
      "2\n",
      "3\n",
      "1 2 3\n"
     ]
    }
   ],
   "source": [
    "a = 1\n",
    "b = 2\n",
    "c = 3\n",
    "\n",
    "print(a)\n",
    "print(b)\n",
    "print(c)\n",
    "print(a,b,c)"
   ]
  },
  {
   "cell_type": "markdown",
   "id": "8c6c8d4d",
   "metadata": {},
   "source": [
    "## Exercise:\n",
    "\n",
    "Define four variables, `a,b,c,d` to be equal to `1,2,3,4`.\n",
    "Update these variable definitions so that `a = 4`, `b = 3`, `c = 2`, and `d = 1` without explicitly typing in these declarations (i.e. using inline swaps or a temporary variable)."
   ]
  },
  {
   "cell_type": "code",
   "execution_count": 51,
   "id": "e3802fcd",
   "metadata": {},
   "outputs": [
    {
     "name": "stdout",
     "output_type": "stream",
     "text": [
      "4 3 2 1\n"
     ]
    }
   ],
   "source": [
    "a,b,c,d = 1,2,3,4\n",
    "\n",
    "old_a = a\n",
    "old_b = b\n",
    "a = d\n",
    "b = c\n",
    "c = old_b\n",
    "d = old_a\n",
    "\n",
    "print(a,b,c,d)"
   ]
  },
  {
   "cell_type": "markdown",
   "id": "870cda6b",
   "metadata": {},
   "source": [
    "General guideline: It is useful for variable names to have some meaning to them"
   ]
  },
  {
   "cell_type": "code",
   "execution_count": 52,
   "id": "853af2d6",
   "metadata": {},
   "outputs": [
    {
     "name": "stdout",
     "output_type": "stream",
     "text": [
      "4 3 2 1\n"
     ]
    }
   ],
   "source": [
    "a,b,c,d = 1,2,3,4\n",
    "\n",
    "a,b,c,d = d,c,b,a\n",
    "\n",
    "print(a,b,c,d)"
   ]
  },
  {
   "cell_type": "markdown",
   "id": "16a5c20a",
   "metadata": {},
   "source": [
    "## Shortcuts for updating variables:"
   ]
  },
  {
   "cell_type": "code",
   "execution_count": 53,
   "id": "21e922e5",
   "metadata": {},
   "outputs": [],
   "source": [
    "a = 1"
   ]
  },
  {
   "cell_type": "code",
   "execution_count": 70,
   "id": "a905c3c0",
   "metadata": {},
   "outputs": [],
   "source": [
    "a = a + 1"
   ]
  },
  {
   "cell_type": "code",
   "execution_count": 71,
   "id": "1ac09378",
   "metadata": {},
   "outputs": [
    {
     "data": {
      "text/plain": [
       "10"
      ]
     },
     "execution_count": 71,
     "metadata": {},
     "output_type": "execute_result"
    }
   ],
   "source": [
    "a"
   ]
  },
  {
   "cell_type": "markdown",
   "id": "9644b451",
   "metadata": {},
   "source": [
    "Shortcut: we can `a += 1` as a shorthand for `a = a+1`"
   ]
  },
  {
   "cell_type": "code",
   "execution_count": 82,
   "id": "bdbeaf6d",
   "metadata": {},
   "outputs": [],
   "source": [
    "a = 1"
   ]
  },
  {
   "cell_type": "code",
   "execution_count": 83,
   "id": "03ec973c",
   "metadata": {},
   "outputs": [],
   "source": [
    "a += 3"
   ]
  },
  {
   "cell_type": "code",
   "execution_count": 84,
   "id": "7cb59ab8",
   "metadata": {},
   "outputs": [
    {
     "data": {
      "text/plain": [
       "4"
      ]
     },
     "execution_count": 84,
     "metadata": {},
     "output_type": "execute_result"
    }
   ],
   "source": [
    "a"
   ]
  },
  {
   "cell_type": "markdown",
   "id": "95652efb",
   "metadata": {},
   "source": [
    "We can do this for arithematic operations:"
   ]
  },
  {
   "cell_type": "code",
   "execution_count": 95,
   "id": "3c2c44ac",
   "metadata": {},
   "outputs": [],
   "source": [
    "a = 1"
   ]
  },
  {
   "cell_type": "code",
   "execution_count": 96,
   "id": "786abd6a",
   "metadata": {},
   "outputs": [],
   "source": [
    "a *= 4"
   ]
  },
  {
   "cell_type": "code",
   "execution_count": 97,
   "id": "9d955a73",
   "metadata": {},
   "outputs": [
    {
     "data": {
      "text/plain": [
       "4"
      ]
     },
     "execution_count": 97,
     "metadata": {},
     "output_type": "execute_result"
    }
   ],
   "source": [
    "a"
   ]
  },
  {
   "cell_type": "code",
   "execution_count": 98,
   "id": "3a9d6951",
   "metadata": {},
   "outputs": [],
   "source": [
    "a = 1"
   ]
  },
  {
   "cell_type": "code",
   "execution_count": 101,
   "id": "9432db85",
   "metadata": {},
   "outputs": [],
   "source": [
    "a /= 2"
   ]
  },
  {
   "cell_type": "code",
   "execution_count": 102,
   "id": "811e4179",
   "metadata": {},
   "outputs": [
    {
     "data": {
      "text/plain": [
       "0.25"
      ]
     },
     "execution_count": 102,
     "metadata": {},
     "output_type": "execute_result"
    }
   ],
   "source": [
    "a"
   ]
  },
  {
   "cell_type": "markdown",
   "id": "8e460579",
   "metadata": {},
   "source": [
    "# Strings in Python"
   ]
  },
  {
   "cell_type": "markdown",
   "id": "42c863f6",
   "metadata": {},
   "source": [
    "Text strings are created by enclosing text in either single or double quotes:"
   ]
  },
  {
   "cell_type": "code",
   "execution_count": 103,
   "id": "0e6691a1",
   "metadata": {},
   "outputs": [
    {
     "data": {
      "text/plain": [
       "'MTH 337'"
      ]
     },
     "execution_count": 103,
     "metadata": {},
     "output_type": "execute_result"
    }
   ],
   "source": [
    "s = 'MTH 337'\n",
    "s"
   ]
  },
  {
   "cell_type": "markdown",
   "id": "f7d313be",
   "metadata": {},
   "source": [
    "In most cases, we want to print a string rather than output contents of a string variable, so that any special characters are rendered."
   ]
  },
  {
   "cell_type": "code",
   "execution_count": 104,
   "id": "8825c947",
   "metadata": {},
   "outputs": [
    {
     "name": "stdout",
     "output_type": "stream",
     "text": [
      "MTH 337\n"
     ]
    }
   ],
   "source": [
    "print(s)"
   ]
  },
  {
   "cell_type": "markdown",
   "id": "cb33340e",
   "metadata": {},
   "source": [
    "We can perform various operations operations on strings including addition and multiplication."
   ]
  },
  {
   "cell_type": "markdown",
   "id": "66f83bf3",
   "metadata": {},
   "source": [
    "Adding strings together concatenates them."
   ]
  },
  {
   "cell_type": "code",
   "execution_count": 107,
   "id": "6ac6686d",
   "metadata": {},
   "outputs": [
    {
     "name": "stdout",
     "output_type": "stream",
     "text": [
      "Welcome to MTH 337!\n"
     ]
    }
   ],
   "source": [
    "s1 = 'Welcome to'\n",
    "\n",
    "print(s1 + ' ' + s + '!')"
   ]
  },
  {
   "cell_type": "markdown",
   "id": "b0d6dc78",
   "metadata": {},
   "source": [
    "Python cannot add strings and integers"
   ]
  },
  {
   "cell_type": "code",
   "execution_count": 108,
   "id": "629b4c7b",
   "metadata": {},
   "outputs": [
    {
     "ename": "TypeError",
     "evalue": "can only concatenate str (not \"int\") to str",
     "output_type": "error",
     "traceback": [
      "\u001b[1;31m---------------------------------------------------------------------------\u001b[0m",
      "\u001b[1;31mTypeError\u001b[0m                                 Traceback (most recent call last)",
      "\u001b[1;32m~\\AppData\\Local\\Temp/ipykernel_16560/1745472773.py\u001b[0m in \u001b[0;36m<module>\u001b[1;34m\u001b[0m\n\u001b[1;32m----> 1\u001b[1;33m \u001b[0mprint\u001b[0m\u001b[1;33m(\u001b[0m\u001b[0ms1\u001b[0m \u001b[1;33m+\u001b[0m \u001b[1;36m337\u001b[0m\u001b[1;33m)\u001b[0m\u001b[1;33m\u001b[0m\u001b[1;33m\u001b[0m\u001b[0m\n\u001b[0m",
      "\u001b[1;31mTypeError\u001b[0m: can only concatenate str (not \"int\") to str"
     ]
    }
   ],
   "source": [
    "print(s1 + 337)"
   ]
  },
  {
   "cell_type": "markdown",
   "id": "84211a5e",
   "metadata": {},
   "source": [
    "We can multiply strings by positive integers to concatenate several copies"
   ]
  },
  {
   "cell_type": "code",
   "execution_count": 109,
   "id": "0457d443",
   "metadata": {},
   "outputs": [
    {
     "data": {
      "text/plain": [
       "'MTH 337MTH 337MTH 337'"
      ]
     },
     "execution_count": 109,
     "metadata": {},
     "output_type": "execute_result"
    }
   ],
   "source": [
    "s * 3"
   ]
  },
  {
   "cell_type": "markdown",
   "id": "990b5ec8",
   "metadata": {},
   "source": [
    "We cannot multiply one string by another"
   ]
  },
  {
   "cell_type": "code",
   "execution_count": 110,
   "id": "853865e2",
   "metadata": {},
   "outputs": [
    {
     "ename": "TypeError",
     "evalue": "can't multiply sequence by non-int of type 'str'",
     "output_type": "error",
     "traceback": [
      "\u001b[1;31m---------------------------------------------------------------------------\u001b[0m",
      "\u001b[1;31mTypeError\u001b[0m                                 Traceback (most recent call last)",
      "\u001b[1;32m~\\AppData\\Local\\Temp/ipykernel_16560/3416941459.py\u001b[0m in \u001b[0;36m<module>\u001b[1;34m\u001b[0m\n\u001b[1;32m----> 1\u001b[1;33m \u001b[0mprint\u001b[0m\u001b[1;33m(\u001b[0m\u001b[0ms\u001b[0m \u001b[1;33m*\u001b[0m \u001b[0ms1\u001b[0m\u001b[1;33m)\u001b[0m\u001b[1;33m\u001b[0m\u001b[1;33m\u001b[0m\u001b[0m\n\u001b[0m",
      "\u001b[1;31mTypeError\u001b[0m: can't multiply sequence by non-int of type 'str'"
     ]
    }
   ],
   "source": [
    "print(s * s1)"
   ]
  },
  {
   "cell_type": "markdown",
   "id": "7712b052",
   "metadata": {},
   "source": [
    "We can define multiline strings using triple (single) quotes:"
   ]
  },
  {
   "cell_type": "code",
   "execution_count": 111,
   "id": "4a0a7218",
   "metadata": {},
   "outputs": [
    {
     "ename": "SyntaxError",
     "evalue": "EOL while scanning string literal (Temp/ipykernel_16560/1982315522.py, line 1)",
     "output_type": "error",
     "traceback": [
      "\u001b[1;36m  File \u001b[1;32m\"C:\\Users\\Luke\\AppData\\Local\\Temp/ipykernel_16560/1982315522.py\"\u001b[1;36m, line \u001b[1;32m1\u001b[0m\n\u001b[1;33m    s = 'this is not\u001b[0m\n\u001b[1;37m                    ^\u001b[0m\n\u001b[1;31mSyntaxError\u001b[0m\u001b[1;31m:\u001b[0m EOL while scanning string literal\n"
     ]
    }
   ],
   "source": [
    "s = 'this is not\n",
    "going to work\n",
    "as a multiline string'"
   ]
  },
  {
   "cell_type": "code",
   "execution_count": 112,
   "id": "5b18d934",
   "metadata": {},
   "outputs": [
    {
     "name": "stdout",
     "output_type": "stream",
     "text": [
      "this is\n",
      "going to work\n",
      "as a multline string\n"
     ]
    }
   ],
   "source": [
    "s = '''this is\n",
    "going to work\n",
    "as a multline string'''\n",
    "\n",
    "print(s)"
   ]
  },
  {
   "cell_type": "code",
   "execution_count": 113,
   "id": "b6eb299a",
   "metadata": {},
   "outputs": [
    {
     "data": {
      "text/plain": [
       "'this is\\ngoing to work\\nas a multline string'"
      ]
     },
     "execution_count": 113,
     "metadata": {},
     "output_type": "execute_result"
    }
   ],
   "source": [
    "s"
   ]
  },
  {
   "cell_type": "markdown",
   "id": "bc338fb7",
   "metadata": {},
   "source": [
    "We can convert an integer to a string using the `str()` command:"
   ]
  },
  {
   "cell_type": "code",
   "execution_count": 114,
   "id": "15d96be3",
   "metadata": {},
   "outputs": [
    {
     "data": {
      "text/plain": [
       "'123'"
      ]
     },
     "execution_count": 114,
     "metadata": {},
     "output_type": "execute_result"
    }
   ],
   "source": [
    "s = str(123)\n",
    "\n",
    "s"
   ]
  },
  {
   "cell_type": "code",
   "execution_count": 115,
   "id": "45f1f790",
   "metadata": {},
   "outputs": [
    {
     "name": "stdout",
     "output_type": "stream",
     "text": [
      "123\n"
     ]
    }
   ],
   "source": [
    "print(s)"
   ]
  },
  {
   "cell_type": "code",
   "execution_count": 117,
   "id": "9e01e718",
   "metadata": {},
   "outputs": [
    {
     "name": "stdout",
     "output_type": "stream",
     "text": [
      "Your score in MTH 337 is 97 points.\n"
     ]
    }
   ],
   "source": [
    "print('Your score in MTH ' + str(337) + ' is ' + str(97) + ' points.')"
   ]
  },
  {
   "cell_type": "markdown",
   "id": "9f684637",
   "metadata": {},
   "source": [
    "## String formatting"
   ]
  },
  {
   "cell_type": "code",
   "execution_count": 123,
   "id": "828947a9",
   "metadata": {},
   "outputs": [
    {
     "name": "stdout",
     "output_type": "stream",
     "text": [
      "Your score in MTH 337 is 97 points. Test 337\n"
     ]
    }
   ],
   "source": [
    "s = 'Your score in MTH {0} is {1} points. Test {0}'.format(337, 97)\n",
    "\n",
    "print(s)"
   ]
  },
  {
   "cell_type": "markdown",
   "id": "ca6c91ca",
   "metadata": {},
   "source": [
    "# Modules"
   ]
  },
  {
   "cell_type": "markdown",
   "id": "8b0f639a",
   "metadata": {},
   "source": [
    "Often times, we want to perform more complicated operations. The command `import (...something...)` can be used to bring a library into our environment."
   ]
  },
  {
   "cell_type": "code",
   "execution_count": 125,
   "id": "a6de6237",
   "metadata": {},
   "outputs": [],
   "source": [
    "import math"
   ]
  },
  {
   "cell_type": "markdown",
   "id": "b3ec8914",
   "metadata": {},
   "source": [
    "This command brings in many useful math functions. We can see what functions are available using the `dir()`"
   ]
  },
  {
   "cell_type": "code",
   "execution_count": 126,
   "id": "17cc331e",
   "metadata": {},
   "outputs": [
    {
     "data": {
      "text/plain": [
       "['__doc__',\n",
       " '__loader__',\n",
       " '__name__',\n",
       " '__package__',\n",
       " '__spec__',\n",
       " 'acos',\n",
       " 'acosh',\n",
       " 'asin',\n",
       " 'asinh',\n",
       " 'atan',\n",
       " 'atan2',\n",
       " 'atanh',\n",
       " 'ceil',\n",
       " 'comb',\n",
       " 'copysign',\n",
       " 'cos',\n",
       " 'cosh',\n",
       " 'degrees',\n",
       " 'dist',\n",
       " 'e',\n",
       " 'erf',\n",
       " 'erfc',\n",
       " 'exp',\n",
       " 'expm1',\n",
       " 'fabs',\n",
       " 'factorial',\n",
       " 'floor',\n",
       " 'fmod',\n",
       " 'frexp',\n",
       " 'fsum',\n",
       " 'gamma',\n",
       " 'gcd',\n",
       " 'hypot',\n",
       " 'inf',\n",
       " 'isclose',\n",
       " 'isfinite',\n",
       " 'isinf',\n",
       " 'isnan',\n",
       " 'isqrt',\n",
       " 'lcm',\n",
       " 'ldexp',\n",
       " 'lgamma',\n",
       " 'log',\n",
       " 'log10',\n",
       " 'log1p',\n",
       " 'log2',\n",
       " 'modf',\n",
       " 'nan',\n",
       " 'nextafter',\n",
       " 'perm',\n",
       " 'pi',\n",
       " 'pow',\n",
       " 'prod',\n",
       " 'radians',\n",
       " 'remainder',\n",
       " 'sin',\n",
       " 'sinh',\n",
       " 'sqrt',\n",
       " 'tan',\n",
       " 'tanh',\n",
       " 'tau',\n",
       " 'trunc',\n",
       " 'ulp']"
      ]
     },
     "execution_count": 126,
     "metadata": {},
     "output_type": "execute_result"
    }
   ],
   "source": [
    "dir(math)"
   ]
  },
  {
   "cell_type": "markdown",
   "id": "b8eb8dee",
   "metadata": {},
   "source": [
    "We can access these functions using `math.(function)`"
   ]
  },
  {
   "cell_type": "code",
   "execution_count": 127,
   "id": "5ecdd6d0",
   "metadata": {},
   "outputs": [
    {
     "data": {
      "text/plain": [
       "<function math.cos(x, /)>"
      ]
     },
     "execution_count": 127,
     "metadata": {},
     "output_type": "execute_result"
    }
   ],
   "source": [
    "math.cos"
   ]
  },
  {
   "cell_type": "code",
   "execution_count": 128,
   "id": "65dc4889",
   "metadata": {},
   "outputs": [
    {
     "data": {
      "text/plain": [
       "1.0"
      ]
     },
     "execution_count": 128,
     "metadata": {},
     "output_type": "execute_result"
    }
   ],
   "source": [
    "math.cos(0)"
   ]
  },
  {
   "cell_type": "code",
   "execution_count": 129,
   "id": "4e897df2",
   "metadata": {},
   "outputs": [
    {
     "data": {
      "text/plain": [
       "0.0"
      ]
     },
     "execution_count": 129,
     "metadata": {},
     "output_type": "execute_result"
    }
   ],
   "source": [
    "math.sin(0)"
   ]
  },
  {
   "cell_type": "code",
   "execution_count": 130,
   "id": "85d44580",
   "metadata": {},
   "outputs": [
    {
     "data": {
      "text/plain": [
       "-0.4480736161291701"
      ]
     },
     "execution_count": 130,
     "metadata": {},
     "output_type": "execute_result"
    }
   ],
   "source": [
    "math.cos(90)"
   ]
  },
  {
   "cell_type": "markdown",
   "id": "b866a91d",
   "metadata": {},
   "source": [
    "It looks like `math.cos` is working with radians rather than degrees."
   ]
  },
  {
   "cell_type": "code",
   "execution_count": 131,
   "id": "b099b31f",
   "metadata": {},
   "outputs": [
    {
     "name": "stdout",
     "output_type": "stream",
     "text": [
      "Help on built-in function cos in module math:\n",
      "\n",
      "cos(x, /)\n",
      "    Return the cosine of x (measured in radians).\n",
      "\n"
     ]
    }
   ],
   "source": [
    "help(math.cos)"
   ]
  },
  {
   "cell_type": "code",
   "execution_count": 133,
   "id": "e00e96f2",
   "metadata": {},
   "outputs": [
    {
     "name": "stdout",
     "output_type": "stream",
     "text": [
      "Help on built-in function radians in module math:\n",
      "\n",
      "radians(x, /)\n",
      "    Convert angle x from degrees to radians.\n",
      "\n"
     ]
    }
   ],
   "source": [
    "help(math.radians)"
   ]
  },
  {
   "cell_type": "code",
   "execution_count": 134,
   "id": "3043cc00",
   "metadata": {},
   "outputs": [
    {
     "data": {
      "text/plain": [
       "0.7071067811865476"
      ]
     },
     "execution_count": 134,
     "metadata": {},
     "output_type": "execute_result"
    }
   ],
   "source": [
    "math.cos(math.radians(45))"
   ]
  },
  {
   "cell_type": "code",
   "execution_count": 135,
   "id": "e7d22fd2",
   "metadata": {},
   "outputs": [
    {
     "data": {
      "text/plain": [
       "3.141592653589793"
      ]
     },
     "execution_count": 135,
     "metadata": {},
     "output_type": "execute_result"
    }
   ],
   "source": [
    "math.pi"
   ]
  },
  {
   "cell_type": "code",
   "execution_count": 136,
   "id": "845f2cca",
   "metadata": {
    "scrolled": true
   },
   "outputs": [
    {
     "name": "stdout",
     "output_type": "stream",
     "text": [
      "Help on built-in module math:\n",
      "\n",
      "NAME\n",
      "    math\n",
      "\n",
      "DESCRIPTION\n",
      "    This module provides access to the mathematical functions\n",
      "    defined by the C standard.\n",
      "\n",
      "FUNCTIONS\n",
      "    acos(x, /)\n",
      "        Return the arc cosine (measured in radians) of x.\n",
      "        \n",
      "        The result is between 0 and pi.\n",
      "    \n",
      "    acosh(x, /)\n",
      "        Return the inverse hyperbolic cosine of x.\n",
      "    \n",
      "    asin(x, /)\n",
      "        Return the arc sine (measured in radians) of x.\n",
      "        \n",
      "        The result is between -pi/2 and pi/2.\n",
      "    \n",
      "    asinh(x, /)\n",
      "        Return the inverse hyperbolic sine of x.\n",
      "    \n",
      "    atan(x, /)\n",
      "        Return the arc tangent (measured in radians) of x.\n",
      "        \n",
      "        The result is between -pi/2 and pi/2.\n",
      "    \n",
      "    atan2(y, x, /)\n",
      "        Return the arc tangent (measured in radians) of y/x.\n",
      "        \n",
      "        Unlike atan(y/x), the signs of both x and y are considered.\n",
      "    \n",
      "    atanh(x, /)\n",
      "        Return the inverse hyperbolic tangent of x.\n",
      "    \n",
      "    ceil(x, /)\n",
      "        Return the ceiling of x as an Integral.\n",
      "        \n",
      "        This is the smallest integer >= x.\n",
      "    \n",
      "    comb(n, k, /)\n",
      "        Number of ways to choose k items from n items without repetition and without order.\n",
      "        \n",
      "        Evaluates to n! / (k! * (n - k)!) when k <= n and evaluates\n",
      "        to zero when k > n.\n",
      "        \n",
      "        Also called the binomial coefficient because it is equivalent\n",
      "        to the coefficient of k-th term in polynomial expansion of the\n",
      "        expression (1 + x)**n.\n",
      "        \n",
      "        Raises TypeError if either of the arguments are not integers.\n",
      "        Raises ValueError if either of the arguments are negative.\n",
      "    \n",
      "    copysign(x, y, /)\n",
      "        Return a float with the magnitude (absolute value) of x but the sign of y.\n",
      "        \n",
      "        On platforms that support signed zeros, copysign(1.0, -0.0)\n",
      "        returns -1.0.\n",
      "    \n",
      "    cos(x, /)\n",
      "        Return the cosine of x (measured in radians).\n",
      "    \n",
      "    cosh(x, /)\n",
      "        Return the hyperbolic cosine of x.\n",
      "    \n",
      "    degrees(x, /)\n",
      "        Convert angle x from radians to degrees.\n",
      "    \n",
      "    dist(p, q, /)\n",
      "        Return the Euclidean distance between two points p and q.\n",
      "        \n",
      "        The points should be specified as sequences (or iterables) of\n",
      "        coordinates.  Both inputs must have the same dimension.\n",
      "        \n",
      "        Roughly equivalent to:\n",
      "            sqrt(sum((px - qx) ** 2.0 for px, qx in zip(p, q)))\n",
      "    \n",
      "    erf(x, /)\n",
      "        Error function at x.\n",
      "    \n",
      "    erfc(x, /)\n",
      "        Complementary error function at x.\n",
      "    \n",
      "    exp(x, /)\n",
      "        Return e raised to the power of x.\n",
      "    \n",
      "    expm1(x, /)\n",
      "        Return exp(x)-1.\n",
      "        \n",
      "        This function avoids the loss of precision involved in the direct evaluation of exp(x)-1 for small x.\n",
      "    \n",
      "    fabs(x, /)\n",
      "        Return the absolute value of the float x.\n",
      "    \n",
      "    factorial(x, /)\n",
      "        Find x!.\n",
      "        \n",
      "        Raise a ValueError if x is negative or non-integral.\n",
      "    \n",
      "    floor(x, /)\n",
      "        Return the floor of x as an Integral.\n",
      "        \n",
      "        This is the largest integer <= x.\n",
      "    \n",
      "    fmod(x, y, /)\n",
      "        Return fmod(x, y), according to platform C.\n",
      "        \n",
      "        x % y may differ.\n",
      "    \n",
      "    frexp(x, /)\n",
      "        Return the mantissa and exponent of x, as pair (m, e).\n",
      "        \n",
      "        m is a float and e is an int, such that x = m * 2.**e.\n",
      "        If x is 0, m and e are both 0.  Else 0.5 <= abs(m) < 1.0.\n",
      "    \n",
      "    fsum(seq, /)\n",
      "        Return an accurate floating point sum of values in the iterable seq.\n",
      "        \n",
      "        Assumes IEEE-754 floating point arithmetic.\n",
      "    \n",
      "    gamma(x, /)\n",
      "        Gamma function at x.\n",
      "    \n",
      "    gcd(*integers)\n",
      "        Greatest Common Divisor.\n",
      "    \n",
      "    hypot(...)\n",
      "        hypot(*coordinates) -> value\n",
      "        \n",
      "        Multidimensional Euclidean distance from the origin to a point.\n",
      "        \n",
      "        Roughly equivalent to:\n",
      "            sqrt(sum(x**2 for x in coordinates))\n",
      "        \n",
      "        For a two dimensional point (x, y), gives the hypotenuse\n",
      "        using the Pythagorean theorem:  sqrt(x*x + y*y).\n",
      "        \n",
      "        For example, the hypotenuse of a 3/4/5 right triangle is:\n",
      "        \n",
      "            >>> hypot(3.0, 4.0)\n",
      "            5.0\n",
      "    \n",
      "    isclose(a, b, *, rel_tol=1e-09, abs_tol=0.0)\n",
      "        Determine whether two floating point numbers are close in value.\n",
      "        \n",
      "          rel_tol\n",
      "            maximum difference for being considered \"close\", relative to the\n",
      "            magnitude of the input values\n",
      "          abs_tol\n",
      "            maximum difference for being considered \"close\", regardless of the\n",
      "            magnitude of the input values\n",
      "        \n",
      "        Return True if a is close in value to b, and False otherwise.\n",
      "        \n",
      "        For the values to be considered close, the difference between them\n",
      "        must be smaller than at least one of the tolerances.\n",
      "        \n",
      "        -inf, inf and NaN behave similarly to the IEEE 754 Standard.  That\n",
      "        is, NaN is not close to anything, even itself.  inf and -inf are\n",
      "        only close to themselves.\n",
      "    \n",
      "    isfinite(x, /)\n",
      "        Return True if x is neither an infinity nor a NaN, and False otherwise.\n",
      "    \n",
      "    isinf(x, /)\n",
      "        Return True if x is a positive or negative infinity, and False otherwise.\n",
      "    \n",
      "    isnan(x, /)\n",
      "        Return True if x is a NaN (not a number), and False otherwise.\n",
      "    \n",
      "    isqrt(n, /)\n",
      "        Return the integer part of the square root of the input.\n",
      "    \n",
      "    lcm(*integers)\n",
      "        Least Common Multiple.\n",
      "    \n",
      "    ldexp(x, i, /)\n",
      "        Return x * (2**i).\n",
      "        \n",
      "        This is essentially the inverse of frexp().\n",
      "    \n",
      "    lgamma(x, /)\n",
      "        Natural logarithm of absolute value of Gamma function at x.\n",
      "    \n",
      "    log(...)\n",
      "        log(x, [base=math.e])\n",
      "        Return the logarithm of x to the given base.\n",
      "        \n",
      "        If the base not specified, returns the natural logarithm (base e) of x.\n",
      "    \n",
      "    log10(x, /)\n",
      "        Return the base 10 logarithm of x.\n",
      "    \n",
      "    log1p(x, /)\n",
      "        Return the natural logarithm of 1+x (base e).\n",
      "        \n",
      "        The result is computed in a way which is accurate for x near zero.\n",
      "    \n",
      "    log2(x, /)\n",
      "        Return the base 2 logarithm of x.\n",
      "    \n",
      "    modf(x, /)\n",
      "        Return the fractional and integer parts of x.\n",
      "        \n",
      "        Both results carry the sign of x and are floats.\n",
      "    \n",
      "    nextafter(x, y, /)\n",
      "        Return the next floating-point value after x towards y.\n",
      "    \n",
      "    perm(n, k=None, /)\n",
      "        Number of ways to choose k items from n items without repetition and with order.\n",
      "        \n",
      "        Evaluates to n! / (n - k)! when k <= n and evaluates\n",
      "        to zero when k > n.\n",
      "        \n",
      "        If k is not specified or is None, then k defaults to n\n",
      "        and the function returns n!.\n",
      "        \n",
      "        Raises TypeError if either of the arguments are not integers.\n",
      "        Raises ValueError if either of the arguments are negative.\n",
      "    \n",
      "    pow(x, y, /)\n",
      "        Return x**y (x to the power of y).\n",
      "    \n",
      "    prod(iterable, /, *, start=1)\n",
      "        Calculate the product of all the elements in the input iterable.\n",
      "        \n",
      "        The default start value for the product is 1.\n",
      "        \n",
      "        When the iterable is empty, return the start value.  This function is\n",
      "        intended specifically for use with numeric values and may reject\n",
      "        non-numeric types.\n",
      "    \n",
      "    radians(x, /)\n",
      "        Convert angle x from degrees to radians.\n",
      "    \n",
      "    remainder(x, y, /)\n",
      "        Difference between x and the closest integer multiple of y.\n",
      "        \n",
      "        Return x - n*y where n*y is the closest integer multiple of y.\n",
      "        In the case where x is exactly halfway between two multiples of\n",
      "        y, the nearest even value of n is used. The result is always exact.\n",
      "    \n",
      "    sin(x, /)\n",
      "        Return the sine of x (measured in radians).\n",
      "    \n",
      "    sinh(x, /)\n",
      "        Return the hyperbolic sine of x.\n",
      "    \n",
      "    sqrt(x, /)\n",
      "        Return the square root of x.\n",
      "    \n",
      "    tan(x, /)\n",
      "        Return the tangent of x (measured in radians).\n",
      "    \n",
      "    tanh(x, /)\n",
      "        Return the hyperbolic tangent of x.\n",
      "    \n",
      "    trunc(x, /)\n",
      "        Truncates the Real x to the nearest Integral toward 0.\n",
      "        \n",
      "        Uses the __trunc__ magic method.\n",
      "    \n",
      "    ulp(x, /)\n",
      "        Return the value of the least significant bit of the float x.\n",
      "\n",
      "DATA\n",
      "    e = 2.718281828459045\n",
      "    inf = inf\n",
      "    nan = nan\n",
      "    pi = 3.141592653589793\n",
      "    tau = 6.283185307179586\n",
      "\n",
      "FILE\n",
      "    (built-in)\n",
      "\n",
      "\n"
     ]
    }
   ],
   "source": [
    "help(math)"
   ]
  },
  {
   "cell_type": "markdown",
   "id": "7dc5b5d5",
   "metadata": {},
   "source": [
    "When we import the module in this way, i.e. `import math`, then whenver we access functions from that module, we have \"dig\" back in to find them."
   ]
  },
  {
   "cell_type": "code",
   "execution_count": 137,
   "id": "b036149c",
   "metadata": {},
   "outputs": [
    {
     "ename": "NameError",
     "evalue": "name 'cos' is not defined",
     "output_type": "error",
     "traceback": [
      "\u001b[1;31m---------------------------------------------------------------------------\u001b[0m",
      "\u001b[1;31mNameError\u001b[0m                                 Traceback (most recent call last)",
      "\u001b[1;32m~\\AppData\\Local\\Temp/ipykernel_16560/2275403165.py\u001b[0m in \u001b[0;36m<module>\u001b[1;34m\u001b[0m\n\u001b[1;32m----> 1\u001b[1;33m \u001b[0mcos\u001b[0m\u001b[1;33m\u001b[0m\u001b[1;33m\u001b[0m\u001b[0m\n\u001b[0m",
      "\u001b[1;31mNameError\u001b[0m: name 'cos' is not defined"
     ]
    }
   ],
   "source": [
    "cos"
   ]
  },
  {
   "cell_type": "code",
   "execution_count": 138,
   "id": "348035d5",
   "metadata": {},
   "outputs": [
    {
     "data": {
      "text/plain": [
       "<function math.cos(x, /)>"
      ]
     },
     "execution_count": 138,
     "metadata": {},
     "output_type": "execute_result"
    }
   ],
   "source": [
    "math.cos"
   ]
  },
  {
   "cell_type": "markdown",
   "id": "6e6b3c1a",
   "metadata": {},
   "source": [
    "## Simplifying module names"
   ]
  },
  {
   "cell_type": "code",
   "execution_count": 139,
   "id": "4f4e3cd5",
   "metadata": {},
   "outputs": [],
   "source": [
    "import math as m"
   ]
  },
  {
   "cell_type": "markdown",
   "id": "989d59c2",
   "metadata": {},
   "source": [
    "This will import the math module and store it as the variable `m`"
   ]
  },
  {
   "cell_type": "code",
   "execution_count": 141,
   "id": "ae15ed67",
   "metadata": {},
   "outputs": [
    {
     "data": {
      "text/plain": [
       "-0.9899924966004454"
      ]
     },
     "execution_count": 141,
     "metadata": {},
     "output_type": "execute_result"
    }
   ],
   "source": [
    "m.cos(3)"
   ]
  },
  {
   "cell_type": "markdown",
   "id": "aa99641a",
   "metadata": {},
   "source": [
    "We can also go into a module and pull out specific functions."
   ]
  },
  {
   "cell_type": "code",
   "execution_count": 146,
   "id": "66397f33",
   "metadata": {},
   "outputs": [],
   "source": [
    "from math import sin, cos, radians"
   ]
  },
  {
   "cell_type": "code",
   "execution_count": 147,
   "id": "8cf7edeb",
   "metadata": {},
   "outputs": [
    {
     "data": {
      "text/plain": [
       "0.7071067811865476"
      ]
     },
     "execution_count": 147,
     "metadata": {},
     "output_type": "execute_result"
    }
   ],
   "source": [
    "cos(radians(45))"
   ]
  },
  {
   "cell_type": "markdown",
   "id": "094b966b",
   "metadata": {},
   "source": [
    "We can use `from math import *`"
   ]
  },
  {
   "cell_type": "code",
   "execution_count": 148,
   "id": "71bd3b5b",
   "metadata": {},
   "outputs": [],
   "source": [
    "from math import *"
   ]
  },
  {
   "cell_type": "code",
   "execution_count": 149,
   "id": "c109216e",
   "metadata": {},
   "outputs": [
    {
     "data": {
      "text/plain": [
       "2.718281828459045"
      ]
     },
     "execution_count": 149,
     "metadata": {},
     "output_type": "execute_result"
    }
   ],
   "source": [
    "e"
   ]
  },
  {
   "cell_type": "code",
   "execution_count": 150,
   "id": "80c63fcf",
   "metadata": {},
   "outputs": [
    {
     "data": {
      "text/plain": [
       "3.141592653589793"
      ]
     },
     "execution_count": 150,
     "metadata": {},
     "output_type": "execute_result"
    }
   ],
   "source": [
    "pi"
   ]
  },
  {
   "cell_type": "code",
   "execution_count": 151,
   "id": "8ae19192",
   "metadata": {},
   "outputs": [
    {
     "data": {
      "text/plain": [
       "4"
      ]
     },
     "execution_count": 151,
     "metadata": {},
     "output_type": "execute_result"
    }
   ],
   "source": [
    "ceil(3.3)"
   ]
  },
  {
   "cell_type": "markdown",
   "id": "c9331619",
   "metadata": {},
   "source": [
    "**Note:** Use `import *` with care!"
   ]
  },
  {
   "cell_type": "code",
   "execution_count": 152,
   "id": "4a5a0fc0",
   "metadata": {},
   "outputs": [
    {
     "name": "stdout",
     "output_type": "stream",
     "text": [
      "2.718281828459045\n"
     ]
    }
   ],
   "source": [
    "e = 1\n",
    "\n",
    "from math import *\n",
    "\n",
    "print(e)"
   ]
  },
  {
   "cell_type": "markdown",
   "id": "3ba7eff0",
   "metadata": {},
   "source": [
    "General tip: Only the functions that we need, and deal with any imports at the start of the notebook or the start of a cell."
   ]
  },
  {
   "cell_type": "markdown",
   "id": "caf3fe88",
   "metadata": {},
   "source": [
    "# LaTeX in markdown cells"
   ]
  },
  {
   "cell_type": "markdown",
   "id": "baa3bded",
   "metadata": {},
   "source": [
    "LaTeX is a language for writing math expressions. To work with LaTeX, we use dollar symbols \\$ to wrap around our LaTeX."
   ]
  },
  {
   "cell_type": "markdown",
   "id": "388c184a",
   "metadata": {},
   "source": [
    "1 + 2\n",
    "\n",
    "$1 + 2$"
   ]
  },
  {
   "cell_type": "markdown",
   "id": "2d06602a",
   "metadata": {},
   "source": [
    "We can generate fractions in LaTeX using `\\frac{a}{b}`\n",
    "\n",
    "$\\frac{1}{2}$\n",
    "\n",
    "$\\frac{x + y}{7 + z}$"
   ]
  },
  {
   "cell_type": "markdown",
   "id": "ce0171ca",
   "metadata": {},
   "source": [
    "We can write exponents in LaTeX using a carrot `^`:"
   ]
  },
  {
   "cell_type": "markdown",
   "id": "deada8fe",
   "metadata": {},
   "source": [
    "x^2 + y^2 = z^2\n",
    "\n",
    "$x^2 + y^2 = z^2$"
   ]
  },
  {
   "cell_type": "markdown",
   "id": "d4e44bc0",
   "metadata": {},
   "source": [
    " 1. Exponents: $x^2 + x^5$ (`$x^2 + x^5$`)\n",
    " 2. Fractions: $\\frac{3}{5}$, $\\frac{x^5 + 6}{t^2 - 1}$ (`$\\frac{x^6 + 6}{t^2 - 1}$`)\n",
    " 3. Integrals and trigonometric functions: $\\int \\cos(x) dx$ (`$\\int \\cos(x) dx$`)\n",
    " 4. Superscripts and subscripts: $x_1, x_2, x_3$ $\\int_0^1 \\cos(x) dx$ (`$x_1$`)"
   ]
  },
  {
   "cell_type": "markdown",
   "id": "17972a4b",
   "metadata": {},
   "source": [
    "We can use double dollar signs \\$\\$ to display formulas centered on their own line:\n",
    "\n",
    "$$\\int_0^1 \\cos(x) dx$$\n",
    "\n",
    "(`$$\\int_0^1 \\cos(x) dx$$`)"
   ]
  },
  {
   "cell_type": "code",
   "execution_count": null,
   "id": "0c97ff42",
   "metadata": {},
   "outputs": [],
   "source": []
  }
 ],
 "metadata": {
  "kernelspec": {
   "display_name": "Python 3 (ipykernel)",
   "language": "python",
   "name": "python3"
  },
  "language_info": {
   "codemirror_mode": {
    "name": "ipython",
    "version": 3
   },
   "file_extension": ".py",
   "mimetype": "text/x-python",
   "name": "python",
   "nbconvert_exporter": "python",
   "pygments_lexer": "ipython3",
   "version": "3.9.7"
  }
 },
 "nbformat": 4,
 "nbformat_minor": 5
}
