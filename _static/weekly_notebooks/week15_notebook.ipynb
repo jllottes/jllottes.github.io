{
 "cells": [
  {
   "cell_type": "markdown",
   "id": "639da6a3",
   "metadata": {},
   "source": [
    "# Monday, December 2nd, 2024"
   ]
  },
  {
   "cell_type": "markdown",
   "id": "3b7dd983",
   "metadata": {},
   "source": [
    "Example using `requests` and `re` to pull data from a webpage:"
   ]
  },
  {
   "cell_type": "code",
   "execution_count": 1,
   "id": "cd6100eb",
   "metadata": {},
   "outputs": [],
   "source": [
    "url = r'https://www.transfermarkt.us/everton-fc/kader/verein/29/saison_id/2024/plus/1'"
   ]
  },
  {
   "cell_type": "code",
   "execution_count": 2,
   "id": "567d3627",
   "metadata": {},
   "outputs": [],
   "source": [
    "import requests, re"
   ]
  },
  {
   "cell_type": "code",
   "execution_count": 5,
   "id": "427e28ae",
   "metadata": {},
   "outputs": [],
   "source": [
    "headers = {'User-Agent':'Mozilla/5.0'}"
   ]
  },
  {
   "cell_type": "code",
   "execution_count": 11,
   "id": "7b8356c4",
   "metadata": {},
   "outputs": [],
   "source": [
    "page = requests.get(url,headers=headers)\n",
    "text = page.text"
   ]
  },
  {
   "cell_type": "code",
   "execution_count": 38,
   "id": "b415c4b1",
   "metadata": {
    "scrolled": true
   },
   "outputs": [],
   "source": [
    "#print(text)"
   ]
  },
  {
   "cell_type": "markdown",
   "id": "f1bcec56",
   "metadata": {},
   "source": [
    "It looks like the HTML code `<tr class=\"odd\">` or `<tr class=\"even\">` preceeds information about each player, so let's try splitting on this code to generate blocks of player information."
   ]
  },
  {
   "cell_type": "code",
   "execution_count": 24,
   "id": "cc0b8704",
   "metadata": {},
   "outputs": [
    {
     "data": {
      "text/plain": [
       "['an even', 'an odd']"
      ]
     },
     "execution_count": 24,
     "metadata": {},
     "output_type": "execute_result"
    }
   ],
   "source": [
    "s = 'Twelve is an even number, 14 is an odd number. 15 is even.'\n",
    "\n",
    "\n",
    "re.findall(r'an (?:odd|even)', s)"
   ]
  },
  {
   "cell_type": "code",
   "execution_count": 30,
   "id": "a0d281dc",
   "metadata": {},
   "outputs": [],
   "source": [
    "player_info_pattern = r'<tr class=\"(?:odd|even)\">'\n",
    "\n",
    "player_info_blocks = re.split(player_info_pattern, text)[1:]"
   ]
  },
  {
   "cell_type": "code",
   "execution_count": 16,
   "id": "994f3efd",
   "metadata": {},
   "outputs": [
    {
     "name": "stdout",
     "output_type": "stream",
     "text": [
      "Help on function split in module re:\n",
      "\n",
      "split(pattern, string, maxsplit=0, flags=0)\n",
      "    Split the source string by the occurrences of the pattern,\n",
      "    returning a list containing the resulting substrings.  If\n",
      "    capturing parentheses are used in pattern, then the text of all\n",
      "    groups in the pattern are also returned as part of the resulting\n",
      "    list.  If maxsplit is nonzero, at most maxsplit splits occur,\n",
      "    and the remainder of the string is returned as the final element\n",
      "    of the list.\n",
      "\n"
     ]
    }
   ],
   "source": [
    "help(re.split)"
   ]
  },
  {
   "cell_type": "code",
   "execution_count": 57,
   "id": "556a91c4",
   "metadata": {},
   "outputs": [
    {
     "name": "stdout",
     "output_type": "stream",
     "text": [
      "\n",
      "<td class=\"zentriert rueckennummer bg_Abwehr\" title=\"Defender\"><div class=rn_nummer>23</div></td><td class=\"posrela\">\n",
      "<table class=\"inline-table\">\n",
      "    <tr>\n",
      "        <td rowspan=\"2\">\n",
      "            <img src=\"data:image/gif;base64,R0lGODlhAQABAIAAAMLCwgAAACH5BAAAAAAALAAAAAABAAEAAAICRAEAOw==\" data-src=\"https://img.a.transfermarkt.technology/portrait/medium/68390-1627488566.jpg?lm=1\" title=\"Séamus Coleman\" alt=\"Séamus Coleman\" class=\"bilderrahmen-fixed lazy lazy\" />        </td>\n",
      "        <td class=\"hauptlink\">\n",
      "            <a href=\"/seamus-coleman/profil/spieler/68390\">\n",
      "                Séamus Coleman<span title=\"Team captain\" class=\"kapitaenicon-table icons_sprite\">&nbsp;</span>            </a>\n",
      "        </td>\n",
      "    </tr>\n",
      "    <tr>\n",
      "        <td>\n",
      "            Right-Back        </td>\n",
      "    </tr>\n",
      "</table>\n",
      "</td><td class=\"zentriert\">Oct 11, 1988 (36)</td><td class=\"zentriert\"><img src=\"https://tmssl.akamaized.net//images/flagge/verysmall/72.png?lm=1520611569\" title=\"Ireland\" alt=\"Ireland\" class=\"flaggenrahmen\" /></td><td class=\"zentriert\">1,77m</td><td class=\"zentriert\">right</td><td class=\"zentriert\">Jan 1, 2009</td><td class=\"zentriert\"><a title=\"Sligo Rovers: Ablöse €70k\" href=\"/sligo-rovers/startseite/verein/8780/saison_id/2008\"><img src=\"https://tmssl.akamaized.net//images/wappen/verysmall/8780.png?lm=1498249702\" title=\"Sligo Rovers\" alt=\"Sligo Rovers\" class=\"\" /></a></td><td class=\"zentriert\">Jun 30, 2025</td><td class=\"rechts hauptlink\"><a href=\"/seamus-coleman/marktwertverlauf/spieler/68390\">€500k</a></td></tr>\n",
      "\n"
     ]
    }
   ],
   "source": [
    "player_info_block = player_info_blocks[10]\n",
    "\n",
    "print(player_info_block)"
   ]
  },
  {
   "cell_type": "markdown",
   "id": "e9845ae1",
   "metadata": {},
   "source": [
    "Player number information looks to be of the form: `<div class=rn_nummer>(SOME NUMBER HER)</div>`"
   ]
  },
  {
   "cell_type": "code",
   "execution_count": 48,
   "id": "0fe6f702",
   "metadata": {},
   "outputs": [
    {
     "name": "stdout",
     "output_type": "stream",
     "text": [
      "23\n"
     ]
    }
   ],
   "source": [
    "player_number_pattern = r'<div class=rn_nummer>(\\d+)</div>'\n",
    "number = re.findall(player_number_pattern, player_info_block)[0]\n",
    "\n",
    "print(number)"
   ]
  },
  {
   "cell_type": "markdown",
   "id": "0cb09934",
   "metadata": {},
   "source": [
    "The structure for finding names is:\n",
    " - `<td class=\"hauptlink\">`\n",
    " - `<a href=...>`\n",
    " - THE NAME\n",
    " - `</a>`"
   ]
  },
  {
   "cell_type": "code",
   "execution_count": 53,
   "id": "4c1c722b",
   "metadata": {},
   "outputs": [
    {
     "name": "stdout",
     "output_type": "stream",
     "text": [
      "Séamus Coleman\n"
     ]
    }
   ],
   "source": [
    "player_name_pattern = r'<td class=\"hauptlink\">\\s*<a href=.+>\\s*(.+?)<'\n",
    "\n",
    "player_name = re.findall(player_name_pattern, player_info_block)[0].strip()\n",
    "\n",
    "print(player_name)"
   ]
  },
  {
   "cell_type": "markdown",
   "id": "994d875d",
   "metadata": {},
   "source": [
    "It looks like each piece is data is separated by the HTML `<td class=\"zentriert\">`, so let's split on this string."
   ]
  },
  {
   "cell_type": "code",
   "execution_count": 58,
   "id": "1d0447bc",
   "metadata": {},
   "outputs": [
    {
     "name": "stdout",
     "output_type": "stream",
     "text": [
      "Oct 11, 1988 (36)</td>\n",
      "<img src=\"https://tmssl.akamaized.net//images/flagge/verysmall/72.png?lm=1520611569\" title=\"Ireland\" alt=\"Ireland\" class=\"flaggenrahmen\" /></td>\n",
      "1,77m</td>\n",
      "right</td>\n",
      "Jan 1, 2009</td>\n",
      "<a title=\"Sligo Rovers: Ablöse €70k\" href=\"/sligo-rovers/startseite/verein/8780/saison_id/2008\"><img src=\"https://tmssl.akamaized.net//images/wappen/verysmall/8780.png?lm=1498249702\" title=\"Sligo Rovers\" alt=\"Sligo Rovers\" class=\"\" /></a></td>\n",
      "Jun 30, 2025</td><td class=\"rechts hauptlink\"><a href=\"/seamus-coleman/marktwertverlauf/spieler/68390\">€500k</a></td></tr>\n",
      "\n"
     ]
    }
   ],
   "source": [
    "for piece in player_info_block.split(r'<td class=\"zentriert\">')[1:]:\n",
    "    print(piece)"
   ]
  },
  {
   "cell_type": "markdown",
   "id": "524a1494",
   "metadata": {},
   "source": [
    "The ordering of these pieces are:\n",
    " - Age\n",
    " - Nationality\n",
    " - Height \n",
    " - Preferred foot\n",
    " - When they signed\n",
    " - Where they signed from and for how much\n",
    " - Contract expiration and market value"
   ]
  },
  {
   "cell_type": "code",
   "execution_count": 61,
   "id": "027040e0",
   "metadata": {},
   "outputs": [],
   "source": [
    "(age_info, \n",
    "nationality_info, \n",
    "height_info, \n",
    "foot_info, \n",
    "sign_date_info, \n",
    "sign_from_info, \n",
    "contract_info) = player_info_block.split(r'<td class=\"zentriert\">')[1:]\n",
    "\n",
    "\n"
   ]
  },
  {
   "cell_type": "code",
   "execution_count": 69,
   "id": "5728e869",
   "metadata": {},
   "outputs": [
    {
     "name": "stdout",
     "output_type": "stream",
     "text": [
      "Oct 11, 1988\n",
      "36\n"
     ]
    }
   ],
   "source": [
    "birthdate_pattern = r'\\w{3} \\d+, \\d{4}'\n",
    "age_pattern = r'\\((\\d+)\\)'\n",
    "\n",
    "birthdate = re.findall(birthdate_pattern,age_info)[0]\n",
    "age = re.findall(age_pattern, age_info)[0]\n",
    "\n",
    "print(birthdate)\n",
    "print(age)"
   ]
  },
  {
   "cell_type": "code",
   "execution_count": 65,
   "id": "e729da7e",
   "metadata": {},
   "outputs": [
    {
     "data": {
      "text/plain": [
       "'Oct 11, 1988 (36)</td>'"
      ]
     },
     "execution_count": 65,
     "metadata": {},
     "output_type": "execute_result"
    }
   ],
   "source": [
    "age_info"
   ]
  },
  {
   "cell_type": "code",
   "execution_count": 70,
   "id": "abf0282d",
   "metadata": {},
   "outputs": [
    {
     "name": "stdout",
     "output_type": "stream",
     "text": [
      "<img src=\"https://tmssl.akamaized.net//images/flagge/verysmall/72.png?lm=1520611569\" title=\"Ireland\" alt=\"Ireland\" class=\"flaggenrahmen\" /></td>\n"
     ]
    }
   ],
   "source": [
    "print(nationality_info)"
   ]
  },
  {
   "cell_type": "code",
   "execution_count": 73,
   "id": "54441c7c",
   "metadata": {
    "scrolled": true
   },
   "outputs": [
    {
     "name": "stdout",
     "output_type": "stream",
     "text": [
      "Ireland\n"
     ]
    }
   ],
   "source": [
    "nationality_pattern = r'title=\"(\\w+)\"'\n",
    "\n",
    "nationality = re.findall(nationality_pattern, nationality_info)[0]\n",
    "print(nationality)"
   ]
  },
  {
   "cell_type": "code",
   "execution_count": 75,
   "id": "38bf7bb9",
   "metadata": {},
   "outputs": [],
   "source": [
    "player_name_pattern = r'<td class=\"hauptlink\">\\s*<a href=.+>\\s*(.+?)<'\n",
    "player_number_pattern = r'<div class=rn_nummer>(\\d+)</div>'\n",
    "\n",
    "birthdate_pattern = r'\\w{3} \\d+, \\d{4}'\n",
    "age_pattern = r'\\((\\d+)\\)'\n",
    "nationality_pattern = r'title=\"(\\w+)\"'\n",
    "\n",
    "\n",
    "def get_player_info(player_info_block):\n",
    "    (age_info, \n",
    "    nationality_info, \n",
    "    height_info, \n",
    "    foot_info, \n",
    "    sign_date_info, \n",
    "    sign_from_info, \n",
    "    contract_info) = player_info_block.split(r'<td class=\"zentriert\">')[1:]\n",
    "\n",
    "    name = re.findall(player_name_pattern, player_info_block)[0].strip()\n",
    "    number = re.findall(player_number_pattern, player_info_block)[0]\n",
    "    \n",
    "    birthdate = re.findall(birthdate_pattern,age_info)[0]\n",
    "    age = re.findall(age_pattern, age_info)[0]\n",
    "\n",
    "    nationality = re.findall(nationality_pattern, nationality_info)[0]\n",
    "    \n",
    "    return name, number, birthdate, age, nationality"
   ]
  },
  {
   "cell_type": "code",
   "execution_count": 78,
   "id": "e2735f02",
   "metadata": {},
   "outputs": [
    {
     "data": {
      "text/plain": [
       "('Asmir Begovic', '31', 'Jun 20, 1987', '37', 'Canada')"
      ]
     },
     "execution_count": 78,
     "metadata": {},
     "output_type": "execute_result"
    }
   ],
   "source": [
    "get_player_info(player_info_blocks[2])"
   ]
  },
  {
   "cell_type": "code",
   "execution_count": null,
   "id": "71c10259",
   "metadata": {},
   "outputs": [],
   "source": []
  },
  {
   "cell_type": "code",
   "execution_count": null,
   "id": "8c8e32af",
   "metadata": {},
   "outputs": [],
   "source": []
  },
  {
   "cell_type": "code",
   "execution_count": null,
   "id": "fa53c1a1",
   "metadata": {},
   "outputs": [],
   "source": []
  },
  {
   "cell_type": "code",
   "execution_count": null,
   "id": "367ec8e3",
   "metadata": {},
   "outputs": [],
   "source": []
  },
  {
   "cell_type": "code",
   "execution_count": null,
   "id": "8eb8d928",
   "metadata": {},
   "outputs": [],
   "source": []
  },
  {
   "cell_type": "code",
   "execution_count": 79,
   "id": "64c0c352",
   "metadata": {},
   "outputs": [
    {
     "name": "stdout",
     "output_type": "stream",
     "text": [
      "('Jordan Pickford', '1', 'Mar 7, 1994', '30', 'England')\n",
      "('João Virgínia', '12', 'Oct 10, 1999', '25', 'Portugal')\n",
      "('Asmir Begovic', '31', 'Jun 20, 1987', '37', 'Canada')\n",
      "('Jarrad Branthwaite', '32', 'Jun 27, 2002', '22', 'England')\n",
      "(\"Jake O'Brien\", '15', 'May 15, 2001', '23', 'Ireland')\n",
      "('James Tarkowski', '6', 'Nov 19, 1992', '32', 'England')\n",
      "('Michael Keane', '5', 'Jan 11, 1993', '31', 'England')\n",
      "('Vitaliy Mykolenko', '19', 'May 29, 1999', '25', 'Ukraine')\n",
      "('Ashley Young', '18', 'Jul 9, 1985', '39', 'England')\n",
      "('Nathan Patterson', '2', 'Oct 16, 2001', '23', 'Scotland')\n",
      "('Séamus Coleman', '23', 'Oct 11, 1988', '36', 'Ireland')\n",
      "('James Garner', '37', 'Mar 13, 2001', '23', 'England')\n",
      "('Orel Mangala', '8', 'Mar 18, 1998', '26', 'Belgium')\n",
      "('Abdoulaye Doucouré', '16', 'Jan 1, 1993', '31', 'Mali')\n",
      "('Tim Iroegbunam', '42', 'Jun 30, 2003', '21', 'England')\n",
      "('Idrissa Gueye', '27', 'Sep 26, 1989', '35', 'Senegal')\n",
      "('Dwight McNeil', '7', 'Nov 22, 1999', '25', 'England')\n",
      "('Iliman Ndiaye', '10', 'Mar 6, 2000', '24', 'Senegal')\n",
      "('Jesper Lindstrøm', '29', 'Feb 29, 2000', '24', 'Denmark')\n",
      "('Jack Harrison', '11', 'Nov 20, 1996', '28', 'England')\n",
      "('Dominic Calvert-Lewin', '9', 'Mar 16, 1997', '27', 'England')\n",
      "('Beto', '14', 'Jan 31, 1998', '26', 'Portugal')\n",
      "('Armando Broja', '22', 'Sep 10, 2001', '23', 'Albania')\n",
      "('Chermiti', '17', 'May 24, 2004', '20', 'Portugal')\n"
     ]
    }
   ],
   "source": [
    "for player_info_block in player_info_blocks:\n",
    "    print(get_player_info(player_info_block))"
   ]
  },
  {
   "cell_type": "code",
   "execution_count": 80,
   "id": "ca8db420",
   "metadata": {},
   "outputs": [],
   "source": [
    "names = []\n",
    "numbers = []\n",
    "birthdates = []\n",
    "ages = []\n",
    "nationalities = []\n",
    "\n",
    "for player_info_block in player_info_blocks:\n",
    "    name, number, birthdate, age, nationality = get_player_info(player_info_block)\n",
    "    names.append(name)\n",
    "    numbers.append(number)\n",
    "    birthdates.append(birthdate)\n",
    "    ages.append(age)\n",
    "    nationalities.append(nationality)"
   ]
  },
  {
   "cell_type": "code",
   "execution_count": 81,
   "id": "add71747",
   "metadata": {},
   "outputs": [],
   "source": [
    "import pandas as pd"
   ]
  },
  {
   "cell_type": "code",
   "execution_count": 82,
   "id": "d3ad7c05",
   "metadata": {},
   "outputs": [],
   "source": [
    "player_df = pd.DataFrame({'Name':names,\n",
    "              'Number':numbers,\n",
    "              'Birthdate':birthdates,\n",
    "              'Age':ages,\n",
    "              'Nationality':nationalities})"
   ]
  },
  {
   "cell_type": "code",
   "execution_count": 83,
   "id": "1d9a22b9",
   "metadata": {},
   "outputs": [
    {
     "data": {
      "text/html": [
       "<div>\n",
       "<style scoped>\n",
       "    .dataframe tbody tr th:only-of-type {\n",
       "        vertical-align: middle;\n",
       "    }\n",
       "\n",
       "    .dataframe tbody tr th {\n",
       "        vertical-align: top;\n",
       "    }\n",
       "\n",
       "    .dataframe thead th {\n",
       "        text-align: right;\n",
       "    }\n",
       "</style>\n",
       "<table border=\"1\" class=\"dataframe\">\n",
       "  <thead>\n",
       "    <tr style=\"text-align: right;\">\n",
       "      <th></th>\n",
       "      <th>Name</th>\n",
       "      <th>Number</th>\n",
       "      <th>Birthdate</th>\n",
       "      <th>Age</th>\n",
       "      <th>Nationality</th>\n",
       "    </tr>\n",
       "  </thead>\n",
       "  <tbody>\n",
       "    <tr>\n",
       "      <th>0</th>\n",
       "      <td>Jordan Pickford</td>\n",
       "      <td>1</td>\n",
       "      <td>Mar 7, 1994</td>\n",
       "      <td>30</td>\n",
       "      <td>England</td>\n",
       "    </tr>\n",
       "    <tr>\n",
       "      <th>1</th>\n",
       "      <td>João Virgínia</td>\n",
       "      <td>12</td>\n",
       "      <td>Oct 10, 1999</td>\n",
       "      <td>25</td>\n",
       "      <td>Portugal</td>\n",
       "    </tr>\n",
       "    <tr>\n",
       "      <th>2</th>\n",
       "      <td>Asmir Begovic</td>\n",
       "      <td>31</td>\n",
       "      <td>Jun 20, 1987</td>\n",
       "      <td>37</td>\n",
       "      <td>Canada</td>\n",
       "    </tr>\n",
       "    <tr>\n",
       "      <th>3</th>\n",
       "      <td>Jarrad Branthwaite</td>\n",
       "      <td>32</td>\n",
       "      <td>Jun 27, 2002</td>\n",
       "      <td>22</td>\n",
       "      <td>England</td>\n",
       "    </tr>\n",
       "    <tr>\n",
       "      <th>4</th>\n",
       "      <td>Jake O'Brien</td>\n",
       "      <td>15</td>\n",
       "      <td>May 15, 2001</td>\n",
       "      <td>23</td>\n",
       "      <td>Ireland</td>\n",
       "    </tr>\n",
       "    <tr>\n",
       "      <th>5</th>\n",
       "      <td>James Tarkowski</td>\n",
       "      <td>6</td>\n",
       "      <td>Nov 19, 1992</td>\n",
       "      <td>32</td>\n",
       "      <td>England</td>\n",
       "    </tr>\n",
       "    <tr>\n",
       "      <th>6</th>\n",
       "      <td>Michael Keane</td>\n",
       "      <td>5</td>\n",
       "      <td>Jan 11, 1993</td>\n",
       "      <td>31</td>\n",
       "      <td>England</td>\n",
       "    </tr>\n",
       "    <tr>\n",
       "      <th>7</th>\n",
       "      <td>Vitaliy Mykolenko</td>\n",
       "      <td>19</td>\n",
       "      <td>May 29, 1999</td>\n",
       "      <td>25</td>\n",
       "      <td>Ukraine</td>\n",
       "    </tr>\n",
       "    <tr>\n",
       "      <th>8</th>\n",
       "      <td>Ashley Young</td>\n",
       "      <td>18</td>\n",
       "      <td>Jul 9, 1985</td>\n",
       "      <td>39</td>\n",
       "      <td>England</td>\n",
       "    </tr>\n",
       "    <tr>\n",
       "      <th>9</th>\n",
       "      <td>Nathan Patterson</td>\n",
       "      <td>2</td>\n",
       "      <td>Oct 16, 2001</td>\n",
       "      <td>23</td>\n",
       "      <td>Scotland</td>\n",
       "    </tr>\n",
       "    <tr>\n",
       "      <th>10</th>\n",
       "      <td>Séamus Coleman</td>\n",
       "      <td>23</td>\n",
       "      <td>Oct 11, 1988</td>\n",
       "      <td>36</td>\n",
       "      <td>Ireland</td>\n",
       "    </tr>\n",
       "    <tr>\n",
       "      <th>11</th>\n",
       "      <td>James Garner</td>\n",
       "      <td>37</td>\n",
       "      <td>Mar 13, 2001</td>\n",
       "      <td>23</td>\n",
       "      <td>England</td>\n",
       "    </tr>\n",
       "    <tr>\n",
       "      <th>12</th>\n",
       "      <td>Orel Mangala</td>\n",
       "      <td>8</td>\n",
       "      <td>Mar 18, 1998</td>\n",
       "      <td>26</td>\n",
       "      <td>Belgium</td>\n",
       "    </tr>\n",
       "    <tr>\n",
       "      <th>13</th>\n",
       "      <td>Abdoulaye Doucouré</td>\n",
       "      <td>16</td>\n",
       "      <td>Jan 1, 1993</td>\n",
       "      <td>31</td>\n",
       "      <td>Mali</td>\n",
       "    </tr>\n",
       "    <tr>\n",
       "      <th>14</th>\n",
       "      <td>Tim Iroegbunam</td>\n",
       "      <td>42</td>\n",
       "      <td>Jun 30, 2003</td>\n",
       "      <td>21</td>\n",
       "      <td>England</td>\n",
       "    </tr>\n",
       "    <tr>\n",
       "      <th>15</th>\n",
       "      <td>Idrissa Gueye</td>\n",
       "      <td>27</td>\n",
       "      <td>Sep 26, 1989</td>\n",
       "      <td>35</td>\n",
       "      <td>Senegal</td>\n",
       "    </tr>\n",
       "    <tr>\n",
       "      <th>16</th>\n",
       "      <td>Dwight McNeil</td>\n",
       "      <td>7</td>\n",
       "      <td>Nov 22, 1999</td>\n",
       "      <td>25</td>\n",
       "      <td>England</td>\n",
       "    </tr>\n",
       "    <tr>\n",
       "      <th>17</th>\n",
       "      <td>Iliman Ndiaye</td>\n",
       "      <td>10</td>\n",
       "      <td>Mar 6, 2000</td>\n",
       "      <td>24</td>\n",
       "      <td>Senegal</td>\n",
       "    </tr>\n",
       "    <tr>\n",
       "      <th>18</th>\n",
       "      <td>Jesper Lindstrøm</td>\n",
       "      <td>29</td>\n",
       "      <td>Feb 29, 2000</td>\n",
       "      <td>24</td>\n",
       "      <td>Denmark</td>\n",
       "    </tr>\n",
       "    <tr>\n",
       "      <th>19</th>\n",
       "      <td>Jack Harrison</td>\n",
       "      <td>11</td>\n",
       "      <td>Nov 20, 1996</td>\n",
       "      <td>28</td>\n",
       "      <td>England</td>\n",
       "    </tr>\n",
       "    <tr>\n",
       "      <th>20</th>\n",
       "      <td>Dominic Calvert-Lewin</td>\n",
       "      <td>9</td>\n",
       "      <td>Mar 16, 1997</td>\n",
       "      <td>27</td>\n",
       "      <td>England</td>\n",
       "    </tr>\n",
       "    <tr>\n",
       "      <th>21</th>\n",
       "      <td>Beto</td>\n",
       "      <td>14</td>\n",
       "      <td>Jan 31, 1998</td>\n",
       "      <td>26</td>\n",
       "      <td>Portugal</td>\n",
       "    </tr>\n",
       "    <tr>\n",
       "      <th>22</th>\n",
       "      <td>Armando Broja</td>\n",
       "      <td>22</td>\n",
       "      <td>Sep 10, 2001</td>\n",
       "      <td>23</td>\n",
       "      <td>Albania</td>\n",
       "    </tr>\n",
       "    <tr>\n",
       "      <th>23</th>\n",
       "      <td>Chermiti</td>\n",
       "      <td>17</td>\n",
       "      <td>May 24, 2004</td>\n",
       "      <td>20</td>\n",
       "      <td>Portugal</td>\n",
       "    </tr>\n",
       "  </tbody>\n",
       "</table>\n",
       "</div>"
      ],
      "text/plain": [
       "                     Name Number     Birthdate Age Nationality\n",
       "0         Jordan Pickford      1   Mar 7, 1994  30     England\n",
       "1           João Virgínia     12  Oct 10, 1999  25    Portugal\n",
       "2           Asmir Begovic     31  Jun 20, 1987  37      Canada\n",
       "3      Jarrad Branthwaite     32  Jun 27, 2002  22     England\n",
       "4            Jake O'Brien     15  May 15, 2001  23     Ireland\n",
       "5         James Tarkowski      6  Nov 19, 1992  32     England\n",
       "6           Michael Keane      5  Jan 11, 1993  31     England\n",
       "7       Vitaliy Mykolenko     19  May 29, 1999  25     Ukraine\n",
       "8            Ashley Young     18   Jul 9, 1985  39     England\n",
       "9        Nathan Patterson      2  Oct 16, 2001  23    Scotland\n",
       "10         Séamus Coleman     23  Oct 11, 1988  36     Ireland\n",
       "11           James Garner     37  Mar 13, 2001  23     England\n",
       "12           Orel Mangala      8  Mar 18, 1998  26     Belgium\n",
       "13     Abdoulaye Doucouré     16   Jan 1, 1993  31        Mali\n",
       "14         Tim Iroegbunam     42  Jun 30, 2003  21     England\n",
       "15          Idrissa Gueye     27  Sep 26, 1989  35     Senegal\n",
       "16          Dwight McNeil      7  Nov 22, 1999  25     England\n",
       "17          Iliman Ndiaye     10   Mar 6, 2000  24     Senegal\n",
       "18       Jesper Lindstrøm     29  Feb 29, 2000  24     Denmark\n",
       "19          Jack Harrison     11  Nov 20, 1996  28     England\n",
       "20  Dominic Calvert-Lewin      9  Mar 16, 1997  27     England\n",
       "21                   Beto     14  Jan 31, 1998  26    Portugal\n",
       "22          Armando Broja     22  Sep 10, 2001  23     Albania\n",
       "23               Chermiti     17  May 24, 2004  20    Portugal"
      ]
     },
     "execution_count": 83,
     "metadata": {},
     "output_type": "execute_result"
    }
   ],
   "source": [
    "player_df"
   ]
  },
  {
   "cell_type": "code",
   "execution_count": 85,
   "id": "94d5bd8c",
   "metadata": {},
   "outputs": [
    {
     "data": {
      "text/html": [
       "<div>\n",
       "<style scoped>\n",
       "    .dataframe tbody tr th:only-of-type {\n",
       "        vertical-align: middle;\n",
       "    }\n",
       "\n",
       "    .dataframe tbody tr th {\n",
       "        vertical-align: top;\n",
       "    }\n",
       "\n",
       "    .dataframe thead th {\n",
       "        text-align: right;\n",
       "    }\n",
       "</style>\n",
       "<table border=\"1\" class=\"dataframe\">\n",
       "  <thead>\n",
       "    <tr style=\"text-align: right;\">\n",
       "      <th></th>\n",
       "      <th>Name</th>\n",
       "      <th>Number</th>\n",
       "      <th>Birthdate</th>\n",
       "      <th>Age</th>\n",
       "      <th>Nationality</th>\n",
       "    </tr>\n",
       "  </thead>\n",
       "  <tbody>\n",
       "    <tr>\n",
       "      <th>2</th>\n",
       "      <td>Asmir Begovic</td>\n",
       "      <td>31</td>\n",
       "      <td>Jun 20, 1987</td>\n",
       "      <td>37</td>\n",
       "      <td>Canada</td>\n",
       "    </tr>\n",
       "    <tr>\n",
       "      <th>5</th>\n",
       "      <td>James Tarkowski</td>\n",
       "      <td>6</td>\n",
       "      <td>Nov 19, 1992</td>\n",
       "      <td>32</td>\n",
       "      <td>England</td>\n",
       "    </tr>\n",
       "    <tr>\n",
       "      <th>6</th>\n",
       "      <td>Michael Keane</td>\n",
       "      <td>5</td>\n",
       "      <td>Jan 11, 1993</td>\n",
       "      <td>31</td>\n",
       "      <td>England</td>\n",
       "    </tr>\n",
       "    <tr>\n",
       "      <th>8</th>\n",
       "      <td>Ashley Young</td>\n",
       "      <td>18</td>\n",
       "      <td>Jul 9, 1985</td>\n",
       "      <td>39</td>\n",
       "      <td>England</td>\n",
       "    </tr>\n",
       "    <tr>\n",
       "      <th>10</th>\n",
       "      <td>Séamus Coleman</td>\n",
       "      <td>23</td>\n",
       "      <td>Oct 11, 1988</td>\n",
       "      <td>36</td>\n",
       "      <td>Ireland</td>\n",
       "    </tr>\n",
       "    <tr>\n",
       "      <th>13</th>\n",
       "      <td>Abdoulaye Doucouré</td>\n",
       "      <td>16</td>\n",
       "      <td>Jan 1, 1993</td>\n",
       "      <td>31</td>\n",
       "      <td>Mali</td>\n",
       "    </tr>\n",
       "    <tr>\n",
       "      <th>15</th>\n",
       "      <td>Idrissa Gueye</td>\n",
       "      <td>27</td>\n",
       "      <td>Sep 26, 1989</td>\n",
       "      <td>35</td>\n",
       "      <td>Senegal</td>\n",
       "    </tr>\n",
       "  </tbody>\n",
       "</table>\n",
       "</div>"
      ],
      "text/plain": [
       "                  Name Number     Birthdate Age Nationality\n",
       "2        Asmir Begovic     31  Jun 20, 1987  37      Canada\n",
       "5      James Tarkowski      6  Nov 19, 1992  32     England\n",
       "6        Michael Keane      5  Jan 11, 1993  31     England\n",
       "8         Ashley Young     18   Jul 9, 1985  39     England\n",
       "10      Séamus Coleman     23  Oct 11, 1988  36     Ireland\n",
       "13  Abdoulaye Doucouré     16   Jan 1, 1993  31        Mali\n",
       "15       Idrissa Gueye     27  Sep 26, 1989  35     Senegal"
      ]
     },
     "execution_count": 85,
     "metadata": {},
     "output_type": "execute_result"
    }
   ],
   "source": [
    "player_df.loc[player_df['Age'].astype(int) > 30]"
   ]
  }
 ],
 "metadata": {
  "kernelspec": {
   "display_name": "Python 3 (ipykernel)",
   "language": "python",
   "name": "python3"
  },
  "language_info": {
   "codemirror_mode": {
    "name": "ipython",
    "version": 3
   },
   "file_extension": ".py",
   "mimetype": "text/x-python",
   "name": "python",
   "nbconvert_exporter": "python",
   "pygments_lexer": "ipython3",
   "version": "3.11.5"
  }
 },
 "nbformat": 4,
 "nbformat_minor": 5
}
