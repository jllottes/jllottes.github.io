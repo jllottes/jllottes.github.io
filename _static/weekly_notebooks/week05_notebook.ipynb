{
 "cells": [
  {
   "cell_type": "markdown",
   "id": "3756c621",
   "metadata": {},
   "source": [
    "# February 27, 2022"
   ]
  },
  {
   "cell_type": "markdown",
   "id": "aa0a12aa",
   "metadata": {},
   "source": [
    "Recall: We can generate a list of $N+1$ evenly spaced points between $a=0$ and $b=2\\pi$ as follows:"
   ]
  },
  {
   "cell_type": "code",
   "execution_count": null,
   "id": "b21ea251",
   "metadata": {},
   "outputs": [],
   "source": []
  },
  {
   "cell_type": "markdown",
   "id": "d257a693",
   "metadata": {},
   "source": [
    "Let's plot the $\\sin(x)$ and the $\\cos(x)$."
   ]
  },
  {
   "cell_type": "code",
   "execution_count": null,
   "id": "ca429d61",
   "metadata": {},
   "outputs": [],
   "source": []
  },
  {
   "cell_type": "markdown",
   "id": "1764ebcc",
   "metadata": {},
   "source": [
    "Here, the curves $y = \\sin x$ and the $y = \\cos x$ are shown on the same set of axes. What if we want to plot them on separate axes?\n",
    "\n",
    "We can manually construct a figure in `matplotlib` using `plt.figure()`."
   ]
  },
  {
   "cell_type": "code",
   "execution_count": null,
   "id": "0ca80b6c",
   "metadata": {},
   "outputs": [],
   "source": []
  },
  {
   "cell_type": "markdown",
   "id": "fa931f17",
   "metadata": {},
   "source": [
    "Notice: the legend only appears on the second figure. When we call `plt.figure`, a new figure becomes *active*. All future calls to `plt` will apply to the new figure.\n",
    "\n",
    "An alternative approach is to create one figure with several axes, called **subplots**.\n",
    "\n",
    "## Subplots\n",
    "\n",
    "The matplotlib `subplot()` function creates a matplotlib figure consisting of several subplots. The syntax is:\n",
    "\n",
    "`plt.subplot(r,c,n)` where:\n",
    "\n",
    "* `r` = the number of rows in the grid\n",
    "* `c` = the number of columns in the grid\n",
    "* `n` = the number of subplot in the grid\n",
    "\n",
    "Let's plot $y = \\sin x$ and $y \\cos x$ as subplots that are side-by-side.\n",
    "\n",
    "**Note:** matplotlib does not use zero-based indexing for the subplot number."
   ]
  },
  {
   "cell_type": "code",
   "execution_count": null,
   "id": "1b495e65",
   "metadata": {},
   "outputs": [],
   "source": []
  },
  {
   "cell_type": "markdown",
   "id": "15588ac0",
   "metadata": {},
   "source": [
    "We can modify the shape of the figure by adding the keyword `figsize = (w,h)` to the `plt.figure()` command:"
   ]
  },
  {
   "cell_type": "code",
   "execution_count": null,
   "id": "514e8abc",
   "metadata": {},
   "outputs": [],
   "source": []
  },
  {
   "cell_type": "markdown",
   "id": "5f249d98",
   "metadata": {},
   "source": [
    "We can change our grid shape to plot these vertically instead."
   ]
  },
  {
   "cell_type": "code",
   "execution_count": null,
   "id": "5752b6b3",
   "metadata": {},
   "outputs": [],
   "source": []
  },
  {
   "cell_type": "markdown",
   "id": "31947b91",
   "metadata": {},
   "source": [
    "We can see that the title of the lower axis is colliding with the upper axis.\n",
    "We can adjust the spacing using `plt.subplots_adjust`:"
   ]
  },
  {
   "cell_type": "code",
   "execution_count": null,
   "id": "a8bef4ff",
   "metadata": {},
   "outputs": [],
   "source": [
    "help(plt.subplots_adjust)"
   ]
  },
  {
   "cell_type": "code",
   "execution_count": null,
   "id": "599fb9ae",
   "metadata": {},
   "outputs": [],
   "source": []
  },
  {
   "cell_type": "markdown",
   "id": "ea6ff37f",
   "metadata": {},
   "source": [
    "We can build larger arrays of subplots. Let's build a $2\\times 2$ grid of subplots."
   ]
  },
  {
   "cell_type": "code",
   "execution_count": null,
   "id": "86e7f7d6",
   "metadata": {},
   "outputs": [],
   "source": []
  },
  {
   "cell_type": "markdown",
   "id": "364de4cf",
   "metadata": {},
   "source": [
    "We could use `plt.subplots_adjust` to try to fix the spacing between plots. Alternatively, we can use `plt.tight_layout()` to have matplotlib try to fix the spacing on its own."
   ]
  },
  {
   "cell_type": "code",
   "execution_count": null,
   "id": "7da7af4e",
   "metadata": {},
   "outputs": [],
   "source": [
    "help(plt.tight_layout)"
   ]
  },
  {
   "cell_type": "code",
   "execution_count": null,
   "id": "a5e54bf5",
   "metadata": {},
   "outputs": [],
   "source": []
  },
  {
   "cell_type": "markdown",
   "id": "a0259cd4",
   "metadata": {},
   "source": [
    "We can mix and match grid layouts as long as our plots don't overlap.\n",
    "As an example, we can create a column on the left with 2 rows, and a subplot in the right column spanning both rows."
   ]
  },
  {
   "cell_type": "code",
   "execution_count": null,
   "id": "605e971f",
   "metadata": {},
   "outputs": [],
   "source": []
  },
  {
   "cell_type": "markdown",
   "id": "f6f2344c",
   "metadata": {},
   "source": [
    "**Exercise.** Modify the above code to generate a plot with two columns in the first row and one column in the second row."
   ]
  },
  {
   "cell_type": "code",
   "execution_count": null,
   "id": "7bd89c94",
   "metadata": {},
   "outputs": [],
   "source": []
  },
  {
   "cell_type": "markdown",
   "id": "8eb14d36",
   "metadata": {},
   "source": [
    "When we call `plt.subplot()` as above, we generate generate a new subplot that becomes *active*. Future plot commands apply to that subplot until a new subplot becomes active.\n",
    "\n",
    "There may be times where we want to go back to an earlier subplot and make changes. To do so, we can store our subplots as variables and then recall them with the `plt.axes()` command."
   ]
  },
  {
   "cell_type": "code",
   "execution_count": null,
   "id": "1690ae1a",
   "metadata": {},
   "outputs": [],
   "source": []
  },
  {
   "cell_type": "markdown",
   "id": "22b10997",
   "metadata": {},
   "source": [
    "The `plt.axes` command can also be used to generate free-form subplots.\n",
    "Synatx: `plt.axes([x,y,w,h])` where:\n",
    "* `(x,y)` = coordinates of the lower left corner of the axes object\n",
    "* `w` = width of the axes\n",
    "* `h` = height of the axes"
   ]
  },
  {
   "cell_type": "code",
   "execution_count": null,
   "id": "66fe3809",
   "metadata": {},
   "outputs": [],
   "source": []
  },
  {
   "cell_type": "markdown",
   "id": "05e01df5",
   "metadata": {},
   "source": [
    "## NumPy"
   ]
  },
  {
   "cell_type": "markdown",
   "id": "ceed4173",
   "metadata": {},
   "source": [
    "NumPy stands for numerical Python, and is one of the most widely used packages in Python."
   ]
  },
  {
   "cell_type": "code",
   "execution_count": null,
   "id": "d6c0d3bb",
   "metadata": {},
   "outputs": [],
   "source": []
  },
  {
   "cell_type": "markdown",
   "id": "dbfa983f",
   "metadata": {},
   "source": [
    "### numpy arrays:\n",
    "\n",
    "A key feature of numpy are arrays, which resembles lists.\n",
    "\n",
    "A list can be converted to a numpy array using the `np.array()` command."
   ]
  },
  {
   "cell_type": "code",
   "execution_count": null,
   "id": "9fa6ab12",
   "metadata": {},
   "outputs": [],
   "source": []
  },
  {
   "cell_type": "code",
   "execution_count": null,
   "id": "e2e5e7ad",
   "metadata": {
    "scrolled": true
   },
   "outputs": [],
   "source": []
  },
  {
   "cell_type": "markdown",
   "id": "77e46bd3",
   "metadata": {},
   "source": [
    "Let's check the type of these objects using `type()` function:"
   ]
  },
  {
   "cell_type": "code",
   "execution_count": null,
   "id": "39925ec4",
   "metadata": {
    "scrolled": true
   },
   "outputs": [],
   "source": []
  },
  {
   "cell_type": "code",
   "execution_count": null,
   "id": "58279eec",
   "metadata": {},
   "outputs": [],
   "source": []
  },
  {
   "cell_type": "markdown",
   "id": "624d1da4",
   "metadata": {},
   "source": [
    "Let's compare some mathematical operations performed on lists versus arrays"
   ]
  },
  {
   "cell_type": "code",
   "execution_count": null,
   "id": "a520c11e",
   "metadata": {},
   "outputs": [],
   "source": []
  },
  {
   "cell_type": "code",
   "execution_count": null,
   "id": "b91d5f96",
   "metadata": {
    "scrolled": true
   },
   "outputs": [],
   "source": []
  },
  {
   "cell_type": "markdown",
   "id": "8b8c2bfb",
   "metadata": {},
   "source": [
    "Adding lists concatenates them.\n",
    "\n",
    "Adding arrays (of appropriate shapes) perform element-wise addition.\n",
    "\n",
    "We can also add numbers to arrays, which is done element-wise. The cannot be done for lists:"
   ]
  },
  {
   "cell_type": "code",
   "execution_count": null,
   "id": "2f70e3c5",
   "metadata": {},
   "outputs": [],
   "source": []
  },
  {
   "cell_type": "code",
   "execution_count": null,
   "id": "fdce73cc",
   "metadata": {},
   "outputs": [],
   "source": []
  },
  {
   "cell_type": "markdown",
   "id": "69cba0b6",
   "metadata": {},
   "source": [
    "We have similar behavior with multiplication by an integer:"
   ]
  },
  {
   "cell_type": "code",
   "execution_count": null,
   "id": "e7266276",
   "metadata": {},
   "outputs": [],
   "source": []
  },
  {
   "cell_type": "markdown",
   "id": "3b5b9f34",
   "metadata": {},
   "source": [
    "We can't multiply two lists together, but we can multiply two (appropriately shaped) arrays together, which is performed element-wise:"
   ]
  },
  {
   "cell_type": "code",
   "execution_count": null,
   "id": "0d661a0f",
   "metadata": {},
   "outputs": [],
   "source": []
  },
  {
   "cell_type": "code",
   "execution_count": null,
   "id": "c720d16e",
   "metadata": {},
   "outputs": [],
   "source": []
  },
  {
   "cell_type": "markdown",
   "id": "75700ab2",
   "metadata": {},
   "source": [
    "We can exponentiate arrays also:"
   ]
  },
  {
   "cell_type": "code",
   "execution_count": null,
   "id": "87f964c4",
   "metadata": {},
   "outputs": [],
   "source": []
  },
  {
   "cell_type": "markdown",
   "id": "963739ed",
   "metadata": {},
   "source": [
    "**Note:** Two NumPy arrays must have compatible shape to perform operations involving them:"
   ]
  },
  {
   "cell_type": "code",
   "execution_count": null,
   "id": "e5ecf5be",
   "metadata": {},
   "outputs": [],
   "source": []
  },
  {
   "cell_type": "code",
   "execution_count": null,
   "id": "05a2914f",
   "metadata": {},
   "outputs": [],
   "source": []
  },
  {
   "cell_type": "code",
   "execution_count": null,
   "id": "7e6a0228",
   "metadata": {},
   "outputs": [],
   "source": []
  },
  {
   "cell_type": "markdown",
   "id": "1aea978f",
   "metadata": {},
   "source": [
    "We can use indexing and slicing to access elements from arrays just as we do with lists:"
   ]
  },
  {
   "cell_type": "code",
   "execution_count": null,
   "id": "d09bda9d",
   "metadata": {},
   "outputs": [],
   "source": []
  },
  {
   "cell_type": "code",
   "execution_count": null,
   "id": "2d7b586f",
   "metadata": {},
   "outputs": [],
   "source": []
  },
  {
   "cell_type": "code",
   "execution_count": null,
   "id": "61583c73",
   "metadata": {},
   "outputs": [],
   "source": []
  },
  {
   "cell_type": "markdown",
   "id": "7ce8f985",
   "metadata": {},
   "source": [
    "We can generate an array of equally spaced points using the `np.linspace` command. The syntax is `np.linspace(a,b,N)` where:\n",
    "* `a` is the first $x$-value\n",
    "* `b` is the last $x$-value\n",
    "* `N` is the number of grid points"
   ]
  },
  {
   "cell_type": "code",
   "execution_count": null,
   "id": "8b3f78fa",
   "metadata": {},
   "outputs": [],
   "source": []
  },
  {
   "cell_type": "code",
   "execution_count": null,
   "id": "55ec6c1b",
   "metadata": {},
   "outputs": [],
   "source": []
  },
  {
   "cell_type": "markdown",
   "id": "5817eb89",
   "metadata": {},
   "source": [
    "We can't use the `cos` function from the math module on numpy arrays. Instead, we should use the `np.cos` function, i.e. the cosine function that is supplied by numpy."
   ]
  },
  {
   "cell_type": "code",
   "execution_count": null,
   "id": "578fa171",
   "metadata": {},
   "outputs": [],
   "source": []
  },
  {
   "cell_type": "markdown",
   "id": "90de54c3",
   "metadata": {},
   "source": [
    "Matplotlib is friendly to numpy arrays:"
   ]
  },
  {
   "cell_type": "code",
   "execution_count": null,
   "id": "aa8f1155",
   "metadata": {},
   "outputs": [],
   "source": []
  },
  {
   "cell_type": "markdown",
   "id": "18bb3da8",
   "metadata": {},
   "source": [
    "**Note:** Operations in numpy can be much faster than in pure Python:"
   ]
  },
  {
   "cell_type": "code",
   "execution_count": null,
   "id": "e5061c0b",
   "metadata": {},
   "outputs": [],
   "source": []
  },
  {
   "cell_type": "code",
   "execution_count": null,
   "id": "d93241ca",
   "metadata": {},
   "outputs": [],
   "source": []
  }
 ],
 "metadata": {
  "kernelspec": {
   "display_name": "Python 3 (ipykernel)",
   "language": "python",
   "name": "python3"
  },
  "language_info": {
   "codemirror_mode": {
    "name": "ipython",
    "version": 3
   },
   "file_extension": ".py",
   "mimetype": "text/x-python",
   "name": "python",
   "nbconvert_exporter": "python",
   "pygments_lexer": "ipython3",
   "version": "3.9.13"
  }
 },
 "nbformat": 4,
 "nbformat_minor": 5
}
