{
 "cells": [
  {
   "cell_type": "markdown",
   "id": "5b6fb7f7-7c8a-472f-995e-d786d5fae47c",
   "metadata": {},
   "source": [
    "# Monday, September 22nd, 2025\n",
    "\n",
    "## [Project 1: A prime or not a prime](https://jllottes.github.io/Projects/prime_or_not/prime_or_not.html)\n",
    "\n",
    "Reminder, [Project 1: A prime or not a prime](https://jllottes.github.io/Projects/prime_or_not/prime_or_not.html), is due this Wednesday at 11:59PM.\n",
    "Some comments:\n",
    " - Your report should be written with the expectation that the reader will be someone not from our class. They will not be familiar with the terms that we have introduced, so your report will need to introduce them (e.g. define *prime numbers*, define what it means to be *prime-like*, to be a *false prime*, etc.). See the [sample project](https://jllottes.github.io/_static/projects/twin_primes.html) to get an idea of the style.\n",
    " - Your report should be written as a self-contained work. There should not be references to \"Exercise 1\", or \"Part 1\", \"Part 2\", etc. that are described on the project page. These parts will likely show up somewhere in the report (e.g. you will want to define and use a `get_primes` function), but they should come up naturally through the narrative of the report.\n",
    " - Your code should be able to find the first 20 false primes in a reasonable amount of time (say, 30 seconds or less). If it takes longer, try to think of ways that we can improve the speed (e.g. use the `pow` function, use the $\\sqrt{n}$ optimization for identifying primes, etc.). You can also ask for tips on making improvements.\n",
    " - Before submitting your report, please go through the checklist at the top of the [Project Report Guide](https://jllottes.github.io/report_guide.html). You should make absolutely sure that your notebook can be run top-to-bottom with no errors."
   ]
  },
  {
   "cell_type": "markdown",
   "id": "e286e96d-1f8c-42c1-9f2c-44d0e0fc1b3a",
   "metadata": {},
   "source": [
    "### Experiment:"
   ]
  },
  {
   "cell_type": "code",
   "execution_count": 1,
   "id": "d639b3e0-3de1-4328-9650-caf7039368fc",
   "metadata": {},
   "outputs": [],
   "source": [
    "import time"
   ]
  },
  {
   "cell_type": "markdown",
   "id": "2deb0106-d2c5-4c8e-b697-6849746ec1ef",
   "metadata": {},
   "source": [
    "From the `time` module, there is a function `sleep` that will cause Python to hold for a desired number of seconds."
   ]
  },
  {
   "cell_type": "code",
   "execution_count": 8,
   "id": "c7d08f0f-8df4-4739-a787-13f6be7a8349",
   "metadata": {},
   "outputs": [],
   "source": [
    "def f():\n",
    "    print('Hello')\n",
    "    return True"
   ]
  },
  {
   "cell_type": "code",
   "execution_count": 9,
   "id": "b8cd188c-0c25-4595-99ea-e7d464b92f9f",
   "metadata": {},
   "outputs": [],
   "source": [
    "def g():\n",
    "    print('Goodbye')\n",
    "    return False"
   ]
  },
  {
   "cell_type": "code",
   "execution_count": 10,
   "id": "e3604676-da25-4a50-90a0-9b9c1601df7d",
   "metadata": {},
   "outputs": [],
   "source": [
    "def h():\n",
    "    time.sleep(5)\n",
    "    print('Good morning')\n",
    "    return True"
   ]
  },
  {
   "cell_type": "code",
   "execution_count": 11,
   "id": "12e65c21-0085-4c05-bbaa-87f74a49ae9b",
   "metadata": {},
   "outputs": [],
   "source": [
    "def i():\n",
    "    time.sleep(5)\n",
    "    print('Good night')\n",
    "    return False"
   ]
  },
  {
   "cell_type": "code",
   "execution_count": 12,
   "id": "b28d7a83-b1d9-4358-9358-69c6c3767515",
   "metadata": {},
   "outputs": [
    {
     "name": "stdout",
     "output_type": "stream",
     "text": [
      "Hello\n",
      "Good morning\n",
      "Done\n"
     ]
    }
   ],
   "source": [
    "if f() and h():\n",
    "    print('Done')"
   ]
  },
  {
   "cell_type": "code",
   "execution_count": 13,
   "id": "5401b2ec-1a3e-481f-a1d5-36f9efbddfad",
   "metadata": {},
   "outputs": [
    {
     "name": "stdout",
     "output_type": "stream",
     "text": [
      "Hello\n",
      "Good night\n"
     ]
    }
   ],
   "source": [
    "if f() and i():\n",
    "    print('Done')"
   ]
  },
  {
   "cell_type": "code",
   "execution_count": 14,
   "id": "9e3cfd47-a4b6-4f50-a27f-841108178843",
   "metadata": {},
   "outputs": [
    {
     "name": "stdout",
     "output_type": "stream",
     "text": [
      "Good morning\n",
      "Hello\n",
      "Done\n"
     ]
    }
   ],
   "source": [
    "if h() and f():\n",
    "    print('Done')"
   ]
  },
  {
   "cell_type": "code",
   "execution_count": 15,
   "id": "f17d5509-4595-42fc-ac0d-8f25dc65a7b1",
   "metadata": {},
   "outputs": [
    {
     "name": "stdout",
     "output_type": "stream",
     "text": [
      "Good night\n"
     ]
    }
   ],
   "source": [
    "if i() and f():\n",
    "    print('Done')"
   ]
  },
  {
   "cell_type": "code",
   "execution_count": 16,
   "id": "741cb1a6-c609-48a2-ab8e-ffd77300799c",
   "metadata": {},
   "outputs": [
    {
     "name": "stdout",
     "output_type": "stream",
     "text": [
      "Goodbye\n"
     ]
    }
   ],
   "source": [
    "if g() and h():\n",
    "    print('Done')"
   ]
  },
  {
   "cell_type": "markdown",
   "id": "cee69e1c-514b-4947-a58b-3a6bac29fd7e",
   "metadata": {},
   "source": [
    "How does this connect to Project 1?"
   ]
  },
  {
   "cell_type": "code",
   "execution_count": null,
   "id": "33c163a7-0fb0-4b4b-8199-1e511499aba8",
   "metadata": {},
   "outputs": [],
   "source": [
    "def is_prime(n):\n",
    "    ..."
   ]
  },
  {
   "cell_type": "code",
   "execution_count": null,
   "id": "39fa1671-568f-491e-b0b1-be3c6cb14ba3",
   "metadata": {},
   "outputs": [],
   "source": [
    "def is_prime_like(n):\n",
    "    ..."
   ]
  },
  {
   "cell_type": "code",
   "execution_count": null,
   "id": "142e4aea-cb6b-4a3b-87af-4a63f5b362cf",
   "metadata": {},
   "outputs": [],
   "source": [
    "def is_false_prime(n):\n",
    "    if is_prime_like(n) and not is_prime(n):\n",
    "        return True\n",
    "    else:\n",
    "        return False"
   ]
  },
  {
   "cell_type": "markdown",
   "id": "a8194566-719c-4451-8cd8-5631d4be5f8e",
   "metadata": {},
   "source": [
    "Some thoughts:\n",
    "\n",
    "If $n$ is an even false prime, consider what happens for $a = n - 1 \\equiv -1 \\pmod n$. We must have $$(n-1)^n \\equiv (n-1) \\mod n$$\n",
    "\n",
    "or\n",
    "\n",
    "$$(-1)^n \\equiv -1 \\pmod n$$"
   ]
  },
  {
   "cell_type": "markdown",
   "id": "1083e5dd-6ee9-4bff-a82a-baf7e631e9b2",
   "metadata": {},
   "source": [
    "$$n = p_1 * p_2 * ... * p_m$$"
   ]
  },
  {
   "cell_type": "markdown",
   "id": "7e74c9ba-3362-484c-b1ef-a19597be619d",
   "metadata": {},
   "source": [
    "$$n = p_1 \\cdot p_2 \\cdots p_m$$"
   ]
  },
  {
   "cell_type": "code",
   "execution_count": null,
   "id": "32c83bc2-e6a3-4983-9675-d65329fea0ed",
   "metadata": {},
   "outputs": [],
   "source": [
    "def get_false_primes(N=20):\n",
    "    ...\n",
    "    return first_N_false_primes"
   ]
  },
  {
   "cell_type": "code",
   "execution_count": null,
   "id": "b0e28696-ba96-4445-86fd-04bbb9307d00",
   "metadata": {},
   "outputs": [],
   "source": [
    "false_primes = get_false_primes(20)"
   ]
  },
  {
   "cell_type": "markdown",
   "id": "6f6edf3d-c96f-4f0f-bf45-7cb6dd8a267e",
   "metadata": {},
   "source": [
    "## [Project 2: Pythagorean triples](https://jllottes.github.io/Projects/pythagorean_triples/pythagorean_triples.html)\n",
    "\n",
    "The [second project](https://jllottes.github.io/Projects/pythagorean_triples/pythagorean_triples.html) deals with Pythagorean triples, that is, triples of integers $(a,b,c)$ such that $a^2 + b^2 = c^2$. The project is due Monday, October 6th at 11:59PM. We've already seen all of the Python tools necessary to complete this project, so I would encourage you to get started as soon as you are finished with Project 1."
   ]
  },
  {
   "cell_type": "markdown",
   "id": "026834ee-9be0-4ba7-80d9-0ed5e04fd55a",
   "metadata": {},
   "source": [
    "## Plotting with `matplotlib.pyplot` (continued)\n",
    "\n",
    "Last week, we looked at using the `plot` function from `matplotlib.pyplot` for creating graphs in Python. Recall, we typically use `import matplotlib.pyplot as plt` to get access to the plot function via `plt.plot`."
   ]
  },
  {
   "cell_type": "markdown",
   "id": "3b107b41-9229-4e2d-8a33-3180f805d77f",
   "metadata": {},
   "source": [
    "**Exercise:** Use `plt.plot` to plot $y = \\sin(x)$ and $y=\\cos(x)$ for $0 \\leq x \\leq 2\\pi$.\n",
    "\n",
    "Note: we can import the `sin` and `cos` functions from the `math` module."
   ]
  },
  {
   "cell_type": "code",
   "execution_count": 18,
   "id": "7304f86e-51b4-4a0f-8d51-ae9e195d26a5",
   "metadata": {},
   "outputs": [],
   "source": [
    "from math import sin, cos, pi\n",
    "\n",
    "N = 1000          # We're going to plot using N+1 data-points\n",
    "a = 0             # Left end of the the x-interval\n",
    "b = 2*pi          # Right end of the x-interval\n",
    "\n",
    "dx = (b-a)/N                             # The width between adjacent x-values\n",
    "x_list = [a + i*dx for i in range(N+1)]  # List of N+1n equally spaced x-values from a to b\n",
    "sin_x_list = [sin(x) for x in x_list]    # sin(x) list\n",
    "cos_x_list = [cos(x) for x in x_list]    # cos(x) list"
   ]
  },
  {
   "cell_type": "code",
   "execution_count": 19,
   "id": "227eb722-d8d6-45d1-b41b-bb41925a3796",
   "metadata": {},
   "outputs": [
    {
     "data": {
      "text/plain": [
       "Text(0, 0.5, '$y$')"
      ]
     },
     "execution_count": 19,
     "metadata": {},
     "output_type": "execute_result"
    },
    {
     "data": {
      "image/png": "[encoded data removed]",
      "text/plain": [
       "<Figure size 640x480 with 1 Axes>"
      ]
     },
     "metadata": {},
     "output_type": "display_data"
    }
   ],
   "source": [
    "import matplotlib.pyplot as plt\n",
    "\n",
    "plt.plot(x_list, sin_x_list, label='$y=\\sin x$')\n",
    "plt.plot(x_list, cos_x_list, label='$y=\\cos x$')\n",
    "\n",
    "plt.legend()\n",
    "plt.title('Sine and cosine')\n",
    "plt.xlabel('$x$')\n",
    "plt.ylabel('$y$')"
   ]
  },
  {
   "cell_type": "markdown",
   "id": "9f06939f-04aa-4ce4-9c88-7b5fa8c0ce26",
   "metadata": {},
   "source": [
    "Some thoughts:\n",
    " - It would be nice if we could more easily generate a list of equally spaced $x$-values between $0$ and $2\\pi$ (or, more generally, spanning some interval).\n",
    " - It would be nice if we could more easily apply a function to a list of data points (e.g. something like `sin(x_list)`)."
   ]
  },
  {
   "cell_type": "code",
   "execution_count": 20,
   "id": "2a9690cb-12a5-46f7-99a5-0508903ef501",
   "metadata": {},
   "outputs": [
    {
     "ename": "TypeError",
     "evalue": "must be real number, not list",
     "output_type": "error",
     "traceback": [
      "\u001b[1;31m---------------------------------------------------------------------------\u001b[0m",
      "\u001b[1;31mTypeError\u001b[0m                                 Traceback (most recent call last)",
      "Cell \u001b[1;32mIn[20], line 1\u001b[0m\n\u001b[1;32m----> 1\u001b[0m sin(x_list)\n",
      "\u001b[1;31mTypeError\u001b[0m: must be real number, not list"
     ]
    }
   ],
   "source": [
    "sin(x_list)"
   ]
  },
  {
   "cell_type": "markdown",
   "id": "9d446d93-e585-4f3d-8440-4121bc1a37e7",
   "metadata": {},
   "source": [
    "## NumPy\n",
    "\n",
    "The NumPy (*Num*erical *Py*thon) module contains many useful tools for numerical calculations in Python. We typically import the module and assign the name `np`."
   ]
  },
  {
   "cell_type": "code",
   "execution_count": 21,
   "id": "666a5c1e-e020-4ed4-b007-f26d4ed944c8",
   "metadata": {},
   "outputs": [],
   "source": [
    "import numpy as np"
   ]
  },
  {
   "cell_type": "markdown",
   "id": "0f801b0c-df42-4ebd-b3ff-224d063c1d3f",
   "metadata": {},
   "source": [
    "The basic building blocks in NumPy are *arrays*, which in many ways behave like lists. We can use the `np.array` function to convert a list to an array."
   ]
  },
  {
   "cell_type": "code",
   "execution_count": 22,
   "id": "fe40ab47-ce4c-45e8-bb55-87ba7a739115",
   "metadata": {},
   "outputs": [
    {
     "data": {
      "text/plain": [
       "array([0, 1, 2, 3, 4, 5, 6])"
      ]
     },
     "execution_count": 22,
     "metadata": {},
     "output_type": "execute_result"
    }
   ],
   "source": [
    "my_array = np.array([0,1,2,3,4,5,6])\n",
    "my_array"
   ]
  },
  {
   "cell_type": "markdown",
   "id": "a8292c1a-fdcb-4113-85f4-edc5683568af",
   "metadata": {},
   "source": [
    "Just like with lists, we can acccess elements of an array by index using square brackets:"
   ]
  },
  {
   "cell_type": "code",
   "execution_count": 23,
   "id": "6d3750cc-33d1-4b86-9da4-04608e9fec52",
   "metadata": {},
   "outputs": [
    {
     "data": {
      "text/plain": [
       "np.int64(0)"
      ]
     },
     "execution_count": 23,
     "metadata": {},
     "output_type": "execute_result"
    }
   ],
   "source": [
    "my_array[0]"
   ]
  },
  {
   "cell_type": "code",
   "execution_count": 24,
   "id": "f0514673-1dc6-468b-9466-96d3a1ef85d8",
   "metadata": {},
   "outputs": [
    {
     "data": {
      "text/plain": [
       "np.int64(6)"
      ]
     },
     "execution_count": 24,
     "metadata": {},
     "output_type": "execute_result"
    }
   ],
   "source": [
    "my_array[-1]"
   ]
  },
  {
   "cell_type": "markdown",
   "id": "19404e03-d595-4750-be11-cc6a38e23ef6",
   "metadata": {},
   "source": [
    "We can also use slicing to access parts of an array:"
   ]
  },
  {
   "cell_type": "code",
   "execution_count": 25,
   "id": "1f0577b0-f427-4768-8b2c-821c2f01cfe0",
   "metadata": {},
   "outputs": [
    {
     "data": {
      "text/plain": [
       "array([1, 3, 5])"
      ]
     },
     "execution_count": 25,
     "metadata": {},
     "output_type": "execute_result"
    }
   ],
   "source": [
    "my_array[1::2]"
   ]
  },
  {
   "cell_type": "markdown",
   "id": "04cbfa0d-bad7-488f-adf1-5e90ba045d3b",
   "metadata": {},
   "source": [
    "Unlike lists, NumPy arrays are built to perform arithmetic operations on an element-by-element basis. For example, compare what happens when we multiply a list by an integer and what happens when we multiply an array by an integer:"
   ]
  },
  {
   "cell_type": "code",
   "execution_count": 26,
   "id": "6b5bf212-0cf7-4b28-b04e-566efa80a26b",
   "metadata": {},
   "outputs": [
    {
     "data": {
      "text/plain": [
       "[0, 1, 2, 3, 4, 5, 6, 0, 1, 2, 3, 4, 5, 6, 0, 1, 2, 3, 4, 5, 6]"
      ]
     },
     "execution_count": 26,
     "metadata": {},
     "output_type": "execute_result"
    }
   ],
   "source": [
    "my_list = [0,1,2,3,4,5,6]\n",
    "3 * my_list"
   ]
  },
  {
   "cell_type": "code",
   "execution_count": 27,
   "id": "07ab6192-8a2b-4bee-8355-ea68d806cf43",
   "metadata": {},
   "outputs": [
    {
     "data": {
      "text/plain": [
       "array([ 0,  3,  6,  9, 12, 15, 18])"
      ]
     },
     "execution_count": 27,
     "metadata": {},
     "output_type": "execute_result"
    }
   ],
   "source": [
    "3 * my_array"
   ]
  },
  {
   "cell_type": "markdown",
   "id": "740e79db-3349-48aa-9f4d-e94416077f4c",
   "metadata": {},
   "source": [
    "In a similar way:\n",
    "\n",
    " - Adding/subtracting/multiplying/dividing an array by an integer/float adds/subtracts/multiplies/divides each element by the integer/float.\n",
    " - Exponentiating/modular dividing an array by an integer/float is performed on each element.\n",
    " - If we have two arrays of the same shape, we can add/subtract/multiply/divide/exponentiate/modular divide one by the other. The operation will be performed element-by-element (that is, the first elements from each array will be added/subtracted/multiplied/etc., the second elements from each array will be...)."
   ]
  },
  {
   "cell_type": "code",
   "execution_count": 28,
   "id": "8086e57c-420f-4e1c-bb22-8ff02bf34ef8",
   "metadata": {},
   "outputs": [],
   "source": [
    "my_array1 = np.array([0,1,2,3])\n",
    "my_array2 = np.array([4,5,6,7])"
   ]
  },
  {
   "cell_type": "code",
   "execution_count": 29,
   "id": "5907b0db-d19f-49aa-9689-6b7f387fa590",
   "metadata": {},
   "outputs": [
    {
     "data": {
      "text/plain": [
       "array([ 4,  6,  8, 10])"
      ]
     },
     "execution_count": 29,
     "metadata": {},
     "output_type": "execute_result"
    }
   ],
   "source": [
    "my_array1 + my_array2"
   ]
  },
  {
   "cell_type": "code",
   "execution_count": 30,
   "id": "eb1c179e-d472-4e92-9f39-6185c6629295",
   "metadata": {},
   "outputs": [
    {
     "data": {
      "text/plain": [
       "array([   0,    1,   64, 2187])"
      ]
     },
     "execution_count": 30,
     "metadata": {},
     "output_type": "execute_result"
    }
   ],
   "source": [
    "my_array1 ** my_array2"
   ]
  },
  {
   "cell_type": "markdown",
   "id": "34331c27-e9db-43ad-9562-45cdb98d12d8",
   "metadata": {},
   "source": [
    "Let's return to the earlier exercise of plotting $y=\\sin(x)$ and $y=\\cos(x)$. The `np.linspace` function can be used to easliy generate an array of evenly spaced points over some interval. The basic syntax\n",
    "\n",
    "> `np.linspace(a,b,N)` \n",
    "\n",
    "generates an array of $N$ evenly spaced points over the interval $[a, b]$."
   ]
  },
  {
   "cell_type": "code",
   "execution_count": 32,
   "id": "67443ea7-a4ac-4cae-8b4f-74bea914eedf",
   "metadata": {},
   "outputs": [],
   "source": [
    "#help(np.linspace)"
   ]
  },
  {
   "cell_type": "code",
   "execution_count": 33,
   "id": "cc689847-e05c-4ab8-9221-6dbcafeccaaa",
   "metadata": {},
   "outputs": [],
   "source": [
    "N = 1000\n",
    "a = 0\n",
    "b = 2*pi\n",
    "\n",
    "x = np.linspace(a,b,N+1)"
   ]
  },
  {
   "cell_type": "markdown",
   "id": "e2f5969c-c3e5-4ae4-b0da-050578578636",
   "metadata": {},
   "source": [
    "We now want to apply the `sin` and `cos` functions to each element in the array. "
   ]
  },
  {
   "cell_type": "code",
   "execution_count": 34,
   "id": "a89fc5d0-5e57-406d-94bb-c2086af9b0e8",
   "metadata": {},
   "outputs": [
    {
     "ename": "TypeError",
     "evalue": "only length-1 arrays can be converted to Python scalars",
     "output_type": "error",
     "traceback": [
      "\u001b[1;31m---------------------------------------------------------------------------\u001b[0m",
      "\u001b[1;31mTypeError\u001b[0m                                 Traceback (most recent call last)",
      "Cell \u001b[1;32mIn[34], line 1\u001b[0m\n\u001b[1;32m----> 1\u001b[0m sin(x)\n",
      "\u001b[1;31mTypeError\u001b[0m: only length-1 arrays can be converted to Python scalars"
     ]
    }
   ],
   "source": [
    "sin(x)"
   ]
  },
  {
   "cell_type": "markdown",
   "id": "0a1a6ada-4ceb-4697-9565-85a3f95ee61f",
   "metadata": {},
   "source": [
    "Note: We imported the `sin` and `cos` functions from the `math` module, but they are not designed to work with arrays. Instead, we can either import `sin` and `cos` from the `numpy` module (replacing the previously imported versions from the `math` module), or we can use `np.sin` and `np.cos`."
   ]
  },
  {
   "cell_type": "markdown",
   "id": "1df5c650-d1f5-4f0e-8b45-49999ba2404e",
   "metadata": {},
   "source": [
    "**Exercise:** Use NumPy and `plt.plot` to plot $y = \\sin(x)$ and $y=\\cos(x)$ for $0 \\leq x \\leq 2\\pi$."
   ]
  },
  {
   "cell_type": "code",
   "execution_count": 35,
   "id": "852f416b-3071-443d-8886-b2e81bae7612",
   "metadata": {},
   "outputs": [],
   "source": [
    "sin_x = np.sin(x)\n",
    "cos_x = np.cos(x)"
   ]
  },
  {
   "cell_type": "code",
   "execution_count": 36,
   "id": "7f8d23cb-8119-479d-a085-2d40f8563710",
   "metadata": {},
   "outputs": [
    {
     "data": {
      "text/plain": [
       "<matplotlib.legend.Legend at 0x14f94589e50>"
      ]
     },
     "execution_count": 36,
     "metadata": {},
     "output_type": "execute_result"
    },
    {
     "data": {
      "image/png": "[encoded data removed]",
      "text/plain": [
       "<Figure size 640x480 with 1 Axes>"
      ]
     },
     "metadata": {},
     "output_type": "display_data"
    }
   ],
   "source": [
    "plt.plot(x,sin_x,label='$y=\\sin x$')\n",
    "plt.plot(x,cos_x,label='$y=\\cos x$')\n",
    "\n",
    "plt.title('Sine and cosine')\n",
    "plt.xlabel('$x$')\n",
    "plt.ylabel('$y$')\n",
    "plt.legend()"
   ]
  }
 ],
 "metadata": {
  "kernelspec": {
   "display_name": "Python 3 (ipykernel)",
   "language": "python",
   "name": "python3"
  },
  "language_info": {
   "codemirror_mode": {
    "name": "ipython",
    "version": 3
   },
   "file_extension": ".py",
   "mimetype": "text/x-python",
   "name": "python",
   "nbconvert_exporter": "python",
   "pygments_lexer": "ipython3",
   "version": "3.13.5"
  }
 },
 "nbformat": 4,
 "nbformat_minor": 5
}
