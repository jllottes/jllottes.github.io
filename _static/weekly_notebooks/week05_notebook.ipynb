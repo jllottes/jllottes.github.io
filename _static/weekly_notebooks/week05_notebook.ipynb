{
 "cells": [
  {
   "cell_type": "markdown",
   "id": "8486f1a3",
   "metadata": {},
   "source": [
    "# Monday, September 23rd, 2024"
   ]
  },
  {
   "cell_type": "code",
   "execution_count": 2,
   "id": "089b7f03",
   "metadata": {},
   "outputs": [],
   "source": [
    "my_list = [i for i in range(100)]"
   ]
  },
  {
   "cell_type": "markdown",
   "id": "dc36ad8e",
   "metadata": {},
   "source": [
    "Recall: we can access elements of a list using `[]`:"
   ]
  },
  {
   "cell_type": "code",
   "execution_count": 3,
   "id": "956dad06",
   "metadata": {},
   "outputs": [
    {
     "data": {
      "text/plain": [
       "0"
      ]
     },
     "execution_count": 3,
     "metadata": {},
     "output_type": "execute_result"
    }
   ],
   "source": [
    "my_list[0]"
   ]
  },
  {
   "cell_type": "code",
   "execution_count": 4,
   "id": "191448e4",
   "metadata": {},
   "outputs": [
    {
     "data": {
      "text/plain": [
       "99"
      ]
     },
     "execution_count": 4,
     "metadata": {},
     "output_type": "execute_result"
    }
   ],
   "source": [
    "my_list[-1]"
   ]
  },
  {
   "cell_type": "markdown",
   "id": "8f53b0a2",
   "metadata": {},
   "source": [
    "Very often, we want to get a \"slice\" of elements. We can do this using `[]` together with `:`."
   ]
  },
  {
   "cell_type": "code",
   "execution_count": 5,
   "id": "b9703737",
   "metadata": {},
   "outputs": [
    {
     "data": {
      "text/plain": [
       "[0, 1, 2, 3, 4, 5, 6, 7, 8, 9]"
      ]
     },
     "execution_count": 5,
     "metadata": {},
     "output_type": "execute_result"
    }
   ],
   "source": [
    "my_list[:10]"
   ]
  },
  {
   "cell_type": "markdown",
   "id": "bb21255a",
   "metadata": {},
   "source": [
    "`my_list[:10]` returns the elements with indices `0, 1, 2, ..., 9`."
   ]
  },
  {
   "cell_type": "code",
   "execution_count": 6,
   "id": "6d313f60",
   "metadata": {},
   "outputs": [
    {
     "data": {
      "text/plain": [
       "[3, 4, 5, 6, 7, 8, 9]"
      ]
     },
     "execution_count": 6,
     "metadata": {},
     "output_type": "execute_result"
    }
   ],
   "source": [
    "my_list[3:10]"
   ]
  },
  {
   "cell_type": "markdown",
   "id": "76efaac9",
   "metadata": {},
   "source": [
    "`my_list[3:10]` returns the elements with indices `3, 4, 5, ..., 9`."
   ]
  },
  {
   "cell_type": "code",
   "execution_count": 7,
   "id": "f748e9fa",
   "metadata": {},
   "outputs": [
    {
     "data": {
      "text/plain": [
       "[3, 5, 7, 9]"
      ]
     },
     "execution_count": 7,
     "metadata": {},
     "output_type": "execute_result"
    }
   ],
   "source": [
    "my_list[3:10:2]"
   ]
  },
  {
   "cell_type": "markdown",
   "id": "fe378340",
   "metadata": {},
   "source": [
    "`my_list[3:10:2]` returns the elements with index greater or equal to `3`, less than `10`, and in steps of `2`."
   ]
  },
  {
   "cell_type": "code",
   "execution_count": 9,
   "id": "b2a2f92d",
   "metadata": {},
   "outputs": [
    {
     "data": {
      "text/plain": [
       "[90, 91, 92, 93, 94, 95, 96, 97, 98, 99]"
      ]
     },
     "execution_count": 9,
     "metadata": {},
     "output_type": "execute_result"
    }
   ],
   "source": [
    "my_list[90:]"
   ]
  },
  {
   "cell_type": "code",
   "execution_count": 10,
   "id": "9cda0ab6",
   "metadata": {},
   "outputs": [
    {
     "data": {
      "text/plain": [
       "[70, 75, 80, 85, 90, 95]"
      ]
     },
     "execution_count": 10,
     "metadata": {},
     "output_type": "execute_result"
    }
   ],
   "source": [
    "my_list[70::5]"
   ]
  },
  {
   "cell_type": "code",
   "execution_count": 11,
   "id": "1c7bc03e",
   "metadata": {},
   "outputs": [
    {
     "data": {
      "text/plain": [
       "[0, 10, 20, 30, 40, 50, 60, 70, 80, 90]"
      ]
     },
     "execution_count": 11,
     "metadata": {},
     "output_type": "execute_result"
    }
   ],
   "source": [
    "my_list[::10]"
   ]
  },
  {
   "cell_type": "markdown",
   "id": "0706fc81",
   "metadata": {},
   "source": [
    "## Sieve of Eratosthenes"
   ]
  },
  {
   "cell_type": "markdown",
   "id": "64857f93",
   "metadata": {},
   "source": [
    "Idea: sequentially remove all multiples of numbers until we are left with only numbers that are not multiples of anything and must be prime (see [Sieve of Eratosthenes](https://en.wikipedia.org/wiki/Sieve_of_Eratosthenes))"
   ]
  },
  {
   "cell_type": "markdown",
   "id": "3e9db629",
   "metadata": {},
   "source": [
    "Let's initialize a list that is full of `True` values, and we will any to `False` if they are not prime."
   ]
  },
  {
   "cell_type": "code",
   "execution_count": 12,
   "id": "f7cd623c",
   "metadata": {},
   "outputs": [],
   "source": [
    "N = 120\n",
    "\n",
    "is_prime_list = [True for n in range(N)]"
   ]
  },
  {
   "cell_type": "markdown",
   "id": "90146e09",
   "metadata": {},
   "source": [
    "We want the `i`th element of `is_prime_list` to be `True` if $i$ is prime and `False` otherwise."
   ]
  },
  {
   "cell_type": "code",
   "execution_count": 15,
   "id": "846d3a6f",
   "metadata": {},
   "outputs": [],
   "source": [
    "is_prime_list[0] = False\n",
    "is_prime_list[1] = False"
   ]
  },
  {
   "cell_type": "markdown",
   "id": "86375c3d",
   "metadata": {},
   "source": [
    "Let's set all multiples of `2` to be `False`:"
   ]
  },
  {
   "cell_type": "code",
   "execution_count": 18,
   "id": "188cea5f",
   "metadata": {},
   "outputs": [],
   "source": [
    "for n in range(4,N,2):\n",
    "    if n % 2 == 0:\n",
    "        is_prime_list[n] = False"
   ]
  },
  {
   "cell_type": "code",
   "execution_count": 20,
   "id": "62016ffc",
   "metadata": {},
   "outputs": [],
   "source": [
    "for n in range(6,N,3):\n",
    "    if n % 3 == 0:\n",
    "        is_prime_list[n] = False"
   ]
  },
  {
   "cell_type": "code",
   "execution_count": 21,
   "id": "7a2357d1",
   "metadata": {},
   "outputs": [
    {
     "data": {
      "text/plain": [
       "[False,\n",
       " False,\n",
       " True,\n",
       " True,\n",
       " False,\n",
       " True,\n",
       " False,\n",
       " True,\n",
       " False,\n",
       " False,\n",
       " False,\n",
       " True,\n",
       " False,\n",
       " True,\n",
       " False,\n",
       " False,\n",
       " False,\n",
       " True,\n",
       " False,\n",
       " True]"
      ]
     },
     "execution_count": 21,
     "metadata": {},
     "output_type": "execute_result"
    }
   ],
   "source": [
    "is_prime_list[:20]"
   ]
  },
  {
   "cell_type": "code",
   "execution_count": 22,
   "id": "c552fd8b",
   "metadata": {},
   "outputs": [],
   "source": [
    "list_of_primes = []\n",
    "n = 0\n",
    "for boolean in is_prime_list:\n",
    "    if boolean:\n",
    "        list_of_primes.append(n)\n",
    "    n += 1"
   ]
  },
  {
   "cell_type": "code",
   "execution_count": 24,
   "id": "667d41a8",
   "metadata": {},
   "outputs": [
    {
     "data": {
      "text/plain": [
       "[2, 3, 5, 7, 11, 13, 17, 19, 23, 25, 29, 31, 35, 37, 41, 43, 47, 49, 53, 55]"
      ]
     },
     "execution_count": 24,
     "metadata": {},
     "output_type": "execute_result"
    }
   ],
   "source": [
    "list_of_primes[:20]"
   ]
  },
  {
   "cell_type": "markdown",
   "id": "361540d1",
   "metadata": {},
   "source": [
    "Let's try to clean this up to automatically check all necessary multiples:"
   ]
  },
  {
   "cell_type": "code",
   "execution_count": 25,
   "id": "26bd2958",
   "metadata": {},
   "outputs": [],
   "source": [
    "N = 120\n",
    "\n",
    "is_prime_list = [True for n in range(N)]\n",
    "is_prime_list[0] = False\n",
    "is_prime_list[1] = False\n",
    "\n",
    "for p in range(N):\n",
    "    if is_prime_list[p]:    # If p is considered a prime number\n",
    "        for n in range(2*p, N, p): # Iterate through 2p, 3p, 4p, ...\n",
    "            is_prime_list[n] = False\n",
    "            \n"
   ]
  },
  {
   "cell_type": "markdown",
   "id": "154f8e35",
   "metadata": {},
   "source": [
    "**Exercise:** Modify the code above to use slices instead of the inner `for` loop."
   ]
  },
  {
   "cell_type": "code",
   "execution_count": 36,
   "id": "62fd845a",
   "metadata": {},
   "outputs": [],
   "source": [
    "N = 120\n",
    "\n",
    "is_prime_list = [True for n in range(N)]\n",
    "is_prime_list[0] = False\n",
    "is_prime_list[1] = False\n",
    "\n",
    "for p in range(N):\n",
    "    if is_prime_list[p]:    # If p is considered a prime number\n",
    "        is_prime_list[2*p:N:p] = [False for n in range(2*p,N,p)]\n",
    "            \n"
   ]
  },
  {
   "cell_type": "markdown",
   "id": "ba5d7e54",
   "metadata": {},
   "source": [
    "Note: in order to set an entire slice to `False`, we will need to construct a list of `False`s with the same length."
   ]
  },
  {
   "cell_type": "code",
   "execution_count": 37,
   "id": "00fc39a1",
   "metadata": {},
   "outputs": [],
   "source": [
    "list_of_primes = []\n",
    "n = 0\n",
    "for boolean in is_prime_list:\n",
    "    if boolean:\n",
    "        list_of_primes.append(n)\n",
    "    n += 1"
   ]
  },
  {
   "cell_type": "markdown",
   "id": "c6659d82",
   "metadata": {},
   "source": [
    "**Exercise:** Modify the code above to use list comprehension to generate `list_of_primes`."
   ]
  },
  {
   "cell_type": "code",
   "execution_count": 38,
   "id": "ab44da08",
   "metadata": {},
   "outputs": [
    {
     "data": {
      "text/plain": [
       "[2, 3, 5, 7, 11, 13, 17, 19, 23, 29, 31, 37, 41, 43, 47, 53, 59, 61, 67, 71]"
      ]
     },
     "execution_count": 38,
     "metadata": {},
     "output_type": "execute_result"
    }
   ],
   "source": [
    "list_of_primes = [n for n in range(N) if is_prime_list[n]]\n",
    "\n",
    "list_of_primes[:20]"
   ]
  },
  {
   "cell_type": "markdown",
   "id": "d91ef3c1",
   "metadata": {},
   "source": [
    "When iterating through a list, if we want to simultaneously iterate through it's index we can use `enumerate`:"
   ]
  },
  {
   "cell_type": "code",
   "execution_count": 39,
   "id": "7c08703e",
   "metadata": {},
   "outputs": [
    {
     "name": "stdout",
     "output_type": "stream",
     "text": [
      "0 False\n",
      "1 False\n",
      "2 True\n",
      "3 True\n",
      "4 False\n",
      "5 True\n",
      "6 False\n",
      "7 True\n",
      "8 False\n",
      "9 False\n",
      "10 False\n",
      "11 True\n",
      "12 False\n",
      "13 True\n",
      "14 False\n",
      "15 False\n",
      "16 False\n",
      "17 True\n",
      "18 False\n",
      "19 True\n",
      "20 False\n",
      "21 False\n",
      "22 False\n",
      "23 True\n",
      "24 False\n",
      "25 False\n",
      "26 False\n",
      "27 False\n",
      "28 False\n",
      "29 True\n",
      "30 False\n",
      "31 True\n",
      "32 False\n",
      "33 False\n",
      "34 False\n",
      "35 False\n",
      "36 False\n",
      "37 True\n",
      "38 False\n",
      "39 False\n",
      "40 False\n",
      "41 True\n",
      "42 False\n",
      "43 True\n",
      "44 False\n",
      "45 False\n",
      "46 False\n",
      "47 True\n",
      "48 False\n",
      "49 False\n",
      "50 False\n",
      "51 False\n",
      "52 False\n",
      "53 True\n",
      "54 False\n",
      "55 False\n",
      "56 False\n",
      "57 False\n",
      "58 False\n",
      "59 True\n",
      "60 False\n",
      "61 True\n",
      "62 False\n",
      "63 False\n",
      "64 False\n",
      "65 False\n",
      "66 False\n",
      "67 True\n",
      "68 False\n",
      "69 False\n",
      "70 False\n",
      "71 True\n",
      "72 False\n",
      "73 True\n",
      "74 False\n",
      "75 False\n",
      "76 False\n",
      "77 False\n",
      "78 False\n",
      "79 True\n",
      "80 False\n",
      "81 False\n",
      "82 False\n",
      "83 True\n",
      "84 False\n",
      "85 False\n",
      "86 False\n",
      "87 False\n",
      "88 False\n",
      "89 True\n",
      "90 False\n",
      "91 False\n",
      "92 False\n",
      "93 False\n",
      "94 False\n",
      "95 False\n",
      "96 False\n",
      "97 True\n",
      "98 False\n",
      "99 False\n",
      "100 False\n",
      "101 True\n",
      "102 False\n",
      "103 True\n",
      "104 False\n",
      "105 False\n",
      "106 False\n",
      "107 True\n",
      "108 False\n",
      "109 True\n",
      "110 False\n",
      "111 False\n",
      "112 False\n",
      "113 True\n",
      "114 False\n",
      "115 False\n",
      "116 False\n",
      "117 False\n",
      "118 False\n",
      "119 False\n"
     ]
    }
   ],
   "source": [
    "for n,boolean in enumerate(is_prime_list):\n",
    "    print(n,boolean)"
   ]
  },
  {
   "cell_type": "code",
   "execution_count": 56,
   "id": "7f8c3ad5",
   "metadata": {},
   "outputs": [
    {
     "data": {
      "text/plain": [
       "[2, 3, 5, 7, 11, 13, 17, 19, 23, 29, 31, 37, 41, 43, 47, 53, 59, 61, 67, 71]"
      ]
     },
     "execution_count": 56,
     "metadata": {},
     "output_type": "execute_result"
    }
   ],
   "source": [
    "list_of_primes = []\n",
    "for n, is_prime in enumerate(is_prime_list):\n",
    "    if is_prime:\n",
    "        list_of_primes.append(n)\n",
    "    \n",
    "list_of_primes[:20]"
   ]
  },
  {
   "cell_type": "code",
   "execution_count": 40,
   "id": "57f9b032",
   "metadata": {},
   "outputs": [
    {
     "data": {
      "text/plain": [
       "[2, 3, 5, 7, 11, 13, 17, 19, 23, 29, 31, 37, 41, 43, 47, 53, 59, 61, 67, 71]"
      ]
     },
     "execution_count": 40,
     "metadata": {},
     "output_type": "execute_result"
    }
   ],
   "source": [
    "list_of_primes = [n for n, is_prime in enumerate(is_prime_list) if is_prime]\n",
    "\n",
    "list_of_primes[:20]"
   ]
  },
  {
   "cell_type": "markdown",
   "id": "2a16ed43",
   "metadata": {},
   "source": [
    "## Another example of list comprehension:"
   ]
  },
  {
   "cell_type": "code",
   "execution_count": 41,
   "id": "061e14e4",
   "metadata": {},
   "outputs": [],
   "source": [
    "ptriples = [[3, 4, 5],\n",
    "[4, 3, 5],\n",
    "[5, 12, 13],\n",
    "[6, 8, 10],\n",
    "[8, 6, 10],\n",
    "[8, 15, 17],\n",
    "[9, 12, 15],\n",
    "[12, 5, 13],\n",
    "[12, 9, 15],\n",
    "[12, 16, 20],\n",
    "[15, 8, 17],\n",
    "[15, 20, 25],\n",
    "[16, 12, 20],\n",
    "[20, 15, 25]]"
   ]
  },
  {
   "cell_type": "code",
   "execution_count": 43,
   "id": "0049a7b8",
   "metadata": {},
   "outputs": [
    {
     "data": {
      "text/plain": [
       "[[3, 4],\n",
       " [4, 3],\n",
       " [5, 12],\n",
       " [6, 8],\n",
       " [8, 6],\n",
       " [8, 15],\n",
       " [9, 12],\n",
       " [12, 5],\n",
       " [12, 9],\n",
       " [12, 16],\n",
       " [15, 8],\n",
       " [15, 20],\n",
       " [16, 12],\n",
       " [20, 15]]"
      ]
     },
     "execution_count": 43,
     "metadata": {},
     "output_type": "execute_result"
    }
   ],
   "source": [
    "ptuples = [[ptriple[0], ptriple[1]] for ptriple in ptriples]\n",
    "#ptuples = [[ptriple[0], ptriple[1]] for ptriple in ptriples if ptriple[0] <= ptriple[1]]\n",
    "\n",
    "ptuples"
   ]
  },
  {
   "cell_type": "code",
   "execution_count": 45,
   "id": "2a359d4a",
   "metadata": {},
   "outputs": [],
   "source": [
    "a_list = [ptriple[0] for ptriple in ptriples]\n",
    "b_list = [ptriple[1] for ptriple in ptriples]\n",
    "c_list = [ptriple[2] for ptriple in ptriples]"
   ]
  },
  {
   "cell_type": "code",
   "execution_count": 47,
   "id": "f42f74ba",
   "metadata": {},
   "outputs": [],
   "source": [
    "import matplotlib.pyplot as plt"
   ]
  },
  {
   "cell_type": "code",
   "execution_count": 57,
   "id": "e8cd6da8",
   "metadata": {},
   "outputs": [
    {
     "data": {
      "text/plain": [
       "[<matplotlib.lines.Line2D at 0x166efcf2dd0>]"
      ]
     },
     "execution_count": 57,
     "metadata": {},
     "output_type": "execute_result"
    },
    {
     "data": {
      "image/png": "[encoded data removed]",
      "text/plain": [
       "<Figure size 640x480 with 1 Axes>"
      ]
     },
     "metadata": {},
     "output_type": "display_data"
    }
   ],
   "source": [
    "plt.plot(a_list, b_list, marker = 'o', color = 'm', linestyle = '--')"
   ]
  },
  {
   "cell_type": "code",
   "execution_count": 66,
   "id": "5144bde1",
   "metadata": {},
   "outputs": [
    {
     "data": {
      "text/plain": [
       "Text(0.5, 1.0, 'Pythagorean tuples')"
      ]
     },
     "execution_count": 66,
     "metadata": {},
     "output_type": "execute_result"
    },
    {
     "data": {
      "image/png": "[encoded data removed]",
      "text/plain": [
       "<Figure size 640x480 with 1 Axes>"
      ]
     },
     "metadata": {},
     "output_type": "display_data"
    }
   ],
   "source": [
    "plt.plot(a_list, b_list, 'om')\n",
    "plt.xlabel('$a$')\n",
    "plt.ylabel('$b$')\n",
    "plt.title('Pythagorean tuples')"
   ]
  },
  {
   "cell_type": "markdown",
   "id": "965e2bab",
   "metadata": {},
   "source": [
    "## List unpacking"
   ]
  },
  {
   "cell_type": "code",
   "execution_count": 60,
   "id": "5a8777d5",
   "metadata": {},
   "outputs": [],
   "source": [
    "my_list = ['a', 1, 'b', 2]"
   ]
  },
  {
   "cell_type": "markdown",
   "id": "3af3a63d",
   "metadata": {},
   "source": [
    "We can simultaneous set a sequence of variables equal to the elements of a list:"
   ]
  },
  {
   "cell_type": "code",
   "execution_count": 61,
   "id": "fbfaa5fe",
   "metadata": {},
   "outputs": [],
   "source": [
    "e1, e2, e3, e4 = my_list"
   ]
  },
  {
   "cell_type": "code",
   "execution_count": 62,
   "id": "a758d289",
   "metadata": {},
   "outputs": [
    {
     "name": "stdout",
     "output_type": "stream",
     "text": [
      "a\n",
      "1\n",
      "b\n",
      "2\n"
     ]
    }
   ],
   "source": [
    "print(e1)\n",
    "print(e2)\n",
    "print(e3)\n",
    "print(e4)"
   ]
  },
  {
   "cell_type": "markdown",
   "id": "9c0e2ce2",
   "metadata": {},
   "source": [
    "We can use this within list comprehensions:"
   ]
  },
  {
   "cell_type": "code",
   "execution_count": 64,
   "id": "110a4202",
   "metadata": {},
   "outputs": [
    {
     "data": {
      "text/plain": [
       "[[3, 4],\n",
       " [4, 3],\n",
       " [5, 12],\n",
       " [6, 8],\n",
       " [8, 6],\n",
       " [8, 15],\n",
       " [9, 12],\n",
       " [12, 5],\n",
       " [12, 9],\n",
       " [12, 16],\n",
       " [15, 8],\n",
       " [15, 20],\n",
       " [16, 12],\n",
       " [20, 15]]"
      ]
     },
     "execution_count": 64,
     "metadata": {},
     "output_type": "execute_result"
    }
   ],
   "source": [
    "ptuples = [[a,b] for a,b,c in ptriples]\n",
    "\n",
    "ptuples"
   ]
  },
  {
   "cell_type": "code",
   "execution_count": 65,
   "id": "caa0f78c",
   "metadata": {},
   "outputs": [
    {
     "data": {
      "text/plain": [
       "[[3, 4, 5],\n",
       " [4, 3, 5],\n",
       " [5, 12, 13],\n",
       " [6, 8, 10],\n",
       " [8, 6, 10],\n",
       " [8, 15, 17],\n",
       " [9, 12, 15],\n",
       " [12, 5, 13],\n",
       " [12, 9, 15],\n",
       " [12, 16, 20],\n",
       " [15, 8, 17],\n",
       " [15, 20, 25],\n",
       " [16, 12, 20],\n",
       " [20, 15, 25]]"
      ]
     },
     "execution_count": 65,
     "metadata": {},
     "output_type": "execute_result"
    }
   ],
   "source": [
    "from math import sqrt\n",
    "\n",
    "[[a,b, int(sqrt(a**2 + b**2))] for a,b in ptuples]"
   ]
  },
  {
   "cell_type": "markdown",
   "id": "7d3c42c7",
   "metadata": {},
   "source": [
    "We can use `plt.axis('equal')` to force a 1:1 aspect ratio when using `plt.plot`."
   ]
  },
  {
   "cell_type": "code",
   "execution_count": 68,
   "id": "e3823d1d",
   "metadata": {},
   "outputs": [
    {
     "data": {
      "text/plain": [
       "(2.15, 20.85, 2.15, 20.85)"
      ]
     },
     "execution_count": 68,
     "metadata": {},
     "output_type": "execute_result"
    },
    {
     "data": {
      "image/png": "[encoded data removed]",
      "text/plain": [
       "<Figure size 640x480 with 1 Axes>"
      ]
     },
     "metadata": {},
     "output_type": "display_data"
    }
   ],
   "source": [
    "plt.plot(a_list, b_list, 'om')\n",
    "plt.xlabel('$a$')\n",
    "plt.ylabel('$b$')\n",
    "plt.title('Pythagorean tuples')\n",
    "plt.axis('equal')    # This forces a 1:1 aspect ratio"
   ]
  }
 ],
 "metadata": {
  "kernelspec": {
   "display_name": "Python 3 (ipykernel)",
   "language": "python",
   "name": "python3"
  },
  "language_info": {
   "codemirror_mode": {
    "name": "ipython",
    "version": 3
   },
   "file_extension": ".py",
   "mimetype": "text/x-python",
   "name": "python",
   "nbconvert_exporter": "python",
   "pygments_lexer": "ipython3",
   "version": "3.11.5"
  }
 },
 "nbformat": 4,
 "nbformat_minor": 5
}
