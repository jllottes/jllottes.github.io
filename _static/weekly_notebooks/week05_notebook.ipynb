{
 "cells": [
  {
   "cell_type": "markdown",
   "id": "5b6fb7f7-7c8a-472f-995e-d786d5fae47c",
   "metadata": {},
   "source": [
    "# Monday, September 22nd, 2025\n",
    "\n",
    "## [Project 1: A prime or not a prime](https://jllottes.github.io/Projects/prime_or_not/prime_or_not.html)\n",
    "\n",
    "Reminder, [Project 1: A prime or not a prime](https://jllottes.github.io/Projects/prime_or_not/prime_or_not.html), is due this Wednesday at 11:59PM.\n",
    "Some comments:\n",
    " - Your report should be written with the expectation that the reader will be someone not from our class. They will not be familiar with the terms that we have introduced, so your report will need to introduce them (e.g. define *prime numbers*, define what it means to be *prime-like*, to be a *false prime*, etc.). See the [sample project](https://jllottes.github.io/_static/projects/twin_primes.html) to get an idea of the style.\n",
    " - Your report should be written as a self-contained work. There should not be references to \"Exercise 1\", or \"Part 1\", \"Part 2\", etc. that are described on the project page. These parts will likely show up somewhere in the report (e.g. you will want to define and use a `get_primes` function), but they should come up naturally through the narrative of the report.\n",
    " - Your code should be able to find the first 20 false primes in a reasonable amount of time (say, 30 seconds or less). If it takes longer, try to think of ways that we can improve the speed (e.g. use the `pow` function, use the $\\sqrt{n}$ optimization for identifying primes, etc.). You can also ask for tips on making improvements.\n",
    " - Before submitting your report, please go through the checklist at the top of the [Project Report Guide](https://jllottes.github.io/report_guide.html). You should make absolutely sure that your notebook can be run top-to-bottom with no errors."
   ]
  },
  {
   "cell_type": "code",
   "execution_count": null,
   "id": "9fd0f216-cb4c-44b3-b9a7-f5c7822353dc",
   "metadata": {},
   "outputs": [],
   "source": []
  },
  {
   "cell_type": "markdown",
   "id": "6f6edf3d-c96f-4f0f-bf45-7cb6dd8a267e",
   "metadata": {},
   "source": [
    "## [Project 2: Pythagorean triples](https://jllottes.github.io/Projects/pythagorean_triples/pythagorean_triples.html)\n",
    "\n",
    "The [second project](https://jllottes.github.io/Projects/pythagorean_triples/pythagorean_triples.html) deals with Pythagorean triples, that is, triples of integers $(a,b,c)$ such that $a^2 + b^2 = c^2$. The project is due Monday, October 6th at 11:59PM. We've already seen all of the Python tools necessary to complete this project, so I would encourage you to get started as soon as you are finished with Project 1."
   ]
  },
  {
   "cell_type": "markdown",
   "id": "026834ee-9be0-4ba7-80d9-0ed5e04fd55a",
   "metadata": {},
   "source": [
    "## Plotting with `matplotlib.pyplot` (continued)\n",
    "\n",
    "Last week, we looked at using the `plot` function from `matplotlib.pyplot` for creating graphs in Python. Recall, we typically use `import matplotlib.pyplot as plt` to get access to the plot function via `plt.plot`."
   ]
  },
  {
   "cell_type": "markdown",
   "id": "3b107b41-9229-4e2d-8a33-3180f805d77f",
   "metadata": {},
   "source": [
    "**Exercise:** Use `plt.plot` to plot $y = \\sin(x)$ and $y=\\cos(x)$ for $0 \\leq x \\leq 2\\pi$.\n",
    "\n",
    "Note: we can import the `sin` and `cos` functions from the `math` module."
   ]
  },
  {
   "cell_type": "code",
   "execution_count": null,
   "id": "7304f86e-51b4-4a0f-8d51-ae9e195d26a5",
   "metadata": {},
   "outputs": [],
   "source": []
  },
  {
   "cell_type": "markdown",
   "id": "9f06939f-04aa-4ce4-9c88-7b5fa8c0ce26",
   "metadata": {},
   "source": [
    "Some thoughts:\n",
    " - It would be nice if we could more easily generate a list of equally spaced $x$-values between $0$ and $2\\pi$ (or, more generally, spanning some interval).\n",
    " - It would be nice if we could more easily apply a function to a list of data points (e.g. something like `sin(x_list)`)."
   ]
  },
  {
   "cell_type": "code",
   "execution_count": null,
   "id": "2a9690cb-12a5-46f7-99a5-0508903ef501",
   "metadata": {},
   "outputs": [],
   "source": []
  },
  {
   "cell_type": "markdown",
   "id": "9d446d93-e585-4f3d-8440-4121bc1a37e7",
   "metadata": {},
   "source": [
    "## NumPy\n",
    "\n",
    "The NumPy (*Num*erical *Py*thon) module contains many useful tools for numerical calculations in Python. We typically import the module and assign the name `np`."
   ]
  },
  {
   "cell_type": "code",
   "execution_count": null,
   "id": "666a5c1e-e020-4ed4-b007-f26d4ed944c8",
   "metadata": {},
   "outputs": [],
   "source": [
    "import numpy as np"
   ]
  },
  {
   "cell_type": "markdown",
   "id": "0f801b0c-df42-4ebd-b3ff-224d063c1d3f",
   "metadata": {},
   "source": [
    "The basic building blocks in NumPy are *arrays*, which in many ways behave like lists. We can use the `np.array` function to convert a list to an array."
   ]
  },
  {
   "cell_type": "code",
   "execution_count": null,
   "id": "fe40ab47-ce4c-45e8-bb55-87ba7a739115",
   "metadata": {},
   "outputs": [],
   "source": []
  },
  {
   "cell_type": "markdown",
   "id": "a8292c1a-fdcb-4113-85f4-edc5683568af",
   "metadata": {},
   "source": [
    "Just like with lists, we can acccess elements of an array by index using square brackets:"
   ]
  },
  {
   "cell_type": "code",
   "execution_count": null,
   "id": "6d3750cc-33d1-4b86-9da4-04608e9fec52",
   "metadata": {},
   "outputs": [],
   "source": []
  },
  {
   "cell_type": "markdown",
   "id": "19404e03-d595-4750-be11-cc6a38e23ef6",
   "metadata": {},
   "source": [
    "We can also use slicing to access parts of an array:"
   ]
  },
  {
   "cell_type": "code",
   "execution_count": null,
   "id": "1f0577b0-f427-4768-8b2c-821c2f01cfe0",
   "metadata": {},
   "outputs": [],
   "source": []
  },
  {
   "cell_type": "markdown",
   "id": "04cbfa0d-bad7-488f-adf1-5e90ba045d3b",
   "metadata": {},
   "source": [
    "Unlike lists, NumPy arrays are built to perform arithmetic operations on an element-by-element basis. For example, compare what happens when we multiply a list by an integer and what happens when we multiply an array by an integer:"
   ]
  },
  {
   "cell_type": "code",
   "execution_count": null,
   "id": "6b5bf212-0cf7-4b28-b04e-566efa80a26b",
   "metadata": {},
   "outputs": [],
   "source": []
  },
  {
   "cell_type": "code",
   "execution_count": null,
   "id": "07ab6192-8a2b-4bee-8355-ea68d806cf43",
   "metadata": {},
   "outputs": [],
   "source": []
  },
  {
   "cell_type": "markdown",
   "id": "740e79db-3349-48aa-9f4d-e94416077f4c",
   "metadata": {},
   "source": [
    "In a similar way:\n",
    "\n",
    " - Adding/subtracting/multiplying/dividing an array by an integer/float adds/subtracts/multiplies/divides each element by the integer/float.\n",
    " - Exponentiating/modular dividing an array by an integer/float is performed on each element.\n",
    " - If we have two arrays of the same shape, we can add/subtract/multiply/divide/exponentiate/modular divide one by the other. The operation will be performed element-by-element (that is, the first elements from each array will be added/subtracted/multiplied/etc., the second elements from each array will be...)."
   ]
  },
  {
   "cell_type": "code",
   "execution_count": null,
   "id": "8086e57c-420f-4e1c-bb22-8ff02bf34ef8",
   "metadata": {},
   "outputs": [],
   "source": []
  },
  {
   "cell_type": "markdown",
   "id": "34331c27-e9db-43ad-9562-45cdb98d12d8",
   "metadata": {},
   "source": [
    "Let's return to the earlier exercise of plotting $y=\\sin(x)$ and $y=\\cos(x)$. The `np.linspace` function can be used to easliy generate an array of evenly spaced points over some interval. The basic syntax\n",
    "\n",
    "> `np.linspace(a,b,N)` \n",
    "\n",
    "generates an array of $N$ evenly spaced points over the interval $[a, b]$."
   ]
  },
  {
   "cell_type": "code",
   "execution_count": null,
   "id": "67443ea7-a4ac-4cae-8b4f-74bea914eedf",
   "metadata": {},
   "outputs": [],
   "source": [
    "help(np.linspace)"
   ]
  },
  {
   "cell_type": "markdown",
   "id": "e2f5969c-c3e5-4ae4-b0da-050578578636",
   "metadata": {},
   "source": [
    "We now want to apply the `sin` and `cos` functions to each element in the array. "
   ]
  },
  {
   "cell_type": "code",
   "execution_count": null,
   "id": "a89fc5d0-5e57-406d-94bb-c2086af9b0e8",
   "metadata": {},
   "outputs": [],
   "source": []
  },
  {
   "cell_type": "markdown",
   "id": "0a1a6ada-4ceb-4697-9565-85a3f95ee61f",
   "metadata": {},
   "source": [
    "Note: We imported the `sin` and `cos` functions from the `math` module, but they are not designed to work with arrays. Instead, we can either import `sin` and `cos` from the `numpy` module (replacing the previously imported versions from the `math` module), or we can use `np.sin` and `np.cos`."
   ]
  },
  {
   "cell_type": "code",
   "execution_count": null,
   "id": "852f416b-3071-443d-8886-b2e81bae7612",
   "metadata": {},
   "outputs": [],
   "source": []
  },
  {
   "cell_type": "markdown",
   "id": "1df5c650-d1f5-4f0e-8b45-49999ba2404e",
   "metadata": {},
   "source": [
    "**Exercise:** Use NumPy and `plt.plot` to plot $y = \\sin(x)$ and $y=\\cos(x)$ for $0 \\leq x \\leq 2\\pi$."
   ]
  },
  {
   "cell_type": "code",
   "execution_count": null,
   "id": "7f8d23cb-8119-479d-a085-2d40f8563710",
   "metadata": {},
   "outputs": [],
   "source": []
  },
  {
   "cell_type": "markdown",
   "id": "49a5f6d4-fe00-463d-99e5-119beed2b09e",
   "metadata": {},
   "source": [
    "## Comparing speed with NumPy\n",
    "\n",
    "Python is a relatively easy language to code with (in comparison to C/C++, for example). On the other hand, it is a somewhat slow language. For example, Python is much slower to complete a `for` loop iteration than C/C++. The backbone of NumpPy is written in C/C++, which comes with speed advantages. The module essentially gives us the best of both worlds: the ease of use of Python with the speed of C/C++.\n",
    "\n",
    "Let's compare how long it takes to generate one million equally spaced $x$-values over the interval $[0,2\\pi]$ and compute both $y=\\sin(x)$ and $y=\\cos(x)$ using:\n",
    " - `for` loops to construct the lists of $x$- and $y$-values.\n",
    " - list comprehensions to construct the lists of $x$- and $y$-values.\n",
    " - `np.linspace`, `np.sin`, and `np.cos` to generate the arrays of $x$- and $y$-values.\n",
    "\n",
    "Reminder: We can use the `time` function from the `time` module to time our code."
   ]
  },
  {
   "cell_type": "code",
   "execution_count": null,
   "id": "cfd41a02-f01b-4b95-b60a-992ad22dc76c",
   "metadata": {},
   "outputs": [],
   "source": []
  },
  {
   "cell_type": "code",
   "execution_count": null,
   "id": "c9127f9a-8e37-4af1-a2ec-85597e72bec9",
   "metadata": {},
   "outputs": [],
   "source": []
  },
  {
   "cell_type": "code",
   "execution_count": null,
   "id": "092022e8-3ede-4bc6-8651-5eef993b7f9a",
   "metadata": {},
   "outputs": [],
   "source": []
  },
  {
   "cell_type": "markdown",
   "id": "ac2afd16-4416-42d4-964f-8047c21e2246",
   "metadata": {},
   "source": [
    "## Generating Numpy arrays\n",
    "\n",
    "We've already seen how we can convert lists to arrays and how we can use the `np.linspace` function to create arrays. There are many other ways to build arrays. For example:\n",
    " - `np.zeros` can generate arrays full of `0`s.\n",
    " - `np.ones` can generate arrays full of `1`s.\n",
    " - `np.arange` works just like the normal `range` function, except that it returns an array instead."
   ]
  },
  {
   "cell_type": "code",
   "execution_count": null,
   "id": "1f5077d2-c926-4343-babf-1a544de423e1",
   "metadata": {},
   "outputs": [],
   "source": []
  },
  {
   "cell_type": "code",
   "execution_count": null,
   "id": "64e6d69c-c07c-4f59-86f6-60994c8f92f9",
   "metadata": {},
   "outputs": [],
   "source": []
  },
  {
   "cell_type": "code",
   "execution_count": null,
   "id": "af642a2c-eff4-48be-9407-7a9f8511418f",
   "metadata": {},
   "outputs": [],
   "source": []
  },
  {
   "cell_type": "markdown",
   "id": "7049ef33-48d9-4be9-af15-190673deee83",
   "metadata": {},
   "source": [
    "Note: the `np.zeros` function and `np.ones` function produce arrays filled with floats, while the `np.arange` function returns an array full of integers.\n",
    "\n",
    "In general, NumPy arrays can only be filled with one datatype (unlike lists which can mix-and-match). We can check what datatype an array holds using the `.dtype` attribute:"
   ]
  },
  {
   "cell_type": "code",
   "execution_count": null,
   "id": "12606589-82f2-44a5-b2d0-00c6c10fcd5f",
   "metadata": {},
   "outputs": [],
   "source": []
  },
  {
   "cell_type": "markdown",
   "id": "816adc77-244e-4987-a85c-759236528078",
   "metadata": {},
   "source": [
    "We can change the datatype when defining arrays using `np.zeros` or `np.ones` by using the `dtype` keyword argument:"
   ]
  },
  {
   "cell_type": "code",
   "execution_count": null,
   "id": "89503c75-2a0a-4979-a905-4b4963cdc76a",
   "metadata": {},
   "outputs": [],
   "source": []
  },
  {
   "cell_type": "markdown",
   "id": "504f7b06-b824-456f-b329-c90caf571ba0",
   "metadata": {},
   "source": [
    "We can also convert an existing array to a new datatype using the `.astype` method:"
   ]
  },
  {
   "cell_type": "code",
   "execution_count": null,
   "id": "786725c7-f715-4bf7-9956-c4f1c673004c",
   "metadata": {},
   "outputs": [],
   "source": []
  },
  {
   "cell_type": "markdown",
   "id": "7cf9e275-e7ef-462b-8031-0d700354a33d",
   "metadata": {},
   "source": [
    "Note: when converting to a Boolean data type, any non-zero integer/float is considered `True`. Only `0` is considered `False`."
   ]
  },
  {
   "cell_type": "code",
   "execution_count": null,
   "id": "8c84668d-e66e-4912-829e-dd7327adb538",
   "metadata": {},
   "outputs": [],
   "source": []
  },
  {
   "cell_type": "markdown",
   "id": "2625ea95-fc2f-4f9d-90dd-972e7d993589",
   "metadata": {},
   "source": [
    "## Slicing with NumPy\n",
    "\n",
    "Just like with lists, we use slicing to access portions of a NumPy array. Consider the following experiment.\n",
    "\n",
    "First, we define a list and an array, each containing the integers `0`, ..., `19`."
   ]
  },
  {
   "cell_type": "code",
   "execution_count": null,
   "id": "5c0494d1-4c4c-4b54-8af6-f71e1d6e16c5",
   "metadata": {},
   "outputs": [],
   "source": [
    "N = 20\n",
    "\n",
    "my_list = [i for i in range(N)]\n",
    "my_array = np.arange(N)"
   ]
  },
  {
   "cell_type": "markdown",
   "id": "386b1d2b-b18c-4e82-bde1-205404c52b23",
   "metadata": {},
   "source": [
    "Now, let's take slices of the list and array that starts at index `1` and takes every other element:"
   ]
  },
  {
   "cell_type": "code",
   "execution_count": null,
   "id": "d45fd31c-9666-4287-9ae3-05799967fed2",
   "metadata": {},
   "outputs": [],
   "source": [
    "list_slice = my_list[1::2]\n",
    "array_slice = my_array[1::2]"
   ]
  },
  {
   "cell_type": "markdown",
   "id": "b6326e72-306b-4a43-b06c-368ff80124e9",
   "metadata": {},
   "source": [
    "Let's see what the slices look like:"
   ]
  },
  {
   "cell_type": "code",
   "execution_count": null,
   "id": "147e0b69-3a00-4c92-9600-5247a9cc9fe8",
   "metadata": {},
   "outputs": [],
   "source": [
    "print(list_slice)\n",
    "print(array_slice)"
   ]
  },
  {
   "cell_type": "markdown",
   "id": "aeef22d5-5f28-423d-a4d9-5270af7cc438",
   "metadata": {},
   "source": [
    "What happens if we modify these slices? For example, let's change the first entry of each slice to be `99`."
   ]
  },
  {
   "cell_type": "code",
   "execution_count": null,
   "id": "fa2b5e2c-5766-43dc-a558-aa22bd9bb423",
   "metadata": {},
   "outputs": [],
   "source": [
    "list_slice[0] = 99\n",
    "print('Modified slice:')\n",
    "print(list_slice)\n",
    "print('Original list:')\n",
    "print(my_list)"
   ]
  },
  {
   "cell_type": "markdown",
   "id": "1e4b9d1d-cdc6-4b37-981a-9fdfb9f766d1",
   "metadata": {},
   "source": [
    "With the list, the changes to the slice **do not** propogate back to the original list."
   ]
  },
  {
   "cell_type": "code",
   "execution_count": null,
   "id": "5ce7db9e-2d9d-4b79-b3f3-efe607b02865",
   "metadata": {},
   "outputs": [],
   "source": [
    "array_slice[0] = 99\n",
    "print('Modified slice:')\n",
    "print(array_slice)\n",
    "print('Original array:')\n",
    "print(my_array)"
   ]
  },
  {
   "cell_type": "markdown",
   "id": "0b3ae0ef-5a94-4d53-9b6c-2ea4f5a745bd",
   "metadata": {},
   "source": [
    "With the array, the changes to the slice **do** propogate back to the original list.\n",
    "\n",
    "What's happening here? \n",
    " - When slicing a list, we obtain a new list object that is unattached to the original list. Changes to one do not affect the other.\n",
    " - When slicing an array, we obtain a \"view\" of the original array. Changes to the slice affect the original array, and vice-versa.\n",
    "\n",
    "If we want to obtain a slice of an array that is unattached to the original array, we can use the `.copy` method to sever the connection."
   ]
  },
  {
   "cell_type": "code",
   "execution_count": null,
   "id": "ead33983-39e7-44af-a2c6-bbcd4d59c012",
   "metadata": {},
   "outputs": [],
   "source": []
  },
  {
   "cell_type": "markdown",
   "id": "31978af3-d4e0-4e40-b1ab-ca50892852bb",
   "metadata": {},
   "source": [
    "One takeaway is that we can use slices of an array to make assignments to portions of an array.\n",
    "\n",
    "**Exercise:** Consider the [*Sieve of Eratosthenes*](https://en.wikipedia.org/wiki/Sieve_of_Eratosthenes), which is a method of identifying all prime numbers up to a designated maximum. Write a function `sieve_of_Eratosthenes(N)` that implements this algorithm (using NumPy slicing) to generate an array of all primes less than or equal to `N`. Compare the execution time to your `get_primes` function from Project 1."
   ]
  },
  {
   "cell_type": "code",
   "execution_count": null,
   "id": "e1401f23-8bd2-428b-9836-e627e065df1c",
   "metadata": {},
   "outputs": [],
   "source": []
  }
 ],
 "metadata": {
  "kernelspec": {
   "display_name": "Python 3 (ipykernel)",
   "language": "python",
   "name": "python3"
  },
  "language_info": {
   "codemirror_mode": {
    "name": "ipython",
    "version": 3
   },
   "file_extension": ".py",
   "mimetype": "text/x-python",
   "name": "python",
   "nbconvert_exporter": "python",
   "pygments_lexer": "ipython3",
   "version": "3.13.5"
  }
 },
 "nbformat": 4,
 "nbformat_minor": 5
}
