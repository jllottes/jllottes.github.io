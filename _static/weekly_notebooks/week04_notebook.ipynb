{
 "cells": [
  {
   "cell_type": "markdown",
   "id": "f46f1f03",
   "metadata": {},
   "source": [
    "# Monday, February 10th"
   ]
  },
  {
   "cell_type": "markdown",
   "id": "f1fb3ecf",
   "metadata": {},
   "source": [
    "## Project 1: Prime or not prime\n",
    "\n",
    " - Due Friday at 11:59 PM\n",
    " - Tasks to be completed:\n",
    "   - Find the first `20` false primes **within a reasonable runtime**.\n",
    "      - It will help to make a `is_false_prime` function that uses both `is_prime` and `is_prime_like`.\n",
    "      - You will need to use a `while` loop to find `20` false primes, since we don't know how high of integers we will need to check before finding `20`.\n",
    "      - It would make sense to have an argument for the number of false primes to be found with a default value `n=20`.\n",
    "   - Write a function `primary` that finds primary decompositions (including multiplicity).\n",
    "      - First, write a function that just finds a list of prime factors (ignoring multiplicty).\n",
    "      - Second, think of how to account for multiplicity.\n",
    "         - It will be helpful to use a `while` loop here to see how many times a prime factor divides the number."
   ]
  },
  {
   "cell_type": "markdown",
   "id": "a6077135",
   "metadata": {},
   "source": [
    "## List slicing"
   ]
  },
  {
   "cell_type": "code",
   "execution_count": 8,
   "id": "5889cfb0",
   "metadata": {},
   "outputs": [],
   "source": [
    "my_list = ['a','b','c','d','e','f','g','h']"
   ]
  },
  {
   "cell_type": "code",
   "execution_count": 9,
   "id": "fea07219",
   "metadata": {},
   "outputs": [
    {
     "data": {
      "text/plain": [
       "'a'"
      ]
     },
     "execution_count": 9,
     "metadata": {},
     "output_type": "execute_result"
    }
   ],
   "source": [
    "my_list[0]"
   ]
  },
  {
   "cell_type": "code",
   "execution_count": 10,
   "id": "1ec62640",
   "metadata": {},
   "outputs": [
    {
     "data": {
      "text/plain": [
       "'h'"
      ]
     },
     "execution_count": 10,
     "metadata": {},
     "output_type": "execute_result"
    }
   ],
   "source": [
    "my_list[-1]"
   ]
  },
  {
   "cell_type": "markdown",
   "id": "5adc7588",
   "metadata": {},
   "source": [
    "It is often useful to get a subset of a list. Suppose we want a sublist consisting of the index `3`, `4`, `5`, and `6` elements:"
   ]
  },
  {
   "cell_type": "code",
   "execution_count": 12,
   "id": "22338e02",
   "metadata": {},
   "outputs": [],
   "source": [
    "my_sublist = []\n",
    "\n",
    "for i in range(len(my_list)):\n",
    "    if i >= 3 and i <= 6:\n",
    "        my_sublist.append(my_list[i])"
   ]
  },
  {
   "cell_type": "code",
   "execution_count": 13,
   "id": "cf3eef9e",
   "metadata": {},
   "outputs": [
    {
     "data": {
      "text/plain": [
       "['d', 'e', 'f', 'g']"
      ]
     },
     "execution_count": 13,
     "metadata": {},
     "output_type": "execute_result"
    }
   ],
   "source": [
    "my_sublist"
   ]
  },
  {
   "cell_type": "markdown",
   "id": "d28bffcb",
   "metadata": {},
   "source": [
    "A more elegant way to accomplish this task is by using list slicing. The syntax is:\n",
    " - `my_list[start_index:stopping_index]`, which returns a sublist with indices greater than or equal to `start_index` and strictly less than `stopping_index`."
   ]
  },
  {
   "cell_type": "code",
   "execution_count": 14,
   "id": "8f5310a6",
   "metadata": {},
   "outputs": [
    {
     "data": {
      "text/plain": [
       "['d', 'e', 'f', 'g']"
      ]
     },
     "execution_count": 14,
     "metadata": {},
     "output_type": "execute_result"
    }
   ],
   "source": [
    "my_list[3:7]"
   ]
  },
  {
   "cell_type": "code",
   "execution_count": 15,
   "id": "d888238e",
   "metadata": {},
   "outputs": [
    {
     "data": {
      "text/plain": [
       "['a', 'b', 'c', 'd', 'e']"
      ]
     },
     "execution_count": 15,
     "metadata": {},
     "output_type": "execute_result"
    }
   ],
   "source": [
    "my_list[0:5]"
   ]
  },
  {
   "cell_type": "code",
   "execution_count": 17,
   "id": "0a8afefb",
   "metadata": {},
   "outputs": [
    {
     "data": {
      "text/plain": [
       "['d', 'e', 'f', 'g']"
      ]
     },
     "execution_count": 17,
     "metadata": {},
     "output_type": "execute_result"
    }
   ],
   "source": [
    "my_list[3:-1]"
   ]
  },
  {
   "cell_type": "markdown",
   "id": "3baf818a",
   "metadata": {},
   "source": [
    "We can also use slicing in the following ways:\n",
    " - `my_list[start_index:]` will start the slice at `start_index` and go the end of the list.\n",
    " - `my_list[:stopping_index]` will start the list at the beginning (i.e. `0`) and proceed until one less than `stopping_index`.\n",
    " - `my_list[:]` will return the full list\n",
    " - `my_list[start_index:-1]` will start the list at `start_index` and end at the last index (excluding it)"
   ]
  },
  {
   "cell_type": "code",
   "execution_count": 19,
   "id": "a82c5d23",
   "metadata": {},
   "outputs": [
    {
     "data": {
      "text/plain": [
       "['a', 'b', 'c', 'd', 'e']"
      ]
     },
     "execution_count": 19,
     "metadata": {},
     "output_type": "execute_result"
    }
   ],
   "source": [
    "my_list[:-3]"
   ]
  },
  {
   "cell_type": "code",
   "execution_count": 20,
   "id": "3d072f6b",
   "metadata": {},
   "outputs": [
    {
     "data": {
      "text/plain": [
       "['d', 'e', 'f', 'g', 'h']"
      ]
     },
     "execution_count": 20,
     "metadata": {},
     "output_type": "execute_result"
    }
   ],
   "source": [
    "my_list[3:]"
   ]
  },
  {
   "cell_type": "markdown",
   "id": "9350c7a8",
   "metadata": {},
   "source": [
    "Just like the `range` function, we can use a third input as a step size for slices:"
   ]
  },
  {
   "cell_type": "code",
   "execution_count": 22,
   "id": "1def63bf",
   "metadata": {},
   "outputs": [
    {
     "data": {
      "text/plain": [
       "['a', 'b', 'c', 'd', 'e', 'f', 'g', 'h']"
      ]
     },
     "execution_count": 22,
     "metadata": {},
     "output_type": "execute_result"
    }
   ],
   "source": [
    "my_list"
   ]
  },
  {
   "cell_type": "code",
   "execution_count": 21,
   "id": "790714fa",
   "metadata": {},
   "outputs": [
    {
     "data": {
      "text/plain": [
       "['b', 'd', 'f']"
      ]
     },
     "execution_count": 21,
     "metadata": {},
     "output_type": "execute_result"
    }
   ],
   "source": [
    "my_list[1:-1:2]"
   ]
  },
  {
   "cell_type": "code",
   "execution_count": 24,
   "id": "8f53b9c0",
   "metadata": {},
   "outputs": [
    {
     "data": {
      "text/plain": [
       "['a', 'd', 'g']"
      ]
     },
     "execution_count": 24,
     "metadata": {},
     "output_type": "execute_result"
    }
   ],
   "source": [
    "my_list[0:7:3]"
   ]
  },
  {
   "cell_type": "code",
   "execution_count": 25,
   "id": "6d77c9ad",
   "metadata": {},
   "outputs": [
    {
     "data": {
      "text/plain": [
       "['a', 'e']"
      ]
     },
     "execution_count": 25,
     "metadata": {},
     "output_type": "execute_result"
    }
   ],
   "source": [
    "my_list[::4]"
   ]
  },
  {
   "cell_type": "code",
   "execution_count": 26,
   "id": "64e8a22e",
   "metadata": {},
   "outputs": [],
   "source": [
    "integers = []\n",
    "\n",
    "for i in range(100):\n",
    "    integers.append(i)"
   ]
  },
  {
   "cell_type": "code",
   "execution_count": 32,
   "id": "3c17f3dc",
   "metadata": {},
   "outputs": [
    {
     "data": {
      "text/plain": [
       "[1,\n",
       " 3,\n",
       " 5,\n",
       " 7,\n",
       " 9,\n",
       " 11,\n",
       " 13,\n",
       " 15,\n",
       " 17,\n",
       " 19,\n",
       " 21,\n",
       " 23,\n",
       " 25,\n",
       " 27,\n",
       " 29,\n",
       " 31,\n",
       " 33,\n",
       " 35,\n",
       " 37,\n",
       " 39,\n",
       " 41,\n",
       " 43,\n",
       " 45,\n",
       " 47,\n",
       " 49,\n",
       " 51,\n",
       " 53,\n",
       " 55,\n",
       " 57,\n",
       " 59,\n",
       " 61,\n",
       " 63,\n",
       " 65,\n",
       " 67,\n",
       " 69,\n",
       " 71,\n",
       " 73,\n",
       " 75,\n",
       " 77,\n",
       " 79,\n",
       " 81,\n",
       " 83,\n",
       " 85,\n",
       " 87,\n",
       " 89,\n",
       " 91,\n",
       " 93,\n",
       " 95,\n",
       " 97,\n",
       " 99]"
      ]
     },
     "execution_count": 32,
     "metadata": {},
     "output_type": "execute_result"
    }
   ],
   "source": [
    "integers[1::2]"
   ]
  }
 ],
 "metadata": {
  "kernelspec": {
   "display_name": "Python 3 (ipykernel)",
   "language": "python",
   "name": "python3"
  },
  "language_info": {
   "codemirror_mode": {
    "name": "ipython",
    "version": 3
   },
   "file_extension": ".py",
   "mimetype": "text/x-python",
   "name": "python",
   "nbconvert_exporter": "python",
   "pygments_lexer": "ipython3",
   "version": "3.11.3"
  }
 },
 "nbformat": 4,
 "nbformat_minor": 5
}
