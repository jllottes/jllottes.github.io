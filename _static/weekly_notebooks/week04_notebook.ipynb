{
 "cells": [
  {
   "cell_type": "markdown",
   "id": "62398796",
   "metadata": {},
   "source": [
    "# Monday, February 20th 2023"
   ]
  },
  {
   "cell_type": "markdown",
   "id": "30419623",
   "metadata": {},
   "source": [
    "## Mutable vs immutable lists"
   ]
  },
  {
   "cell_type": "code",
   "execution_count": 6,
   "id": "323666cf",
   "metadata": {},
   "outputs": [
    {
     "name": "stdout",
     "output_type": "stream",
     "text": [
      "[1, 2, 3]\n"
     ]
    }
   ],
   "source": [
    "a = [1,2,3]\n",
    "print(a)"
   ]
  },
  {
   "cell_type": "code",
   "execution_count": 7,
   "id": "4c605d1c",
   "metadata": {},
   "outputs": [
    {
     "name": "stdout",
     "output_type": "stream",
     "text": [
      "[1, 2, 3]\n"
     ]
    }
   ],
   "source": [
    "b = a\n",
    "print(b)"
   ]
  },
  {
   "cell_type": "markdown",
   "id": "640cb837",
   "metadata": {},
   "source": [
    "What happens if we modify `b`?\n",
    "\n",
    "Experiment: Set the first item in `b` to be 100"
   ]
  },
  {
   "cell_type": "code",
   "execution_count": 8,
   "id": "9ac58ad7",
   "metadata": {},
   "outputs": [
    {
     "name": "stdout",
     "output_type": "stream",
     "text": [
      "[100, 2, 3]\n"
     ]
    }
   ],
   "source": [
    "b[0] = 100\n",
    "print(b)"
   ]
  },
  {
   "cell_type": "code",
   "execution_count": 9,
   "id": "61646ac9",
   "metadata": {},
   "outputs": [
    {
     "name": "stdout",
     "output_type": "stream",
     "text": [
      "[100, 2, 3]\n"
     ]
    }
   ],
   "source": [
    "print(a)"
   ]
  },
  {
   "cell_type": "code",
   "execution_count": 10,
   "id": "dd35622b",
   "metadata": {},
   "outputs": [
    {
     "name": "stdout",
     "output_type": "stream",
     "text": [
      "[100, -5, 3]\n"
     ]
    }
   ],
   "source": [
    "a[1] = -5\n",
    "print(b)"
   ]
  },
  {
   "cell_type": "markdown",
   "id": "5831feca",
   "metadata": {},
   "source": [
    "Because we defined `b` as being `a`, any changes we make make to `b` are propogated back to `a`."
   ]
  },
  {
   "cell_type": "code",
   "execution_count": 5,
   "id": "c2570b7e",
   "metadata": {},
   "outputs": [
    {
     "name": "stdout",
     "output_type": "stream",
     "text": [
      "[1, 2, 3]\n",
      "[1, 2, 3]\n"
     ]
    }
   ],
   "source": [
    "a = [1,2,3]\n",
    "b = [1,2,3]\n",
    "\n",
    "print(a)\n",
    "\n",
    "b[0] = 100\n",
    "\n",
    "print(a)"
   ]
  },
  {
   "cell_type": "markdown",
   "id": "afd1fa94",
   "metadata": {},
   "source": [
    "Warning: Be careful when defining variables in terms of other variables involving lists.\n",
    "\n",
    "We avoid this possible issue by creating a new copy of the list. This can be done using `list(a)`"
   ]
  },
  {
   "cell_type": "code",
   "execution_count": 11,
   "id": "bf960d4a",
   "metadata": {},
   "outputs": [
    {
     "name": "stdout",
     "output_type": "stream",
     "text": [
      "[1, 2, 3]\n",
      "[1, 2, 3]\n"
     ]
    }
   ],
   "source": [
    "a = [1,2,3]\n",
    "\n",
    "b = list(a)\n",
    "\n",
    "print(a)\n",
    "print(b)"
   ]
  },
  {
   "cell_type": "code",
   "execution_count": 12,
   "id": "49263db7",
   "metadata": {},
   "outputs": [
    {
     "name": "stdout",
     "output_type": "stream",
     "text": [
      "[1, 2, 3]\n",
      "[100, 2, 3]\n"
     ]
    }
   ],
   "source": [
    "b[0] = 100\n",
    "\n",
    "print(a)\n",
    "print(b)"
   ]
  },
  {
   "cell_type": "markdown",
   "id": "da3390ff",
   "metadata": {},
   "source": [
    "We can check if two objects are \"equal\" vs \"the same object\":"
   ]
  },
  {
   "cell_type": "code",
   "execution_count": 13,
   "id": "0679f5f7",
   "metadata": {},
   "outputs": [
    {
     "name": "stdout",
     "output_type": "stream",
     "text": [
      "True\n"
     ]
    }
   ],
   "source": [
    "a = [1,2,3]\n",
    "b = [1,2,3]\n",
    "\n",
    "print(a == b)"
   ]
  },
  {
   "cell_type": "code",
   "execution_count": 14,
   "id": "89b4a8a6",
   "metadata": {},
   "outputs": [
    {
     "name": "stdout",
     "output_type": "stream",
     "text": [
      "Help on built-in function id in module builtins:\n",
      "\n",
      "id(obj, /)\n",
      "    Return the identity of an object.\n",
      "    \n",
      "    This is guaranteed to be unique among simultaneously existing objects.\n",
      "    (CPython uses the object's memory address.)\n",
      "\n"
     ]
    }
   ],
   "source": [
    "help(id)"
   ]
  },
  {
   "cell_type": "code",
   "execution_count": 15,
   "id": "c4787658",
   "metadata": {},
   "outputs": [
    {
     "data": {
      "text/plain": [
       "2689928537600"
      ]
     },
     "execution_count": 15,
     "metadata": {},
     "output_type": "execute_result"
    }
   ],
   "source": [
    "id(a)"
   ]
  },
  {
   "cell_type": "code",
   "execution_count": 16,
   "id": "26d4efe4",
   "metadata": {},
   "outputs": [
    {
     "data": {
      "text/plain": [
       "2689928537856"
      ]
     },
     "execution_count": 16,
     "metadata": {},
     "output_type": "execute_result"
    }
   ],
   "source": [
    "id(b)"
   ]
  },
  {
   "cell_type": "code",
   "execution_count": 17,
   "id": "148b4ed5",
   "metadata": {},
   "outputs": [
    {
     "data": {
      "text/plain": [
       "False"
      ]
     },
     "execution_count": 17,
     "metadata": {},
     "output_type": "execute_result"
    }
   ],
   "source": [
    "id(a) == id(b)"
   ]
  },
  {
   "cell_type": "markdown",
   "id": "cd41d5de",
   "metadata": {},
   "source": [
    "We defined both lists as `[1,2,3]`, but they have different IDs and are different objects. Changing one will not affect the other."
   ]
  },
  {
   "cell_type": "code",
   "execution_count": 18,
   "id": "fd5df300",
   "metadata": {},
   "outputs": [],
   "source": [
    "a = [1,2,3]\n",
    "b = a"
   ]
  },
  {
   "cell_type": "code",
   "execution_count": 19,
   "id": "94180869",
   "metadata": {},
   "outputs": [
    {
     "data": {
      "text/plain": [
       "True"
      ]
     },
     "execution_count": 19,
     "metadata": {},
     "output_type": "execute_result"
    }
   ],
   "source": [
    "a == b"
   ]
  },
  {
   "cell_type": "code",
   "execution_count": 20,
   "id": "29134b1f",
   "metadata": {},
   "outputs": [
    {
     "data": {
      "text/plain": [
       "True"
      ]
     },
     "execution_count": 20,
     "metadata": {},
     "output_type": "execute_result"
    }
   ],
   "source": [
    "id(a) == id(b)"
   ]
  },
  {
   "cell_type": "markdown",
   "id": "c5313ccd",
   "metadata": {},
   "source": [
    "Here both objects have the same ID (i.e. they are the same object). Changing one will change the other."
   ]
  },
  {
   "cell_type": "markdown",
   "id": "b9941947",
   "metadata": {},
   "source": [
    "## More about accessing list elements: Slicing"
   ]
  },
  {
   "cell_type": "code",
   "execution_count": 24,
   "id": "348b3da0",
   "metadata": {},
   "outputs": [
    {
     "name": "stdout",
     "output_type": "stream",
     "text": [
      "[0, 1, 2, 3, 4, 5, 6, 7, 8, 9, 10, 11, 12, 13, 14, 15, 16, 17, 18, 19]\n"
     ]
    }
   ],
   "source": [
    "mylist = []\n",
    "for i in range(20):\n",
    "    mylist.append(i)\n",
    "    \n",
    "print(mylist)"
   ]
  },
  {
   "cell_type": "code",
   "execution_count": 28,
   "id": "4173fc4c",
   "metadata": {},
   "outputs": [
    {
     "data": {
      "text/plain": [
       "18"
      ]
     },
     "execution_count": 28,
     "metadata": {},
     "output_type": "execute_result"
    }
   ],
   "source": [
    "mylist[-2]"
   ]
  },
  {
   "cell_type": "markdown",
   "id": "e5a6119a",
   "metadata": {},
   "source": [
    "We can grab \"slices\" of elements using `:`:"
   ]
  },
  {
   "cell_type": "code",
   "execution_count": 29,
   "id": "9dad2956",
   "metadata": {},
   "outputs": [
    {
     "data": {
      "text/plain": [
       "[2, 3, 4, 5, 6]"
      ]
     },
     "execution_count": 29,
     "metadata": {},
     "output_type": "execute_result"
    }
   ],
   "source": [
    "mylist[2:7]"
   ]
  },
  {
   "cell_type": "markdown",
   "id": "35d3a2ef",
   "metadata": {},
   "source": [
    "`mylist[i:j]` will grab the elements `mylist[i], mylist[i+1], ..., mylist[j-1]`"
   ]
  },
  {
   "cell_type": "code",
   "execution_count": 31,
   "id": "f4fcc76e",
   "metadata": {},
   "outputs": [
    {
     "data": {
      "text/plain": [
       "[0, 1, 2, 3]"
      ]
     },
     "execution_count": 31,
     "metadata": {},
     "output_type": "execute_result"
    }
   ],
   "source": [
    "mylist[:4]"
   ]
  },
  {
   "cell_type": "code",
   "execution_count": 32,
   "id": "b071dd7f",
   "metadata": {},
   "outputs": [
    {
     "data": {
      "text/plain": [
       "[15, 16, 17, 18, 19]"
      ]
     },
     "execution_count": 32,
     "metadata": {},
     "output_type": "execute_result"
    }
   ],
   "source": [
    "mylist[15:]"
   ]
  },
  {
   "cell_type": "markdown",
   "id": "87ffe715",
   "metadata": {},
   "source": [
    "`mylist[:j]` will start at index 0. `mylist[i:]` will stop at the end of the list."
   ]
  },
  {
   "cell_type": "code",
   "execution_count": 33,
   "id": "352ffd08",
   "metadata": {},
   "outputs": [
    {
     "data": {
      "text/plain": [
       "[0, 2, 4, 6, 8, 10, 12, 14, 16, 18]"
      ]
     },
     "execution_count": 33,
     "metadata": {},
     "output_type": "execute_result"
    }
   ],
   "source": [
    "mylist[::2]"
   ]
  },
  {
   "cell_type": "code",
   "execution_count": 34,
   "id": "bfe43f08",
   "metadata": {},
   "outputs": [
    {
     "data": {
      "text/plain": [
       "[0, 4, 8, 12, 16]"
      ]
     },
     "execution_count": 34,
     "metadata": {},
     "output_type": "execute_result"
    }
   ],
   "source": [
    "mylist[::4]"
   ]
  },
  {
   "cell_type": "code",
   "execution_count": 35,
   "id": "c26b8d81",
   "metadata": {},
   "outputs": [
    {
     "data": {
      "text/plain": [
       "[1, 3, 5, 7, 9, 11, 13, 15, 17, 19]"
      ]
     },
     "execution_count": 35,
     "metadata": {},
     "output_type": "execute_result"
    }
   ],
   "source": [
    "mylist[1::2]"
   ]
  },
  {
   "cell_type": "code",
   "execution_count": 36,
   "id": "eae79bc7",
   "metadata": {},
   "outputs": [
    {
     "data": {
      "text/plain": [
       "[3, 7, 11, 15]"
      ]
     },
     "execution_count": 36,
     "metadata": {},
     "output_type": "execute_result"
    }
   ],
   "source": [
    "mylist[3:18:4]"
   ]
  },
  {
   "cell_type": "markdown",
   "id": "47da9a55",
   "metadata": {},
   "source": [
    "`mylist[i:j:k]` will start at `mylist[i]`, stop before `mylist[j-1]`, in steps of `k`"
   ]
  },
  {
   "cell_type": "markdown",
   "id": "c4f27162",
   "metadata": {},
   "source": [
    "**Exercise:** Define a function `f(mylist)` that takes in a list `mylist`, creates a new list that contains all of the odd-indices first, followed by all of the even indices."
   ]
  },
  {
   "cell_type": "code",
   "execution_count": 38,
   "id": "92b56304",
   "metadata": {},
   "outputs": [],
   "source": [
    "def f(mylist):\n",
    "    newlist = []\n",
    "    for i in range(len(mylist)):\n",
    "        if i % 2 == 1:\n",
    "            newlist.append(i)\n",
    "    for i in range(len(mylist)):\n",
    "        if i % 2 == 0:\n",
    "            newlist.append(i)\n",
    "    return newlist"
   ]
  },
  {
   "cell_type": "code",
   "execution_count": 40,
   "id": "380941c7",
   "metadata": {},
   "outputs": [],
   "source": [
    "def f(mylist):\n",
    "    return list(mylist[1::2] + mylist[::2])"
   ]
  },
  {
   "cell_type": "code",
   "execution_count": 41,
   "id": "1a05c0b2",
   "metadata": {},
   "outputs": [
    {
     "data": {
      "text/plain": [
       "[1, 3, 5, 0, 2, 4]"
      ]
     },
     "execution_count": 41,
     "metadata": {},
     "output_type": "execute_result"
    }
   ],
   "source": [
    "f([0,1,2,3,4,5])"
   ]
  },
  {
   "cell_type": "markdown",
   "id": "8ac7a41d",
   "metadata": {},
   "source": [
    "## List comprehension"
   ]
  },
  {
   "cell_type": "markdown",
   "id": "99e153db",
   "metadata": {},
   "source": [
    "In Python, we can **list comprehension** to easily generate lists of sublists."
   ]
  },
  {
   "cell_type": "code",
   "execution_count": 42,
   "id": "76a185b3",
   "metadata": {},
   "outputs": [
    {
     "data": {
      "text/plain": [
       "[0, 1, 2, 3, 4]"
      ]
     },
     "execution_count": 42,
     "metadata": {},
     "output_type": "execute_result"
    }
   ],
   "source": [
    "[i for i in range(5)]"
   ]
  },
  {
   "cell_type": "code",
   "execution_count": 43,
   "id": "604ad1aa",
   "metadata": {},
   "outputs": [
    {
     "data": {
      "text/plain": [
       "[0, 1, 4, 9, 16]"
      ]
     },
     "execution_count": 43,
     "metadata": {},
     "output_type": "execute_result"
    }
   ],
   "source": [
    "[i**2 for i in range(5)]"
   ]
  },
  {
   "cell_type": "code",
   "execution_count": 44,
   "id": "8944ea83",
   "metadata": {},
   "outputs": [
    {
     "data": {
      "text/plain": [
       "[0, 4, 16, 36, 64, 100, 144, 196, 256, 324]"
      ]
     },
     "execution_count": 44,
     "metadata": {},
     "output_type": "execute_result"
    }
   ],
   "source": [
    "[i**2 for i in range(20) if i % 2 == 0]"
   ]
  },
  {
   "cell_type": "code",
   "execution_count": 45,
   "id": "84c497ce",
   "metadata": {},
   "outputs": [],
   "source": [
    "mylist = [(3,4,5),(4,3,5),(5,12,13),(12,5,13), (6,8,10), (8,6,10)]"
   ]
  },
  {
   "cell_type": "code",
   "execution_count": 47,
   "id": "814bdae3",
   "metadata": {},
   "outputs": [
    {
     "data": {
      "text/plain": [
       "[(4, 3, 5), (12, 5, 13), (6, 8, 10), (8, 6, 10)]"
      ]
     },
     "execution_count": 47,
     "metadata": {},
     "output_type": "execute_result"
    }
   ],
   "source": [
    "[triple for triple in mylist if triple[0] % 2 == 0]"
   ]
  },
  {
   "cell_type": "code",
   "execution_count": 50,
   "id": "74593eef",
   "metadata": {},
   "outputs": [
    {
     "data": {
      "text/plain": [
       "[(3, 4), (4, 3), (5, 12), (12, 5), (6, 8), (8, 6)]"
      ]
     },
     "execution_count": 50,
     "metadata": {},
     "output_type": "execute_result"
    }
   ],
   "source": [
    "doubles = [triple[:-1] for triple in mylist]\n",
    "doubles"
   ]
  },
  {
   "cell_type": "code",
   "execution_count": 51,
   "id": "f74913b4",
   "metadata": {},
   "outputs": [
    {
     "data": {
      "text/plain": [
       "[(3, 4), (4, 3), (5, 12), (12, 5), (6, 8), (8, 6)]"
      ]
     },
     "execution_count": 51,
     "metadata": {},
     "output_type": "execute_result"
    }
   ],
   "source": [
    "[(a,b) for (a,b,c) in mylist]"
   ]
  },
  {
   "cell_type": "code",
   "execution_count": 53,
   "id": "0eac039f",
   "metadata": {},
   "outputs": [
    {
     "data": {
      "text/plain": [
       "[True, True, True, True, True, True]"
      ]
     },
     "execution_count": 53,
     "metadata": {},
     "output_type": "execute_result"
    }
   ],
   "source": [
    "[c**2 == a**2 + b**2 for (a,b,c) in mylist]"
   ]
  },
  {
   "cell_type": "markdown",
   "id": "fccc9a3e",
   "metadata": {},
   "source": [
    "**Example:** A new `get_primes(n)` function"
   ]
  },
  {
   "cell_type": "code",
   "execution_count": 64,
   "id": "bf229691",
   "metadata": {},
   "outputs": [],
   "source": [
    "def get_primes(n):\n",
    "    is_prime = [True for i in range(n+1)]  # This list will in the end be True for every prime index\n",
    "                                           # and False for every non-prime index\n",
    "    is_prime[0] = False                    # 0 is not prime\n",
    "    is_prime[1] = False                    # 1 is not prime\n",
    "    \n",
    "    # Now, let's go through each integer up to n\n",
    "    # If the integer is prime, set every multiple to not prime.\n",
    "    for i in range(2,n+1):\n",
    "        myslice = is_prime[2*i::i]                     # Grab all elements that we want False\n",
    "        is_prime[2*i::i] = [False for i in range(len(myslice))] # Build a list of False with the right length\n",
    "                                                       # then replace myslice with the False list\n",
    "    \n",
    "    primes = [ i for i in range(n+1) if is_prime[i] ]\n",
    "    \n",
    "    return primes"
   ]
  },
  {
   "cell_type": "code",
   "execution_count": 65,
   "id": "48a31950",
   "metadata": {},
   "outputs": [
    {
     "data": {
      "text/plain": [
       "[2, 3, 5, 7, 11, 13, 17, 19]"
      ]
     },
     "execution_count": 65,
     "metadata": {},
     "output_type": "execute_result"
    }
   ],
   "source": [
    "get_primes(20)"
   ]
  },
  {
   "cell_type": "code",
   "execution_count": 66,
   "id": "d4742da6",
   "metadata": {},
   "outputs": [
    {
     "data": {
      "text/plain": [
       "[0, 2, 4, 6, 8, 10, 12, 14, 16, 18, 20, 22, 24, 26, 28, 30, 32, 34, 36, 38]"
      ]
     },
     "execution_count": 66,
     "metadata": {},
     "output_type": "execute_result"
    }
   ],
   "source": [
    "def double_f(n):\n",
    "    return 2*n\n",
    "\n",
    "mylist = [ i for i in range(20)]\n",
    "\n",
    "[double_f(n) for n in mylist]"
   ]
  },
  {
   "cell_type": "markdown",
   "id": "ac6b8797",
   "metadata": {},
   "source": [
    "## Plotting in Python"
   ]
  },
  {
   "cell_type": "markdown",
   "id": "e1911471",
   "metadata": {},
   "source": [
    "We will use the `matplotlib` package, specifically the `pyplot` module within that package."
   ]
  },
  {
   "cell_type": "code",
   "execution_count": 69,
   "id": "d6eae02c",
   "metadata": {},
   "outputs": [],
   "source": [
    "import matplotlib.pyplot as plt"
   ]
  },
  {
   "cell_type": "code",
   "execution_count": 77,
   "id": "fcc3b285",
   "metadata": {},
   "outputs": [
    {
     "name": "stdout",
     "output_type": "stream",
     "text": [
      "Help on function plot in module matplotlib.pyplot:\n",
      "\n",
      "plot(*args, scalex=True, scaley=True, data=None, **kwargs)\n",
      "    Plot y versus x as lines and/or markers.\n",
      "    \n",
      "    Call signatures::\n",
      "    \n",
      "        plot([x], y, [fmt], *, data=None, **kwargs)\n",
      "        plot([x], y, [fmt], [x2], y2, [fmt2], ..., **kwargs)\n",
      "    \n",
      "    The coordinates of the points or line nodes are given by *x*, *y*.\n",
      "    \n",
      "    The optional parameter *fmt* is a convenient way for defining basic\n",
      "    formatting like color, marker and linestyle. It's a shortcut string\n",
      "    notation described in the *Notes* section below.\n",
      "    \n",
      "    >>> plot(x, y)        # plot x and y using default line style and color\n",
      "    >>> plot(x, y, 'bo')  # plot x and y using blue circle markers\n",
      "    >>> plot(y)           # plot y using x as index array 0..N-1\n",
      "    >>> plot(y, 'r+')     # ditto, but with red plusses\n",
      "    \n",
      "    You can use `.Line2D` properties as keyword arguments for more\n",
      "    control on the appearance. Line properties and *fmt* can be mixed.\n",
      "    The following two calls yield identical results:\n",
      "    \n",
      "    >>> plot(x, y, 'go--', linewidth=2, markersize=12)\n",
      "    >>> plot(x, y, color='green', marker='o', linestyle='dashed',\n",
      "    ...      linewidth=2, markersize=12)\n",
      "    \n",
      "    When conflicting with *fmt*, keyword arguments take precedence.\n",
      "    \n",
      "    \n",
      "    **Plotting labelled data**\n",
      "    \n",
      "    There's a convenient way for plotting objects with labelled data (i.e.\n",
      "    data that can be accessed by index ``obj['y']``). Instead of giving\n",
      "    the data in *x* and *y*, you can provide the object in the *data*\n",
      "    parameter and just give the labels for *x* and *y*::\n",
      "    \n",
      "    >>> plot('xlabel', 'ylabel', data=obj)\n",
      "    \n",
      "    All indexable objects are supported. This could e.g. be a `dict`, a\n",
      "    `pandas.DataFrame` or a structured numpy array.\n",
      "    \n",
      "    \n",
      "    **Plotting multiple sets of data**\n",
      "    \n",
      "    There are various ways to plot multiple sets of data.\n",
      "    \n",
      "    - The most straight forward way is just to call `plot` multiple times.\n",
      "      Example:\n",
      "    \n",
      "      >>> plot(x1, y1, 'bo')\n",
      "      >>> plot(x2, y2, 'go')\n",
      "    \n",
      "    - If *x* and/or *y* are 2D arrays a separate data set will be drawn\n",
      "      for every column. If both *x* and *y* are 2D, they must have the\n",
      "      same shape. If only one of them is 2D with shape (N, m) the other\n",
      "      must have length N and will be used for every data set m.\n",
      "    \n",
      "      Example:\n",
      "    \n",
      "      >>> x = [1, 2, 3]\n",
      "      >>> y = np.array([[1, 2], [3, 4], [5, 6]])\n",
      "      >>> plot(x, y)\n",
      "    \n",
      "      is equivalent to:\n",
      "    \n",
      "      >>> for col in range(y.shape[1]):\n",
      "      ...     plot(x, y[:, col])\n",
      "    \n",
      "    - The third way is to specify multiple sets of *[x]*, *y*, *[fmt]*\n",
      "      groups::\n",
      "    \n",
      "      >>> plot(x1, y1, 'g^', x2, y2, 'g-')\n",
      "    \n",
      "      In this case, any additional keyword argument applies to all\n",
      "      datasets. Also this syntax cannot be combined with the *data*\n",
      "      parameter.\n",
      "    \n",
      "    By default, each line is assigned a different style specified by a\n",
      "    'style cycle'. The *fmt* and line property parameters are only\n",
      "    necessary if you want explicit deviations from these defaults.\n",
      "    Alternatively, you can also change the style cycle using\n",
      "    :rc:`axes.prop_cycle`.\n",
      "    \n",
      "    \n",
      "    Parameters\n",
      "    ----------\n",
      "    x, y : array-like or scalar\n",
      "        The horizontal / vertical coordinates of the data points.\n",
      "        *x* values are optional and default to ``range(len(y))``.\n",
      "    \n",
      "        Commonly, these parameters are 1D arrays.\n",
      "    \n",
      "        They can also be scalars, or two-dimensional (in that case, the\n",
      "        columns represent separate data sets).\n",
      "    \n",
      "        These arguments cannot be passed as keywords.\n",
      "    \n",
      "    fmt : str, optional\n",
      "        A format string, e.g. 'ro' for red circles. See the *Notes*\n",
      "        section for a full description of the format strings.\n",
      "    \n",
      "        Format strings are just an abbreviation for quickly setting\n",
      "        basic line properties. All of these and more can also be\n",
      "        controlled by keyword arguments.\n",
      "    \n",
      "        This argument cannot be passed as keyword.\n",
      "    \n",
      "    data : indexable object, optional\n",
      "        An object with labelled data. If given, provide the label names to\n",
      "        plot in *x* and *y*.\n",
      "    \n",
      "        .. note::\n",
      "            Technically there's a slight ambiguity in calls where the\n",
      "            second label is a valid *fmt*. ``plot('n', 'o', data=obj)``\n",
      "            could be ``plt(x, y)`` or ``plt(y, fmt)``. In such cases,\n",
      "            the former interpretation is chosen, but a warning is issued.\n",
      "            You may suppress the warning by adding an empty format string\n",
      "            ``plot('n', 'o', '', data=obj)``.\n",
      "    \n",
      "    Returns\n",
      "    -------\n",
      "    list of `.Line2D`\n",
      "        A list of lines representing the plotted data.\n",
      "    \n",
      "    Other Parameters\n",
      "    ----------------\n",
      "    scalex, scaley : bool, default: True\n",
      "        These parameters determine if the view limits are adapted to the\n",
      "        data limits. The values are passed on to `autoscale_view`.\n",
      "    \n",
      "    **kwargs : `.Line2D` properties, optional\n",
      "        *kwargs* are used to specify properties like a line label (for\n",
      "        auto legends), linewidth, antialiasing, marker face color.\n",
      "        Example::\n",
      "    \n",
      "        >>> plot([1, 2, 3], [1, 2, 3], 'go-', label='line 1', linewidth=2)\n",
      "        >>> plot([1, 2, 3], [1, 4, 9], 'rs', label='line 2')\n",
      "    \n",
      "        If you specify multiple lines with one plot call, the kwargs apply\n",
      "        to all those lines. In case the label object is iterable, each\n",
      "        element is used as labels for each set of data.\n",
      "    \n",
      "        Here is a list of available `.Line2D` properties:\n",
      "    \n",
      "        Properties:\n",
      "        agg_filter: a filter function, which takes a (m, n, 3) float array and a dpi value, and returns a (m, n, 3) array\n",
      "        alpha: scalar or None\n",
      "        animated: bool\n",
      "        antialiased or aa: bool\n",
      "        clip_box: `.Bbox`\n",
      "        clip_on: bool\n",
      "        clip_path: Patch or (Path, Transform) or None\n",
      "        color or c: color\n",
      "        contains: unknown\n",
      "        dash_capstyle: `.CapStyle` or {'butt', 'projecting', 'round'}\n",
      "        dash_joinstyle: `.JoinStyle` or {'miter', 'round', 'bevel'}\n",
      "        dashes: sequence of floats (on/off ink in points) or (None, None)\n",
      "        data: (2, N) array or two 1D arrays\n",
      "        drawstyle or ds: {'default', 'steps', 'steps-pre', 'steps-mid', 'steps-post'}, default: 'default'\n",
      "        figure: `.Figure`\n",
      "        fillstyle: {'full', 'left', 'right', 'bottom', 'top', 'none'}\n",
      "        gid: str\n",
      "        in_layout: bool\n",
      "        label: object\n",
      "        linestyle or ls: {'-', '--', '-.', ':', '', (offset, on-off-seq), ...}\n",
      "        linewidth or lw: float\n",
      "        marker: marker style string, `~.path.Path` or `~.markers.MarkerStyle`\n",
      "        markeredgecolor or mec: color\n",
      "        markeredgewidth or mew: float\n",
      "        markerfacecolor or mfc: color\n",
      "        markerfacecoloralt or mfcalt: color\n",
      "        markersize or ms: float\n",
      "        markevery: None or int or (int, int) or slice or list[int] or float or (float, float) or list[bool]\n",
      "        path_effects: `.AbstractPathEffect`\n",
      "        picker: float or callable[[Artist, Event], tuple[bool, dict]]\n",
      "        pickradius: float\n",
      "        rasterized: bool\n",
      "        sketch_params: (scale: float, length: float, randomness: float)\n",
      "        snap: bool or None\n",
      "        solid_capstyle: `.CapStyle` or {'butt', 'projecting', 'round'}\n",
      "        solid_joinstyle: `.JoinStyle` or {'miter', 'round', 'bevel'}\n",
      "        transform: `matplotlib.transforms.Transform`\n",
      "        url: str\n",
      "        visible: bool\n",
      "        xdata: 1D array\n",
      "        ydata: 1D array\n",
      "        zorder: float\n",
      "    \n",
      "    See Also\n",
      "    --------\n",
      "    scatter : XY scatter plot with markers of varying size and/or color (\n",
      "        sometimes also called bubble chart).\n",
      "    \n",
      "    Notes\n",
      "    -----\n",
      "    **Format Strings**\n",
      "    \n",
      "    A format string consists of a part for color, marker and line::\n",
      "    \n",
      "        fmt = '[marker][line][color]'\n",
      "    \n",
      "    Each of them is optional. If not provided, the value from the style\n",
      "    cycle is used. Exception: If ``line`` is given, but no ``marker``,\n",
      "    the data will be a line without markers.\n",
      "    \n",
      "    Other combinations such as ``[color][marker][line]`` are also\n",
      "    supported, but note that their parsing may be ambiguous.\n",
      "    \n",
      "    **Markers**\n",
      "    \n",
      "    =============   ===============================\n",
      "    character       description\n",
      "    =============   ===============================\n",
      "    ``'.'``         point marker\n",
      "    ``','``         pixel marker\n",
      "    ``'o'``         circle marker\n",
      "    ``'v'``         triangle_down marker\n",
      "    ``'^'``         triangle_up marker\n",
      "    ``'<'``         triangle_left marker\n",
      "    ``'>'``         triangle_right marker\n",
      "    ``'1'``         tri_down marker\n",
      "    ``'2'``         tri_up marker\n",
      "    ``'3'``         tri_left marker\n",
      "    ``'4'``         tri_right marker\n",
      "    ``'8'``         octagon marker\n",
      "    ``'s'``         square marker\n",
      "    ``'p'``         pentagon marker\n",
      "    ``'P'``         plus (filled) marker\n",
      "    ``'*'``         star marker\n",
      "    ``'h'``         hexagon1 marker\n",
      "    ``'H'``         hexagon2 marker\n",
      "    ``'+'``         plus marker\n",
      "    ``'x'``         x marker\n",
      "    ``'X'``         x (filled) marker\n",
      "    ``'D'``         diamond marker\n",
      "    ``'d'``         thin_diamond marker\n",
      "    ``'|'``         vline marker\n",
      "    ``'_'``         hline marker\n",
      "    =============   ===============================\n",
      "    \n",
      "    **Line Styles**\n",
      "    \n",
      "    =============    ===============================\n",
      "    character        description\n",
      "    =============    ===============================\n",
      "    ``'-'``          solid line style\n",
      "    ``'--'``         dashed line style\n",
      "    ``'-.'``         dash-dot line style\n",
      "    ``':'``          dotted line style\n",
      "    =============    ===============================\n",
      "    \n",
      "    Example format strings::\n",
      "    \n",
      "        'b'    # blue markers with default shape\n",
      "        'or'   # red circles\n",
      "        '-g'   # green solid line\n",
      "        '--'   # dashed line with default color\n",
      "        '^k:'  # black triangle_up markers connected by a dotted line\n",
      "    \n",
      "    **Colors**\n",
      "    \n",
      "    The supported color abbreviations are the single letter codes\n",
      "    \n",
      "    =============    ===============================\n",
      "    character        color\n",
      "    =============    ===============================\n",
      "    ``'b'``          blue\n",
      "    ``'g'``          green\n",
      "    ``'r'``          red\n",
      "    ``'c'``          cyan\n",
      "    ``'m'``          magenta\n",
      "    ``'y'``          yellow\n",
      "    ``'k'``          black\n",
      "    ``'w'``          white\n",
      "    =============    ===============================\n",
      "    \n",
      "    and the ``'CN'`` colors that index into the default property cycle.\n",
      "    \n",
      "    If the color is the only part of the format string, you can\n",
      "    additionally use any  `matplotlib.colors` spec, e.g. full names\n",
      "    (``'green'``) or hex strings (``'#008000'``).\n",
      "\n"
     ]
    }
   ],
   "source": [
    "help(plt.plot)"
   ]
  },
  {
   "cell_type": "code",
   "execution_count": 73,
   "id": "3eb2501d",
   "metadata": {},
   "outputs": [
    {
     "data": {
      "text/plain": [
       "[<matplotlib.lines.Line2D at 0x27251e8f580>]"
      ]
     },
     "execution_count": 73,
     "metadata": {},
     "output_type": "execute_result"
    }
   ],
   "source": [
    "x = [i for i in range(20)]\n",
    "y = [i**2 for i in x]\n",
    "\n",
    "plt.plot(x,y)"
   ]
  },
  {
   "cell_type": "markdown",
   "id": "f7e2cb22",
   "metadata": {},
   "source": [
    "We can force inline plotting (i.e. figures appearing in the notebook) using `%matplotlib inline`"
   ]
  },
  {
   "cell_type": "code",
   "execution_count": 74,
   "id": "bbffe49c",
   "metadata": {},
   "outputs": [],
   "source": [
    "%matplotlib inline"
   ]
  },
  {
   "cell_type": "code",
   "execution_count": 76,
   "id": "d9177e53",
   "metadata": {},
   "outputs": [
    {
     "data": {
      "text/plain": [
       "[<matplotlib.lines.Line2D at 0x272504bcb80>]"
      ]
     },
     "execution_count": 76,
     "metadata": {},
     "output_type": "execute_result"
    },
    {
     "data": {
      "image/png": "[encoded data removed]",
      "text/plain": [
       "<Figure size 432x288 with 1 Axes>"
      ]
     },
     "metadata": {
      "needs_background": "light"
     },
     "output_type": "display_data"
    }
   ],
   "source": [
    "x = [i for i in range(10)]\n",
    "y = [i**2 for i in x]\n",
    "\n",
    "plt.plot(x,y)"
   ]
  },
  {
   "cell_type": "code",
   "execution_count": 79,
   "id": "75d3d263",
   "metadata": {},
   "outputs": [
    {
     "data": {
      "text/plain": [
       "[<matplotlib.lines.Line2D at 0x272505a5040>]"
      ]
     },
     "execution_count": 79,
     "metadata": {},
     "output_type": "execute_result"
    },
    {
     "data": {
      "image/png": "[encoded data removed]",
      "text/plain": [
       "<Figure size 432x288 with 1 Axes>"
      ]
     },
     "metadata": {
      "needs_background": "light"
     },
     "output_type": "display_data"
    }
   ],
   "source": [
    "plt.plot(x,y,'r--')"
   ]
  },
  {
   "cell_type": "code",
   "execution_count": 83,
   "id": "60ab0f43",
   "metadata": {},
   "outputs": [
    {
     "data": {
      "text/plain": [
       "[<matplotlib.lines.Line2D at 0x27250743fa0>]"
      ]
     },
     "execution_count": 83,
     "metadata": {},
     "output_type": "execute_result"
    },
    {
     "data": {
      "image/png": "[encoded data removed]",
      "text/plain": [
       "<Figure size 432x288 with 1 Axes>"
      ]
     },
     "metadata": {
      "needs_background": "light"
     },
     "output_type": "display_data"
    }
   ],
   "source": [
    "plt.plot(x,y,'mo--')"
   ]
  },
  {
   "cell_type": "code",
   "execution_count": 94,
   "id": "acc4bcee",
   "metadata": {},
   "outputs": [
    {
     "data": {
      "text/plain": [
       "[<matplotlib.lines.Line2D at 0x27250b62f10>]"
      ]
     },
     "execution_count": 94,
     "metadata": {},
     "output_type": "execute_result"
    },
    {
     "data": {
      "image/png": "[encoded data removed]",
      "text/plain": [
       "<Figure size 432x288 with 1 Axes>"
      ]
     },
     "metadata": {
      "needs_background": "light"
     },
     "output_type": "display_data"
    }
   ],
   "source": [
    "plt.plot(x,y,color='m',marker='*',linestyle=':',markersize = 10,linewidth=3)"
   ]
  },
  {
   "cell_type": "markdown",
   "id": "91f6bd9f",
   "metadata": {},
   "source": [
    "Colors:\n",
    " - `k`: black\n",
    " - `w`: white\n",
    " - `r`: red\n",
    " - `y`: yellow\n",
    " - `b`: blue\n",
    " - `m`: magenta\n",
    " - `c`: cyan\n",
    " - `g`: green\n",
    " \n",
    "Markers:\n",
    " - `.`: small dot\n",
    " - `o`: bigger dot\n",
    " - `*`: star"
   ]
  },
  {
   "cell_type": "markdown",
   "id": "38c4ecc7",
   "metadata": {},
   "source": [
    "**Exercise:** Create a plot that shows $x$ vs $\\sin(x)$ for $x$ between $0$ and $2\\pi$"
   ]
  },
  {
   "cell_type": "code",
   "execution_count": 101,
   "id": "bd0da4c6",
   "metadata": {},
   "outputs": [],
   "source": [
    "from math import sin, pi, cos"
   ]
  },
  {
   "cell_type": "code",
   "execution_count": 102,
   "id": "09b6a566",
   "metadata": {},
   "outputs": [],
   "source": [
    "N = 100\n",
    "\n",
    "x = [2*pi*i/N for i in range(N+1)]\n",
    "sinx = [sin(xx) for xx in x]\n",
    "cosx = [cos(xx) for xx in x]"
   ]
  },
  {
   "cell_type": "code",
   "execution_count": 104,
   "id": "bda0553c",
   "metadata": {},
   "outputs": [
    {
     "data": {
      "text/plain": [
       "[<matplotlib.lines.Line2D at 0x2725382fc10>]"
      ]
     },
     "execution_count": 104,
     "metadata": {},
     "output_type": "execute_result"
    },
    {
     "data": {
      "image/png": "[encoded data removed]",
      "text/plain": [
       "<Figure size 432x288 with 1 Axes>"
      ]
     },
     "metadata": {
      "needs_background": "light"
     },
     "output_type": "display_data"
    }
   ],
   "source": [
    "plt.plot(x,sinx,'r')\n",
    "plt.plot(x,cosx,'b')"
   ]
  },
  {
   "cell_type": "markdown",
   "id": "e971feb3",
   "metadata": {},
   "source": [
    "We can label data curves using the `label` keyword, then calling `plt.legend()`"
   ]
  },
  {
   "cell_type": "code",
   "execution_count": 107,
   "id": "2fb3dfea",
   "metadata": {},
   "outputs": [
    {
     "data": {
      "text/plain": [
       "<matplotlib.legend.Legend at 0x2725399afd0>"
      ]
     },
     "execution_count": 107,
     "metadata": {},
     "output_type": "execute_result"
    },
    {
     "data": {
      "image/png": "[encoded data removed]",
      "text/plain": [
       "<Figure size 432x288 with 1 Axes>"
      ]
     },
     "metadata": {
      "needs_background": "light"
     },
     "output_type": "display_data"
    }
   ],
   "source": [
    "plt.plot(x,sinx,'r',label='$\\sin x$')\n",
    "plt.plot(x,cosx,'b',label='$\\cos x$')\n",
    "\n",
    "plt.legend()"
   ]
  },
  {
   "cell_type": "markdown",
   "id": "da101c55",
   "metadata": {},
   "source": [
    "We can add $x$-labels and $y$-labels using `plt.xlabel` and `plt.ylabel`:"
   ]
  },
  {
   "cell_type": "code",
   "execution_count": 109,
   "id": "bfbe5293",
   "metadata": {},
   "outputs": [
    {
     "data": {
      "text/plain": [
       "Text(0, 0.5, '$y$')"
      ]
     },
     "execution_count": 109,
     "metadata": {},
     "output_type": "execute_result"
    },
    {
     "data": {
      "image/png": "[encoded data removed]",
      "text/plain": [
       "<Figure size 432x288 with 1 Axes>"
      ]
     },
     "metadata": {
      "needs_background": "light"
     },
     "output_type": "display_data"
    }
   ],
   "source": [
    "plt.plot(x,sinx,'r',label='$y = \\sin x$')\n",
    "plt.plot(x,cosx,'b',label='$y = \\cos x$')\n",
    "\n",
    "plt.legend()\n",
    "\n",
    "plt.xlabel('$x$')\n",
    "plt.ylabel('$y$')"
   ]
  },
  {
   "cell_type": "markdown",
   "id": "c6bd6a6d",
   "metadata": {},
   "source": [
    "We can add a title using `plt.title`:"
   ]
  },
  {
   "cell_type": "code",
   "execution_count": 110,
   "id": "fcef212e",
   "metadata": {},
   "outputs": [
    {
     "data": {
      "text/plain": [
       "Text(0.5, 1.0, 'My plot')"
      ]
     },
     "execution_count": 110,
     "metadata": {},
     "output_type": "execute_result"
    },
    {
     "data": {
      "image/png": "[encoded data removed]",
      "text/plain": [
       "<Figure size 432x288 with 1 Axes>"
      ]
     },
     "metadata": {
      "needs_background": "light"
     },
     "output_type": "display_data"
    }
   ],
   "source": [
    "plt.plot(x,sinx,'r',label='$y = \\sin x$')\n",
    "plt.plot(x,cosx,'b',label='$y = \\cos x$')\n",
    "\n",
    "plt.legend()\n",
    "\n",
    "plt.xlabel('$x$')\n",
    "plt.ylabel('$y$')\n",
    "\n",
    "plt.title('My plot')"
   ]
  },
  {
   "cell_type": "code",
   "execution_count": 112,
   "id": "a5b11fed",
   "metadata": {},
   "outputs": [
    {
     "data": {
      "text/plain": [
       "[<matplotlib.lines.Line2D at 0x27254ccd370>]"
      ]
     },
     "execution_count": 112,
     "metadata": {},
     "output_type": "execute_result"
    },
    {
     "data": {
      "image/png": "[encoded data removed]",
      "text/plain": [
       "<Figure size 432x288 with 1 Axes>"
      ]
     },
     "metadata": {
      "needs_background": "light"
     },
     "output_type": "display_data"
    }
   ],
   "source": [
    "plt.plot(cosx,sinx)"
   ]
  },
  {
   "cell_type": "markdown",
   "id": "dcd81a1d",
   "metadata": {},
   "source": [
    "We can use a equal aspect ratio using `plt.axis('equal')`:"
   ]
  },
  {
   "cell_type": "code",
   "execution_count": 113,
   "id": "c2e4d08e",
   "metadata": {},
   "outputs": [
    {
     "data": {
      "text/plain": [
       "(-1.1, 1.1, -1.1, 1.1)"
      ]
     },
     "execution_count": 113,
     "metadata": {},
     "output_type": "execute_result"
    },
    {
     "data": {
      "image/png": "[encoded data removed]",
      "text/plain": [
       "<Figure size 432x288 with 1 Axes>"
      ]
     },
     "metadata": {
      "needs_background": "light"
     },
     "output_type": "display_data"
    }
   ],
   "source": [
    "plt.plot(cosx,sinx)\n",
    "plt.axis('equal')"
   ]
  },
  {
   "cell_type": "markdown",
   "id": "a98943ce",
   "metadata": {},
   "source": [
    "**Optional:** We can change the plotting backend to make figures sharper:"
   ]
  },
  {
   "cell_type": "code",
   "execution_count": 115,
   "id": "f056f34c",
   "metadata": {},
   "outputs": [],
   "source": [
    "%config InlineBackend.figure_format = 'retina'"
   ]
  },
  {
   "cell_type": "code",
   "execution_count": 116,
   "id": "b2a9ab33",
   "metadata": {},
   "outputs": [
    {
     "data": {
      "text/plain": [
       "Text(0.5, 1.0, 'My plot')"
      ]
     },
     "execution_count": 116,
     "metadata": {},
     "output_type": "execute_result"
    },
    {
     "data": {
      "image/png": "[encoded data removed]",
      "text/plain": [
       "<Figure size 432x288 with 1 Axes>"
      ]
     },
     "metadata": {
      "image/png": {
       "height": 277,
       "width": 400
      },
      "needs_background": "light"
     },
     "output_type": "display_data"
    }
   ],
   "source": [
    "plt.plot(x,sinx,'r',label='$y = \\sin x$')\n",
    "plt.plot(x,cosx,'b',label='$y = \\cos x$')\n",
    "\n",
    "plt.legend()\n",
    "\n",
    "plt.xlabel('$x$')\n",
    "plt.ylabel('$y$')\n",
    "\n",
    "plt.title('My plot')"
   ]
  },
  {
   "cell_type": "markdown",
   "id": "078f9ce0",
   "metadata": {},
   "source": [
    "# Wednesday, February 22nd 2023"
   ]
  },
  {
   "cell_type": "code",
   "execution_count": 1,
   "id": "19e58b07",
   "metadata": {},
   "outputs": [],
   "source": [
    "import matplotlib.pyplot as plt"
   ]
  },
  {
   "cell_type": "markdown",
   "id": "70ff5b54",
   "metadata": {},
   "source": [
    "Work on `ptriples` function for Project 2."
   ]
  },
  {
   "cell_type": "code",
   "execution_count": 2,
   "id": "9a736774",
   "metadata": {},
   "outputs": [
    {
     "name": "stdout",
     "output_type": "stream",
     "text": [
      "Help on class range in module builtins:\n",
      "\n",
      "class range(object)\n",
      " |  range(stop) -> range object\n",
      " |  range(start, stop[, step]) -> range object\n",
      " |  \n",
      " |  Return an object that produces a sequence of integers from start (inclusive)\n",
      " |  to stop (exclusive) by step.  range(i, j) produces i, i+1, i+2, ..., j-1.\n",
      " |  start defaults to 0, and stop is omitted!  range(4) produces 0, 1, 2, 3.\n",
      " |  These are exactly the valid indices for a list of 4 elements.\n",
      " |  When step is given, it specifies the increment (or decrement).\n",
      " |  \n",
      " |  Methods defined here:\n",
      " |  \n",
      " |  __bool__(self, /)\n",
      " |      self != 0\n",
      " |  \n",
      " |  __contains__(self, key, /)\n",
      " |      Return key in self.\n",
      " |  \n",
      " |  __eq__(self, value, /)\n",
      " |      Return self==value.\n",
      " |  \n",
      " |  __ge__(self, value, /)\n",
      " |      Return self>=value.\n",
      " |  \n",
      " |  __getattribute__(self, name, /)\n",
      " |      Return getattr(self, name).\n",
      " |  \n",
      " |  __getitem__(self, key, /)\n",
      " |      Return self[key].\n",
      " |  \n",
      " |  __gt__(self, value, /)\n",
      " |      Return self>value.\n",
      " |  \n",
      " |  __hash__(self, /)\n",
      " |      Return hash(self).\n",
      " |  \n",
      " |  __iter__(self, /)\n",
      " |      Implement iter(self).\n",
      " |  \n",
      " |  __le__(self, value, /)\n",
      " |      Return self<=value.\n",
      " |  \n",
      " |  __len__(self, /)\n",
      " |      Return len(self).\n",
      " |  \n",
      " |  __lt__(self, value, /)\n",
      " |      Return self<value.\n",
      " |  \n",
      " |  __ne__(self, value, /)\n",
      " |      Return self!=value.\n",
      " |  \n",
      " |  __reduce__(...)\n",
      " |      Helper for pickle.\n",
      " |  \n",
      " |  __repr__(self, /)\n",
      " |      Return repr(self).\n",
      " |  \n",
      " |  __reversed__(...)\n",
      " |      Return a reverse iterator.\n",
      " |  \n",
      " |  count(...)\n",
      " |      rangeobject.count(value) -> integer -- return number of occurrences of value\n",
      " |  \n",
      " |  index(...)\n",
      " |      rangeobject.index(value) -> integer -- return index of value.\n",
      " |      Raise ValueError if the value is not present.\n",
      " |  \n",
      " |  ----------------------------------------------------------------------\n",
      " |  Static methods defined here:\n",
      " |  \n",
      " |  __new__(*args, **kwargs) from builtins.type\n",
      " |      Create and return a new object.  See help(type) for accurate signature.\n",
      " |  \n",
      " |  ----------------------------------------------------------------------\n",
      " |  Data descriptors defined here:\n",
      " |  \n",
      " |  start\n",
      " |  \n",
      " |  step\n",
      " |  \n",
      " |  stop\n",
      "\n"
     ]
    }
   ],
   "source": [
    "help(range)"
   ]
  },
  {
   "cell_type": "code",
   "execution_count": 3,
   "id": "32510a37",
   "metadata": {},
   "outputs": [],
   "source": [
    "from math import sqrt"
   ]
  },
  {
   "cell_type": "code",
   "execution_count": 21,
   "id": "923225b9",
   "metadata": {},
   "outputs": [
    {
     "name": "stdout",
     "output_type": "stream",
     "text": [
      "True\n"
     ]
    }
   ],
   "source": [
    "a = 3\n",
    "b = 4\n",
    "\n",
    "c = sqrt(a**2 + b**2)\n",
    "print(c == int(c))"
   ]
  },
  {
   "cell_type": "code",
   "execution_count": 18,
   "id": "d847d8bb",
   "metadata": {},
   "outputs": [
    {
     "name": "stdout",
     "output_type": "stream",
     "text": [
      "False\n"
     ]
    }
   ],
   "source": [
    "a = 1\n",
    "b = 2\n",
    "c = round(sqrt(a**2 + b**2))    # This is the closest integer to sqrt(a**2 + b**2)\n",
    "print(a**2 + b**2 == c**2)"
   ]
  },
  {
   "cell_type": "code",
   "execution_count": 25,
   "id": "e0a034fc",
   "metadata": {},
   "outputs": [],
   "source": [
    "triples = [(3,4,5),(5,12,13),(6,8,10)]\n",
    "\n",
    "triples += [(b,a,c) for (a,b,c) in triples if a != b]"
   ]
  },
  {
   "cell_type": "code",
   "execution_count": 33,
   "id": "fc673719",
   "metadata": {},
   "outputs": [
    {
     "data": {
      "text/plain": [
       "[<matplotlib.lines.Line2D at 0x1a3e6c79070>]"
      ]
     },
     "execution_count": 33,
     "metadata": {},
     "output_type": "execute_result"
    },
    {
     "data": {
      "image/png": "[encoded data removed]",
      "text/plain": [
       "<Figure size 432x288 with 1 Axes>"
      ]
     },
     "metadata": {
      "needs_background": "light"
     },
     "output_type": "display_data"
    }
   ],
   "source": [
    "a_list = [a for (a,b,c) in triples]\n",
    "b_list = [b for (a,b,c) in triples]\n",
    "\n",
    "plt.plot(a_list,b_list,'o')"
   ]
  },
  {
   "cell_type": "markdown",
   "id": "f355b5f9",
   "metadata": {},
   "source": [
    "We can set the $x$ and $y$ bounds of a figure using `plt.xlim` and `plt.ylim`."
   ]
  },
  {
   "cell_type": "code",
   "execution_count": null,
   "id": "213b4671",
   "metadata": {},
   "outputs": [],
   "source": [
    "ptriples_list = ptriples(1000)\n",
    "\n",
    "#a_list, b_list = ....\n",
    "\n",
    "plt.plot(a_list,b_list)\n",
    "\n",
    "plt.xlim(0,21)\n",
    "plt.ylim(0,21)\n"
   ]
  },
  {
   "cell_type": "code",
   "execution_count": null,
   "id": "554d4deb",
   "metadata": {},
   "outputs": [],
   "source": [
    "plt.plot(a_list,b_list)\n",
    "plt.xlim(0,101)\n",
    "plt.ylim(0,101)"
   ]
  },
  {
   "cell_type": "markdown",
   "id": "d218b1f4",
   "metadata": {},
   "source": [
    "## Primitive Pythagorean triples"
   ]
  },
  {
   "cell_type": "markdown",
   "id": "93c6e6c7",
   "metadata": {},
   "source": [
    "### The greatest common divisor"
   ]
  },
  {
   "cell_type": "markdown",
   "id": "db086bfc",
   "metadata": {},
   "source": [
    "The greatest common divisor of two integers $a$ and $b$ is the largest integer that divides both $a$ and $b$. We denote this number by $\\gcd(a,b)$.\n",
    "\n",
    "Ex. $\\gcd(6,8) = 2$.\n",
    "\n",
    "If $\\gcd(a,b) = 1$, then we say $a$ and $b$ are relatively prime.\n",
    "We call a Pythogrean triple **primitive** if $a$ and $b$ are relatively prime.\n",
    "\n",
    "We might be interested in studying the primitive Pythagorean triples."
   ]
  },
  {
   "cell_type": "markdown",
   "id": "07a40c6c",
   "metadata": {},
   "source": [
    "One method of finding $\\gcd(a,b)$ is by brute-force checking for divisors, then taking the largest:"
   ]
  },
  {
   "cell_type": "code",
   "execution_count": 34,
   "id": "ec0d3a49",
   "metadata": {},
   "outputs": [],
   "source": [
    "def gcd(a,b):\n",
    "    divisors = []\n",
    "    for d in range(1, min(a,b) + 1):\n",
    "        if a % d == 0 and b % d == 0:   # If d divides both a and b\n",
    "            divisors.append(d)\n",
    "            \n",
    "    return max(divisors)"
   ]
  },
  {
   "cell_type": "code",
   "execution_count": 36,
   "id": "28bec2bb",
   "metadata": {},
   "outputs": [
    {
     "data": {
      "text/plain": [
       "5"
      ]
     },
     "execution_count": 36,
     "metadata": {},
     "output_type": "execute_result"
    }
   ],
   "source": [
    "gcd(15,20)"
   ]
  },
  {
   "cell_type": "markdown",
   "id": "a0e66151",
   "metadata": {},
   "source": [
    "## The Euclidean algorithm for computing the gcd\n",
    "\n",
    "* Start with two integers $a$ and $b$\n",
    "* Subtract the smaller number for the larger and replace the larger with this new number\n",
    "* Repeat the above step until one of the numbers is 0\n",
    "* The other number is the $\\gcd(a,b)$"
   ]
  },
  {
   "cell_type": "markdown",
   "id": "a18acb32",
   "metadata": {},
   "source": [
    "**Exercise.** Create a function `gcd(a,b)` that implements the above algorithm."
   ]
  },
  {
   "cell_type": "code",
   "execution_count": 39,
   "id": "52fdcc3b",
   "metadata": {},
   "outputs": [
    {
     "name": "stdout",
     "output_type": "stream",
     "text": [
      "6 8\n"
     ]
    }
   ],
   "source": [
    "a = 8\n",
    "b = 6\n",
    "\n",
    "if b < a: \n",
    "    a,b = b,a\n",
    "    \n",
    "print(a,b)"
   ]
  },
  {
   "cell_type": "code",
   "execution_count": 37,
   "id": "7cf2590c",
   "metadata": {},
   "outputs": [
    {
     "name": "stdout",
     "output_type": "stream",
     "text": [
      "Help on built-in function gcd in module math:\n",
      "\n",
      "gcd(*integers)\n",
      "    Greatest Common Divisor.\n",
      "\n"
     ]
    }
   ],
   "source": [
    "def gcd(a,b):\n",
    "    "
   ]
  },
  {
   "cell_type": "code",
   "execution_count": null,
   "id": "a91cf933",
   "metadata": {},
   "outputs": [],
   "source": [
    "def ptriples(n, include_repeats = True):\n",
    "    ...\n",
    "    return ptriples_list"
   ]
  },
  {
   "cell_type": "code",
   "execution_count": null,
   "id": "51fad2e0",
   "metadata": {},
   "outputs": [],
   "source": [
    "[(a,b,c) for (a,b,c) in ptriples_list if gcd(a,b) == 1]"
   ]
  }
 ],
 "metadata": {
  "kernelspec": {
   "display_name": "Python 3 (ipykernel)",
   "language": "python",
   "name": "python3"
  },
  "language_info": {
   "codemirror_mode": {
    "name": "ipython",
    "version": 3
   },
   "file_extension": ".py",
   "mimetype": "text/x-python",
   "name": "python",
   "nbconvert_exporter": "python",
   "pygments_lexer": "ipython3",
   "version": "3.9.7"
  }
 },
 "nbformat": 4,
 "nbformat_minor": 5
}
