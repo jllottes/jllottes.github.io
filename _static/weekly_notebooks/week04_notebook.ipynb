{
 "cells": [
  {
   "cell_type": "markdown",
   "id": "b017ffa6-99e5-4817-880a-f49c14bb2d3f",
   "metadata": {},
   "source": [
    "# Monday, September 15th, 2025\n",
    "\n",
    "Last time we added code comments to our `is_prime` to explain how the code works. We also discussed using Markdown cells above code cells to explain what the code will do and how it will work.\n",
    "\n",
    "**Exercise:** Using Markdown and LaTeX, explain what the `is_prime` function does and how it works."
   ]
  },
  {
   "cell_type": "markdown",
   "id": "14f93d4e-1e39-4afd-8129-ddd854d3e392",
   "metadata": {},
   "source": []
  },
  {
   "cell_type": "code",
   "execution_count": null,
   "id": "2cf08d80-47a2-42e6-9660-2f3f7346e5b1",
   "metadata": {},
   "outputs": [],
   "source": [
    "def is_prime(n):                             # Define a function is_prime\n",
    "    n_is_prime = True                        # Define a Boolean that is True when n is \n",
    "                                             # prime, false otherwise. We will assume that\n",
    "                                             # n is prime unless we can show otherwise\n",
    "\n",
    "    for d in range(2,int(sqrt(n))+1):        # Loop through possible divisors d\n",
    "        if n % d == 0:                       # Check if n is divisble by d\n",
    "            n_is_prime = False               # If so, then n is not prime...\n",
    "            break                            # ... and we can stop looking for divisors\n",
    "            \n",
    "    if n_is_prime:                           # If no divisor was found, then n must be prime\n",
    "        return True\n",
    "    else:                                    # Otherwise, a divisor was found and n is not prime\n",
    "        return False"
   ]
  },
  {
   "cell_type": "markdown",
   "id": "95a7aa89-2cb6-4f1e-af85-1f0267d7893a",
   "metadata": {},
   "source": [
    "## Project 1\n",
    "\n",
    "### Modular arithmetic and congruences\n",
    "\n",
    "See [Project 1 page](https://jllottes.github.io/Projects/prime_or_not/prime_or_not.html) for an introduction to modular arithmetic and congruences.\n",
    "\n",
    "From the project page, we say that a number $n$ is \"prime-like\" if\n",
    "\n",
    "$$a^n \\equiv a\\pmod{n}$$\n",
    "for all integers $0 \\leq a < n$."
   ]
  },
  {
   "cell_type": "markdown",
   "id": "b0a2a0c3-0641-49e0-8d88-867d24f713bf",
   "metadata": {},
   "source": [
    "**Exercise:** Write a function `is_prime_like` that takes in an integer `n` and returns `True` if `n` is prime-like and `False` if not."
   ]
  },
  {
   "cell_type": "code",
   "execution_count": null,
   "id": "1ecce3fa-56da-48fa-9e39-f0e723eeeff8",
   "metadata": {},
   "outputs": [],
   "source": []
  },
  {
   "cell_type": "markdown",
   "id": "6cd3cb0f-6582-4794-bc09-bb37c98d8255",
   "metadata": {},
   "source": [
    "**Exercise:** Write a function that takes in an integer `n` and returns a list of prime numbers that divide `n`. "
   ]
  },
  {
   "cell_type": "code",
   "execution_count": null,
   "id": "00bfac28-a5ca-4a8a-8c6b-2fd500216127",
   "metadata": {},
   "outputs": [],
   "source": []
  },
  {
   "cell_type": "markdown",
   "id": "fc7cbf12-7a96-4079-b907-40f40a2c49ef",
   "metadata": {},
   "source": [
    "**Exercise:** Modify the function from the previous exercise to return the primary decomposition of `n`. That is, modify the code to account for the multiplicity of each prime divisor."
   ]
  },
  {
   "cell_type": "code",
   "execution_count": null,
   "id": "edc7d1dd-c276-463e-bb46-408b5da1bcf4",
   "metadata": {},
   "outputs": [],
   "source": []
  },
  {
   "cell_type": "markdown",
   "id": "63a57b3a-1049-4ec4-a64d-3d05ac3f5e57",
   "metadata": {},
   "source": [
    "## More about functions\n",
    "\n",
    "### Positional arguments and keyword arguments"
   ]
  },
  {
   "cell_type": "markdown",
   "id": "b7d83d93-e228-440d-bc41-f2ef0b857217",
   "metadata": {},
   "source": [
    "So far, we've discussed defining functions that take in some number of input variables. For example, we defined the `is_power` function that took in two inputs, namely `n` and `power`."
   ]
  },
  {
   "cell_type": "code",
   "execution_count": 1,
   "id": "f9d62d41-00f3-40d2-aa00-4e146e533320",
   "metadata": {},
   "outputs": [],
   "source": [
    "def is_power(n,power):\n",
    "    root_n = n**(1/power)\n",
    "    if round(root_n)**power == n:\n",
    "        return True\n",
    "    else:\n",
    "        return False"
   ]
  },
  {
   "cell_type": "markdown",
   "id": "4facca33-2ca7-4fad-aa63-858e917fc77a",
   "metadata": {},
   "source": [
    "When we call a function, we can simply enter values in the corresponding order to map them to the input variables. For example, calling `is_power(16,4)` will execute the function by mapping `n=16` and `power=4`. Sometimes, it is useful to explicitly assign values to variables. This can be done using **keyword arguments**. To use a keyword argument, we plug a mapping `<variable name> = <value>` into the function. \n",
    "\n",
    "For example, `is_power(n=16, power=4)` will explicitly map `n=16` and `power=4` and execute the function's code. "
   ]
  },
  {
   "cell_type": "code",
   "execution_count": null,
   "id": "605fa766-e5a6-4e3f-ba81-cb40d8f900fd",
   "metadata": {},
   "outputs": [],
   "source": []
  },
  {
   "cell_type": "markdown",
   "id": "e58e664b-bbaf-4757-b9bf-35c744506f7e",
   "metadata": {},
   "source": [
    "With keyword arguments, we do not need to enter the values in the same order that was used to define the function. That is, `is_power(power=4,n=16)` will give the same result, whereas `is_power(4,16)` would map `n=4` and `power=16`."
   ]
  },
  {
   "cell_type": "code",
   "execution_count": null,
   "id": "4569fee6-ff5d-4319-874d-172506614960",
   "metadata": {},
   "outputs": [],
   "source": []
  },
  {
   "cell_type": "markdown",
   "id": "b236297e-5b20-45f0-86e3-a754176c97c4",
   "metadata": {},
   "source": [
    "When calling a function, inputs that we've not explicitly labeled as keyword arguments are called **positional arguments**. All positional arguments must come before *any* keyword arguments, and their ordering determines the mapping to the input variable names."
   ]
  },
  {
   "cell_type": "code",
   "execution_count": null,
   "id": "238fc152-e6e1-4b2f-ae0a-40701e0764d9",
   "metadata": {},
   "outputs": [],
   "source": []
  },
  {
   "cell_type": "markdown",
   "id": "d5474d27-6288-4464-b00e-c9649bf84c3d",
   "metadata": {},
   "source": [
    "### Default arguments\n",
    "\n",
    "It often happens that we write a function that takes in an input variable that has a natural or typically useful value. For example, in our second project, we will want to be able to tell if a given integer is a square. That is, we will want to use the `is_power` function with `power=2`.\n",
    "\n",
    "In situations like this, we can assign a default value to the input variable `power` when we define the function. To do so, we use the syntax `def <some function>(<some variable>=<default value>):`. Let's modify the `is_power` function to default to `power=2`:"
   ]
  },
  {
   "cell_type": "code",
   "execution_count": null,
   "id": "5e1e1c66-fe9f-4064-ac3e-d7222c2ece4d",
   "metadata": {},
   "outputs": [],
   "source": [
    "def is_power(n,power):\n",
    "    root_n = n**(1/power)\n",
    "    if round(root_n)**power == n:\n",
    "        return True\n",
    "    else:\n",
    "        return False"
   ]
  },
  {
   "cell_type": "markdown",
   "id": "6247f735-e68a-46ef-a223-b69213392f20",
   "metadata": {},
   "source": [
    "When a function is defined with default arguments, we can override them by supplying our own input value, or skip that input value and use the default."
   ]
  },
  {
   "cell_type": "code",
   "execution_count": null,
   "id": "28f47765-42b7-445b-aeff-8856ac3c8e43",
   "metadata": {},
   "outputs": [],
   "source": []
  },
  {
   "cell_type": "code",
   "execution_count": null,
   "id": "ed749964-12ad-4811-aab0-509e41ff0fd6",
   "metadata": {},
   "outputs": [],
   "source": []
  },
  {
   "cell_type": "markdown",
   "id": "6ef9ef2c-4a14-4990-b7e3-2216e6a6550e",
   "metadata": {},
   "source": [
    "Note: When defining a function that takes in several variables, any variables that have default values assigned must come after all variables that do not."
   ]
  },
  {
   "cell_type": "code",
   "execution_count": null,
   "id": "1fe3e1f7-5d13-4a35-8b39-0b7e966e83ad",
   "metadata": {},
   "outputs": [],
   "source": []
  },
  {
   "cell_type": "code",
   "execution_count": null,
   "id": "658daaa7-89ef-4633-b92c-e2896f660cdd",
   "metadata": {},
   "outputs": [],
   "source": []
  },
  {
   "cell_type": "markdown",
   "id": "77025190-4d49-41ed-a61f-063fb577e750",
   "metadata": {},
   "source": [
    "## List slicing\n",
    "\n",
    "We've discussed how to access specific elements from a list by index using square brackets."
   ]
  },
  {
   "cell_type": "code",
   "execution_count": 1,
   "id": "f459f339-4066-4526-a40b-920030fa0d73",
   "metadata": {},
   "outputs": [],
   "source": [
    "my_list = ['a','b','c','d','e','f','g','h']"
   ]
  },
  {
   "cell_type": "code",
   "execution_count": null,
   "id": "7ed9367c-3a5f-4d72-b996-d624c5c08b26",
   "metadata": {},
   "outputs": [],
   "source": []
  },
  {
   "cell_type": "markdown",
   "id": "d53cc91b-1bdd-464a-9889-171782cbbedb",
   "metadata": {},
   "source": [
    "Sometimes, we might want to get several elements from a list. For example, suppose we want a list containing every other element from `my_list`."
   ]
  },
  {
   "cell_type": "code",
   "execution_count": null,
   "id": "a282b3a0-b573-473a-91b3-b899d70aa4d7",
   "metadata": {},
   "outputs": [],
   "source": []
  },
  {
   "cell_type": "markdown",
   "id": "50266e7a-54ce-4017-b621-6128ed2ead3a",
   "metadata": {},
   "source": [
    "A more elegant approach is to use **list slicing**. There are several ways that we can take slices of a list.\n",
    " - `my_list[start_index:]` will start the slice at `start_index` and go the end of the list.\n",
    " - `my_list[:stop_index]` will start the list at the beginning (i.e. `0`) and proceed until one less than `stop_index`.\n",
    " - `my_list[start_index:stop_index]`  will start the slice at `start_index` and proceed until one less than `stop_index`.\n",
    "\n",
    "Note: We can also use negative indices as `stop_index` to count backward from the end of the list. For example, `stop_index=-1` will skip the last element of the list."
   ]
  },
  {
   "cell_type": "code",
   "execution_count": null,
   "id": "4bc784b4-cf70-42a0-a1b2-cf352be13b54",
   "metadata": {},
   "outputs": [],
   "source": []
  },
  {
   "cell_type": "markdown",
   "id": "ffd78790-6f28-489c-b823-022661862ecf",
   "metadata": {},
   "source": [
    "Just like the `range` function, we can optionally include a step size to our slice. For example:\n",
    "- `my_list[::skip]` will start at the beginning of the list and go to the end, but will go in steps of `skip`.\n",
    "- `my_list[start_index:stop_index:skip]` will start at `start_index`, proceed in steps of `skip`, and will stop when the index is greater than or equal to `stop_index`."
   ]
  },
  {
   "cell_type": "code",
   "execution_count": null,
   "id": "f7c46a9f-3452-433d-a930-f96fba8c684f",
   "metadata": {},
   "outputs": [],
   "source": []
  },
  {
   "cell_type": "markdown",
   "id": "3b88bbb1-baa2-4e26-b8dc-cbd197ee5ba0",
   "metadata": {},
   "source": [
    "## List comprehension"
   ]
  },
  {
   "cell_type": "markdown",
   "id": "39bc40f6-9cd6-4c88-8f29-f91608853f3d",
   "metadata": {},
   "source": [
    "So far, we've primarily constructed lists of data by using `for` loops and appending to an empty list. Another possibility is to use **list comprehension**. The syntax is as follows:\n",
    "\n",
    "`[<some expression> for <some item> in <some iterable>]`\n",
    "\n",
    "For example, suppose we want to construct a list containing the squares of the first 10 positive integers."
   ]
  },
  {
   "cell_type": "code",
   "execution_count": null,
   "id": "b2db552d-0385-4df0-b607-27ef4b802d54",
   "metadata": {},
   "outputs": [],
   "source": []
  },
  {
   "cell_type": "code",
   "execution_count": null,
   "id": "b4e0e5d2-17fb-4e67-9730-ebd0abbd4dc5",
   "metadata": {},
   "outputs": [],
   "source": []
  },
  {
   "cell_type": "markdown",
   "id": "e5852097-7046-4b04-8e27-a16a2397d937",
   "metadata": {},
   "source": [
    "We can optionally include a condition when using list comprehension. In this case, the syntax is:\n",
    "\n",
    "`[<some expression> for <some item> in <some iterable> if <some condition>]`.\n",
    "\n",
    "For example, suppose we want to construct a list containing the squares of the first 10 positive integers that have remainder `1` after division by `4`."
   ]
  },
  {
   "cell_type": "code",
   "execution_count": null,
   "id": "78c3650a-757a-450a-be8b-fe970feee3a8",
   "metadata": {},
   "outputs": [],
   "source": []
  },
  {
   "cell_type": "markdown",
   "id": "70133d92-2ddb-4e88-89f4-258e98d4f4c8",
   "metadata": {},
   "source": [
    "**Exercise:** Use list comprehension to generate a list of all prime numbers less than `100`."
   ]
  },
  {
   "cell_type": "code",
   "execution_count": null,
   "id": "ecd176f7-d96b-48b2-b321-015c77c6afe4",
   "metadata": {},
   "outputs": [],
   "source": []
  }
 ],
 "metadata": {
  "kernelspec": {
   "display_name": "Python 3 (ipykernel)",
   "language": "python",
   "name": "python3"
  },
  "language_info": {
   "codemirror_mode": {
    "name": "ipython",
    "version": 3
   },
   "file_extension": ".py",
   "mimetype": "text/x-python",
   "name": "python",
   "nbconvert_exporter": "python",
   "pygments_lexer": "ipython3",
   "version": "3.13.5"
  }
 },
 "nbformat": 4,
 "nbformat_minor": 5
}
