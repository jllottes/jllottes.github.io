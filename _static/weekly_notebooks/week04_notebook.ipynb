{
 "cells": [
  {
   "cell_type": "markdown",
   "id": "9720c303",
   "metadata": {},
   "source": [
    "# Monday, September 16th, 2024"
   ]
  },
  {
   "cell_type": "code",
   "execution_count": 3,
   "id": "89ae519a",
   "metadata": {},
   "outputs": [],
   "source": [
    "from math import pi\n",
    "\n",
    "def get_cylinder_volume(radius, height):\n",
    "    area = pi*radius**2\n",
    "    volume = area * height\n",
    "    return volume"
   ]
  },
  {
   "cell_type": "code",
   "execution_count": 4,
   "id": "325edb54",
   "metadata": {},
   "outputs": [
    {
     "data": {
      "text/plain": [
       "197.92033717615698"
      ]
     },
     "execution_count": 4,
     "metadata": {},
     "output_type": "execute_result"
    }
   ],
   "source": [
    "get_cylinder_volume(3,7)"
   ]
  },
  {
   "cell_type": "markdown",
   "id": "3fca18e9",
   "metadata": {},
   "source": [
    "When we call functions, we can use labels for the input arguments:"
   ]
  },
  {
   "cell_type": "code",
   "execution_count": 5,
   "id": "d77e96a7",
   "metadata": {},
   "outputs": [
    {
     "data": {
      "text/plain": [
       "197.92033717615698"
      ]
     },
     "execution_count": 5,
     "metadata": {},
     "output_type": "execute_result"
    }
   ],
   "source": [
    "get_cylinder_volume(radius=3, height=7)"
   ]
  },
  {
   "cell_type": "code",
   "execution_count": 6,
   "id": "cb13684f",
   "metadata": {},
   "outputs": [
    {
     "ename": "NameError",
     "evalue": "name 'get_cylinder_volumes' is not defined",
     "output_type": "error",
     "traceback": [
      "\u001b[1;31m---------------------------------------------------------------------------\u001b[0m",
      "\u001b[1;31mNameError\u001b[0m                                 Traceback (most recent call last)",
      "Cell \u001b[1;32mIn[6], line 1\u001b[0m\n\u001b[1;32m----> 1\u001b[0m get_cylinder_volumes(r\u001b[38;5;241m=\u001b[39m\u001b[38;5;241m3\u001b[39m, h\u001b[38;5;241m=\u001b[39m\u001b[38;5;241m7\u001b[39m)\n",
      "\u001b[1;31mNameError\u001b[0m: name 'get_cylinder_volumes' is not defined"
     ]
    }
   ],
   "source": [
    "get_cylinder_volumes(r=3, h=7)"
   ]
  },
  {
   "cell_type": "code",
   "execution_count": 7,
   "id": "b2c12c4f",
   "metadata": {},
   "outputs": [
    {
     "data": {
      "text/plain": [
       "197.92033717615698"
      ]
     },
     "execution_count": 7,
     "metadata": {},
     "output_type": "execute_result"
    }
   ],
   "source": [
    "get_cylinder_volume(height=7, radius=3)"
   ]
  },
  {
   "cell_type": "code",
   "execution_count": 8,
   "id": "c7f32684",
   "metadata": {},
   "outputs": [
    {
     "data": {
      "text/plain": [
       "461.81412007769956"
      ]
     },
     "execution_count": 8,
     "metadata": {},
     "output_type": "execute_result"
    }
   ],
   "source": [
    "get_cylinder_volume(7,3)"
   ]
  },
  {
   "cell_type": "markdown",
   "id": "42219bb3",
   "metadata": {},
   "source": [
    "We can also assign default values for a function when we define it:"
   ]
  },
  {
   "cell_type": "code",
   "execution_count": 9,
   "id": "f7c3827c",
   "metadata": {},
   "outputs": [],
   "source": [
    "from math import pi\n",
    "\n",
    "def get_cylinder_volume(radius, height=1):\n",
    "    area = pi*radius**2\n",
    "    volume = area * height\n",
    "    return volume"
   ]
  },
  {
   "cell_type": "markdown",
   "id": "fe8d006a",
   "metadata": {},
   "source": [
    "In the example above, we can use either supply a radius and height as inputs, or we can just supply a radius and the height will default to 1."
   ]
  },
  {
   "cell_type": "code",
   "execution_count": 10,
   "id": "ff2058a8",
   "metadata": {},
   "outputs": [
    {
     "data": {
      "text/plain": [
       "28.274333882308138"
      ]
     },
     "execution_count": 10,
     "metadata": {},
     "output_type": "execute_result"
    }
   ],
   "source": [
    "get_cylinder_volume(3)"
   ]
  },
  {
   "cell_type": "code",
   "execution_count": 11,
   "id": "68435c0d",
   "metadata": {},
   "outputs": [
    {
     "data": {
      "text/plain": [
       "197.92033717615698"
      ]
     },
     "execution_count": 11,
     "metadata": {},
     "output_type": "execute_result"
    }
   ],
   "source": [
    "get_cylinder_volume(3,7)"
   ]
  },
  {
   "cell_type": "code",
   "execution_count": 12,
   "id": "8bd3a42f",
   "metadata": {},
   "outputs": [
    {
     "data": {
      "text/plain": [
       "197.92033717615698"
      ]
     },
     "execution_count": 12,
     "metadata": {},
     "output_type": "execute_result"
    }
   ],
   "source": [
    "get_cylinder_volume(radius=3, height = 7)"
   ]
  },
  {
   "cell_type": "markdown",
   "id": "a27eaa14",
   "metadata": {},
   "source": [
    "We make a distinction between **positional arguments**, which do not come with a default value, and **keyword arguments**, which do.\n",
    "\n",
    "Positional must always be entered when calling a function. Moreover, they must always appear before any keyword arguments when we define a function."
   ]
  },
  {
   "cell_type": "markdown",
   "id": "86351e59",
   "metadata": {},
   "source": [
    "For the `get_cylinder_volume` function, `radius` is a positional argument and `height` is a keyword argument."
   ]
  },
  {
   "cell_type": "code",
   "execution_count": 13,
   "id": "9c0243a5",
   "metadata": {},
   "outputs": [
    {
     "ename": "TypeError",
     "evalue": "get_cylinder_volume() missing 1 required positional argument: 'radius'",
     "output_type": "error",
     "traceback": [
      "\u001b[1;31m---------------------------------------------------------------------------\u001b[0m",
      "\u001b[1;31mTypeError\u001b[0m                                 Traceback (most recent call last)",
      "Cell \u001b[1;32mIn[13], line 1\u001b[0m\n\u001b[1;32m----> 1\u001b[0m get_cylinder_volume()\n",
      "\u001b[1;31mTypeError\u001b[0m: get_cylinder_volume() missing 1 required positional argument: 'radius'"
     ]
    }
   ],
   "source": [
    "get_cylinder_volume()"
   ]
  },
  {
   "cell_type": "code",
   "execution_count": 14,
   "id": "1ee408ce",
   "metadata": {},
   "outputs": [
    {
     "data": {
      "text/plain": [
       "28.274333882308138"
      ]
     },
     "execution_count": 14,
     "metadata": {},
     "output_type": "execute_result"
    }
   ],
   "source": [
    "get_cylinder_volume(3)"
   ]
  },
  {
   "cell_type": "code",
   "execution_count": 15,
   "id": "c67a7c48",
   "metadata": {},
   "outputs": [
    {
     "data": {
      "text/plain": [
       "197.92033717615698"
      ]
     },
     "execution_count": 15,
     "metadata": {},
     "output_type": "execute_result"
    }
   ],
   "source": [
    "get_cylinder_volume(3, height=7)"
   ]
  },
  {
   "cell_type": "code",
   "execution_count": 16,
   "id": "856724f7",
   "metadata": {},
   "outputs": [
    {
     "ename": "SyntaxError",
     "evalue": "positional argument follows keyword argument (1719151673.py, line 1)",
     "output_type": "error",
     "traceback": [
      "\u001b[1;36m  Cell \u001b[1;32mIn[16], line 1\u001b[1;36m\u001b[0m\n\u001b[1;33m    get_cylinder_volume(height=7, 3)\u001b[0m\n\u001b[1;37m                                   ^\u001b[0m\n\u001b[1;31mSyntaxError\u001b[0m\u001b[1;31m:\u001b[0m positional argument follows keyword argument\n"
     ]
    }
   ],
   "source": [
    "get_cylinder_volume(height=7, 3)"
   ]
  },
  {
   "cell_type": "markdown",
   "id": "f9cafbd1",
   "metadata": {},
   "source": [
    "For our projects, it will critical to properly document our Python code.\n",
    "This means we need to:\n",
    " * Introduce our code: Explain what the code will do, how it serves the purposes of the report, and how it will work.\n",
    " * Include code comments within the code to help clarify what the code does and how it works\n",
    " * (Optional, but usually recommended) Demonstrate with a simple example that the code works."
   ]
  },
  {
   "cell_type": "markdown",
   "id": "7849913d",
   "metadata": {},
   "source": [
    "**Example:**\n",
    "\n",
    "In this project, we are interested in determining the weight of the Pantheon. Part of the architecture includes several columns, which we will approximate as cylinders. With that in mind, it will be useful to calculate volumes of cylinders, which we can use to calculate weights.\n",
    "\n",
    "In order to compute the volume of a cylinder, we need its radius and height. We will define a function, `get_cylinder_volume`, which takes in two arguments: `radius`, which is the radius of the cylinder, and `height`, which is the height. The function returns the volume of the cylinder.\n",
    "\n",
    "To compute the volume, we first find the area of a circular cross-section, that is $A = \\pi r^2$. We can then multiply this area by the height to obtain the volume."
   ]
  },
  {
   "cell_type": "code",
   "execution_count": 17,
   "id": "e3299800",
   "metadata": {},
   "outputs": [],
   "source": [
    "from math import pi\n",
    "\n",
    "def get_cylinder_volume(radius, height=1):\n",
    "    area = pi*radius**2     # First, get the area of a cross-section\n",
    "    volume = area * height  # then multiply the cross-section area by height\n",
    "    return volume"
   ]
  },
  {
   "cell_type": "markdown",
   "id": "6260ee44",
   "metadata": {},
   "source": [
    "We now demonstrate the use of `get_cylinder_volume`:"
   ]
  },
  {
   "cell_type": "code",
   "execution_count": 22,
   "id": "f928de00",
   "metadata": {},
   "outputs": [
    {
     "name": "stdout",
     "output_type": "stream",
     "text": [
      "A cylinder with radius 3 and height 7 is 197.92033717615698.\n"
     ]
    }
   ],
   "source": [
    "radius = 3\n",
    "height = 7\n",
    "volume = get_cylinder_volume(radius,height)\n",
    "s = 'A cylinder with radius {:} and height {:} is {:}.'\n",
    "print(s.format(radius, height, volume))"
   ]
  },
  {
   "cell_type": "markdown",
   "id": "de2d3b98",
   "metadata": {},
   "source": [
    "## Code comments:"
   ]
  },
  {
   "cell_type": "markdown",
   "id": "af91dafb",
   "metadata": {},
   "source": [
    "We can use hashtags `#` to insert text within a code cell. This text will be ignored by Python."
   ]
  },
  {
   "cell_type": "markdown",
   "id": "29e93a3a",
   "metadata": {},
   "source": [
    "## LaTeX"
   ]
  },
  {
   "cell_type": "markdown",
   "id": "0fd2e2a4",
   "metadata": {},
   "source": [
    "We will often need to write out math formulas, variables, etc. in our reports. LaTeX is a tool for rendering such things in Markdown. We use dollar signs \\$ to denote LaTeX:"
   ]
  },
  {
   "cell_type": "markdown",
   "id": "c06221d6",
   "metadata": {},
   "source": [
    "A single dollar sign will be put a math equation inline."
   ]
  },
  {
   "cell_type": "markdown",
   "id": "1dd96852",
   "metadata": {},
   "source": [
    "The area of a circle with radius r is A = pi r^2."
   ]
  },
  {
   "cell_type": "markdown",
   "id": "d40a4cb9",
   "metadata": {},
   "source": [
    "The area of a circle with radius $r$ is $A = \\pi r^2$."
   ]
  },
  {
   "cell_type": "markdown",
   "id": "593747d5",
   "metadata": {},
   "source": [
    "Double dollar signs can be used for a centered formula."
   ]
  },
  {
   "cell_type": "markdown",
   "id": "fab95dad",
   "metadata": {},
   "source": [
    "The area of a circle with radius $r$ is\n",
    "$$A = \\pi r^2.$$"
   ]
  },
  {
   "cell_type": "markdown",
   "id": "3ffdc34c",
   "metadata": {},
   "source": [
    "**Exercise:** Rewrite Fermat's little theorem (from the Project page) in a Markdown cell using LaTeX. You can use the LaTeX cheat sheet under *Useful Links*."
   ]
  },
  {
   "cell_type": "markdown",
   "id": "b3003b67",
   "metadata": {},
   "source": [
    "<code>**Fermat's little theorem**: If $p$ is a prime number, then\n",
    "<br>$$\n",
    "    a^p \\equiv a \\mod p\n",
    "$$<br>\n",
    "for all integers $0 \\leq a < p$.\n",
    "</code>"
   ]
  },
  {
   "cell_type": "markdown",
   "id": "a07473ee",
   "metadata": {},
   "source": [
    "**Fermat's little theorem**: If $p$ is a prime number, then\n",
    "\n",
    "$$\n",
    "    a^p \\equiv a \\mod p\n",
    "$$\n",
    "\n",
    "for all integers $0 \\leq a < p$."
   ]
  },
  {
   "cell_type": "markdown",
   "id": "844cc648",
   "metadata": {},
   "source": [
    "$a (mod p)$"
   ]
  },
  {
   "cell_type": "markdown",
   "id": "5f34f785",
   "metadata": {},
   "source": [
    "$a \\mod p$"
   ]
  },
  {
   "cell_type": "markdown",
   "id": "3415cd5a",
   "metadata": {},
   "source": [
    "$a \\quad (mod p)$"
   ]
  },
  {
   "cell_type": "markdown",
   "id": "0f60ffa0",
   "metadata": {},
   "source": [
    "$a \\,\\, (mod p)$"
   ]
  },
  {
   "cell_type": "markdown",
   "id": "f8dab3cb",
   "metadata": {},
   "source": [
    "$a \\quad (\\text{mod } p)$"
   ]
  },
  {
   "cell_type": "code",
   "execution_count": null,
   "id": "75f3d1b8",
   "metadata": {},
   "outputs": [],
   "source": [
    "primary(2**5 * 3**3 * 7)"
   ]
  },
  {
   "cell_type": "markdown",
   "id": "58af89ce",
   "metadata": {},
   "source": [
    "## Mutable vs immutable objects in Python"
   ]
  },
  {
   "cell_type": "code",
   "execution_count": 26,
   "id": "d05e6a50",
   "metadata": {},
   "outputs": [
    {
     "name": "stdout",
     "output_type": "stream",
     "text": [
      "7\n"
     ]
    }
   ],
   "source": [
    "a = 7\n",
    "print(a)"
   ]
  },
  {
   "cell_type": "code",
   "execution_count": 27,
   "id": "8c2ea611",
   "metadata": {},
   "outputs": [
    {
     "name": "stdout",
     "output_type": "stream",
     "text": [
      "7\n"
     ]
    }
   ],
   "source": [
    "b = a\n",
    "print(b)"
   ]
  },
  {
   "cell_type": "code",
   "execution_count": 28,
   "id": "c25169a8",
   "metadata": {},
   "outputs": [
    {
     "name": "stdout",
     "output_type": "stream",
     "text": [
      "12\n",
      "7\n"
     ]
    }
   ],
   "source": [
    "a = a + 5\n",
    "print(a)\n",
    "print(b)"
   ]
  },
  {
   "cell_type": "code",
   "execution_count": 29,
   "id": "45b8a73a",
   "metadata": {},
   "outputs": [],
   "source": [
    "a = [1, 2, 3]\n",
    "b = a"
   ]
  },
  {
   "cell_type": "code",
   "execution_count": 30,
   "id": "77424cfa",
   "metadata": {},
   "outputs": [
    {
     "name": "stdout",
     "output_type": "stream",
     "text": [
      "[1, 99, 3]\n",
      "[1, 99, 3]\n"
     ]
    }
   ],
   "source": [
    "a[1] = 99\n",
    "\n",
    "print(a)\n",
    "print(b)"
   ]
  },
  {
   "cell_type": "markdown",
   "id": "de41a91e",
   "metadata": {},
   "source": [
    "Integers, floats (and others) are **immutable objects**. They cannot be changed, and when we store them as variables, each variable gets its own copy."
   ]
  },
  {
   "cell_type": "markdown",
   "id": "c83f2e7e",
   "metadata": {},
   "source": [
    "Lists, strings, (and others), are **mutable objects**. They can be changed."
   ]
  },
  {
   "cell_type": "code",
   "execution_count": 31,
   "id": "45f1397a",
   "metadata": {},
   "outputs": [
    {
     "name": "stdout",
     "output_type": "stream",
     "text": [
      "[1, 99, 3]\n"
     ]
    }
   ],
   "source": [
    "a = [1,2,3]\n",
    "\n",
    "a[1] = 99\n",
    "\n",
    "print(a)"
   ]
  },
  {
   "cell_type": "code",
   "execution_count": 32,
   "id": "022a17eb",
   "metadata": {},
   "outputs": [
    {
     "name": "stdout",
     "output_type": "stream",
     "text": [
      "[1, 99, -10]\n",
      "[1, 99, -10]\n"
     ]
    }
   ],
   "source": [
    "b = a\n",
    "\n",
    "b[2] =  -10\n",
    "\n",
    "print(a)\n",
    "print(b)"
   ]
  },
  {
   "cell_type": "markdown",
   "id": "98b1a7c6",
   "metadata": {},
   "source": [
    "We can use the `id` function on mutable objects to get a unique identifier for them."
   ]
  },
  {
   "cell_type": "code",
   "execution_count": 35,
   "id": "defcf35c",
   "metadata": {},
   "outputs": [
    {
     "name": "stdout",
     "output_type": "stream",
     "text": [
      "2186429955840\n",
      "2186429955840\n"
     ]
    }
   ],
   "source": [
    "print(id(a))\n",
    "print(id(b))"
   ]
  },
  {
   "cell_type": "code",
   "execution_count": 37,
   "id": "01e67342",
   "metadata": {},
   "outputs": [
    {
     "name": "stdout",
     "output_type": "stream",
     "text": [
      "[1, 99, -10]\n",
      "[1, 99, -10]\n",
      "[1, 99, -10]\n"
     ]
    }
   ],
   "source": [
    "c = [1, 99, -10]\n",
    "print(a)\n",
    "print(b)\n",
    "print(c)"
   ]
  },
  {
   "cell_type": "code",
   "execution_count": 38,
   "id": "8e475fbf",
   "metadata": {},
   "outputs": [
    {
     "name": "stdout",
     "output_type": "stream",
     "text": [
      "2186430183552\n"
     ]
    }
   ],
   "source": [
    "print(id(c))"
   ]
  },
  {
   "cell_type": "code",
   "execution_count": 39,
   "id": "1b18820b",
   "metadata": {},
   "outputs": [
    {
     "data": {
      "text/plain": [
       "True"
      ]
     },
     "execution_count": 39,
     "metadata": {},
     "output_type": "execute_result"
    }
   ],
   "source": [
    "a == b"
   ]
  },
  {
   "cell_type": "code",
   "execution_count": 40,
   "id": "4c2ec82f",
   "metadata": {},
   "outputs": [
    {
     "data": {
      "text/plain": [
       "True"
      ]
     },
     "execution_count": 40,
     "metadata": {},
     "output_type": "execute_result"
    }
   ],
   "source": [
    "a == c"
   ]
  },
  {
   "cell_type": "markdown",
   "id": "33a1611d",
   "metadata": {},
   "source": [
    "We can check if two mutable objects are truly the same object using `is`:"
   ]
  },
  {
   "cell_type": "code",
   "execution_count": 41,
   "id": "a37f03bd",
   "metadata": {},
   "outputs": [
    {
     "data": {
      "text/plain": [
       "False"
      ]
     },
     "execution_count": 41,
     "metadata": {},
     "output_type": "execute_result"
    }
   ],
   "source": [
    "a is c"
   ]
  },
  {
   "cell_type": "code",
   "execution_count": 42,
   "id": "52bef381",
   "metadata": {},
   "outputs": [
    {
     "data": {
      "text/plain": [
       "True"
      ]
     },
     "execution_count": 42,
     "metadata": {},
     "output_type": "execute_result"
    }
   ],
   "source": [
    "a is b"
   ]
  },
  {
   "cell_type": "markdown",
   "id": "2a70709f",
   "metadata": {},
   "source": [
    "If we want to make a copy of a mutable object and we want to sever the connection between the two, we can use the `.copy()` method."
   ]
  },
  {
   "cell_type": "code",
   "execution_count": 43,
   "id": "caff5e19",
   "metadata": {},
   "outputs": [
    {
     "data": {
      "text/plain": [
       "False"
      ]
     },
     "execution_count": 43,
     "metadata": {},
     "output_type": "execute_result"
    }
   ],
   "source": [
    "a = [1,2,3]\n",
    "b = a.copy()\n",
    "\n",
    "a is b"
   ]
  },
  {
   "cell_type": "code",
   "execution_count": 44,
   "id": "252b58e1",
   "metadata": {},
   "outputs": [
    {
     "data": {
      "text/plain": [
       "True"
      ]
     },
     "execution_count": 44,
     "metadata": {},
     "output_type": "execute_result"
    }
   ],
   "source": [
    "a == b"
   ]
  },
  {
   "cell_type": "code",
   "execution_count": 45,
   "id": "1ae91545",
   "metadata": {},
   "outputs": [
    {
     "name": "stdout",
     "output_type": "stream",
     "text": [
      "[7000, 2, 3]\n",
      "[1, 2, 3]\n"
     ]
    }
   ],
   "source": [
    "a[0] = 7000\n",
    "\n",
    "print(a)\n",
    "print(b)"
   ]
  },
  {
   "cell_type": "markdown",
   "id": "828e5b84",
   "metadata": {},
   "source": [
    "## List comprehension"
   ]
  },
  {
   "cell_type": "markdown",
   "id": "67a78402",
   "metadata": {},
   "source": [
    "Suppose we want to build up a list of squares."
   ]
  },
  {
   "cell_type": "code",
   "execution_count": 48,
   "id": "b33c88fd",
   "metadata": {},
   "outputs": [
    {
     "name": "stdout",
     "output_type": "stream",
     "text": [
      "[1, 4, 9, 16, 25, 36, 49, 64, 81, 100]\n"
     ]
    }
   ],
   "source": [
    "squares = []\n",
    "for i in range(1,11):\n",
    "    squares.append(i**2)\n",
    "\n",
    "print(squares)"
   ]
  },
  {
   "cell_type": "code",
   "execution_count": 49,
   "id": "b3af658f",
   "metadata": {},
   "outputs": [
    {
     "data": {
      "text/plain": [
       "[1, 4, 9, 16, 25, 36, 49, 64, 81, 100]"
      ]
     },
     "execution_count": 49,
     "metadata": {},
     "output_type": "execute_result"
    }
   ],
   "source": [
    "[i**2 for i in range(1,11)]"
   ]
  },
  {
   "cell_type": "markdown",
   "id": "f2bd3fac",
   "metadata": {},
   "source": [
    "Suppose we want to build up a list of squares that are divisble by 3."
   ]
  },
  {
   "cell_type": "code",
   "execution_count": 51,
   "id": "87131502",
   "metadata": {},
   "outputs": [
    {
     "name": "stdout",
     "output_type": "stream",
     "text": [
      "[9, 36, 81]\n"
     ]
    }
   ],
   "source": [
    "squares = []\n",
    "for i in range(1,11):\n",
    "    square = i**2\n",
    "    if square % 3 == 0:\n",
    "        squares.append(square)\n",
    "\n",
    "print(squares)"
   ]
  },
  {
   "cell_type": "code",
   "execution_count": 52,
   "id": "e5c65cab",
   "metadata": {},
   "outputs": [
    {
     "data": {
      "text/plain": [
       "[9, 36, 81]"
      ]
     },
     "execution_count": 52,
     "metadata": {},
     "output_type": "execute_result"
    }
   ],
   "source": [
    "[i**2 for i in range(1,11) if i**2 % 3 == 0]"
   ]
  },
  {
   "cell_type": "code",
   "execution_count": null,
   "id": "33d0f575",
   "metadata": {},
   "outputs": [],
   "source": []
  }
 ],
 "metadata": {
  "kernelspec": {
   "display_name": "Python 3 (ipykernel)",
   "language": "python",
   "name": "python3"
  },
  "language_info": {
   "codemirror_mode": {
    "name": "ipython",
    "version": 3
   },
   "file_extension": ".py",
   "mimetype": "text/x-python",
   "name": "python",
   "nbconvert_exporter": "python",
   "pygments_lexer": "ipython3",
   "version": "3.11.5"
  }
 },
 "nbformat": 4,
 "nbformat_minor": 5
}
