{
 "cells": [
  {
   "cell_type": "markdown",
   "id": "b017ffa6-99e5-4817-880a-f49c14bb2d3f",
   "metadata": {},
   "source": [
    "# Monday, September 15th, 2025\n",
    "\n",
    "Last time we added code comments to our `is_prime` to explain how the code works. We also discussed using Markdown cells above code cells to explain what the code will do and how it will work.\n",
    "\n",
    "**Exercise:** Using Markdown and LaTeX, explain what the `is_prime` function does and how it works."
   ]
  },
  {
   "cell_type": "markdown",
   "id": "14f93d4e-1e39-4afd-8129-ddd854d3e392",
   "metadata": {},
   "source": []
  },
  {
   "cell_type": "code",
   "execution_count": 12,
   "id": "2cf08d80-47a2-42e6-9660-2f3f7346e5b1",
   "metadata": {},
   "outputs": [],
   "source": [
    "from math import sqrt\n",
    "\n",
    "def is_prime(n):                             # Define a function is_prime\n",
    "    n_is_prime = True                        # Define a Boolean that is True when n is \n",
    "                                             # prime, false otherwise. We will assume that\n",
    "                                             # n is prime unless we can show otherwise\n",
    "\n",
    "    for d in range(2,int(sqrt(n))+1):        # Loop through possible divisors d\n",
    "        if n % d == 0:                       # Check if n is divisble by d\n",
    "            n_is_prime = False               # If so, then n is not prime...\n",
    "            break                            # ... and we can stop looking for divisors\n",
    "            \n",
    "    if n_is_prime:                           # If no divisor was found, then n must be prime\n",
    "        return True\n",
    "    else:                                    # Otherwise, a divisor was found and n is not prime\n",
    "        return False"
   ]
  },
  {
   "cell_type": "code",
   "execution_count": 14,
   "id": "bc4d0d14-092c-4702-893e-5f4fa8ace37a",
   "metadata": {},
   "outputs": [],
   "source": [
    "from math import sqrt\n",
    "\n",
    "def is_prime(n):                             # Define a function is_prime\n",
    "    for d in range(2,int(sqrt(n))+1):        # Loop through possible divisors d\n",
    "        if n % d == 0:                       # Check if n is divisble by d\n",
    "            return False\n",
    "    return True"
   ]
  },
  {
   "cell_type": "markdown",
   "id": "95a7aa89-2cb6-4f1e-af85-1f0267d7893a",
   "metadata": {},
   "source": [
    "## Project 1\n",
    "\n",
    "### Modular arithmetic and congruences\n",
    "\n",
    "See [Project 1 page](https://jllottes.github.io/Projects/prime_or_not/prime_or_not.html) for an introduction to modular arithmetic and congruences.\n",
    "\n",
    "From the project page, we say that a number $n$ is \"prime-like\" if\n",
    "\n",
    "$$a^n \\equiv a\\pmod{n}$$\n",
    "for all integers $0 \\leq a < n$."
   ]
  },
  {
   "cell_type": "markdown",
   "id": "b0a2a0c3-0641-49e0-8d88-867d24f713bf",
   "metadata": {},
   "source": [
    "**Exercise:** Write a function `is_prime_like` that takes in an integer `n` and returns `True` if `n` is prime-like and `False` if not."
   ]
  },
  {
   "cell_type": "code",
   "execution_count": 15,
   "id": "1ecce3fa-56da-48fa-9e39-f0e723eeeff8",
   "metadata": {},
   "outputs": [],
   "source": [
    "def is_prime_like(n):\n",
    "    for a in range(n):\n",
    "        if a**n % n != a % n:\n",
    "            return False\n",
    "    return True"
   ]
  },
  {
   "cell_type": "markdown",
   "id": "e22b7be4-9673-4121-af88-3fbe251d78de",
   "metadata": {},
   "source": [
    "Note: See project page for details about the operation `a**n % n`. This turns out to be much too slow for our needs."
   ]
  },
  {
   "cell_type": "code",
   "execution_count": 20,
   "id": "0e3facf2-38cb-4978-a25c-9dea08604385",
   "metadata": {},
   "outputs": [
    {
     "name": "stdout",
     "output_type": "stream",
     "text": [
      "Help on built-in function pow in module builtins:\n",
      "\n",
      "pow(base, exp, mod=None)\n",
      "    Equivalent to base**exp with 2 arguments or base**exp % mod with 3 arguments\n",
      "\n",
      "    Some types, such as ints, are able to use a more efficient algorithm when\n",
      "    invoked using the three argument form.\n",
      "\n"
     ]
    }
   ],
   "source": [
    "help(pow)"
   ]
  },
  {
   "cell_type": "code",
   "execution_count": 16,
   "id": "0230fbde-1d34-46a7-b0f7-2fd21f6b65c3",
   "metadata": {},
   "outputs": [
    {
     "data": {
      "text/plain": [
       "True"
      ]
     },
     "execution_count": 16,
     "metadata": {},
     "output_type": "execute_result"
    }
   ],
   "source": [
    "is_prime_like(3)"
   ]
  },
  {
   "cell_type": "code",
   "execution_count": 17,
   "id": "b8aacbf9-1ec1-45e0-96b5-8476a45e9480",
   "metadata": {},
   "outputs": [
    {
     "data": {
      "text/plain": [
       "False"
      ]
     },
     "execution_count": 17,
     "metadata": {},
     "output_type": "execute_result"
    }
   ],
   "source": [
    "is_prime_like(4)"
   ]
  },
  {
   "cell_type": "code",
   "execution_count": 18,
   "id": "4b679895-581e-42ef-ba3c-d30215502736",
   "metadata": {},
   "outputs": [
    {
     "data": {
      "text/plain": [
       "True"
      ]
     },
     "execution_count": 18,
     "metadata": {},
     "output_type": "execute_result"
    }
   ],
   "source": [
    "is_prime_like(561)"
   ]
  },
  {
   "cell_type": "code",
   "execution_count": 19,
   "id": "123d30bf-3325-4ec1-9b7f-167f5b527a6e",
   "metadata": {},
   "outputs": [
    {
     "data": {
      "text/plain": [
       "False"
      ]
     },
     "execution_count": 19,
     "metadata": {},
     "output_type": "execute_result"
    }
   ],
   "source": [
    "is_prime(561)"
   ]
  },
  {
   "cell_type": "markdown",
   "id": "902e3a91-b043-4ac8-b9e9-57ad1ebf675b",
   "metadata": {},
   "source": [
    "**Exercise:** Write a function `is_false_prime(n)` that returns `True` if `n` is a false prime and `False` otherwise."
   ]
  },
  {
   "cell_type": "code",
   "execution_count": 23,
   "id": "984891b5-35ef-414c-ba7e-44470cc3a7bd",
   "metadata": {},
   "outputs": [],
   "source": [
    "def is_false_prime(n):\n",
    "    if is_prime_like(n) and not is_prime(n):\n",
    "        return True\n",
    "    else:\n",
    "        return False"
   ]
  },
  {
   "cell_type": "markdown",
   "id": "2f6f6942-9cb6-448d-bde2-7e18db13f6cb",
   "metadata": {},
   "source": [
    "Note: The `is_false_prime` function above has a critical problem that will us from finding `20` false primes in a reasonable amount of time."
   ]
  },
  {
   "cell_type": "code",
   "execution_count": 24,
   "id": "98333dc9-ac27-42a0-bfd3-e8372de78c81",
   "metadata": {},
   "outputs": [
    {
     "data": {
      "text/plain": [
       "True"
      ]
     },
     "execution_count": 24,
     "metadata": {},
     "output_type": "execute_result"
    }
   ],
   "source": [
    "is_false_prime(561)"
   ]
  },
  {
   "cell_type": "code",
   "execution_count": 25,
   "id": "4275a41a-41ef-49ce-a517-d9fd14b312ae",
   "metadata": {},
   "outputs": [
    {
     "data": {
      "text/plain": [
       "False"
      ]
     },
     "execution_count": 25,
     "metadata": {},
     "output_type": "execute_result"
    }
   ],
   "source": [
    "is_false_prime(29)"
   ]
  },
  {
   "cell_type": "code",
   "execution_count": 26,
   "id": "73e2ca54-8269-40d2-8648-8bf584a9fb35",
   "metadata": {},
   "outputs": [
    {
     "data": {
      "text/plain": [
       "False"
      ]
     },
     "execution_count": 26,
     "metadata": {},
     "output_type": "execute_result"
    }
   ],
   "source": [
    "is_false_prime(4)"
   ]
  },
  {
   "cell_type": "markdown",
   "id": "6cd3cb0f-6582-4794-bc09-bb37c98d8255",
   "metadata": {},
   "source": [
    "**Exercise:** Write a function that takes in an integer `n` and returns a list of prime numbers that divide `n`. "
   ]
  },
  {
   "cell_type": "code",
   "execution_count": null,
   "id": "00bfac28-a5ca-4a8a-8c6b-2fd500216127",
   "metadata": {},
   "outputs": [],
   "source": []
  },
  {
   "cell_type": "markdown",
   "id": "fc7cbf12-7a96-4079-b907-40f40a2c49ef",
   "metadata": {},
   "source": [
    "**Exercise:** Modify the function from the previous exercise to return the primary decomposition of `n`. That is, modify the code to account for the multiplicity of each prime divisor."
   ]
  },
  {
   "cell_type": "code",
   "execution_count": null,
   "id": "edc7d1dd-c276-463e-bb46-408b5da1bcf4",
   "metadata": {},
   "outputs": [],
   "source": []
  },
  {
   "cell_type": "markdown",
   "id": "63a57b3a-1049-4ec4-a64d-3d05ac3f5e57",
   "metadata": {},
   "source": [
    "## More about functions\n",
    "\n",
    "### Positional arguments and keyword arguments"
   ]
  },
  {
   "cell_type": "markdown",
   "id": "b7d83d93-e228-440d-bc41-f2ef0b857217",
   "metadata": {},
   "source": [
    "So far, we've discussed defining functions that take in some number of input variables. For example, we defined the `is_power` function that took in two inputs, namely `n` and `power`."
   ]
  },
  {
   "cell_type": "code",
   "execution_count": 27,
   "id": "f9d62d41-00f3-40d2-aa00-4e146e533320",
   "metadata": {},
   "outputs": [],
   "source": [
    "def is_power(n,power):\n",
    "    root_n = n**(1/power)\n",
    "    if round(root_n)**power == n:\n",
    "        return True\n",
    "    else:\n",
    "        return False"
   ]
  },
  {
   "cell_type": "markdown",
   "id": "4facca33-2ca7-4fad-aa63-858e917fc77a",
   "metadata": {},
   "source": [
    "When we call a function, we can simply enter values in the corresponding order to map them to the input variables. For example, calling `is_power(16,4)` will execute the function by mapping `n=16` and `power=4`. Sometimes, it is useful to explicitly assign values to variables. This can be done using **keyword arguments**. To use a keyword argument, we plug a mapping `<variable name> = <value>` into the function. \n",
    "\n",
    "For example, `is_power(n=16, power=4)` will explicitly map `n=16` and `power=4` and execute the function's code. "
   ]
  },
  {
   "cell_type": "code",
   "execution_count": 28,
   "id": "605fa766-e5a6-4e3f-ba81-cb40d8f900fd",
   "metadata": {},
   "outputs": [
    {
     "data": {
      "text/plain": [
       "True"
      ]
     },
     "execution_count": 28,
     "metadata": {},
     "output_type": "execute_result"
    }
   ],
   "source": [
    "is_power(n=16, power=4)"
   ]
  },
  {
   "cell_type": "markdown",
   "id": "e58e664b-bbaf-4757-b9bf-35c744506f7e",
   "metadata": {},
   "source": [
    "With keyword arguments, we do not need to enter the values in the same order that was used to define the function. That is, `is_power(power=4,n=16)` will give the same result, whereas `is_power(4,16)` would map `n=4` and `power=16`."
   ]
  },
  {
   "cell_type": "code",
   "execution_count": 29,
   "id": "4569fee6-ff5d-4319-874d-172506614960",
   "metadata": {},
   "outputs": [
    {
     "data": {
      "text/plain": [
       "True"
      ]
     },
     "execution_count": 29,
     "metadata": {},
     "output_type": "execute_result"
    }
   ],
   "source": [
    "is_power(power=4, n=16)"
   ]
  },
  {
   "cell_type": "markdown",
   "id": "e5fb7956-27ed-4006-bd75-3b95196e6293",
   "metadata": {},
   "source": [
    "For a more illustrative toy example:"
   ]
  },
  {
   "cell_type": "code",
   "execution_count": 30,
   "id": "e2b31671-f1d0-43d4-9fc2-745550d66a7b",
   "metadata": {},
   "outputs": [],
   "source": [
    "def f(a,b,c):\n",
    "    print(a + b + c)"
   ]
  },
  {
   "cell_type": "code",
   "execution_count": 31,
   "id": "e9197782-652d-4351-894b-b782900579b1",
   "metadata": {},
   "outputs": [
    {
     "name": "stdout",
     "output_type": "stream",
     "text": [
      "HelloGoodbye!\n"
     ]
    }
   ],
   "source": [
    "f('Hello','Goodbye','!')"
   ]
  },
  {
   "cell_type": "code",
   "execution_count": 32,
   "id": "1dd081b4-b5f6-4d8d-b5fb-81b52805c787",
   "metadata": {},
   "outputs": [
    {
     "name": "stdout",
     "output_type": "stream",
     "text": [
      "Goodbye!Hello\n"
     ]
    }
   ],
   "source": [
    "f(c='Hello',a='Goodbye',b='!')"
   ]
  },
  {
   "cell_type": "markdown",
   "id": "b236297e-5b20-45f0-86e3-a754176c97c4",
   "metadata": {},
   "source": [
    "When calling a function, inputs that we've not explicitly labeled as keyword arguments are called **positional arguments**. All positional arguments must come before *any* keyword arguments, and their ordering determines the mapping to the input variable names."
   ]
  },
  {
   "cell_type": "code",
   "execution_count": 33,
   "id": "238fc152-e6e1-4b2f-ae0a-40701e0764d9",
   "metadata": {},
   "outputs": [
    {
     "name": "stdout",
     "output_type": "stream",
     "text": [
      "Hello!Goodbye\n"
     ]
    }
   ],
   "source": [
    "f('Hello', c='Goodbye', b='!')"
   ]
  },
  {
   "cell_type": "code",
   "execution_count": 34,
   "id": "b6e559e3-9562-441d-97eb-16bc27d34663",
   "metadata": {},
   "outputs": [
    {
     "ename": "SyntaxError",
     "evalue": "positional argument follows keyword argument (2025806366.py, line 1)",
     "output_type": "error",
     "traceback": [
      "\u001b[1;36m  Cell \u001b[1;32mIn[34], line 1\u001b[1;36m\u001b[0m\n\u001b[1;33m    f(c='Hello', 'Goodbye', '!')\u001b[0m\n\u001b[1;37m                               ^\u001b[0m\n\u001b[1;31mSyntaxError\u001b[0m\u001b[1;31m:\u001b[0m positional argument follows keyword argument\n"
     ]
    }
   ],
   "source": [
    "f(c='Hello', 'Goodbye', '!')"
   ]
  },
  {
   "cell_type": "markdown",
   "id": "d5474d27-6288-4464-b00e-c9649bf84c3d",
   "metadata": {},
   "source": [
    "### Default arguments\n",
    "\n",
    "It often happens that we write a function that takes in an input variable that has a natural or typically useful value. For example, in our second project, we will want to be able to tell if a given integer is a square. That is, we will want to use the `is_power` function with `power=2`.\n",
    "\n",
    "In situations like this, we can assign a default value to the input variable `power` when we define the function. To do so, we use the syntax `def <some function>(<some variable>=<default value>):`. Let's modify the `is_power` function to default to `power=2`:"
   ]
  },
  {
   "cell_type": "code",
   "execution_count": 35,
   "id": "5e1e1c66-fe9f-4064-ac3e-d7222c2ece4d",
   "metadata": {},
   "outputs": [],
   "source": [
    "def is_power(n,power=2):\n",
    "    root_n = n**(1/power)\n",
    "    if round(root_n)**power == n:\n",
    "        return True\n",
    "    else:\n",
    "        return False"
   ]
  },
  {
   "cell_type": "markdown",
   "id": "6247f735-e68a-46ef-a223-b69213392f20",
   "metadata": {},
   "source": [
    "When a function is defined with default arguments, we can override them by supplying our own input value, or skip that input value and use the default."
   ]
  },
  {
   "cell_type": "code",
   "execution_count": 36,
   "id": "28f47765-42b7-445b-aeff-8856ac3c8e43",
   "metadata": {},
   "outputs": [
    {
     "data": {
      "text/plain": [
       "True"
      ]
     },
     "execution_count": 36,
     "metadata": {},
     "output_type": "execute_result"
    }
   ],
   "source": [
    "is_power(9)"
   ]
  },
  {
   "cell_type": "code",
   "execution_count": 37,
   "id": "fb691deb-1278-44cf-be9a-f3fc0844fe86",
   "metadata": {},
   "outputs": [
    {
     "data": {
      "text/plain": [
       "True"
      ]
     },
     "execution_count": 37,
     "metadata": {},
     "output_type": "execute_result"
    }
   ],
   "source": [
    "is_power(16)"
   ]
  },
  {
   "cell_type": "code",
   "execution_count": 38,
   "id": "ed749964-12ad-4811-aab0-509e41ff0fd6",
   "metadata": {},
   "outputs": [
    {
     "data": {
      "text/plain": [
       "False"
      ]
     },
     "execution_count": 38,
     "metadata": {},
     "output_type": "execute_result"
    }
   ],
   "source": [
    "is_power(5)"
   ]
  },
  {
   "cell_type": "code",
   "execution_count": 39,
   "id": "a2ed34f7-47e6-4ce7-a54b-349a39e9ff40",
   "metadata": {},
   "outputs": [
    {
     "data": {
      "text/plain": [
       "False"
      ]
     },
     "execution_count": 39,
     "metadata": {},
     "output_type": "execute_result"
    }
   ],
   "source": [
    "is_power(9,3)"
   ]
  },
  {
   "cell_type": "code",
   "execution_count": 40,
   "id": "a815883a-136f-44b3-9a91-2c53d04de79a",
   "metadata": {},
   "outputs": [
    {
     "data": {
      "text/plain": [
       "True"
      ]
     },
     "execution_count": 40,
     "metadata": {},
     "output_type": "execute_result"
    }
   ],
   "source": [
    "is_power(27,3)"
   ]
  },
  {
   "cell_type": "markdown",
   "id": "6ef9ef2c-4a14-4990-b7e3-2216e6a6550e",
   "metadata": {},
   "source": [
    "Note: When defining a function that takes in several variables, any variables that have default values assigned must come after all variables that do not."
   ]
  },
  {
   "cell_type": "code",
   "execution_count": 45,
   "id": "1fe3e1f7-5d13-4a35-8b39-0b7e966e83ad",
   "metadata": {},
   "outputs": [],
   "source": [
    "def f(a='Hello', b='Goodbye', c='!'):\n",
    "    print(a + b + c)"
   ]
  },
  {
   "cell_type": "code",
   "execution_count": 46,
   "id": "658daaa7-89ef-4633-b92c-e2896f660cdd",
   "metadata": {},
   "outputs": [
    {
     "name": "stdout",
     "output_type": "stream",
     "text": [
      "HelloGoodbye!\n"
     ]
    }
   ],
   "source": [
    "f()"
   ]
  },
  {
   "cell_type": "code",
   "execution_count": 47,
   "id": "df2db032-de52-429d-9715-46db79cd1a93",
   "metadata": {},
   "outputs": [
    {
     "name": "stdout",
     "output_type": "stream",
     "text": [
      "MTH337Goodbye!\n"
     ]
    }
   ],
   "source": [
    "f('MTH337')"
   ]
  },
  {
   "cell_type": "code",
   "execution_count": 48,
   "id": "8167dcff-a631-42d1-bc71-b4c1b8cadfaa",
   "metadata": {},
   "outputs": [
    {
     "name": "stdout",
     "output_type": "stream",
     "text": [
      "HelloGoodbyeMTH337\n"
     ]
    }
   ],
   "source": [
    "f(c='MTH337')"
   ]
  }
 ],
 "metadata": {
  "kernelspec": {
   "display_name": "Python 3 (ipykernel)",
   "language": "python",
   "name": "python3"
  },
  "language_info": {
   "codemirror_mode": {
    "name": "ipython",
    "version": 3
   },
   "file_extension": ".py",
   "mimetype": "text/x-python",
   "name": "python",
   "nbconvert_exporter": "python",
   "pygments_lexer": "ipython3",
   "version": "3.13.5"
  }
 },
 "nbformat": 4,
 "nbformat_minor": 5
}
