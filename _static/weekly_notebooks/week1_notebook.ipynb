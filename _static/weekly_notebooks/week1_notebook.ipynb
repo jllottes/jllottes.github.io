{
 "cells": [
  {
   "cell_type": "markdown",
   "id": "fa4696d8",
   "metadata": {},
   "source": [
    "This is some text.\n",
    "To execute a cell, press `Shift + Enter`"
   ]
  },
  {
   "cell_type": "markdown",
   "id": "5b440292",
   "metadata": {},
   "source": [
    "# This is a heading\n",
    "\n",
    "Double clicking on a Markdown cell allows you to edit it.\n",
    "\n",
    "## This is a sub-heading\n",
    "\n",
    "### This is a sub-sub-heading\n",
    "\n",
    "This is regular text.\n",
    "\n",
    "*This is italics.*\n",
    "\n",
    "**This is bold text.**\n",
    "\n",
    "We can write code snippets in Markdown:\n",
    "\n",
    "`def f(n):\n",
    "    print(n)`"
   ]
  },
  {
   "cell_type": "markdown",
   "id": "61f75bb2",
   "metadata": {},
   "source": [
    "## Lists\n",
    "\n",
    "* This is the first item in a list\n",
    "* This is the second\n",
    "* This is third\n",
    "* ...\n",
    "\n",
    "We can create numbered lists:\n",
    "\n",
    "1. This is the first item in a list\n",
    "2. This is the second item in a list\n",
    "4. This is the third item in a list\n",
    "6. ..."
   ]
  },
  {
   "cell_type": "markdown",
   "id": "5716df90",
   "metadata": {},
   "source": [
    "## Hyperlinks\n",
    "\n",
    "[Course webpage](https://jllottes.github.io)"
   ]
  },
  {
   "cell_type": "markdown",
   "id": "beb1bb0d",
   "metadata": {},
   "source": [
    "## Tables\n",
    "\n",
    "We can create tables in Markdown:\n",
    "\n",
    "| First name | Last name | Favorite animal |\n",
    "|:-----------|:----------|:----------------|\n",
    "| Alan       | Diakob    | Dolphin         |\n",
    "| Trevor     | MacEhee   | Dog             |\n",
    "| Harrison   | Fedro     | Otter           |\n",
    "| Jon        | Lottes    | Lion            |"
   ]
  },
  {
   "cell_type": "markdown",
   "id": "989aefc0",
   "metadata": {},
   "source": [
    "# Python arithmetic"
   ]
  },
  {
   "cell_type": "markdown",
   "id": "04e8e61b",
   "metadata": {},
   "source": [
    "Addition:"
   ]
  },
  {
   "cell_type": "code",
   "execution_count": 3,
   "id": "a2a2d4aa",
   "metadata": {},
   "outputs": [
    {
     "data": {
      "text/plain": [
       "2"
      ]
     },
     "execution_count": 3,
     "metadata": {},
     "output_type": "execute_result"
    }
   ],
   "source": [
    "1+1"
   ]
  },
  {
   "cell_type": "markdown",
   "id": "0137299b",
   "metadata": {},
   "source": [
    "Multiplication:"
   ]
  },
  {
   "cell_type": "code",
   "execution_count": 4,
   "id": "809a2bfb",
   "metadata": {},
   "outputs": [
    {
     "data": {
      "text/plain": [
       "6"
      ]
     },
     "execution_count": 4,
     "metadata": {},
     "output_type": "execute_result"
    }
   ],
   "source": [
    "2*3"
   ]
  },
  {
   "cell_type": "markdown",
   "id": "25d804a6",
   "metadata": {},
   "source": [
    "Division:"
   ]
  },
  {
   "cell_type": "code",
   "execution_count": 5,
   "id": "cad20765",
   "metadata": {},
   "outputs": [
    {
     "data": {
      "text/plain": [
       "3.6666666666666665"
      ]
     },
     "execution_count": 5,
     "metadata": {},
     "output_type": "execute_result"
    }
   ],
   "source": [
    "11/3"
   ]
  },
  {
   "cell_type": "markdown",
   "id": "71ad9953",
   "metadata": {},
   "source": [
    "Floor division: (divide and drop the remainder)"
   ]
  },
  {
   "cell_type": "code",
   "execution_count": 6,
   "id": "7d6d4a6a",
   "metadata": {},
   "outputs": [
    {
     "data": {
      "text/plain": [
       "3"
      ]
     },
     "execution_count": 6,
     "metadata": {},
     "output_type": "execute_result"
    }
   ],
   "source": [
    "11//3"
   ]
  },
  {
   "cell_type": "markdown",
   "id": "b406d9b7",
   "metadata": {},
   "source": [
    "Modulus: (divide and keep only the remainder)"
   ]
  },
  {
   "cell_type": "code",
   "execution_count": 7,
   "id": "8865279d",
   "metadata": {},
   "outputs": [
    {
     "data": {
      "text/plain": [
       "2"
      ]
     },
     "execution_count": 7,
     "metadata": {},
     "output_type": "execute_result"
    }
   ],
   "source": [
    "11%3"
   ]
  },
  {
   "cell_type": "markdown",
   "id": "6efd2328",
   "metadata": {},
   "source": [
    "To clarify: `11 = 3*3 + 2`"
   ]
  },
  {
   "cell_type": "markdown",
   "id": "50a5156d",
   "metadata": {},
   "source": [
    "Exponentiation:"
   ]
  },
  {
   "cell_type": "code",
   "execution_count": 8,
   "id": "6628a702",
   "metadata": {},
   "outputs": [
    {
     "data": {
      "text/plain": [
       "32"
      ]
     },
     "execution_count": 8,
     "metadata": {},
     "output_type": "execute_result"
    }
   ],
   "source": [
    "2**5"
   ]
  },
  {
   "cell_type": "code",
   "execution_count": 9,
   "id": "21a7b40b",
   "metadata": {},
   "outputs": [
    {
     "data": {
      "text/plain": [
       "1267650600228229401496703205376"
      ]
     },
     "execution_count": 9,
     "metadata": {},
     "output_type": "execute_result"
    }
   ],
   "source": [
    "2**100"
   ]
  },
  {
   "cell_type": "code",
   "execution_count": 10,
   "id": "fdba932f",
   "metadata": {},
   "outputs": [
    {
     "data": {
      "text/plain": [
       "1.2676506002282294e+30"
      ]
     },
     "execution_count": 10,
     "metadata": {},
     "output_type": "execute_result"
    }
   ],
   "source": [
    "2.0**100"
   ]
  },
  {
   "cell_type": "markdown",
   "id": "a3a6930f",
   "metadata": {},
   "source": [
    "`2` is an integer in Python, `2.0` is a float. The `e+30` means we need to move the decimal point 30 places to the right."
   ]
  },
  {
   "cell_type": "markdown",
   "id": "007e091d",
   "metadata": {},
   "source": [
    "# Floats vs integers\n",
    "\n",
    "* integers = numbers without a decimal point\n",
    "* floats = numbers with a decimal point\n",
    "* operations on integers are exact\n",
    "* operations on floats are approximate\n",
    "* Integers can be arbitrarily large, but floats are represented in the computer only within some finite range"
   ]
  },
  {
   "cell_type": "code",
   "execution_count": 11,
   "id": "bf825f56",
   "metadata": {},
   "outputs": [
    {
     "data": {
      "text/plain": [
       "125325663996571831810755483238273420616498507508098617146349500752097059631738116432448839054351520763198615919551594076685828989467263022761790838270854579830015111246661203984624358929832571615718014704096305668097507613273663023226895250541385927158426088684494082416768617708189592286936039922311125683719215046689156738352590137241554510185855964549927575493247391132548534378497978806084951085874202011836362315727420109554782988791530088289711844550500230485638413189947132142243947334199259300735622492937419453650061490302105127920314430401636855677549136337481321811349678427076091437345045399337348611261168055929355402992823192491190360027036112283180935872775214517464013178274657100736321564606838252739601156414628445543663144696050650160812621814327062666195172701780200286645023823083185928061371310300829284071141207731280600001"
      ]
     },
     "execution_count": 11,
     "metadata": {},
     "output_type": "execute_result"
    }
   ],
   "source": [
    "7**1000"
   ]
  },
  {
   "cell_type": "code",
   "execution_count": 12,
   "id": "27bc2a8b",
   "metadata": {},
   "outputs": [
    {
     "ename": "OverflowError",
     "evalue": "(34, 'Result too large')",
     "output_type": "error",
     "traceback": [
      "\u001b[1;31m---------------------------------------------------------------------------\u001b[0m",
      "\u001b[1;31mOverflowError\u001b[0m                             Traceback (most recent call last)",
      "\u001b[1;32m<ipython-input-12-9f61bd5ea895>\u001b[0m in \u001b[0;36m<module>\u001b[1;34m\u001b[0m\n\u001b[1;32m----> 1\u001b[1;33m \u001b[1;36m7.0\u001b[0m\u001b[1;33m**\u001b[0m\u001b[1;36m1000\u001b[0m\u001b[1;33m\u001b[0m\u001b[1;33m\u001b[0m\u001b[0m\n\u001b[0m",
      "\u001b[1;31mOverflowError\u001b[0m: (34, 'Result too large')"
     ]
    }
   ],
   "source": [
    "7.0**1000"
   ]
  },
  {
   "cell_type": "markdown",
   "id": "2bba3e8c",
   "metadata": {},
   "source": [
    "Integers can be converted to floats using the `float()` function:"
   ]
  },
  {
   "cell_type": "code",
   "execution_count": 13,
   "id": "bf112935",
   "metadata": {},
   "outputs": [
    {
     "data": {
      "text/plain": [
       "123.0"
      ]
     },
     "execution_count": 13,
     "metadata": {},
     "output_type": "execute_result"
    }
   ],
   "source": [
    "float(123)"
   ]
  },
  {
   "cell_type": "markdown",
   "id": "a8002c45",
   "metadata": {},
   "source": [
    "Floats can be converted to integers using the `int()` function which truncates toward 0:"
   ]
  },
  {
   "cell_type": "code",
   "execution_count": 14,
   "id": "4f188240",
   "metadata": {},
   "outputs": [
    {
     "data": {
      "text/plain": [
       "123"
      ]
     },
     "execution_count": 14,
     "metadata": {},
     "output_type": "execute_result"
    }
   ],
   "source": [
    "int(123.99)"
   ]
  },
  {
   "cell_type": "markdown",
   "id": "facdc6cc",
   "metadata": {},
   "source": [
    "The `round()` function converts a float to the nearest integer:"
   ]
  },
  {
   "cell_type": "code",
   "execution_count": 15,
   "id": "2da508ed",
   "metadata": {},
   "outputs": [
    {
     "data": {
      "text/plain": [
       "124"
      ]
     },
     "execution_count": 15,
     "metadata": {},
     "output_type": "execute_result"
    }
   ],
   "source": [
    "round(123.99)"
   ]
  },
  {
   "cell_type": "markdown",
   "id": "514878bd",
   "metadata": {},
   "source": [
    "### Exercise:\n",
    "\n",
    "Find two numbers `p` and `q` so that `1234567 = 11*p + q` where `0 <= q < 11 `"
   ]
  },
  {
   "cell_type": "code",
   "execution_count": 16,
   "id": "50eacb56",
   "metadata": {},
   "outputs": [
    {
     "data": {
      "text/plain": [
       "112233"
      ]
     },
     "execution_count": 16,
     "metadata": {},
     "output_type": "execute_result"
    }
   ],
   "source": [
    "1234567//11"
   ]
  },
  {
   "cell_type": "code",
   "execution_count": 17,
   "id": "18536959",
   "metadata": {},
   "outputs": [
    {
     "data": {
      "text/plain": [
       "4"
      ]
     },
     "execution_count": 17,
     "metadata": {},
     "output_type": "execute_result"
    }
   ],
   "source": [
    "1234567%11"
   ]
  },
  {
   "cell_type": "code",
   "execution_count": 18,
   "id": "1785990b",
   "metadata": {},
   "outputs": [
    {
     "data": {
      "text/plain": [
       "4"
      ]
     },
     "execution_count": 18,
     "metadata": {},
     "output_type": "execute_result"
    }
   ],
   "source": [
    "1234567 - 11*112233"
   ]
  },
  {
   "cell_type": "markdown",
   "id": "cf339937",
   "metadata": {},
   "source": [
    "Answer: `p = 112233` and `q = 4`"
   ]
  },
  {
   "cell_type": "markdown",
   "id": "b7e97419",
   "metadata": {},
   "source": [
    "The order of operations follows PEMDAS:"
   ]
  },
  {
   "cell_type": "code",
   "execution_count": 19,
   "id": "80ab4099",
   "metadata": {},
   "outputs": [
    {
     "data": {
      "text/plain": [
       "63.0"
      ]
     },
     "execution_count": 19,
     "metadata": {},
     "output_type": "execute_result"
    }
   ],
   "source": [
    "7*(6/2)**2"
   ]
  },
  {
   "cell_type": "code",
   "execution_count": 20,
   "id": "2f1d37b1",
   "metadata": {},
   "outputs": [
    {
     "data": {
      "text/plain": [
       "63"
      ]
     },
     "execution_count": 20,
     "metadata": {},
     "output_type": "execute_result"
    }
   ],
   "source": [
    "7*(6//2)**2"
   ]
  },
  {
   "cell_type": "code",
   "execution_count": 21,
   "id": "3cb3a4ed",
   "metadata": {},
   "outputs": [
    {
     "data": {
      "text/plain": [
       "21"
      ]
     },
     "execution_count": 21,
     "metadata": {},
     "output_type": "execute_result"
    }
   ],
   "source": [
    "7*(1+2)"
   ]
  },
  {
   "cell_type": "markdown",
   "id": "df76bc94",
   "metadata": {},
   "source": [
    "# Variable assignment"
   ]
  },
  {
   "cell_type": "code",
   "execution_count": 22,
   "id": "bd0e850d",
   "metadata": {},
   "outputs": [],
   "source": [
    "a = 5"
   ]
  },
  {
   "cell_type": "code",
   "execution_count": 23,
   "id": "d587dbee",
   "metadata": {},
   "outputs": [
    {
     "data": {
      "text/plain": [
       "5"
      ]
     },
     "execution_count": 23,
     "metadata": {},
     "output_type": "execute_result"
    }
   ],
   "source": [
    "a"
   ]
  },
  {
   "cell_type": "code",
   "execution_count": 24,
   "id": "554690e3",
   "metadata": {},
   "outputs": [
    {
     "data": {
      "text/plain": [
       "2"
      ]
     },
     "execution_count": 24,
     "metadata": {},
     "output_type": "execute_result"
    }
   ],
   "source": [
    "b = 2\n",
    "\n",
    "b"
   ]
  },
  {
   "cell_type": "code",
   "execution_count": 25,
   "id": "150e568e",
   "metadata": {},
   "outputs": [
    {
     "data": {
      "text/plain": [
       "7"
      ]
     },
     "execution_count": 25,
     "metadata": {},
     "output_type": "execute_result"
    }
   ],
   "source": [
    "a+b"
   ]
  },
  {
   "cell_type": "code",
   "execution_count": 26,
   "id": "aa7e2658",
   "metadata": {},
   "outputs": [
    {
     "data": {
      "text/plain": [
       "25"
      ]
     },
     "execution_count": 26,
     "metadata": {},
     "output_type": "execute_result"
    }
   ],
   "source": [
    "a**b"
   ]
  },
  {
   "cell_type": "code",
   "execution_count": 27,
   "id": "54ba1182",
   "metadata": {},
   "outputs": [
    {
     "data": {
      "text/plain": [
       "32"
      ]
     },
     "execution_count": 27,
     "metadata": {},
     "output_type": "execute_result"
    }
   ],
   "source": [
    "b**a"
   ]
  },
  {
   "cell_type": "code",
   "execution_count": 28,
   "id": "09189288",
   "metadata": {},
   "outputs": [
    {
     "data": {
      "text/plain": [
       "(5, 2)"
      ]
     },
     "execution_count": 28,
     "metadata": {},
     "output_type": "execute_result"
    }
   ],
   "source": [
    "a,b"
   ]
  },
  {
   "cell_type": "code",
   "execution_count": 29,
   "id": "5da8f68b",
   "metadata": {},
   "outputs": [],
   "source": [
    "a = 10\n",
    "b = 3"
   ]
  },
  {
   "cell_type": "code",
   "execution_count": 30,
   "id": "36060166",
   "metadata": {},
   "outputs": [
    {
     "data": {
      "text/plain": [
       "(10, 3)"
      ]
     },
     "execution_count": 30,
     "metadata": {},
     "output_type": "execute_result"
    }
   ],
   "source": [
    "a,b"
   ]
  },
  {
   "cell_type": "markdown",
   "id": "ee9e472e",
   "metadata": {},
   "source": [
    "We can define severables in a single line:"
   ]
  },
  {
   "cell_type": "code",
   "execution_count": 31,
   "id": "5774a2e0",
   "metadata": {},
   "outputs": [],
   "source": [
    "c,d = 100, -20"
   ]
  },
  {
   "cell_type": "code",
   "execution_count": 32,
   "id": "253ef6a8",
   "metadata": {},
   "outputs": [
    {
     "data": {
      "text/plain": [
       "100"
      ]
     },
     "execution_count": 32,
     "metadata": {},
     "output_type": "execute_result"
    }
   ],
   "source": [
    "c"
   ]
  },
  {
   "cell_type": "code",
   "execution_count": 33,
   "id": "29dd4b7a",
   "metadata": {},
   "outputs": [
    {
     "data": {
      "text/plain": [
       "-20"
      ]
     },
     "execution_count": 33,
     "metadata": {},
     "output_type": "execute_result"
    }
   ],
   "source": [
    "d"
   ]
  },
  {
   "cell_type": "markdown",
   "id": "cad54141",
   "metadata": {},
   "source": [
    "We can use this to swap variables:"
   ]
  },
  {
   "cell_type": "code",
   "execution_count": 42,
   "id": "ef73f523",
   "metadata": {},
   "outputs": [],
   "source": [
    "c,d = d,c"
   ]
  },
  {
   "cell_type": "code",
   "execution_count": 43,
   "id": "71e499bc",
   "metadata": {},
   "outputs": [
    {
     "data": {
      "text/plain": [
       "(-20, 100)"
      ]
     },
     "execution_count": 43,
     "metadata": {},
     "output_type": "execute_result"
    }
   ],
   "source": [
    "c,d"
   ]
  },
  {
   "cell_type": "markdown",
   "id": "fe5f703c",
   "metadata": {},
   "source": [
    "Python will interpret the right-hand side first before making any variable assigments."
   ]
  },
  {
   "cell_type": "markdown",
   "id": "d22a6d61",
   "metadata": {},
   "source": [
    "# The `print()` function\n",
    "\n",
    "So far, we've been executing a command in a cell to get the output"
   ]
  },
  {
   "cell_type": "code",
   "execution_count": 46,
   "id": "a124f323",
   "metadata": {},
   "outputs": [
    {
     "data": {
      "text/plain": [
       "100"
      ]
     },
     "execution_count": 46,
     "metadata": {},
     "output_type": "execute_result"
    }
   ],
   "source": [
    "a\n",
    "b\n",
    "c\n",
    "d"
   ]
  },
  {
   "cell_type": "markdown",
   "id": "808ec975",
   "metadata": {},
   "source": [
    "We can use the `print()` function to force Python to print to the output"
   ]
  },
  {
   "cell_type": "code",
   "execution_count": 47,
   "id": "523c49f9",
   "metadata": {},
   "outputs": [
    {
     "name": "stdout",
     "output_type": "stream",
     "text": [
      "10\n",
      "3\n",
      "-20\n",
      "100\n"
     ]
    }
   ],
   "source": [
    "print(a)\n",
    "print(b)\n",
    "print(c)\n",
    "print(d)"
   ]
  },
  {
   "cell_type": "markdown",
   "id": "09a02942",
   "metadata": {},
   "source": [
    "We can also print several things with a single `print()` command:"
   ]
  },
  {
   "cell_type": "code",
   "execution_count": 48,
   "id": "72f8d40e",
   "metadata": {},
   "outputs": [
    {
     "name": "stdout",
     "output_type": "stream",
     "text": [
      "10 3 -20 100\n"
     ]
    }
   ],
   "source": [
    "print(a,b,c,d)"
   ]
  },
  {
   "cell_type": "markdown",
   "id": "33ff8472",
   "metadata": {},
   "source": [
    "## Shortcuts for modifying variables values:"
   ]
  },
  {
   "cell_type": "code",
   "execution_count": 60,
   "id": "9028302d",
   "metadata": {},
   "outputs": [],
   "source": [
    "a = 100"
   ]
  },
  {
   "cell_type": "code",
   "execution_count": 61,
   "id": "fc799701",
   "metadata": {},
   "outputs": [],
   "source": [
    "a = a + 5"
   ]
  },
  {
   "cell_type": "code",
   "execution_count": 62,
   "id": "504cfe49",
   "metadata": {},
   "outputs": [
    {
     "name": "stdout",
     "output_type": "stream",
     "text": [
      "105\n"
     ]
    }
   ],
   "source": [
    "print(a)"
   ]
  },
  {
   "cell_type": "code",
   "execution_count": 63,
   "id": "efa30b24",
   "metadata": {},
   "outputs": [],
   "source": [
    "b = 100"
   ]
  },
  {
   "cell_type": "markdown",
   "id": "36f0eb6f",
   "metadata": {},
   "source": [
    "Shorthand for `b = b + 5`:"
   ]
  },
  {
   "cell_type": "code",
   "execution_count": 64,
   "id": "bcbb166d",
   "metadata": {},
   "outputs": [],
   "source": [
    "b += 5"
   ]
  },
  {
   "cell_type": "code",
   "execution_count": 65,
   "id": "582a76a1",
   "metadata": {},
   "outputs": [
    {
     "name": "stdout",
     "output_type": "stream",
     "text": [
      "105\n"
     ]
    }
   ],
   "source": [
    "print(b)"
   ]
  },
  {
   "cell_type": "markdown",
   "id": "425a3bf7",
   "metadata": {},
   "source": [
    "This short-hand works with `-=`, `*=`, `/=`:"
   ]
  },
  {
   "cell_type": "code",
   "execution_count": 66,
   "id": "8ae8e8d2",
   "metadata": {},
   "outputs": [],
   "source": [
    "c = 100"
   ]
  },
  {
   "cell_type": "code",
   "execution_count": 67,
   "id": "81f6c2e1",
   "metadata": {},
   "outputs": [
    {
     "name": "stdout",
     "output_type": "stream",
     "text": [
      "99\n"
     ]
    }
   ],
   "source": [
    "c -= 1\n",
    "print(c)"
   ]
  },
  {
   "cell_type": "code",
   "execution_count": 68,
   "id": "c68d28ec",
   "metadata": {},
   "outputs": [
    {
     "name": "stdout",
     "output_type": "stream",
     "text": [
      "198\n"
     ]
    }
   ],
   "source": [
    "c *= 2\n",
    "print(c)"
   ]
  },
  {
   "cell_type": "code",
   "execution_count": 69,
   "id": "4780ce71",
   "metadata": {},
   "outputs": [
    {
     "name": "stdout",
     "output_type": "stream",
     "text": [
      "49.5\n"
     ]
    }
   ],
   "source": [
    "c /= 4\n",
    "print(c)"
   ]
  },
  {
   "cell_type": "markdown",
   "id": "3ea8af37",
   "metadata": {},
   "source": [
    "# Strings in Python"
   ]
  },
  {
   "cell_type": "markdown",
   "id": "48d2fc51",
   "metadata": {},
   "source": [
    "Text strings are created by enclosing text in either single or double quotes:"
   ]
  },
  {
   "cell_type": "code",
   "execution_count": 78,
   "id": "734ca153",
   "metadata": {},
   "outputs": [],
   "source": [
    "s = 'MTH 337'"
   ]
  },
  {
   "cell_type": "code",
   "execution_count": 79,
   "id": "540eebf0",
   "metadata": {},
   "outputs": [
    {
     "name": "stdout",
     "output_type": "stream",
     "text": [
      "MTH 337\n"
     ]
    }
   ],
   "source": [
    "print(s)"
   ]
  },
  {
   "cell_type": "markdown",
   "id": "5a2f76af",
   "metadata": {},
   "source": [
    "String concatenation:"
   ]
  },
  {
   "cell_type": "code",
   "execution_count": 80,
   "id": "a54bc00d",
   "metadata": {},
   "outputs": [],
   "source": [
    "s2 = \"Welcome to \""
   ]
  },
  {
   "cell_type": "code",
   "execution_count": 81,
   "id": "d8e33cba",
   "metadata": {},
   "outputs": [],
   "source": [
    "s3 = s2 + s"
   ]
  },
  {
   "cell_type": "code",
   "execution_count": 82,
   "id": "96f64074",
   "metadata": {},
   "outputs": [
    {
     "name": "stdout",
     "output_type": "stream",
     "text": [
      "Welcome to MTH 337\n"
     ]
    }
   ],
   "source": [
    "print(s3)"
   ]
  },
  {
   "cell_type": "markdown",
   "id": "4b1da7cd",
   "metadata": {},
   "source": [
    "String multiplication by integers:"
   ]
  },
  {
   "cell_type": "code",
   "execution_count": 83,
   "id": "523d8483",
   "metadata": {},
   "outputs": [],
   "source": [
    "s = 'abc'\n",
    "s2 = 10*s"
   ]
  },
  {
   "cell_type": "code",
   "execution_count": 84,
   "id": "4d652391",
   "metadata": {},
   "outputs": [
    {
     "name": "stdout",
     "output_type": "stream",
     "text": [
      "abcabcabcabcabcabcabcabcabcabc\n"
     ]
    }
   ],
   "source": [
    "print(s2)"
   ]
  },
  {
   "cell_type": "markdown",
   "id": "91211955",
   "metadata": {},
   "source": [
    "We can't multiply two strings together:"
   ]
  },
  {
   "cell_type": "code",
   "execution_count": 88,
   "id": "298f66bb",
   "metadata": {},
   "outputs": [
    {
     "ename": "TypeError",
     "evalue": "can't multiply sequence by non-int of type 'str'",
     "output_type": "error",
     "traceback": [
      "\u001b[1;31m---------------------------------------------------------------------------\u001b[0m",
      "\u001b[1;31mTypeError\u001b[0m                                 Traceback (most recent call last)",
      "\u001b[1;32m<ipython-input-88-00821173e4b5>\u001b[0m in \u001b[0;36m<module>\u001b[1;34m\u001b[0m\n\u001b[1;32m----> 1\u001b[1;33m \u001b[0ms\u001b[0m\u001b[1;33m*\u001b[0m\u001b[0ms\u001b[0m\u001b[1;33m\u001b[0m\u001b[1;33m\u001b[0m\u001b[0m\n\u001b[0m",
      "\u001b[1;31mTypeError\u001b[0m: can't multiply sequence by non-int of type 'str'"
     ]
    }
   ],
   "source": [
    "s*s"
   ]
  },
  {
   "cell_type": "markdown",
   "id": "671f882b",
   "metadata": {},
   "source": [
    "Multiline strings can be created using triple quotes:"
   ]
  },
  {
   "cell_type": "code",
   "execution_count": 89,
   "id": "c48b9b0a",
   "metadata": {},
   "outputs": [
    {
     "ename": "SyntaxError",
     "evalue": "EOL while scanning string literal (<ipython-input-89-91b59ab325fa>, line 1)",
     "output_type": "error",
     "traceback": [
      "\u001b[1;36m  File \u001b[1;32m\"<ipython-input-89-91b59ab325fa>\"\u001b[1;36m, line \u001b[1;32m1\u001b[0m\n\u001b[1;33m    'This is not a\u001b[0m\n\u001b[1;37m                  ^\u001b[0m\n\u001b[1;31mSyntaxError\u001b[0m\u001b[1;31m:\u001b[0m EOL while scanning string literal\n"
     ]
    }
   ],
   "source": [
    "'This is not a\n",
    "multiline string\n",
    "It will throw an error'"
   ]
  },
  {
   "cell_type": "code",
   "execution_count": 91,
   "id": "23a10f7c",
   "metadata": {},
   "outputs": [
    {
     "data": {
      "text/plain": [
       "'This is a \\nmultiline string.\\nIt will not throw an error.'"
      ]
     },
     "execution_count": 91,
     "metadata": {},
     "output_type": "execute_result"
    }
   ],
   "source": [
    "s = '''This is a \n",
    "multiline string.\n",
    "It will not throw an error.'''\n",
    "\n",
    "s"
   ]
  },
  {
   "cell_type": "code",
   "execution_count": 92,
   "id": "fc6680c9",
   "metadata": {},
   "outputs": [
    {
     "name": "stdout",
     "output_type": "stream",
     "text": [
      "This is a \n",
      "multiline string.\n",
      "It will not throw an error.\n"
     ]
    }
   ],
   "source": [
    "print(s)"
   ]
  },
  {
   "cell_type": "markdown",
   "id": "2390f664",
   "metadata": {},
   "source": [
    "The `str()` command can be used to convert numbers into strings:"
   ]
  },
  {
   "cell_type": "code",
   "execution_count": 100,
   "id": "74d2dc05",
   "metadata": {},
   "outputs": [],
   "source": [
    "score = 95"
   ]
  },
  {
   "cell_type": "code",
   "execution_count": 101,
   "id": "13b571c1",
   "metadata": {},
   "outputs": [
    {
     "name": "stdout",
     "output_type": "stream",
     "text": [
      "Your score is 95 points!\n"
     ]
    }
   ],
   "source": [
    "s = 'Your score is ' + str(score) + ' points!'\n",
    "print(s)"
   ]
  },
  {
   "cell_type": "markdown",
   "id": "9028a4c0",
   "metadata": {},
   "source": [
    "The `int()` and `float()` commands work on strings:"
   ]
  },
  {
   "cell_type": "code",
   "execution_count": 104,
   "id": "e60e9659",
   "metadata": {},
   "outputs": [],
   "source": [
    "s = \"-29\"\n",
    "n = int(s)"
   ]
  },
  {
   "cell_type": "code",
   "execution_count": 105,
   "id": "144d66ec",
   "metadata": {},
   "outputs": [
    {
     "name": "stdout",
     "output_type": "stream",
     "text": [
      "-29\n"
     ]
    }
   ],
   "source": [
    "print(s)"
   ]
  },
  {
   "cell_type": "code",
   "execution_count": 106,
   "id": "32f16982",
   "metadata": {},
   "outputs": [
    {
     "name": "stdout",
     "output_type": "stream",
     "text": [
      "-29\n"
     ]
    }
   ],
   "source": [
    "print(n)"
   ]
  },
  {
   "cell_type": "markdown",
   "id": "e98bffca",
   "metadata": {},
   "source": [
    "We can use the `type()` function to see what type of object a variable is:"
   ]
  },
  {
   "cell_type": "code",
   "execution_count": 107,
   "id": "9a1c2a54",
   "metadata": {},
   "outputs": [
    {
     "data": {
      "text/plain": [
       "str"
      ]
     },
     "execution_count": 107,
     "metadata": {},
     "output_type": "execute_result"
    }
   ],
   "source": [
    "type(s)"
   ]
  },
  {
   "cell_type": "code",
   "execution_count": 108,
   "id": "45979810",
   "metadata": {},
   "outputs": [
    {
     "data": {
      "text/plain": [
       "int"
      ]
     },
     "execution_count": 108,
     "metadata": {},
     "output_type": "execute_result"
    }
   ],
   "source": [
    "type(n)"
   ]
  },
  {
   "cell_type": "code",
   "execution_count": 109,
   "id": "0cc4c60e",
   "metadata": {},
   "outputs": [
    {
     "name": "stdout",
     "output_type": "stream",
     "text": [
      "-29-29-29-29-29-29-29-29-29-29\n"
     ]
    }
   ],
   "source": [
    "print(10*s)"
   ]
  },
  {
   "cell_type": "code",
   "execution_count": 110,
   "id": "ec20af57",
   "metadata": {},
   "outputs": [
    {
     "name": "stdout",
     "output_type": "stream",
     "text": [
      "-290\n"
     ]
    }
   ],
   "source": [
    "print(10*n)"
   ]
  },
  {
   "cell_type": "code",
   "execution_count": 111,
   "id": "d091af31",
   "metadata": {},
   "outputs": [
    {
     "name": "stdout",
     "output_type": "stream",
     "text": [
      "-2075.2\n"
     ]
    }
   ],
   "source": [
    "s1 = '-20'\n",
    "s2 = '75.2'\n",
    "\n",
    "print(s1 + s2)"
   ]
  },
  {
   "cell_type": "code",
   "execution_count": 112,
   "id": "a004c950",
   "metadata": {},
   "outputs": [
    {
     "name": "stdout",
     "output_type": "stream",
     "text": [
      "55.2\n"
     ]
    }
   ],
   "source": [
    "print(int(s1) + float(s2))"
   ]
  },
  {
   "cell_type": "markdown",
   "id": "c04dd44c",
   "metadata": {},
   "source": [
    "## String formatting\n",
    "\n",
    "The `.format()` method can be used to insert values into a string:"
   ]
  },
  {
   "cell_type": "code",
   "execution_count": 118,
   "id": "9cfaf883",
   "metadata": {},
   "outputs": [],
   "source": [
    "a = 3\n",
    "b = 7\n",
    "c = a+b\n",
    "\n",
    "s = 'When you add {0} to {1} then you get {2}!!!'.format(a,b,c)"
   ]
  },
  {
   "cell_type": "code",
   "execution_count": 119,
   "id": "316083a8",
   "metadata": {},
   "outputs": [
    {
     "name": "stdout",
     "output_type": "stream",
     "text": [
      "When you add 3 to 7 then you get 10!!!\n"
     ]
    }
   ],
   "source": [
    "print(s)"
   ]
  },
  {
   "cell_type": "code",
   "execution_count": 117,
   "id": "6dfe32bd",
   "metadata": {},
   "outputs": [
    {
     "name": "stdout",
     "output_type": "stream",
     "text": [
      "When you add 3 to 7 then you get 10!!!\n"
     ]
    }
   ],
   "source": [
    "print('When you add ' + str(a) + ' to ' + str(b) + ' then you get ' + str(c) + '!!!')"
   ]
  },
  {
   "cell_type": "markdown",
   "id": "ad28ffcd",
   "metadata": {},
   "source": [
    "# February 2, 2022"
   ]
  },
  {
   "cell_type": "markdown",
   "id": "0f21a355",
   "metadata": {},
   "source": [
    "**Exercise 1.** In markdown:\n",
    "\n",
    "1. Create a new heading for today's class\n",
    "2. Create a link to UBLearns\n",
    "3. Recreate these instructions as markdown list"
   ]
  },
  {
   "cell_type": "markdown",
   "id": "614dcb2a",
   "metadata": {},
   "source": [
    "# February 2, 2022\n",
    "\n",
    "[This is a link to UBLearns](https://ublearns.buffalo.edu)\n",
    "\n",
    "* Create a new heading for today's class\n",
    "* Create a link to UBLearns\n",
    "* Recreate this instructions as a markdown list"
   ]
  },
  {
   "cell_type": "markdown",
   "id": "90d22751",
   "metadata": {},
   "source": [
    "**Exercise 2.**\n",
    "\n",
    "1. Define two variables to represent the integers 5 and 12.\n",
    "2. Compute the sum of the squares of 5 and 12.\n",
    "3. Concatenate the strings '5', '12', and a stringified version of the number in part 2.\n",
    "4. Convert the string in part 3 to an integer and divide by 29."
   ]
  },
  {
   "cell_type": "code",
   "execution_count": 1,
   "id": "d8957be6",
   "metadata": {},
   "outputs": [],
   "source": [
    "x = 5\n",
    "y = 12"
   ]
  },
  {
   "cell_type": "code",
   "execution_count": 3,
   "id": "bd4a0b91",
   "metadata": {},
   "outputs": [
    {
     "data": {
      "text/plain": [
       "169"
      ]
     },
     "execution_count": 3,
     "metadata": {},
     "output_type": "execute_result"
    }
   ],
   "source": [
    "z = x**2 + y**2\n",
    "z"
   ]
  },
  {
   "cell_type": "code",
   "execution_count": 7,
   "id": "400847f6",
   "metadata": {},
   "outputs": [
    {
     "name": "stdout",
     "output_type": "stream",
     "text": [
      "512169\n"
     ]
    }
   ],
   "source": [
    "w = str(x) + str(y) + str(z)\n",
    "print(w)"
   ]
  },
  {
   "cell_type": "code",
   "execution_count": 10,
   "id": "f541ee78",
   "metadata": {},
   "outputs": [
    {
     "data": {
      "text/plain": [
       "17661.0"
      ]
     },
     "execution_count": 10,
     "metadata": {},
     "output_type": "execute_result"
    }
   ],
   "source": [
    "int(w)/29"
   ]
  },
  {
   "cell_type": "markdown",
   "id": "7aeb2883",
   "metadata": {},
   "source": [
    "# Modules"
   ]
  },
  {
   "cell_type": "markdown",
   "id": "2ab09e68",
   "metadata": {},
   "source": [
    "The command `import (something)` is used to bring a library into our environment."
   ]
  },
  {
   "cell_type": "code",
   "execution_count": 11,
   "id": "feecf7b2",
   "metadata": {},
   "outputs": [],
   "source": [
    "import math"
   ]
  },
  {
   "cell_type": "markdown",
   "id": "14324669",
   "metadata": {},
   "source": [
    "The above command brings in many useful math functions.\n",
    "We can see what functions are available with the `dir()`"
   ]
  },
  {
   "cell_type": "code",
   "execution_count": 12,
   "id": "42f498cd",
   "metadata": {},
   "outputs": [
    {
     "data": {
      "text/plain": [
       "['__doc__',\n",
       " '__loader__',\n",
       " '__name__',\n",
       " '__package__',\n",
       " '__spec__',\n",
       " 'acos',\n",
       " 'acosh',\n",
       " 'asin',\n",
       " 'asinh',\n",
       " 'atan',\n",
       " 'atan2',\n",
       " 'atanh',\n",
       " 'ceil',\n",
       " 'comb',\n",
       " 'copysign',\n",
       " 'cos',\n",
       " 'cosh',\n",
       " 'degrees',\n",
       " 'dist',\n",
       " 'e',\n",
       " 'erf',\n",
       " 'erfc',\n",
       " 'exp',\n",
       " 'expm1',\n",
       " 'fabs',\n",
       " 'factorial',\n",
       " 'floor',\n",
       " 'fmod',\n",
       " 'frexp',\n",
       " 'fsum',\n",
       " 'gamma',\n",
       " 'gcd',\n",
       " 'hypot',\n",
       " 'inf',\n",
       " 'isclose',\n",
       " 'isfinite',\n",
       " 'isinf',\n",
       " 'isnan',\n",
       " 'isqrt',\n",
       " 'ldexp',\n",
       " 'lgamma',\n",
       " 'log',\n",
       " 'log10',\n",
       " 'log1p',\n",
       " 'log2',\n",
       " 'modf',\n",
       " 'nan',\n",
       " 'perm',\n",
       " 'pi',\n",
       " 'pow',\n",
       " 'prod',\n",
       " 'radians',\n",
       " 'remainder',\n",
       " 'sin',\n",
       " 'sinh',\n",
       " 'sqrt',\n",
       " 'tan',\n",
       " 'tanh',\n",
       " 'tau',\n",
       " 'trunc']"
      ]
     },
     "execution_count": 12,
     "metadata": {},
     "output_type": "execute_result"
    }
   ],
   "source": [
    "dir(math)"
   ]
  },
  {
   "cell_type": "markdown",
   "id": "0294a98e",
   "metadata": {},
   "source": [
    "We can access these objects by typing `math.(object)`"
   ]
  },
  {
   "cell_type": "code",
   "execution_count": 15,
   "id": "11b50851",
   "metadata": {},
   "outputs": [
    {
     "data": {
      "text/plain": [
       "<function math.cos(x, /)>"
      ]
     },
     "execution_count": 15,
     "metadata": {},
     "output_type": "execute_result"
    }
   ],
   "source": [
    "math.cos"
   ]
  },
  {
   "cell_type": "code",
   "execution_count": 16,
   "id": "e7a1e8d4",
   "metadata": {},
   "outputs": [
    {
     "data": {
      "text/plain": [
       "0.28366218546322625"
      ]
     },
     "execution_count": 16,
     "metadata": {},
     "output_type": "execute_result"
    }
   ],
   "source": [
    "math.cos(5)"
   ]
  },
  {
   "cell_type": "markdown",
   "id": "f24bf73d",
   "metadata": {},
   "source": [
    "The `help()` can be used to get more information about a module and its object."
   ]
  },
  {
   "cell_type": "code",
   "execution_count": 17,
   "id": "53bde727",
   "metadata": {},
   "outputs": [
    {
     "name": "stdout",
     "output_type": "stream",
     "text": [
      "Help on built-in module math:\n",
      "\n",
      "NAME\n",
      "    math\n",
      "\n",
      "DESCRIPTION\n",
      "    This module provides access to the mathematical functions\n",
      "    defined by the C standard.\n",
      "\n",
      "FUNCTIONS\n",
      "    acos(x, /)\n",
      "        Return the arc cosine (measured in radians) of x.\n",
      "    \n",
      "    acosh(x, /)\n",
      "        Return the inverse hyperbolic cosine of x.\n",
      "    \n",
      "    asin(x, /)\n",
      "        Return the arc sine (measured in radians) of x.\n",
      "    \n",
      "    asinh(x, /)\n",
      "        Return the inverse hyperbolic sine of x.\n",
      "    \n",
      "    atan(x, /)\n",
      "        Return the arc tangent (measured in radians) of x.\n",
      "    \n",
      "    atan2(y, x, /)\n",
      "        Return the arc tangent (measured in radians) of y/x.\n",
      "        \n",
      "        Unlike atan(y/x), the signs of both x and y are considered.\n",
      "    \n",
      "    atanh(x, /)\n",
      "        Return the inverse hyperbolic tangent of x.\n",
      "    \n",
      "    ceil(x, /)\n",
      "        Return the ceiling of x as an Integral.\n",
      "        \n",
      "        This is the smallest integer >= x.\n",
      "    \n",
      "    comb(n, k, /)\n",
      "        Number of ways to choose k items from n items without repetition and without order.\n",
      "        \n",
      "        Evaluates to n! / (k! * (n - k)!) when k <= n and evaluates\n",
      "        to zero when k > n.\n",
      "        \n",
      "        Also called the binomial coefficient because it is equivalent\n",
      "        to the coefficient of k-th term in polynomial expansion of the\n",
      "        expression (1 + x)**n.\n",
      "        \n",
      "        Raises TypeError if either of the arguments are not integers.\n",
      "        Raises ValueError if either of the arguments are negative.\n",
      "    \n",
      "    copysign(x, y, /)\n",
      "        Return a float with the magnitude (absolute value) of x but the sign of y.\n",
      "        \n",
      "        On platforms that support signed zeros, copysign(1.0, -0.0)\n",
      "        returns -1.0.\n",
      "    \n",
      "    cos(x, /)\n",
      "        Return the cosine of x (measured in radians).\n",
      "    \n",
      "    cosh(x, /)\n",
      "        Return the hyperbolic cosine of x.\n",
      "    \n",
      "    degrees(x, /)\n",
      "        Convert angle x from radians to degrees.\n",
      "    \n",
      "    dist(p, q, /)\n",
      "        Return the Euclidean distance between two points p and q.\n",
      "        \n",
      "        The points should be specified as sequences (or iterables) of\n",
      "        coordinates.  Both inputs must have the same dimension.\n",
      "        \n",
      "        Roughly equivalent to:\n",
      "            sqrt(sum((px - qx) ** 2.0 for px, qx in zip(p, q)))\n",
      "    \n",
      "    erf(x, /)\n",
      "        Error function at x.\n",
      "    \n",
      "    erfc(x, /)\n",
      "        Complementary error function at x.\n",
      "    \n",
      "    exp(x, /)\n",
      "        Return e raised to the power of x.\n",
      "    \n",
      "    expm1(x, /)\n",
      "        Return exp(x)-1.\n",
      "        \n",
      "        This function avoids the loss of precision involved in the direct evaluation of exp(x)-1 for small x.\n",
      "    \n",
      "    fabs(x, /)\n",
      "        Return the absolute value of the float x.\n",
      "    \n",
      "    factorial(x, /)\n",
      "        Find x!.\n",
      "        \n",
      "        Raise a ValueError if x is negative or non-integral.\n",
      "    \n",
      "    floor(x, /)\n",
      "        Return the floor of x as an Integral.\n",
      "        \n",
      "        This is the largest integer <= x.\n",
      "    \n",
      "    fmod(x, y, /)\n",
      "        Return fmod(x, y), according to platform C.\n",
      "        \n",
      "        x % y may differ.\n",
      "    \n",
      "    frexp(x, /)\n",
      "        Return the mantissa and exponent of x, as pair (m, e).\n",
      "        \n",
      "        m is a float and e is an int, such that x = m * 2.**e.\n",
      "        If x is 0, m and e are both 0.  Else 0.5 <= abs(m) < 1.0.\n",
      "    \n",
      "    fsum(seq, /)\n",
      "        Return an accurate floating point sum of values in the iterable seq.\n",
      "        \n",
      "        Assumes IEEE-754 floating point arithmetic.\n",
      "    \n",
      "    gamma(x, /)\n",
      "        Gamma function at x.\n",
      "    \n",
      "    gcd(x, y, /)\n",
      "        greatest common divisor of x and y\n",
      "    \n",
      "    hypot(...)\n",
      "        hypot(*coordinates) -> value\n",
      "        \n",
      "        Multidimensional Euclidean distance from the origin to a point.\n",
      "        \n",
      "        Roughly equivalent to:\n",
      "            sqrt(sum(x**2 for x in coordinates))\n",
      "        \n",
      "        For a two dimensional point (x, y), gives the hypotenuse\n",
      "        using the Pythagorean theorem:  sqrt(x*x + y*y).\n",
      "        \n",
      "        For example, the hypotenuse of a 3/4/5 right triangle is:\n",
      "        \n",
      "            >>> hypot(3.0, 4.0)\n",
      "            5.0\n",
      "    \n",
      "    isclose(a, b, *, rel_tol=1e-09, abs_tol=0.0)\n",
      "        Determine whether two floating point numbers are close in value.\n",
      "        \n",
      "          rel_tol\n",
      "            maximum difference for being considered \"close\", relative to the\n",
      "            magnitude of the input values\n",
      "          abs_tol\n",
      "            maximum difference for being considered \"close\", regardless of the\n",
      "            magnitude of the input values\n",
      "        \n",
      "        Return True if a is close in value to b, and False otherwise.\n",
      "        \n",
      "        For the values to be considered close, the difference between them\n",
      "        must be smaller than at least one of the tolerances.\n",
      "        \n",
      "        -inf, inf and NaN behave similarly to the IEEE 754 Standard.  That\n",
      "        is, NaN is not close to anything, even itself.  inf and -inf are\n",
      "        only close to themselves.\n",
      "    \n",
      "    isfinite(x, /)\n",
      "        Return True if x is neither an infinity nor a NaN, and False otherwise.\n",
      "    \n",
      "    isinf(x, /)\n",
      "        Return True if x is a positive or negative infinity, and False otherwise.\n",
      "    \n",
      "    isnan(x, /)\n",
      "        Return True if x is a NaN (not a number), and False otherwise.\n",
      "    \n",
      "    isqrt(n, /)\n",
      "        Return the integer part of the square root of the input.\n",
      "    \n",
      "    ldexp(x, i, /)\n",
      "        Return x * (2**i).\n",
      "        \n",
      "        This is essentially the inverse of frexp().\n",
      "    \n",
      "    lgamma(x, /)\n",
      "        Natural logarithm of absolute value of Gamma function at x.\n",
      "    \n",
      "    log(...)\n",
      "        log(x, [base=math.e])\n",
      "        Return the logarithm of x to the given base.\n",
      "        \n",
      "        If the base not specified, returns the natural logarithm (base e) of x.\n",
      "    \n",
      "    log10(x, /)\n",
      "        Return the base 10 logarithm of x.\n",
      "    \n",
      "    log1p(x, /)\n",
      "        Return the natural logarithm of 1+x (base e).\n",
      "        \n",
      "        The result is computed in a way which is accurate for x near zero.\n",
      "    \n",
      "    log2(x, /)\n",
      "        Return the base 2 logarithm of x.\n",
      "    \n",
      "    modf(x, /)\n",
      "        Return the fractional and integer parts of x.\n",
      "        \n",
      "        Both results carry the sign of x and are floats.\n",
      "    \n",
      "    perm(n, k=None, /)\n",
      "        Number of ways to choose k items from n items without repetition and with order.\n",
      "        \n",
      "        Evaluates to n! / (n - k)! when k <= n and evaluates\n",
      "        to zero when k > n.\n",
      "        \n",
      "        If k is not specified or is None, then k defaults to n\n",
      "        and the function returns n!.\n",
      "        \n",
      "        Raises TypeError if either of the arguments are not integers.\n",
      "        Raises ValueError if either of the arguments are negative.\n",
      "    \n",
      "    pow(x, y, /)\n",
      "        Return x**y (x to the power of y).\n",
      "    \n",
      "    prod(iterable, /, *, start=1)\n",
      "        Calculate the product of all the elements in the input iterable.\n",
      "        \n",
      "        The default start value for the product is 1.\n",
      "        \n",
      "        When the iterable is empty, return the start value.  This function is\n",
      "        intended specifically for use with numeric values and may reject\n",
      "        non-numeric types.\n",
      "    \n",
      "    radians(x, /)\n",
      "        Convert angle x from degrees to radians.\n",
      "    \n",
      "    remainder(x, y, /)\n",
      "        Difference between x and the closest integer multiple of y.\n",
      "        \n",
      "        Return x - n*y where n*y is the closest integer multiple of y.\n",
      "        In the case where x is exactly halfway between two multiples of\n",
      "        y, the nearest even value of n is used. The result is always exact.\n",
      "    \n",
      "    sin(x, /)\n",
      "        Return the sine of x (measured in radians).\n",
      "    \n",
      "    sinh(x, /)\n",
      "        Return the hyperbolic sine of x.\n",
      "    \n",
      "    sqrt(x, /)\n",
      "        Return the square root of x.\n",
      "    \n",
      "    tan(x, /)\n",
      "        Return the tangent of x (measured in radians).\n",
      "    \n",
      "    tanh(x, /)\n",
      "        Return the hyperbolic tangent of x.\n",
      "    \n",
      "    trunc(x, /)\n",
      "        Truncates the Real x to the nearest Integral toward 0.\n",
      "        \n",
      "        Uses the __trunc__ magic method.\n",
      "\n",
      "DATA\n",
      "    e = 2.718281828459045\n",
      "    inf = inf\n",
      "    nan = nan\n",
      "    pi = 3.141592653589793\n",
      "    tau = 6.283185307179586\n",
      "\n",
      "FILE\n",
      "    (built-in)\n",
      "\n",
      "\n"
     ]
    }
   ],
   "source": [
    "help(math)"
   ]
  },
  {
   "cell_type": "code",
   "execution_count": 18,
   "id": "1dd6dd6b",
   "metadata": {},
   "outputs": [
    {
     "name": "stdout",
     "output_type": "stream",
     "text": [
      "Help on built-in function cos in module math:\n",
      "\n",
      "cos(x, /)\n",
      "    Return the cosine of x (measured in radians).\n",
      "\n"
     ]
    }
   ],
   "source": [
    "help(math.cos)"
   ]
  },
  {
   "cell_type": "markdown",
   "id": "be99691b",
   "metadata": {},
   "source": [
    "**Exercise.** Compute the tangent of 45 degrees"
   ]
  },
  {
   "cell_type": "code",
   "execution_count": 20,
   "id": "3803a6d9",
   "metadata": {},
   "outputs": [
    {
     "name": "stdout",
     "output_type": "stream",
     "text": [
      "Help on built-in function tan in module math:\n",
      "\n",
      "tan(x, /)\n",
      "    Return the tangent of x (measured in radians).\n",
      "\n"
     ]
    }
   ],
   "source": [
    "help(math.tan)"
   ]
  },
  {
   "cell_type": "code",
   "execution_count": 21,
   "id": "b683b005",
   "metadata": {},
   "outputs": [
    {
     "name": "stdout",
     "output_type": "stream",
     "text": [
      "Help on built-in function radians in module math:\n",
      "\n",
      "radians(x, /)\n",
      "    Convert angle x from degrees to radians.\n",
      "\n"
     ]
    }
   ],
   "source": [
    "help(math.radians)"
   ]
  },
  {
   "cell_type": "code",
   "execution_count": 22,
   "id": "5d6c9c4b",
   "metadata": {},
   "outputs": [
    {
     "data": {
      "text/plain": [
       "0.7853981633974483"
      ]
     },
     "execution_count": 22,
     "metadata": {},
     "output_type": "execute_result"
    }
   ],
   "source": [
    "math.radians(45)"
   ]
  },
  {
   "cell_type": "code",
   "execution_count": 23,
   "id": "6d473ef9",
   "metadata": {},
   "outputs": [
    {
     "data": {
      "text/plain": [
       "0.9999999999999999"
      ]
     },
     "execution_count": 23,
     "metadata": {},
     "output_type": "execute_result"
    }
   ],
   "source": [
    "math.tan(math.radians(45))"
   ]
  },
  {
   "cell_type": "markdown",
   "id": "a74fd506",
   "metadata": {},
   "source": [
    "Another approach:"
   ]
  },
  {
   "cell_type": "code",
   "execution_count": 30,
   "id": "76dab6d9",
   "metadata": {},
   "outputs": [
    {
     "data": {
      "text/plain": [
       "60"
      ]
     },
     "execution_count": 30,
     "metadata": {},
     "output_type": "execute_result"
    }
   ],
   "source": [
    "degree_measure = 60\n",
    "degree_measure"
   ]
  },
  {
   "cell_type": "code",
   "execution_count": 31,
   "id": "89522ba4",
   "metadata": {},
   "outputs": [
    {
     "data": {
      "text/plain": [
       "3.141592653589793"
      ]
     },
     "execution_count": 31,
     "metadata": {},
     "output_type": "execute_result"
    }
   ],
   "source": [
    "math.pi"
   ]
  },
  {
   "cell_type": "code",
   "execution_count": 32,
   "id": "f4cfe780",
   "metadata": {},
   "outputs": [
    {
     "data": {
      "text/plain": [
       "1.0471975511965976"
      ]
     },
     "execution_count": 32,
     "metadata": {},
     "output_type": "execute_result"
    }
   ],
   "source": [
    "radian_measure = math.pi/180 * degree_measure\n",
    "radian_measure"
   ]
  },
  {
   "cell_type": "code",
   "execution_count": 33,
   "id": "5e04fdea",
   "metadata": {},
   "outputs": [
    {
     "data": {
      "text/plain": [
       "1.7320508075688767"
      ]
     },
     "execution_count": 33,
     "metadata": {},
     "output_type": "execute_result"
    }
   ],
   "source": [
    "math.tan(radian_measure)"
   ]
  },
  {
   "cell_type": "markdown",
   "id": "74cff9af",
   "metadata": {},
   "source": [
    "## Simplifying module names"
   ]
  },
  {
   "cell_type": "markdown",
   "id": "93e7fa99",
   "metadata": {},
   "source": [
    "We can import a module and give it a new name as follows:"
   ]
  },
  {
   "cell_type": "code",
   "execution_count": 34,
   "id": "bf784c89",
   "metadata": {},
   "outputs": [],
   "source": [
    "import math as m"
   ]
  },
  {
   "cell_type": "code",
   "execution_count": 36,
   "id": "ffcfbde6",
   "metadata": {},
   "outputs": [
    {
     "data": {
      "text/plain": [
       "-1.0"
      ]
     },
     "execution_count": 36,
     "metadata": {},
     "output_type": "execute_result"
    }
   ],
   "source": [
    "m.cos(m.pi)"
   ]
  },
  {
   "cell_type": "markdown",
   "id": "7e05a002",
   "metadata": {},
   "source": [
    "We can import some specific module content for direct use:"
   ]
  },
  {
   "cell_type": "code",
   "execution_count": 42,
   "id": "1804187d",
   "metadata": {},
   "outputs": [],
   "source": [
    "from math import sin,pi,cos"
   ]
  },
  {
   "cell_type": "code",
   "execution_count": 43,
   "id": "11112978",
   "metadata": {},
   "outputs": [
    {
     "data": {
      "text/plain": [
       "-2.4492935982947064e-16"
      ]
     },
     "execution_count": 43,
     "metadata": {},
     "output_type": "execute_result"
    }
   ],
   "source": [
    "sin(2*pi)"
   ]
  },
  {
   "cell_type": "code",
   "execution_count": 45,
   "id": "34433108",
   "metadata": {},
   "outputs": [
    {
     "data": {
      "text/plain": [
       "-1.0"
      ]
     },
     "execution_count": 45,
     "metadata": {},
     "output_type": "execute_result"
    }
   ],
   "source": [
    "cos(pi)"
   ]
  },
  {
   "cell_type": "code",
   "execution_count": 46,
   "id": "10faf200",
   "metadata": {},
   "outputs": [
    {
     "ename": "NameError",
     "evalue": "name 'tan' is not defined",
     "output_type": "error",
     "traceback": [
      "\u001b[1;31m---------------------------------------------------------------------------\u001b[0m",
      "\u001b[1;31mNameError\u001b[0m                                 Traceback (most recent call last)",
      "\u001b[1;32m<ipython-input-46-025fd070836d>\u001b[0m in \u001b[0;36m<module>\u001b[1;34m\u001b[0m\n\u001b[1;32m----> 1\u001b[1;33m \u001b[0mtan\u001b[0m\u001b[1;33m(\u001b[0m\u001b[0mpi\u001b[0m\u001b[1;33m)\u001b[0m\u001b[1;33m\u001b[0m\u001b[1;33m\u001b[0m\u001b[0m\n\u001b[0m",
      "\u001b[1;31mNameError\u001b[0m: name 'tan' is not defined"
     ]
    }
   ],
   "source": [
    "tan(pi)"
   ]
  },
  {
   "cell_type": "markdown",
   "id": "fb9ba1a6",
   "metadata": {},
   "source": [
    "We can't use `tan()` directly unless we import it from the module"
   ]
  },
  {
   "cell_type": "markdown",
   "id": "e06fca54",
   "metadata": {},
   "source": [
    "We can import all of the module content for direct use:"
   ]
  },
  {
   "cell_type": "code",
   "execution_count": 47,
   "id": "c0182639",
   "metadata": {},
   "outputs": [],
   "source": [
    "from math import *"
   ]
  },
  {
   "cell_type": "code",
   "execution_count": 50,
   "id": "922e15c1",
   "metadata": {},
   "outputs": [
    {
     "data": {
      "text/plain": [
       "1.7320508075688767"
      ]
     },
     "execution_count": 50,
     "metadata": {},
     "output_type": "execute_result"
    }
   ],
   "source": [
    "tan(pi/3)"
   ]
  },
  {
   "cell_type": "markdown",
   "id": "364b0a0a",
   "metadata": {},
   "source": [
    "**Note:** Use `import *` with care!"
   ]
  },
  {
   "cell_type": "code",
   "execution_count": 51,
   "id": "5dc46de6",
   "metadata": {},
   "outputs": [],
   "source": [
    "e = 1"
   ]
  },
  {
   "cell_type": "code",
   "execution_count": 52,
   "id": "0c59591c",
   "metadata": {},
   "outputs": [
    {
     "name": "stdout",
     "output_type": "stream",
     "text": [
      "1\n"
     ]
    }
   ],
   "source": [
    "print(e)"
   ]
  },
  {
   "cell_type": "code",
   "execution_count": 53,
   "id": "a8fc7474",
   "metadata": {},
   "outputs": [],
   "source": [
    "from math import *"
   ]
  },
  {
   "cell_type": "code",
   "execution_count": 54,
   "id": "5cb43df7",
   "metadata": {
    "scrolled": true
   },
   "outputs": [
    {
     "name": "stdout",
     "output_type": "stream",
     "text": [
      "2.718281828459045\n"
     ]
    }
   ],
   "source": [
    "print(e)"
   ]
  },
  {
   "cell_type": "markdown",
   "id": "39fa4078",
   "metadata": {},
   "source": [
    "# LaTeX in markdown cells"
   ]
  },
  {
   "cell_type": "markdown",
   "id": "00ec07f9",
   "metadata": {},
   "source": [
    "We can write inline mathematical objects in LaTeX using a pair of single dollar signs: $x + y$\n",
    "\n",
    "1. Exponents: $x^2 + y^5$\n",
    "2. Fractions, use the `\\frac{}{}` command: $\\frac{3}{5}$, $\\frac{x^5 + 7}{y^3 - 4}$\n",
    "3. Integrals and trigonometric functions: $\\int \\cos(x) dx$\n",
    "4. Superscripts and subscripts: $\\int_0^\\pi \\cos(x) dx$\n",
    "\n",
    "We can create display formulas by enclosing in double dollar signs:\n",
    "\n",
    "$$\\int_0^\\pi \\cos(x) dx$$\n",
    "\n",
    "* Superscripts and subscripts: $a_n$, $2^n$\n",
    "* Square roots: $\\sqrt{2}$\n",
    "* Arbitrary roots: $\\sqrt[3]{6}$, $\\sqrt[5]{100}$\n",
    "* Greek letters: $\\alpha + \\beta = \\gamma$\n",
    "* Parentheses: $$4 \\cdot (\\frac{1}{2} + 5)$$\n",
    "We can use the `\\left(` and `\\right)` to match the size the size of the parentheses to enclosed content:\n",
    "$$ 4 \\cdot \\left( \\frac{1}{2} + 5 \\right) $$"
   ]
  },
  {
   "cell_type": "markdown",
   "id": "1a301a7d",
   "metadata": {},
   "source": [
    "**Exercise.**\n",
    "\n",
    "$\\frac{1}{2} + \\frac{2}{3}$\n",
    "\n",
    "$\\frac{4}{5} \\pi$\n",
    "\n",
    "$$ \\left( \n",
    "\\frac{\\frac{1}{2} + \\frac{2}{3}}\n",
    "     {\\frac{4}{5} \\pi} \n",
    "\\right)$$"
   ]
  },
  {
   "cell_type": "markdown",
   "id": "538f9fdc",
   "metadata": {},
   "source": [
    "# Back to Python: Boolean value and expressions"
   ]
  },
  {
   "cell_type": "markdown",
   "id": "7fd6c766",
   "metadata": {},
   "source": [
    "Boolean values: `True` and `False`"
   ]
  },
  {
   "cell_type": "markdown",
   "id": "298039a9",
   "metadata": {},
   "source": [
    "A *Boolean expression* is an expression that can be evaluated as either `True` or `False`"
   ]
  },
  {
   "cell_type": "markdown",
   "id": "1d048d4a",
   "metadata": {},
   "source": [
    "Equality test: Use `==` symbol"
   ]
  },
  {
   "cell_type": "code",
   "execution_count": 55,
   "id": "2a436e6f",
   "metadata": {},
   "outputs": [
    {
     "data": {
      "text/plain": [
       "False"
      ]
     },
     "execution_count": 55,
     "metadata": {},
     "output_type": "execute_result"
    }
   ],
   "source": [
    "1 == 2"
   ]
  },
  {
   "cell_type": "code",
   "execution_count": 56,
   "id": "4540938a",
   "metadata": {},
   "outputs": [
    {
     "data": {
      "text/plain": [
       "True"
      ]
     },
     "execution_count": 56,
     "metadata": {},
     "output_type": "execute_result"
    }
   ],
   "source": [
    "2+2 == 2*2"
   ]
  },
  {
   "cell_type": "markdown",
   "id": "5e6f76c3",
   "metadata": {},
   "source": [
    "Inequality test: Use `!=` symbol"
   ]
  },
  {
   "cell_type": "code",
   "execution_count": 57,
   "id": "b30216b9",
   "metadata": {},
   "outputs": [
    {
     "data": {
      "text/plain": [
       "True"
      ]
     },
     "execution_count": 57,
     "metadata": {},
     "output_type": "execute_result"
    }
   ],
   "source": [
    "1 != 2"
   ]
  },
  {
   "cell_type": "code",
   "execution_count": 59,
   "id": "4be90d37",
   "metadata": {},
   "outputs": [
    {
     "data": {
      "text/plain": [
       "False"
      ]
     },
     "execution_count": 59,
     "metadata": {},
     "output_type": "execute_result"
    }
   ],
   "source": [
    "4 != 4"
   ]
  },
  {
   "cell_type": "code",
   "execution_count": 60,
   "id": "0ade49db",
   "metadata": {},
   "outputs": [
    {
     "data": {
      "text/plain": [
       "True"
      ]
     },
     "execution_count": 60,
     "metadata": {},
     "output_type": "execute_result"
    }
   ],
   "source": [
    "'ab' == 'a' + 'b'"
   ]
  },
  {
   "cell_type": "code",
   "execution_count": 61,
   "id": "718b0b01",
   "metadata": {},
   "outputs": [
    {
     "data": {
      "text/plain": [
       "False"
      ]
     },
     "execution_count": 61,
     "metadata": {},
     "output_type": "execute_result"
    }
   ],
   "source": [
    "'ab ' == 'a' + 'b'"
   ]
  },
  {
   "cell_type": "code",
   "execution_count": 62,
   "id": "bf4fd664",
   "metadata": {},
   "outputs": [
    {
     "data": {
      "text/plain": [
       "False"
      ]
     },
     "execution_count": 62,
     "metadata": {},
     "output_type": "execute_result"
    }
   ],
   "source": [
    "4 == '4'"
   ]
  },
  {
   "cell_type": "markdown",
   "id": "80f9139b",
   "metadata": {},
   "source": [
    "Other comparisons:"
   ]
  },
  {
   "cell_type": "code",
   "execution_count": 63,
   "id": "eb0c72f1",
   "metadata": {},
   "outputs": [
    {
     "data": {
      "text/plain": [
       "True"
      ]
     },
     "execution_count": 63,
     "metadata": {},
     "output_type": "execute_result"
    }
   ],
   "source": [
    "5 > 4"
   ]
  },
  {
   "cell_type": "code",
   "execution_count": 64,
   "id": "0c971c24",
   "metadata": {
    "scrolled": true
   },
   "outputs": [
    {
     "data": {
      "text/plain": [
       "False"
      ]
     },
     "execution_count": 64,
     "metadata": {},
     "output_type": "execute_result"
    }
   ],
   "source": [
    "5 < 5"
   ]
  },
  {
   "cell_type": "code",
   "execution_count": 65,
   "id": "b4efbb33",
   "metadata": {},
   "outputs": [
    {
     "data": {
      "text/plain": [
       "True"
      ]
     },
     "execution_count": 65,
     "metadata": {},
     "output_type": "execute_result"
    }
   ],
   "source": [
    "5 <= 5"
   ]
  },
  {
   "cell_type": "markdown",
   "id": "2b287156",
   "metadata": {},
   "source": [
    "We chain together inequalities:"
   ]
  },
  {
   "cell_type": "code",
   "execution_count": 66,
   "id": "123dba7c",
   "metadata": {},
   "outputs": [
    {
     "data": {
      "text/plain": [
       "True"
      ]
     },
     "execution_count": 66,
     "metadata": {},
     "output_type": "execute_result"
    }
   ],
   "source": [
    "1 < 2 < 4"
   ]
  },
  {
   "cell_type": "code",
   "execution_count": 67,
   "id": "ec735f84",
   "metadata": {},
   "outputs": [
    {
     "data": {
      "text/plain": [
       "False"
      ]
     },
     "execution_count": 67,
     "metadata": {},
     "output_type": "execute_result"
    }
   ],
   "source": [
    "1 < 4 < 2"
   ]
  },
  {
   "cell_type": "markdown",
   "id": "5fa5e540",
   "metadata": {},
   "source": [
    "## The `if` statement"
   ]
  },
  {
   "cell_type": "markdown",
   "id": "6714774d",
   "metadata": {},
   "source": [
    "In Python, spacing and tabbing is **critical**!!!!"
   ]
  },
  {
   "cell_type": "code",
   "execution_count": 69,
   "id": "379979bc",
   "metadata": {},
   "outputs": [
    {
     "name": "stdout",
     "output_type": "stream",
     "text": [
      "5 is a small number\n",
      "Done!\n"
     ]
    }
   ],
   "source": [
    "a = 5\n",
    "\n",
    "if a < 10:\n",
    "    print('{:} is a small number'.format(a))\n",
    "    \n",
    "print('Done!')"
   ]
  },
  {
   "cell_type": "markdown",
   "id": "b9e83ff1",
   "metadata": {},
   "source": [
    "We can use the `else` statement to do something different when the `if` statement is not `True`:"
   ]
  },
  {
   "cell_type": "code",
   "execution_count": 71,
   "id": "84267283",
   "metadata": {},
   "outputs": [
    {
     "name": "stdout",
     "output_type": "stream",
     "text": [
      "15 is not a small number\n",
      "Done!\n"
     ]
    }
   ],
   "source": [
    "a = 15\n",
    "\n",
    "if a < 10:\n",
    "    print('{:} is a small number'.format(a))\n",
    "else: \n",
    "    print('{:} is not a small number'.format(a))\n",
    "    \n",
    "print('Done!')"
   ]
  },
  {
   "cell_type": "markdown",
   "id": "c5db5d64",
   "metadata": {},
   "source": [
    "We can use the `elif` (else if) statement to make chained `if` statements:"
   ]
  },
  {
   "cell_type": "code",
   "execution_count": 76,
   "id": "cdb7e8b4",
   "metadata": {},
   "outputs": [
    {
     "name": "stdout",
     "output_type": "stream",
     "text": [
      "1500 is a large number\n",
      "Done!\n"
     ]
    }
   ],
   "source": [
    "a = 1500\n",
    "\n",
    "if a < 10:\n",
    "    print('{:} is a small number'.format(a))\n",
    "elif a < 100: \n",
    "    print('{:} is a medium number'.format(a))\n",
    "elif a < 1000:\n",
    "    print('{:} is a medium-large number'.format(a))\n",
    "else:\n",
    "    print('{:} is a large number'.format(a))\n",
    "    \n",
    "print('Done!')"
   ]
  },
  {
   "cell_type": "markdown",
   "id": "4cda2646",
   "metadata": {},
   "source": [
    "The `if` statement always has to be first and the `else` statement (if present) always has to be last. Python will start at the first Boolean expression. If `True`, it runs the code that block. If `False`, it continues to the next Boolean expression."
   ]
  },
  {
   "cell_type": "code",
   "execution_count": 80,
   "id": "4e0bce2a",
   "metadata": {},
   "outputs": [
    {
     "name": "stdout",
     "output_type": "stream",
     "text": [
      "Done!\n"
     ]
    }
   ],
   "source": [
    "a = 1500\n",
    "\n",
    "if a < 10:\n",
    "    print('{:} is less than 10'.format(a))\n",
    "if a < 100:\n",
    "    print('{:} is less than 100'.format(a))\n",
    "if a < 1000:\n",
    "    print('{:} is less than 1000'.format(a))\n",
    "    \n",
    "print('Done!')"
   ]
  },
  {
   "cell_type": "markdown",
   "id": "8208f922",
   "metadata": {},
   "source": [
    "**Exercise.**\n",
    "\n",
    "Given two integers, `a = 5` and `b = 7`\n",
    "\n",
    "Print the product of `a` and `b` if the product is greater than 1000.\n",
    "Otherwise, print the sum of `a` and `b`"
   ]
  },
  {
   "cell_type": "code",
   "execution_count": 87,
   "id": "fbe89deb",
   "metadata": {},
   "outputs": [
    {
     "name": "stdout",
     "output_type": "stream",
     "text": [
      "The product of 50 and 70 is 3500\n"
     ]
    }
   ],
   "source": [
    "a = 50\n",
    "b = 70\n",
    "\n",
    "product = a*b\n",
    "\n",
    "if product > 1000:\n",
    "    print('The product of {:} and {:} is {:}'.format(a,b,product))\n",
    "else:\n",
    "    print('The sum of {:} and {:} is {:}'.format(a,b,a + b))"
   ]
  },
  {
   "cell_type": "markdown",
   "id": "96e74b36",
   "metadata": {},
   "source": [
    "We can use modulus with Boolean expressions:\n",
    "\n",
    "Recall: `m%n` returns the remainder of `m` divided by `n`.\n",
    "\n",
    "We can check if `m` is divisible by `n` by checking if `m%n==0`"
   ]
  },
  {
   "cell_type": "code",
   "execution_count": 84,
   "id": "49f9366d",
   "metadata": {},
   "outputs": [
    {
     "data": {
      "text/plain": [
       "True"
      ]
     },
     "execution_count": 84,
     "metadata": {},
     "output_type": "execute_result"
    }
   ],
   "source": [
    "10%2 == 0"
   ]
  },
  {
   "cell_type": "code",
   "execution_count": 83,
   "id": "d4f1bbcd",
   "metadata": {},
   "outputs": [
    {
     "data": {
      "text/plain": [
       "False"
      ]
     },
     "execution_count": 83,
     "metadata": {},
     "output_type": "execute_result"
    }
   ],
   "source": [
    "10%3 == 0"
   ]
  },
  {
   "cell_type": "markdown",
   "id": "0cb7684e",
   "metadata": {},
   "source": [
    "A positive integer $n$ is prime if the only positive integer factors of $n$ are $n$ and $1$."
   ]
  },
  {
   "cell_type": "code",
   "execution_count": 92,
   "id": "24758f9e",
   "metadata": {},
   "outputs": [
    {
     "name": "stdout",
     "output_type": "stream",
     "text": [
      "1234567 could be a prime number\n",
      "The remainder of 1234567 divided 111 is 25\n"
     ]
    }
   ],
   "source": [
    "n = 1234567\n",
    "d = 111\n",
    "\n",
    "if n%d == 0:\n",
    "    print('{:} is not a prime number'.format(n))\n",
    "else:\n",
    "    print('{:} could be a prime number'.format(n))\n",
    "    \n",
    "print('The remainder of {:} divided {:} is {:}'.format(n,d,n%d))"
   ]
  },
  {
   "cell_type": "markdown",
   "id": "ff5c41d2",
   "metadata": {},
   "source": [
    "# Repetition: lists and `for` loops"
   ]
  },
  {
   "cell_type": "markdown",
   "id": "84d11f6d",
   "metadata": {},
   "source": [
    "## Lists"
   ]
  },
  {
   "cell_type": "markdown",
   "id": "6b3974c0",
   "metadata": {},
   "source": [
    "Lists are creating by enclosing some objects separated commas in square brackets:"
   ]
  },
  {
   "cell_type": "code",
   "execution_count": 93,
   "id": "09ac74b0",
   "metadata": {},
   "outputs": [
    {
     "name": "stdout",
     "output_type": "stream",
     "text": [
      "[1, 2, 3, 4]\n"
     ]
    }
   ],
   "source": [
    "mylist = [1,2,3,4]\n",
    "\n",
    "print(mylist)"
   ]
  },
  {
   "cell_type": "code",
   "execution_count": 94,
   "id": "0f5402d6",
   "metadata": {},
   "outputs": [
    {
     "name": "stdout",
     "output_type": "stream",
     "text": [
      "[1, '2', 3.0, 'This is the fourth item in the list']\n"
     ]
    }
   ],
   "source": [
    "mylist = [1,'2',3.0,'This is the fourth item in the list']\n",
    "\n",
    "print(mylist)"
   ]
  },
  {
   "cell_type": "markdown",
   "id": "34c851a9",
   "metadata": {},
   "source": [
    "We can access particular elements of a list using `mylist[i]`.\n",
    "Python uses zero-based indexing, so `mylist[0]` will give the first item, `mylist[1]` will give the second item, `mylist[2]` gives the third..."
   ]
  },
  {
   "cell_type": "code",
   "execution_count": 96,
   "id": "e3d3e12f",
   "metadata": {},
   "outputs": [
    {
     "data": {
      "text/plain": [
       "'2'"
      ]
     },
     "execution_count": 96,
     "metadata": {},
     "output_type": "execute_result"
    }
   ],
   "source": [
    "mylist[1]"
   ]
  },
  {
   "cell_type": "code",
   "execution_count": 97,
   "id": "d18c70b3",
   "metadata": {},
   "outputs": [
    {
     "data": {
      "text/plain": [
       "'This is the fourth item in the list'"
      ]
     },
     "execution_count": 97,
     "metadata": {},
     "output_type": "execute_result"
    }
   ],
   "source": [
    "mylist[3]"
   ]
  },
  {
   "cell_type": "code",
   "execution_count": 98,
   "id": "0c78de5a",
   "metadata": {},
   "outputs": [
    {
     "ename": "IndexError",
     "evalue": "list index out of range",
     "output_type": "error",
     "traceback": [
      "\u001b[1;31m---------------------------------------------------------------------------\u001b[0m",
      "\u001b[1;31mIndexError\u001b[0m                                Traceback (most recent call last)",
      "\u001b[1;32m<ipython-input-98-88b11041aa4f>\u001b[0m in \u001b[0;36m<module>\u001b[1;34m\u001b[0m\n\u001b[1;32m----> 1\u001b[1;33m \u001b[0mmylist\u001b[0m\u001b[1;33m[\u001b[0m\u001b[1;36m4\u001b[0m\u001b[1;33m]\u001b[0m\u001b[1;33m\u001b[0m\u001b[1;33m\u001b[0m\u001b[0m\n\u001b[0m",
      "\u001b[1;31mIndexError\u001b[0m: list index out of range"
     ]
    }
   ],
   "source": [
    "mylist[4]"
   ]
  },
  {
   "cell_type": "markdown",
   "id": "985c1fa2",
   "metadata": {},
   "source": [
    "## Operations on lists:"
   ]
  },
  {
   "cell_type": "code",
   "execution_count": 99,
   "id": "babd7ae6",
   "metadata": {},
   "outputs": [],
   "source": [
    "numbers = [1,2,3]\n",
    "letters = ['a','b','c']"
   ]
  },
  {
   "cell_type": "markdown",
   "id": "aa56aa53",
   "metadata": {},
   "source": [
    "We can add lists together:"
   ]
  },
  {
   "cell_type": "code",
   "execution_count": 100,
   "id": "f8054073",
   "metadata": {},
   "outputs": [
    {
     "name": "stdout",
     "output_type": "stream",
     "text": [
      "[1, 2, 3, 'a', 'b', 'c']\n"
     ]
    }
   ],
   "source": [
    "mylist2 = numbers + letters\n",
    "\n",
    "print(mylist2)"
   ]
  },
  {
   "cell_type": "markdown",
   "id": "db0d25c9",
   "metadata": {},
   "source": [
    "Lists can be multiplied by integers:"
   ]
  },
  {
   "cell_type": "code",
   "execution_count": 102,
   "id": "804e6cb0",
   "metadata": {},
   "outputs": [
    {
     "name": "stdout",
     "output_type": "stream",
     "text": [
      "['a', 'b', 'c', 'a', 'b', 'c', 'a', 'b', 'c', 'a', 'b', 'c', 'a', 'b', 'c', 'a', 'b', 'c', 'a', 'b', 'c', 'a', 'b', 'c', 'a', 'b', 'c', 'a', 'b', 'c']\n"
     ]
    }
   ],
   "source": [
    "mylist3 = 10*letters\n",
    "\n",
    "print(mylist3)"
   ]
  },
  {
   "cell_type": "markdown",
   "id": "abf8107e",
   "metadata": {},
   "source": [
    "We can add an item to a list using the `.append()` method:"
   ]
  },
  {
   "cell_type": "code",
   "execution_count": 104,
   "id": "7685efeb",
   "metadata": {},
   "outputs": [
    {
     "name": "stdout",
     "output_type": "stream",
     "text": [
      "[1, 2, 3, 4]\n",
      "[1, 2, 3, 4, 5]\n",
      "[1, 2, 3, 4, 5, 100]\n"
     ]
    }
   ],
   "source": [
    "mylist4 = [1,2,3,4]\n",
    "print(mylist4)\n",
    "\n",
    "mylist4.append(5)\n",
    "print(mylist4)\n",
    "\n",
    "mylist4.append(100)\n",
    "print(mylist4)"
   ]
  },
  {
   "cell_type": "code",
   "execution_count": null,
   "id": "c6547077",
   "metadata": {},
   "outputs": [],
   "source": []
  }
 ],
 "metadata": {
  "kernelspec": {
   "display_name": "Python 3",
   "language": "python",
   "name": "python3"
  },
  "language_info": {
   "codemirror_mode": {
    "name": "ipython",
    "version": 3
   },
   "file_extension": ".py",
   "mimetype": "text/x-python",
   "name": "python",
   "nbconvert_exporter": "python",
   "pygments_lexer": "ipython3",
   "version": "3.8.8"
  }
 },
 "nbformat": 4,
 "nbformat_minor": 5
}
