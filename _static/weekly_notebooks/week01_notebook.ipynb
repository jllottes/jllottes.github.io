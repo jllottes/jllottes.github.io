{
 "cells": [
  {
   "cell_type": "markdown",
   "id": "5fe7aa89",
   "metadata": {},
   "source": [
    "This is some text in a MarkDown cell. To make a markdown cell, select a cell in Jupyter-notebook and hit `m`, or click \"Cell\" -> \"Cell Type\" -> \"Markdown\".\n",
    "\n",
    "To add a cell in Jupyter-notebook, click the \"+\" sign in the toolbar. Alternatively, you can hit `esc` then `a`. More generally, we can use command shortcuts by first hitting `esc`. \n",
    "\n",
    "To see a list of all command shortcuts in Jupyter, hit `esc` then `h`.\n",
    "\n",
    "You can save your notebook by hitting `CTRL + s`.\n",
    "\n",
    "We can execute the cell with `SHIFT + ENTER` to render the markdown."
   ]
  },
  {
   "cell_type": "markdown",
   "id": "f9669f41",
   "metadata": {},
   "source": [
    "To create a heading in MarkDown, use hashtags.\n",
    "\n",
    "# This is a heading\n",
    "\n",
    "Once we execute the markdown cell, the heading will be rendered.\n",
    "We can create sub-headings using additional hashtags.\n",
    "\n",
    "## This is a sub-heading\n",
    "\n",
    "### This is a sub-sub-heading\n",
    "\n",
    "This is regular text.\n",
    "\n",
    "*This is italics*\n",
    "\n",
    "The word **bold** is bolded.\n",
    "\n",
    "We can write code snippets in Markdown using the backtick (same key as tilde):\n",
    "\n",
    "`def f(n):\n",
    "    print(n)\n",
    "`\n",
    "\n",
    "We can edit a markdown cell by double-clicking it. Re-executing the cell (`SHIFT+ENTER`) will re-render the markdown."
   ]
  },
  {
   "cell_type": "markdown",
   "id": "7fea361a",
   "metadata": {},
   "source": [
    "## Lists\n",
    "\n",
    "We can create lists in Markdown using indented asterisks:\n",
    "\n",
    " * This is the first item in a list\n",
    " * This is a second\n",
    " * This is a third\n",
    "   * This is a sub-item\n",
    "   * This is a second sub-item\n",
    " * This is a fourth item\n",
    " \n",
    "We can also create numbered lists using numbers:\n",
    "\n",
    " 1. This is the first item\n",
    " 2. This is the second\n",
    "   1. This is a first sub-item\n",
    "   2. This is a second sub-item\n",
    " 5. Test\n",
    " 10. test2\n",
    "    \n",
    "Note: It doesn't actually matter what numbers you use, Markdown will order them it's own way."
   ]
  },
  {
   "cell_type": "markdown",
   "id": "1da5d00a",
   "metadata": {},
   "source": [
    "## Hyperlinks\n",
    "\n",
    "We create Hyperlinks in markdown using square-brackets (for the URL) followed by parentheses for the text:\n",
    "\n",
    "`[This is the course page](https://jllottes.github.io)`\n",
    "\n",
    "[This is the course page](https://jllottes.github.io)"
   ]
  },
  {
   "cell_type": "markdown",
   "id": "5b466a2a",
   "metadata": {},
   "source": [
    "## Tables\n",
    "\n",
    "We can create tables in Markdown:\n",
    "\n",
    "| Tables        | Are           | Cool  |  This is a new column |\n",
    "|:------------- |:-------------:| -----:|-----------------------|\n",
    "| col 3 is      | right-aligned | \\$1600  |   alpha             |\n",
    "| col 2 is      | centered      |   \\$12  |   bravo             |\n",
    "| zebra stripes | are neat      |    \\$1  |   charlie           |\n",
    "| new row       | This is new   | \\$2000  |   delta             |\n",
    "\n",
    "There are some special characters in Markdown (such as the backtick, dollar sign, asterisk, hashtag). Sometimes we want to include these symbols literally. If we want to use a special character literally, we can *escape* the special character using a slash `\\`:\n",
    "\n",
    "\\` \\$ \\* \\#"
   ]
  },
  {
   "cell_type": "markdown",
   "id": "cb0aa6cc",
   "metadata": {},
   "source": [
    "# Python arithmetic"
   ]
  },
  {
   "cell_type": "markdown",
   "id": "277019ae",
   "metadata": {},
   "source": [
    "Addition:"
   ]
  },
  {
   "cell_type": "code",
   "execution_count": 7,
   "id": "5db69ab7",
   "metadata": {},
   "outputs": [
    {
     "data": {
      "text/plain": [
       "2"
      ]
     },
     "execution_count": 7,
     "metadata": {},
     "output_type": "execute_result"
    }
   ],
   "source": [
    "1 + 1"
   ]
  },
  {
   "cell_type": "code",
   "execution_count": 9,
   "id": "8e3498d6",
   "metadata": {},
   "outputs": [
    {
     "data": {
      "text/plain": [
       "98976"
      ]
     },
     "execution_count": 9,
     "metadata": {},
     "output_type": "execute_result"
    }
   ],
   "source": [
    "99999 - 1023"
   ]
  },
  {
   "cell_type": "markdown",
   "id": "da98b837",
   "metadata": {},
   "source": [
    "Multiplication:"
   ]
  },
  {
   "cell_type": "code",
   "execution_count": 10,
   "id": "f1105e35",
   "metadata": {},
   "outputs": [
    {
     "data": {
      "text/plain": [
       "6"
      ]
     },
     "execution_count": 10,
     "metadata": {},
     "output_type": "execute_result"
    }
   ],
   "source": [
    "2 * 3"
   ]
  },
  {
   "cell_type": "code",
   "execution_count": 11,
   "id": "ddbd66bf",
   "metadata": {},
   "outputs": [
    {
     "data": {
      "text/plain": [
       "22217778"
      ]
     },
     "execution_count": 11,
     "metadata": {},
     "output_type": "execute_result"
    }
   ],
   "source": [
    "9999 * 2222"
   ]
  },
  {
   "cell_type": "markdown",
   "id": "c6090599",
   "metadata": {},
   "source": [
    "Division:"
   ]
  },
  {
   "cell_type": "code",
   "execution_count": 12,
   "id": "648eac6e",
   "metadata": {},
   "outputs": [
    {
     "data": {
      "text/plain": [
       "3.6666666666666665"
      ]
     },
     "execution_count": 12,
     "metadata": {},
     "output_type": "execute_result"
    }
   ],
   "source": [
    "11 / 3"
   ]
  },
  {
   "cell_type": "markdown",
   "id": "e82a20b4",
   "metadata": {},
   "source": [
    "Notice: The division of integer 11 by integer 3 produces something that is not an integer (it is a \"floating point number\").\n",
    "Sometimes we just want the integer part of the division (i.e. the quotient in long-division).\n",
    "\n",
    "Note: `11 = 3 * 3 + 2`\n",
    "\n",
    "Floor division: (divide and drop the remainder)"
   ]
  },
  {
   "cell_type": "code",
   "execution_count": 13,
   "id": "0a5dfec0",
   "metadata": {},
   "outputs": [
    {
     "data": {
      "text/plain": [
       "3"
      ]
     },
     "execution_count": 13,
     "metadata": {},
     "output_type": "execute_result"
    }
   ],
   "source": [
    "11 // 3"
   ]
  },
  {
   "cell_type": "markdown",
   "id": "38bac332",
   "metadata": {},
   "source": [
    "Modulus: (divide and keep only the remainder)"
   ]
  },
  {
   "cell_type": "code",
   "execution_count": 14,
   "id": "9f561c02",
   "metadata": {},
   "outputs": [
    {
     "data": {
      "text/plain": [
       "2"
      ]
     },
     "execution_count": 14,
     "metadata": {},
     "output_type": "execute_result"
    }
   ],
   "source": [
    "11 % 3"
   ]
  },
  {
   "cell_type": "markdown",
   "id": "1b9f12ef",
   "metadata": {},
   "source": [
    "Exponentiation: Use a double-asterisk `**`"
   ]
  },
  {
   "cell_type": "code",
   "execution_count": 16,
   "id": "a862d974",
   "metadata": {},
   "outputs": [
    {
     "data": {
      "text/plain": [
       "8"
      ]
     },
     "execution_count": 16,
     "metadata": {},
     "output_type": "execute_result"
    }
   ],
   "source": [
    "2**3"
   ]
  },
  {
   "cell_type": "code",
   "execution_count": 19,
   "id": "394b767a",
   "metadata": {},
   "outputs": [
    {
     "data": {
      "text/plain": [
       "1267650600228229401496703205376"
      ]
     },
     "execution_count": 19,
     "metadata": {},
     "output_type": "execute_result"
    }
   ],
   "source": [
    "2**100"
   ]
  },
  {
   "cell_type": "code",
   "execution_count": 24,
   "id": "201a1ed7",
   "metadata": {},
   "outputs": [
    {
     "data": {
      "text/plain": [
       "1.2676506002282294e+30"
      ]
     },
     "execution_count": 24,
     "metadata": {},
     "output_type": "execute_result"
    }
   ],
   "source": [
    "2.0**100"
   ]
  },
  {
   "cell_type": "markdown",
   "id": "fff070a9",
   "metadata": {},
   "source": [
    "When we run `2.0**100`, we no longer an exact answer, but a floating-point approximation.\n",
    "\n",
    "`2` is an integer in Python, but `2.0` is a float. The `e+30` means we need to move the decimal point 30 places to the right."
   ]
  },
  {
   "cell_type": "markdown",
   "id": "63259488",
   "metadata": {},
   "source": [
    "# Floats vs integers\n",
    "\n",
    " * integers = whole numbers without a decimal point\n",
    " * floats = numbers with a decimal point\n",
    " * operations on integers are exact\n",
    " * operations on floats are approximate\n",
    " * Integers can be arbitrary large, but floats represented in the computer only within some finite range"
   ]
  }
 ],
 "metadata": {
  "kernelspec": {
   "display_name": "Python 3 (ipykernel)",
   "language": "python",
   "name": "python3"
  },
  "language_info": {
   "codemirror_mode": {
    "name": "ipython",
    "version": 3
   },
   "file_extension": ".py",
   "mimetype": "text/x-python",
   "name": "python",
   "nbconvert_exporter": "python",
   "pygments_lexer": "ipython3",
   "version": "3.9.7"
  }
 },
 "nbformat": 4,
 "nbformat_minor": 5
}
