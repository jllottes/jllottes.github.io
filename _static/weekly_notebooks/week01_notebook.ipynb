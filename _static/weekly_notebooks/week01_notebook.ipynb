{
 "cells": [
  {
   "cell_type": "markdown",
   "id": "b12672de",
   "metadata": {},
   "source": [
    "# Monday, August 26th, 2024"
   ]
  },
  {
   "cell_type": "code",
   "execution_count": 1,
   "id": "6a7ca5b0",
   "metadata": {},
   "outputs": [
    {
     "data": {
      "text/plain": [
       "2"
      ]
     },
     "execution_count": 1,
     "metadata": {},
     "output_type": "execute_result"
    }
   ],
   "source": [
    "1 + 1"
   ]
  },
  {
   "cell_type": "markdown",
   "id": "a5d528e8",
   "metadata": {},
   "source": [
    "The cell below is a code cell. Python throws an error when we execute the cell because we have not written valid Python code. Instead, we should convert the cell to a Markdown cell, which is used for non-code text."
   ]
  },
  {
   "cell_type": "code",
   "execution_count": 2,
   "id": "2c6e30d1",
   "metadata": {},
   "outputs": [
    {
     "ename": "SyntaxError",
     "evalue": "invalid syntax (238413961.py, line 1)",
     "output_type": "error",
     "traceback": [
      "\u001b[1;36m  Cell \u001b[1;32mIn[2], line 1\u001b[1;36m\u001b[0m\n\u001b[1;33m    Jupyter notebook basics:\u001b[0m\n\u001b[1;37m            ^\u001b[0m\n\u001b[1;31mSyntaxError\u001b[0m\u001b[1;31m:\u001b[0m invalid syntax\n"
     ]
    }
   ],
   "source": [
    "Jupyter notebook basics:\n",
    "\n",
    "To save, click the floppy disk in the top left corner, or select File -> Save and Checkpoint.\n",
    "To execute a cell, select it and hit SHIFT + ENTER.\n",
    "To add a cell below the currently selected cell, hit the PLUS symbol in the top-left corner.\n",
    "To convert a cell to Markdown, select the cell and hit the dropdown in the toolbar to select Markdown."
   ]
  },
  {
   "cell_type": "markdown",
   "id": "78d3029f",
   "metadata": {},
   "source": [
    "## Jupyter notebook basics:\n",
    "\n",
    "* To **save**, click the *floppy disk* in the top left corner, or select File -> Save and Checkpoint.\n",
    "* To execute a cell, select it and hit SHIFT + ENTER.\n",
    "* To add a cell below the currently selected cell, hit the PLUS symbol in the top-left corner.\n",
    "* To convert a cell to Markdown, select the cell and hit the dropdown in the toolbar to select Markdown."
   ]
  },
  {
   "cell_type": "markdown",
   "id": "a98d4188",
   "metadata": {},
   "source": [
    "We can also put hyperlinks into Markdown cells:\n",
    "\n",
    "[Here is a link to the Markdown cheatsheet](https://github.com/adam-p/markdown-here/wiki/Markdown-Cheatsheet)"
   ]
  },
  {
   "cell_type": "markdown",
   "id": "81bf81a6",
   "metadata": {},
   "source": [
    "We can construct tables as well using markdown:\n",
    "\n",
    "| Name | Age | City |\n",
    "|:------:|-----|------:|\n",
    "| Jon  | 35  | Buffalo |\n",
    "| Steven | 36 | Seattle |\n",
    "| Emily | 38 | Pittsburgh |\n",
    "| Justin | 40 | Rochester | "
   ]
  },
  {
   "cell_type": "markdown",
   "id": "e569a28d",
   "metadata": {},
   "source": [
    "## Python arithmetic"
   ]
  },
  {
   "cell_type": "markdown",
   "id": "fc5eec93",
   "metadata": {},
   "source": [
    "Addtion:"
   ]
  },
  {
   "cell_type": "code",
   "execution_count": 12,
   "id": "3b48e6d5",
   "metadata": {},
   "outputs": [
    {
     "data": {
      "text/plain": [
       "2"
      ]
     },
     "execution_count": 12,
     "metadata": {},
     "output_type": "execute_result"
    }
   ],
   "source": [
    "1 + 1"
   ]
  },
  {
   "cell_type": "markdown",
   "id": "1543e832",
   "metadata": {},
   "source": [
    "Multiplication:"
   ]
  },
  {
   "cell_type": "code",
   "execution_count": 13,
   "id": "43a02da3",
   "metadata": {},
   "outputs": [
    {
     "data": {
      "text/plain": [
       "20"
      ]
     },
     "execution_count": 13,
     "metadata": {},
     "output_type": "execute_result"
    }
   ],
   "source": [
    "4 * 5"
   ]
  },
  {
   "cell_type": "markdown",
   "id": "e3bd815d",
   "metadata": {},
   "source": [
    "Division:"
   ]
  },
  {
   "cell_type": "code",
   "execution_count": 14,
   "id": "97b43857",
   "metadata": {},
   "outputs": [
    {
     "data": {
      "text/plain": [
       "3.6666666666666665"
      ]
     },
     "execution_count": 14,
     "metadata": {},
     "output_type": "execute_result"
    }
   ],
   "source": [
    "11/3"
   ]
  },
  {
   "cell_type": "markdown",
   "id": "c7461cb2",
   "metadata": {},
   "source": [
    "Floor division (divide and keep only the quotient):"
   ]
  },
  {
   "cell_type": "code",
   "execution_count": 15,
   "id": "1dd6384c",
   "metadata": {},
   "outputs": [
    {
     "data": {
      "text/plain": [
       "3"
      ]
     },
     "execution_count": 15,
     "metadata": {},
     "output_type": "execute_result"
    }
   ],
   "source": [
    "11 // 3"
   ]
  },
  {
   "cell_type": "markdown",
   "id": "4f71683d",
   "metadata": {},
   "source": [
    "Modulus (divide and keep only the remainder):"
   ]
  },
  {
   "cell_type": "code",
   "execution_count": 16,
   "id": "063819ec",
   "metadata": {},
   "outputs": [
    {
     "data": {
      "text/plain": [
       "2"
      ]
     },
     "execution_count": 16,
     "metadata": {},
     "output_type": "execute_result"
    }
   ],
   "source": [
    "11 % 3"
   ]
  },
  {
   "cell_type": "markdown",
   "id": "f052cf2f",
   "metadata": {},
   "source": [
    "**Exercise:**\n",
    "\n",
    "Write the number 123456 in the form 123456 = 22q + r where 0 <= r < 22."
   ]
  },
  {
   "cell_type": "code",
   "execution_count": 17,
   "id": "c91df313",
   "metadata": {},
   "outputs": [
    {
     "data": {
      "text/plain": [
       "5611"
      ]
     },
     "execution_count": 17,
     "metadata": {},
     "output_type": "execute_result"
    }
   ],
   "source": [
    "123456 // 22"
   ]
  },
  {
   "cell_type": "code",
   "execution_count": 18,
   "id": "b3daef72",
   "metadata": {},
   "outputs": [
    {
     "data": {
      "text/plain": [
       "14"
      ]
     },
     "execution_count": 18,
     "metadata": {},
     "output_type": "execute_result"
    }
   ],
   "source": [
    "123456 % 22"
   ]
  },
  {
   "cell_type": "markdown",
   "id": "fe1a575c",
   "metadata": {},
   "source": [
    "Check:"
   ]
  },
  {
   "cell_type": "code",
   "execution_count": 19,
   "id": "f6fbed4f",
   "metadata": {},
   "outputs": [
    {
     "data": {
      "text/plain": [
       "123456"
      ]
     },
     "execution_count": 19,
     "metadata": {},
     "output_type": "execute_result"
    }
   ],
   "source": [
    "22*5611 + 14"
   ]
  },
  {
   "cell_type": "markdown",
   "id": "0c54a817",
   "metadata": {},
   "source": [
    "Power:"
   ]
  },
  {
   "cell_type": "code",
   "execution_count": 20,
   "id": "362d3627",
   "metadata": {
    "scrolled": true
   },
   "outputs": [
    {
     "data": {
      "text/plain": [
       "6"
      ]
     },
     "execution_count": 20,
     "metadata": {},
     "output_type": "execute_result"
    }
   ],
   "source": [
    "5^3"
   ]
  },
  {
   "cell_type": "markdown",
   "id": "25f8b166",
   "metadata": {},
   "source": [
    "The caret `^` does not compute powers. Instead, we use a double asterisk `**`:"
   ]
  },
  {
   "cell_type": "code",
   "execution_count": 21,
   "id": "3be46208",
   "metadata": {},
   "outputs": [
    {
     "data": {
      "text/plain": [
       "125"
      ]
     },
     "execution_count": 21,
     "metadata": {},
     "output_type": "execute_result"
    }
   ],
   "source": [
    "5**3"
   ]
  },
  {
   "cell_type": "code",
   "execution_count": 22,
   "id": "49910ccb",
   "metadata": {},
   "outputs": [
    {
     "data": {
      "text/plain": [
       "1267650600228229401496703205376"
      ]
     },
     "execution_count": 22,
     "metadata": {},
     "output_type": "execute_result"
    }
   ],
   "source": [
    "2**100"
   ]
  },
  {
   "cell_type": "code",
   "execution_count": 23,
   "id": "92b0f70a",
   "metadata": {},
   "outputs": [
    {
     "data": {
      "text/plain": [
       "1.2676506002282294e+30"
      ]
     },
     "execution_count": 23,
     "metadata": {},
     "output_type": "execute_result"
    }
   ],
   "source": [
    "2.0**100"
   ]
  },
  {
   "cell_type": "code",
   "execution_count": 24,
   "id": "2a2c32f4",
   "metadata": {},
   "outputs": [
    {
     "data": {
      "text/plain": [
       "125325663996571831810755483238273420616498507508098617146349500752097059631738116432448839054351520763198615919551594076685828989467263022761790838270854579830015111246661203984624358929832571615718014704096305668097507613273663023226895250541385927158426088684494082416768617708189592286936039922311125683719215046689156738352590137241554510185855964549927575493247391132548534378497978806084951085874202011836362315727420109554782988791530088289711844550500230485638413189947132142243947334199259300735622492937419453650061490302105127920314430401636855677549136337481321811349678427076091437345045399337348611261168055929355402992823192491190360027036112283180935872775214517464013178274657100736321564606838252739601156414628445543663144696050650160812621814327062666195172701780200286645023823083185928061371310300829284071141207731280600001"
      ]
     },
     "execution_count": 24,
     "metadata": {},
     "output_type": "execute_result"
    }
   ],
   "source": [
    "7**1000"
   ]
  },
  {
   "cell_type": "code",
   "execution_count": 25,
   "id": "0a6cbc50",
   "metadata": {},
   "outputs": [
    {
     "ename": "OverflowError",
     "evalue": "(34, 'Result too large')",
     "output_type": "error",
     "traceback": [
      "\u001b[1;31m---------------------------------------------------------------------------\u001b[0m",
      "\u001b[1;31mOverflowError\u001b[0m                             Traceback (most recent call last)",
      "Cell \u001b[1;32mIn[25], line 1\u001b[0m\n\u001b[1;32m----> 1\u001b[0m \u001b[38;5;241m7.0\u001b[39m \u001b[38;5;241m*\u001b[39m\u001b[38;5;241m*\u001b[39m \u001b[38;5;241m1000\u001b[39m\n",
      "\u001b[1;31mOverflowError\u001b[0m: (34, 'Result too large')"
     ]
    }
   ],
   "source": [
    "7.0 ** 1000"
   ]
  },
  {
   "cell_type": "markdown",
   "id": "44d7d0e4",
   "metadata": {},
   "source": [
    "## Floats vs integers"
   ]
  },
  {
   "cell_type": "markdown",
   "id": "5f1855a9",
   "metadata": {},
   "source": [
    "* integers = numbers without decimal points\n",
    "* floats = numbers with a decimal point\n",
    "* Operations on integers are exact\n",
    "* Operations on floats are approximate\n",
    "* Integers can be arbitrarily large, but floats can be only be represeneted in the computer within a finite range."
   ]
  },
  {
   "cell_type": "markdown",
   "id": "ecd35373",
   "metadata": {},
   "source": [
    "We can convert between the two using the functions `float()` and `int()`:"
   ]
  },
  {
   "cell_type": "code",
   "execution_count": 26,
   "id": "471bce8a",
   "metadata": {},
   "outputs": [
    {
     "data": {
      "text/plain": [
       "2.0"
      ]
     },
     "execution_count": 26,
     "metadata": {},
     "output_type": "execute_result"
    }
   ],
   "source": [
    "float(2)"
   ]
  },
  {
   "cell_type": "code",
   "execution_count": 27,
   "id": "05107e97",
   "metadata": {},
   "outputs": [
    {
     "data": {
      "text/plain": [
       "2"
      ]
     },
     "execution_count": 27,
     "metadata": {},
     "output_type": "execute_result"
    }
   ],
   "source": [
    "int(2.0)"
   ]
  },
  {
   "cell_type": "markdown",
   "id": "64fe3c8f",
   "metadata": {},
   "source": [
    "We can check the type of a number using the function `type()`:"
   ]
  },
  {
   "cell_type": "code",
   "execution_count": 28,
   "id": "4081db05",
   "metadata": {},
   "outputs": [
    {
     "data": {
      "text/plain": [
       "int"
      ]
     },
     "execution_count": 28,
     "metadata": {},
     "output_type": "execute_result"
    }
   ],
   "source": [
    "type(2)"
   ]
  },
  {
   "cell_type": "code",
   "execution_count": 29,
   "id": "2b1035c7",
   "metadata": {},
   "outputs": [
    {
     "data": {
      "text/plain": [
       "float"
      ]
     },
     "execution_count": 29,
     "metadata": {},
     "output_type": "execute_result"
    }
   ],
   "source": [
    "type(2.0)"
   ]
  },
  {
   "cell_type": "code",
   "execution_count": 30,
   "id": "964a2b6a",
   "metadata": {},
   "outputs": [
    {
     "data": {
      "text/plain": [
       "123"
      ]
     },
     "execution_count": 30,
     "metadata": {},
     "output_type": "execute_result"
    }
   ],
   "source": [
    "int(123.99)"
   ]
  },
  {
   "cell_type": "markdown",
   "id": "6eee8cd4",
   "metadata": {},
   "source": [
    "The `int()` function will ignore any fractional part of a float and take only the whole number."
   ]
  },
  {
   "cell_type": "code",
   "execution_count": 31,
   "id": "645a8bf1",
   "metadata": {},
   "outputs": [
    {
     "data": {
      "text/plain": [
       "-1"
      ]
     },
     "execution_count": 31,
     "metadata": {},
     "output_type": "execute_result"
    }
   ],
   "source": [
    "int(-1.99)"
   ]
  },
  {
   "cell_type": "markdown",
   "id": "fd70df50",
   "metadata": {},
   "source": [
    "We can use the `round()` function instead to round a float to the nearest integer:"
   ]
  },
  {
   "cell_type": "code",
   "execution_count": 32,
   "id": "0f8e16a4",
   "metadata": {},
   "outputs": [
    {
     "data": {
      "text/plain": [
       "124"
      ]
     },
     "execution_count": 32,
     "metadata": {},
     "output_type": "execute_result"
    }
   ],
   "source": [
    "round(123.99)"
   ]
  },
  {
   "cell_type": "code",
   "execution_count": 33,
   "id": "be7c4d25",
   "metadata": {},
   "outputs": [
    {
     "data": {
      "text/plain": [
       "-2"
      ]
     },
     "execution_count": 33,
     "metadata": {},
     "output_type": "execute_result"
    }
   ],
   "source": [
    "round(-1.99)"
   ]
  },
  {
   "cell_type": "markdown",
   "id": "acbb83d2",
   "metadata": {},
   "source": [
    "Python follows the PEMDAS order of operations:"
   ]
  },
  {
   "cell_type": "code",
   "execution_count": 34,
   "id": "2a6dfdf6",
   "metadata": {},
   "outputs": [
    {
     "data": {
      "text/plain": [
       "63.0"
      ]
     },
     "execution_count": 34,
     "metadata": {},
     "output_type": "execute_result"
    }
   ],
   "source": [
    "7 * (6/2)**2"
   ]
  },
  {
   "cell_type": "code",
   "execution_count": 35,
   "id": "6a59f89c",
   "metadata": {},
   "outputs": [
    {
     "data": {
      "text/plain": [
       "63"
      ]
     },
     "execution_count": 35,
     "metadata": {},
     "output_type": "execute_result"
    }
   ],
   "source": [
    "7 * (6//2)**2"
   ]
  },
  {
   "cell_type": "markdown",
   "id": "6a108a7c",
   "metadata": {},
   "source": [
    "## Variable assignment"
   ]
  },
  {
   "cell_type": "code",
   "execution_count": 36,
   "id": "42ab4c6b",
   "metadata": {},
   "outputs": [],
   "source": [
    "a = 5"
   ]
  },
  {
   "cell_type": "code",
   "execution_count": 37,
   "id": "9ddc3efa",
   "metadata": {},
   "outputs": [
    {
     "data": {
      "text/plain": [
       "5"
      ]
     },
     "execution_count": 37,
     "metadata": {},
     "output_type": "execute_result"
    }
   ],
   "source": [
    "a"
   ]
  },
  {
   "cell_type": "code",
   "execution_count": 38,
   "id": "56309b99",
   "metadata": {},
   "outputs": [],
   "source": [
    "b = 2"
   ]
  },
  {
   "cell_type": "code",
   "execution_count": 39,
   "id": "10d06447",
   "metadata": {},
   "outputs": [
    {
     "data": {
      "text/plain": [
       "2"
      ]
     },
     "execution_count": 39,
     "metadata": {},
     "output_type": "execute_result"
    }
   ],
   "source": [
    "b"
   ]
  },
  {
   "cell_type": "code",
   "execution_count": 40,
   "id": "4138bb75",
   "metadata": {},
   "outputs": [
    {
     "data": {
      "text/plain": [
       "7"
      ]
     },
     "execution_count": 40,
     "metadata": {},
     "output_type": "execute_result"
    }
   ],
   "source": [
    "a + b"
   ]
  },
  {
   "cell_type": "code",
   "execution_count": 41,
   "id": "f2d30142",
   "metadata": {},
   "outputs": [
    {
     "data": {
      "text/plain": [
       "10"
      ]
     },
     "execution_count": 41,
     "metadata": {},
     "output_type": "execute_result"
    }
   ],
   "source": [
    "a*b"
   ]
  },
  {
   "cell_type": "code",
   "execution_count": 42,
   "id": "c1a9b1d4",
   "metadata": {},
   "outputs": [
    {
     "data": {
      "text/plain": [
       "25"
      ]
     },
     "execution_count": 42,
     "metadata": {},
     "output_type": "execute_result"
    }
   ],
   "source": [
    "a**b"
   ]
  },
  {
   "cell_type": "markdown",
   "id": "ca0a2143",
   "metadata": {},
   "source": [
    "We can also store the results of some operations as variables"
   ]
  },
  {
   "cell_type": "code",
   "execution_count": 43,
   "id": "d3b2aaba",
   "metadata": {},
   "outputs": [],
   "source": [
    "c = b**a"
   ]
  },
  {
   "cell_type": "code",
   "execution_count": 44,
   "id": "090cf1da",
   "metadata": {},
   "outputs": [
    {
     "data": {
      "text/plain": [
       "32"
      ]
     },
     "execution_count": 44,
     "metadata": {},
     "output_type": "execute_result"
    }
   ],
   "source": [
    "c"
   ]
  },
  {
   "cell_type": "code",
   "execution_count": 45,
   "id": "7eca3456",
   "metadata": {},
   "outputs": [],
   "source": [
    "d = 123456\n",
    "f = 33\n",
    "\n",
    "q = d // f\n",
    "r = d % f"
   ]
  },
  {
   "cell_type": "markdown",
   "id": "d5f41e99",
   "metadata": {},
   "source": [
    "We can see several variables in one line by separating them with a comma"
   ]
  },
  {
   "cell_type": "code",
   "execution_count": 46,
   "id": "1a50bb25",
   "metadata": {},
   "outputs": [
    {
     "data": {
      "text/plain": [
       "(3741, 3)"
      ]
     },
     "execution_count": 46,
     "metadata": {},
     "output_type": "execute_result"
    }
   ],
   "source": [
    "q, r"
   ]
  },
  {
   "cell_type": "markdown",
   "id": "d84ec7be",
   "metadata": {},
   "source": [
    "We can also define several variables in one line by separating with a comma:"
   ]
  },
  {
   "cell_type": "code",
   "execution_count": 47,
   "id": "60ab7346",
   "metadata": {},
   "outputs": [],
   "source": [
    "d, f = 12345, 33"
   ]
  },
  {
   "cell_type": "code",
   "execution_count": 48,
   "id": "cb88b538",
   "metadata": {},
   "outputs": [
    {
     "data": {
      "text/plain": [
       "12345"
      ]
     },
     "execution_count": 48,
     "metadata": {},
     "output_type": "execute_result"
    }
   ],
   "source": [
    "d"
   ]
  },
  {
   "cell_type": "code",
   "execution_count": 49,
   "id": "f7904ecb",
   "metadata": {},
   "outputs": [
    {
     "data": {
      "text/plain": [
       "33"
      ]
     },
     "execution_count": 49,
     "metadata": {},
     "output_type": "execute_result"
    }
   ],
   "source": [
    "f"
   ]
  },
  {
   "cell_type": "markdown",
   "id": "37bff2dc",
   "metadata": {},
   "source": [
    "We can use this to swap two variables:"
   ]
  },
  {
   "cell_type": "code",
   "execution_count": 50,
   "id": "cbc9e197",
   "metadata": {},
   "outputs": [
    {
     "data": {
      "text/plain": [
       "(12345, 33)"
      ]
     },
     "execution_count": 50,
     "metadata": {},
     "output_type": "execute_result"
    }
   ],
   "source": [
    "d,f "
   ]
  },
  {
   "cell_type": "code",
   "execution_count": 51,
   "id": "b767d5d9",
   "metadata": {},
   "outputs": [],
   "source": [
    "d, f = f, d"
   ]
  },
  {
   "cell_type": "code",
   "execution_count": 52,
   "id": "9a599973",
   "metadata": {},
   "outputs": [
    {
     "data": {
      "text/plain": [
       "(33, 12345)"
      ]
     },
     "execution_count": 52,
     "metadata": {},
     "output_type": "execute_result"
    }
   ],
   "source": [
    "d, f"
   ]
  },
  {
   "cell_type": "markdown",
   "id": "30102f2f",
   "metadata": {},
   "source": [
    "## Warning about working with Jupyter notebook"
   ]
  },
  {
   "cell_type": "code",
   "execution_count": 53,
   "id": "f174a3a9",
   "metadata": {},
   "outputs": [],
   "source": [
    "a = 1\n",
    "b = 2\n",
    "c = 3"
   ]
  },
  {
   "cell_type": "code",
   "execution_count": 54,
   "id": "c5628940",
   "metadata": {
    "scrolled": true
   },
   "outputs": [
    {
     "data": {
      "text/plain": [
       "(1, 2, 3)"
      ]
     },
     "execution_count": 54,
     "metadata": {},
     "output_type": "execute_result"
    }
   ],
   "source": [
    "a,b,c"
   ]
  },
  {
   "cell_type": "code",
   "execution_count": 55,
   "id": "b481f52c",
   "metadata": {},
   "outputs": [
    {
     "data": {
      "text/plain": [
       "1"
      ]
     },
     "execution_count": 55,
     "metadata": {},
     "output_type": "execute_result"
    }
   ],
   "source": [
    "a"
   ]
  },
  {
   "cell_type": "markdown",
   "id": "8f3a0ed6",
   "metadata": {},
   "source": [
    "We can change the meaning of any variables at any point. Python will always recall the most recent definition of those variables."
   ]
  },
  {
   "cell_type": "markdown",
   "id": "4b00b4f9",
   "metadata": {},
   "source": [
    "We can clear all of the memory and start refresh by hitting *Refresh* symbol in the upper toolbar, or we can select *Kernel -> Restart*."
   ]
  },
  {
   "cell_type": "markdown",
   "id": "d74fd7ff",
   "metadata": {},
   "source": [
    "If we save a notebook and quit, all variables will be lost."
   ]
  },
  {
   "cell_type": "markdown",
   "id": "52d26a2a",
   "metadata": {},
   "source": [
    "If we want to resume later, we can use *Kernel -> Restart and run all*."
   ]
  },
  {
   "cell_type": "code",
   "execution_count": 56,
   "id": "925dbe9f",
   "metadata": {},
   "outputs": [
    {
     "data": {
      "text/plain": [
       "3"
      ]
     },
     "execution_count": 56,
     "metadata": {},
     "output_type": "execute_result"
    }
   ],
   "source": [
    "a\n",
    "b\n",
    "c"
   ]
  },
  {
   "cell_type": "markdown",
   "id": "4c8f7cc7",
   "metadata": {},
   "source": [
    "## The `print()` command"
   ]
  },
  {
   "cell_type": "code",
   "execution_count": 57,
   "id": "10383fb3",
   "metadata": {},
   "outputs": [
    {
     "name": "stdout",
     "output_type": "stream",
     "text": [
      "1\n"
     ]
    }
   ],
   "source": [
    "print(a)"
   ]
  },
  {
   "cell_type": "code",
   "execution_count": 58,
   "id": "548f5c3a",
   "metadata": {},
   "outputs": [
    {
     "name": "stdout",
     "output_type": "stream",
     "text": [
      "1 2 3\n"
     ]
    }
   ],
   "source": [
    "print(a,b,c)"
   ]
  },
  {
   "cell_type": "code",
   "execution_count": 59,
   "id": "d86d7e0e",
   "metadata": {},
   "outputs": [
    {
     "name": "stdout",
     "output_type": "stream",
     "text": [
      "1\n",
      "2\n",
      "3\n"
     ]
    }
   ],
   "source": [
    "print(a)\n",
    "print(b)\n",
    "print(c)"
   ]
  },
  {
   "cell_type": "markdown",
   "id": "1cd0b521",
   "metadata": {},
   "source": [
    "# Wednesday, August 28, 2024"
   ]
  },
  {
   "cell_type": "markdown",
   "id": "f2c104f4",
   "metadata": {},
   "source": [
    "## Shortcuts for updating variables:"
   ]
  },
  {
   "cell_type": "code",
   "execution_count": 60,
   "id": "4c176fb6",
   "metadata": {},
   "outputs": [],
   "source": [
    "a = 100"
   ]
  },
  {
   "cell_type": "markdown",
   "id": "ec433ff4",
   "metadata": {},
   "source": [
    "Suppose we want to update `a` to increase it by `5`"
   ]
  },
  {
   "cell_type": "code",
   "execution_count": 66,
   "id": "feadd977",
   "metadata": {},
   "outputs": [
    {
     "name": "stdout",
     "output_type": "stream",
     "text": [
      "130\n"
     ]
    }
   ],
   "source": [
    "a = a + 5\n",
    "print(a)"
   ]
  },
  {
   "cell_type": "markdown",
   "id": "fc43a7ed",
   "metadata": {},
   "source": [
    "We can use the shorthand `+= 5` to increment a variable by `5`:"
   ]
  },
  {
   "cell_type": "code",
   "execution_count": 70,
   "id": "bca5e4f3",
   "metadata": {},
   "outputs": [
    {
     "name": "stdout",
     "output_type": "stream",
     "text": [
      "150\n"
     ]
    }
   ],
   "source": [
    "a += 5\n",
    "print(a)"
   ]
  },
  {
   "cell_type": "markdown",
   "id": "c9520793",
   "metadata": {},
   "source": [
    "We can do the same with multiplication, division, and subtraction:"
   ]
  },
  {
   "cell_type": "code",
   "execution_count": 71,
   "id": "f8625b0f",
   "metadata": {},
   "outputs": [
    {
     "name": "stdout",
     "output_type": "stream",
     "text": [
      "93\n"
     ]
    }
   ],
   "source": [
    "a = 100\n",
    "\n",
    "a -= 7\n",
    "print(a)"
   ]
  },
  {
   "cell_type": "code",
   "execution_count": 72,
   "id": "faeec17f",
   "metadata": {},
   "outputs": [
    {
     "name": "stdout",
     "output_type": "stream",
     "text": [
      "30\n"
     ]
    }
   ],
   "source": [
    "b = 5\n",
    "\n",
    "b *= 6\n",
    "\n",
    "print(b)"
   ]
  },
  {
   "cell_type": "markdown",
   "id": "92454987",
   "metadata": {},
   "source": [
    "## Strings in Python"
   ]
  },
  {
   "cell_type": "markdown",
   "id": "1f7c9e43",
   "metadata": {},
   "source": [
    "Strings are created by enclosing text in either single or double quotes:"
   ]
  },
  {
   "cell_type": "code",
   "execution_count": 76,
   "id": "afeae576",
   "metadata": {},
   "outputs": [],
   "source": [
    "s = 'MTH 337. '\n",
    "\n",
    "another_string = 'All math and no play make me a dull boy'"
   ]
  },
  {
   "cell_type": "code",
   "execution_count": 77,
   "id": "bb648c35",
   "metadata": {},
   "outputs": [
    {
     "data": {
      "text/plain": [
       "'MTH 337. '"
      ]
     },
     "execution_count": 77,
     "metadata": {},
     "output_type": "execute_result"
    }
   ],
   "source": [
    "s"
   ]
  },
  {
   "cell_type": "code",
   "execution_count": 78,
   "id": "a29fe58e",
   "metadata": {},
   "outputs": [
    {
     "name": "stdout",
     "output_type": "stream",
     "text": [
      "MTH 337. \n"
     ]
    }
   ],
   "source": [
    "print(s)"
   ]
  },
  {
   "cell_type": "markdown",
   "id": "e3c09c59",
   "metadata": {},
   "source": [
    "Operations on strings:\n",
    "* We can add two strings together:"
   ]
  },
  {
   "cell_type": "code",
   "execution_count": 79,
   "id": "02eb1d18",
   "metadata": {},
   "outputs": [
    {
     "data": {
      "text/plain": [
       "'MTH 337. All math and no play make me a dull boy'"
      ]
     },
     "execution_count": 79,
     "metadata": {},
     "output_type": "execute_result"
    }
   ],
   "source": [
    "s + another_string"
   ]
  },
  {
   "cell_type": "code",
   "execution_count": 81,
   "id": "d2c438b5",
   "metadata": {},
   "outputs": [
    {
     "name": "stdout",
     "output_type": "stream",
     "text": [
      "MTH 337. All math and no play make me a dull boyAll math and no play make me a dull boy\n"
     ]
    }
   ],
   "source": [
    "combined_string = s + another_string + another_string\n",
    "print(combined_string)"
   ]
  },
  {
   "cell_type": "markdown",
   "id": "d24af167",
   "metadata": {},
   "source": [
    "* We can multiply strings by integers as well:"
   ]
  },
  {
   "cell_type": "code",
   "execution_count": 82,
   "id": "8cf9ba41",
   "metadata": {},
   "outputs": [
    {
     "name": "stdout",
     "output_type": "stream",
     "text": [
      "MTH 337. \n",
      "MTH 337. MTH 337. MTH 337. MTH 337. MTH 337. MTH 337. MTH 337. MTH 337. MTH 337. MTH 337. \n"
     ]
    }
   ],
   "source": [
    "print(s)\n",
    "\n",
    "print(s * 10)"
   ]
  },
  {
   "cell_type": "code",
   "execution_count": 84,
   "id": "b84f98b9",
   "metadata": {},
   "outputs": [
    {
     "ename": "TypeError",
     "evalue": "can't multiply sequence by non-int of type 'str'",
     "output_type": "error",
     "traceback": [
      "\u001b[1;31m---------------------------------------------------------------------------\u001b[0m",
      "\u001b[1;31mTypeError\u001b[0m                                 Traceback (most recent call last)",
      "Cell \u001b[1;32mIn[84], line 1\u001b[0m\n\u001b[1;32m----> 1\u001b[0m s \u001b[38;5;241m*\u001b[39m combined_string\n",
      "\u001b[1;31mTypeError\u001b[0m: can't multiply sequence by non-int of type 'str'"
     ]
    }
   ],
   "source": [
    "s * combined_string"
   ]
  },
  {
   "cell_type": "code",
   "execution_count": 85,
   "id": "5723afec",
   "metadata": {},
   "outputs": [
    {
     "ename": "TypeError",
     "evalue": "can't multiply sequence by non-int of type 'float'",
     "output_type": "error",
     "traceback": [
      "\u001b[1;31m---------------------------------------------------------------------------\u001b[0m",
      "\u001b[1;31mTypeError\u001b[0m                                 Traceback (most recent call last)",
      "Cell \u001b[1;32mIn[85], line 1\u001b[0m\n\u001b[1;32m----> 1\u001b[0m \u001b[38;5;241m1.5\u001b[39m \u001b[38;5;241m*\u001b[39m s\n",
      "\u001b[1;31mTypeError\u001b[0m: can't multiply sequence by non-int of type 'float'"
     ]
    }
   ],
   "source": [
    "1.5 * s"
   ]
  },
  {
   "cell_type": "markdown",
   "id": "2bbba1a1",
   "metadata": {},
   "source": [
    "We can also create multi-line strings:"
   ]
  },
  {
   "cell_type": "code",
   "execution_count": 89,
   "id": "6511e988",
   "metadata": {},
   "outputs": [
    {
     "name": "stdout",
     "output_type": "stream",
     "text": [
      "This is a multi-line string.\n",
      "This is the second line.\n",
      "I'm the third line.\n"
     ]
    }
   ],
   "source": [
    "s = '''This is a multi-line string.\n",
    "This is the second line.\n",
    "I'm the third line.'''\n",
    "\n",
    "print(s)"
   ]
  },
  {
   "cell_type": "code",
   "execution_count": 88,
   "id": "6cc2d1dc",
   "metadata": {},
   "outputs": [
    {
     "data": {
      "text/plain": [
       "'This is a multi-line string.\\nThis is the second line.\\nIm the third line.'"
      ]
     },
     "execution_count": 88,
     "metadata": {},
     "output_type": "execute_result"
    }
   ],
   "source": [
    "s"
   ]
  },
  {
   "cell_type": "code",
   "execution_count": 92,
   "id": "aab382fc",
   "metadata": {},
   "outputs": [
    {
     "name": "stdout",
     "output_type": "stream",
     "text": [
      "I'm the third line\n"
     ]
    }
   ],
   "source": [
    "print(\"I'm the third line\")"
   ]
  },
  {
   "cell_type": "markdown",
   "id": "988c613d",
   "metadata": {},
   "source": [
    "The `str()` function can be used to convert things to strings."
   ]
  },
  {
   "cell_type": "code",
   "execution_count": 95,
   "id": "ba78e3b2",
   "metadata": {},
   "outputs": [
    {
     "data": {
      "text/plain": [
       "int"
      ]
     },
     "execution_count": 95,
     "metadata": {},
     "output_type": "execute_result"
    }
   ],
   "source": [
    "type(1)"
   ]
  },
  {
   "cell_type": "code",
   "execution_count": 96,
   "id": "5d0cf5bc",
   "metadata": {},
   "outputs": [
    {
     "data": {
      "text/plain": [
       "'1'"
      ]
     },
     "execution_count": 96,
     "metadata": {},
     "output_type": "execute_result"
    }
   ],
   "source": [
    "str(1)"
   ]
  },
  {
   "cell_type": "code",
   "execution_count": 97,
   "id": "4e1bf4a3",
   "metadata": {},
   "outputs": [
    {
     "data": {
      "text/plain": [
       "5"
      ]
     },
     "execution_count": 97,
     "metadata": {},
     "output_type": "execute_result"
    }
   ],
   "source": [
    "5 * 1"
   ]
  },
  {
   "cell_type": "code",
   "execution_count": 98,
   "id": "50e46dda",
   "metadata": {},
   "outputs": [
    {
     "data": {
      "text/plain": [
       "'11111'"
      ]
     },
     "execution_count": 98,
     "metadata": {},
     "output_type": "execute_result"
    }
   ],
   "source": [
    "5 * str(1)"
   ]
  },
  {
   "cell_type": "code",
   "execution_count": 101,
   "id": "bf63dca6",
   "metadata": {},
   "outputs": [
    {
     "data": {
      "text/plain": [
       "'123.993'"
      ]
     },
     "execution_count": 101,
     "metadata": {},
     "output_type": "execute_result"
    }
   ],
   "source": [
    "str(123.99) + str(3)"
   ]
  },
  {
   "cell_type": "markdown",
   "id": "b64c1ceb",
   "metadata": {},
   "source": [
    "One example:"
   ]
  },
  {
   "cell_type": "code",
   "execution_count": 102,
   "id": "df62241f",
   "metadata": {},
   "outputs": [
    {
     "name": "stdout",
     "output_type": "stream",
     "text": [
      "My grade in MTH 337 is 87.3 points out of 100.\n"
     ]
    }
   ],
   "source": [
    "mth_337_grade = 87.3\n",
    "\n",
    "print('My grade in MTH 337 is ' + str(mth_337_grade) + ' points out of 100.')"
   ]
  },
  {
   "cell_type": "markdown",
   "id": "371ea651",
   "metadata": {},
   "source": [
    "## String formatting:"
   ]
  },
  {
   "cell_type": "markdown",
   "id": "5ab5eba1",
   "metadata": {},
   "source": [
    "The `.format()` method can used to insert values into a string:"
   ]
  },
  {
   "cell_type": "code",
   "execution_count": 103,
   "id": "f4c72562",
   "metadata": {},
   "outputs": [],
   "source": [
    "s = 'My grade in MTH 337 is {} out of 100.'"
   ]
  },
  {
   "cell_type": "code",
   "execution_count": 105,
   "id": "0a67a1aa",
   "metadata": {},
   "outputs": [
    {
     "name": "stdout",
     "output_type": "stream",
     "text": [
      "My grade in MTH 337 is 87.3 out of 100.\n"
     ]
    }
   ],
   "source": [
    "print(s.format(87.3))"
   ]
  },
  {
   "cell_type": "markdown",
   "id": "dc9a6bf4",
   "metadata": {},
   "source": [
    "We can plug several values into a string simultaneously:"
   ]
  },
  {
   "cell_type": "code",
   "execution_count": 107,
   "id": "9d502b38",
   "metadata": {},
   "outputs": [
    {
     "name": "stdout",
     "output_type": "stream",
     "text": [
      "My grade in MTH 337 is 87.3 out of 100.\n",
      "My grade in MTH 306 is 75.5 out of 150.\n"
     ]
    }
   ],
   "source": [
    "s = 'My grade in MTH {0} is {1} out of {2}.'\n",
    "\n",
    "print(s.format(337, 87.3, 100))\n",
    "print(s.format(306, 75.5, 150))"
   ]
  },
  {
   "cell_type": "markdown",
   "id": "f503b40f",
   "metadata": {},
   "source": [
    "**Exercise:**\n",
    "\n",
    "1. Define two variables to represent the integers `5` and `12`.\n",
    "2. Compute the sum of the squares of these integers.\n",
    "3. Concatenate the stringified versions of the numbers along with the result from part 2.\n",
    "4. Convert the string in part 3 to an integer and divide by 29."
   ]
  },
  {
   "cell_type": "markdown",
   "id": "9358f057",
   "metadata": {},
   "source": [
    "5. Recreate the above list in markdown."
   ]
  },
  {
   "cell_type": "code",
   "execution_count": 109,
   "id": "990ead87",
   "metadata": {},
   "outputs": [
    {
     "name": "stdout",
     "output_type": "stream",
     "text": [
      "169\n",
      "512169\n",
      "17661.0\n"
     ]
    }
   ],
   "source": [
    "w = 5\n",
    "x = 12\n",
    "\n",
    "y = w**2 + x**2\n",
    "\n",
    "z = str(w) + str(x) + str(y)\n",
    "\n",
    "alpha = int(z) / 29\n",
    "\n",
    "print(y)\n",
    "print(z)\n",
    "print(alpha)"
   ]
  },
  {
   "cell_type": "markdown",
   "id": "ddf80fe5",
   "metadata": {},
   "source": [
    "**What if we want to find the square root of a number?**"
   ]
  },
  {
   "cell_type": "code",
   "execution_count": 110,
   "id": "22ebd8ce",
   "metadata": {},
   "outputs": [
    {
     "ename": "NameError",
     "evalue": "name 'sqrt' is not defined",
     "output_type": "error",
     "traceback": [
      "\u001b[1;31m---------------------------------------------------------------------------\u001b[0m",
      "\u001b[1;31mNameError\u001b[0m                                 Traceback (most recent call last)",
      "Cell \u001b[1;32mIn[110], line 1\u001b[0m\n\u001b[1;32m----> 1\u001b[0m sqrt(\u001b[38;5;241m5\u001b[39m)\n",
      "\u001b[1;31mNameError\u001b[0m: name 'sqrt' is not defined"
     ]
    }
   ],
   "source": [
    "sqrt(5)"
   ]
  },
  {
   "cell_type": "markdown",
   "id": "aaeea49b",
   "metadata": {},
   "source": [
    "The `math` module contains many functions useful for mathematical computations. In particular, it contains a function `sqrt` for finding square roots.\n",
    "\n",
    "We import the `math` module using the `import` command:"
   ]
  },
  {
   "cell_type": "code",
   "execution_count": 111,
   "id": "100b8459",
   "metadata": {},
   "outputs": [],
   "source": [
    "import math"
   ]
  },
  {
   "cell_type": "code",
   "execution_count": 113,
   "id": "e6ac2a82",
   "metadata": {},
   "outputs": [
    {
     "data": {
      "text/plain": [
       "2.23606797749979"
      ]
     },
     "execution_count": 113,
     "metadata": {},
     "output_type": "execute_result"
    }
   ],
   "source": [
    "math.sqrt(5)"
   ]
  },
  {
   "cell_type": "code",
   "execution_count": 114,
   "id": "1bd9a218",
   "metadata": {},
   "outputs": [
    {
     "name": "stdout",
     "output_type": "stream",
     "text": [
      "Help on built-in module math:\n",
      "\n",
      "NAME\n",
      "    math\n",
      "\n",
      "DESCRIPTION\n",
      "    This module provides access to the mathematical functions\n",
      "    defined by the C standard.\n",
      "\n",
      "FUNCTIONS\n",
      "    acos(x, /)\n",
      "        Return the arc cosine (measured in radians) of x.\n",
      "        \n",
      "        The result is between 0 and pi.\n",
      "    \n",
      "    acosh(x, /)\n",
      "        Return the inverse hyperbolic cosine of x.\n",
      "    \n",
      "    asin(x, /)\n",
      "        Return the arc sine (measured in radians) of x.\n",
      "        \n",
      "        The result is between -pi/2 and pi/2.\n",
      "    \n",
      "    asinh(x, /)\n",
      "        Return the inverse hyperbolic sine of x.\n",
      "    \n",
      "    atan(x, /)\n",
      "        Return the arc tangent (measured in radians) of x.\n",
      "        \n",
      "        The result is between -pi/2 and pi/2.\n",
      "    \n",
      "    atan2(y, x, /)\n",
      "        Return the arc tangent (measured in radians) of y/x.\n",
      "        \n",
      "        Unlike atan(y/x), the signs of both x and y are considered.\n",
      "    \n",
      "    atanh(x, /)\n",
      "        Return the inverse hyperbolic tangent of x.\n",
      "    \n",
      "    cbrt(x, /)\n",
      "        Return the cube root of x.\n",
      "    \n",
      "    ceil(x, /)\n",
      "        Return the ceiling of x as an Integral.\n",
      "        \n",
      "        This is the smallest integer >= x.\n",
      "    \n",
      "    comb(n, k, /)\n",
      "        Number of ways to choose k items from n items without repetition and without order.\n",
      "        \n",
      "        Evaluates to n! / (k! * (n - k)!) when k <= n and evaluates\n",
      "        to zero when k > n.\n",
      "        \n",
      "        Also called the binomial coefficient because it is equivalent\n",
      "        to the coefficient of k-th term in polynomial expansion of the\n",
      "        expression (1 + x)**n.\n",
      "        \n",
      "        Raises TypeError if either of the arguments are not integers.\n",
      "        Raises ValueError if either of the arguments are negative.\n",
      "    \n",
      "    copysign(x, y, /)\n",
      "        Return a float with the magnitude (absolute value) of x but the sign of y.\n",
      "        \n",
      "        On platforms that support signed zeros, copysign(1.0, -0.0)\n",
      "        returns -1.0.\n",
      "    \n",
      "    cos(x, /)\n",
      "        Return the cosine of x (measured in radians).\n",
      "    \n",
      "    cosh(x, /)\n",
      "        Return the hyperbolic cosine of x.\n",
      "    \n",
      "    degrees(x, /)\n",
      "        Convert angle x from radians to degrees.\n",
      "    \n",
      "    dist(p, q, /)\n",
      "        Return the Euclidean distance between two points p and q.\n",
      "        \n",
      "        The points should be specified as sequences (or iterables) of\n",
      "        coordinates.  Both inputs must have the same dimension.\n",
      "        \n",
      "        Roughly equivalent to:\n",
      "            sqrt(sum((px - qx) ** 2.0 for px, qx in zip(p, q)))\n",
      "    \n",
      "    erf(x, /)\n",
      "        Error function at x.\n",
      "    \n",
      "    erfc(x, /)\n",
      "        Complementary error function at x.\n",
      "    \n",
      "    exp(x, /)\n",
      "        Return e raised to the power of x.\n",
      "    \n",
      "    exp2(x, /)\n",
      "        Return 2 raised to the power of x.\n",
      "    \n",
      "    expm1(x, /)\n",
      "        Return exp(x)-1.\n",
      "        \n",
      "        This function avoids the loss of precision involved in the direct evaluation of exp(x)-1 for small x.\n",
      "    \n",
      "    fabs(x, /)\n",
      "        Return the absolute value of the float x.\n",
      "    \n",
      "    factorial(n, /)\n",
      "        Find n!.\n",
      "        \n",
      "        Raise a ValueError if x is negative or non-integral.\n",
      "    \n",
      "    floor(x, /)\n",
      "        Return the floor of x as an Integral.\n",
      "        \n",
      "        This is the largest integer <= x.\n",
      "    \n",
      "    fmod(x, y, /)\n",
      "        Return fmod(x, y), according to platform C.\n",
      "        \n",
      "        x % y may differ.\n",
      "    \n",
      "    frexp(x, /)\n",
      "        Return the mantissa and exponent of x, as pair (m, e).\n",
      "        \n",
      "        m is a float and e is an int, such that x = m * 2.**e.\n",
      "        If x is 0, m and e are both 0.  Else 0.5 <= abs(m) < 1.0.\n",
      "    \n",
      "    fsum(seq, /)\n",
      "        Return an accurate floating point sum of values in the iterable seq.\n",
      "        \n",
      "        Assumes IEEE-754 floating point arithmetic.\n",
      "    \n",
      "    gamma(x, /)\n",
      "        Gamma function at x.\n",
      "    \n",
      "    gcd(*integers)\n",
      "        Greatest Common Divisor.\n",
      "    \n",
      "    hypot(...)\n",
      "        hypot(*coordinates) -> value\n",
      "        \n",
      "        Multidimensional Euclidean distance from the origin to a point.\n",
      "        \n",
      "        Roughly equivalent to:\n",
      "            sqrt(sum(x**2 for x in coordinates))\n",
      "        \n",
      "        For a two dimensional point (x, y), gives the hypotenuse\n",
      "        using the Pythagorean theorem:  sqrt(x*x + y*y).\n",
      "        \n",
      "        For example, the hypotenuse of a 3/4/5 right triangle is:\n",
      "        \n",
      "            >>> hypot(3.0, 4.0)\n",
      "            5.0\n",
      "    \n",
      "    isclose(a, b, *, rel_tol=1e-09, abs_tol=0.0)\n",
      "        Determine whether two floating point numbers are close in value.\n",
      "        \n",
      "          rel_tol\n",
      "            maximum difference for being considered \"close\", relative to the\n",
      "            magnitude of the input values\n",
      "          abs_tol\n",
      "            maximum difference for being considered \"close\", regardless of the\n",
      "            magnitude of the input values\n",
      "        \n",
      "        Return True if a is close in value to b, and False otherwise.\n",
      "        \n",
      "        For the values to be considered close, the difference between them\n",
      "        must be smaller than at least one of the tolerances.\n",
      "        \n",
      "        -inf, inf and NaN behave similarly to the IEEE 754 Standard.  That\n",
      "        is, NaN is not close to anything, even itself.  inf and -inf are\n",
      "        only close to themselves.\n",
      "    \n",
      "    isfinite(x, /)\n",
      "        Return True if x is neither an infinity nor a NaN, and False otherwise.\n",
      "    \n",
      "    isinf(x, /)\n",
      "        Return True if x is a positive or negative infinity, and False otherwise.\n",
      "    \n",
      "    isnan(x, /)\n",
      "        Return True if x is a NaN (not a number), and False otherwise.\n",
      "    \n",
      "    isqrt(n, /)\n",
      "        Return the integer part of the square root of the input.\n",
      "    \n",
      "    lcm(*integers)\n",
      "        Least Common Multiple.\n",
      "    \n",
      "    ldexp(x, i, /)\n",
      "        Return x * (2**i).\n",
      "        \n",
      "        This is essentially the inverse of frexp().\n",
      "    \n",
      "    lgamma(x, /)\n",
      "        Natural logarithm of absolute value of Gamma function at x.\n",
      "    \n",
      "    log(...)\n",
      "        log(x, [base=math.e])\n",
      "        Return the logarithm of x to the given base.\n",
      "        \n",
      "        If the base not specified, returns the natural logarithm (base e) of x.\n",
      "    \n",
      "    log10(x, /)\n",
      "        Return the base 10 logarithm of x.\n",
      "    \n",
      "    log1p(x, /)\n",
      "        Return the natural logarithm of 1+x (base e).\n",
      "        \n",
      "        The result is computed in a way which is accurate for x near zero.\n",
      "    \n",
      "    log2(x, /)\n",
      "        Return the base 2 logarithm of x.\n",
      "    \n",
      "    modf(x, /)\n",
      "        Return the fractional and integer parts of x.\n",
      "        \n",
      "        Both results carry the sign of x and are floats.\n",
      "    \n",
      "    nextafter(x, y, /)\n",
      "        Return the next floating-point value after x towards y.\n",
      "    \n",
      "    perm(n, k=None, /)\n",
      "        Number of ways to choose k items from n items without repetition and with order.\n",
      "        \n",
      "        Evaluates to n! / (n - k)! when k <= n and evaluates\n",
      "        to zero when k > n.\n",
      "        \n",
      "        If k is not specified or is None, then k defaults to n\n",
      "        and the function returns n!.\n",
      "        \n",
      "        Raises TypeError if either of the arguments are not integers.\n",
      "        Raises ValueError if either of the arguments are negative.\n",
      "    \n",
      "    pow(x, y, /)\n",
      "        Return x**y (x to the power of y).\n",
      "    \n",
      "    prod(iterable, /, *, start=1)\n",
      "        Calculate the product of all the elements in the input iterable.\n",
      "        \n",
      "        The default start value for the product is 1.\n",
      "        \n",
      "        When the iterable is empty, return the start value.  This function is\n",
      "        intended specifically for use with numeric values and may reject\n",
      "        non-numeric types.\n",
      "    \n",
      "    radians(x, /)\n",
      "        Convert angle x from degrees to radians.\n",
      "    \n",
      "    remainder(x, y, /)\n",
      "        Difference between x and the closest integer multiple of y.\n",
      "        \n",
      "        Return x - n*y where n*y is the closest integer multiple of y.\n",
      "        In the case where x is exactly halfway between two multiples of\n",
      "        y, the nearest even value of n is used. The result is always exact.\n",
      "    \n",
      "    sin(x, /)\n",
      "        Return the sine of x (measured in radians).\n",
      "    \n",
      "    sinh(x, /)\n",
      "        Return the hyperbolic sine of x.\n",
      "    \n",
      "    sqrt(x, /)\n",
      "        Return the square root of x.\n",
      "    \n",
      "    tan(x, /)\n",
      "        Return the tangent of x (measured in radians).\n",
      "    \n",
      "    tanh(x, /)\n",
      "        Return the hyperbolic tangent of x.\n",
      "    \n",
      "    trunc(x, /)\n",
      "        Truncates the Real x to the nearest Integral toward 0.\n",
      "        \n",
      "        Uses the __trunc__ magic method.\n",
      "    \n",
      "    ulp(x, /)\n",
      "        Return the value of the least significant bit of the float x.\n",
      "\n",
      "DATA\n",
      "    e = 2.718281828459045\n",
      "    inf = inf\n",
      "    nan = nan\n",
      "    pi = 3.141592653589793\n",
      "    tau = 6.283185307179586\n",
      "\n",
      "FILE\n",
      "    (built-in)\n",
      "\n",
      "\n"
     ]
    }
   ],
   "source": [
    "help(math)"
   ]
  },
  {
   "cell_type": "code",
   "execution_count": 115,
   "id": "11b1d1e0",
   "metadata": {},
   "outputs": [
    {
     "name": "stdout",
     "output_type": "stream",
     "text": [
      "Help on built-in function sqrt in module math:\n",
      "\n",
      "sqrt(x, /)\n",
      "    Return the square root of x.\n",
      "\n"
     ]
    }
   ],
   "source": [
    "help(math.sqrt)"
   ]
  },
  {
   "cell_type": "code",
   "execution_count": 117,
   "id": "d20df2f6",
   "metadata": {},
   "outputs": [
    {
     "data": {
      "text/plain": [
       "0.28366218546322625"
      ]
     },
     "execution_count": 117,
     "metadata": {},
     "output_type": "execute_result"
    }
   ],
   "source": [
    "math.cos(5)"
   ]
  },
  {
   "cell_type": "code",
   "execution_count": 118,
   "id": "6e7e0057",
   "metadata": {},
   "outputs": [
    {
     "data": {
      "text/plain": [
       "3.141592653589793"
      ]
     },
     "execution_count": 118,
     "metadata": {},
     "output_type": "execute_result"
    }
   ],
   "source": [
    "math.pi"
   ]
  },
  {
   "cell_type": "code",
   "execution_count": 120,
   "id": "6b394023",
   "metadata": {},
   "outputs": [
    {
     "data": {
      "text/plain": [
       "0.9034211335448142"
      ]
     },
     "execution_count": 120,
     "metadata": {},
     "output_type": "execute_result"
    }
   ],
   "source": [
    "math.cos(math.sqrt(math.pi)/4)"
   ]
  },
  {
   "cell_type": "markdown",
   "id": "dc249485",
   "metadata": {},
   "source": [
    "If there are specific things we want from the `math` module, we can import them directly into the variable space:"
   ]
  },
  {
   "cell_type": "code",
   "execution_count": 121,
   "id": "bf6a3f0a",
   "metadata": {},
   "outputs": [],
   "source": [
    "from math import cos"
   ]
  },
  {
   "cell_type": "code",
   "execution_count": 122,
   "id": "59f14934",
   "metadata": {},
   "outputs": [
    {
     "data": {
      "text/plain": [
       "0.7071067811865476"
      ]
     },
     "execution_count": 122,
     "metadata": {},
     "output_type": "execute_result"
    }
   ],
   "source": [
    "cos(math.pi/4)"
   ]
  },
  {
   "cell_type": "code",
   "execution_count": 123,
   "id": "e9eb87f0",
   "metadata": {},
   "outputs": [
    {
     "ename": "NameError",
     "evalue": "name 'pi' is not defined",
     "output_type": "error",
     "traceback": [
      "\u001b[1;31m---------------------------------------------------------------------------\u001b[0m",
      "\u001b[1;31mNameError\u001b[0m                                 Traceback (most recent call last)",
      "Cell \u001b[1;32mIn[123], line 1\u001b[0m\n\u001b[1;32m----> 1\u001b[0m cos(pi\u001b[38;5;241m/\u001b[39m\u001b[38;5;241m4\u001b[39m)\n",
      "\u001b[1;31mNameError\u001b[0m: name 'pi' is not defined"
     ]
    }
   ],
   "source": [
    "cos(pi/4)"
   ]
  },
  {
   "cell_type": "code",
   "execution_count": 124,
   "id": "2f79bc94",
   "metadata": {},
   "outputs": [],
   "source": [
    "from math import pi"
   ]
  },
  {
   "cell_type": "code",
   "execution_count": 125,
   "id": "911a3da6",
   "metadata": {},
   "outputs": [
    {
     "data": {
      "text/plain": [
       "0.7071067811865476"
      ]
     },
     "execution_count": 125,
     "metadata": {},
     "output_type": "execute_result"
    }
   ],
   "source": [
    "cos(pi/4)"
   ]
  },
  {
   "cell_type": "markdown",
   "id": "83334c2a",
   "metadata": {},
   "source": [
    "We can import several things at once:"
   ]
  },
  {
   "cell_type": "code",
   "execution_count": 126,
   "id": "e62115c1",
   "metadata": {},
   "outputs": [],
   "source": [
    "from math import sin, cos, tan"
   ]
  },
  {
   "cell_type": "code",
   "execution_count": 127,
   "id": "7b22a008",
   "metadata": {},
   "outputs": [
    {
     "data": {
      "text/plain": [
       "0.8660254037844386"
      ]
     },
     "execution_count": 127,
     "metadata": {},
     "output_type": "execute_result"
    }
   ],
   "source": [
    "sin(pi/3)"
   ]
  },
  {
   "cell_type": "code",
   "execution_count": 129,
   "id": "cd45dfa3",
   "metadata": {},
   "outputs": [
    {
     "ename": "NameError",
     "evalue": "name 'exp' is not defined",
     "output_type": "error",
     "traceback": [
      "\u001b[1;31m---------------------------------------------------------------------------\u001b[0m",
      "\u001b[1;31mNameError\u001b[0m                                 Traceback (most recent call last)",
      "Cell \u001b[1;32mIn[129], line 1\u001b[0m\n\u001b[1;32m----> 1\u001b[0m exp(\u001b[38;5;241m5\u001b[39m)\n",
      "\u001b[1;31mNameError\u001b[0m: name 'exp' is not defined"
     ]
    }
   ],
   "source": [
    "exp(5)"
   ]
  },
  {
   "cell_type": "code",
   "execution_count": 130,
   "id": "21c17ef4",
   "metadata": {},
   "outputs": [
    {
     "data": {
      "text/plain": [
       "148.4131591025766"
      ]
     },
     "execution_count": 130,
     "metadata": {},
     "output_type": "execute_result"
    }
   ],
   "source": [
    "math.exp(5)"
   ]
  },
  {
   "cell_type": "markdown",
   "id": "b6b3cd7c",
   "metadata": {},
   "source": [
    "We can also import a module and give it a short-hand name:"
   ]
  },
  {
   "cell_type": "code",
   "execution_count": 131,
   "id": "350f0e84",
   "metadata": {},
   "outputs": [],
   "source": [
    "import math as m"
   ]
  },
  {
   "cell_type": "code",
   "execution_count": 132,
   "id": "9f9a712b",
   "metadata": {},
   "outputs": [
    {
     "data": {
      "text/plain": [
       "<function math.sqrt(x, /)>"
      ]
     },
     "execution_count": 132,
     "metadata": {},
     "output_type": "execute_result"
    }
   ],
   "source": [
    "m.sqrt"
   ]
  },
  {
   "cell_type": "markdown",
   "id": "d252c6be",
   "metadata": {},
   "source": [
    "If we want to bring everything from a module into our variable space, we can use `from math import *`:"
   ]
  },
  {
   "cell_type": "code",
   "execution_count": 133,
   "id": "ef3ceb85",
   "metadata": {},
   "outputs": [],
   "source": [
    "from math import *"
   ]
  },
  {
   "cell_type": "code",
   "execution_count": 136,
   "id": "a9496976",
   "metadata": {},
   "outputs": [
    {
     "data": {
      "text/plain": [
       "2.718281828459045"
      ]
     },
     "execution_count": 136,
     "metadata": {},
     "output_type": "execute_result"
    }
   ],
   "source": [
    "e"
   ]
  },
  {
   "cell_type": "markdown",
   "id": "dd5d0f1c",
   "metadata": {},
   "source": [
    "**Warning:** Be very careful when importing everything from a module since it might overwrite an existing variable that we've defined."
   ]
  },
  {
   "cell_type": "code",
   "execution_count": 137,
   "id": "621f1597",
   "metadata": {},
   "outputs": [
    {
     "name": "stdout",
     "output_type": "stream",
     "text": [
      "100\n",
      "2.718281828459045\n"
     ]
    }
   ],
   "source": [
    "e = 100\n",
    "\n",
    "print(e)\n",
    "\n",
    "from math import *\n",
    "\n",
    "print(e)"
   ]
  },
  {
   "cell_type": "markdown",
   "id": "1bc4fa01",
   "metadata": {},
   "source": [
    "## Boolean values and expressions"
   ]
  },
  {
   "cell_type": "markdown",
   "id": "4e480130",
   "metadata": {},
   "source": [
    "There are two Boolean values: `True` and `False`.\n",
    "\n",
    "A Boolean expression is a statement that evaluates to either `True` or `False`."
   ]
  },
  {
   "cell_type": "code",
   "execution_count": 138,
   "id": "8c34c345",
   "metadata": {},
   "outputs": [
    {
     "data": {
      "text/plain": [
       "True"
      ]
     },
     "execution_count": 138,
     "metadata": {},
     "output_type": "execute_result"
    }
   ],
   "source": [
    "5 < 6"
   ]
  },
  {
   "cell_type": "code",
   "execution_count": 139,
   "id": "76615127",
   "metadata": {},
   "outputs": [
    {
     "data": {
      "text/plain": [
       "False"
      ]
     },
     "execution_count": 139,
     "metadata": {},
     "output_type": "execute_result"
    }
   ],
   "source": [
    "6 < 6"
   ]
  },
  {
   "cell_type": "code",
   "execution_count": 140,
   "id": "f8ab991c",
   "metadata": {},
   "outputs": [
    {
     "data": {
      "text/plain": [
       "True"
      ]
     },
     "execution_count": 140,
     "metadata": {},
     "output_type": "execute_result"
    }
   ],
   "source": [
    "6 >= 6"
   ]
  },
  {
   "cell_type": "markdown",
   "id": "65f9520e",
   "metadata": {},
   "source": [
    "The double equality symbol `==` is used to check if two quantities are equal:"
   ]
  },
  {
   "cell_type": "code",
   "execution_count": 142,
   "id": "ce2b1c4f",
   "metadata": {},
   "outputs": [
    {
     "data": {
      "text/plain": [
       "False"
      ]
     },
     "execution_count": 142,
     "metadata": {},
     "output_type": "execute_result"
    }
   ],
   "source": [
    "5 == 6"
   ]
  },
  {
   "cell_type": "markdown",
   "id": "e65285ce",
   "metadata": {},
   "source": [
    "We can check if two things are not equal to one another using `!=`"
   ]
  },
  {
   "cell_type": "code",
   "execution_count": 143,
   "id": "cb741276",
   "metadata": {},
   "outputs": [
    {
     "data": {
      "text/plain": [
       "True"
      ]
     },
     "execution_count": 143,
     "metadata": {},
     "output_type": "execute_result"
    }
   ],
   "source": [
    "5 != 6"
   ]
  },
  {
   "cell_type": "code",
   "execution_count": 144,
   "id": "1df402b0",
   "metadata": {},
   "outputs": [
    {
     "data": {
      "text/plain": [
       "False"
      ]
     },
     "execution_count": 144,
     "metadata": {},
     "output_type": "execute_result"
    }
   ],
   "source": [
    "6 != 6"
   ]
  },
  {
   "cell_type": "code",
   "execution_count": 145,
   "id": "85baf835",
   "metadata": {},
   "outputs": [
    {
     "data": {
      "text/plain": [
       "True"
      ]
     },
     "execution_count": 145,
     "metadata": {},
     "output_type": "execute_result"
    }
   ],
   "source": [
    "1 == 1.0"
   ]
  },
  {
   "cell_type": "code",
   "execution_count": 146,
   "id": "c978c6c2",
   "metadata": {},
   "outputs": [
    {
     "data": {
      "text/plain": [
       "False"
      ]
     },
     "execution_count": 146,
     "metadata": {},
     "output_type": "execute_result"
    }
   ],
   "source": [
    "'1' == 1"
   ]
  },
  {
   "cell_type": "code",
   "execution_count": 147,
   "id": "d4506ffa",
   "metadata": {},
   "outputs": [
    {
     "data": {
      "text/plain": [
       "True"
      ]
     },
     "execution_count": 147,
     "metadata": {},
     "output_type": "execute_result"
    }
   ],
   "source": [
    "'ab' == 'a' + 'b'"
   ]
  },
  {
   "cell_type": "markdown",
   "id": "f62f8ba4",
   "metadata": {},
   "source": [
    "We can also string inequalities together:"
   ]
  },
  {
   "cell_type": "code",
   "execution_count": 148,
   "id": "a25f4a85",
   "metadata": {},
   "outputs": [
    {
     "data": {
      "text/plain": [
       "True"
      ]
     },
     "execution_count": 148,
     "metadata": {},
     "output_type": "execute_result"
    }
   ],
   "source": [
    "1 < 4 <= 6"
   ]
  },
  {
   "cell_type": "code",
   "execution_count": 149,
   "id": "9f8c0f25",
   "metadata": {},
   "outputs": [
    {
     "data": {
      "text/plain": [
       "False"
      ]
     },
     "execution_count": 149,
     "metadata": {},
     "output_type": "execute_result"
    }
   ],
   "source": [
    "1 < 7 <= 6"
   ]
  },
  {
   "cell_type": "markdown",
   "id": "8c0b5d7e",
   "metadata": {},
   "source": [
    "## The `if` statement"
   ]
  },
  {
   "cell_type": "code",
   "execution_count": 159,
   "id": "2f6a728a",
   "metadata": {},
   "outputs": [
    {
     "name": "stdout",
     "output_type": "stream",
     "text": [
      "5 is a small number\n",
      "Hello!\n",
      "Done!\n"
     ]
    }
   ],
   "source": [
    "a = 5\n",
    "\n",
    "if a < 10:\n",
    "    print('{0} is a small number'.format(a))\n",
    "    \n",
    "    print('Hello!')\n",
    "    \n",
    "print('Done!')"
   ]
  },
  {
   "cell_type": "markdown",
   "id": "b86e4eeb",
   "metadata": {},
   "source": [
    "In Python, the spacing and tabbing is **critical!!!**"
   ]
  },
  {
   "cell_type": "markdown",
   "id": "85272dc1",
   "metadata": {},
   "source": [
    "We can use `else` following an `if` statement to do something if the Boolean expression is `False`:"
   ]
  },
  {
   "cell_type": "code",
   "execution_count": 160,
   "id": "99c7951a",
   "metadata": {},
   "outputs": [
    {
     "name": "stdout",
     "output_type": "stream",
     "text": [
      "15 is not a small number\n"
     ]
    }
   ],
   "source": [
    "a = 15\n",
    "\n",
    "if a < 10:\n",
    "    print('{0} is a small number'.format(a))\n",
    "else:\n",
    "    print('{0} is not a small number'.format(a))"
   ]
  },
  {
   "cell_type": "markdown",
   "id": "f107c795",
   "metadata": {},
   "source": [
    "We can use `elif` (which is short for \"else if\") to make chained conditional statements:"
   ]
  },
  {
   "cell_type": "code",
   "execution_count": 167,
   "id": "4a20a8f3",
   "metadata": {},
   "outputs": [
    {
     "name": "stdout",
     "output_type": "stream",
     "text": [
      "550 is a large number\n",
      "Done!\n"
     ]
    }
   ],
   "source": [
    "a = 550\n",
    "\n",
    "if a < 10:\n",
    "    print('{0} is small number'.format(a))\n",
    "elif a < 50:\n",
    "    print('{0} is a medium number'.format(a))\n",
    "elif a < 200:\n",
    "    print('{0} is a medium-large number'.format(a))\n",
    "else:\n",
    "    print('{0} is a large number'.format(a))\n",
    "    \n",
    "print('Done!')"
   ]
  },
  {
   "cell_type": "markdown",
   "id": "801ff79a",
   "metadata": {},
   "source": [
    "We always need to start with `if`, and `else` must be at the end if it is to be included. Python will go through each Boolean expression starting at the top, find the first one that returns `True`, then evaluate the block associated to that expression. Once it a block, it goes to the end of the full `if` statement. "
   ]
  },
  {
   "cell_type": "markdown",
   "id": "463e121b",
   "metadata": {},
   "source": [
    "**Exercise:**\n",
    "\n",
    "Given two integers, `a = 5` and `b = 7`:\n",
    "\n",
    "Print the product of `a` and `b` if the product is greater than 10,000. Otherwise, print the sum of `a` and `b`."
   ]
  },
  {
   "cell_type": "code",
   "execution_count": 170,
   "id": "c8807fe1",
   "metadata": {},
   "outputs": [
    {
     "name": "stdout",
     "output_type": "stream",
     "text": [
      "35000\n"
     ]
    }
   ],
   "source": [
    "a = 5000\n",
    "b = 7\n",
    "\n",
    "prod = a*b\n",
    "\n",
    "if prod > 10000:\n",
    "    print(prod)\n",
    "else:\n",
    "    print(a + b)"
   ]
  },
  {
   "cell_type": "code",
   "execution_count": null,
   "id": "f73923ce",
   "metadata": {},
   "outputs": [],
   "source": []
  }
 ],
 "metadata": {
  "kernelspec": {
   "display_name": "Python 3 (ipykernel)",
   "language": "python",
   "name": "python3"
  },
  "language_info": {
   "codemirror_mode": {
    "name": "ipython",
    "version": 3
   },
   "file_extension": ".py",
   "mimetype": "text/x-python",
   "name": "python",
   "nbconvert_exporter": "python",
   "pygments_lexer": "ipython3",
   "version": "3.11.5"
  }
 },
 "nbformat": 4,
 "nbformat_minor": 5
}
