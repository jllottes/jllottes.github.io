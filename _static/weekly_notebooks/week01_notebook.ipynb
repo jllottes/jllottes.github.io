{
 "cells": [
  {
   "cell_type": "markdown",
   "id": "c436023e",
   "metadata": {},
   "source": [
    "# Monday, August 25th, 2025"
   ]
  },
  {
   "cell_type": "markdown",
   "id": "ca869e18",
   "metadata": {},
   "source": [
    "# Getting started with Jupyter notebook\n",
    "\n",
    " - We can execute a cell using `SHIFT` + `ENTER`.\n",
    " - We can add a new cell using the plus symbol in the top-left corner. Alternatively, you can select a cell and hit `A` to add a cell above, or `B` to add a cell below.\n",
    " - We can delete a cell by selecting hit, then hitting `D`, `D`."
   ]
  },
  {
   "cell_type": "code",
   "execution_count": 1,
   "id": "6cf20539",
   "metadata": {},
   "outputs": [
    {
     "data": {
      "text/plain": [
       "9"
      ]
     },
     "execution_count": 1,
     "metadata": {},
     "output_type": "execute_result"
    }
   ],
   "source": [
    "2 + 7"
   ]
  },
  {
   "cell_type": "code",
   "execution_count": 3,
   "id": "1ab039bc-d5b2-402f-86e0-ab688b634834",
   "metadata": {},
   "outputs": [
    {
     "data": {
      "text/plain": [
       "107"
      ]
     },
     "execution_count": 3,
     "metadata": {},
     "output_type": "execute_result"
    }
   ],
   "source": [
    "100 + 7"
   ]
  },
  {
   "cell_type": "markdown",
   "id": "687fc4f8",
   "metadata": {},
   "source": [
    "## Arithmetic operations"
   ]
  },
  {
   "cell_type": "markdown",
   "id": "5eade559-dd94-4e5f-a029-4c652dd144a5",
   "metadata": {},
   "source": [
    "Addition:"
   ]
  },
  {
   "cell_type": "code",
   "execution_count": 4,
   "id": "cc7eaadc",
   "metadata": {},
   "outputs": [
    {
     "data": {
      "text/plain": [
       "403"
      ]
     },
     "execution_count": 4,
     "metadata": {},
     "output_type": "execute_result"
    }
   ],
   "source": [
    "400 + 3"
   ]
  },
  {
   "cell_type": "markdown",
   "id": "23de3f86-a848-4ce9-abba-f0dcf0879086",
   "metadata": {},
   "source": [
    "Subtraction:"
   ]
  },
  {
   "cell_type": "code",
   "execution_count": 5,
   "id": "7b2fee7d",
   "metadata": {},
   "outputs": [
    {
     "data": {
      "text/plain": [
       "295"
      ]
     },
     "execution_count": 5,
     "metadata": {},
     "output_type": "execute_result"
    }
   ],
   "source": [
    "300 - 5"
   ]
  },
  {
   "cell_type": "markdown",
   "id": "ab9ae37c-3af0-4b11-bc95-bb4d02aaf068",
   "metadata": {},
   "source": [
    "Multiplication:"
   ]
  },
  {
   "cell_type": "code",
   "execution_count": 6,
   "id": "1dea3766",
   "metadata": {},
   "outputs": [
    {
     "data": {
      "text/plain": [
       "150"
      ]
     },
     "execution_count": 6,
     "metadata": {},
     "output_type": "execute_result"
    }
   ],
   "source": [
    "50 * 3"
   ]
  },
  {
   "cell_type": "markdown",
   "id": "1a2b124d-8974-418f-a3d1-4ab0d3043ed2",
   "metadata": {},
   "source": [
    "Division:"
   ]
  },
  {
   "cell_type": "code",
   "execution_count": 7,
   "id": "1c20501f",
   "metadata": {},
   "outputs": [
    {
     "data": {
      "text/plain": [
       "5.0"
      ]
     },
     "execution_count": 7,
     "metadata": {},
     "output_type": "execute_result"
    }
   ],
   "source": [
    "10 / 2"
   ]
  },
  {
   "cell_type": "markdown",
   "id": "cb0f38d7-da6b-4c6f-9ff6-9b3b3528d1a8",
   "metadata": {},
   "source": [
    "Exponentiation:"
   ]
  },
  {
   "cell_type": "code",
   "execution_count": 8,
   "id": "d09c3615",
   "metadata": {},
   "outputs": [
    {
     "data": {
      "text/plain": [
       "7"
      ]
     },
     "execution_count": 8,
     "metadata": {},
     "output_type": "execute_result"
    }
   ],
   "source": [
    "2^5"
   ]
  },
  {
   "cell_type": "markdown",
   "id": "e90b1b18",
   "metadata": {},
   "source": [
    "To perform exponentiation, use `**` or the `pow` function instead of `^`:"
   ]
  },
  {
   "cell_type": "code",
   "execution_count": 10,
   "id": "d2e4ba55",
   "metadata": {},
   "outputs": [
    {
     "data": {
      "text/plain": [
       "32"
      ]
     },
     "execution_count": 10,
     "metadata": {},
     "output_type": "execute_result"
    }
   ],
   "source": [
    "2**5"
   ]
  },
  {
   "cell_type": "code",
   "execution_count": 11,
   "id": "650f3161-8c8e-49af-9478-d1255f66727d",
   "metadata": {},
   "outputs": [
    {
     "data": {
      "text/plain": [
       "32"
      ]
     },
     "execution_count": 11,
     "metadata": {},
     "output_type": "execute_result"
    }
   ],
   "source": [
    "pow(2,5)"
   ]
  },
  {
   "cell_type": "markdown",
   "id": "75e8cf05",
   "metadata": {},
   "source": [
    "Using the standard division `/` will return what is called a **float**."
   ]
  },
  {
   "cell_type": "code",
   "execution_count": 13,
   "id": "d18e6eff-5c48-44b6-90fc-4c0ff58fabc0",
   "metadata": {},
   "outputs": [
    {
     "data": {
      "text/plain": [
       "2.5"
      ]
     },
     "execution_count": 13,
     "metadata": {},
     "output_type": "execute_result"
    }
   ],
   "source": [
    "5 / 2"
   ]
  },
  {
   "cell_type": "code",
   "execution_count": 12,
   "id": "95e6e5a8-5269-4fbb-a68d-fe70d4fb81dd",
   "metadata": {},
   "outputs": [
    {
     "data": {
      "text/plain": [
       "2.0"
      ]
     },
     "execution_count": 12,
     "metadata": {},
     "output_type": "execute_result"
    }
   ],
   "source": [
    "6/3"
   ]
  },
  {
   "cell_type": "code",
   "execution_count": 14,
   "id": "6f768796-50fa-4f0b-b31a-bf656ec1f7f9",
   "metadata": {},
   "outputs": [
    {
     "data": {
      "text/plain": [
       "1.6666666666666667"
      ]
     },
     "execution_count": 14,
     "metadata": {},
     "output_type": "execute_result"
    }
   ],
   "source": [
    "5 / 3"
   ]
  },
  {
   "cell_type": "markdown",
   "id": "fecda49e",
   "metadata": {},
   "source": [
    "## Integers vs floats\n",
    "\n",
    " - integers = numbers without any decimal point\n",
    " - floats = numbers with a decimal point\n",
    " - operations on integers are exact\n",
    " - operations on floats are approximate\n",
    " - integers can be arbitrarily large, but floats are represented only within a finite range."
   ]
  },
  {
   "cell_type": "code",
   "execution_count": 15,
   "id": "50c763ae-1187-4d65-a8b1-af8d889c1170",
   "metadata": {},
   "outputs": [
    {
     "data": {
      "text/plain": [
       "1.2676506002282294e+30"
      ]
     },
     "execution_count": 15,
     "metadata": {},
     "output_type": "execute_result"
    }
   ],
   "source": [
    "2.0 ** 100"
   ]
  },
  {
   "cell_type": "code",
   "execution_count": 16,
   "id": "8428d3ba-b4d3-44bb-a948-f98421230432",
   "metadata": {},
   "outputs": [
    {
     "data": {
      "text/plain": [
       "1267650600228229401496703205376"
      ]
     },
     "execution_count": 16,
     "metadata": {},
     "output_type": "execute_result"
    }
   ],
   "source": [
    "2**100"
   ]
  },
  {
   "cell_type": "code",
   "execution_count": 23,
   "id": "97d71aff-f002-491d-b530-83f746cf040e",
   "metadata": {},
   "outputs": [
    {
     "ename": "OverflowError",
     "evalue": "(34, 'Result too large')",
     "output_type": "error",
     "traceback": [
      "\u001b[1;31m---------------------------------------------------------------------------\u001b[0m",
      "\u001b[1;31mOverflowError\u001b[0m                             Traceback (most recent call last)",
      "Cell \u001b[1;32mIn[23], line 1\u001b[0m\n\u001b[1;32m----> 1\u001b[0m \u001b[38;5;241m2.0\u001b[39m\u001b[38;5;241m*\u001b[39m\u001b[38;5;241m*\u001b[39m\u001b[38;5;241m1200\u001b[39m\n",
      "\u001b[1;31mOverflowError\u001b[0m: (34, 'Result too large')"
     ]
    }
   ],
   "source": [
    "2.0**1200"
   ]
  },
  {
   "cell_type": "code",
   "execution_count": 24,
   "id": "1a6fc337-644e-4317-a0c1-27dc6e19194d",
   "metadata": {},
   "outputs": [
    {
     "data": {
      "text/plain": [
       "17218479456385750618067377696052635483579924745448689921733236816400740691241745619397484537236046173286370919031961587788584927290816661024991609882728717344659503471655990880884679896520055123906467064419056526231345685268240569209892573766037966584735183775739433978714578587782701380797240772477647874555986712746271362892227516205318914435913511141036261376"
      ]
     },
     "execution_count": 24,
     "metadata": {},
     "output_type": "execute_result"
    }
   ],
   "source": [
    "2**1200"
   ]
  },
  {
   "cell_type": "markdown",
   "id": "fa0b0e28",
   "metadata": {},
   "source": [
    "## Markdown\n",
    "\n",
    "Markdown is a markup language used for creating formatted text. In Jupyter, we create Markdown cells for this text."
   ]
  },
  {
   "cell_type": "code",
   "execution_count": 27,
   "id": "df9e0577-6809-4a01-9e2a-5ea3c97cfac3",
   "metadata": {},
   "outputs": [
    {
     "ename": "SyntaxError",
     "evalue": "invalid syntax (293313691.py, line 1)",
     "output_type": "error",
     "traceback": [
      "\u001b[1;36m  Cell \u001b[1;32mIn[27], line 1\u001b[1;36m\u001b[0m\n\u001b[1;33m    This cell will throw an error.\u001b[0m\n\u001b[1;37m         ^\u001b[0m\n\u001b[1;31mSyntaxError\u001b[0m\u001b[1;31m:\u001b[0m invalid syntax\n"
     ]
    }
   ],
   "source": [
    "This cell will throw an error."
   ]
  },
  {
   "cell_type": "markdown",
   "id": "6feffd02-dd68-4d0b-bca1-cb422110e094",
   "metadata": {},
   "source": [
    "This cell will not throw an error."
   ]
  },
  {
   "cell_type": "markdown",
   "id": "451b40cb",
   "metadata": {},
   "source": [
    "We can create headings using hashtags, `#`:"
   ]
  },
  {
   "cell_type": "markdown",
   "id": "a35a4cd2-e6b3-49fb-bdf6-d5a158da5333",
   "metadata": {},
   "source": [
    "# This is a heading\n",
    "\n",
    "## This is a sub-heading\n",
    "\n",
    "### This is a sub-sub-heading"
   ]
  },
  {
   "cell_type": "markdown",
   "id": "e32013e0",
   "metadata": {},
   "source": [
    "We can generate bulleted (un-numbered) using a space and hyphen:"
   ]
  },
  {
   "cell_type": "markdown",
   "id": "4fdd8f03-a9a9-4313-b34a-7db3d58b73b0",
   "metadata": {},
   "source": [
    "Here is a list:\n",
    "\n",
    " - Item 1\n",
    " - This is item 2\n",
    " - I'm item 3"
   ]
  },
  {
   "cell_type": "markdown",
   "id": "f0e3553d",
   "metadata": {},
   "source": [
    "We can also nest lists using additional spaces:"
   ]
  },
  {
   "cell_type": "markdown",
   "id": "30817845-2c11-47cc-8fe7-50171ae0e7a6",
   "metadata": {},
   "source": [
    "Here is a list with nested sub-lists:\n",
    "\n",
    " - Item 1\n",
    " - Item 2\n",
    "   - Item 2(a)\n",
    "   - Item 2(b)\n",
    "   - Item 2(c)\n",
    " - Item 3"
   ]
  },
  {
   "cell_type": "markdown",
   "id": "6b470898",
   "metadata": {},
   "source": [
    "We can also create numbered lists using `1.`, `2.`, etc. Note: A numbered list will always be enumerated 1, 2, 3... regardless of how you've actually numbered the items."
   ]
  },
  {
   "cell_type": "markdown",
   "id": "3858c466-24a5-4984-b0e2-fb9f5f1e0b7a",
   "metadata": {},
   "source": [
    "Here is a numbered list:\n",
    "\n",
    " 1. Item 1\n",
    " 2. Item 2\n",
    " 3. Item 3\n",
    " 6. Item 6"
   ]
  },
  {
   "cell_type": "markdown",
   "id": "996c95de",
   "metadata": {},
   "source": [
    "## Back to integers vs. floats"
   ]
  },
  {
   "cell_type": "markdown",
   "id": "9c4dd5d3",
   "metadata": {},
   "source": [
    "The normal division symbol `/` will always return a floating point number."
   ]
  },
  {
   "cell_type": "code",
   "execution_count": 28,
   "id": "95937a85",
   "metadata": {},
   "outputs": [
    {
     "data": {
      "text/plain": [
       "2.0"
      ]
     },
     "execution_count": 28,
     "metadata": {},
     "output_type": "execute_result"
    }
   ],
   "source": [
    "6 / 3"
   ]
  },
  {
   "cell_type": "markdown",
   "id": "c50d6e6e",
   "metadata": {},
   "source": [
    "Sometimes, we would prefer to return an integer number. We can this using the `//` operation:"
   ]
  },
  {
   "cell_type": "code",
   "execution_count": 29,
   "id": "0cd9393b",
   "metadata": {},
   "outputs": [
    {
     "data": {
      "text/plain": [
       "2"
      ]
     },
     "execution_count": 29,
     "metadata": {},
     "output_type": "execute_result"
    }
   ],
   "source": [
    "6 // 3"
   ]
  },
  {
   "cell_type": "code",
   "execution_count": 30,
   "id": "bccf61c7-0a06-4cca-a72a-edb3b212d82c",
   "metadata": {},
   "outputs": [
    {
     "data": {
      "text/plain": [
       "3"
      ]
     },
     "execution_count": 30,
     "metadata": {},
     "output_type": "execute_result"
    }
   ],
   "source": [
    "7 // 2"
   ]
  },
  {
   "cell_type": "markdown",
   "id": "99651cb6",
   "metadata": {},
   "source": [
    "The integer division `//` will always return the quotient from performing long division.\n",
    "\n",
    "We can get the remainder from integer division using `%`. This is called **modular division**."
   ]
  },
  {
   "cell_type": "code",
   "execution_count": 31,
   "id": "5b688840",
   "metadata": {},
   "outputs": [
    {
     "data": {
      "text/plain": [
       "1"
      ]
     },
     "execution_count": 31,
     "metadata": {},
     "output_type": "execute_result"
    }
   ],
   "source": [
    "7 % 2"
   ]
  },
  {
   "cell_type": "markdown",
   "id": "3733a58c-6cd7-4c44-9e2c-2ce839575eec",
   "metadata": {},
   "source": [
    "This cell above shows that the remainder of dividing `7` by `2` is `1`."
   ]
  },
  {
   "cell_type": "code",
   "execution_count": 35,
   "id": "313a92db-30a7-4062-9eaf-91c94948e68f",
   "metadata": {},
   "outputs": [
    {
     "data": {
      "text/plain": [
       "2"
      ]
     },
     "execution_count": 35,
     "metadata": {},
     "output_type": "execute_result"
    }
   ],
   "source": [
    "101 // 43"
   ]
  },
  {
   "cell_type": "code",
   "execution_count": 36,
   "id": "3714a4b4-2240-44f5-be75-7e0d7b85dc28",
   "metadata": {},
   "outputs": [
    {
     "data": {
      "text/plain": [
       "15"
      ]
     },
     "execution_count": 36,
     "metadata": {},
     "output_type": "execute_result"
    }
   ],
   "source": [
    "101 % 43"
   ]
  },
  {
   "cell_type": "markdown",
   "id": "a8559371-8f6f-4a83-9a5b-557ce0ce62d9",
   "metadata": {},
   "source": [
    "The two cells above show that `100` divided by `42` has quotient `2` and remainder `16`. Let's check this:"
   ]
  },
  {
   "cell_type": "code",
   "execution_count": 37,
   "id": "66319b14-e769-4f22-add5-e408d233e8e3",
   "metadata": {},
   "outputs": [
    {
     "data": {
      "text/plain": [
       "101"
      ]
     },
     "execution_count": 37,
     "metadata": {},
     "output_type": "execute_result"
    }
   ],
   "source": [
    "43 * 2 + 15"
   ]
  },
  {
   "cell_type": "markdown",
   "id": "18d383ba",
   "metadata": {},
   "source": [
    "## Variable assignment in Python"
   ]
  },
  {
   "cell_type": "markdown",
   "id": "b833f84d",
   "metadata": {},
   "source": [
    "Very often, we want to perform operations on some input that might change. We can define variables using the `=` symbol:"
   ]
  },
  {
   "cell_type": "code",
   "execution_count": 48,
   "id": "76c77f94-89c8-4e87-992e-e9c8715fa5e5",
   "metadata": {},
   "outputs": [],
   "source": [
    "num = 102\n",
    "den = 43"
   ]
  },
  {
   "cell_type": "markdown",
   "id": "dbb42933",
   "metadata": {},
   "source": [
    "We can recall the value of this variable with the variable name:"
   ]
  },
  {
   "cell_type": "code",
   "execution_count": 49,
   "id": "efa40cce",
   "metadata": {},
   "outputs": [
    {
     "data": {
      "text/plain": [
       "102"
      ]
     },
     "execution_count": 49,
     "metadata": {},
     "output_type": "execute_result"
    }
   ],
   "source": [
    "num"
   ]
  },
  {
   "cell_type": "code",
   "execution_count": 50,
   "id": "da766ece-4e4a-475a-bc22-887eb91c7a88",
   "metadata": {},
   "outputs": [
    {
     "data": {
      "text/plain": [
       "43"
      ]
     },
     "execution_count": 50,
     "metadata": {},
     "output_type": "execute_result"
    }
   ],
   "source": [
    "den"
   ]
  },
  {
   "cell_type": "code",
   "execution_count": 51,
   "id": "d8cc4611-8d6b-447a-9e28-8e97802cf494",
   "metadata": {},
   "outputs": [],
   "source": [
    "quot = num // den"
   ]
  },
  {
   "cell_type": "code",
   "execution_count": 52,
   "id": "ebea1cb3-f036-4e95-a966-519577f79e08",
   "metadata": {},
   "outputs": [],
   "source": [
    "rem = num % den"
   ]
  },
  {
   "cell_type": "code",
   "execution_count": 53,
   "id": "75904620-dc7f-410e-a48a-301ad0658796",
   "metadata": {},
   "outputs": [
    {
     "data": {
      "text/plain": [
       "2"
      ]
     },
     "execution_count": 53,
     "metadata": {},
     "output_type": "execute_result"
    }
   ],
   "source": [
    "quot"
   ]
  },
  {
   "cell_type": "code",
   "execution_count": 54,
   "id": "02a6c048-ab4d-4ebc-8637-da122cb37a36",
   "metadata": {},
   "outputs": [
    {
     "data": {
      "text/plain": [
       "16"
      ]
     },
     "execution_count": 54,
     "metadata": {},
     "output_type": "execute_result"
    }
   ],
   "source": [
    "rem"
   ]
  },
  {
   "cell_type": "code",
   "execution_count": 55,
   "id": "1223fa66-9a17-4f0b-9bd6-30d133ed2a2e",
   "metadata": {},
   "outputs": [
    {
     "data": {
      "text/plain": [
       "102"
      ]
     },
     "execution_count": 55,
     "metadata": {},
     "output_type": "execute_result"
    }
   ],
   "source": [
    "quot*den + rem"
   ]
  }
 ],
 "metadata": {
  "kernelspec": {
   "display_name": "Python 3 (ipykernel)",
   "language": "python",
   "name": "python3"
  },
  "language_info": {
   "codemirror_mode": {
    "name": "ipython",
    "version": 3
   },
   "file_extension": ".py",
   "mimetype": "text/x-python",
   "name": "python",
   "nbconvert_exporter": "python",
   "pygments_lexer": "ipython3",
   "version": "3.13.5"
  }
 },
 "nbformat": 4,
 "nbformat_minor": 5
}
