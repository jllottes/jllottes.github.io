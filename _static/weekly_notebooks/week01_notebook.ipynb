{
 "cells": [
  {
   "cell_type": "markdown",
   "id": "c436023e",
   "metadata": {},
   "source": [
    "# Monday, August 25th, 2025"
   ]
  },
  {
   "cell_type": "markdown",
   "id": "ca869e18",
   "metadata": {},
   "source": [
    "# Getting started with Jupyter notebook\n",
    "\n",
    " - We can execute a cell using `SHIFT` + `ENTER`.\n",
    " - We can add a new cell using the plus symbol in the top-left corner. Alternatively, you can select a cell and hit `A` to add a cell above, or `B` to add a cell below.\n",
    " - We can delete a cell by selecting hit, then hitting `D`, `D`."
   ]
  },
  {
   "cell_type": "code",
   "execution_count": null,
   "id": "6cf20539",
   "metadata": {},
   "outputs": [],
   "source": []
  },
  {
   "cell_type": "markdown",
   "id": "687fc4f8",
   "metadata": {},
   "source": [
    "## Arithmetic operations"
   ]
  },
  {
   "cell_type": "markdown",
   "id": "5eade559-dd94-4e5f-a029-4c652dd144a5",
   "metadata": {},
   "source": [
    "Addition:"
   ]
  },
  {
   "cell_type": "code",
   "execution_count": null,
   "id": "cc7eaadc",
   "metadata": {},
   "outputs": [],
   "source": []
  },
  {
   "cell_type": "markdown",
   "id": "23de3f86-a848-4ce9-abba-f0dcf0879086",
   "metadata": {},
   "source": [
    "Subtraction:"
   ]
  },
  {
   "cell_type": "code",
   "execution_count": null,
   "id": "7b2fee7d",
   "metadata": {},
   "outputs": [],
   "source": []
  },
  {
   "cell_type": "markdown",
   "id": "ab9ae37c-3af0-4b11-bc95-bb4d02aaf068",
   "metadata": {},
   "source": [
    "Multiplication:"
   ]
  },
  {
   "cell_type": "code",
   "execution_count": null,
   "id": "1dea3766",
   "metadata": {},
   "outputs": [],
   "source": []
  },
  {
   "cell_type": "markdown",
   "id": "1a2b124d-8974-418f-a3d1-4ab0d3043ed2",
   "metadata": {},
   "source": [
    "Division:"
   ]
  },
  {
   "cell_type": "code",
   "execution_count": null,
   "id": "1c20501f",
   "metadata": {},
   "outputs": [],
   "source": []
  },
  {
   "cell_type": "markdown",
   "id": "cb0f38d7-da6b-4c6f-9ff6-9b3b3528d1a8",
   "metadata": {},
   "source": [
    "Exponentiation:"
   ]
  },
  {
   "cell_type": "code",
   "execution_count": null,
   "id": "d09c3615",
   "metadata": {},
   "outputs": [],
   "source": []
  },
  {
   "cell_type": "markdown",
   "id": "e90b1b18",
   "metadata": {},
   "source": [
    "To perform exponentiation, use `**` or the `pow` function instead of `^`:"
   ]
  },
  {
   "cell_type": "code",
   "execution_count": null,
   "id": "d2e4ba55",
   "metadata": {},
   "outputs": [],
   "source": []
  },
  {
   "cell_type": "markdown",
   "id": "75e8cf05",
   "metadata": {},
   "source": [
    "Using the standard division `/` will return what is called a **float**."
   ]
  },
  {
   "cell_type": "code",
   "execution_count": null,
   "id": "95e6e5a8-5269-4fbb-a68d-fe70d4fb81dd",
   "metadata": {},
   "outputs": [],
   "source": []
  },
  {
   "cell_type": "markdown",
   "id": "fecda49e",
   "metadata": {},
   "source": [
    "## Integers vs floats\n",
    "\n",
    " - integers = numbers without any decimal point\n",
    " - floats = numbers with a decimal point\n",
    " - operations on integers are exact\n",
    " - operations on floats are approximate\n",
    " - integers can be arbitrarily large, but floats are represented only within a finite range."
   ]
  },
  {
   "cell_type": "markdown",
   "id": "fa0b0e28",
   "metadata": {},
   "source": [
    "## Markdown\n",
    "\n",
    "Markdown is a markup language used for creating formatted text. In Jupyter, we create Markdown cells for this text."
   ]
  },
  {
   "cell_type": "code",
   "execution_count": null,
   "id": "c9f5fa8e",
   "metadata": {},
   "outputs": [],
   "source": []
  },
  {
   "cell_type": "markdown",
   "id": "451b40cb",
   "metadata": {},
   "source": [
    "We can create headings using hashtags, `#`:"
   ]
  },
  {
   "cell_type": "code",
   "execution_count": null,
   "id": "e4f475e5-c7a1-4e68-a6a2-d4c8ee860808",
   "metadata": {},
   "outputs": [],
   "source": []
  },
  {
   "cell_type": "markdown",
   "id": "e32013e0",
   "metadata": {},
   "source": [
    "We can generate bulleted (un-numbered) using a space and hyphen:"
   ]
  },
  {
   "cell_type": "code",
   "execution_count": null,
   "id": "695485e5-3eb4-4952-8367-106747b03a6a",
   "metadata": {},
   "outputs": [],
   "source": []
  },
  {
   "cell_type": "markdown",
   "id": "f0e3553d",
   "metadata": {},
   "source": [
    "We can also nest lists using additional spaces:"
   ]
  },
  {
   "cell_type": "code",
   "execution_count": null,
   "id": "4e206106-ccd5-4136-9bbe-fe89492adb3e",
   "metadata": {},
   "outputs": [],
   "source": []
  },
  {
   "cell_type": "markdown",
   "id": "6b470898",
   "metadata": {},
   "source": [
    "We can also create numbered lists using `1.`, `2.`, etc. Note: A numbered list will always be enumerated 1, 2, 3... regardless of how you've actually numbered the items."
   ]
  },
  {
   "cell_type": "code",
   "execution_count": null,
   "id": "36c11a75-15e8-494a-aabe-91c13d85c85d",
   "metadata": {},
   "outputs": [],
   "source": []
  },
  {
   "cell_type": "markdown",
   "id": "996c95de",
   "metadata": {},
   "source": [
    "## Back to integers vs. floats"
   ]
  },
  {
   "cell_type": "markdown",
   "id": "9c4dd5d3",
   "metadata": {},
   "source": [
    "The normal division symbol `/` will always return a floating point number."
   ]
  },
  {
   "cell_type": "code",
   "execution_count": null,
   "id": "95937a85",
   "metadata": {},
   "outputs": [],
   "source": []
  },
  {
   "cell_type": "markdown",
   "id": "c50d6e6e",
   "metadata": {},
   "source": [
    "Sometimes, we would prefer to return an integer number. We can this using the `//` operation:"
   ]
  },
  {
   "cell_type": "code",
   "execution_count": null,
   "id": "0cd9393b",
   "metadata": {},
   "outputs": [],
   "source": []
  },
  {
   "cell_type": "markdown",
   "id": "99651cb6",
   "metadata": {},
   "source": [
    "The integer division `//` will always return the quotient from performing long division.\n",
    "\n",
    "We can get the remainder from integer division using `%`. This is called **modular division**."
   ]
  },
  {
   "cell_type": "code",
   "execution_count": null,
   "id": "5b688840",
   "metadata": {},
   "outputs": [],
   "source": []
  },
  {
   "cell_type": "markdown",
   "id": "18d383ba",
   "metadata": {},
   "source": [
    "## Variable assignment in Python"
   ]
  },
  {
   "cell_type": "markdown",
   "id": "b833f84d",
   "metadata": {},
   "source": [
    "Very often, we want to perform operations on some input that might change. We can define variables using the `=` symbol:"
   ]
  },
  {
   "cell_type": "code",
   "execution_count": null,
   "id": "76c77f94-89c8-4e87-992e-e9c8715fa5e5",
   "metadata": {},
   "outputs": [],
   "source": []
  },
  {
   "cell_type": "markdown",
   "id": "dbb42933",
   "metadata": {},
   "source": [
    "We can recall the value of this variable with the variable name:"
   ]
  },
  {
   "cell_type": "code",
   "execution_count": null,
   "id": "efa40cce",
   "metadata": {},
   "outputs": [],
   "source": []
  }
 ],
 "metadata": {
  "kernelspec": {
   "display_name": "Python 3 (ipykernel)",
   "language": "python",
   "name": "python3"
  },
  "language_info": {
   "codemirror_mode": {
    "name": "ipython",
    "version": 3
   },
   "file_extension": ".py",
   "mimetype": "text/x-python",
   "name": "python",
   "nbconvert_exporter": "python",
   "pygments_lexer": "ipython3",
   "version": "3.13.5"
  }
 },
 "nbformat": 4,
 "nbformat_minor": 5
}
