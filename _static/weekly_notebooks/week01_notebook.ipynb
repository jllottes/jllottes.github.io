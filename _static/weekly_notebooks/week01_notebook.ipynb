{
 "cells": [
  {
   "cell_type": "markdown",
   "id": "b12672de",
   "metadata": {},
   "source": [
    "# Monday, August 26th, 2024"
   ]
  },
  {
   "cell_type": "code",
   "execution_count": 1,
   "id": "6a7ca5b0",
   "metadata": {},
   "outputs": [
    {
     "data": {
      "text/plain": [
       "2"
      ]
     },
     "execution_count": 1,
     "metadata": {},
     "output_type": "execute_result"
    }
   ],
   "source": [
    "1 + 1"
   ]
  },
  {
   "cell_type": "markdown",
   "id": "a5d528e8",
   "metadata": {},
   "source": [
    "The cell below is a code cell. Python throws an error when we execute the cell because we have not written valid Python code. Instead, we should convert the cell to a Markdown cell, which is used for non-code text."
   ]
  },
  {
   "cell_type": "code",
   "execution_count": 2,
   "id": "2c6e30d1",
   "metadata": {},
   "outputs": [
    {
     "ename": "SyntaxError",
     "evalue": "invalid syntax (238413961.py, line 1)",
     "output_type": "error",
     "traceback": [
      "\u001b[1;36m  Cell \u001b[1;32mIn[2], line 1\u001b[1;36m\u001b[0m\n\u001b[1;33m    Jupyter notebook basics:\u001b[0m\n\u001b[1;37m            ^\u001b[0m\n\u001b[1;31mSyntaxError\u001b[0m\u001b[1;31m:\u001b[0m invalid syntax\n"
     ]
    }
   ],
   "source": [
    "Jupyter notebook basics:\n",
    "\n",
    "To save, click the floppy disk in the top left corner, or select File -> Save and Checkpoint.\n",
    "To execute a cell, select it and hit SHIFT + ENTER.\n",
    "To add a cell below the currently selected cell, hit the PLUS symbol in the top-left corner.\n",
    "To convert a cell to Markdown, select the cell and hit the dropdown in the toolbar to select Markdown."
   ]
  },
  {
   "cell_type": "markdown",
   "id": "78d3029f",
   "metadata": {},
   "source": [
    "## Jupyter notebook basics:\n",
    "\n",
    "* To **save**, click the *floppy disk* in the top left corner, or select File -> Save and Checkpoint.\n",
    "* To execute a cell, select it and hit SHIFT + ENTER.\n",
    "* To add a cell below the currently selected cell, hit the PLUS symbol in the top-left corner.\n",
    "* To convert a cell to Markdown, select the cell and hit the dropdown in the toolbar to select Markdown."
   ]
  },
  {
   "cell_type": "markdown",
   "id": "a98d4188",
   "metadata": {},
   "source": [
    "We can also put hyperlinks into Markdown cells:\n",
    "\n",
    "[Here is a link to the Markdown cheatsheet](https://github.com/adam-p/markdown-here/wiki/Markdown-Cheatsheet)"
   ]
  },
  {
   "cell_type": "markdown",
   "id": "81bf81a6",
   "metadata": {},
   "source": [
    "We can construct tables as well using markdown:\n",
    "\n",
    "| Name | Age | City |\n",
    "|:------:|-----|------:|\n",
    "| Jon  | 35  | Buffalo |\n",
    "| Steven | 36 | Seattle |\n",
    "| Emily | 38 | Pittsburgh |\n",
    "| Justin | 40 | Rochester | "
   ]
  },
  {
   "cell_type": "markdown",
   "id": "e569a28d",
   "metadata": {},
   "source": [
    "## Python arithmetic"
   ]
  },
  {
   "cell_type": "markdown",
   "id": "fc5eec93",
   "metadata": {},
   "source": [
    "Addtion:"
   ]
  },
  {
   "cell_type": "code",
   "execution_count": 3,
   "id": "3b48e6d5",
   "metadata": {},
   "outputs": [
    {
     "data": {
      "text/plain": [
       "2"
      ]
     },
     "execution_count": 3,
     "metadata": {},
     "output_type": "execute_result"
    }
   ],
   "source": [
    "1 + 1"
   ]
  },
  {
   "cell_type": "markdown",
   "id": "1543e832",
   "metadata": {},
   "source": [
    "Multiplication:"
   ]
  },
  {
   "cell_type": "code",
   "execution_count": 4,
   "id": "43a02da3",
   "metadata": {},
   "outputs": [
    {
     "data": {
      "text/plain": [
       "20"
      ]
     },
     "execution_count": 4,
     "metadata": {},
     "output_type": "execute_result"
    }
   ],
   "source": [
    "4 * 5"
   ]
  },
  {
   "cell_type": "markdown",
   "id": "e3bd815d",
   "metadata": {},
   "source": [
    "Division:"
   ]
  },
  {
   "cell_type": "code",
   "execution_count": 5,
   "id": "97b43857",
   "metadata": {},
   "outputs": [
    {
     "data": {
      "text/plain": [
       "3.6666666666666665"
      ]
     },
     "execution_count": 5,
     "metadata": {},
     "output_type": "execute_result"
    }
   ],
   "source": [
    "11/3"
   ]
  },
  {
   "cell_type": "markdown",
   "id": "c7461cb2",
   "metadata": {},
   "source": [
    "Floor division (divide and keep only the quotient):"
   ]
  },
  {
   "cell_type": "code",
   "execution_count": 6,
   "id": "1dd6384c",
   "metadata": {},
   "outputs": [
    {
     "data": {
      "text/plain": [
       "3"
      ]
     },
     "execution_count": 6,
     "metadata": {},
     "output_type": "execute_result"
    }
   ],
   "source": [
    "11 // 3"
   ]
  },
  {
   "cell_type": "markdown",
   "id": "4f71683d",
   "metadata": {},
   "source": [
    "Modulus (divide and keep only the remainder):"
   ]
  },
  {
   "cell_type": "code",
   "execution_count": 7,
   "id": "063819ec",
   "metadata": {},
   "outputs": [
    {
     "data": {
      "text/plain": [
       "2"
      ]
     },
     "execution_count": 7,
     "metadata": {},
     "output_type": "execute_result"
    }
   ],
   "source": [
    "11 % 3"
   ]
  },
  {
   "cell_type": "markdown",
   "id": "f052cf2f",
   "metadata": {},
   "source": [
    "**Exercise:**\n",
    "\n",
    "Write the number 123456 in the form 123456 = 22q + r where 0 <= r < 22."
   ]
  },
  {
   "cell_type": "code",
   "execution_count": 8,
   "id": "c91df313",
   "metadata": {},
   "outputs": [
    {
     "data": {
      "text/plain": [
       "5611"
      ]
     },
     "execution_count": 8,
     "metadata": {},
     "output_type": "execute_result"
    }
   ],
   "source": [
    "123456 // 22"
   ]
  },
  {
   "cell_type": "code",
   "execution_count": 9,
   "id": "b3daef72",
   "metadata": {},
   "outputs": [
    {
     "data": {
      "text/plain": [
       "14"
      ]
     },
     "execution_count": 9,
     "metadata": {},
     "output_type": "execute_result"
    }
   ],
   "source": [
    "123456 % 22"
   ]
  },
  {
   "cell_type": "markdown",
   "id": "fe1a575c",
   "metadata": {},
   "source": [
    "Check:"
   ]
  },
  {
   "cell_type": "code",
   "execution_count": 10,
   "id": "f6fbed4f",
   "metadata": {},
   "outputs": [
    {
     "data": {
      "text/plain": [
       "123456"
      ]
     },
     "execution_count": 10,
     "metadata": {},
     "output_type": "execute_result"
    }
   ],
   "source": [
    "22*5611 + 14"
   ]
  },
  {
   "cell_type": "markdown",
   "id": "0c54a817",
   "metadata": {},
   "source": [
    "Power:"
   ]
  },
  {
   "cell_type": "code",
   "execution_count": 11,
   "id": "362d3627",
   "metadata": {
    "scrolled": true
   },
   "outputs": [
    {
     "data": {
      "text/plain": [
       "6"
      ]
     },
     "execution_count": 11,
     "metadata": {},
     "output_type": "execute_result"
    }
   ],
   "source": [
    "5^3"
   ]
  },
  {
   "cell_type": "markdown",
   "id": "25f8b166",
   "metadata": {},
   "source": [
    "The caret `^` does not compute powers. Instead, we use a double asterisk `**`:"
   ]
  },
  {
   "cell_type": "code",
   "execution_count": 12,
   "id": "3be46208",
   "metadata": {},
   "outputs": [
    {
     "data": {
      "text/plain": [
       "125"
      ]
     },
     "execution_count": 12,
     "metadata": {},
     "output_type": "execute_result"
    }
   ],
   "source": [
    "5**3"
   ]
  },
  {
   "cell_type": "code",
   "execution_count": 13,
   "id": "49910ccb",
   "metadata": {},
   "outputs": [
    {
     "data": {
      "text/plain": [
       "1267650600228229401496703205376"
      ]
     },
     "execution_count": 13,
     "metadata": {},
     "output_type": "execute_result"
    }
   ],
   "source": [
    "2**100"
   ]
  },
  {
   "cell_type": "code",
   "execution_count": 14,
   "id": "92b0f70a",
   "metadata": {},
   "outputs": [
    {
     "data": {
      "text/plain": [
       "1.2676506002282294e+30"
      ]
     },
     "execution_count": 14,
     "metadata": {},
     "output_type": "execute_result"
    }
   ],
   "source": [
    "2.0**100"
   ]
  },
  {
   "cell_type": "code",
   "execution_count": 15,
   "id": "2a2c32f4",
   "metadata": {},
   "outputs": [
    {
     "data": {
      "text/plain": [
       "125325663996571831810755483238273420616498507508098617146349500752097059631738116432448839054351520763198615919551594076685828989467263022761790838270854579830015111246661203984624358929832571615718014704096305668097507613273663023226895250541385927158426088684494082416768617708189592286936039922311125683719215046689156738352590137241554510185855964549927575493247391132548534378497978806084951085874202011836362315727420109554782988791530088289711844550500230485638413189947132142243947334199259300735622492937419453650061490302105127920314430401636855677549136337481321811349678427076091437345045399337348611261168055929355402992823192491190360027036112283180935872775214517464013178274657100736321564606838252739601156414628445543663144696050650160812621814327062666195172701780200286645023823083185928061371310300829284071141207731280600001"
      ]
     },
     "execution_count": 15,
     "metadata": {},
     "output_type": "execute_result"
    }
   ],
   "source": [
    "7**1000"
   ]
  },
  {
   "cell_type": "code",
   "execution_count": 16,
   "id": "0a6cbc50",
   "metadata": {},
   "outputs": [
    {
     "ename": "OverflowError",
     "evalue": "(34, 'Result too large')",
     "output_type": "error",
     "traceback": [
      "\u001b[1;31m---------------------------------------------------------------------------\u001b[0m",
      "\u001b[1;31mOverflowError\u001b[0m                             Traceback (most recent call last)",
      "Cell \u001b[1;32mIn[16], line 1\u001b[0m\n\u001b[1;32m----> 1\u001b[0m \u001b[38;5;241m7.0\u001b[39m \u001b[38;5;241m*\u001b[39m\u001b[38;5;241m*\u001b[39m \u001b[38;5;241m1000\u001b[39m\n",
      "\u001b[1;31mOverflowError\u001b[0m: (34, 'Result too large')"
     ]
    }
   ],
   "source": [
    "7.0 ** 1000"
   ]
  },
  {
   "cell_type": "markdown",
   "id": "44d7d0e4",
   "metadata": {},
   "source": [
    "## Floats vs integers"
   ]
  },
  {
   "cell_type": "markdown",
   "id": "5f1855a9",
   "metadata": {},
   "source": [
    "* integers = numbers without decimal points\n",
    "* floats = numbers with a decimal point\n",
    "* Operations on integers are exact\n",
    "* Operations on floats are approximate\n",
    "* Integers can be arbitrarily large, but floats can be only be represeneted in the computer within a finite range."
   ]
  },
  {
   "cell_type": "markdown",
   "id": "ecd35373",
   "metadata": {},
   "source": [
    "We can convert between the two using the functions `float()` and `int()`:"
   ]
  },
  {
   "cell_type": "code",
   "execution_count": 17,
   "id": "471bce8a",
   "metadata": {},
   "outputs": [
    {
     "data": {
      "text/plain": [
       "2.0"
      ]
     },
     "execution_count": 17,
     "metadata": {},
     "output_type": "execute_result"
    }
   ],
   "source": [
    "float(2)"
   ]
  },
  {
   "cell_type": "code",
   "execution_count": 18,
   "id": "05107e97",
   "metadata": {},
   "outputs": [
    {
     "data": {
      "text/plain": [
       "2"
      ]
     },
     "execution_count": 18,
     "metadata": {},
     "output_type": "execute_result"
    }
   ],
   "source": [
    "int(2.0)"
   ]
  },
  {
   "cell_type": "markdown",
   "id": "64fe3c8f",
   "metadata": {},
   "source": [
    "We can check the type of a number using the function `type()`:"
   ]
  },
  {
   "cell_type": "code",
   "execution_count": 19,
   "id": "4081db05",
   "metadata": {},
   "outputs": [
    {
     "data": {
      "text/plain": [
       "int"
      ]
     },
     "execution_count": 19,
     "metadata": {},
     "output_type": "execute_result"
    }
   ],
   "source": [
    "type(2)"
   ]
  },
  {
   "cell_type": "code",
   "execution_count": 20,
   "id": "2b1035c7",
   "metadata": {},
   "outputs": [
    {
     "data": {
      "text/plain": [
       "float"
      ]
     },
     "execution_count": 20,
     "metadata": {},
     "output_type": "execute_result"
    }
   ],
   "source": [
    "type(2.0)"
   ]
  },
  {
   "cell_type": "code",
   "execution_count": 21,
   "id": "964a2b6a",
   "metadata": {},
   "outputs": [
    {
     "data": {
      "text/plain": [
       "123"
      ]
     },
     "execution_count": 21,
     "metadata": {},
     "output_type": "execute_result"
    }
   ],
   "source": [
    "int(123.99)"
   ]
  },
  {
   "cell_type": "markdown",
   "id": "6eee8cd4",
   "metadata": {},
   "source": [
    "The `int()` function will ignore any fractional part of a float and take only the whole number."
   ]
  },
  {
   "cell_type": "code",
   "execution_count": 22,
   "id": "645a8bf1",
   "metadata": {},
   "outputs": [
    {
     "data": {
      "text/plain": [
       "-1"
      ]
     },
     "execution_count": 22,
     "metadata": {},
     "output_type": "execute_result"
    }
   ],
   "source": [
    "int(-1.99)"
   ]
  },
  {
   "cell_type": "markdown",
   "id": "fd70df50",
   "metadata": {},
   "source": [
    "We can use the `round()` function instead to round a float to the nearest integer:"
   ]
  },
  {
   "cell_type": "code",
   "execution_count": 23,
   "id": "0f8e16a4",
   "metadata": {},
   "outputs": [
    {
     "data": {
      "text/plain": [
       "124"
      ]
     },
     "execution_count": 23,
     "metadata": {},
     "output_type": "execute_result"
    }
   ],
   "source": [
    "round(123.99)"
   ]
  },
  {
   "cell_type": "code",
   "execution_count": 24,
   "id": "be7c4d25",
   "metadata": {},
   "outputs": [
    {
     "data": {
      "text/plain": [
       "-2"
      ]
     },
     "execution_count": 24,
     "metadata": {},
     "output_type": "execute_result"
    }
   ],
   "source": [
    "round(-1.99)"
   ]
  },
  {
   "cell_type": "markdown",
   "id": "acbb83d2",
   "metadata": {},
   "source": [
    "Python follows the PEMDAS order of operations:"
   ]
  },
  {
   "cell_type": "code",
   "execution_count": 25,
   "id": "2a6dfdf6",
   "metadata": {},
   "outputs": [
    {
     "data": {
      "text/plain": [
       "63.0"
      ]
     },
     "execution_count": 25,
     "metadata": {},
     "output_type": "execute_result"
    }
   ],
   "source": [
    "7 * (6/2)**2"
   ]
  },
  {
   "cell_type": "code",
   "execution_count": 26,
   "id": "6a59f89c",
   "metadata": {},
   "outputs": [
    {
     "data": {
      "text/plain": [
       "63"
      ]
     },
     "execution_count": 26,
     "metadata": {},
     "output_type": "execute_result"
    }
   ],
   "source": [
    "7 * (6//2)**2"
   ]
  },
  {
   "cell_type": "markdown",
   "id": "6a108a7c",
   "metadata": {},
   "source": [
    "## Variable assignment"
   ]
  },
  {
   "cell_type": "code",
   "execution_count": 27,
   "id": "42ab4c6b",
   "metadata": {},
   "outputs": [],
   "source": [
    "a = 5"
   ]
  },
  {
   "cell_type": "code",
   "execution_count": 28,
   "id": "9ddc3efa",
   "metadata": {},
   "outputs": [
    {
     "data": {
      "text/plain": [
       "5"
      ]
     },
     "execution_count": 28,
     "metadata": {},
     "output_type": "execute_result"
    }
   ],
   "source": [
    "a"
   ]
  },
  {
   "cell_type": "code",
   "execution_count": 29,
   "id": "56309b99",
   "metadata": {},
   "outputs": [],
   "source": [
    "b = 2"
   ]
  },
  {
   "cell_type": "code",
   "execution_count": 30,
   "id": "10d06447",
   "metadata": {},
   "outputs": [
    {
     "data": {
      "text/plain": [
       "2"
      ]
     },
     "execution_count": 30,
     "metadata": {},
     "output_type": "execute_result"
    }
   ],
   "source": [
    "b"
   ]
  },
  {
   "cell_type": "code",
   "execution_count": 31,
   "id": "4138bb75",
   "metadata": {},
   "outputs": [
    {
     "data": {
      "text/plain": [
       "7"
      ]
     },
     "execution_count": 31,
     "metadata": {},
     "output_type": "execute_result"
    }
   ],
   "source": [
    "a + b"
   ]
  },
  {
   "cell_type": "code",
   "execution_count": 32,
   "id": "f2d30142",
   "metadata": {},
   "outputs": [
    {
     "data": {
      "text/plain": [
       "10"
      ]
     },
     "execution_count": 32,
     "metadata": {},
     "output_type": "execute_result"
    }
   ],
   "source": [
    "a*b"
   ]
  },
  {
   "cell_type": "code",
   "execution_count": 33,
   "id": "c1a9b1d4",
   "metadata": {},
   "outputs": [
    {
     "data": {
      "text/plain": [
       "25"
      ]
     },
     "execution_count": 33,
     "metadata": {},
     "output_type": "execute_result"
    }
   ],
   "source": [
    "a**b"
   ]
  },
  {
   "cell_type": "markdown",
   "id": "ca0a2143",
   "metadata": {},
   "source": [
    "We can also store the results of some operations as variables"
   ]
  },
  {
   "cell_type": "code",
   "execution_count": 34,
   "id": "d3b2aaba",
   "metadata": {},
   "outputs": [],
   "source": [
    "c = b**a"
   ]
  },
  {
   "cell_type": "code",
   "execution_count": 35,
   "id": "090cf1da",
   "metadata": {},
   "outputs": [
    {
     "data": {
      "text/plain": [
       "32"
      ]
     },
     "execution_count": 35,
     "metadata": {},
     "output_type": "execute_result"
    }
   ],
   "source": [
    "c"
   ]
  },
  {
   "cell_type": "code",
   "execution_count": 36,
   "id": "7eca3456",
   "metadata": {},
   "outputs": [],
   "source": [
    "d = 123456\n",
    "f = 33\n",
    "\n",
    "q = d // f\n",
    "r = d % f"
   ]
  },
  {
   "cell_type": "markdown",
   "id": "d5f41e99",
   "metadata": {},
   "source": [
    "We can see several variables in one line by separating them with a comma"
   ]
  },
  {
   "cell_type": "code",
   "execution_count": 37,
   "id": "1a50bb25",
   "metadata": {},
   "outputs": [
    {
     "data": {
      "text/plain": [
       "(3741, 3)"
      ]
     },
     "execution_count": 37,
     "metadata": {},
     "output_type": "execute_result"
    }
   ],
   "source": [
    "q, r"
   ]
  },
  {
   "cell_type": "markdown",
   "id": "d84ec7be",
   "metadata": {},
   "source": [
    "We can also define several variables in one line by separating with a comma:"
   ]
  },
  {
   "cell_type": "code",
   "execution_count": 38,
   "id": "60ab7346",
   "metadata": {},
   "outputs": [],
   "source": [
    "d, f = 12345, 33"
   ]
  },
  {
   "cell_type": "code",
   "execution_count": 39,
   "id": "cb88b538",
   "metadata": {},
   "outputs": [
    {
     "data": {
      "text/plain": [
       "12345"
      ]
     },
     "execution_count": 39,
     "metadata": {},
     "output_type": "execute_result"
    }
   ],
   "source": [
    "d"
   ]
  },
  {
   "cell_type": "code",
   "execution_count": 40,
   "id": "f7904ecb",
   "metadata": {},
   "outputs": [
    {
     "data": {
      "text/plain": [
       "33"
      ]
     },
     "execution_count": 40,
     "metadata": {},
     "output_type": "execute_result"
    }
   ],
   "source": [
    "f"
   ]
  },
  {
   "cell_type": "markdown",
   "id": "37bff2dc",
   "metadata": {},
   "source": [
    "We can use this to swap two variables:"
   ]
  },
  {
   "cell_type": "code",
   "execution_count": 41,
   "id": "cbc9e197",
   "metadata": {},
   "outputs": [
    {
     "data": {
      "text/plain": [
       "(12345, 33)"
      ]
     },
     "execution_count": 41,
     "metadata": {},
     "output_type": "execute_result"
    }
   ],
   "source": [
    "d,f "
   ]
  },
  {
   "cell_type": "code",
   "execution_count": 42,
   "id": "b767d5d9",
   "metadata": {},
   "outputs": [],
   "source": [
    "d, f = f, d"
   ]
  },
  {
   "cell_type": "code",
   "execution_count": 43,
   "id": "9a599973",
   "metadata": {},
   "outputs": [
    {
     "data": {
      "text/plain": [
       "(33, 12345)"
      ]
     },
     "execution_count": 43,
     "metadata": {},
     "output_type": "execute_result"
    }
   ],
   "source": [
    "d, f"
   ]
  },
  {
   "cell_type": "markdown",
   "id": "30102f2f",
   "metadata": {},
   "source": [
    "## Warning about working with Jupyter notebook"
   ]
  },
  {
   "cell_type": "code",
   "execution_count": 44,
   "id": "f174a3a9",
   "metadata": {},
   "outputs": [],
   "source": [
    "a = 1\n",
    "b = 2\n",
    "c = 3"
   ]
  },
  {
   "cell_type": "code",
   "execution_count": 45,
   "id": "c5628940",
   "metadata": {},
   "outputs": [
    {
     "data": {
      "text/plain": [
       "(1, 2, 3)"
      ]
     },
     "execution_count": 45,
     "metadata": {},
     "output_type": "execute_result"
    }
   ],
   "source": [
    "a,b,c"
   ]
  },
  {
   "cell_type": "markdown",
   "id": "8f3a0ed6",
   "metadata": {},
   "source": [
    "We can change the meaning of any variables at any point. Python will always recall the most recent definition of those variables."
   ]
  },
  {
   "cell_type": "markdown",
   "id": "4b00b4f9",
   "metadata": {},
   "source": [
    "We can clear all of the memory and start refresh by hitting *Refresh* symbol in the upper toolbar, or we can select *Kernel -> Restart*."
   ]
  },
  {
   "cell_type": "markdown",
   "id": "d74fd7ff",
   "metadata": {},
   "source": [
    "If we save a notebook and quit, all variables will be lost."
   ]
  },
  {
   "cell_type": "markdown",
   "id": "52d26a2a",
   "metadata": {},
   "source": [
    "If we want to resume later, we can use *Kernel -> Restart and run all*."
   ]
  },
  {
   "cell_type": "code",
   "execution_count": null,
   "id": "925dbe9f",
   "metadata": {},
   "outputs": [],
   "source": []
  }
 ],
 "metadata": {
  "kernelspec": {
   "display_name": "Python 3 (ipykernel)",
   "language": "python",
   "name": "python3"
  },
  "language_info": {
   "codemirror_mode": {
    "name": "ipython",
    "version": 3
   },
   "file_extension": ".py",
   "mimetype": "text/x-python",
   "name": "python",
   "nbconvert_exporter": "python",
   "pygments_lexer": "ipython3",
   "version": "3.11.5"
  }
 },
 "nbformat": 4,
 "nbformat_minor": 5
}
