{
 "cells": [
  {
   "cell_type": "markdown",
   "id": "c436023e",
   "metadata": {},
   "source": [
    "# Wednesday, January 22nd"
   ]
  },
  {
   "cell_type": "code",
   "execution_count": 1,
   "id": "6cf20539",
   "metadata": {},
   "outputs": [
    {
     "data": {
      "text/plain": [
       "2"
      ]
     },
     "execution_count": 1,
     "metadata": {},
     "output_type": "execute_result"
    }
   ],
   "source": [
    "1 + 1"
   ]
  },
  {
   "cell_type": "code",
   "execution_count": 2,
   "id": "ae327638",
   "metadata": {},
   "outputs": [
    {
     "data": {
      "text/plain": [
       "5"
      ]
     },
     "execution_count": 2,
     "metadata": {},
     "output_type": "execute_result"
    }
   ],
   "source": [
    "1 + 4"
   ]
  },
  {
   "cell_type": "markdown",
   "id": "ca869e18",
   "metadata": {},
   "source": [
    "# Getting started with Jupyter notebook\n",
    "\n",
    " - We can execute a cell using `SHIFT` + `ENTER`\n",
    " - We can add a new cell using the plus symbol in the top-left corner\n",
    " - We can delete a cell by selecting hit, then hitting `D`, `D`"
   ]
  },
  {
   "cell_type": "markdown",
   "id": "687fc4f8",
   "metadata": {},
   "source": [
    "## Arithmetic operations"
   ]
  },
  {
   "cell_type": "code",
   "execution_count": 3,
   "id": "cc7eaadc",
   "metadata": {},
   "outputs": [
    {
     "data": {
      "text/plain": [
       "4"
      ]
     },
     "execution_count": 3,
     "metadata": {},
     "output_type": "execute_result"
    }
   ],
   "source": [
    "1 + 3"
   ]
  },
  {
   "cell_type": "code",
   "execution_count": 4,
   "id": "7b2fee7d",
   "metadata": {},
   "outputs": [
    {
     "data": {
      "text/plain": [
       "-2"
      ]
     },
     "execution_count": 4,
     "metadata": {},
     "output_type": "execute_result"
    }
   ],
   "source": [
    "1 - 3"
   ]
  },
  {
   "cell_type": "code",
   "execution_count": 5,
   "id": "1dea3766",
   "metadata": {},
   "outputs": [
    {
     "data": {
      "text/plain": [
       "20"
      ]
     },
     "execution_count": 5,
     "metadata": {},
     "output_type": "execute_result"
    }
   ],
   "source": [
    "4*5"
   ]
  },
  {
   "cell_type": "code",
   "execution_count": 6,
   "id": "1c20501f",
   "metadata": {},
   "outputs": [
    {
     "data": {
      "text/plain": [
       "0.8"
      ]
     },
     "execution_count": 6,
     "metadata": {},
     "output_type": "execute_result"
    }
   ],
   "source": [
    "4 / 5"
   ]
  },
  {
   "cell_type": "code",
   "execution_count": 7,
   "id": "d09c3615",
   "metadata": {},
   "outputs": [
    {
     "data": {
      "text/plain": [
       "7"
      ]
     },
     "execution_count": 7,
     "metadata": {},
     "output_type": "execute_result"
    }
   ],
   "source": [
    "3^4"
   ]
  },
  {
   "cell_type": "markdown",
   "id": "e90b1b18",
   "metadata": {},
   "source": [
    "To perform exponentiation, use `**` or the `pow` function instead of `^`:"
   ]
  },
  {
   "cell_type": "code",
   "execution_count": 8,
   "id": "d2e4ba55",
   "metadata": {},
   "outputs": [
    {
     "data": {
      "text/plain": [
       "81"
      ]
     },
     "execution_count": 8,
     "metadata": {},
     "output_type": "execute_result"
    }
   ],
   "source": [
    "3**4"
   ]
  },
  {
   "cell_type": "code",
   "execution_count": 9,
   "id": "c5f614fc",
   "metadata": {},
   "outputs": [
    {
     "data": {
      "text/plain": [
       "81"
      ]
     },
     "execution_count": 9,
     "metadata": {},
     "output_type": "execute_result"
    }
   ],
   "source": [
    "pow(3,4)"
   ]
  },
  {
   "cell_type": "markdown",
   "id": "75e8cf05",
   "metadata": {},
   "source": [
    "Using the standard division `/` will return what is called a **float**."
   ]
  },
  {
   "cell_type": "code",
   "execution_count": 10,
   "id": "829f62ff",
   "metadata": {},
   "outputs": [
    {
     "data": {
      "text/plain": [
       "2.5"
      ]
     },
     "execution_count": 10,
     "metadata": {},
     "output_type": "execute_result"
    }
   ],
   "source": [
    "5 / 2"
   ]
  },
  {
   "cell_type": "code",
   "execution_count": 11,
   "id": "9c8efc92",
   "metadata": {},
   "outputs": [
    {
     "data": {
      "text/plain": [
       "2.0"
      ]
     },
     "execution_count": 11,
     "metadata": {},
     "output_type": "execute_result"
    }
   ],
   "source": [
    "4 / 2"
   ]
  },
  {
   "cell_type": "code",
   "execution_count": 12,
   "id": "67a6684d",
   "metadata": {},
   "outputs": [
    {
     "data": {
      "text/plain": [
       "1.0715086071862673e+301"
      ]
     },
     "execution_count": 12,
     "metadata": {},
     "output_type": "execute_result"
    }
   ],
   "source": [
    "2.0 ** 1000"
   ]
  },
  {
   "cell_type": "code",
   "execution_count": 13,
   "id": "89f7770e",
   "metadata": {},
   "outputs": [
    {
     "data": {
      "text/plain": [
       "10715086071862673209484250490600018105614048117055336074437503883703510511249361224931983788156958581275946729175531468251871452856923140435984577574698574803934567774824230985421074605062371141877954182153046474983581941267398767559165543946077062914571196477686542167660429831652624386837205668069376"
      ]
     },
     "execution_count": 13,
     "metadata": {},
     "output_type": "execute_result"
    }
   ],
   "source": [
    "2**1000"
   ]
  },
  {
   "cell_type": "code",
   "execution_count": 14,
   "id": "c10d3297",
   "metadata": {},
   "outputs": [
    {
     "ename": "OverflowError",
     "evalue": "(34, 'Result too large')",
     "output_type": "error",
     "traceback": [
      "\u001b[1;31m---------------------------------------------------------------------------\u001b[0m",
      "\u001b[1;31mOverflowError\u001b[0m                             Traceback (most recent call last)",
      "\u001b[1;32m~\\AppData\\Local\\Temp\\ipykernel_23904\\2939582728.py\u001b[0m in \u001b[0;36m<module>\u001b[1;34m\u001b[0m\n\u001b[1;32m----> 1\u001b[1;33m \u001b[1;36m2.0\u001b[0m\u001b[1;33m**\u001b[0m\u001b[1;36m1500\u001b[0m\u001b[1;33m\u001b[0m\u001b[1;33m\u001b[0m\u001b[0m\n\u001b[0m",
      "\u001b[1;31mOverflowError\u001b[0m: (34, 'Result too large')"
     ]
    }
   ],
   "source": [
    "2.0**1500"
   ]
  },
  {
   "cell_type": "code",
   "execution_count": 15,
   "id": "239a3d95",
   "metadata": {},
   "outputs": [
    {
     "data": {
      "text/plain": [
       "35074662110434038747627587960280857993524015880330828824075798024790963850563322203657080886584969261653150406795437517399294548941469959754171038918004700847889956485329097264486802711583462946536682184340138629451355458264946342525383619389314960644665052551751442335509249173361130355796109709885580674313954210217657847432626760733004753275317192133674703563372783297041993227052663333668509952000175053355529058880434182538386715523683713208549376"
      ]
     },
     "execution_count": 15,
     "metadata": {},
     "output_type": "execute_result"
    }
   ],
   "source": [
    "2**1500"
   ]
  },
  {
   "cell_type": "markdown",
   "id": "fecda49e",
   "metadata": {},
   "source": [
    "## Integers vs floats\n",
    "\n",
    " - integers = numbers without any decimal point\n",
    " - floats = numbers with a decimal point\n",
    " - operations on integers are exact\n",
    " - operations on floats are approximate\n",
    " - integers can be arbitrarily large, but floats are represented only within a finite range."
   ]
  },
  {
   "cell_type": "markdown",
   "id": "fa0b0e28",
   "metadata": {},
   "source": [
    "## Markdown"
   ]
  },
  {
   "cell_type": "markdown",
   "id": "94a9ced3",
   "metadata": {},
   "source": [
    "This is some text within a Markdown cell."
   ]
  },
  {
   "cell_type": "code",
   "execution_count": 16,
   "id": "c9f5fa8e",
   "metadata": {},
   "outputs": [
    {
     "ename": "SyntaxError",
     "evalue": "invalid syntax (3831271697.py, line 1)",
     "output_type": "error",
     "traceback": [
      "\u001b[1;36m  File \u001b[1;32m\"C:\\Users\\Luke\\AppData\\Local\\Temp\\ipykernel_23904\\3831271697.py\"\u001b[1;36m, line \u001b[1;32m1\u001b[0m\n\u001b[1;33m    This is some text in a code cell, and will throw an error\u001b[0m\n\u001b[1;37m                 ^\u001b[0m\n\u001b[1;31mSyntaxError\u001b[0m\u001b[1;31m:\u001b[0m invalid syntax\n"
     ]
    }
   ],
   "source": [
    "This is some text in a code cell, and will throw an error"
   ]
  },
  {
   "cell_type": "markdown",
   "id": "435eea24",
   "metadata": {},
   "source": [
    "We can double-click on a markdown cell to edit it."
   ]
  },
  {
   "cell_type": "markdown",
   "id": "451b40cb",
   "metadata": {},
   "source": [
    "We can create headings using hashtags, `#`:\n",
    "\n",
    " - `# Heading` gives a top-level heading\n",
    " - `## Sub-heading` gives a sub-heading\n",
    " - `### Sub-sub-heading` gives a sub-sub-heading"
   ]
  },
  {
   "cell_type": "markdown",
   "id": "e32013e0",
   "metadata": {},
   "source": [
    "We can generate bulleted (un-numbered) using a space and hyphen:\n",
    "\n",
    " - Item 1\n",
    " - Item 2\n",
    " - Item 3"
   ]
  },
  {
   "cell_type": "markdown",
   "id": "15cc2671",
   "metadata": {},
   "source": [
    " * item 1\n",
    " * item 2\n",
    " * item 3"
   ]
  },
  {
   "cell_type": "markdown",
   "id": "f0e3553d",
   "metadata": {},
   "source": [
    "We can also nest lists:\n",
    "\n",
    " - item 1\n",
    "  - A\n",
    "  - B\n",
    "  - C\n",
    " - item 2\n",
    "  - X\n",
    "  - Y\n",
    " - item 3\n",
    " - item 4"
   ]
  },
  {
   "cell_type": "markdown",
   "id": "6b470898",
   "metadata": {},
   "source": [
    "We can also create numbered lists using `1.`, `2.`, etc."
   ]
  },
  {
   "cell_type": "markdown",
   "id": "3c66e26e",
   "metadata": {},
   "source": [
    " 1. First item\n",
    " 2. Second item\n",
    " 3. Third item\n",
    " 6. Fourth item"
   ]
  },
  {
   "cell_type": "markdown",
   "id": "996c95de",
   "metadata": {},
   "source": [
    "## Back to integers vs. floats"
   ]
  },
  {
   "cell_type": "code",
   "execution_count": 17,
   "id": "95937a85",
   "metadata": {},
   "outputs": [
    {
     "data": {
      "text/plain": [
       "2.5"
      ]
     },
     "execution_count": 17,
     "metadata": {},
     "output_type": "execute_result"
    }
   ],
   "source": [
    "5 / 2"
   ]
  },
  {
   "cell_type": "code",
   "execution_count": 18,
   "id": "f18aa014",
   "metadata": {},
   "outputs": [
    {
     "data": {
      "text/plain": [
       "2.0"
      ]
     },
     "execution_count": 18,
     "metadata": {},
     "output_type": "execute_result"
    }
   ],
   "source": [
    "4 / 2"
   ]
  },
  {
   "cell_type": "markdown",
   "id": "9c4dd5d3",
   "metadata": {},
   "source": [
    "The normal division symbol `/` will always return a floating point number."
   ]
  },
  {
   "cell_type": "markdown",
   "id": "c50d6e6e",
   "metadata": {},
   "source": [
    "Sometimes, we would prefer to return an integer number. We can this using the `//` operation:"
   ]
  },
  {
   "cell_type": "code",
   "execution_count": 19,
   "id": "0cd9393b",
   "metadata": {},
   "outputs": [
    {
     "data": {
      "text/plain": [
       "2"
      ]
     },
     "execution_count": 19,
     "metadata": {},
     "output_type": "execute_result"
    }
   ],
   "source": [
    "4 // 2"
   ]
  },
  {
   "cell_type": "code",
   "execution_count": 20,
   "id": "37521286",
   "metadata": {},
   "outputs": [
    {
     "data": {
      "text/plain": [
       "2"
      ]
     },
     "execution_count": 20,
     "metadata": {},
     "output_type": "execute_result"
    }
   ],
   "source": [
    "5 // 2"
   ]
  },
  {
   "cell_type": "markdown",
   "id": "99651cb6",
   "metadata": {},
   "source": [
    "The integer division `//` will always return the quotient from performing long division.\n",
    "\n",
    "We can get the remainder from integer division using `%`. This is called **modular division**."
   ]
  },
  {
   "cell_type": "code",
   "execution_count": 21,
   "id": "5b688840",
   "metadata": {},
   "outputs": [
    {
     "data": {
      "text/plain": [
       "1"
      ]
     },
     "execution_count": 21,
     "metadata": {},
     "output_type": "execute_result"
    }
   ],
   "source": [
    "5 % 2"
   ]
  },
  {
   "cell_type": "code",
   "execution_count": 22,
   "id": "017244ce",
   "metadata": {},
   "outputs": [
    {
     "data": {
      "text/plain": [
       "4"
      ]
     },
     "execution_count": 22,
     "metadata": {},
     "output_type": "execute_result"
    }
   ],
   "source": [
    "123 % 7"
   ]
  },
  {
   "cell_type": "code",
   "execution_count": 23,
   "id": "ce052ee4",
   "metadata": {},
   "outputs": [
    {
     "data": {
      "text/plain": [
       "17"
      ]
     },
     "execution_count": 23,
     "metadata": {},
     "output_type": "execute_result"
    }
   ],
   "source": [
    "123 // 7"
   ]
  },
  {
   "cell_type": "markdown",
   "id": "92d3e68d",
   "metadata": {},
   "source": [
    "The above calculation demonstrates that $123 = 7\\cdot 17 + 4$."
   ]
  },
  {
   "cell_type": "code",
   "execution_count": 24,
   "id": "a8513a65",
   "metadata": {},
   "outputs": [
    {
     "data": {
      "text/plain": [
       "4.000000000000011"
      ]
     },
     "execution_count": 24,
     "metadata": {},
     "output_type": "execute_result"
    }
   ],
   "source": [
    "(123/7 - 17) * 7"
   ]
  },
  {
   "cell_type": "code",
   "execution_count": 25,
   "id": "c51fd331",
   "metadata": {},
   "outputs": [
    {
     "data": {
      "text/plain": [
       "2.6666666666666665"
      ]
     },
     "execution_count": 25,
     "metadata": {},
     "output_type": "execute_result"
    }
   ],
   "source": [
    "8 / 3"
   ]
  },
  {
   "cell_type": "markdown",
   "id": "18d383ba",
   "metadata": {},
   "source": [
    "## Variable assignment in Python"
   ]
  },
  {
   "cell_type": "markdown",
   "id": "b833f84d",
   "metadata": {},
   "source": [
    "Very often, we want to perform operations on some input that might change. We can define variables using the `=` symbol:"
   ]
  },
  {
   "cell_type": "code",
   "execution_count": 26,
   "id": "755a493a",
   "metadata": {},
   "outputs": [],
   "source": [
    "n = 130"
   ]
  },
  {
   "cell_type": "markdown",
   "id": "dbb42933",
   "metadata": {},
   "source": [
    "We can recall the value of this variable with the variable name, `n`:"
   ]
  },
  {
   "cell_type": "code",
   "execution_count": 27,
   "id": "60e16c65",
   "metadata": {},
   "outputs": [
    {
     "data": {
      "text/plain": [
       "130"
      ]
     },
     "execution_count": 27,
     "metadata": {},
     "output_type": "execute_result"
    }
   ],
   "source": [
    "n"
   ]
  },
  {
   "cell_type": "code",
   "execution_count": 28,
   "id": "24af12e0",
   "metadata": {},
   "outputs": [
    {
     "data": {
      "text/plain": [
       "18"
      ]
     },
     "execution_count": 28,
     "metadata": {},
     "output_type": "execute_result"
    }
   ],
   "source": [
    "n // 7"
   ]
  },
  {
   "cell_type": "code",
   "execution_count": 29,
   "id": "73428550",
   "metadata": {},
   "outputs": [
    {
     "data": {
      "text/plain": [
       "4"
      ]
     },
     "execution_count": 29,
     "metadata": {},
     "output_type": "execute_result"
    }
   ],
   "source": [
    "n % 7"
   ]
  },
  {
   "cell_type": "code",
   "execution_count": 30,
   "id": "eeddd669",
   "metadata": {},
   "outputs": [
    {
     "data": {
      "text/plain": [
       "130"
      ]
     },
     "execution_count": 30,
     "metadata": {},
     "output_type": "execute_result"
    }
   ],
   "source": [
    "n"
   ]
  },
  {
   "cell_type": "code",
   "execution_count": null,
   "id": "efa40cce",
   "metadata": {},
   "outputs": [],
   "source": []
  }
 ],
 "metadata": {
  "kernelspec": {
   "display_name": "Python 3 (ipykernel)",
   "language": "python",
   "name": "python3"
  },
  "language_info": {
   "codemirror_mode": {
    "name": "ipython",
    "version": 3
   },
   "file_extension": ".py",
   "mimetype": "text/x-python",
   "name": "python",
   "nbconvert_exporter": "python",
   "pygments_lexer": "ipython3",
   "version": "3.9.13"
  }
 },
 "nbformat": 4,
 "nbformat_minor": 5
}
