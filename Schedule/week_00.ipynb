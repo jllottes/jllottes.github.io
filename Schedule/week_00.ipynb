{
 "cells": [
  {
   "cell_type": "markdown",
   "metadata": {},
   "source": [
    "# Preliminaries"
   ]
  },
  {
   "cell_type": "markdown",
   "metadata": {},
   "source": [
    "Welcome to MTH 337!\n",
    "\n",
    "Here is what you need to do before the start of this course:\n",
    "\n",
    "**1.** [Anaconda distribution of Python](https://www.anaconda.com/download/success). If you have a different version of the Anaconda Distribution installed, you should reinstall with the current version.\n",
    " \n",
    "**2.** Bring your laptop computer to every class, starting with Monday, August 25th."
   ]
  },
  {
   "cell_type": "markdown",
   "metadata": {},
   "source": [
    "# Getting started with Jupyter notebook"
   ]
  },
  {
   "cell_type": "markdown",
   "metadata": {},
   "source": [
    "## Launching Juypter notebook"
   ]
  },
  {
   "cell_type": "markdown",
   "metadata": {},
   "source": [
    "A part of the Anaconda distribution is the Jupyter Notebook app. It can be launched by typing:\n",
    "\n",
    "`jupyter-notebook`\n",
    "\n",
    "in a terminal (Mac and Linux) or command prompt (Windows). Once you execute this command, a web browser will open showing the  Jupyter Notebook dashboard. [Here is a short video](https://youtu.be/BJnro9jQ3fE) which demonstrates basic functionality of the Jupyter Notebook. Watching the first 4 minutes or so will be enough for now.\n",
    "\n",
    "\n"
   ]
  },
  {
   "cell_type": "markdown",
   "metadata": {},
   "source": [
    "## Locating Jupyter notebook files\n",
    "\n",
    "Every Jupyter notebook you create is stored on your computer as a file with the .ipynb extension. You can check where these files are located by opening a new or existing notebook, typing `pwd` in a code cell, and executing the cell. This will display the path to the directory with the notebook. \n",
    " \n",
    "## Downloading notebook files\n",
    "\n",
    "You will find links to several Jupyter notebook files on this website. In order to use such a file on your computer do the following:\n",
    "1. Download the file by right-clicking on the link. Some web browsers (e.g. Safari) may change the file extension to .txt or .html when you download it. If this happens, change the extension back to .ipynb.\n",
    "2. Move the downloaded file to the directory where your other notebooks are located (see the instructions above how to find this directory). \n",
    "3. Start the Jupyter Notebook app, find the downloaded file in the Jupyter dashboard and open it. "
   ]
  }
 ],
 "metadata": {
  "kernelspec": {
   "display_name": "Python 3 (ipykernel)",
   "language": "python",
   "name": "python3"
  },
  "language_info": {
   "codemirror_mode": {
    "name": "ipython",
    "version": 3
   },
   "file_extension": ".py",
   "mimetype": "text/x-python",
   "name": "python",
   "nbconvert_exporter": "python",
   "pygments_lexer": "ipython3",
   "version": "3.13.5"
  }
 },
 "nbformat": 4,
 "nbformat_minor": 4
}
