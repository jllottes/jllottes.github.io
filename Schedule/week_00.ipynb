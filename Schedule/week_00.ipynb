{
 "cells": [
  {
   "cell_type": "markdown",
   "metadata": {},
   "source": [
    "# Preliminaries"
   ]
  },
  {
   "cell_type": "markdown",
   "metadata": {},
   "source": [
    "Welcome to MTH 337!\n",
    "\n",
    "Here is what you need to do before the start of this course:\n",
    "\n",
    "**1.** Install Anaconda Distribution of Python. If you have a different version of the Anaconda Distribution installed, you should reinstall with the version below.\n",
    "\n",
    " - [Anaconda distribution for Windows (x86_64)](https://repo.anaconda.com/archive/Anaconda3-2023.07-0-Windows-x86_64.exe)\n",
    " - [Anaconda distribution for MacOSX (x86_64)](https://repo.anaconda.com/archive/Anaconda3-2023.07-0-MacOSX-x86_64.pkg>)\n",
    " - [Anaconda distribution for Linux (x86_64)](https://repo.anaconda.com/archive/Anaconda3-2023.07-0-Linux-x86_64.sh>)\n",
    " \n",
    "**2.** Bring your laptop computer to every class, starting with Monday, January 22nd."
   ]
  }
 ],
 "metadata": {
  "kernelspec": {
   "display_name": "Python 3 (ipykernel)",
   "language": "python",
   "name": "python3"
  },
  "language_info": {
   "codemirror_mode": {
    "name": "ipython",
    "version": 3
   },
   "file_extension": ".py",
   "mimetype": "text/x-python",
   "name": "python",
   "nbconvert_exporter": "python",
   "pygments_lexer": "ipython3",
   "version": "3.9.13"
  }
 },
 "nbformat": 4,
 "nbformat_minor": 4
}
