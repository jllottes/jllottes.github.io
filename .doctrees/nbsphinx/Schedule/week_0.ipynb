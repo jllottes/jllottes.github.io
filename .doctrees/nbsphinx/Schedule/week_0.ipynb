{
 "cells": [
  {
   "cell_type": "markdown",
   "metadata": {},
   "source": [
    "# Preliminaries"
   ]
  },
  {
   "cell_type": "markdown",
   "metadata": {},
   "source": [
    "Welcome to MTH 337!\n",
    "\n",
    "Here is what you need to do before the start of this course:\n",
    "\n",
    "**1.** Install on your computer [Anaconda Distribution of Python 3.9](https://www.anaconda.com/products/individual#Downloads). If you have an older version of the Anaconda Distribution installed, install the new one.\n",
    "\n",
    "**2.** Bring your laptop computer to every class, starting with Monday, January 31."
   ]
  }
 ],
 "metadata": {
  "kernelspec": {
   "display_name": "Python 3 (ipykernel)",
   "language": "python",
   "name": "python3"
  },
  "language_info": {
   "codemirror_mode": {
    "name": "ipython",
    "version": 3
   },
   "file_extension": ".py",
   "mimetype": "text/x-python",
   "name": "python",
   "nbconvert_exporter": "python",
   "pygments_lexer": "ipython3",
   "version": "3.9.7"
  }
 },
 "nbformat": 4,
 "nbformat_minor": 4
}
